{
 "cells": [
  {
   "cell_type": "code",
   "execution_count": 1,
   "metadata": {},
   "outputs": [],
   "source": [
    "from typing import List"
   ]
  },
  {
   "cell_type": "code",
   "execution_count": 2,
   "metadata": {},
   "outputs": [],
   "source": [
    "# tree practice\n",
    "class TreeNode:\n",
    "    def __init__(self, val=0, left=None, right=None):\n",
    "        self.val = val\n",
    "        self.left = left\n",
    "        self.right = right\n",
    "\n",
    "def mk_tree(nodes, i, n):\n",
    "    root = None\n",
    "    if (i < n) and nodes[i] is not None:\n",
    "        root = TreeNode(nodes[i])\n",
    "        root.left = mk_tree(nodes, 2*i+1, len(nodes))\n",
    "        root.right = mk_tree(nodes, 2*i+2, len(nodes))\n",
    "    return root\n",
    "\n",
    "def prnt_tree(root):\n",
    "    nodes = []\n",
    "    q = [root]\n",
    "    while any(q):\n",
    "        node = q.pop(0) # can use deque to optimize\n",
    "        if node:\n",
    "            nodes.append(node.val)\n",
    "            if node.left or node.right or any(q):\n",
    "                q.append(node.left)\n",
    "                q.append(node.right)\n",
    "        elif any(a): # if node is None AND there's still stuff in q to process\n",
    "            nodes.append('null')\n",
    "    \n",
    "    return nodes"
   ]
  },
  {
   "cell_type": "markdown",
   "metadata": {},
   "source": [
    "## Day 1: 1/1/21\n",
    "### 1640. Check Array Formation Through Concatenation\n",
    "EASY  \n",
    "https://leetcode.com/problems/check-array-formation-through-concatenation/  \n",
    "https://leetcode.com/explore/challenge/card/january-leetcoding-challenge-2021/579/week-1-january-1st-january-7th/3589/"
   ]
  },
  {
   "cell_type": "markdown",
   "metadata": {},
   "source": [
    "You are given an array of **distinct** integers `arr` and an array of integer arrays `pieces`, where the integers in `pieces` are **distinct**. Your goal is to form `arr` by concatenating the arrays in `pieces` **in any order**. However, you are **not** allowed to reorder the integers in each array `pieces[i]`.\n",
    "\n",
    "Return `true` *if it is possible to form the array* `arr` *from* `pieces`. Otherwise, return `false`.\n",
    "\n",
    " \n",
    "\n",
    "**Example 1:**\n",
    "```\n",
    "Input: arr = [85], pieces = [[85]]\n",
    "Output: true\n",
    "```\n",
    "**Example 2:**\n",
    "```\n",
    "Input: arr = [15,88], pieces = [[88],[15]]\n",
    "Output: true\n",
    "Explanation: Concatenate [15] then [88]\n",
    "```\n",
    "**Example 3:**\n",
    "```\n",
    "Input: arr = [49,18,16], pieces = [[16,18,49]]\n",
    "Output: false\n",
    "Explanation: Even though the numbers match, we cannot reorder pieces[0].\n",
    "```\n",
    "**Example 4:**\n",
    "```\n",
    "Input: arr = [91,4,64,78], pieces = [[78],[4,64],[91]]\n",
    "Output: true\n",
    "Explanation: Concatenate [91] then [4,64] then [78]\n",
    "```\n",
    "**Example 5:**\n",
    "```\n",
    "Input: arr = [1,3,5,7], pieces = [[2,4,6,8]]\n",
    "Output: false\n",
    "```\n",
    "\n",
    "**Constraints:**\n",
    "\n",
    "* `1 <= pieces.length <= arr.length <= 100`\n",
    "* `sum(pieces[i].length) == arr.length`\n",
    "* `1 <= pieces[i].length <= arr.length`\n",
    "* `1 <= arr[i], pieces[i][j] <= 100`\n",
    "* The integers in `arr` are **distinct**.\n",
    "* The integers in `pieces` are **distinct** (i.e., If we flatten pieces in a 1D array, all the integers in this array are distinct).\n"
   ]
  },
  {
   "cell_type": "markdown",
   "metadata": {},
   "source": [
    "**Companies:**\n",
    "![https://i.imgur.com/QqKKD10.png](https://i.imgur.com/QqKKD10.png)\n",
    "\n",
    "**Study Notes:**\n",
    "* concepts: hash table, array\n",
    "    * algorithm: \n",
    "        * construct hash table by scanning `pieces` and adding the first integer value (`pieces[i][0]`) as key and `(len(pieces[i]),pieces[i])` as value\n",
    "        * scan `arr` and check if each value at `arr[i]` is in hash table, then move pointer by `value` from hash table + extend answer list with `pieces[i]`\n",
    "        * check if `ans == arr` at end\n",
    "* leetcode solution article (premium): https://leetcode.com/problems/check-array-formation-through-concatenation/solution/ \n",
    "* leetcode discussion: https://leetcode.com/problems/check-array-formation-through-concatenation/discuss/996476/Python-2-Solutions-explained"
   ]
  },
  {
   "cell_type": "code",
   "execution_count": 48,
   "metadata": {},
   "outputs": [],
   "source": [
    "arr1,pieces1 = [85], [[85]]\n",
    "arr2,pieces2 = [15,88], [[88],[15]]\n",
    "arr3,pieces3 = [49,18,16], [[16,18,49]]\n",
    "arr4,pieces4 = [91,4,64,78], [[78],[4,64],[91]]\n",
    "arr5,pieces5 = [1,3,5,7], [[2,4,6,8]]\n",
    "arr6,pieces6 = [91,4,64,78], [[78,1],[4,64],[91]]\n",
    "arr7,pieces7 = [85,1,2], [[85,2,1]]"
   ]
  },
  {
   "cell_type": "code",
   "execution_count": 49,
   "metadata": {},
   "outputs": [],
   "source": [
    "class Solution:\n",
    "    def canFormArray(self, arr: List[int], pieces: List[List[int]]) -> bool:\n",
    "        piecetable = {}\n",
    "        for piece in pieces:\n",
    "            piecetable[piece[0]] = (len(piece), piece)\n",
    "            \n",
    "        i = 0\n",
    "        ans = []\n",
    "        while i < len(arr):\n",
    "            val = piecetable.get(arr[i])\n",
    "            if val:\n",
    "                i += val[0]\n",
    "                ans.extend(val[1])\n",
    "            else:\n",
    "                return False\n",
    "        return True if ans==arr else False"
   ]
  },
  {
   "cell_type": "code",
   "execution_count": 50,
   "metadata": {},
   "outputs": [
    {
     "data": {
      "text/plain": [
       "False"
      ]
     },
     "execution_count": 50,
     "metadata": {},
     "output_type": "execute_result"
    }
   ],
   "source": [
    "soln = Solution()\n",
    "soln.canFormArray(arr7,pieces7)"
   ]
  }
 ],
 "metadata": {
  "kernelspec": {
   "display_name": "base (Python 3.7.7)",
   "language": "python",
   "name": "base"
  },
  "language_info": {
   "codemirror_mode": {
    "name": "ipython",
    "version": 3
   },
   "file_extension": ".py",
   "mimetype": "text/x-python",
   "name": "python",
   "nbconvert_exporter": "python",
   "pygments_lexer": "ipython3",
   "version": "3.7.7"
  }
 },
 "nbformat": 4,
 "nbformat_minor": 4
}
