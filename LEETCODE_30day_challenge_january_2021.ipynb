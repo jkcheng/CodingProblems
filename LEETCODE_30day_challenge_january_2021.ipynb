{
 "cells": [
  {
   "cell_type": "code",
   "execution_count": 1,
   "metadata": {},
   "outputs": [],
   "source": [
    "from typing import List"
   ]
  },
  {
   "cell_type": "code",
   "execution_count": 6,
   "metadata": {},
   "outputs": [],
   "source": [
    "# tree practice\n",
    "class TreeNode:\n",
    "    def __init__(self, val=0, left=None, right=None):\n",
    "        self.val = val\n",
    "        self.left = left\n",
    "        self.right = right\n",
    "\n",
    "def mk_tree(nodes, i, n):\n",
    "    root = None\n",
    "    if (i < n) and nodes[i] is not None:\n",
    "        root = TreeNode(nodes[i])\n",
    "        root.left = mk_tree(nodes, 2*i+1, len(nodes))\n",
    "        root.right = mk_tree(nodes, 2*i+2, len(nodes))\n",
    "    return root\n",
    "\n",
    "def prnt_tree(root):\n",
    "    nodes = []\n",
    "    q = [root]\n",
    "    while any(q):\n",
    "        node = q.pop(0) # can use deque to optimize\n",
    "        if node:\n",
    "            nodes.append(node.val)\n",
    "            if node.left or node.right or any(q):\n",
    "                q.append(node.left)\n",
    "                q.append(node.right)\n",
    "        elif any(a): # if node is None AND there's still stuff in q to process\n",
    "            nodes.append('null')\n",
    "    \n",
    "    return nodes"
   ]
  },
  {
   "cell_type": "markdown",
   "metadata": {},
   "source": [
    "## Day 1: 1/1/21\n",
    "### 1640. Check Array Formation Through Concatenation\n",
    "EASY  \n",
    "https://leetcode.com/problems/check-array-formation-through-concatenation/  \n",
    "https://leetcode.com/explore/challenge/card/january-leetcoding-challenge-2021/579/week-1-january-1st-january-7th/3589/"
   ]
  },
  {
   "cell_type": "markdown",
   "metadata": {},
   "source": [
    "You are given an array of **distinct** integers `arr` and an array of integer arrays `pieces`, where the integers in `pieces` are **distinct**. Your goal is to form `arr` by concatenating the arrays in `pieces` **in any order**. However, you are **not** allowed to reorder the integers in each array `pieces[i]`.\n",
    "\n",
    "Return `true` *if it is possible to form the array* `arr` *from* `pieces`. Otherwise, return `false`.\n",
    "\n",
    " \n",
    "\n",
    "**Example 1:**\n",
    "```\n",
    "Input: arr = [85], pieces = [[85]]\n",
    "Output: true\n",
    "```\n",
    "**Example 2:**\n",
    "```\n",
    "Input: arr = [15,88], pieces = [[88],[15]]\n",
    "Output: true\n",
    "Explanation: Concatenate [15] then [88]\n",
    "```\n",
    "**Example 3:**\n",
    "```\n",
    "Input: arr = [49,18,16], pieces = [[16,18,49]]\n",
    "Output: false\n",
    "Explanation: Even though the numbers match, we cannot reorder pieces[0].\n",
    "```\n",
    "**Example 4:**\n",
    "```\n",
    "Input: arr = [91,4,64,78], pieces = [[78],[4,64],[91]]\n",
    "Output: true\n",
    "Explanation: Concatenate [91] then [4,64] then [78]\n",
    "```\n",
    "**Example 5:**\n",
    "```\n",
    "Input: arr = [1,3,5,7], pieces = [[2,4,6,8]]\n",
    "Output: false\n",
    "```\n",
    "\n",
    "**Constraints:**\n",
    "\n",
    "* `1 <= pieces.length <= arr.length <= 100`\n",
    "* `sum(pieces[i].length) == arr.length`\n",
    "* `1 <= pieces[i].length <= arr.length`\n",
    "* `1 <= arr[i], pieces[i][j] <= 100`\n",
    "* The integers in `arr` are **distinct**.\n",
    "* The integers in `pieces` are **distinct** (i.e., If we flatten pieces in a 1D array, all the integers in this array are distinct).\n"
   ]
  },
  {
   "cell_type": "markdown",
   "metadata": {},
   "source": [
    "**Companies:**\n",
    "![https://i.imgur.com/QqKKD10.png](https://i.imgur.com/QqKKD10.png)\n",
    "\n",
    "**Study Notes:**\n",
    "* concepts: hash table, array\n",
    "    * algorithm: \n",
    "        * construct hash table by scanning `pieces` and adding the first integer value (`pieces[i][0]`) as key and `(len(pieces[i]),pieces[i])` as value\n",
    "        * scan `arr` and check if each value at `arr[i]` is in hash table, then move pointer by `value` from hash table + extend answer list with `pieces[i]`\n",
    "        * check if `ans == arr` at end\n",
    "* leetcode solution article (premium): https://leetcode.com/problems/check-array-formation-through-concatenation/solution/ \n",
    "* leetcode discussion: https://leetcode.com/problems/check-array-formation-through-concatenation/discuss/996476/Python-2-Solutions-explained"
   ]
  },
  {
   "cell_type": "code",
   "execution_count": 48,
   "metadata": {},
   "outputs": [],
   "source": [
    "arr1,pieces1 = [85], [[85]]\n",
    "arr2,pieces2 = [15,88], [[88],[15]]\n",
    "arr3,pieces3 = [49,18,16], [[16,18,49]]\n",
    "arr4,pieces4 = [91,4,64,78], [[78],[4,64],[91]]\n",
    "arr5,pieces5 = [1,3,5,7], [[2,4,6,8]]\n",
    "arr6,pieces6 = [91,4,64,78], [[78,1],[4,64],[91]]\n",
    "arr7,pieces7 = [85,1,2], [[85,2,1]]"
   ]
  },
  {
   "cell_type": "code",
   "execution_count": 49,
   "metadata": {},
   "outputs": [],
   "source": [
    "class Solution:\n",
    "    def canFormArray(self, arr: List[int], pieces: List[List[int]]) -> bool:\n",
    "        piecetable = {}\n",
    "        for piece in pieces:\n",
    "            piecetable[piece[0]] = (len(piece), piece)\n",
    "            \n",
    "        i = 0\n",
    "        ans = []\n",
    "        while i < len(arr):\n",
    "            val = piecetable.get(arr[i])\n",
    "            if val:\n",
    "                i += val[0]\n",
    "                ans.extend(val[1])\n",
    "            else:\n",
    "                return False\n",
    "        return True if ans==arr else False"
   ]
  },
  {
   "cell_type": "code",
   "execution_count": 50,
   "metadata": {},
   "outputs": [
    {
     "data": {
      "text/plain": [
       "False"
      ]
     },
     "execution_count": 50,
     "metadata": {},
     "output_type": "execute_result"
    }
   ],
   "source": [
    "soln = Solution()\n",
    "soln.canFormArray(arr7,pieces7)"
   ]
  },
  {
   "cell_type": "markdown",
   "metadata": {},
   "source": [
    "## Day 2: 1/2/20\n",
    "### 1379. Find a Corresponding Node of a Binary Tree in a Clone of That Tree\n",
    "MEDIUM  \n",
    "https://leetcode.com/problems/find-a-corresponding-node-of-a-binary-tree-in-a-clone-of-that-tree/  \n",
    "https://leetcode.com/explore/challenge/card/january-leetcoding-challenge-2021/579/week-1-january-1st-january-7th/3590/"
   ]
  },
  {
   "cell_type": "markdown",
   "metadata": {},
   "source": [
    "Given two binary trees `original` and `cloned` and given a reference to a node `target` in the original tree.\n",
    "\n",
    "The `cloned` tree is a **copy** of the `original` tree.\n",
    "\n",
    "Return *a reference to the same node* in the `cloned` tree.\n",
    "\n",
    "**Note** that you are **not allowed** to change any of the two trees or the `target` node and the answer **must be** a reference to a node in the `cloned` tree.\n",
    "\n",
    "**Follow up:** Solve the problem if repeated values on the tree are allowed.\n",
    "\n",
    " \n",
    "\n",
    "**Example 1:**\n",
    "<img alt=\"\" src=\"https://assets.leetcode.com/uploads/2020/02/21/e1.png\" style=\"width: 544px; height: 426px;\">\n",
    "```\n",
    "Input: tree = [7,4,3,null,null,6,19], target = 3\n",
    "Output: 3\n",
    "Explanation: In all examples the original and cloned trees are shown. The target node is a green node from the original tree. The answer is the yellow node from the cloned tree.\n",
    "```\n",
    "**Example 2:**\n",
    "<img alt=\"\" src=\"https://assets.leetcode.com/uploads/2020/02/21/e2.png\" style=\"width: 221px; height: 159px;\">\n",
    "```\n",
    "Input: tree = [7], target =  7\n",
    "Output: 7\n",
    "```\n",
    "**Example 3:**\n",
    "<img alt=\"\" src=\"https://assets.leetcode.com/uploads/2020/02/21/e3.png\" style=\"width: 459px; height: 486px;\">\n",
    "```\n",
    "Input: tree = [8,null,6,null,5,null,4,null,3,null,2,null,1], target = 4\n",
    "Output: 4\n",
    "```\n",
    "**Example 4:**\n",
    "<img alt=\"\" src=\"https://assets.leetcode.com/uploads/2020/02/21/e4.png\" style=\"width: 555px; height: 239px;\">\n",
    "```\n",
    "Input: tree = [1,2,3,4,5,6,7,8,9,10], target = 5\n",
    "Output: 5\n",
    "```\n",
    "**Example 5:**\n",
    "<img alt=\"\" src=\"https://assets.leetcode.com/uploads/2020/02/21/e5.png\" style=\"width: 427px; height: 345px;\">\n",
    "```\n",
    "Input: tree = [1,2,null,3], target = 2\n",
    "Output: 2\n",
    "```\n",
    "\n",
    "**Constraints:**\n",
    "\n",
    "* The number of nodes in the `tree` is in the range `[1, 10^4]`.\n",
    "* The values of the nodes of the `tree` are unique.\n",
    "* `target` node is a node from the `original` tree and is not `null`."
   ]
  },
  {
   "cell_type": "markdown",
   "metadata": {},
   "source": [
    "**Companies:**\n",
    "![https://i.imgur.com/QqKKD10.png](https://i.imgur.com/QqKKD10.png)\n",
    "\n",
    "\n",
    "**Study Notes:**\n",
    "* leetcode solution article: https://leetcode.com/problems/find-a-corresponding-node-of-a-binary-tree-in-a-clone-of-that-tree/solution/\n",
    "* leetcode disucssion: https://leetcode.com/problems/find-a-corresponding-node-of-a-binary-tree-in-a-clone-of-that-tree/discuss/997816/Python-postorder-traversal-explained"
   ]
  },
  {
   "cell_type": "code",
   "execution_count": 10,
   "metadata": {},
   "outputs": [],
   "source": [
    "# Definition for a binary tree node.\n",
    "class TreeNode:\n",
    "    def __init__(self, x):\n",
    "        self.val = x\n",
    "        self.left = None\n",
    "        self.right = None\n",
    "        \n",
    "def mk_tree(nodes, i, n):\n",
    "    root = None\n",
    "    if (i < n) and nodes[i] is not None:\n",
    "        root = TreeNode(nodes[i])\n",
    "        root.left = mk_tree(nodes, 2*i+1, len(nodes))\n",
    "        root.right = mk_tree(nodes, 2*i+2, len(nodes))\n",
    "    return root\n",
    "\n",
    "def prnt_tree(root):\n",
    "    nodes = []\n",
    "    q = [root]\n",
    "    while any(q):\n",
    "        node = q.pop(0) # can use deque to optimize\n",
    "        if node:\n",
    "            nodes.append(node.val)\n",
    "            if node.left or node.right or any(q):\n",
    "                q.append(node.left)\n",
    "                q.append(node.right)\n",
    "        elif any(a): # if node is None AND there's still stuff in q to process\n",
    "            nodes.append('null')\n",
    "    \n",
    "    return nodes\n",
    "\n",
    "nodes1 = [7,4,3,None,None,6,19]\n",
    "tree1 = mk_tree(nodes1, 0, len(nodes1))\n",
    "# nodes2 = [8,null,6,null,5,null,4,null,3,null,2,null,1]"
   ]
  },
  {
   "cell_type": "code",
   "execution_count": 11,
   "metadata": {},
   "outputs": [],
   "source": [
    "class Solution:\n",
    "    def getTargetCopy(self, original: TreeNode, cloned: TreeNode, target: TreeNode) -> TreeNode:\n",
    "        \n",
    "        return None"
   ]
  },
  {
   "cell_type": "code",
   "execution_count": 12,
   "metadata": {},
   "outputs": [
    {
     "ename": "TypeError",
     "evalue": "getTargetCopy() missing 2 required positional arguments: 'cloned' and 'target'",
     "output_type": "error",
     "traceback": [
      "\u001b[0;31m---------------------------------------------------------------------------\u001b[0m",
      "\u001b[0;31mTypeError\u001b[0m                                 Traceback (most recent call last)",
      "\u001b[0;32m<ipython-input-12-189303557541>\u001b[0m in \u001b[0;36m<module>\u001b[0;34m\u001b[0m\n\u001b[1;32m      1\u001b[0m \u001b[0msoln\u001b[0m \u001b[0;34m=\u001b[0m \u001b[0mSolution\u001b[0m\u001b[0;34m(\u001b[0m\u001b[0;34m)\u001b[0m\u001b[0;34m\u001b[0m\u001b[0;34m\u001b[0m\u001b[0m\n\u001b[0;32m----> 2\u001b[0;31m \u001b[0msoln\u001b[0m\u001b[0;34m.\u001b[0m\u001b[0mgetTargetCopy\u001b[0m\u001b[0;34m(\u001b[0m\u001b[0mtree1\u001b[0m\u001b[0;34m)\u001b[0m\u001b[0;34m\u001b[0m\u001b[0;34m\u001b[0m\u001b[0m\n\u001b[0m",
      "\u001b[0;31mTypeError\u001b[0m: getTargetCopy() missing 2 required positional arguments: 'cloned' and 'target'"
     ]
    }
   ],
   "source": [
    "soln = Solution()\n",
    "soln.getTargetCopy(tree1)"
   ]
  },
  {
   "cell_type": "markdown",
   "metadata": {},
   "source": [
    "## Day 3: 1/3/20\n",
    "### 526. Beautiful Arrangement\n",
    "MEDIUM  \n",
    "https://leetcode.com/problems/beautiful-arrangement/  \n",
    "https://leetcode.com/explore/challenge/card/january-leetcoding-challenge-2021/579/week-1-january-1st-january-7th/3591/"
   ]
  },
  {
   "cell_type": "markdown",
   "metadata": {},
   "source": [
    "Suppose you have `n` integers from `1` to `n`. We define a beautiful arrangement as an array that is constructed by these `n` numbers successfully if one of the following is true for the $i^{th}$ position (`1 <= i <= n`) in this array:\n",
    "\n",
    "* The number at the $i^{th}$ position is divisible by `i`.\n",
    "* `i` is divisible by the number at the $i^{th}$ position.\n",
    "\n",
    "Given an integer `n`, return *the number of the beautiful arrangements that you can construct*.\n",
    "\n",
    " \n",
    "\n",
    "**Example 1:**\n",
    "```\n",
    "Input: n = 2\n",
    "Output: 2\n",
    "Explanation: \n",
    "The first beautiful arrangement is [1, 2]:\n",
    "Number at the 1st position (i=1) is 1, and 1 is divisible by i (i=1).\n",
    "Number at the 2nd position (i=2) is 2, and 2 is divisible by i (i=2).\n",
    "The second beautiful arrangement is [2, 1]:\n",
    "Number at the 1st position (i=1) is 2, and 2 is divisible by i (i=1).\n",
    "Number at the 2nd position (i=2) is 1, and i (i=2) is divisible by 1.\n",
    "```\n",
    "**Example 2:**\n",
    "```\n",
    "Input: n = 1\n",
    "Output: 1\n",
    "```\n",
    "\n",
    "Constraints:\n",
    "\n",
    "* `1 <= n <= 15`"
   ]
  },
  {
   "cell_type": "markdown",
   "metadata": {},
   "source": [
    "**Companies:**\n",
    "![https://i.imgur.com/fobHkkL.png](https://i.imgur.com/fobHkkL.png)\n",
    "\n",
    "**Study Notes:**\n",
    "* leetcode discussion:\n",
    "* leetcode solution article:"
   ]
  },
  {
   "cell_type": "code",
   "execution_count": 3,
   "metadata": {},
   "outputs": [],
   "source": [
    "n1 = 2\n",
    "n2 = 1"
   ]
  },
  {
   "cell_type": "code",
   "execution_count": 4,
   "metadata": {},
   "outputs": [],
   "source": [
    "class Solution:\n",
    "    def countArrangement(self, n: int) -> int:\n",
    "        \n",
    "        return None"
   ]
  },
  {
   "cell_type": "code",
   "execution_count": 5,
   "metadata": {},
   "outputs": [],
   "source": [
    "soln = Solution()\n",
    "soln.countArrangement(n1)"
   ]
  },
  {
   "cell_type": "markdown",
   "metadata": {},
   "source": [
    "## Day 4: 1/4/20\n",
    "### 21. Merge Two Sorted Lists\n",
    "EASY  \n",
    "https://leetcode.com/problems/merge-two-sorted-lists/  \n",
    "https://leetcode.com/explore/challenge/card/january-leetcoding-challenge-2021/579/week-1-january-1st-january-7th/3592/"
   ]
  },
  {
   "cell_type": "markdown",
   "metadata": {},
   "source": [
    "Merge two sorted linked lists and return it as a **sorted** list. The list should be made by splicing together the nodes of the first two lists.\n",
    "\n",
    " \n",
    "\n",
    "**Example 1:**\n",
    "<img alt=\"\" src=\"https://assets.leetcode.com/uploads/2020/10/03/merge_ex1.jpg\" style=\"width: 662px; height: 302px;\">\n",
    "```\n",
    "Input: l1 = [1,2,4], l2 = [1,3,4]\n",
    "Output: [1,1,2,3,4,4]\n",
    "```\n",
    "**Example 2:**\n",
    "```\n",
    "Input: l1 = [], l2 = []\n",
    "Output: []\n",
    "```\n",
    "**Example 3:**\n",
    "```\n",
    "Input: l1 = [], l2 = [0]\n",
    "Output: [0]\n",
    "```\n",
    "\n",
    "**Constraints:**\n",
    "\n",
    "* The number of nodes in both lists is in the range `[0, 50]`.\n",
    "* `-100 <= Node.val <= 100`\n",
    "* Both `l1` and `l2` are sorted in **non-decreasing** order."
   ]
  },
  {
   "cell_type": "markdown",
   "metadata": {},
   "source": [
    "**Companies:**\n",
    "![https://i.imgur.com/L2WkSij.png](https://i.imgur.com/L2WkSij.png)\n",
    "\n",
    "**Study Notes:**\n",
    "* leetcode solution (premium): https://leetcode.com/problems/merge-two-sorted-lists/solution/\n",
    "* leetcode discussion: https://leetcode.com/problems/merge-two-sorted-lists/discuss/1001311/Python-Simple-iterative-solution-explained"
   ]
  },
  {
   "cell_type": "code",
   "execution_count": 14,
   "metadata": {},
   "outputs": [],
   "source": [
    "# Definition for singly-linked list.\n",
    "class ListNode:\n",
    "    def __init__(self, val=0, next=None):\n",
    "        self.val = val\n",
    "        self.next = next\n",
    "        \n",
    "def mk_slist(nodes):\n",
    "    pn = None\n",
    "    for n in nodes[::-1]:\n",
    "        node = ListNode(n)\n",
    "        node.next = pn\n",
    "        pn = node\n",
    "    return node\n",
    "\n",
    "def prnt_list(node):\n",
    "    nodes = []\n",
    "    while node:\n",
    "        nodes.append(node.val)\n",
    "        node = node.next\n",
    "    return nodes\n",
    "\n",
    "nodes11,nodes21 = [1,2,4], [1,3,4]\n",
    "l11,l21 = mk_slist(nodes11), mk_slist(nodes21)"
   ]
  },
  {
   "cell_type": "code",
   "execution_count": 15,
   "metadata": {},
   "outputs": [],
   "source": [
    "class Solution:\n",
    "    def mergeTwoLists(self, l1: ListNode, l2: ListNode) -> ListNode:\n",
    "        dummy = ListNode(None)\n",
    "        cur = dummy\n",
    "        while l1 and l2:\n",
    "            if l1.val < l2.val:\n",
    "                cur.next = l1\n",
    "                l1 = l1.next\n",
    "            else:\n",
    "                cur.next = l2\n",
    "                l2 = l2.next\n",
    "            \n",
    "            cur = cur.next\n",
    "        \n",
    "        if l1:\n",
    "            cur.next = l1\n",
    "        else:\n",
    "            cur.next = l2\n",
    "        \n",
    "        return dummy.next"
   ]
  },
  {
   "cell_type": "code",
   "execution_count": 16,
   "metadata": {},
   "outputs": [
    {
     "data": {
      "text/plain": [
       "[1, 1, 2, 3, 4, 4]"
      ]
     },
     "execution_count": 16,
     "metadata": {},
     "output_type": "execute_result"
    }
   ],
   "source": [
    "nodes11,nodes21 = [1,2,4], [1,3,4]\n",
    "l11,l21 = mk_slist(nodes11), mk_slist(nodes21)\n",
    "soln = Solution()\n",
    "prnt_list(soln.mergeTwoLists(l11,l21))"
   ]
  }
 ],
 "metadata": {
  "kernelspec": {
   "display_name": "base (Python 3.7.7)",
   "language": "python",
   "name": "base"
  },
  "language_info": {
   "codemirror_mode": {
    "name": "ipython",
    "version": 3
   },
   "file_extension": ".py",
   "mimetype": "text/x-python",
   "name": "python",
   "nbconvert_exporter": "python",
   "pygments_lexer": "ipython3",
   "version": "3.7.7"
  }
 },
 "nbformat": 4,
 "nbformat_minor": 4
}
