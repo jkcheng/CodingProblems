{
 "cells": [
  {
   "cell_type": "code",
   "execution_count": 1,
   "metadata": {},
   "outputs": [],
   "source": [
    "from typing import List"
   ]
  },
  {
   "cell_type": "code",
   "execution_count": 6,
   "metadata": {},
   "outputs": [],
   "source": [
    "# tree practice\n",
    "class TreeNode:\n",
    "    def __init__(self, val=0, left=None, right=None):\n",
    "        self.val = val\n",
    "        self.left = left\n",
    "        self.right = right\n",
    "\n",
    "def mk_tree(nodes, i, n):\n",
    "    root = None\n",
    "    if (i < n) and nodes[i] is not None:\n",
    "        root = TreeNode(nodes[i])\n",
    "        root.left = mk_tree(nodes, 2*i+1, len(nodes))\n",
    "        root.right = mk_tree(nodes, 2*i+2, len(nodes))\n",
    "    return root\n",
    "\n",
    "def prnt_tree(root):\n",
    "    nodes = []\n",
    "    q = [root]\n",
    "    while any(q):\n",
    "        node = q.pop(0) # can use deque to optimize\n",
    "        if node:\n",
    "            nodes.append(node.val)\n",
    "            if node.left or node.right or any(q):\n",
    "                q.append(node.left)\n",
    "                q.append(node.right)\n",
    "        elif any(a): # if node is None AND there's still stuff in q to process\n",
    "            nodes.append('null')\n",
    "    \n",
    "    return nodes"
   ]
  },
  {
   "cell_type": "markdown",
   "metadata": {},
   "source": [
    "## Day 1: 1/1/21\n",
    "### 1640. Check Array Formation Through Concatenation\n",
    "EASY  \n",
    "https://leetcode.com/problems/check-array-formation-through-concatenation/  \n",
    "https://leetcode.com/explore/challenge/card/january-leetcoding-challenge-2021/579/week-1-january-1st-january-7th/3589/"
   ]
  },
  {
   "cell_type": "markdown",
   "metadata": {},
   "source": [
    "You are given an array of **distinct** integers `arr` and an array of integer arrays `pieces`, where the integers in `pieces` are **distinct**. Your goal is to form `arr` by concatenating the arrays in `pieces` **in any order**. However, you are **not** allowed to reorder the integers in each array `pieces[i]`.\n",
    "\n",
    "Return `true` *if it is possible to form the array* `arr` *from* `pieces`. Otherwise, return `false`.\n",
    "\n",
    " \n",
    "\n",
    "**Example 1:**\n",
    "```\n",
    "Input: arr = [85], pieces = [[85]]\n",
    "Output: true\n",
    "```\n",
    "**Example 2:**\n",
    "```\n",
    "Input: arr = [15,88], pieces = [[88],[15]]\n",
    "Output: true\n",
    "Explanation: Concatenate [15] then [88]\n",
    "```\n",
    "**Example 3:**\n",
    "```\n",
    "Input: arr = [49,18,16], pieces = [[16,18,49]]\n",
    "Output: false\n",
    "Explanation: Even though the numbers match, we cannot reorder pieces[0].\n",
    "```\n",
    "**Example 4:**\n",
    "```\n",
    "Input: arr = [91,4,64,78], pieces = [[78],[4,64],[91]]\n",
    "Output: true\n",
    "Explanation: Concatenate [91] then [4,64] then [78]\n",
    "```\n",
    "**Example 5:**\n",
    "```\n",
    "Input: arr = [1,3,5,7], pieces = [[2,4,6,8]]\n",
    "Output: false\n",
    "```\n",
    "\n",
    "**Constraints:**\n",
    "\n",
    "* `1 <= pieces.length <= arr.length <= 100`\n",
    "* `sum(pieces[i].length) == arr.length`\n",
    "* `1 <= pieces[i].length <= arr.length`\n",
    "* `1 <= arr[i], pieces[i][j] <= 100`\n",
    "* The integers in `arr` are **distinct**.\n",
    "* The integers in `pieces` are **distinct** (i.e., If we flatten pieces in a 1D array, all the integers in this array are distinct).\n"
   ]
  },
  {
   "cell_type": "markdown",
   "metadata": {},
   "source": [
    "**Companies:**\n",
    "![https://i.imgur.com/QqKKD10.png](https://i.imgur.com/QqKKD10.png)\n",
    "\n",
    "**Study Notes:**\n",
    "* concepts: hash table, array\n",
    "    * algorithm: \n",
    "        * construct hash table by scanning `pieces` and adding the first integer value (`pieces[i][0]`) as key and `(len(pieces[i]),pieces[i])` as value\n",
    "        * scan `arr` and check if each value at `arr[i]` is in hash table, then move pointer by `value` from hash table + extend answer list with `pieces[i]`\n",
    "        * check if `ans == arr` at end\n",
    "* leetcode solution article (premium): https://leetcode.com/problems/check-array-formation-through-concatenation/solution/ \n",
    "* leetcode discussion: https://leetcode.com/problems/check-array-formation-through-concatenation/discuss/996476/Python-2-Solutions-explained"
   ]
  },
  {
   "cell_type": "code",
   "execution_count": 48,
   "metadata": {},
   "outputs": [],
   "source": [
    "arr1,pieces1 = [85], [[85]]\n",
    "arr2,pieces2 = [15,88], [[88],[15]]\n",
    "arr3,pieces3 = [49,18,16], [[16,18,49]]\n",
    "arr4,pieces4 = [91,4,64,78], [[78],[4,64],[91]]\n",
    "arr5,pieces5 = [1,3,5,7], [[2,4,6,8]]\n",
    "arr6,pieces6 = [91,4,64,78], [[78,1],[4,64],[91]]\n",
    "arr7,pieces7 = [85,1,2], [[85,2,1]]"
   ]
  },
  {
   "cell_type": "code",
   "execution_count": 49,
   "metadata": {},
   "outputs": [],
   "source": [
    "class Solution:\n",
    "    def canFormArray(self, arr: List[int], pieces: List[List[int]]) -> bool:\n",
    "        piecetable = {}\n",
    "        for piece in pieces:\n",
    "            piecetable[piece[0]] = (len(piece), piece)\n",
    "            \n",
    "        i = 0\n",
    "        ans = []\n",
    "        while i < len(arr):\n",
    "            val = piecetable.get(arr[i])\n",
    "            if val:\n",
    "                i += val[0]\n",
    "                ans.extend(val[1])\n",
    "            else:\n",
    "                return False\n",
    "        return True if ans==arr else False"
   ]
  },
  {
   "cell_type": "code",
   "execution_count": 50,
   "metadata": {},
   "outputs": [
    {
     "data": {
      "text/plain": [
       "False"
      ]
     },
     "execution_count": 50,
     "metadata": {},
     "output_type": "execute_result"
    }
   ],
   "source": [
    "soln = Solution()\n",
    "soln.canFormArray(arr7,pieces7)"
   ]
  },
  {
   "cell_type": "markdown",
   "metadata": {},
   "source": [
    "## Day 2: 1/2/21\n",
    "### 1379. Find a Corresponding Node of a Binary Tree in a Clone of That Tree\n",
    "MEDIUM  \n",
    "https://leetcode.com/problems/find-a-corresponding-node-of-a-binary-tree-in-a-clone-of-that-tree/  \n",
    "https://leetcode.com/explore/challenge/card/january-leetcoding-challenge-2021/579/week-1-january-1st-january-7th/3590/"
   ]
  },
  {
   "cell_type": "markdown",
   "metadata": {},
   "source": [
    "Given two binary trees `original` and `cloned` and given a reference to a node `target` in the original tree.\n",
    "\n",
    "The `cloned` tree is a **copy** of the `original` tree.\n",
    "\n",
    "Return *a reference to the same node* in the `cloned` tree.\n",
    "\n",
    "**Note** that you are **not allowed** to change any of the two trees or the `target` node and the answer **must be** a reference to a node in the `cloned` tree.\n",
    "\n",
    "**Follow up:** Solve the problem if repeated values on the tree are allowed.\n",
    "\n",
    " \n",
    "\n",
    "**Example 1:**\n",
    "<img alt=\"\" src=\"https://assets.leetcode.com/uploads/2020/02/21/e1.png\" style=\"width: 544px; height: 426px;\">\n",
    "```\n",
    "Input: tree = [7,4,3,null,null,6,19], target = 3\n",
    "Output: 3\n",
    "Explanation: In all examples the original and cloned trees are shown. The target node is a green node from the original tree. The answer is the yellow node from the cloned tree.\n",
    "```\n",
    "**Example 2:**\n",
    "<img alt=\"\" src=\"https://assets.leetcode.com/uploads/2020/02/21/e2.png\" style=\"width: 221px; height: 159px;\">\n",
    "```\n",
    "Input: tree = [7], target =  7\n",
    "Output: 7\n",
    "```\n",
    "**Example 3:**\n",
    "<img alt=\"\" src=\"https://assets.leetcode.com/uploads/2020/02/21/e3.png\" style=\"width: 459px; height: 486px;\">\n",
    "```\n",
    "Input: tree = [8,null,6,null,5,null,4,null,3,null,2,null,1], target = 4\n",
    "Output: 4\n",
    "```\n",
    "**Example 4:**\n",
    "<img alt=\"\" src=\"https://assets.leetcode.com/uploads/2020/02/21/e4.png\" style=\"width: 555px; height: 239px;\">\n",
    "```\n",
    "Input: tree = [1,2,3,4,5,6,7,8,9,10], target = 5\n",
    "Output: 5\n",
    "```\n",
    "**Example 5:**\n",
    "<img alt=\"\" src=\"https://assets.leetcode.com/uploads/2020/02/21/e5.png\" style=\"width: 427px; height: 345px;\">\n",
    "```\n",
    "Input: tree = [1,2,null,3], target = 2\n",
    "Output: 2\n",
    "```\n",
    "\n",
    "**Constraints:**\n",
    "\n",
    "* The number of nodes in the `tree` is in the range `[1, 10^4]`.\n",
    "* The values of the nodes of the `tree` are unique.\n",
    "* `target` node is a node from the `original` tree and is not `null`."
   ]
  },
  {
   "cell_type": "markdown",
   "metadata": {},
   "source": [
    "**Companies:**\n",
    "![https://i.imgur.com/QqKKD10.png](https://i.imgur.com/QqKKD10.png)\n",
    "\n",
    "\n",
    "**Study Notes:**\n",
    "* leetcode solution article: https://leetcode.com/problems/find-a-corresponding-node-of-a-binary-tree-in-a-clone-of-that-tree/solution/\n",
    "* leetcode disucssion: https://leetcode.com/problems/find-a-corresponding-node-of-a-binary-tree-in-a-clone-of-that-tree/discuss/997816/Python-postorder-traversal-explained"
   ]
  },
  {
   "cell_type": "code",
   "execution_count": 7,
   "metadata": {},
   "outputs": [],
   "source": [
    "# Definition for a binary tree node.\n",
    "class TreeNode:\n",
    "    def __init__(self, x):\n",
    "        self.val = x\n",
    "        self.left = None\n",
    "        self.right = None\n",
    "        \n",
    "def mk_tree(nodes, i, n):\n",
    "    root = None\n",
    "    if (i < n) and nodes[i] is not None:\n",
    "        root = TreeNode(nodes[i])\n",
    "        root.left = mk_tree(nodes, 2*i+1, len(nodes))\n",
    "        root.right = mk_tree(nodes, 2*i+2, len(nodes))\n",
    "    return root\n",
    "\n",
    "def prnt_tree(root):\n",
    "    nodes = []\n",
    "    q = [root]\n",
    "    while any(q):\n",
    "        node = q.pop(0) # can use deque to optimize\n",
    "        if node:\n",
    "            nodes.append(node.val)\n",
    "            if node.left or node.right or any(q):\n",
    "                q.append(node.left)\n",
    "                q.append(node.right)\n",
    "        elif any(a): # if node is None AND there's still stuff in q to process\n",
    "            nodes.append('null')\n",
    "    \n",
    "    return nodes\n",
    "\n",
    "nodes1 = [7,4,3,None,None,6,19]\n",
    "tree1 = mk_tree(nodes1, 0, len(nodes1))\n",
    "# nodes2 = [8,null,6,null,5,null,4,null,3,null,2,null,1]"
   ]
  },
  {
   "cell_type": "code",
   "execution_count": 8,
   "metadata": {},
   "outputs": [],
   "source": [
    "class Solution:\n",
    "    def getTargetCopy(self, original: TreeNode, cloned: TreeNode, target: TreeNode) -> TreeNode:\n",
    "        \n",
    "        return None"
   ]
  },
  {
   "cell_type": "code",
   "execution_count": 9,
   "metadata": {},
   "outputs": [
    {
     "ename": "TypeError",
     "evalue": "getTargetCopy() missing 2 required positional arguments: 'cloned' and 'target'",
     "output_type": "error",
     "traceback": [
      "\u001b[0;31m---------------------------------------------------------------------------\u001b[0m",
      "\u001b[0;31mTypeError\u001b[0m                                 Traceback (most recent call last)",
      "\u001b[0;32m<ipython-input-9-189303557541>\u001b[0m in \u001b[0;36m<module>\u001b[0;34m\u001b[0m\n\u001b[1;32m      1\u001b[0m \u001b[0msoln\u001b[0m \u001b[0;34m=\u001b[0m \u001b[0mSolution\u001b[0m\u001b[0;34m(\u001b[0m\u001b[0;34m)\u001b[0m\u001b[0;34m\u001b[0m\u001b[0;34m\u001b[0m\u001b[0m\n\u001b[0;32m----> 2\u001b[0;31m \u001b[0msoln\u001b[0m\u001b[0;34m.\u001b[0m\u001b[0mgetTargetCopy\u001b[0m\u001b[0;34m(\u001b[0m\u001b[0mtree1\u001b[0m\u001b[0;34m)\u001b[0m\u001b[0;34m\u001b[0m\u001b[0;34m\u001b[0m\u001b[0m\n\u001b[0m",
      "\u001b[0;31mTypeError\u001b[0m: getTargetCopy() missing 2 required positional arguments: 'cloned' and 'target'"
     ]
    }
   ],
   "source": [
    "soln = Solution()\n",
    "soln.getTargetCopy(tree1)"
   ]
  },
  {
   "cell_type": "markdown",
   "metadata": {},
   "source": [
    "## Day 3: 1/3/21\n",
    "### 526. Beautiful Arrangement\n",
    "MEDIUM  \n",
    "https://leetcode.com/problems/beautiful-arrangement/  \n",
    "https://leetcode.com/explore/challenge/card/january-leetcoding-challenge-2021/579/week-1-january-1st-january-7th/3591/"
   ]
  },
  {
   "cell_type": "markdown",
   "metadata": {},
   "source": [
    "Suppose you have `n` integers from `1` to `n`. We define a beautiful arrangement as an array that is constructed by these `n` numbers successfully if one of the following is true for the $i^{th}$ position (`1 <= i <= n`) in this array:\n",
    "\n",
    "* The number at the $i^{th}$ position is divisible by `i`.\n",
    "* `i` is divisible by the number at the $i^{th}$ position.\n",
    "\n",
    "Given an integer `n`, return *the number of the beautiful arrangements that you can construct*.\n",
    "\n",
    " \n",
    "\n",
    "**Example 1:**\n",
    "```\n",
    "Input: n = 2\n",
    "Output: 2\n",
    "Explanation: \n",
    "The first beautiful arrangement is [1, 2]:\n",
    "Number at the 1st position (i=1) is 1, and 1 is divisible by i (i=1).\n",
    "Number at the 2nd position (i=2) is 2, and 2 is divisible by i (i=2).\n",
    "The second beautiful arrangement is [2, 1]:\n",
    "Number at the 1st position (i=1) is 2, and 2 is divisible by i (i=1).\n",
    "Number at the 2nd position (i=2) is 1, and i (i=2) is divisible by 1.\n",
    "```\n",
    "**Example 2:**\n",
    "```\n",
    "Input: n = 1\n",
    "Output: 1\n",
    "```\n",
    "\n",
    "Constraints:\n",
    "\n",
    "* `1 <= n <= 15`"
   ]
  },
  {
   "cell_type": "markdown",
   "metadata": {},
   "source": [
    "**Companies:**\n",
    "![https://i.imgur.com/fobHkkL.png](https://i.imgur.com/fobHkkL.png)\n",
    "\n",
    "**Study Notes:**\n",
    "* leetcode discussion:\n",
    "* leetcode solution article:"
   ]
  },
  {
   "cell_type": "code",
   "execution_count": 3,
   "metadata": {},
   "outputs": [],
   "source": [
    "n1 = 2\n",
    "n2 = 1"
   ]
  },
  {
   "cell_type": "code",
   "execution_count": 4,
   "metadata": {},
   "outputs": [],
   "source": [
    "class Solution:\n",
    "    def countArrangement(self, n: int) -> int:\n",
    "        \n",
    "        return None"
   ]
  },
  {
   "cell_type": "code",
   "execution_count": 5,
   "metadata": {},
   "outputs": [],
   "source": [
    "soln = Solution()\n",
    "soln.countArrangement(n1)"
   ]
  },
  {
   "cell_type": "markdown",
   "metadata": {},
   "source": [
    "## Day 4: 1/4/21\n",
    "### 21. Merge Two Sorted Lists\n",
    "EASY  \n",
    "https://leetcode.com/problems/merge-two-sorted-lists/  \n",
    "https://leetcode.com/explore/challenge/card/january-leetcoding-challenge-2021/579/week-1-january-1st-january-7th/3592/"
   ]
  },
  {
   "cell_type": "markdown",
   "metadata": {},
   "source": [
    "Merge two sorted linked lists and return it as a **sorted** list. The list should be made by splicing together the nodes of the first two lists.\n",
    "\n",
    " \n",
    "\n",
    "**Example 1:**\n",
    "<img alt=\"\" src=\"https://assets.leetcode.com/uploads/2020/10/03/merge_ex1.jpg\" style=\"width: 662px; height: 302px;\">\n",
    "```\n",
    "Input: l1 = [1,2,4], l2 = [1,3,4]\n",
    "Output: [1,1,2,3,4,4]\n",
    "```\n",
    "**Example 2:**\n",
    "```\n",
    "Input: l1 = [], l2 = []\n",
    "Output: []\n",
    "```\n",
    "**Example 3:**\n",
    "```\n",
    "Input: l1 = [], l2 = [0]\n",
    "Output: [0]\n",
    "```\n",
    "\n",
    "**Constraints:**\n",
    "\n",
    "* The number of nodes in both lists is in the range `[0, 50]`.\n",
    "* `-100 <= Node.val <= 100`\n",
    "* Both `l1` and `l2` are sorted in **non-decreasing** order."
   ]
  },
  {
   "cell_type": "markdown",
   "metadata": {},
   "source": [
    "**Companies:**\n",
    "![https://i.imgur.com/L2WkSij.png](https://i.imgur.com/L2WkSij.png)\n",
    "\n",
    "**Study Notes:**\n",
    "* leetcode solution (premium): https://leetcode.com/problems/merge-two-sorted-lists/solution/\n",
    "* leetcode discussion: https://leetcode.com/problems/merge-two-sorted-lists/discuss/1001311/Python-Simple-iterative-solution-explained"
   ]
  },
  {
   "cell_type": "code",
   "execution_count": 14,
   "metadata": {},
   "outputs": [],
   "source": [
    "# Definition for singly-linked list.\n",
    "class ListNode:\n",
    "    def __init__(self, val=0, next=None):\n",
    "        self.val = val\n",
    "        self.next = next\n",
    "        \n",
    "def mk_slist(nodes):\n",
    "    pn = None\n",
    "    for n in nodes[::-1]:\n",
    "        node = ListNode(n)\n",
    "        node.next = pn\n",
    "        pn = node\n",
    "    return node\n",
    "\n",
    "def prnt_list(node):\n",
    "    nodes = []\n",
    "    while node:\n",
    "        nodes.append(node.val)\n",
    "        node = node.next\n",
    "    return nodes\n",
    "\n",
    "nodes11,nodes21 = [1,2,4], [1,3,4]\n",
    "l11,l21 = mk_slist(nodes11), mk_slist(nodes21)"
   ]
  },
  {
   "cell_type": "code",
   "execution_count": 15,
   "metadata": {},
   "outputs": [],
   "source": [
    "class Solution:\n",
    "    def mergeTwoLists(self, l1: ListNode, l2: ListNode) -> ListNode:\n",
    "        dummy = ListNode(None)\n",
    "        cur = dummy\n",
    "        while l1 and l2:\n",
    "            if l1.val < l2.val:\n",
    "                cur.next = l1\n",
    "                l1 = l1.next\n",
    "            else:\n",
    "                cur.next = l2\n",
    "                l2 = l2.next\n",
    "            \n",
    "            cur = cur.next\n",
    "        \n",
    "        if l1:\n",
    "            cur.next = l1\n",
    "        else:\n",
    "            cur.next = l2\n",
    "        \n",
    "        return dummy.next"
   ]
  },
  {
   "cell_type": "code",
   "execution_count": 16,
   "metadata": {},
   "outputs": [
    {
     "data": {
      "text/plain": [
       "[1, 1, 2, 3, 4, 4]"
      ]
     },
     "execution_count": 16,
     "metadata": {},
     "output_type": "execute_result"
    }
   ],
   "source": [
    "nodes11,nodes21 = [1,2,4], [1,3,4]\n",
    "l11,l21 = mk_slist(nodes11), mk_slist(nodes21)\n",
    "soln = Solution()\n",
    "prnt_list(soln.mergeTwoLists(l11,l21))"
   ]
  },
  {
   "cell_type": "markdown",
   "metadata": {},
   "source": [
    "## Day 5: 1/5/21\n",
    "### 82. Remove Duplicates from Sorted List II\n",
    "MEDIUM  \n",
    "https://leetcode.com/problems/remove-duplicates-from-sorted-list-ii/  \n",
    "https://leetcode.com/explore/challenge/card/january-leetcoding-challenge-2021/579/week-1-january-1st-january-7th/3593/"
   ]
  },
  {
   "cell_type": "markdown",
   "metadata": {},
   "source": [
    "Given the `head` of a sorted linked list, *delete all nodes that have duplicate numbers, leaving only distinct numbers from the original list*. Return *the linked list* ***sorted*** *as well*.\n",
    "\n",
    " \n",
    "\n",
    "**Example 1:**\n",
    "<img alt=\"\" src=\"https://assets.leetcode.com/uploads/2021/01/04/linkedlist1.jpg\" style=\"width: 500px; height: 142px;\">\n",
    "```\n",
    "Input: head = [1,2,3,3,4,4,5]\n",
    "Output: [1,2,5]\n",
    "```\n",
    "**Example 2:**\n",
    "<img alt=\"\" src=\"https://assets.leetcode.com/uploads/2021/01/04/linkedlist2.jpg\" style=\"width: 500px; height: 205px;\">\n",
    "```\n",
    "Input: head = [1,1,1,2,3]\n",
    "Output: [2,3]\n",
    "``` \n",
    "\n",
    "**Constraints:**\n",
    "\n",
    "* The number of nodes in the list is in the range `[0, 300]`.\n",
    "* `-100 <= Node.val <= 100`\n",
    "* The list is guaranteed to be **sorted** in ascending order.\n"
   ]
  },
  {
   "cell_type": "markdown",
   "metadata": {},
   "source": [
    "**Companies:**\n",
    "![https://i.imgur.com/ImbSbtG.png](https://i.imgur.com/ImbSbtG.png)\n",
    "\n",
    "**Study Notes:**\n",
    "* leetcode solution: https://leetcode.com/problems/remove-duplicates-from-sorted-list-ii/solution/\n",
    "* leetcode discussion: https://leetcode.com/problems/remove-duplicates-from-sorted-list-ii/discuss/1002902/Python-2-pointers-solution-explained"
   ]
  },
  {
   "cell_type": "code",
   "execution_count": 31,
   "metadata": {},
   "outputs": [],
   "source": [
    "# Definition for singly-linked list.\n",
    "class ListNode:\n",
    "    def __init__(self, val=0, next=None):\n",
    "        self.val = val\n",
    "        self.next = next\n",
    "        \n",
    "def mk_slist(nodes):\n",
    "    pn = None\n",
    "    for n in nodes[::-1]:\n",
    "        node = ListNode(n)\n",
    "        node.next = pn\n",
    "        pn = node\n",
    "    return pn\n",
    "\n",
    "def prnt_list(node):\n",
    "    nodes = []\n",
    "    while node:\n",
    "        nodes.append(node.val)\n",
    "        node = node.next\n",
    "    return nodes\n",
    "\n",
    "nodes1 = [1,2,3,3,4,4,5]\n",
    "head1 = mk_slist(nodes1)\n",
    "nodes2 = [1,1,1,2,3]\n",
    "head2 = mk_slist(nodes2)"
   ]
  },
  {
   "cell_type": "code",
   "execution_count": 7,
   "metadata": {},
   "outputs": [
    {
     "data": {
      "text/plain": [
       "[1, 2, 3, 3, 4, 4, 5]"
      ]
     },
     "execution_count": 7,
     "metadata": {},
     "output_type": "execute_result"
    }
   ],
   "source": [
    "prnt_list(head1)"
   ]
  },
  {
   "cell_type": "code",
   "execution_count": 34,
   "metadata": {},
   "outputs": [],
   "source": [
    "class Solution:\n",
    "    def deleteDuplicates(self, head: ListNode) -> ListNode:\n",
    "        prev = dummy = ListNode(-1)\n",
    "        dummy.next = cur = head\n",
    "        skip = False\n",
    "        \n",
    "        while cur:\n",
    "            while cur.next and cur.next.val == cur.val:\n",
    "                cur = cur.next\n",
    "                skip = True\n",
    "            if skip:\n",
    "                prev.next = cur.next\n",
    "                skip = False\n",
    "            else:\n",
    "                prev = cur\n",
    "            cur = cur.next\n",
    "        \n",
    "        return dummy.next"
   ]
  },
  {
   "cell_type": "code",
   "execution_count": 36,
   "metadata": {},
   "outputs": [],
   "source": [
    "# more concise code\n",
    "class Solution:\n",
    "    def deleteDuplicates(self, head: ListNode) -> ListNode:\n",
    "        prev = dummy = ListNode(-1)\n",
    "        cur = dummy.next =  head\n",
    "        \n",
    "        while cur:\n",
    "            while cur.next and cur.next.val == cur.val:\n",
    "                cur = cur.next\n",
    "            if prev.next == cur:\n",
    "                prev = prev.next\n",
    "                cur = cur.next\n",
    "            else:\n",
    "                prev.next = cur.next\n",
    "                cur = cur.next\n",
    "                \n",
    "        return dummy.next"
   ]
  },
  {
   "cell_type": "code",
   "execution_count": 40,
   "metadata": {},
   "outputs": [
    {
     "data": {
      "text/plain": [
       "[1, 2, 5]"
      ]
     },
     "execution_count": 40,
     "metadata": {},
     "output_type": "execute_result"
    }
   ],
   "source": [
    "nodes1 = [1,2,3,3,4,4,5]\n",
    "head1 = mk_slist(nodes1)\n",
    "nodes2 = [1,1,1,2,3]\n",
    "head2 = mk_slist(nodes2)\n",
    "nodes3 = [1,1]\n",
    "head3 = mk_slist(nodes3)\n",
    "head4 = mk_slist([])\n",
    "soln = Solution()\n",
    "prnt_list(soln.deleteDuplicates(head1))"
   ]
  },
  {
   "cell_type": "markdown",
   "metadata": {},
   "source": [
    "## Day 6: 1/6/21\n",
    "### 1539. Kth Missing Positive Number\n",
    "EASY  \n",
    "https://leetcode.com/problems/kth-missing-positive-number/  \n",
    "https://leetcode.com/explore/challenge/card/january-leetcoding-challenge-2021/579/week-1-january-1st-january-7th/3594/  "
   ]
  },
  {
   "cell_type": "markdown",
   "metadata": {},
   "source": [
    "Given an array `arr` of positive integers sorted in a **strictly increasing order**, and an integer `k`.\n",
    "\n",
    "*Find the* `kth` *positive integer that is missing from this array*.\n",
    "\n",
    " \n",
    "\n",
    "**Example 1:**\n",
    "```\n",
    "Input: arr = [2,3,4,7,11], k = 5\n",
    "Output: 9\n",
    "Explanation: The missing positive integers are [1,5,6,8,9,10,12,13,...]. The 5th missing positive integer is 9.\n",
    "```\n",
    "**Example 2:**\n",
    "```\n",
    "Input: arr = [1,2,3,4], k = 2\n",
    "Output: 6\n",
    "Explanation: The missing positive integers are [5,6,7,...]. The 2nd missing positive integer is 6.\n",
    "```\n",
    "\n",
    "**Constraints:**\n",
    "\n",
    "* `1 <= arr.length <= 1000`\n",
    "* `1 <= arr[i] <= 1000`\n",
    "* `1 <= k <= 1000`\n",
    "* `arr[i] < arr[j]` for `1 <= i < j <= arr.length`"
   ]
  },
  {
   "cell_type": "markdown",
   "metadata": {},
   "source": [
    "**Companies:**\n",
    "![https://i.imgur.com/65VzZgK.png](https://i.imgur.com/65VzZgK.png)\n",
    "\n",
    "**Study Notes:**\n",
    "* leetcode solution: https://leetcode.com/problems/kth-missing-positive-number/solution/\n",
    "* leetcode discussion: https://leetcode.com/problems/kth-missing-positive-number/discuss/1004535/Python-Two-solutions-O(n)-and-O(log-n)-explained"
   ]
  },
  {
   "cell_type": "code",
   "execution_count": 2,
   "metadata": {},
   "outputs": [],
   "source": [
    "arr1,k1 = [2,3,4,7,11], 5\n",
    "arr2,k2 = [1,2,3,4], 2"
   ]
  },
  {
   "cell_type": "code",
   "execution_count": 3,
   "metadata": {},
   "outputs": [],
   "source": [
    "class Solution:\n",
    "    def findKthPositive(self, arr: List[int], k: int) -> int:\n",
    "        \n",
    "        return None"
   ]
  },
  {
   "cell_type": "code",
   "execution_count": 4,
   "metadata": {},
   "outputs": [],
   "source": [
    "soln = Solution()\n",
    "soln.findKthPositive(arr1,k1)"
   ]
  },
  {
   "cell_type": "markdown",
   "metadata": {},
   "source": [
    "## Day 7: 1/7/21\n",
    "### 3. Longest Substring Without Repeating Characters\n",
    "MEDIUM  \n",
    "https://leetcode.com/problems/longest-substring-without-repeating-characters/  \n",
    "https://leetcode.com/explore/challenge/card/january-leetcoding-challenge-2021/579/week-1-january-1st-january-7th/3595/"
   ]
  },
  {
   "cell_type": "markdown",
   "metadata": {},
   "source": [
    "Given a string `s`, find the length of the **longest substring** without repeating characters.\n",
    "\n",
    " \n",
    "\n",
    "**Example 1:**\n",
    "```\n",
    "Input: s = \"abcabcbb\"\n",
    "Output: 3\n",
    "Explanation: The answer is \"abc\", with the length of 3.\n",
    "```\n",
    "**Example 2:**\n",
    "```\n",
    "Input: s = \"bbbbb\"\n",
    "Output: 1\n",
    "Explanation: The answer is \"b\", with the length of 1.\n",
    "```\n",
    "**Example 3:**\n",
    "```\n",
    "Input: s = \"pwwkew\"\n",
    "Output: 3\n",
    "Explanation: The answer is \"wke\", with the length of 3.\n",
    "Notice that the answer must be a substring, \"pwke\" is a subsequence and not a substring.\n",
    "```\n",
    "**Example 4:**\n",
    "```\n",
    "Input: s = \"\"\n",
    "Output: 0\n",
    "```\n",
    "\n",
    "**Constraints:**\n",
    "\n",
    "* `0 <= s.length <= 5 * 10^4`\n",
    "* `s` consists of English letters, digits, symbols and spaces."
   ]
  },
  {
   "cell_type": "markdown",
   "metadata": {},
   "source": [
    "**Companies:**\n",
    "![https://i.imgur.com/FOyzl84.png](https://i.imgur.com/FOyzl84.png)\n",
    "\n",
    "**Study Notes:**\n",
    "* leetcode solution: https://leetcode.com/problems/longest-substring-without-repeating-characters/solution/\n",
    "* leetcode discussion: https://leetcode.com/problems/longest-substring-without-repeating-characters/discuss/1005955/Python-O(n)-sliding-window-explained"
   ]
  },
  {
   "cell_type": "code",
   "execution_count": 6,
   "metadata": {},
   "outputs": [],
   "source": [
    "s1 = \"abcabcbb\"\n",
    "s2 = \"bbbbb\"\n",
    "s3 = \"pwwkew\"\n",
    "s4 = \"\""
   ]
  },
  {
   "cell_type": "code",
   "execution_count": 7,
   "metadata": {},
   "outputs": [],
   "source": [
    "class Solution:\n",
    "    def lengthOfLongestSubstring(self, s: str) -> int:\n",
    "        \n",
    "        return None"
   ]
  },
  {
   "cell_type": "code",
   "execution_count": 8,
   "metadata": {},
   "outputs": [],
   "source": [
    "soln = Solution()\n",
    "soln.lengthOfLongestSubstring(s1)"
   ]
  },
  {
   "cell_type": "markdown",
   "metadata": {},
   "source": [
    "## Day 8: 1/8/21\n",
    "### 1662. Check If Two String Arrays are Equivalent\n",
    "EASY  \n",
    "https://leetcode.com/problems/check-if-two-string-arrays-are-equivalent/  \n",
    "https://leetcode.com/explore/challenge/card/january-leetcoding-challenge-2021/580/week-2-january-8th-january-14th/3597/"
   ]
  },
  {
   "cell_type": "markdown",
   "metadata": {},
   "source": [
    "Given two string arrays `word1` and `word2`, return **true** *if the two arrays* ***represent*** *the same string, and* `false` *otherwise*.\n",
    "\n",
    "A string is **represented** by an array if the array elements concatenated **in order** forms the string.\n",
    "\n",
    " \n",
    "\n",
    "**Example 1:**\n",
    "```\n",
    "Input: word1 = [\"ab\", \"c\"], word2 = [\"a\", \"bc\"]\n",
    "Output: true\n",
    "Explanation:\n",
    "word1 represents string \"ab\" + \"c\" -> \"abc\"\n",
    "word2 represents string \"a\" + \"bc\" -> \"abc\"\n",
    "The strings are the same, so return true.\n",
    "```\n",
    "**Example 2:**\n",
    "```\n",
    "Input: word1 = [\"a\", \"cb\"], word2 = [\"ab\", \"c\"]\n",
    "Output: false\n",
    "```\n",
    "**Example 3:**\n",
    "```\n",
    "Input: word1  = [\"abc\", \"d\", \"defg\"], word2 = [\"abcddefg\"]\n",
    "Output: true\n",
    "```\n",
    "\n",
    "**Constraints:**\n",
    "\n",
    "* `1 <= word1.length, word2.length <= 10^3`\n",
    "* `1 <= word1[i].length, word2[i].length <= 10^3`\n",
    "* `1 <= sum(word1[i].length), sum(word2[i].length) <= 10^3`\n",
    "* `word1[i]` and `word2[i]` consist of lowercase letters."
   ]
  },
  {
   "cell_type": "markdown",
   "metadata": {},
   "source": [
    "**Companies:**\n",
    "![https://i.imgur.com/lWaZeWA.png](https://i.imgur.com/lWaZeWA.png)\n",
    "\n",
    "**Study Notes:**\n",
    "* leetcode solution:\n",
    "* leetcode discussion: "
   ]
  },
  {
   "cell_type": "code",
   "execution_count": 11,
   "metadata": {},
   "outputs": [],
   "source": [
    "word11,word21 = [\"ab\", \"c\"], [\"a\", \"bc\"]\n",
    "word12,word22 = [\"a\", \"cb\"], [\"ab\", \"c\"]\n",
    "word13,word23 = [\"abc\", \"d\", \"defg\"], [\"abcddefg\"]"
   ]
  },
  {
   "cell_type": "code",
   "execution_count": 14,
   "metadata": {},
   "outputs": [],
   "source": [
    "class Solution:\n",
    "    def arrayStringsAreEqual(self, word1: List[str], word2: List[str]) -> bool:\n",
    "        return ''.join(word1)==''.join(word2)"
   ]
  },
  {
   "cell_type": "code",
   "execution_count": 17,
   "metadata": {},
   "outputs": [
    {
     "data": {
      "text/plain": [
       "True"
      ]
     },
     "execution_count": 17,
     "metadata": {},
     "output_type": "execute_result"
    }
   ],
   "source": [
    "soln = Solution()\n",
    "soln.arrayStringsAreEqual(word13,word23)"
   ]
  },
  {
   "cell_type": "markdown",
   "metadata": {},
   "source": [
    "## Day 9: 1/9/21\n",
    "### 127. Word Ladder\n",
    "HARD  \n",
    "https://leetcode.com/problems/word-ladder/  \n",
    "https://leetcode.com/explore/challenge/card/january-leetcoding-challenge-2021/580/week-2-january-8th-january-14th/3598/"
   ]
  },
  {
   "cell_type": "markdown",
   "metadata": {},
   "source": [
    "Given two words `beginWord` and `endWord`, and a dictionary `wordList`, return *the length of the shortest transformation sequence from* `beginWord` *to* `endWord`*, such that:*\n",
    "\n",
    "* Only one letter can be changed at a time.\n",
    "* Each transformed word must exist in the word list.\n",
    "\n",
    "Return `0` if there is no such transformation sequence.\n",
    "\n",
    " \n",
    "\n",
    "**Example 1:**\n",
    "```\n",
    "Input: beginWord = \"hit\", endWord = \"cog\", wordList = [\"hot\",\"dot\",\"dog\",\"lot\",\"log\",\"cog\"]\n",
    "Output: 5\n",
    "Explanation: As one shortest transformation is \"hit\" -> \"hot\" -> \"dot\" -> \"dog\" -> \"cog\", return its length 5.\n",
    "```\n",
    "**Example 2:**\n",
    "```\n",
    "Input: beginWord = \"hit\", endWord = \"cog\", wordList = [\"hot\",\"dot\",\"dog\",\"lot\",\"log\"]\n",
    "Output: 0\n",
    "Explanation: The endWord \"cog\" is not in wordList, therefore no possible transformation.\n",
    "```\n",
    "\n",
    "**Constraints:**\n",
    "\n",
    "* `1 <= beginWord.length <= 100`\n",
    "* `endWord.length == beginWord.length`\n",
    "* `1 <= wordList.length <= 5000`\n",
    "* `wordList[i].length == beginWord.length`\n",
    "* `beginWord`, `endWord`, and `wordList[i]` consist of lowercase English letters.\n",
    "* `beginWord != endWord`\n",
    "* All the strings in `wordList` are **unique**."
   ]
  },
  {
   "cell_type": "markdown",
   "metadata": {},
   "source": [
    "**Companies:**\n",
    "![https://i.imgur.com/yiKmRTw.png](https://i.imgur.com/yiKmRTw.png)\n",
    "\n",
    "**Study Notes:**\n",
    "* this is a popular hard question\n",
    "* leetcode solution:\n",
    "* leetcode discussion:"
   ]
  },
  {
   "cell_type": "code",
   "execution_count": 3,
   "metadata": {},
   "outputs": [],
   "source": [
    "beginWord1,endWord1,wordList1 = \"hit\", \"cog\", [\"hot\",\"dot\",\"dog\",\"lot\",\"log\",\"cog\"]\n",
    "beginWord2,endWord2,wordList2 = \"hit\", \"cog\", [\"hot\",\"dot\",\"dog\",\"lot\",\"log\"]"
   ]
  },
  {
   "cell_type": "code",
   "execution_count": 4,
   "metadata": {},
   "outputs": [],
   "source": [
    "class Solution:\n",
    "    def ladderLength(self, beginWord: str, endWord: str, wordList: List[str]) -> int:\n",
    "        \n",
    "        return None"
   ]
  },
  {
   "cell_type": "code",
   "execution_count": 5,
   "metadata": {},
   "outputs": [],
   "source": [
    "soln = Solution()\n",
    "soln.ladderLength(beginWord1,endWord1,wordList1)"
   ]
  },
  {
   "cell_type": "markdown",
   "metadata": {},
   "source": [
    "## Day 10: 1/10/21\n",
    "### 1649. Create Sorted Array through Instructions\n",
    "HARD  \n",
    "https://leetcode.com/problems/create-sorted-array-through-instructions/  \n",
    "https://leetcode.com/explore/challenge/card/january-leetcoding-challenge-2021/580/week-2-january-8th-january-14th/3599/"
   ]
  },
  {
   "cell_type": "markdown",
   "metadata": {},
   "source": [
    "Given an integer array `instructions`, you are asked to create a sorted array from the elements in `instructions`. You start with an empty container `nums`. For each element from **left to right** in `instructions`, insert it into `nums`. The **cost** of each insertion is the **minimum** of the following:\n",
    "\n",
    "* The number of elements currently in `nums` that are **strictly less than** `instructions[i]`.\n",
    "* The number of elements currently in `nums` that are **strictly greater than** `instructions[i]`.\n",
    "\n",
    "For example, if inserting element `3` into `nums = [1,2,3,5]`, the **cost** of insertion is `min(2, 1)` (elements `1` and `2` are less than `3`, element `5` is greater than `3`) and `nums` will become `[1,2,3,3,5]`.\n",
    "\n",
    "Return *the* ***total cost*** *to insert all elements from* `instructions` *into* `nums`. Since the answer may be large, return it **modulo** `10^9 + 7`\n",
    "\n",
    " \n",
    "\n",
    "**Example 1:**\n",
    "```\n",
    "Input: instructions = [1,5,6,2]\n",
    "Output: 1\n",
    "Explanation: Begin with nums = [].\n",
    "Insert 1 with cost min(0, 0) = 0, now nums = [1].\n",
    "Insert 5 with cost min(1, 0) = 0, now nums = [1,5].\n",
    "Insert 6 with cost min(2, 0) = 0, now nums = [1,5,6].\n",
    "Insert 2 with cost min(1, 2) = 1, now nums = [1,2,5,6].\n",
    "The total cost is 0 + 0 + 0 + 1 = 1.\n",
    "```\n",
    "**Example 2:**\n",
    "```\n",
    "Input: instructions = [1,2,3,6,5,4]\n",
    "Output: 3\n",
    "Explanation: Begin with nums = [].\n",
    "Insert 1 with cost min(0, 0) = 0, now nums = [1].\n",
    "Insert 2 with cost min(1, 0) = 0, now nums = [1,2].\n",
    "Insert 3 with cost min(2, 0) = 0, now nums = [1,2,3].\n",
    "Insert 6 with cost min(3, 0) = 0, now nums = [1,2,3,6].\n",
    "Insert 5 with cost min(3, 1) = 1, now nums = [1,2,3,5,6].\n",
    "Insert 4 with cost min(3, 2) = 2, now nums = [1,2,3,4,5,6].\n",
    "The total cost is 0 + 0 + 0 + 0 + 1 + 2 = 3.\n",
    "```\n",
    "**Example 3:**\n",
    "```\n",
    "Input: instructions = [1,3,3,3,2,4,2,1,2]\n",
    "Output: 4\n",
    "Explanation: Begin with nums = [].\n",
    "Insert 1 with cost min(0, 0) = 0, now nums = [1].\n",
    "Insert 3 with cost min(1, 0) = 0, now nums = [1,3].\n",
    "Insert 3 with cost min(1, 0) = 0, now nums = [1,3,3].\n",
    "Insert 3 with cost min(1, 0) = 0, now nums = [1,3,3,3].\n",
    "Insert 2 with cost min(1, 3) = 1, now nums = [1,2,3,3,3].\n",
    "Insert 4 with cost min(5, 0) = 0, now nums = [1,2,3,3,3,4].\n",
    "​​​​​​​Insert 2 with cost min(1, 4) = 1, now nums = [1,2,2,3,3,3,4].\n",
    "​​​​​​​Insert 1 with cost min(0, 6) = 0, now nums = [1,1,2,2,3,3,3,4].\n",
    "​​​​​​​Insert 2 with cost min(2, 4) = 2, now nums = [1,1,2,2,2,3,3,3,4].\n",
    "The total cost is 0 + 0 + 0 + 0 + 1 + 0 + 1 + 0 + 2 = 4.\n",
    "```\n",
    "\n",
    "**Constraints:**\n",
    "\n",
    "* `1 <= instructions.length <= 10^5`\n",
    "* `1 <= instructions[i] <= 10^5`"
   ]
  },
  {
   "cell_type": "markdown",
   "metadata": {},
   "source": [
    "**Companies:**\n",
    "![https://i.imgur.com/fGfq4aT.png](https://i.imgur.com/fGfq4aT.png)\n",
    "\n",
    "**Study Notes:**\n",
    "* as of 1/10/21 this problem seems new\n",
    "* leetcode solution:\n",
    "* leetcode discussion:"
   ]
  },
  {
   "cell_type": "code",
   "execution_count": 11,
   "metadata": {},
   "outputs": [],
   "source": [
    "instructions1 = [1,5,6,2]\n",
    "instructions2 = [1,2,3,6,5,4]\n",
    "instructions3 = [1,3,3,3,2,4,2,1,2]\n",
    "instructions4 = [1,3,3,3,2,4,2,1,2]"
   ]
  },
  {
   "cell_type": "code",
   "execution_count": 10,
   "metadata": {},
   "outputs": [],
   "source": [
    "class Solution:\n",
    "    def createSortedArray(self, instructions: List[int]) -> int:\n",
    "        \n",
    "        return None"
   ]
  },
  {
   "cell_type": "code",
   "execution_count": 13,
   "metadata": {},
   "outputs": [],
   "source": [
    "soln = Solution()\n",
    "soln.createSortedArray(instructions1)"
   ]
  },
  {
   "cell_type": "markdown",
   "metadata": {},
   "source": [
    "## Day 11: 1/11/21\n",
    "### 88. Merge Sorted Array\n",
    "EASY  \n",
    "https://leetcode.com/problems/merge-sorted-array/  \n",
    "https://leetcode.com/explore/challenge/card/january-leetcoding-challenge-2021/580/week-2-january-8th-january-14th/3600/"
   ]
  },
  {
   "cell_type": "markdown",
   "metadata": {},
   "source": [
    "Given two sorted integer arrays `nums1` and `nums2`, merge `nums2` into `nums1` as one sorted array.\n",
    "\n",
    "The number of elements initialized in `nums1` and `nums2` are `m` and `n` respectively. You may assume that `nums1` has enough space (size that is equal to `m + n`) to hold additional elements from `nums2`.\n",
    "\n",
    " \n",
    "\n",
    "**Example 1:**\n",
    "```\n",
    "Input: nums1 = [1,2,3,0,0,0], m = 3, nums2 = [2,5,6], n = 3\n",
    "Output: [1,2,2,3,5,6]\n",
    "```\n",
    "**Example 2:**\n",
    "```\n",
    "Input: nums1 = [1], m = 1, nums2 = [], n = 0\n",
    "Output: [1]\n",
    "```\n",
    "\n",
    "**Constraints:**\n",
    "\n",
    "* `0 <= n, m <= 200`\n",
    "* `1 <= n + m <= 200`\n",
    "* `nums1.length == m + n`\n",
    "* `nums2.length == n`\n",
    "* `-10^9 <= nums1[i], nums2[i] <= 10^9`"
   ]
  },
  {
   "cell_type": "markdown",
   "metadata": {},
   "source": [
    "**Companies:**\n",
    "![https://i.imgur.com/Bxy5BXL.png](https://i.imgur.com/Bxy5BXL.png)\n",
    "\n",
    "**Study Notes:**\n",
    "* easy, but popular problem\n",
    "* key insight: work backwards from the ends of `nums1` and `nums2`\n",
    "* leetcode solution (premium): https://leetcode.com/problems/merge-sorted-array/solution/ \n",
    "* leetcode discussion: https://leetcode.com/problems/merge-sorted-array/discuss/1011556/Python-2-pointers-solution-explained"
   ]
  },
  {
   "cell_type": "code",
   "execution_count": 28,
   "metadata": {},
   "outputs": [],
   "source": [
    "nums11,m1,nums21,n1 = [1,2,3,0,0,0], 3, [2,5,6], 3\n",
    "nums12,m2,nums22,n2 = [1], 1, [], 0\n",
    "nums13,m3,nums23,n3 = [7,8,9,0,0,0], 3, [2,5,6], 3"
   ]
  },
  {
   "cell_type": "code",
   "execution_count": 29,
   "metadata": {},
   "outputs": [],
   "source": [
    "class Solution:\n",
    "    def merge(self, nums1: List[int], m: int, nums2: List[int], n: int) -> None:\n",
    "        \"\"\"\n",
    "        Do not return anything, modify nums1 in-place instead.\n",
    "        \"\"\"\n",
    "        while (m > 0) and (n > 0):\n",
    "            if nums1[m-1] > nums2[n-1]:\n",
    "                nums1[m+n-1] = nums1[m-1]\n",
    "                m -= 1\n",
    "            else:\n",
    "                nums1[m+n-1] = nums2[n-1]\n",
    "                n -= 1\n",
    "        nums1[:n] = nums2[:n]\n",
    "#         print('m:',m,'n:',n)\n",
    "#         print(nums1[:n])\n",
    "#         print(nums2[:n])"
   ]
  },
  {
   "cell_type": "code",
   "execution_count": 30,
   "metadata": {},
   "outputs": [
    {
     "name": "stdout",
     "output_type": "stream",
     "text": [
      "[2, 5, 6, 7, 8, 9]\n"
     ]
    }
   ],
   "source": [
    "nums11,m1,nums21,n1 = [1,2,3,0,0,0], 3, [2,5,6], 3\n",
    "nums12,m2,nums22,n2 = [1], 1, [], 0\n",
    "nums13,m3,nums23,n3 = [7,8,9,0,0,0], 3, [2,5,6], 3\n",
    "nums1,m,nums2,n = nums13, m3, nums23, n3\n",
    "\n",
    "soln = Solution()\n",
    "soln.merge(nums1,m,nums2,n)\n",
    "print(nums1)"
   ]
  },
  {
   "cell_type": "markdown",
   "metadata": {},
   "source": [
    "## Day 12: 1/12/21\n",
    "### 2. Add Two Numbers\n",
    "MEDIUM  \n",
    "https://leetcode.com/problems/add-two-numbers/  \n",
    "https://leetcode.com/explore/challenge/card/january-leetcoding-challenge-2021/580/week-2-january-8th-january-14th/3601/"
   ]
  },
  {
   "cell_type": "markdown",
   "metadata": {},
   "source": [
    "You are given two **non-empty** linked lists representing two non-negative integers. The digits are stored in **reverse order**, and each of their nodes contains a single digit. Add the two numbers and return the sum as a linked list.\n",
    "\n",
    "You may assume the two numbers do not contain any leading zero, except the number 0 itself.\n",
    "\n",
    " \n",
    "\n",
    "**Example 1:**\n",
    "<img alt=\"\" src=\"https://assets.leetcode.com/uploads/2020/10/02/addtwonumber1.jpg\" style=\"width: 483px; height: 342px;\">\n",
    "```\n",
    "Input: l1 = [2,4,3], l2 = [5,6,4]\n",
    "Output: [7,0,8]\n",
    "Explanation: 342 + 465 = 807.\n",
    "```\n",
    "**Example 2:**\n",
    "```\n",
    "Input: l1 = [0], l2 = [0]\n",
    "Output: [0]\n",
    "```\n",
    "**Example 3:**\n",
    "```\n",
    "Input: l1 = [9,9,9,9,9,9,9], l2 = [9,9,9,9]\n",
    "Output: [8,9,9,9,0,0,0,1]\n",
    "```\n",
    "\n",
    "**Constraints:**\n",
    "\n",
    "* The number of nodes in each linked list is in the range `[1, 100]`.\n",
    "* `0 <= Node.val <= 9`\n",
    "* It is guaranteed that the list represents a number that does not have leading zeros."
   ]
  },
  {
   "cell_type": "markdown",
   "metadata": {},
   "source": [
    "**Companies:**\n",
    "![https://i.imgur.com/zpapO3I.png](https://i.imgur.com/zpapO3I.png)\n",
    "\n",
    "**Study Notes:**\n",
    "* seems to be a classic problem, VERY popular interview problem\n",
    "* leetcode solution:\n",
    "* leetcode discussion: "
   ]
  },
  {
   "cell_type": "code",
   "execution_count": 43,
   "metadata": {},
   "outputs": [],
   "source": [
    "# Definition for singly-linked list.\n",
    "class ListNode:\n",
    "    def __init__(self, val=0, next=None):\n",
    "        self.val = val\n",
    "        self.next = next\n",
    "\n",
    "def mk_slist(nodes):\n",
    "    pn = None\n",
    "    for n in nodes[::-1]:\n",
    "        node = ListNode(n)\n",
    "        node.next = pn\n",
    "        pn = node\n",
    "    return pn\n",
    "\n",
    "def prnt_list(node):\n",
    "    nodes = []\n",
    "    while node:\n",
    "        nodes.append(node.val)\n",
    "        node = node.next\n",
    "    return nodes\n",
    "\n",
    "nodes11, nodes21 = [2,4,3], [5,6,4]\n",
    "l11, l21 = mk_slist(nodes11), mk_slist(nodes21)\n",
    "nodes12, nodes22 = [0], [0]\n",
    "l12, l22 = mk_slist(nodes12), mk_slist(nodes22)\n",
    "nodes13, nodes23 = [9,9,9,9,9,9,9], [9,9,9,9]\n",
    "l13, l23 = mk_slist(nodes13), mk_slist(nodes23)"
   ]
  },
  {
   "cell_type": "code",
   "execution_count": 59,
   "metadata": {},
   "outputs": [],
   "source": [
    "class Solution:\n",
    "    def addTwoNumbers(self, l1: ListNode, l2: ListNode) -> ListNode:\n",
    "        p, n1, n2 = 0, 0, 0\n",
    "        while l1:\n",
    "            n1 += l1.val*(10**p)\n",
    "            p += 1\n",
    "            l1 = l1.next\n",
    "\n",
    "        p = 0\n",
    "        while l2:\n",
    "            n2 += l2.val*(10**p)\n",
    "            p += 1\n",
    "            l2 = l2.next\n",
    "            \n",
    "        ansn = n1+n2\n",
    "        \n",
    "        # make answer list\n",
    "        dummy = cur = ListNode(-1)\n",
    "        cur.next = ListNode(ansn%10)\n",
    "        cur = cur.next\n",
    "        ansn = ansn//10\n",
    "        while ansn > 0:\n",
    "            cur.next = ListNode(ansn%10)\n",
    "            cur = cur.next\n",
    "            ansn = ansn//10\n",
    "        \n",
    "        return dummy.next"
   ]
  },
  {
   "cell_type": "code",
   "execution_count": 60,
   "metadata": {},
   "outputs": [
    {
     "data": {
      "text/plain": [
       "[0]"
      ]
     },
     "execution_count": 60,
     "metadata": {},
     "output_type": "execute_result"
    }
   ],
   "source": [
    "soln = Solution()\n",
    "prnt_list(soln.addTwoNumbers(l12, l22))"
   ]
  },
  {
   "cell_type": "markdown",
   "metadata": {},
   "source": [
    "## Day 13: 1/13/21\n",
    "### 881. Boats to Save People\n",
    "MEDIUM  \n",
    "https://leetcode.com/problems/boats-to-save-people/  \n",
    "https://leetcode.com/explore/challenge/card/january-leetcoding-challenge-2021/580/week-2-january-8th-january-14th/3602/"
   ]
  },
  {
   "cell_type": "markdown",
   "metadata": {},
   "source": [
    "The `i`-th person has weight `people[i]`, and each boat can carry a maximum weight of `limit`.\n",
    "\n",
    "Each boat carries at most 2 people at the same time, provided the sum of the weight of those people is at most `limit`.\n",
    "\n",
    "Return the minimum number of boats to carry every given person.  (It is guaranteed each person can be carried by a boat.)\n",
    "\n",
    " \n",
    "\n",
    "**Example 1:**\n",
    "```\n",
    "Input: people = [1,2], limit = 3\n",
    "Output: 1\n",
    "Explanation: 1 boat (1, 2)\n",
    "```\n",
    "**Example 2:**\n",
    "```\n",
    "Input: people = [3,2,2,1], limit = 3\n",
    "Output: 3\n",
    "Explanation: 3 boats (1, 2), (2) and (3)\n",
    "```\n",
    "**Example 3:**\n",
    "```\n",
    "Input: people = [3,5,3,4], limit = 5\n",
    "Output: 4\n",
    "Explanation: 4 boats (3), (3), (4), (5)\n",
    "```\n",
    "\n",
    "**Note:**\n",
    "\n",
    "* `1 <= people.length <= 50000`\n",
    "* `1 <= people[i] <= limit <= 30000`"
   ]
  },
  {
   "cell_type": "markdown",
   "metadata": {},
   "source": [
    "**Companies:**\n",
    "![https://i.imgur.com/xdubJ4Y.png](https://i.imgur.com/xdubJ4Y.png)\n",
    "\n",
    "**Study Notes:**\n",
    "* leetcode solution:\n",
    "* leetcode discussion:"
   ]
  },
  {
   "cell_type": "code",
   "execution_count": 2,
   "metadata": {},
   "outputs": [],
   "source": [
    "people1,limit1 = [1,2], 3\n",
    "people2,limit2 = [3,2,2,1], 3\n",
    "people3,limit3 = [3,5,3,4], 5\n",
    "people4,limit4 = [5,1,4,2], 6"
   ]
  },
  {
   "cell_type": "code",
   "execution_count": 6,
   "metadata": {},
   "outputs": [],
   "source": [
    "class Solution:\n",
    "    def numRescueBoats(self, people: List[int], limit: int) -> int:\n",
    "        people = sorted(people)\n",
    "        boats = 0\n",
    "        boatweight = 0\n",
    "        for i in \n",
    "                \n",
    "        boats += 1\n",
    "        return boats"
   ]
  },
  {
   "cell_type": "code",
   "execution_count": 9,
   "metadata": {},
   "outputs": [
    {
     "data": {
      "text/plain": [
       "4"
      ]
     },
     "execution_count": 9,
     "metadata": {},
     "output_type": "execute_result"
    }
   ],
   "source": [
    "soln = Solution()\n",
    "soln.numRescueBoats(people3,limit3)"
   ]
  },
  {
   "cell_type": "code",
   "execution_count": 5,
   "metadata": {},
   "outputs": [
    {
     "data": {
      "text/plain": [
       "[3, 3, 4, 5]"
      ]
     },
     "execution_count": 5,
     "metadata": {},
     "output_type": "execute_result"
    }
   ],
   "source": [
    "sorted(people3)"
   ]
  },
  {
   "cell_type": "markdown",
   "metadata": {},
   "source": [
    "## Day 14: 1/14/21\n",
    "### 1658. Minimum Operations to Reduce X to Zero\n",
    "MEDIUM  \n",
    "https://leetcode.com/problems/minimum-operations-to-reduce-x-to-zero/  \n",
    "https://leetcode.com/explore/challenge/card/january-leetcoding-challenge-2021/580/week-2-january-8th-january-14th/3603/"
   ]
  },
  {
   "cell_type": "markdown",
   "metadata": {},
   "source": [
    "You are given an integer array `nums` and an integer `x`. In one operation, you can either remove the leftmost or the rightmost element from the array `nums` and subtract its value from `x`. Note that this **modifies** the array for future operations.\n",
    "\n",
    "Return *the* ***minimum number*** *of operations to reduce* `x` *to* ***exactly*** `0` *if it's possible, otherwise, return* `-1`.\n",
    "\n",
    " \n",
    "\n",
    "**Example 1:**\n",
    "```\n",
    "Input: nums = [1,1,4,2,3], x = 5\n",
    "Output: 2\n",
    "Explanation: The optimal solution is to remove the last two elements to reduce x to zero.\n",
    "```\n",
    "**Example 2:**\n",
    "```\n",
    "Input: nums = [5,6,7,8,9], x = 4\n",
    "Output: -1\n",
    "```\n",
    "**Example 3:**\n",
    "```\n",
    "Input: nums = [3,2,20,1,1,3], x = 10\n",
    "Output: 5\n",
    "Explanation: The optimal solution is to remove the last three elements and the first two elements (5 operations in total) to reduce x to zero.\n",
    "```\n",
    "\n",
    "**Constraints:**\n",
    "\n",
    "* `1 <= nums.length <= 10^5`\n",
    "* `1 <= nums[i] <= 10^4`\n",
    "* `1 <= x <= 10^9`"
   ]
  },
  {
   "cell_type": "markdown",
   "metadata": {},
   "source": [
    "**Companies:**\n",
    "![https://i.imgur.com/QvagEsw.png](https://i.imgur.com/QvagEsw.png)\n",
    "\n",
    "**Study Notes:**\n",
    "* Used rarely (?) at Google, but could also just be a new problem.\n",
    "* leetcode solution (premium): https://leetcode.com/problems/minimum-operations-to-reduce-x-to-zero/solution/\n",
    "* leetcode discussion: https://leetcode.com/problems/minimum-operations-to-reduce-x-to-zero/discuss/1016199/Python-O(n)-solution-using-cumulative-sums"
   ]
  },
  {
   "cell_type": "code",
   "execution_count": 3,
   "metadata": {},
   "outputs": [],
   "source": [
    "nums1,x1 = [1,1,4,2,3], 5\n",
    "nums2,x2 = [3,2,20,1,1,3], 10"
   ]
  },
  {
   "cell_type": "code",
   "execution_count": 4,
   "metadata": {},
   "outputs": [],
   "source": [
    "class Solution:\n",
    "    def minOperations(self, nums: List[int], x: int) -> int:\n",
    "        \n",
    "        return None"
   ]
  },
  {
   "cell_type": "code",
   "execution_count": 5,
   "metadata": {},
   "outputs": [],
   "source": [
    "soln = Solution()\n",
    "soln.minOperations(nums1,x1)"
   ]
  },
  {
   "cell_type": "markdown",
   "metadata": {},
   "source": [
    "## Day 15: 1/15/20\n",
    "### 1646. Get Maximum in Generated Array\n",
    "EASY  \n",
    "https://leetcode.com/problems/get-maximum-in-generated-array/  \n",
    "https://leetcode.com/explore/challenge/card/january-leetcoding-challenge-2021/581/week-3-january-15th-january-21st/3605/"
   ]
  },
  {
   "cell_type": "markdown",
   "metadata": {},
   "source": [
    "You are given an integer `n`. An array `nums` of length `n + 1` is generated in the following way:\n",
    "\n",
    "* `nums[0] = 0`\n",
    "* `nums[1] = 1`\n",
    "* `nums[2 * i] = nums[i]` when `2 <= 2 * i <= n`\n",
    "* `nums[2 * i + 1] = nums[i] + nums[i + 1]` when `2 <= 2 * i + 1 <= n`\n",
    "\n",
    "Return *the* ***maximum*** *integer in the array* `nums`.\n",
    "\n",
    " \n",
    "\n",
    "**Example 1:**\n",
    "```\n",
    "Input: n = 7\n",
    "Output: 3\n",
    "Explanation: According to the given rules:\n",
    "  nums[0] = 0\n",
    "  nums[1] = 1\n",
    "  nums[(1 * 2) = 2] = nums[1] = 1\n",
    "  nums[(1 * 2) + 1 = 3] = nums[1] + nums[2] = 1 + 1 = 2\n",
    "  nums[(2 * 2) = 4] = nums[2] = 1\n",
    "  nums[(2 * 2) + 1 = 5] = nums[2] + nums[3] = 1 + 2 = 3\n",
    "  nums[(3 * 2) = 6] = nums[3] = 2\n",
    "  nums[(3 * 2) + 1 = 7] = nums[3] + nums[4] = 2 + 1 = 3\n",
    "Hence, nums = [0,1,1,2,1,3,2,3], and the maximum is 3.\n",
    "```\n",
    "**Example 2:**\n",
    "```\n",
    "Input: n = 2\n",
    "Output: 1\n",
    "Explanation: According to the given rules, the maximum between nums[0], nums[1], and nums[2] is 1.\n",
    "```\n",
    "**Example 3:**\n",
    "```\n",
    "Input: n = 3\n",
    "Output: 2\n",
    "Explanation: According to the given rules, the maximum between nums[0], nums[1], nums[2], and nums[3] is 2.\n",
    "```\n",
    "\n",
    "**Constraints:**\n",
    "\n",
    "* `0 <= n <= 100`"
   ]
  },
  {
   "cell_type": "markdown",
   "metadata": {},
   "source": [
    "**Companies:**\n",
    "\n",
    "\n",
    "**Study Notes:**\n",
    "* brand new question, no company info!\n",
    "* leetcode solution:\n",
    "* leetcode discussion: https://leetcode.com/problems/get-maximum-in-generated-array/discuss/1017760/Python-Simulate-process-explained"
   ]
  },
  {
   "cell_type": "code",
   "execution_count": 2,
   "metadata": {},
   "outputs": [],
   "source": [
    "n1 = 7\n",
    "n2 = 2\n",
    "n3 = 3"
   ]
  },
  {
   "cell_type": "code",
   "execution_count": 18,
   "metadata": {},
   "outputs": [],
   "source": [
    "class Solution:\n",
    "    def getMaximumGenerated(self, n: int) -> int:\n",
    "        i = n-1\n",
    "        if i == 0:\n",
    "            return 0\n",
    "        if i == 1:\n",
    "            return 1\n",
    "        if i%2 == 0:\n",
    "            return self.getMaximumGenerated((n+1)//2)\n",
    "        else:\n",
    "            return self.getMaximumGenerated(n//2)+self.getMaximumGenerated((n//2)+1)"
   ]
  },
  {
   "cell_type": "code",
   "execution_count": 20,
   "metadata": {},
   "outputs": [
    {
     "data": {
      "text/plain": [
       "1"
      ]
     },
     "execution_count": 20,
     "metadata": {},
     "output_type": "execute_result"
    }
   ],
   "source": [
    "soln = Solution()\n",
    "soln.getMaximumGenerated(3)"
   ]
  },
  {
   "cell_type": "markdown",
   "metadata": {},
   "source": [
    "## Day 16: 1/16/21\n",
    "### 215. Kth Largest Element in an Array\n",
    "MEDIUM  \n",
    "https://leetcode.com/problems/kth-largest-element-in-an-array/\n",
    "https://leetcode.com/explore/challenge/card/january-leetcoding-challenge-2021/581/week-3-january-15th-january-21st/3606/"
   ]
  },
  {
   "cell_type": "markdown",
   "metadata": {},
   "source": [
    "Find the **k**th largest element in an unsorted array. Note that it is the kth largest element in the sorted order, not the kth distinct element.\n",
    "\n",
    "**Example 1:**\n",
    "```\n",
    "Input: [3,2,1,5,6,4] and k = 2\n",
    "Output: 5\n",
    "```\n",
    "**Example 2:**\n",
    "```\n",
    "Input: [3,2,3,1,2,4,5,5,6] and k = 4\n",
    "Output: 4\n",
    "```\n",
    "**Note:**  \n",
    "You may assume k is always valid, 1 ≤ k ≤ array's length."
   ]
  },
  {
   "cell_type": "markdown",
   "metadata": {},
   "source": [
    "**Companies:**\n",
    "![https://i.imgur.com/psLxLVH.png](https://i.imgur.com/psLxLVH.png)\n",
    "\n",
    "**Study Notes:**\n",
    "* leetcode solution: https://leetcode.com/problems/kth-largest-element-in-an-array/solution/\n",
    "* leetcode discussion: https://leetcode.com/problems/kth-largest-element-in-an-array/discuss/1019513/Python-QuickSelect-average-O(n)-explained"
   ]
  },
  {
   "cell_type": "code",
   "execution_count": 25,
   "metadata": {},
   "outputs": [],
   "source": [
    "nums1,k1 = [3,2,1,5,6,4], 2\n",
    "nums2,k2 = [3,2,3,1,2,4,5,5,6], 4"
   ]
  },
  {
   "cell_type": "code",
   "execution_count": 26,
   "metadata": {},
   "outputs": [],
   "source": [
    "class Solution:\n",
    "    def findKthLargest(self, nums: List[int], k: int) -> int:\n",
    "        \n",
    "        return None"
   ]
  },
  {
   "cell_type": "code",
   "execution_count": 27,
   "metadata": {},
   "outputs": [],
   "source": [
    "soln = Solution()\n",
    "soln.findKthLargest(nums1,k1)"
   ]
  },
  {
   "cell_type": "markdown",
   "metadata": {},
   "source": [
    "## Day 17: 1/17/21\n",
    "### 1641. Count Sorted Vowel Strings\n",
    "MEDIUM  \n",
    "https://leetcode.com/problems/count-sorted-vowel-strings/  \n",
    "https://leetcode.com/explore/challenge/card/january-leetcoding-challenge-2021/581/week-3-january-15th-january-21st/3607/"
   ]
  },
  {
   "cell_type": "markdown",
   "metadata": {},
   "source": [
    "Given an integer `n`, return *the number of strings of length* `n` *that consist only of vowels* (`a`, `e`, `i`, `o`, `u`) *and are* ***lexicographically sorted***.\n",
    "\n",
    "A string `s` is **lexicographically sorted** if for all valid `i`, `s[i]` is the same as or comes before `s[i+1]` in the alphabet.\n",
    "\n",
    " \n",
    "\n",
    "**Example 1:**\n",
    "```\n",
    "Input: n = 1\n",
    "Output: 5\n",
    "Explanation: The 5 sorted strings that consist of vowels only are [\"a\",\"e\",\"i\",\"o\",\"u\"].\n",
    "```\n",
    "**Example 2:**\n",
    "```\n",
    "Input: n = 2\n",
    "Output: 15\n",
    "Explanation: The 15 sorted strings that consist of vowels only are\n",
    "[\"aa\",\"ae\",\"ai\",\"ao\",\"au\",\"ee\",\"ei\",\"eo\",\"eu\",\"ii\",\"io\",\"iu\",\"oo\",\"ou\",\"uu\"].\n",
    "Note that \"ea\" is not a valid string since 'e' comes after 'a' in the alphabet.\n",
    "```\n",
    "**Example 3:**\n",
    "```\n",
    "Input: n = 33\n",
    "Output: 66045\n",
    "```\n",
    "\n",
    "**Constraints:**\n",
    "\n",
    "* `1 <= n <= 50`"
   ]
  },
  {
   "cell_type": "markdown",
   "metadata": {},
   "source": [
    "**Companies:**\n",
    "![https://i.imgur.com/wMY0S2P.png](https://i.imgur.com/wMY0S2P.png)\n",
    "\n",
    "**Study Notes:**\n",
    "* leetcode solution:\n",
    "* leetcode discussion:"
   ]
  },
  {
   "cell_type": "code",
   "execution_count": 29,
   "metadata": {},
   "outputs": [],
   "source": [
    "n1 = 1\n",
    "n2 = 2"
   ]
  },
  {
   "cell_type": "code",
   "execution_count": 30,
   "metadata": {},
   "outputs": [],
   "source": [
    "class Solution:\n",
    "    def countVowelStrings(self, n: int) -> int:\n",
    "        \n",
    "        return None"
   ]
  },
  {
   "cell_type": "code",
   "execution_count": 32,
   "metadata": {},
   "outputs": [],
   "source": [
    "soln = Solution()\n",
    "soln.countVowelStrings(n1)"
   ]
  },
  {
   "cell_type": "markdown",
   "metadata": {},
   "source": [
    "## Day 18: 1/18/21\n",
    "### 1679. Max Number of K-Sum Pairs\n",
    "MEDIUM  \n",
    "https://leetcode.com/problems/max-number-of-k-sum-pairs/  \n",
    "https://leetcode.com/explore/challenge/card/january-leetcoding-challenge-2021/581/week-3-january-15th-january-21st/3608/"
   ]
  },
  {
   "cell_type": "markdown",
   "metadata": {},
   "source": [
    "You are given an integer array `nums` and an integer `k`.\n",
    "\n",
    "In one operation, you can pick two numbers from the array whose sum equals `k` and remove them from the array.\n",
    "\n",
    "Return *the maximum number of operations you can perform on the array*.\n",
    "\n",
    " \n",
    "\n",
    "**Example 1:**\n",
    "```\n",
    "Input: nums = [1,2,3,4], k = 5\n",
    "Output: 2\n",
    "Explanation: Starting with nums = [1,2,3,4]:\n",
    "- Remove numbers 1 and 4, then nums = [2,3]\n",
    "- Remove numbers 2 and 3, then nums = []\n",
    "There are no more pairs that sum up to 5, hence a total of 2 operations.\n",
    "```\n",
    "**Example 2:**\n",
    "```\n",
    "Input: nums = [3,1,3,4,3], k = 6\n",
    "Output: 1\n",
    "Explanation: Starting with nums = [3,1,3,4,3]:\n",
    "- Remove the first two 3's, then nums = [1,4,3]\n",
    "There are no more pairs that sum up to 6, hence a total of 1 operation.\n",
    "```\n",
    "\n",
    "**Constraints:**\n",
    "\n",
    "* `1 <= nums.length <= 10^5`\n",
    "* `1 <= nums[i] <= 10^9`\n",
    "* `1 <= k <= 10^9`"
   ]
  },
  {
   "cell_type": "markdown",
   "metadata": {},
   "source": [
    "**Companies:**\n",
    "![https://i.imgur.com/ZITLtu6.png](https://i.imgur.com/ZITLtu6.png)\n",
    "\n",
    "**Study Notes:**\n",
    "* new problem\n",
    "* leetcode solution (premium): https://leetcode.com/problems/max-number-of-k-sum-pairs/solution/\n",
    "* leetcode discussion: https://leetcode.com/problems/max-number-of-k-sum-pairs/discuss/1022699/Python-Short-Counter-solution-%2B-Oneliner-explained"
   ]
  },
  {
   "cell_type": "code",
   "execution_count": 6,
   "metadata": {},
   "outputs": [],
   "source": [
    "nums1,k1 = [1,2,3,4], 5\n",
    "nums2,k2 = [3,1,3,4,3], 6"
   ]
  },
  {
   "cell_type": "code",
   "execution_count": 7,
   "metadata": {},
   "outputs": [],
   "source": [
    "class Solution:\n",
    "    def maxOperations(self, nums: List[int], k: int) -> int:\n",
    "        \n",
    "        return None"
   ]
  },
  {
   "cell_type": "code",
   "execution_count": 8,
   "metadata": {},
   "outputs": [],
   "source": [
    "soln = Solution()\n",
    "soln.maxOperations(nums1,k1)"
   ]
  },
  {
   "cell_type": "markdown",
   "metadata": {},
   "source": [
    "## Day 19: 1/19/21\n",
    "### 5. Longest Palindromic Substring\n",
    "MEDIUM  \n",
    "https://leetcode.com/problems/longest-palindromic-substring/  \n",
    "https://leetcode.com/explore/challenge/card/january-leetcoding-challenge-2021/581/week-3-january-15th-january-21st/3609/"
   ]
  },
  {
   "cell_type": "markdown",
   "metadata": {},
   "source": [
    "Given a string `s`, return *the longest palindromic substring in* `s`.\n",
    "\n",
    " \n",
    "\n",
    "**Example 1:**\n",
    "```\n",
    "Input: s = \"babad\"\n",
    "Output: \"bab\"\n",
    "Note: \"aba\" is also a valid answer.\n",
    "```\n",
    "**Example 2:**\n",
    "```\n",
    "Input: s = \"cbbd\"\n",
    "Output: \"bb\"\n",
    "```\n",
    "**Example 3:**\n",
    "```\n",
    "Input: s = \"a\"\n",
    "Output: \"a\"\n",
    "```\n",
    "**Example 4:**\n",
    "```\n",
    "Input: s = \"ac\"\n",
    "Output: \"a\"\n",
    "```\n",
    "\n",
    "**Constraints:**\n",
    "\n",
    "* `1 <= s.length <= 1000`\n",
    "* `s` consist of only digits and English letters (lower-case and/or upper-case),"
   ]
  },
  {
   "cell_type": "markdown",
   "metadata": {},
   "source": [
    "**Companies:**\n",
    "![https://i.imgur.com/yiteM9h.png](https://i.imgur.com/yiteM9h.png)\n",
    "\n",
    "**Study Notes:**\n",
    "* classic problem, used at many places\n",
    "* leetcode solution:\n",
    "* leetcode discussion: https://leetcode.com/problems/longest-palindromic-substring/discuss/1024308/Python-Clean-O(n2)-solution-explained"
   ]
  },
  {
   "cell_type": "code",
   "execution_count": 10,
   "metadata": {},
   "outputs": [],
   "source": [
    "s1 = \"babad\"\n",
    "s2 = \"cbbd\"\n",
    "s3 = 'a'\n",
    "s4 = 'ac'"
   ]
  },
  {
   "cell_type": "code",
   "execution_count": 11,
   "metadata": {},
   "outputs": [],
   "source": [
    "class Solution:\n",
    "    def longestPalindrome(self, s: str) -> str:\n",
    "        \n",
    "        return None"
   ]
  },
  {
   "cell_type": "code",
   "execution_count": 12,
   "metadata": {},
   "outputs": [],
   "source": [
    "soln = Solution()\n",
    "soln.longestPalindrome(s1)"
   ]
  },
  {
   "cell_type": "markdown",
   "metadata": {},
   "source": [
    "## Day 20: 1/20/21\n",
    "### 20. Valid Parentheses\n",
    "EASY  \n",
    "https://leetcode.com/problems/valid-parentheses/  \n",
    "https://leetcode.com/explore/challenge/card/january-leetcoding-challenge-2021/581/week-3-january-15th-january-21st/3610/"
   ]
  },
  {
   "cell_type": "markdown",
   "metadata": {},
   "source": [
    "Given a string `s` containing just the characters `'('`, `')'`, `'{'`, `'}'`, `'['` and `']'`, determine if the input string is valid.\n",
    "\n",
    "An input string is valid if:\n",
    "\n",
    "1. Open brackets must be closed by the same type of brackets.\n",
    "2. Open brackets must be closed in the correct order.\n",
    " \n",
    "\n",
    "**Example 1:**\n",
    "```\n",
    "Input: s = \"()\"\n",
    "Output: true\n",
    "```\n",
    "**Example 2:**\n",
    "```\n",
    "Input: s = \"()[]{}\"\n",
    "Output: true\n",
    "```\n",
    "**Example 3:**\n",
    "```\n",
    "Input: s = \"(]\"\n",
    "Output: false\n",
    "```\n",
    "**Example 4:**\n",
    "```\n",
    "Input: s = \"([)]\"\n",
    "Output: false\n",
    "```\n",
    "**Example 5:**\n",
    "```\n",
    "Input: s = \"{[]}\"\n",
    "Output: true\n",
    "```\n",
    "\n",
    "**Constraints:**\n",
    "\n",
    "* `1 <= s.length <= 104`\n",
    "* `s` consists of parentheses only `'()[]{}'`."
   ]
  },
  {
   "cell_type": "markdown",
   "metadata": {},
   "source": [
    "**Companies:**\n",
    "![https://i.imgur.com/L6UWMxp.png](https://i.imgur.com/L6UWMxp.png)\n",
    "\n",
    "**Study Notes:**\n",
    "* classic, popular problem\n",
    "* concepts: stack\n",
    "* leetcode solution: https://leetcode.com/problems/valid-parentheses/solution/\n",
    "* leetcode discussion: https://leetcode.com/problems/valid-parentheses/discuss/1025791/Python-stack-solution-explained"
   ]
  },
  {
   "cell_type": "code",
   "execution_count": 34,
   "metadata": {},
   "outputs": [],
   "source": [
    "s1 = \"()\"\n",
    "s2 = \"()[]{}\"\n",
    "s3 = \"(]\"\n",
    "s4 = \"([)]\"\n",
    "s5 = \"{[]}\"\n",
    "s6 = '['"
   ]
  },
  {
   "cell_type": "code",
   "execution_count": 35,
   "metadata": {},
   "outputs": [],
   "source": [
    "class Solution:\n",
    "    def isValid(self, s: str) -> bool:\n",
    "        stack = []\n",
    "        brackets = {')':'(',\n",
    "                    '}':'{',\n",
    "                    ']':'['}\n",
    "        for c in s:\n",
    "            if c in brackets:\n",
    "                if stack and stack[-1]==brackets[c]:\n",
    "                    stack.pop()\n",
    "                else:\n",
    "                    return False\n",
    "            else:\n",
    "                stack.append(c)\n",
    "                \n",
    "        return False if stack else True"
   ]
  },
  {
   "cell_type": "code",
   "execution_count": 33,
   "metadata": {},
   "outputs": [
    {
     "data": {
      "text/plain": [
       "False"
      ]
     },
     "execution_count": 33,
     "metadata": {},
     "output_type": "execute_result"
    }
   ],
   "source": [
    "soln = Solution()\n",
    "soln.isValid(s6)"
   ]
  },
  {
   "cell_type": "markdown",
   "metadata": {},
   "source": [
    "## Day 22: 1/21/21\n",
    "### 1673. Find the Most Competitive Subsequence\n",
    "MEDIUM  \n",
    "https://leetcode.com/problems/find-the-most-competitive-subsequence/  \n",
    "https://leetcode.com/explore/challenge/card/january-leetcoding-challenge-2021/581/week-3-january-15th-january-21st/3611/"
   ]
  },
  {
   "cell_type": "markdown",
   "metadata": {},
   "source": [
    "Given an integer array `nums` and a positive integer `k`, return *the most* ***competitive*** *subsequence of* `nums` *of size* `k`.\n",
    "\n",
    "An array's subsequence is a resulting sequence obtained by erasing some (possibly zero) elements from the array.\n",
    "\n",
    "We define that a subsequence `a` is more **competitive** than a subsequence `b` (of the same length) if in the first position where `a` and `b` differ, subsequence `a` has a number **less** than the corresponding number in `b`. For example, `[1,3,4]` is more competitive than `[1,3,5]` because the first position they differ is at the final number, and `4` is less than `5`.\n",
    "\n",
    " \n",
    "\n",
    "**Example 1:**\n",
    "```\n",
    "Input: nums = [3,5,2,6], k = 2\n",
    "Output: [2,6]\n",
    "Explanation: Among the set of every possible subsequence: {[3,5], [3,2], [3,6], [5,2], [5,6], [2,6]}, [2,6] is the most competitive.\n",
    "```\n",
    "**Example 2:**\n",
    "```\n",
    "Input: nums = [2,4,3,3,5,4,9,6], k = 4\n",
    "Output: [2,3,3,4]\n",
    "```\n",
    "\n",
    "**Constraints:**\n",
    "\n",
    "* `1 <= nums.length <= 10^5`\n",
    "* `0 <= nums[i] <= 10^9`\n",
    "* `1 <= k <= nums.length`"
   ]
  },
  {
   "cell_type": "markdown",
   "metadata": {},
   "source": [
    "**Companies:**\n",
    "![https://i.imgur.com/apPs3aJ.png](https://i.imgur.com/apPs3aJ.png)\n",
    "\n",
    "**Study Notes:**\n",
    "* relatively new problem\n",
    "* concepts: dynamic programming\n",
    "* leetcode solution:\n",
    "* leetcode discussion:"
   ]
  },
  {
   "cell_type": "code",
   "execution_count": 5,
   "metadata": {},
   "outputs": [],
   "source": [
    "nums1,k1 = [3,5,2,6], 2\n",
    "nums2,k2 = [2,4,3,3,5,4,9,6], 4"
   ]
  },
  {
   "cell_type": "code",
   "execution_count": 6,
   "metadata": {},
   "outputs": [],
   "source": [
    "class Solution:\n",
    "    def mostCompetitive(self, nums: List[int], k: int) -> List[int]:\n",
    "        \n",
    "        return None"
   ]
  },
  {
   "cell_type": "code",
   "execution_count": 7,
   "metadata": {},
   "outputs": [],
   "source": [
    "soln = Solution()\n",
    "soln.mostCompetitive(nums1,k1)"
   ]
  },
  {
   "cell_type": "markdown",
   "metadata": {},
   "source": [
    "## Day 22: 1/22/21\n",
    "### 1657. Determine if Two Strings Are Close\n",
    "MEDIUM  \n",
    "https://leetcode.com/problems/determine-if-two-strings-are-close/  \n",
    "https://leetcode.com/explore/challenge/card/january-leetcoding-challenge-2021/582/week-4-january-22nd-january-28th/3613/"
   ]
  },
  {
   "cell_type": "markdown",
   "metadata": {},
   "source": [
    "Two strings are considered **close** if you can attain one from the other using the following operations:\n",
    "\n",
    "* Operation 1: Swap any two **existing** characters.\n",
    "    * For example, `abcde -> aecdb`\n",
    "* Operation 2: Transform **every** occurrence of one **existing** character into another **existing** character, and do the same with the other character.\n",
    "    * For example, `aacabb -> bbcbaa` (all `a`'s turn into `b`'s, and all `b`'s turn into `a`'s)\n",
    "\n",
    "You can use the operations on either string as many times as necessary.\n",
    "\n",
    "Given two strings, `word1` and `word2`, return `true` *if* `word1` *and* `word2` *are* ***close***, *and* `false` *otherwise*.\n",
    "\n",
    " \n",
    "\n",
    "**Example 1:**\n",
    "```\n",
    "Input: word1 = \"abc\", word2 = \"bca\"\n",
    "Output: true\n",
    "Explanation: You can attain word2 from word1 in 2 operations.\n",
    "Apply Operation 1: \"abc\" -> \"acb\"\n",
    "Apply Operation 1: \"acb\" -> \"bca\"\n",
    "```\n",
    "**Example 2:**\n",
    "```\n",
    "Input: word1 = \"a\", word2 = \"aa\"\n",
    "Output: false\n",
    "Explanation: It is impossible to attain word2 from word1, or vice versa, in any number of operations.\n",
    "```\n",
    "**Example 3:**\n",
    "```\n",
    "Input: word1 = \"cabbba\", word2 = \"abbccc\"\n",
    "Output: true\n",
    "Explanation: You can attain word2 from word1 in 3 operations.\n",
    "Apply Operation 1: \"cabbba\" -> \"caabbb\"\n",
    "Apply Operation 2: \"caabbb\" -> \"baaccc\"\n",
    "Apply Operation 2: \"baaccc\" -> \"abbccc\"\n",
    "```\n",
    "**Example 4:**\n",
    "```\n",
    "Input: word1 = \"cabbba\", word2 = \"aabbss\"\n",
    "Output: false\n",
    "Explanation: It is impossible to attain word2 from word1, or vice versa, in any amount of operations.\n",
    "```\n",
    "\n",
    "Constraints:\n",
    "\n",
    "* `1 <= word1.length, word2.length <= 10^5`\n",
    "* `word1` and `word2` contain only lowercase English letters."
   ]
  },
  {
   "cell_type": "markdown",
   "metadata": {},
   "source": [
    "**Companies:**\n",
    "![https://i.imgur.com/FKKHLLm.png](https://i.imgur.com/FKKHLLm.png)\n",
    "\n",
    "**Study Notes:**\n",
    "* leetcode solution: https://leetcode.com/problems/determine-if-two-strings-are-close/solution/\n",
    "* leectode discussion: https://leetcode.com/problems/determine-if-two-strings-are-close/discuss/1029064/Python-Oneliner-with-Counter-explained"
   ]
  },
  {
   "cell_type": "code",
   "execution_count": 8,
   "metadata": {},
   "outputs": [],
   "source": [
    "word11,word21 = \"abc\", \"bca\"\n",
    "word12,word22 = 'a', 'aa'\n",
    "word13,word23 = \"cabbba\", \"abbccc\"\n",
    "word14,word24 = \"cabbba\", \"aabbss\""
   ]
  },
  {
   "cell_type": "code",
   "execution_count": 9,
   "metadata": {},
   "outputs": [],
   "source": [
    "class Solution:\n",
    "    def closeStrings(self, word1: str, word2: str) -> bool:\n",
    "        \n",
    "        return None"
   ]
  },
  {
   "cell_type": "code",
   "execution_count": 10,
   "metadata": {},
   "outputs": [],
   "source": [
    "soln = Solution()\n",
    "soln.closeStrings(word11,word12)"
   ]
  },
  {
   "cell_type": "markdown",
   "metadata": {},
   "source": [
    "## Day 23: 1/23/21\n",
    "### 1329. Sort the Matrix Diagonally\n",
    "MEDIUM  \n",
    "https://leetcode.com/problems/sort-the-matrix-diagonally/  \n",
    "https://leetcode.com/explore/challenge/card/january-leetcoding-challenge-2021/582/week-4-january-22nd-january-28th/3614/"
   ]
  },
  {
   "cell_type": "markdown",
   "metadata": {},
   "source": [
    "A **matrix diagonal** is a diagonal line of cells starting from some cell in either the topmost row or leftmost column and going in the bottom-right direction until reaching the matrix's end. For example, the **matrix diagonal** starting from `mat[2][0]`, where `mat` is a `6 x 3` matrix, includes cells `mat[2][0]`, `mat[3][1]`, and `mat[4][2]`.\n",
    "\n",
    "Given an `m x n` matrix `mat` of integers, sort each **matrix diagonal** in ascending order and return *the resulting matrix*.\n",
    "\n",
    " \n",
    "\n",
    "**Example 1:**\n",
    "<img alt=\"\" src=\"https://assets.leetcode.com/uploads/2020/01/21/1482_example_1_2.png\" style=\"width: 500px; height: 198px;\">\n",
    "```\n",
    "Input: mat = [[3,3,1,1],[2,2,1,2],[1,1,1,2]]\n",
    "Output: [[1,1,1,1],[1,2,2,2],[1,2,3,3]]\n",
    "```\n",
    "\n",
    "**Constraints:**\n",
    "\n",
    "* `m == mat.length`\n",
    "* `n == mat[i].length`\n",
    "* `1 <= m, n <= 100`\n",
    "1 <= mat[i][j] <= 100\n"
   ]
  },
  {
   "cell_type": "markdown",
   "metadata": {},
   "source": [
    "**Companies:**\n",
    "![https://i.imgur.com/PH2l9rj.png](https://i.imgur.com/PH2l9rj.png)\n",
    "\n",
    "**Study Notes:**\n",
    "* leetcode solution (premium): https://leetcode.com/problems/sort-the-matrix-diagonally/solution/\n",
    "* leetcode discussion: https://leetcode.com/problems/sort-the-matrix-diagonally/discuss/1030707/Python-Solution-using-defautdict-explained"
   ]
  },
  {
   "cell_type": "code",
   "execution_count": 3,
   "metadata": {},
   "outputs": [],
   "source": [
    "mat1 = [[3,3,1,1],[2,2,1,2],[1,1,1,2]]"
   ]
  },
  {
   "cell_type": "code",
   "execution_count": 4,
   "metadata": {},
   "outputs": [],
   "source": [
    "class Solution:\n",
    "    def diagonalSort(self, mat: List[List[int]]) -> List[List[int]]:\n",
    "        \n",
    "        return None"
   ]
  },
  {
   "cell_type": "code",
   "execution_count": 5,
   "metadata": {},
   "outputs": [],
   "source": [
    "soln = Solution()\n",
    "soln.diagonalSort(mat1)"
   ]
  },
  {
   "cell_type": "markdown",
   "metadata": {},
   "source": [
    "## Day 24: 1/24/21\n",
    "### 23. Merge k Sorted Lists\n",
    "HARD  \n",
    "https://leetcode.com/problems/merge-k-sorted-lists/  \n",
    "https://leetcode.com/explore/challenge/card/january-leetcoding-challenge-2021/582/week-4-january-22nd-january-28th/3615/"
   ]
  },
  {
   "cell_type": "markdown",
   "metadata": {},
   "source": [
    "You are given an array of `k` linked-lists `lists`, each linked-list is sorted in ascending order.\n",
    "\n",
    "*Merge all the linked-lists into one sorted linked-list and return it.*\n",
    "\n",
    " \n",
    "\n",
    "**Example 1:**\n",
    "```\n",
    "Input: lists = [[1,4,5],[1,3,4],[2,6]]\n",
    "Output: [1,1,2,3,4,4,5,6]\n",
    "Explanation: The linked-lists are:\n",
    "[\n",
    "  1->4->5,\n",
    "  1->3->4,\n",
    "  2->6\n",
    "]\n",
    "merging them into one sorted list:\n",
    "1->1->2->3->4->4->5->6\n",
    "```\n",
    "**Example 2:**\n",
    "```\n",
    "Input: lists = []\n",
    "Output: []\n",
    "```\n",
    "**Example 3:**\n",
    "```\n",
    "Input: lists = [[]]\n",
    "Output: []\n",
    "```\n",
    "\n",
    "**Constraints:**\n",
    "\n",
    "* `k == lists.length\n",
    "* `0 <= k <= 10^4`\n",
    "* `0 <= lists[i].length <= 500`\n",
    "* `-10^4 <= lists[i][j] <= 10^4`\n",
    "* `lists[i]` is sorted in **ascending order**.\n",
    "* The sum of `lists[i].length` won't exceed `10^4`."
   ]
  },
  {
   "cell_type": "markdown",
   "metadata": {},
   "source": [
    "**Companies:**\n",
    "![https://i.imgur.com/sT9Gobh.png](https://i.imgur.com/sT9Gobh.png)\n",
    "\n",
    "**Study Notes:**\n",
    "* common hard problem!\n",
    "* concepts: linked list, heap\n",
    "* leetcode solution: https://leetcode.com/problems/merge-k-sorted-lists/solution/\n",
    "* leetcode discussion: https://leetcode.com/problems/merge-k-sorted-lists/discuss/1032723/Python-Heap-solution-explained"
   ]
  },
  {
   "cell_type": "code",
   "execution_count": 38,
   "metadata": {},
   "outputs": [],
   "source": [
    "# Definition for singly-linked list.\n",
    "class ListNode:\n",
    "    def __init__(self, val=0, next=None):\n",
    "        self.val = val\n",
    "        self.next = next\n",
    "        \n",
    "def mk_slist(nodes):\n",
    "    pn = None\n",
    "    for n in nodes[::-1]:\n",
    "        node = ListNode(n)\n",
    "        node.next = pn\n",
    "        pn = node\n",
    "    return node\n",
    "\n",
    "def prnt_list(node):\n",
    "    nodes = []\n",
    "    while node:\n",
    "        nodes.append(node.val)\n",
    "        node = node.next\n",
    "    return nodes\n",
    "\n",
    "nodes1 = [[1,4,5],[1,3,4],[2,6]]\n",
    "lists1 = []\n",
    "for nodes in nodes1:\n",
    "    lists1.append(mk_slist(nodes))\n",
    "lists2 = []\n",
    "lists3 = [[]]"
   ]
  },
  {
   "cell_type": "code",
   "execution_count": 39,
   "metadata": {},
   "outputs": [],
   "source": [
    "class Solution:\n",
    "    def mergeKLists(self, lists: List[ListNode]) -> ListNode:\n",
    "        \n",
    "        return None"
   ]
  },
  {
   "cell_type": "code",
   "execution_count": 40,
   "metadata": {},
   "outputs": [],
   "source": [
    "soln = Solution()\n",
    "soln.mergeKLists(lists1)"
   ]
  },
  {
   "cell_type": "code",
   "execution_count": null,
   "metadata": {},
   "outputs": [],
   "source": []
  },
  {
   "cell_type": "code",
   "execution_count": null,
   "metadata": {},
   "outputs": [],
   "source": []
  },
  {
   "cell_type": "code",
   "execution_count": null,
   "metadata": {},
   "outputs": [],
   "source": []
  },
  {
   "cell_type": "markdown",
   "metadata": {},
   "source": [
    "## Day 27: 1/26/21\n",
    "### 1631. Path With Minimum Effort\n",
    "MEDIUM  \n",
    "https://leetcode.com/problems/path-with-minimum-effort/  \n",
    "https://leetcode.com/explore/challenge/card/january-leetcoding-challenge-2021/582/week-4-january-22nd-january-28th/3617/"
   ]
  },
  {
   "cell_type": "markdown",
   "metadata": {},
   "source": [
    "You are a hiker preparing for an upcoming hike. You are given `heights`, a 2D array of size `rows x columns`, where `heights[row][col]` represents the height of cell `(row, col)`. You are situated in the top-left cell, `(0, 0)`, and you hope to travel to the bottom-right cell, `(rows-1, columns-1)` (i.e., **0-indexed**). You can move **up**, **down**, **left**, or **right**, and you wish to find a route that requires the minimum **effort**.\n",
    "\n",
    "A route's **effort** is the **maximum absolute difference** in heights between two consecutive cells of the route.\n",
    "\n",
    "Return *the minimum* ***effort*** *required to travel from the top-left cell to the bottom-right cell*.\n",
    "\n",
    " \n",
    "\n",
    "**Example 1:**\n",
    "<img alt=\"\" src=\"https://assets.leetcode.com/uploads/2020/10/04/ex1.png\" style=\"width: 300px; height: 300px;\">\n",
    "```\n",
    "Input: heights = [[1,2,2],[3,8,2],[5,3,5]]\n",
    "Output: 2\n",
    "Explanation: The route of [1,3,5,3,5] has a maximum absolute difference of 2 in consecutive cells.\n",
    "This is better than the route of [1,2,2,2,5], where the maximum absolute difference is 3.\n",
    "```\n",
    "**Example 2:**\n",
    "<img alt=\"\" src=\"https://assets.leetcode.com/uploads/2020/10/04/ex3.png\" style=\"width: 300px; height: 300px;\">\n",
    "```\n",
    "Input: heights = [[1,2,3],[3,8,4],[5,3,5]]\n",
    "Output: 1\n",
    "Explanation: The route of [1,2,3,4,5] has a maximum absolute difference of 1 in consecutive cells, which is better than route [1,3,5,3,5].\n",
    "```\n",
    "Example 3:\n",
    "<img alt=\"\" src=\"https://assets.leetcode.com/uploads/2020/10/04/ex3.png\" style=\"width: 300px; height: 300px;\">\n",
    "```\n",
    "Input: heights = [[1,2,1,1,1],[1,2,1,2,1],[1,2,1,2,1],[1,2,1,2,1],[1,1,1,2,1]]\n",
    "Output: 0\n",
    "Explanation: This route does not require any effort.\n",
    "``` \n",
    "\n",
    "**Constraints:**\n",
    "\n",
    "* `rows == heights.length`\n",
    "* `columns == heights[i].length`\n",
    "* `1 <= rows, columns <= 100`\n",
    "* `1 <= heights[i][j] <= 106`"
   ]
  },
  {
   "cell_type": "markdown",
   "metadata": {},
   "source": [
    "**Companies:**\n",
    "![https://i.imgur.com/14IkKJG.png](https://i.imgur.com/14IkKJG.png)\n",
    "\n",
    "**Study Notes:**\n",
    "* leetcode solution (premium): https://leetcode.com/problems/path-with-minimum-effort/solution/\n",
    "* leetcode discussion: https://leetcode.com/problems/path-with-minimum-effort/discuss/1035940/Python-dfs-with-binary-search-explained"
   ]
  },
  {
   "cell_type": "code",
   "execution_count": 49,
   "metadata": {},
   "outputs": [],
   "source": [
    "heights1 = [[1,2,2],[3,8,2],[5,3,5]]\n",
    "heights2 = [[1,2,3],[3,8,4],[5,3,5]]\n",
    "heights3 = [[1,2,1,1,1],[1,2,1,2,1],[1,2,1,2,1],[1,2,1,2,1],[1,1,1,2,1]]"
   ]
  },
  {
   "cell_type": "code",
   "execution_count": 50,
   "metadata": {},
   "outputs": [],
   "source": [
    "class Solution:\n",
    "    def minimumEffortPath(self, heights: List[List[int]]) -> int:\n",
    "        \n",
    "        return None"
   ]
  },
  {
   "cell_type": "code",
   "execution_count": 48,
   "metadata": {},
   "outputs": [],
   "source": [
    "soln = Solution()\n",
    "soln.minimumEffortPath(heights1)"
   ]
  },
  {
   "cell_type": "markdown",
   "metadata": {},
   "source": [
    "## Day 27: 1/27/21\n",
    "### 1680. Concatenation of Consecutive Binary Numbers\n",
    "MEDIUM  \n",
    "https://leetcode.com/problems/concatenation-of-consecutive-binary-numbers/  \n",
    "https://leetcode.com/explore/challenge/card/january-leetcoding-challenge-2021/582/week-4-january-22nd-january-28th/3618/"
   ]
  },
  {
   "cell_type": "markdown",
   "metadata": {},
   "source": [
    "Given an integer `n`, return *the* ***decimal value*** *of the binary string formed by concatenating the binary representations of* `1` *to* `n` *in order,* ***modulo*** `10^9 + 7`.\n",
    "\n",
    " \n",
    "\n",
    "**Example 1:**\n",
    "```\n",
    "Input: n = 1\n",
    "Output: 1\n",
    "Explanation: \"1\" in binary corresponds to the decimal value 1. \n",
    "```\n",
    "**Example 2:**\n",
    "```\n",
    "Input: n = 3\n",
    "Output: 27\n",
    "Explanation: In binary, 1, 2, and 3 corresponds to \"1\", \"10\", and \"11\".\n",
    "After concatenating them, we have \"11011\", which corresponds to the decimal value 27.\n",
    "```\n",
    "**Example 3:**\n",
    "```\n",
    "Input: n = 12\n",
    "Output: 505379714\n",
    "Explanation: The concatenation results in \"1101110010111011110001001101010111100\".\n",
    "The decimal value of that is 118505380540.\n",
    "After modulo 10^9 + 7, the result is 505379714.\n",
    "```\n",
    "\n",
    "**Constraints:**\n",
    "\n",
    "* `1 <= n <= 10^5`"
   ]
  },
  {
   "cell_type": "markdown",
   "metadata": {},
   "source": [
    "**Companies:**\n",
    "![https://i.imgur.com/AUKlo2y.png](https://i.imgur.com/AUKlo2y.png)\n",
    "\n",
    "**Study Notes:**\n",
    "* leetcode solution (premium): https://leetcode.com/problems/concatenation-of-consecutive-binary-numbers/solution/\n",
    "* leetcode discussion: https://leetcode.com/problems/concatenation-of-consecutive-binary-numbers/discuss/1037323/Python-O(n)-and-O(log2-n)-fast-and-short-explained"
   ]
  },
  {
   "cell_type": "code",
   "execution_count": 2,
   "metadata": {},
   "outputs": [],
   "source": [
    "n1 = 1\n",
    "n2 = 3\n",
    "n3 = 12"
   ]
  },
  {
   "cell_type": "code",
   "execution_count": 23,
   "metadata": {},
   "outputs": [],
   "source": [
    "class Solution:\n",
    "    def concatenatedBinary(self, n: int) -> int:\n",
    "        cat = ''\n",
    "        for i in range(n+1):\n",
    "            cat += bin(i)[2:]\n",
    "        \n",
    "        return int(cat,2)%(10**9+7)"
   ]
  },
  {
   "cell_type": "code",
   "execution_count": 24,
   "metadata": {},
   "outputs": [
    {
     "data": {
      "text/plain": [
       "505379714"
      ]
     },
     "execution_count": 24,
     "metadata": {},
     "output_type": "execute_result"
    }
   ],
   "source": [
    "soln = Solution()\n",
    "soln.concatenatedBinary(n3)"
   ]
  },
  {
   "cell_type": "code",
   "execution_count": null,
   "metadata": {},
   "outputs": [],
   "source": []
  }
 ],
 "metadata": {
  "kernelspec": {
   "display_name": "base (Python 3.7.7)",
   "language": "python",
   "name": "base"
  },
  "language_info": {
   "codemirror_mode": {
    "name": "ipython",
    "version": 3
   },
   "file_extension": ".py",
   "mimetype": "text/x-python",
   "name": "python",
   "nbconvert_exporter": "python",
   "pygments_lexer": "ipython3",
   "version": "3.7.7"
  }
 },
 "nbformat": 4,
 "nbformat_minor": 4
}
