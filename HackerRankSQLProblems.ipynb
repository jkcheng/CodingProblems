{
 "cells": [
  {
   "cell_type": "markdown",
   "metadata": {},
   "source": [
    "## HackerRank SQL Problems\n",
    "solved in both SQL and pandas"
   ]
  },
  {
   "cell_type": "markdown",
   "metadata": {},
   "source": [
    "## 1. Revising the Select Query I\n",
    "\n",
    "Query all columns for all American cities in **CITY** with populations larger than 100000. The CountryCode for America is USA.\n",
    "\n",
    "**Input Format**\n",
    "\n",
    "The **CITY** table is described as follows: ![Problem1Table](https://s3.amazonaws.com/hr-challenge-images/8137/1449729804-f21d187d0f-CITY.jpg)"
   ]
  },
  {
   "cell_type": "markdown",
   "metadata": {},
   "source": [
    "mysql solution\n",
    "```mysql\n",
    "select * \n",
    "from CITY\n",
    "where countrycode='USA' and population>100000\n",
    "```"
   ]
  },
  {
   "cell_type": "markdown",
   "metadata": {},
   "source": [
    "pandas\n",
    "```python\n",
    "df=read.csv('table.csv')\n",
    "df.loc[(df['population']>100000)&(df['countrycode']=='USA')]\n",
    "```"
   ]
  },
  {
   "cell_type": "markdown",
   "metadata": {},
   "source": [
    "## 2. Revising the Select Query II\n",
    "\n",
    "Query the names of all American cities in **CITY** with populations larger than 120000. The CountryCode for America is USA.\n",
    "\n",
    "**Input Format**\n",
    "\n",
    "The **CITY** table is described as follows: ![Problem1Table](https://s3.amazonaws.com/hr-challenge-images/8137/1449729804-f21d187d0f-CITY.jpg)"
   ]
  },
  {
   "cell_type": "markdown",
   "metadata": {},
   "source": [
    "mysql solution\n",
    "```mysql\n",
    "select distinct name\n",
    "from CITY\n",
    "where countrycode='USA' and population>120000\n",
    "```"
   ]
  },
  {
   "cell_type": "markdown",
   "metadata": {},
   "source": [
    "pandas\n",
    "```python\n",
    "df=read.csv('table.csv')\n",
    "df.loc[(df['population']>120000)&(df['countrycode']=='USA'),'name'].unique()\n",
    "```"
   ]
  },
  {
   "cell_type": "markdown",
   "metadata": {},
   "source": [
    "## 3. Select By ID\n",
    "\n",
    "Query all columns for a city in CITY with the ID 1661.\n",
    "\n",
    "**Input Format**\n",
    "\n",
    "The **CITY** table is described as follows: ![Problem1Table](https://s3.amazonaws.com/hr-challenge-images/8137/1449729804-f21d187d0f-CITY.jpg)"
   ]
  },
  {
   "cell_type": "markdown",
   "metadata": {},
   "source": [
    "mysql solution\n",
    "```mysql\n",
    "select *\n",
    "from CITY\n",
    "where id=1661\n",
    "```"
   ]
  },
  {
   "cell_type": "markdown",
   "metadata": {},
   "source": [
    "pandas solution\n",
    "```python\n",
    "df=read.csv('table.csv',index_col='id')\n",
    "df.loc[1661]\n",
    "```"
   ]
  },
  {
   "cell_type": "markdown",
   "metadata": {},
   "source": [
    "## 4. Japanese Cities' Attributes\n",
    "\n",
    "Query all attributes of every Japanese city in the CITY table. The COUNTRYCODE for Japan is JPN\n",
    "\n",
    "**Input Format**\n",
    "\n",
    "The **CITY** table is described as follows: ![Problem1Table](https://s3.amazonaws.com/hr-challenge-images/8137/1449729804-f21d187d0f-CITY.jpg)"
   ]
  },
  {
   "cell_type": "markdown",
   "metadata": {},
   "source": [
    "mysql solution\n",
    "```mysql\n",
    "select *\n",
    "from CITY\n",
    "where countrycode='JPN'\n",
    "```"
   ]
  },
  {
   "cell_type": "markdown",
   "metadata": {},
   "source": [
    "pandas\n",
    "```python\n",
    "df=read.csv('table.csv')\n",
    "df.loc[(df['countrycode']=='JPN')]\n",
    "```"
   ]
  },
  {
   "cell_type": "markdown",
   "metadata": {},
   "source": [
    "## 5. Japanese Cities' Names\n",
    "\n",
    "Query the names of all the Japanese cities in the CITY table. The COUNTRYCODE for Japan is JPN.\n",
    "\n",
    "**Input Format**\n",
    "\n",
    "The **CITY** table is described as follows: ![Problem1Table](https://s3.amazonaws.com/hr-challenge-images/8137/1449729804-f21d187d0f-CITY.jpg)"
   ]
  },
  {
   "cell_type": "markdown",
   "metadata": {},
   "source": [
    "mysql solution\n",
    "```mysql\n",
    "select distinct name\n",
    "from CITY\n",
    "where countrycode='JPN'\n",
    "```"
   ]
  },
  {
   "cell_type": "markdown",
   "metadata": {},
   "source": [
    "pandas\n",
    "```python\n",
    "df=read.csv('table.csv')\n",
    "df.loc[(df['countrycode']=='JPN'),'name'].unique()\n",
    "```"
   ]
  },
  {
   "cell_type": "markdown",
   "metadata": {},
   "source": [
    "## 6. Weather Observation Station 1\n",
    "\n",
    "Query a list of CITY and STATE from the **STATION** table.\n",
    "\n",
    "**Input Format**\n",
    "\n",
    "The **STATION** table is described as follows: ![StationTable](https://s3.amazonaws.com/hr-challenge-images/9336/1449345840-5f0a551030-Station.jpg)\n",
    "where LAT_N is the northern latitude and LONG_W is the western longitude."
   ]
  },
  {
   "cell_type": "markdown",
   "metadata": {},
   "source": [
    "mysql\n",
    "```mysql\n",
    "select city,state\n",
    "from station\n",
    "```"
   ]
  },
  {
   "cell_type": "markdown",
   "metadata": {},
   "source": [
    "## 7. Weather Observation Station 3\n",
    "\n",
    "Query a list of CITY names from STATION with even ID numbers only. You may print the results in any order, but must exclude duplicates from your answer.\n",
    "\n",
    "**Input Format**\n",
    "\n",
    "The **STATION** table is described as follows: ![StationTable](https://s3.amazonaws.com/hr-challenge-images/9336/1449345840-5f0a551030-Station.jpg)\n",
    "where LAT_N is the northern latitude and LONG_W is the western longitude."
   ]
  },
  {
   "cell_type": "markdown",
   "metadata": {},
   "source": [
    "mysql\n",
    "```mysql\n",
    "select distinct city\n",
    "from station\n",
    "where id%2=0\n",
    "```"
   ]
  },
  {
   "cell_type": "markdown",
   "metadata": {},
   "source": [
    "## 7. Weather Observation Station 4\n",
    "\n",
    "Let N be the number of CITY entries in STATION, and let N' be the number of distinct CITY names in STATION; query the value of N-N' from STATION. In other words, find the difference between the total number of CITY entries in the table and the number of distinct CITY entries in the table.\n",
    "\n",
    "**Input Format**\n",
    "\n",
    "The **STATION** table is described as follows: ![StationTable](https://s3.amazonaws.com/hr-challenge-images/9336/1449345840-5f0a551030-Station.jpg)\n",
    "where LAT_N is the northern latitude and LONG_W is the western longitude."
   ]
  },
  {
   "cell_type": "markdown",
   "metadata": {},
   "source": [
    "mysql\n",
    "```mysql\n",
    "select count(city)-count(distinct city)\n",
    "from station\n",
    "```"
   ]
  },
  {
   "cell_type": "markdown",
   "metadata": {},
   "source": [
    "pandas\n",
    "```python\n",
    "df=read.csv('table.csv',index_col='id')\n",
    "df.shape[0]-df['city'].nunique()\n",
    "```"
   ]
  },
  {
   "cell_type": "markdown",
   "metadata": {},
   "source": [
    "## 8. Weather Observation Station 5\n",
    "\n",
    "Query the two cities in STATION with the shortest and longest CITY names, as well as their respective lengths (i.e.: number of characters in the name). If there is more than one smallest or largest city, choose the one that comes first when ordered alphabetically.\n",
    "\n",
    "**Input Format**\n",
    "\n",
    "The **STATION** table is described as follows: ![StationTable](https://s3.amazonaws.com/hr-challenge-images/9336/1449345840-5f0a551030-Station.jpg)\n",
    "where LAT_N is the northern latitude and LONG_W is the western longitude."
   ]
  },
  {
   "cell_type": "markdown",
   "metadata": {},
   "source": [
    "mysql\n",
    "```mysql\n",
    "(select city, char_length(city) as length from station order by char_length(city),city asc limit 1)\n",
    "union all\n",
    "(select city, char_length(city) as length from station order by char_length(city) desc,city asc limit 1)\n",
    "```"
   ]
  },
  {
   "cell_type": "markdown",
   "metadata": {},
   "source": [
    "pandas\n",
    "```python\n",
    "df=read.csv('table.csv',index_col='id')\n",
    "df['namelength']=df['city'].str.len()\n",
    "df=df.sort_values(['namelength','city'],ascending=[False,True])\n",
    "df.iloc[[0,-1]]\n",
    "```"
   ]
  },
  {
   "cell_type": "markdown",
   "metadata": {},
   "source": [
    "## 9. Weather Observation Station 6\n",
    "\n",
    "Query the list of CITY names starting with vowels (i.e., a, e, i, o, or u) from STATION. Your result cannot contain duplicates.\n",
    "\n",
    "**Input Format**\n",
    "\n",
    "The **STATION** table is described as follows: ![StationTable](https://s3.amazonaws.com/hr-challenge-images/9336/1449345840-5f0a551030-Station.jpg)\n",
    "where LAT_N is the northern latitude and LONG_W is the western longitude."
   ]
  },
  {
   "cell_type": "markdown",
   "metadata": {},
   "source": [
    "mysql\n",
    "```mysql\n",
    "select distinct city\n",
    "from station\n",
    "where left(city,1) in ('a','e','i','o','u')\n",
    "```"
   ]
  },
  {
   "cell_type": "markdown",
   "metadata": {},
   "source": [
    "pandas\n",
    "```python\n",
    "df=read.csv('table.csv',index_col='id')\n",
    "df.loc[df['city'].str[0].isin(['a','e','i','o','u']),'city'].unique()\n",
    "```"
   ]
  },
  {
   "cell_type": "markdown",
   "metadata": {},
   "source": [
    "## 10. Weather Observation Station 7\n",
    "\n",
    "Query the list of CITY names ending with vowels (a, e, i, o, u) from STATION. Your result cannot contain duplicates.\n",
    "\n",
    "**Input Format**\n",
    "\n",
    "The **STATION** table is described as follows: ![StationTable](https://s3.amazonaws.com/hr-challenge-images/9336/1449345840-5f0a551030-Station.jpg)\n",
    "where LAT_N is the northern latitude and LONG_W is the western longitude."
   ]
  },
  {
   "cell_type": "markdown",
   "metadata": {},
   "source": [
    "mysql\n",
    "```mysql\n",
    "select distinct city\n",
    "from station\n",
    "where right(city,1) in ('a','e','i','o','u')\n",
    "```"
   ]
  },
  {
   "cell_type": "markdown",
   "metadata": {},
   "source": [
    "pandas\n",
    "```python\n",
    "df=read.csv('table.csv',index_col='id')\n",
    "df.loc[df['city'].str[-1].isin(['a','e','i','o','u']),'city'].unique()\n",
    "```"
   ]
  },
  {
   "cell_type": "markdown",
   "metadata": {},
   "source": [
    "## 11. Weather Observation Station 8\n",
    "\n",
    "Query the list of CITY names from STATION which have vowels (i.e., a, e, i, o, and u) as both their first and last characters. Your result cannot contain duplicates.\n",
    "\n",
    "**Input Format**\n",
    "\n",
    "The **STATION** table is described as follows: ![StationTable](https://s3.amazonaws.com/hr-challenge-images/9336/1449345840-5f0a551030-Station.jpg)\n",
    "where LAT_N is the northern latitude and LONG_W is the western longitude."
   ]
  },
  {
   "cell_type": "markdown",
   "metadata": {},
   "source": [
    "mysql\n",
    "```mysql\n",
    "select distinct city\n",
    "from station\n",
    "where right(city,1) in ('a','e','i','o','u') and left(city,1) in ('a','e','i','o','u')\n",
    "```"
   ]
  },
  {
   "cell_type": "markdown",
   "metadata": {},
   "source": [
    "pandas\n",
    "```python\n",
    "df=read.csv('table.csv',index_col='id')\n",
    "startswithvowel=df['city'].str[0].isin(['a','e','i','o','u'])\n",
    "endswithvowel=df['city'].str[-1].isin(['a','e','i','o','u'])\n",
    "df.loc[(startswithvowel)&(endswithvowel,'city'].unique()\n",
    "```"
   ]
  },
  {
   "cell_type": "markdown",
   "metadata": {},
   "source": [
    "## 12. Weather Observation Station 9\n",
    "\n",
    "Query the list of CITY names from STATION that do not start with vowels. Your result cannot contain duplicates.\n",
    "\n",
    "**Input Format**\n",
    "\n",
    "The **STATION** table is described as follows: ![StationTable](https://s3.amazonaws.com/hr-challenge-images/9336/1449345840-5f0a551030-Station.jpg)\n",
    "where LAT_N is the northern latitude and LONG_W is the western longitude."
   ]
  },
  {
   "cell_type": "markdown",
   "metadata": {},
   "source": [
    "mysql\n",
    "```mysql\n",
    "select distinct city\n",
    "from station\n",
    "where left(city,1) not in ('a','e','i','o','u')\n",
    "```"
   ]
  },
  {
   "cell_type": "markdown",
   "metadata": {},
   "source": [
    "pandas\n",
    "```python\n",
    "df=read.csv('table.csv',index_col='id')\n",
    "startswithvowel=df['city'].str[0].isin(['a','e','i','o','u'])\n",
    "df.loc[(~startswithvowel),'city'].unique()\n",
    "```"
   ]
  },
  {
   "cell_type": "markdown",
   "metadata": {},
   "source": [
    "## 13. Weather Observation Station 10\n",
    "\n",
    "Query the list of CITY names from STATION that do not end with vowels. Your result cannot contain duplicates.\n",
    "\n",
    "**Input Format**\n",
    "\n",
    "The **STATION** table is described as follows: ![StationTable](https://s3.amazonaws.com/hr-challenge-images/9336/1449345840-5f0a551030-Station.jpg)\n",
    "where LAT_N is the northern latitude and LONG_W is the western longitude."
   ]
  },
  {
   "cell_type": "markdown",
   "metadata": {},
   "source": [
    "mysql\n",
    "```mysql\n",
    "select distinct city\n",
    "from station\n",
    "where right(city,1) not in ('a','e','i','o','u')\n",
    "```"
   ]
  },
  {
   "cell_type": "markdown",
   "metadata": {},
   "source": [
    "pandas\n",
    "```python\n",
    "df=read.csv('table.csv',index_col='id')\n",
    "endswithvowel=df['city'].str[-1].isin(['a','e','i','o','u'])\n",
    "df.loc[(~endswithvowel),'city'].unique()\n",
    "```"
   ]
  },
  {
   "cell_type": "markdown",
   "metadata": {},
   "source": [
    "## 14. Weather Observation Station 11\n",
    "\n",
    "Query the list of CITY names from STATION that either do not start with vowels or do not end with vowels. Your result cannot contain duplicates.\n",
    "\n",
    "**Input Format**\n",
    "\n",
    "The **STATION** table is described as follows: ![StationTable](https://s3.amazonaws.com/hr-challenge-images/9336/1449345840-5f0a551030-Station.jpg)\n",
    "where LAT_N is the northern latitude and LONG_W is the western longitude."
   ]
  },
  {
   "cell_type": "markdown",
   "metadata": {},
   "source": [
    "mysql\n",
    "```mysql\n",
    "select distinct city\n",
    "from station\n",
    "where right(city,1) not in ('a','e','i','o','u') or left(city,1) not in ('a','e','i','o','u')\n",
    "```"
   ]
  },
  {
   "cell_type": "markdown",
   "metadata": {},
   "source": [
    "pandas\n",
    "```python\n",
    "df=read.csv('table.csv',index_col='id')\n",
    "startswithvowel=df['city'].str[0].isin(['a','e','i','o','u'])\n",
    "endswithvowel=df['city'].str[-1].isin(['a','e','i','o','u'])\n",
    "df.loc[(~startswithvowel)|(~endswithvowel,'city'].unique()\n",
    "```"
   ]
  },
  {
   "cell_type": "markdown",
   "metadata": {},
   "source": [
    "## 15. Weather Observation Station 12\n",
    "\n",
    "Query the list of CITY names from STATION that do not start with vowels and do not end with vowels. Your result cannot contain duplicates.\n",
    "\n",
    "**Input Format**\n",
    "\n",
    "The **STATION** table is described as follows: ![StationTable](https://s3.amazonaws.com/hr-challenge-images/9336/1449345840-5f0a551030-Station.jpg)\n",
    "where LAT_N is the northern latitude and LONG_W is the western longitude."
   ]
  },
  {
   "cell_type": "markdown",
   "metadata": {},
   "source": [
    "mysql\n",
    "```mysql\n",
    "select distinct city\n",
    "from station\n",
    "where right(city,1) not in ('a','e','i','o','u') and left(city,1) not in ('a','e','i','o','u')\n",
    "```"
   ]
  },
  {
   "cell_type": "markdown",
   "metadata": {},
   "source": [
    "pandas\n",
    "```python\n",
    "df=read.csv('table.csv',index_col='id')\n",
    "startswithvowel=df['city'].str[0].isin(['a','e','i','o','u'])\n",
    "endswithvowel=df['city'].str[-1].isin(['a','e','i','o','u'])\n",
    "df.loc[(~startswithvowel)&(~endswithvowel,'city'].unique()\n",
    "```"
   ]
  },
  {
   "cell_type": "markdown",
   "metadata": {},
   "source": [
    "## 16. Higher Than 75 Marks\n",
    "\n",
    "Query the Name of any student in STUDENTS who scored higher than 75 Marks. Order your output by the last three characters of each name. If two or more students both have names ending in the same last three characters (i.e.: Bobby, Robby, etc.), secondary sort them by ascending ID.\n",
    "\n",
    "**Input Format**\n",
    "\n",
    "The STUDENTS table is described as follows: ![StudentsTable](https://s3.amazonaws.com/hr-challenge-images/12896/1443815243-94b941f556-1.png)\n",
    "\n",
    "The Name column only contains uppercase (A-Z) and lowercase (a-z) letters.\n",
    "\n",
    "**Sample Input**\n",
    "![SampleInput](https://s3.amazonaws.com/hr-challenge-images/12896/1443815209-cf4b260993-2.png)"
   ]
  },
  {
   "cell_type": "markdown",
   "metadata": {},
   "source": [
    "mysql\n",
    "```mysql\n",
    "select Name\n",
    "from students\n",
    "where Marks>75\n",
    "order by right(Name,3),id\n",
    "```"
   ]
  },
  {
   "cell_type": "markdown",
   "metadata": {},
   "source": [
    "pandas\n",
    "```python\n",
    "df=read.csv('table.csv',index_col='id')\n",
    "df['substring']=df['Name'].str[-3:]\n",
    "df.index.rename('indexname',inplace=True)\n",
    "df=df.sort_values(['substring','indexname'])\n",
    "df.loc[(df['Marks']>75),'Name']\n",
    "```"
   ]
  },
  {
   "cell_type": "markdown",
   "metadata": {},
   "source": [
    "## 17. Employee Names\n",
    "\n",
    "Write a query that prints a list of employee names (i.e.: the name attribute) from the Employee table in alphabetical order.\n",
    "\n",
    "Input Format\n",
    "\n",
    "The Employee table containing employee data for a company is described as follows: ![EmployeeTable](https://s3.amazonaws.com/hr-challenge-images/19629/1458557872-4396838885-ScreenShot2016-03-21at4.27.13PM.png)\n",
    "\n",
    "where employee_id is an employee's ID number, name is their name, months is the total number of months they've been working for the company, and salary is their monthly salary.\n",
    "\n",
    "**Sample Input**\n",
    "![SampleInput](https://s3.amazonaws.com/hr-challenge-images/19629/1458558202-9a8721e44b-ScreenShot2016-03-21at4.32.59PM.png)\n",
    "\n",
    "**Sample Output**\n",
    "```\n",
    "Angela\n",
    "Bonnie\n",
    "Frank\n",
    "Joe\n",
    "Kimberly\n",
    "Lisa\n",
    "Michael\n",
    "Patrick\n",
    "Rose\n",
    "Todd\n",
    "```"
   ]
  },
  {
   "cell_type": "markdown",
   "metadata": {},
   "source": [
    "mysql\n",
    "```mysql\n",
    "select name\n",
    "from employee order by name asc\n",
    "```"
   ]
  },
  {
   "cell_type": "markdown",
   "metadata": {},
   "source": [
    "## 18. Employee Salaries\n",
    "\n",
    "Write a query that prints a list of employee names (i.e.: the name attribute) for employees in Employee having a salary greater than $20000 per month who have been employees for less than 10 months. Sort your result by ascending employee_id.\n",
    "\n",
    "Input Format\n",
    "\n",
    "The Employee table containing employee data for a company is described as follows: ![EmployeeTable](https://s3.amazonaws.com/hr-challenge-images/19629/1458557872-4396838885-ScreenShot2016-03-21at4.27.13PM.png)\n",
    "\n",
    "where employee_id is an employee's ID number, name is their name, months is the total number of months they've been working for the company, and salary is their monthly salary.\n",
    "\n",
    "**Sample Input**\n",
    "![SampleInput](https://s3.amazonaws.com/hr-challenge-images/19629/1458558202-9a8721e44b-ScreenShot2016-03-21at4.32.59PM.png)\n",
    "\n",
    "**Sample Output**\n",
    "```\n",
    "Angela\n",
    "Bonnie\n",
    "Frank\n",
    "Joe\n",
    "Kimberly\n",
    "Lisa\n",
    "Michael\n",
    "Patrick\n",
    "Rose\n",
    "Todd\n",
    "```"
   ]
  },
  {
   "cell_type": "code",
   "execution_count": null,
   "metadata": {
    "collapsed": true
   },
   "outputs": [],
   "source": []
  },
  {
   "cell_type": "code",
   "execution_count": null,
   "metadata": {
    "collapsed": true
   },
   "outputs": [],
   "source": []
  },
  {
   "cell_type": "code",
   "execution_count": null,
   "metadata": {
    "collapsed": true
   },
   "outputs": [],
   "source": []
  },
  {
   "cell_type": "code",
   "execution_count": 40,
   "metadata": {},
   "outputs": [
    {
     "data": {
      "text/plain": [
       "array([], dtype=object)"
      ]
     },
     "execution_count": 40,
     "metadata": {},
     "output_type": "execute_result"
    }
   ],
   "source": [
    "df.loc[(df[0].str[-1].isin(['a','e','i','o','u']))&(df[0].str[0].isin(['a','e','i','o','u'])),0].unique()"
   ]
  },
  {
   "cell_type": "code",
   "execution_count": 47,
   "metadata": {},
   "outputs": [
    {
     "data": {
      "text/html": [
       "<div>\n",
       "<style scoped>\n",
       "    .dataframe tbody tr th:only-of-type {\n",
       "        vertical-align: middle;\n",
       "    }\n",
       "\n",
       "    .dataframe tbody tr th {\n",
       "        vertical-align: top;\n",
       "    }\n",
       "\n",
       "    .dataframe thead th {\n",
       "        text-align: right;\n",
       "    }\n",
       "</style>\n",
       "<table border=\"1\" class=\"dataframe\">\n",
       "  <thead>\n",
       "    <tr style=\"text-align: right;\">\n",
       "      <th></th>\n",
       "      <th>0</th>\n",
       "      <th>namelength</th>\n",
       "    </tr>\n",
       "  </thead>\n",
       "  <tbody>\n",
       "    <tr>\n",
       "      <th>1</th>\n",
       "      <td>asdkjhg</td>\n",
       "      <td>7</td>\n",
       "    </tr>\n",
       "    <tr>\n",
       "      <th>0</th>\n",
       "      <td>asdlkjg</td>\n",
       "      <td>7</td>\n",
       "    </tr>\n",
       "    <tr>\n",
       "      <th>2</th>\n",
       "      <td>asdlkfjwlektjlhk</td>\n",
       "      <td>16</td>\n",
       "    </tr>\n",
       "    <tr>\n",
       "      <th>3</th>\n",
       "      <td>California</td>\n",
       "      <td>10</td>\n",
       "    </tr>\n",
       "  </tbody>\n",
       "</table>\n",
       "</div>"
      ],
      "text/plain": [
       "                  0  namelength\n",
       "1           asdkjhg           7\n",
       "0           asdlkjg           7\n",
       "2  asdlkfjwlektjlhk          16\n",
       "3        California          10"
      ]
     },
     "execution_count": 47,
     "metadata": {},
     "output_type": "execute_result"
    }
   ],
   "source": [
    "df.loc[df[0].str[-3:].sort_values().index]"
   ]
  },
  {
   "cell_type": "code",
   "execution_count": 50,
   "metadata": {},
   "outputs": [],
   "source": [
    "df['substring']=df[0].str[-3:]"
   ]
  },
  {
   "cell_type": "code",
   "execution_count": 61,
   "metadata": {},
   "outputs": [
    {
     "data": {
      "text/html": [
       "<div>\n",
       "<style scoped>\n",
       "    .dataframe tbody tr th:only-of-type {\n",
       "        vertical-align: middle;\n",
       "    }\n",
       "\n",
       "    .dataframe tbody tr th {\n",
       "        vertical-align: top;\n",
       "    }\n",
       "\n",
       "    .dataframe thead th {\n",
       "        text-align: right;\n",
       "    }\n",
       "</style>\n",
       "<table border=\"1\" class=\"dataframe\">\n",
       "  <thead>\n",
       "    <tr style=\"text-align: right;\">\n",
       "      <th></th>\n",
       "      <th>0</th>\n",
       "      <th>namelength</th>\n",
       "      <th>substring</th>\n",
       "    </tr>\n",
       "    <tr>\n",
       "      <th>indexname</th>\n",
       "      <th></th>\n",
       "      <th></th>\n",
       "      <th></th>\n",
       "    </tr>\n",
       "  </thead>\n",
       "  <tbody>\n",
       "    <tr>\n",
       "      <th>1</th>\n",
       "      <td>asdkjhg</td>\n",
       "      <td>7</td>\n",
       "      <td>jhg</td>\n",
       "    </tr>\n",
       "    <tr>\n",
       "      <th>0</th>\n",
       "      <td>asdlkjg</td>\n",
       "      <td>7</td>\n",
       "      <td>kjg</td>\n",
       "    </tr>\n",
       "    <tr>\n",
       "      <th>2</th>\n",
       "      <td>asdlkfjwlektjlhk</td>\n",
       "      <td>16</td>\n",
       "      <td>lhk</td>\n",
       "    </tr>\n",
       "    <tr>\n",
       "      <th>3</th>\n",
       "      <td>California</td>\n",
       "      <td>10</td>\n",
       "      <td>nia</td>\n",
       "    </tr>\n",
       "  </tbody>\n",
       "</table>\n",
       "</div>"
      ],
      "text/plain": [
       "                          0  namelength substring\n",
       "indexname                                        \n",
       "1                   asdkjhg           7       jhg\n",
       "0                   asdlkjg           7       kjg\n",
       "2          asdlkfjwlektjlhk          16       lhk\n",
       "3                California          10       nia"
      ]
     },
     "execution_count": 61,
     "metadata": {},
     "output_type": "execute_result"
    }
   ],
   "source": [
    "df.sort_values(['substring','indexname'])"
   ]
  },
  {
   "cell_type": "code",
   "execution_count": 60,
   "metadata": {},
   "outputs": [
    {
     "data": {
      "text/plain": [
       "Int64Index([2, 3, 1, 0], dtype='int64', name='indexname')"
      ]
     },
     "execution_count": 60,
     "metadata": {},
     "output_type": "execute_result"
    }
   ],
   "source": [
    "df.index"
   ]
  }
 ],
 "metadata": {
  "kernelspec": {
   "display_name": "Python [conda env:python3]",
   "language": "python",
   "name": "conda-env-python3-py"
  },
  "language_info": {
   "codemirror_mode": {
    "name": "ipython",
    "version": 3
   },
   "file_extension": ".py",
   "mimetype": "text/x-python",
   "name": "python",
   "nbconvert_exporter": "python",
   "pygments_lexer": "ipython3",
   "version": "3.6.8"
  }
 },
 "nbformat": 4,
 "nbformat_minor": 1
}
