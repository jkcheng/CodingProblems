{
 "cells": [
  {
   "cell_type": "markdown",
   "metadata": {},
   "source": [
    "## HackerRank SQL Problems\n",
    "solved in both SQL and pandas"
   ]
  },
  {
   "cell_type": "markdown",
   "metadata": {},
   "source": [
    "## 1. Revising the Select Query I\n",
    "\n",
    "Query all columns for all American cities in **CITY** with populations larger than 100000. The CountryCode for America is USA.\n",
    "\n",
    "**Input Format**\n",
    "\n",
    "The **CITY** table is described as follows: ![Problem1Table](https://s3.amazonaws.com/hr-challenge-images/8137/1449729804-f21d187d0f-CITY.jpg)"
   ]
  },
  {
   "cell_type": "markdown",
   "metadata": {},
   "source": [
    "mysql solution\n",
    "```mysql\n",
    "select * \n",
    "from CITY\n",
    "where countrycode='USA' and population>100000\n",
    "```"
   ]
  },
  {
   "cell_type": "markdown",
   "metadata": {},
   "source": [
    "pandas\n",
    "```python\n",
    "df=read.csv('table.csv')\n",
    "df.loc[(df['population']>100000)&(df['countrycode']=='USA')]\n",
    "```"
   ]
  },
  {
   "cell_type": "markdown",
   "metadata": {},
   "source": [
    "## 2. Revising the Select Query II\n",
    "\n",
    "Query the names of all American cities in **CITY** with populations larger than 120000. The CountryCode for America is USA.\n",
    "\n",
    "**Input Format**\n",
    "\n",
    "The **CITY** table is described as follows: ![Problem1Table](https://s3.amazonaws.com/hr-challenge-images/8137/1449729804-f21d187d0f-CITY.jpg)"
   ]
  },
  {
   "cell_type": "markdown",
   "metadata": {},
   "source": [
    "mysql solution\n",
    "```mysql\n",
    "select distinct name\n",
    "from CITY\n",
    "where countrycode='USA' and population>120000\n",
    "```"
   ]
  },
  {
   "cell_type": "markdown",
   "metadata": {},
   "source": [
    "pandas\n",
    "```python\n",
    "df=read.csv('table.csv')\n",
    "df.loc[(df['population']>120000)&(df['countrycode']=='USA'),'name'].unique()\n",
    "```"
   ]
  },
  {
   "cell_type": "markdown",
   "metadata": {},
   "source": [
    "## 3. Select By ID\n",
    "\n",
    "Query all columns for a city in CITY with the ID 1661.\n",
    "\n",
    "**Input Format**\n",
    "\n",
    "The **CITY** table is described as follows: ![Problem1Table](https://s3.amazonaws.com/hr-challenge-images/8137/1449729804-f21d187d0f-CITY.jpg)"
   ]
  },
  {
   "cell_type": "markdown",
   "metadata": {},
   "source": [
    "mysql solution\n",
    "```mysql\n",
    "select *\n",
    "from CITY\n",
    "where id=1661\n",
    "```"
   ]
  },
  {
   "cell_type": "markdown",
   "metadata": {},
   "source": [
    "pandas solution\n",
    "```python\n",
    "df=read.csv('table.csv',index_col='id')\n",
    "df.loc[1661]\n",
    "```"
   ]
  },
  {
   "cell_type": "markdown",
   "metadata": {},
   "source": [
    "## 4. Japanese Cities' Attributes\n",
    "\n",
    "Query all attributes of every Japanese city in the CITY table. The COUNTRYCODE for Japan is JPN\n",
    "\n",
    "**Input Format**\n",
    "\n",
    "The **CITY** table is described as follows: ![Problem1Table](https://s3.amazonaws.com/hr-challenge-images/8137/1449729804-f21d187d0f-CITY.jpg)"
   ]
  },
  {
   "cell_type": "markdown",
   "metadata": {},
   "source": [
    "mysql solution\n",
    "```mysql\n",
    "select *\n",
    "from CITY\n",
    "where countrycode='JPN'\n",
    "```"
   ]
  },
  {
   "cell_type": "markdown",
   "metadata": {},
   "source": [
    "pandas\n",
    "```python\n",
    "df=read.csv('table.csv')\n",
    "df.loc[(df['countrycode']=='JPN')]\n",
    "```"
   ]
  },
  {
   "cell_type": "markdown",
   "metadata": {},
   "source": [
    "## 5. Japanese Cities' Names\n",
    "\n",
    "Query the names of all the Japanese cities in the CITY table. The COUNTRYCODE for Japan is JPN.\n",
    "\n",
    "**Input Format**\n",
    "\n",
    "The **CITY** table is described as follows: ![Problem1Table](https://s3.amazonaws.com/hr-challenge-images/8137/1449729804-f21d187d0f-CITY.jpg)"
   ]
  },
  {
   "cell_type": "markdown",
   "metadata": {},
   "source": [
    "mysql solution\n",
    "```mysql\n",
    "select distinct name\n",
    "from CITY\n",
    "where countrycode='JPN'\n",
    "```"
   ]
  },
  {
   "cell_type": "markdown",
   "metadata": {},
   "source": [
    "pandas\n",
    "```python\n",
    "df=read.csv('table.csv')\n",
    "df.loc[(df['countrycode']=='JPN'),'name'].unique()\n",
    "```"
   ]
  },
  {
   "cell_type": "markdown",
   "metadata": {},
   "source": [
    "## 6. Weather Observation Station 1\n",
    "\n",
    "Query a list of CITY and STATE from the **STATION** table.\n",
    "\n",
    "**Input Format**\n",
    "\n",
    "The **STATION** table is described as follows: ![StationTable](https://s3.amazonaws.com/hr-challenge-images/9336/1449345840-5f0a551030-Station.jpg)\n",
    "where LAT_N is the northern latitude and LONG_W is the western longitude."
   ]
  },
  {
   "cell_type": "markdown",
   "metadata": {},
   "source": [
    "mysql\n",
    "```mysql\n",
    "select city,state\n",
    "from station\n",
    "```"
   ]
  },
  {
   "cell_type": "markdown",
   "metadata": {},
   "source": [
    "## 7. Weather Observation Station 3\n",
    "\n",
    "Query a list of CITY names from STATION with even ID numbers only. You may print the results in any order, but must exclude duplicates from your answer.\n",
    "\n",
    "**Input Format**\n",
    "\n",
    "The **STATION** table is described as follows: ![StationTable](https://s3.amazonaws.com/hr-challenge-images/9336/1449345840-5f0a551030-Station.jpg)\n",
    "where LAT_N is the northern latitude and LONG_W is the western longitude."
   ]
  },
  {
   "cell_type": "markdown",
   "metadata": {},
   "source": [
    "mysql\n",
    "```mysql\n",
    "select distinct city\n",
    "from station\n",
    "where id%2=0\n",
    "```"
   ]
  },
  {
   "cell_type": "markdown",
   "metadata": {},
   "source": [
    "## 7. Weather Observation Station 4\n",
    "\n",
    "Let N be the number of CITY entries in STATION, and let N' be the number of distinct CITY names in STATION; query the value of N-N' from STATION. In other words, find the difference between the total number of CITY entries in the table and the number of distinct CITY entries in the table.\n",
    "\n",
    "**Input Format**\n",
    "\n",
    "The **STATION** table is described as follows: ![StationTable](https://s3.amazonaws.com/hr-challenge-images/9336/1449345840-5f0a551030-Station.jpg)\n",
    "where LAT_N is the northern latitude and LONG_W is the western longitude."
   ]
  },
  {
   "cell_type": "markdown",
   "metadata": {},
   "source": [
    "mysql\n",
    "```mysql\n",
    "select count(city)-count(distinct city)\n",
    "from station\n",
    "```"
   ]
  },
  {
   "cell_type": "markdown",
   "metadata": {},
   "source": [
    "pandas\n",
    "```python\n",
    "df=read.csv('table.csv',index_col='id')\n",
    "df.shape[0]-df['city'].nunique()\n",
    "```"
   ]
  },
  {
   "cell_type": "markdown",
   "metadata": {},
   "source": [
    "## 8. Weather Observation Station 5\n",
    "\n",
    "Query the two cities in STATION with the shortest and longest CITY names, as well as their respective lengths (i.e.: number of characters in the name). If there is more than one smallest or largest city, choose the one that comes first when ordered alphabetically.\n",
    "\n",
    "**Input Format**\n",
    "\n",
    "The **STATION** table is described as follows: ![StationTable](https://s3.amazonaws.com/hr-challenge-images/9336/1449345840-5f0a551030-Station.jpg)\n",
    "where LAT_N is the northern latitude and LONG_W is the western longitude."
   ]
  },
  {
   "cell_type": "markdown",
   "metadata": {},
   "source": [
    "mysql\n",
    "```mysql\n",
    "(select city, char_length(city) as length from station order by char_length(city),city asc limit 1)\n",
    "union all\n",
    "(select city, char_length(city) as length from station order by char_length(city) desc,city asc limit 1)\n",
    "```"
   ]
  },
  {
   "cell_type": "markdown",
   "metadata": {},
   "source": [
    "pandas\n",
    "```python\n",
    "df=read.csv('table.csv',index_col='id')\n",
    "df['namelength']=df['city'].str.len()\n",
    "df=df.sort_values(['namelength','city'],ascending=[False,True])\n",
    "df.iloc[[0,-1]]\n",
    "```"
   ]
  },
  {
   "cell_type": "markdown",
   "metadata": {},
   "source": [
    "## 9. Weather Observation Station 6\n",
    "\n",
    "Query the list of CITY names starting with vowels (i.e., a, e, i, o, or u) from STATION. Your result cannot contain duplicates.\n",
    "\n",
    "**Input Format**\n",
    "\n",
    "The **STATION** table is described as follows: ![StationTable](https://s3.amazonaws.com/hr-challenge-images/9336/1449345840-5f0a551030-Station.jpg)\n",
    "where LAT_N is the northern latitude and LONG_W is the western longitude."
   ]
  },
  {
   "cell_type": "markdown",
   "metadata": {},
   "source": [
    "mysql\n",
    "```mysql\n",
    "select distinct city\n",
    "from station\n",
    "where left(city,1) in ('a','e','i','o','u')\n",
    "```"
   ]
  },
  {
   "cell_type": "markdown",
   "metadata": {},
   "source": [
    "pandas\n",
    "```python\n",
    "df=read.csv('table.csv',index_col='id')\n",
    "df.loc[df['city'].str[0].isin(['a','e','i','o','u']),'city'].unique()\n",
    "```"
   ]
  },
  {
   "cell_type": "markdown",
   "metadata": {},
   "source": [
    "## 10. Weather Observation Station 7\n",
    "\n",
    "Query the list of CITY names ending with vowels (a, e, i, o, u) from STATION. Your result cannot contain duplicates.\n",
    "\n",
    "**Input Format**\n",
    "\n",
    "The **STATION** table is described as follows: ![StationTable](https://s3.amazonaws.com/hr-challenge-images/9336/1449345840-5f0a551030-Station.jpg)\n",
    "where LAT_N is the northern latitude and LONG_W is the western longitude."
   ]
  },
  {
   "cell_type": "markdown",
   "metadata": {},
   "source": [
    "mysql\n",
    "```mysql\n",
    "select distinct city\n",
    "from station\n",
    "where right(city,1) in ('a','e','i','o','u')\n",
    "```"
   ]
  },
  {
   "cell_type": "markdown",
   "metadata": {},
   "source": [
    "pandas\n",
    "```python\n",
    "df=read.csv('table.csv',index_col='id')\n",
    "df.loc[df['city'].str[-1].isin(['a','e','i','o','u']),'city'].unique()\n",
    "```"
   ]
  },
  {
   "cell_type": "markdown",
   "metadata": {},
   "source": [
    "## 11. Weather Observation Station 8\n",
    "\n",
    "Query the list of CITY names from STATION which have vowels (i.e., a, e, i, o, and u) as both their first and last characters. Your result cannot contain duplicates.\n",
    "\n",
    "**Input Format**\n",
    "\n",
    "The **STATION** table is described as follows: ![StationTable](https://s3.amazonaws.com/hr-challenge-images/9336/1449345840-5f0a551030-Station.jpg)\n",
    "where LAT_N is the northern latitude and LONG_W is the western longitude."
   ]
  },
  {
   "cell_type": "markdown",
   "metadata": {},
   "source": [
    "mysql\n",
    "```mysql\n",
    "select distinct city\n",
    "from station\n",
    "where right(city,1) in ('a','e','i','o','u') and left(city,1) in ('a','e','i','o','u')\n",
    "```"
   ]
  },
  {
   "cell_type": "markdown",
   "metadata": {},
   "source": [
    "pandas\n",
    "```python\n",
    "df=read.csv('table.csv',index_col='id')\n",
    "startswithvowel=df['city'].str[0].isin(['a','e','i','o','u'])\n",
    "endswithvowel=df['city'].str[-1].isin(['a','e','i','o','u'])\n",
    "df.loc[(startswithvowel)&(endswithvowel,'city'].unique()\n",
    "```"
   ]
  },
  {
   "cell_type": "markdown",
   "metadata": {},
   "source": [
    "## 12. Weather Observation Station 9\n",
    "\n",
    "Query the list of CITY names from STATION that do not start with vowels. Your result cannot contain duplicates.\n",
    "\n",
    "**Input Format**\n",
    "\n",
    "The **STATION** table is described as follows: ![StationTable](https://s3.amazonaws.com/hr-challenge-images/9336/1449345840-5f0a551030-Station.jpg)\n",
    "where LAT_N is the northern latitude and LONG_W is the western longitude."
   ]
  },
  {
   "cell_type": "markdown",
   "metadata": {},
   "source": [
    "mysql\n",
    "```mysql\n",
    "select distinct city\n",
    "from station\n",
    "where left(city,1) not in ('a','e','i','o','u')\n",
    "```"
   ]
  },
  {
   "cell_type": "markdown",
   "metadata": {},
   "source": [
    "pandas\n",
    "```python\n",
    "df=read.csv('table.csv',index_col='id')\n",
    "startswithvowel=df['city'].str[0].isin(['a','e','i','o','u'])\n",
    "df.loc[(~startswithvowel),'city'].unique()\n",
    "```"
   ]
  },
  {
   "cell_type": "markdown",
   "metadata": {},
   "source": [
    "## 13. Weather Observation Station 10\n",
    "\n",
    "Query the list of CITY names from STATION that do not end with vowels. Your result cannot contain duplicates.\n",
    "\n",
    "**Input Format**\n",
    "\n",
    "The **STATION** table is described as follows: ![StationTable](https://s3.amazonaws.com/hr-challenge-images/9336/1449345840-5f0a551030-Station.jpg)\n",
    "where LAT_N is the northern latitude and LONG_W is the western longitude."
   ]
  },
  {
   "cell_type": "markdown",
   "metadata": {},
   "source": [
    "mysql\n",
    "```mysql\n",
    "select distinct city\n",
    "from station\n",
    "where right(city,1) not in ('a','e','i','o','u')\n",
    "```"
   ]
  },
  {
   "cell_type": "markdown",
   "metadata": {},
   "source": [
    "pandas\n",
    "```python\n",
    "df=read.csv('table.csv',index_col='id')\n",
    "endswithvowel=df['city'].str[-1].isin(['a','e','i','o','u'])\n",
    "df.loc[(~endswithvowel),'city'].unique()\n",
    "```"
   ]
  },
  {
   "cell_type": "markdown",
   "metadata": {},
   "source": [
    "## 14. Weather Observation Station 11\n",
    "\n",
    "Query the list of CITY names from STATION that either do not start with vowels or do not end with vowels. Your result cannot contain duplicates.\n",
    "\n",
    "**Input Format**\n",
    "\n",
    "The **STATION** table is described as follows: ![StationTable](https://s3.amazonaws.com/hr-challenge-images/9336/1449345840-5f0a551030-Station.jpg)\n",
    "where LAT_N is the northern latitude and LONG_W is the western longitude."
   ]
  },
  {
   "cell_type": "markdown",
   "metadata": {},
   "source": [
    "mysql\n",
    "```mysql\n",
    "select distinct city\n",
    "from station\n",
    "where right(city,1) not in ('a','e','i','o','u') or left(city,1) not in ('a','e','i','o','u')\n",
    "```"
   ]
  },
  {
   "cell_type": "markdown",
   "metadata": {},
   "source": [
    "pandas\n",
    "```python\n",
    "df=read.csv('table.csv',index_col='id')\n",
    "startswithvowel=df['city'].str[0].isin(['a','e','i','o','u'])\n",
    "endswithvowel=df['city'].str[-1].isin(['a','e','i','o','u'])\n",
    "df.loc[(~startswithvowel)|(~endswithvowel,'city'].unique()\n",
    "```"
   ]
  },
  {
   "cell_type": "markdown",
   "metadata": {},
   "source": [
    "## 15. Weather Observation Station 12\n",
    "\n",
    "Query the list of CITY names from STATION that do not start with vowels and do not end with vowels. Your result cannot contain duplicates.\n",
    "\n",
    "**Input Format**\n",
    "\n",
    "The **STATION** table is described as follows: ![StationTable](https://s3.amazonaws.com/hr-challenge-images/9336/1449345840-5f0a551030-Station.jpg)\n",
    "where LAT_N is the northern latitude and LONG_W is the western longitude."
   ]
  },
  {
   "cell_type": "markdown",
   "metadata": {},
   "source": [
    "mysql\n",
    "```mysql\n",
    "select distinct city\n",
    "from station\n",
    "where right(city,1) not in ('a','e','i','o','u') and left(city,1) not in ('a','e','i','o','u')\n",
    "```"
   ]
  },
  {
   "cell_type": "markdown",
   "metadata": {},
   "source": [
    "pandas\n",
    "```python\n",
    "df=read.csv('table.csv',index_col='id')\n",
    "startswithvowel=df['city'].str[0].isin(['a','e','i','o','u'])\n",
    "endswithvowel=df['city'].str[-1].isin(['a','e','i','o','u'])\n",
    "df.loc[(~startswithvowel)&(~endswithvowel,'city'].unique()\n",
    "```"
   ]
  },
  {
   "cell_type": "markdown",
   "metadata": {},
   "source": [
    "## 16. Higher Than 75 Marks\n",
    "\n",
    "Query the Name of any student in STUDENTS who scored higher than 75 Marks. Order your output by the last three characters of each name. If two or more students both have names ending in the same last three characters (i.e.: Bobby, Robby, etc.), secondary sort them by ascending ID.\n",
    "\n",
    "**Input Format**\n",
    "\n",
    "The STUDENTS table is described as follows: ![StudentsTable](https://s3.amazonaws.com/hr-challenge-images/12896/1443815243-94b941f556-1.png)\n",
    "\n",
    "The Name column only contains uppercase (A-Z) and lowercase (a-z) letters.\n",
    "\n",
    "**Sample Input**\n",
    "![SampleInput](https://s3.amazonaws.com/hr-challenge-images/12896/1443815209-cf4b260993-2.png)"
   ]
  },
  {
   "cell_type": "markdown",
   "metadata": {},
   "source": [
    "mysql\n",
    "```mysql\n",
    "select Name\n",
    "from students\n",
    "where Marks>75\n",
    "order by right(Name,3),id\n",
    "```"
   ]
  },
  {
   "cell_type": "markdown",
   "metadata": {},
   "source": [
    "pandas\n",
    "```python\n",
    "df=read.csv('table.csv',index_col='id')\n",
    "df['substring']=df['Name'].str[-3:]\n",
    "df.index.rename('indexname',inplace=True)\n",
    "df=df.sort_values(['substring','indexname'])\n",
    "df.loc[(df['Marks']>75),'Name']\n",
    "```"
   ]
  },
  {
   "cell_type": "markdown",
   "metadata": {},
   "source": [
    "## 17. Employee Names\n",
    "\n",
    "Write a query that prints a list of employee names (i.e.: the name attribute) from the Employee table in alphabetical order.\n",
    "\n",
    "Input Format\n",
    "\n",
    "The Employee table containing employee data for a company is described as follows: ![EmployeeTable](https://s3.amazonaws.com/hr-challenge-images/19629/1458557872-4396838885-ScreenShot2016-03-21at4.27.13PM.png)\n",
    "\n",
    "where employee_id is an employee's ID number, name is their name, months is the total number of months they've been working for the company, and salary is their monthly salary.\n",
    "\n",
    "**Sample Input**\n",
    "![SampleInput](https://s3.amazonaws.com/hr-challenge-images/19629/1458558202-9a8721e44b-ScreenShot2016-03-21at4.32.59PM.png)\n",
    "\n",
    "**Sample Output**\n",
    "```\n",
    "Angela\n",
    "Bonnie\n",
    "Frank\n",
    "Joe\n",
    "Kimberly\n",
    "Lisa\n",
    "Michael\n",
    "Patrick\n",
    "Rose\n",
    "Todd\n",
    "```"
   ]
  },
  {
   "cell_type": "markdown",
   "metadata": {},
   "source": [
    "mysql\n",
    "```mysql\n",
    "select name\n",
    "from employee order by name asc\n",
    "```"
   ]
  },
  {
   "cell_type": "markdown",
   "metadata": {},
   "source": [
    "## 18. Employee Salaries\n",
    "\n",
    "Write a query that prints a list of employee names (i.e.: the name attribute) for employees in Employee having a salary greater than $20000 per month who have been employees for less than 10 months. Sort your result by ascending employee_id.\n",
    "\n",
    "Input Format\n",
    "\n",
    "The Employee table containing employee data for a company is described as follows: ![EmployeeTable](https://s3.amazonaws.com/hr-challenge-images/19629/1458557872-4396838885-ScreenShot2016-03-21at4.27.13PM.png)\n",
    "\n",
    "where employee_id is an employee's ID number, name is their name, months is the total number of months they've been working for the company, and salary is their monthly salary.\n",
    "\n",
    "**Sample Input**\n",
    "![SampleInput](https://s3.amazonaws.com/hr-challenge-images/19629/1458558202-9a8721e44b-ScreenShot2016-03-21at4.32.59PM.png)\n",
    "\n",
    "**Sample Output**\n",
    "```\n",
    "Angela\n",
    "Bonnie\n",
    "Frank\n",
    "Joe\n",
    "Kimberly\n",
    "Lisa\n",
    "Michael\n",
    "Patrick\n",
    "Rose\n",
    "Todd\n",
    "```"
   ]
  },
  {
   "cell_type": "markdown",
   "metadata": {},
   "source": [
    "mysql\n",
    "```mysql\n",
    "select name\n",
    "from employee \n",
    "where salary>2000 and months<10\n",
    "order by employee_id asc\n",
    "```"
   ]
  },
  {
   "cell_type": "markdown",
   "metadata": {},
   "source": [
    "pandas\n",
    "```python\n",
    "df=read.csv('table.csv',index_col='id')\n",
    "df.loc[(df['salary']>2000)&(df['months']<10),'name']\n",
    "```"
   ]
  },
  {
   "cell_type": "markdown",
   "metadata": {},
   "source": [
    "## 19. The Report\n",
    "\n",
    "You are given two tables: Students and Grades. Students contains three columns ID, Name and Marks.\n",
    "\n",
    "![Students](https://s3.amazonaws.com/hr-challenge-images/12891/1443818166-a5c852caa0-1.png)\n",
    "\n",
    "Grades contains the following data:\n",
    "\n",
    "![Grades](https://s3.amazonaws.com/hr-challenge-images/12891/1443818137-69b76d805c-2.png)\n",
    "\n",
    "Ketty gives Eve a task to generate a report containing three columns: Name, Grade and Mark. Ketty doesn't want the NAMES of those students who received a grade lower than 8. The report must be in descending order by grade -- i.e. higher grades are entered first. If there is more than one student with the same grade (8-10) assigned to them, order those particular students by their name alphabetically. Finally, if the grade is lower than 8, use \"NULL\" as their name and list them by their grades in descending order. If there is more than one student with the same grade (1-7) assigned to them, order those particular students by their marks in ascending order.\n",
    "\n",
    "Write a query to help Eve.\n",
    "\n",
    "**Sample Input**\n",
    "![SampleInput](https://s3.amazonaws.com/hr-challenge-images/12891/1443818093-b79f376ec1-3.png)\n",
    "\n",
    "**Sample Output**\n",
    "```\n",
    "Maria 10 99\n",
    "Jane 9 81\n",
    "Julia 9 88 \n",
    "Scarlet 8 78\n",
    "NULL 7 63\n",
    "NULL 7 68\n",
    "```"
   ]
  },
  {
   "cell_type": "markdown",
   "metadata": {},
   "source": [
    "mysql\n",
    "```mysql\n",
    "select case when g.grade>=8 then s.name\n",
    "            when g.grade<8 then null end as name,\n",
    "       g.grade,\n",
    "       s.marks\n",
    "from students as s\n",
    "join grades as g on s.marks>=g.min_mark and s.marks<=g.max_mark \n",
    "order by g.grade desc,s.name asc,s.marks desc\n",
    "```"
   ]
  },
  {
   "cell_type": "markdown",
   "metadata": {},
   "source": [
    "pandas\n",
    "```python\n",
    "s=read.csv('students.csv',index_col='id')\n",
    "g=read.csv('grades.csv',index=None)\n",
    "\n",
    "# use math to create grade column in s (cheating)\n",
    "s['grade']=(s['marks']/10).astype(int)+1\n",
    "\n",
    "# using IntervalIndex to create grades column\n",
    "# using pd.IntervalIndex.get_loc()\n",
    "s['grade']=s['marks'].apply(lambda x: g.iloc[g.index.get_loc(x)]['grade']) \n",
    "# using pd.IntervalIndex.get_indexer()\n",
    "s['grade']=g.iloc[g.index.get_indexer(s['marks'])]['grade'].reset_index(drop=True) \n",
    "# using lambda function and boolean array with dot product\n",
    "s['grade']=s['marks'].apply(lambda x: ((x>=g['min_mark'])&(x<=g['max_mark'])).dot(g['grade']))\n",
    "\n",
    "# replace names for grades < 8 with 'null'\n",
    "s['outputname']=s['name']\n",
    "s.loc[s['grade']<8,'outputname']=None\n",
    "s.sort_values(['grade','outputname','marks'],ascending=[False,True,False],inplace=True) # sort\n",
    "s[['outputname','grade','marks']]\n",
    "```"
   ]
  },
  {
   "cell_type": "markdown",
   "metadata": {},
   "source": [
    "## 20. Top Competitors\n",
    "\n",
    "Julia just finished conducting a coding contest, and she needs your help assembling the leaderboard! Write a query to print the respective hacker_id and name of hackers who achieved full scores for more than one challenge. Order your output in descending order by the total number of challenges in which the hacker earned a full score. If more than one hacker received full scores in same number of challenges, then sort them by ascending hacker_id.\n",
    "\n",
    "**Input Format**\n",
    "\n",
    "The following tables contain contest data:\n",
    "\n",
    "* Hackers: The hacker_id is the id of the hacker, and name is the name of the hacker. \n",
    "![Hackers](https://s3.amazonaws.com/hr-challenge-images/19504/1458526776-67667350b4-ScreenShot2016-03-21at7.45.59AM.png)\n",
    "* Difficulty: The difficult_level is the level of difficulty of the challenge, and score is the score of the challenge for the difficulty level. \n",
    "![Difficulty](https://s3.amazonaws.com/hr-challenge-images/19504/1458526915-57eb75d9a2-ScreenShot2016-03-21at7.46.09AM.png)\n",
    "* Challenges: The challenge_id is the id of the challenge, the hacker_id is the id of the hacker who created the challenge, and difficulty_level is the level of difficulty of the challenge.\n",
    "![Challenges](https://s3.amazonaws.com/hr-challenge-images/19504/1458527032-f9ca650442-ScreenShot2016-03-21at7.46.17AM.png)\n",
    "* Submissions: The submission_id is the id of the submission, hacker_id is the id of the hacker who made the submission, challenge_id is the id of the challenge that the submission belongs to, and score is the score of the submission. \n",
    "![Submissions](https://s3.amazonaws.com/hr-challenge-images/19504/1458527077-298f8e922a-ScreenShot2016-03-21at7.46.29AM.png)\n",
    "\n",
    "**Sample Input**\n",
    "Hackers Table:\n",
    "![HackersTable](https://s3.amazonaws.com/hr-challenge-images/19504/1458527241-6922b4ad87-ScreenShot2016-03-21at7.47.02AM.png)\n",
    "Difficulty Table:\n",
    "![DifficultyTable](https://s3.amazonaws.com/hr-challenge-images/19504/1458527265-7ad6852a13-ScreenShot2016-03-21at7.46.50AM.png)\n",
    "Challenges Table:\n",
    "![ChallengesTable](https://s3.amazonaws.com/hr-challenge-images/19504/1458527285-01e95eb6ec-ScreenShot2016-03-21at7.46.40AM.png)\n",
    "Submissions Table:\n",
    "![SubmissionsTable](https://s3.amazonaws.com/hr-challenge-images/19504/1458527812-479a74b99f-ScreenShot2016-03-21at8.06.05AM.png)\n",
    "\n",
    "**Sample Output**\n",
    "```\n",
    "90411 Joe\n",
    "```\n",
    "\n",
    "**Explanation**\n",
    "\n",
    "Hacker 86870 got a score of 30 for challenge 71055 with a difficulty level of 2, so 86870 earned a full score for this challenge.\n",
    "\n",
    "Hacker 90411 got a score of 30 for challenge 71055 with a difficulty level of 2, so 90411 earned a full score for this challenge.\n",
    "\n",
    "Hacker 90411 got a score of 100 for challenge 66730 with a difficulty level of 6, so 90411 earned a full score for this challenge.\n",
    "\n",
    "Only hacker 90411 managed to earn a full score for more than one challenge, so we print the their hacker_id and name as space-separated values."
   ]
  },
  {
   "cell_type": "markdown",
   "metadata": {},
   "source": [
    "mysql\n",
    "```mysql\n",
    "select hacker_id,name\n",
    "from (\n",
    "    select h.hacker_id,h.name,count(s.challenge_id) as numchallenges\n",
    "    from hackers as h\n",
    "    join submissions as s on s.hacker_id=h.hacker_id\n",
    "    join challenges as c on c.challenge_id=s.challenge_id\n",
    "    join difficulty as d on d.difficulty_level=c.difficulty_level and d.score=s.score\n",
    "    group by h.hacker_id,h.name\n",
    ") as iq\n",
    "where numchallenges>1\n",
    "order by numchallenges desc, hacker_id asc\n",
    "```"
   ]
  },
  {
   "cell_type": "markdown",
   "metadata": {},
   "source": [
    "pandas\n",
    "```python\n",
    "h=pd.read_csv('hackers.csv')\n",
    "s=pd.read_csv('submissions.csv')\n",
    "c=pd.read_csv('challenges.csv')\n",
    "d=pd.read_csv('difficulty.csv')\n",
    "\n",
    "# using join 3 times\n",
    "df=h.join(s.set_index('hacker_id',on='hacker_id',how='inner').join(c.set_index('challenge_id',on='challenge_id',how='inner').join(d.set_index(['difficulty_level','score']),on=['difficulty_level','score'],how='inner')\n",
    "\n",
    "# using 3 merge statements\n",
    "df=pd.merge(left=h,right=s,on='hacker_id',how='inner')\n",
    "df=pd.merge(left=df,right=c,on='challenge_id',how='inner')\n",
    "df=pd.merge(left=df,right=d,on=['difficulty_level','score'],how='inner')\n",
    "\n",
    "groups=df.groupby(['hacker_id','name'])\n",
    "result=groups['challenge_id'].count().reset_index()\n",
    "result=result[result['challenge_id']>1]\n",
    "result.sort_values(['numchallenges','hacker_id'],ascending=[False,True])\n",
    "```"
   ]
  },
  {
   "cell_type": "markdown",
   "metadata": {},
   "source": [
    "## 21. Ollivander's Inventory\n",
    "\n",
    "\n",
    "Harry Potter and his friends are at Ollivander's with Ron, finally replacing Charlie's old broken wand.\n",
    "Hermione decides the best way to choose is by determining the minimum number of gold galleons needed to buy each non-evil wand of high power and age. Write a query to print the id, age, coins_needed, and power of the wands that Ron's interested in, sorted in order of descending power. If more than one wand has same power, sort the result in order of descending age.\n",
    "\n",
    "\n",
    "\n",
    "**Input Format**\n",
    "\n",
    "The following tables contain data on the wands in Ollivander's inventory:\n",
    "\n",
    "* Wands: The id is the id of the wand, code is the code of the wand, coins_needed is the total number of gold galleons needed to buy the wand, and power denotes the quality of the wand (the higher the power, the better the wand is). \n",
    "![Wants](https://s3.amazonaws.com/hr-challenge-images/19502/1458538092-b2a8163a74-ScreenShot2016-03-08at12.13.39AM.png)\n",
    "* Wands_Property: The code is the code of the wand, age is the age of the wand, and is_evil denotes whether the wand is good for the dark arts. If the value of is_evil is 0, it means that the wand is not evil. The mapping between code and age is one-one, meaning that if there are two pairs, (code1,age1) and (code2,age2), then code1!=code2 and age1!=age2.\n",
    "![Wands_Property](https://s3.amazonaws.com/hr-challenge-images/19502/1458538221-18c4092b7d-ScreenShot2016-03-08at12.13.53AM.png)\n",
    "\n",
    "\n",
    "**Sample Input**\n",
    "Wands Table:\n",
    "![WandsTable](https://s3.amazonaws.com/hr-challenge-images/19502/1458538559-51bf29644e-ScreenShot2016-03-21at10.34.41AM.png)\n",
    "Wands_Property Table:\n",
    "![Wands_PropertyTable](https://s3.amazonaws.com/hr-challenge-images/19502/1458538583-fd514566f9-ScreenShot2016-03-21at10.34.28AM.png)\n",
    "\n",
    "**Sample Output**\n",
    "```\n",
    "9 45 1647 10\n",
    "12 17 9897 10\n",
    "1 20 3688 8\n",
    "15 40 6018 7\n",
    "19 20 7651 6\n",
    "11 40 7587 5\n",
    "10 20 504 5\n",
    "18 40 3312 3\n",
    "20 17 5689 3\n",
    "5 45 6020 2\n",
    "14 40 5408 1\n",
    "```"
   ]
  },
  {
   "cell_type": "markdown",
   "metadata": {},
   "source": [
    "mysql\n",
    "```mysql\n",
    "select w2.id,iq.age,w2.coins_needed,w2.power\n",
    "from (\n",
    "select w.code,wp.age,w.power,min(w.coins_needed) as min_cost\n",
    "from wands as w\n",
    "join wands_property as wp on w.code=wp.code\n",
    "where wp.is_evil=0\n",
    "group by w.code,wp.age,w.power) as iq\n",
    "join wands as w2 on w2.power=iq.power and w2.coins_needed=iq.min_cost and w2.code=iq.code\n",
    "order by w2.power desc, iq.age desc\n",
    "```"
   ]
  },
  {
   "cell_type": "markdown",
   "metadata": {},
   "source": [
    "pandas\n",
    "```python\n",
    "w=pd.read_csv('wands.csv')\n",
    "p=pd.read_csv('wands_property.csv')\n",
    "\n",
    "df=pd.merge(left=w,right=p,on='code',how='inner')\n",
    "groups=df.groupby(['code','power'])\n",
    "result=groups['coins_needed'].min().reset_index()\n",
    "result=pd.merge(left=result,right=w,on=['code','power','coins_needed'],how='left)\n",
    "result=pd.merge(left=result,right=p,on='code',how='left')\n",
    "result.sort_values(['power','age'],ascending=False)[['id','age','coins_needed','power']]\n",
    "```"
   ]
  },
  {
   "cell_type": "markdown",
   "metadata": {},
   "source": [
    "## 22. Challenges\n",
    "\n",
    "Julia asked her students to create some coding challenges. Write a query to print the hacker_id, name, and the total number of challenges created by each student. Sort your results by the total number of challenges in descending order. If more than one student created the same number of challenges, then sort the result by hacker_id. If more than one student created the same number of challenges and the count is less than the maximum number of challenges created, then exclude those students from the result.\n",
    "\n",
    "**Input Format**\n",
    "\n",
    "The following tables contain challenge data:\n",
    "\n",
    "* Hackers: The hacker_id is the id of the hacker, and name is the name of the hacker. \n",
    "![Hackers](https://s3.amazonaws.com/hr-challenge-images/19504/1458526776-67667350b4-ScreenShot2016-03-21at7.45.59AM.png)\n",
    "* Challenges: The challenge_id is the id of the challenge, the hacker_id is the id of the hacker who created the challenge, and difficulty_level is the level of difficulty of the challenge.\n",
    "![Challenges](https://s3.amazonaws.com/hr-challenge-images/19506/1458521079-549341d9ec-ScreenShot2016-03-21at6.07.03AM.png)\n",
    "---\n",
    "**Sample Input 0**\n",
    "\n",
    "Hackers Table:\n",
    "![HackersTable](https://s3.amazonaws.com/hr-challenge-images/19506/1458521384-34c6866dae-ScreenShot2016-03-21at6.07.15AM.png)\n",
    "Challenges Table:\n",
    "![ChallengesTable](https://s3.amazonaws.com/hr-challenge-images/19506/1458521410-befa8e1cd9-ScreenShot2016-03-21at6.07.25AM.png)\n",
    "\n",
    "**Sample Output 0**\n",
    "```\n",
    "21283 Angela 6\n",
    "88255 Patrick 5\n",
    "96196 Lisa 1\n",
    "```\n",
    "\n",
    "**Sample Input 1**\n",
    "\n",
    "Hackers Table:\n",
    "![HackersTable](https://s3.amazonaws.com/hr-challenge-images/19506/1458521469-87036deea3-ScreenShot2016-03-21at6.07.48AM.png)\n",
    "Challenges Table:\n",
    "![ChallengesTable](https://s3.amazonaws.com/hr-challenge-images/19506/1458521490-358215cf0b-ScreenShot2016-03-21at6.07.58AM.png)\n",
    "\n",
    "**Sample Output 1**\n",
    "```\n",
    "12299 Rose 6\n",
    "34856 Angela 6\n",
    "79345 Frank 4\n",
    "80491 Patrick 3\n",
    "81041 Lisa 1\n",
    "```\n",
    "\n",
    "\n",
    "**Explanation**\n",
    "\n",
    "For Sample Case 0, we can get the following details: \n",
    "![Explanation0](https://s3.amazonaws.com/hr-challenge-images/19506/1458521677-fd04c384c0-ScreenShot2016-03-21at6.07.38AM.png)\n",
    "\n",
    "Students 5077 and 62743 both created  challenges, but the maximum number of challenges created is  so these students are excluded from the result.\n",
    "\n",
    "For Sample Case 1, we can get the following details: \n",
    "![Explanation1](https://s3.amazonaws.com/hr-challenge-images/19506/1458521836-24039e7523-ScreenShot2016-03-21at6.08.08AM.png)\n",
    "\n",
    "Students 12299 and 34856 both created  challenges. Because  is the maximum number of challenges created, these students are included in the result."
   ]
  },
  {
   "cell_type": "markdown",
   "metadata": {},
   "source": [
    "mysql\n",
    "```mysql\n",
    "select h.hacker_id,h.name, count(c.challenge_id) as ccount\n",
    "from\n",
    "hackers as h\n",
    "join challenges as c on h.hacker_id=c.hacker_id\n",
    "group by h.hacker_id,h.name\n",
    "having ccount= (select max(t1.ccount) from (\n",
    "                    select count(challenge_id) as ccount from challenges group by hacker_id \n",
    "                    ) as t1\n",
    ")\n",
    "or ccount in (\n",
    "    select t2.ccount from (\n",
    "        select count(challenge_id) as ccount from challenges group by hacker_id\n",
    "    ) as t2\n",
    "    group by t2.ccount having count(t2.ccount)=1\n",
    ")\n",
    "order by ccount desc, h.hacker_id asc\n",
    "\n",
    "```"
   ]
  },
  {
   "cell_type": "markdown",
   "metadata": {},
   "source": [
    "pandas\n",
    "```python\n",
    "h=pd.read_csv('hackers.csv')\n",
    "c=pd.read_csv('challenges.csv')\n",
    "\n",
    "# merge and group\n",
    "df=pd.merge(left=h,right=c,on='hacker_id',how='inner')\n",
    "groups=df.groupby(['hacker_id','name'])\n",
    "\n",
    "# count number of challenges and sort\n",
    "result=groups['challenge_id'].count().reset_index()\n",
    "result.sort_values(['challenge_id','hacker_id'],ascending=[False,True],inplace=True)\n",
    "\n",
    "# get max challenge count\n",
    "max_count=result['challenge_id'].max()\n",
    "# get array of challenge counts with one hacker_id with value_counts\n",
    "ccounts=result['challenge_id'].value_counts()\n",
    "singles=ccounts[ccounts==1].index\n",
    "# OR get unique list of challenge counts\n",
    "singles=result['challenge_id'].drop_duplicates(keep=False).index\n",
    "# OR get boolean array mask of rows with only one value of challenge count\n",
    "singles2=result.groupby('challenge_id')['challenge_id'].transform('size')==1\n",
    "\n",
    "# filter results\n",
    "results.loc[(results['challenge_id']==max_count)&(results['challenge_id'].isin(singles))]\n",
    "# OR filter using the boolean mask\n",
    "results.loc[(results['challenge_id']==max_count)&(singles2)]\n",
    "```"
   ]
  },
  {
   "cell_type": "markdown",
   "metadata": {},
   "source": [
    "## 23. Contest Leaderboard\n",
    "\n",
    "You did such a great job helping Julia with her last coding contest challenge that she wants you to work on this one, too!\n",
    "\n",
    "The total score of a hacker is the sum of their maximum scores for all of the challenges. Write a query to print the hacker_id, name, and total score of the hackers ordered by the descending score. If more than one hacker achieved the same total score, then sort the result by ascending hacker_id. Exclude all hackers with a total score of 0 from your result.\n",
    "\n",
    "**Input Format**\n",
    "\n",
    "The following tables contain contest data:\n",
    "\n",
    "* Hackers: The hacker_id is the id of the hacker, and name is the name of the hacker. \n",
    "![Hackers](https://s3.amazonaws.com/hr-challenge-images/19503/1458522826-a9ddd28469-ScreenShot2016-03-21at6.40.27AM.png)\n",
    "* Submissions: The submission_id is the id of the submission, hacker_id is the id of the hacker who made the submission, challenge_id is the id of the challenge for which the submission belongs to, and score is the score of the submission. \n",
    "![Submissions](https://s3.amazonaws.com/hr-challenge-images/19503/1458523022-771511df90-ScreenShot2016-03-21at6.40.37AM.png)\n",
    "---\n",
    "**Sample Input**\n",
    "\n",
    "Hackers Table:\n",
    "![HackersTable](https://s3.amazonaws.com/hr-challenge-images/19503/1458523374-7ecc39010f-ScreenShot2016-03-21at6.51.56AM.png)\n",
    "Submissions Table:\n",
    "![SubmissionsTable](https://s3.amazonaws.com/hr-challenge-images/19503/1458523388-0896218137-ScreenShot2016-03-21at6.51.45AM.png)\n",
    "\n",
    "**Sample Output**\n",
    "```\n",
    "4071 Rose 191\n",
    "74842 Lisa 174\n",
    "84072 Bonnie 100\n",
    "4806 Angela 89\n",
    "26071 Frank 85\n",
    "80305 Kimberly 67\n",
    "49438 Patrick 43\n",
    "```\n",
    "\n",
    "**Explanation**\n",
    "\n",
    "Hacker 4071 submitted solutions for challenges 19797 and 49593, so the total score = 95+max(43,96) = 191.\n",
    "\n",
    "Hacker 74842 submitted solutions for challenges 19797 and 63132, so the total score = max(98,5) + 76 = 174.\n",
    "\n",
    "Hacker 84072 submitted solutions for challenges 49593 and 63132, so the total score = 100 + 0 = 100.\n",
    "\n",
    "The total scores for hackers 4806, 26071, 80305, and 49438 can be similarly calculated."
   ]
  },
  {
   "cell_type": "markdown",
   "metadata": {},
   "source": [
    "mysql\n",
    "```mysql\n",
    "select t1.hacker_id,h.name,sum(t1.maxscore) as totalscore\n",
    "from(\n",
    "select hacker_id,challenge_id,max(score) as maxscore\n",
    "from submissions \n",
    "group by hacker_id,challenge_id\n",
    ") as t1\n",
    "join hackers as h on h.hacker_id=t1.hacker_id\n",
    "group by t1.hacker_id,h.name\n",
    "having totalscore>0\n",
    "order by totalscore desc, t1.hacker_id asc\n",
    "```"
   ]
  },
  {
   "cell_type": "markdown",
   "metadata": {},
   "source": [
    "pandas\n",
    "```python\n",
    "# merge data\n",
    "df=pd.merge(left=h,right=s,on='hacker_id',how='inner')\n",
    "\n",
    "# get max score per hacker and challenge\n",
    "groups=df.groupby(['hacker_id','name','challenge_id'])\n",
    "maxscores=groups['score'].max().reset_index()\n",
    "\n",
    "# calc total scores\n",
    "totalscores=maxscores.groupby(['hacker_id','name'])['score'].sum().reset_index()\n",
    "\n",
    "# order result by total score descending, hacker_id ascending\n",
    "totalscores.sort_values(['score','hacker_id'],ascending=[False,True],inplace=True)\n",
    "\n",
    "# filter out hackers with totalscore=0\n",
    "totalscores.loc[totalscores['score']>0]\n",
    "```"
   ]
  },
  {
   "cell_type": "markdown",
   "metadata": {},
   "source": [
    "## 24. Projects\n",
    "\n",
    "You are given a table, Projects, containing three columns: Task_ID, Start_Date and End_Date. It is guaranteed that the difference between the End_Date and the Start_Date is equal to 1 day for each row in the table.\n",
    "\n",
    "![Projects](https://s3.amazonaws.com/hr-challenge-images/12894/1443819551-639948acc0-1.png)\n",
    "\n",
    "If the End_Date of the tasks are consecutive, then they are part of the same project. Samantha is interested in finding the total number of different projects completed.\n",
    "\n",
    "Write a query to output the start and end dates of projects listed by the number of days it took to complete the project in ascending order. If there is more than one project that have the same number of completion days, then order by the start date of the project.\n",
    "\n",
    "**Sample Input**\n",
    "\n",
    "![Input](https://s3.amazonaws.com/hr-challenge-images/12894/1443819440-1c40e943a1-2.png)\n",
    "\n",
    "**Sample Output**\n",
    "```\n",
    "2015-10-28 2015-10-29\n",
    "2015-10-30 2015-10-31\n",
    "2015-10-13 2015-10-15\n",
    "2015-10-01 2015-10-04\n",
    "```\n",
    "\n",
    "**Explanation**\n",
    "\n",
    "The example describes following four projects:\n",
    "\n",
    "* Project 1: Tasks 1, 2 and 3 are completed on consecutive days, so these are part of the project. Thus start date of project is 2015-10-01 and end date is 2015-10-04, so it took 3 days to complete the project.\n",
    "* Project 2: Tasks 4 and 5 are completed on consecutive days, so these are part of the project. Thus, the start date of project is 2015-10-13 and end date is 2015-10-15, so it took 2 days to complete the project.\n",
    "* Project 3: Only task 6 is part of the project. Thus, the start date of project is 2015-10-28 and end date is 2015-10-29, so it took 1 day to complete the project.\n",
    "* Project 4: Only task 7 is part of the project. Thus, the start date of project is 2015-10-30 and end date is 2015-10-31, so it took 1 day to complete the project."
   ]
  },
  {
   "cell_type": "markdown",
   "metadata": {},
   "source": [
    "mysql\n",
    "```mysql\n",
    "select s.start_date,min(e.end_date)\n",
    "from \n",
    "(select start_date from projects where start_date not in (select end_date from projects)) as s\n",
    "join \n",
    "(select end_date from projects where end_date not in (select start_date from projects)) as e\n",
    "on s.start_date<e.end_date\n",
    "group by s.start_date\n",
    "order by datediff(min(e.end_date),s.start_date),s.start_date\n",
    "\n",
    "--alternatively (incomplete)\n",
    "\n",
    "select start_date,\n",
    "        end_date,\n",
    "        sum(nc) over (order by end_date rows between unbounded preceeding and current row) as pnum\n",
    "from(\n",
    "    select start_date, end_date, case when end_date-lagdate=1 then 1 \n",
    "                                      when lagdate is null then 1 end as nc\n",
    "    from(\n",
    "        select start_date, end_date, lag(end_date) over (order by end_date) as lagdate from projects\n",
    "    ) as t1\n",
    ") as t2\n",
    "```"
   ]
  },
  {
   "cell_type": "markdown",
   "metadata": {},
   "source": [
    "pandas\n",
    "```python\n",
    "p=pd.read_csv('projects.csv')\n",
    "# generate data\n",
    "p = pd.DataFrame({'task_id': [1,2,3,4,5,6,7],\n",
    "                'start_date': pd.to_datetime(['2015-10-01', '2015-10-02', '2015-10-03', '2015-10-13',\n",
    "                                              '2015-10-14', '2015-10-28', '2015-10-30']),\n",
    "                  'end_date': pd.to_datetime(['2015-10-02', '2015-10-03', '2015-10-04', '2015-10-14', \n",
    "                                              '2015-10-15', '2015-10-29', '2015-10-31'])})\n",
    "\n",
    "# shift end date column down\n",
    "p['shifted']=p['end_date'].shift(1)\n",
    "# flag first row of each new project by identifying non-continuous task end dates\n",
    "p['nc']=(p['end_date']-p['shifted']).dt.days>1 | p['shifted'].isnull()\n",
    "# label rows with project number using cumulative sum on flag column\n",
    "p['projectnum']=p['nc'].cumsum() \n",
    "# group by project number, sort and display results\n",
    "groups=p.groupby('projectnum')\n",
    "       \n",
    "# create result set indexed on project number\n",
    "p2=groups['start_date'].first().to_frame()\n",
    "p2['end_date']=groups['end_date'].last()\n",
    "p2['pduration']=p2['end_date']-p2['start_date']\n",
    "p2.sort_values(['pduration','start_date'],ascending=True,inplace=True)\n",
    "p[['start_date','end_date']]\n",
    "```"
   ]
  },
  {
   "cell_type": "markdown",
   "metadata": {},
   "source": [
    "## 25. Placements\n",
    "\n",
    "You are given three tables: Students, Friends and Packages. Students contains two columns: ID and Name. Friends contains two columns: ID and Friend_ID (ID of the ONLY best friend). Packages contains two columns: ID and Salary (offered salary in thousands of dollars per month).\n",
    "\n",
    "![data](https://s3.amazonaws.com/hr-challenge-images/12895/1443820186-2a9b4939a8-1.png)\n",
    "\n",
    "Write a query to output the names of those students whose best friends got offered a higher salary than them. Names must be ordered by the salary amount offered to the best friends. It is guaranteed that no two students got same salary offer.\n",
    "\n",
    "**Sample Input**\n",
    "\n",
    "![input1](https://s3.amazonaws.com/hr-challenge-images/12895/1443820100-adb691b2f5-2_2.png)\n",
    "![input2](https://s3.amazonaws.com/hr-challenge-images/12895/1443820079-9bd1e231b1-2_1.png)\n",
    "\n",
    "**Sample Output**\n",
    "```\n",
    "Samantha\n",
    "Julia\n",
    "Scarlet\n",
    "```\n",
    "\n",
    "**Explanation**\n",
    "\n",
    "See the following table:\n",
    "\n",
    "![explanation](https://s3.amazonaws.com/hr-challenge-images/12895/1443819966-c37c146d27-3.png)\n",
    "\n",
    "Now,\n",
    "\n",
    "* Samantha's best friend got offered a higher salary than her at 11.55\n",
    "* Julia's best friend got offered a higher salary than her at 12.12\n",
    "* Scarlet's best friend got offered a higher salary than her at 15.2\n",
    "* Ashley's best friend did NOT get offered a higher salary than her\n",
    "\n",
    "The name output, when ordered by the salary offered to their friends, will be:\n",
    "\n",
    "* Samantha\n",
    "* Julia\n",
    "* Scarlet"
   ]
  },
  {
   "cell_type": "markdown",
   "metadata": {},
   "source": [
    "mysql\n",
    "```mysql\n",
    "select s.name\n",
    "from students as s\n",
    "join friends as f on f.id=s.id\n",
    "join packages as p on p.id=s.id\n",
    "join packages as p2 on p2.id=f.friend_id\n",
    "where p2.salary>p.salary\n",
    "order by p2.salary\n",
    "```"
   ]
  },
  {
   "cell_type": "markdown",
   "metadata": {},
   "source": [
    "pandas\n",
    "```python\n",
    "s=pd.read_csv('students.csv',index_col='id')\n",
    "f=pd.read_csv('friends.csv',index_col='id')\n",
    "p=pd.read_csv('packages.csv',index_col='id')\n",
    "\n",
    "df=s.copy()\n",
    "s['friend_id']=f['friend_id']\n",
    "df['salary']=p['salary']\n",
    "df=pd.merge(left=df,right=p,left_on='friend_id',right_on=p.index,how='inner')\n",
    "df=df.sort_values('salary_y',ascending=True)\n",
    "df.loc[df['salary_y']>df['salary_x'],'name']\n",
    "```"
   ]
  },
  {
   "cell_type": "markdown",
   "metadata": {},
   "source": [
    "## 26. Symmetric Pairs\n",
    "\n",
    "You are given a table, Functions, containing two columns: X and Y.\n",
    "\n",
    "![data](https://s3.amazonaws.com/hr-challenge-images/12892/1443818798-51909e977d-1.png)\n",
    "\n",
    "Two pairs ($X_{1}$, $Y_{1}$) and ($X_{2}$, $Y_{2}$) are said to be symmetric pairs if $X_{1}$ = $Y_{2}$ and $X_{2}$ = $Y_{1}$.\n",
    "\n",
    "Write a query to output all such symmetric pairs in ascending order by the value of X.\n",
    "\n",
    "**Sample Input**\n",
    "\n",
    "![input1](https://s3.amazonaws.com/hr-challenge-images/12892/1443818693-b384c24e35-2.png)\n",
    "\n",
    "**Sample Output**\n",
    "```\n",
    "20 20\n",
    "20 21\n",
    "22 23\n",
    "```"
   ]
  },
  {
   "cell_type": "markdown",
   "metadata": {},
   "source": [
    "mysql\n",
    "```mysql\n",
    "select distinct f1.X,f1.Y\n",
    "from functions as f1\n",
    "join functions as f2 on f1.X=f2.Y and f1.Y=f2.X\n",
    "where f1.X<f2.X\n",
    "or f1.X in (select X from functions where X=Y group by X having count(*)>1)\n",
    "order by f1.X\n",
    "```"
   ]
  },
  {
   "cell_type": "markdown",
   "metadata": {},
   "source": [
    "pandas\n",
    "```python\n",
    "\n",
    "```"
   ]
  },
  {
   "cell_type": "markdown",
   "metadata": {},
   "source": [
    "## 27. The Pads\n",
    "\n",
    "Generate the following two result sets:\n",
    "\n",
    "1. Query an alphabetically ordered list of all names in OCCUPATIONS, immediately followed by the first letter of each profession as a parenthetical (i.e.: enclosed in parentheses). For example: AnActorName(A), ADoctorName(D), AProfessorName(P), and ASingerName(S).\n",
    "2. Query the number of ocurrences of each occupation in OCCUPATIONS. Sort the occurrences in ascending order, and output them in the following format: \n",
    "```\n",
    "There are a total of [occupation_count] [occupation]s.\n",
    "```\n",
    "where [occupation_count] is the number of occurrences of an occupation in OCCUPATIONS and [occupation] is the lowercase occupation name. If more than one Occupation has the same [occupation_count], they should be ordered alphabetically.\n",
    "\n",
    "**Note:** There will be at least two entries in the table for each type of occupation.\n",
    "\n",
    "**Input Format**\n",
    "\n",
    "The OCCUPATIONS table is described as follows: \n",
    "![input](https://s3.amazonaws.com/hr-challenge-images/12889/1443816414-2a465532e7-1.png)\n",
    "Occupation will only contain one of the following values: Doctor, Professor, Singer or Actor.\n",
    "\n",
    "**Sample Input**\n",
    "\n",
    "An OCCUPATIONS table that contains the following records:\n",
    "\n",
    "![sampleinput](https://s3.amazonaws.com/hr-challenge-images/12889/1443816608-0b4d01d157-2.png)\n",
    "\n",
    "**Sample Output**\n",
    "```\n",
    "Ashely(P)\n",
    "Christeen(P)\n",
    "Jane(A)\n",
    "Jenny(D)\n",
    "Julia(A)\n",
    "Ketty(P)\n",
    "Maria(A)\n",
    "Meera(S)\n",
    "Priya(S)\n",
    "Samantha(D)\n",
    "There are a total of 2 doctors.\n",
    "There are a total of 2 singers.\n",
    "There are a total of 3 actors.\n",
    "There are a total of 3 professors.\n",
    "```\n",
    "\n",
    "**Explanation**\n",
    "\n",
    "The results of the first query are formatted to the problem description's specifications. \n",
    "The results of the second query are ascendingly ordered first by number of names corresponding to each profession (2<=2<=3<=3), and then alphabetically by profession (doctor<=singer, and actor<=professor)."
   ]
  },
  {
   "cell_type": "markdown",
   "metadata": {},
   "source": [
    "mysql\n",
    "```mysql\n",
    "select concat(name,'(',substring(occupation from 1 for 1),')')\n",
    "from occupations\n",
    "order by name;\n",
    "\n",
    "select concat('There are a total of ',count(*),' ',lower(occupation),'s.')\n",
    "from occupations\n",
    "group by occupation\n",
    "order by count(*),occupation;\n",
    "```"
   ]
  },
  {
   "cell_type": "markdown",
   "metadata": {},
   "source": [
    "pandas\n",
    "```python\n",
    "o=pd.read_csv('occupations.csv')\n",
    "\n",
    "# output list of names and occupations\n",
    "o['output']=o['name']+'('+o['occupation'].str[0]+')'\n",
    "o=o.sort_values('name')\n",
    "o['output']\n",
    "\n",
    "# output occupation counts\n",
    "o2=o.groupby('occupation')['occupation'].count().reset_index()\n",
    "o2.columns=['occupation','count']\n",
    "o2['output']='There are a total of ',o2['count'].astype(str)+' '+o2['occupation']+'s.'\n",
    "o2['output]\n",
    "```"
   ]
  },
  {
   "cell_type": "markdown",
   "metadata": {},
   "source": [
    "## 28. Occupations\n",
    "\n",
    "Pivot the Occupation column in OCCUPATIONS so that each Name is sorted alphabetically and displayed underneath its corresponding Occupation. The output column headers should be Doctor, Professor, Singer, and Actor, respectively.\n",
    "\n",
    "**Note:** Print NULL when there are no more names corresponding to an occupation.\n",
    "\n",
    "**Input Format**\n",
    "\n",
    "The OCCUPATIONS table is described as follows:\n",
    "![input](https://s3.amazonaws.com/hr-challenge-images/12889/1443816414-2a465532e7-1.png)\n",
    "Occupation will only contain one of the following values: Doctor, Professor, Singer or Actor.\n",
    "\n",
    "**Sample Input**\n",
    "\n",
    "An OCCUPATIONS table that contains the following records:\n",
    "\n",
    "![sampleinput](https://s3.amazonaws.com/hr-challenge-images/12890/1443817648-1b2b8add45-2.png)\n",
    "\n",
    "**Sample Output**\n",
    "```\n",
    "Jenny    Ashley     Meera  Jane\n",
    "Samantha Christeen  Priya  Julia\n",
    "NULL     Ketty      NULL   Maria\n",
    "```\n",
    "\n",
    "**Explanation**\n",
    "\n",
    "The first column is an alphabetically ordered list of Doctor names. \n",
    "\n",
    "The second column is an alphabetically ordered list of Professor names. \n",
    "\n",
    "The third column is an alphabetically ordered list of Singer names. \n",
    "\n",
    "The fourth column is an alphabetically ordered list of Actor names. \n",
    "\n",
    "The empty cell data for columns with less than the maximum number of names per occupation (in this case, the Professor and Actor columns) are filled with NULL values."
   ]
  },
  {
   "cell_type": "markdown",
   "metadata": {},
   "source": [
    "mysql\n",
    "```mysql\n",
    "# for version 8.0+\n",
    "select rn,\n",
    "max(case when occupation='Doctor' then name else null end) as Doctor,\n",
    "max(case when occupation='Professor' then name else null end) as Professor,\n",
    "max(case when occupation='Singer' then name else null end) as Singer,\n",
    "max(case when occupation='Actor' then name else null end) as Actor\n",
    "from (\n",
    "    select *, row_number() over (partition by occupation order by name) as rn from occupations\n",
    ") as t1\n",
    "group by rn\n",
    "\n",
    "# for version 5.7\n",
    "select \n",
    "    max(case when occupation='Doctor' then name else null end) as Doctor,\n",
    "    max(case when occupation='Professor' then name else null end) as Professor,\n",
    "    max(case when occupation='Singer' then name else null end) as Singer,\n",
    "    max(case when occupation='Actor' then name else null end) as Actor\n",
    "from (\n",
    "  select *, \n",
    "  ( case occupation \n",
    "         when @curOccupation\n",
    "         then @curRow := @curRow + 1 \n",
    "         else @curRow := 1 and @curOccupation := occupation \n",
    "   end\n",
    "  ) + 1 AS rn\n",
    "  from occupations, (select @curRow := 0, @curOccupation := '') r\n",
    "  order by occupation,name\n",
    ") t1\n",
    "group by rn\n",
    "\n",
    "```"
   ]
  },
  {
   "cell_type": "markdown",
   "metadata": {},
   "source": [
    "pandas\n",
    "```python\n",
    "\n",
    "```"
   ]
  },
  {
   "cell_type": "markdown",
   "metadata": {},
   "source": [
    "## 29. Binary Tree Nodes\n",
    "\n",
    "Pivot the Occupation column in OCCUPATIONS so that each Name is sorted alphabetically and displayed underneath its You are given a table, BST, containing two columns: N and P, where N represents the value of a node in Binary Tree, and P is the parent of N.\n",
    "\n",
    "![BST](https://s3.amazonaws.com/hr-challenge-images/12888/1443818507-5095ab9853-1.png)\n",
    "\n",
    "Write a query to find the node type of Binary Tree ordered by the value of the node. Output one of the following for each node:\n",
    "\n",
    "* Root: If node is root node.\n",
    "* Leaf: If node is leaf node.\n",
    "* Inner: If node is neither root nor leaf node.\n",
    "\n",
    "**Sample Input**\n",
    "\n",
    "![sampleinput](https://s3.amazonaws.com/hr-challenge-images/12888/1443818467-30644673f6-2.png)\n",
    "\n",
    "**Sample Output**\n",
    "```\n",
    "1 Leaf\n",
    "2 Inner\n",
    "3 Leaf\n",
    "5 Root\n",
    "6 Leaf\n",
    "8 Inner\n",
    "9 Leaf\n",
    "```\n",
    "\n",
    "**Explanation**\n",
    "\n",
    "The Binary Tree below illustrates the sample:\n",
    "\n",
    "![explanation](https://s3.amazonaws.com/hr-challenge-images/12888/1443773633-f9e6fd314e-simply_sql_bst.png)"
   ]
  },
  {
   "cell_type": "markdown",
   "metadata": {},
   "source": [
    "mysql\n",
    "```mysql\n",
    "# for version 8.0+\n",
    "with recursive cte(N,P) as (\n",
    "    select N, 'Root' as type\n",
    "    from BST where P is null\n",
    "    union all\n",
    "    select N, case when N not in (select P from BST) then 'Leaf' else 'Inner' end as type\n",
    "    from BST as b\n",
    "    join cte on b.P=cte.N\n",
    ")\n",
    "select N,type from cte order by N;\n",
    "\n",
    "# for version 5.7\n",
    "select N, case when P is null then 'Root' \n",
    "               when N in (select P from BST) then 'Inner' \n",
    "               else 'Leaf' end as type\n",
    "from BST order by N;\n",
    "\n",
    "```"
   ]
  },
  {
   "cell_type": "markdown",
   "metadata": {},
   "source": [
    "pandas\n",
    "```python\n",
    "\n",
    "```"
   ]
  },
  {
   "cell_type": "markdown",
   "metadata": {},
   "source": [
    "## 29. New Companies\n",
    "\n",
    "Amber's conglomerate corporation just acquired some new companies. Each of the companies follows this hierarchy:\n",
    "\n",
    "![companies](https://s3.amazonaws.com/hr-challenge-images/19505/1458531031-249df3ae87-ScreenShot2016-03-21at8.59.56AM.png)\n",
    "\n",
    "Given the table schemas below, write a query to print the company_code, founder name, total number of lead managers, total number of senior managers, total number of managers, and total number of employees. Order your output by ascending company_code.\n",
    "\n",
    "**Note:**\n",
    "\n",
    "* The tables may contain duplicate records.\n",
    "* The company_code is string, so the sorting should not be numeric. For example, if the company_codes are C_1, C_2, and C_10, then the ascending company_codes will be C_1, C_10, and C_2.\n",
    "\n",
    "**Input Format**\n",
    "\n",
    "The following tables contain company data:\n",
    "\n",
    "* Company: The company_code is the code of the company and founder is the founder of the company.\n",
    "![company](https://s3.amazonaws.com/hr-challenge-images/19505/1458531125-deb0a57ae1-ScreenShot2016-03-21at8.50.04AM.png)\n",
    "\n",
    "* Lead_Manager: The lead_manager_code is the code of the lead manager, and the company_code is the code of the working company. \n",
    "![leadmanager](https://s3.amazonaws.com/hr-challenge-images/19505/1458534960-2c6d764e3c-ScreenShot2016-03-21at8.50.12AM.png)\n",
    "\n",
    "* Senior_Manager: The senior_manager_code is the code of the senior manager, the lead_manager_code is the code of its lead manager, and the company_code is the code of the working company. \n",
    "![seniormanager](https://s3.amazonaws.com/hr-challenge-images/19505/1458534973-6548194998-ScreenShot2016-03-21at8.50.21AM.png)\n",
    "\n",
    "* Manager: The manager_code is the code of the manager, the senior_manager_code is the code of its senior manager, the lead_manager_code is the code of its lead manager, and the company_code is the code of the working company.\n",
    "![manager](https://s3.amazonaws.com/hr-challenge-images/19505/1458534988-7fc0af46ce-ScreenShot2016-03-21at8.50.29AM.png)\n",
    "\n",
    "* Employee: The employee_code is the code of the employee, the manager_code is the code of its manager, the senior_manager_code is the code of its senior manager, the lead_manager_code is the code of its lead manager, and the company_code is the code of the working company.\n",
    "![employee](https://s3.amazonaws.com/hr-challenge-images/19505/1458535002-d47f63cbb4-ScreenShot2016-03-21at8.50.41AM.png)\n",
    "\n",
    "**Sample Input**\n",
    "\n",
    "Company Table: \n",
    "![companytable](https://s3.amazonaws.com/hr-challenge-images/19505/1458535049-2a207c44b3-ScreenShot2016-03-21at8.50.52AM.png)\n",
    "\n",
    "Lead_Manager Table: \n",
    "![leadmanagertable](https://s3.amazonaws.com/hr-challenge-images/19505/1458535073-919107f639-ScreenShot2016-03-21at8.51.03AM.png)\n",
    "\n",
    "Senior_Manager Table: \n",
    "![seniormanagertable](https://s3.amazonaws.com/hr-challenge-images/19505/1458535111-b1c48335b3-ScreenShot2016-03-21at8.51.15AM.png)\n",
    "\n",
    "Manager Table: \n",
    "![managertable](https://s3.amazonaws.com/hr-challenge-images/19505/1458535122-888f4bf340-ScreenShot2016-03-21at8.51.26AM.png)\n",
    "\n",
    "Employee Table:\n",
    "![employeetable](https://s3.amazonaws.com/hr-challenge-images/19505/1458535134-878767e0d9-ScreenShot2016-03-21at8.51.52AM.png)\n",
    "\n",
    "**Sample Output**\n",
    "```\n",
    "C1 Monika 1 2 1 2\n",
    "C2 Samantha 1 1 2 2\n",
    "```\n",
    "\n",
    "**Explanation**\n",
    "\n",
    "In company C1, the only lead manager is LM1. There are two senior managers, SM1 and SM2, under LM1. There is one manager, M1, under senior manager SM1. There are two employees, E1 and E2, under manager M1.\n",
    "\n",
    "In company C2, the only lead manager is LM2. There is one senior manager, SM3, under LM2. There are two managers, M2 and M3, under senior manager SM3. There is one employee, E3, under manager M2, and another employee, E4, under manager, M3."
   ]
  },
  {
   "cell_type": "markdown",
   "metadata": {},
   "source": [
    "mysql\n",
    "```mysql\n",
    "select e.company_code,c.founder,\n",
    "       count(distinct e.lead_manager_code),\n",
    "       count(distinct e.senior_manager_code),\n",
    "       count(distinct e.manager_code),\n",
    "       count(distinct e.employee_code)\n",
    "from employee as e\n",
    "join company as c on c.company_code=e.company_code\n",
    "group by e.company_code,c.founder\n",
    "order by e.company_code\n",
    "```"
   ]
  },
  {
   "cell_type": "markdown",
   "metadata": {},
   "source": [
    "pandas\n",
    "```python\n",
    "e=pd.read_csv('employee.csv')\n",
    "c=pd.read_csv('company.csv')\n",
    "\n",
    "# join and group data\n",
    "df=pd.merge(left=e,right=c,on='company_code',how='inner')\n",
    "groups=df.groupby(['company_code','founder'])\n",
    "\n",
    "# count unique employees and output sorted results\n",
    "groups.nunique().reset_index().sort_values('company_code')\n",
    "\n",
    "```"
   ]
  },
  {
   "cell_type": "markdown",
   "metadata": {},
   "source": [
    "## 30. The Blunder\n",
    "\n",
    "Samantha was tasked with calculating the average monthly salaries for all employees in the EMPLOYEES table, but did not realize her keyboard's 0 key was broken until after completing the calculation. She wants your help finding the difference between her miscalculation (using salaries with any zeroes removed), and the actual average salary.\n",
    "\n",
    "Write a query calculating the amount of error (i.e.: actual-miscalculated average monthly salaries), and round it up to the next integer.\n",
    "\n",
    "**Input Format**\n",
    "\n",
    "The EMPLOYEES table is described as follows:\n",
    "![employees](https://s3.amazonaws.com/hr-challenge-images/12893/1443817108-adc2235c81-1.png)\n",
    "\n",
    "**Note:** Salary is measured in dollars per month and its value is $<10^{5}$.\n",
    "\n",
    "**Sample Input**\n",
    "\n",
    "![sampleinput](https://s3.amazonaws.com/hr-challenge-images/12893/1443817161-299cc6eb7f-2.png)\n",
    "\n",
    "**Sample Output**\n",
    "```\n",
    "2061\n",
    "```\n",
    "\n",
    "**Explanation**\n",
    "\n",
    "The table below shows the salaries without zeroes as they were entered by Samantha:\n",
    "\n",
    "![explanation](https://s3.amazonaws.com/hr-challenge-images/12893/1443817229-eb00d44a3b-3.png)\n",
    "\n",
    "Samantha computes an average salary of 98.00. The actual average salary is 2159.00.\n",
    "\n",
    "The resulting error between the two calculations is 2159.00-98.00=2061.00 which, when rounded to the next integer, is 2061."
   ]
  },
  {
   "cell_type": "markdown",
   "metadata": {},
   "source": [
    "mysql\n",
    "```mysql\n",
    "select ceiling(avg(salary)-avg(convert(replace(convert(salary,char),'0',''),signed int)))\n",
    "from employees\n",
    "```"
   ]
  },
  {
   "cell_type": "markdown",
   "metadata": {},
   "source": [
    "pandas\n",
    "```python\n",
    "\n",
    "```"
   ]
  },
  {
   "cell_type": "markdown",
   "metadata": {},
   "source": [
    "## 30. Top Earners\n",
    "\n",
    "We define an employee's total earnings to be their monthly salary x months worked, and the maximum total earnings to be the maximum total earnings for any employee in the Employee table. Write a query to find the maximum total earnings for all employees as well as the total number of employees who have maximum total earnings. Then print these values as  2 space-separated integers.\n",
    "\n",
    "**Input Format**\n",
    "\n",
    "The EMPLOYEE table containing employee data for a company is described as follows:\n",
    "![employee](https://s3.amazonaws.com/hr-challenge-images/19629/1458557872-4396838885-ScreenShot2016-03-21at4.27.13PM.png)\n",
    "\n",
    "where employee_id is an employee's ID number, name is their name, months is the total number of months they've been working for the company, and salary is the their monthly salary.\n",
    "\n",
    "**Sample Input**\n",
    "\n",
    "![sampleinput](https://s3.amazonaws.com/hr-challenge-images/19631/1458559098-23bf583125-ScreenShot2016-03-21at4.32.59PM.png)\n",
    "\n",
    "**Sample Output**\n",
    "```\n",
    "69952 1\n",
    "```\n",
    "\n",
    "**Explanation**\n",
    "\n",
    "The table and earnings data is depicted in the following diagram:\n",
    "\n",
    "![explanation](https://s3.amazonaws.com/hr-challenge-images/19631/1458559218-9f37585c7a-ScreenShot2016-03-21at4.49.23PM.png)\n",
    "\n",
    "The maximum earnings value is 69952. The only employee with earnings=69952 is Kimberly, so we print the maximum earnings value (69952) and a count of the number of employees who have earned $69952 (which is 1) as two space-separated values."
   ]
  },
  {
   "cell_type": "markdown",
   "metadata": {},
   "source": [
    "mysql\n",
    "```mysql\n",
    "select max(months*salary), count(*)\n",
    "from employee\n",
    "where months*salary=(select max(months*salary) from employee)\n",
    "```"
   ]
  },
  {
   "cell_type": "markdown",
   "metadata": {},
   "source": [
    "pandas\n",
    "```python\n",
    "e=pd.read_csv('employee.csv')\n",
    "\n",
    "e['earnings']=e['months']*e['salary']\n",
    "maxearnings=e['earnings'].max()\n",
    "print(maxearnings,' ',(e['earnings']==maxearnings).sum())\n",
    "```"
   ]
  },
  {
   "cell_type": "markdown",
   "metadata": {},
   "source": [
    "## 30. Weather Observation Station 2\n",
    "\n",
    "Query the following two values from the STATION table:\n",
    "\n",
    "1. The sum of all values in LAT_N rounded to a scale of 2 decimal places.\n",
    "2. The sum of all values in LONG_W rounded to a scale of 2 decimal places.\n",
    "\n",
    "**Input Format**\n",
    "\n",
    "The STATION table is described as follows:\n",
    "\n",
    "![station](https://s3.amazonaws.com/hr-challenge-images/9336/1449345840-5f0a551030-Station.jpg)\n",
    "\n",
    "where LAT_N is the northern latitude and LONG_W is the western longitude.\n",
    "\n",
    "**Output Format**\n",
    "Your results must be in the form:\n",
    "```\n",
    "lat lon\n",
    "```\n",
    "\n",
    "where lat is the sum of all values in LAT_N and lon is the sum of all values in LONG_W. Both results must be rounded to a scale of 2 decimal places."
   ]
  },
  {
   "cell_type": "markdown",
   "metadata": {},
   "source": [
    "mysql\n",
    "```mysql\n",
    "select round(sum(LAT_N),2),round(sum(LONG_W),2)\n",
    "from station\n",
    "```"
   ]
  },
  {
   "cell_type": "markdown",
   "metadata": {},
   "source": [
    "pandas\n",
    "```python\n",
    "s=pd.read_csv('station.csv)\n",
    "s[['LAT_N','LONG_W']].sum().round(2)\n",
    "```"
   ]
  },
  {
   "cell_type": "markdown",
   "metadata": {},
   "source": [
    "## 31. Weather Observation Station 13\n",
    "\n",
    "Query the sum of Northern Latitudes (LAT_N) from STATION having values greater than 38.7880 and less than 137.2345. Truncate your answer to 4 decimal places.\n",
    "\n",
    "**Input Format**\n",
    "\n",
    "The STATION table is described as follows:\n",
    "\n",
    "![station](https://s3.amazonaws.com/hr-challenge-images/9336/1449345840-5f0a551030-Station.jpg)\n",
    "\n",
    "where LAT_N is the northern latitude and LONG_W is the western longitude."
   ]
  },
  {
   "cell_type": "markdown",
   "metadata": {},
   "source": [
    "mysql\n",
    "```mysql\n",
    "select round(sum(LAT_N),4)\n",
    "from station\n",
    "where LAT_N>38.7880 and LAT_N<137.2345\n",
    "```"
   ]
  },
  {
   "cell_type": "markdown",
   "metadata": {},
   "source": [
    "pandas\n",
    "```python\n",
    "s=pd.read_csv('station.csv)\n",
    "s.loc[(s['LAT_N']>38.7880)&(s['LAT_N']<137.2345),'LAT_N'].sum().round(4)\n",
    "```"
   ]
  },
  {
   "cell_type": "markdown",
   "metadata": {},
   "source": [
    "## 32. Weather Observation Station 14\n",
    "\n",
    "Query the greatest value of the Northern Latitudes (LAT_N) from STATION that is less than 137.2345. Truncate your answer to 4 decimal places.\n",
    "\n",
    "**Input Format**\n",
    "\n",
    "The STATION table is described as follows:\n",
    "\n",
    "![station](https://s3.amazonaws.com/hr-challenge-images/9336/1449345840-5f0a551030-Station.jpg)\n",
    "\n",
    "where LAT_N is the northern latitude and LONG_W is the western longitude."
   ]
  },
  {
   "cell_type": "markdown",
   "metadata": {},
   "source": [
    "mysql\n",
    "```mysql\n",
    "select round(max(LAT_N),4)\n",
    "from station\n",
    "where LAT_N<137.2345\n",
    "```"
   ]
  },
  {
   "cell_type": "markdown",
   "metadata": {},
   "source": [
    "pandas\n",
    "```python\n",
    "s=pd.read_csv('station.csv)\n",
    "s.loc[(s['LAT_N']<137.2345),'LAT_N'].max().round(4)\n",
    "```"
   ]
  },
  {
   "cell_type": "markdown",
   "metadata": {},
   "source": [
    "## 33. Weather Observation Station 15\n",
    "\n",
    "Query the Western Longitude (LONG_W) for the largest Northern Latitude (LAT_N) in STATION that is less than 137.2345. Round your answer to 4 decimal places.\n",
    "\n",
    "**Input Format**\n",
    "\n",
    "The STATION table is described as follows:\n",
    "\n",
    "![station](https://s3.amazonaws.com/hr-challenge-images/9336/1449345840-5f0a551030-Station.jpg)\n",
    "\n",
    "where LAT_N is the northern latitude and LONG_W is the western longitude."
   ]
  },
  {
   "cell_type": "markdown",
   "metadata": {},
   "source": [
    "mysql\n",
    "```mysql\n",
    "select round(LONG_W,4)\n",
    "from station\n",
    "where LAT_N<137.2345\n",
    "order by LAT_N desc limit 1\n",
    "```"
   ]
  },
  {
   "cell_type": "markdown",
   "metadata": {},
   "source": [
    "pandas\n",
    "```python\n",
    "s=pd.read_csv('station.csv)\n",
    "s=s.sort_values('LAT_N',ascending=False)\n",
    "s.loc[(s['LAT_N']<137.2345),'LONG_W'].iloc[1].round(4)\n",
    "```"
   ]
  },
  {
   "cell_type": "markdown",
   "metadata": {},
   "source": [
    "## 34. Weather Observation Station 16\n",
    "\n",
    "Query the smallest Northern Latitude (LAT_N) from STATION that is greater than 38.7880. Round your answer to 4 decimal places.\n",
    "\n",
    "**Input Format**\n",
    "\n",
    "The STATION table is described as follows:\n",
    "\n",
    "![station](https://s3.amazonaws.com/hr-challenge-images/9336/1449345840-5f0a551030-Station.jpg)\n",
    "\n",
    "where LAT_N is the northern latitude and LONG_W is the western longitude."
   ]
  },
  {
   "cell_type": "markdown",
   "metadata": {},
   "source": [
    "mysql\n",
    "```mysql\n",
    "select round(min(LAT_N),4)\n",
    "from station\n",
    "where LAT_N>38.7880\n",
    "```"
   ]
  },
  {
   "cell_type": "markdown",
   "metadata": {},
   "source": [
    "pandas\n",
    "```python\n",
    "s=pd.read_csv('station.csv)\n",
    "s.loc[(s['LAT_N']>38.7880),'LAT_N'].min().round(4)\n",
    "```"
   ]
  },
  {
   "cell_type": "markdown",
   "metadata": {},
   "source": [
    "## 35. Weather Observation Station 17\n",
    "\n",
    "Query the Western Longitude (LONG_W) where the smallest Northern Latitude (LAT_N) in STATION is greater than 38.7880. Round your answer to 4 decimal places.\n",
    "\n",
    "**Input Format**\n",
    "\n",
    "The STATION table is described as follows:\n",
    "\n",
    "![station](https://s3.amazonaws.com/hr-challenge-images/9336/1449345840-5f0a551030-Station.jpg)\n",
    "\n",
    "where LAT_N is the northern latitude and LONG_W is the western longitude."
   ]
  },
  {
   "cell_type": "markdown",
   "metadata": {},
   "source": [
    "mysql\n",
    "```mysql\n",
    "select round(LONG_W,4)\n",
    "from station\n",
    "where LAT_N>38.7880\n",
    "order by LAT_N asc limit 1\n",
    "```"
   ]
  },
  {
   "cell_type": "markdown",
   "metadata": {},
   "source": [
    "pandas\n",
    "```python\n",
    "s=pd.read_csv('station.csv)\n",
    "s=s.sort_values('LAT_N',ascending=True)\n",
    "s.loc[(s['LAT_N']>38.7880),'LONG_W'].iloc[1].round(4)\n",
    "```"
   ]
  },
  {
   "cell_type": "markdown",
   "metadata": {},
   "source": [
    "## 36. Weather Observation Station 18\n",
    "\n",
    "Consider $P_{1}(a,b)$ and $P_{2}(c,d)$ to be two points on a 2D plane.\n",
    "\n",
    "* a happens to equal the minimum value in Northern Latitude (LAT_N in STATION).\n",
    "* b happens to equal the minimum value in Western Longitude (LONG_W in STATION).\n",
    "* c happens to equal the maximum value in Northern Latitude (LAT_N in STATION).\n",
    "* d happens to equal the maximum value in Western Longitude (LONG_W in STATION).\n",
    "\n",
    "Query the [Manhattan Distance](https://xlinux.nist.gov/dads/HTML/manhattanDistance.html) between points $P_{1}$ and $P_{2}$ and round it to a scale of 4 decimal places.\n",
    "\n",
    "**Input Format**\n",
    "\n",
    "The STATION table is described as follows:\n",
    "\n",
    "![station](https://s3.amazonaws.com/hr-challenge-images/9336/1449345840-5f0a551030-Station.jpg)\n",
    "\n",
    "where LAT_N is the northern latitude and LONG_W is the western longitude."
   ]
  },
  {
   "cell_type": "markdown",
   "metadata": {},
   "source": [
    "mysql\n",
    "```mysql\n",
    "select round(max(LAT_N)-min(LAT_N)+max(LONG_W)-min(LONG_W),4)\n",
    "from station\n",
    "```"
   ]
  },
  {
   "cell_type": "markdown",
   "metadata": {},
   "source": [
    "pandas\n",
    "```python\n",
    "s=pd.read_csv('station.csv)\n",
    "latd=s['LAT_N'].max()-s['LAT_N'].min()\n",
    "longd=s['LONG_W'].max()-s['LONG_W'].min()\n",
    "round(latd+longd,4)\n",
    "```"
   ]
  },
  {
   "cell_type": "markdown",
   "metadata": {},
   "source": [
    "## 37. Weather Observation Station 19\n",
    "\n",
    "Consider $P_{1}(a,c)$ and $P_{2}(b,d)$ to be two points on a 2D plane where (a,b) are the respective minimum and maximum values of Northern Latitude (LAT_N) and (c,d) are the respective minimum and maximum values of Western Longitude (LONG_W) in STATION.\n",
    "\n",
    "Query the [Euclidean Distance](https://en.wikipedia.org/wiki/Euclidean_distance) between points $P_{1}$ and $P_{2}$ and format your answer to display 4 decimal digits.\n",
    "\n",
    "\n",
    "**Input Format**\n",
    "\n",
    "The STATION table is described as follows:\n",
    "\n",
    "![station](https://s3.amazonaws.com/hr-challenge-images/9336/1449345840-5f0a551030-Station.jpg)\n",
    "\n",
    "where LAT_N is the northern latitude and LONG_W is the western longitude."
   ]
  },
  {
   "cell_type": "markdown",
   "metadata": {},
   "source": [
    "mysql\n",
    "```mysql\n",
    "select round(sqrt(pow(max(LAT_N)-min(LAT_N),2)+pow(max(LONG_W)-min(LONG_W),2)),4)\n",
    "from station\n",
    "```"
   ]
  },
  {
   "cell_type": "markdown",
   "metadata": {},
   "source": [
    "pandas\n",
    "```python\n",
    "s=pd.read_csv('station.csv')\n",
    "(((s['LAT_N'].max()-s['LAT_N'].min())**2+(s['LONG_W'].max()-s['LONG_W'].min())**2)**0.5).round(4)\n",
    "```"
   ]
  },
  {
   "cell_type": "markdown",
   "metadata": {},
   "source": [
    "## 38. Weather Observation Station 20\n",
    "\n",
    "A [median](https://en.wikipedia.org/wiki/Median) is defined as a number separating the higher half of a data set from the lower half. Query the median of the Northern Latitudes (LAT_N) from STATION and round your answer to 4 decimal places.\n",
    "\n",
    "**Input Format**\n",
    "\n",
    "The STATION table is described as follows:\n",
    "\n",
    "![station](https://s3.amazonaws.com/hr-challenge-images/9336/1449345840-5f0a551030-Station.jpg)\n",
    "\n",
    "where LAT_N is the northern latitude and LONG_W is the western longitude."
   ]
  },
  {
   "cell_type": "markdown",
   "metadata": {},
   "source": [
    "mysql\n",
    "```mysql\n",
    "set @rn=0;\n",
    "select round(avg(LAT_N),4)\n",
    "from (\n",
    "select (@rn:=@rn+1) as rn, LAT_N\n",
    "from station order by LAT_N) as t1\n",
    "where rn = (select ceil(count(*)/2) from station)\n",
    "or rn = (select floor(count(*)/2)+1 from station);\n",
    "```"
   ]
  },
  {
   "cell_type": "markdown",
   "metadata": {},
   "source": [
    "pandas\n",
    "```python\n",
    "s=pd.read_csv('station.csv')\n",
    "s['LAT_N'].median()\n",
    "```"
   ]
  },
  {
   "cell_type": "markdown",
   "metadata": {},
   "source": [
    "## 39. Interviews\n",
    "\n",
    "Samantha interviews many candidates from different colleges using coding challenges and contests. Write a query to print the contest_id, hacker_id, name, and the sums of total_submissions, total_accepted_submissions, total_views, and total_unique_views for each contest sorted by contest_id. Exclude the contest from the result if all four sums are 0.\n",
    "\n",
    "**Note:** A specific contest can be used to screen candidates at more than one college, but each college only holds 1 screening contest.\n",
    "\n",
    "---\n",
    "**Input Format**\n",
    "\n",
    "The following tables hold interview data:\n",
    "\n",
    "* Contests: The contest_id is the id of the contest, hacker_id is the id of the hacker who created the contest, and name is the name of the hacker. \n",
    "![contests](https://s3.amazonaws.com/hr-challenge-images/19596/1458517426-e017c3460e-ScreenShot2016-03-21at4.57.47AM.png)\n",
    "\n",
    "* Colleges: The college_id is the id of the college, and contest_id is the id of the contest that Samantha used to screen the candidates. \n",
    "![colleges](https://s3.amazonaws.com/hr-challenge-images/19596/1458517503-fd4aa63111-ScreenShot2016-03-21at4.57.56AM.png)\n",
    "\n",
    "* Challenges: The challenge_id is the id of the challenge that belongs to one of the contests whose contest_id Samantha forgot, and college_id is the id of the college where the challenge was given to candidates. \n",
    "![challenges](https://s3.amazonaws.com/hr-challenge-images/19596/1458517661-a642f750ce-ScreenShot2016-03-21at4.58.04AM.png)\n",
    "\n",
    "* View_Stats: The challenge_id is the id of the challenge, total_views is the number of times the challenge was viewed by candidates, and total_unique_views is the number of times the challenge was viewed by unique candidates. \n",
    "![view_stats](https://s3.amazonaws.com/hr-challenge-images/19596/1458517983-b4302286a8-ScreenShot2016-03-21at4.58.15AM.png)\n",
    "\n",
    "* Submission_Stats: The challenge_id is the id of the challenge, total_submissions is the number of submissions for the challenge, and total_accepted_submission is the number of submissions that achieved full scores. \n",
    "![submission_stats](https://s3.amazonaws.com/hr-challenge-images/19596/1458518090-80983c916a-ScreenShot2016-03-21at4.58.27AM.png)\n",
    "---\n",
    "**Sample Input**\n",
    "\n",
    "Contests Table:  \n",
    "![conteststable](https://s3.amazonaws.com/hr-challenge-images/19596/1458519044-d788f8a6ee-ScreenShot2016-03-21at4.58.39AM.png)\n",
    "\n",
    "Colleges Table:  \n",
    "![collegestable](https://s3.amazonaws.com/hr-challenge-images/19596/1458519098-912836d6ac-ScreenShot2016-03-21at4.59.22AM.png)\n",
    "\n",
    "Challenges Table:  \n",
    "![challengestable](https://s3.amazonaws.com/hr-challenge-images/19596/1458519120-c531743caf-ScreenShot2016-03-21at4.59.32AM.png)\n",
    "\n",
    "View_Stats Table: \n",
    "![view_statstable](https://s3.amazonaws.com/hr-challenge-images/19596/1458519152-107a67866b-ScreenShot2016-03-21at4.59.43AM.png)\n",
    "\n",
    "Submission_Stats Table: \n",
    "![submission_statstable](https://s3.amazonaws.com/hr-challenge-images/19596/1458519173-091aba871a-ScreenShot2016-03-21at4.59.55AM.png)\n",
    "\n",
    "**Sample Output**\n",
    "```\n",
    "66406 17973 Rose 111 39 156 56\n",
    "66556 79153 Angela 0 0 11 10\n",
    "94828 80275 Frank 150 38 41 15\n",
    "```\n",
    "\n",
    "**Explanation**\n",
    "\n",
    "The contest 66046 is used in the college 11219. In this college 11219, challenges 18765 and 47127 are asked, so from the view and submission stats:\n",
    "\n",
    "* Sum of total submissions = 27+56+28 = 111\n",
    "\n",
    "* Sum of total accepted submissions = 10+18+11 = 39\n",
    "\n",
    "* Sum of total views = 43+72+26+15 = 156\n",
    "\n",
    "* Sum of total unique views = 10+13+19+14 = 56\n",
    "\n",
    "Similarly, we can find the sums for contests 66556 and 94828."
   ]
  },
  {
   "cell_type": "markdown",
   "metadata": {},
   "source": [
    "mysql\n",
    "```mysql\n",
    "SELECT \n",
    "ct.contest_id,ct.hacker_id,ct.name,\n",
    "ifnull(sum(s.total_submissions),0),\n",
    "ifnull(sum(s.total_accepted_submissions),0),\n",
    "ifnull(sum(v.total_views),0),\n",
    "ifnull(sum(v.total_unique_views),0)\n",
    "from contests as ct\n",
    "join colleges as co on ct.contest_id=co.contest_id\n",
    "join challenges as ch on ch.college_id=co.college_id \n",
    "left join (select challenge_id, \n",
    "                  sum(total_views) as total_views, \n",
    "                  sum(total_unique_views) as total_unique_views\n",
    "      from view_stats group by challenge_id) as v\n",
    "on v.challenge_id=ch.challenge_id\n",
    "left join (select challenge_id, \n",
    "                  sum(total_submissions) as total_submissions, \n",
    "                  sum(total_accepted_submissions) as total_accepted_submissions\n",
    "      from submission_stats group by challenge_id) as s\n",
    "on s.challenge_id=ch.challenge_id\n",
    "-- where ct.contest_id=845 and co.college_id=96 and ch.challenge_id=97\n",
    "-- and s.challenge_id is null\n",
    "group by ct.contest_id,ct.hacker_id,ct.name\n",
    "having sum(v.total_views)>0 or sum(v.total_unique_views)>0 \n",
    "or sum(s.total_submissions)>0 or sum(s.total_accepted_submissions)>0\n",
    "order by ct.contest_id asc\n",
    "```"
   ]
  },
  {
   "cell_type": "markdown",
   "metadata": {},
   "source": [
    "pandas\n",
    "```python\n",
    "ct=pd.read_csv('contests.csv')\n",
    "co=pd.read_csv('colleges.csv')\n",
    "ch=pd.read_csv('challenges.csv')\n",
    "v=pd.read_csv('view_stats.csv')\n",
    "s=pd.read_csv('submission_stats.csv')\n",
    "\n",
    "df=pd.merge(left=ct,right=co,on='contest_id',how='inner')\n",
    "df=pd.merge(left=df,right=ch,on='college_id',how='inner')\n",
    "df=pd.merge(left=df,right=v,on='challenge_id',how='left') # left merge because not every challenge_id has views\n",
    "df=pd.merge(left=df,right=s,on='challenge_id',how='left') # left merge because not every challenge_id has submissions\n",
    "\n",
    "r=df.groupby(['contest_id','hacker_id','name'])[['total_submissions','total_accepted_submissions','total_views','total_unique_views']].fillna(0).sum()\n",
    "\n",
    "```"
   ]
  },
  {
   "cell_type": "markdown",
   "metadata": {},
   "source": [
    "## 40. 15 Days of Learning SQL\n",
    "\n",
    "Julia conducted a 15 days of learning SQL contest. The start date of the contest was March 01, 2016 and the end date was March 15, 2016.\n",
    "\n",
    "Write a query to print total number of unique hackers who made at least 1 submission each day (starting on the first day of the contest), and find the hacker_id and name of the hacker who made maximum number of submissions each day. If more than one such hacker has a maximum number of submissions, print the lowest hacker_id. The query should print this information for each day of the contest, sorted by the date.\n",
    "\n",
    "---\n",
    "\n",
    "**Input Format**\n",
    "\n",
    "The following tables contain contest data:\n",
    "\n",
    "* Hackers: The hacker_id is the id of the hacker, and name is the name of the hacker.\n",
    "![Hackers](https://s3.amazonaws.com/hr-challenge-images/19597/1458511164-12adec3b8b-ScreenShot2016-03-21at3.26.47AM.png)\n",
    "* Submissions: The submission_date is the date of the submission, submission_id is the id of the submission, hacker_id is the id of the hacker who made the submission, and score is the score of the submission. \n",
    "![Submissions](https://s3.amazonaws.com/hr-challenge-images/19597/1458511251-0b534030b9-ScreenShot2016-03-21at3.26.56AM.png)\n",
    "\n",
    "**Sample Input**\n",
    "\n",
    "For the following sample input, assume that the end date of the contest was March 06, 2016.\n",
    "\n",
    "Hackers Table:\n",
    "![HackersTable](https://s3.amazonaws.com/hr-challenge-images/19597/1458511957-814a2c7bf2-ScreenShot2016-03-21at3.27.06AM.png)\n",
    "Submissions Table:\n",
    "![SubmissionsTable](https://s3.amazonaws.com/hr-challenge-images/19597/1458512015-ff6a708164-ScreenShot2016-03-21at3.27.21AM.png)\n",
    "\n",
    "**Sample Output**\n",
    "```\n",
    "2016-03-01 4 20703 Angela\n",
    "2016-03-02 2 79722 Michael\n",
    "2016-03-03 2 20703 Angela\n",
    "2016-03-04 2 20703 Angela\n",
    "2016-03-05 1 36396 Frank\n",
    "2016-03-06 1 20703 Angela\n",
    "```\n",
    "\n",
    "**Explanation**\n",
    "\n",
    "On March 01, 2016 hackers 20703, 36396, 53473, and 79722 made submissions. There are 4 unique hackers who made at least one submission each day. As each hacker made one submission, 20703 is considered to be the hacker who made maximum number of submissions on this day. The name of the hacker is Angela.\n",
    "\n",
    "On March 02, 2016 hackers 15758, 20703, and 79722 made submissions. Now 20703 and 79722 were the only ones to submit every day, so there are 2 unique hackers who made at least one submission each day. 79722 made 2 submissions, and name of the hacker is Michael.\n",
    "\n",
    "On March 03, 2016 hackers 20703, 36396, and 79722 made submissions. Now 20703 and 79722 were the only ones, so there are 2 unique hackers who made at least one submission each day. As each hacker made one submission so 20703 is considered to be the hacker who made maximum number of submissions on this day. The name of the hacker is Angela.\n",
    "\n",
    "On March 04, 2016 hackers 20703, 44065, 53473, and  made submissions. Now 20703 and 79722 only submitted each day, so there are 2 unique hackers who made at least one submission each day. As each hacker made one submission so 20703 is considered to be the hacker who made maximum number of submissions on this day. The name of the hacker is Angela.\n",
    "\n",
    "On March 05, 2016 hackers 20703, 36396, 38289 and 62529 made submissions. Now 20703 only submitted each day, so there is only 1 unique hacker who made at least one submission each day. 36396 made 1 submissions and name of the hacker is Frank.\n",
    "\n",
    "On March 06, 2016 only 20703 made submission, so there is only 1 unique hacker who made at least one submission each day. 20703 made 1 submission and name of the hacker is Angela."
   ]
  },
  {
   "cell_type": "markdown",
   "metadata": {},
   "source": [
    "mysql\n",
    "```mysql\n",
    "-- select t1.submission_date,t1.hacker_id,h.name\n",
    "select t3.submission_date,hc.hcount,h.hacker_id,h.name\n",
    "from hackers as h\n",
    "join (\n",
    "        select t1.submission_date,t1.scount,min(t1.hacker_id) as hacker_id\n",
    "        from (select submission_date, hacker_id, count(submission_id) as scount\n",
    "              from submissions group by submission_date, hacker_id) as t1\n",
    "        join (select submission_date,max(scount) as maxscount\n",
    "              from (select submission_date, hacker_id, count(submission_id) as scount\n",
    "                    from submissions\n",
    "                    group by submission_date, hacker_id) as subcounts\n",
    "              group by submission_date) as t2\n",
    "        on t1.scount=t2.maxscount and t1.submission_date=t2.submission_date\n",
    "        group by t1.submission_date,t1.scount\n",
    ") as t3 on h.hacker_id=t3.hacker_id\n",
    "join (select submission_date,count(distinct hacker_id) as hcount\n",
    "      from submissions group by submission_date) as hc\n",
    "on t3.submission_date=hc.submission_date\n",
    "order by t3.submission_date asc\n",
    "```"
   ]
  },
  {
   "cell_type": "markdown",
   "metadata": {},
   "source": [
    "pandas\n",
    "```python\n",
    "\n",
    "```"
   ]
  },
  {
   "cell_type": "code",
   "execution_count": null,
   "metadata": {
    "collapsed": true
   },
   "outputs": [],
   "source": []
  },
  {
   "cell_type": "code",
   "execution_count": null,
   "metadata": {
    "collapsed": true
   },
   "outputs": [],
   "source": []
  },
  {
   "cell_type": "markdown",
   "metadata": {},
   "source": [
    "mysql\n",
    "```mysql\n",
    "\n",
    "```"
   ]
  },
  {
   "cell_type": "markdown",
   "metadata": {},
   "source": [
    "pandas\n",
    "```python\n",
    "\n",
    "```"
   ]
  },
  {
   "cell_type": "markdown",
   "metadata": {
    "collapsed": true
   },
   "source": [
    "## Experimental Cells"
   ]
  },
  {
   "cell_type": "code",
   "execution_count": 40,
   "metadata": {},
   "outputs": [
    {
     "data": {
      "text/plain": [
       "array([], dtype=object)"
      ]
     },
     "execution_count": 40,
     "metadata": {},
     "output_type": "execute_result"
    }
   ],
   "source": [
    "df.loc[(df[0].str[-1].isin(['a','e','i','o','u']))&(df[0].str[0].isin(['a','e','i','o','u'])),0].unique()"
   ]
  },
  {
   "cell_type": "code",
   "execution_count": 47,
   "metadata": {},
   "outputs": [
    {
     "data": {
      "text/html": [
       "<div>\n",
       "<style scoped>\n",
       "    .dataframe tbody tr th:only-of-type {\n",
       "        vertical-align: middle;\n",
       "    }\n",
       "\n",
       "    .dataframe tbody tr th {\n",
       "        vertical-align: top;\n",
       "    }\n",
       "\n",
       "    .dataframe thead th {\n",
       "        text-align: right;\n",
       "    }\n",
       "</style>\n",
       "<table border=\"1\" class=\"dataframe\">\n",
       "  <thead>\n",
       "    <tr style=\"text-align: right;\">\n",
       "      <th></th>\n",
       "      <th>0</th>\n",
       "      <th>namelength</th>\n",
       "    </tr>\n",
       "  </thead>\n",
       "  <tbody>\n",
       "    <tr>\n",
       "      <th>1</th>\n",
       "      <td>asdkjhg</td>\n",
       "      <td>7</td>\n",
       "    </tr>\n",
       "    <tr>\n",
       "      <th>0</th>\n",
       "      <td>asdlkjg</td>\n",
       "      <td>7</td>\n",
       "    </tr>\n",
       "    <tr>\n",
       "      <th>2</th>\n",
       "      <td>asdlkfjwlektjlhk</td>\n",
       "      <td>16</td>\n",
       "    </tr>\n",
       "    <tr>\n",
       "      <th>3</th>\n",
       "      <td>California</td>\n",
       "      <td>10</td>\n",
       "    </tr>\n",
       "  </tbody>\n",
       "</table>\n",
       "</div>"
      ],
      "text/plain": [
       "                  0  namelength\n",
       "1           asdkjhg           7\n",
       "0           asdlkjg           7\n",
       "2  asdlkfjwlektjlhk          16\n",
       "3        California          10"
      ]
     },
     "execution_count": 47,
     "metadata": {},
     "output_type": "execute_result"
    }
   ],
   "source": [
    "df.loc[df[0].str[-3:].sort_values().index]"
   ]
  },
  {
   "cell_type": "code",
   "execution_count": 50,
   "metadata": {
    "collapsed": true
   },
   "outputs": [],
   "source": [
    "df['substring']=df[0].str[-3:]"
   ]
  },
  {
   "cell_type": "code",
   "execution_count": 61,
   "metadata": {},
   "outputs": [
    {
     "data": {
      "text/html": [
       "<div>\n",
       "<style scoped>\n",
       "    .dataframe tbody tr th:only-of-type {\n",
       "        vertical-align: middle;\n",
       "    }\n",
       "\n",
       "    .dataframe tbody tr th {\n",
       "        vertical-align: top;\n",
       "    }\n",
       "\n",
       "    .dataframe thead th {\n",
       "        text-align: right;\n",
       "    }\n",
       "</style>\n",
       "<table border=\"1\" class=\"dataframe\">\n",
       "  <thead>\n",
       "    <tr style=\"text-align: right;\">\n",
       "      <th></th>\n",
       "      <th>0</th>\n",
       "      <th>namelength</th>\n",
       "      <th>substring</th>\n",
       "    </tr>\n",
       "    <tr>\n",
       "      <th>indexname</th>\n",
       "      <th></th>\n",
       "      <th></th>\n",
       "      <th></th>\n",
       "    </tr>\n",
       "  </thead>\n",
       "  <tbody>\n",
       "    <tr>\n",
       "      <th>1</th>\n",
       "      <td>asdkjhg</td>\n",
       "      <td>7</td>\n",
       "      <td>jhg</td>\n",
       "    </tr>\n",
       "    <tr>\n",
       "      <th>0</th>\n",
       "      <td>asdlkjg</td>\n",
       "      <td>7</td>\n",
       "      <td>kjg</td>\n",
       "    </tr>\n",
       "    <tr>\n",
       "      <th>2</th>\n",
       "      <td>asdlkfjwlektjlhk</td>\n",
       "      <td>16</td>\n",
       "      <td>lhk</td>\n",
       "    </tr>\n",
       "    <tr>\n",
       "      <th>3</th>\n",
       "      <td>California</td>\n",
       "      <td>10</td>\n",
       "      <td>nia</td>\n",
       "    </tr>\n",
       "  </tbody>\n",
       "</table>\n",
       "</div>"
      ],
      "text/plain": [
       "                          0  namelength substring\n",
       "indexname                                        \n",
       "1                   asdkjhg           7       jhg\n",
       "0                   asdlkjg           7       kjg\n",
       "2          asdlkfjwlektjlhk          16       lhk\n",
       "3                California          10       nia"
      ]
     },
     "execution_count": 61,
     "metadata": {},
     "output_type": "execute_result"
    }
   ],
   "source": [
    "df.sort_values(['substring','indexname'])"
   ]
  },
  {
   "cell_type": "code",
   "execution_count": 241,
   "metadata": {},
   "outputs": [
    {
     "data": {
      "text/html": [
       "<div>\n",
       "<style scoped>\n",
       "    .dataframe tbody tr th:only-of-type {\n",
       "        vertical-align: middle;\n",
       "    }\n",
       "\n",
       "    .dataframe tbody tr th {\n",
       "        vertical-align: top;\n",
       "    }\n",
       "\n",
       "    .dataframe thead th {\n",
       "        text-align: right;\n",
       "    }\n",
       "</style>\n",
       "<table border=\"1\" class=\"dataframe\">\n",
       "  <thead>\n",
       "    <tr style=\"text-align: right;\">\n",
       "      <th></th>\n",
       "      <th>name</th>\n",
       "      <th>marks</th>\n",
       "    </tr>\n",
       "  </thead>\n",
       "  <tbody>\n",
       "    <tr>\n",
       "      <th>0</th>\n",
       "      <td>Maria</td>\n",
       "      <td>99</td>\n",
       "    </tr>\n",
       "    <tr>\n",
       "      <th>1</th>\n",
       "      <td>Jane</td>\n",
       "      <td>81</td>\n",
       "    </tr>\n",
       "    <tr>\n",
       "      <th>2</th>\n",
       "      <td>Julia</td>\n",
       "      <td>88</td>\n",
       "    </tr>\n",
       "    <tr>\n",
       "      <th>3</th>\n",
       "      <td>Scarlet</td>\n",
       "      <td>78</td>\n",
       "    </tr>\n",
       "    <tr>\n",
       "      <th>4</th>\n",
       "      <td>Ashley</td>\n",
       "      <td>63</td>\n",
       "    </tr>\n",
       "    <tr>\n",
       "      <th>5</th>\n",
       "      <td>Samantha</td>\n",
       "      <td>68</td>\n",
       "    </tr>\n",
       "  </tbody>\n",
       "</table>\n",
       "</div>"
      ],
      "text/plain": [
       "       name  marks\n",
       "0     Maria     99\n",
       "1      Jane     81\n",
       "2     Julia     88\n",
       "3   Scarlet     78\n",
       "4    Ashley     63\n",
       "5  Samantha     68"
      ]
     },
     "execution_count": 241,
     "metadata": {},
     "output_type": "execute_result"
    }
   ],
   "source": [
    "s"
   ]
  },
  {
   "cell_type": "code",
   "execution_count": 1,
   "metadata": {
    "collapsed": true
   },
   "outputs": [],
   "source": [
    "# create test data\n",
    "import pandas as pd\n",
    "import numpy as np\n",
    "import seaborn as sns\n",
    "\n",
    "s=pd.DataFrame()\n",
    "s['name']=['Maria','Jane','Julia','Scarlet','Ashley','Samantha']\n",
    "s['marks']=[99,81,88,78,63,68]\n",
    "\n",
    "g=pd.DataFrame()\n",
    "g['grade']=np.arange(1,11)\n",
    "g['min_mark']=np.arange(0,100,10)\n",
    "g['max_mark']=np.arange(9,109,10)\n",
    "# replace final score with 100\n",
    "g['max_mark'].iloc[-1]=100"
   ]
  },
  {
   "cell_type": "code",
   "execution_count": 2,
   "metadata": {
    "collapsed": true
   },
   "outputs": [],
   "source": [
    "# cheating math method\n",
    "s['grade']=(s['marks']/10).astype(int)+1"
   ]
  },
  {
   "cell_type": "code",
   "execution_count": 3,
   "metadata": {
    "collapsed": true
   },
   "outputs": [],
   "source": [
    "# using dot product and lambda function\n",
    "s['grade']=s['marks'].apply(lambda x: ((x>=g['min_mark'])&(x<=g['max_mark'])).dot(g['grade']))"
   ]
  },
  {
   "cell_type": "code",
   "execution_count": 10,
   "metadata": {},
   "outputs": [
    {
     "data": {
      "text/plain": [
       "marks    79.50\n",
       "grade     8.33\n",
       "dtype: float64"
      ]
     },
     "execution_count": 10,
     "metadata": {},
     "output_type": "execute_result"
    }
   ],
   "source": [
    "s[['marks','grade']].mean().round(2)"
   ]
  },
  {
   "cell_type": "code",
   "execution_count": 4,
   "metadata": {},
   "outputs": [
    {
     "data": {
      "text/html": [
       "<div>\n",
       "<style scoped>\n",
       "    .dataframe tbody tr th:only-of-type {\n",
       "        vertical-align: middle;\n",
       "    }\n",
       "\n",
       "    .dataframe tbody tr th {\n",
       "        vertical-align: top;\n",
       "    }\n",
       "\n",
       "    .dataframe thead th {\n",
       "        text-align: right;\n",
       "    }\n",
       "</style>\n",
       "<table border=\"1\" class=\"dataframe\">\n",
       "  <thead>\n",
       "    <tr style=\"text-align: right;\">\n",
       "      <th></th>\n",
       "      <th>outputname</th>\n",
       "      <th>grade</th>\n",
       "      <th>marks</th>\n",
       "    </tr>\n",
       "  </thead>\n",
       "  <tbody>\n",
       "    <tr>\n",
       "      <th>0</th>\n",
       "      <td>Maria</td>\n",
       "      <td>10</td>\n",
       "      <td>99</td>\n",
       "    </tr>\n",
       "    <tr>\n",
       "      <th>1</th>\n",
       "      <td>Jane</td>\n",
       "      <td>9</td>\n",
       "      <td>81</td>\n",
       "    </tr>\n",
       "    <tr>\n",
       "      <th>2</th>\n",
       "      <td>Julia</td>\n",
       "      <td>9</td>\n",
       "      <td>88</td>\n",
       "    </tr>\n",
       "    <tr>\n",
       "      <th>3</th>\n",
       "      <td>Scarlet</td>\n",
       "      <td>8</td>\n",
       "      <td>78</td>\n",
       "    </tr>\n",
       "    <tr>\n",
       "      <th>5</th>\n",
       "      <td>None</td>\n",
       "      <td>7</td>\n",
       "      <td>68</td>\n",
       "    </tr>\n",
       "    <tr>\n",
       "      <th>4</th>\n",
       "      <td>None</td>\n",
       "      <td>7</td>\n",
       "      <td>63</td>\n",
       "    </tr>\n",
       "  </tbody>\n",
       "</table>\n",
       "</div>"
      ],
      "text/plain": [
       "  outputname  grade  marks\n",
       "0      Maria     10     99\n",
       "1       Jane      9     81\n",
       "2      Julia      9     88\n",
       "3    Scarlet      8     78\n",
       "5       None      7     68\n",
       "4       None      7     63"
      ]
     },
     "execution_count": 4,
     "metadata": {},
     "output_type": "execute_result"
    }
   ],
   "source": [
    "# formatting\n",
    "s['outputname']=s['name']\n",
    "s.loc[s['grade']<8,'outputname']=None\n",
    "s.sort_values(['grade','outputname','marks'],ascending=[False,True,False],inplace=True)\n",
    "s[['outputname','grade','marks']]"
   ]
  },
  {
   "cell_type": "code",
   "execution_count": 5,
   "metadata": {
    "collapsed": true
   },
   "outputs": [],
   "source": [
    "g.index=pd.IntervalIndex.from_arrays(g['min_mark'],g['max_mark'],closed='both')"
   ]
  },
  {
   "cell_type": "code",
   "execution_count": 6,
   "metadata": {
    "collapsed": true
   },
   "outputs": [],
   "source": [
    "# s['marks2']=s['marks'].apply(lambda x: g.iloc[g.index.get_loc(x)]['grade'])\n",
    "# s['marks3']=g.iloc[g.index.get_indexer(s['marks'])]['grade'].reset_index(drop=True)"
   ]
  },
  {
   "cell_type": "code",
   "execution_count": 7,
   "metadata": {
    "collapsed": true
   },
   "outputs": [],
   "source": [
    "# # create test data\n",
    "# h=pd.DataFrame(s['name']).reset_index()\n",
    "# h.columns=['hacker_id','name']\n",
    "# sub=g.copy().reset_index()\n",
    "# sub.columns=['hacker_id','grade','min_mark','max_mark']\n",
    "\n",
    "# # test join function\n",
    "# h.join(sub,on='hacker_id',how='inner')"
   ]
  },
  {
   "cell_type": "code",
   "execution_count": 8,
   "metadata": {
    "collapsed": true
   },
   "outputs": [],
   "source": [
    "df = pd.DataFrame({'key': ['K0', 'K1', 'K2', 'K3', 'K4', 'K5'],\n",
    "...                    'A': ['A0', 'A1', 'A2', 'A3', 'A4', 'A5']})\n",
    "\n",
    "other = pd.DataFrame({'key': ['K0', 'K1', 'K2'],\n",
    "...                       'B': ['B0', 'B1', 'B2']})\n",
    "\n",
    "other2 = pd.DataFrame({'key': ['K1','K3', 'K4', 'K5', 'K5'],\n",
    "...                       'C': ['C1','C3', 'C4', 'C5','C5_2']}) "
   ]
  },
  {
   "cell_type": "code",
   "execution_count": 9,
   "metadata": {
    "collapsed": true
   },
   "outputs": [],
   "source": [
    "mdf=pd.merge(left=df,right=other,on='key',how='left')\n",
    "mdf['nums']=np.random.randint(1,100,6)\n",
    "mdf.loc[6]=['K2','A2','B2',890]"
   ]
  },
  {
   "cell_type": "code",
   "execution_count": 10,
   "metadata": {},
   "outputs": [
    {
     "data": {
      "text/plain": [
       "key  A   B \n",
       "K0   A0  B0     82\n",
       "K1   A1  B1     83\n",
       "K2   A2  B2    890\n",
       "Name: nums, dtype: int64"
      ]
     },
     "execution_count": 10,
     "metadata": {},
     "output_type": "execute_result"
    }
   ],
   "source": [
    "mdf.groupby(['key','A','B'])['nums'].max()"
   ]
  },
  {
   "cell_type": "code",
   "execution_count": 11,
   "metadata": {
    "collapsed": true
   },
   "outputs": [],
   "source": [
    "groups=mdf.groupby(['key','A'])\n",
    "result=groups['B'].count().reset_index()\n",
    "max_count=result['B'].max()\n",
    "singles=(result['B'].value_counts()==1).index"
   ]
  },
  {
   "cell_type": "code",
   "execution_count": 12,
   "metadata": {},
   "outputs": [
    {
     "data": {
      "text/plain": [
       "Int64Index([2], dtype='int64')"
      ]
     },
     "execution_count": 12,
     "metadata": {},
     "output_type": "execute_result"
    }
   ],
   "source": [
    "ccounts=result['B'].value_counts()\n",
    "ccounts[ccounts==1].index"
   ]
  },
  {
   "cell_type": "code",
   "execution_count": 297,
   "metadata": {},
   "outputs": [
    {
     "data": {
      "text/plain": [
       "0    False\n",
       "1    False\n",
       "2     True\n",
       "3    False\n",
       "4    False\n",
       "5    False\n",
       "Name: B, dtype: bool"
      ]
     },
     "execution_count": 297,
     "metadata": {},
     "output_type": "execute_result"
    }
   ],
   "source": [
    "result.groupby('B')['B'].transform('size')==1"
   ]
  },
  {
   "cell_type": "code",
   "execution_count": 305,
   "metadata": {},
   "outputs": [
    {
     "data": {
      "text/html": [
       "<div>\n",
       "<style scoped>\n",
       "    .dataframe tbody tr th:only-of-type {\n",
       "        vertical-align: middle;\n",
       "    }\n",
       "\n",
       "    .dataframe tbody tr th {\n",
       "        vertical-align: top;\n",
       "    }\n",
       "\n",
       "    .dataframe thead th {\n",
       "        text-align: right;\n",
       "    }\n",
       "</style>\n",
       "<table border=\"1\" class=\"dataframe\">\n",
       "  <thead>\n",
       "    <tr style=\"text-align: right;\">\n",
       "      <th></th>\n",
       "      <th>key</th>\n",
       "      <th>A</th>\n",
       "      <th>B</th>\n",
       "    </tr>\n",
       "  </thead>\n",
       "  <tbody>\n",
       "    <tr>\n",
       "      <th>2</th>\n",
       "      <td>K2</td>\n",
       "      <td>A2</td>\n",
       "      <td>2</td>\n",
       "    </tr>\n",
       "  </tbody>\n",
       "</table>\n",
       "</div>"
      ],
      "text/plain": [
       "  key   A  B\n",
       "2  K2  A2  2"
      ]
     },
     "execution_count": 305,
     "metadata": {},
     "output_type": "execute_result"
    }
   ],
   "source": [
    "result.drop_duplicates(subset='B',keep=False)"
   ]
  },
  {
   "cell_type": "code",
   "execution_count": 301,
   "metadata": {},
   "outputs": [
    {
     "data": {
      "text/html": [
       "<div>\n",
       "<style scoped>\n",
       "    .dataframe tbody tr th:only-of-type {\n",
       "        vertical-align: middle;\n",
       "    }\n",
       "\n",
       "    .dataframe tbody tr th {\n",
       "        vertical-align: top;\n",
       "    }\n",
       "\n",
       "    .dataframe thead th {\n",
       "        text-align: right;\n",
       "    }\n",
       "</style>\n",
       "<table border=\"1\" class=\"dataframe\">\n",
       "  <thead>\n",
       "    <tr style=\"text-align: right;\">\n",
       "      <th></th>\n",
       "      <th>key</th>\n",
       "      <th>A</th>\n",
       "      <th>B</th>\n",
       "    </tr>\n",
       "  </thead>\n",
       "  <tbody>\n",
       "    <tr>\n",
       "      <th>0</th>\n",
       "      <td>K0</td>\n",
       "      <td>A0</td>\n",
       "      <td>1</td>\n",
       "    </tr>\n",
       "    <tr>\n",
       "      <th>1</th>\n",
       "      <td>K1</td>\n",
       "      <td>A1</td>\n",
       "      <td>1</td>\n",
       "    </tr>\n",
       "    <tr>\n",
       "      <th>2</th>\n",
       "      <td>K2</td>\n",
       "      <td>A2</td>\n",
       "      <td>2</td>\n",
       "    </tr>\n",
       "    <tr>\n",
       "      <th>3</th>\n",
       "      <td>K3</td>\n",
       "      <td>A3</td>\n",
       "      <td>0</td>\n",
       "    </tr>\n",
       "    <tr>\n",
       "      <th>4</th>\n",
       "      <td>K4</td>\n",
       "      <td>A4</td>\n",
       "      <td>0</td>\n",
       "    </tr>\n",
       "    <tr>\n",
       "      <th>5</th>\n",
       "      <td>K5</td>\n",
       "      <td>A5</td>\n",
       "      <td>0</td>\n",
       "    </tr>\n",
       "  </tbody>\n",
       "</table>\n",
       "</div>"
      ],
      "text/plain": [
       "  key   A  B\n",
       "0  K0  A0  1\n",
       "1  K1  A1  1\n",
       "2  K2  A2  2\n",
       "3  K3  A3  0\n",
       "4  K4  A4  0\n",
       "5  K5  A5  0"
      ]
     },
     "execution_count": 301,
     "metadata": {},
     "output_type": "execute_result"
    }
   ],
   "source": [
    "result"
   ]
  },
  {
   "cell_type": "code",
   "execution_count": 235,
   "metadata": {},
   "outputs": [
    {
     "data": {
      "text/html": [
       "<div>\n",
       "<style scoped>\n",
       "    .dataframe tbody tr th:only-of-type {\n",
       "        vertical-align: middle;\n",
       "    }\n",
       "\n",
       "    .dataframe tbody tr th {\n",
       "        vertical-align: top;\n",
       "    }\n",
       "\n",
       "    .dataframe thead th {\n",
       "        text-align: right;\n",
       "    }\n",
       "</style>\n",
       "<table border=\"1\" class=\"dataframe\">\n",
       "  <thead>\n",
       "    <tr style=\"text-align: right;\">\n",
       "      <th></th>\n",
       "      <th>key</th>\n",
       "      <th>A</th>\n",
       "      <th>B</th>\n",
       "      <th>nums</th>\n",
       "    </tr>\n",
       "  </thead>\n",
       "  <tbody>\n",
       "    <tr>\n",
       "      <th>0</th>\n",
       "      <td>K0</td>\n",
       "      <td>A0</td>\n",
       "      <td>B0</td>\n",
       "      <td>5</td>\n",
       "    </tr>\n",
       "    <tr>\n",
       "      <th>1</th>\n",
       "      <td>K1</td>\n",
       "      <td>A1</td>\n",
       "      <td>B1</td>\n",
       "      <td>33</td>\n",
       "    </tr>\n",
       "    <tr>\n",
       "      <th>2</th>\n",
       "      <td>K2</td>\n",
       "      <td>A2</td>\n",
       "      <td>B2</td>\n",
       "      <td>92</td>\n",
       "    </tr>\n",
       "    <tr>\n",
       "      <th>3</th>\n",
       "      <td>K3</td>\n",
       "      <td>A3</td>\n",
       "      <td>NaN</td>\n",
       "      <td>4</td>\n",
       "    </tr>\n",
       "    <tr>\n",
       "      <th>4</th>\n",
       "      <td>K4</td>\n",
       "      <td>A4</td>\n",
       "      <td>NaN</td>\n",
       "      <td>74</td>\n",
       "    </tr>\n",
       "    <tr>\n",
       "      <th>5</th>\n",
       "      <td>K5</td>\n",
       "      <td>A5</td>\n",
       "      <td>NaN</td>\n",
       "      <td>13</td>\n",
       "    </tr>\n",
       "  </tbody>\n",
       "</table>\n",
       "</div>"
      ],
      "text/plain": [
       "  key   A    B  nums\n",
       "0  K0  A0   B0     5\n",
       "1  K1  A1   B1    33\n",
       "2  K2  A2   B2    92\n",
       "3  K3  A3  NaN     4\n",
       "4  K4  A4  NaN    74\n",
       "5  K5  A5  NaN    13"
      ]
     },
     "execution_count": 235,
     "metadata": {},
     "output_type": "execute_result"
    }
   ],
   "source": [
    "mdf"
   ]
  },
  {
   "cell_type": "code",
   "execution_count": 220,
   "metadata": {},
   "outputs": [
    {
     "data": {
      "text/html": [
       "<div>\n",
       "<style scoped>\n",
       "    .dataframe tbody tr th:only-of-type {\n",
       "        vertical-align: middle;\n",
       "    }\n",
       "\n",
       "    .dataframe tbody tr th {\n",
       "        vertical-align: top;\n",
       "    }\n",
       "\n",
       "    .dataframe thead th {\n",
       "        text-align: right;\n",
       "    }\n",
       "</style>\n",
       "<table border=\"1\" class=\"dataframe\">\n",
       "  <thead>\n",
       "    <tr style=\"text-align: right;\">\n",
       "      <th></th>\n",
       "      <th>key</th>\n",
       "      <th>A</th>\n",
       "      <th>B</th>\n",
       "    </tr>\n",
       "  </thead>\n",
       "  <tbody>\n",
       "    <tr>\n",
       "      <th>0</th>\n",
       "      <td>K0</td>\n",
       "      <td>A0</td>\n",
       "      <td>B0</td>\n",
       "    </tr>\n",
       "    <tr>\n",
       "      <th>1</th>\n",
       "      <td>K1</td>\n",
       "      <td>A1</td>\n",
       "      <td>B1</td>\n",
       "    </tr>\n",
       "    <tr>\n",
       "      <th>2</th>\n",
       "      <td>K2</td>\n",
       "      <td>A2</td>\n",
       "      <td>B2</td>\n",
       "    </tr>\n",
       "    <tr>\n",
       "      <th>3</th>\n",
       "      <td>K3</td>\n",
       "      <td>A3</td>\n",
       "      <td>NaN</td>\n",
       "    </tr>\n",
       "    <tr>\n",
       "      <th>4</th>\n",
       "      <td>K4</td>\n",
       "      <td>A4</td>\n",
       "      <td>NaN</td>\n",
       "    </tr>\n",
       "    <tr>\n",
       "      <th>5</th>\n",
       "      <td>K5</td>\n",
       "      <td>A5</td>\n",
       "      <td>NaN</td>\n",
       "    </tr>\n",
       "  </tbody>\n",
       "</table>\n",
       "</div>"
      ],
      "text/plain": [
       "  key   A    B\n",
       "0  K0  A0   B0\n",
       "1  K1  A1   B1\n",
       "2  K2  A2   B2\n",
       "3  K3  A3  NaN\n",
       "4  K4  A4  NaN\n",
       "5  K5  A5  NaN"
      ]
     },
     "execution_count": 220,
     "metadata": {},
     "output_type": "execute_result"
    }
   ],
   "source": [
    "mdf['nums']=rand()"
   ]
  },
  {
   "cell_type": "code",
   "execution_count": null,
   "metadata": {
    "collapsed": true
   },
   "outputs": [],
   "source": []
  },
  {
   "cell_type": "code",
   "execution_count": 211,
   "metadata": {
    "collapsed": true
   },
   "outputs": [],
   "source": [
    "test=df.join(other.set_index('key'),on='key',how='left').join(other2.set_index('key'),on='key',how='left')\n",
    "test.loc[4,'B']='B4'"
   ]
  },
  {
   "cell_type": "code",
   "execution_count": 208,
   "metadata": {},
   "outputs": [
    {
     "data": {
      "text/html": [
       "<div>\n",
       "<style scoped>\n",
       "    .dataframe tbody tr th:only-of-type {\n",
       "        vertical-align: middle;\n",
       "    }\n",
       "\n",
       "    .dataframe tbody tr th {\n",
       "        vertical-align: top;\n",
       "    }\n",
       "\n",
       "    .dataframe thead th {\n",
       "        text-align: right;\n",
       "    }\n",
       "</style>\n",
       "<table border=\"1\" class=\"dataframe\">\n",
       "  <thead>\n",
       "    <tr style=\"text-align: right;\">\n",
       "      <th></th>\n",
       "      <th>key</th>\n",
       "      <th>B</th>\n",
       "    </tr>\n",
       "  </thead>\n",
       "  <tbody>\n",
       "    <tr>\n",
       "      <th>0</th>\n",
       "      <td>K0</td>\n",
       "      <td>B0</td>\n",
       "    </tr>\n",
       "    <tr>\n",
       "      <th>1</th>\n",
       "      <td>K1</td>\n",
       "      <td>B1</td>\n",
       "    </tr>\n",
       "    <tr>\n",
       "      <th>2</th>\n",
       "      <td>K2</td>\n",
       "      <td>B2</td>\n",
       "    </tr>\n",
       "  </tbody>\n",
       "</table>\n",
       "</div>"
      ],
      "text/plain": [
       "  key   B\n",
       "0  K0  B0\n",
       "1  K1  B1\n",
       "2  K2  B2"
      ]
     },
     "execution_count": 208,
     "metadata": {},
     "output_type": "execute_result"
    }
   ],
   "source": [
    "other"
   ]
  },
  {
   "cell_type": "code",
   "execution_count": 214,
   "metadata": {},
   "outputs": [
    {
     "data": {
      "text/html": [
       "<div>\n",
       "<style scoped>\n",
       "    .dataframe tbody tr th:only-of-type {\n",
       "        vertical-align: middle;\n",
       "    }\n",
       "\n",
       "    .dataframe tbody tr th {\n",
       "        vertical-align: top;\n",
       "    }\n",
       "\n",
       "    .dataframe thead th {\n",
       "        text-align: right;\n",
       "    }\n",
       "</style>\n",
       "<table border=\"1\" class=\"dataframe\">\n",
       "  <thead>\n",
       "    <tr style=\"text-align: right;\">\n",
       "      <th></th>\n",
       "      <th>key</th>\n",
       "      <th>A</th>\n",
       "      <th>B</th>\n",
       "      <th>C</th>\n",
       "    </tr>\n",
       "  </thead>\n",
       "  <tbody>\n",
       "    <tr>\n",
       "      <th>0</th>\n",
       "      <td>K0</td>\n",
       "      <td>A0</td>\n",
       "      <td>B0</td>\n",
       "      <td>NaN</td>\n",
       "    </tr>\n",
       "    <tr>\n",
       "      <th>1</th>\n",
       "      <td>K1</td>\n",
       "      <td>A1</td>\n",
       "      <td>B1</td>\n",
       "      <td>C1</td>\n",
       "    </tr>\n",
       "    <tr>\n",
       "      <th>2</th>\n",
       "      <td>K2</td>\n",
       "      <td>A2</td>\n",
       "      <td>B2</td>\n",
       "      <td>NaN</td>\n",
       "    </tr>\n",
       "  </tbody>\n",
       "</table>\n",
       "</div>"
      ],
      "text/plain": [
       "  key   A   B    C\n",
       "0  K0  A0  B0  NaN\n",
       "1  K1  A1  B1   C1\n",
       "2  K2  A2  B2  NaN"
      ]
     },
     "execution_count": 214,
     "metadata": {},
     "output_type": "execute_result"
    }
   ],
   "source": [
    "test.join(other.set_index(['key','B']),on=['key','B'],how='inner')"
   ]
  },
  {
   "cell_type": "code",
   "execution_count": 217,
   "metadata": {},
   "outputs": [
    {
     "data": {
      "text/html": [
       "<div>\n",
       "<style scoped>\n",
       "    .dataframe tbody tr th:only-of-type {\n",
       "        vertical-align: middle;\n",
       "    }\n",
       "\n",
       "    .dataframe tbody tr th {\n",
       "        vertical-align: top;\n",
       "    }\n",
       "\n",
       "    .dataframe thead th {\n",
       "        text-align: right;\n",
       "    }\n",
       "</style>\n",
       "<table border=\"1\" class=\"dataframe\">\n",
       "  <thead>\n",
       "    <tr style=\"text-align: right;\">\n",
       "      <th></th>\n",
       "      <th>key</th>\n",
       "      <th>A</th>\n",
       "      <th>B</th>\n",
       "      <th>C</th>\n",
       "    </tr>\n",
       "  </thead>\n",
       "  <tbody>\n",
       "    <tr>\n",
       "      <th>0</th>\n",
       "      <td>K0</td>\n",
       "      <td>A0</td>\n",
       "      <td>B0</td>\n",
       "      <td>NaN</td>\n",
       "    </tr>\n",
       "    <tr>\n",
       "      <th>1</th>\n",
       "      <td>K1</td>\n",
       "      <td>A1</td>\n",
       "      <td>B1</td>\n",
       "      <td>C1</td>\n",
       "    </tr>\n",
       "    <tr>\n",
       "      <th>2</th>\n",
       "      <td>K2</td>\n",
       "      <td>A2</td>\n",
       "      <td>B2</td>\n",
       "      <td>NaN</td>\n",
       "    </tr>\n",
       "    <tr>\n",
       "      <th>3</th>\n",
       "      <td>K3</td>\n",
       "      <td>A3</td>\n",
       "      <td>NaN</td>\n",
       "      <td>C3</td>\n",
       "    </tr>\n",
       "    <tr>\n",
       "      <th>4</th>\n",
       "      <td>K4</td>\n",
       "      <td>A4</td>\n",
       "      <td>B4</td>\n",
       "      <td>C4</td>\n",
       "    </tr>\n",
       "    <tr>\n",
       "      <th>5</th>\n",
       "      <td>K5</td>\n",
       "      <td>A5</td>\n",
       "      <td>NaN</td>\n",
       "      <td>C5</td>\n",
       "    </tr>\n",
       "    <tr>\n",
       "      <th>5</th>\n",
       "      <td>K5</td>\n",
       "      <td>A5</td>\n",
       "      <td>NaN</td>\n",
       "      <td>C5_2</td>\n",
       "    </tr>\n",
       "  </tbody>\n",
       "</table>\n",
       "</div>"
      ],
      "text/plain": [
       "  key   A    B     C\n",
       "0  K0  A0   B0   NaN\n",
       "1  K1  A1   B1    C1\n",
       "2  K2  A2   B2   NaN\n",
       "3  K3  A3  NaN    C3\n",
       "4  K4  A4   B4    C4\n",
       "5  K5  A5  NaN    C5\n",
       "5  K5  A5  NaN  C5_2"
      ]
     },
     "execution_count": 217,
     "metadata": {},
     "output_type": "execute_result"
    }
   ],
   "source": [
    "test"
   ]
  },
  {
   "cell_type": "code",
   "execution_count": 204,
   "metadata": {},
   "outputs": [
    {
     "data": {
      "text/html": [
       "<div>\n",
       "<style scoped>\n",
       "    .dataframe tbody tr th:only-of-type {\n",
       "        vertical-align: middle;\n",
       "    }\n",
       "\n",
       "    .dataframe tbody tr th {\n",
       "        vertical-align: top;\n",
       "    }\n",
       "\n",
       "    .dataframe thead th {\n",
       "        text-align: right;\n",
       "    }\n",
       "</style>\n",
       "<table border=\"1\" class=\"dataframe\">\n",
       "  <thead>\n",
       "    <tr style=\"text-align: right;\">\n",
       "      <th></th>\n",
       "      <th>key</th>\n",
       "      <th>A</th>\n",
       "      <th>B</th>\n",
       "      <th>C</th>\n",
       "    </tr>\n",
       "  </thead>\n",
       "  <tbody>\n",
       "    <tr>\n",
       "      <th>1</th>\n",
       "      <td>K1</td>\n",
       "      <td>A1</td>\n",
       "      <td>B1</td>\n",
       "      <td>C1</td>\n",
       "    </tr>\n",
       "  </tbody>\n",
       "</table>\n",
       "</div>"
      ],
      "text/plain": [
       "  key   A   B   C\n",
       "1  K1  A1  B1  C1"
      ]
     },
     "execution_count": 204,
     "metadata": {},
     "output_type": "execute_result"
    }
   ],
   "source": [
    "test.join"
   ]
  },
  {
   "cell_type": "code",
   "execution_count": 190,
   "metadata": {
    "collapsed": true
   },
   "outputs": [],
   "source": [
    "groups=test.groupby(['key','A'])\n",
    "result=groups['C'].count().reset_index()"
   ]
  },
  {
   "cell_type": "code",
   "execution_count": 192,
   "metadata": {},
   "outputs": [
    {
     "data": {
      "text/html": [
       "<div>\n",
       "<style scoped>\n",
       "    .dataframe tbody tr th:only-of-type {\n",
       "        vertical-align: middle;\n",
       "    }\n",
       "\n",
       "    .dataframe tbody tr th {\n",
       "        vertical-align: top;\n",
       "    }\n",
       "\n",
       "    .dataframe thead th {\n",
       "        text-align: right;\n",
       "    }\n",
       "</style>\n",
       "<table border=\"1\" class=\"dataframe\">\n",
       "  <thead>\n",
       "    <tr style=\"text-align: right;\">\n",
       "      <th></th>\n",
       "      <th>key</th>\n",
       "      <th>A</th>\n",
       "      <th>C</th>\n",
       "    </tr>\n",
       "  </thead>\n",
       "  <tbody>\n",
       "    <tr>\n",
       "      <th>3</th>\n",
       "      <td>K3</td>\n",
       "      <td>A3</td>\n",
       "      <td>1</td>\n",
       "    </tr>\n",
       "    <tr>\n",
       "      <th>4</th>\n",
       "      <td>K4</td>\n",
       "      <td>A4</td>\n",
       "      <td>1</td>\n",
       "    </tr>\n",
       "    <tr>\n",
       "      <th>5</th>\n",
       "      <td>K5</td>\n",
       "      <td>A5</td>\n",
       "      <td>2</td>\n",
       "    </tr>\n",
       "  </tbody>\n",
       "</table>\n",
       "</div>"
      ],
      "text/plain": [
       "  key   A  C\n",
       "3  K3  A3  1\n",
       "4  K4  A4  1\n",
       "5  K5  A5  2"
      ]
     },
     "execution_count": 192,
     "metadata": {},
     "output_type": "execute_result"
    }
   ],
   "source": [
    "result.loc[result['C']>0]"
   ]
  },
  {
   "cell_type": "code",
   "execution_count": 175,
   "metadata": {},
   "outputs": [
    {
     "data": {
      "text/plain": [
       "Index(['K0', 'K1', 'K2', 'K3', 'K4', 'K5'], dtype='object', name='key')"
      ]
     },
     "execution_count": 175,
     "metadata": {},
     "output_type": "execute_result"
    }
   ],
   "source": [
    "groupres.index.get_level_values('key')"
   ]
  },
  {
   "cell_type": "code",
   "execution_count": 179,
   "metadata": {},
   "outputs": [
    {
     "data": {
      "text/plain": [
       "key  A \n",
       "K0   A0    0\n",
       "K1   A1    0\n",
       "K2   A2    0\n",
       "K3   A3    1\n",
       "K4   A4    1\n",
       "K5   A5    2\n",
       "Name: C, dtype: int64"
      ]
     },
     "execution_count": 179,
     "metadata": {},
     "output_type": "execute_result"
    }
   ],
   "source": [
    "groupres#.reset_index('key').sort_values(['C','key'],ascending=[False,True])"
   ]
  },
  {
   "cell_type": "code",
   "execution_count": 184,
   "metadata": {},
   "outputs": [
    {
     "data": {
      "text/html": [
       "<div>\n",
       "<style scoped>\n",
       "    .dataframe tbody tr th:only-of-type {\n",
       "        vertical-align: middle;\n",
       "    }\n",
       "\n",
       "    .dataframe tbody tr th {\n",
       "        vertical-align: top;\n",
       "    }\n",
       "\n",
       "    .dataframe thead th {\n",
       "        text-align: right;\n",
       "    }\n",
       "</style>\n",
       "<table border=\"1\" class=\"dataframe\">\n",
       "  <thead>\n",
       "    <tr style=\"text-align: right;\">\n",
       "      <th></th>\n",
       "      <th>key</th>\n",
       "      <th>A</th>\n",
       "      <th>C</th>\n",
       "    </tr>\n",
       "  </thead>\n",
       "  <tbody>\n",
       "    <tr>\n",
       "      <th>0</th>\n",
       "      <td>K0</td>\n",
       "      <td>A0</td>\n",
       "      <td>0</td>\n",
       "    </tr>\n",
       "    <tr>\n",
       "      <th>1</th>\n",
       "      <td>K1</td>\n",
       "      <td>A1</td>\n",
       "      <td>0</td>\n",
       "    </tr>\n",
       "    <tr>\n",
       "      <th>2</th>\n",
       "      <td>K2</td>\n",
       "      <td>A2</td>\n",
       "      <td>0</td>\n",
       "    </tr>\n",
       "    <tr>\n",
       "      <th>3</th>\n",
       "      <td>K3</td>\n",
       "      <td>A3</td>\n",
       "      <td>1</td>\n",
       "    </tr>\n",
       "    <tr>\n",
       "      <th>4</th>\n",
       "      <td>K4</td>\n",
       "      <td>A4</td>\n",
       "      <td>1</td>\n",
       "    </tr>\n",
       "    <tr>\n",
       "      <th>5</th>\n",
       "      <td>K5</td>\n",
       "      <td>A5</td>\n",
       "      <td>2</td>\n",
       "    </tr>\n",
       "  </tbody>\n",
       "</table>\n",
       "</div>"
      ],
      "text/plain": [
       "  key   A  C\n",
       "0  K0  A0  0\n",
       "1  K1  A1  0\n",
       "2  K2  A2  0\n",
       "3  K3  A3  1\n",
       "4  K4  A4  1\n",
       "5  K5  A5  2"
      ]
     },
     "execution_count": 184,
     "metadata": {},
     "output_type": "execute_result"
    }
   ],
   "source": [
    "groupres.reset_index()"
   ]
  },
  {
   "cell_type": "code",
   "execution_count": 29,
   "metadata": {},
   "outputs": [
    {
     "data": {
      "text/html": [
       "<div>\n",
       "<style scoped>\n",
       "    .dataframe tbody tr th:only-of-type {\n",
       "        vertical-align: middle;\n",
       "    }\n",
       "\n",
       "    .dataframe tbody tr th {\n",
       "        vertical-align: top;\n",
       "    }\n",
       "\n",
       "    .dataframe thead th {\n",
       "        text-align: right;\n",
       "    }\n",
       "</style>\n",
       "<table border=\"1\" class=\"dataframe\">\n",
       "  <thead>\n",
       "    <tr style=\"text-align: right;\">\n",
       "      <th></th>\n",
       "      <th>species</th>\n",
       "      <th>petal_width</th>\n",
       "      <th>sepal_length</th>\n",
       "    </tr>\n",
       "  </thead>\n",
       "  <tbody>\n",
       "    <tr>\n",
       "      <th>0</th>\n",
       "      <td>setosa</td>\n",
       "      <td>0.1</td>\n",
       "      <td>14.4</td>\n",
       "    </tr>\n",
       "    <tr>\n",
       "      <th>1</th>\n",
       "      <td>setosa</td>\n",
       "      <td>0.2</td>\n",
       "      <td>42.1</td>\n",
       "    </tr>\n",
       "    <tr>\n",
       "      <th>2</th>\n",
       "      <td>setosa</td>\n",
       "      <td>0.3</td>\n",
       "      <td>20.9</td>\n",
       "    </tr>\n",
       "    <tr>\n",
       "      <th>3</th>\n",
       "      <td>setosa</td>\n",
       "      <td>0.4</td>\n",
       "      <td>26.6</td>\n",
       "    </tr>\n",
       "    <tr>\n",
       "      <th>4</th>\n",
       "      <td>setosa</td>\n",
       "      <td>0.5</td>\n",
       "      <td>5.1</td>\n",
       "    </tr>\n",
       "    <tr>\n",
       "      <th>5</th>\n",
       "      <td>setosa</td>\n",
       "      <td>0.6</td>\n",
       "      <td>5.0</td>\n",
       "    </tr>\n",
       "    <tr>\n",
       "      <th>6</th>\n",
       "      <td>versicolor</td>\n",
       "      <td>1.0</td>\n",
       "      <td>28.0</td>\n",
       "    </tr>\n",
       "    <tr>\n",
       "      <th>7</th>\n",
       "      <td>versicolor</td>\n",
       "      <td>1.1</td>\n",
       "      <td>16.2</td>\n",
       "    </tr>\n",
       "    <tr>\n",
       "      <th>8</th>\n",
       "      <td>versicolor</td>\n",
       "      <td>1.2</td>\n",
       "      <td>28.9</td>\n",
       "    </tr>\n",
       "    <tr>\n",
       "      <th>9</th>\n",
       "      <td>versicolor</td>\n",
       "      <td>1.3</td>\n",
       "      <td>48.1</td>\n",
       "    </tr>\n",
       "    <tr>\n",
       "      <th>10</th>\n",
       "      <td>versicolor</td>\n",
       "      <td>1.4</td>\n",
       "      <td>31.8</td>\n",
       "    </tr>\n",
       "    <tr>\n",
       "      <th>11</th>\n",
       "      <td>versicolor</td>\n",
       "      <td>1.5</td>\n",
       "      <td>32.4</td>\n",
       "    </tr>\n",
       "    <tr>\n",
       "      <th>12</th>\n",
       "      <td>versicolor</td>\n",
       "      <td>1.6</td>\n",
       "      <td>18.3</td>\n",
       "    </tr>\n",
       "    <tr>\n",
       "      <th>13</th>\n",
       "      <td>versicolor</td>\n",
       "      <td>1.7</td>\n",
       "      <td>6.7</td>\n",
       "    </tr>\n",
       "    <tr>\n",
       "      <th>14</th>\n",
       "      <td>versicolor</td>\n",
       "      <td>1.8</td>\n",
       "      <td>5.9</td>\n",
       "    </tr>\n",
       "    <tr>\n",
       "      <th>15</th>\n",
       "      <td>virginica</td>\n",
       "      <td>1.4</td>\n",
       "      <td>6.1</td>\n",
       "    </tr>\n",
       "    <tr>\n",
       "      <th>16</th>\n",
       "      <td>virginica</td>\n",
       "      <td>1.5</td>\n",
       "      <td>12.3</td>\n",
       "    </tr>\n",
       "    <tr>\n",
       "      <th>17</th>\n",
       "      <td>virginica</td>\n",
       "      <td>1.6</td>\n",
       "      <td>7.2</td>\n",
       "    </tr>\n",
       "    <tr>\n",
       "      <th>18</th>\n",
       "      <td>virginica</td>\n",
       "      <td>1.7</td>\n",
       "      <td>4.9</td>\n",
       "    </tr>\n",
       "    <tr>\n",
       "      <th>19</th>\n",
       "      <td>virginica</td>\n",
       "      <td>1.8</td>\n",
       "      <td>52.4</td>\n",
       "    </tr>\n",
       "    <tr>\n",
       "      <th>20</th>\n",
       "      <td>virginica</td>\n",
       "      <td>1.9</td>\n",
       "      <td>25.9</td>\n",
       "    </tr>\n",
       "    <tr>\n",
       "      <th>21</th>\n",
       "      <td>virginica</td>\n",
       "      <td>2.0</td>\n",
       "      <td>39.9</td>\n",
       "    </tr>\n",
       "    <tr>\n",
       "      <th>22</th>\n",
       "      <td>virginica</td>\n",
       "      <td>2.1</td>\n",
       "      <td>41.5</td>\n",
       "    </tr>\n",
       "    <tr>\n",
       "      <th>23</th>\n",
       "      <td>virginica</td>\n",
       "      <td>2.2</td>\n",
       "      <td>20.6</td>\n",
       "    </tr>\n",
       "    <tr>\n",
       "      <th>24</th>\n",
       "      <td>virginica</td>\n",
       "      <td>2.3</td>\n",
       "      <td>55.3</td>\n",
       "    </tr>\n",
       "    <tr>\n",
       "      <th>25</th>\n",
       "      <td>virginica</td>\n",
       "      <td>2.4</td>\n",
       "      <td>12.5</td>\n",
       "    </tr>\n",
       "    <tr>\n",
       "      <th>26</th>\n",
       "      <td>virginica</td>\n",
       "      <td>2.5</td>\n",
       "      <td>20.2</td>\n",
       "    </tr>\n",
       "  </tbody>\n",
       "</table>\n",
       "</div>"
      ],
      "text/plain": [
       "       species  petal_width  sepal_length\n",
       "0       setosa          0.1          14.4\n",
       "1       setosa          0.2          42.1\n",
       "2       setosa          0.3          20.9\n",
       "3       setosa          0.4          26.6\n",
       "4       setosa          0.5           5.1\n",
       "5       setosa          0.6           5.0\n",
       "6   versicolor          1.0          28.0\n",
       "7   versicolor          1.1          16.2\n",
       "8   versicolor          1.2          28.9\n",
       "9   versicolor          1.3          48.1\n",
       "10  versicolor          1.4          31.8\n",
       "11  versicolor          1.5          32.4\n",
       "12  versicolor          1.6          18.3\n",
       "13  versicolor          1.7           6.7\n",
       "14  versicolor          1.8           5.9\n",
       "15   virginica          1.4           6.1\n",
       "16   virginica          1.5          12.3\n",
       "17   virginica          1.6           7.2\n",
       "18   virginica          1.7           4.9\n",
       "19   virginica          1.8          52.4\n",
       "20   virginica          1.9          25.9\n",
       "21   virginica          2.0          39.9\n",
       "22   virginica          2.1          41.5\n",
       "23   virginica          2.2          20.6\n",
       "24   virginica          2.3          55.3\n",
       "25   virginica          2.4          12.5\n",
       "26   virginica          2.5          20.2"
      ]
     },
     "execution_count": 29,
     "metadata": {},
     "output_type": "execute_result"
    }
   ],
   "source": [
    "# testing contest leaderboard\n",
    "iris=sns.load_dataset('iris')\n",
    "groups=iris.groupby(['species','petal_width','petal_length'])\n",
    "maxscores=groups['sepal_length'].max().reset_index()\n",
    "totalscores=maxscores.groupby(['species','petal_width'])['sepal_length'].sum().reset_index()\n",
    "totalscores"
   ]
  },
  {
   "cell_type": "code",
   "execution_count": 38,
   "metadata": {
    "collapsed": true
   },
   "outputs": [],
   "source": [
    "# testing Projects \n",
    "p = pd.DataFrame({'task_id': [1,2,3,4,5,6,7],\n",
    "                'start_date': pd.to_datetime(['2015-10-01', '2015-10-02', '2015-10-03', '2015-10-13', '2015-10-14',\n",
    "                               '2015-10-28', '2015-10-30']),\n",
    "                  'end_date': pd.to_datetime(['2015-10-02', '2015-10-03', '2015-10-04', '2015-10-14', '2015-10-15',\n",
    "                               '2015-10-29', '2015-10-31'])})"
   ]
  },
  {
   "cell_type": "code",
   "execution_count": 94,
   "metadata": {
    "collapsed": true
   },
   "outputs": [],
   "source": [
    "p['shifted']=p['end_date'].shift(1)\n",
    "p['nc']=((p['end_date']-p['shifted']).dt.days>1) | p['shifted'].isnull()\n",
    "p['pnum']=p['nc'].cumsum() # this is key"
   ]
  },
  {
   "cell_type": "code",
   "execution_count": 111,
   "metadata": {},
   "outputs": [
    {
     "data": {
      "text/html": [
       "<div>\n",
       "<style scoped>\n",
       "    .dataframe tbody tr th:only-of-type {\n",
       "        vertical-align: middle;\n",
       "    }\n",
       "\n",
       "    .dataframe tbody tr th {\n",
       "        vertical-align: top;\n",
       "    }\n",
       "\n",
       "    .dataframe thead th {\n",
       "        text-align: right;\n",
       "    }\n",
       "</style>\n",
       "<table border=\"1\" class=\"dataframe\">\n",
       "  <thead>\n",
       "    <tr style=\"text-align: right;\">\n",
       "      <th></th>\n",
       "      <th>start_date</th>\n",
       "      <th>end_date</th>\n",
       "    </tr>\n",
       "    <tr>\n",
       "      <th>pnum</th>\n",
       "      <th></th>\n",
       "      <th></th>\n",
       "    </tr>\n",
       "  </thead>\n",
       "  <tbody>\n",
       "    <tr>\n",
       "      <th>3</th>\n",
       "      <td>2015-10-28</td>\n",
       "      <td>2015-10-29</td>\n",
       "    </tr>\n",
       "    <tr>\n",
       "      <th>4</th>\n",
       "      <td>2015-10-30</td>\n",
       "      <td>2015-10-31</td>\n",
       "    </tr>\n",
       "    <tr>\n",
       "      <th>2</th>\n",
       "      <td>2015-10-13</td>\n",
       "      <td>2015-10-15</td>\n",
       "    </tr>\n",
       "    <tr>\n",
       "      <th>1</th>\n",
       "      <td>2015-10-01</td>\n",
       "      <td>2015-10-04</td>\n",
       "    </tr>\n",
       "  </tbody>\n",
       "</table>\n",
       "</div>"
      ],
      "text/plain": [
       "     start_date   end_date\n",
       "pnum                      \n",
       "3    2015-10-28 2015-10-29\n",
       "4    2015-10-30 2015-10-31\n",
       "2    2015-10-13 2015-10-15\n",
       "1    2015-10-01 2015-10-04"
      ]
     },
     "execution_count": 111,
     "metadata": {},
     "output_type": "execute_result"
    }
   ],
   "source": [
    "groups=p.groupby('pnum')\n",
    "p2=groups['start_date'].first().to_frame()\n",
    "p2['end_date']=groups['end_date'].last()\n",
    "p2['pdurr']=(p2['end_date']-p2['start_date']).dt.days\n",
    "p2.sort_values(['pdurr','start_date'],ascending=[True,True],inplace=True)\n",
    "p2[['start_date','end_date']]"
   ]
  },
  {
   "cell_type": "code",
   "execution_count": 106,
   "metadata": {},
   "outputs": [
    {
     "data": {
      "text/html": [
       "<div>\n",
       "<style scoped>\n",
       "    .dataframe tbody tr th:only-of-type {\n",
       "        vertical-align: middle;\n",
       "    }\n",
       "\n",
       "    .dataframe tbody tr th {\n",
       "        vertical-align: top;\n",
       "    }\n",
       "\n",
       "    .dataframe thead th {\n",
       "        text-align: right;\n",
       "    }\n",
       "</style>\n",
       "<table border=\"1\" class=\"dataframe\">\n",
       "  <thead>\n",
       "    <tr style=\"text-align: right;\">\n",
       "      <th></th>\n",
       "      <th>start_date</th>\n",
       "      <th>end_date</th>\n",
       "      <th>pdurr</th>\n",
       "    </tr>\n",
       "    <tr>\n",
       "      <th>pnum</th>\n",
       "      <th></th>\n",
       "      <th></th>\n",
       "      <th></th>\n",
       "    </tr>\n",
       "  </thead>\n",
       "  <tbody>\n",
       "    <tr>\n",
       "      <th>1</th>\n",
       "      <td>2015-10-01</td>\n",
       "      <td>2015-10-04</td>\n",
       "      <td>3</td>\n",
       "    </tr>\n",
       "    <tr>\n",
       "      <th>2</th>\n",
       "      <td>2015-10-13</td>\n",
       "      <td>2015-10-15</td>\n",
       "      <td>2</td>\n",
       "    </tr>\n",
       "    <tr>\n",
       "      <th>3</th>\n",
       "      <td>2015-10-28</td>\n",
       "      <td>2015-10-29</td>\n",
       "      <td>1</td>\n",
       "    </tr>\n",
       "    <tr>\n",
       "      <th>4</th>\n",
       "      <td>2015-10-30</td>\n",
       "      <td>2015-10-31</td>\n",
       "      <td>1</td>\n",
       "    </tr>\n",
       "  </tbody>\n",
       "</table>\n",
       "</div>"
      ],
      "text/plain": [
       "     start_date   end_date  pdurr\n",
       "pnum                             \n",
       "1    2015-10-01 2015-10-04      3\n",
       "2    2015-10-13 2015-10-15      2\n",
       "3    2015-10-28 2015-10-29      1\n",
       "4    2015-10-30 2015-10-31      1"
      ]
     },
     "execution_count": 106,
     "metadata": {},
     "output_type": "execute_result"
    }
   ],
   "source": [
    "p2"
   ]
  },
  {
   "cell_type": "code",
   "execution_count": 93,
   "metadata": {},
   "outputs": [
    {
     "data": {
      "text/plain": [
       "pnum\n",
       "1   3 days\n",
       "2   2 days\n",
       "3   1 days\n",
       "4   1 days\n",
       "dtype: timedelta64[ns]"
      ]
     },
     "execution_count": 93,
     "metadata": {},
     "output_type": "execute_result"
    }
   ],
   "source": [
    "groups=p.groupby('pnum')\n",
    "groups['end_date'].last()-groups['start_date'].first()"
   ]
  },
  {
   "cell_type": "code",
   "execution_count": 85,
   "metadata": {},
   "outputs": [
    {
     "data": {
      "text/plain": [
       "nc\n",
       "1    4.0\n",
       "2    2.0\n",
       "3    1.0\n",
       "4    1.0\n",
       "Name: c, dtype: float64"
      ]
     },
     "execution_count": 85,
     "metadata": {},
     "output_type": "execute_result"
    }
   ],
   "source": [
    "p.groupby(p['nc'].cumsum())['c'].sum()+1"
   ]
  },
  {
   "cell_type": "code",
   "execution_count": 86,
   "metadata": {},
   "outputs": [
    {
     "data": {
      "text/plain": [
       "0    1\n",
       "1    1\n",
       "2    1\n",
       "3    2\n",
       "4    2\n",
       "5    3\n",
       "6    4\n",
       "Name: nc, dtype: int64"
      ]
     },
     "execution_count": 86,
     "metadata": {},
     "output_type": "execute_result"
    }
   ],
   "source": [
    "p['nc'].cumsum()"
   ]
  },
  {
   "cell_type": "code",
   "execution_count": 46,
   "metadata": {},
   "outputs": [
    {
     "data": {
      "text/plain": [
       "0       NaT\n",
       "1    1 days\n",
       "2    1 days\n",
       "3   10 days\n",
       "4    1 days\n",
       "5   14 days\n",
       "6    2 days\n",
       "dtype: timedelta64[ns]"
      ]
     },
     "execution_count": 46,
     "metadata": {},
     "output_type": "execute_result"
    }
   ],
   "source": [
    "p['end_date']-p['shifted']"
   ]
  },
  {
   "cell_type": "code",
   "execution_count": 61,
   "metadata": {},
   "outputs": [
    {
     "data": {
      "text/plain": [
       "3   2015-10-14\n",
       "5   2015-10-29\n",
       "6   2015-10-31\n",
       "Name: end_date, dtype: datetime64[ns]"
      ]
     },
     "execution_count": 61,
     "metadata": {},
     "output_type": "execute_result"
    }
   ],
   "source": [
    "p.loc[p['nc'],'end_date']"
   ]
  },
  {
   "cell_type": "code",
   "execution_count": 97,
   "metadata": {
    "collapsed": true
   },
   "outputs": [],
   "source": [
    "p['c']=~p['nc']"
   ]
  },
  {
   "cell_type": "code",
   "execution_count": 76,
   "metadata": {},
   "outputs": [
    {
     "data": {
      "text/plain": [
       "0   3 days\n",
       "3   2 days\n",
       "5   1 days\n",
       "6      NaT\n",
       "dtype: timedelta64[ns]"
      ]
     },
     "execution_count": 76,
     "metadata": {},
     "output_type": "execute_result"
    }
   ],
   "source": [
    "p.loc[p['nc'],'shifted'].shift(-1)-p.loc[p['nc'],'start_date']"
   ]
  },
  {
   "cell_type": "code",
   "execution_count": 80,
   "metadata": {},
   "outputs": [
    {
     "data": {
      "text/plain": [
       "0    False\n",
       "1    False\n",
       "2    False\n",
       "3     True\n",
       "4    False\n",
       "5     True\n",
       "6     True\n",
       "Name: end_date, dtype: bool"
      ]
     },
     "execution_count": 80,
     "metadata": {},
     "output_type": "execute_result"
    }
   ],
   "source": [
    "(p['end_date']-p['end_date'].shift()).dt.days>1"
   ]
  }
 ],
 "metadata": {
  "kernelspec": {
   "display_name": "base (Python 3.7.7)",
   "language": "python",
   "name": "base"
  },
  "language_info": {
   "codemirror_mode": {
    "name": "ipython",
    "version": 3
   },
   "file_extension": ".py",
   "mimetype": "text/x-python",
   "name": "python",
   "nbconvert_exporter": "python",
   "pygments_lexer": "ipython3",
   "version": "3.7.7"
  }
 },
 "nbformat": 4,
 "nbformat_minor": 1
}
