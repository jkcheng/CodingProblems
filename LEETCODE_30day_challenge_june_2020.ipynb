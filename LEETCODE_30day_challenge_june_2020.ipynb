{
 "cells": [
  {
   "cell_type": "code",
   "execution_count": 1,
   "metadata": {},
   "outputs": [],
   "source": [
    "from typing import List"
   ]
  },
  {
   "cell_type": "markdown",
   "metadata": {},
   "source": [
    "## Day 1: 6/1/20\n",
    "### 226. Invert Binary Tree\n",
    "EASY  \n",
    "https://leetcode.com/problems/invert-binary-tree/  \n",
    "https://leetcode.com/explore/challenge/card/june-leetcoding-challenge/539/week-1-june-1st-june-7th/3347/"
   ]
  },
  {
   "cell_type": "markdown",
   "metadata": {},
   "source": [
    "Invert a binary tree.\n",
    "\n",
    "**Example:**\n",
    "\n",
    "Input:\n",
    "```\n",
    "     4\n",
    "   /   \\\n",
    "  2     7\n",
    " / \\   / \\\n",
    "1   3 6   9\n",
    "```\n",
    "Output:\n",
    "```\n",
    "     4\n",
    "   /   \\\n",
    "  7     2\n",
    " / \\   / \\\n",
    "9   6 3   1\n",
    "```\n",
    "\n",
    "Trivia:  \n",
    "This problem was inspired by this [original tweet](https://twitter.com/mxcl/status/608682016205344768) by [Max Howell](https://twitter.com/mxcl):\n",
    "\n",
    ">Google: 90% of our engineers use the software you wrote (Homebrew), but you can’t invert a binary tree on a whiteboard so f*** off."
   ]
  },
  {
   "cell_type": "code",
   "execution_count": 3,
   "metadata": {},
   "outputs": [],
   "source": [
    "# Definition for a binary tree node.\n",
    "class TreeNode:\n",
    "    def __init__(self, val=0, left=None, right=None):\n",
    "        self.val = val\n",
    "        self.left = left\n",
    "        self.right = right\n",
    "\n",
    "def constructTree(nodes, i, n): \n",
    "      \n",
    "    # Base case for recursion\n",
    "    root = None\n",
    "    if (i < n) and nodes[i] is not None: \n",
    "        node = TreeNode(nodes[i])  \n",
    "        root = node  \n",
    "  \n",
    "        # insert left child  \n",
    "        root.left = constructTree(nodes, 2*i+1, n)  \n",
    "        # insert right child  \n",
    "        root.right = constructTree(nodes, 2*i+2, n) \n",
    "    return root \n",
    "\n",
    "tree1 = [4,2,7,1,3,6,9]\n",
    "root1 = constructTree(tree1,0,len(tree1))"
   ]
  },
  {
   "cell_type": "code",
   "execution_count": 4,
   "metadata": {},
   "outputs": [],
   "source": [
    "class Solution:\n",
    "    def invertTree(self, root: TreeNode) -> TreeNode:\n",
    "        # invert current node\n",
    "        if root:\n",
    "            tmp = root.left\n",
    "            root.left = root.right\n",
    "            root.right = tmp\n",
    "        else: return root\n",
    "        \n",
    "        # invert children\n",
    "        if root.left:\n",
    "            self.invertTree(root.left)\n",
    "        if root.right:\n",
    "            self.invertTree(root.right)\n",
    "        return root"
   ]
  },
  {
   "cell_type": "code",
   "execution_count": 5,
   "metadata": {},
   "outputs": [],
   "source": [
    "# cleaner code\n",
    "class Solution:\n",
    "    def invertTree(self, root: TreeNode) -> TreeNode:\n",
    "        if root is None:\n",
    "            return None\n",
    "        \n",
    "        # invert current node\n",
    "        root.left,root.right = root.right,root.left\n",
    "        self.invertTree(root.left)\n",
    "        self.invertTree(root.right)\n",
    "        return root"
   ]
  },
  {
   "cell_type": "code",
   "execution_count": 6,
   "metadata": {},
   "outputs": [],
   "source": [
    "soln = Solution()\n",
    "ans = soln.invertTree(root1)"
   ]
  },
  {
   "cell_type": "markdown",
   "metadata": {},
   "source": [
    "## Day 2: 6/2/20\n",
    "### 237. Delete Node in a Linked List\n",
    "EASY  \n",
    "https://leetcode.com/problems/delete-node-in-a-linked-list/  \n",
    "https://leetcode.com/explore/challenge/card/june-leetcoding-challenge/539/week-1-june-1st-june-7th/3348/"
   ]
  },
  {
   "cell_type": "markdown",
   "metadata": {},
   "source": [
    "Write a function to delete a node (except the tail) in a singly linked list, given only access to that node.\n",
    "\n",
    "Given linked list -- head = [4,5,1,9], which looks like following:\n",
    "![example.jpg](https://assets.leetcode.com/uploads/2018/12/28/237_example.png)\n",
    "\n",
    "**Example 1:**\n",
    "```\n",
    "Input: head = [4,5,1,9], node = 5\n",
    "Output: [4,1,9]\n",
    "Explanation: You are given the second node with value 5, the linked list should become 4 -> 1 -> 9 after calling your function.\n",
    "```\n",
    "**Example 2:**\n",
    "```\n",
    "Input: head = [4,5,1,9], node = 1\n",
    "Output: [4,5,9]\n",
    "Explanation: You are given the third node with value 1, the linked list should become 4 -> 5 -> 9 after calling your function.\n",
    "```\n",
    "\n",
    "**Note:**\n",
    "\n",
    "* The linked list will have at least two elements.\n",
    "* All of the nodes' values will be unique.\n",
    "* The given node will not be the tail and it will always be a valid node of the linked list.\n",
    "* Do not return anything from your function."
   ]
  },
  {
   "cell_type": "code",
   "execution_count": 10,
   "metadata": {},
   "outputs": [],
   "source": [
    "# Definition for singly-linked list.\n",
    "class ListNode:\n",
    "    def __init__(self, x):\n",
    "        self.val = x\n",
    "        self.next = None\n",
    "\n",
    "# list 1\n",
    "node1 = ListNode(4)\n",
    "node2 = ListNode(5)\n",
    "node3 = ListNode(1)\n",
    "node4 = ListNode(9)\n",
    "node1.next = node2\n",
    "node2.next = node3\n",
    "node3.next = node4\n",
    "\n",
    "# list 2\n",
    "node5 = ListNode(4)\n",
    "node6 = ListNode(5)\n",
    "node7 = ListNode(1)\n",
    "node8 = ListNode(9)\n",
    "node5.next = node6\n",
    "node6.next = node7\n",
    "node7.next = node8"
   ]
  },
  {
   "cell_type": "code",
   "execution_count": 11,
   "metadata": {},
   "outputs": [],
   "source": [
    "class Solution:\n",
    "    def deleteNode(self, node):\n",
    "        \"\"\"\n",
    "        :type node: ListNode\n",
    "        :rtype: void Do not return anything, modify node in-place instead.\n",
    "        \"\"\"\n",
    "        node.val = node.next.val\n",
    "        node.next = node.next.next"
   ]
  },
  {
   "cell_type": "code",
   "execution_count": 12,
   "metadata": {},
   "outputs": [],
   "source": [
    "soln = Solution()\n",
    "soln.deleteNode(node7)"
   ]
  },
  {
   "cell_type": "code",
   "execution_count": 14,
   "metadata": {},
   "outputs": [
    {
     "name": "stdout",
     "output_type": "stream",
     "text": [
      "4\n",
      "5\n",
      "9\n"
     ]
    }
   ],
   "source": [
    "printnode = node5\n",
    "print(printnode.val)\n",
    "while printnode.next:\n",
    "    printnode = printnode.next\n",
    "    print(printnode.val)"
   ]
  },
  {
   "cell_type": "markdown",
   "metadata": {},
   "source": [
    "## Day 3: 6/3/20\n",
    "### 1029. Two City Scheduling\n",
    "EASY  \n",
    "https://leetcode.com/problems/two-city-scheduling/  \n",
    "https://leetcode.com/explore/challenge/card/june-leetcoding-challenge/539/week-1-june-1st-june-7th/3349/"
   ]
  },
  {
   "cell_type": "markdown",
   "metadata": {},
   "source": [
    "There are `2N` people a company is planning to interview. The cost of flying the `i`-th person to city `A` is `costs[i][0]`, and the cost of flying the `i`-th person to city `B` is `costs[i][1]`.\n",
    "\n",
    "Return the minimum cost to fly every person to a city such that exactly `N` people arrive in each city.\n",
    "\n",
    "**Example 1:**\n",
    "```\n",
    "Input: [[10,20],[30,200],[400,50],[30,20]]\n",
    "Output: 110\n",
    "Explanation: \n",
    "The first person goes to city A for a cost of 10.\n",
    "The second person goes to city A for a cost of 30.\n",
    "The third person goes to city B for a cost of 50.\n",
    "The fourth person goes to city B for a cost of 20.\n",
    "\n",
    "The total minimum cost is 10 + 30 + 50 + 20 = 110 to have half the people interviewing in each city.\n",
    "```\n",
    "\n",
    "**Note:**\n",
    "\n",
    "1. `1 <= costs.length <= 100`\n",
    "2. It is guaranteed that `costs.length` is even.\n",
    "3. `1 <= costs[i][0], costs[i][1] <= 1000`"
   ]
  },
  {
   "cell_type": "code",
   "execution_count": 13,
   "metadata": {},
   "outputs": [],
   "source": [
    "costs1 = [[10,20],[30,200],[400,50],[30,20]]\n",
    "costs2 = [[10,20],[300,20],[400,50],[500,20]]\n",
    "costs3 = [[10,20],[300,20],[400,500],[500,20]]"
   ]
  },
  {
   "cell_type": "code",
   "execution_count": 63,
   "metadata": {},
   "outputs": [],
   "source": [
    "# intuition: sort by difference costs[i][0]-costs[i][1]\n",
    "# gives the top N \"least expensive\" people to send to City A vs City B\n",
    "class Solution:\n",
    "    def twoCitySchedCost(self, costs: List[List[int]]) -> int:\n",
    "        ordered = sorted(costs, key=lambda x: x[0]-x[1])\n",
    "        halflen = len(costs)//2 # integer division\n",
    "        mincost = sum(c[0] for c in ordered[:halflen]) + sum(c[1] for c in ordered[halflen:])\n",
    "        return mincost"
   ]
  },
  {
   "cell_type": "code",
   "execution_count": 64,
   "metadata": {},
   "outputs": [
    {
     "data": {
      "text/plain": [
       "450"
      ]
     },
     "execution_count": 64,
     "metadata": {},
     "output_type": "execute_result"
    }
   ],
   "source": [
    "soln = Solution()\n",
    "soln.twoCitySchedCost(costs3)"
   ]
  },
  {
   "cell_type": "markdown",
   "metadata": {},
   "source": [
    "## Day 4: 6/4/20\n",
    "### 344. Reverse String\n",
    "EASY  \n",
    "https://leetcode.com/problems/reverse-string/  \n",
    "https://leetcode.com/explore/challenge/card/june-leetcoding-challenge/539/week-1-june-1st-june-7th/3350/"
   ]
  },
  {
   "cell_type": "markdown",
   "metadata": {},
   "source": [
    "Write a function that reverses a string. The input string is given as an array of characters `char[]`.\n",
    "\n",
    "Do not allocate extra space for another array, you must do this by **modifying the input array [in-place](https://en.wikipedia.org/wiki/In-place_algorithm)** with O(1) extra memory.\n",
    "\n",
    "You may assume all the characters consist of [printable ascii characters](https://en.wikipedia.org/wiki/ASCII#Printable_characters).\n",
    "\n",
    "**Example 1:**\n",
    "```\n",
    "Input: [\"h\",\"e\",\"l\",\"l\",\"o\"]\n",
    "Output: [\"o\",\"l\",\"l\",\"e\",\"h\"]\n",
    "```\n",
    "**Example 2:**\n",
    "```\n",
    "Input: [\"H\",\"a\",\"n\",\"n\",\"a\",\"h\"]\n",
    "Output: [\"h\",\"a\",\"n\",\"n\",\"a\",\"H\"]\n",
    "```"
   ]
  },
  {
   "cell_type": "code",
   "execution_count": 71,
   "metadata": {},
   "outputs": [],
   "source": [
    "s1 = [\"h\",\"e\",\"l\",\"l\",\"o\"]\n",
    "s2 = [\"H\",\"a\",\"n\",\"n\",\"a\",\"h\"]\n",
    "s3 = [\"A\",\" \",\"m\",\"a\",\"n\",\",\",\" \",\"a\",\" \",\"p\",\"l\",\"a\",\"n\",\",\",\" \",\"a\",\" \",\"c\",\"a\",\"n\",\"a\",\"l\",\":\",\" \",\"P\",\"a\",\"n\",\"a\",\"m\",\"a\"]"
   ]
  },
  {
   "cell_type": "code",
   "execution_count": 15,
   "metadata": {},
   "outputs": [],
   "source": [
    "# trivial python specific solution\n",
    "class Solution:\n",
    "    def reverseString(self, s: List[str]) -> None:\n",
    "        \"\"\"\n",
    "        Do not return anything, modify s in-place instead.\n",
    "        \"\"\"\n",
    "        s[:] = s[::-1]\n",
    "        return None"
   ]
  },
  {
   "cell_type": "code",
   "execution_count": 61,
   "metadata": {},
   "outputs": [],
   "source": [
    "# iterating using normal for loop\n",
    "class Solution:\n",
    "    def reverseString(self, s: List[str]) -> None:\n",
    "        \"\"\"\n",
    "        Do not return anything, modify s in-place instead.\n",
    "        \"\"\"\n",
    "        start = 0\n",
    "        end = len(s)-1\n",
    "        for i in range(start,len(s)//2):\n",
    "            swapc = s[end-i]\n",
    "            s[end-i] = s[i]\n",
    "            s[i] = swapc"
   ]
  },
  {
   "cell_type": "code",
   "execution_count": 82,
   "metadata": {},
   "outputs": [],
   "source": [
    "# iterating using while and two pointers\n",
    "class Solution:\n",
    "    def reverseString(self, s: List[str]) -> None:\n",
    "        \"\"\"\n",
    "        Do not return anything, modify s in-place instead.\n",
    "        \"\"\"\n",
    "        left = 0\n",
    "        right = len(s)-1\n",
    "        while left<right:\n",
    "            s[left], s[right] = s[right], s[left]\n",
    "            left += 1\n",
    "            right -= 1"
   ]
  },
  {
   "cell_type": "code",
   "execution_count": 86,
   "metadata": {},
   "outputs": [
    {
     "data": {
      "text/plain": [
       "['H', 'a', 'n', 'n', 'a', 'h']"
      ]
     },
     "execution_count": 86,
     "metadata": {},
     "output_type": "execute_result"
    }
   ],
   "source": [
    "s2"
   ]
  },
  {
   "cell_type": "code",
   "execution_count": 87,
   "metadata": {},
   "outputs": [],
   "source": [
    "soln = Solution()\n",
    "soln.reverseString(s2)"
   ]
  },
  {
   "cell_type": "code",
   "execution_count": 89,
   "metadata": {},
   "outputs": [
    {
     "data": {
      "text/plain": [
       "['h', 'a', 'n', 'n', 'a', 'H']"
      ]
     },
     "execution_count": 89,
     "metadata": {},
     "output_type": "execute_result"
    }
   ],
   "source": [
    "s2"
   ]
  }
 ],
 "metadata": {
  "kernelspec": {
   "display_name": "base (Python 3.7.7)",
   "language": "python",
   "name": "base"
  },
  "language_info": {
   "codemirror_mode": {
    "name": "ipython",
    "version": 3
   },
   "file_extension": ".py",
   "mimetype": "text/x-python",
   "name": "python",
   "nbconvert_exporter": "python",
   "pygments_lexer": "ipython3",
   "version": "3.7.7"
  }
 },
 "nbformat": 4,
 "nbformat_minor": 4
}
