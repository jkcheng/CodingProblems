{
 "cells": [
  {
   "cell_type": "code",
   "execution_count": 1,
   "metadata": {},
   "outputs": [],
   "source": [
    "from typing import List"
   ]
  },
  {
   "cell_type": "code",
   "execution_count": 5,
   "metadata": {},
   "outputs": [],
   "source": [
    "# tree practice\n",
    "class TreeNode:\n",
    "    def __init__(self, val=0, left=None, right=None):\n",
    "        self.val = val\n",
    "        self.left = left\n",
    "        self.right = right\n",
    "\n",
    "def mk_tree(nodes, i, n):\n",
    "    root = None\n",
    "    while (i < n) and nodes[i] is not None:\n",
    "        root = TreeNode(nodes[i])\n",
    "        root.left = construct_tree(nodes, 2*i+1, len(nodes))\n",
    "        root.right = construct_tree(nodes, 2*i+2, len(nodes))\n",
    "    return root\n",
    "\n",
    "def prnt_tree(root):\n",
    "    nodes = []\n",
    "    q = [root]\n",
    "    while any(q):\n",
    "        node = q.pop(0) # can use deque to optimize\n",
    "        if node:\n",
    "            nodes.append(node.val)\n",
    "            if node.left or node.right or any(q):\n",
    "                q.append(node.left)\n",
    "                q.append(node.right)\n",
    "        elif any(a): # if node is None AND there's still stuff in q to process\n",
    "            nodes.append('null')\n",
    "    \n",
    "    return nodes"
   ]
  },
  {
   "cell_type": "markdown",
   "metadata": {},
   "source": [
    "## Day 1: 12/1/20\n",
    "### 104. Maximum Depth of Binary Tree\n",
    "EASY  \n",
    "https://leetcode.com/problems/maximum-depth-of-binary-tree/  \n",
    "https://leetcode.com/explore/challenge/card/december-leetcoding-challenge/569/week-1-december-1st-december-7th/3551/"
   ]
  },
  {
   "cell_type": "markdown",
   "metadata": {},
   "source": [
    "Given the `root` of a binary tree, return *its maximum depth*.\n",
    "\n",
    "A binary tree's **maximum depth** is the number of nodes along the longest path from the root node down to the farthest leaf node.\n",
    "\n",
    " \n",
    "\n",
    "**Example 1:**\n",
    "![https://assets.leetcode.com/uploads/2020/11/26/tmp-tree.jpg](https://assets.leetcode.com/uploads/2020/11/26/tmp-tree.jpg)\n",
    "```\n",
    "Input: root = [3,9,20,null,null,15,7]\n",
    "Output: 3\n",
    "```\n",
    "**Example 2:**\n",
    "```\n",
    "Input: root = [1,null,2]\n",
    "Output: 2\n",
    "```\n",
    "**Example 3:**\n",
    "```\n",
    "Input: root = []\n",
    "Output: 0\n",
    "```\n",
    "**Example 4:**\n",
    "```\n",
    "Input: root = [0]\n",
    "Output: 1\n",
    "```\n",
    "\n",
    "**Constraints:**\n",
    "\n",
    "* The number of nodes in the tree is in the range `[0, 10^4]`.\n",
    "* `-100 <= Node.val <= 100`"
   ]
  },
  {
   "cell_type": "markdown",
   "metadata": {},
   "source": [
    "![https://i.imgur.com/6GFYzAn.png](https://i.imgur.com/6GFYzAn.png)\n",
    "**Study Notes:**\n",
    "* concepts: Tree, Depth-First Search, Recursion\n",
    "* leetcode discussion (dfs): https://leetcode.com/problems/maximum-depth-of-binary-tree/discuss/955641/Python-2-lines-dfs-explained"
   ]
  },
  {
   "cell_type": "code",
   "execution_count": 18,
   "metadata": {},
   "outputs": [],
   "source": [
    "class TreeNode:\n",
    "    def __init__(self, val=0, left=None, right=None):\n",
    "        self.val = val\n",
    "        self.left = left\n",
    "        self.right = right\n",
    "\n",
    "def mk_tree(nodes, i, n):\n",
    "    root = None\n",
    "    if (i < n) and nodes[i] is not None:\n",
    "        root = TreeNode(nodes[i])\n",
    "        root.left = mk_tree(nodes, 2*i+1, len(nodes))\n",
    "        root.right = mk_tree(nodes, 2*i+2, len(nodes))\n",
    "    return root\n",
    "\n",
    "def prnt_tree(root):\n",
    "    nodes = []\n",
    "    q = [root]\n",
    "    while any(q):\n",
    "        node = q.pop(0) # can use deque to optimize\n",
    "        if node:\n",
    "            nodes.append(node.val)\n",
    "            if node.left or node.right or any(q):\n",
    "                q.append(node.left)\n",
    "                q.append(node.right)\n",
    "        elif any(a): # if node is None AND there's still stuff in q to process\n",
    "            nodes.append('null')\n",
    "    \n",
    "    return nodes"
   ]
  },
  {
   "cell_type": "code",
   "execution_count": 19,
   "metadata": {},
   "outputs": [],
   "source": [
    "nodes1 = [3,9,20,None,None,15,7]\n",
    "root1 = mk_tree(nodes1, 0, len(nodes1))\n",
    "nodes2 = [1,None,2]\n",
    "root2 = mk_tree(nodes2, 0, len(nodes2))\n",
    "nodes3 = []\n",
    "root3 = mk_tree(nodes3, 0, len(nodes3))\n",
    "nodes4 = [0]\n",
    "root4 = mk_tree(nodes4, 0, len(nodes4))"
   ]
  },
  {
   "cell_type": "code",
   "execution_count": 22,
   "metadata": {},
   "outputs": [],
   "source": [
    "class Solution:\n",
    "    def maxDepth(self, root: TreeNode) -> int:\n",
    "        depth, ldepth, rdepth = 0, 0, 0\n",
    "        if root:\n",
    "            depth += 1\n",
    "            ldepth = self.maxDepth(root.left)\n",
    "            rdepth = self.maxDepth(root.right)\n",
    "            \n",
    "        return depth + max(ldepth,rdepth)"
   ]
  },
  {
   "cell_type": "code",
   "execution_count": 28,
   "metadata": {},
   "outputs": [],
   "source": [
    "# concise code\n",
    "class Solution:\n",
    "    def maxDepth(self, root: TreeNode) -> int:\n",
    "        if root is None:\n",
    "            return 0\n",
    "        else:\n",
    "            return max(self.maxDepth(root.left),self.maxDepth(root.right))+1"
   ]
  },
  {
   "cell_type": "code",
   "execution_count": 29,
   "metadata": {},
   "outputs": [
    {
     "data": {
      "text/plain": [
       "0"
      ]
     },
     "execution_count": 29,
     "metadata": {},
     "output_type": "execute_result"
    }
   ],
   "source": [
    "soln = Solution()\n",
    "soln.maxDepth(root3)"
   ]
  },
  {
   "cell_type": "markdown",
   "metadata": {},
   "source": [
    "## 12/2/20\n",
    "### 382. Linked List Random Node\n",
    "MEDIUM  \n",
    "https://leetcode.com/problems/linked-list-random-node/  \n",
    "https://leetcode.com/explore/challenge/card/december-leetcoding-challenge/569/week-1-december-1st-december-7th/3552/"
   ]
  },
  {
   "cell_type": "markdown",
   "metadata": {},
   "source": [
    "Given a singly linked list, return a random node's value from the linked list. Each node must have the **same probability of being chosen**.\n",
    "\n",
    "**Follow up:**\n",
    "What if the linked list is extremely large and its length is unknown to you? Could you solve this efficiently without using extra space?\n",
    "\n",
    "**Example:**\n",
    "```\n",
    "// Init a singly linked list [1,2,3].\n",
    "ListNode head = new ListNode(1);\n",
    "head.next = new ListNode(2);\n",
    "head.next.next = new ListNode(3);\n",
    "Solution solution = new Solution(head);\n",
    "\n",
    "// getRandom() should return either 1, 2, or 3 randomly. Each element should have equal probability of returning.\n",
    "solution.getRandom();\n",
    "```"
   ]
  },
  {
   "cell_type": "markdown",
   "metadata": {},
   "source": [
    "**Study Notes:**\n",
    "* concepts: linked list, reservoir sampling (https://en.wikipedia.org/wiki/Reservoir_sampling)\n",
    "* note: there are different strategies for achieving this result in code other than the canonical mathematical solution\n",
    "* additional reading:\n",
    "    * https://florian.github.io/reservoir-sampling/\n",
    "    * https://gregable.com/2007/10/reservoir-sampling.html\n",
    "* leetcode discussion: https://leetcode.com/problems/linked-list-random-node/discuss/956872/Python-Reservoir-sampling-(follow-up)-explained"
   ]
  },
  {
   "cell_type": "code",
   "execution_count": 5,
   "metadata": {},
   "outputs": [],
   "source": [
    "# Definition for singly-linked list.\n",
    "class ListNode:\n",
    "    def __init__(self, val=0, next=None):\n",
    "        self.val = val\n",
    "        self.next = next\n",
    "        \n",
    "def mk_list(nodes):\n",
    "    prevnode = None\n",
    "    for nodeval in nodes[::-1]:\n",
    "        node = ListNode(nodeval)\n",
    "        node.next = prevnode\n",
    "        prevnode = node\n",
    "    return node"
   ]
  },
  {
   "cell_type": "code",
   "execution_count": 6,
   "metadata": {},
   "outputs": [],
   "source": [
    "nodes1 = [1,2,3]\n",
    "head1 = mk_list(nodes1)"
   ]
  },
  {
   "cell_type": "code",
   "execution_count": 34,
   "metadata": {},
   "outputs": [],
   "source": [
    "class Solution:\n",
    "    import random\n",
    "    \n",
    "    def __init__(self, head: ListNode):\n",
    "        \"\"\"\n",
    "        @param head The linked list's head.\n",
    "        Note that the head is guaranteed to be not null, so it contains at least one node.\n",
    "        \"\"\"\n",
    "        self.head = head\n",
    "\n",
    "    def getRandom(self) -> int:\n",
    "        \"\"\"\n",
    "        Returns a random node's value.\n",
    "        \"\"\"\n",
    "        node = self.head\n",
    "        n = 0\n",
    "        while node:\n",
    "            n +=1\n",
    "            prob = random.random()\n",
    "            if prob <= (1/n) :\n",
    "                res = node\n",
    "            node = node.next\n",
    "        return res.val\n",
    "\n",
    "\n",
    "# Your Solution object will be instantiated and called as such:\n",
    "# obj = Solution(head)\n",
    "# param_1 = obj.getRandom()"
   ]
  },
  {
   "cell_type": "code",
   "execution_count": 79,
   "metadata": {},
   "outputs": [],
   "source": [
    "# generalized solution for keeping a reservoir of items of size k\n",
    "class Solution:\n",
    "    import random\n",
    "    \n",
    "    def __init__(self, head: ListNode):\n",
    "        \"\"\"\n",
    "        @param head The linked list's head.\n",
    "        Note that the head is guaranteed to be not null, so it contains at least one node.\n",
    "        \"\"\"\n",
    "        self.head = head\n",
    "\n",
    "    def getRandom(self) -> int:\n",
    "        \"\"\"\n",
    "        Returns a random node's value.\n",
    "        \"\"\"\n",
    "        k = 1\n",
    "        node = self.head\n",
    "        n = 0\n",
    "        res = []\n",
    "        while node:\n",
    "            n +=1\n",
    "            if len(res)<k: # add first k items to reservoir\n",
    "                res.append(node.val)\n",
    "            else:\n",
    "                prob = random.random() # generate random float\n",
    "                if prob <= (k/n): # keep new item at probability k/n\n",
    "                    i = random.randint(0,len(res)-1)\n",
    "                    res[i] = node.val # pick random reservoir item to be replaced by new val\n",
    "            node = node.next\n",
    "        return random.choice(res) # return 1 item"
   ]
  },
  {
   "cell_type": "code",
   "execution_count": 88,
   "metadata": {},
   "outputs": [
    {
     "data": {
      "text/plain": [
       "2"
      ]
     },
     "execution_count": 88,
     "metadata": {},
     "output_type": "execute_result"
    }
   ],
   "source": [
    "soln = Solution(head1)\n",
    "soln.getRandom()"
   ]
  }
 ],
 "metadata": {
  "kernelspec": {
   "display_name": "base (Python 3.7.7)",
   "language": "python",
   "name": "base"
  },
  "language_info": {
   "codemirror_mode": {
    "name": "ipython",
    "version": 3
   },
   "file_extension": ".py",
   "mimetype": "text/x-python",
   "name": "python",
   "nbconvert_exporter": "python",
   "pygments_lexer": "ipython3",
   "version": "3.7.7"
  }
 },
 "nbformat": 4,
 "nbformat_minor": 4
}
