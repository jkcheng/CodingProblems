{
 "cells": [
  {
   "cell_type": "code",
   "execution_count": 1,
   "metadata": {},
   "outputs": [],
   "source": [
    "from typing import List"
   ]
  },
  {
   "cell_type": "code",
   "execution_count": 5,
   "metadata": {},
   "outputs": [],
   "source": [
    "# tree practice\n",
    "class TreeNode:\n",
    "    def __init__(self, val=0, left=None, right=None):\n",
    "        self.val = val\n",
    "        self.left = left\n",
    "        self.right = right\n",
    "\n",
    "def mk_tree(nodes, i, n):\n",
    "    root = None\n",
    "    while (i < n) and nodes[i] is not None:\n",
    "        root = TreeNode(nodes[i])\n",
    "        root.left = construct_tree(nodes, 2*i+1, len(nodes))\n",
    "        root.right = construct_tree(nodes, 2*i+2, len(nodes))\n",
    "    return root\n",
    "\n",
    "def prnt_tree(root):\n",
    "    nodes = []\n",
    "    q = [root]\n",
    "    while any(q):\n",
    "        node = q.pop(0) # can use deque to optimize\n",
    "        if node:\n",
    "            nodes.append(node.val)\n",
    "            if node.left or node.right or any(q):\n",
    "                q.append(node.left)\n",
    "                q.append(node.right)\n",
    "        elif any(a): # if node is None AND there's still stuff in q to process\n",
    "            nodes.append('null')\n",
    "    \n",
    "    return nodes"
   ]
  },
  {
   "cell_type": "markdown",
   "metadata": {},
   "source": [
    "## Day 1: 12/1/20\n",
    "### 104. Maximum Depth of Binary Tree\n",
    "EASY  \n",
    "https://leetcode.com/problems/maximum-depth-of-binary-tree/  \n",
    "https://leetcode.com/explore/challenge/card/december-leetcoding-challenge/569/week-1-december-1st-december-7th/3551/"
   ]
  },
  {
   "cell_type": "markdown",
   "metadata": {},
   "source": [
    "Given the `root` of a binary tree, return *its maximum depth*.\n",
    "\n",
    "A binary tree's **maximum depth** is the number of nodes along the longest path from the root node down to the farthest leaf node.\n",
    "\n",
    " \n",
    "\n",
    "**Example 1:**\n",
    "![https://assets.leetcode.com/uploads/2020/11/26/tmp-tree.jpg](https://assets.leetcode.com/uploads/2020/11/26/tmp-tree.jpg)\n",
    "```\n",
    "Input: root = [3,9,20,null,null,15,7]\n",
    "Output: 3\n",
    "```\n",
    "**Example 2:**\n",
    "```\n",
    "Input: root = [1,null,2]\n",
    "Output: 2\n",
    "```\n",
    "**Example 3:**\n",
    "```\n",
    "Input: root = []\n",
    "Output: 0\n",
    "```\n",
    "**Example 4:**\n",
    "```\n",
    "Input: root = [0]\n",
    "Output: 1\n",
    "```\n",
    "\n",
    "**Constraints:**\n",
    "\n",
    "* The number of nodes in the tree is in the range `[0, 10^4]`.\n",
    "* `-100 <= Node.val <= 100`"
   ]
  },
  {
   "cell_type": "markdown",
   "metadata": {},
   "source": [
    "![https://i.imgur.com/6GFYzAn.png](https://i.imgur.com/6GFYzAn.png)\n",
    "**Study Notes:**\n",
    "* concepts: Tree, Depth-First Search, Recursion\n",
    "* leetcode discussion (dfs): https://leetcode.com/problems/maximum-depth-of-binary-tree/discuss/955641/Python-2-lines-dfs-explained"
   ]
  },
  {
   "cell_type": "code",
   "execution_count": 18,
   "metadata": {},
   "outputs": [],
   "source": [
    "class TreeNode:\n",
    "    def __init__(self, val=0, left=None, right=None):\n",
    "        self.val = val\n",
    "        self.left = left\n",
    "        self.right = right\n",
    "\n",
    "def mk_tree(nodes, i, n):\n",
    "    root = None\n",
    "    if (i < n) and nodes[i] is not None:\n",
    "        root = TreeNode(nodes[i])\n",
    "        root.left = mk_tree(nodes, 2*i+1, len(nodes))\n",
    "        root.right = mk_tree(nodes, 2*i+2, len(nodes))\n",
    "    return root\n",
    "\n",
    "def prnt_tree(root):\n",
    "    nodes = []\n",
    "    q = [root]\n",
    "    while any(q):\n",
    "        node = q.pop(0) # can use deque to optimize\n",
    "        if node:\n",
    "            nodes.append(node.val)\n",
    "            if node.left or node.right or any(q):\n",
    "                q.append(node.left)\n",
    "                q.append(node.right)\n",
    "        elif any(a): # if node is None AND there's still stuff in q to process\n",
    "            nodes.append('null')\n",
    "    \n",
    "    return nodes"
   ]
  },
  {
   "cell_type": "code",
   "execution_count": 19,
   "metadata": {},
   "outputs": [],
   "source": [
    "nodes1 = [3,9,20,None,None,15,7]\n",
    "root1 = mk_tree(nodes1, 0, len(nodes1))\n",
    "nodes2 = [1,None,2]\n",
    "root2 = mk_tree(nodes2, 0, len(nodes2))\n",
    "nodes3 = []\n",
    "root3 = mk_tree(nodes3, 0, len(nodes3))\n",
    "nodes4 = [0]\n",
    "root4 = mk_tree(nodes4, 0, len(nodes4))"
   ]
  },
  {
   "cell_type": "code",
   "execution_count": 22,
   "metadata": {},
   "outputs": [],
   "source": [
    "class Solution:\n",
    "    def maxDepth(self, root: TreeNode) -> int:\n",
    "        depth, ldepth, rdepth = 0, 0, 0\n",
    "        if root:\n",
    "            depth += 1\n",
    "            ldepth = self.maxDepth(root.left)\n",
    "            rdepth = self.maxDepth(root.right)\n",
    "            \n",
    "        return depth + max(ldepth,rdepth)"
   ]
  },
  {
   "cell_type": "code",
   "execution_count": 28,
   "metadata": {},
   "outputs": [],
   "source": [
    "# concise code\n",
    "class Solution:\n",
    "    def maxDepth(self, root: TreeNode) -> int:\n",
    "        if root is None:\n",
    "            return 0\n",
    "        else:\n",
    "            return max(self.maxDepth(root.left),self.maxDepth(root.right))+1"
   ]
  },
  {
   "cell_type": "code",
   "execution_count": 29,
   "metadata": {},
   "outputs": [
    {
     "data": {
      "text/plain": [
       "0"
      ]
     },
     "execution_count": 29,
     "metadata": {},
     "output_type": "execute_result"
    }
   ],
   "source": [
    "soln = Solution()\n",
    "soln.maxDepth(root3)"
   ]
  }
 ],
 "metadata": {
  "kernelspec": {
   "display_name": "base (Python 3.7.7)",
   "language": "python",
   "name": "base"
  },
  "language_info": {
   "codemirror_mode": {
    "name": "ipython",
    "version": 3
   },
   "file_extension": ".py",
   "mimetype": "text/x-python",
   "name": "python",
   "nbconvert_exporter": "python",
   "pygments_lexer": "ipython3",
   "version": "3.7.7"
  }
 },
 "nbformat": 4,
 "nbformat_minor": 4
}
