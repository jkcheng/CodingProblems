{
 "cells": [
  {
   "cell_type": "code",
   "execution_count": 1,
   "metadata": {},
   "outputs": [],
   "source": [
    "from typing import List"
   ]
  },
  {
   "cell_type": "code",
   "execution_count": 5,
   "metadata": {},
   "outputs": [],
   "source": [
    "# tree practice\n",
    "class TreeNode:\n",
    "    def __init__(self, val=0, left=None, right=None):\n",
    "        self.val = val\n",
    "        self.left = left\n",
    "        self.right = right\n",
    "\n",
    "def mk_tree(nodes, i, n):\n",
    "    root = None\n",
    "    while (i < n) and nodes[i] is not None:\n",
    "        root = TreeNode(nodes[i])\n",
    "        root.left = construct_tree(nodes, 2*i+1, len(nodes))\n",
    "        root.right = construct_tree(nodes, 2*i+2, len(nodes))\n",
    "    return root\n",
    "\n",
    "def prnt_tree(root):\n",
    "    nodes = []\n",
    "    q = [root]\n",
    "    while any(q):\n",
    "        node = q.pop(0) # can use deque to optimize\n",
    "        if node:\n",
    "            nodes.append(node.val)\n",
    "            if node.left or node.right or any(q):\n",
    "                q.append(node.left)\n",
    "                q.append(node.right)\n",
    "        elif any(a): # if node is None AND there's still stuff in q to process\n",
    "            nodes.append('null')\n",
    "    \n",
    "    return nodes"
   ]
  },
  {
   "cell_type": "markdown",
   "metadata": {},
   "source": [
    "## Day 1: 12/1/20\n",
    "### 104. Maximum Depth of Binary Tree\n",
    "EASY  \n",
    "https://leetcode.com/problems/maximum-depth-of-binary-tree/  \n",
    "https://leetcode.com/explore/challenge/card/december-leetcoding-challenge/569/week-1-december-1st-december-7th/3551/"
   ]
  },
  {
   "cell_type": "markdown",
   "metadata": {},
   "source": [
    "Given the `root` of a binary tree, return *its maximum depth*.\n",
    "\n",
    "A binary tree's **maximum depth** is the number of nodes along the longest path from the root node down to the farthest leaf node.\n",
    "\n",
    " \n",
    "\n",
    "**Example 1:**\n",
    "![https://assets.leetcode.com/uploads/2020/11/26/tmp-tree.jpg](https://assets.leetcode.com/uploads/2020/11/26/tmp-tree.jpg)\n",
    "```\n",
    "Input: root = [3,9,20,null,null,15,7]\n",
    "Output: 3\n",
    "```\n",
    "**Example 2:**\n",
    "```\n",
    "Input: root = [1,null,2]\n",
    "Output: 2\n",
    "```\n",
    "**Example 3:**\n",
    "```\n",
    "Input: root = []\n",
    "Output: 0\n",
    "```\n",
    "**Example 4:**\n",
    "```\n",
    "Input: root = [0]\n",
    "Output: 1\n",
    "```\n",
    "\n",
    "**Constraints:**\n",
    "\n",
    "* The number of nodes in the tree is in the range `[0, 10^4]`.\n",
    "* `-100 <= Node.val <= 100`"
   ]
  },
  {
   "cell_type": "markdown",
   "metadata": {},
   "source": [
    "![https://i.imgur.com/6GFYzAn.png](https://i.imgur.com/6GFYzAn.png)\n",
    "**Study Notes:**\n",
    "* concepts: Tree, Depth-First Search, Recursion\n",
    "* leetcode discussion (dfs): https://leetcode.com/problems/maximum-depth-of-binary-tree/discuss/955641/Python-2-lines-dfs-explained"
   ]
  },
  {
   "cell_type": "code",
   "execution_count": 18,
   "metadata": {},
   "outputs": [],
   "source": [
    "class TreeNode:\n",
    "    def __init__(self, val=0, left=None, right=None):\n",
    "        self.val = val\n",
    "        self.left = left\n",
    "        self.right = right\n",
    "\n",
    "def mk_tree(nodes, i, n):\n",
    "    root = None\n",
    "    if (i < n) and nodes[i] is not None:\n",
    "        root = TreeNode(nodes[i])\n",
    "        root.left = mk_tree(nodes, 2*i+1, len(nodes))\n",
    "        root.right = mk_tree(nodes, 2*i+2, len(nodes))\n",
    "    return root\n",
    "\n",
    "def prnt_tree(root):\n",
    "    nodes = []\n",
    "    q = [root]\n",
    "    while any(q):\n",
    "        node = q.pop(0) # can use deque to optimize\n",
    "        if node:\n",
    "            nodes.append(node.val)\n",
    "            if node.left or node.right or any(q):\n",
    "                q.append(node.left)\n",
    "                q.append(node.right)\n",
    "        elif any(a): # if node is None AND there's still stuff in q to process\n",
    "            nodes.append('null')\n",
    "    \n",
    "    return nodes"
   ]
  },
  {
   "cell_type": "code",
   "execution_count": 19,
   "metadata": {},
   "outputs": [],
   "source": [
    "nodes1 = [3,9,20,None,None,15,7]\n",
    "root1 = mk_tree(nodes1, 0, len(nodes1))\n",
    "nodes2 = [1,None,2]\n",
    "root2 = mk_tree(nodes2, 0, len(nodes2))\n",
    "nodes3 = []\n",
    "root3 = mk_tree(nodes3, 0, len(nodes3))\n",
    "nodes4 = [0]\n",
    "root4 = mk_tree(nodes4, 0, len(nodes4))"
   ]
  },
  {
   "cell_type": "code",
   "execution_count": 22,
   "metadata": {},
   "outputs": [],
   "source": [
    "class Solution:\n",
    "    def maxDepth(self, root: TreeNode) -> int:\n",
    "        depth, ldepth, rdepth = 0, 0, 0\n",
    "        if root:\n",
    "            depth += 1\n",
    "            ldepth = self.maxDepth(root.left)\n",
    "            rdepth = self.maxDepth(root.right)\n",
    "            \n",
    "        return depth + max(ldepth,rdepth)"
   ]
  },
  {
   "cell_type": "code",
   "execution_count": 28,
   "metadata": {},
   "outputs": [],
   "source": [
    "# concise code\n",
    "class Solution:\n",
    "    def maxDepth(self, root: TreeNode) -> int:\n",
    "        if root is None:\n",
    "            return 0\n",
    "        else:\n",
    "            return max(self.maxDepth(root.left),self.maxDepth(root.right))+1"
   ]
  },
  {
   "cell_type": "code",
   "execution_count": 29,
   "metadata": {},
   "outputs": [
    {
     "data": {
      "text/plain": [
       "0"
      ]
     },
     "execution_count": 29,
     "metadata": {},
     "output_type": "execute_result"
    }
   ],
   "source": [
    "soln = Solution()\n",
    "soln.maxDepth(root3)"
   ]
  },
  {
   "cell_type": "markdown",
   "metadata": {},
   "source": [
    "## 12/2/20\n",
    "### 382. Linked List Random Node\n",
    "MEDIUM  \n",
    "https://leetcode.com/problems/linked-list-random-node/  \n",
    "https://leetcode.com/explore/challenge/card/december-leetcoding-challenge/569/week-1-december-1st-december-7th/3552/"
   ]
  },
  {
   "cell_type": "markdown",
   "metadata": {},
   "source": [
    "Given a singly linked list, return a random node's value from the linked list. Each node must have the **same probability of being chosen**.\n",
    "\n",
    "**Follow up:**\n",
    "What if the linked list is extremely large and its length is unknown to you? Could you solve this efficiently without using extra space?\n",
    "\n",
    "**Example:**\n",
    "```\n",
    "// Init a singly linked list [1,2,3].\n",
    "ListNode head = new ListNode(1);\n",
    "head.next = new ListNode(2);\n",
    "head.next.next = new ListNode(3);\n",
    "Solution solution = new Solution(head);\n",
    "\n",
    "// getRandom() should return either 1, 2, or 3 randomly. Each element should have equal probability of returning.\n",
    "solution.getRandom();\n",
    "```"
   ]
  },
  {
   "cell_type": "markdown",
   "metadata": {},
   "source": [
    "**Study Notes:**\n",
    "* concepts: linked list, reservoir sampling (https://en.wikipedia.org/wiki/Reservoir_sampling)\n",
    "* note: there are different strategies for achieving this result in code other than the canonical mathematical solution\n",
    "* additional reading:\n",
    "    * https://florian.github.io/reservoir-sampling/\n",
    "    * https://gregable.com/2007/10/reservoir-sampling.html\n",
    "* leetcode discussion: https://leetcode.com/problems/linked-list-random-node/discuss/956872/Python-Reservoir-sampling-(follow-up)-explained"
   ]
  },
  {
   "cell_type": "code",
   "execution_count": 5,
   "metadata": {},
   "outputs": [],
   "source": [
    "# Definition for singly-linked list.\n",
    "class ListNode:\n",
    "    def __init__(self, val=0, next=None):\n",
    "        self.val = val\n",
    "        self.next = next\n",
    "        \n",
    "def mk_list(nodes):\n",
    "    prevnode = None\n",
    "    for nodeval in nodes[::-1]:\n",
    "        node = ListNode(nodeval)\n",
    "        node.next = prevnode\n",
    "        prevnode = node\n",
    "    return node"
   ]
  },
  {
   "cell_type": "code",
   "execution_count": 6,
   "metadata": {},
   "outputs": [],
   "source": [
    "nodes1 = [1,2,3]\n",
    "head1 = mk_list(nodes1)"
   ]
  },
  {
   "cell_type": "code",
   "execution_count": 34,
   "metadata": {},
   "outputs": [],
   "source": [
    "class Solution:\n",
    "    import random\n",
    "    \n",
    "    def __init__(self, head: ListNode):\n",
    "        \"\"\"\n",
    "        @param head The linked list's head.\n",
    "        Note that the head is guaranteed to be not null, so it contains at least one node.\n",
    "        \"\"\"\n",
    "        self.head = head\n",
    "\n",
    "    def getRandom(self) -> int:\n",
    "        \"\"\"\n",
    "        Returns a random node's value.\n",
    "        \"\"\"\n",
    "        node = self.head\n",
    "        n = 0\n",
    "        while node:\n",
    "            n +=1\n",
    "            prob = random.random()\n",
    "            if prob <= (1/n) :\n",
    "                res = node\n",
    "            node = node.next\n",
    "        return res.val\n",
    "\n",
    "\n",
    "# Your Solution object will be instantiated and called as such:\n",
    "# obj = Solution(head)\n",
    "# param_1 = obj.getRandom()"
   ]
  },
  {
   "cell_type": "code",
   "execution_count": 79,
   "metadata": {},
   "outputs": [],
   "source": [
    "# generalized solution for keeping a reservoir of items of size k\n",
    "class Solution:\n",
    "    import random\n",
    "    \n",
    "    def __init__(self, head: ListNode):\n",
    "        \"\"\"\n",
    "        @param head The linked list's head.\n",
    "        Note that the head is guaranteed to be not null, so it contains at least one node.\n",
    "        \"\"\"\n",
    "        self.head = head\n",
    "\n",
    "    def getRandom(self) -> int:\n",
    "        \"\"\"\n",
    "        Returns a random node's value.\n",
    "        \"\"\"\n",
    "        k = 1\n",
    "        node = self.head\n",
    "        n = 0\n",
    "        res = []\n",
    "        while node:\n",
    "            n +=1\n",
    "            if len(res)<k: # add first k items to reservoir\n",
    "                res.append(node.val)\n",
    "            else:\n",
    "                prob = random.random() # generate random float\n",
    "                if prob <= (k/n): # keep new item at probability k/n\n",
    "                    i = random.randint(0,len(res)-1)\n",
    "                    res[i] = node.val # pick random reservoir item to be replaced by new val\n",
    "            node = node.next\n",
    "        return random.choice(res) # return 1 item"
   ]
  },
  {
   "cell_type": "code",
   "execution_count": 88,
   "metadata": {},
   "outputs": [
    {
     "data": {
      "text/plain": [
       "2"
      ]
     },
     "execution_count": 88,
     "metadata": {},
     "output_type": "execute_result"
    }
   ],
   "source": [
    "soln = Solution(head1)\n",
    "soln.getRandom()"
   ]
  },
  {
   "cell_type": "markdown",
   "metadata": {},
   "source": [
    "## Day 3: 12/3/20\n",
    "### 897. Increasing Order Search Tree\n",
    "EASY  \n",
    "https://leetcode.com/problems/increasing-order-search-tree/  \n",
    "https://leetcode.com/explore/challenge/card/december-leetcoding-challenge/569/week-1-december-1st-december-7th/3553/"
   ]
  },
  {
   "cell_type": "markdown",
   "metadata": {},
   "source": [
    "Given the `root` of a binary search tree, rearrange the tree in **in-order** so that the leftmost node in the tree is now the root of the tree, and every node has no left child and only one right child.\n",
    "\n",
    " \n",
    "\n",
    "**Example 1:**\n",
    "<img alt=\"\" src=\"https://assets.leetcode.com/uploads/2020/11/17/ex1.jpg\" style=\"width: 600px; height: 350px;\">\n",
    "```\n",
    "Input: root = [5,3,6,2,4,null,8,1,null,null,null,7,9]\n",
    "Output: [1,null,2,null,3,null,4,null,5,null,6,null,7,null,8,null,9]\n",
    "```\n",
    "**Example 2:**\n",
    "<img alt=\"\" src=\"https://assets.leetcode.com/uploads/2020/11/17/ex2.jpg\" style=\"width: 300px; height: 114px;\">\n",
    "```\n",
    "Input: root = [5,1,7]\n",
    "Output: [1,null,5,null,7]\n",
    "```\n",
    "\n",
    "**Constraints:**\n",
    "\n",
    "* The number of nodes in the given tree will be in the range `[1, 100]`.\n",
    "* `0 <= Node.val <= 1000`"
   ]
  },
  {
   "cell_type": "markdown",
   "metadata": {},
   "source": [
    "**Companies:**\n",
    "![https://i.imgur.com/ZIbtINn.png](https://i.imgur.com/ZIbtINn.png)\n",
    "**Study Notes:**\n",
    "* concept: depth-first search, in-order tree traversal\n",
    "* leetcode solution article: https://leetcode.com/problems/increasing-order-search-tree/solution/\n",
    "* leetcode discussion: https://leetcode.com/problems/increasing-order-search-tree/discuss/958059/Python-Inorder-dfs-explained"
   ]
  },
  {
   "cell_type": "code",
   "execution_count": 109,
   "metadata": {},
   "outputs": [],
   "source": [
    "# Definition for a binary tree node.\n",
    "class TreeNode:\n",
    "    def __init__(self, val=0, left=None, right=None):\n",
    "        self.val = val\n",
    "        self.left = left\n",
    "        self.right = right\n",
    "\n",
    "def mk_tree(nodes, i, n):\n",
    "    root = None\n",
    "    if (i < n) and nodes[i] is not None:\n",
    "        root = TreeNode(nodes[i])\n",
    "        root.left = mk_tree(nodes, 2*i+1, len(nodes))\n",
    "        root.right = mk_tree(nodes, 2*i+2, len(nodes))\n",
    "    return root\n",
    "\n",
    "def prnt_tree(root):\n",
    "    q = [root]\n",
    "    nodes = []\n",
    "    while any(q):\n",
    "        node = q.pop(0)\n",
    "        if node:\n",
    "            nodes.append(node.val)\n",
    "            if node.left or node.right or any(q):\n",
    "                q.append(node.left)\n",
    "                q.append(node.right)\n",
    "        elif any(q):\n",
    "            nodes.append('null')\n",
    "    return nodes\n",
    "\n",
    "nodes1 = [5,3,6,2,4,None,8,1,None,None,None,None,None,7,9]\n",
    "root1 = mk_tree(nodes1, 0, len(nodes1))\n",
    "nodes2 = [5,1,7]\n",
    "root2 = mk_tree(nodes2, 0, len(nodes2))"
   ]
  },
  {
   "cell_type": "code",
   "execution_count": 75,
   "metadata": {},
   "outputs": [
    {
     "data": {
      "text/plain": [
       "[5, 1, 7]"
      ]
     },
     "execution_count": 75,
     "metadata": {},
     "output_type": "execute_result"
    }
   ],
   "source": [
    "prnt_tree(root2)"
   ]
  },
  {
   "cell_type": "code",
   "execution_count": 157,
   "metadata": {},
   "outputs": [],
   "source": [
    "# using stack\n",
    "class Solution:\n",
    "    def increasingBST(self, root: TreeNode) -> TreeNode:\n",
    "        def add_nodes(node):\n",
    "            stk.append(node)\n",
    "            while node.left:\n",
    "                node = node.left\n",
    "                stk.append(node)\n",
    "        \n",
    "        dummy = cur = TreeNode(None)\n",
    "        stk = []\n",
    "        add_nodes(root)\n",
    "        while stk:\n",
    "            cur.right = stk.pop()\n",
    "            cur = cur.right\n",
    "            cur.left = None\n",
    "            if cur.right:\n",
    "                add_nodes(cur.right)\n",
    "        \n",
    "        return dummy.right"
   ]
  },
  {
   "cell_type": "code",
   "execution_count": 161,
   "metadata": {},
   "outputs": [],
   "source": [
    "# more concise recursion\n",
    "# recurse down tree processing nodes in the order: left-subtree, current node, then right sub-tree\n",
    "# uses class var self.cur to track current node in final tree\n",
    "class Solution:\n",
    "    def increasingBST(self, root: TreeNode) -> TreeNode:\n",
    "        def inorder(node):\n",
    "            if node:\n",
    "                inorder(node.left)\n",
    "                node.left = None\n",
    "                self.cur.right = node\n",
    "                self.cur = node\n",
    "                inorder(node.right)\n",
    "\n",
    "        ans = self.cur = TreeNode(None)\n",
    "        inorder(root)\n",
    "        return ans.right"
   ]
  },
  {
   "cell_type": "code",
   "execution_count": 155,
   "metadata": {},
   "outputs": [],
   "source": [
    "# pure recursion from leetcode discussion\n",
    "# perform recursive dfs and keep track of 2 invariants: left-most child and right-most child\n",
    "# these will be the head and tail of the final tree\n",
    "# modify parent-child relations as we traverse\n",
    "class Solution:\n",
    "    def increasingBST(self, root: TreeNode) -> TreeNode:\n",
    "        def dfs(node):\n",
    "            lmc, rmc = node, node # base case\n",
    "            \n",
    "            if node.left: \n",
    "                # recurse down left subtree to find left-most child and right-most child of left subtree\n",
    "                lmc, lrmc = dfs(node.left)\n",
    "                # set current node as right child of the right-most child of left subtree\n",
    "                lrmc.right = node \n",
    "                \n",
    "            if node.right:\n",
    "                # recurse down right subtree to find left-most child and right-most child of right subtree\n",
    "                rlmc, rmc = dfs(node.right)\n",
    "                # set left-most child of right subtree as right child of current node\n",
    "                node.right = rlmc\n",
    "            \n",
    "            # remove left child of current node\n",
    "            node.left = None\n",
    "            return lmc, rmc\n",
    "        \n",
    "        newroot, newleaf = dfs(root)\n",
    "        return newroot"
   ]
  },
  {
   "cell_type": "code",
   "execution_count": 162,
   "metadata": {},
   "outputs": [
    {
     "data": {
      "text/plain": [
       "[1, 'null', 2, 'null', 3, 'null', 4]"
      ]
     },
     "execution_count": 162,
     "metadata": {},
     "output_type": "execute_result"
    }
   ],
   "source": [
    "nodes1 = [5,3,6,2,4,None,8,1,None,None,None,None,None,7,9]\n",
    "root1 = mk_tree(nodes1, 0, len(nodes1))\n",
    "nodes2 = [5,1,7]\n",
    "root2 = mk_tree(nodes2, 0, len(nodes2))\n",
    "nodes3 = [2,1,4,None,None,3]\n",
    "root3 = mk_tree(nodes3, 0, len(nodes3))\n",
    "soln = Solution()\n",
    "prnt_tree(soln.increasingBST(root3))"
   ]
  },
  {
   "cell_type": "markdown",
   "metadata": {},
   "source": [
    "## 12/4/20\n",
    "### 1492. The kth Factor of n\n",
    "MEDIUM  \n",
    "https://leetcode.com/problems/the-kth-factor-of-n/  \n",
    "https://leetcode.com/explore/challenge/card/december-leetcoding-challenge/569/week-1-december-1st-december-7th/3554/"
   ]
  },
  {
   "cell_type": "markdown",
   "metadata": {},
   "source": [
    "Given two positive integers `n` and `k`.\n",
    "\n",
    "A factor of an integer `n` is defined as an integer `i` where `n % i == 0`.\n",
    "\n",
    "Consider a list of all factors of `n` sorted in **ascending order**, return *the `kth` factor* in this list or return **-1** if `n` has less than `k` factors.\n",
    "\n",
    " \n",
    "\n",
    "**Example 1:**\n",
    "```\n",
    "Input: n = 12, k = 3\n",
    "Output: 3\n",
    "Explanation: Factors list is [1, 2, 3, 4, 6, 12], the 3rd factor is 3.\n",
    "```\n",
    "**Example 2:**\n",
    "```\n",
    "Input: n = 7, k = 2\n",
    "Output: 7\n",
    "Explanation: Factors list is [1, 7], the 2nd factor is 7.\n",
    "```\n",
    "**Example 3:**\n",
    "```\n",
    "Input: n = 4, k = 4\n",
    "Output: -1\n",
    "Explanation: Factors list is [1, 2, 4], there is only 3 factors. We should return -1.\n",
    "```\n",
    "**Example 4:**\n",
    "```\n",
    "Input: n = 1, k = 1\n",
    "Output: 1\n",
    "Explanation: Factors list is [1], the 1st factor is 1.\n",
    "```\n",
    "**Example 5:**\n",
    "```\n",
    "Input: n = 1000, k = 3\n",
    "Output: 4\n",
    "Explanation: Factors list is [1, 2, 4, 5, 8, 10, 20, 25, 40, 50, 100, 125, 200, 250, 500, 1000].\n",
    "```\n",
    "\n",
    "**Constraints:**\n",
    "\n",
    "* `1 <= k <= n <= 1000`"
   ]
  },
  {
   "cell_type": "markdown",
   "metadata": {},
   "source": [
    "**Study Notes:**\n",
    "* concepts: math, array\n",
    "* linear time solution $O(n)$ works here because the limit is small `n <= 1000`\n",
    "* to optimize, can check up to `sqrt(n)` factors because for each divisor `d`, `n/d` is also a divisor"
   ]
  },
  {
   "cell_type": "code",
   "execution_count": 4,
   "metadata": {},
   "outputs": [],
   "source": [
    "n1,k1 = 12, 3\n",
    "n2,k2 = 7, 2\n",
    "n3,k3 = 4, 4\n",
    "n4,k4 = 1, 1\n",
    "n5,k5 = 1000, 3"
   ]
  },
  {
   "cell_type": "code",
   "execution_count": 7,
   "metadata": {},
   "outputs": [],
   "source": [
    "# brute force linear time\n",
    "class Solution:\n",
    "    def kthFactor(self, n: int, k: int) -> int:\n",
    "        count = 0\n",
    "        for i in range(1,n+1):\n",
    "            if n % i == 0:\n",
    "                count += 1\n",
    "            if count == k:\n",
    "                return i\n",
    "        return -1"
   ]
  },
  {
   "cell_type": "code",
   "execution_count": 23,
   "metadata": {},
   "outputs": [],
   "source": [
    "# O(sqrt(n)) time, O(sqrt(n)) space\n",
    "# brute force linear time\n",
    "from math import sqrt\n",
    "class Solution:\n",
    "    def kthFactor(self, n: int, k: int) -> int:\n",
    "        count = 0\n",
    "        f1, f2 = [], []\n",
    "        for i in range(1,int(sqrt(n))+1):\n",
    "            if n % i == 0:\n",
    "                count += 1\n",
    "                f1.append(i)\n",
    "                f2.append(n//i)\n",
    "            if count == k:\n",
    "                return i\n",
    "        \n",
    "        if f1[-1] == f2[-1]:\n",
    "            f2.pop()\n",
    "        \n",
    "        if len(f1)+len(f2) < k:\n",
    "            return -1\n",
    "        if k <= len(f1):\n",
    "            return f1[k-1]\n",
    "        else:\n",
    "            return f2[len(f1)-k] # f2 is ordered descending, index backwards in f2"
   ]
  },
  {
   "cell_type": "code",
   "execution_count": 26,
   "metadata": {},
   "outputs": [
    {
     "data": {
      "text/plain": [
       "4"
      ]
     },
     "execution_count": 26,
     "metadata": {},
     "output_type": "execute_result"
    }
   ],
   "source": [
    "soln = Solution()\n",
    "soln.kthFactor(n5,k5)"
   ]
  },
  {
   "cell_type": "markdown",
   "metadata": {},
   "source": [
    "## Day 5: 12/5/20\n",
    "### 605. Can Place Flowers\n",
    "EASY  \n",
    "https://leetcode.com/problems/can-place-flowers/  \n",
    "https://leetcode.com/explore/challenge/card/december-leetcoding-challenge/569/week-1-december-1st-december-7th/3555/"
   ]
  },
  {
   "cell_type": "markdown",
   "metadata": {},
   "source": [
    "You have a long flowerbed in which some of the plots are planted, and some are not. However, flowers cannot be planted in **adjacent** plots.\n",
    "\n",
    "Given an integer array `flowerbed` containing `0`'s and `1`'s, where `0` means empty and `1` means not empty, and an integer `n`, return if `n` new flowers can be planted in the flowerbed without violating the no-adjacent-flowers rule.\n",
    "\n",
    " \n",
    "\n",
    "**Example 1:**\n",
    "```\n",
    "Input: flowerbed = [1,0,0,0,1], n = 1\n",
    "Output: true\n",
    "```\n",
    "**Example 2:**\n",
    "```\n",
    "Input: flowerbed = [1,0,0,0,1], n = 2\n",
    "Output: false\n",
    "```\n",
    "\n",
    "**Constraints:**\n",
    "\n",
    "* `1 <= flowerbed.length <= 2 * 10^4`\n",
    "* `flowerbed[i]` is `0` or `1`.\n",
    "* There are no two adjacent flowers in `flowerbed`.\n",
    "* `0 <= n <= flowerbed.length`"
   ]
  },
  {
   "cell_type": "markdown",
   "metadata": {},
   "source": [
    "**Study Notes:**\n",
    "* leetcode solution article: https://leetcode.com/problems/can-place-flowers/solution/\n",
    "* leetcode discussion (python groupby): https://leetcode.com/problems/can-place-flowers/discuss/960419/Python-2-lines-using-groupby-explained\n",
    "\n",
    "**Companies:**\n",
    "![https://i.imgur.com/Cckaso5.png](https://i.imgur.com/Cckaso5.png)"
   ]
  },
  {
   "cell_type": "code",
   "execution_count": 37,
   "metadata": {},
   "outputs": [],
   "source": [
    "flowerbed1,n1 = [1,0,0,0,1], 1\n",
    "flowerbed2,n2 = [1,0,0,0,1], 2\n",
    "flowerbed3,n3 = [1,0,0,0,1,0,0], 2\n",
    "flowerbed4,n4 = [1,0], 1"
   ]
  },
  {
   "cell_type": "code",
   "execution_count": 68,
   "metadata": {},
   "outputs": [],
   "source": [
    "class Solution:\n",
    "    def canPlaceFlowers(self, flowerbed: List[int], n: int) -> bool:\n",
    "        \n",
    "        for i in range(len(flowerbed)):\n",
    "            if flowerbed[i]==0:\n",
    "                if (i==0 or (i>0 and flowerbed[i-1]==0)) and (i==len(flowerbed)-1 or (i+1<len(flowerbed) and flowerbed[i+1]==0)):\n",
    "                    flowerbed[i] = 1\n",
    "                    n -= 1\n",
    "            if n<=0:\n",
    "                return True\n",
    "        return False"
   ]
  },
  {
   "cell_type": "code",
   "execution_count": 105,
   "metadata": {},
   "outputs": [],
   "source": [
    "# instead of rigorously checking the array bounds, can just append 0 to the ends of the array\n",
    "class Solution:\n",
    "    def canPlaceFlowers(self, flowerbed: List[int], n: int) -> bool:\n",
    "        count = 0\n",
    "        flowerbed = [0] + flowerbed + [0] # can optimize even further by only using flowerbed.append(0) because flowerbed[-1] will check the end of the array\n",
    "        for i in range(1,len(flowerbed)-1):\n",
    "            if flowerbed[i-1]==0 and flowerbed[i]==0 and flowerbed[i+1]==0:\n",
    "                flowerbed[i]=1\n",
    "                count += 1\n",
    "            if count >= n:\n",
    "                return True\n",
    "        return False"
   ]
  },
  {
   "cell_type": "code",
   "execution_count": 106,
   "metadata": {},
   "outputs": [
    {
     "data": {
      "text/plain": [
       "False"
      ]
     },
     "execution_count": 106,
     "metadata": {},
     "output_type": "execute_result"
    }
   ],
   "source": [
    "flowerbed1,n1 = [1,0,0,0,1], 1\n",
    "flowerbed2,n2 = [1,0,0,0,1], 2\n",
    "flowerbed3,n3 = [1,0,0,0,1,0,0], 2\n",
    "flowerbed4,n4 = [1,0], 1\n",
    "flowerbed5,n5 = [0,0,0,0,0,1,0,0], 0\n",
    "soln = Solution()\n",
    "soln.canPlaceFlowers([1,0,0,0,0,1],2)"
   ]
  },
  {
   "cell_type": "markdown",
   "metadata": {},
   "source": [
    "## Day 6: 12/6/20\n",
    "### 117. Populating Next Right Pointers in Each Node II\n",
    "MEDIUM  \n",
    "https://leetcode.com/problems/populating-next-right-pointers-in-each-node-ii/  \n",
    "https://leetcode.com/explore/challenge/card/december-leetcoding-challenge/569/week-1-december-1st-december-7th/3556/"
   ]
  },
  {
   "cell_type": "markdown",
   "metadata": {},
   "source": [
    "Given a binary tree\n",
    "```\n",
    "struct Node {\n",
    "  int val;\n",
    "  Node *left;\n",
    "  Node *right;\n",
    "  Node *next;\n",
    "}\n",
    "```\n",
    "Populate each next pointer to point to its next right node. If there is no next right node, the next pointer should be set to `NULL`.\n",
    "\n",
    "Initially, all next pointers are set to `NULL`.\n",
    "\n",
    " \n",
    "\n",
    "**Follow up:**\n",
    "\n",
    "* You may only use constant extra space.\n",
    "* Recursive approach is fine, you may assume implicit stack space does not count as extra space for this problem.\n",
    " \n",
    "\n",
    "**Example 1:**\n",
    "<img alt=\"\" src=\"https://assets.leetcode.com/uploads/2019/02/15/117_sample.png\" style=\"width: 640px; height: 218px;\">\n",
    "```\n",
    "Input: root = [1,2,3,4,5,null,7]\n",
    "Output: [1,#,2,3,#,4,5,7,#]\n",
    "Explanation: Given the above binary tree (Figure A), your function should populate each next pointer to point to its next right node, just like in Figure B. The serialized output is in level order as connected by the next pointers, with '#' signifying the end of each level.\n",
    "```\n",
    "\n",
    "**Constraints:**\n",
    "\n",
    "* The number of nodes in the given tree is less than `6000`.\n",
    "* `-100 <= node.val <= 100`"
   ]
  },
  {
   "cell_type": "markdown",
   "metadata": {},
   "source": [
    "**Study Notees:**\n",
    "* leetcode solution article (premium): https://leetcode.com/problems/populating-next-right-pointers-in-each-node-ii/solution/\n",
    "* leetcode discussion: https://leetcode.com/problems/populating-next-right-pointers-in-each-node-ii/discuss/961868/Python-O(n)-solution-explained\n",
    "\n",
    "**Companies:**\n",
    "![https://i.imgur.com/SBn9odb.png](https://i.imgur.com/SBn9odb.png)"
   ]
  },
  {
   "cell_type": "code",
   "execution_count": 2,
   "metadata": {},
   "outputs": [],
   "source": [
    "# Definition for a Node.\n",
    "class Node:\n",
    "    def __init__(self, val: int = 0, left: 'Node' = None, right: 'Node' = None, next: 'Node' = None):\n",
    "        self.val = val\n",
    "        self.left = left\n",
    "        self.right = right\n",
    "        self.next = next\n",
    "\n",
    "def mk_tree(nodes, i, n):\n",
    "    root = None\n",
    "    if (i < n) and nodes[i] is not None:\n",
    "        root = Node(nodes[i])\n",
    "        root.left = mk_tree(nodes, 2*i+1, len(nodes))\n",
    "        root.right = mk_tree(nodes, 2*i+2, len(nodes))\n",
    "    return root\n",
    "\n",
    "def prnt_tree(root):\n",
    "    q = [root]\n",
    "    nodes = []\n",
    "    while any(q):\n",
    "        node = q.pop(0)\n",
    "        if node:\n",
    "            nodes.append(node.val)\n",
    "            if node.left or node.right or any(q):\n",
    "                q.append(node.left)\n",
    "                q.append(node.right)\n",
    "        elif any(q):\n",
    "            nodes.append('null')\n",
    "    return nodes"
   ]
  },
  {
   "cell_type": "code",
   "execution_count": 3,
   "metadata": {},
   "outputs": [
    {
     "data": {
      "text/plain": [
       "[1, 2, 3, 4, 5, 'null', 7]"
      ]
     },
     "execution_count": 3,
     "metadata": {},
     "output_type": "execute_result"
    }
   ],
   "source": [
    "nodes1 = [1,2,3,4,5,None,7]\n",
    "root1 = mk_tree(nodes1, 0, len(nodes1))\n",
    "\n",
    "prnt_tree(root1)"
   ]
  },
  {
   "cell_type": "code",
   "execution_count": 4,
   "metadata": {},
   "outputs": [],
   "source": [
    "class Solution:\n",
    "    def connect(self, root: 'Node') -> 'Node':\n",
    "        \n",
    "        return None"
   ]
  },
  {
   "cell_type": "code",
   "execution_count": 5,
   "metadata": {},
   "outputs": [],
   "source": [
    "soln = Solution()\n",
    "soln.connect(root1)"
   ]
  },
  {
   "cell_type": "markdown",
   "metadata": {},
   "source": [
    "## 12/7/20\n",
    "### 59. Spiral Matrix II\n",
    "MEDIUM  \n",
    "https://leetcode.com/problems/spiral-matrix-ii/  \n",
    "https://leetcode.com/explore/challenge/card/december-leetcoding-challenge/569/week-1-december-1st-december-7th/3557/"
   ]
  },
  {
   "cell_type": "markdown",
   "metadata": {},
   "source": [
    "Given a positive integer `n`, generate an `n x n` `matrix` filled with elements from `1` to `n^2` in spiral order.\n",
    "\n",
    " \n",
    "\n",
    "**Example 1:**\n",
    "<img alt=\"\" src=\"https://assets.leetcode.com/uploads/2020/11/13/spiraln.jpg\" style=\"width: 242px; height: 242px;\">\n",
    "```\n",
    "Input: n = 3\n",
    "Output: [[1,2,3],[8,9,4],[7,6,5]]\n",
    "```\n",
    "**Example 2:**\n",
    "```\n",
    "Input: n = 1\n",
    "Output: [[1]]\n",
    "```\n",
    "\n",
    "**Constraints:**\n",
    "\n",
    "* `1 <= n <= 20`"
   ]
  },
  {
   "cell_type": "markdown",
   "metadata": {},
   "source": [
    "**Study Notes:**\n",
    "* leetcode discussion (rotate when needed):\n",
    "    * https://leetcode.com/problems/spiral-matrix-ii/discuss/963128/Python-rotate-when-need-explained\n",
    "    * https://leetcode.com/problems/spiral-matrix-ii/discuss/963097/Python"
   ]
  },
  {
   "cell_type": "code",
   "execution_count": 2,
   "metadata": {},
   "outputs": [],
   "source": [
    "n1 = 3\n",
    "n2 = 1"
   ]
  },
  {
   "cell_type": "code",
   "execution_count": 48,
   "metadata": {},
   "outputs": [],
   "source": [
    "class Solution:\n",
    "    def generateMatrix(self, n: int) -> List[List[int]]:\n",
    "        ans = [[0]*n for _ in range(n)]\n",
    "        direc = [(1,0), (0,1), (-1,0), (0,-1)]\n",
    "        x, y, j = 0, 0, 0\n",
    "        dx, dy = direc[j]\n",
    "        for v in range(1,(n**2)+1):\n",
    "            ans[y][x] = v\n",
    "            if x+dx < n and y+dy < n and ans[y+dy][x+dx]==0:\n",
    "                x += dx\n",
    "                y += dy\n",
    "            else:\n",
    "                j = j+1 if j+1 < len(direc) else 0\n",
    "                dx, dy = direc[j]\n",
    "                x += dx\n",
    "                y += dy\n",
    "        return ans"
   ]
  },
  {
   "cell_type": "code",
   "execution_count": 50,
   "metadata": {},
   "outputs": [
    {
     "data": {
      "text/plain": [
       "[[1]]"
      ]
     },
     "execution_count": 50,
     "metadata": {},
     "output_type": "execute_result"
    }
   ],
   "source": [
    "soln = Solution()\n",
    "soln.generateMatrix(n2)"
   ]
  },
  {
   "cell_type": "markdown",
   "metadata": {},
   "source": [
    "## Day 8: 12/8/20\n",
    "### 1010. Pairs of Songs With Total Durations Divisible by 60\n",
    "MEDIUM  \n",
    "https://leetcode.com/problems/pairs-of-songs-with-total-durations-divisible-by-60/  \n",
    "https://leetcode.com/explore/challenge/card/december-leetcoding-challenge/570/week-2-december-8th-december-14th/3559/"
   ]
  },
  {
   "cell_type": "markdown",
   "metadata": {},
   "source": [
    "You are given a list of songs where the $i^{th}$ song has a duration of `time[i]` seconds.\n",
    "\n",
    "Return *the number of pairs of songs for which their total duration in seconds is divisible by* `60`. Formally, we want the number of indices `i`, `j` such that `i < j` with `(time[i] + time[j]) % 60 == 0`.\n",
    "\n",
    " \n",
    "\n",
    "**Example 1:**\n",
    "```\n",
    "Input: time = [30,20,150,100,40]\n",
    "Output: 3\n",
    "Explanation: Three pairs have a total duration divisible by 60:\n",
    "(time[0] = 30, time[2] = 150): total duration 180\n",
    "(time[1] = 20, time[3] = 100): total duration 120\n",
    "(time[1] = 20, time[4] = 40): total duration 60\n",
    "```\n",
    "**Example 2:**\n",
    "```\n",
    "Input: time = [60,60,60]\n",
    "Output: 3\n",
    "Explanation: All three pairs have a total duration of 120, which is divisible by 60.\n",
    "```\n",
    "\n",
    "**Constraints:**\n",
    "\n",
    "* `1 <= time.length <= 6 * 10^4`\n",
    "* `1 <= time[i] <= 500`"
   ]
  },
  {
   "cell_type": "markdown",
   "metadata": {},
   "source": [
    "**Study Notes:**\n",
    "* leetcode solution article: https://leetcode.com/problems/pairs-of-songs-with-total-durations-divisible-by-60/solution/\n",
    "* leetcode discussion: https://leetcode.com/problems/pairs-of-songs-with-total-durations-divisible-by-60/discuss/964319/Python-Modular-arithmetic-explained"
   ]
  },
  {
   "cell_type": "code",
   "execution_count": 2,
   "metadata": {},
   "outputs": [],
   "source": [
    "time1 = [30,20,150,100,40]\n",
    "time2 = [60,60,60]"
   ]
  },
  {
   "cell_type": "code",
   "execution_count": 101,
   "metadata": {},
   "outputs": [],
   "source": [
    "class Solution:\n",
    "    def numPairsDivisibleBy60(self, time: List[int]) -> int:\n",
    "        mods = {}\n",
    "        count = 0\n",
    "        for t in time:\n",
    "            mod = t%60\n",
    "            comp = 60-mod if mod !=0 else 0\n",
    "            count += mods.get(comp,0)\n",
    "            \n",
    "            # update mods\n",
    "            if mod in mods:\n",
    "                mods[mod] += 1\n",
    "            else:\n",
    "                mods[mod] = 1\n",
    "                                \n",
    "        return count"
   ]
  },
  {
   "cell_type": "code",
   "execution_count": 103,
   "metadata": {},
   "outputs": [
    {
     "data": {
      "text/plain": [
       "3"
      ]
     },
     "execution_count": 103,
     "metadata": {},
     "output_type": "execute_result"
    }
   ],
   "source": [
    "soln = Solution()\n",
    "soln.numPairsDivisibleBy60(time1)"
   ]
  },
  {
   "cell_type": "markdown",
   "metadata": {},
   "source": [
    "## Day 9: 12/9/20\n",
    "### 173. Binary Search Tree Iterator\n",
    "MEDIUM  \n",
    "https://leetcode.com/problems/binary-search-tree-iterator/  \n",
    "https://leetcode.com/explore/challenge/card/december-leetcoding-challenge/570/week-2-december-8th-december-14th/3560/"
   ]
  },
  {
   "cell_type": "markdown",
   "metadata": {},
   "source": [
    "Implement the `BSTIterator` class that represents an iterator over the [in-order traversal](https://en.wikipedia.org/wiki/Tree_traversal#In-order_(LNR)) of a binary search tree (BST):\n",
    "\n",
    "* `BSTIterator(TreeNode root)` Initializes an object of the `BSTIterator` class. The `root` of the BST is given as part of the constructor. The pointer should be initialized to a non-existent number smaller than any element in the BST.\n",
    "* `boolean hasNext()` Returns `true` if there exists a number in the traversal to the right of the pointer, otherwise returns `false`.\n",
    "* `int next()` Moves the pointer to the right, then returns the number at the pointer.\n",
    "\n",
    "Notice that by initializing the pointer to a non-existent smallest number, the first call to `next()` will return the smallest element in the BST.\n",
    "\n",
    "You may assume that `next()` calls will always be valid. That is, there will be at least a next number in the in-order traversal when `next()` is called.\n",
    "\n",
    " \n",
    "\n",
    "**Example 1:**\n",
    "<img alt=\"\" src=\"https://assets.leetcode.com/uploads/2018/12/25/bst-tree.png\" style=\"width: 189px; height: 178px;\">\n",
    "```\n",
    "Input\n",
    "[\"BSTIterator\", \"next\", \"next\", \"hasNext\", \"next\", \"hasNext\", \"next\", \"hasNext\", \"next\", \"hasNext\"]\n",
    "[[[7, 3, 15, null, null, 9, 20]], [], [], [], [], [], [], [], [], []]\n",
    "Output\n",
    "[null, 3, 7, true, 9, true, 15, true, 20, false]\n",
    "\n",
    "Explanation\n",
    "BSTIterator bSTIterator = new BSTIterator([7, 3, 15, null, null, 9, 20]);\n",
    "bSTIterator.next();    // return 3\n",
    "bSTIterator.next();    // return 7\n",
    "bSTIterator.hasNext(); // return True\n",
    "bSTIterator.next();    // return 9\n",
    "bSTIterator.hasNext(); // return True\n",
    "bSTIterator.next();    // return 15\n",
    "bSTIterator.hasNext(); // return True\n",
    "bSTIterator.next();    // return 20\n",
    "bSTIterator.hasNext(); // return False\n",
    "```\n",
    "\n",
    "**Constraints:**\n",
    "\n",
    "* The number of nodes in the tree is in the range `[1, 105]`.\n",
    "* `0 <= Node.val <= 10^6`\n",
    "* At most `10^5` calls will be made to `hasNext`, and `next`.\n",
    " \n",
    "\n",
    "**Follow up:**\n",
    "\n",
    "* Could you implement `next()` and `hasNext()` to run in average `O(1)` time and use `O(h)` memory, where `h` is the height of the tree?"
   ]
  },
  {
   "cell_type": "markdown",
   "metadata": {},
   "source": [
    "**Companies:**\n",
    "![https://i.imgur.com/NOC6sBV.png](https://i.imgur.com/NOC6sBV.png)\n",
    "\n",
    "**Study Notes:**\n",
    "* leetcode discussion: https://leetcode.com/problems/binary-search-tree-iterator/discuss/965565/Python-Stack-solution-%2B-follow-up-explained"
   ]
  },
  {
   "cell_type": "code",
   "execution_count": 26,
   "metadata": {},
   "outputs": [],
   "source": [
    "# Definition for a binary tree node.\n",
    "class TreeNode:\n",
    "    def __init__(self, val=0, left=None, right=None):\n",
    "        self.val = val\n",
    "        self.left = left\n",
    "        self.right = right\n",
    "        \n",
    "def mk_tree(nodes, i, n):\n",
    "    root = None\n",
    "    if (i < n) and nodes[i] is not None:\n",
    "        root = TreeNode(nodes[i])\n",
    "        root.left = mk_tree(nodes, 2*i+1, len(nodes))\n",
    "        root.right = mk_tree(nodes, 2*i+2, len(nodes))\n",
    "    return root\n",
    "\n",
    "def prnt_tree(root):\n",
    "    q = [root]\n",
    "    nodes = []\n",
    "    while any(q):\n",
    "        node = q.pop(0)\n",
    "        if node:\n",
    "            nodes.append(node.val)\n",
    "            if node.left or node.right or any(q):\n",
    "                q.append(node.left)\n",
    "                q.append(node.right)\n",
    "        elif any(q):\n",
    "            nodes.append('null')\n",
    "    return nodes\n",
    "\n",
    "nodes1 = [7, 3, 15, None, None, 9, 20]\n",
    "root1 = mk_tree(nodes1, 0, len(nodes1))"
   ]
  },
  {
   "cell_type": "code",
   "execution_count": 27,
   "metadata": {},
   "outputs": [
    {
     "data": {
      "text/plain": [
       "[7, 3, 15, 'null', 'null', 9, 20]"
      ]
     },
     "execution_count": 27,
     "metadata": {},
     "output_type": "execute_result"
    }
   ],
   "source": [
    "prnt_tree(root1)"
   ]
  },
  {
   "cell_type": "code",
   "execution_count": 28,
   "metadata": {},
   "outputs": [],
   "source": [
    "class BSTIterator:\n",
    "\n",
    "    def __init__(self, root: TreeNode):\n",
    "        self.stack = []\n",
    "        self.add_nodes(root)\n",
    "        \n",
    "    def add_nodes(self, node):\n",
    "        self.stack.append(node)\n",
    "        while node.left:\n",
    "            node = node.left\n",
    "            self.stack.append(node)\n",
    "\n",
    "    def next(self) -> int:\n",
    "        node = self.stack.pop()\n",
    "        if node.right:\n",
    "            self.add_nodes(node.right)\n",
    "        return node.val\n",
    "\n",
    "    def hasNext(self) -> bool:\n",
    "        if len(self.stack)>0:\n",
    "            return True\n",
    "        return False\n",
    "\n",
    "\n",
    "# Your BSTIterator object will be instantiated and called as such:\n",
    "# obj = BSTIterator(root)\n",
    "# param_1 = obj.next()\n",
    "# param_2 = obj.hasNext()"
   ]
  },
  {
   "cell_type": "code",
   "execution_count": 29,
   "metadata": {},
   "outputs": [],
   "source": [
    "# more concise coding\n",
    "class BSTIterator:\n",
    "\n",
    "    def __init__(self, root: TreeNode):\n",
    "        self.stack = []\n",
    "        self._add_nodes(root)\n",
    "        \n",
    "    def _add_nodes(self, node):\n",
    "        while node:\n",
    "            self.stack.append(node)\n",
    "            node = node.left\n",
    "\n",
    "    def next(self) -> int:\n",
    "        node = self.stack.pop()\n",
    "        if node.right:\n",
    "            self._add_nodes(node.right)\n",
    "        return node.val\n",
    "\n",
    "    def hasNext(self) -> bool:\n",
    "        return len(self.stack)>0"
   ]
  },
  {
   "cell_type": "code",
   "execution_count": 30,
   "metadata": {},
   "outputs": [
    {
     "name": "stdout",
     "output_type": "stream",
     "text": [
      "3\n",
      "7\n",
      "True\n",
      "9\n",
      "True\n",
      "15\n",
      "True\n",
      "20\n",
      "False\n"
     ]
    }
   ],
   "source": [
    "bSTIterator = BSTIterator(root1)\n",
    "print(bSTIterator.next())\n",
    "print(bSTIterator.next())\n",
    "print(bSTIterator.hasNext())\n",
    "print(bSTIterator.next())\n",
    "print(bSTIterator.hasNext())\n",
    "print(bSTIterator.next())\n",
    "print(bSTIterator.hasNext())\n",
    "print(bSTIterator.next())\n",
    "print(bSTIterator.hasNext())"
   ]
  }
 ],
 "metadata": {
  "kernelspec": {
   "display_name": "base (Python 3.7.7)",
   "language": "python",
   "name": "base"
  },
  "language_info": {
   "codemirror_mode": {
    "name": "ipython",
    "version": 3
   },
   "file_extension": ".py",
   "mimetype": "text/x-python",
   "name": "python",
   "nbconvert_exporter": "python",
   "pygments_lexer": "ipython3",
   "version": "3.7.7"
  }
 },
 "nbformat": 4,
 "nbformat_minor": 4
}
