{
 "cells": [
  {
   "cell_type": "code",
   "execution_count": 1,
   "metadata": {},
   "outputs": [],
   "source": [
    "from typing import List"
   ]
  },
  {
   "cell_type": "markdown",
   "metadata": {},
   "source": [
    "## Day 1: 5/1/20\n",
    "### 278. First Bad Version\n",
    "EASY  \n",
    "https://leetcode.com/problems/first-bad-version/\n",
    "https://leetcode.com/explore/challenge/card/may-leetcoding-challenge/534/week-1-may-1st-may-7th/3316/"
   ]
  },
  {
   "cell_type": "markdown",
   "metadata": {},
   "source": [
    "You are a product manager and currently leading a team to develop a new product. Unfortunately, the latest version of your product fails the quality check. Since each version is developed based on the previous version, all the versions after a bad version are also bad.\n",
    "\n",
    "Suppose you have `n` versions `[1, 2, ..., n]` and you want to find out the first bad one, which causes all the following ones to be bad.\n",
    "\n",
    "You are given an API `bool isBadVersion(version)` which will return whether `version` is bad. Implement a function to find the first bad version. You should minimize the number of calls to the API.\n",
    "\n",
    "**Example:**\n",
    "```\n",
    "Given n = 5, and version = 4 is the first bad version.\n",
    "\n",
    "call isBadVersion(3) -> false\n",
    "call isBadVersion(5) -> true\n",
    "call isBadVersion(4) -> true\n",
    "\n",
    "Then 4 is the first bad version. \n",
    "```"
   ]
  },
  {
   "cell_type": "code",
   "execution_count": null,
   "metadata": {},
   "outputs": [],
   "source": [
    "# The isBadVersion API is already defined for you.\n",
    "# @param version, an integer\n",
    "# @return a bool\n",
    "# def isBadVersion(version):\n",
    "\n",
    "# binary search\n",
    "class Solution:\n",
    "    def firstBadVersion(self, n):\n",
    "        \"\"\"\n",
    "        :type n: int\n",
    "        :rtype: int\n",
    "        \"\"\"\n",
    "        version = n//2\n",
    "        while isBadVersion(version) == False:\n",
    "            "
   ]
  },
  {
   "cell_type": "code",
   "execution_count": 3,
   "metadata": {},
   "outputs": [
    {
     "data": {
      "text/plain": [
       "2"
      ]
     },
     "execution_count": 3,
     "metadata": {},
     "output_type": "execute_result"
    }
   ],
   "source": [
    "5//2"
   ]
  },
  {
   "cell_type": "markdown",
   "metadata": {},
   "source": [
    "## Day 2: 5/2/20\n",
    "### 771. Jewels and Stones\n",
    "EASY  \n",
    "https://leetcode.com/problems/jewels-and-stones/  \n",
    "https://leetcode.com/explore/challenge/card/may-leetcoding-challenge/534/week-1-may-1st-may-7th/3317/"
   ]
  },
  {
   "cell_type": "markdown",
   "metadata": {},
   "source": [
    "You're given strings `J` representing the types of stones that are jewels, and `S` representing the stones you have.  Each character in `S` is a type of stone you have.  You want to know how many of the stones you have are also jewels.\n",
    "\n",
    "The letters in `J` are guaranteed distinct, and all characters in `J` and `S` are letters. Letters are case sensitive, so `\"a\"` is considered a different type of stone from `\"A\"`.\n",
    "\n",
    "**Example 1:**\n",
    "```\n",
    "Input: J = \"aA\", S = \"aAAbbbb\"\n",
    "Output: 3\n",
    "```\n",
    "**Example 2:**\n",
    "```\n",
    "Input: J = \"z\", S = \"ZZ\"\n",
    "Output: 0\n",
    "```\n",
    "\n",
    "**Note:**\n",
    "\n",
    "* `S` and `J` will consist of letters and have length at most 50.\n",
    "* The characters in `J` are distinct."
   ]
  },
  {
   "cell_type": "code",
   "execution_count": 5,
   "metadata": {},
   "outputs": [],
   "source": [
    "J1, S1 = \"aA\", \"aAAbbbb\"\n",
    "J2, S2 = \"z\", \"ZZ\""
   ]
  },
  {
   "cell_type": "code",
   "execution_count": 6,
   "metadata": {},
   "outputs": [],
   "source": [
    "class Solution:\n",
    "    def numJewelsInStones(self, J: str, S: str) -> int:\n",
    "        jewels = set(J)\n",
    "        count = 0\n",
    "        for c in S:\n",
    "            if c in jewels:\n",
    "                count +=1\n",
    "        return count"
   ]
  },
  {
   "cell_type": "code",
   "execution_count": 9,
   "metadata": {},
   "outputs": [
    {
     "data": {
      "text/plain": [
       "0"
      ]
     },
     "execution_count": 9,
     "metadata": {},
     "output_type": "execute_result"
    }
   ],
   "source": [
    "soln = Solution()\n",
    "soln.numJewelsInStones(J2,S2)"
   ]
  },
  {
   "cell_type": "markdown",
   "metadata": {},
   "source": [
    "## Day 3: 5/3/20\n",
    "### 383. Ransom Note\n",
    "EASY  \n",
    "https://leetcode.com/problems/ransom-note/  \n",
    "https://leetcode.com/explore/challenge/card/may-leetcoding-challenge/534/week-1-may-1st-may-7th/3318/"
   ]
  },
  {
   "cell_type": "markdown",
   "metadata": {},
   "source": [
    "Given an arbitrary ransom note string and another string containing letters from all the magazines, write a function that will return true if the ransom note can be constructed from the magazines ; otherwise, it will return false.\n",
    "\n",
    "Each letter in the magazine string can only be used once in your ransom note.\n",
    "\n",
    "**Note:**  \n",
    "You may assume that both strings contain only lowercase letters.\n",
    "```\n",
    "canConstruct(\"a\", \"b\") -> false\n",
    "canConstruct(\"aa\", \"ab\") -> false\n",
    "canConstruct(\"aa\", \"aab\") -> true\n",
    "```"
   ]
  },
  {
   "cell_type": "code",
   "execution_count": 12,
   "metadata": {},
   "outputs": [],
   "source": [
    "note1,mag1 = 'a','b'\n",
    "note2,mag2 = 'aa','ab'\n",
    "note3,mag3 = 'aa','aab'"
   ]
  },
  {
   "cell_type": "code",
   "execution_count": 65,
   "metadata": {},
   "outputs": [],
   "source": [
    "# use hash table\n",
    "class Solution:\n",
    "    def canConstruct(self, ransomNote: str, magazine: str) -> bool:\n",
    "        chars = {}\n",
    "        for c in magazine:\n",
    "            if c in chars:\n",
    "                chars[c] += 1\n",
    "            else:\n",
    "                chars[c] = 1\n",
    "\n",
    "        for c in ransomNote:\n",
    "            if c in chars:\n",
    "                chars[c] -= 1\n",
    "                if chars[c] <0:\n",
    "                    return False\n",
    "            else:\n",
    "                return False\n",
    "        return True"
   ]
  },
  {
   "cell_type": "code",
   "execution_count": 80,
   "metadata": {},
   "outputs": [],
   "source": [
    "# shorter code\n",
    "class Solution:\n",
    "    def canConstruct(self, ransomNote: str, magazine: str) -> bool:\n",
    "        for c in ransomNote:\n",
    "            if c not in magazine:\n",
    "                return False\n",
    "            else:\n",
    "                magazine = magazine.replace(c,'',1)\n",
    "        return True"
   ]
  },
  {
   "cell_type": "code",
   "execution_count": 84,
   "metadata": {},
   "outputs": [
    {
     "data": {
      "text/plain": [
       "False"
      ]
     },
     "execution_count": 84,
     "metadata": {},
     "output_type": "execute_result"
    }
   ],
   "source": [
    "soln = Solution()\n",
    "soln.canConstruct(note2,mag2)"
   ]
  },
  {
   "cell_type": "markdown",
   "metadata": {},
   "source": [
    "## Day 4: 5/4/20\n",
    "### 476. Number Complement\n",
    "EASY  \n",
    "https://leetcode.com/problems/number-complement/  \n",
    "https://leetcode.com/explore/challenge/card/may-leetcoding-challenge/534/week-1-may-1st-may-7th/3319/"
   ]
  },
  {
   "cell_type": "markdown",
   "metadata": {},
   "source": [
    "Given a positive integer, output its complement number. The complement strategy is to flip the bits of its binary representation.\n",
    "\n",
    "**Example 1:**\n",
    "```\n",
    "Input: 5\n",
    "Output: 2\n",
    "Explanation: The binary representation of 5 is 101 (no leading zero bits), and its complement is 010. So you need to output 2.\n",
    "```\n",
    "\n",
    "**Example 2:**\n",
    "```\n",
    "Input: 1\n",
    "Output: 0\n",
    "Explanation: The binary representation of 1 is 1 (no leading zero bits), and its complement is 0. So you need to output 0.\n",
    "```\n",
    "\n",
    "**Note:**\n",
    "\n",
    "1. The given integer is guaranteed to fit within the range of a 32-bit signed integer.\n",
    "2. You could assume no leading zero bit in the integer’s binary representation.\n",
    "3. This question is the same as 1009: https://leetcode.com/problems/complement-of-base-10-integer/"
   ]
  },
  {
   "cell_type": "code",
   "execution_count": 60,
   "metadata": {},
   "outputs": [],
   "source": [
    "num1 = 5\n",
    "num2 = 1"
   ]
  },
  {
   "cell_type": "code",
   "execution_count": 59,
   "metadata": {},
   "outputs": [],
   "source": [
    "class Solution:\n",
    "    def findComplement(self, num):\n",
    "        i = 1\n",
    "        while i <= num:\n",
    "            i = i << 1\n",
    "        return (i - 1) ^ num"
   ]
  },
  {
   "cell_type": "code",
   "execution_count": 62,
   "metadata": {},
   "outputs": [
    {
     "data": {
      "text/plain": [
       "2"
      ]
     },
     "execution_count": 62,
     "metadata": {},
     "output_type": "execute_result"
    }
   ],
   "source": [
    "soln = Solution()\n",
    "soln.findComplement(num1)"
   ]
  },
  {
   "cell_type": "markdown",
   "metadata": {},
   "source": [
    "## Day 5: 5/5/20\n",
    "### 387. First Unique Character in a String\n",
    "EASY  \n",
    "https://leetcode.com/problems/first-unique-character-in-a-string/  \n",
    "https://leetcode.com/explore/challenge/card/may-leetcoding-challenge/534/week-1-may-1st-may-7th/3320/"
   ]
  },
  {
   "cell_type": "markdown",
   "metadata": {},
   "source": [
    "Given a string, find the first non-repeating character in it and return it's index. If it doesn't exist, return -1.\n",
    "\n",
    "**Examples:**\n",
    "```\n",
    "s = \"leetcode\"\n",
    "return 0.\n",
    "\n",
    "s = \"loveleetcode\",\n",
    "return 2.\n",
    "```\n",
    "**Note:** You may assume the string contain only lowercase letters."
   ]
  },
  {
   "cell_type": "code",
   "execution_count": 15,
   "metadata": {},
   "outputs": [],
   "source": [
    "s1 = 'leetcode'\n",
    "s2 = 'loveleetcode'"
   ]
  },
  {
   "cell_type": "code",
   "execution_count": 17,
   "metadata": {},
   "outputs": [],
   "source": [
    "# two pass hash table\n",
    "class Solution:\n",
    "    def firstUniqChar(self, s: str) -> int:\n",
    "            chars = {}\n",
    "            for c in s:\n",
    "                if c in chars:\n",
    "                    chars[c] += 1\n",
    "                else:\n",
    "                    chars[c] = 1\n",
    "            \n",
    "            for i,c in enumerate(s):\n",
    "                if chars[c] == 1:\n",
    "                    return i\n",
    "            return -1"
   ]
  },
  {
   "cell_type": "code",
   "execution_count": 20,
   "metadata": {},
   "outputs": [],
   "source": [
    "# using counter\n",
    "from collections import Counter\n",
    "class Solution:\n",
    "    def firstUniqChar(self, s: str) -> int:\n",
    "            counts = Counter(s)\n",
    "            for i,c in enumerate(s):\n",
    "                if counts[c]==1:\n",
    "                    return i\n",
    "            return -1"
   ]
  },
  {
   "cell_type": "code",
   "execution_count": 25,
   "metadata": {},
   "outputs": [
    {
     "data": {
      "text/plain": [
       "0"
      ]
     },
     "execution_count": 25,
     "metadata": {},
     "output_type": "execute_result"
    }
   ],
   "source": [
    "soln = Solution()\n",
    "soln.firstUniqChar(s1)"
   ]
  },
  {
   "cell_type": "markdown",
   "metadata": {},
   "source": [
    "## Day 6: 5/6/20\n",
    "### 169. Majority Element\n",
    "EASY  \n",
    "https://leetcode.com/problems/majority-element/  \n",
    "https://leetcode.com/explore/challenge/card/may-leetcoding-challenge/534/week-1-may-1st-may-7th/3321/"
   ]
  },
  {
   "cell_type": "markdown",
   "metadata": {},
   "source": [
    "Given an array of size *n*, find the majority element. The majority element is the element that appears **more than** `⌊ n/2 ⌋` times.\n",
    "\n",
    "You may assume that the array is non-empty and the majority element always exist in the array.\n",
    "\n",
    "**Example 1:**\n",
    "```\n",
    "Input: [3,2,3]\n",
    "Output: 3\n",
    "```\n",
    "**Example 2:**\n",
    "```\n",
    "Input: [2,2,1,1,1,2,2]\n",
    "Output: 2\n",
    "```"
   ]
  },
  {
   "cell_type": "code",
   "execution_count": 119,
   "metadata": {},
   "outputs": [],
   "source": [
    "nums1 = [3,2,3]\n",
    "nums2 = [2,2,1,1,1,2,2]\n",
    "nums3 = [1]\n",
    "nums4 = [0]"
   ]
  },
  {
   "cell_type": "code",
   "execution_count": 113,
   "metadata": {},
   "outputs": [],
   "source": [
    "# without using built-in classes\n",
    "class Solution:\n",
    "    def majorityElement(self, nums: List[int]) -> int:\n",
    "        size = len(nums)\n",
    "        counts = {}\n",
    "        maxcount = 0\n",
    "        for n in nums:\n",
    "            if n not in counts:\n",
    "                counts[n] = 1\n",
    "            else:\n",
    "                counts[n] += 1\n",
    "                if counts.get(n) > size/2:\n",
    "                    return n\n",
    "        return n"
   ]
  },
  {
   "cell_type": "code",
   "execution_count": 121,
   "metadata": {},
   "outputs": [],
   "source": [
    "# using Counter\n",
    "from collections import Counter\n",
    "class Solution:\n",
    "    def majorityElement(self, nums: List[int]) -> int:\n",
    "        size = len(nums)\n",
    "        counts = Counter(nums)\n",
    "        for k,v in counts.items():\n",
    "            if v > size/2:\n",
    "                return k"
   ]
  },
  {
   "cell_type": "code",
   "execution_count": 123,
   "metadata": {},
   "outputs": [
    {
     "data": {
      "text/plain": [
       "0"
      ]
     },
     "execution_count": 123,
     "metadata": {},
     "output_type": "execute_result"
    }
   ],
   "source": [
    "soln = Solution()\n",
    "soln.majorityElement(nums4)"
   ]
  },
  {
   "cell_type": "markdown",
   "metadata": {},
   "source": [
    "## Day 7: 5/7/20\n",
    "### 993. Cousins in Binary Tree\n",
    "EASY  \n",
    "https://leetcode.com/problems/cousins-in-binary-tree/  \n",
    "https://leetcode.com/explore/challenge/card/may-leetcoding-challenge/534/week-1-may-1st-may-7th/3322/"
   ]
  },
  {
   "cell_type": "markdown",
   "metadata": {},
   "source": [
    "In a binary tree, the root node is at depth `0`, and children of each depth `k` node are at depth `k+1`.\n",
    "\n",
    "Two nodes of a binary tree are cousins if they have the same depth, but have **different parents**.\n",
    "\n",
    "We are given the `root` of a binary tree with unique values, and the values `x` and `y` of two different nodes in the tree.\n",
    "\n",
    "Return `true` if and only if the nodes corresponding to the values `x` and `y` are cousins.\n",
    "\n",
    "**Example 1:**\n",
    "\n",
    "![Example1.png](https://assets.leetcode.com/uploads/2019/02/12/q1248-01.png)\n",
    "```\n",
    "Input: root = [1,2,3,4], x = 4, y = 3\n",
    "Output: false\n",
    "```\n",
    "**Example 2:**\n",
    "\n",
    "![Example2.png](https://assets.leetcode.com/uploads/2019/02/12/q1248-02.png)\n",
    "```\n",
    "Input: root = [1,2,3,null,4,null,5], x = 5, y = 4\n",
    "Output: true\n",
    "```\n",
    "**Example 3:**\n",
    "\n",
    "![Example3.png](https://assets.leetcode.com/uploads/2019/02/13/q1248-03.png)\n",
    "```\n",
    "Input: root = [1,2,3,null,4], x = 2, y = 3\n",
    "Output: false\n",
    "```\n",
    "\n",
    "**Note:**\n",
    "\n",
    "1. The number of nodes in the tree will be between `2` and `100`.\n",
    "2. Each node has a unique integer value from `1` to `100`."
   ]
  },
  {
   "cell_type": "code",
   "execution_count": 171,
   "metadata": {},
   "outputs": [],
   "source": [
    "# Definition for a binary tree node.\n",
    "class TreeNode:\n",
    "    def __init__(self, val=0, left=None, right=None):\n",
    "        self.val = val\n",
    "        self.left = left\n",
    "        self.right = right\n",
    "        \n",
    "# insert tree nodes in level order  \n",
    "def constructTree(nodes, i, n): \n",
    "      \n",
    "    # Base case for recursion\n",
    "    root = None\n",
    "    if (i < n) and nodes[i] is not None: \n",
    "        node = TreeNode(nodes[i])  \n",
    "        root = node  \n",
    "  \n",
    "        # insert left child  \n",
    "        root.left = constructTree(nodes, 2*i+1, n)  \n",
    "        # insert right child  \n",
    "        root.right = constructTree(nodes, 2*i+2, n) \n",
    "    return root \n",
    "\n",
    "root1 = [1,2,3,4]\n",
    "tree1 = constructTree(root1,0,len(root1))\n",
    "root2 = [1,2,3,None,4]\n",
    "tree2 = constructTree(root2,0,len(root2))"
   ]
  },
  {
   "cell_type": "code",
   "execution_count": 181,
   "metadata": {},
   "outputs": [],
   "source": [
    "class Solution:\n",
    "    def isCousins(self, root: TreeNode, x: int, y: int) -> bool:\n",
    "        def findNode(node, parent, val, depth):\n",
    "            if node is None:\n",
    "                return None\n",
    "            elif node.val == val:\n",
    "                return parent, depth\n",
    "            else:\n",
    "                return findNode(node.left, node, val, depth+1) or findNode(node.right, node, val, depth+1)\n",
    "            \n",
    "        xnode, xdepth = findNode(root, None, x, 0)\n",
    "        ynode, ydepth = findNode(root, None, y, 0)\n",
    "        return (xdepth == ydepth) and (xnode != ynode)"
   ]
  },
  {
   "cell_type": "code",
   "execution_count": 183,
   "metadata": {},
   "outputs": [
    {
     "data": {
      "text/plain": [
       "False"
      ]
     },
     "execution_count": 183,
     "metadata": {},
     "output_type": "execute_result"
    }
   ],
   "source": [
    "soln = Solution()\n",
    "soln.isCousins(tree2,2,3)"
   ]
  },
  {
   "cell_type": "markdown",
   "metadata": {},
   "source": [
    "### Day 8: 5/8/20\n",
    "## 1232. Check If It Is a Straight Line\n",
    "EASY  \n",
    "https://leetcode.com/problems/check-if-it-is-a-straight-line/  \n",
    "https://leetcode.com/explore/challenge/card/may-leetcoding-challenge/535/week-2-may-8th-may-14th/3323/"
   ]
  },
  {
   "cell_type": "markdown",
   "metadata": {},
   "source": [
    "You are given an array `coordinates`, `coordinates[i] = [x, y]`, where `[x, y]` represents the coordinate of a point. Check if these points make a straight line in the XY plane.\n",
    "\n",
    "**Example 1:**\n",
    "\n",
    "![Diagram1.png](https://assets.leetcode.com/uploads/2019/10/15/untitled-diagram-2.jpg)\n",
    "```\n",
    "Input: coordinates = [[1,2],[2,3],[3,4],[4,5],[5,6],[6,7]]\n",
    "Output: true\n",
    "```\n",
    "**Example 2:**\n",
    "\n",
    "![Diagram2.png](https://assets.leetcode.com/uploads/2019/10/09/untitled-diagram-1.jpg)\n",
    "```\n",
    "Input: coordinates = [[1,1],[2,2],[3,4],[4,5],[5,6],[7,7]]\n",
    "Output: false\n",
    "```\n",
    "\n",
    "**Constraints:**\n",
    "\n",
    "* `2 <= coordinates.length <= 1000`\n",
    "* `coordinates[i].length == 2`\n",
    "* `-10^4 <= coordinates[i][0], coordinates[i][1] <= 10^4`\n",
    "* `coordinates` contains no duplicate point."
   ]
  },
  {
   "cell_type": "code",
   "execution_count": 210,
   "metadata": {},
   "outputs": [],
   "source": [
    "coordinates1 = [[1,2],[2,3],[3,4],[4,5],[5,6],[6,7]]\n",
    "coordinates2 = [[1,1],[2,2],[3,4],[4,5],[5,6],[7,7]]\n",
    "coordinates3 = [[1,1],[2,1],[3,1],[4,1],[5,1],[6,1]] # horizontal line\n",
    "coordinates4 = [[4,1],[4,2],[4,3],[4,4],[4,5],[4,6]] # vertical line"
   ]
  },
  {
   "cell_type": "code",
   "execution_count": 207,
   "metadata": {},
   "outputs": [],
   "source": [
    "class Solution:\n",
    "    def checkStraightLine(self, coordinates: List[List[int]]) -> bool:\n",
    "        def calcSlope(pt1,pt2):\n",
    "            # handle vertical lines\n",
    "            if pt2[0]==pt1[0]:\n",
    "                return None\n",
    "            return (pt2[1]-pt1[1])/(pt2[0]-pt1[0])\n",
    "        \n",
    "        slope = calcSlope(coordinates[0],coordinates[1])\n",
    "        for i in range(len(coordinates)-1):\n",
    "            pt1 = coordinates[i]\n",
    "            pt2 = coordinates[i+1]\n",
    "            newslope = calcSlope(pt1,pt2)\n",
    "            if newslope != slope:\n",
    "                return False\n",
    "            else:\n",
    "                slope = newslope\n",
    "        return True"
   ]
  },
  {
   "cell_type": "code",
   "execution_count": 212,
   "metadata": {},
   "outputs": [
    {
     "data": {
      "text/plain": [
       "True"
      ]
     },
     "execution_count": 212,
     "metadata": {},
     "output_type": "execute_result"
    }
   ],
   "source": [
    "soln = Solution()\n",
    "soln.checkStraightLine(coordinates4)"
   ]
  },
  {
   "cell_type": "markdown",
   "metadata": {},
   "source": [
    "## Day 9: 5/9/20\n",
    "### 367. Valid Perfect Square\n",
    "EASY  \n",
    "https://leetcode.com/problems/valid-perfect-square/  \n",
    "https://leetcode.com/explore/challenge/card/may-leetcoding-challenge/535/week-2-may-8th-may-14th/3324/"
   ]
  },
  {
   "cell_type": "markdown",
   "metadata": {},
   "source": [
    "Given a positive integer *num*, write a function which returns True if num is a perfect square else False.\n",
    "\n",
    "**Note: Do not** use any built-in library function such as `sqrt`.\n",
    "\n",
    "**Example 1:**\n",
    "```\n",
    "Input: 16\n",
    "Output: true\n",
    "```\n",
    "**Example 2:**\n",
    "```\n",
    "Input: 14\n",
    "Output: false\n",
    "```"
   ]
  },
  {
   "cell_type": "code",
   "execution_count": 214,
   "metadata": {},
   "outputs": [],
   "source": [
    "num1 = 16\n",
    "num2 = 14"
   ]
  },
  {
   "cell_type": "code",
   "execution_count": 217,
   "metadata": {},
   "outputs": [],
   "source": [
    "class Solution:\n",
    "    def isPerfectSquare(self, num: int) -> bool:\n",
    "        n = 1\n",
    "        while n**2 <= num:\n",
    "            if n**2 == num:\n",
    "                return True\n",
    "            n += 1\n",
    "        return False"
   ]
  },
  {
   "cell_type": "code",
   "execution_count": 219,
   "metadata": {},
   "outputs": [
    {
     "data": {
      "text/plain": [
       "False"
      ]
     },
     "execution_count": 219,
     "metadata": {},
     "output_type": "execute_result"
    }
   ],
   "source": [
    "soln = Solution()\n",
    "soln.isPerfectSquare(num2)"
   ]
  },
  {
   "cell_type": "markdown",
   "metadata": {},
   "source": [
    "## Day 10: 5/10/20\n",
    "### 997. Find the Town Judge\n",
    "EASY  \n",
    "https://leetcode.com/problems/find-the-town-judge/  \n",
    "https://leetcode.com/explore/challenge/card/may-leetcoding-challenge/535/week-2-may-8th-may-14th/3325/"
   ]
  },
  {
   "cell_type": "markdown",
   "metadata": {},
   "source": [
    "In a town, there are `N` people labelled from `1` to `N`.  There is a rumor that one of these people is secretly the town judge.\n",
    "\n",
    "If the town judge exists, then:\n",
    "\n",
    "1. The town judge trusts nobody.\n",
    "2. Everybody (except for the town judge) trusts the town judge.\n",
    "3. There is exactly one person that satisfies properties 1 and 2.\n",
    "\n",
    "You are given `trust`, an array of pairs `trust[i] = [a, b]` representing that the person labelled `a` trusts the person labelled `b`.\n",
    "\n",
    "If the town judge exists and can be identified, return the label of the town judge.  Otherwise, return `-1`.\n",
    "\n",
    "**Example 1:**\n",
    "```\n",
    "Input: N = 2, trust = [[1,2]]\n",
    "Output: 2\n",
    "```\n",
    "**Example 2:**\n",
    "```\n",
    "Input: N = 3, trust = [[1,3],[2,3]]\n",
    "Output: 3\n",
    "```\n",
    "**Example 3:**\n",
    "```\n",
    "Input: N = 3, trust = [[1,3],[2,3],[3,1]]\n",
    "Output: -1\n",
    "```\n",
    "**Example 4:**\n",
    "```\n",
    "Input: N = 3, trust = [[1,2],[2,3]]\n",
    "Output: -1\n",
    "```\n",
    "**Example 5:**\n",
    "```\n",
    "Input: N = 4, trust = [[1,3],[1,4],[2,3],[2,4],[4,3]]\n",
    "Output: 3\n",
    "```\n",
    "\n",
    "**Note:**\n",
    "\n",
    "1. `1 <= N <= 1000`\n",
    "2. `trust.length <= 10000`\n",
    "3. `trust[i]` are all different\n",
    "4. `trust[i][0] != trust[i][1]`\n",
    "5. `1 <= trust[i][0], trust[i][1] <= N`"
   ]
  },
  {
   "cell_type": "code",
   "execution_count": 257,
   "metadata": {},
   "outputs": [],
   "source": [
    "N1,trust1 = 2, [[1,2]] # 2\n",
    "N2,trust2 = 3, [[1,3],[2,3]] # 3\n",
    "N3,trust3 = 3, [[1,3],[2,3],[3,1]] # -1\n",
    "N4,trust4 = 3, [[1,2],[2,3]] # -1\n",
    "N5,trust5 = 4, [[1,3],[1,4],[2,3],[2,4],[4,3]] # 3\n",
    "N6,trust6 = 1, []"
   ]
  },
  {
   "cell_type": "code",
   "execution_count": 254,
   "metadata": {},
   "outputs": [],
   "source": [
    "class Solution:\n",
    "    def findJudge(self, N: int, trust: List[List[int]]) -> int:\n",
    "        trusted = {}\n",
    "        trusting = set()\n",
    "        for pair in trust:\n",
    "            trusting.add(pair[0])\n",
    "            if pair[1] in trusted:\n",
    "                trusted[pair[1]] += 1\n",
    "            else:\n",
    "                trusted[pair[1]] = 1\n",
    "        \n",
    "        for t,count in trusted.items():\n",
    "            if (count == N-1) and t not in trusting:\n",
    "                return t\n",
    "        \n",
    "        if len(trust)>0:\n",
    "            return -1\n",
    "        else:\n",
    "            return N"
   ]
  },
  {
   "cell_type": "code",
   "execution_count": 258,
   "metadata": {},
   "outputs": [
    {
     "data": {
      "text/plain": [
       "1"
      ]
     },
     "execution_count": 258,
     "metadata": {},
     "output_type": "execute_result"
    }
   ],
   "source": [
    "soln = Solution()\n",
    "soln.findJudge(N6,trust6)"
   ]
  },
  {
   "cell_type": "markdown",
   "metadata": {},
   "source": [
    "## Day 11: 5/11/20\n",
    "### 733. Flood Fill\n",
    "EASY  \n",
    "https://leetcode.com/problems/flood-fill/  \n",
    "https://leetcode.com/explore/challenge/card/may-leetcoding-challenge/535/week-2-may-8th-may-14th/3326/"
   ]
  },
  {
   "cell_type": "markdown",
   "metadata": {},
   "source": [
    "An `image` is represented by a 2-D array of integers, each integer representing the pixel value of the image (from 0 to 65535).\n",
    "\n",
    "Given a coordinate `(sr, sc)` representing the starting pixel (row and column) of the flood fill, and a pixel value `newColor`, \"flood fill\" the image.\n",
    "\n",
    "To perform a \"flood fill\", consider the starting pixel, plus any pixels connected 4-directionally to the starting pixel of the same color as the starting pixel, plus any pixels connected 4-directionally to those pixels (also with the same color as the starting pixel), and so on. Replace the color of all of the aforementioned pixels with the newColor.\n",
    "\n",
    "At the end, return the modified image.\n",
    "\n",
    "**Example 1:**\n",
    "```\n",
    "Input: \n",
    "image = [[1,1,1],[1,1,0],[1,0,1]]\n",
    "sr = 1, sc = 1, newColor = 2\n",
    "Output: [[2,2,2],[2,2,0],[2,0,1]]\n",
    "Explanation: \n",
    "From the center of the image (with position (sr, sc) = (1, 1)), all pixels connected \n",
    "by a path of the same color as the starting pixel are colored with the new color.\n",
    "Note the bottom corner is not colored 2, because it is not 4-directionally connected\n",
    "to the starting pixel.\n",
    "```\n",
    "**Note:**\n",
    "\n",
    "* The length of `image` and `image[0]` will be in the range `[1, 50]`.\n",
    "* The given starting pixel will satisfy `0 <= sr < image.length` and `0 <= sc < image[0].length`.\n",
    "* The value of each color in `image[i][j]` and `newColor` will be an integer in `[0, 65535]`."
   ]
  },
  {
   "cell_type": "code",
   "execution_count": 259,
   "metadata": {},
   "outputs": [],
   "source": [
    "image1,sr1,sc1,newColor1 = [[1,1,1],[1,1,0],[1,0,1]], 1, 1, 2"
   ]
  },
  {
   "cell_type": "code",
   "execution_count": null,
   "metadata": {},
   "outputs": [],
   "source": [
    "class Solution:\n",
    "    def floodFill(self, image: List[List[int]], sr: int, sc: int, newColor: int) -> List[List[int]]:\n",
    "        coord = (sr,sc)\n",
    "        seen = {coord}\n",
    "        def fill(image,coord,color):\n",
    "            h,w = len(image),len(image[0])\n",
    "            if coord[0] \n",
    "        \n",
    "        \n",
    "        return None"
   ]
  },
  {
   "cell_type": "code",
   "execution_count": 272,
   "metadata": {},
   "outputs": [
    {
     "data": {
      "text/plain": [
       "3"
      ]
     },
     "execution_count": 272,
     "metadata": {},
     "output_type": "execute_result"
    }
   ],
   "source": [
    "len(image1)"
   ]
  },
  {
   "cell_type": "markdown",
   "metadata": {},
   "source": [
    "## Day 12: 5/12/20\n",
    "### 540. Single Element in a Sorted Array\n",
    "MEDIUM  \n",
    "https://leetcode.com/problems/single-element-in-a-sorted-array/  \n",
    "https://leetcode.com/explore/challenge/card/may-leetcoding-challenge/535/week-2-may-8th-may-14th/3327/"
   ]
  },
  {
   "cell_type": "markdown",
   "metadata": {},
   "source": [
    "You are given a sorted array consisting of only integers where every element appears exactly twice, except for one element which appears exactly once. Find this single element that appears only once.\n",
    "\n",
    "**Follow up:** Your solution should run in O(log n) time and O(1) space.\n",
    "\n",
    "**Example 1:**\n",
    "```\n",
    "Input: nums = [1,1,2,3,3,4,4,8,8]\n",
    "Output: 2\n",
    "```\n",
    "**Example 2:**\n",
    "```\n",
    "Input: nums = [3,3,7,7,10,11,11]\n",
    "Output: 10\n",
    "```\n",
    "\n",
    "**Constraints:**\n",
    "\n",
    "1. `1 <= nums.length <= 10^5`\n",
    "2. `0 <= nums[i] <= 10^5`"
   ]
  },
  {
   "cell_type": "code",
   "execution_count": 3,
   "metadata": {},
   "outputs": [],
   "source": [
    "class Solution:\n",
    "    def singleNonDuplicate(self, nums: List[int]) -> int:\n",
    "        l,r = 0, len(nums)-1\n",
    "\n",
    "        if nums[i] == nums[i+1]: # single number is to the right\n",
    "            \n",
    "            \n",
    "        return None"
   ]
  },
  {
   "cell_type": "code",
   "execution_count": 4,
   "metadata": {},
   "outputs": [],
   "source": [
    "nums1 = [1,1,2,3,3,4,4,8,8]\n",
    "nums2 = [3,3,7,7,10,11,11]"
   ]
  },
  {
   "cell_type": "code",
   "execution_count": 8,
   "metadata": {},
   "outputs": [
    {
     "data": {
      "text/plain": [
       "2"
      ]
     },
     "execution_count": 8,
     "metadata": {},
     "output_type": "execute_result"
    }
   ],
   "source": [
    "5//2"
   ]
  },
  {
   "cell_type": "code",
   "execution_count": 6,
   "metadata": {},
   "outputs": [
    {
     "data": {
      "text/plain": [
       "2"
      ]
     },
     "execution_count": 6,
     "metadata": {},
     "output_type": "execute_result"
    }
   ],
   "source": [
    "4//2"
   ]
  },
  {
   "cell_type": "markdown",
   "metadata": {},
   "source": [
    "## Day 13: 5/13/20\n",
    "### 402. Remove K Digits\n",
    "MEDIUM  \n",
    "https://leetcode.com/problems/remove-k-digits/  \n",
    "https://leetcode.com/explore/challenge/card/may-leetcoding-challenge/535/week-2-may-8th-may-14th/3328/"
   ]
  },
  {
   "cell_type": "markdown",
   "metadata": {},
   "source": [
    "Given a non-negative integer *num* represented as a string, remove *k* digits from the number so that the new number is the smallest possible.\n",
    "\n",
    "**Note:**\n",
    "* The length of *num* is less than 10002 and will be ≥ *k*.\n",
    "* The given *num* does not contain any leading zero.\n",
    "\n",
    "**Example 1:**\n",
    "```\n",
    "Input: num = \"1432219\", k = 3\n",
    "Output: \"1219\"\n",
    "Explanation: Remove the three digits 4, 3, and 2 to form the new number 1219 which is the smallest.\n",
    "```\n",
    "**Example 2:**\n",
    "```\n",
    "Input: num = \"10200\", k = 1\n",
    "Output: \"200\"\n",
    "Explanation: Remove the leading 1 and the number is 200. Note that the output must not contain leading zeroes.\n",
    "```\n",
    "**Example 3:**\n",
    "```\n",
    "Input: num = \"10\", k = 2\n",
    "Output: \"0\"\n",
    "Explanation: Remove all the digits from the number and it is left with nothing which is 0.\n",
    "```"
   ]
  },
  {
   "cell_type": "code",
   "execution_count": 10,
   "metadata": {},
   "outputs": [],
   "source": [
    "num1,k1 = \"1432219\", 3\n",
    "num2,k2 = \"10200\", 1\n",
    "num3,k3 = \"10\", 2"
   ]
  },
  {
   "cell_type": "code",
   "execution_count": 9,
   "metadata": {},
   "outputs": [],
   "source": [
    "class Solution:\n",
    "    def removeKdigits(self, num: str, k: int) -> str:\n",
    "        \n",
    "        return None"
   ]
  },
  {
   "cell_type": "markdown",
   "metadata": {},
   "source": []
  },
  {
   "cell_type": "markdown",
   "metadata": {},
   "source": [
    "## Day 14: 5/14/20\n",
    "### 208. Implement Trie (Prefix Tree)\n",
    "MEDIUM  \n",
    "https://leetcode.com/problems/implement-trie-prefix-tree/  \n",
    "https://leetcode.com/explore/challenge/card/may-leetcoding-challenge/535/week-2-may-8th-may-14th/3329/"
   ]
  },
  {
   "cell_type": "markdown",
   "metadata": {},
   "source": [
    "Implement a trie with `insert`, `search`, and `startsWith` methods.\n",
    "\n",
    "**Example:**\n",
    "```\n",
    "Trie trie = new Trie();\n",
    "\n",
    "trie.insert(\"apple\");\n",
    "trie.search(\"apple\");   // returns true\n",
    "trie.search(\"app\");     // returns false\n",
    "trie.startsWith(\"app\"); // returns true\n",
    "trie.insert(\"app\");   \n",
    "trie.search(\"app\");     // returns true\n",
    "```\n",
    "**Note:**\n",
    "\n",
    "* You may assume that all inputs are consist of lowercase letters a-z.\n",
    "* All inputs are guaranteed to be non-empty strings."
   ]
  },
  {
   "cell_type": "code",
   "execution_count": 11,
   "metadata": {},
   "outputs": [],
   "source": [
    "class Trie:\n",
    "\n",
    "    def __init__(self):\n",
    "        \"\"\"\n",
    "        Initialize your data structure here.\n",
    "        \"\"\"\n",
    "        \n",
    "\n",
    "    def insert(self, word: str) -> None:\n",
    "        \"\"\"\n",
    "        Inserts a word into the trie.\n",
    "        \"\"\"\n",
    "        \n",
    "\n",
    "    def search(self, word: str) -> bool:\n",
    "        \"\"\"\n",
    "        Returns if the word is in the trie.\n",
    "        \"\"\"\n",
    "        \n",
    "\n",
    "    def startsWith(self, prefix: str) -> bool:\n",
    "        \"\"\"\n",
    "        Returns if there is any word in the trie that starts with the given prefix.\n",
    "        \"\"\"\n",
    "        \n",
    "\n",
    "\n",
    "# Your Trie object will be instantiated and called as such:\n",
    "# obj = Trie()\n",
    "# obj.insert(word)\n",
    "# param_2 = obj.search(word)\n",
    "# param_3 = obj.startsWith(prefix)"
   ]
  },
  {
   "cell_type": "markdown",
   "metadata": {},
   "source": [
    "## Day 15: 5/15/20\n",
    "### 918. Maximum Sum Circular Subarray\n",
    "MEDIUM  \n",
    "https://leetcode.com/problems/maximum-sum-circular-subarray/  \n",
    "https://leetcode.com/explore/challenge/card/may-leetcoding-challenge/536/week-3-may-15th-may-21st/3330/"
   ]
  },
  {
   "cell_type": "markdown",
   "metadata": {},
   "source": [
    "Given a **circular array C** of integers represented by `A`, find the maximum possible sum of a non-empty subarray of **C**.\n",
    "\n",
    "Here, a circular array means the end of the array connects to the beginning of the array.  (Formally, `C[i] = A[i]` when `0 <= i < A.length`, and `C[i+A.length] = C[i]` when `i >= 0`.)\n",
    "\n",
    "Also, a subarray may only include each element of the fixed buffer `A` at most once.  (Formally, for a subarray `C[i], C[i+1], ..., C[j]`, there does not exist `i <= k1, k2 <= j` with `k1 % A.length = k2 % A.length`.)\n",
    "\n",
    "**Example 1:**\n",
    "```\n",
    "Input: [1,-2,3,-2]\n",
    "Output: 3\n",
    "Explanation: Subarray [3] has maximum sum 3\n",
    "```\n",
    "**Example 2:**\n",
    "```\n",
    "Input: [5,-3,5]\n",
    "Output: 10\n",
    "Explanation: Subarray [5,5] has maximum sum 5 + 5 = 10\n",
    "```\n",
    "**Example 3:**\n",
    "```\n",
    "Input: [3,-1,2,-1]\n",
    "Output: 4\n",
    "Explanation: Subarray [2,-1,3] has maximum sum 2 + (-1) + 3 = 4\n",
    "```\n",
    "**Example 4:**\n",
    "```\n",
    "Input: [3,-2,2,-3]\n",
    "Output: 3\n",
    "Explanation: Subarray [3] and [3,-2,2] both have maximum sum 3\n",
    "```\n",
    "**Example 5:**\n",
    "```\n",
    "Input: [-2,-3,-1]\n",
    "Output: -1\n",
    "Explanation: Subarray [-1] has maximum sum -1\n",
    "``` \n",
    "\n",
    "**Note:**\n",
    "\n",
    "1. `-30000 <= A[i] <= 30000`\n",
    "2. `1 <= A.length <= 30000`"
   ]
  },
  {
   "cell_type": "code",
   "execution_count": 12,
   "metadata": {},
   "outputs": [],
   "source": [
    "class Solution:\n",
    "    def maxSubarraySumCircular(self, A: List[int]) -> int:\n",
    "        \n",
    "        return None"
   ]
  },
  {
   "cell_type": "markdown",
   "metadata": {},
   "source": [
    "## Day 16: 5/16/20\n",
    "### 328. Odd Even Linked List\n",
    "MEDIUM  \n",
    "https://leetcode.com/problems/odd-even-linked-list/  \n",
    "https://leetcode.com/explore/challenge/card/may-leetcoding-challenge/536/week-3-may-15th-may-21st/3331/"
   ]
  },
  {
   "cell_type": "markdown",
   "metadata": {},
   "source": [
    "Given a singly linked list, group all odd nodes together followed by the even nodes. Please note here we are talking about the node number and not the value in the nodes.\n",
    "\n",
    "You should try to do it in place. The program should run in O(1) space complexity and O(nodes) time complexity.\n",
    "\n",
    "**Example 1:**\n",
    "```\n",
    "Input: 1->2->3->4->5->NULL\n",
    "Output: 1->3->5->2->4->NULL\n",
    "```\n",
    "**Example 2:**\n",
    "```\n",
    "Input: 2->1->3->5->6->4->7->NULL\n",
    "Output: 2->3->6->7->1->5->4->NULL\n",
    "```\n",
    "**Note:**\n",
    "\n",
    "* The relative order inside both the even and odd groups should remain as it was in the input.\n",
    "* The first node is considered odd, the second node even and so on ..."
   ]
  },
  {
   "cell_type": "code",
   "execution_count": 30,
   "metadata": {},
   "outputs": [],
   "source": [
    "# Definition for singly-linked list.\n",
    "class ListNode:\n",
    "    def __init__(self, val=0, next=None):\n",
    "        self.val = val\n",
    "        self.next = next\n",
    "\n",
    "# example 1\n",
    "node5 = ListNode(5)\n",
    "node4 = ListNode(4,node5)\n",
    "node3 = ListNode(3,node4)\n",
    "node2 = ListNode(2,node3)\n",
    "node1 = ListNode(1,node2)\n",
    "head1 = node1\n",
    "\n",
    "# example 2\n",
    "node27 = ListNode(7)\n",
    "node26 = ListNode(4,node27)\n",
    "node25 = ListNode(6,node26)\n",
    "node24 = ListNode(5,node25)\n",
    "node23 = ListNode(3,node24)\n",
    "node22 = ListNode(1,node23)\n",
    "node21 = ListNode(2,node22)\n",
    "head2 = node21"
   ]
  },
  {
   "cell_type": "code",
   "execution_count": 15,
   "metadata": {},
   "outputs": [],
   "source": [
    "class Solution:\n",
    "    def oddEvenList(self, head: ListNode) -> ListNode:\n",
    "        curnode = head\n",
    "        nodenum = 1\n",
    "        while curnode.next and curnode.next.next:\n",
    "            nextnode = curnode.next\n",
    "            if nodenum % 2 == 1:\n",
    "                curnode.next = nextnode.next\n",
    "                curnode.next.next = nextnode\n",
    "                \n",
    "            nodenum += 1\n",
    "        return None"
   ]
  },
  {
   "cell_type": "code",
   "execution_count": 35,
   "metadata": {},
   "outputs": [
    {
     "data": {
      "text/plain": [
       "1"
      ]
     },
     "execution_count": 35,
     "metadata": {},
     "output_type": "execute_result"
    }
   ],
   "source": []
  },
  {
   "cell_type": "markdown",
   "metadata": {},
   "source": [
    "## Day 17: 5/17/20\n",
    "### 438. Find All Anagrams in a String\n",
    "MEDIUM  \n",
    "https://leetcode.com/problems/find-all-anagrams-in-a-string/  \n",
    "https://leetcode.com/explore/challenge/card/may-leetcoding-challenge/536/week-3-may-15th-may-21st/3332/"
   ]
  },
  {
   "cell_type": "markdown",
   "metadata": {},
   "source": [
    "Given a string **s** and a **non-empty** string **p**, find all the start indices of **p**'s anagrams in **s**.\n",
    "\n",
    "Strings consists of lowercase English letters only and the length of both strings **s** and **p** will not be larger than 20,100.\n",
    "\n",
    "The order of output does not matter.\n",
    "\n",
    "**Example 1:**\n",
    "```\n",
    "Input:\n",
    "s: \"cbaebabacd\" p: \"abc\"\n",
    "\n",
    "Output:\n",
    "[0, 6]\n",
    "\n",
    "Explanation:\n",
    "The substring with start index = 0 is \"cba\", which is an anagram of \"abc\".\n",
    "The substring with start index = 6 is \"bac\", which is an anagram of \"abc\".\n",
    "```\n",
    "**Example 2:**\n",
    "```\n",
    "Input:\n",
    "s: \"abab\" p: \"ab\"\n",
    "\n",
    "Output:\n",
    "[0, 1, 2]\n",
    "\n",
    "Explanation:\n",
    "The substring with start index = 0 is \"ab\", which is an anagram of \"ab\".\n",
    "The substring with start index = 1 is \"ba\", which is an anagram of \"ab\".\n",
    "The substring with start index = 2 is \"ab\", which is an anagram of \"ab\".\n",
    "```"
   ]
  },
  {
   "cell_type": "code",
   "execution_count": 90,
   "metadata": {},
   "outputs": [],
   "source": [
    "s1,p1 = \"cbaebabacd\", \"abc\"\n",
    "s2,p2 = \"abab\", \"ab\"\n",
    "s3,p3 = \"\", \"none\""
   ]
  },
  {
   "cell_type": "code",
   "execution_count": 77,
   "metadata": {},
   "outputs": [],
   "source": [
    "# using sliding window and self-implemented hash table\n",
    "class Solution:\n",
    "    def findAnagrams(self, s: str, p: str) -> List[int]:\n",
    "        pcounts = {}\n",
    "        for c in p:\n",
    "            if c in pcounts:\n",
    "                pcounts[c] += 1\n",
    "            else:\n",
    "                pcounts[c] = 1\n",
    "        \n",
    "        scounts = {}\n",
    "        for c in s[0:len(p)]:\n",
    "            if c in scounts:\n",
    "                scounts[c] += 1\n",
    "            else:\n",
    "                scounts[c] = 1\n",
    "                \n",
    "        anagrams = []\n",
    "        if scounts==pcounts:\n",
    "            anagrams.append(0)\n",
    "        \n",
    "        # iterate from index 1 to end of s\n",
    "        for i in range(1,len(s)-(len(p)-1)):\n",
    "            # remove 1 char from window left edge\n",
    "            oldc = s[i-1]\n",
    "            scounts[oldc] -= 1\n",
    "            if scounts[oldc] == 0:\n",
    "                scounts.pop(oldc)\n",
    "            \n",
    "            # add 1 new char window right edge\n",
    "            newc = s[i+len(p)-1]\n",
    "            if newc in scounts:\n",
    "                scounts[newc] += 1\n",
    "            else:\n",
    "                scounts[newc] = 1\n",
    "            \n",
    "            # check if anagram\n",
    "            if scounts == pcounts:\n",
    "                anagrams.append(i)\n",
    "            \n",
    "        return anagrams"
   ]
  },
  {
   "cell_type": "code",
   "execution_count": 102,
   "metadata": {},
   "outputs": [],
   "source": [
    "# using Counter\n",
    "from collections import Counter\n",
    "class Solution:\n",
    "    def findAnagrams(self, s: str, p: str) -> List[int]:\n",
    "        pcounts = Counter(p)\n",
    "        scounts = Counter(s[0:len(p)-1]) # initialize window at length p-1\n",
    "        anagrams = []\n",
    "    \n",
    "        # set start index\n",
    "        start = 0\n",
    "        for i in range(len(p)-1,len(s)):\n",
    "            # add new character to window\n",
    "            scounts[s[i]] += 1\n",
    "            \n",
    "            # add start index if anagram found\n",
    "            if scounts == pcounts:\n",
    "                anagrams.append(start)\n",
    "            \n",
    "            # decrement + remove start character of window\n",
    "            scounts[s[start]] -=1\n",
    "            if scounts[s[start]] == 0:\n",
    "                scounts.pop(s[start])\n",
    "            \n",
    "            # increment start index\n",
    "            start += 1\n",
    "        \n",
    "        return anagrams"
   ]
  },
  {
   "cell_type": "code",
   "execution_count": 105,
   "metadata": {},
   "outputs": [
    {
     "data": {
      "text/plain": [
       "[0, 1, 2]"
      ]
     },
     "execution_count": 105,
     "metadata": {},
     "output_type": "execute_result"
    }
   ],
   "source": [
    "soln = Solution()\n",
    "soln.findAnagrams(s2,p2)"
   ]
  },
  {
   "cell_type": "markdown",
   "metadata": {},
   "source": [
    "## Day 18: 5/18/20\n",
    "### 567. Permutation in String\n",
    "MEDIUM  \n",
    "https://leetcode.com/problems/permutation-in-string/  \n",
    "https://leetcode.com/explore/challenge/card/may-leetcoding-challenge/536/week-3-may-15th-may-21st/3333/"
   ]
  },
  {
   "cell_type": "markdown",
   "metadata": {},
   "source": [
    "Given two strings **s1** and **s2**, write a function to return true if **s2** contains the permutation of **s1**. In other words, one of the first string's permutations is the **substring** of the second string.\n",
    "\n",
    "**Example 1:**\n",
    "```\n",
    "Input: s1 = \"ab\" s2 = \"eidbaooo\"\n",
    "Output: True\n",
    "Explanation: s2 contains one permutation of s1 (\"ba\").\n",
    "```\n",
    "**Example 2:**\n",
    "```\n",
    "Input:s1= \"ab\" s2 = \"eidboaoo\"\n",
    "Output: False\n",
    "```\n",
    "\n",
    "**Note:**\n",
    "\n",
    "1. The input strings only contain lower case letters.\n",
    "2. The length of both given strings is in range [1, 10,000]."
   ]
  },
  {
   "cell_type": "code",
   "execution_count": 83,
   "metadata": {},
   "outputs": [],
   "source": [
    "s11,s12 = 'ab', 'eidbaooo'\n",
    "s21,s22 = 'ab', 'eidboaoo'"
   ]
  },
  {
   "cell_type": "code",
   "execution_count": 110,
   "metadata": {},
   "outputs": [],
   "source": [
    "class Solution:\n",
    "    def checkInclusion(self, s1: str, s2: str) -> bool:\n",
    "        s1counts = {}\n",
    "        for c in s1:\n",
    "            if c in s1counts:\n",
    "                s1counts[c] += 1\n",
    "            else:\n",
    "                s1counts[c] = 1\n",
    "        \n",
    "        s2counts = {}\n",
    "        for c in s2[0:len(s1)]:\n",
    "            if c in s2counts:\n",
    "                s2counts[c] += 1\n",
    "            else:\n",
    "                s2counts[c] = 1\n",
    "        if s2counts == s1counts:\n",
    "            return True\n",
    "        \n",
    "        \n",
    "        for i in range(1,len(s2)-(len(s1)-1)):\n",
    "            # remove 1 char from window left edge\n",
    "            oldc = s2[i-1]\n",
    "            s2counts[oldc] -= 1\n",
    "            if s2counts[oldc] == 0:\n",
    "                s2counts.pop(oldc)\n",
    "            \n",
    "            # add 1 new char window right edge\n",
    "            newc = s2[i+len(s1)-1]\n",
    "            if newc in s2counts:\n",
    "                s2counts[newc] += 1\n",
    "            else:\n",
    "                s2counts[newc] = 1\n",
    "            \n",
    "            # check if hash tables are the same\n",
    "            if s2counts == s1counts:\n",
    "                return True\n",
    "        return False"
   ]
  },
  {
   "cell_type": "code",
   "execution_count": 115,
   "metadata": {},
   "outputs": [],
   "source": [
    "# using Counter\n",
    "from collections import Counter\n",
    "class Solution:\n",
    "    def checkInclusion(self, s1: str, s2: str) -> bool:\n",
    "        s1counts = Counter(s1)\n",
    "        s2counts = Counter(s2[0:len(s1)-1]) # counts of characters in a sliding window\n",
    "        \n",
    "        start = 0\n",
    "        for i in range(len(s1)-1,len(s2)):\n",
    "            # add right character to window\n",
    "            s2counts[s2[i]] += 1\n",
    "            \n",
    "            # check if permutation\n",
    "            if s2counts == s1counts:\n",
    "                return True\n",
    "            \n",
    "            # remove character from window left edge\n",
    "            s2counts[s2[start]] -= 1\n",
    "            if s2counts[s2[start]] == 0:\n",
    "                s2counts.pop(s2[start])\n",
    "            \n",
    "            # increment start index\n",
    "            start += 1\n",
    "            \n",
    "        return False"
   ]
  },
  {
   "cell_type": "code",
   "execution_count": 116,
   "metadata": {},
   "outputs": [
    {
     "data": {
      "text/plain": [
       "True"
      ]
     },
     "execution_count": 116,
     "metadata": {},
     "output_type": "execute_result"
    }
   ],
   "source": [
    "soln = Solution()\n",
    "soln.checkInclusion(s11,s12)"
   ]
  },
  {
   "cell_type": "markdown",
   "metadata": {},
   "source": [
    "## Day 19: 5/19/20\n",
    "### 901. Online Stock Span\n",
    "MEDIUM  \n",
    "https://leetcode.com/problems/online-stock-span/  \n",
    "https://leetcode.com/explore/challenge/card/may-leetcoding-challenge/536/week-3-may-15th-may-21st/3334/"
   ]
  },
  {
   "cell_type": "markdown",
   "metadata": {},
   "source": [
    "Write a class `StockSpanner` which collects daily price quotes for some stock, and returns the *span* of that stock's price for the current day.\n",
    "\n",
    "The span of the stock's price today is defined as the maximum number of consecutive days (starting from today and going backwards) for which the price of the stock was less than or equal to today's price.\n",
    "\n",
    "For example, if the price of a stock over the next 7 days were `[100, 80, 60, 70, 60, 75, 85]`, then the stock spans would be `[1, 1, 1, 2, 1, 4, 6]`.\n",
    "\n",
    "**Example 1:**\n",
    "```\n",
    "Input: [\"StockSpanner\",\"next\",\"next\",\"next\",\"next\",\"next\",\"next\",\"next\"], [[],[100],[80],[60],[70],[60],[75],[85]]\n",
    "Output: [null,1,1,1,2,1,4,6]\n",
    "Explanation: \n",
    "First, S = StockSpanner() is initialized.  Then:\n",
    "S.next(100) is called and returns 1,\n",
    "S.next(80) is called and returns 1,\n",
    "S.next(60) is called and returns 1,\n",
    "S.next(70) is called and returns 2,\n",
    "S.next(60) is called and returns 1,\n",
    "S.next(75) is called and returns 4,\n",
    "S.next(85) is called and returns 6.\n",
    "\n",
    "Note that (for example) S.next(75) returned 4, because the last 4 prices\n",
    "(including today's price of 75) were less than or equal to today's price.\n",
    "```\n",
    "\n",
    "**Note:**\n",
    "\n",
    "1. Calls to `StockSpanner.next(int price)` will have `1 <= price <= 10^5`.\n",
    "2. There will be at most `10000` calls to `StockSpanner.next` per test case.\n",
    "3. There will be at most `150000` calls to `StockSpanner.next` across all test cases.\n",
    "4. The total time limit for this problem has been reduced by 75% for C++, and 50% for all other languages."
   ]
  },
  {
   "cell_type": "code",
   "execution_count": 121,
   "metadata": {},
   "outputs": [],
   "source": [
    "ex1 = [100, 80, 60, 70, 60, 75, 85]"
   ]
  },
  {
   "cell_type": "code",
   "execution_count": 132,
   "metadata": {},
   "outputs": [],
   "source": [
    "class StockSpanner:\n",
    "\n",
    "    def __init__(self):\n",
    "        # stack of (price, span) tuples\n",
    "        self.spans = []\n",
    "        \n",
    "\n",
    "    def next(self, price: int) -> int:\n",
    "        span = 1\n",
    "        while len(self.spans) > 0:\n",
    "            # check most recent entry in stack\n",
    "            prevday = self.spans[-1]\n",
    "            # update span and remove old values if previous prices <= price\n",
    "            if prevday[0] <= price:\n",
    "                span += prevday[1]\n",
    "                self.spans.pop(-1)\n",
    "            else:\n",
    "                break\n",
    "                \n",
    "        # add new span value to stack\n",
    "        newday = (price, span)\n",
    "        self.spans.append(newday)\n",
    "        return span\n",
    "\n",
    "# Your StockSpanner object will be instantiated and called as such:\n",
    "# obj = StockSpanner()\n",
    "# param_1 = obj.next(price)"
   ]
  },
  {
   "cell_type": "code",
   "execution_count": 134,
   "metadata": {},
   "outputs": [
    {
     "name": "stdout",
     "output_type": "stream",
     "text": [
      "1\n",
      "1\n",
      "1\n",
      "2\n",
      "1\n",
      "4\n",
      "6\n"
     ]
    }
   ],
   "source": [
    "spanner = StockSpanner()\n",
    "for price in ex1:\n",
    "    print(spanner.next(price))"
   ]
  },
  {
   "cell_type": "markdown",
   "metadata": {},
   "source": [
    "## Day 20: 5/20/20\n",
    "### 230. Kth Smallest Element in a BST\n",
    "MEDIUM  \n",
    "https://leetcode.com/problems/kth-smallest-element-in-a-bst/  \n",
    "https://leetcode.com/explore/challenge/card/may-leetcoding-challenge/536/week-3-may-15th-may-21st/3335/"
   ]
  },
  {
   "cell_type": "markdown",
   "metadata": {},
   "source": [
    "Given a binary search tree, write a function `kthSmallest` to find the **k**th smallest element in it.\n",
    "\n",
    "**Note:**\n",
    "You may assume k is always valid, 1 ≤ k ≤ BST's total elements.\n",
    "\n",
    "**Example 1:**\n",
    "```\n",
    "Input: root = [3,1,4,null,2], k = 1\n",
    "   3\n",
    "  / \\\n",
    " 1   4\n",
    "  \\\n",
    "   2\n",
    "Output: 1\n",
    "```\n",
    "**Example 2:**\n",
    "```\n",
    "Input: root = [5,3,6,2,4,null,null,1], k = 3\n",
    "       5\n",
    "      / \\\n",
    "     3   6\n",
    "    / \\\n",
    "   2   4\n",
    "  /\n",
    " 1\n",
    "Output: 3\n",
    "```\n",
    "**Follow up:**  \n",
    "What if the BST is modified (insert/delete operations) often and you need to find the kth smallest frequently? How would you optimize the kthSmallest routine?"
   ]
  },
  {
   "cell_type": "code",
   "execution_count": 147,
   "metadata": {},
   "outputs": [],
   "source": [
    "# Definition for a binary tree node.\n",
    "class TreeNode:\n",
    "    def __init__(self, val=0, left=None, right=None):\n",
    "        self.val = val\n",
    "        self.left = left\n",
    "        self.right = right\n",
    "\n",
    "# construct tree in level order given an array\n",
    "def constructTree(nodes,i,n): \n",
    "    # Base case for recursion\n",
    "    root = None\n",
    "    if (i < n) and nodes[i] is not None: \n",
    "        node = TreeNode(nodes[i])  \n",
    "        root = node  \n",
    "  \n",
    "        # insert left child  \n",
    "        root.left = constructTree(nodes, 2*i+1, n)  \n",
    "        # insert right child  \n",
    "        root.right = constructTree(nodes, 2*i+2, n) \n",
    "    return root \n",
    "        \n",
    "nodes1 = [3,1,4,None,2]\n",
    "root1 = constructTree(nodes1,0,len(nodes1))\n",
    "nodes2 = [5,3,6,2,4,None,None,1]\n",
    "root2 = constructTree(nodes2,0,len(nodes2))"
   ]
  },
  {
   "cell_type": "code",
   "execution_count": 151,
   "metadata": {},
   "outputs": [],
   "source": []
  },
  {
   "cell_type": "code",
   "execution_count": 138,
   "metadata": {},
   "outputs": [],
   "source": [
    "class Solution:\n",
    "    def kthSmallest(self, root: TreeNode, k: int) -> int:\n",
    "        \n",
    "        return None"
   ]
  },
  {
   "cell_type": "code",
   "execution_count": null,
   "metadata": {},
   "outputs": [],
   "source": [
    "soln = Solution()\n",
    "soln.kthSmallest"
   ]
  },
  {
   "cell_type": "markdown",
   "metadata": {},
   "source": [
    "## Day 21: 5/21/20\n",
    "### 1277. Count Square Submatrices with All Ones\n",
    "MEDIUM  \n",
    "https://leetcode.com/problems/count-square-submatrices-with-all-ones/  \n",
    "https://leetcode.com/explore/challenge/card/may-leetcoding-challenge/536/week-3-may-15th-may-21st/3336/"
   ]
  },
  {
   "cell_type": "markdown",
   "metadata": {},
   "source": [
    "Given a `m * n` matrix of ones and zeros, return how many **square** submatrices have all ones.\n",
    "\n",
    "**Example 1:**\n",
    "```\n",
    "Input: matrix =\n",
    "[\n",
    "  [0,1,1,1],\n",
    "  [1,1,1,1],\n",
    "  [0,1,1,1]\n",
    "]\n",
    "Output: 15\n",
    "Explanation: \n",
    "There are 10 squares of side 1.\n",
    "There are 4 squares of side 2.\n",
    "There is  1 square of side 3.\n",
    "Total number of squares = 10 + 4 + 1 = 15.\n",
    "```\n",
    "**Example 2:**\n",
    "```\n",
    "Input: matrix = \n",
    "[\n",
    "  [1,0,1],\n",
    "  [1,1,0],\n",
    "  [1,1,0]\n",
    "]\n",
    "Output: 7\n",
    "Explanation: \n",
    "There are 6 squares of side 1.  \n",
    "There is 1 square of side 2. \n",
    "Total number of squares = 6 + 1 = 7.\n",
    "```\n",
    "\n",
    "**Constraints:**\n",
    "\n",
    "1. `1 <= arr.length <= 300`\n",
    "2. `1 <= arr[0].length <= 300`\n",
    "3. `0 <= arr[i][j] <= 1`"
   ]
  },
  {
   "cell_type": "code",
   "execution_count": 166,
   "metadata": {},
   "outputs": [],
   "source": [
    "matrix1 = [\n",
    "  [0,1,1,1],\n",
    "  [1,1,1,1],\n",
    "  [0,1,1,1]\n",
    "]\n",
    "matrix2 = [\n",
    "  [1,0,1],\n",
    "  [1,1,0],\n",
    "  [1,1,0]\n",
    "]\n",
    "matrix3 = [\n",
    "  [0,1,1,1,1],\n",
    "  [1,1,1,1,1],\n",
    "  [0,1,1,1,1],\n",
    "  [0,1,1,1,1]\n",
    "]\n",
    "matrix4 = [\n",
    "  [0,0,1,1],\n",
    "  [1,1,1,1],\n",
    "  [0,1,1,1]\n",
    "]"
   ]
  },
  {
   "cell_type": "code",
   "execution_count": 224,
   "metadata": {},
   "outputs": [],
   "source": [
    "# modifies input in-place!\n",
    "class Solution:\n",
    "    def countSquares(self, matrix: List[List[int]]) -> int:\n",
    "        count = 0\n",
    "        if matrix:\n",
    "            for m in range(len(matrix)):\n",
    "                for n in range(len(matrix[0])):\n",
    "                    if matrix[m][n] == 1:\n",
    "                        if (m == 0) or (n == 0):\n",
    "                            count += matrix[m][n] # add one to running total for a single cell\n",
    "                        else:\n",
    "                            left = matrix[m-1][n]\n",
    "                            above = matrix[m][n-1]\n",
    "                            diag = matrix[m-1][n-1]\n",
    "                            largestmatsize = min(left,above,diag) + matrix[m][n]\n",
    "                            count += largestmatsize\n",
    "                            matrix[m][n] = largestmatsize\n",
    "        return count"
   ]
  },
  {
   "cell_type": "code",
   "execution_count": 225,
   "metadata": {},
   "outputs": [],
   "source": [
    "# without modifying\n",
    "import copy\n",
    "class Solution:\n",
    "    def countSquares(self, matrix: List[List[int]]) -> int:\n",
    "        count = 0\n",
    "        newmatrix = copy.deepcopy(matrix)\n",
    "        if matrix:\n",
    "            for m in range(len(newmatrix)):\n",
    "                for n in range(len(newmatrix[0])):\n",
    "                    if newmatrix[m][n] == 1:\n",
    "                        if (m == 0) or (n == 0):\n",
    "                            count += newmatrix[m][n] # add one to running total for a single cell\n",
    "                        else:\n",
    "                            left = newmatrix[m-1][n]\n",
    "                            above = newmatrix[m][n-1]\n",
    "                            diag = newmatrix[m-1][n-1]\n",
    "                            largestmatsize = min(left,above,diag) + 1\n",
    "                            count += largestmatsize\n",
    "                            newmatrix[m][n] = largestmatsize\n",
    "        return count"
   ]
  },
  {
   "cell_type": "code",
   "execution_count": 226,
   "metadata": {},
   "outputs": [
    {
     "data": {
      "text/plain": [
       "7"
      ]
     },
     "execution_count": 226,
     "metadata": {},
     "output_type": "execute_result"
    }
   ],
   "source": [
    "soln = Solution()\n",
    "soln.countSquares(matrix2)"
   ]
  },
  {
   "cell_type": "markdown",
   "metadata": {},
   "source": [
    "## Day 22: 5/22/20\n",
    "### 451. Sort Characters By Frequency\n",
    "MEDIUM  \n",
    "https://leetcode.com/problems/sort-characters-by-frequency/  \n",
    "https://leetcode.com/explore/challenge/card/may-leetcoding-challenge/537/week-4-may-22nd-may-28th/3337/"
   ]
  },
  {
   "cell_type": "markdown",
   "metadata": {},
   "source": [
    "Given a string, sort it in decreasing order based on the frequency of characters.\n",
    "\n",
    "**Example 1:**\n",
    "```\n",
    "Input:\n",
    "\"tree\"\n",
    "\n",
    "Output:\n",
    "\"eert\"\n",
    "\n",
    "Explanation:\n",
    "'e' appears twice while 'r' and 't' both appear once.\n",
    "So 'e' must appear before both 'r' and 't'. Therefore \"eetr\" is also a valid answer.\n",
    "```\n",
    "**Example 2:**\n",
    "```\n",
    "Input:\n",
    "\"cccaaa\"\n",
    "\n",
    "Output:\n",
    "\"cccaaa\"\n",
    "\n",
    "Explanation:\n",
    "Both 'c' and 'a' appear three times, so \"aaaccc\" is also a valid answer.\n",
    "Note that \"cacaca\" is incorrect, as the same characters must be together.\n",
    "```\n",
    "**Example 3:**\n",
    "```\n",
    "Input:\n",
    "\"Aabb\"\n",
    "\n",
    "Output:\n",
    "\"bbAa\"\n",
    "\n",
    "Explanation:\n",
    "\"bbaA\" is also a valid answer, but \"Aabb\" is incorrect.\n",
    "Note that 'A' and 'a' are treated as two different characters.\n",
    "```"
   ]
  },
  {
   "cell_type": "code",
   "execution_count": 242,
   "metadata": {},
   "outputs": [],
   "source": [
    "s1 = 'tree'\n",
    "s2 = 'cccaaa'\n",
    "s3 = 'Aabb'\n",
    "s4 = \"loveleetcode\""
   ]
  },
  {
   "cell_type": "code",
   "execution_count": 272,
   "metadata": {},
   "outputs": [],
   "source": [
    "# using hash table and sorted array\n",
    "class Solution:\n",
    "    def frequencySort(self, s: str) -> str:\n",
    "        counts = {}\n",
    "        for c in s:\n",
    "            if c in counts:\n",
    "                counts[c] += 1\n",
    "            else:\n",
    "                counts[c] = 1\n",
    "        \n",
    "        sgen = ((c,counts[c]) for c in s)\n",
    "        slist = sorted(sgen, key = lambda x: (x[1],x[0]), reverse=True)\n",
    "        \n",
    "        return ''.join(x[0] for x in slist)"
   ]
  },
  {
   "cell_type": "code",
   "execution_count": 266,
   "metadata": {},
   "outputs": [],
   "source": [
    "# using built-in python stuff\n",
    "from collections import Counter\n",
    "class Solution:\n",
    "    def frequencySort(self, s: str) -> str:\n",
    "        counts = Counter(s).most_common()\n",
    "        sortedstr = ''.join(char*count for char,count in counts)\n",
    "        return sortedstr"
   ]
  },
  {
   "cell_type": "code",
   "execution_count": 273,
   "metadata": {},
   "outputs": [
    {
     "data": {
      "text/plain": [
       "'eeeeoollvtdc'"
      ]
     },
     "execution_count": 273,
     "metadata": {},
     "output_type": "execute_result"
    }
   ],
   "source": [
    "soln = Solution()\n",
    "soln.frequencySort(s4)"
   ]
  },
  {
   "cell_type": "markdown",
   "metadata": {},
   "source": [
    "## Day 23: 5/23/20\n",
    "### 986. Interval List Intersections\n",
    "MEDIUM  \n",
    "https://leetcode.com/problems/interval-list-intersections/  \n",
    "https://leetcode.com/explore/challenge/card/may-leetcoding-challenge/537/week-4-may-22nd-may-28th/3338/"
   ]
  },
  {
   "cell_type": "markdown",
   "metadata": {},
   "source": [
    "Given two lists of **closed** intervals, each list of intervals is pairwise disjoint and in sorted order.\n",
    "\n",
    "Return the intersection of these two interval lists.\n",
    "\n",
    "(Formally, a closed interval `[a, b]` (with `a <= b`) denotes the set of real numbers `x` with `a <= x <= b`.  The intersection of two closed intervals is a set of real numbers that is either empty, or can be represented as a closed interval.  For example, the intersection of [1, 3] and [2, 4] is [2, 3].)\n",
    "\n",
    "**Example 1:**\n",
    "![example1](https://assets.leetcode.com/uploads/2019/01/30/interval1.png)\n",
    "```\n",
    "Input: A = [[0,2],[5,10],[13,23],[24,25]], B = [[1,5],[8,12],[15,24],[25,26]]\n",
    "Output: [[1,2],[5,5],[8,10],[15,23],[24,24],[25,25]]\n",
    "Reminder: The inputs and the desired output are lists of Interval objects, and not arrays or lists.\n",
    "```\n",
    "\n",
    "**Note:**\n",
    "\n",
    "1. `0 <= A.length < 1000`\n",
    "2. `0 <= B.length < 1000`\n",
    "3. `0 <= A[i].start, A[i].end, B[i].start, B[i].end < 10^9`\n",
    "\n",
    "**NOTE:** input types have been changed on April 15, 2019. Please reset to default code definition to get new method signature."
   ]
  },
  {
   "cell_type": "code",
   "execution_count": 3,
   "metadata": {},
   "outputs": [],
   "source": [
    "A1,B1 = [[0,2],[5,10],[13,23],[24,25]], [[1,5],[8,12],[15,24],[25,26]]"
   ]
  },
  {
   "cell_type": "code",
   "execution_count": 2,
   "metadata": {},
   "outputs": [],
   "source": [
    "class Solution:\n",
    "    def intervalIntersection(self, A: List[List[int]], B: List[List[int]]) -> List[List[int]]:\n",
    "        \n",
    "        return None"
   ]
  },
  {
   "cell_type": "markdown",
   "metadata": {},
   "source": [
    "## Day 25: 5/24/20\n",
    "### 1008. Construct Binary Search Tree from Preorder Traversal\n",
    "MEDIUM  \n",
    "https://leetcode.com/problems/construct-binary-search-tree-from-preorder-traversal/  \n",
    "https://leetcode.com/explore/challenge/card/may-leetcoding-challenge/537/week-4-may-22nd-may-28th/3339/\n",
    "\n",
    "**Note:** Same problem as the daily challenge on 4/20/20"
   ]
  },
  {
   "cell_type": "markdown",
   "metadata": {},
   "source": [
    "Return the root node of a binary **search** tree that matches the given `preorder` traversal.\n",
    "\n",
    "(Recall that a binary search tree is a binary tree where for every node, any descendant of `node.left` has a value `<` `node.val`, and any descendant of `node.right` has a value `>` `node.val`.  Also recall that a `preorder` traversal displays the value of the node first, then traverses `node.left`, then traverses `node.right`.)\n",
    "\n",
    "**Example 1:**\n",
    "```\n",
    "Input: [8,5,1,7,10,12]\n",
    "Output: [8,5,10,1,7,null,12]\n",
    "```\n",
    "![https://assets.leetcode.com/uploads/2019/03/06/1266.png](https://assets.leetcode.com/uploads/2019/03/06/1266.png)\n",
    "\n",
    " \n",
    "\n",
    "**Note:**\n",
    "\n",
    "1. `<= preorder.length <= 100`\n",
    "2. The values of `preorder` are distinct."
   ]
  },
  {
   "cell_type": "code",
   "execution_count": 5,
   "metadata": {},
   "outputs": [],
   "source": [
    "# Definition for a binary tree node.\n",
    "class TreeNode:\n",
    "    def __init__(self, x):\n",
    "        self.val = x\n",
    "        self.left = None\n",
    "        self.right = None\n",
    "        \n",
    "preorder1 = [8,5,1,7,10,12]\n",
    "preorder2 = [8,5,1,7,6,10,12]\n",
    "preorder3 = [9,5,1,7,8,10,12]"
   ]
  },
  {
   "cell_type": "code",
   "execution_count": 7,
   "metadata": {},
   "outputs": [],
   "source": [
    "# helper function for displaying tree\n",
    "def printtree(root):\n",
    "    treevals = [root.val]\n",
    "    q = [root]\n",
    "    while q:\n",
    "        node = q.pop(0)\n",
    "        if node.left or node.right:\n",
    "            if node.left:\n",
    "                treevals.append(node.left.val)\n",
    "                q.append(node.left)\n",
    "            else:\n",
    "                treevals.append('null')\n",
    "            if node.right:\n",
    "                treevals.append(node.right.val)\n",
    "                q.append(node.right)\n",
    "            else:\n",
    "                treevals.append('null')\n",
    "    return treevals"
   ]
  },
  {
   "cell_type": "code",
   "execution_count": 8,
   "metadata": {},
   "outputs": [],
   "source": [
    "class Solution:\n",
    "    def bstFromPreorder(self, preorder: List[int]) -> TreeNode:\n",
    "        \n",
    "        return None"
   ]
  },
  {
   "cell_type": "markdown",
   "metadata": {},
   "source": [
    "## Day 25: 5/25/20\n",
    "### 1035. Uncrossed Lines\n",
    "MEDIUM  \n",
    "https://leetcode.com/problems/uncrossed-lines/  \n",
    "https://leetcode.com/explore/challenge/card/may-leetcoding-challenge/537/week-4-may-22nd-may-28th/3340/"
   ]
  },
  {
   "cell_type": "markdown",
   "metadata": {},
   "source": [
    "We write the integers of `A` and `B` (in the order they are given) on two separate horizontal lines.\n",
    "\n",
    "Now, we may draw connecting lines: a straight line connecting two numbers `A[i]` and `B[j]` such that:\n",
    "\n",
    "* `A[i] == B[j]`;\n",
    "* The line we draw does not intersect any other connecting (non-horizontal) line.\n",
    "\n",
    "Note that a connecting lines cannot intersect even at the endpoints: each number can only belong to one connecting line.\n",
    "\n",
    "Return the maximum number of connecting lines we can draw in this way.\n",
    "\n",
    "**Example 1:**\n",
    "![example1.jpg](https://assets.leetcode.com/uploads/2019/04/26/142.png)\n",
    "<!-- {:height=\"100px\" width=\"72px\"} -->\n",
    "```\n",
    "Input: A = [1,4,2], B = [1,2,4]\n",
    "Output: 2\n",
    "Explanation: We can draw 2 uncrossed lines as in the diagram.\n",
    "We cannot draw 3 uncrossed lines, because the line from A[1]=4 to B[2]=4 will intersect the line from A[2]=2 to B[1]=2.\n",
    "```\n",
    "**Example 2:**\n",
    "```\n",
    "Input: A = [2,5,1,2,5], B = [10,5,2,1,5,2]\n",
    "Output: 3\n",
    "```\n",
    "**Example 3:**\n",
    "```\n",
    "Input: A = [1,3,7,1,7,5], B = [1,9,2,5,1]\n",
    "Output: 2\n",
    "```\n",
    "\n",
    "**Note:**\n",
    "\n",
    "1. `1 <= A.length <= 500`\n",
    "2. `1 <= B.length <= 500`\n",
    "3. `1 <= A[i], B[i] <= 2000`"
   ]
  },
  {
   "cell_type": "code",
   "execution_count": 39,
   "metadata": {},
   "outputs": [],
   "source": [
    "A1,B1 = [1,4,2], [1,2,4]\n",
    "A2,B2 = [2,5,1,2,5], [10,5,2,1,5,2]\n",
    "A3,B3 = [1,3,7,1,7,5], [1,9,2,5,1]"
   ]
  },
  {
   "cell_type": "code",
   "execution_count": 42,
   "metadata": {},
   "outputs": [],
   "source": [
    "# solution is the same as longest subsequence problem\n",
    "# max uncrossed lines = length of longest common subsequence of numbers\n",
    "class Solution:\n",
    "    def maxUncrossedLines(self, A: List[int], B: List[int]) -> int:\n",
    "        n = len(A)\n",
    "        m = len(B)\n",
    "        # dp values compare the nth int of A with the mth int of B\n",
    "        # is 1-indexed; dp[0][1] = 0 because it compares an empty sequence (0 ints from A) to B[0]\n",
    "        dp = [[0]*(m+1) for x in range(n+1)]\n",
    "        for i,n1 in enumerate(A):\n",
    "            for j,n2 in enumerate(B):\n",
    "                if n1 == n2:\n",
    "                    dp[i+1][j+1] = dp[i][j]+1\n",
    "                else:\n",
    "                    dp[i+1][j+1] = max(dp[i][j+1],dp[i+1][j])\n",
    "        return dp[-1][-1]"
   ]
  },
  {
   "cell_type": "code",
   "execution_count": 45,
   "metadata": {},
   "outputs": [
    {
     "data": {
      "text/plain": [
       "2"
      ]
     },
     "execution_count": 45,
     "metadata": {},
     "output_type": "execute_result"
    }
   ],
   "source": [
    "soln = Solution()\n",
    "soln.maxUncrossedLines(A3,B3)"
   ]
  },
  {
   "cell_type": "markdown",
   "metadata": {},
   "source": [
    "## Day 26: 5/26/20\n",
    "### 525. Contiguous Array\n",
    "MEDIUM  \n",
    "https://leetcode.com/problems/contiguous-array/  \n",
    "https://leetcode.com/explore/challenge/card/may-leetcoding-challenge/537/week-4-may-22nd-may-28th/3341/\n",
    "\n",
    "**Note:** Was also the daily challenge on 4/12/20"
   ]
  },
  {
   "cell_type": "markdown",
   "metadata": {},
   "source": [
    "Given a binary array, find the maximum length of a contiguous subarray with equal number of 0 and 1.\n",
    "\n",
    "**Example 1:**\n",
    "```\n",
    "Input: [0,1]\n",
    "Output: 2\n",
    "Explanation: [0, 1] is the longest contiguous subarray with equal number of 0 and 1.\n",
    "```\n",
    "**Example 2:**\n",
    "```\n",
    "Input: [0,1,0]\n",
    "Output: 2\n",
    "Explanation: [0, 1] (or [1, 0]) is a longest contiguous subarray with equal number of 0 and 1.\n",
    "```\n",
    "**Note:** The length of the given binary array will not exceed 50,000."
   ]
  },
  {
   "cell_type": "code",
   "execution_count": 14,
   "metadata": {},
   "outputs": [],
   "source": [
    "nums1 = [0,1]\n",
    "nums2 = [0,1,0]\n",
    "nums3 = [0,1,0,0,0,0,1,0]\n",
    "nums4 = [0,1,0,0,1,0,1,0]\n",
    "nums5 = [0,1,0,0,1,1,1,0]\n",
    "nums6 = [0,0,0,1,1,1,0]\n",
    "nums7 = [0,0,0,1,1,1,0,1,1,1,1]"
   ]
  },
  {
   "cell_type": "code",
   "execution_count": 22,
   "metadata": {},
   "outputs": [],
   "source": [
    "# intuition: calculate running sum with 0 as -1 and 1 as +1. \n",
    "# 0's indicate a balanced array from beginning to that poisition\n",
    "# sums[i] == sums[j] indicate the array sums[i+1:j] is balanced\n",
    "class Solution:\n",
    "    def findMaxLength(self, nums: List[int]) -> int:\n",
    "        sumval = 0\n",
    "        sums = []\n",
    "        for n in nums:\n",
    "            if n == 0:\n",
    "                sumval -=1\n",
    "            else:\n",
    "                sumval += 1\n",
    "            sums.append(sumval)\n",
    "        \n",
    "        maxlength = 0\n",
    "        sumcounts = {}\n",
    "        for i,s in enumerate(sums):\n",
    "            if s == 0:\n",
    "                maxlength = max(maxlength, i+1)\n",
    "            elif s in sumcounts:\n",
    "                maxlength = max(maxlength, i-sumcounts[s])\n",
    "            else:\n",
    "                sumcounts[s] = i\n",
    "        return maxlength"
   ]
  },
  {
   "cell_type": "code",
   "execution_count": 35,
   "metadata": {},
   "outputs": [],
   "source": [
    "# more optimized code\n",
    "class Solution:\n",
    "    def findMaxLength(self, nums: List[int]) -> int:\n",
    "        sumval = 0\n",
    "        sums = {}\n",
    "        maxlength = 0\n",
    "        for i,n in enumerate(nums):\n",
    "            if n == 0:\n",
    "                sumval -=1\n",
    "            else:\n",
    "                sumval += 1\n",
    "            \n",
    "            if sumval == 0:\n",
    "                maxlength = max(maxlength,i+1) # balanced array at nums[:i+1]\n",
    "            elif sumval in sums:\n",
    "                maxlength = max(maxlength,i-sums[sumval]) # balanced array at nums[sums[s]+1:i+1]\n",
    "            else:\n",
    "                sums[sumval] = i\n",
    "        return maxlength"
   ]
  },
  {
   "cell_type": "code",
   "execution_count": 36,
   "metadata": {},
   "outputs": [],
   "source": [
    "# even more concise code\n",
    "class Solution:\n",
    "    def findMaxLength(self, nums: List[int]) -> int:\n",
    "        sumval = 0\n",
    "        maxlength = 0\n",
    "        sums = {0:-1} # trick allow i-sums[sumval] logic to also work on counting from the beginning of array\n",
    "        for i,n in enumerate(nums):\n",
    "            if n == 0:\n",
    "                sumval -=1\n",
    "            else:\n",
    "                sumval += 1\n",
    "            \n",
    "            if sumval in sums:\n",
    "                maxlength = max(maxlength,i-sums[sumval]) # balanced array at nums[sums[s]+1:i+1]\n",
    "            else:\n",
    "                sums[sumval] = i\n",
    "        return maxlength"
   ]
  },
  {
   "cell_type": "code",
   "execution_count": 38,
   "metadata": {},
   "outputs": [
    {
     "data": {
      "text/plain": [
       "6"
      ]
     },
     "execution_count": 38,
     "metadata": {},
     "output_type": "execute_result"
    }
   ],
   "source": [
    "soln = Solution()\n",
    "soln.findMaxLength(nums4)"
   ]
  },
  {
   "cell_type": "markdown",
   "metadata": {},
   "source": [
    "## Day 27: 5/27/20\n",
    "### 886. Possible Bipartition\n",
    "MEDIUM  \n",
    "https://leetcode.com/problems/possible-bipartition/  \n",
    "https://leetcode.com/explore/challenge/card/may-leetcoding-challenge/537/week-4-may-22nd-may-28th/3342/"
   ]
  },
  {
   "cell_type": "markdown",
   "metadata": {},
   "source": [
    "Given a set of `N` people (numbered `1, 2, ..., N`), we would like to split everyone into two groups of **any** size.\n",
    "\n",
    "Each person may dislike some other people, and they should not go into the same group. \n",
    "\n",
    "Formally, if `dislikes[i] = [a, b]`, it means it is not allowed to put the people numbered `a` and `b` into the same group.\n",
    "\n",
    "Return `true` if and only if it is possible to split everyone into two groups in this way.\n",
    "\n",
    "**Example 1:**\n",
    "```\n",
    "Input: N = 4, dislikes = [[1,2],[1,3],[2,4]]\n",
    "Output: true\n",
    "Explanation: group1 [1,4], group2 [2,3]\n",
    "```\n",
    "**Example 2:**\n",
    "```\n",
    "Input: N = 3, dislikes = [[1,2],[1,3],[2,3]]\n",
    "Output: false\n",
    "```\n",
    "**Example 3:**\n",
    "```\n",
    "Input: N = 5, dislikes = [[1,2],[2,3],[3,4],[4,5],[1,5]]\n",
    "Output: false\n",
    "```\n",
    "\n",
    "**Note:**\n",
    "\n",
    "1. `1 <= N <= 2000`\n",
    "2. `0 <= dislikes.length <= 10000`\n",
    "3. `1 <= dislikes[i][j] <= N`\n",
    "4. `dislikes[i][0] < dislikes[i][1]`\n",
    "5. There does not exist `i != j` for which `dislikes[i] == dislikes[j]`."
   ]
  },
  {
   "cell_type": "code",
   "execution_count": 4,
   "metadata": {},
   "outputs": [],
   "source": [
    "N1,dislikes1 = 4, [[1,2],[1,3],[2,4]]\n",
    "N2,dislikes2 = 3, [[1,2],[1,3],[2,3]]\n",
    "N3,dislikes3 = 5, [[1,2],[2,3],[3,4],[4,5],[1,5]]"
   ]
  },
  {
   "cell_type": "code",
   "execution_count": 29,
   "metadata": {},
   "outputs": [],
   "source": [
    "# intuition: create a graph of people nodes with edges as their dislike relation\n",
    "# \"color\" each node into two groups with no two connected nodes the same color\n",
    "# if not possible, then return false\n",
    "from collections import defaultdict\n",
    "class Solution:\n",
    "    def possibleBipartition(self, N: int, dislikes: List[List[int]]) -> bool:\n",
    "        # group labels (\"colors\")\n",
    "        unlabeled, group1, group2 = 0, -1, 1\n",
    "        \n",
    "        # create data structures\n",
    "        groups = {n+1:unlabeled for n in range(N)} # groups table, people are n+1\n",
    "        haters = defaultdict(set) # dislikes table\n",
    "        for person1,person2 in dislikes:\n",
    "            haters[person1].add(person2)\n",
    "            haters[person2].add(person1)\n",
    "        \n",
    "        def assign_group(person,group):\n",
    "            # assign grouping to person\n",
    "            groups[person] = group\n",
    "            \n",
    "            # check each connected person if it violates bipartite condition\n",
    "            for hater in haters[person]:\n",
    "                # return false if hater is in same group as person\n",
    "                if groups[hater] == group:\n",
    "                    return False\n",
    "                \n",
    "                # return false if hater is unlabeled AND cannot be assigned to opposite group\n",
    "                if groups[hater] == unlabeled and (not assign_group(hater,-group)):\n",
    "                    return False\n",
    "            return True\n",
    "        \n",
    "        # check each person and attempt to assign them to groups\n",
    "        for n in range(N):\n",
    "            # check if person is unabeled and attempt to assign person to group1\n",
    "            person = n+1\n",
    "            if groups[person] == unlabeled and (not assign_group(person,group1)):\n",
    "                return False\n",
    "            \n",
    "        return True"
   ]
  },
  {
   "cell_type": "code",
   "execution_count": 33,
   "metadata": {},
   "outputs": [
    {
     "data": {
      "text/plain": [
       "False"
      ]
     },
     "execution_count": 33,
     "metadata": {},
     "output_type": "execute_result"
    }
   ],
   "source": [
    "soln = Solution()\n",
    "soln.possibleBipartition(N3,dislikes3)"
   ]
  },
  {
   "cell_type": "markdown",
   "metadata": {},
   "source": [
    "## Day 28: 5/28/20\n",
    "### 338. Counting Bits\n",
    "MEDIUM  \n",
    "https://leetcode.com/problems/counting-bits/  \n",
    "https://leetcode.com/explore/challenge/card/may-leetcoding-challenge/537/week-4-may-22nd-may-28th/3343/"
   ]
  },
  {
   "cell_type": "markdown",
   "metadata": {},
   "source": [
    "Given a non negative integer number **num**. For every numbers **i** in the range **0 ≤ i ≤ num** calculate the number of 1's in their binary representation and return them as an array.\n",
    "\n",
    "**Example 1:**\n",
    "```\n",
    "Input: 2\n",
    "Output: [0,1,1]\n",
    "```\n",
    "**Example 2:**\n",
    "```\n",
    "Input: 5\n",
    "Output: [0,1,1,2,1,2]\n",
    "```\n",
    "**Follow up:**\n",
    "\n",
    "* It is very easy to come up with a solution with run time **O(n*sizeof(integer))**. But can you do it in linear time **O(n)** /possibly in a single pass?\n",
    "* Space complexity should be **O(n)**.\n",
    "* Can you do it like a boss? Do it without using any builtin function like **__builtin_popcount** in c++ or in any other language."
   ]
  },
  {
   "cell_type": "code",
   "execution_count": 40,
   "metadata": {},
   "outputs": [],
   "source": [
    "num1 = 2\n",
    "num2 = 5\n",
    "num3 = 56"
   ]
  },
  {
   "cell_type": "code",
   "execution_count": 38,
   "metadata": {},
   "outputs": [],
   "source": [
    "class Solution:\n",
    "    def countBits(self, num: int) -> List[int]:\n",
    "        dp = [0]*(num+1)\n",
    "        for n in range(1,num+1):\n",
    "            if (n&1) == 0: # if even \n",
    "                dp[n] = dp[n>>1]\n",
    "            else: \n",
    "                dp[n] = dp[n-1]+1\n",
    "        \n",
    "        return dp#[-1]"
   ]
  },
  {
   "cell_type": "code",
   "execution_count": 45,
   "metadata": {},
   "outputs": [
    {
     "data": {
      "text/plain": [
       "[0, 1, 1, 2, 1, 2, 2, 3, 1, 2, 2, 3]"
      ]
     },
     "execution_count": 45,
     "metadata": {},
     "output_type": "execute_result"
    }
   ],
   "source": [
    "soln = Solution()\n",
    "soln.countBits(11)"
   ]
  }
 ],
 "metadata": {
  "kernelspec": {
   "display_name": "base (Python 3.7.7)",
   "language": "python",
   "name": "base"
  },
  "language_info": {
   "codemirror_mode": {
    "name": "ipython",
    "version": 3
   },
   "file_extension": ".py",
   "mimetype": "text/x-python",
   "name": "python",
   "nbconvert_exporter": "python",
   "pygments_lexer": "ipython3",
   "version": "3.7.7"
  }
 },
 "nbformat": 4,
 "nbformat_minor": 4
}
