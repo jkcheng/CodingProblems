{
 "cells": [
  {
   "cell_type": "code",
   "execution_count": 1,
   "metadata": {},
   "outputs": [],
   "source": [
    "from typing import List"
   ]
  },
  {
   "cell_type": "code",
   "execution_count": 2,
   "metadata": {},
   "outputs": [],
   "source": [
    "# tree practice\n",
    "def constructtree(nodes, i, n):\n",
    "    root = None\n",
    "    if (i<n) and nodes[i] is not None:\n",
    "        root = nodes[i]\n",
    "        root.left = constructtree(nodes, 2*i+1, len(nodes))\n",
    "        root.rigth = constructtree(nodes, 2*i+2, len(nodes))\n",
    "    return root\n",
    "\n",
    "def printtree(root):\n",
    "    q = [root]\n",
    "    nodes = []\n",
    "    while any(q):\n",
    "        node = q.pop(0)\n",
    "        if node:\n",
    "            nodes.append(node.val)\n",
    "            if node.left or node.right or any(q):\n",
    "                q.append(node.left)\n",
    "                q.append(node.right)\n",
    "        elif any(q):\n",
    "            nodes.append('null')\n",
    "    return nodes"
   ]
  },
  {
   "cell_type": "markdown",
   "metadata": {},
   "source": [
    "## Day 1: 9/1/20\n",
    "### 949. Largest Time for Given Digits\n",
    "MEDIUM  \n",
    "https://leetcode.com/problems/largest-time-for-given-digits/  \n",
    "https://leetcode.com/explore/challenge/card/september-leetcoding-challenge/554/week-1-september-1st-september-7th/3445/"
   ]
  },
  {
   "cell_type": "markdown",
   "metadata": {},
   "source": [
    "Given an array `arr` of 4 digits, find the latest 24-hour time that can be made using each digit **exactly once**.\n",
    "\n",
    "24-hour times are formatted as `\"HH:MM\"`, where `HH` is between `00` and `23`, and `MM` is between `00` and `59`. The earliest 24-hour time is `00:00`, and the latest is `23:59`.\n",
    "\n",
    "Return the *latest 24-hour time in `\"HH:MM\"` format*.  If no valid time can be made, return an empty string.\n",
    "\n",
    "\n",
    "\n",
    "**Example 1:**\n",
    "```\n",
    "Input: A = [1,2,3,4]\n",
    "Output: \"23:41\"\n",
    "Explanation: The valid 24-hour times are \"12:34\", \"12:43\", \"13:24\", \"13:42\", \"14:23\", \"14:32\", \"21:34\", \"21:43\", \"23:14\", and \"23:41\". Of these times, \"23:41\" is the latest.\n",
    "```\n",
    "**Example 2:**\n",
    "```\n",
    "Input: A = [5,5,5,5]\n",
    "Output: \"\"\n",
    "Explanation: There are no valid 24-hour times as \"55:55\" is not valid.\n",
    "```\n",
    "**Example 3:**\n",
    "```\n",
    "Input: A = [0,0,0,0]\n",
    "Output: \"00:00\"\n",
    "```\n",
    "**Example 4:**\n",
    "```\n",
    "Input: A = [0,0,1,0]\n",
    "Output: \"10:00\"\n",
    "```\n",
    "\n",
    "**Constraints:**\n",
    "\n",
    "* `arr.length == 4`\n",
    "* `0 <= arr[i] <= 9`"
   ]
  },
  {
   "cell_type": "markdown",
   "metadata": {},
   "source": [
    "**Study Notes:**\n",
    "* can either use backtracking or brute force permutation checking solution\n",
    "    * run time of brute force isn't that bad since there is at most 4 digits\n",
    "* permutation solution: https://leetcode.com/problems/largest-time-for-given-digits/discuss/822874/Python-Check-all-permutations-explained"
   ]
  },
  {
   "cell_type": "code",
   "execution_count": 76,
   "metadata": {},
   "outputs": [],
   "source": [
    "arr1 = [1,2,3,4]\n",
    "arr2 = [5,5,5,5]\n",
    "arr3 = [0,0,0,0]\n",
    "arr4 = [0,0,1,0]\n",
    "arr5 = [0,3,0,7]"
   ]
  },
  {
   "cell_type": "code",
   "execution_count": 71,
   "metadata": {},
   "outputs": [],
   "source": [
    "# using itertools.permutations\n",
    "from itertools import permutations\n",
    "class Solution:\n",
    "    def largestTimeFromDigits(self, arr: List[int]) -> str:\n",
    "        perms = permutations(sorted(arr,reverse=True))\n",
    "        maxt = 0\n",
    "        time = ''\n",
    "        for p in perms:\n",
    "            h = p[0]*10+p[1]\n",
    "            m = p[2]*10+p[3]\n",
    "            if h <= 23 and m <= 59:\n",
    "                maxt = max(maxt, h*100+m)\n",
    "                time = str(maxt).zfill(4)\n",
    "                time = time[:2]+':'+time[2:]\n",
    "        return time"
   ]
  },
  {
   "cell_type": "code",
   "execution_count": 77,
   "metadata": {},
   "outputs": [
    {
     "data": {
      "text/plain": [
       "'07:30'"
      ]
     },
     "execution_count": 77,
     "metadata": {},
     "output_type": "execute_result"
    }
   ],
   "source": [
    "soln = Solution()\n",
    "soln.largestTimeFromDigits(arr5)"
   ]
  },
  {
   "cell_type": "markdown",
   "metadata": {},
   "source": [
    "## Day 2: 9/2/20\n",
    "### 220. Contains Duplicate III\n",
    "MEDIUM  \n",
    "https://leetcode.com/problems/contains-duplicate-iii/  \n",
    "https://leetcode.com/explore/challenge/card/september-leetcoding-challenge/554/week-1-september-1st-september-7th/3446/"
   ]
  },
  {
   "cell_type": "markdown",
   "metadata": {},
   "source": [
    "Given an array of integers, find out whether there are two distinct indices *i* and *j* in the array such that the **absolute** difference between **nums[i]** and **nums[j]** is at most *t* and the absolute difference between *i* and *j* is at most *k*.\n",
    "\n",
    " \n",
    "\n",
    "**Example 1:**\n",
    "```\n",
    "Input: nums = [1,2,3,1], k = 3, t = 0\n",
    "Output: true\n",
    "```\n",
    "**Example 2:**\n",
    "```\n",
    "Input: nums = [1,0,1,1], k = 1, t = 2\n",
    "Output: true\n",
    "```\n",
    "**Example 3:**\n",
    "```\n",
    "Input: nums = [1,5,9,1,5,9], k = 2, t = 3\n",
    "Output: false\n",
    "```\n",
    "\n",
    "**Constraints:**\n",
    "\n",
    "* `0 <= nums.length <= 2 * 104`\n",
    "* `-231 <= nums[i] <= 231 - 1`\n",
    "* `0 <= k <= 104`\n",
    "* `0 <= t <= 231 - 1`"
   ]
  },
  {
   "cell_type": "code",
   "execution_count": 3,
   "metadata": {},
   "outputs": [],
   "source": [
    "nums1,k1,t1 = [1,2,3,1], 3, 0\n",
    "nums2,k2,t2 = [1,0,1,1], 1, 2\n",
    "nums3,k3,t3 = [1,5,9,1,5,9], 2, 3"
   ]
  },
  {
   "cell_type": "code",
   "execution_count": 4,
   "metadata": {},
   "outputs": [],
   "source": [
    "class Solution:\n",
    "    def containsNearbyAlmostDuplicate(self, nums: List[int], k: int, t: int) -> bool:\n",
    "        \n",
    "        return None"
   ]
  },
  {
   "cell_type": "code",
   "execution_count": 5,
   "metadata": {},
   "outputs": [],
   "source": [
    "soln = Solution()\n",
    "soln.containsNearbyAlmostDuplicate(nums1,k1,t1)"
   ]
  },
  {
   "cell_type": "code",
   "execution_count": null,
   "metadata": {},
   "outputs": [],
   "source": []
  },
  {
   "cell_type": "code",
   "execution_count": null,
   "metadata": {},
   "outputs": [],
   "source": []
  },
  {
   "cell_type": "markdown",
   "metadata": {},
   "source": [
    "## Day 14: 9/14/20\n",
    "### 198. House Robber\n",
    "EASY  \n",
    "https://leetcode.com/problems/house-robber/  \n",
    "https://leetcode.com/explore/challenge/card/september-leetcoding-challenge/555/week-2-september-8th-september-14th/3459/"
   ]
  },
  {
   "cell_type": "markdown",
   "metadata": {},
   "source": [
    "You are a professional robber planning to rob houses along a street. Each house has a certain amount of money stashed, the only constraint stopping you from robbing each of them is that adjacent houses have security system connected and **it will automatically contact the police if two adjacent houses were broken into on the same night**.\n",
    "\n",
    "Given a list of non-negative integers representing the amount of money of each house, determine the maximum amount of money you can rob tonight **without alerting the police**.\n",
    "\n",
    " \n",
    "\n",
    "**Example 1:**\n",
    "```\n",
    "Input: nums = [1,2,3,1]\n",
    "Output: 4\n",
    "Explanation: Rob house 1 (money = 1) and then rob house 3 (money = 3).\n",
    "             Total amount you can rob = 1 + 3 = 4.\n",
    "```\n",
    "**Example 2:**\n",
    "```\n",
    "Input: nums = [2,7,9,3,1]\n",
    "Output: 12\n",
    "Explanation: Rob house 1 (money = 2), rob house 3 (money = 9) and rob house 5 (money = 1).\n",
    "             Total amount you can rob = 2 + 9 + 1 = 12.\n",
    "```\n",
    "\n",
    "**Constraints:**\n",
    "\n",
    "* `0 <= nums.length <= 100`\n",
    "* `0 <= nums[i] <= 400`"
   ]
  },
  {
   "cell_type": "code",
   "execution_count": 8,
   "metadata": {},
   "outputs": [],
   "source": [
    "nums1 = [1,2,3,1]\n",
    "nums2 = [2,7,9,3,1]"
   ]
  },
  {
   "cell_type": "code",
   "execution_count": 16,
   "metadata": {},
   "outputs": [],
   "source": [
    "# array implementation\n",
    "class Solution:\n",
    "    def rob(self, nums: List[int]) -> int:\n",
    "        # edge cases\n",
    "        if len(nums)==0: return 0\n",
    "        if len(nums)==1: return nums[0]\n",
    "        if len(nums)==2: return max(nums[0],nums[1])\n",
    "        \n",
    "        dp = [0]*len(nums)\n",
    "        dp[0] = nums[0]\n",
    "        dp[1] = max(nums[0],nums[1])\n",
    "        for i in range(1,len(nums)):\n",
    "            dp[i] = max(dp[i-2]+nums[i],dp[i-1])\n",
    "        return dp[-1]"
   ]
  },
  {
   "cell_type": "code",
   "execution_count": 21,
   "metadata": {},
   "outputs": [],
   "source": [
    "# two variable implementation\n",
    "class Solution:\n",
    "    def rob(self, nums: List[int]) -> int:\n",
    "        prevh, prev2h, cur = 0, 0, 0\n",
    "        for n in nums:\n",
    "            cur = max(n+prev2h, prevh)\n",
    "            prev2h = prevh\n",
    "            prevh = cur\n",
    "        return cur"
   ]
  },
  {
   "cell_type": "code",
   "execution_count": 23,
   "metadata": {},
   "outputs": [
    {
     "data": {
      "text/plain": [
       "4"
      ]
     },
     "execution_count": 23,
     "metadata": {},
     "output_type": "execute_result"
    }
   ],
   "source": [
    "soln = Solution()\n",
    "soln.rob(nums1)"
   ]
  },
  {
   "cell_type": "markdown",
   "metadata": {},
   "source": [
    "## Day 15: 9/15/20\n",
    "### 58. Length of Last Word\n",
    "EASY  \n",
    "https://leetcode.com/problems/length-of-last-word/  \n",
    "https://leetcode.com/explore/challenge/card/september-leetcoding-challenge/556/week-3-september-15th-september-21st/3461/"
   ]
  },
  {
   "cell_type": "markdown",
   "metadata": {},
   "source": [
    "Given a string *s* consists of upper/lower-case alphabets and empty space characters `' '`, return the length of last word (last word means the last appearing word if we loop from left to right) in the string.\n",
    "\n",
    "If the last word does not exist, return 0.\n",
    "\n",
    "Note: A word is defined as a **maximal substring** consisting of non-space characters only.\n",
    "\n",
    "**Example:**\n",
    "```\n",
    "Input: \"Hello World\"\n",
    "Output: 5\n",
    "```"
   ]
  },
  {
   "cell_type": "code",
   "execution_count": 54,
   "metadata": {},
   "outputs": [],
   "source": [
    "s1 = \"Hello World\"\n",
    "s2 = ''\n",
    "s3 = 'hithisisonegiantrunonsentence'\n",
    "s4 = ' hithisisonegiantrunonsentence'"
   ]
  },
  {
   "cell_type": "code",
   "execution_count": 41,
   "metadata": {},
   "outputs": [],
   "source": [
    "# python builtins\n",
    "class Solution:\n",
    "    def lengthOfLastWord(self, s: str) -> int:\n",
    "        lst = s.split()\n",
    "        if len(lst)>0:\n",
    "            result = len(lst[-1])\n",
    "        else:\n",
    "            result = 0\n",
    "        return result"
   ]
  },
  {
   "cell_type": "code",
   "execution_count": 59,
   "metadata": {},
   "outputs": [],
   "source": [
    "# string traversal w/o str.split\n",
    "class Solution:\n",
    "    def lengthOfLastWord(self, s: str) -> int:\n",
    "        end = len(s)-1\n",
    "        while end > 0 and s[end] == ' ':\n",
    "            end -= 1\n",
    "        beg = end\n",
    "        while beg >= 0 and s[beg] != ' ':\n",
    "            beg -= 1\n",
    "        return end-beg"
   ]
  },
  {
   "cell_type": "code",
   "execution_count": 60,
   "metadata": {},
   "outputs": [
    {
     "data": {
      "text/plain": [
       "29"
      ]
     },
     "execution_count": 60,
     "metadata": {},
     "output_type": "execute_result"
    }
   ],
   "source": [
    "soln = Solution()\n",
    "soln.lengthOfLastWord(s4)"
   ]
  },
  {
   "cell_type": "markdown",
   "metadata": {},
   "source": [
    "## Day 16: 9/16/20\n",
    "### \n"
   ]
  },
  {
   "cell_type": "code",
   "execution_count": null,
   "metadata": {},
   "outputs": [],
   "source": []
  },
  {
   "cell_type": "code",
   "execution_count": null,
   "metadata": {},
   "outputs": [],
   "source": []
  },
  {
   "cell_type": "markdown",
   "metadata": {},
   "source": [
    "## Day 17: 9/17/20\n",
    "### 1041. Robot Bounded In Circle\n",
    "MEDIUM  \n",
    "https://leetcode.com/problems/robot-bounded-in-circle/  \n",
    "https://leetcode.com/explore/challenge/card/september-leetcoding-challenge/556/week-3-september-15th-september-21st/3463/"
   ]
  },
  {
   "cell_type": "markdown",
   "metadata": {},
   "source": [
    "On an infinite plane, a robot initially stands at `(0, 0)` and faces north.  The robot can receive one of three instructions:\n",
    "\n",
    "* `\"G\"`: go straight 1 unit;\n",
    "* `\"L\"`: turn 90 degrees to the left;\n",
    "* `\"R\"`: turn 90 degress to the right.\n",
    "\n",
    "The robot performs the `instructions` given in order, and repeats them forever.\n",
    "\n",
    "Return `true` if and only if there exists a circle in the plane such that the robot never leaves the circle.\n",
    "\n",
    "**Example 1:**\n",
    "```\n",
    "Input: \"GGLLGG\"\n",
    "Output: true\n",
    "Explanation: \n",
    "The robot moves from (0,0) to (0,2), turns 180 degrees, and then returns to (0,0).\n",
    "When repeating these instructions, the robot remains in the circle of radius 2 centered at the origin.\n",
    "```\n",
    "**Example 2:**\n",
    "```\n",
    "Input: \"GG\"\n",
    "Output: false\n",
    "Explanation: \n",
    "The robot moves north indefinitely.\n",
    "```\n",
    "**Example 3:**\n",
    "```\n",
    "Input: \"GL\"\n",
    "Output: true\n",
    "Explanation: \n",
    "The robot moves from (0, 0) -> (0, 1) -> (-1, 1) -> (-1, 0) -> (0, 0) -> ...\n",
    "```\n",
    "\n",
    "**Note:**\n",
    "\n",
    "* `1 <= instructions.length <= 100`\n",
    "* `instructions[i]` is in `{'G', 'L', 'R'}`"
   ]
  },
  {
   "cell_type": "markdown",
   "metadata": {},
   "source": [
    "**Study Notes:**\n",
    "* soluton: https://leetcode.com/problems/robot-bounded-in-circle/discuss/850437/Python-O(n)-solution-explained\n",
    "    * uses tricky `dy` and `dx` to track changes in direction. L and R rotations are handled by swapping these values\n",
    "* alternative: https://leetcode.com/problems/robot-bounded-in-circle/discuss/851316/Python-Solution\n",
    "    * uses dictionary lookups to explicitly set position deltas based on L and R rotation instructions\n",
    "* core idea: traverse `instructions` 4x to see if robot returns to original position\n",
    "    * optimization: just check after 1 cycle if robot returns to original position OR is NOT facing North "
   ]
  },
  {
   "cell_type": "code",
   "execution_count": 13,
   "metadata": {},
   "outputs": [],
   "source": [
    "instructions1 = \"GGLLGG\"\n",
    "instructions2 = \"GG\"\n",
    "instructions3 = \"GL\""
   ]
  },
  {
   "cell_type": "code",
   "execution_count": 46,
   "metadata": {},
   "outputs": [],
   "source": [
    "class Solution:\n",
    "    def isRobotBounded(self, instructions: str) -> bool:\n",
    "        dx, dy, x, y = 0, 1, 0, 0\n",
    "        for s in 4*instructions:\n",
    "            if s == \"G\":\n",
    "                x += dx\n",
    "                y += dy\n",
    "            if s == \"L\":\n",
    "                dx, dy = -dy, dx\n",
    "            if s == \"R\":\n",
    "                dx, dy = dy, -dx\n",
    "            \n",
    "        return (x,y) == (0,0) #or (dx,dy) != (0,1)"
   ]
  },
  {
   "cell_type": "code",
   "execution_count": 48,
   "metadata": {},
   "outputs": [
    {
     "data": {
      "text/plain": [
       "True"
      ]
     },
     "execution_count": 48,
     "metadata": {},
     "output_type": "execute_result"
    }
   ],
   "source": [
    "soln = Solution()\n",
    "soln.isRobotBounded(instructions3)"
   ]
  },
  {
   "cell_type": "markdown",
   "metadata": {},
   "source": [
    "## Day 9/18/20\n",
    "### 121. Best Time to Buy and Sell Stock\n",
    "EASY  \n",
    "https://leetcode.com/problems/best-time-to-buy-and-sell-stock/  \n",
    "https://leetcode.com/explore/challenge/card/september-leetcoding-challenge/556/week-3-september-15th-september-21st/3464/"
   ]
  },
  {
   "cell_type": "markdown",
   "metadata": {},
   "source": [
    "Say you have an array for which the $i^{th}$ element is the price of a given stock on day $i$.\n",
    "\n",
    "If you were only permitted to complete at most one transaction (i.e., buy one and sell one share of the stock), design an algorithm to find the maximum profit.\n",
    "\n",
    "Note that you cannot sell a stock before you buy one.\n",
    "\n",
    "**Example 1:**\n",
    "```\n",
    "Input: [7,1,5,3,6,4]\n",
    "Output: 5\n",
    "Explanation: Buy on day 2 (price = 1) and sell on day 5 (price = 6), profit = 6-1 = 5.\n",
    "             Not 7-1 = 6, as selling price needs to be larger than buying price.\n",
    "```\n",
    "**Example 2:**\n",
    "```\n",
    "Input: [7,6,4,3,1]\n",
    "Output: 0\n",
    "Explanation: In this case, no transaction is done, i.e. max profit = 0.\n",
    "```"
   ]
  },
  {
   "cell_type": "code",
   "execution_count": 61,
   "metadata": {},
   "outputs": [],
   "source": [
    "prices1 = [7,1,5,3,6,4]\n",
    "prices2 = [7,6,4,3,1]\n",
    "prices3 = []\n",
    "prices4 = [1,2]"
   ]
  },
  {
   "cell_type": "code",
   "execution_count": 65,
   "metadata": {},
   "outputs": [],
   "source": [
    "class Solution:\n",
    "    def maxProfit(self, prices: List[int]) -> int:\n",
    "        minprice = 999999\n",
    "        maxprofit = 0\n",
    "        for i in range(len(prices)):\n",
    "            minprice = min(minprice,prices[i])\n",
    "            maxprofit = max(maxprofit,prices[i]-minprice)\n",
    "        return maxprofit"
   ]
  },
  {
   "cell_type": "code",
   "execution_count": 70,
   "metadata": {},
   "outputs": [
    {
     "data": {
      "text/plain": [
       "1"
      ]
     },
     "execution_count": 70,
     "metadata": {},
     "output_type": "execute_result"
    }
   ],
   "source": [
    "soln = Solution()\n",
    "soln.maxProfit(prices4)"
   ]
  }
 ],
 "metadata": {
  "kernelspec": {
   "display_name": "base (Python 3.7.7)",
   "language": "python",
   "name": "base"
  },
  "language_info": {
   "codemirror_mode": {
    "name": "ipython",
    "version": 3
   },
   "file_extension": ".py",
   "mimetype": "text/x-python",
   "name": "python",
   "nbconvert_exporter": "python",
   "pygments_lexer": "ipython3",
   "version": "3.7.7"
  }
 },
 "nbformat": 4,
 "nbformat_minor": 4
}
