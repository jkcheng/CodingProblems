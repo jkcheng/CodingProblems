{
 "cells": [
  {
   "cell_type": "code",
   "execution_count": 1,
   "metadata": {},
   "outputs": [],
   "source": [
    "from typing import List"
   ]
  },
  {
   "cell_type": "code",
   "execution_count": 2,
   "metadata": {},
   "outputs": [],
   "source": [
    "# tree practice\n",
    "def constructtree(nodes, i, n):\n",
    "    root = None\n",
    "    if (i<n) and nodes[i] is not None:\n",
    "        root = nodes[i]\n",
    "        root.left = constructtree(nodes, 2*i+1, len(nodes))\n",
    "        root.rigth = constructtree(nodes, 2*i+2, len(nodes))\n",
    "    return root\n",
    "\n",
    "def printtree(root):\n",
    "    q = [root]\n",
    "    nodes = []\n",
    "    while any(q):\n",
    "        node = q.pop(0)\n",
    "        if node:\n",
    "            nodes.append(node.val)\n",
    "            if node.left or node.right or any(q):\n",
    "                q.append(node.left)\n",
    "                q.append(node.right)\n",
    "        elif any(q):\n",
    "            nodes.append('null')\n",
    "    return nodes"
   ]
  },
  {
   "cell_type": "markdown",
   "metadata": {},
   "source": [
    "## Day 1: 9/1/20\n",
    "### 949. Largest Time for Given Digits\n",
    "MEDIUM  \n",
    "https://leetcode.com/problems/largest-time-for-given-digits/  \n",
    "https://leetcode.com/explore/challenge/card/september-leetcoding-challenge/554/week-1-september-1st-september-7th/3445/"
   ]
  },
  {
   "cell_type": "markdown",
   "metadata": {},
   "source": [
    "Given an array `arr` of 4 digits, find the latest 24-hour time that can be made using each digit **exactly once**.\n",
    "\n",
    "24-hour times are formatted as `\"HH:MM\"`, where `HH` is between `00` and `23`, and `MM` is between `00` and `59`. The earliest 24-hour time is `00:00`, and the latest is `23:59`.\n",
    "\n",
    "Return the *latest 24-hour time in `\"HH:MM\"` format*.  If no valid time can be made, return an empty string.\n",
    "\n",
    "\n",
    "\n",
    "**Example 1:**\n",
    "```\n",
    "Input: A = [1,2,3,4]\n",
    "Output: \"23:41\"\n",
    "Explanation: The valid 24-hour times are \"12:34\", \"12:43\", \"13:24\", \"13:42\", \"14:23\", \"14:32\", \"21:34\", \"21:43\", \"23:14\", and \"23:41\". Of these times, \"23:41\" is the latest.\n",
    "```\n",
    "**Example 2:**\n",
    "```\n",
    "Input: A = [5,5,5,5]\n",
    "Output: \"\"\n",
    "Explanation: There are no valid 24-hour times as \"55:55\" is not valid.\n",
    "```\n",
    "**Example 3:**\n",
    "```\n",
    "Input: A = [0,0,0,0]\n",
    "Output: \"00:00\"\n",
    "```\n",
    "**Example 4:**\n",
    "```\n",
    "Input: A = [0,0,1,0]\n",
    "Output: \"10:00\"\n",
    "```\n",
    "\n",
    "**Constraints:**\n",
    "\n",
    "* `arr.length == 4`\n",
    "* `0 <= arr[i] <= 9`"
   ]
  },
  {
   "cell_type": "markdown",
   "metadata": {},
   "source": [
    "**Study Notes:**\n",
    "* can either use backtracking or brute force permutation checking solution\n",
    "    * run time of brute force isn't that bad since there is at most 4 digits\n",
    "* permutation solution: https://leetcode.com/problems/largest-time-for-given-digits/discuss/822874/Python-Check-all-permutations-explained"
   ]
  },
  {
   "cell_type": "code",
   "execution_count": 76,
   "metadata": {},
   "outputs": [],
   "source": [
    "arr1 = [1,2,3,4]\n",
    "arr2 = [5,5,5,5]\n",
    "arr3 = [0,0,0,0]\n",
    "arr4 = [0,0,1,0]\n",
    "arr5 = [0,3,0,7]"
   ]
  },
  {
   "cell_type": "code",
   "execution_count": 71,
   "metadata": {},
   "outputs": [],
   "source": [
    "# using itertools.permutations\n",
    "from itertools import permutations\n",
    "class Solution:\n",
    "    def largestTimeFromDigits(self, arr: List[int]) -> str:\n",
    "        perms = permutations(sorted(arr,reverse=True))\n",
    "        maxt = 0\n",
    "        time = ''\n",
    "        for p in perms:\n",
    "            h = p[0]*10+p[1]\n",
    "            m = p[2]*10+p[3]\n",
    "            if h <= 23 and m <= 59:\n",
    "                maxt = max(maxt, h*100+m)\n",
    "                time = str(maxt).zfill(4)\n",
    "                time = time[:2]+':'+time[2:]\n",
    "        return time"
   ]
  },
  {
   "cell_type": "code",
   "execution_count": 77,
   "metadata": {},
   "outputs": [
    {
     "data": {
      "text/plain": [
       "'07:30'"
      ]
     },
     "execution_count": 77,
     "metadata": {},
     "output_type": "execute_result"
    }
   ],
   "source": [
    "soln = Solution()\n",
    "soln.largestTimeFromDigits(arr5)"
   ]
  },
  {
   "cell_type": "markdown",
   "metadata": {},
   "source": [
    "## Day 2: 9/2/20\n",
    "### 220. Contains Duplicate III\n",
    "MEDIUM  \n",
    "https://leetcode.com/problems/contains-duplicate-iii/  \n",
    "https://leetcode.com/explore/challenge/card/september-leetcoding-challenge/554/week-1-september-1st-september-7th/3446/"
   ]
  },
  {
   "cell_type": "markdown",
   "metadata": {},
   "source": [
    "Given an array of integers, find out whether there are two distinct indices *i* and *j* in the array such that the **absolute** difference between **nums[i]** and **nums[j]** is at most *t* and the absolute difference between *i* and *j* is at most *k*.\n",
    "\n",
    " \n",
    "\n",
    "**Example 1:**\n",
    "```\n",
    "Input: nums = [1,2,3,1], k = 3, t = 0\n",
    "Output: true\n",
    "```\n",
    "**Example 2:**\n",
    "```\n",
    "Input: nums = [1,0,1,1], k = 1, t = 2\n",
    "Output: true\n",
    "```\n",
    "**Example 3:**\n",
    "```\n",
    "Input: nums = [1,5,9,1,5,9], k = 2, t = 3\n",
    "Output: false\n",
    "```\n",
    "\n",
    "**Constraints:**\n",
    "\n",
    "* `0 <= nums.length <= 2 * 104`\n",
    "* `-231 <= nums[i] <= 231 - 1`\n",
    "* `0 <= k <= 104`\n",
    "* `0 <= t <= 231 - 1`"
   ]
  },
  {
   "cell_type": "code",
   "execution_count": 3,
   "metadata": {},
   "outputs": [],
   "source": [
    "nums1,k1,t1 = [1,2,3,1], 3, 0\n",
    "nums2,k2,t2 = [1,0,1,1], 1, 2\n",
    "nums3,k3,t3 = [1,5,9,1,5,9], 2, 3"
   ]
  },
  {
   "cell_type": "code",
   "execution_count": 4,
   "metadata": {},
   "outputs": [],
   "source": [
    "class Solution:\n",
    "    def containsNearbyAlmostDuplicate(self, nums: List[int], k: int, t: int) -> bool:\n",
    "        \n",
    "        return None"
   ]
  },
  {
   "cell_type": "code",
   "execution_count": 5,
   "metadata": {},
   "outputs": [],
   "source": [
    "soln = Solution()\n",
    "soln.containsNearbyAlmostDuplicate(nums1,k1,t1)"
   ]
  },
  {
   "cell_type": "code",
   "execution_count": null,
   "metadata": {},
   "outputs": [],
   "source": []
  },
  {
   "cell_type": "code",
   "execution_count": null,
   "metadata": {},
   "outputs": [],
   "source": []
  },
  {
   "cell_type": "markdown",
   "metadata": {},
   "source": [
    "## Day 14: 9/14/20\n",
    "### 198. House Robber\n",
    "EASY  \n",
    "https://leetcode.com/problems/house-robber/  \n",
    "https://leetcode.com/explore/challenge/card/september-leetcoding-challenge/555/week-2-september-8th-september-14th/3459/"
   ]
  },
  {
   "cell_type": "markdown",
   "metadata": {},
   "source": [
    "You are a professional robber planning to rob houses along a street. Each house has a certain amount of money stashed, the only constraint stopping you from robbing each of them is that adjacent houses have security system connected and **it will automatically contact the police if two adjacent houses were broken into on the same night**.\n",
    "\n",
    "Given a list of non-negative integers representing the amount of money of each house, determine the maximum amount of money you can rob tonight **without alerting the police**.\n",
    "\n",
    " \n",
    "\n",
    "**Example 1:**\n",
    "```\n",
    "Input: nums = [1,2,3,1]\n",
    "Output: 4\n",
    "Explanation: Rob house 1 (money = 1) and then rob house 3 (money = 3).\n",
    "             Total amount you can rob = 1 + 3 = 4.\n",
    "```\n",
    "**Example 2:**\n",
    "```\n",
    "Input: nums = [2,7,9,3,1]\n",
    "Output: 12\n",
    "Explanation: Rob house 1 (money = 2), rob house 3 (money = 9) and rob house 5 (money = 1).\n",
    "             Total amount you can rob = 2 + 9 + 1 = 12.\n",
    "```\n",
    "\n",
    "**Constraints:**\n",
    "\n",
    "* `0 <= nums.length <= 100`\n",
    "* `0 <= nums[i] <= 400`"
   ]
  },
  {
   "cell_type": "code",
   "execution_count": 8,
   "metadata": {},
   "outputs": [],
   "source": [
    "nums1 = [1,2,3,1]\n",
    "nums2 = [2,7,9,3,1]"
   ]
  },
  {
   "cell_type": "code",
   "execution_count": 16,
   "metadata": {},
   "outputs": [],
   "source": [
    "# array implementation\n",
    "class Solution:\n",
    "    def rob(self, nums: List[int]) -> int:\n",
    "        # edge cases\n",
    "        if len(nums)==0: return 0\n",
    "        if len(nums)==1: return nums[0]\n",
    "        if len(nums)==2: return max(nums[0],nums[1])\n",
    "        \n",
    "        dp = [0]*len(nums)\n",
    "        dp[0] = nums[0]\n",
    "        dp[1] = max(nums[0],nums[1])\n",
    "        for i in range(1,len(nums)):\n",
    "            dp[i] = max(dp[i-2]+nums[i],dp[i-1])\n",
    "        return dp[-1]"
   ]
  },
  {
   "cell_type": "code",
   "execution_count": 21,
   "metadata": {},
   "outputs": [],
   "source": [
    "# two variable implementation\n",
    "class Solution:\n",
    "    def rob(self, nums: List[int]) -> int:\n",
    "        prevh, prev2h, cur = 0, 0, 0\n",
    "        for n in nums:\n",
    "            cur = max(n+prev2h, prevh)\n",
    "            prev2h = prevh\n",
    "            prevh = cur\n",
    "        return cur"
   ]
  },
  {
   "cell_type": "code",
   "execution_count": 23,
   "metadata": {},
   "outputs": [
    {
     "data": {
      "text/plain": [
       "4"
      ]
     },
     "execution_count": 23,
     "metadata": {},
     "output_type": "execute_result"
    }
   ],
   "source": [
    "soln = Solution()\n",
    "soln.rob(nums1)"
   ]
  },
  {
   "cell_type": "markdown",
   "metadata": {},
   "source": [
    "## Day 15: 9/15/20\n",
    "### 58. Length of Last Word\n",
    "EASY  \n",
    "https://leetcode.com/problems/length-of-last-word/  \n",
    "https://leetcode.com/explore/challenge/card/september-leetcoding-challenge/556/week-3-september-15th-september-21st/3461/"
   ]
  },
  {
   "cell_type": "markdown",
   "metadata": {},
   "source": [
    "Given a string *s* consists of upper/lower-case alphabets and empty space characters `' '`, return the length of last word (last word means the last appearing word if we loop from left to right) in the string.\n",
    "\n",
    "If the last word does not exist, return 0.\n",
    "\n",
    "Note: A word is defined as a **maximal substring** consisting of non-space characters only.\n",
    "\n",
    "**Example:**\n",
    "```\n",
    "Input: \"Hello World\"\n",
    "Output: 5\n",
    "```"
   ]
  },
  {
   "cell_type": "code",
   "execution_count": 54,
   "metadata": {},
   "outputs": [],
   "source": [
    "s1 = \"Hello World\"\n",
    "s2 = ''\n",
    "s3 = 'hithisisonegiantrunonsentence'\n",
    "s4 = ' hithisisonegiantrunonsentence'"
   ]
  },
  {
   "cell_type": "code",
   "execution_count": 41,
   "metadata": {},
   "outputs": [],
   "source": [
    "# python builtins\n",
    "class Solution:\n",
    "    def lengthOfLastWord(self, s: str) -> int:\n",
    "        lst = s.split()\n",
    "        if len(lst)>0:\n",
    "            result = len(lst[-1])\n",
    "        else:\n",
    "            result = 0\n",
    "        return result"
   ]
  },
  {
   "cell_type": "code",
   "execution_count": 59,
   "metadata": {},
   "outputs": [],
   "source": [
    "# string traversal w/o str.split\n",
    "class Solution:\n",
    "    def lengthOfLastWord(self, s: str) -> int:\n",
    "        end = len(s)-1\n",
    "        while end > 0 and s[end] == ' ':\n",
    "            end -= 1\n",
    "        beg = end\n",
    "        while beg >= 0 and s[beg] != ' ':\n",
    "            beg -= 1\n",
    "        return end-beg"
   ]
  },
  {
   "cell_type": "code",
   "execution_count": 60,
   "metadata": {},
   "outputs": [
    {
     "data": {
      "text/plain": [
       "29"
      ]
     },
     "execution_count": 60,
     "metadata": {},
     "output_type": "execute_result"
    }
   ],
   "source": [
    "soln = Solution()\n",
    "soln.lengthOfLastWord(s4)"
   ]
  },
  {
   "cell_type": "code",
   "execution_count": null,
   "metadata": {},
   "outputs": [],
   "source": []
  }
 ],
 "metadata": {
  "kernelspec": {
   "display_name": "base (Python 3.7.7)",
   "language": "python",
   "name": "base"
  },
  "language_info": {
   "codemirror_mode": {
    "name": "ipython",
    "version": 3
   },
   "file_extension": ".py",
   "mimetype": "text/x-python",
   "name": "python",
   "nbconvert_exporter": "python",
   "pygments_lexer": "ipython3",
   "version": "3.7.7"
  }
 },
 "nbformat": 4,
 "nbformat_minor": 4
}
