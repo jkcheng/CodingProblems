{
 "cells": [
  {
   "cell_type": "code",
   "execution_count": 1,
   "metadata": {},
   "outputs": [],
   "source": [
    "from typing import List"
   ]
  },
  {
   "cell_type": "code",
   "execution_count": 2,
   "metadata": {},
   "outputs": [],
   "source": [
    "# tree practice\n",
    "def constructtree(nodes, i, n):\n",
    "    root = None\n",
    "    if (i<n) and nodes[i] is not None:\n",
    "        root = nodes[i]\n",
    "        root.left = constructtree(nodes, 2*i+1, len(nodes))\n",
    "        root.rigth = constructtree(nodes, 2*i+2, len(nodes))\n",
    "    return root\n",
    "\n",
    "def printtree(root):\n",
    "    q = [root]\n",
    "    nodes = []\n",
    "    while any(q):\n",
    "        node = q.pop(0)\n",
    "        if node:\n",
    "            nodes.append(node.val)\n",
    "            if node.left or node.right or any(q):\n",
    "                q.append(node.left)\n",
    "                q.append(node.right)\n",
    "        elif any(q):\n",
    "            nodes.append('null')\n",
    "    return nodes"
   ]
  },
  {
   "cell_type": "markdown",
   "metadata": {},
   "source": [
    "## Day 1: 9/1/20\n",
    "### 949. Largest Time for Given Digits\n",
    "MEDIUM  \n",
    "https://leetcode.com/problems/largest-time-for-given-digits/  \n",
    "https://leetcode.com/explore/challenge/card/september-leetcoding-challenge/554/week-1-september-1st-september-7th/3445/"
   ]
  },
  {
   "cell_type": "markdown",
   "metadata": {},
   "source": [
    "Given an array `arr` of 4 digits, find the latest 24-hour time that can be made using each digit **exactly once**.\n",
    "\n",
    "24-hour times are formatted as `\"HH:MM\"`, where `HH` is between `00` and `23`, and `MM` is between `00` and `59`. The earliest 24-hour time is `00:00`, and the latest is `23:59`.\n",
    "\n",
    "Return the *latest 24-hour time in `\"HH:MM\"` format*.  If no valid time can be made, return an empty string.\n",
    "\n",
    "\n",
    "\n",
    "**Example 1:**\n",
    "```\n",
    "Input: A = [1,2,3,4]\n",
    "Output: \"23:41\"\n",
    "Explanation: The valid 24-hour times are \"12:34\", \"12:43\", \"13:24\", \"13:42\", \"14:23\", \"14:32\", \"21:34\", \"21:43\", \"23:14\", and \"23:41\". Of these times, \"23:41\" is the latest.\n",
    "```\n",
    "**Example 2:**\n",
    "```\n",
    "Input: A = [5,5,5,5]\n",
    "Output: \"\"\n",
    "Explanation: There are no valid 24-hour times as \"55:55\" is not valid.\n",
    "```\n",
    "**Example 3:**\n",
    "```\n",
    "Input: A = [0,0,0,0]\n",
    "Output: \"00:00\"\n",
    "```\n",
    "**Example 4:**\n",
    "```\n",
    "Input: A = [0,0,1,0]\n",
    "Output: \"10:00\"\n",
    "```\n",
    "\n",
    "**Constraints:**\n",
    "\n",
    "* `arr.length == 4`\n",
    "* `0 <= arr[i] <= 9`"
   ]
  },
  {
   "cell_type": "markdown",
   "metadata": {},
   "source": [
    "**Study Notes:**\n",
    "* can either use backtracking or brute force permutation checking solution\n",
    "    * run time of brute force isn't that bad since there is at most 4 digits\n",
    "* permutation solution: https://leetcode.com/problems/largest-time-for-given-digits/discuss/822874/Python-Check-all-permutations-explained"
   ]
  },
  {
   "cell_type": "code",
   "execution_count": 76,
   "metadata": {},
   "outputs": [],
   "source": [
    "arr1 = [1,2,3,4]\n",
    "arr2 = [5,5,5,5]\n",
    "arr3 = [0,0,0,0]\n",
    "arr4 = [0,0,1,0]\n",
    "arr5 = [0,3,0,7]"
   ]
  },
  {
   "cell_type": "code",
   "execution_count": 71,
   "metadata": {},
   "outputs": [],
   "source": [
    "# using itertools.permutations\n",
    "from itertools import permutations\n",
    "class Solution:\n",
    "    def largestTimeFromDigits(self, arr: List[int]) -> str:\n",
    "        perms = permutations(sorted(arr,reverse=True))\n",
    "        maxt = 0\n",
    "        time = ''\n",
    "        for p in perms:\n",
    "            h = p[0]*10+p[1]\n",
    "            m = p[2]*10+p[3]\n",
    "            if h <= 23 and m <= 59:\n",
    "                maxt = max(maxt, h*100+m)\n",
    "                time = str(maxt).zfill(4)\n",
    "                time = time[:2]+':'+time[2:]\n",
    "        return time"
   ]
  },
  {
   "cell_type": "code",
   "execution_count": 77,
   "metadata": {},
   "outputs": [
    {
     "data": {
      "text/plain": [
       "'07:30'"
      ]
     },
     "execution_count": 77,
     "metadata": {},
     "output_type": "execute_result"
    }
   ],
   "source": [
    "soln = Solution()\n",
    "soln.largestTimeFromDigits(arr5)"
   ]
  },
  {
   "cell_type": "markdown",
   "metadata": {},
   "source": [
    "## Day 2: 9/2/20\n",
    "### 220. Contains Duplicate III\n",
    "MEDIUM  \n",
    "https://leetcode.com/problems/contains-duplicate-iii/  \n",
    "https://leetcode.com/explore/challenge/card/september-leetcoding-challenge/554/week-1-september-1st-september-7th/3446/"
   ]
  },
  {
   "cell_type": "markdown",
   "metadata": {},
   "source": [
    "Given an array of integers, find out whether there are two distinct indices *i* and *j* in the array such that the **absolute** difference between **nums[i]** and **nums[j]** is at most *t* and the absolute difference between *i* and *j* is at most *k*.\n",
    "\n",
    " \n",
    "\n",
    "**Example 1:**\n",
    "```\n",
    "Input: nums = [1,2,3,1], k = 3, t = 0\n",
    "Output: true\n",
    "```\n",
    "**Example 2:**\n",
    "```\n",
    "Input: nums = [1,0,1,1], k = 1, t = 2\n",
    "Output: true\n",
    "```\n",
    "**Example 3:**\n",
    "```\n",
    "Input: nums = [1,5,9,1,5,9], k = 2, t = 3\n",
    "Output: false\n",
    "```\n",
    "\n",
    "**Constraints:**\n",
    "\n",
    "* `0 <= nums.length <= 2 * 104`\n",
    "* `-231 <= nums[i] <= 231 - 1`\n",
    "* `0 <= k <= 104`\n",
    "* `0 <= t <= 231 - 1`"
   ]
  },
  {
   "cell_type": "code",
   "execution_count": 3,
   "metadata": {},
   "outputs": [],
   "source": [
    "nums1,k1,t1 = [1,2,3,1], 3, 0\n",
    "nums2,k2,t2 = [1,0,1,1], 1, 2\n",
    "nums3,k3,t3 = [1,5,9,1,5,9], 2, 3"
   ]
  },
  {
   "cell_type": "code",
   "execution_count": 4,
   "metadata": {},
   "outputs": [],
   "source": [
    "class Solution:\n",
    "    def containsNearbyAlmostDuplicate(self, nums: List[int], k: int, t: int) -> bool:\n",
    "        \n",
    "        return None"
   ]
  },
  {
   "cell_type": "code",
   "execution_count": 5,
   "metadata": {},
   "outputs": [],
   "source": [
    "soln = Solution()\n",
    "soln.containsNearbyAlmostDuplicate(nums1,k1,t1)"
   ]
  },
  {
   "cell_type": "markdown",
   "metadata": {},
   "source": [
    "## Day 3: 9/3/20\n",
    "### 459. Repeated Substring Pattern\n",
    "EASY  \n",
    "https://leetcode.com/problems/repeated-substring-pattern/  \n",
    "https://leetcode.com/explore/challenge/card/september-leetcoding-challenge/554/week-1-september-1st-september-7th/3447/"
   ]
  },
  {
   "cell_type": "markdown",
   "metadata": {},
   "source": [
    "Given a non-empty string check if it can be constructed by taking a substring of it and appending multiple copies of the substring together. You may assume the given string consists of lowercase English letters only and its length will not exceed 10000.\n",
    "\n",
    " \n",
    "\n",
    "**Example 1:**\n",
    "```\n",
    "Input: \"abab\"\n",
    "Output: True\n",
    "Explanation: It's the substring \"ab\" twice.\n",
    "```\n",
    "**Example 2:**\n",
    "```\n",
    "Input: \"aba\"\n",
    "Output: False\n",
    "```\n",
    "**Example 3:**\n",
    "```\n",
    "Input: \"abcabcabcabc\"\n",
    "Output: True\n",
    "Explanation: It's the substring \"abc\" four times. (And the substring \"abcabc\" twice.)\n",
    "```"
   ]
  },
  {
   "cell_type": "markdown",
   "metadata": {},
   "source": [
    "**Study Notes:**\n",
    "* two solutions: https://leetcode.com/problems/repeated-substring-pattern/discuss/826121/Python-2-solutions1-oneliner-explained\n",
    "    * direct checking = check each substring from `s[:1]` to `s[:n//2+i]` (halfway) to see if we can multiply it by some integer `n//i` to get `s` again\n",
    "    * tricky solution = if we double `s` and cut off the two characters at the end (`s[0]` and `s[-1]1`) then `s` should still be in `2*s` if `s` is a repeated substring\n",
    "        * further explanation: If `s` is made up of `n` subunits (with `n > 1`), then `2*s` should contain `2*n` subunits. Thus `s[1:-1]` should contain `2*n-2` subunits (the two at the ends are ruined by removing characters). There should be **at least** `n` subunits inside `s[1:-1]`, so therefore `s` must be in `s[1:-1]`"
   ]
  },
  {
   "cell_type": "code",
   "execution_count": 70,
   "metadata": {},
   "outputs": [],
   "source": [
    "s1 = \"abab\"\n",
    "s2 = \"aba\"\n",
    "s3 = \"abcabcabcabc\" # true\n",
    "s4 = \"abac\" # false\n",
    "s5 = \"ababab\" # true\n",
    "s6 = \"abdaabdaabda\" #true\n",
    "s7 = \"abaaab\" # false\n",
    "s8 = \"abaaabaa\" # true\n",
    "s9 = 'abcabcabc' # true"
   ]
  },
  {
   "cell_type": "code",
   "execution_count": 93,
   "metadata": {},
   "outputs": [],
   "source": [
    "# direct checking\n",
    "class Solution:\n",
    "    def repeatedSubstringPattern(self, s: str) -> bool:\n",
    "        l = len(s)\n",
    "        for i in range(1,l//2+1):\n",
    "            if (l % i == 0) and s[:i]*(l//i) == s:\n",
    "                return True\n",
    "        return False"
   ]
  },
  {
   "cell_type": "code",
   "execution_count": 95,
   "metadata": {},
   "outputs": [],
   "source": [
    "# tricky doubling approach\n",
    "# NOTE: does NOT work if s is an empty string, only solution 1 works\n",
    "class Solution:\n",
    "    def repeatedSubstringPattern(self, s: str) -> bool:\n",
    "        return s in (2*s)[1:-1]"
   ]
  },
  {
   "cell_type": "code",
   "execution_count": 101,
   "metadata": {},
   "outputs": [
    {
     "data": {
      "text/plain": [
       "True"
      ]
     },
     "execution_count": 101,
     "metadata": {},
     "output_type": "execute_result"
    }
   ],
   "source": [
    "soln = Solution()\n",
    "soln.repeatedSubstringPattern(s8)"
   ]
  },
  {
   "cell_type": "code",
   "execution_count": null,
   "metadata": {},
   "outputs": [],
   "source": []
  },
  {
   "cell_type": "code",
   "execution_count": null,
   "metadata": {},
   "outputs": [],
   "source": []
  },
  {
   "cell_type": "markdown",
   "metadata": {},
   "source": [
    "## Day 14: 9/14/20\n",
    "### 198. House Robber\n",
    "EASY  \n",
    "https://leetcode.com/problems/house-robber/  \n",
    "https://leetcode.com/explore/challenge/card/september-leetcoding-challenge/555/week-2-september-8th-september-14th/3459/"
   ]
  },
  {
   "cell_type": "markdown",
   "metadata": {},
   "source": [
    "You are a professional robber planning to rob houses along a street. Each house has a certain amount of money stashed, the only constraint stopping you from robbing each of them is that adjacent houses have security system connected and **it will automatically contact the police if two adjacent houses were broken into on the same night**.\n",
    "\n",
    "Given a list of non-negative integers representing the amount of money of each house, determine the maximum amount of money you can rob tonight **without alerting the police**.\n",
    "\n",
    " \n",
    "\n",
    "**Example 1:**\n",
    "```\n",
    "Input: nums = [1,2,3,1]\n",
    "Output: 4\n",
    "Explanation: Rob house 1 (money = 1) and then rob house 3 (money = 3).\n",
    "             Total amount you can rob = 1 + 3 = 4.\n",
    "```\n",
    "**Example 2:**\n",
    "```\n",
    "Input: nums = [2,7,9,3,1]\n",
    "Output: 12\n",
    "Explanation: Rob house 1 (money = 2), rob house 3 (money = 9) and rob house 5 (money = 1).\n",
    "             Total amount you can rob = 2 + 9 + 1 = 12.\n",
    "```\n",
    "\n",
    "**Constraints:**\n",
    "\n",
    "* `0 <= nums.length <= 100`\n",
    "* `0 <= nums[i] <= 400`"
   ]
  },
  {
   "cell_type": "code",
   "execution_count": 8,
   "metadata": {},
   "outputs": [],
   "source": [
    "nums1 = [1,2,3,1]\n",
    "nums2 = [2,7,9,3,1]"
   ]
  },
  {
   "cell_type": "code",
   "execution_count": 16,
   "metadata": {},
   "outputs": [],
   "source": [
    "# array implementation\n",
    "class Solution:\n",
    "    def rob(self, nums: List[int]) -> int:\n",
    "        # edge cases\n",
    "        if len(nums)==0: return 0\n",
    "        if len(nums)==1: return nums[0]\n",
    "        if len(nums)==2: return max(nums[0],nums[1])\n",
    "        \n",
    "        dp = [0]*len(nums)\n",
    "        dp[0] = nums[0]\n",
    "        dp[1] = max(nums[0],nums[1])\n",
    "        for i in range(1,len(nums)):\n",
    "            dp[i] = max(dp[i-2]+nums[i],dp[i-1])\n",
    "        return dp[-1]"
   ]
  },
  {
   "cell_type": "code",
   "execution_count": 21,
   "metadata": {},
   "outputs": [],
   "source": [
    "# two variable implementation\n",
    "class Solution:\n",
    "    def rob(self, nums: List[int]) -> int:\n",
    "        prevh, prev2h, cur = 0, 0, 0\n",
    "        for n in nums:\n",
    "            cur = max(n+prev2h, prevh)\n",
    "            prev2h = prevh\n",
    "            prevh = cur\n",
    "        return cur"
   ]
  },
  {
   "cell_type": "code",
   "execution_count": 23,
   "metadata": {},
   "outputs": [
    {
     "data": {
      "text/plain": [
       "4"
      ]
     },
     "execution_count": 23,
     "metadata": {},
     "output_type": "execute_result"
    }
   ],
   "source": [
    "soln = Solution()\n",
    "soln.rob(nums1)"
   ]
  },
  {
   "cell_type": "markdown",
   "metadata": {},
   "source": [
    "## Day 15: 9/15/20\n",
    "### 58. Length of Last Word\n",
    "EASY  \n",
    "https://leetcode.com/problems/length-of-last-word/  \n",
    "https://leetcode.com/explore/challenge/card/september-leetcoding-challenge/556/week-3-september-15th-september-21st/3461/"
   ]
  },
  {
   "cell_type": "markdown",
   "metadata": {},
   "source": [
    "Given a string *s* consists of upper/lower-case alphabets and empty space characters `' '`, return the length of last word (last word means the last appearing word if we loop from left to right) in the string.\n",
    "\n",
    "If the last word does not exist, return 0.\n",
    "\n",
    "Note: A word is defined as a **maximal substring** consisting of non-space characters only.\n",
    "\n",
    "**Example:**\n",
    "```\n",
    "Input: \"Hello World\"\n",
    "Output: 5\n",
    "```"
   ]
  },
  {
   "cell_type": "code",
   "execution_count": 54,
   "metadata": {},
   "outputs": [],
   "source": [
    "s1 = \"Hello World\"\n",
    "s2 = ''\n",
    "s3 = 'hithisisonegiantrunonsentence'\n",
    "s4 = ' hithisisonegiantrunonsentence'"
   ]
  },
  {
   "cell_type": "code",
   "execution_count": 41,
   "metadata": {},
   "outputs": [],
   "source": [
    "# python builtins\n",
    "class Solution:\n",
    "    def lengthOfLastWord(self, s: str) -> int:\n",
    "        lst = s.split()\n",
    "        if len(lst)>0:\n",
    "            result = len(lst[-1])\n",
    "        else:\n",
    "            result = 0\n",
    "        return result"
   ]
  },
  {
   "cell_type": "code",
   "execution_count": 59,
   "metadata": {},
   "outputs": [],
   "source": [
    "# string traversal w/o str.split\n",
    "class Solution:\n",
    "    def lengthOfLastWord(self, s: str) -> int:\n",
    "        end = len(s)-1\n",
    "        while end > 0 and s[end] == ' ':\n",
    "            end -= 1\n",
    "        beg = end\n",
    "        while beg >= 0 and s[beg] != ' ':\n",
    "            beg -= 1\n",
    "        return end-beg"
   ]
  },
  {
   "cell_type": "code",
   "execution_count": 60,
   "metadata": {},
   "outputs": [
    {
     "data": {
      "text/plain": [
       "29"
      ]
     },
     "execution_count": 60,
     "metadata": {},
     "output_type": "execute_result"
    }
   ],
   "source": [
    "soln = Solution()\n",
    "soln.lengthOfLastWord(s4)"
   ]
  },
  {
   "cell_type": "markdown",
   "metadata": {},
   "source": [
    "## Day 16: 9/16/20\n",
    "### \n"
   ]
  },
  {
   "cell_type": "code",
   "execution_count": null,
   "metadata": {},
   "outputs": [],
   "source": []
  },
  {
   "cell_type": "code",
   "execution_count": null,
   "metadata": {},
   "outputs": [],
   "source": []
  },
  {
   "cell_type": "markdown",
   "metadata": {},
   "source": [
    "## Day 17: 9/17/20\n",
    "### 1041. Robot Bounded In Circle\n",
    "MEDIUM  \n",
    "https://leetcode.com/problems/robot-bounded-in-circle/  \n",
    "https://leetcode.com/explore/challenge/card/september-leetcoding-challenge/556/week-3-september-15th-september-21st/3463/"
   ]
  },
  {
   "cell_type": "markdown",
   "metadata": {},
   "source": [
    "On an infinite plane, a robot initially stands at `(0, 0)` and faces north.  The robot can receive one of three instructions:\n",
    "\n",
    "* `\"G\"`: go straight 1 unit;\n",
    "* `\"L\"`: turn 90 degrees to the left;\n",
    "* `\"R\"`: turn 90 degress to the right.\n",
    "\n",
    "The robot performs the `instructions` given in order, and repeats them forever.\n",
    "\n",
    "Return `true` if and only if there exists a circle in the plane such that the robot never leaves the circle.\n",
    "\n",
    "**Example 1:**\n",
    "```\n",
    "Input: \"GGLLGG\"\n",
    "Output: true\n",
    "Explanation: \n",
    "The robot moves from (0,0) to (0,2), turns 180 degrees, and then returns to (0,0).\n",
    "When repeating these instructions, the robot remains in the circle of radius 2 centered at the origin.\n",
    "```\n",
    "**Example 2:**\n",
    "```\n",
    "Input: \"GG\"\n",
    "Output: false\n",
    "Explanation: \n",
    "The robot moves north indefinitely.\n",
    "```\n",
    "**Example 3:**\n",
    "```\n",
    "Input: \"GL\"\n",
    "Output: true\n",
    "Explanation: \n",
    "The robot moves from (0, 0) -> (0, 1) -> (-1, 1) -> (-1, 0) -> (0, 0) -> ...\n",
    "```\n",
    "\n",
    "**Note:**\n",
    "\n",
    "* `1 <= instructions.length <= 100`\n",
    "* `instructions[i]` is in `{'G', 'L', 'R'}`"
   ]
  },
  {
   "cell_type": "markdown",
   "metadata": {},
   "source": [
    "**Study Notes:**\n",
    "* soluton: https://leetcode.com/problems/robot-bounded-in-circle/discuss/850437/Python-O(n)-solution-explained\n",
    "    * uses tricky `dy` and `dx` to track changes in direction. L and R rotations are handled by swapping these values\n",
    "* alternative: https://leetcode.com/problems/robot-bounded-in-circle/discuss/851316/Python-Solution\n",
    "    * uses dictionary lookups to explicitly set position deltas based on L and R rotation instructions\n",
    "* core idea: traverse `instructions` 4x to see if robot returns to original position\n",
    "    * optimization: just check after 1 cycle if robot returns to original position OR is NOT facing North "
   ]
  },
  {
   "cell_type": "code",
   "execution_count": 13,
   "metadata": {},
   "outputs": [],
   "source": [
    "instructions1 = \"GGLLGG\"\n",
    "instructions2 = \"GG\"\n",
    "instructions3 = \"GL\""
   ]
  },
  {
   "cell_type": "code",
   "execution_count": 46,
   "metadata": {},
   "outputs": [],
   "source": [
    "class Solution:\n",
    "    def isRobotBounded(self, instructions: str) -> bool:\n",
    "        dx, dy, x, y = 0, 1, 0, 0\n",
    "        for s in 4*instructions:\n",
    "            if s == \"G\":\n",
    "                x += dx\n",
    "                y += dy\n",
    "            if s == \"L\":\n",
    "                dx, dy = -dy, dx\n",
    "            if s == \"R\":\n",
    "                dx, dy = dy, -dx\n",
    "            \n",
    "        return (x,y) == (0,0) #or (dx,dy) != (0,1)"
   ]
  },
  {
   "cell_type": "code",
   "execution_count": 48,
   "metadata": {},
   "outputs": [
    {
     "data": {
      "text/plain": [
       "True"
      ]
     },
     "execution_count": 48,
     "metadata": {},
     "output_type": "execute_result"
    }
   ],
   "source": [
    "soln = Solution()\n",
    "soln.isRobotBounded(instructions3)"
   ]
  },
  {
   "cell_type": "markdown",
   "metadata": {},
   "source": [
    "## Day 9/18/20\n",
    "### 121. Best Time to Buy and Sell Stock\n",
    "EASY  \n",
    "https://leetcode.com/problems/best-time-to-buy-and-sell-stock/  \n",
    "https://leetcode.com/explore/challenge/card/september-leetcoding-challenge/556/week-3-september-15th-september-21st/3464/"
   ]
  },
  {
   "cell_type": "markdown",
   "metadata": {},
   "source": [
    "Say you have an array for which the $i^{th}$ element is the price of a given stock on day $i$.\n",
    "\n",
    "If you were only permitted to complete at most one transaction (i.e., buy one and sell one share of the stock), design an algorithm to find the maximum profit.\n",
    "\n",
    "Note that you cannot sell a stock before you buy one.\n",
    "\n",
    "**Example 1:**\n",
    "```\n",
    "Input: [7,1,5,3,6,4]\n",
    "Output: 5\n",
    "Explanation: Buy on day 2 (price = 1) and sell on day 5 (price = 6), profit = 6-1 = 5.\n",
    "             Not 7-1 = 6, as selling price needs to be larger than buying price.\n",
    "```\n",
    "**Example 2:**\n",
    "```\n",
    "Input: [7,6,4,3,1]\n",
    "Output: 0\n",
    "Explanation: In this case, no transaction is done, i.e. max profit = 0.\n",
    "```"
   ]
  },
  {
   "cell_type": "code",
   "execution_count": 61,
   "metadata": {},
   "outputs": [],
   "source": [
    "prices1 = [7,1,5,3,6,4]\n",
    "prices2 = [7,6,4,3,1]\n",
    "prices3 = []\n",
    "prices4 = [1,2]"
   ]
  },
  {
   "cell_type": "code",
   "execution_count": 65,
   "metadata": {},
   "outputs": [],
   "source": [
    "class Solution:\n",
    "    def maxProfit(self, prices: List[int]) -> int:\n",
    "        minprice = 999999\n",
    "        maxprofit = 0\n",
    "        for i in range(len(prices)):\n",
    "            minprice = min(minprice,prices[i])\n",
    "            maxprofit = max(maxprofit,prices[i]-minprice)\n",
    "        return maxprofit"
   ]
  },
  {
   "cell_type": "code",
   "execution_count": 70,
   "metadata": {},
   "outputs": [
    {
     "data": {
      "text/plain": [
       "1"
      ]
     },
     "execution_count": 70,
     "metadata": {},
     "output_type": "execute_result"
    }
   ],
   "source": [
    "soln = Solution()\n",
    "soln.maxProfit(prices4)"
   ]
  },
  {
   "cell_type": "markdown",
   "metadata": {},
   "source": [
    "## Day 19: 9/19/20\n",
    "### 1291. Sequential Digits\n",
    "MEDIUM  \n",
    "https://leetcode.com/problems/sequential-digits/  \n",
    "https://leetcode.com/explore/challenge/card/september-leetcoding-challenge/556/week-3-september-15th-september-21st/3465/"
   ]
  },
  {
   "cell_type": "markdown",
   "metadata": {},
   "source": [
    "An integer has *sequential digits* if and only if each digit in the number is one more than the previous digit.\n",
    "\n",
    "Return a **sorted** list of all the integers in the range `[low, high]` inclusive that have sequential digits.\n",
    "\n",
    " \n",
    "\n",
    "**Example 1:**\n",
    "```\n",
    "Input: low = 100, high = 300\n",
    "Output: [123,234]\n",
    "```\n",
    "**Example 2:**\n",
    "```\n",
    "Input: low = 1000, high = 13000\n",
    "Output: [1234,2345,3456,4567,5678,6789,12345]\n",
    "```\n",
    "\n",
    "**Constraints:**\n",
    "\n",
    "* `10 <= low <= high <= 10^9`"
   ]
  },
  {
   "cell_type": "markdown",
   "metadata": {},
   "source": [
    "**Study Notes:**\n",
    "* solution: https://leetcode.com/problems/sequential-digits/discuss/853592/Python-Solution-using-queue-explained\n",
    "* core idea:\n",
    "    * there's only `45` possible numbers that have strictly increasing digits\n",
    "    * brute force generate ALL of them and check if they are in the range `low <= num <= high` is fine"
   ]
  },
  {
   "cell_type": "code",
   "execution_count": 2,
   "metadata": {},
   "outputs": [],
   "source": [
    "low1,high1 = 100, 300\n",
    "low2,high2 = 1000, 13000"
   ]
  },
  {
   "cell_type": "code",
   "execution_count": 63,
   "metadata": {},
   "outputs": [],
   "source": [
    "import math\n",
    "class Solution:\n",
    "    def sequentialDigits(self, low: int, high: int) -> List[int]:\n",
    "        lowerlimit = int(str(low)[0])\n",
    "        upperlimit = int(str(high)[0])+1\n",
    "        for i in range(lowerlimit,upperlimit):\n",
    "            nextint = lowerlimit+1 if lowerlimit < 9 else False\n",
    "            while nextint and firstint*(10**place)+nextint <= high:\n",
    "                \n",
    "        \n",
    "        \n",
    "        return None"
   ]
  },
  {
   "cell_type": "code",
   "execution_count": null,
   "metadata": {},
   "outputs": [],
   "source": [
    "# optimization: use deque instead of queue and .pop(0)\n",
    "from collections import deque\n",
    "class Solution:\n",
    "    def sequentialDigits(self, low: int, high: int) -> List[int]:\n",
    "        candidates = deque([i for i in range(1,10)])\n",
    "        ans = []\n",
    "        while candidates:\n",
    "            c = candidates.popleft()\n",
    "            if low <= c <= high:\n",
    "                ans.append(c)\n",
    "            last <"
   ]
  },
  {
   "cell_type": "code",
   "execution_count": 72,
   "metadata": {},
   "outputs": [],
   "source": [
    "# code snippet for getting digits from an int using math-only techniques\n",
    "import math\n",
    "high=8340682\n",
    "digits = int(math.log10(high))+1 # has problems with huuuuge float numbers\n",
    "firstint = high//(10**(digits-1)) %10 # %10 only necessary for getting inner digits"
   ]
  },
  {
   "cell_type": "code",
   "execution_count": 78,
   "metadata": {},
   "outputs": [],
   "source": [
    "from collections import deque"
   ]
  },
  {
   "cell_type": "code",
   "execution_count": 80,
   "metadata": {},
   "outputs": [
    {
     "data": {
      "text/plain": [
       "deque([1, 2, 3, 4, 5, 6, 7, 8, 9])"
      ]
     },
     "execution_count": 80,
     "metadata": {},
     "output_type": "execute_result"
    }
   ],
   "source": [
    "deque([i for i in range(1,10)])"
   ]
  },
  {
   "cell_type": "code",
   "execution_count": null,
   "metadata": {},
   "outputs": [],
   "source": []
  },
  {
   "cell_type": "code",
   "execution_count": 74,
   "metadata": {},
   "outputs": [],
   "source": [
    "nextint = firstint+1 if firstint < 9 else False"
   ]
  },
  {
   "cell_type": "code",
   "execution_count": 75,
   "metadata": {},
   "outputs": [
    {
     "name": "stdout",
     "output_type": "stream",
     "text": [
      "9\n"
     ]
    }
   ],
   "source": [
    "if nextint:\n",
    "    print(nextint)"
   ]
  },
  {
   "cell_type": "code",
   "execution_count": 71,
   "metadata": {},
   "outputs": [
    {
     "data": {
      "text/plain": [
       "False"
      ]
     },
     "execution_count": 71,
     "metadata": {},
     "output_type": "execute_result"
    }
   ],
   "source": [
    "nextint"
   ]
  },
  {
   "cell_type": "code",
   "execution_count": 8,
   "metadata": {},
   "outputs": [],
   "source": [
    "soln = Solution()\n",
    "soln.sequentialDigits(low1,high1)"
   ]
  },
  {
   "cell_type": "code",
   "execution_count": 24,
   "metadata": {},
   "outputs": [
    {
     "data": {
      "text/plain": [
       "13"
      ]
     },
     "execution_count": 24,
     "metadata": {},
     "output_type": "execute_result"
    }
   ],
   "source": [
    "high2//(10**3)"
   ]
  },
  {
   "cell_type": "code",
   "execution_count": 13,
   "metadata": {},
   "outputs": [
    {
     "data": {
      "text/plain": [
       "13"
      ]
     },
     "execution_count": 13,
     "metadata": {},
     "output_type": "execute_result"
    }
   ],
   "source": [
    "high2//(10**3)"
   ]
  },
  {
   "cell_type": "markdown",
   "metadata": {},
   "source": [
    "## Day 20: 9/20/20\n",
    "### 980. Unique Paths III\n",
    "HARD  \n",
    "https://leetcode.com/problems/unique-paths-iii/  \n",
    "https://leetcode.com/explore/challenge/card/september-leetcoding-challenge/556/week-3-september-15th-september-21st/3466/"
   ]
  },
  {
   "cell_type": "markdown",
   "metadata": {},
   "source": [
    "On a 2-dimensional `grid`, there are 4 types of squares:\n",
    "\n",
    "* `1` represents the starting square.  There is exactly one starting square.\n",
    "* `2` represents the ending square.  There is exactly one ending square.\n",
    "* `0` represents empty squares we can walk over.\n",
    "* `-1` represents obstacles that we cannot walk over.\n",
    "\n",
    "Return the number of 4-directional walks from the starting square to the ending square, that **walk over every non-obstacle square exactly once**.\n",
    "\n",
    " \n",
    "\n",
    "**Example 1:**\n",
    "```\n",
    "Input: [[1,0,0,0],[0,0,0,0],[0,0,2,-1]]\n",
    "Output: 2\n",
    "Explanation: We have the following two paths: \n",
    "1. (0,0),(0,1),(0,2),(0,3),(1,3),(1,2),(1,1),(1,0),(2,0),(2,1),(2,2)\n",
    "2. (0,0),(1,0),(2,0),(2,1),(1,1),(0,1),(0,2),(0,3),(1,3),(1,2),(2,2)\n",
    "```\n",
    "**Example 2:**\n",
    "```\n",
    "Input: [[1,0,0,0],[0,0,0,0],[0,0,0,2]]\n",
    "Output: 4\n",
    "Explanation: We have the following four paths: \n",
    "1. (0,0),(0,1),(0,2),(0,3),(1,3),(1,2),(1,1),(1,0),(2,0),(2,1),(2,2),(2,3)\n",
    "2. (0,0),(0,1),(1,1),(1,0),(2,0),(2,1),(2,2),(1,2),(0,2),(0,3),(1,3),(2,3)\n",
    "3. (0,0),(1,0),(2,0),(2,1),(2,2),(1,2),(1,1),(0,1),(0,2),(0,3),(1,3),(2,3)\n",
    "4. (0,0),(1,0),(2,0),(2,1),(1,1),(0,1),(0,2),(0,3),(1,3),(1,2),(2,2),(2,3)\n",
    "```\n",
    "**Example 3:**\n",
    "```\n",
    "Input: [[0,1],[2,0]]\n",
    "Output: 0\n",
    "Explanation: \n",
    "There is no path that walks over every empty square exactly once.\n",
    "Note that the starting and ending square can be anywhere in the grid.\n",
    "```\n",
    "\n",
    "**Note:**\n",
    "\n",
    "* `1 <= grid.length * grid[0].length <= 20`"
   ]
  },
  {
   "cell_type": "markdown",
   "metadata": {},
   "source": [
    "**Study Notes:**\n",
    "* solution article: https://leetcode.com/problems/unique-paths-iii/solution/\n",
    "* a classic backtracking and depth-first search problem"
   ]
  },
  {
   "cell_type": "code",
   "execution_count": 82,
   "metadata": {},
   "outputs": [],
   "source": [
    "grid1 = [[1,0,0,0],[0,0,0,0],[0,0,2,-1]]\n",
    "grid2 = [[1,0,0,0],[0,0,0,0],[0,0,0,2]]\n",
    "grid3 = [[0,1],[2,0]]"
   ]
  },
  {
   "cell_type": "code",
   "execution_count": 86,
   "metadata": {},
   "outputs": [
    {
     "data": {
      "text/plain": [
       "[[1, 0, 0, 0], [0, 0, 0, 0], [0, 0, 2, -1]]"
      ]
     },
     "execution_count": 86,
     "metadata": {},
     "output_type": "execute_result"
    }
   ],
   "source": [
    "grid1"
   ]
  },
  {
   "cell_type": "code",
   "execution_count": null,
   "metadata": {},
   "outputs": [],
   "source": []
  },
  {
   "cell_type": "code",
   "execution_count": 81,
   "metadata": {},
   "outputs": [],
   "source": [
    "class Solution:\n",
    "    def uniquePathsIII(self, grid: List[List[int]]) -> int:\n",
    "        \n",
    "        return None"
   ]
  },
  {
   "cell_type": "code",
   "execution_count": 83,
   "metadata": {},
   "outputs": [],
   "source": [
    "soln = Solution()\n",
    "soln.uniquePathsIII(grid1)"
   ]
  },
  {
   "cell_type": "markdown",
   "metadata": {},
   "source": [
    "## Day 21: 9/21/20\n",
    "### 1094. Car Pooling\n",
    "MEDIUM  \n",
    "https://leetcode.com/problems/car-pooling/  \n",
    "https://leetcode.com/explore/challenge/card/september-leetcoding-challenge/556/week-3-september-15th-september-21st/3467/"
   ]
  },
  {
   "cell_type": "markdown",
   "metadata": {},
   "source": [
    "You are driving a vehicle that has `capacity` empty seats initially available for passengers.  The vehicle **only** drives east (ie. it **cannot** turn around and drive west.)\n",
    "\n",
    "Given a list of `trips`, `trip[i] = [num_passengers, start_location, end_location]` contains information about the `i`-th trip: the number of passengers that must be picked up, and the locations to pick them up and drop them off.  The locations are given as the number of kilometers due east from your vehicle's initial location.\n",
    "\n",
    "Return `true` if and only if it is possible to pick up and drop off all passengers for all the given trips. \n",
    "\n",
    " \n",
    "\n",
    "**Example 1:**\n",
    "```\n",
    "Input: trips = [[2,1,5],[3,3,7]], capacity = 4\n",
    "Output: false\n",
    "```\n",
    "**Example 2:**\n",
    "```\n",
    "Input: trips = [[2,1,5],[3,3,7]], capacity = 5\n",
    "Output: true\n",
    "```\n",
    "**Example 3:**\n",
    "```\n",
    "Input: trips = [[2,1,5],[3,5,7]], capacity = 3\n",
    "Output: true\n",
    "```\n",
    "**Example 4:**\n",
    "```\n",
    "Input: trips = [[3,2,7],[3,7,9],[8,3,9]], capacity = 11\n",
    "Output: true\n",
    "```\n",
    " \n",
    "\n",
    "**Constraints:**\n",
    "\n",
    "1. `trips.length <= 1000`\n",
    "2. `trips[i].length == 3`\n",
    "3. `1 <= trips[i][0] <= 1003`\n",
    "4. `0 <= trips[i][1] < trips[i][2] <= 1000`\n",
    "5. `1 <= capacity <= 100000`"
   ]
  },
  {
   "cell_type": "markdown",
   "metadata": {},
   "source": [
    "**Study Notes:**\n",
    "* core ideas:\n",
    "    * create a queue of timestamps with changes to occupancy"
   ]
  },
  {
   "cell_type": "code",
   "execution_count": 135,
   "metadata": {},
   "outputs": [],
   "source": [
    "trips1,capacity1 = [[2,1,5],[3,3,7]], 4\n",
    "trips2,capacity2 = [[2,1,5],[3,3,7]], 5\n",
    "trips3,capacity3 = [[2,1,5],[3,5,7]], 3\n",
    "trips4,capacity4 = [[3,2,7],[3,7,9],[8,3,9]], 11\n",
    "trips5,capacity5 = [[4,5,6],[6,4,7],[4,3,5],[2,3,5]], 13"
   ]
  },
  {
   "cell_type": "code",
   "execution_count": 165,
   "metadata": {},
   "outputs": [],
   "source": [
    "class Solution:\n",
    "    def carPooling(self, trips: List[List[int]], capacity: int) -> bool:\n",
    "        trips\n",
    "        times = []\n",
    "        for trip in trips:\n",
    "            times.append([trip[2],-trip[0]])\n",
    "            times.append([trip[1],trip[0]])\n",
    "        \n",
    "        # sort times\n",
    "        times = sorted(times)\n",
    "        occupancy = 0\n",
    "        for time in times:\n",
    "            occupancy += time[1]\n",
    "            if (occupancy < 0) or (occupancy > capacity):\n",
    "                return False\n",
    "        return True"
   ]
  },
  {
   "cell_type": "code",
   "execution_count": 167,
   "metadata": {},
   "outputs": [
    {
     "data": {
      "text/plain": [
       "True"
      ]
     },
     "execution_count": 167,
     "metadata": {},
     "output_type": "execute_result"
    }
   ],
   "source": [
    "soln = Solution()\n",
    "soln.carPooling(trips4,capacity4)"
   ]
  },
  {
   "cell_type": "markdown",
   "metadata": {},
   "source": [
    "## Day 22: 9/22/20\n",
    "### 229. Majority Element II\n",
    "MEDIUM  \n",
    "https://leetcode.com/problems/majority-element-ii/  \n",
    "https://leetcode.com/explore/challenge/card/september-leetcoding-challenge/557/week-4-september-22nd-september-28th/3469/"
   ]
  },
  {
   "cell_type": "markdown",
   "metadata": {},
   "source": [
    "Given an integer array of size *n*, find all elements that appear more than `⌊ n/3 ⌋` times.\n",
    "\n",
    "Note: The algorithm should run in linear time and in O(1) space.\n",
    "\n",
    "**Example 1:**\n",
    "```\n",
    "Input: [3,2,3]\n",
    "Output: [3]\n",
    "```\n",
    "**Example 2:**\n",
    "```\n",
    "Input: [1,1,1,3,3,2,2,2]\n",
    "Output: [1,2]\n",
    "```"
   ]
  },
  {
   "cell_type": "markdown",
   "metadata": {},
   "source": [
    "**Study Notes:**\n",
    "* To satisfy `O(n)` run time and `O(1)` space requirements, we need to use the [Boyer-Moore majority vote algorithm](https://en.wikipedia.org/wiki/Boyer–Moore_majority_vote_algorithm)\n",
    "* intuitively, we can calculate that there can only be at most `2` elements that appear more than `n/3` times\n",
    "    * if majority requirement is `n/2`, then at most `1` element\n",
    "    * majority requirement: `n/4`, then at most `3` elements, etc.\n",
    "    * pattern is at most `x-1` elements for a majority requirement of `n/x`\n",
    "* leetcode solution article: https://leetcode.com/problems/majority-element-ii/solution/\n",
    "* additional algorithm explanation: https://leetcode.com/problems/majority-element-ii/discuss/63537/my-understanding-of-boyer-moore-majority-vote\n",
    "    * core ideas: \n",
    "        * to expand the standard Boyer-Moore majority algorithm, separately track each x-1 candidate identity and their counts\n",
    "        * increment counts separately if they new elements encountered that match any of the candidates\n",
    "        * RESET a candidate if the corresponding `count = 0` AND the new element isn't another candidate (can be handled just by `if-elif` sequencing)\n",
    "        * DECREMENT ALL counts if the new element doesn't match any candidates"
   ]
  },
  {
   "cell_type": "code",
   "execution_count": 91,
   "metadata": {},
   "outputs": [],
   "source": [
    "nums1 = [3,2,3]\n",
    "nums2 = [1,1,1,3,3,2,2,2]"
   ]
  },
  {
   "cell_type": "code",
   "execution_count": 112,
   "metadata": {},
   "outputs": [],
   "source": [
    "class Solution:\n",
    "    def majorityElement(self, nums: List[int]) -> List[int]:\n",
    "        majorn = len(nums)//3\n",
    "        cand1, cand2 = None, None\n",
    "        count1, count2 = 0, 0\n",
    "        for n in nums:\n",
    "            if n == cand1:\n",
    "                count1 += 1\n",
    "            elif n == cand2:\n",
    "                count2 += 1\n",
    "            elif count1 == 0:\n",
    "                cand1 = n\n",
    "                count1 += 1\n",
    "            elif count2 == 0:\n",
    "                cand2 = n\n",
    "                count2 += 1\n",
    "            else:\n",
    "                count1 -= 1\n",
    "                count2 -= 1\n",
    "                \n",
    "        # second pass to check if actually majority\n",
    "        result = []\n",
    "        for cand in [cand1,cand2]:\n",
    "            if nums.count(cand) > majorn:\n",
    "                result.append(cand)\n",
    "        return result"
   ]
  },
  {
   "cell_type": "code",
   "execution_count": 113,
   "metadata": {},
   "outputs": [
    {
     "data": {
      "text/plain": [
       "[3]"
      ]
     },
     "execution_count": 113,
     "metadata": {},
     "output_type": "execute_result"
    }
   ],
   "source": [
    "soln = Solution()\n",
    "soln.majorityElement(nums1)"
   ]
  },
  {
   "cell_type": "markdown",
   "metadata": {},
   "source": [
    "## Day 23: 9/23/20\n",
    "### 134. Gas Station\n",
    "MEDIUM  \n",
    "https://leetcode.com/problems/gas-station/  \n",
    "https://leetcode.com/explore/challenge/card/september-leetcoding-challenge/557/week-4-september-22nd-september-28th/3470/"
   ]
  },
  {
   "cell_type": "markdown",
   "metadata": {},
   "source": [
    "There are *N* gas stations along a circular route, where the amount of gas at station *i* is `gas[i]`.\n",
    "\n",
    "You have a car with an unlimited gas tank and it costs `cost[i]` of gas to travel from station *i* to its next station (*i*+1). You begin the journey with an empty tank at one of the gas stations.\n",
    "\n",
    "Return the starting gas station's index if you can travel around the circuit once in the clockwise direction, otherwise return -1.\n",
    "\n",
    "**Note:**\n",
    "\n",
    "* If there exists a solution, it is guaranteed to be unique.\n",
    "* Both input arrays are non-empty and have the same length.\n",
    "* Each element in the input arrays is a non-negative integer.\n",
    "\n",
    "**Example 1:**\n",
    "```\n",
    "Input: \n",
    "gas  = [1,2,3,4,5]\n",
    "cost = [3,4,5,1,2]\n",
    "\n",
    "Output: 3\n",
    "\n",
    "Explanation:\n",
    "Start at station 3 (index 3) and fill up with 4 unit of gas. Your tank = 0 + 4 = 4\n",
    "Travel to station 4. Your tank = 4 - 1 + 5 = 8\n",
    "Travel to station 0. Your tank = 8 - 2 + 1 = 7\n",
    "Travel to station 1. Your tank = 7 - 3 + 2 = 6\n",
    "Travel to station 2. Your tank = 6 - 4 + 3 = 5\n",
    "Travel to station 3. The cost is 5. Your gas is just enough to travel back to station 3.\n",
    "Therefore, return 3 as the starting index.\n",
    "```\n",
    "**Example 2:**\n",
    "```\n",
    "Input: \n",
    "gas  = [2,3,4]\n",
    "cost = [3,4,3]\n",
    "\n",
    "Output: -1\n",
    "\n",
    "Explanation:\n",
    "You can't start at station 0 or 1, as there is not enough gas to travel to the next station.\n",
    "Let's start at station 2 and fill up with 4 unit of gas. Your tank = 0 + 4 = 4\n",
    "Travel to station 0. Your tank = 4 - 3 + 2 = 3\n",
    "Travel to station 1. Your tank = 3 - 3 + 3 = 3\n",
    "You cannot travel back to station 2, as it requires 4 unit of gas but you only have 3.\n",
    "Therefore, you can't travel around the circuit once no matter where you start.m\n",
    "```"
   ]
  },
  {
   "cell_type": "code",
   "execution_count": 6,
   "metadata": {},
   "outputs": [],
   "source": [
    "gas1,cost1 = [1,2,3,4,5], [3,4,5,1,2]\n",
    "gas2,cost2 = [2,3,4], [3,4,3]"
   ]
  },
  {
   "cell_type": "code",
   "execution_count": 37,
   "metadata": {},
   "outputs": [],
   "source": [
    "# my solution, works but inefficient\n",
    "class Solution:\n",
    "    def canCompleteCircuit(self, gas: List[int], cost: List[int]) -> int:\n",
    "        n = len(gas)\n",
    "        for i in range(n):\n",
    "            fuel = 0\n",
    "            start = i\n",
    "            startnext = i+1 if i+1 <= n-1 else 0\n",
    "            nextstation = startnext\n",
    "            while (fuel >= 0):\n",
    "                # travel to next station\n",
    "                fuel = fuel + gas[i] - cost[i]\n",
    "                i = nextstation\n",
    "                # increment next station and end if it loops with adequate fuel\n",
    "                nextstation = i+1 if i+1 <= n-1 else 0\n",
    "                if (nextstation == startnext) and (fuel>=0):\n",
    "                    return start\n",
    "        return -1"
   ]
  },
  {
   "cell_type": "code",
   "execution_count": 39,
   "metadata": {},
   "outputs": [
    {
     "data": {
      "text/plain": [
       "3"
      ]
     },
     "execution_count": 39,
     "metadata": {},
     "output_type": "execute_result"
    }
   ],
   "source": [
    "soln = Solution()\n",
    "soln.canCompleteCircuit(gas1,cost1)"
   ]
  },
  {
   "cell_type": "markdown",
   "metadata": {},
   "source": [
    "## 9/24/20\n",
    "### 389. Find the Difference\n",
    "EASY  \n",
    "https://leetcode.com/problems/find-the-difference/  \n",
    "https://leetcode.com/explore/challenge/card/september-leetcoding-challenge/557/week-4-september-22nd-september-28th/3471/"
   ]
  },
  {
   "cell_type": "markdown",
   "metadata": {},
   "source": [
    "Given two strings **s** and **t** which consist of only lowercase letters.\n",
    "\n",
    "String **t** is generated by random shuffling string **s** and then add one more letter at a random position.\n",
    "\n",
    "Find the letter that was added in **t**.\n",
    "\n",
    "**Example:**\n",
    "```\n",
    "Input:\n",
    "s = \"abcd\"\n",
    "t = \"abcde\"\n",
    "\n",
    "Output:\n",
    "e\n",
    "\n",
    "Explanation:\n",
    "'e' is the letter that was added.\n",
    "```"
   ]
  },
  {
   "cell_type": "code",
   "execution_count": 86,
   "metadata": {},
   "outputs": [],
   "source": [
    "import string, random\n",
    "\n",
    "def shuffles(s):\n",
    "    lst = list(s)\n",
    "    random.shuffle(lst)\n",
    "    return ''.join(lst)\n",
    "\n",
    "s1,t1 = 'abcd', 'abcde'\n",
    "s2,t2 = 'asdlkjflkghe', shuffles(s2)+random.choice(string.ascii_letters.lower())"
   ]
  },
  {
   "cell_type": "code",
   "execution_count": 82,
   "metadata": {},
   "outputs": [],
   "source": [
    "# remove from list\n",
    "class Solution:\n",
    "    def findTheDifference(self, s: str, t: str) -> str:\n",
    "        l = list(s)\n",
    "        for c in t:\n",
    "            try:\n",
    "                l.remove(c)\n",
    "            except ValueError:\n",
    "                return c\n",
    "        return l[0]"
   ]
  },
  {
   "cell_type": "code",
   "execution_count": 94,
   "metadata": {},
   "outputs": [],
   "source": [
    "# using dicts as hash table, loop through both strings\n",
    "class Solution:\n",
    "    def findTheDifference(self, s: str, t: str) -> str:\n",
    "        d = {} # can use defaultdict instead for less lines\n",
    "        for c in s:\n",
    "            if c in d:\n",
    "                d[c] += 1\n",
    "            else:\n",
    "                d[c] = 1\n",
    "                \n",
    "        for c in t:\n",
    "            if c in d:\n",
    "                d[c] -= 1\n",
    "                if d[c] < 0:\n",
    "                    return c\n",
    "            else:\n",
    "                return c"
   ]
  },
  {
   "cell_type": "code",
   "execution_count": 114,
   "metadata": {},
   "outputs": [],
   "source": [
    "# using Counter\n",
    "from collections import Counter\n",
    "class Solution:\n",
    "    def findTheDifference(self, s: str, t: str) -> str:\n",
    "        # subtraction by key-value pair available as part of Counter\n",
    "        diff = Counter(t)-Counter(s)\n",
    "        return list(diff)[0]"
   ]
  },
  {
   "cell_type": "code",
   "execution_count": 113,
   "metadata": {},
   "outputs": [
    {
     "data": {
      "text/plain": [
       "'e'"
      ]
     },
     "execution_count": 113,
     "metadata": {},
     "output_type": "execute_result"
    }
   ],
   "source": [
    "soln = Solution()\n",
    "soln.findTheDifference(s1,t1)"
   ]
  },
  {
   "cell_type": "code",
   "execution_count": 97,
   "metadata": {},
   "outputs": [
    {
     "data": {
      "text/plain": [
       "'asdlkjflkghe'"
      ]
     },
     "execution_count": 97,
     "metadata": {},
     "output_type": "execute_result"
    }
   ],
   "source": [
    "s2"
   ]
  },
  {
   "cell_type": "code",
   "execution_count": 98,
   "metadata": {},
   "outputs": [
    {
     "data": {
      "text/plain": [
       "'lgskfejahldkp'"
      ]
     },
     "execution_count": 98,
     "metadata": {},
     "output_type": "execute_result"
    }
   ],
   "source": [
    "t2"
   ]
  },
  {
   "cell_type": "code",
   "execution_count": 110,
   "metadata": {},
   "outputs": [
    {
     "data": {
      "text/plain": [
       "['e']"
      ]
     },
     "execution_count": 110,
     "metadata": {},
     "output_type": "execute_result"
    }
   ],
   "source": [
    "list(Counter(t1)-Counter(s1))"
   ]
  },
  {
   "cell_type": "markdown",
   "metadata": {},
   "source": [
    "## Day 25: 9/25/20\n",
    "### 179. Largest Number\n",
    "MEDIUM  \n",
    "https://leetcode.com/problems/largest-number/  \n",
    "https://leetcode.com/explore/challenge/card/september-leetcoding-challenge/557/week-4-september-22nd-september-28th/3472/"
   ]
  },
  {
   "cell_type": "markdown",
   "metadata": {},
   "source": [
    "Given a list of non negative integers, arrange them such that they form the largest number.\n",
    "\n",
    "**Example 1:**\n",
    "```\n",
    "Input: [10,2]\n",
    "Output: \"210\"\n",
    "```\n",
    "**Example 2:**\n",
    "```\n",
    "Input: [3,30,34,5,9]\n",
    "Output: \"9534330\"\n",
    "```\n",
    "**Note:** The result may be very large, so you need to return a string instead of an integer."
   ]
  },
  {
   "cell_type": "markdown",
   "metadata": {},
   "source": [
    "**Study Notes:**\n",
    "* leetcode discussion solution: https://leetcode.com/problems/largest-number/discuss/863489/Python-2-lines-solution-using-sort-explained\n",
    "    * clarification comment: https://leetcode.com/problems/largest-number/solution/271571\n",
    "    * by default, python calls \"less than\" (`__lt__`) function in sort comparison to determine if items a, b need to be swapped (if `True` then leave as-is)\n",
    "    * `cmp_to_key` converts the old python 2 less-than, greater-than, and equal to scheme of -1, 1, 0 to the new python 3 reserved methods (`__lt__`, `__gt__`, etc.)\n",
    "        * the `cmp` framework involves a function returning `-1` when a < b\n",
    "        * In the solution to this problem, we trick the normal sorting code to return `-1` when x+y > y+x, meaning the items are already in the \"correct less-than\" position (when in reality they are ordered descending)\n",
    "        * additional explanation: [https://stackoverflow.com/questions/16362744/how-does-pythons-cmp-to-key-function-work](https://stackoverflow.com/questions/16362744/how-does-pythons-cmp-to-key-function-work)\n",
    "    * to handle edge case with multiple zeros (ex: `nums = [0, 0, 0]`) we use `str(int(...))` to convert to `int` and back to `str` for output\n",
    "* core ideas:\n",
    "    * convert to str and sort using comparison sort\n",
    "    * this works because of [comparison sort](https://en.wikipedia.org/wiki/Comparison_sort)"
   ]
  },
  {
   "cell_type": "code",
   "execution_count": 23,
   "metadata": {},
   "outputs": [],
   "source": [
    "nums1 = [10,2]\n",
    "nums2 = [3,30,34,5,9]\n",
    "nums3 = [0, 0, 0]"
   ]
  },
  {
   "cell_type": "code",
   "execution_count": 77,
   "metadata": {},
   "outputs": [],
   "source": [
    "from functools import cmp_to_key\n",
    "class Solution:\n",
    "    def largestNumber(self, nums: List[int]) -> str:\n",
    "        compare = lambda x, y: -1 if x+y > y+x else 1 if y+x > x+y else 0\n",
    "        slst = [str(n) for n in nums]\n",
    "        ans = sorted(slst, key=cmp_to_key(compare))\n",
    "        return str(int(''.join(ans)))"
   ]
  },
  {
   "cell_type": "code",
   "execution_count": 71,
   "metadata": {},
   "outputs": [],
   "source": [
    "# tst = nums2\n",
    "# compare = lambda x, y: -1 if x+y > y+x else 1 if y+x > x+y else 0\n",
    "# strlst = [str(n) for n in tst]\n",
    "# sorted(strlst, key=cmp_to_key(compare))"
   ]
  },
  {
   "cell_type": "code",
   "execution_count": 79,
   "metadata": {},
   "outputs": [
    {
     "data": {
      "text/plain": [
       "'0'"
      ]
     },
     "execution_count": 79,
     "metadata": {},
     "output_type": "execute_result"
    }
   ],
   "source": [
    "soln = Solution()\n",
    "soln.largestNumber(nums3)"
   ]
  },
  {
   "cell_type": "markdown",
   "metadata": {},
   "source": [
    "## Day 26: 9/26/20\n",
    "### 495. Teemo Attacking\n",
    "MEDIUM  \n",
    "https://leetcode.com/problems/teemo-attacking/  \n",
    "https://leetcode.com/explore/challenge/card/september-leetcoding-challenge/557/week-4-september-22nd-september-28th/3473/"
   ]
  },
  {
   "cell_type": "markdown",
   "metadata": {},
   "source": [
    "In LOL world, there is a hero called Teemo and his attacking can make his enemy Ashe be in poisoned condition. Now, given the Teemo's attacking **ascending** time series towards Ashe and the poisoning time duration per Teemo's attacking, you need to output the total time that Ashe is in poisoned condition.\n",
    "\n",
    "You may assume that Teemo attacks at the very beginning of a specific time point, and makes Ashe be in poisoned condition immediately.\n",
    "\n",
    "**Example 1:**\n",
    "```\n",
    "Input: [1,4], 2\n",
    "Output: 4\n",
    "Explanation: At time point 1, Teemo starts attacking Ashe and makes Ashe be poisoned immediately. \n",
    "This poisoned status will last 2 seconds until the end of time point 2. \n",
    "And at time point 4, Teemo attacks Ashe again, and causes Ashe to be in poisoned status for another 2 seconds. \n",
    "So you finally need to output 4.\n",
    "```\n",
    "\n",
    "**Example 2:**\n",
    "```\n",
    "Input: [1,2], 2\n",
    "Output: 3\n",
    "Explanation: At time point 1, Teemo starts attacking Ashe and makes Ashe be poisoned. \n",
    "This poisoned status will last 2 seconds until the end of time point 2. \n",
    "However, at the beginning of time point 2, Teemo attacks Ashe again who is already in poisoned status. \n",
    "Since the poisoned status won't add up together, though the second poisoning attack will still work at time point 2, it will stop at the end of time point 3. \n",
    "So you finally need to output 3.\n",
    "```\n",
    "\n",
    "**Note:**\n",
    "\n",
    "1. You may assume the length of given time series array won't exceed 10000.\n",
    "2. You may assume the numbers in the Teemo's attacking time series and his poisoning time duration per attacking are non-negative integers, which won't exceed 10,000,000."
   ]
  },
  {
   "cell_type": "code",
   "execution_count": 26,
   "metadata": {},
   "outputs": [],
   "source": [
    "timeSeries1,duration1 = [1,4], 2\n",
    "timeSeries2,duration2 = [1,2], 2\n",
    "timeSeries3,duration3 = [0,1], 5\n",
    "timeSeries4,duration4 = [1,2,3,4,5,6,7,8,9], 100000"
   ]
  },
  {
   "cell_type": "code",
   "execution_count": 17,
   "metadata": {},
   "outputs": [],
   "source": [
    "class Solution:\n",
    "    def findPoisonedDuration(self, timeSeries: List[int], duration: int) -> int:\n",
    "        poisondur, prevt = 0, -1\n",
    "        for t in timeSeries:\n",
    "            poisondur += duration\n",
    "            if (t < prevt+duration) and (prevt > -1):\n",
    "                poisondur -= (prevt+duration)-t\n",
    "            prevt = t\n",
    "            \n",
    "        return poisondur"
   ]
  },
  {
   "cell_type": "code",
   "execution_count": 32,
   "metadata": {},
   "outputs": [],
   "source": [
    "# more concise code using min()\n",
    "class Solution:\n",
    "    def findPoisonedDuration(self, timeSeries: List[int], duration: int) -> int:\n",
    "        total,prevt = 0, -float('inf')\n",
    "        for t in timeSeries:\n",
    "            total += min(duration,t-prevt)\n",
    "            prevt = t\n",
    "        return total"
   ]
  },
  {
   "cell_type": "code",
   "execution_count": 33,
   "metadata": {},
   "outputs": [
    {
     "data": {
      "text/plain": [
       "100008"
      ]
     },
     "execution_count": 33,
     "metadata": {},
     "output_type": "execute_result"
    }
   ],
   "source": [
    "soln = Solution()\n",
    "soln.findPoisonedDuration(timeSeries4,duration4)"
   ]
  },
  {
   "cell_type": "code",
   "execution_count": null,
   "metadata": {},
   "outputs": [],
   "source": []
  }
 ],
 "metadata": {
  "kernelspec": {
   "display_name": "base (Python 3.7.7)",
   "language": "python",
   "name": "base"
  },
  "language_info": {
   "codemirror_mode": {
    "name": "ipython",
    "version": 3
   },
   "file_extension": ".py",
   "mimetype": "text/x-python",
   "name": "python",
   "nbconvert_exporter": "python",
   "pygments_lexer": "ipython3",
   "version": "3.7.7"
  }
 },
 "nbformat": 4,
 "nbformat_minor": 4
}
