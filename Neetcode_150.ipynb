{
 "cells": [
  {
   "cell_type": "code",
   "execution_count": 1,
   "id": "3ccfc956-b9b9-4a42-a9a4-67342bb1c149",
   "metadata": {},
   "outputs": [],
   "source": [
    "from typing import List"
   ]
  },
  {
   "cell_type": "code",
   "execution_count": 2,
   "id": "427afad1-c4e6-4acb-8afd-36e31d59cced",
   "metadata": {},
   "outputs": [],
   "source": [
    "# tree practice\n",
    "class TreeNode:\n",
    "    def __init__(self, val=0, left=None, right=None):\n",
    "        self.val = val\n",
    "        self.left = left\n",
    "        self.right = right\n",
    "\n",
    "def mk_tree(nodes, i, n):\n",
    "    root = None\n",
    "    if (i < n) and nodes[i] is not None:\n",
    "        root = TreeNode(nodes[i])\n",
    "        root.left = mk_tree(nodes, 2*i+1, len(nodes))\n",
    "        root.right = mk_tree(nodes, 2*i+2, len(nodes))\n",
    "    return root\n",
    "\n",
    "def prnt_tree(root):\n",
    "    nodes = []\n",
    "    q = [root]\n",
    "    while any(q):\n",
    "        node = q.pop(0) # can use deque to optimize\n",
    "        if node:\n",
    "            nodes.append(node.val)\n",
    "            if node.left or node.right or any(q):\n",
    "                q.append(node.left)\n",
    "                q.append(node.right)\n",
    "        elif any(a): # if node is None AND there's still stuff in q to process\n",
    "            nodes.append('null')\n",
    "    \n",
    "    return nodes"
   ]
  },
  {
   "cell_type": "markdown",
   "id": "27c225a4-ee76-4c20-b7c0-ec120ac7c24f",
   "metadata": {},
   "source": [
    "## Neetcode Algorithms Roadmap\n",
    "https://neetcode.io/roadmap"
   ]
  },
  {
   "cell_type": "markdown",
   "id": "e0d80a83-cf4d-4040-9ce2-18c685c81a3a",
   "metadata": {},
   "source": [
    "# Arrays & Hashing"
   ]
  },
  {
   "cell_type": "markdown",
   "id": "5593dfbb-28fd-4ee0-8f3a-1105c6734151",
   "metadata": {},
   "source": [
    "## 217. Contains Duplicate\n",
    "### 2023/07/22\n",
    "leetcode link: https://leetcode.com/problems/contains-duplicate/"
   ]
  },
  {
   "cell_type": "markdown",
   "id": "ec04ddfa-1c44-465f-9ac2-932f01b5d950",
   "metadata": {},
   "source": [
    "Given an integer array `nums`, return `true` if any value appears **at least twice** in the array, and return `false` if every element is distinct.\n",
    "\n",
    " \n",
    "\n",
    "**Example 1:**\n",
    "```\n",
    "Input: nums = [1,2,3,1]\n",
    "Output: true\n",
    "```\n",
    "**Example 2:**\n",
    "```\n",
    "Input: nums = [1,2,3,4]\n",
    "Output: false\n",
    "```\n",
    "**Example 3:**\n",
    "```\n",
    "Input: nums = [1,1,1,3,3,4,3,2,4,2]\n",
    "Output: true\n",
    "```\n",
    "\n",
    "**Constraints:**\n",
    "\n",
    "* `1 <= nums.length <= 105`\n",
    "* `-109 <= nums[i] <= 109`"
   ]
  },
  {
   "cell_type": "code",
   "execution_count": 13,
   "id": "2a3f62e3-3a85-4f33-9dcc-0e82ca8919f2",
   "metadata": {},
   "outputs": [],
   "source": [
    "nums1 = [1,2,3,1]\n",
    "nums2 = [1,2,3,4]\n",
    "nums3 = [1,1,1,3,3,4,3,2,4,2]"
   ]
  },
  {
   "cell_type": "code",
   "execution_count": 41,
   "id": "4ecca764-0a10-41fb-8fab-79ffc6f8fad7",
   "metadata": {},
   "outputs": [],
   "source": [
    "class Solution:\n",
    "    def containsDuplicate(self, nums: List[int]) -> bool:\n",
    "        seen = set()\n",
    "        \n",
    "        for n in nums:\n",
    "            if n not in seen:\n",
    "                seen.add(n)\n",
    "            else:\n",
    "                return True\n",
    "        return False"
   ]
  },
  {
   "cell_type": "code",
   "execution_count": 42,
   "id": "fc1fb073-6ac9-44e7-bfd5-f7146c7787c8",
   "metadata": {},
   "outputs": [],
   "source": [
    "# python-specific (?) optimization: not actually faster, older solutions is faster because leetcode platform changes\n",
    "class Solution:\n",
    "    def containsDuplicate(self, nums: List[int]) -> bool:\n",
    "        setnums = set(nums)\n",
    "        if len(setnums) < len(nums):\n",
    "            return True\n",
    "        return False"
   ]
  },
  {
   "cell_type": "code",
   "execution_count": 38,
   "id": "f7cc82b3-ab6b-4e19-a762-dca8e40a25d1",
   "metadata": {
    "editable": true,
    "slideshow": {
     "slide_type": ""
    },
    "tags": []
   },
   "outputs": [
    {
     "data": {
      "text/plain": [
       "False"
      ]
     },
     "execution_count": 38,
     "metadata": {},
     "output_type": "execute_result"
    }
   ],
   "source": [
    "soln = Solution()\n",
    "soln.containsDuplicate(nums2)"
   ]
  },
  {
   "cell_type": "markdown",
   "id": "cd511b0a-ff7d-4367-9315-1d77ba1946d3",
   "metadata": {},
   "source": [
    "## 242. Valid Anagram\n",
    "https://leetcode.com/problems/valid-anagram/"
   ]
  },
  {
   "cell_type": "markdown",
   "id": "080f1f9a-3f06-43f8-8665-706b0f8b6332",
   "metadata": {},
   "source": [
    "Given two strings `s` and `t`, return `true` if `t` is an anagram of `s`, and `false` otherwise.\n",
    "\n",
    "An **Anagram** is a word or phrase formed by rearranging the letters of a different word or phrase, typically using all the original letters exactly once.\n",
    "\n",
    "**Example 1:**\n",
    "```\n",
    "Input: s = \"anagram\", t = \"nagaram\"\n",
    "Output: true\n",
    "```\n",
    "**Example 2:**\n",
    "```\n",
    "Input: s = \"rat\", t = \"car\"\n",
    "Output: false\n",
    "```\n",
    "\n",
    "**Constraints:**\n",
    "\n",
    "* `1 <= s.length, t.length <= 5 * 10^4`\n",
    "* `s and t consist of lowercase English letters.`\n",
    " \n",
    "\n",
    "**Follow up:** What if the inputs contain Unicode characters? How would you adapt your solution to such a case?"
   ]
  },
  {
   "cell_type": "code",
   "execution_count": 6,
   "id": "b80bd90a-6e8e-4555-8ca0-af7434bb7843",
   "metadata": {},
   "outputs": [],
   "source": [
    "s1 = \"anagram\"\n",
    "t1 = \"nagaram\"\n",
    "s2 = \"rat\"\n",
    "t2 = \"car\""
   ]
  },
  {
   "cell_type": "code",
   "execution_count": 28,
   "id": "efce29cd-ff6e-422a-9204-4c23eb1c2fe0",
   "metadata": {},
   "outputs": [],
   "source": [
    "class Solution:\n",
    "    def isAnagram(self, s: str, t: str) -> bool:\n",
    "        counts = {}\n",
    "        countt = {}\n",
    "        for c in s:\n",
    "            if c in counts:\n",
    "                counts[c] += 1\n",
    "            else:\n",
    "                counts[c] = 1\n",
    "\n",
    "        for c in t:\n",
    "            if c in countt:\n",
    "                countt[c] += 1\n",
    "            else:\n",
    "                countt[c] = 1\n",
    "        \n",
    "        return counts == countt"
   ]
  },
  {
   "cell_type": "code",
   "execution_count": 33,
   "id": "960a3035-a1d7-476f-9da3-15463d155f05",
   "metadata": {},
   "outputs": [],
   "source": [
    "# python-specific solution\n",
    "from collections import Counter\n",
    "\n",
    "class Solution:\n",
    "    def isAnagram(self, s: str, t: str) -> bool:\n",
    "        return Counter(s) == Counter(t)"
   ]
  },
  {
   "cell_type": "code",
   "execution_count": 66,
   "id": "e9373dd6-26dd-40c7-a2d2-129e42066d3b",
   "metadata": {},
   "outputs": [],
   "source": [
    "# slightly optimized manual counting (minimize iterations)\n",
    "class Solution:\n",
    "    def isAnagram(self, s: str, t: str) -> bool:\n",
    "        # return false early if not same length\n",
    "        if len(s) != len(t): \n",
    "            return False\n",
    "\n",
    "        # generate count of values\n",
    "        counts = {}\n",
    "        countt = {}\n",
    "        for i in range(len(s)):\n",
    "            cs = s[i]\n",
    "            ct = t[i]\n",
    "            if cs in counts:\n",
    "                counts[cs] += 1\n",
    "            else:\n",
    "                counts[cs] = 1\n",
    "\n",
    "            if ct in countt:\n",
    "                countt[ct] += 1\n",
    "            else:\n",
    "                countt[ct] = 1\n",
    "\n",
    "        # check each key-value pair in both dictionaries are same\n",
    "        for key in counts.keys():\n",
    "            if (key not in countt.keys()) or (counts[key] != countt[key]):\n",
    "                return False\n",
    "\n",
    "        return True        "
   ]
  },
  {
   "cell_type": "code",
   "execution_count": 68,
   "id": "6f17af28-26a2-4a7a-9aaa-fb82243fbb33",
   "metadata": {},
   "outputs": [
    {
     "data": {
      "text/plain": [
       "False"
      ]
     },
     "execution_count": 68,
     "metadata": {},
     "output_type": "execute_result"
    }
   ],
   "source": [
    "soln = Solution()\n",
    "soln.isAnagram(s2,t2)"
   ]
  },
  {
   "cell_type": "markdown",
   "id": "f8a2a369-6001-4617-8e5a-18fa378f3e07",
   "metadata": {},
   "source": [
    "## 1. Two Sum\n",
    "https://leetcode.com/problems/two-sum/"
   ]
  },
  {
   "cell_type": "markdown",
   "id": "9bb7b7cc-eb38-4af6-b3ef-599f8dcbf1ec",
   "metadata": {},
   "source": [
    "Given an array of integers `nums` and an integer `target`, return *indices of the two numbers such that they add up to `target`.*\n",
    "\n",
    "You may assume that each input would have **exactly one solution**, and you may not use the same element twice.\n",
    "\n",
    "You can return the answer in any order.\n",
    "\n",
    " \n",
    "\n",
    "**Example 1:**\n",
    "```\n",
    "Input: nums = [2,7,11,15], target = 9\n",
    "Output: [0,1]\n",
    "Explanation: Because nums[0] + nums[1] == 9, we return [0, 1].\n",
    "```\n",
    "**Example 2:**\n",
    "```\n",
    "Input: nums = [3,2,4], target = 6\n",
    "Output: [1,2]\n",
    "```\n",
    "**Example 3:**\n",
    "```\n",
    "Input: nums = [3,3], target = 6\n",
    "Output: [0,1]\n",
    "```\n",
    "\n",
    "**Constraints:**\n",
    "\n",
    "* `2 <= nums.length <= 10^4`\n",
    "* `-10^9 <= nums[i] <= 10^9`\n",
    "* `-10^9 <= target <= 10^9`\n",
    "* Only one valid answer exists.\n",
    " \n",
    "\n",
    "**Follow-up:** Can you come up with an algorithm that is less than `O(n^2)` time complexity?\n"
   ]
  },
  {
   "cell_type": "code",
   "execution_count": 5,
   "id": "8518de34-d9c2-46fe-9c42-ce1ecd3fc2cf",
   "metadata": {},
   "outputs": [],
   "source": [
    "nums1 = [2,7,11,15]\n",
    "target1 = 9\n",
    "nums2 = [3,2,4]\n",
    "target2 = 6\n",
    "nums3 = [3,3]\n",
    "target3 = 6"
   ]
  },
  {
   "cell_type": "code",
   "execution_count": 78,
   "id": "3ce16c91-e36d-445d-b863-77483244650f",
   "metadata": {},
   "outputs": [],
   "source": [
    "class Solution:\n",
    "    def twoSum(self, nums: List[int], target: int) -> List[int]:\n",
    "        d = {}\n",
    "        for i in range(len(nums)):\n",
    "            n = nums[i]\n",
    "            if n in d.keys():\n",
    "                d[n].append(i)\n",
    "            else:\n",
    "                d[n] = [i]\n",
    "\n",
    "        for n in d.keys():\n",
    "            if target-n in d.keys():\n",
    "                if (target-n == n) and len(d[target-n])<2:\n",
    "                    continue # not a real solution\n",
    "                r1 = d[n].pop()\n",
    "                r2 = d[target-n].pop()\n",
    "                return [r1,r2]"
   ]
  },
  {
   "cell_type": "code",
   "execution_count": 81,
   "id": "18d3a86a-497a-4c8e-924c-618c70d7b4cb",
   "metadata": {},
   "outputs": [],
   "source": [
    "# more elegant implementation of above idea\n",
    "class Solution:\n",
    "    def twoSum(self, nums: List[int], target: int) -> List[int]:\n",
    "        d = {}\n",
    "\n",
    "        for i in range(len(nums)):\n",
    "            n = nums[i]\n",
    "            comp = target-n\n",
    "            if comp in d.keys():\n",
    "                return [d[comp],i]\n",
    "            else:\n",
    "                d[n] = i"
   ]
  },
  {
   "cell_type": "code",
   "execution_count": 84,
   "id": "cae8d983-a220-4a4a-bddb-b3f9a120bd41",
   "metadata": {},
   "outputs": [
    {
     "data": {
      "text/plain": [
       "[0, 1]"
      ]
     },
     "execution_count": 84,
     "metadata": {},
     "output_type": "execute_result"
    }
   ],
   "source": [
    "soln = Solution()\n",
    "soln.twoSum(nums1,target1)"
   ]
  },
  {
   "cell_type": "markdown",
   "id": "f2823fee-b1f5-498d-9072-b504ecb0067b",
   "metadata": {},
   "source": [
    "## 49. Group Anagrams\n",
    "https://leetcode.com/problems/group-anagrams/"
   ]
  },
  {
   "cell_type": "markdown",
   "id": "40832b01-c7d9-44ee-a2d8-c5e18aeaea0d",
   "metadata": {},
   "source": [
    "Given an array of strings `strs`, group the **anagrams** together. You can return the answer in **any order**.\n",
    "\n",
    "An **Anagram** is a word or phrase formed by rearranging the letters of a different word or phrase, typically using all the original letters exactly once.\n",
    "\n",
    " \n",
    "\n",
    "**Example 1:**\n",
    "```\n",
    "Input: strs = [\"eat\",\"tea\",\"tan\",\"ate\",\"nat\",\"bat\"]\n",
    "Output: [[\"bat\"],[\"nat\",\"tan\"],[\"ate\",\"eat\",\"tea\"]]\n",
    "```\n",
    "**Example 2:**\n",
    "```\n",
    "Input: strs = [\"\"]\n",
    "Output: [[\"\"]]\n",
    "```\n",
    "**Example 3:**\n",
    "```\n",
    "Input: strs = [\"a\"]\n",
    "Output: [[\"a\"]]\n",
    "``` \n",
    "\n",
    "**Constraints:**\n",
    "\n",
    "* `1 <= strs.length <= 10^4`\n",
    "* `0 <= strs[i].length <= 100`\n",
    "* `strs[i] consists of lowercase English letters.`"
   ]
  },
  {
   "cell_type": "code",
   "execution_count": 140,
   "id": "0a858df5-b20f-46d8-94e2-f09230d40787",
   "metadata": {},
   "outputs": [],
   "source": [
    "strs1 = [\"eat\",\"tea\",\"tan\",\"ate\",\"nat\",\"bat\"]\n",
    "strs2 = [\"\"]\n",
    "strs3 = [\"a\"]\n",
    "strs4 = [\"cab\",\"tin\",\"pew\",\"duh\",\"may\",\"ill\",\"buy\",\"bar\",\"max\",\"doc\"]"
   ]
  },
  {
   "cell_type": "code",
   "execution_count": 62,
   "id": "53800dd0-9868-4319-bc07-ddd64fcaae90",
   "metadata": {},
   "outputs": [],
   "source": [
    "# bad O(n^2) solution\n",
    "\n",
    "from typing import List\n",
    "from collections import Counter\n",
    "\n",
    "class Solution:\n",
    "    def groupAnagrams(self, strs: List[str]) -> List[List[str]]:\n",
    "        def isAnagram(str1,str2):\n",
    "            return Counter(str1) == Counter(str2)\n",
    "        \n",
    "        d = {}\n",
    "        \n",
    "        for s in strs:\n",
    "            found = False\n",
    "            if len(d.keys()) > 0:\n",
    "                # check if anagram of existing key\n",
    "                for k in d.keys():\n",
    "                    if isAnagram(k,s):\n",
    "                        # set anagram as found\n",
    "                        found = True\n",
    "\n",
    "                        # record found anagram\n",
    "                        if len(d[k]) > 0:\n",
    "                            d[k].append(s)\n",
    "                        else:\n",
    "                            d[k] = [s]\n",
    "\n",
    "                        break\n",
    "                    \n",
    "                if found == False:\n",
    "                    d[s] = []\n",
    "                \n",
    "            else: # handle first str in strs\n",
    "                d[s] = []\n",
    "        \n",
    "\n",
    "\n",
    "        # iterate through hash table result to return as list\n",
    "        ans = []\n",
    "        for k,v in d.items():\n",
    "            ans.append([k]+v)\n",
    "            \n",
    "        return ans"
   ]
  },
  {
   "cell_type": "code",
   "execution_count": 106,
   "id": "7dd3a87b-8000-40c6-9648-cdc854d5fa67",
   "metadata": {},
   "outputs": [],
   "source": [
    "from typing import List\n",
    "from collections import Counter\n",
    " \n",
    "\n",
    "class Solution:\n",
    "    def groupAnagrams(self, strs: List[str]) -> List[List[str]]:\n",
    "        d = {}\n",
    "        \n",
    "        for s in strs:\n",
    "            anagram = ''.join(sorted(s)) # sorting solution\n",
    "            if anagram in d.keys():\n",
    "                d[anagram].append(s)\n",
    "            else:\n",
    "                d[anagram] = [s]\n",
    "\n",
    "        ans = []\n",
    "        for v in d.values():\n",
    "            ans.append(v)\n",
    "\n",
    "        return ans"
   ]
  },
  {
   "cell_type": "code",
   "execution_count": 148,
   "id": "57fd43dc-b685-4068-94ba-03fc25a16b3a",
   "metadata": {},
   "outputs": [],
   "source": [
    "# better implementation of getting dictionary values\n",
    "# sorting = O(m*nlogn)\n",
    "# using string-hash table = O(m*n)?\n",
    "\n",
    "from typing import List\n",
    "from collections import Counter\n",
    "\n",
    "class Solution:\n",
    "    def groupAnagrams(self, strs: List[str]) -> List[List[str]]:\n",
    "        d = {}\n",
    "        for s in strs:\n",
    "            # sort string to get unique anagram\n",
    "            # anagram = ''.join(sorted(s)) # sorting is O(nlogn)\n",
    "\n",
    "            # construct tuple of character counts in s\n",
    "            counter = [0] * 26\n",
    "            for c in s:\n",
    "                counter[ord(c)-ord('a')] += 1\n",
    "            tp = tuple(counter)\n",
    "            \n",
    "            d[tp] = d.get(tp,[]) + [s]\n",
    "\n",
    "        ans = []\n",
    "        for v in d.values():\n",
    "            ans.append(v)\n",
    "\n",
    "        return d.values()"
   ]
  },
  {
   "cell_type": "code",
   "execution_count": 151,
   "id": "91858e31-d692-40f3-855e-097bc2fda511",
   "metadata": {},
   "outputs": [
    {
     "data": {
      "text/plain": [
       "dict_values([['cab'], ['tin'], ['pew'], ['duh'], ['may'], ['ill'], ['buy'], ['bar'], ['max'], ['doc']])"
      ]
     },
     "execution_count": 151,
     "metadata": {},
     "output_type": "execute_result"
    }
   ],
   "source": [
    "soln = Solution()\n",
    "soln.groupAnagrams(strs4)"
   ]
  },
  {
   "cell_type": "markdown",
   "id": "262f266c-2a56-40e6-a33e-9146a9350f05",
   "metadata": {},
   "source": [
    "## 347. Top K Frequent Elements\n",
    "\n",
    "https://leetcode.com/problems/top-k-frequent-elements/"
   ]
  },
  {
   "cell_type": "markdown",
   "id": "f4007381-7d46-4c61-b89e-ec92bbb12af3",
   "metadata": {},
   "source": [
    "Given an integer array `nums` and an integer `k`, return the `k` most *frequent elements*. You may return the answer in **any order**.\n",
    "\n",
    " \n",
    "\n",
    "**Example 1:**\n",
    "```\n",
    "Input: nums = [1,1,1,2,2,3], k = 2\n",
    "Output: [1,2]\n",
    "```\n",
    "**Example 2:**\n",
    "```\n",
    "Input: nums = [1], k = 1\n",
    "Output: [1]\n",
    "```\n",
    "\n",
    "**Constraints:**\n",
    "\n",
    "* `1 <= nums.length <= 10^5`\n",
    "* `-10^4 <= nums[i] <= 10^4`\n",
    "* `k is in the range [1, the number of unique elements in the array].`\n",
    "* It is **guaranteed** that the answer is unique.\n",
    " \n",
    "\n",
    "**Follow up:** Your algorithm's time complexity must be better than `O(n log n)`, where `n` is the array's size."
   ]
  },
  {
   "cell_type": "code",
   "execution_count": 65,
   "id": "3815c409-eb59-42ed-b624-be765fe4467c",
   "metadata": {},
   "outputs": [],
   "source": [
    "nums1 = [1,1,1,2,2,3]\n",
    "k1 = 2\n",
    "nums2 = [1]\n",
    "k2 = 1\n",
    "nums3 = [3,0,1,0]\n",
    "k3 = 1\n",
    "nums4 = [4,1,-1,2,-1,2,3]\n",
    "k4 = 2"
   ]
  },
  {
   "cell_type": "code",
   "execution_count": 66,
   "id": "a05a848b-6299-45de-b054-ba05da1986ca",
   "metadata": {},
   "outputs": [],
   "source": [
    "from typing import List\n",
    "\n",
    "class Solution:\n",
    "    def topKFrequent(self, nums: List[int], k: int) -> List[int]:\n",
    "        d = {}\n",
    "\n",
    "        for n in nums:\n",
    "            if n in d.keys():\n",
    "                d[n] += 1\n",
    "            else:\n",
    "                d[n] = 1\n",
    "\n",
    "        # ans = [(k,v) for k,v in d.items()]\n",
    "        ans = sorted(d.items(), key=lambda x: x[1],reverse=True)\n",
    "        \n",
    "        return [x[0] for x in ans[:k]]"
   ]
  },
  {
   "cell_type": "code",
   "execution_count": 71,
   "id": "b98ace0a-69a3-4092-86c9-72e66dfd4508",
   "metadata": {},
   "outputs": [],
   "source": [
    "# followup solution: using bucket sort on the hashmap of counts\n",
    "# create a bucket array with indices representing the frequency of occurance in original array, then store original number as value\n",
    "# i.e. nums1 = [1,1,1,2,2,3] so bucket array would be [0,3,2,1,0,0,0]\n",
    "# bucket array is bounded by size n (input array size) and top k occuring elements is just the right-most non-zero k values in bucket array\n",
    "\n",
    "from typing import List\n",
    "\n",
    "class Solution:\n",
    "    def topKFrequent(self, nums: List[int], k: int) -> List[int]:\n",
    "        d = {}\n",
    "        for n in nums:\n",
    "            d[n] = d.get(n,0) + 1\n",
    "            \n",
    "        bucketd = [ [] for x in range(len(nums)+1) ]\n",
    "        for key,val in d.items():\n",
    "            bucketd[val].append(key)\n",
    "\n",
    "        ans = []\n",
    "        for x in reversed(bucketd):\n",
    "            if (len(x) > 0) and len(ans) < k:\n",
    "                ans = ans + x\n",
    "                \n",
    "        \n",
    "        return ans"
   ]
  },
  {
   "cell_type": "code",
   "execution_count": 72,
   "id": "85d2db32-2afd-4331-b80a-3cec63c3a1eb",
   "metadata": {},
   "outputs": [
    {
     "data": {
      "text/plain": [
       "[-1, 2]"
      ]
     },
     "execution_count": 72,
     "metadata": {},
     "output_type": "execute_result"
    }
   ],
   "source": [
    "soln = Solution()\n",
    "soln.topKFrequent(nums4,k4)"
   ]
  },
  {
   "cell_type": "markdown",
   "id": "3a5b4eac-c2b3-4a14-ab00-0dc71b97feb5",
   "metadata": {},
   "source": [
    "## 238. Product of Array Except Self\n",
    "\n",
    "https://leetcode.com/problems/product-of-array-except-self/"
   ]
  },
  {
   "cell_type": "markdown",
   "id": "ddc8bde8-7ec7-40c8-8c14-eec1e090603d",
   "metadata": {},
   "source": [
    "Given an integer array `nums`, return an array `answer` such that `answer[i]` is equal to the product of all the elements of `nums` except `nums[i]`.\n",
    "\n",
    "The product of any prefix or suffix of `nums` is **guaranteed** to fit in a **32-bit** integer.\n",
    "\n",
    "You must write an algorithm that runs in `O(n)` time and without using the division operation.\n",
    "\n",
    " \n",
    "\n",
    "**Example 1:**\n",
    "```\n",
    "Input: nums = [1,2,3,4]\n",
    "Output: [24,12,8,6]\n",
    "```\n",
    "**Example 2:**\n",
    "```\n",
    "Input: nums = [-1,1,0,-3,3]\n",
    "Output: [0,0,9,0,0]\n",
    "```\n",
    "\n",
    "**Constraints:**\n",
    "\n",
    "* `2 <= nums.length <= 10^5`\n",
    "* `-30 <= nums[i] <= 30`\n",
    "* The product of any prefix or suffix of `nums` is guaranteed to fit in a **32-bit** integer.\n",
    " \n",
    "\n",
    "**Follow up:** Can you solve the problem in `O(1)` extra space complexity? (The output array does not count as extra space for space complexity analysis.)"
   ]
  },
  {
   "cell_type": "code",
   "execution_count": 1,
   "id": "65d71356-7831-45f6-a9f0-142a03febe0e",
   "metadata": {},
   "outputs": [],
   "source": [
    "nums1 = [1,2,3,4]\n",
    "nums2 = [-1,1,0,-3,3]"
   ]
  },
  {
   "cell_type": "code",
   "execution_count": 22,
   "id": "42241335-0070-4c72-9ef2-f86e831bf192",
   "metadata": {},
   "outputs": [],
   "source": [
    "# two-pass solution: iterate through array twice to build an array of products to the left of nums[i] and an array of products to the right of nums[i]\n",
    "from typing import List\n",
    "\n",
    "class Solution:\n",
    "    def productExceptSelf(self, nums: List[int]) -> List[int]:\n",
    "        leftprod = [0] * len(nums)\n",
    "        rightprod = [0] * len(nums)\n",
    "\n",
    "        cumm_prod = 1\n",
    "        for i in range(len(nums)):\n",
    "            leftprod[i] = cumm_prod\n",
    "            cumm_prod *= nums[i]\n",
    "\n",
    "        cumm_prod = 1\n",
    "        for i in range(len(nums)-1,-1,-1):\n",
    "            rightprod[i] = cumm_prod\n",
    "            cumm_prod *= nums[i]\n",
    "\n",
    "        \n",
    "        ans = [0] * len(nums)\n",
    "        for i in range(len(nums)):\n",
    "            ans[i] = leftprod[i]*rightprod[i]\n",
    "        \n",
    "        return ans"
   ]
  },
  {
   "cell_type": "code",
   "execution_count": 23,
   "id": "8ca66687-7ebe-4ff6-86d1-fc116d6e6024",
   "metadata": {},
   "outputs": [
    {
     "data": {
      "text/plain": [
       "[0, 0, 9, 0, 0]"
      ]
     },
     "execution_count": 23,
     "metadata": {},
     "output_type": "execute_result"
    }
   ],
   "source": [
    "soln = Solution()\n",
    "soln.productExceptSelf(nums2)"
   ]
  },
  {
   "cell_type": "markdown",
   "id": "8991e38e-0c59-4c05-bc30-1b1d696ba309",
   "metadata": {},
   "source": [
    "## 36. Valid Sudoku\n",
    "\n",
    "https://leetcode.com/problems/valid-sudoku/"
   ]
  },
  {
   "cell_type": "markdown",
   "id": "a6154f0b-2ee0-4b68-ba4b-b3772d8b3443",
   "metadata": {},
   "source": [
    "Determine if a `9 x 9` Sudoku board is valid. Only the filled cells need to be validated according to the following rules:\n",
    "\n",
    "1. Each row must contain the digits `1-9` without repetition.\n",
    "2. Each column must contain the digits `1-9` without repetition.\n",
    "3. Each of the nine `3 x 3` sub-boxes of the grid must contain the digits `1-9` without repetition.\n",
    "\n",
    "**Note:**\n",
    "\n",
    "* A Sudoku board (partially filled) could be valid but is not necessarily solvable.\n",
    "* Only the filled cells need to be validated according to the mentioned rules.\n",
    " \n",
    "\n",
    "**Example 1:**\n",
    "\n",
    "![board1](https://upload.wikimedia.org/wikipedia/commons/thumb/f/ff/Sudoku-by-L2G-20050714.svg/250px-Sudoku-by-L2G-20050714.svg.png)\n",
    "```\n",
    "Input: board = \n",
    "[[\"5\",\"3\",\".\",\".\",\"7\",\".\",\".\",\".\",\".\"]\n",
    ",[\"6\",\".\",\".\",\"1\",\"9\",\"5\",\".\",\".\",\".\"]\n",
    ",[\".\",\"9\",\"8\",\".\",\".\",\".\",\".\",\"6\",\".\"]\n",
    ",[\"8\",\".\",\".\",\".\",\"6\",\".\",\".\",\".\",\"3\"]\n",
    ",[\"4\",\".\",\".\",\"8\",\".\",\"3\",\".\",\".\",\"1\"]\n",
    ",[\"7\",\".\",\".\",\".\",\"2\",\".\",\".\",\".\",\"6\"]\n",
    ",[\".\",\"6\",\".\",\".\",\".\",\".\",\"2\",\"8\",\".\"]\n",
    ",[\".\",\".\",\".\",\"4\",\"1\",\"9\",\".\",\".\",\"5\"]\n",
    ",[\".\",\".\",\".\",\".\",\"8\",\".\",\".\",\"7\",\"9\"]]\n",
    "Output: true\n",
    "```\n",
    "**Example 2:**\n",
    "\n",
    "```\n",
    "Input: board = \n",
    "[[\"8\",\"3\",\".\",\".\",\"7\",\".\",\".\",\".\",\".\"]\n",
    ",[\"6\",\".\",\".\",\"1\",\"9\",\"5\",\".\",\".\",\".\"]\n",
    ",[\".\",\"9\",\"8\",\".\",\".\",\".\",\".\",\"6\",\".\"]\n",
    ",[\"8\",\".\",\".\",\".\",\"6\",\".\",\".\",\".\",\"3\"]\n",
    ",[\"4\",\".\",\".\",\"8\",\".\",\"3\",\".\",\".\",\"1\"]\n",
    ",[\"7\",\".\",\".\",\".\",\"2\",\".\",\".\",\".\",\"6\"]\n",
    ",[\".\",\"6\",\".\",\".\",\".\",\".\",\"2\",\"8\",\".\"]\n",
    ",[\".\",\".\",\".\",\"4\",\"1\",\"9\",\".\",\".\",\"5\"]\n",
    ",[\".\",\".\",\".\",\".\",\"8\",\".\",\".\",\"7\",\"9\"]]\n",
    "Output: false\n",
    "Explanation: Same as Example 1, except with the 5 in the top left corner being modified to 8. Since there are two 8's in the top left 3x3 sub-box, it is invalid.\n",
    "``` \n",
    "\n",
    "**Constraints:**\n",
    "\n",
    "* `board.length == 9`\n",
    "* `board[i].length == 9`\n",
    "* `board[i][j] is a digit 1-9 or '.'.`"
   ]
  },
  {
   "cell_type": "code",
   "execution_count": 6,
   "id": "5768caa8-c3e2-4487-85b3-bbcd561fe3c6",
   "metadata": {},
   "outputs": [],
   "source": [
    "board1 = [[\"5\",\"3\",\".\",\".\",\"7\",\".\",\".\",\".\",\".\"]\n",
    "         ,[\"6\",\".\",\".\",\"1\",\"9\",\"5\",\".\",\".\",\".\"]\n",
    "         ,[\".\",\"9\",\"8\",\".\",\".\",\".\",\".\",\"6\",\".\"]\n",
    "         ,[\"8\",\".\",\".\",\".\",\"6\",\".\",\".\",\".\",\"3\"]\n",
    "         ,[\"4\",\".\",\".\",\"8\",\".\",\"3\",\".\",\".\",\"1\"]\n",
    "         ,[\"7\",\".\",\".\",\".\",\"2\",\".\",\".\",\".\",\"6\"]\n",
    "         ,[\".\",\"6\",\".\",\".\",\".\",\".\",\"2\",\"8\",\".\"]\n",
    "         ,[\".\",\".\",\".\",\"4\",\"1\",\"9\",\".\",\".\",\"5\"]\n",
    "         ,[\".\",\".\",\".\",\".\",\"8\",\".\",\".\",\"7\",\"9\"]]\n",
    "\n",
    "board2 = [[\"8\",\"3\",\".\",\".\",\"7\",\".\",\".\",\".\",\".\"]\n",
    "         ,[\"6\",\".\",\".\",\"1\",\"9\",\"5\",\".\",\".\",\".\"]\n",
    "         ,[\".\",\"9\",\"8\",\".\",\".\",\".\",\".\",\"6\",\".\"]\n",
    "         ,[\"8\",\".\",\".\",\".\",\"6\",\".\",\".\",\".\",\"3\"]\n",
    "         ,[\"4\",\".\",\".\",\"8\",\".\",\"3\",\".\",\".\",\"1\"]\n",
    "         ,[\"7\",\".\",\".\",\".\",\"2\",\".\",\".\",\".\",\"6\"]\n",
    "         ,[\".\",\"6\",\".\",\".\",\".\",\".\",\"2\",\"8\",\".\"]\n",
    "         ,[\".\",\".\",\".\",\"4\",\"1\",\"9\",\".\",\".\",\"5\"]\n",
    "         ,[\".\",\".\",\".\",\".\",\"8\",\".\",\".\",\"7\",\"9\"]]"
   ]
  },
  {
   "cell_type": "code",
   "execution_count": 47,
   "id": "0d6924a1-e096-48dc-8a5d-508056ba7864",
   "metadata": {},
   "outputs": [],
   "source": [
    "from typing import List\n",
    "\n",
    "class Solution:\n",
    "    def isValidSudoku(self, board: List[List[str]]) -> bool:\n",
    "        # rows\n",
    "        for i in range(len(board)):\n",
    "            rowset = set()\n",
    "            for j in range(len(board[i])):\n",
    "                if board[i][j] != '.' and board[i][j] in rowset:\n",
    "                    return False\n",
    "                else:\n",
    "                    rowset.add(board[i][j])\n",
    "\n",
    "        # cols\n",
    "        for i in range(len(board)):\n",
    "            colset = set()\n",
    "            for j in range(len(board[i])):\n",
    "                if board[j][i] != '.' and board[j][i] in colset:\n",
    "                    return False\n",
    "                else:\n",
    "                    colset.add(board[j][i])\n",
    "                    \n",
    "        # 3x3s\n",
    "        for i in range(len(board)):\n",
    "            if i%3 == 0: # create new sets when i is divisible by 3\n",
    "                threeset1 = set()\n",
    "                threeset2 = set()\n",
    "                threeset3 = set()\n",
    "            \n",
    "            for j in range(len(board[i])):\n",
    "                if board[i][j] != '.':\n",
    "                    if 0 <= j <= 2:\n",
    "                        if board[i][j] in threeset1:\n",
    "                            return False\n",
    "                        else:\n",
    "                            threeset1.add(board[i][j])\n",
    "                            \n",
    "                    elif 3 <= j <= 5:\n",
    "                        if board[i][j] in threeset2:\n",
    "                            return False\n",
    "                        else:\n",
    "                            threeset2.add(board[i][j])\n",
    "                    \n",
    "                    elif 6 <= j <= 8:\n",
    "                        if board[i][j] in threeset3:\n",
    "                            return False\n",
    "                        else:\n",
    "                            threeset3.add(board[i][j])\n",
    "                    \n",
    "                    \n",
    "        return True"
   ]
  },
  {
   "cell_type": "code",
   "execution_count": 48,
   "id": "0abb174d-f8f5-4d00-a017-c4e49743784c",
   "metadata": {},
   "outputs": [
    {
     "data": {
      "text/plain": [
       "True"
      ]
     },
     "execution_count": 48,
     "metadata": {},
     "output_type": "execute_result"
    }
   ],
   "source": [
    "soln = Solution()\n",
    "soln.isValidSudoku(board1)"
   ]
  },
  {
   "cell_type": "code",
   "execution_count": 14,
   "id": "ee30dd11-c2f7-455e-b184-b0d136d7105a",
   "metadata": {},
   "outputs": [
    {
     "data": {
      "text/plain": [
       "['6', '.', '.', '1', '9', '5', '.', '.', '.']"
      ]
     },
     "execution_count": 14,
     "metadata": {},
     "output_type": "execute_result"
    }
   ],
   "source": [
    "board1[1]"
   ]
  },
  {
   "cell_type": "markdown",
   "id": "082def7d-9ee2-4f8d-915b-07a9a210c4e5",
   "metadata": {},
   "source": [
    "## 659 · Encode and Decode Strings\n",
    "\n",
    "leetcode premium: https://leetcode.com/problems/encode-and-decode-strings/\n",
    "\n",
    "lintcode: https://www.lintcode.com/problem/659/\n",
    "* note: some kind of Chinese leetcode copy?"
   ]
  },
  {
   "cell_type": "markdown",
   "id": "c80ca804-b255-4451-8df4-c0a8e14967e1",
   "metadata": {},
   "source": [
    "Design an algorithm to encode a list of strings to a string. The encoded string is then sent over the network and is decoded back to the original list of strings.\n",
    "\n",
    "Please implement `encode` and `decode`\n",
    "\n",
    "**Example1**\n",
    "```\n",
    "Input: [\"lint\",\"code\",\"love\",\"you\"]\n",
    "Output: [\"lint\",\"code\",\"love\",\"you\"]\n",
    "Explanation:\n",
    "One possible encode method is: \"lint:;code:;love:;you\"\n",
    "```\n",
    "**Example2**\n",
    "```\n",
    "Input: [\"we\", \"say\", \":\", \"yes\"]\n",
    "Output: [\"we\", \"say\", \":\", \"yes\"]\n",
    "Explanation:\n",
    "One possible encode method is: \"we:;say:;:::;yes\"\n",
    "```"
   ]
  },
  {
   "cell_type": "code",
   "execution_count": 11,
   "id": "c9d43980-501c-4095-b7d6-041829adde58",
   "metadata": {},
   "outputs": [],
   "source": [
    "input1 = [\"lint\",\"code\",\"love\",\"you\"]\n",
    "input2 = [\"we\", \"say\", \":\", \"yes\"]\n",
    "input3 = [\"we\", \"say\", \",\", \"yes\"]"
   ]
  },
  {
   "cell_type": "code",
   "execution_count": 46,
   "id": "d2c8acbb-ccfc-4912-8219-62a4c692fede",
   "metadata": {},
   "outputs": [],
   "source": [
    "# idea: prepend each word with the number of characters in word + a delimieter (like \"#\" or \"+\")\n",
    "# then decoding will use this information to determine the length of each individual word\n",
    "\n",
    "class Solution:\n",
    "    \"\"\"\n",
    "    @param: strs: a list of strings\n",
    "    @return: encodes a list of strings to a single string.\n",
    "    \"\"\"\n",
    "    def encode(self, strs):\n",
    "        # write your code here\n",
    "        encoded = ''\n",
    "        for s in strs:\n",
    "            encoded += str(len(s)) + '+' + s\n",
    "        return encoded\n",
    "\n",
    "    \"\"\"\n",
    "    @param: str: A string\n",
    "    @return: decodes a single string to a list of strings\n",
    "    \"\"\"\n",
    "    def decode(self, str):\n",
    "        # write your code here\n",
    "        decoded = []\n",
    "        i = 0\n",
    "        wordlen_s = ''\n",
    "\n",
    "        while i < (len(str)):\n",
    "            if str[i] != '+': # parse for word length\n",
    "                wordlen_s += str[i]\n",
    "                i += 1\n",
    "            else: # parse word\n",
    "                wordlength = int(wordlen_s)\n",
    "                decoded.append(str[i+1:i+1+wordlength])\n",
    "                i = i+1+wordlength\n",
    "                wordlen_s = ''\n",
    "                \n",
    "        return decoded"
   ]
  },
  {
   "cell_type": "code",
   "execution_count": 49,
   "id": "f0c39f0e-b9a3-4408-adc9-7857ad2a5a14",
   "metadata": {},
   "outputs": [
    {
     "data": {
      "text/plain": [
       "'2+we3+say1+:3+yes'"
      ]
     },
     "execution_count": 49,
     "metadata": {},
     "output_type": "execute_result"
    }
   ],
   "source": [
    "soln = Solution()\n",
    "encoded = soln.encode(input2)\n",
    "encoded"
   ]
  },
  {
   "cell_type": "code",
   "execution_count": 50,
   "id": "898ced83-d3f0-42df-bc7b-73a6f5dd200b",
   "metadata": {},
   "outputs": [
    {
     "data": {
      "text/plain": [
       "['we', 'say', ':', 'yes']"
      ]
     },
     "execution_count": 50,
     "metadata": {},
     "output_type": "execute_result"
    }
   ],
   "source": [
    "soln.decode(encoded)"
   ]
  },
  {
   "cell_type": "markdown",
   "id": "a51c5862-e2dc-4945-b589-bd8228d40aa8",
   "metadata": {},
   "source": [
    "## 128. Longest Consecutive Sequence\n",
    "\n",
    "\n",
    "leetcode: https://leetcode.com/problems/longest-consecutive-sequence/"
   ]
  },
  {
   "cell_type": "markdown",
   "id": "a2bdc3a3-3c27-475b-ab13-dd35027fcbe0",
   "metadata": {},
   "source": [
    "Given an unsorted array of integers `nums`, return the length of the longest consecutive elements sequence.\n",
    "\n",
    "You must write an algorithm that runs in `O(n)` time.\n",
    "\n",
    " \n",
    "\n",
    "**Example 1:**\n",
    "```\n",
    "Input: nums = [100,4,200,1,3,2]\n",
    "Output: 4\n",
    "Explanation: The longest consecutive elements sequence is [1, 2, 3, 4]. Therefore its length is 4.\n",
    "```\n",
    "**Example 2:**\n",
    "```\n",
    "Input: nums = [0,3,7,2,5,8,4,6,0,1]\n",
    "Output: 9\n",
    "``` \n",
    "\n",
    "**Constraints:**\n",
    "\n",
    "* `0 <= nums.length <= 10^5`\n",
    "* `-10^9 <= nums[i] <= 10^9`"
   ]
  },
  {
   "cell_type": "code",
   "execution_count": 144,
   "id": "b043aec8-ad28-4681-9e7a-7c3f94b6547a",
   "metadata": {},
   "outputs": [],
   "source": [
    "nums1 = [100,4,200,1,3,2]\n",
    "nums2 = [0,3,7,2,5,8,4,6,0,1]\n",
    "nums3 = []\n",
    "nums4 = [9,1,4,7,3,-1,0,5,8,-1,6]\n",
    "nums5 = [0,1,2,4,8,5,6,7,9,3,55,88,77,99,999999999]"
   ]
  },
  {
   "cell_type": "code",
   "execution_count": 137,
   "id": "1a701acf-543a-4b23-bf93-315d54c9401d",
   "metadata": {},
   "outputs": [],
   "source": [
    "# takes too long\n",
    "from typing import List\n",
    "import heapq\n",
    "\n",
    "class Solution:\n",
    "    def longestConsecutive(self, nums: List[int]) -> int:\n",
    "        if len(nums) == 0:\n",
    "            return 0\n",
    "            \n",
    "        negnums = [-1*n for n in nums]\n",
    "        heapq.heapify(negnums)\n",
    "        heapq.heapify(nums)\n",
    "        root = nums[0]\n",
    "        maxroot = -1*negnums[0]\n",
    "\n",
    "        numset = set(nums)\n",
    "        ans, length = 0, 1\n",
    "        while root <= maxroot:\n",
    "            if root+1 in numset:\n",
    "                length += 1\n",
    "            else:\n",
    "                if length > ans:\n",
    "                    ans = length\n",
    "                length = 0\n",
    "                \n",
    "            root += 1\n",
    "        return ans"
   ]
  },
  {
   "cell_type": "code",
   "execution_count": 145,
   "id": "7ca72429-74ac-4a66-b97d-4be611c6f692",
   "metadata": {},
   "outputs": [],
   "source": [
    "from typing import List\n",
    "\n",
    "class Solution:\n",
    "    def longestConsecutive(self, nums: List[int]) -> int:\n",
    "        numset = set(nums)\n",
    "        ans = 0\n",
    "        for n in nums:\n",
    "            if n-1 not in numset:\n",
    "                seq = n\n",
    "                seqlength = 1\n",
    "                while seq+1 in numset:\n",
    "                    seqlength += 1\n",
    "                    seq += 1\n",
    "\n",
    "                if seqlength > ans:\n",
    "                    ans = seqlength\n",
    "        return ans"
   ]
  },
  {
   "cell_type": "code",
   "execution_count": 149,
   "id": "0cc7d37e-a277-42ba-9098-1b97d50c8757",
   "metadata": {},
   "outputs": [],
   "source": [
    "from typing import List\n",
    "\n",
    "class Solution:\n",
    "    def longestConsecutive(self, nums: List[int]) -> int:\n",
    "        numset = set(nums)\n",
    "        longest = 0\n",
    "        \n",
    "        for n in nums:\n",
    "            if n-1 not in numset:\n",
    "                seqlength = 1\n",
    "                while n+seqlength in numset:\n",
    "                    seqlength += 1\n",
    "\n",
    "                longest = max(longest,seqlength)\n",
    "        return longest"
   ]
  },
  {
   "cell_type": "code",
   "execution_count": 150,
   "id": "fe8da32c-6fe4-435b-a075-74c71ceb68bb",
   "metadata": {},
   "outputs": [
    {
     "data": {
      "text/plain": [
       "10"
      ]
     },
     "execution_count": 150,
     "metadata": {},
     "output_type": "execute_result"
    }
   ],
   "source": [
    "soln = Solution()\n",
    "soln.longestConsecutive(nums5)"
   ]
  },
  {
   "cell_type": "code",
   "execution_count": 147,
   "id": "3f3ac55e-19b8-4d57-8da9-e8ddc5a56134",
   "metadata": {},
   "outputs": [
    {
     "data": {
      "text/plain": [
       "[0, 1, 2, 3, 4, 5, 6, 7, 8, 9, 55, 77, 88, 99, 999999999]"
      ]
     },
     "execution_count": 147,
     "metadata": {},
     "output_type": "execute_result"
    }
   ],
   "source": [
    "sorted(nums5)"
   ]
  },
  {
   "cell_type": "markdown",
   "id": "db2868b4-bea9-434b-9173-b87609a94aa1",
   "metadata": {},
   "source": [
    "# Two Pointers"
   ]
  },
  {
   "cell_type": "markdown",
   "id": "ab8ca38b-5ada-410f-8060-7d118459a7d6",
   "metadata": {},
   "source": [
    "## 125. Valid Palindrome\n",
    "\n",
    "leetcode: https://leetcode.com/problems/valid-palindrome/"
   ]
  },
  {
   "cell_type": "markdown",
   "id": "991f3d72-8d9c-4551-b513-2ca3ad6a3a4e",
   "metadata": {},
   "source": [
    "A phrase is a **palindrome** if, after converting all uppercase letters into lowercase letters and removing all non-alphanumeric characters, it reads the same forward and backward. Alphanumeric characters include letters and numbers.\n",
    "\n",
    "Given a string `s`, return `true` if it is a **palindrome**, or `false` otherwise.\n",
    "\n",
    " \n",
    "\n",
    "**Example 1:**\n",
    "```\n",
    "Input: s = \"A man, a plan, a canal: Panama\"\n",
    "Output: true\n",
    "Explanation: \"amanaplanacanalpanama\" is a palindrome.\n",
    "```\n",
    "**Example 2:**\n",
    "```\n",
    "Input: s = \"race a car\"\n",
    "Output: false\n",
    "Explanation: \"raceacar\" is not a palindrome.\n",
    "```\n",
    "**Example 3:**\n",
    "```\n",
    "Input: s = \" \"\n",
    "Output: true\n",
    "Explanation: s is an empty string \"\" after removing non-alphanumeric characters.\n",
    "Since an empty string reads the same forward and backward, it is a palindrome.\n",
    "``` \n",
    "\n",
    "**Constraints:**\n",
    "\n",
    "* `1 <= s.length <= 2 * 10^5`\n",
    "* `s consists only of printable ASCII characters.`"
   ]
  },
  {
   "cell_type": "code",
   "execution_count": 1,
   "id": "1f1b58ac-8244-4215-9751-e0f1db64af86",
   "metadata": {},
   "outputs": [],
   "source": [
    "s1 = \"A man, a plan, a canal: Panama\"\n",
    "s2 = \"race a car\"\n",
    "s3 = \" \""
   ]
  },
  {
   "cell_type": "code",
   "execution_count": 12,
   "id": "f1f2283e-5a45-4cf2-92d9-c85e88f8098e",
   "metadata": {},
   "outputs": [],
   "source": [
    "import re\n",
    "\n",
    "class Solution:\n",
    "    def isPalindrome(self, s: str) -> bool:\n",
    "        stripped = re.sub(r'[^a-z0-9]','',s.lower())\n",
    "\n",
    "        return stripped == stripped[::-1]"
   ]
  },
  {
   "cell_type": "code",
   "execution_count": 53,
   "id": "158588c2-b04d-48a6-a3f5-f63c84d1ba6f",
   "metadata": {},
   "outputs": [],
   "source": [
    "# manual algorithm using a stack\n",
    "\n",
    "class Solution:\n",
    "    def isPalindrome(self, s: str) -> bool:\n",
    "        stack = []\n",
    "        for c in s:\n",
    "            if c.lower().isalnum():\n",
    "                stack.append(c.lower())\n",
    "        \n",
    "        for c in s:\n",
    "            c = c.lower()\n",
    "            if c.isalnum():\n",
    "                lastc = stack.pop()\n",
    "                if c != lastc:\n",
    "                    return False\n",
    "                \n",
    "        return True"
   ]
  },
  {
   "cell_type": "code",
   "execution_count": 88,
   "id": "32e956f7-6bd9-407d-9bef-f0550821d0c9",
   "metadata": {},
   "outputs": [],
   "source": [
    "# no extra memory, not using builtin function .isalnum()\n",
    "# use pointers\n",
    "\n",
    "class Solution:\n",
    "    def isPalindrome(self, s: str) -> bool:\n",
    "        def is_alnum(c: str) -> bool:\n",
    "            return (ord('A') <= ord(c) <= ord('Z')) or (ord('a') <= ord(c) <= ord('z')) or (ord('0') <= ord(c) <= ord('9'))     \n",
    "            \n",
    "        r = len(s)-1\n",
    "        l = 0\n",
    "\n",
    "        while l < r:\n",
    "            if is_alnum(s[l]) and is_alnum(s[r]):\n",
    "                if s[l].lower() != s[r].lower():\n",
    "                    return False\n",
    "                l += 1\n",
    "                r -= 1\n",
    "            elif not is_alnum(s[l]):\n",
    "                l += 1\n",
    "            elif not is_alnum(s[r]):\n",
    "                r -= 1\n",
    "        \n",
    "        return True"
   ]
  },
  {
   "cell_type": "code",
   "execution_count": 89,
   "id": "5849b81c-7ad7-48c3-8f4b-09f0b2950096",
   "metadata": {},
   "outputs": [
    {
     "data": {
      "text/plain": [
       "True"
      ]
     },
     "execution_count": 89,
     "metadata": {},
     "output_type": "execute_result"
    }
   ],
   "source": [
    "soln = Solution()\n",
    "soln.isPalindrome(s3)"
   ]
  },
  {
   "cell_type": "code",
   "execution_count": 81,
   "id": "4de69246-231a-4181-a798-06c2582b75d3",
   "metadata": {},
   "outputs": [
    {
     "data": {
      "text/plain": [
       "'A man, a plan, a canal: Panama'"
      ]
     },
     "execution_count": 81,
     "metadata": {},
     "output_type": "execute_result"
    }
   ],
   "source": [
    "s1"
   ]
  },
  {
   "cell_type": "markdown",
   "id": "c218cdec-212d-4d2a-b474-041b2fed84c9",
   "metadata": {},
   "source": [
    "## 167. Two Sum II - Input Array Is Sorted\n",
    "\n",
    "leetcode: https://leetcode.com/problems/two-sum-ii-input-array-is-sorted/"
   ]
  },
  {
   "cell_type": "markdown",
   "id": "bdbcc996-bd3f-4856-afd4-90a59d12e4e4",
   "metadata": {},
   "source": [
    "Given a **1-indexed** array of integers `numbers` that is already **sorted in non-decreasing order**, find two numbers such that they add up to a specific `target` number. Let these two numbers be `numbers[index1]` and `numbers[index2]` where `1 <= index1 < index2 < numbers.length`.\n",
    "\n",
    "Return the indices of the two numbers, `index1` and `index2`, added by one as an integer array `[index1, index2]` of length 2.\n",
    "\n",
    "The tests are generated such that there is **exactly one solution**. You may not use the same element twice.\n",
    "\n",
    "Your solution must use only constant extra space.\n",
    "\n",
    " \n",
    "\n",
    "**Example 1:**\n",
    "```\n",
    "Input: numbers = [2,7,11,15], target = 9\n",
    "Output: [1,2]\n",
    "Explanation: The sum of 2 and 7 is 9. Therefore, index1 = 1, index2 = 2. We return [1, 2].\n",
    "```\n",
    "**Example 2:**\n",
    "```\n",
    "Input: numbers = [2,3,4], target = 6\n",
    "Output: [1,3]\n",
    "Explanation: The sum of 2 and 4 is 6. Therefore index1 = 1, index2 = 3. We return [1, 3].\n",
    "```\n",
    "**Example 3:**\n",
    "```\n",
    "Input: numbers = [-1,0], target = -1\n",
    "Output: [1,2]\n",
    "Explanation: The sum of -1 and 0 is -1. Therefore index1 = 1, index2 = 2. We return [1, 2].\n",
    "```\n",
    "\n",
    "**Constraints:**\n",
    "\n",
    "* `2 <= numbers.length <= 3 * 10^4`\n",
    "* `-1000 <= numbers[i] <= 1000`\n",
    "* `numbers` is sorted in non-decreasing order.\n",
    "* `-1000 <= target <= 1000`\n",
    "* The tests are generated such that there is exactly one solution."
   ]
  },
  {
   "cell_type": "code",
   "execution_count": 142,
   "id": "e432c4f1-903d-4170-be7d-be60013f7ce3",
   "metadata": {},
   "outputs": [],
   "source": [
    "numbers1 = [2,7,11,15]\n",
    "target1 = 9\n",
    "numbers2 = [2,3,4]\n",
    "target2 = 6\n",
    "numbers3 = [-1,0]\n",
    "target3 = -1\n",
    "numbers4 = [0,0,3,4]\n",
    "target4 = 0\n",
    "numbers5 = [0,0,1,1,3,4]\n",
    "target5 = 2"
   ]
  },
  {
   "cell_type": "code",
   "execution_count": 156,
   "id": "94cf61d2-835b-4bc8-8714-096db9f63c71",
   "metadata": {},
   "outputs": [],
   "source": [
    "from typing import List\n",
    "\n",
    "class Solution:\n",
    "    def twoSum(self, numbers: List[int], target: int) -> List[int]:\n",
    "        def binsearch(nums,target,l,r):\n",
    "            if l > r:\n",
    "                return -1\n",
    "            \n",
    "            mid = (l+r)//2 \n",
    "            if nums[mid] == target:\n",
    "                return mid  \n",
    "            elif nums[mid] > target: # search left\n",
    "                return binsearch(nums,target,l,mid-1)\n",
    "            elif nums[mid] < target: # search right\n",
    "                return binsearch(nums,target,mid+1,r)\n",
    "                \n",
    "        for i in range(len(numbers)):\n",
    "            comp = target-numbers[i]\n",
    "            # binary search rest of array\n",
    "            compi = binsearch(numbers, comp, i+1, len(numbers)-1)\n",
    "            if compi != -1:\n",
    "                return [i+1,compi+1]\n",
    "        \n",
    "        return 'wtf'"
   ]
  },
  {
   "cell_type": "code",
   "execution_count": 166,
   "id": "1be4b8e8-9dd5-4eac-89c8-37a5b5aac3a8",
   "metadata": {},
   "outputs": [],
   "source": [
    "# optimal O(n) solution using two pointers + shifting\n",
    "from typing import List\n",
    "\n",
    "class Solution:\n",
    "    def twoSum(self, numbers: List[int], target: int) -> List[int]:\n",
    "        l,r = 0, len(numbers)-1\n",
    "\n",
    "        while l < r:\n",
    "            cand = numbers[l] + numbers[r]\n",
    "            if cand == target:\n",
    "                return [l+1,r+1]\n",
    "            elif cand < target: # shift left\n",
    "                l += 1\n",
    "            else: # shift right\n",
    "                r -= 1\n",
    "                \n",
    "        \n",
    "        return 'wtf'\n",
    "\n"
   ]
  },
  {
   "cell_type": "code",
   "execution_count": 167,
   "id": "0852b5ef-8c8e-4f4e-9b91-2e5f62db41a7",
   "metadata": {},
   "outputs": [
    {
     "data": {
      "text/plain": [
       "[5, 6]"
      ]
     },
     "execution_count": 167,
     "metadata": {},
     "output_type": "execute_result"
    }
   ],
   "source": [
    "soln = Solution()\n",
    "soln.twoSum(numbers5, 7)"
   ]
  },
  {
   "cell_type": "markdown",
   "id": "8402acf5-7685-4331-a55b-5d29d82288a3",
   "metadata": {},
   "source": [
    "## 15. 3sum\n",
    "\n",
    "leetcode: https://leetcode.com/problems/3sum/"
   ]
  },
  {
   "cell_type": "markdown",
   "id": "38468e28-82e1-47f0-83d4-ebda2c8f9529",
   "metadata": {},
   "source": [
    "Given an integer array `nums`, return all the triplets `[nums[i], nums[j], nums[k]]` such that `i != j`, `i != k`, and `j != k`, and `nums[i] + nums[j] + nums[k] == 0`.\n",
    "\n",
    "Notice that the solution set must not contain duplicate triplets.\n",
    "\n",
    " \n",
    "\n",
    "**Example 1:**\n",
    "```\n",
    "Input: nums = [-1,0,1,2,-1,-4]\n",
    "Output: [[-1,-1,2],[-1,0,1]]\n",
    "Explanation: \n",
    "nums[0] + nums[1] + nums[2] = (-1) + 0 + 1 = 0.\n",
    "nums[1] + nums[2] + nums[4] = 0 + 1 + (-1) = 0.\n",
    "nums[0] + nums[3] + nums[4] = (-1) + 2 + (-1) = 0.\n",
    "The distinct triplets are [-1,0,1] and [-1,-1,2].\n",
    "Notice that the order of the output and the order of the triplets does not matter.\n",
    "```\n",
    "**Example 2:**\n",
    "```\n",
    "Input: nums = [0,1,1]\n",
    "Output: []\n",
    "Explanation: The only possible triplet does not sum up to 0.\n",
    "```\n",
    "**Example 3:**\n",
    "```\n",
    "Input: nums = [0,0,0]\n",
    "Output: [[0,0,0]]\n",
    "Explanation: The only possible triplet sums up to 0.\n",
    "``` \n",
    "\n",
    "**Constraints:**\n",
    "\n",
    "* `3 <= nums.length <= 3000`\n",
    "* `-10^5 <= nums[i] <= 10^5`"
   ]
  },
  {
   "cell_type": "code",
   "execution_count": 1,
   "id": "a3a93156-62ee-43d1-84f5-b2f96cca9144",
   "metadata": {},
   "outputs": [],
   "source": [
    "nums1 = [-1,0,1,2,-1,-4]\n",
    "nums2 = [0,1,1]\n",
    "nums3 = [0,0,0]"
   ]
  },
  {
   "cell_type": "code",
   "execution_count": 51,
   "id": "3ad7c585-13fc-4e63-b8ac-69a437cab0c7",
   "metadata": {},
   "outputs": [],
   "source": [
    "# solving two sum n-times for a run time of O(n*n) time\n",
    "\n",
    "from typing import List\n",
    "\n",
    "class Solution:\n",
    "    def threeSum(self, nums: List[int]) -> List[List[int]]:\n",
    "        ans = set()\n",
    "        for i in range(len(nums)):\n",
    "            seen = set()\n",
    "            n = nums[i]\n",
    "            comp_threesum = 0 - n\n",
    "            for n2 in nums[i+1:]:\n",
    "                comp_twosum = comp_threesum - n2\n",
    "                if comp_twosum in d:\n",
    "                    triplet = tuple(sorted([n,n2,comp_twosum]))\n",
    "                    ans.add(triplet)\n",
    "                else:\n",
    "                    seen.add(n2)\n",
    "\n",
    "        # convert back to list of list for output\n",
    "        ans = [list(s) for s in ans]\n",
    "        return ans"
   ]
  },
  {
   "cell_type": "code",
   "execution_count": 61,
   "id": "2f9c4ca1-57d5-4abf-840c-d970565e31dc",
   "metadata": {},
   "outputs": [],
   "source": [
    "# sorted two sum solution, still O(n*n) runtime but more space efficient using only pointers\n",
    "# loop through nums and for each n use sorted two-sum pointer increment/decrement algorithm on the rest of the array\n",
    "from typing import List\n",
    "\n",
    "class Solution:\n",
    "    def threeSum(self, nums: List[int]) -> List[List[int]]:\n",
    "        ans = set()\n",
    "        nums = sorted(nums)\n",
    "        for i in range(len(nums)-2): # only iterate to the second-last element since we need a minimum of three elements in solution\n",
    "            first =  nums[i]\n",
    "\n",
    "            # two sum pointer solution for sorted array\n",
    "            l = i+1\n",
    "            r = len(nums)-1\n",
    "            while l<r:\n",
    "                second = nums[l]\n",
    "                third = nums[r]\n",
    "                candidate = first + second + third\n",
    "                if candidate == 0:\n",
    "                    ans.add((first,second,third)) # because nums is in sorted order, each solution triplet encountered will always be in the same order\n",
    "                    l += 1\n",
    "                    r -= 1\n",
    "                elif candidate < 0:\n",
    "                    l += 1\n",
    "                elif candidate > 0:\n",
    "                    r -= 1\n",
    "\n",
    "        # convert back to list of list for output\n",
    "        ans = [list(s) for s in ans]\n",
    "        return ans"
   ]
  },
  {
   "cell_type": "code",
   "execution_count": 66,
   "id": "535b2036-648d-4197-aed0-e3e44703a445",
   "metadata": {},
   "outputs": [],
   "source": [
    "# sorting pointer solution with duplicate checks for speed optimization\n",
    "from typing import List\n",
    "class Solution:\n",
    "    def threeSum(self, nums: List[int]) -> List[List[int]]:\n",
    "        ans = set()\n",
    "        nums = sorted(nums)\n",
    "        for i in range(len(nums)-2): # only iterate to the second-last element since we need a minimum of three elements in solution\n",
    "            if i > 0 and nums[i] == nums[i-1]: # skip iteration if nums[i] is duplicate\n",
    "                continue\n",
    "            first =  nums[i]\n",
    "            \n",
    "            # two sum pointer solution for sorted array\n",
    "            l = i+1\n",
    "            r = len(nums)-1\n",
    "            while l<r:\n",
    "                second = nums[l]\n",
    "                third = nums[r]\n",
    "                candidate = first + second + third\n",
    "                if candidate == 0:\n",
    "                    ans.add((first,second,third)) # because nums is in sorted order, each solution triplet encountered will always be in the same order\n",
    "                    l += 1\n",
    "                    r -= 1\n",
    "                    # continue increment l if nums[l] is duplicate of previous value\n",
    "                    while l<r and nums[l] == nums[l-1]:\n",
    "                        l += 1\n",
    "                    # continue decrement r if nums[r] is duplicate of previous value\n",
    "                    while l<r and nums[r] == nums[r+1]:\n",
    "                        r -= 1\n",
    "                elif candidate < 0:\n",
    "                    l += 1\n",
    "                elif candidate > 0:\n",
    "                    r -= 1\n",
    "\n",
    "        # convert back to list of list for output\n",
    "        ans = [list(s) for s in ans]\n",
    "        return ans"
   ]
  },
  {
   "cell_type": "code",
   "execution_count": 67,
   "id": "b6fd3f12-f2ef-4fd1-be9f-150423afcd53",
   "metadata": {},
   "outputs": [
    {
     "data": {
      "text/plain": [
       "[]"
      ]
     },
     "execution_count": 67,
     "metadata": {},
     "output_type": "execute_result"
    }
   ],
   "source": [
    "soln = Solution()\n",
    "soln.threeSum(nums2)"
   ]
  },
  {
   "cell_type": "markdown",
   "id": "af786e78-beca-4364-8152-23f2ec98c764",
   "metadata": {},
   "source": [
    "## 11. Container With Most Water\n",
    "\n",
    "leetcode: https://leetcode.com/problems/container-with-most-water/"
   ]
  },
  {
   "cell_type": "markdown",
   "id": "b774b920-06b0-4157-afa3-9719304d74a2",
   "metadata": {},
   "source": [
    "You are given an integer array `height` of length `n`. There are `n` vertical lines drawn such that the two endpoints of the `ith` line are `(i, 0)` and `(i, height[i])`.\n",
    "\n",
    "Find two lines that together with the x-axis form a container, such that the container contains the most water.\n",
    "\n",
    "Return the *maximum amount of water a container can store*.\n",
    "\n",
    "Notice that you may not slant the container.\n",
    "\n",
    " \n",
    "\n",
    "**Example 1:**\n",
    "\n",
    "![question_11](https://s3-lc-upload.s3.amazonaws.com/uploads/2018/07/17/question_11.jpg)\n",
    "```\n",
    "Input: height = [1,8,6,2,5,4,8,3,7]\n",
    "Output: 49\n",
    "Explanation: The above vertical lines are represented by array [1,8,6,2,5,4,8,3,7]. In this case, the max area of water (blue section) the container can contain is 49.\n",
    "```\n",
    "**Example 2:**\n",
    "```\n",
    "Input: height = [1,1]\n",
    "Output: 1\n",
    "```\n",
    "\n",
    "**Constraints:**\n",
    "\n",
    "* `n == height.length`\n",
    "* `2 <= n <= 10^5`\n",
    "* `0 <= height[i] <= 10^4`"
   ]
  },
  {
   "cell_type": "code",
   "execution_count": 4,
   "id": "d781336e-365e-42e7-9d4d-c9b1c97e9f4c",
   "metadata": {},
   "outputs": [],
   "source": [
    "height1 = [1,8,6,2,5,4,8,3,7]\n",
    "height2 = [1,1]"
   ]
  },
  {
   "cell_type": "code",
   "execution_count": 78,
   "id": "617c0170-16eb-44fa-943f-fa8bec42195e",
   "metadata": {},
   "outputs": [],
   "source": [
    "# use two pointers and move smaller of left/right pointers each iteration and check for largest area\n",
    "\n",
    "from typing import List\n",
    "\n",
    "class Solution:\n",
    "    def maxArea(self, height: List[int]) -> int:\n",
    "        l, r = 0, len(height)-1\n",
    "        maxarea = 0\n",
    "        while l < r:\n",
    "            area = (r-l) * min(height[l],height[r])\n",
    "            maxarea = max(maxarea, area)\n",
    "\n",
    "            # shift smaller of two heights\n",
    "            if height[l] < height [r]:\n",
    "                l += 1\n",
    "            else:\n",
    "                r -= 1\n",
    "                \n",
    "        return maxarea"
   ]
  },
  {
   "cell_type": "code",
   "execution_count": 79,
   "id": "2346b005-7ab2-4b87-b907-e462b23eec8a",
   "metadata": {},
   "outputs": [
    {
     "data": {
      "text/plain": [
       "1"
      ]
     },
     "execution_count": 79,
     "metadata": {},
     "output_type": "execute_result"
    }
   ],
   "source": [
    "soln = Solution()\n",
    "soln.maxArea(height2)"
   ]
  },
  {
   "cell_type": "markdown",
   "id": "60e13a8e-fdd1-45af-9629-70f570a756ed",
   "metadata": {},
   "source": [
    "## 42. Trapping Rain Water\n",
    "\n",
    "leetcode: https://leetcode.com/problems/trapping-rain-water/"
   ]
  },
  {
   "cell_type": "markdown",
   "id": "950501f3-6f6d-4130-b690-22890a4b647d",
   "metadata": {},
   "source": [
    "Given `n` non-negative integers representing an elevation map where the width of each bar is `1`, compute how much water it can trap after raining.\n",
    "\n",
    " \n",
    "\n",
    "**Example 1:**\n",
    "\n",
    "![https://assets.leetcode.com/uploads/2018/10/22/rainwatertrap.png](https://assets.leetcode.com/uploads/2018/10/22/rainwatertrap.png)\n",
    "```\n",
    "Input: height = [0,1,0,2,1,0,1,3,2,1,2,1]\n",
    "Output: 6\n",
    "Explanation: The above elevation map (black section) is represented by array [0,1,0,2,1,0,1,3,2,1,2,1]. In this case, 6 units of rain water (blue section) are being trapped.\n",
    "```\n",
    "**Example 2:**\n",
    "```\n",
    "Input: height = [4,2,0,3,2,5]\n",
    "Output: 9\n",
    "```\n",
    "\n",
    "**Constraints:**\n",
    "\n",
    "* `n == height.length`\n",
    "* `1 <= n <= 2 * 10^4`\n",
    "* `0 <= height[i] <= 10^5`"
   ]
  },
  {
   "cell_type": "code",
   "execution_count": 2,
   "id": "8a08e0dc-5c45-4fca-ab81-0fd9935f2311",
   "metadata": {},
   "outputs": [],
   "source": [
    "height1 = [0,1,0,2,1,0,1,3,2,1,2,1]\n",
    "height2 = [4,2,0,3,2,5]"
   ]
  },
  {
   "cell_type": "code",
   "execution_count": 19,
   "id": "b85c3269-0bdf-4c5c-b05d-f4eb6da0b623",
   "metadata": {},
   "outputs": [],
   "source": [
    "# idea: scan multiple passes to determine maximum height so far from the left and right side, then calculate water\n",
    "# as the height difference between the current floor at position i and the lowest maximum seen hight from left/right boundaries\n",
    "\n",
    "from typing import List\n",
    "\n",
    "class Solution:\n",
    "    def trap(self, height: List[int]) -> int:\n",
    "        lmax, rmax = [], []\n",
    "\n",
    "        # maximum height seen scanning from left\n",
    "        maxh = 0\n",
    "        for h in height:\n",
    "            maxh = max(maxh,h)\n",
    "            lmax.append(maxh)\n",
    "\n",
    "        # maximum height seen scanning from right\n",
    "        maxh = 0\n",
    "        for h in height[::-1]:\n",
    "            maxh = max(maxh,h)\n",
    "            rmax.append(maxh)\n",
    "        rmax = rmax[::-1] # reverse rmax so indicies line up with lmax & height\n",
    "\n",
    "        # calculate water as height diff between lowest(lmax,rmax) and height at position i\n",
    "        water = 0\n",
    "        for i in range(len(height)):\n",
    "            water += min(lmax[i],rmax[i])-height[i]\n",
    "            \n",
    "        return rmax"
   ]
  },
  {
   "cell_type": "code",
   "execution_count": 27,
   "id": "bdfd6e52-5e93-4b3f-9433-aa17ea58a829",
   "metadata": {},
   "outputs": [],
   "source": [
    "# O(1) space optimization using two pointers\n",
    "# use pointers to track Lmax and Rmax, shifting the smaller of the two pointers then calculating the water at the pointer position with the smaller max\n",
    "# this works because the water at any only cares about the smallest Lmax or Rmax\n",
    "\n",
    "from typing import List\n",
    "\n",
    "class Solution:\n",
    "    def trap(self, height: List[int]) -> int:\n",
    "        lmax, rmax = 0, 0\n",
    "        # start pointers at left and right ends of array\n",
    "        l, r = 0, len(height)-1\n",
    "\n",
    "        water = 0\n",
    "        while l < r:\n",
    "            lmax = max(lmax, height[l])\n",
    "            rmax = max(rmax, height[r])\n",
    "\n",
    "            if lmax < rmax: # calculate water at position l\n",
    "                water += lmax - height[l]\n",
    "                l += 1\n",
    "            else:\n",
    "                water += rmax - height[r]\n",
    "                r -= 1\n",
    "        \n",
    "        return water"
   ]
  },
  {
   "cell_type": "code",
   "execution_count": 29,
   "id": "13f07602-b93d-42f8-bf3d-308b4e1d0ccc",
   "metadata": {},
   "outputs": [
    {
     "data": {
      "text/plain": [
       "6"
      ]
     },
     "execution_count": 29,
     "metadata": {},
     "output_type": "execute_result"
    }
   ],
   "source": [
    "soln = Solution()\n",
    "soln.trap(height1)"
   ]
  },
  {
   "cell_type": "code",
   "execution_count": null,
   "id": "0d40c4e7-1df9-4830-bbde-9e5d89defb07",
   "metadata": {},
   "outputs": [],
   "source": []
  },
  {
   "cell_type": "markdown",
   "id": "082cc6be-e328-4467-a4b6-cce6f24a2b4b",
   "metadata": {},
   "source": [
    "## 20. Valid Parentheses\n",
    "\n",
    "leetcode: https://leetcode.com/problems/valid-parentheses/"
   ]
  },
  {
   "cell_type": "markdown",
   "id": "dba4eb94-fe81-47ab-9e1d-1fca44b05d91",
   "metadata": {},
   "source": [
    "Given a string `s` containing just the characters `'('`, `')'`, `'{'`, `'}'`, `'['` and `']'`, determine if the input string is valid.\n",
    "\n",
    "An input string is valid if:\n",
    "\n",
    "1. Open brackets must be closed by the same type of brackets.\n",
    "2. Open brackets must be closed in the correct order.\n",
    "3. Every close bracket has a corresponding open bracket of the same type.\n",
    " \n",
    "\n",
    "**Example 1:**\n",
    "```\n",
    "Input: s = \"()\"\n",
    "Output: true\n",
    "```\n",
    "**Example 2:**\n",
    "```\n",
    "Input: s = \"()[]{}\"\n",
    "Output: true\n",
    "```\n",
    "**Example 3:**\n",
    "```\n",
    "Input: s = \"(]\"\n",
    "Output: false\n",
    "```\n",
    "\n",
    "**Constraints:**\n",
    "\n",
    "* `1 <= s.length <= 10^4`\n",
    "* `s` consists of parentheses only `'()[]{}'`."
   ]
  },
  {
   "cell_type": "code",
   "execution_count": 21,
   "id": "6def244d-db4e-4c59-a5fc-12b7529696cb",
   "metadata": {},
   "outputs": [],
   "source": [
    "s1 = \"()\"\n",
    "s2 = \"()[]{}\"\n",
    "s3 = \"(]\"\n",
    "s4 = \"([)]\"\n",
    "s5 = \"\"\n",
    "s6 = \"{()[]{})\"\n",
    "s7 = \")))\""
   ]
  },
  {
   "cell_type": "code",
   "execution_count": 28,
   "id": "38395b2d-9698-479e-a46a-f235e3127e2d",
   "metadata": {},
   "outputs": [],
   "source": [
    "class Solution:\n",
    "    def isValid(self, s: str) -> bool:\n",
    "        stack = []\n",
    "        openings = {')': '(', \n",
    "                    ']': '[', \n",
    "                    '}': '{' }\n",
    "\n",
    "        for c in s:\n",
    "            if c in openings.keys():\n",
    "                if len(stack)>0 and openings[c] == stack[-1]:\n",
    "                    stack.pop()\n",
    "                else:\n",
    "                    return False\n",
    "            else:\n",
    "                stack.append(c)\n",
    "            \n",
    "        if len(stack) > 0:\n",
    "            return False\n",
    "            \n",
    "        return True"
   ]
  },
  {
   "cell_type": "code",
   "execution_count": 29,
   "id": "8378b156-d563-4666-9b42-a36031a0a587",
   "metadata": {},
   "outputs": [
    {
     "data": {
      "text/plain": [
       "False"
      ]
     },
     "execution_count": 29,
     "metadata": {},
     "output_type": "execute_result"
    }
   ],
   "source": [
    "soln = Solution()\n",
    "soln.isValid(s7)"
   ]
  },
  {
   "cell_type": "code",
   "execution_count": 7,
   "id": "5e9e6437-e662-4a5b-9c27-e790aae1d116",
   "metadata": {},
   "outputs": [
    {
     "data": {
      "text/plain": [
       "dict_values([1, 2])"
      ]
     },
     "execution_count": 7,
     "metadata": {},
     "output_type": "execute_result"
    }
   ],
   "source": [
    "{'d':1, 'e':2}.values()"
   ]
  },
  {
   "cell_type": "markdown",
   "id": "44443201-3976-4797-b52c-9ff77c4a5319",
   "metadata": {},
   "source": [
    "## 155. Min Stack\n",
    "\n",
    "leetcode: https://leetcode.com/problems/min-stack/"
   ]
  },
  {
   "cell_type": "markdown",
   "id": "da503387-1ac4-4445-b157-e2319e3cbc5b",
   "metadata": {},
   "source": [
    "Design a stack that supports push, pop, top, and retrieving the minimum element in constant time.\n",
    "\n",
    "Implement the `MinStack` class:\n",
    "\n",
    "* `MinStack()` initializes the stack object.\n",
    "* `void push(int val)` pushes the element `val` onto the stack.\n",
    "* `void pop()` removes the element on the top of the stack.\n",
    "* `int top()` gets the top element of the stack.\n",
    "* `int getMin()` retrieves the minimum element in the stack.\n",
    "* You must implement a solution with `O(1)` time complexity for each function.\n",
    "\n",
    " \n",
    "\n",
    "**Example 1:**\n",
    "```\n",
    "Input\n",
    "[\"MinStack\",\"push\",\"push\",\"push\",\"getMin\",\"pop\",\"top\",\"getMin\"]\n",
    "[[],[-2],[0],[-3],[],[],[],[]]\n",
    "\n",
    "Output\n",
    "[null,null,null,null,-3,null,0,-2]\n",
    "\n",
    "Explanation\n",
    "MinStack minStack = new MinStack();\n",
    "minStack.push(-2);\n",
    "minStack.push(0);\n",
    "minStack.push(-3);\n",
    "minStack.getMin(); // return -3\n",
    "minStack.pop();\n",
    "minStack.top();    // return 0\n",
    "minStack.getMin(); // return -2\n",
    "``` \n",
    "\n",
    "**Constraints:**\n",
    "\n",
    "* `-2^31 <= val <= 2^31 - 1`\n",
    "* Methods `pop`, `top` and `getMin` operations will always be called on non-empty stacks.\n",
    "* At most `3 * 10^4` calls will be made to `push`, `pop`, `top`, and `getMin`."
   ]
  },
  {
   "cell_type": "code",
   "execution_count": 44,
   "id": "15f62ec8-c78b-4f84-b539-286cc7c36d01",
   "metadata": {},
   "outputs": [],
   "source": [
    "class MinStack:\n",
    "\n",
    "    def __init__(self):\n",
    "        self.stack = []\n",
    "        self.minVals = []\n",
    "        \n",
    "\n",
    "    def push(self, val: int) -> None:\n",
    "        self.stack.append(val)\n",
    "        # update minVal if new minimum found\n",
    "        if (len(self.minVals) == 0) or (val <= self.minVals[-1]):\n",
    "            self.minVals.append(val)\n",
    "        \n",
    "\n",
    "    def pop(self) -> None:\n",
    "        delVal = self.stack.pop()\n",
    "        # if delVal matches current minimum, then update minVal to previous minVal\n",
    "        if delVal == self.minVals[-1]:\n",
    "            self.minVals.pop()\n",
    "\n",
    "    def top(self) -> int:\n",
    "        return self.stack[-1] if self.stack else None\n",
    "\n",
    "    def getMin(self) -> int:\n",
    "        return self.minVals[-1] if self.stack else None"
   ]
  },
  {
   "cell_type": "code",
   "execution_count": 73,
   "id": "f4071c3b-979e-43f6-bd52-c1f1656aa57d",
   "metadata": {},
   "outputs": [],
   "source": [
    "# optimization: uses one list to store tuples of (stack_element,current_minimum)\n",
    "class MinStack:\n",
    "\n",
    "    def __init__(self):\n",
    "        self.stack = []        \n",
    "\n",
    "    def push(self, val: int) -> None:\n",
    "        # update minimum\n",
    "        if self.stack:\n",
    "            oldmin = self.stack[-1][1]\n",
    "            newmin = min(oldmin,val)\n",
    "        else:\n",
    "            newmin = val\n",
    "        # add (val, newmin to stack)\n",
    "        self.stack.append((val,newmin))\n",
    "        \n",
    "\n",
    "    def pop(self) -> None:\n",
    "        self.stack.pop()\n",
    "\n",
    "    def top(self) -> int:\n",
    "        return self.stack[-1][0] if self.stack else None # return top element val\n",
    "\n",
    "    def getMin(self) -> int:\n",
    "        return self.stack[-1][1] if self.stack else None # return top element minval"
   ]
  },
  {
   "cell_type": "code",
   "execution_count": 74,
   "id": "74318456-7525-4275-8fd5-5485a0242e6d",
   "metadata": {},
   "outputs": [
    {
     "name": "stdout",
     "output_type": "stream",
     "text": [
      "0\n",
      "1\n",
      "0\n"
     ]
    }
   ],
   "source": [
    "minStack = MinStack()\n",
    "minStack.push(0)\n",
    "minStack.push(1)\n",
    "minStack.push(0)\n",
    "# minStack.push(-10)\n",
    "# minStack.push(-4)\n",
    "# minStack.push(-4)\n",
    "print(minStack.getMin()) \n",
    "minStack.pop()\n",
    "print(minStack.top())    \n",
    "print(minStack.getMin()) \n",
    "\n",
    "# [\"MinStack\",\"push\",\"push\",\"push\",\"top\",\"pop\",\"getMin\",\"pop\",\"getMin\",\"pop\",\"push\",\"top\",\"getMin\",\"push\",\"top\",\"getMin\",\"pop\",\"getMin\"]\n",
    "\n",
    "# minStack.pop()\n",
    "# print(minStack.top())\n",
    "# print(minStack.getMin())\n",
    "# minStack.pop()\n",
    "# print(minStack.top())\n",
    "# print(minStack.getMin())\n",
    "# minStack.pop()\n",
    "# print(minStack.top())\n",
    "# print(minStack.getMin())"
   ]
  },
  {
   "cell_type": "markdown",
   "id": "add53bb2-6474-4b6c-9acf-de459a7e1311",
   "metadata": {},
   "source": [
    "## 150. Evaluate Reverse Polish Notation\n",
    "\n",
    "\n",
    "leetcode: https://leetcode.com/problems/evaluate-reverse-polish-notation/"
   ]
  },
  {
   "cell_type": "markdown",
   "id": "94ff1c0b-2434-43b5-9997-cd6b92a9fb4c",
   "metadata": {},
   "source": [
    "You are given an array of strings `tokens` that represents an arithmetic expression in a [Reverse Polish Notation](http://en.wikipedia.org/wiki/Reverse_Polish_notation).\n",
    "\n",
    "Evaluate the expression. Return an integer that represents the value of the expression.\n",
    "\n",
    "**Note that:**\n",
    "\n",
    "* The valid operators are `'+'`, `'-'`, `'*'`, and `'/'`.\n",
    "* Each operand may be an integer or another expression.\n",
    "* The division between two integers always **truncates toward zero**.\n",
    "* There will not be any division by zero.\n",
    "* The input represents a valid arithmetic expression in a reverse polish notation.\n",
    "* The answer and all the intermediate calculations can be represented in a **32-bit** integer.\n",
    " \n",
    "\n",
    "**Example 1:**\n",
    "```\n",
    "Input: tokens = [\"2\",\"1\",\"+\",\"3\",\"*\"]\n",
    "Output: 9\n",
    "Explanation: ((2 + 1) * 3) = 9\n",
    "```\n",
    "**Example 2:**\n",
    "```\n",
    "Input: tokens = [\"4\",\"13\",\"5\",\"/\",\"+\"]\n",
    "Output: 6\n",
    "Explanation: (4 + (13 / 5)) = 6\n",
    "```\n",
    "**Example 3:**\n",
    "```\n",
    "Input: tokens = [\"10\",\"6\",\"9\",\"3\",\"+\",\"-11\",\"*\",\"/\",\"*\",\"17\",\"+\",\"5\",\"+\"]\n",
    "Output: 22\n",
    "Explanation: ((10 * (6 / ((9 + 3) * -11))) + 17) + 5\n",
    "= ((10 * (6 / (12 * -11))) + 17) + 5\n",
    "= ((10 * (6 / -132)) + 17) + 5\n",
    "= ((10 * 0) + 17) + 5\n",
    "= (0 + 17) + 5\n",
    "= 17 + 5\n",
    "= 22\n",
    "```\n",
    "\n",
    "**Constraints:**\n",
    "\n",
    "* `1 <= tokens.length <= 10^4`\n",
    "* `tokens[i]` is either an operator: `\"+\"`, `\"-\"`, `\"*\"`, or `\"/\"`, or an integer in the range `[-200, 200]`."
   ]
  },
  {
   "cell_type": "code",
   "execution_count": 74,
   "id": "fb2fe913-73ec-463f-a1c0-fc6ad3546d11",
   "metadata": {},
   "outputs": [],
   "source": [
    "tokens1 = [\"2\",\"1\",\"+\",\"3\",\"*\"]\n",
    "tokens2 = [\"4\",\"13\",\"5\",\"/\",\"+\"]\n",
    "tokens3 = [\"10\",\"6\",\"9\",\"3\",\"+\",\"-11\",\"*\",\"/\",\"*\",\"17\",\"+\",\"5\",\"+\"]\n",
    "tokens4 = [\"18\"]\n",
    "tokens5 = [\"0\",\"3\",\"/\"]\n",
    "tokens6 = [\"4\",\"-2\",\"/\",\"2\",\"-3\",\"-\",\"-\"]"
   ]
  },
  {
   "cell_type": "code",
   "execution_count": 71,
   "id": "a2d86c28-c4a7-4cc8-ae0a-451d220258b2",
   "metadata": {},
   "outputs": [],
   "source": [
    "from typing import List\n",
    "\n",
    "class Solution:\n",
    "    def evalRPN(self, tokens: List[str]) -> int:\n",
    "        stack = []\n",
    "        operators = set(['+','-', '*', '/'])\n",
    "        \n",
    "        for t in tokens:\n",
    "            if t in operators:\n",
    "                op2 = int(stack.pop())\n",
    "                op1 = int(stack.pop())\n",
    "\n",
    "                if t == '+':\n",
    "                    stack.append(op1 + op2)\n",
    "                elif t == '-':\n",
    "                    stack.append(op1 - op2)\n",
    "                elif t == '*':\n",
    "                    stack.append(op1 * op2)\n",
    "                elif t == '/':\n",
    "                    res = op1 / op2\n",
    "                    stack.append(int(res)) # convert float to int and truncate toward zero\n",
    "            else:\n",
    "                stack.append(int(t))\n",
    "                    \n",
    "        \n",
    "        return stack[0]"
   ]
  },
  {
   "cell_type": "code",
   "execution_count": 75,
   "id": "d3ec1892-56f0-4db9-a6c1-a4a58938c7ba",
   "metadata": {},
   "outputs": [
    {
     "data": {
      "text/plain": [
       "-7"
      ]
     },
     "execution_count": 75,
     "metadata": {},
     "output_type": "execute_result"
    }
   ],
   "source": [
    "soln = Solution()\n",
    "soln.evalRPN(tokens6)"
   ]
  },
  {
   "cell_type": "markdown",
   "id": "6ea5c02c-087a-43a1-a22d-33ddd9a928cd",
   "metadata": {},
   "source": [
    "## 22. Generate Parentheses\n",
    "\n",
    "leetcode: https://leetcode.com/problems/generate-parentheses/"
   ]
  },
  {
   "cell_type": "markdown",
   "id": "a281364f-766d-44cb-9124-59f578b68cf2",
   "metadata": {},
   "source": [
    "Given `n` pairs of parentheses, write a function to generate all combinations of well-formed parentheses.\n",
    "\n",
    " \n",
    "\n",
    "**Example 1:**\n",
    "```\n",
    "Input: n = 3\n",
    "Output: [\"((()))\",\"(()())\",\"(())()\",\"()(())\",\"()()()\"]\n",
    "```\n",
    "**Example 2:**\n",
    "```\n",
    "Input: n = 1\n",
    "Output: [\"()\"]\n",
    "```\n",
    "\n",
    "**Constraints:**\n",
    "\n",
    "* `1 <= n <= 8`"
   ]
  },
  {
   "cell_type": "code",
   "execution_count": 85,
   "id": "84d03d9c-8309-46d8-886b-b9123964b473",
   "metadata": {},
   "outputs": [],
   "source": [
    "n1 = 3\n",
    "n2 = 1"
   ]
  },
  {
   "cell_type": "code",
   "execution_count": null,
   "id": "ba98a8d0-eb25-432d-ac1a-8e3fd4c63309",
   "metadata": {},
   "outputs": [],
   "source": [
    "# 1x: ()\n",
    "# 2x: ((, )) -> (()), ()()\n",
    "# 3x: (((, ))) -> ((())), (())(), ()(()), ()()(), (()())\n",
    "# 4x: ((((,) ))) -> \n",
    "    # (((()))), \n",
    "    # ((()))(), ((()())), ((())()\n",
    "    # (())(()), (())()()\n",
    "    # ()((())), ()(())(), ()(()()), ()()(()), ()()()() \n",
    "# backtracking or DP problem\n",
    "    # can solve by backtracking using dfs\n",
    "    # (())"
   ]
  },
  {
   "cell_type": "code",
   "execution_count": 98,
   "id": "636defe1-be97-4e80-b0e6-e8401ab25563",
   "metadata": {},
   "outputs": [],
   "source": [
    "from typing import List\n",
    "\n",
    "class Solution:\n",
    "    def generateParenthesis(self, n: int) -> List[str]:        \n",
    "        def dfs(left, right, s):\n",
    "            if len(s) == n*2:\n",
    "                # we have a valid solution\n",
    "                ans.append(s)\n",
    "                return\n",
    "\n",
    "            # add one left parenthesis and recurse only if less openers than n\n",
    "            if left < n:\n",
    "                dfs(left+1, right, s + '(')\n",
    "\n",
    "            # add one right parenthesis and recurse only if less closers than openers\n",
    "            if right < left:\n",
    "                dfs(left, right+1, s + ')')\n",
    "\n",
    "        ans = []\n",
    "        dfs(0, 0, '')\n",
    "            \n",
    "        return ans"
   ]
  },
  {
   "cell_type": "code",
   "execution_count": 99,
   "id": "2b20ff73-8d81-45ce-bbb2-1025ad1e879d",
   "metadata": {},
   "outputs": [
    {
     "data": {
      "text/plain": [
       "['(((())))',\n",
       " '((()()))',\n",
       " '((())())',\n",
       " '((()))()',\n",
       " '(()(()))',\n",
       " '(()()())',\n",
       " '(()())()',\n",
       " '(())(())',\n",
       " '(())()()',\n",
       " '()((()))',\n",
       " '()(()())',\n",
       " '()(())()',\n",
       " '()()(())',\n",
       " '()()()()']"
      ]
     },
     "execution_count": 99,
     "metadata": {},
     "output_type": "execute_result"
    }
   ],
   "source": [
    "soln = Solution()\n",
    "soln.generateParenthesis(4)"
   ]
  },
  {
   "cell_type": "markdown",
   "id": "6a98f60e-25a1-41a4-9557-2b28f7d2d771",
   "metadata": {},
   "source": [
    "## 739. Daily Temperatures\n",
    "\n",
    "\n",
    "leetcode: https://leetcode.com/problems/daily-temperatures/"
   ]
  },
  {
   "cell_type": "markdown",
   "id": "ca60b4e6-7d24-4853-9fa5-bf7be4188849",
   "metadata": {},
   "source": [
    "Given an array of integers `temperatures` represents the daily temperatures, return an array `answer` such that `answer[i]` is the number of days you have to wait after the `ith` day to get a warmer temperature. If there is no future day for which this is possible, keep `answer[i] == 0` instead.\n",
    "\n",
    " \n",
    "\n",
    "**Example 1:**\n",
    "```\n",
    "Input: temperatures = [73,74,75,71,69,72,76,73]\n",
    "Output: [1,1,4,2,1,1,0,0]\n",
    "```\n",
    "**Example 2:**\n",
    "```\n",
    "Input: temperatures = [30,40,50,60]\n",
    "Output: [1,1,1,0]\n",
    "```\n",
    "***Example 3:**\n",
    "```\n",
    "Input: temperatures = [30,60,90]\n",
    "Output: [1,1,0]\n",
    "```\n",
    "\n",
    "**Constraints:**\n",
    "\n",
    "* `1 <= temperatures.length <= 10^5`\n",
    "* `30 <= temperatures[i] <= 100`"
   ]
  },
  {
   "cell_type": "code",
   "execution_count": 3,
   "id": "bf605c6f-fdd3-41ae-be45-f7fd016a941e",
   "metadata": {},
   "outputs": [],
   "source": [
    "temperatures1 = [73,74,75,71,69,72,76,73]\n",
    "temperatures2 = [30,40,50,60]\n",
    "temperatures3 = [30,60,90]\n",
    "temperatures4 = [37,9,8,7,27,20,4,30]"
   ]
  },
  {
   "cell_type": "code",
   "execution_count": 4,
   "id": "6ed3b61b-6021-401e-b92b-2da369c27b04",
   "metadata": {},
   "outputs": [],
   "source": [
    "# using monotonic increasing stack (of temperature indices)\n",
    "# iterate through temperatures in reverse order and maintain a stack of indices of strictly increasing temperatures\n",
    "\n",
    "from typing import List\n",
    "\n",
    "class Solution:\n",
    "    def dailyTemperatures(self, temperatures: List[int]) -> List[int]:\n",
    "        stack = []\n",
    "        ans = [0] * len(temperatures)\n",
    "        \n",
    "        for i in range(len(temperatures)-1,-1,-1):\n",
    "            while stack and temperatures[stack[-1]] <= temperatures[i]:\n",
    "                # remove all temperatures at top of stack that are less than or equal to current temp\n",
    "                stack.pop()\n",
    "\n",
    "            if stack:\n",
    "                # if there is something on the stack, then there's a hotter temp: add index diff to result\n",
    "                ans[i] = stack[-1] - i\n",
    "\n",
    "            # add current temp to stack\n",
    "            stack.append(i)\n",
    "            \n",
    "        return ans"
   ]
  },
  {
   "cell_type": "code",
   "execution_count": 5,
   "id": "5d8de633-1034-404c-b2b3-5a3f2a68ac84",
   "metadata": {},
   "outputs": [
    {
     "data": {
      "text/plain": [
       "[0, 3, 2, 1, 3, 2, 1, 0]"
      ]
     },
     "execution_count": 5,
     "metadata": {},
     "output_type": "execute_result"
    }
   ],
   "source": [
    "soln = Solution()\n",
    "soln.dailyTemperatures(temperatures4)"
   ]
  },
  {
   "cell_type": "markdown",
   "id": "82192f5d-80b1-47f1-a7e3-1bf9262db46a",
   "metadata": {},
   "source": [
    "## 853. Car Fleet\n",
    "\n",
    "\n",
    "\n",
    "leetcode: https://leetcode.com/problems/car-fleet/"
   ]
  },
  {
   "cell_type": "markdown",
   "id": "7d6d5a9b-cc6e-4c66-8a8c-9a932ee6da15",
   "metadata": {},
   "source": [
    "There are `n` cars going to the same destination along a one-lane road. The destination is `target` miles away.\n",
    "\n",
    "You are given two integer array `position` and `speed`, both of length `n`, where `position[i]` is the position of the `ith` car and `speed[i]` is the speed of the `ith` car (in miles per hour).\n",
    "\n",
    "A car can never pass another car ahead of it, but it can catch up to it and drive bumper to bumper at **the same speed**. The faster car will **slow down** to match the slower car's speed. The distance between these two cars is ignored (i.e., they are assumed to have the same position).\n",
    "\n",
    "A **car fleet** is some non-empty set of cars driving at the same position and same speed. Note that a single car is also a car fleet.\n",
    "\n",
    "If a car catches up to a car fleet right at the destination point, it will still be considered as one car fleet.\n",
    "\n",
    "Return the **number of car fleets** that will arrive at the destination.\n",
    "\n",
    " \n",
    "\n",
    "**Example 1:**\n",
    "```\n",
    "Input: target = 12, position = [10,8,0,5,3], speed = [2,4,1,1,3]\n",
    "Output: 3\n",
    "Explanation:\n",
    "The cars starting at 10 (speed 2) and 8 (speed 4) become a fleet, meeting each other at 12.\n",
    "The car starting at 0 does not catch up to any other car, so it is a fleet by itself.\n",
    "The cars starting at 5 (speed 1) and 3 (speed 3) become a fleet, meeting each other at 6. The fleet moves at speed 1 until it reaches target.\n",
    "Note that no other cars meet these fleets before the destination, so the answer is 3.\n",
    "```\n",
    "**Example 2:**\n",
    "```\n",
    "Input: target = 10, position = [3], speed = [3]\n",
    "Output: 1\n",
    "Explanation: There is only one car, hence there is only one fleet.\n",
    "```\n",
    "**Example 3:**\n",
    "```\n",
    "Input: target = 100, position = [0,2,4], speed = [4,2,1]\n",
    "Output: 1\n",
    "Explanation:\n",
    "The cars starting at 0 (speed 4) and 2 (speed 2) become a fleet, meeting each other at 4. The fleet moves at speed 2.\n",
    "Then, the fleet (speed 2) and the car starting at 4 (speed 1) become one fleet, meeting each other at 6. The fleet moves at speed 1 until it reaches target.\n",
    "```\n",
    "\n",
    "**Constraints:**\n",
    "\n",
    "* `n == position.length == speed.length`\n",
    "* `1 <= n <= 10^5`\n",
    "* `0 < target <= 10^6`\n",
    "* `0 <= position[i] < target`\n",
    "* All the values of `position` are **unique**.\n",
    "* `0 < speed[i] <= 10^6`\n",
    "\n"
   ]
  },
  {
   "cell_type": "code",
   "execution_count": 9,
   "id": "56cd2e62-3274-4487-a2c2-de8cbf143003",
   "metadata": {},
   "outputs": [],
   "source": [
    "target1 = 12\n",
    "position1 = [10,8,0,5,3]\n",
    "speed1 = [2,4,1,1,3]\n",
    "\n",
    "target2 = 10\n",
    "position2 = [3]\n",
    "speed2 = [3]\n",
    "\n",
    "target3 = 100\n",
    "position3 = [0,2,4]\n",
    "speed3 = [4,2,1]"
   ]
  },
  {
   "cell_type": "code",
   "execution_count": 47,
   "id": "8031b756-65cf-48b1-b4da-79a79a28688e",
   "metadata": {},
   "outputs": [],
   "source": [
    "from typing import List\n",
    "\n",
    "class Solution:\n",
    "    def carFleet(self, target: int, position: List[int], speed: List[int]) -> int:\n",
    "        cars = []\n",
    "        for i, p in enumerate(position):\n",
    "            cars.append( (p,speed[i]) )\n",
    "\n",
    "        cars = sorted(cars, key=lambda x: x[0])\n",
    "\n",
    "        ttt = []\n",
    "        for i, c in enumerate(cars):\n",
    "            ttt.append( (target - c[0]) / c[1])\n",
    "\n",
    "        # number of fleets is the number of elements in stack after creating a monotonic decreasing stack\n",
    "        fleets = []\n",
    "        for t in ttt:\n",
    "            while fleets and fleets[-1] <= t:\n",
    "                fleets.pop()b\n",
    "\n",
    "            fleets.append(t)\n",
    "            \n",
    "        return cars"
   ]
  },
  {
   "cell_type": "code",
   "execution_count": 58,
   "id": "8249c947-3cfb-4831-83a2-bae653d6f123",
   "metadata": {},
   "outputs": [],
   "source": [
    "# space optimization / more concise code\n",
    "\n",
    "class Solution:\n",
    "    def carFleet(self, target: int, position: List[int], speed: List[int]) -> int:\n",
    "        cars = [ (p, s) for p,s in zip(position, speed)]\n",
    "        cars = sorted(cars, key=lambda x: x[0])\n",
    "\n",
    "\n",
    "        # number of fleets is the number of elements in stack after creating a monotonic decreasing time to arrive stack\n",
    "        fleets = []\n",
    "        for c in cars:\n",
    "            while fleets and (target - fleets[-1][0])/fleets[-1][1] <= ((target-c[0])/c[1]):\n",
    "                fleets.pop()\n",
    "\n",
    "            fleets.append(c)\n",
    "            \n",
    "        return len(fleets)"
   ]
  },
  {
   "cell_type": "code",
   "execution_count": 60,
   "id": "ad68738d-c36f-4a61-b865-4f39fbc64936",
   "metadata": {},
   "outputs": [
    {
     "data": {
      "text/plain": [
       "3"
      ]
     },
     "execution_count": 60,
     "metadata": {},
     "output_type": "execute_result"
    }
   ],
   "source": [
    "soln = Solution()\n",
    "soln.carFleet(target1, position1, speed1)"
   ]
  },
  {
   "cell_type": "code",
   "execution_count": 30,
   "id": "863dbdbb-4df8-42c9-9572-59f1cb0efabc",
   "metadata": {},
   "outputs": [],
   "source": [
    "res = []\n",
    "testspeed = [1,3,1,4,2]\n",
    "testposition = [0,3,5,8,10]\n",
    "testtarget = target1\n",
    "for i in range(len(position1)):\n",
    "    res.append((testtarget - testposition[i]) // testspeed[i])"
   ]
  },
  {
   "cell_type": "code",
   "execution_count": 31,
   "id": "caea1973-7dde-4d02-bd60-de7cf3440abf",
   "metadata": {},
   "outputs": [
    {
     "data": {
      "text/plain": [
       "[12, 3, 7, 1, 1]"
      ]
     },
     "execution_count": 31,
     "metadata": {},
     "output_type": "execute_result"
    }
   ],
   "source": [
    "res"
   ]
  },
  {
   "cell_type": "code",
   "execution_count": 21,
   "id": "7fe452d2-a077-43a0-ba0b-49f4860006dd",
   "metadata": {},
   "outputs": [
    {
     "data": {
      "text/plain": [
       "100"
      ]
     },
     "execution_count": 21,
     "metadata": {},
     "output_type": "execute_result"
    }
   ],
   "source": [
    "target3 - position3[0]"
   ]
  },
  {
   "cell_type": "markdown",
   "id": "bdee52c0-c06a-48c7-8660-b8eb7bb967fa",
   "metadata": {},
   "source": [
    "## 84. Largest Rectangle in Histogram\n",
    "\n",
    "\n",
    "leetcode: https://leetcode.com/problems/largest-rectangle-in-histogram/"
   ]
  },
  {
   "cell_type": "code",
   "execution_count": 5,
   "id": "ca5569bc-d4a7-4267-a772-a8a1df0537f5",
   "metadata": {},
   "outputs": [
    {
     "data": {
      "text/plain": [
       "(2, 0, 2)"
      ]
     },
     "execution_count": 5,
     "metadata": {},
     "output_type": "execute_result"
    }
   ],
   "source": [
    "(2, 0, 1)\n",
    "\n",
    "# min_height = 1\n",
    "# position = 0\n",
    "# width = 1 - 0 + 1\n",
    "# area = 2\n"
   ]
  },
  {
   "cell_type": "markdown",
   "id": "d0e8c644-1a2a-407b-b6aa-312f572f50a5",
   "metadata": {},
   "source": [
    "Given an array of integers `heights` representing the histogram's bar height where the width of each bar is `1`, return the *area of the largest rectangle in the histogram*.\n",
    "\n",
    " \n",
    "\n",
    "**Example 1:**\n",
    "\n",
    "![https://assets.leetcode.com/uploads/2021/01/04/histogram.jpg](https://assets.leetcode.com/uploads/2021/01/04/histogram.jpg)\n",
    "```\n",
    "Input: heights = [2,1,5,6,2,3]\n",
    "Output: 10\n",
    "Explanation: The above is a histogram where width of each bar is 1.\n",
    "The largest rectangle is shown in the red area, which has an area = 10 units.\n",
    "```\n",
    "**Example 2:**\n",
    "\n",
    "![https://assets.leetcode.com/uploads/2021/01/04/histogram-1.jpg](https://assets.leetcode.com/uploads/2021/01/04/histogram-1.jpg)\n",
    "```\n",
    "Input: heights = [2,4]\n",
    "Output: 4\n",
    "```\n",
    "\n",
    "**Constraints:**\n",
    "\n",
    "* `1 <= heights.length <= 10^5`\n",
    "* `0 <= heights[i] <= 10^4`"
   ]
  },
  {
   "cell_type": "code",
   "execution_count": 1,
   "id": "5c94ad49-d269-436f-8b37-de60d1334574",
   "metadata": {},
   "outputs": [],
   "source": [
    "heights1 = [2,1,5,6,2,3]\n",
    "heights2 = [2,4]"
   ]
  },
  {
   "cell_type": "code",
   "execution_count": 51,
   "id": "62eec0da-1af6-409c-9ea9-a99edd567c7f",
   "metadata": {},
   "outputs": [],
   "source": [
    "# construct a stack of increasing heights\n",
    "# for each new height, add to stack if new > stack_top_height\n",
    "# repeatedly pop height from top of stack if new <= stack_top_height, then add new height to stack and set new height index to be the last popped index val\n",
    "\n",
    "\n",
    "from typing import List\n",
    "\n",
    "class Solution:\n",
    "    def largestRectangleArea(self, heights: List[int]) -> int:\n",
    "        maxarea = 0\n",
    "\n",
    "        stack = []\n",
    "        top = None\n",
    "        for i,h in enumerate(heights):\n",
    "            # repeatedly pop top stack height if > h, stack should be strictly increasing heights\n",
    "            while stack and stack[-1][1] > h:\n",
    "                top = stack.pop()\n",
    "\n",
    "                # update max area\n",
    "                maxarea = max(maxarea,top[1]*(i-top[0]))\n",
    "\n",
    "            # update i to latest popped index and append (i, h) to stack\n",
    "            if top:\n",
    "                i = top[0]\n",
    "            stack.append((i,h))\n",
    "            top = None\n",
    "\n",
    "        # check max area in final candidate rectangles\n",
    "        for i,h in stack:\n",
    "            maxarea = max(maxarea, (len(heights)-i) * h)\n",
    "                \n",
    "        return maxarea"
   ]
  },
  {
   "cell_type": "code",
   "execution_count": 61,
   "id": "ae8dabc8-f2d4-44b9-9999-bc0fb9a794fc",
   "metadata": {},
   "outputs": [],
   "source": [
    "class Solution:\n",
    "    def largestRectangleArea(self, heights):\n",
    "        stack, ans = [], 0\n",
    "        for i, h in enumerate(heights + [0]): # adding 0 to end of heights is hack to trigger max area check for final heights\n",
    "            while stack and heights[stack[-1]] >= h:\n",
    "                H = heights[stack.pop()]\n",
    "                W = i if not stack else i-stack[-1]-1\n",
    "                ans = max(ans, H*W)\n",
    "            stack.append((i,h))\n",
    "        return stack"
   ]
  },
  {
   "cell_type": "code",
   "execution_count": 62,
   "id": "59ae508e-8b9f-46b7-911a-f1d3a60021da",
   "metadata": {},
   "outputs": [
    {
     "data": {
      "text/plain": [
       "[(0, 2), (1, 1), (2, 5), (3, 6), (4, 2), (5, 3), (6, 0)]"
      ]
     },
     "execution_count": 62,
     "metadata": {},
     "output_type": "execute_result"
    }
   ],
   "source": [
    "soln = Solution()\n",
    "soln.largestRectangleArea(heights1)"
   ]
  },
  {
   "cell_type": "markdown",
   "id": "3467062e-e9b9-4e68-9ba6-951c03445dcb",
   "metadata": {},
   "source": [
    "# Binary Search"
   ]
  },
  {
   "cell_type": "markdown",
   "id": "42e0a3f3-ed1e-48af-b00a-d0168f9a8925",
   "metadata": {},
   "source": [
    "## 704. Binary Search\n",
    "\n",
    "\n",
    "leetcode: https://leetcode.com/problems/binary-search/"
   ]
  },
  {
   "cell_type": "markdown",
   "id": "40309ce5-e033-442e-827f-8322029eef09",
   "metadata": {},
   "source": [
    "Given an array of integers `nums` which is sorted in ascending order, and an integer `target`, write a function to search `target` in `nums`. If `target` exists, then return its `index`. Otherwise, return `-`1.\n",
    "\n",
    "You must write an algorithm with `O(log n)` runtime complexity.\n",
    "\n",
    " \n",
    "\n",
    "**Example 1:**\n",
    "```\n",
    "Input: nums = [-1,0,3,5,9,12], target = 9\n",
    "Output: 4\n",
    "Explanation: 9 exists in nums and its index is 4\n",
    "```\n",
    "**Example 2:**\n",
    "```\n",
    "Input: nums = [-1,0,3,5,9,12], target = 2\n",
    "Output: -1\n",
    "Explanation: 2 does not exist in nums so return -1\n",
    "```\n",
    "\n",
    "**Constraints:**\n",
    "\n",
    "* `1 <= nums.length <= 10^4`\n",
    "* `-10^4 < nums[i], target < 10^4`\n",
    "* All the integers in `nums` are unique.\n",
    "* `nums` is sorted in ascending order."
   ]
  },
  {
   "cell_type": "code",
   "execution_count": 19,
   "id": "1ee90cf5-fe4e-451d-9b5f-4b91fd46a29d",
   "metadata": {},
   "outputs": [],
   "source": [
    "nums1 = [-2,0,3,5,9,12]\n",
    "target1 = 9\n",
    "nums2 = [-2,0,3,5,9,12]\n",
    "target2 = 2"
   ]
  },
  {
   "cell_type": "code",
   "execution_count": 27,
   "id": "d69ea00a-a9f7-4b9d-8a8e-90c6ea6bdb19",
   "metadata": {},
   "outputs": [],
   "source": [
    "# binary search: remember to exclude mid index when iterating, and allow iteration to continue when left == right\n",
    "\n",
    "from typing import List\n",
    "\n",
    "class Solution:\n",
    "    def search(self, nums: List[int], target: int) -> int:\n",
    "        left, right = 0, len(nums)-1\n",
    "\n",
    "        while left <= right:\n",
    "            mid = (left + right)//2\n",
    "            # avoid possible integer overflow by subtracting and adding to left\n",
    "            # mid = ((right - left) // 2) + left\n",
    "            if nums[mid] == target:\n",
    "                return mid\n",
    "            elif nums[mid] < target:\n",
    "                left = mid + 1\n",
    "            else:\n",
    "                right = mid - 1\n",
    "        \n",
    "        return -1"
   ]
  },
  {
   "cell_type": "code",
   "execution_count": 28,
   "id": "8368a4f1-600b-4039-b719-cb413f4fac7c",
   "metadata": {},
   "outputs": [
    {
     "data": {
      "text/plain": [
       "-1"
      ]
     },
     "execution_count": 28,
     "metadata": {},
     "output_type": "execute_result"
    }
   ],
   "source": [
    "soln = Solution()\n",
    "soln.search(nums1,-1)"
   ]
  },
  {
   "cell_type": "markdown",
   "id": "465433ca-bd5c-46d1-96df-9378751bbcdc",
   "metadata": {},
   "source": [
    "## 74. Search a 2D Matrix\n",
    "\n",
    "\n",
    "leetcode: https://leetcode.com/problems/search-a-2d-matrix/"
   ]
  },
  {
   "cell_type": "markdown",
   "id": "2a563b60-712a-443c-bf94-29eca210dfae",
   "metadata": {},
   "source": [
    "You are given an `m x n` integer matrix `matrix` with the following two properties:\n",
    "\n",
    "* Each row is sorted in non-decreasing order.\n",
    "* The first integer of each row is greater than the last integer of the previous row.\n",
    "Given an integer `target`, return `true` if target is in `matrix` or `false` otherwise.\n",
    "\n",
    "You must write a solution in `O(log(m * n))` time complexity.\n",
    "\n",
    " \n",
    "\n",
    "**Example 1:**\n",
    "\n",
    "![https://assets.leetcode.com/uploads/2020/10/05/mat.jpg](https://assets.leetcode.com/uploads/2020/10/05/mat.jpg)\n",
    "```\n",
    "Input: matrix = [[1,3,5,7],[10,11,16,20],[23,30,34,60]], target = 3\n",
    "Output: true\n",
    "```\n",
    "**Example 2:**\n",
    "\n",
    "![https://assets.leetcode.com/uploads/2020/10/05/mat2.jpg](https://assets.leetcode.com/uploads/2020/10/05/mat2.jpg)\n",
    "```\n",
    "Input: matrix = [[1,3,5,7],[10,11,16,20],[23,30,34,60]], target = 13\n",
    "Output: false\n",
    "``` \n",
    "\n",
    "**Constraints:**\n",
    "\n",
    "* `m == matrix.length`\n",
    "* `n == matrix[i].length`\n",
    "* `1 <= m, n <= 100`\n",
    "* `-10^4 <= matrix[i][j], target <= 10^4`"
   ]
  },
  {
   "cell_type": "code",
   "execution_count": 3,
   "id": "ae465e10-2530-4913-b286-e3984c504725",
   "metadata": {},
   "outputs": [],
   "source": [
    "matrix1 = [[1,3,5,7],[10,11,16,20],[23,30,34,60]]\n",
    "target1 = 3\n",
    "\n",
    "matrix2 = [[1,3,5,7],[10,11,16,20],[23,30,34,60]]\n",
    "target2 = 13"
   ]
  },
  {
   "cell_type": "code",
   "execution_count": 42,
   "id": "84be5e5e-3017-4ef3-826c-c61df45180f8",
   "metadata": {},
   "outputs": [],
   "source": [
    "# cheating: convert matrix to single array, then binary search\n",
    "\n",
    "from typing import List\n",
    "\n",
    "class Solution:\n",
    "    def searchMatrix(self, matrix: List[List[int]], target: int) -> bool:\n",
    "        array = []\n",
    "        for row in matrix:\n",
    "            array += row\n",
    "        \n",
    "            \n",
    "        # binary search\n",
    "        left, right = 0, len(array)-1\n",
    "        while left <= right:\n",
    "            mid = (left + right)//2\n",
    "\n",
    "            if array[mid] == target:\n",
    "                return True\n",
    "            elif array[mid] < target:\n",
    "                left = mid + 1\n",
    "            else:\n",
    "                right = mid -1\n",
    "                \n",
    "        return False"
   ]
  },
  {
   "cell_type": "code",
   "execution_count": 51,
   "id": "2ee2b8d7-d31d-4ccf-850a-105de5c54db5",
   "metadata": {},
   "outputs": [],
   "source": [
    "# space optimization (without copying matrix)\n",
    "# binary search and check beginning and end values of each row\n",
    "\n",
    "from typing import List\n",
    "\n",
    "class Solution:\n",
    "    def searchMatrix(self, matrix: List[List[int]], target: int) -> bool:\n",
    "        # binary search rows\n",
    "        left, right = 0, len(matrix)-1\n",
    "        \n",
    "        while left <= right:\n",
    "            mid = (left + right)//2\n",
    "            firstval = matrix[mid][0]\n",
    "            endval = matrix[mid][-1]\n",
    "            \n",
    "            if firstval == target or endval == target:\n",
    "                return True\n",
    "            elif firstval < target and endval > target: # target in row\n",
    "                # binary search row\n",
    "                first, end = 0, len(matrix[mid])-1\n",
    "                while first <= end:\n",
    "                    rowmid = (first + end)//2\n",
    "                    rowmidval = matrix[mid][rowmid]\n",
    "                    \n",
    "                    if rowmidval == target:\n",
    "                        return True\n",
    "                    elif rowmidval < target:\n",
    "                        first = rowmid + 1\n",
    "                    else:\n",
    "                        end = rowmid - 1\n",
    "\n",
    "                return False\n",
    "            \n",
    "            elif endval < target: # target is in later row\n",
    "                left = mid + 1\n",
    "            else:\n",
    "                right = mid - 1\n",
    "                        \n",
    "        return False"
   ]
  },
  {
   "cell_type": "code",
   "execution_count": 4,
   "id": "7d5bcc42-cb9d-4850-9255-d09b6b827fdb",
   "metadata": {},
   "outputs": [],
   "source": [
    "# space optimization (without copying matrix)\n",
    "# binary search array as if it was a 1D array without modifying it\n",
    "\n",
    "from typing import List\n",
    "\n",
    "class Solution:\n",
    "    def searchMatrix(self, matrix, target):\n",
    "        if not matrix or not matrix[0]: return False\n",
    "        m, n = len(matrix[0]), len(matrix)\n",
    "        beg, end = 0, m*n - 1\n",
    "        while beg < end:\n",
    "            mid = (beg + end)//2\n",
    "            if matrix[mid//m][mid%m] < target:\n",
    "                beg = mid + 1\n",
    "            else:\n",
    "                end = mid\n",
    "        return matrix[beg//m][beg%m] == target"
   ]
  },
  {
   "cell_type": "code",
   "execution_count": 5,
   "id": "b3541bd6-56f5-44c0-b62a-782f409512eb",
   "metadata": {},
   "outputs": [
    {
     "data": {
      "text/plain": [
       "False"
      ]
     },
     "execution_count": 5,
     "metadata": {},
     "output_type": "execute_result"
    }
   ],
   "source": [
    "soln = Solution()\n",
    "soln.searchMatrix([],target1)"
   ]
  },
  {
   "cell_type": "code",
   "execution_count": 37,
   "id": "a1879949-c797-43f9-b857-a9b1a5a007b8",
   "metadata": {},
   "outputs": [],
   "source": [
    "test = [1,3,5,7]\n",
    "test += [10,11,16,20]"
   ]
  },
  {
   "cell_type": "code",
   "execution_count": 38,
   "id": "1b30225f-03b0-4328-844d-dbdcb783b3a9",
   "metadata": {},
   "outputs": [
    {
     "data": {
      "text/plain": [
       "[1, 3, 5, 7, 10, 11, 16, 20]"
      ]
     },
     "execution_count": 38,
     "metadata": {},
     "output_type": "execute_result"
    }
   ],
   "source": [
    "test"
   ]
  },
  {
   "cell_type": "code",
   "execution_count": null,
   "id": "b7608e2c-91c2-4088-94bc-4ee9be2983a3",
   "metadata": {},
   "outputs": [],
   "source": []
  },
  {
   "cell_type": "markdown",
   "id": "6409a0e0-7997-4c8e-b9dd-1edc82f31937",
   "metadata": {},
   "source": [
    "## 875. Koko Eating Bananas\n",
    "\n",
    "\n",
    "leetcode: https://leetcode.com/problems/koko-eating-bananas/"
   ]
  },
  {
   "cell_type": "markdown",
   "id": "da184405-b645-4868-9a9f-56cc0ccc07e3",
   "metadata": {},
   "source": [
    "Koko loves to eat bananas. There are `n` piles of bananas, the `ith` pile has `piles[i]` bananas. The guards have gone and will come back in `h` hours.\n",
    "\n",
    "Koko can decide her bananas-per-hour eating speed of `k`. Each hour, she chooses some pile of bananas and eats `k` bananas from that pile. If the pile has less than `k` bananas, she eats all of them instead and will not eat any more bananas during this hour.\n",
    "\n",
    "Koko likes to eat slowly but still wants to finish eating all the bananas before the guards return.\n",
    "\n",
    "Return the minimum integer `k` such that she can eat all the bananas within `h` hours.\n",
    "\n",
    " \n",
    "\n",
    "**Example 1:**\n",
    "```\n",
    "Input: piles = [3,6,7,11], h = 8\n",
    "Output: 4\n",
    "```\n",
    "**Example 2:**\n",
    "```\n",
    "Input: piles = [30,11,23,4,20], h = 5\n",
    "Output: 30\n",
    "```\n",
    "**Example 3:**\n",
    "```\n",
    "Input: piles = [30,11,23,4,20], h = 6\n",
    "Output: 23\n",
    "```\n",
    "\n",
    "**Constraints:**\n",
    "\n",
    "* `1 <= piles.length <= 10^4`\n",
    "* `piles.length <= h <= 10^9`\n",
    "* `1 <= piles[i] <= 10^9`"
   ]
  },
  {
   "cell_type": "code",
   "execution_count": 90,
   "id": "d878275f-b314-4df5-9c3e-98958016a3db",
   "metadata": {},
   "outputs": [],
   "source": [
    "piles1 = [3,6,7,11]\n",
    "h1 = 8\n",
    "\n",
    "piles2 = [30,11,23,4,20]\n",
    "h2 = 5\n",
    "\n",
    "piles3 = [30,11,23,4,20] \n",
    "h3 = 6\n",
    "\n",
    "piles4 = [312884470]\n",
    "h4 = 968709470\n",
    "\n",
    "piles5 = [5]\n",
    "h5 = 10"
   ]
  },
  {
   "cell_type": "code",
   "execution_count": 86,
   "id": "9ad25992-4e2f-4cf1-a1a6-391d6c0cc273",
   "metadata": {},
   "outputs": [],
   "source": [
    "# sort piles (or just call max()) to get max pile size, this is max speed k to finish at minimum h\n",
    "# min_speed solution is somewhere between 1 and max(piles): use binary search to find minimum speed that satisifes finish all piles within h\n",
    "# algorithm speed is [linear scan for hours-to-finish] * [log n binary search on speed]: O(n * logn)\n",
    "# modify binary search: instead of searching for exact value, continue algorithm until left is not strictly less than right\n",
    "    # instead of returning mid, return low or high since terminating condition is when they are the same value\n",
    "\n",
    "from typing import List\n",
    "\n",
    "class Solution:\n",
    "    def minEatingSpeed(self, piles: List[int], h: int) -> int:\n",
    "        lowspeed = 1\n",
    "        highspeed = max(piles)\n",
    "\n",
    "        while lowspeed < highspeed:\n",
    "            midspeed = (lowspeed + highspeed) // 2 \n",
    "\n",
    "            hourstofinish = 0\n",
    "            for p in piles:\n",
    "                hourstofinish += -(-p//midspeed) # ceiling division\n",
    "\n",
    "            \n",
    "            if hourstofinish <= h: \n",
    "                highspeed = midspeed\n",
    "            else:\n",
    "                lowspeed = midspeed + 1\n",
    "        \n",
    "        return highspeed"
   ]
  },
  {
   "cell_type": "code",
   "execution_count": 100,
   "id": "792d48ef-0664-44f1-a9f7-b1db62463053",
   "metadata": {},
   "outputs": [],
   "source": [
    "# alternative way of terminating binary search: just log candidate answers but keep searching until right pointer crosses left pointer\n",
    "\n",
    "from typing import List\n",
    "\n",
    "class Solution:\n",
    "    def minEatingSpeed(self, piles: List[int], h: int) -> int:\n",
    "        lowspeed = 1\n",
    "        highspeed = max(piles)\n",
    "\n",
    "        ans = 0\n",
    "        while lowspeed <= highspeed:\n",
    "            midspeed = (lowspeed + highspeed) // 2\n",
    "\n",
    "            hourstofinish = 0\n",
    "            for p in piles:\n",
    "                hourstofinish += -(-p//midspeed) # ceiling division\n",
    "\n",
    "            if hourstofinish <= h:\n",
    "                ans = midspeed\n",
    "                highspeed = midspeed - 1\n",
    "            else:\n",
    "                lowspeed = midspeed + 1\n",
    "        \n",
    "        return ans"
   ]
  },
  {
   "cell_type": "code",
   "execution_count": 102,
   "id": "6c8953e8-5923-4d5f-a2ab-1925a05c9c9c",
   "metadata": {},
   "outputs": [
    {
     "data": {
      "text/plain": [
       "1"
      ]
     },
     "execution_count": 102,
     "metadata": {},
     "output_type": "execute_result"
    }
   ],
   "source": [
    "soln = Solution()\n",
    "soln.minEatingSpeed(piles4,h4)"
   ]
  },
  {
   "cell_type": "markdown",
   "id": "c348d92d-cd8f-4245-84e0-2373012390f6",
   "metadata": {},
   "source": [
    "## 153. Find Minimum in Rotated Sorted Array\n",
    "\n",
    "\n",
    "leetcode: https://leetcode.com/problems/find-minimum-in-rotated-sorted-array/"
   ]
  },
  {
   "cell_type": "markdown",
   "id": "54abac34-d5c5-45f0-bfb0-5131f483578e",
   "metadata": {},
   "source": [
    "Suppose an array of length `n` sorted in ascending order is rotated between `1` and `n` times. For example, the array `nums = [0,1,2,4,5,6,7]` might become:\n",
    "\n",
    "* `[4,5,6,7,0,1,2]` if it was rotated `4` times.\n",
    "* `[0,1,2,4,5,6,7]` if it was rotated `7` times.\n",
    "Notice that **rotating** an array `[a[0], a[1], a[2], ..., a[n-1]]` 1 time results in the array `[a[n-1], a[0], a[1], a[2], ..., a[n-2]]`.\n",
    "\n",
    "Given the sorted rotated array `nums` of **unique** elements, return the minimum element of this array.\n",
    "\n",
    "You must write an algorithm that runs in `O(log n)` time.\n",
    "\n",
    " \n",
    "\n",
    "**Example 1:**\n",
    "```\n",
    "Input: nums = [3,4,5,1,2]\n",
    "Output: 1\n",
    "Explanation: The original array was [1,2,3,4,5] rotated 3 times.\n",
    "```\n",
    "**Example 2:**\n",
    "```\n",
    "Input: nums = [4,5,6,7,0,1,2]\n",
    "Output: 0\n",
    "Explanation: The original array was [0,1,2,4,5,6,7] and it was rotated 4 times.\n",
    "```\n",
    "**Example 3:**\n",
    "```\n",
    "Input: nums = [11,13,15,17]\n",
    "Output: 11\n",
    "Explanation: The original array was [11,13,15,17] and it was rotated 4 times. \n",
    "```\n",
    "\n",
    "**Constraints:**\n",
    "\n",
    "* `n == nums.length`\n",
    "* `1 <= n <= 5000`\n",
    "* `-5000 <= nums[i] <= 5000`\n",
    "* All the integers of `nums` are unique.\n",
    "* `nums` is sorted and rotated between `1` and `n` times."
   ]
  },
  {
   "cell_type": "code",
   "execution_count": 131,
   "id": "242cbe6e-c15e-49db-87c1-31b19d34fcf5",
   "metadata": {},
   "outputs": [],
   "source": [
    "nums1 = [3,4,5,1,2]\n",
    "nums2 = [4,5,6,7,0,1,2]\n",
    "nums3 = [11,13,15,17]\n",
    "nums4 = [3,1,2]\n",
    "nums5 = [4,5,6,7,8,0,1,2]"
   ]
  },
  {
   "cell_type": "code",
   "execution_count": 174,
   "id": "94358152-98b8-4581-8f24-628d88bf6b35",
   "metadata": {},
   "outputs": [],
   "source": [
    "# binary search comparing nums[mid] and nums[0] to determine whether to continue searching left or right\n",
    "\n",
    "from typing import List\n",
    "\n",
    "class Solution:\n",
    "    def findMin(self, nums: List[int]) -> int:\n",
    "        if nums[0] <= nums[-1]: # sorted array of n >= 1\n",
    "            return nums[0]\n",
    "\n",
    "        # binary search for pivot point\n",
    "        left = 0\n",
    "        right = len(nums)-1\n",
    "\n",
    "        while left <= right:\n",
    "            mid = (left + right) // 2\n",
    "            if nums[mid] < nums[mid-1]:\n",
    "                return nums[mid]\n",
    "            elif nums[mid] > nums[mid-1] and nums[mid] < nums[0]: # search left, mid in smaller section\n",
    "                right = mid - 1\n",
    "            else:\n",
    "                left = mid + 1\n",
    "                \n",
    "        return -1"
   ]
  },
  {
   "cell_type": "code",
   "execution_count": 188,
   "id": "64115339-1e5d-4b95-b90c-1571cbdb0005",
   "metadata": {},
   "outputs": [],
   "source": [
    "# alternative approach: exhaustive binary search and logging minimum value seen\n",
    "\n",
    "class Solution:\n",
    "    def findMin(self, nums: List[int]) -> int:\n",
    "        if nums[0] <= nums[-1]: # sorted array of n >= 1\n",
    "            return nums[0]\n",
    "\n",
    "        # binary search for pivot point\n",
    "        left = 0\n",
    "        right = len(nums)-1\n",
    "\n",
    "        # 4, 4\n",
    "        ans = nums[0]\n",
    "        while left <= right:\n",
    "            mid = (left + right) // 2 # 4\n",
    "            ans = min(ans,nums[mid])\n",
    "            \n",
    "            \n",
    "            if nums[mid] < nums[-1]: # search left\n",
    "                right = mid - 1\n",
    "            else:\n",
    "                left = mid + 1\n",
    "                \n",
    "        return ans"
   ]
  },
  {
   "cell_type": "code",
   "execution_count": 192,
   "id": "9caecda6-1591-453f-9b2d-6c723827dbf0",
   "metadata": {},
   "outputs": [
    {
     "data": {
      "text/plain": [
       "0"
      ]
     },
     "execution_count": 192,
     "metadata": {},
     "output_type": "execute_result"
    }
   ],
   "source": [
    "soln = Solution()\n",
    "soln.findMin(nums2)"
   ]
  },
  {
   "cell_type": "markdown",
   "id": "aed5e86a-ac12-4403-892f-af06296f4e48",
   "metadata": {},
   "source": [
    "## 981. Time Based Key-Value Store\n",
    "\n",
    "\n",
    "leetcode: https://leetcode.com/problems/time-based-key-value-store/"
   ]
  },
  {
   "cell_type": "markdown",
   "id": "0a371f42-7065-4fc6-84a5-50c380cd900b",
   "metadata": {},
   "source": [
    "Design a time-based key-value data structure that can store multiple values for the same key at different time stamps and retrieve the key's value at a certain timestamp.\n",
    "\n",
    "Implement the `TimeMap` class:\n",
    "\n",
    "* `TimeMap()` Initializes the object of the data structure.\n",
    "* `void set(String key, String value, int timestamp)` Stores the key `key` with the value `value` at the given time `timestamp`.\n",
    "* `String get(String key, int timestamp)` Returns a value such that `set` was called previously, with `timestamp_prev <= timestamp`. If there are multiple such values, it returns the value associated with the largest `timestamp_prev`. If there are no values, it returns `\"\"`.\n",
    " \n",
    "\n",
    "**Example 1:**\n",
    "```\n",
    "Input\n",
    "[\"TimeMap\", \"set\", \"get\", \"get\", \"set\", \"get\", \"get\"]\n",
    "[[], [\"foo\", \"bar\", 1], [\"foo\", 1], [\"foo\", 3], [\"foo\", \"bar2\", 4], [\"foo\", 4], [\"foo\", 5]]\n",
    "Output\n",
    "[null, null, \"bar\", \"bar\", null, \"bar2\", \"bar2\"]\n",
    "\n",
    "Explanation\n",
    "TimeMap timeMap = new TimeMap();\n",
    "timeMap.set(\"foo\", \"bar\", 1);  // store the key \"foo\" and value \"bar\" along with timestamp = 1.\n",
    "timeMap.get(\"foo\", 1);         // return \"bar\"\n",
    "timeMap.get(\"foo\", 3);         // return \"bar\", since there is no value corresponding to foo at timestamp 3 and timestamp 2, then the only value is at timestamp 1 is \"bar\".\n",
    "timeMap.set(\"foo\", \"bar2\", 4); // store the key \"foo\" and value \"bar2\" along with timestamp = 4.\n",
    "timeMap.get(\"foo\", 4);         // return \"bar2\"\n",
    "timeMap.get(\"foo\", 5);         // return \"bar2\"\n",
    "```\n",
    "\n",
    "**Constraints:**\n",
    "\n",
    "* `1 <= key.length, value.length <= 100`\n",
    "* `key` and `value` consist of lowercase English letters and digits.\n",
    "* `1 <= timestamp <= 10^7`\n",
    "* All the timestamps `timestamp` of `set` are strictly increasing.\n",
    "* At most `2 * 10^5` calls will be made to `set` and `get`."
   ]
  },
  {
   "cell_type": "code",
   "execution_count": 5,
   "id": "53bb2ab5-c1e3-4d52-963a-34dda7411222",
   "metadata": {},
   "outputs": [],
   "source": [
    "class TimeMap:\n",
    "\n",
    "    def __init__(self):\n",
    "        self.storage = {}\n",
    "\n",
    "    def set(self, key: str, value: str, timestamp: int) -> None:\n",
    "        storageval = (value, timestamp)\n",
    "        \n",
    "        # newval = self.storage.get(key, [])\n",
    "        # newval.append(storageval)\n",
    "        # self.storage[key] = newval\n",
    "        \n",
    "        if key in self.storage.keys():\n",
    "            self.storage[key] += [storageval]\n",
    "        else:\n",
    "            self.storage[key] = [storageval]\n",
    "\n",
    "    def get(self, key: str, timestamp: int) -> str:\n",
    "        storagelist = self.storage.get(key)\n",
    "\n",
    "        # binary search sorted values array\n",
    "        ans = \"\"\n",
    "        if storagelist:\n",
    "            left, right = 0, len(storagelist)-1\n",
    "\n",
    "            while left <= right:\n",
    "                mid = (left + right) // 2\n",
    "\n",
    "                if storagelist[mid][1] <= timestamp:\n",
    "                    ans = storagelist[mid][0]\n",
    "                    left = mid + 1\n",
    "                else:\n",
    "                    right = mid - 1\n",
    "        \n",
    "        return ans\n",
    "\n",
    "\n",
    "# Your TimeMap object will be instantiated and called as such:\n",
    "# obj = TimeMap()\n",
    "# obj.set(key,value,timestamp)\n",
    "# param_2 = obj.get(key,timestamp)"
   ]
  },
  {
   "cell_type": "code",
   "execution_count": 48,
   "id": "be119c19-525a-4c6a-8379-98d1aef19fda",
   "metadata": {},
   "outputs": [],
   "source": [
    "class TimeMap:\n",
    "\n",
    "    def __init__(self):\n",
    "        self.storage = {}\n",
    "\n",
    "    def set(self, key: str, value: str, timestamp: int) -> None:\n",
    "        storageval = (value, timestamp)\n",
    "        \n",
    "        # newval = self.storage.get(key, [])\n",
    "        # newval.append(storageval)\n",
    "        # self.storage[key] = newval\n",
    "        \n",
    "        if key in self.storage.keys():\n",
    "            self.storage[key] += [storageval]\n",
    "        else:\n",
    "            self.storage[key] = [storageval]\n",
    "\n",
    "    def get(self, key: str, timestamp: int) -> str:\n",
    "        storagelist = self.storage.get(key)\n",
    "\n",
    "\n",
    "        # linear search sorted values array from end\n",
    "        ans = \"\"\n",
    "        if storagelist:\n",
    "            index = len(storagelist)-1\n",
    "            valuetime = storagelist[index][1]\n",
    "            if valuetime <= timestamp:\n",
    "                ans = storagelist[index][0]\n",
    "\n",
    "            while valuetime > timestamp and index > 0:\n",
    "                index -= 1\n",
    "                valuetime = storagelist[index][1]\n",
    "                ans = storagelist[index][0]\n",
    "                        \n",
    "        return ans\n",
    "\n",
    "\n",
    "# Your TimeMap object will be instantiated and called as such:\n",
    "# obj = TimeMap()\n",
    "# obj.set(key,value,timestamp)\n",
    "# param_2 = obj.get(key,timestamp)"
   ]
  },
  {
   "cell_type": "code",
   "execution_count": 11,
   "id": "d14f16d5-d774-4ed2-9816-4c758b600c60",
   "metadata": {},
   "outputs": [],
   "source": [
    "timeMap = TimeMap();\n",
    "timeMap.set(\"foo\", \"bar\", 1);  ## store the key \"foo\" and value \"bar\" along with timestamp = 1.\n",
    "timeMap.get(\"foo\", 1);         ## return \"bar\"\n",
    "timeMap.get(\"foo\", 3);         ## return \"bar\", since there is no value corresponding to foo at timestamp 3 and timestamp 2, then the only value is at timestamp 1 is \"bar\".\n",
    "timeMap.set(\"foo\", \"bar2\", 4); ## store the key \"foo\" and value \"bar2\" along with timestamp = 4.\n",
    "timeMap.get(\"foo\", 4);         ## return \"bar2\"\n",
    "timeMap.get(\"foo\", 5);         ## return \"bar2\""
   ]
  },
  {
   "cell_type": "code",
   "execution_count": 50,
   "id": "50a66c37-ebb3-44df-b43b-595871149380",
   "metadata": {},
   "outputs": [
    {
     "data": {
      "text/plain": [
       "'bar2'"
      ]
     },
     "execution_count": 50,
     "metadata": {},
     "output_type": "execute_result"
    }
   ],
   "source": [
    "timeMap = TimeMap()\n",
    "timeMap.set(\"foo\", \"bar\", 1)\n",
    "timeMap.get(\"foo\", 1)\n",
    "timeMap.get(\"foo\", 3)\n",
    "timeMap.set(\"foo\", \"bar2\", 4)\n",
    "timeMap.get(\"foo\", 3)\n",
    "timeMap.set(\"foo\", \"bar3\", 400000)\n",
    "timeMap.get(\"foo\", 40000)"
   ]
  },
  {
   "cell_type": "code",
   "execution_count": 22,
   "id": "5e074140-5ff0-4231-a664-26ec6af0453a",
   "metadata": {},
   "outputs": [],
   "source": [
    "timeMap.storage['test'] = timeMap.storage.get('test',[]).append(('time1',5))"
   ]
  },
  {
   "cell_type": "code",
   "execution_count": 23,
   "id": "505b7301-de81-433f-b512-70ea6392bfdf",
   "metadata": {},
   "outputs": [
    {
     "data": {
      "text/plain": [
       "{'foo': None, 'test': None}"
      ]
     },
     "execution_count": 23,
     "metadata": {},
     "output_type": "execute_result"
    }
   ],
   "source": [
    "timeMap.storage"
   ]
  },
  {
   "cell_type": "code",
   "execution_count": 26,
   "id": "5a7abff3-66c9-4b73-b548-f8e007851555",
   "metadata": {},
   "outputs": [],
   "source": [
    "test = [1,2,3,4]\n",
    "test.append(('time1',5))"
   ]
  },
  {
   "cell_type": "code",
   "execution_count": 32,
   "id": "0e61ab0e-6373-4440-bdd0-a5fd348f0e08",
   "metadata": {},
   "outputs": [],
   "source": [
    "test = timeMap.storage.get('nothing',[]).append(('time1',5))"
   ]
  },
  {
   "cell_type": "code",
   "execution_count": 33,
   "id": "20895646-d636-4193-89c2-d7617035c80c",
   "metadata": {},
   "outputs": [],
   "source": [
    "test"
   ]
  },
  {
   "cell_type": "markdown",
   "id": "a08e5826-e2b3-49f0-aee1-31940bee64be",
   "metadata": {},
   "source": [
    "## 4. Median of Two Sorted Arrays\n",
    "\n",
    "leetcode: https://leetcode.com/problems/median-of-two-sorted-arrays/"
   ]
  },
  {
   "cell_type": "markdown",
   "id": "69fc1804-57cf-4c39-b5ff-1711a8e9abae",
   "metadata": {},
   "source": [
    "Given two sorted arrays `nums1` and `nums2` of size `m` and `n` respectively, return the **median** of the two sorted arrays.\n",
    "\n",
    "The overall run time complexity should be `O(log (m+n))`.\n",
    "\n",
    " \n",
    "\n",
    "**Example 1:**\n",
    "```\n",
    "Input: nums1 = [1,3], nums2 = [2]\n",
    "Output: 2.00000\n",
    "Explanation: merged array = [1,2,3] and median is 2.\n",
    "```\n",
    "**Example 2:**\n",
    "```\n",
    "Input: nums1 = [1,2], nums2 = [3,4]\n",
    "Output: 2.50000\n",
    "Explanation: merged array = [1,2,3,4] and median is (2 + 3) / 2 = 2.5.\n",
    "```\n",
    "\n",
    "**Constraints:**\n",
    "\n",
    "* `nums1.length == m`\n",
    "* `nums2.length == n`\n",
    "* `0 <= m <= 1000`\n",
    "* `0 <= n <= 1000`\n",
    "* `1 <= m + n <= 2000`\n",
    "* `-10^6 <= nums1[i], nums2[i] <= 10^6`"
   ]
  },
  {
   "cell_type": "code",
   "execution_count": 11,
   "id": "4461bc4e-1b23-4dc8-836f-7f4a0a05489b",
   "metadata": {},
   "outputs": [],
   "source": [
    "nums1_1 = [1,3]\n",
    "nums2_1 = [2]\n",
    "\n",
    "nums1_2 = [1,2]\n",
    "nums2_2 = [3,4]\n",
    "\n",
    "nums1_3 = [1,2,3,4,5,6,7,8]\n",
    "nums2_3 = [1,2,3,4,5] # 4"
   ]
  },
  {
   "cell_type": "code",
   "execution_count": 37,
   "id": "fc2a6a7b-f260-4c39-9f5a-d4d4bb5a892e",
   "metadata": {},
   "outputs": [],
   "source": [
    "# idea: binary search the two arrays and find candidates for largest value(s) in the left half of the final sorted array\n",
    "\n",
    "from typing import List\n",
    "\n",
    "class Solution:\n",
    "    def findMedianSortedArrays(self, nums1: List[int], nums2: List[int]) -> float:\n",
    "        if len(nums1) <= len(nums2):\n",
    "            a, b = nums1, nums2\n",
    "        else:\n",
    "            a, b = nums2, nums1\n",
    "\n",
    "        total = (len(a) + len(b))\n",
    "        half = total // 2\n",
    "\n",
    "        left, right = 0, len(a)-1\n",
    "        while True:\n",
    "            i = (left + right)//2\n",
    "            j = (half-1) - (i+1) # index of the [half - (i+1)]th element in b\n",
    "\n",
    "            if i >= 0:\n",
    "                aleft = a[i]\n",
    "            else:\n",
    "                aleft = float('-inf')\n",
    "\n",
    "            if i+1 < len(a):\n",
    "                aright = a[i+1]\n",
    "            else:\n",
    "                aright = float('inf')\n",
    "\n",
    "            if j >= 0:\n",
    "                bleft = b[j]\n",
    "            else:\n",
    "                bleft = float('-inf')\n",
    "\n",
    "            if j+1 < len(b):\n",
    "                bright = b[j+1]\n",
    "            else:\n",
    "                bright = float('inf')\n",
    "\n",
    "            if aleft <= bright and bleft <= aright:\n",
    "                if total % 2 == 1: # odd\n",
    "                    median =  min(aright,bright)\n",
    "                    break\n",
    "                else: # even\n",
    "                    median =  (max(aleft,bleft) + min(aright,bright))/2\n",
    "                    break\n",
    "            elif aleft > bright:\n",
    "                right = i - 1\n",
    "            else:\n",
    "                left = i + 1\n",
    "                \n",
    "            \n",
    "        return median"
   ]
  },
  {
   "cell_type": "markdown",
   "id": "5caf4615-c49d-462a-9c71-1050bf8a0c9d",
   "metadata": {},
   "source": [
    "Explanation:\n",
    "* Use the fact that both arrays are sorted and we know how many elements should be in the first half of the final sorted merged array\n",
    "* Binary search for the median in the smaller array by maintaining:\n",
    "* `array1[i] < array_larger[j+1]` , where `j` is the (half-i)th element in the larger array\n",
    "* i.e. if `i = 2` (3rd element) and total size of the first half is 7 (`half = 7`), then `j = 3` (`array1` has 3 elements of the first half, `array2` has 4 elements of the first half with the largest element at `array2[j]`)\n",
    "* Continue searching until index values for `i` and `j` are found where `array1[i] < array2[j+1]` and `array2[j] < array1[i+1]`\n",
    "* Increase or decrease candidate values of `i` and corresponding `j` until the conditions are met for the median\n",
    "* Implementation note: if i or j reach out of bounds of the arrays, then default them to +/- `Inf` for comparison\n",
    "* to handle even/odd median cases, use: `min(aright,bright)` for odd, `(max(aleft,bleft)+min(aright,bright))/2` for even\n",
    "* this works because `size(aleft)+size(bleft) == half//2`, the smaller \"half\" of the total array using integer division so the smallest element of the larger \"half\" in an odd total count case will be the median"
   ]
  },
  {
   "cell_type": "code",
   "execution_count": 39,
   "id": "17db07a4-a1f0-4e01-986f-d329099d09b4",
   "metadata": {},
   "outputs": [
    {
     "data": {
      "text/plain": [
       "4"
      ]
     },
     "execution_count": 39,
     "metadata": {},
     "output_type": "execute_result"
    }
   ],
   "source": [
    "soln = Solution()\n",
    "soln.findMedianSortedArrays(nums1_3,nums2_3)"
   ]
  },
  {
   "cell_type": "code",
   "execution_count": null,
   "id": "88e5e807-d5d3-41de-8b51-87991fa8fed3",
   "metadata": {},
   "outputs": [],
   "source": []
  },
  {
   "cell_type": "markdown",
   "id": "3918d733-8193-42b8-aae1-2160cdf75c19",
   "metadata": {},
   "source": [
    "# Sliding Window"
   ]
  },
  {
   "cell_type": "markdown",
   "id": "aba348ff-3bb8-4a38-b6ab-eb6e9e4a137e",
   "metadata": {},
   "source": [
    "## 121. Best Time to Buy and Sell Stock\n",
    "\n",
    "leetcode: https://leetcode.com/problems/best-time-to-buy-and-sell-stock/"
   ]
  },
  {
   "cell_type": "markdown",
   "id": "2e92188c-f411-417a-a339-bb5690408bfd",
   "metadata": {},
   "source": [
    "You are given an array `prices` where `prices[i]` is the price of a given stock on the `ith` day.\n",
    "\n",
    "You want to maximize your profit by choosing a **single day** to buy one stock and choosing a **different day in the future** to sell that stock.\n",
    "\n",
    "Return the maximum profit you can achieve from this transaction. If you cannot achieve any profit, return `0`.\n",
    "\n",
    " \n",
    "\n",
    "**Example 1:**\n",
    "```\n",
    "Input: prices = [7,1,5,3,6,4]\n",
    "Output: 5\n",
    "Explanation: Buy on day 2 (price = 1) and sell on day 5 (price = 6), profit = 6-1 = 5.\n",
    "Note that buying on day 2 and selling on day 1 is not allowed because you must buy before you sell.\n",
    "```\n",
    "**Example 2:**\n",
    "```\n",
    "Input: prices = [7,6,4,3,1]\n",
    "Output: 0\n",
    "Explanation: In this case, no transactions are done and the max profit = 0.\n",
    "```\n",
    "\n",
    "**Constraints:**\n",
    "\n",
    "* `1 <= prices.length <= 10^5`\n",
    "* `0 <= prices[i] <= 10^4`"
   ]
  },
  {
   "cell_type": "code",
   "execution_count": 36,
   "id": "3a2e9b14-d78b-4520-86f3-378fe9f79667",
   "metadata": {},
   "outputs": [],
   "source": [
    "prices1 = [7,1,5,3,6,4]\n",
    "prices2 = [7,6,4,3,1]\n",
    "prices3 = [7,1,5,3,6,0,1]"
   ]
  },
  {
   "cell_type": "code",
   "execution_count": 39,
   "id": "9a07ffc2-c846-445a-9e16-75b18d65e400",
   "metadata": {},
   "outputs": [],
   "source": [
    "# using buy/sell pointers\n",
    "\n",
    "from typing import List\n",
    "\n",
    "class Solution:\n",
    "    def maxProfit(self, prices: List[int]) -> int:\n",
    "        buy, sell = prices[0], prices[0]\n",
    "        profit = 0\n",
    "        \n",
    "        for price in prices:\n",
    "            if price < buy:\n",
    "                buy = price\n",
    "                sell = price\n",
    "            elif price > sell:\n",
    "                sell = price\n",
    "\n",
    "            profit = max(profit, sell-buy)\n",
    "            \n",
    "        return profit"
   ]
  },
  {
   "cell_type": "code",
   "execution_count": 40,
   "id": "23631ccf-37d4-4c33-b440-7c53d2bf4958",
   "metadata": {},
   "outputs": [],
   "source": [
    "# using min/max functions\n",
    "\n",
    "from typing import List\n",
    "\n",
    "class Solution:\n",
    "    def maxProfit(self, prices: List[int]) -> int:\n",
    "        minprice = prices[0]\n",
    "        profit = 0\n",
    "        \n",
    "        for price in prices:\n",
    "            minprice = min(minprice,price)\n",
    "            profit = max(profit, price-minprice)\n",
    "            \n",
    "        return profit"
   ]
  },
  {
   "cell_type": "code",
   "execution_count": 41,
   "id": "fe3e7232-0adf-4c98-838a-d0aa87fd87b2",
   "metadata": {},
   "outputs": [
    {
     "data": {
      "text/plain": [
       "5"
      ]
     },
     "execution_count": 41,
     "metadata": {},
     "output_type": "execute_result"
    }
   ],
   "source": [
    "soln = Solution()\n",
    "soln.maxProfit(prices3)"
   ]
  },
  {
   "cell_type": "markdown",
   "id": "4a409f3d-ef84-47d8-881c-437e008294a0",
   "metadata": {},
   "source": [
    "## 3. Longest Substring Without Repeating Characters\n",
    "\n",
    "\n",
    "leetcode: https://leetcode.com/problems/longest-substring-without-repeating-characters/"
   ]
  },
  {
   "cell_type": "markdown",
   "id": "22cdf849-e754-4286-8f2e-a565fa66a439",
   "metadata": {},
   "source": [
    "Given a string `s`, find the length of the longest substring (A substring is a contiguous non-empty sequence of characters within a string) without repeating characters.\n",
    "\n",
    " \n",
    "\n",
    "**Example 1:**\n",
    "```\n",
    "Input: s = \"abcabcbb\"\n",
    "Output: 3\n",
    "Explanation: The answer is \"abc\", with the length of 3.\n",
    "```\n",
    "**Example 2:**\n",
    "```\n",
    "Input: s = \"bbbbb\"\n",
    "Output: 1\n",
    "Explanation: The answer is \"b\", with the length of 1.\n",
    "```\n",
    "**Example 3:**\n",
    "```\n",
    "Input: s = \"pwwkew\"\n",
    "Output: 3\n",
    "Explanation: The answer is \"wke\", with the length of 3.\n",
    "Notice that the answer must be a substring, \"pwke\" is a subsequence and not a substring.\n",
    "```\n",
    "\n",
    "**Constraints:**\n",
    "\n",
    "* `0 <= s.length <= 5 * 10^4`\n",
    "* `s` consists of English letters, digits, symbols and spaces."
   ]
  },
  {
   "cell_type": "code",
   "execution_count": 87,
   "id": "5c3854ea-f0f4-4f12-9b29-07faab008f71",
   "metadata": {},
   "outputs": [],
   "source": [
    "s1 = \"abcabcbb\"\n",
    "s2 = \"bbbbb\"\n",
    "s3 = \"pwwkew\"\n",
    "s4 = \" \"\n",
    "s5 = \"dvdf\"\n",
    "s6 = \"dvdfdf\"\n",
    "s7 = \"tmmzuxt\"\n",
    "s8 = \"hijklmnopqrstuvwxyzABCDEFGHIJKLMNOPQRSTUVWXYZ0123456789hijklmnopqrstuvwxyzABCDEFGHIJKLMNOPQRSTUVWXYZ0123456789hijklmnopqrstuvwxyzABCDEFGHIJKLMNOPQRSTUVWXYZ0123456789hijklmnopqrstuvwxyzABCDEFGHIJKLMNOPQRSTUVWXYZ0123456789hijklmnopqrstuvwxyzABCDEFGHIJKLMNOPQRSTUVWXYZ0123456789hijklmnopqrstuvwxyzABCDEFGHIJKLMNOPQRSTUVWXYZ0123456789\""
   ]
  },
  {
   "cell_type": "code",
   "execution_count": 95,
   "id": "5c6f3d72-ac27-4192-aefa-f00af2f88ec6",
   "metadata": {},
   "outputs": [],
   "source": [
    "class Solution:\n",
    "    def lengthOfLongestSubstring(self, s: str) -> int:\n",
    "        chars = {}\n",
    "        maxsubstring = 0\n",
    "\n",
    "        back, front = 0, 0\n",
    "        for i,c in enumerate(s):\n",
    "            # char = c.lower() # repitition check is case sensitive \n",
    "            char = c\n",
    "            # check if c is a character (description is incorrect about not counting empty string)\n",
    "            # if (ord(char) <= ord('z') and ord(char) >= ord('a')):\n",
    "\n",
    "            front = i\n",
    "            # move back pointer forward if repeated character in current substring\n",
    "            if (char in chars.keys()) and (chars[char] >= back):\n",
    "                back = chars[char] + 1\n",
    "            \n",
    "            \n",
    "            # else:\n",
    "            #     chars = set()\n",
    "            maxsubstring = max(maxsubstring, front-back+1)\n",
    "            chars[char] = i\n",
    "                \n",
    "        return maxsubstring"
   ]
  },
  {
   "cell_type": "code",
   "execution_count": 97,
   "id": "dbf28278-1639-46f2-b63d-1ba7ce142d01",
   "metadata": {},
   "outputs": [],
   "source": [
    "# alternative approach: maintain a unique set and repeatedly remove the values at the back pointer from set until duplicate value is removed\n",
    "class Solution:\n",
    "    def lengthOfLongestSubstring(self, s: str) -> int:\n",
    "        chars = set()\n",
    "        ans = 0\n",
    "\n",
    "        back = 0\n",
    "        for front in range(len(s)):\n",
    "            # remove char at back pointer and move it forward until all duplicates are removed\n",
    "            while s[front] in chars:\n",
    "                chars.remove(s[back])\n",
    "                back += 1\n",
    "\n",
    "            chars.add(s[front])\n",
    "            ans = max(ans, front-back+1)\n",
    "            \n",
    "                \n",
    "        return ans"
   ]
  },
  {
   "cell_type": "code",
   "execution_count": 104,
   "id": "8a54566a-7d47-44e4-843b-44cef1fbafa6",
   "metadata": {},
   "outputs": [
    {
     "data": {
      "text/plain": [
       "3"
      ]
     },
     "execution_count": 104,
     "metadata": {},
     "output_type": "execute_result"
    }
   ],
   "source": [
    "soln = Solution()\n",
    "soln.lengthOfLongestSubstring(s6)"
   ]
  },
  {
   "cell_type": "markdown",
   "id": "2164326e-1ef9-44d3-abe0-df1f42d4b74a",
   "metadata": {},
   "source": [
    "## 424. Longest Repeating Character Replacement\n",
    "\n",
    "leetcode: https://leetcode.com/problems/longest-repeating-character-replacement/"
   ]
  },
  {
   "cell_type": "markdown",
   "id": "b9138351-49fc-4214-841c-eab97ddf5a6d",
   "metadata": {},
   "source": [
    "You are given a string `s` and an integer `k`. You can choose any character of the string and change it to any other uppercase English character. You can perform this operation at most `k` times.\n",
    "\n",
    "Return the length of the longest substring containing the same letter you can get after performing the above operations.\n",
    "\n",
    " \n",
    "\n",
    "**Example 1:**\n",
    "```\n",
    "Input: s = \"ABAB\", k = 2\n",
    "Output: 4\n",
    "Explanation: Replace the two 'A's with two 'B's or vice versa.\n",
    "```\n",
    "**Example 2:**\n",
    "```\n",
    "Input: s = \"AABABBA\", k = 1\n",
    "Output: 4\n",
    "Explanation: Replace the one 'A' in the middle with 'B' and form \"AABBBBA\".\n",
    "The substring \"BBBB\" has the longest repeating letters, which is 4.\n",
    "There may exists other ways to achive this answer too.\n",
    "```\n",
    "\n",
    "**Constraints:**\n",
    "\n",
    "* `1 <= s.length <= 10^5`\n",
    "* `s` consists of only uppercase English letters.\n",
    "* `0 <= k <= s.length`"
   ]
  },
  {
   "cell_type": "code",
   "execution_count": 25,
   "id": "209cff1c-1aa8-440c-bd0e-d74e4db64136",
   "metadata": {},
   "outputs": [],
   "source": [
    "s1 = \"ABAB\"\n",
    "k1 = 2\n",
    "\n",
    "s2 = \"AABABBA\" \n",
    "k2 = 1\n",
    "\n",
    "s3 = \"ABCDEECAEFGGGGGJAKDLBBDKALE\"\n",
    "k3 = 5\n",
    "\n",
    "s4 = \"ABCDEECAEFGGGGGJAGGLBBDKALE\"\n",
    "k4 = 5\n",
    "\n",
    "s5 = \"KRSCDCSONAJNHLBMDQGIFCPEKPOHQIHLTDIQGEKLRLCQNBOHNDQGHJPNDQPERNFSSSRDEQLFPCCCARFMDLHADJADAGNNSBNCJQOF\"\n",
    "k5 = 4\n",
    "\n",
    "s6 = \"A\"\n",
    "k6 = 0"
   ]
  },
  {
   "cell_type": "code",
   "execution_count": 34,
   "id": "e7f8f996-9267-4ce1-8067-5539c6c8e855",
   "metadata": {},
   "outputs": [],
   "source": [
    "# idea: grow window while checking counts of characters inside window\n",
    "# size allowed to grow if windowsize - max(repeat_character) > k\n",
    "# otherwise shrink window until criteria is maintained\n",
    "# note: correct answer still arrived at if using \"if\" instead of \"while\" to repeatedly shrink window, this is because window will grow to max size\n",
    "# and remain constant until the criteria allows it to grow more\n",
    "\n",
    "class Solution:\n",
    "    def characterReplacement(self, s: str, k: int) -> int:\n",
    "        charcounts = {}\n",
    "\n",
    "        back = 0\n",
    "        ans = 0\n",
    "        for front in range(len(s)):\n",
    "            frontchar = s[front]\n",
    "\n",
    "            # add new character\n",
    "            if frontchar in charcounts:\n",
    "                charcounts[frontchar] += 1\n",
    "            else:\n",
    "                charcounts[frontchar] = 1\n",
    "\n",
    "            # check if need to increment back pointer\n",
    "            while (front-back+1) - max(charcounts.values()) > k:\n",
    "                backchar = s[back]\n",
    "                charcounts[backchar] -= 1\n",
    "                back += 1\n",
    "                \n",
    "            ans = max(ans, front-back+1)\n",
    "        \n",
    "        return ans"
   ]
  },
  {
   "cell_type": "code",
   "execution_count": 35,
   "id": "a14cccfd-4576-4861-b423-cf986e94cc48",
   "metadata": {},
   "outputs": [
    {
     "data": {
      "text/plain": [
       "7"
      ]
     },
     "execution_count": 35,
     "metadata": {},
     "output_type": "execute_result"
    }
   ],
   "source": [
    "soln = Solution()\n",
    "soln.characterReplacement(s5,k5)"
   ]
  },
  {
   "cell_type": "code",
   "execution_count": 5,
   "id": "49ad95b9-34be-4514-837c-6bf54a8b318b",
   "metadata": {},
   "outputs": [],
   "source": [
    "test = {'a':5, 'b':3, 'af':0}"
   ]
  },
  {
   "cell_type": "code",
   "execution_count": 7,
   "id": "0afbb520-1c3b-47e6-aa3e-806bce166144",
   "metadata": {},
   "outputs": [
    {
     "data": {
      "text/plain": [
       "5"
      ]
     },
     "execution_count": 7,
     "metadata": {},
     "output_type": "execute_result"
    }
   ],
   "source": [
    "max(test.values())"
   ]
  },
  {
   "cell_type": "markdown",
   "id": "69cea42d-445a-4adc-b73d-259a404cf14b",
   "metadata": {},
   "source": [
    "## 567. Permutation in String\n",
    "\n",
    "leetcode: https://leetcode.com/problems/permutation-in-string/"
   ]
  },
  {
   "cell_type": "markdown",
   "id": "6d6b0998-d856-4c26-b337-7468432f9686",
   "metadata": {},
   "source": [
    "Given two strings `s1` and `s2`, return `true` if `s2` contains a **permutation** of `s1`, or `false` otherwise.\n",
    "\n",
    "In other words, return `true` if one of `s1`'s permutations is the substring of `s2`.\n",
    "\n",
    " \n",
    "\n",
    "**Example 1:**\n",
    "```\n",
    "Input: s1 = \"ab\", s2 = \"eidbaooo\"\n",
    "Output: true\n",
    "Explanation: s2 contains one permutation of s1 (\"ba\").\n",
    "```\n",
    "**Example 2:**\n",
    "```\n",
    "Input: s1 = \"ab\", s2 = \"eidboaoo\"\n",
    "Output: false\n",
    "```\n",
    "\n",
    "**Constraints:**\n",
    "\n",
    "* `1 <= s1.length, s2.length <= 10^4`\n",
    "* `s1` and `s2` consist of lowercase English letters."
   ]
  },
  {
   "cell_type": "code",
   "execution_count": 63,
   "id": "be7befb7-999c-49be-9b7f-62d05cd7f4ed",
   "metadata": {},
   "outputs": [],
   "source": [
    "s1_1 = \"ab\"\n",
    "s2_1 = \"eidbaooo\"\n",
    "\n",
    "s1_2 = \"ab\"\n",
    "s2_2 = \"eidboaoo\"\n",
    "\n",
    "s1_3 = \"allb\"\n",
    "s2_3 = \"hullabaloo\""
   ]
  },
  {
   "cell_type": "code",
   "execution_count": 59,
   "id": "67b0f646-a0d1-4edb-905e-3ff04d2f5a47",
   "metadata": {},
   "outputs": [],
   "source": [
    "class Solution:\n",
    "    def checkInclusion(self, s1: str, s2: str) -> bool:\n",
    "        if len(s1) > len(s2):\n",
    "            return False\n",
    "\n",
    "        # build initial character counts\n",
    "        s1chars = {}\n",
    "        s2chars = {}\n",
    "        for i in range(len(s1)):\n",
    "            s1chars[s1[i]] = s1chars.get(s1[i], 0) + 1\n",
    "            s2chars[s2[i]] = s2chars.get(s2[i], 0) + 1\n",
    "\n",
    "        # iterate through s2 and check character counts in window\n",
    "        left = 0\n",
    "        right = len(s1)-1\n",
    "        while right < len(s2):\n",
    "            if s1chars == s2chars:\n",
    "                return True\n",
    "            \n",
    "            # remove old characters from hashmap\n",
    "            if s2chars[s2[left]] == 1:\n",
    "                s2chars.pop(s2[left])\n",
    "            else:\n",
    "                s2chars[s2[left]] -= 1      \n",
    "\n",
    "            # update window and add new characters\n",
    "            left += 1\n",
    "            right += 1\n",
    "            if right < len(s2):\n",
    "                s2chars[s2[right]] = s2chars.get(s2[right], 0) + 1\n",
    "        \n",
    "        return False"
   ]
  },
  {
   "cell_type": "code",
   "execution_count": 62,
   "id": "6151af8a-6389-4356-a047-b78793372a56",
   "metadata": {},
   "outputs": [
    {
     "data": {
      "text/plain": [
       "False"
      ]
     },
     "execution_count": 62,
     "metadata": {},
     "output_type": "execute_result"
    }
   ],
   "source": [
    "soln = Solution()`\n",
    "soln.checkInclusion(s1_3,s2_3)"
   ]
  },
  {
   "cell_type": "markdown",
   "id": "ad306fa9-5bb6-48e1-b691-d92a3e3a15b8",
   "metadata": {},
   "source": [
    "## 76. Minimum Window Substring\n",
    "\n",
    "leetcode: https://leetcode.com/problems/minimum-window-substring/"
   ]
  },
  {
   "cell_type": "markdown",
   "id": "d6eaa446-a0c7-4b76-a3ee-198e6971ad21",
   "metadata": {},
   "source": [
    "Given two strings `s` and `t` of lengths `m` and `n` respectively, return the **minimum window substring** of `s` such that every character in `t` (including duplicates) is included in the window. If there is no such substring, return the empty string `\"\"`.\n",
    "\n",
    "The testcases will be generated such that the answer is **unique**.\n",
    "\n",
    " \n",
    "\n",
    "**Example 1:**\n",
    "```\n",
    "Input: s = \"ADOBECODEBANC\", t = \"ABC\"\n",
    "Output: \"BANC\"\n",
    "Explanation: The minimum window substring \"BANC\" includes 'A', 'B', and 'C' from string t.\n",
    "```\n",
    "**Example 2:**\n",
    "```\n",
    "Input: s = \"a\", t = \"a\"\n",
    "Output: \"a\"\n",
    "Explanation: The entire string s is the minimum window.\n",
    "```\n",
    "**Example 3:**\n",
    "```\n",
    "Input: s = \"a\", t = \"aa\"\n",
    "Output: \"\"\n",
    "Explanation: Both 'a's from t must be included in the window.\n",
    "Since the largest window of s only has one 'a', return empty string.\n",
    "````\n",
    "\n",
    "**Constraints:**\n",
    "\n",
    "* `m == s.length`\n",
    "* `n == t.length`\n",
    "* `1 <= m, n <= 10^5`\n",
    "* `s` and `t` consist of uppercase and lowercase English letters.\n",
    "\n",
    "\n",
    "**Follow up:** Could you find an algorithm that runs in `O(m + n)` time?"
   ]
  },
  {
   "cell_type": "code",
   "execution_count": 57,
   "id": "033815ea-69e2-4860-b82a-c4ae40186fb1",
   "metadata": {},
   "outputs": [],
   "source": [
    "s1 = \"ADOBECODEBANC\"\n",
    "t1 = \"ABC\"\n",
    "\n",
    "s2 = \"a\"\n",
    "t2 = \"a\"\n",
    "\n",
    "s3 = \"a\"\n",
    "t3 = \"aa\"\n",
    "\n",
    "s4 = \"EVADABANCOBECODE\"\n",
    "t4 = \"AABC\"\n",
    "\n",
    "s5 = 'EVADAANCOBECODE'\n",
    "t5 = 'AABC'\n",
    "\n",
    "s6 = 'aaaaaaaaaaaabbbbbcdd'\n",
    "t6 = 'abcdd'\n",
    "\n",
    "s7 = 'aaaaaaaaaaaabbbbbcdd'\n",
    "t7 = 'abcddg'"
   ]
  },
  {
   "cell_type": "code",
   "execution_count": 58,
   "id": "2e9bbd6a-77ce-4b88-8227-0ef261d2743b",
   "metadata": {},
   "outputs": [],
   "source": [
    "class Solution:\n",
    "    def minWindow(self, s: str, t: str) -> str:\n",
    "        if len(s) < len(t):\n",
    "            return ''\n",
    "\n",
    "        tchars = {}\n",
    "        for c in t:\n",
    "            tchars[c] = tchars.get(c, 0) + 1\n",
    "\n",
    "        left, right =  -1, 0\n",
    "        schars = {}\n",
    "        minSize = len(s)\n",
    "        minLeft, minRight = -1, -1\n",
    "        need = len(tchars)\n",
    "        have = len(schars)\n",
    "        for i,c in enumerate(s):\n",
    "            right = i\n",
    "\n",
    "            # add char to window hash\n",
    "            if c in tchars:\n",
    "                schars[c] = schars.get(c, 0) + 1\n",
    "                if schars[c] == tchars[c]:\n",
    "                    have += 1\n",
    "                \n",
    "                # set left pointer for initial valid window\n",
    "                if (left == -1):\n",
    "                    left = i\n",
    "                \n",
    "                # shrink window if possible\n",
    "                while (s[left] not in tchars) or ( (s[left] in tchars) and (schars[s[left]]-1 >= tchars[s[left]]) ):\n",
    "                    if s[left] in schars:\n",
    "                        schars[s[left]] -= 1\n",
    "                        \n",
    "                    left += 1\n",
    "                \n",
    "                \n",
    "                # if schars: # check if window is valid? check if last element removed has count >= tchars (maybe unnecessary)\n",
    "                if have == need:\n",
    "                    if (right-left+1) <= minSize:\n",
    "                        minSize = min(minSize, right-left+1)\n",
    "                        minLeft = left\n",
    "                        minRight = right\n",
    "        \n",
    "        return s[minLeft:minRight+1] # if minLeft > -1 else '' # not necessary, will default to returning s[-1:-1] which outputs ''"
   ]
  },
  {
   "cell_type": "code",
   "execution_count": 59,
   "id": "5db6b77c-a9d6-4cf7-8c04-7f75f6d1cc45",
   "metadata": {},
   "outputs": [
    {
     "data": {
      "text/plain": [
       "''"
      ]
     },
     "execution_count": 59,
     "metadata": {},
     "output_type": "execute_result"
    }
   ],
   "source": [
    "soln = Solution()\n",
    "soln.minWindow(s7,t7)"
   ]
  },
  {
   "cell_type": "markdown",
   "id": "64018afc-9d00-4c01-9fa7-fd1688a47f67",
   "metadata": {},
   "source": [
    "## 239. Sliding Window Maximum\n",
    "\n",
    "leetcode: https://leetcode.com/problems/sliding-window-maximum/"
   ]
  },
  {
   "cell_type": "markdown",
   "id": "f9b58284-db18-4d93-a324-0acea03df347",
   "metadata": {},
   "source": [
    "You are given an array of integers `nums`, there is a sliding window of size `k` which is moving from the very left of the array to the very right. You can only see the `k` numbers in the window. Each time the sliding window moves right by one position.\n",
    "\n",
    "Return the **max sliding window**.\n",
    "\n",
    " \n",
    "\n",
    "**Example 1:**\n",
    "```\n",
    "Input: nums = [1,3,-1,-3,5,3,6,7], k = 3\n",
    "Output: [3,3,5,5,6,7]\n",
    "Explanation: \n",
    "Window position                Max\n",
    "---------------               -----\n",
    "[1  3  -1] -3  5  3  6  7       3\n",
    " 1 [3  -1  -3] 5  3  6  7       3\n",
    " 1  3 [-1  -3  5] 3  6  7       5\n",
    " 1  3  -1 [-3  5  3] 6  7       5\n",
    " 1  3  -1  -3 [5  3  6] 7       6\n",
    " 1  3  -1  -3  5 [3  6  7]      7\n",
    "```\n",
    "**Example 2:**\n",
    "```\n",
    "Input: nums = [1], k = 1\n",
    "Output: [1]\n",
    "```\n",
    "\n",
    "**Constraints:**\n",
    "\n",
    "* `1 <= nums.length <= 10^5`\n",
    "* `-10^4 <= nums[i] <= 10^4`\n",
    "* `1 <= k <= nums.length`"
   ]
  },
  {
   "cell_type": "code",
   "execution_count": 37,
   "id": "361c7246-aaf4-4cca-bab4-6b3903a925e9",
   "metadata": {},
   "outputs": [],
   "source": [
    "nums1 = [1,3,-1,-3,5,3,6,7]\n",
    "k1 = 3\n",
    "\n",
    "nums2 = [1]\n",
    "k2 = 1\n",
    "\n",
    "nums3 = [7,6,5,4,3,2,1]\n",
    "k3 = 3"
   ]
  },
  {
   "cell_type": "code",
   "execution_count": 54,
   "id": "ad64baa2-2ffc-4097-87ed-4e3d09118f66",
   "metadata": {},
   "outputs": [],
   "source": [
    "# idea: construct monotonically decreasing deque\n",
    "# add newly encountered max values on the right (while clearing out anything less than new max)\n",
    "# add all new values lower than current max\n",
    "# maintain in the deque the maximum value seen in current window as the left-most element\n",
    "# when value is removed from window, check if it matches left-most deque element and pop off if so\n",
    "\n",
    "from typing import List\n",
    "from collections import deque\n",
    "\n",
    "class Solution:\n",
    "    def maxSlidingWindow(self, nums: List[int], k: int) -> List[int]:\n",
    "        d = deque() # store indexes to make moving left pointer easier\n",
    "        ans = []\n",
    "\n",
    "        left = 0\n",
    "        right = 0\n",
    "        \n",
    "        while right < len(nums):\n",
    "            # remove items in deque smaller than new item\n",
    "            while (len(d) > 0) and (nums[d[-1]] < nums[right]):\n",
    "                d.pop()\n",
    "            \n",
    "            # append new value, now guaranteed to be n <= d[-1]\n",
    "            d.append(right)\n",
    "\n",
    "            # remove current max value if it rolled out of window\n",
    "            if left > d[0]:\n",
    "                d.popleft()\n",
    "            \n",
    " \n",
    "            # store max value once window has grown to correct size and begin incrementing left\n",
    "            if right+1 >= k:\n",
    "                ans.append(nums[d[0]])\n",
    "                left += 1\n",
    "                \n",
    "            right += 1\n",
    "            \n",
    "        return ans"
   ]
  },
  {
   "cell_type": "code",
   "execution_count": 55,
   "id": "585cbd5b-28a7-4a84-86e9-1b1222e1853c",
   "metadata": {},
   "outputs": [
    {
     "data": {
      "text/plain": [
       "[3, 3, 5, 5, 6, 7]"
      ]
     },
     "execution_count": 55,
     "metadata": {},
     "output_type": "execute_result"
    }
   ],
   "source": [
    "soln = Solution()\n",
    "soln.maxSlidingWindow(nums1,k1)"
   ]
  },
  {
   "cell_type": "markdown",
   "id": "f3cbe2d7-dc2b-4ca4-82c0-0aefba23ae40",
   "metadata": {},
   "source": [
    "## 206. Reverse Linked List\n",
    "\n",
    "leetcode:https://leetcode.com/problems/reverse-linked-list/"
   ]
  },
  {
   "cell_type": "markdown",
   "id": "8bad556a-8642-4d45-8398-3dcdcbbeefdc",
   "metadata": {},
   "source": [
    "Given the `head` of a singly linked list, reverse the list, and return the **reversed list**.\n",
    "\n",
    " \n",
    "\n",
    "**Example 1:**\n",
    "\n",
    "![https://assets.leetcode.com/uploads/2021/02/19/rev1ex1.jpg](https://assets.leetcode.com/uploads/2021/02/19/rev1ex1.jpg)\n",
    "```\n",
    "Input: head = [1,2,3,4,5]\n",
    "Output: [5,4,3,2,1]\n",
    "```\n",
    "**Example 2:**\n",
    "\n",
    "![https://assets.leetcode.com/uploads/2021/02/19/rev1ex2.jpg](https://assets.leetcode.com/uploads/2021/02/19/rev1ex2.jpg)\n",
    "```\n",
    "Input: head = [1,2]\n",
    "Output: [2,1]\n",
    "```\n",
    "**Example 3:**\n",
    "```\n",
    "Input: head = []\n",
    "Output: []\n",
    "``` \n",
    "\n",
    "**Constraints:**\n",
    "\n",
    "* The number of nodes in the list is the range `[0, 5000]`.\n",
    "* `-5000 <= Node.val <= 5000`\n",
    " \n",
    "\n",
    "**Follow up:** A linked list can be reversed either iteratively or recursively. Could you implement both?"
   ]
  },
  {
   "cell_type": "code",
   "execution_count": 60,
   "id": "c5f7acb8-5b3a-448e-9d18-0e13749ab94f",
   "metadata": {},
   "outputs": [],
   "source": [
    "class ListNode:\n",
    "    def __init__(self, val=0, next=None):\n",
    "        self.val = val\n",
    "        self.next = next\n",
    "\n",
    "def makeList(nodevals):\n",
    "    prev = None\n",
    "    node = None\n",
    "    for nodeval in nodevals[::-1]:\n",
    "        node = ListNode(nodeval)\n",
    "        node.next = prev\n",
    "        prev = node\n",
    "        \n",
    "    return node\n",
    "\n",
    "head1 = makeList([1,2,3,4,5])\n",
    "head2 = makeList([1,2])\n",
    "head3 = makeList([])"
   ]
  },
  {
   "cell_type": "code",
   "execution_count": 62,
   "id": "a54eeb62-c766-48ee-a156-0717b53a20d7",
   "metadata": {},
   "outputs": [],
   "source": [
    "from typing import List, Optional\n",
    "\n",
    "# Definition for singly-linked list.\n",
    "# class ListNode:\n",
    "#     def __init__(self, val=0, next=None):\n",
    "#         self.val = val\n",
    "#         self.next = next\n",
    "\n",
    "class Solution:\n",
    "    def reverseList(self, head: Optional[ListNode]) -> Optional[ListNode]:\n",
    "        cur = head\n",
    "        prev = None        \n",
    "        while cur:\n",
    "            # store next node\n",
    "            next = cur.next\n",
    "            # reverse link\n",
    "            cur.next = prev\n",
    "            # move pointers\n",
    "            prev = cur\n",
    "            cur = next\n",
    "        \n",
    "        return prev"
   ]
  },
  {
   "cell_type": "code",
   "execution_count": 61,
   "id": "49f46d6e-a598-4dfb-94f9-880f82b524fe",
   "metadata": {},
   "outputs": [],
   "source": [
    "soln = Solution()\n",
    "ans = soln.reverseList(head1)"
   ]
  },
  {
   "cell_type": "code",
   "execution_count": 59,
   "id": "eb1a9cf9-5267-44d1-b085-bc20cd5d86f8",
   "metadata": {},
   "outputs": [],
   "source": [
    "ans"
   ]
  },
  {
   "cell_type": "markdown",
   "id": "db9a1934-536f-47bf-ae7d-47a317ce3b1a",
   "metadata": {},
   "source": [
    "## 21. Merge Two Sorted Lists\n",
    "\n",
    "leetcode: https://leetcode.com/problems/merge-two-sorted-lists/"
   ]
  },
  {
   "cell_type": "markdown",
   "id": "d502d1a2-df0b-4580-8cb3-bacebe6dd901",
   "metadata": {},
   "source": [
    "You are given the heads of two sorted linked lists `list1` and `list2`.\n",
    "\n",
    "Merge the two lists into one **sorted** list. The list should be made by splicing together the nodes of the first two lists.\n",
    "\n",
    "Return the **head of the merged linked list**.\n",
    "\n",
    " \n",
    "\n",
    "**Example 1:**\n",
    "\n",
    "![https://assets.leetcode.com/uploads/2020/10/03/merge_ex1.jpg](https://assets.leetcode.com/uploads/2020/10/03/merge_ex1.jpg)\n",
    "```\n",
    "Input: list1 = [1,2,4], list2 = [1,3,4]\n",
    "Output: [1,1,2,3,4,4]\n",
    "```\n",
    "**Example 2:**\n",
    "```\n",
    "Input: list1 = [], list2 = []\n",
    "Output: []\n",
    "```\n",
    "**Example 3:**\n",
    "```\n",
    "Input: list1 = [], list2 = [0]\n",
    "Output: [0]\n",
    "```\n",
    "\n",
    "**Constraints:**\n",
    "\n",
    "** The number of nodes in both lists is in the range `[0, 50]`.\n",
    "* `-100 <= Node.val <= 100`\n",
    "* Both `list1` and `list2` are sorted in **non-decreasing** order."
   ]
  },
  {
   "cell_type": "code",
   "execution_count": 2,
   "id": "61d6818e-a9a8-4c09-b191-53afbb341935",
   "metadata": {},
   "outputs": [],
   "source": [
    "class ListNode:\n",
    "    def __init__(self, val=0, next=None):\n",
    "        self.val = val\n",
    "        self.next = next\n",
    "\n",
    "def makeList(nodevals):\n",
    "    prev = None\n",
    "    node = None\n",
    "    for nodeval in nodevals[::-1]:\n",
    "        node = ListNode(nodeval)\n",
    "        node.next = prev\n",
    "        prev = node\n",
    "        \n",
    "    return node\n",
    "\n",
    "list1_1 = makeList([1,2,4])\n",
    "list2_1 = makeList([1,3,4])\n",
    "\n",
    "list1_2 = makeList([])\n",
    "list2_2 = makeList([])\n",
    "\n",
    "list1_3 = makeList([])\n",
    "list2_3 = makeList([0])"
   ]
  },
  {
   "cell_type": "code",
   "execution_count": 3,
   "id": "9c6058bf-93a0-4773-902c-e8df8add3c1f",
   "metadata": {},
   "outputs": [],
   "source": [
    "from typing import List, Optional\n",
    "\n",
    "# Definition for singly-linked list.\n",
    "# class ListNode:\n",
    "#     def __init__(self, val=0, next=None):\n",
    "#         self.val = val\n",
    "#         self.next = next\n",
    "class Solution:\n",
    "    def mergeTwoLists(self, list1: Optional[ListNode], list2: Optional[ListNode]) -> Optional[ListNode]:\n",
    "        head = ListNode(-1)\n",
    "        cur = head\n",
    "        \n",
    "        while cur and (list1 or list2):\n",
    "            if (list2 == None) or ((list1 and list2) and (list1.val <= list2.val)):\n",
    "                cur.next = list1\n",
    "                list1 = list1.next\n",
    "            else:\n",
    "                cur.next = list2\n",
    "                list2 = list2.next\n",
    "\n",
    "            cur = cur.next\n",
    "        \n",
    "        return head.next"
   ]
  },
  {
   "cell_type": "code",
   "execution_count": 4,
   "id": "090a3fd0-b572-4d14-9c5e-e23075039e7b",
   "metadata": {},
   "outputs": [],
   "source": [
    "soln = Solution()\n",
    "ans = soln.mergeTwoLists(list1_3,list2_3)"
   ]
  },
  {
   "cell_type": "code",
   "execution_count": 5,
   "id": "aced8db3-cc35-45d3-be43-c17fcb9d7e13",
   "metadata": {},
   "outputs": [
    {
     "data": {
      "text/plain": [
       "<__main__.ListNode at 0x10564e8b0>"
      ]
     },
     "execution_count": 5,
     "metadata": {},
     "output_type": "execute_result"
    }
   ],
   "source": [
    "ans"
   ]
  },
  {
   "cell_type": "markdown",
   "id": "2bc7b58e-ee71-4d9a-bc04-399b98484e93",
   "metadata": {},
   "source": [
    "## 143. Reorder List\n",
    "\n",
    "leetcode: https://leetcode.com/problems/reorder-list/"
   ]
  },
  {
   "cell_type": "markdown",
   "id": "08b448fa-c664-4c66-b83c-ee495bd63c5c",
   "metadata": {},
   "source": [
    "You are given the head of a singly linked-list. The list can be represented as:\n",
    "\n",
    "> L0 → L1 → … → Ln - 1 → Ln\n",
    "\n",
    "Reorder the list to be on the following form:\n",
    "\n",
    "> L0 → Ln → L1 → Ln - 1 → L2 → Ln - 2 → …\n",
    "\n",
    "You may not modify the values in the list's nodes. Only nodes themselves may be changed.\n",
    "\n",
    " \n",
    "\n",
    "**Example 1:**\n",
    "\n",
    "![https://assets.leetcode.com/uploads/2021/03/04/reorder1linked-list.jpg](https://assets.leetcode.com/uploads/2021/03/04/reorder1linked-list.jpg)\n",
    "```\n",
    "Input: head = [1,2,3,4]\n",
    "Output: [1,4,2,3]\n",
    "```\n",
    "**Example 2:**\n",
    "\n",
    "![https://assets.leetcode.com/uploads/2021/03/09/reorder2-linked-list.jpg](https://assets.leetcode.com/uploads/2021/03/09/reorder2-linked-list.jpg)\n",
    "```\n",
    "Input: head = [1,2,3,4,5]\n",
    "Output: [1,5,2,4,3]\n",
    "```\n",
    "\n",
    "**Constraints:**\n",
    "\n",
    "* The number of nodes in the list is in the range `[1, 5 * 10^4]`.\n",
    "* `1 <= Node.val <= 1000`"
   ]
  },
  {
   "cell_type": "code",
   "execution_count": 160,
   "id": "7df97240-dadd-4750-9db0-33bd7fcb8b7e",
   "metadata": {},
   "outputs": [],
   "source": [
    "class ListNode:\n",
    "    def __init__(self, val=0, next=None):\n",
    "        self.val = val\n",
    "        self.next = next\n",
    "\n",
    "def makeList(nodevals):\n",
    "    prev = None\n",
    "    node = None\n",
    "    for nodeval in nodevals[::-1]:\n",
    "        node = ListNode(nodeval)\n",
    "        node.next = prev\n",
    "        prev = node\n",
    "        \n",
    "    return node\n",
    "\n",
    "head1 = makeList([1,2,3,4])\n",
    "head2 = makeList([1,2,3,4,5])\n",
    "head3 = makeList([1])"
   ]
  },
  {
   "cell_type": "code",
   "execution_count": 139,
   "id": "836070ff-d8c5-47a2-8e5a-2c51bc930f06",
   "metadata": {},
   "outputs": [],
   "source": [
    "# Definition for singly-linked list.\n",
    "# class ListNode:\n",
    "#     def __init__(self, val=0, next=None):\n",
    "#         self.val = val\n",
    "#         self.next = next\n",
    "\n",
    "# two-pass solution, O(n) additional space\n",
    "\n",
    "class Solution:\n",
    "    def reorderList(self, head: Optional[ListNode]) -> None:\n",
    "        \"\"\"\n",
    "        Do not return anything, modify head in-place instead.\n",
    "        \"\"\"\n",
    "        revnodes = []\n",
    "        cur = head\n",
    "        while cur:\n",
    "            revnodes.append(cur)\n",
    "            cur = cur.next\n",
    "\n",
    "        cur = head\n",
    "        while cur and len(revnodes)>0:\n",
    "            # store next node\n",
    "            next = cur.next # 2\n",
    "            lastNode = revnodes.pop()\n",
    "            cur.next = lastNode\n",
    "            # set lastNode.next to previous cur.next\n",
    "            lastNode.next = next\n",
    "\n",
    "            # remove cur node from stack if not empty\n",
    "            if len(revnodes)>0:\n",
    "                revnodes.pop(0)\n",
    "                cur = next # loop exits with cur pointing to final node\n",
    "        if cur:\n",
    "            cur.next = None"
   ]
  },
  {
   "cell_type": "code",
   "execution_count": 155,
   "id": "ff69ca38-65be-45ca-b353-99e15dd0b5ff",
   "metadata": {},
   "outputs": [],
   "source": [
    "# optimal solution O(n) runtime, O(1) space idea: split linked list into two halves, reverse second half and merge\n",
    "\n",
    "class Solution:\n",
    "    def reorderList(self, head: Optional[ListNode]) -> None:\n",
    "        \"\"\"\n",
    "        Do not return anything, modify head in-place instead.\n",
    "        \"\"\"\n",
    "        # use slow/fast pointer to find middle of list\n",
    "        slow, fast = head, head.next\n",
    "        while fast and fast.next:\n",
    "            slow = slow.next\n",
    "            fast = fast.next.next\n",
    "\n",
    "        # reverse second half\n",
    "        second = slow.next\n",
    "        cur = second\n",
    "        prev = None\n",
    "        while cur:\n",
    "            # store next node\n",
    "            next = cur.next\n",
    "            # reverse link\n",
    "            cur.next = prev\n",
    "            # move pointers\n",
    "            prev = cur\n",
    "            cur = next\n",
    "\n",
    "        # merge two halves, reversing second half ends with prev pointing to end of original list\n",
    "        cur = head\n",
    "        revcur = prev\n",
    "        while cur and revcur:\n",
    "            # store next nodes\n",
    "            next = cur.next\n",
    "            revnext = revcur.next\n",
    "            # change links\n",
    "            cur.next = revcur\n",
    "            revcur.next = next\n",
    "            # move pointers\n",
    "            cur = next\n",
    "            revcur = revnext\n",
    "\n",
    "        cur.next = None"
   ]
  },
  {
   "cell_type": "code",
   "execution_count": 168,
   "id": "e41471ed-786d-4b91-ad53-157024beb3c0",
   "metadata": {},
   "outputs": [],
   "source": [
    "soln = Solution()\n",
    "soln.reorderList(head2)"
   ]
  },
  {
   "cell_type": "code",
   "execution_count": 172,
   "id": "829ae8b0-f569-489a-9cba-134f499cc4ad",
   "metadata": {},
   "outputs": [],
   "source": [
    "head2.next.next.next.next.next"
   ]
  },
  {
   "cell_type": "code",
   "execution_count": 84,
   "id": "444d564b-ed58-478e-9a3d-254d65040f40",
   "metadata": {},
   "outputs": [
    {
     "data": {
      "text/plain": [
       "[<__main__.ListNode at 0x1056b1ca0>,\n",
       " <__main__.ListNode at 0x10564eb20>,\n",
       " <__main__.ListNode at 0x10564e9a0>]"
      ]
     },
     "execution_count": 84,
     "metadata": {},
     "output_type": "execute_result"
    }
   ],
   "source": []
  },
  {
   "cell_type": "markdown",
   "id": "0b66535e-0bbd-472d-bbdd-17d2b249cd26",
   "metadata": {},
   "source": [
    "## 19. Remove Nth Node From End of List\n",
    "\n",
    "leetcode: https://leetcode.com/problems/remove-nth-node-from-end-of-list/"
   ]
  },
  {
   "cell_type": "markdown",
   "id": "c8584143-dbe9-4c7f-b17f-32853e005fa4",
   "metadata": {},
   "source": [
    "Given the `head` of a linked list, remove the `nth` node from the end of the list and return its head.\n",
    " \n",
    "\n",
    "**Example 1:**\n",
    "\n",
    "![https://assets.leetcode.com/uploads/2020/10/03/remove_ex1.jpg](https://assets.leetcode.com/uploads/2020/10/03/remove_ex1.jpg)\n",
    "```\n",
    "Input: head = [1,2,3,4,5], n = 2\n",
    "Output: [1,2,3,5]\n",
    "```\n",
    "**Example 2:**\n",
    "```\n",
    "Input: head = [1], n = 1\n",
    "Output: []\n",
    "```\n",
    "**Example 3:**\n",
    "```\n",
    "Input: head = [1,2], n = 1\n",
    "Output: [1]\n",
    "```\n",
    "\n",
    "**Constraints:**\n",
    "\n",
    "* The number of nodes in the list is `sz`.\n",
    "* `1 <= sz <= 30`\n",
    "* `0 <= Node.val <= 100`\n",
    "* `1 <= n <= sz`\n",
    " \n",
    "\n",
    "**Follow up:** Could you do this in one pass?"
   ]
  },
  {
   "cell_type": "code",
   "execution_count": 125,
   "id": "8bd28013-018c-47d4-ab7e-99f944295ce9",
   "metadata": {},
   "outputs": [],
   "source": [
    "class ListNode:\n",
    "    def __init__(self, val=0, next=None):\n",
    "        self.val = val\n",
    "        self.next = next\n",
    "\n",
    "def makeList(nodevals):\n",
    "    prev = None\n",
    "    node = None\n",
    "    for nodeval in nodevals[::-1]:\n",
    "        node = ListNode(nodeval)\n",
    "        node.next = prev\n",
    "        prev = node\n",
    "        \n",
    "    return node\n",
    "\n",
    "head1 = makeList([1,2,3,4,5])\n",
    "n1 = 2\n",
    "head2 = makeList([1])\n",
    "n2 = 1\n",
    "head3 = makeList([1,2])\n",
    "n3 = 1\n",
    "head4 = makeList([1,2])\n",
    "n4 = 2"
   ]
  },
  {
   "cell_type": "code",
   "execution_count": 126,
   "id": "904f7f73-bff4-4e58-b8e4-8b5a2bcd2e4c",
   "metadata": {},
   "outputs": [],
   "source": [
    "# multiple pass solution\n",
    "\n",
    "from typing import List, Optional\n",
    "\n",
    "# Definition for singly-linked list.\n",
    "# class ListNode:\n",
    "#     def __init__(self, val=0, next=None):\n",
    "#         self.val = val\n",
    "#         self.next = next\n",
    "class Solution:\n",
    "    def removeNthFromEnd(self, head: Optional[ListNode], n: int) -> Optional[ListNode]:\n",
    "        # count nodes\n",
    "        nodecount = 0\n",
    "        cur = head\n",
    "        while cur:\n",
    "            cur = cur.next\n",
    "            nodecount += 1\n",
    "\n",
    "        if nodecount == 1:\n",
    "            return None\n",
    "        \n",
    "        # remove node\n",
    "        dummy = ListNode(-1)\n",
    "        dummy.next = head\n",
    "        cur = head\n",
    "        prev = dummy\n",
    "        while cur:\n",
    "            if nodecount == n:\n",
    "                prev.next = cur.next\n",
    "                return dummy.next\n",
    "            \n",
    "            prev = cur            \n",
    "            cur = cur.next\n",
    "            nodecount -= 1\n",
    "\n",
    "            \n",
    "        return -1"
   ]
  },
  {
   "cell_type": "code",
   "execution_count": 137,
   "id": "5536773e-324f-4867-92dc-6cd560e4d19f",
   "metadata": {},
   "outputs": [],
   "source": [
    "# single pass: use two pointers that are shifted by n-positions, remove left pointer when right pointer is at end of list\n",
    "\n",
    "from typing import List, Optional\n",
    "\n",
    "# Definition for singly-linked list.\n",
    "# class ListNode:\n",
    "#     def __init__(self, val=0, next=None):\n",
    "#         self.val = val\n",
    "#         self.next = next\n",
    "class Solution:\n",
    "    def removeNthFromEnd(self, head: Optional[ListNode], n: int) -> Optional[ListNode]:\n",
    "        dummy = ListNode(-1)\n",
    "        dummy.next = head\n",
    "\n",
    "        # move right pointer n places\n",
    "        right = head\n",
    "        while right and n > 0:\n",
    "            right = right.next\n",
    "            n -= 1\n",
    "\n",
    "        # remove node\n",
    "        left = dummy\n",
    "        while right:\n",
    "            left = left.next\n",
    "            right = right.next\n",
    "\n",
    "        left.next = left.next.next\n",
    "        return dummy.next"
   ]
  },
  {
   "cell_type": "code",
   "execution_count": 138,
   "id": "af256745-73d4-46e2-ae02-b88d9eb60d62",
   "metadata": {},
   "outputs": [],
   "source": [
    "soln = Solution()\n",
    "ans = soln.removeNthFromEnd(head2, n2)"
   ]
  },
  {
   "cell_type": "markdown",
   "id": "303c7a04-e9ba-468d-ac7a-dad2b2e7d2dd",
   "metadata": {},
   "source": [
    "## 138. Copy List with Random Pointer\n",
    "\n",
    "leetcode: https://leetcode.com/problems/copy-list-with-random-pointer/"
   ]
  },
  {
   "attachments": {},
   "cell_type": "markdown",
   "id": "2a3e3a12-9989-4cf5-877a-989b415b99b3",
   "metadata": {},
   "source": [
    "A linked list of length `n` is given such that each node contains an additional random pointer, which could point to any node in the list, or `null`.\n",
    "\n",
    "Construct a [deep copy](https://en.wikipedia.org/wiki/Object_copying#Deep_copy) of the list. The deep copy should consist of exactly `n` **brand new** nodes, where each new node has its value set to the value of its corresponding original node. Both the `next` and `random` pointer of the new nodes should point to new nodes in the copied list such that the pointers in the original list and copied list represent the same list state. **None of the pointers in the new list should point to nodes in the original list.**\n",
    "\n",
    "For example, if there are two nodes `X` and `Y` in the original list, where `X.random --> Y`, then for the corresponding two nodes `x` and `y` in the copied list, `x.random --> y`.\n",
    "\n",
    "Return the head of the **copied linked list**.\n",
    "\n",
    "The linked list is represented in the input/output as a list of `n` nodes. Each node is represented as a pair of `[val, random_index]` where:\n",
    "\n",
    "* `val`: an integer representing `Node.val`\n",
    "* `random_index`: the index of the node (range from `0` to `n-1`) that the `random` pointer points to, or `null` if it does not point to any node.\n",
    "Your code will **only** be given the `head` of the original linked list.\n",
    "\n",
    " \n",
    "\n",
    "**Example 1:**\n",
    "\n",
    "![https://assets.leetcode.com/uploads/2019/12/18/e1.png](https://assets.leetcode.com/uploads/2019/12/18/e1.png)\n",
    "```\n",
    "Input: head = [[7,null],[13,0],[11,4],[10,2],[1,0]]\n",
    "Output: [[7,null],[13,0],[11,4],[10,2],[1,0]]\n",
    "```\n",
    "**Example 2:**\n",
    "\n",
    "![https://assets.leetcode.com/uploads/2019/12/18/e2.png](https://assets.leetcode.com/uploads/2019/12/18/e2.png)\n",
    "```\n",
    "Input: head = [[1,1],[2,1]]\n",
    "Output: [[1,1],[2,1]]\n",
    "```\n",
    "**Example 3:**\n",
    "\n",
    "![https://assets.leetcode.com/uploads/2019/12/18/e3.png](https://assets.leetcode.com/uploads/2019/12/18/e3.png)\n",
    "```\n",
    "Input: head = [[3,null],[3,0],[3,null]]\n",
    "Output: [[3,null],[3,0],[3,null]]\n",
    "```\n",
    "\n",
    "**Constraints:**\n",
    "\n",
    "* `0 <= n <= 1000`\n",
    "* `-10^4 <= Node.val <= 10^4`\n",
    "* `Node.random` is `null` or is pointing to some node in the linked list."
   ]
  },
  {
   "cell_type": "code",
   "execution_count": 69,
   "id": "84bca050-70df-4fa3-bb59-105728930a05",
   "metadata": {},
   "outputs": [],
   "source": [
    "class Node:\n",
    "    def __init__(self, x: int, next: 'Node' = None, random: 'Node' = None):\n",
    "        self.val = int(x)\n",
    "        self.next = next\n",
    "        self.random = random\n",
    "\n",
    "def makeListRand(nodevals):\n",
    "    prev = None\n",
    "    node = None\n",
    "    nodes = []\n",
    "    for nodeval in nodevals[::-1]:\n",
    "        node = Node(nodeval[0])\n",
    "        node.next = prev\n",
    "        nodes.append(node)\n",
    "        prev = node\n",
    "\n",
    "\n",
    "    # traverse newly created list to update random\n",
    "    nodes = nodes[::-1]\n",
    "    head = node\n",
    "    count = 0\n",
    "    while node:\n",
    "        random_node_pos = nodevals[count][1]\n",
    "        if random_node_pos==None: \n",
    "            node.random = None\n",
    "        else:\n",
    "            node.random = nodes[random_node_pos]\n",
    "        node = node.next\n",
    "        count += 1\n",
    "        \n",
    "    return head\n",
    "\n",
    "head1 = makeListRand([[7,None],[13,0],[11,4],[10,2],[1,0]])\n",
    "head2 = makeListRand([[1,1],[2,1]])\n",
    "head3 = makeListRand([[3,None],[3,0],[3,None]])\n",
    "head4 = makeListRand([])"
   ]
  },
  {
   "cell_type": "code",
   "execution_count": 79,
   "id": "0a9fc936-5bd5-44c2-a52f-25d11639a9f3",
   "metadata": {},
   "outputs": [],
   "source": [
    "# two pass idea: build normal linked list nodes and insert into hashmap linking old node -> new, then traverse oldlist and update random pointer to nodes using array indexes\n",
    "\n",
    "\"\"\"\n",
    "# Definition for a Node.\n",
    "class Node:\n",
    "    def __init__(self, x: int, next: 'Node' = None, random: 'Node' = None):\n",
    "        self.val = int(x)\n",
    "        self.next = next\n",
    "        self.random = random\n",
    "\"\"\"\n",
    "\n",
    "class Solution:\n",
    "    def copyRandomList(self, head: 'Optional[Node]') -> 'Optional[Node]':\n",
    "        # create new nodes and add to hashmap\n",
    "        oldnode = head\n",
    "        nodes = {None:None} # map null to null\n",
    "        # prevnewnode = None\n",
    "        while oldnode:\n",
    "            newnode = Node(oldnode.val)\n",
    "            nodes[oldnode] = newnode\n",
    "            oldnode = oldnode.next\n",
    "\n",
    "        # assign pointers for new list\n",
    "        oldnode = head\n",
    "        while oldnode:\n",
    "            newnode = nodes[oldnode]\n",
    "            newnode.next = nodes[oldnode.next]\n",
    "            newnode.random = nodes[oldnode.random]\n",
    "\n",
    "            # # alternative using if logic\n",
    "            # if oldnode.next:\n",
    "            #     newnode.next = nodes[oldnode.next]\n",
    "            # else:\n",
    "            #     newnode.next = None\n",
    "\n",
    "            # if oldnode.random:\n",
    "            #     newnode.random = nodes[oldnode.random]\n",
    "            # else:\n",
    "            #     newnode.random = None\n",
    "\n",
    "            oldnode = oldnode.next\n",
    "            \n",
    "            \n",
    "        return nodes[head]"
   ]
  },
  {
   "cell_type": "code",
   "execution_count": 86,
   "id": "6ea54a37-20a7-44d3-ab4c-dc2ac8ef2117",
   "metadata": {},
   "outputs": [],
   "source": [
    "soln = Solution()\n",
    "ans = soln.copyRandomList(head1)"
   ]
  },
  {
   "cell_type": "code",
   "execution_count": 87,
   "id": "167da9ae-cafe-4dc3-9b67-83022317ccdc",
   "metadata": {},
   "outputs": [
    {
     "data": {
      "text/plain": [
       "<__main__.Node at 0x108bab460>"
      ]
     },
     "execution_count": 87,
     "metadata": {},
     "output_type": "execute_result"
    }
   ],
   "source": [
    "ans"
   ]
  },
  {
   "cell_type": "code",
   "execution_count": 93,
   "id": "ee0f996f-4523-4996-9e59-a8b205d3e986",
   "metadata": {},
   "outputs": [
    {
     "data": {
      "text/plain": [
       "7"
      ]
     },
     "execution_count": 93,
     "metadata": {},
     "output_type": "execute_result"
    }
   ],
   "source": [
    "ans.next.random.val"
   ]
  },
  {
   "cell_type": "markdown",
   "id": "d08b8505-6216-4c69-946f-aef3708185b7",
   "metadata": {},
   "source": [
    "## 2. Add Two Numbers\n",
    "\n",
    "\n",
    "leetcode: https://leetcode.com/problems/add-two-numbers/"
   ]
  },
  {
   "attachments": {},
   "cell_type": "markdown",
   "id": "bf807376-d193-44c2-876c-919a61eb7809",
   "metadata": {},
   "source": [
    "You are given two **non-empty** linked lists representing two non-negative integers. The digits are stored in **reverse order**, and each of their nodes contains a single digit. Add the two numbers and return the sum as a linked list.\n",
    "\n",
    "You may assume the two numbers do not contain any leading zero, except the number 0 itself.\n",
    "\n",
    " \n",
    "\n",
    "**Example 1:**\n",
    "\n",
    "![https://assets.leetcode.com/uploads/2020/10/02/addtwonumber1.jpg](https://assets.leetcode.com/uploads/2020/10/02/addtwonumber1.jpg)\n",
    "```\n",
    "Input: l1 = [2,4,3], l2 = [5,6,4]\n",
    "Output: [7,0,8]\n",
    "Explanation: 342 + 465 = 807.\n",
    "```\n",
    "**Example 2:**\n",
    "```\n",
    "Input: l1 = [0], l2 = [0]\n",
    "Output: [0]\n",
    "```\n",
    "**Example 3:**\n",
    "```\n",
    "Input: l1 = [9,9,9,9,9,9,9], l2 = [9,9,9,9]\n",
    "Output: [8,9,9,9,0,0,0,1]\n",
    "```\n",
    "\n",
    "**Constraints:**\n",
    "\n",
    "* The number of nodes in each linked list is in the range `[1, 100]`.\n",
    "* `0 <= Node.val <= 9`\n",
    "* It is guaranteed that the list represents a number that does not have leading zeros."
   ]
  },
  {
   "cell_type": "code",
   "execution_count": null,
   "id": "3998d521-8114-4818-9461-fa9bc5c3ff07",
   "metadata": {},
   "outputs": [],
   "source": [
    "9,999,999 + 9,999"
   ]
  },
  {
   "cell_type": "code",
   "execution_count": 67,
   "id": "b4a36fc9-7052-473d-9fca-b089c9b304bd",
   "metadata": {},
   "outputs": [
    {
     "data": {
      "text/plain": [
       "10009998"
      ]
     },
     "execution_count": 67,
     "metadata": {},
     "output_type": "execute_result"
    }
   ],
   "source": [
    "9999999+9999"
   ]
  },
  {
   "cell_type": "code",
   "execution_count": 13,
   "id": "9aa28988-7665-42b9-a704-9630338df889",
   "metadata": {},
   "outputs": [],
   "source": [
    "class ListNode:\n",
    "    def __init__(self, val=0, next=None):\n",
    "        self.val = val\n",
    "        self.next = next\n",
    "\n",
    "def makeList(nodevals):\n",
    "    prev = None\n",
    "    node = None\n",
    "    for nodeval in nodevals[::-1]:\n",
    "        node = ListNode(nodeval)\n",
    "        node.next = prev\n",
    "        prev = node\n",
    "        \n",
    "    return node\n",
    "\n",
    "l1_1 = makeList([2,4,3])\n",
    "l2_1 = makeList([5,6,4])\n",
    "\n",
    "l1_2 = makeList([0])\n",
    "l2_2 = makeList([0])\n",
    "\n",
    "l1_3 = makeList([9,9,9,9,9,9,9])\n",
    "l2_3 = makeList([9,9,9,9])"
   ]
  },
  {
   "cell_type": "code",
   "execution_count": 91,
   "id": "da983cda-2feb-4d39-9397-be74cac944a9",
   "metadata": {},
   "outputs": [],
   "source": [
    "# idea: traverse lists and multiply by powers of 10 before adding\n",
    "\n",
    "from typing import List, Optional\n",
    "\n",
    "# Definition for singly-linked list.\n",
    "# class ListNode:\n",
    "#     def __init__(self, val=0, next=None):\n",
    "#         self.val = val\n",
    "#         self.next = next\n",
    "class Solution:\n",
    "    def addTwoNumbers(self, l1: Optional[ListNode], l2: Optional[ListNode]) -> Optional[ListNode]:\n",
    "        cur1 = l1\n",
    "        cur2 = l2\n",
    "        dummy = ListNode(-1)\n",
    "        ansnode = dummy\n",
    "        carry = 0\n",
    "        while cur1 or cur2 or (carry==1):\n",
    "            \n",
    "            cur1val = cur1.val if cur1 else 0\n",
    "            cur2val = cur2.val if cur2 else 0\n",
    "\n",
    "            ans = cur1val+cur2val+carry\n",
    "            newnode = ListNode(ans%10)\n",
    "            ansnode.next = newnode\n",
    "\n",
    "            if ans >= 10:\n",
    "                carry = 1\n",
    "            else:\n",
    "                carry = 0\n",
    "            \n",
    "            # move pointers\n",
    "            ansnode = newnode  \n",
    "            if cur1:\n",
    "                cur1 = cur1.next\n",
    "            if cur2:\n",
    "                cur2 = cur2.next\n",
    "                \n",
    "        return dummy.next"
   ]
  },
  {
   "cell_type": "code",
   "execution_count": 89,
   "id": "8cb3d04a-2f1c-4de9-9d0c-afb66a96a071",
   "metadata": {},
   "outputs": [],
   "source": [
    "soln = Solution()\n",
    "ans = soln.addTwoNumbers(l1_3,l2_3)"
   ]
  },
  {
   "cell_type": "code",
   "execution_count": 90,
   "id": "c7696e32-1d00-46ce-a01f-835083ccb7fd",
   "metadata": {},
   "outputs": [],
   "source": [
    "ans.next.next.next.next.next.next.next.next"
   ]
  },
  {
   "cell_type": "code",
   "execution_count": 46,
   "id": "fe38edf8-8250-4e96-92b0-500db215ff85",
   "metadata": {},
   "outputs": [
    {
     "data": {
      "text/plain": [
       "7"
      ]
     },
     "execution_count": 46,
     "metadata": {},
     "output_type": "execute_result"
    }
   ],
   "source": [
    "(7%10)+0"
   ]
  },
  {
   "cell_type": "markdown",
   "id": "8d40da2e-6e03-426f-b46f-a7d749305d1b",
   "metadata": {},
   "source": [
    "## 141. Linked List Cycle\n",
    "\n",
    "leetcode: https://leetcode.com/problems/linked-list-cycle/"
   ]
  },
  {
   "cell_type": "markdown",
   "id": "63cc7c6f-cb2f-41c1-a60f-034e60909d93",
   "metadata": {},
   "source": [
    "Given `head`, the head of a linked list, determine if the linked list has a cycle in it.\n",
    "\n",
    "There is a cycle in a linked list if there is some node in the list that can be reached again by continuously following the `next` pointer. Internally, `pos` is used to denote the index of the node that tail's `next` pointer is connected to. **Note that `pos` is not passed as a parameter.**\n",
    "\n",
    "Return `true` if there **is a cycle in the linked list**. Otherwise, return `false`.\n",
    "\n",
    " \n",
    "\n",
    "**Example 1:**\n",
    "\n",
    "![https://assets.leetcode.com/uploads/2018/12/07/circularlinkedlist.png](https://assets.leetcode.com/uploads/2018/12/07/circularlinkedlist.png)\n",
    "```\n",
    "Input: head = [3,2,0,-4], pos = 1\n",
    "Output: true\n",
    "Explanation: There is a cycle in the linked list, where the tail connects to the 1st node (0-indexed).\n",
    "```\n",
    "**Example 2:**\n",
    "\n",
    "![https://assets.leetcode.com/uploads/2018/12/07/circularlinkedlist_test2.png](https://assets.leetcode.com/uploads/2018/12/07/circularlinkedlist_test2.png)\n",
    "```\n",
    "Input: head = [1,2], pos = 0\n",
    "Output: true\n",
    "Explanation: There is a cycle in the linked list, where the tail connects to the 0th node.\n",
    "```\n",
    "**Example 3:**\n",
    "\n",
    "![https://assets.leetcode.com/uploads/2018/12/07/circularlinkedlist_test3.png](https://assets.leetcode.com/uploads/2018/12/07/circularlinkedlist_test3.png)\n",
    "```\n",
    "Input: head = [1], pos = -1\n",
    "Output: false\n",
    "Explanation: There is no cycle in the linked list.\n",
    "``` \n",
    "\n",
    "**Constraints:**\n",
    "\n",
    "* The number of the nodes in the list is in the range `[0, 10^4]`.\n",
    "* `-10^5 <= Node.val <= 10^5`\n",
    "* `pos` is `-1` or a **valid index** in the linked-list.\n",
    " \n",
    "\n",
    "**Follow up:** Can you solve it using `O(1)` (i.e. constant) memory?"
   ]
  },
  {
   "cell_type": "code",
   "execution_count": 38,
   "id": "202a7f16-f639-4a79-834a-d607df0302a0",
   "metadata": {},
   "outputs": [],
   "source": [
    "class ListNode:\n",
    "    def __init__(self, val=0, next=None):\n",
    "        self.val = val\n",
    "        self.next = next\n",
    "\n",
    "def makeListCycle(nodevals,pos):\n",
    "    prev = None\n",
    "    first = True\n",
    "    for nodeval in nodevals[::-1]:\n",
    "        node = ListNode(nodeval)\n",
    "        if first:\n",
    "            end = node\n",
    "            first = False\n",
    "            \n",
    "        node.next = prev\n",
    "        prev = node\n",
    "    \n",
    "    # add cycle\n",
    "    cur = node\n",
    "    while cur and pos >= 0:\n",
    "        if pos == 0:\n",
    "            end.next = cur\n",
    "\n",
    "        pos -= 1\n",
    "        cur = cur.next\n",
    "        \n",
    "    return node\n",
    "\n",
    "pos1 = 1\n",
    "head1 = makeListCycle([3,2,0,-4],pos1)\n",
    "\n",
    "pos2 = 0\n",
    "head2 = makeListCycle([1,2],pos2)\n",
    "\n",
    "pos3 = -1\n",
    "head3 = makeListCycle([1],pos3)\n",
    "\n",
    "pos4 = -1\n",
    "head4 = makeListCycle([1,2],pos4)"
   ]
  },
  {
   "cell_type": "code",
   "execution_count": 44,
   "id": "5f0a68df-3063-4b88-997d-ea151ddc80fe",
   "metadata": {},
   "outputs": [],
   "source": [
    "# idea: use slow + fast pointer, cycle detected if they land on the same node\n",
    "\n",
    "from typing import List, Optional\n",
    "\n",
    "# Definition for singly-linked list.\n",
    "# class ListNode:\n",
    "#     def __init__(self, x):\n",
    "#         self.val = x\n",
    "#         self.next = None\n",
    "\n",
    "class Solution:\n",
    "    def hasCycle(self, head: Optional[ListNode]) -> bool:\n",
    "        slow, fast = head, head\n",
    "        while fast and fast.next:\n",
    "            slow = slow.next\n",
    "            fast = fast.next.next\n",
    "            if slow == fast:\n",
    "                return True\n",
    "                \n",
    "        return False        "
   ]
  },
  {
   "cell_type": "code",
   "execution_count": 45,
   "id": "a8ae5823-528e-4496-91de-8bb90c6cc5ee",
   "metadata": {},
   "outputs": [
    {
     "data": {
      "text/plain": [
       "False"
      ]
     },
     "execution_count": 45,
     "metadata": {},
     "output_type": "execute_result"
    }
   ],
   "source": [
    "soln = Solution()\n",
    "soln.hasCycle(head4)"
   ]
  },
  {
   "cell_type": "markdown",
   "id": "862414e3-d61d-49a0-926a-5187049e7f8e",
   "metadata": {},
   "source": [
    "## 287. Find the Duplicate Number\n",
    "\n",
    "leetcode: https://leetcode.com/problems/find-the-duplicate-number/"
   ]
  },
  {
   "cell_type": "markdown",
   "id": "71f056e1-52a4-46e0-bbf8-a7b8bfd5bccc",
   "metadata": {},
   "source": [
    "Given an array of integers `nums` containing `n + 1` integers where each integer is in the range `[1, n]` inclusive.\n",
    "\n",
    "There is only **one repeated number** in `nums`, return **this repeated number**.\n",
    "\n",
    "You must solve the problem **without** modifying the array `nums` and uses only constant extra space.\n",
    "\n",
    " \n",
    "\n",
    "**Example 1:**\n",
    "```\n",
    "Input: nums = [1,3,4,2,2]\n",
    "Output: 2\n",
    "```\n",
    "**Example 2:**\n",
    "```\n",
    "Input: nums = [3,1,3,4,2]\n",
    "Output: 3\n",
    "``` \n",
    "\n",
    "**Constraints:**\n",
    "\n",
    "* `1 <= n <= 10^5`\n",
    "* `nums.length == n + 1`\n",
    "* `1 <= nums[i] <= n`\n",
    "* All the integers in `nums` appear only **once** except for **precisely one integer** which appears **two or more** times.\n",
    " \n",
    "\n",
    "**Follow up:**\n",
    "\n",
    "* How can we prove that at least one duplicate number must exist in `nums`?\n",
    "* Can you solve the problem in linear runtime complexity?"
   ]
  },
  {
   "cell_type": "code",
   "execution_count": 18,
   "id": "0f54cf67-b853-4668-941f-d595015169f3",
   "metadata": {},
   "outputs": [],
   "source": [
    "nums1 = [1,3,4,2,2]\n",
    "nums2 = [3,1,3,4,2]\n",
    "nums3 = [1,3,2,2,2]"
   ]
  },
  {
   "cell_type": "code",
   "execution_count": 15,
   "id": "b0f5cc5a-76be-4a06-91f0-97e7667e352f",
   "metadata": {},
   "outputs": [],
   "source": [
    "# idea: if interpret each element value as a pointer to another index position in the nums array, this will create a cycle when you traverse the array this way\n",
    "# use floyd's cycle detection algorithm to detech the beginning of the cycle, which will be the repeated element (because multiple elements point to the same index)\n",
    "\n",
    "from typing import List\n",
    "\n",
    "class Solution:\n",
    "    def findDuplicate(self, nums: List[int]) -> int:\n",
    "        # use slow, fast pointers to find first intersection\n",
    "        slow, fast = nums[0], nums[0]\n",
    "        slow = nums[slow]\n",
    "        fast = nums[nums[fast]]\n",
    "        while slow != fast:\n",
    "            slow = nums[slow]\n",
    "            fast = nums[nums[fast]]\n",
    "\n",
    "        slow2 = nums[0]\n",
    "        while slow2 != slow:\n",
    "            slow = nums[slow]\n",
    "            slow2 = nums[slow2]\n",
    "            \n",
    "        return slow"
   ]
  },
  {
   "cell_type": "code",
   "execution_count": 19,
   "id": "b130ec7c-4c55-461b-a287-d792bd2e43b9",
   "metadata": {},
   "outputs": [
    {
     "data": {
      "text/plain": [
       "2"
      ]
     },
     "execution_count": 19,
     "metadata": {},
     "output_type": "execute_result"
    }
   ],
   "source": [
    "soln = Solution()\n",
    "soln.findDuplicate(nums3)"
   ]
  },
  {
   "cell_type": "markdown",
   "id": "67b00c77-5417-45dc-93f7-99661da1d8d8",
   "metadata": {},
   "source": [
    "## 146. LRU Cache\n",
    "\n",
    "leetcode: https://leetcode.com/problems/lru-cache/"
   ]
  },
  {
   "cell_type": "markdown",
   "id": "08ce7f5e-98d3-4256-b028-9b6193beb24a",
   "metadata": {},
   "source": [
    "Design a data structure that follows the constraints of a [Least Recently Used (LRU) cache](https://en.wikipedia.org/wiki/Cache_replacement_policies#LRU).\n",
    "\n",
    "Implement the `LRUCache` class:\n",
    "\n",
    "* `LRUCache(int capacity)` Initialize the LRU cache with positive size `capacity`.\n",
    "* `int get(int key)` Return the value of the `key` if the `key` exists, otherwise return `-1`.\n",
    "* `void put(int key, int value)` Update the value of the `key` if the `key` exists. Otherwise, add the `key-value` pair to the cache. If the number of keys exceeds the `capacity` from this operation, evict the least recently used key.\n",
    "* The functions `get` and `put` must each run in `O(1)` average time complexity.\n",
    "\n",
    " \n",
    "\n",
    "**Example 1:**\n",
    "```\n",
    "Input\n",
    "[\"LRUCache\", \"put\", \"put\", \"get\", \"put\", \"get\", \"put\", \"get\", \"get\", \"get\"]\n",
    "[[2], [1, 1], [2, 2], [1], [3, 3], [2], [4, 4], [1], [3], [4]]\n",
    "Output\n",
    "[null, null, null, 1, null, -1, null, -1, 3, 4]\n",
    "\n",
    "Explanation\n",
    "LRUCache lRUCache = new LRUCache(2);\n",
    "lRUCache.put(1, 1); // cache is {1=1}\n",
    "lRUCache.put(2, 2); // cache is {1=1, 2=2}\n",
    "lRUCache.get(1);    // return 1\n",
    "lRUCache.put(3, 3); // LRU key was 2, evicts key 2, cache is {1=1, 3=3}\n",
    "lRUCache.get(2);    // returns -1 (not found)\n",
    "lRUCache.put(4, 4); // LRU key was 1, evicts key 1, cache is {4=4, 3=3}\n",
    "lRUCache.get(1);    // return -1 (not found)\n",
    "lRUCache.get(3);    // return 3\n",
    "lRUCache.get(4);    // return 4\n",
    "```\n",
    "\n",
    "**Constraints:**\n",
    "\n",
    "* `1 <= capacity <= 3000`\n",
    "* `0 <= key <= 10^4`\n",
    "* `0 <= value <= 10^5`\n",
    "* At most `2 * 10^5` calls will be made to `get` and `put`."
   ]
  },
  {
   "cell_type": "code",
   "execution_count": null,
   "id": "bc181cfe-6030-4e0f-a81f-1fb9d2cad5e8",
   "metadata": {},
   "outputs": [],
   "source": [
    "input1 = [\"LRUCache\", \"put\", \"put\", \"get\", \"put\", \"get\", \"put\", \"get\", \"get\", \"get\"]\n",
    "values1 = [[2], [1, 1], [2, 2], [1], [3, 3], [2], [4, 4], [1], [3], [4]]\n",
    "\n",
    "input2 = [\"LRUCache\",\"get\",\"put\",\"get\",\"put\",\"put\",\"get\",\"get\"]\n",
    "values2 = [[2],[2],[2,6],[1],[1,5],[1,2],[1],[2]]\n",
    "\n",
    "input3 = [\"LRUCache\",\"put\",\"put\",\"put\",\"put\",\"get\",\"get\",\"get\",\"get\",\"put\",\"get\",\"get\",\"get\",\"get\",\"get\"]\n",
    "values3 = [[3],[1,1],[2,2],[3,3],[4,4],[4],[3],[2],[1],[5,5],[1],[2],[3],[4],[5]]"
   ]
  },
  {
   "cell_type": "code",
   "execution_count": 236,
   "id": "9f328ce7-7aca-45fd-b35f-a899d1171e19",
   "metadata": {},
   "outputs": [],
   "source": [
    "# idea: hashmap to store key-value pairs, doubly linked list to maintain ordering\n",
    "class ListNode:\n",
    "    def __init__(self, val=0, key=None, next=None, prev=None):\n",
    "        self.val = val\n",
    "        self.key = key\n",
    "        self.next = next\n",
    "        self.prev = prev\n",
    "\n",
    "class LRUCache:\n",
    "\n",
    "    def __init__(self, capacity: int):\n",
    "        self.items = {}\n",
    "        self.capacity = capacity\n",
    "        # create initial list\n",
    "        self.left = ListNode(-1)\n",
    "        self.right = ListNode(-1)\n",
    "        # connect nodes\n",
    "        self.right.prev = self.left\n",
    "        self.left.next = self.right\n",
    "\n",
    "    def get(self, key: int) -> int:\n",
    "        if key in self.items:\n",
    "            valnode = self.items[key]\n",
    "            val = valnode.val\n",
    "            # update cache ordering\n",
    "            # remove from old position\n",
    "            if valnode.prev:\n",
    "                valnode.prev.next = valnode.next\n",
    "            if valnode.next:\n",
    "                valnode.next.prev = valnode.prev\n",
    "    \n",
    "            # add to end of list\n",
    "            valnode.next = self.right\n",
    "            valnode.prev = self.right.prev\n",
    "            self.right.prev = valnode\n",
    "            valnode.prev.next = valnode\n",
    "        else:\n",
    "            val = -1\n",
    "            \n",
    "        return val\n",
    "\n",
    "    def put(self, key: int, value: int) -> None:\n",
    "        # update value\n",
    "        if key in self.items:\n",
    "            valnode = self.items[key]\n",
    "            valnode.val = value\n",
    "        # else add new value\n",
    "        else:\n",
    "            valnode = ListNode(value,key)\n",
    "            self.items[key] = valnode\n",
    "            # check capacity\n",
    "            if self.capacity > 0:\n",
    "                self.capacity -= 1     \n",
    "            else:\n",
    "                # evict LRU item\n",
    "                nodetoremove = self.left.next\n",
    "                self.items.pop(nodetoremove.key, None)   \n",
    "                self.left.next = nodetoremove.next\n",
    "                nodetoremove.next.prev = self.left\n",
    "                \n",
    "            \n",
    "        # remove from old position\n",
    "        if valnode.prev:\n",
    "            valnode.prev.next = valnode.next\n",
    "        if valnode.next:\n",
    "            valnode.next.prev = valnode.prev\n",
    "\n",
    "        # add to end of list\n",
    "        valnode.next = self.right\n",
    "        valnode.prev = self.right.prev\n",
    "        self.right.prev = valnode\n",
    "        valnode.prev.next = valnode\n",
    "            \n",
    "        \n",
    "\n",
    "# Your LRUCache object will be instantiated and called as such:\n",
    "# obj = LRUCache(capacity)\n",
    "# param_1 = obj.get(key)\n",
    "# obj.put(key,value)"
   ]
  },
  {
   "cell_type": "code",
   "execution_count": 78,
   "id": "0b78e6b0-3ce4-45b4-b0b4-aa234a8bdcda",
   "metadata": {},
   "outputs": [],
   "source": [
    "# input1\n",
    "lRUCache = LRUCache(2)\n",
    "lRUCache.put(1, 1); ## cache is {1=1}\n",
    "lRUCache.put(2, 2); ## cache is {1=1, 2=2}\n",
    "lRUCache.get(1);    ## return 1\n",
    "lRUCache.put(3, 3); ## LRU key was 2, evicts key 2, cache is {1=1, 3=3}\n",
    "lRUCache.get(2);    ## returns -1 (not found)\n",
    "lRUCache.put(4, 4); ## LRU key was 1, evicts key 1, cache is {4=4, 3=3}\n",
    "lRUCache.get(1);    ## return -1 (not found)\n",
    "lRUCache.get(3);    ## return 3\n",
    "lRUCache.get(4);    ## return 4"
   ]
  },
  {
   "cell_type": "code",
   "execution_count": 81,
   "id": "f22ea8d7-56f4-4efb-b429-addcea5114ea",
   "metadata": {},
   "outputs": [
    {
     "data": {
      "text/plain": [
       "{3: <__main__.ListNode at 0x106900e50>, 4: <__main__.ListNode at 0x106900f40>}"
      ]
     },
     "execution_count": 81,
     "metadata": {},
     "output_type": "execute_result"
    }
   ],
   "source": [
    "lRUCache.items"
   ]
  },
  {
   "cell_type": "code",
   "execution_count": 68,
   "id": "28cb80b0-82bb-4b49-beb3-9563ede5a0cd",
   "metadata": {},
   "outputs": [],
   "source": [
    "lRUCache = LRUCache(2)\n",
    "lRUCache.put(1, 5); ## cache is {1=1}\n",
    "lRUCache.put(2, 2); ## cache is {1=1, 2=2}\n",
    "lRUCache.get(1)\n",
    "lRUCache.put(3, 3); ## LRU key was 2, evicts key 2, cache is {1=1, 3=3}\n",
    "lRUCache.get(2)\n",
    "lRUCache.put(4, 4); ## LRU key was 1, evicts key 1, cache is {4=4, 3=3}\n",
    "# lRUCache.get(1)"
   ]
  },
  {
   "cell_type": "code",
   "execution_count": 75,
   "id": "0c55db48-dc44-43e8-909e-d7a6f63b1f28",
   "metadata": {},
   "outputs": [
    {
     "data": {
      "text/plain": [
       "{3: <__main__.ListNode at 0x1066bcc10>, 4: <__main__.ListNode at 0x1066bcdf0>}"
      ]
     },
     "execution_count": 75,
     "metadata": {},
     "output_type": "execute_result"
    }
   ],
   "source": [
    "# check LRU\n",
    "lRUCache.items"
   ]
  },
  {
   "cell_type": "code",
   "execution_count": 118,
   "id": "218212d0-c5a9-4427-810a-4e6458a3800d",
   "metadata": {},
   "outputs": [
    {
     "ename": "AttributeError",
     "evalue": "'NoneType' object has no attribute 'next'",
     "output_type": "error",
     "traceback": [
      "\u001b[0;31m---------------------------------------------------------------------------\u001b[0m",
      "\u001b[0;31mAttributeError\u001b[0m                            Traceback (most recent call last)",
      "Cell \u001b[0;32mIn[118], line 2\u001b[0m\n\u001b[1;32m      1\u001b[0m \u001b[38;5;66;03m# check MRU\u001b[39;00m\n\u001b[0;32m----> 2\u001b[0m \u001b[43mlRUCache\u001b[49m\u001b[38;5;241;43m.\u001b[39;49m\u001b[43mleft\u001b[49m\u001b[38;5;241;43m.\u001b[39;49m\u001b[43mnext\u001b[49m\u001b[38;5;241;43m.\u001b[39;49m\u001b[43mnext\u001b[49m\u001b[38;5;241;43m.\u001b[39;49m\u001b[43mnext\u001b[49m\n",
      "\u001b[0;31mAttributeError\u001b[0m: 'NoneType' object has no attribute 'next'"
     ]
    }
   ],
   "source": [
    "# check MRU\n",
    "lRUCache.left.next.key"
   ]
  },
  {
   "cell_type": "code",
   "execution_count": 119,
   "id": "caa168a4-46f3-467b-9bed-09e03cc84700",
   "metadata": {},
   "outputs": [
    {
     "data": {
      "text/plain": [
       "6"
      ]
     },
     "execution_count": 119,
     "metadata": {},
     "output_type": "execute_result"
    }
   ],
   "source": [
    "# input2\n",
    "# [\"LRUCache\",\"get\",\"put\",\"get\",\"put\",\"put\",\"get\",\"get\"]\n",
    "# [[2],[2],[2,6],[1],[1,5],[1,2],[1],[2]]\n",
    "\n",
    "lRUCache = LRUCache(2)\n",
    "lRUCache.get(2);    ## return -1\n",
    "lRUCache.put(2, 6); ## cache is {2=6}\n",
    "lRUCache.get(1);    ## return -1\n",
    "lRUCache.put(1, 5); ## cache is {2=6, 1=5}\n",
    "lRUCache.put(1, 2); ## cache is {2=6, 1=2}\n",
    "lRUCache.get(1);    ## returns 2\n",
    "lRUCache.get(2)     ## returns 6\n"
   ]
  },
  {
   "cell_type": "code",
   "execution_count": 83,
   "id": "0e0123e8-a110-4f22-8558-c3190e0006dd",
   "metadata": {},
   "outputs": [
    {
     "data": {
      "text/plain": [
       "{2: <__main__.ListNode at 0x1067ebee0>, 1: <__main__.ListNode at 0x1068ee3a0>}"
      ]
     },
     "execution_count": 83,
     "metadata": {},
     "output_type": "execute_result"
    }
   ],
   "source": [
    "lRUCache.items"
   ]
  },
  {
   "cell_type": "code",
   "execution_count": 237,
   "id": "51234e66-ca3e-466a-b986-d278d057b290",
   "metadata": {},
   "outputs": [],
   "source": [
    "# input 3\n",
    "# [\"LRUCache\",\"put\",\"put\",\"put\",\"put\",\"get\",\"get\",\"get\",\"get\",\"put\",\"get\",\"get\",\"get\",\"get\",\"get\"]\n",
    "#  [[3],[1,1],[2,2],[3,3],[4,4],[4],[3],[2],[1],[5,5],[1],[2],[3],[4],[5]]\n",
    "lRUCache = LRUCache(3)\n",
    "lRUCache.put(1, 1)\n",
    "lRUCache.put(2, 2)\n",
    "lRUCache.put(3, 3)\n",
    "lRUCache.put(4, 4)\n",
    "# lRUCache.get(4)\n",
    "# lRUCache.get(3)\n",
    "# lRUCache.get(2)\n",
    "# lRUCache.get(1)\n",
    "# lRUCache.put(5, 5)\n",
    "# lRUCache.get(1)\n",
    "# lRUCache.get(2)\n",
    "# lRUCache.get(3)\n",
    "\n",
    "\n",
    "# lRUCache.get(2);    ## return -1\n",
    "# lRUCache.put(2, 6); ## cache is {2=6}\n",
    "# lRUCache.get(1);    ## return -1\n",
    "# lRUCache.put(1, 2); ## cache is {2=6, 1=2}\n",
    "# lRUCache.get(1);    ## returns 2\n",
    "# lRUCache.get(2)     ## returns 6"
   ]
  },
  {
   "cell_type": "code",
   "execution_count": 238,
   "id": "ad38a7aa-fe1a-474e-aeba-43e89c4b7ee6",
   "metadata": {},
   "outputs": [
    {
     "data": {
      "text/plain": [
       "{2: <__main__.ListNode at 0x1066d9c70>,\n",
       " 3: <__main__.ListNode at 0x1066d9b80>,\n",
       " 4: <__main__.ListNode at 0x1066d9f70>}"
      ]
     },
     "execution_count": 238,
     "metadata": {},
     "output_type": "execute_result"
    }
   ],
   "source": [
    "lRUCache.items"
   ]
  },
  {
   "cell_type": "code",
   "execution_count": 227,
   "id": "480d975f-6539-4603-890e-9554ed81227c",
   "metadata": {},
   "outputs": [],
   "source": [
    "tmpvalnode = lRUCache.items[2]"
   ]
  },
  {
   "cell_type": "code",
   "execution_count": 218,
   "id": "c9a9bb29-a05d-4256-a932-30defbd35664",
   "metadata": {},
   "outputs": [],
   "source": [
    "tmpvalnode.prev.next = tmpvalnode.next\n",
    "tmpvalnode.next.prev = tmpvalnode.prev\n",
    "\n",
    "# tmpvalnode.next = lRUCache.right\n",
    "# tmpvalnode.prev = lRUCache.right.prev\n",
    "# lRUCache.right.prev = tmpvalnode\n",
    "# tmpvalnode.prev.next = tmpvalnode"
   ]
  },
  {
   "cell_type": "code",
   "execution_count": 228,
   "id": "f9d3d33c-3e69-4137-8f9b-f817687f0a59",
   "metadata": {},
   "outputs": [
    {
     "data": {
      "text/plain": [
       "1"
      ]
     },
     "execution_count": 228,
     "metadata": {},
     "output_type": "execute_result"
    }
   ],
   "source": [
    "tmpvalnode.prev.key"
   ]
  },
  {
   "cell_type": "code",
   "execution_count": 245,
   "id": "6dca60e6-3a9b-4fd7-ba82-f1b031bedbcc",
   "metadata": {},
   "outputs": [
    {
     "data": {
      "text/plain": [
       "4"
      ]
     },
     "execution_count": 245,
     "metadata": {},
     "output_type": "execute_result"
    }
   ],
   "source": [
    "lRUCache.right.prev.key"
   ]
  },
  {
   "cell_type": "code",
   "execution_count": 250,
   "id": "2e4bfd72-8c7c-411d-8cf9-f64ba43796c3",
   "metadata": {},
   "outputs": [
    {
     "data": {
      "text/plain": [
       "3"
      ]
     },
     "execution_count": 250,
     "metadata": {},
     "output_type": "execute_result"
    }
   ],
   "source": [
    "lRUCache.left.next.next.next.prev.key"
   ]
  },
  {
   "cell_type": "code",
   "execution_count": 175,
   "id": "142ff360-187a-44bd-9945-12371885b53e",
   "metadata": {},
   "outputs": [
    {
     "data": {
      "text/plain": [
       "<__main__.ListNode at 0x10673d3a0>"
      ]
     },
     "execution_count": 175,
     "metadata": {},
     "output_type": "execute_result"
    }
   ],
   "source": [
    "tmpvalnode.next"
   ]
  },
  {
   "cell_type": "code",
   "execution_count": null,
   "id": "5d75cbea-36d0-4bff-bc6b-af71934cbc17",
   "metadata": {},
   "outputs": [],
   "source": []
  },
  {
   "cell_type": "markdown",
   "id": "6dfc9db9-3eb7-43c4-aa01-f339e7ee6243",
   "metadata": {},
   "source": [
    "## 23. Merge k Sorted Lists\n",
    "\n",
    "leetcode: https://leetcode.com/problems/merge-k-sorted-lists/"
   ]
  },
  {
   "cell_type": "markdown",
   "id": "60eedd0f-8036-4d6d-93ea-d34732735452",
   "metadata": {},
   "source": [
    "You are given an array of `k` linked-lists `lists`, each linked-list is sorted in ascending order.\n",
    "\n",
    "**Merge all the linked-lists into one sorted linked-list and return it.**\n",
    "\n",
    " \n",
    "\n",
    "**Example 1:**\n",
    "```\n",
    "Input: lists = [[1,4,5],[1,3,4],[2,6]]\n",
    "Output: [1,1,2,3,4,4,5,6]\n",
    "Explanation: The linked-lists are:\n",
    "[\n",
    "  1->4->5,\n",
    "  1->3->4,\n",
    "  2->6\n",
    "]\n",
    "merging them into one sorted list:\n",
    "1->1->2->3->4->4->5->6\n",
    "```\n",
    "**Example 2:**\n",
    "```\n",
    "Input: lists = []\n",
    "Output: []\n",
    "Example 3:\n",
    "\n",
    "Input: lists = [[]]\n",
    "Output: []\n",
    "```\n",
    "\n",
    "**Constraints:**\n",
    "\n",
    "* `k == lists.length`\n",
    "* `0 <= k <= 10^4`\n",
    "* `0 <= lists[i].length <= 500`\n",
    "* `-10^4 <= lists[i][j] <= 10^4`\n",
    "* `lists[i]` is sorted in **ascending order**.\n",
    "* The sum of `lists[i].length` will not exceed `10^4`."
   ]
  },
  {
   "cell_type": "code",
   "execution_count": 116,
   "id": "396b4bfd-d54f-4875-aaac-3e8d1c1576c9",
   "metadata": {},
   "outputs": [],
   "source": [
    "class ListNode:\n",
    "    def __init__(self, val=0, next=None):\n",
    "        self.val = val\n",
    "        self.next = next\n",
    "\n",
    "def makeList(nodevals):\n",
    "    prev = None\n",
    "    node = None\n",
    "    for nodeval in nodevals[::-1]:\n",
    "        node = ListNode(nodeval)\n",
    "        node.next = prev\n",
    "        prev = node\n",
    "        \n",
    "    return node\n",
    "\n",
    "lists1 = [makeList([1,4,5]),makeList([1,3,4]),makeList([2,6])]\n",
    "lists2 = []\n",
    "lists3 = [makeList([])]"
   ]
  },
  {
   "cell_type": "code",
   "execution_count": 117,
   "id": "99bdc87b-a317-4f0e-94c3-fa38eed0a0aa",
   "metadata": {},
   "outputs": [],
   "source": [
    "# idea: create a min heap out of the head of each list, then repeatedly pop min node and add to new list while adding min_node.next to heap\n",
    "from typing import List, Optional\n",
    "import heapq\n",
    "\n",
    "# Definition for singly-linked list.\n",
    "# class ListNode:\n",
    "#     def __init__(self, val=0, next=None):\n",
    "#         self.val = val\n",
    "#         self.next = next\n",
    "class Solution:\n",
    "    def mergeKLists(self, lists: List[Optional[ListNode]]) -> Optional[ListNode]:\n",
    "        heap = []\n",
    "        count = 0\n",
    "        for head in lists:\n",
    "            if head:\n",
    "                heapitem = (head.val, count, head)\n",
    "                heap.append(heapitem)\n",
    "                count += 1\n",
    "\n",
    "        heapq.heapify(heap)\n",
    "\n",
    "        dummy = ListNode(-1)\n",
    "        cur = dummy\n",
    "        while (len(heap) > 0):\n",
    "            # get lowest node and add to output\n",
    "            heapitem = heapq.heappop(heap)\n",
    "            node = heapitem[2]\n",
    "            cur.next = node\n",
    "\n",
    "            # get next node from list and add to heap\n",
    "            nextnode = node.next\n",
    "            if (nextnode!=None):\n",
    "                heapitem = (nextnode.val, count, nextnode)\n",
    "                heapq.heappush(heap, heapitem)\n",
    "\n",
    "            # move pointers and increment count\n",
    "            cur = cur.next\n",
    "            count += 1\n",
    "        \n",
    "        return dummy.next"
   ]
  },
  {
   "cell_type": "code",
   "execution_count": 118,
   "id": "4054636e-9e87-4649-8245-db4f15384f9c",
   "metadata": {},
   "outputs": [],
   "source": [
    "# idea: repeatedly merge pairs of linked-lists in the lists of lists. This will be O(nlogk) time where k is the number of linked-lists\n",
    "\n",
    "# Definition for singly-linked list.\n",
    "# class ListNode:\n",
    "#     def __init__(self, val=0, next=None):\n",
    "#         self.val = val\n",
    "#         self.next = next\n",
    "class Solution:\n",
    "    def mergeKLists(self, lists: List[Optional[ListNode]]) -> Optional[ListNode]:\n",
    "        if not lists or len(lists) == 0:\n",
    "            return None\n",
    "            \n",
    "        while len(lists) > 1:\n",
    "            merged = []\n",
    "            for i in range(0, len(lists), 2):\n",
    "                l1 = lists[i]\n",
    "                l2 = lists[i+1] if (i+1)<len(lists) else None\n",
    "\n",
    "                merged.append(self.mergeLists(l1,l2))\n",
    "\n",
    "            lists = merged\n",
    "\n",
    "        return lists[0]\n",
    "        \n",
    "\n",
    "    def mergeLists(self, l1, l2):\n",
    "        dummy = ListNode(-1)\n",
    "        cur = dummy\n",
    "        while l1 and l2:\n",
    "            if l1.val < l2.val:\n",
    "                cur.next = l1\n",
    "                l1 = l1.next\n",
    "            else:\n",
    "                cur.next = l2\n",
    "                l2 = l2.next\n",
    "            cur = cur.next\n",
    "            \n",
    "        if l1:\n",
    "            cur.next = l1\n",
    "        if l2:\n",
    "            cur.next = l2\n",
    "        \n",
    "        return dummy.next"
   ]
  },
  {
   "cell_type": "code",
   "execution_count": 131,
   "id": "aa9e9800-b6de-429d-8dd6-fcb5644fed79",
   "metadata": {},
   "outputs": [],
   "source": [
    "soln = Solution()\n",
    "ans = soln.mergeKLists(lists3)"
   ]
  },
  {
   "cell_type": "code",
   "execution_count": 132,
   "id": "7e44fb3e-0808-4235-96b5-1f4df9cfd2b9",
   "metadata": {},
   "outputs": [],
   "source": [
    "ans"
   ]
  },
  {
   "cell_type": "code",
   "execution_count": 43,
   "id": "b2ea8d22-6f30-4870-948c-28a56c7e1f5a",
   "metadata": {},
   "outputs": [
    {
     "data": {
      "text/plain": [
       "(2, 2, <__main__.ListNode at 0x1035c1a00>)"
      ]
     },
     "execution_count": 43,
     "metadata": {},
     "output_type": "execute_result"
    }
   ],
   "source": [
    "heapq.heappop(test)"
   ]
  },
  {
   "cell_type": "code",
   "execution_count": null,
   "id": "07f14ae8-1de6-45fe-8499-8ff5c43cd0e1",
   "metadata": {},
   "outputs": [],
   "source": []
  },
  {
   "cell_type": "markdown",
   "id": "2c57f8b3-74b8-4793-92ad-fd96f39d7088",
   "metadata": {},
   "source": [
    "## 25. Reverse Nodes in k-Group\n",
    "\n",
    "leetcode: https://leetcode.com/problems/reverse-nodes-in-k-group/"
   ]
  },
  {
   "cell_type": "markdown",
   "id": "68ae0a11-b2fc-4dca-929a-9e0d5495f2f4",
   "metadata": {},
   "source": [
    "Given the `head` of a linked list, reverse the nodes of the list `k` at a time, and return the **modified list**.\n",
    "\n",
    "`k` is a positive integer and is less than or equal to the length of the linked list. If the number of nodes is not a multiple of `k` then left-out nodes, in the end, should remain as it is.\n",
    "\n",
    "You may not alter the values in the list's nodes, only nodes themselves may be changed.\n",
    "\n",
    " \n",
    "\n",
    "**Example 1:**\n",
    "\n",
    "![https://assets.leetcode.com/uploads/2020/10/03/reverse_ex1.jpg](https://assets.leetcode.com/uploads/2020/10/03/reverse_ex1.jpg)\n",
    "```\n",
    "Input: head = [1,2,3,4,5], k = 2\n",
    "Output: [2,1,4,3,5]\n",
    "```\n",
    "**Example 2:**\n",
    "\n",
    "![https://assets.leetcode.com/uploads/2020/10/03/reverse_ex2.jpg](https://assets.leetcode.com/uploads/2020/10/03/reverse_ex2.jpg)\n",
    "```\n",
    "Input: head = [1,2,3,4,5], k = 3\n",
    "Output: [3,2,1,4,5]\n",
    "```\n",
    "\n",
    "**Constraints:**\n",
    "\n",
    "* The number of nodes in the list is `n`.\n",
    "* `1 <= k <= n <= 5000`\n",
    "* `0 <= Node.val <= 1000`\n",
    " \n",
    "\n",
    "**Follow-up:** Can you solve the problem in `O(1)` extra memory space?"
   ]
  },
  {
   "cell_type": "code",
   "execution_count": 126,
   "id": "dfcf9ec6-061a-422a-8330-a0d80ccbd8f9",
   "metadata": {},
   "outputs": [],
   "source": [
    "class ListNode:\n",
    "    def __init__(self, val=0, next=None):\n",
    "        self.val = val\n",
    "        self.next = next\n",
    "\n",
    "def makeList(nodevals):\n",
    "    prev = None\n",
    "    node = None\n",
    "    for nodeval in nodevals[::-1]:\n",
    "        node = ListNode(nodeval)\n",
    "        node.next = prev\n",
    "        prev = node\n",
    "        \n",
    "    return node\n",
    "\n",
    "head1 = makeList([1,2,3,4,5])\n",
    "k1 = 2\n",
    "head2 = makeList([1,2,3,4,5])\n",
    "k2 = 3"
   ]
  },
  {
   "cell_type": "code",
   "execution_count": 127,
   "id": "2d294caa-6eb4-4340-8f24-8f0012be7fa7",
   "metadata": {},
   "outputs": [],
   "source": [
    "from typing import List, Optional\n",
    "\n",
    "# Definition for singly-linked list.\n",
    "# class ListNode:\n",
    "#     def __init__(self, val=0, next=None):\n",
    "#         self.val = val\n",
    "#         self.next = next\n",
    "class Solution:\n",
    "    def reverseKGroup(self, head: Optional[ListNode], k: int) -> Optional[ListNode]:\n",
    "        dummy = ListNode(-1)\n",
    "        dummy.next = head\n",
    "        prevgroup = dummy\n",
    "        first = True\n",
    "\n",
    "        while True:\n",
    "            # get last node of group and first node of next group\n",
    "            kth = self.getKthNode(prevgroup, k)\n",
    "            if not kth:\n",
    "                break\n",
    "                # pass\n",
    "            nextgroup = kth.next\n",
    "    \n",
    "            \n",
    "            # reverse k nodes\n",
    "            cur = prevgroup.next\n",
    "            prev = nextgroup\n",
    "            while cur and cur != nextgroup:\n",
    "                nextnode = cur.next\n",
    "                cur.next = prev\n",
    "                prev = cur\n",
    "                cur = nextnode\n",
    "\n",
    "            tmp = prevgroup.next # store last node in newly reversed group\n",
    "            prevgroup.next = kth # set last node of prevgroup to point to first node of newly reversed group\n",
    "            prevgroup = tmp # set prevgroup to end of newly reversed group\n",
    "            if first:\n",
    "                dummy.next = prev\n",
    "                first = False\n",
    "        \n",
    "        return dummy.next\n",
    "\n",
    "    def getKthNode(self,  node: Optional[ListNode], k: int) -> Optional[ListNode]:\n",
    "        count = 0\n",
    "        cur = node\n",
    "        while count < k and cur:\n",
    "            cur = cur.next\n",
    "            count += 1\n",
    "            \n",
    "        return cur"
   ]
  },
  {
   "cell_type": "code",
   "execution_count": 128,
   "id": "00c4fa82-ae08-4da5-a404-fe4c3a45cd9a",
   "metadata": {},
   "outputs": [],
   "source": [
    "soln = Solution()\n",
    "test = soln.reverseKGroup(head2,k2)"
   ]
  },
  {
   "cell_type": "code",
   "execution_count": 124,
   "id": "4f0b1f5a-ff7c-4f2b-990b-06985122654e",
   "metadata": {},
   "outputs": [],
   "source": [
    "test.next.next.next.next.next#.val"
   ]
  },
  {
   "cell_type": "markdown",
   "id": "d394e214-e2b0-484c-8a10-baf95039f94f",
   "metadata": {},
   "source": [
    "# Trees"
   ]
  },
  {
   "cell_type": "markdown",
   "id": "5ec2a86a-0443-4be8-ac62-6e0a46537ce7",
   "metadata": {},
   "source": [
    "## 226. Invert Binary Tree\n",
    "\n",
    "leetcode: https://leetcode.com/problems/invert-binary-tree/"
   ]
  },
  {
   "cell_type": "markdown",
   "id": "1ddd7398-1cf2-459c-a705-ca07d61e8b2b",
   "metadata": {},
   "source": [
    "Given the `root` of a binary tree, invert the tree, and return its `root`.\n",
    "\n",
    " \n",
    "\n",
    "**Example 1:**\n",
    "\n",
    "![https://assets.leetcode.com/uploads/2021/03/14/invert1-tree.jpg](https://assets.leetcode.com/uploads/2021/03/14/invert1-tree.jpg)\n",
    "```\n",
    "Input: root = [4,2,7,1,3,6,9]\n",
    "Output: [4,7,2,9,6,3,1]\n",
    "```\n",
    "**Example 2:**\n",
    "\n",
    "![https://assets.leetcode.com/uploads/2021/03/14/invert2-tree.jpg](https://assets.leetcode.com/uploads/2021/03/14/invert2-tree.jpg)\n",
    "```\n",
    "Input: root = [2,1,3]\n",
    "Output: [2,3,1]\n",
    "```\n",
    "**Example 3:**\n",
    "```\n",
    "Input: root = []\n",
    "Output: []\n",
    "```\n",
    "\n",
    "**Constraints:**\n",
    "\n",
    "* The number of nodes in the tree is in the range `[0, 100]`.\n",
    "* `-100 <= Node.val <= 100`"
   ]
  },
  {
   "cell_type": "code",
   "execution_count": 30,
   "id": "0dcd8c59-0ed1-49ab-8f9c-761582c4a28e",
   "metadata": {},
   "outputs": [],
   "source": [
    "class TreeNode:\n",
    "    def __init__(self, val=0, left=None, right=None):\n",
    "        self.val = val\n",
    "        self.left = left\n",
    "        self.right = right\n",
    "\n",
    "def makeTree(nodes, i):\n",
    "    if i < len(nodes):\n",
    "        node = TreeNode(nodes[i])\n",
    "        node.left = makeTree(nodes, 2*i+1)\n",
    "        node.right = makeTree(nodes, 2*i+2)\n",
    "    else:\n",
    "        node = None\n",
    "    \n",
    "    return node\n",
    "\n",
    "root1 = makeTree([4,2,7,1,3,6,9],0)\n",
    "root2 = makeTree([2,1,3],0)\n",
    "root3 = makeTree([],0)"
   ]
  },
  {
   "cell_type": "code",
   "execution_count": 28,
   "id": "157a6c0a-8583-4eae-a9c6-5b57d836c317",
   "metadata": {},
   "outputs": [],
   "source": [
    "from typing import List, Optional\n",
    "# Definition for a binary tree node.\n",
    "# class TreeNode:\n",
    "#     def __init__(self, val=0, left=None, right=None):\n",
    "#         self.val = val\n",
    "#         self.left = left\n",
    "#         self.right = right\n",
    "class Solution:\n",
    "    def invertTree(self, root: Optional[TreeNode]) -> Optional[TreeNode]:\n",
    "        if root:\n",
    "            root.left, root.right = self.invertTree(root.right), self.invertTree(root.left)\n",
    "            \n",
    "        return root"
   ]
  },
  {
   "cell_type": "code",
   "execution_count": 31,
   "id": "d06e0b9a-03cc-4369-838f-c1d842bb62ba",
   "metadata": {},
   "outputs": [],
   "source": [
    "from typing import List, Optional\n",
    "# Definition for a binary tree node.\n",
    "# class TreeNode:\n",
    "#     def __init__(self, val=0, left=None, right=None):\n",
    "#         self.val = val\n",
    "#         self.left = left\n",
    "#         self.right = right\n",
    "class Solution:\n",
    "    def invertTree(self, root: Optional[TreeNode]) -> Optional[TreeNode]:\n",
    "        if root is None:\n",
    "            return None\n",
    "\n",
    "        # invert current children\n",
    "        root.left, root.right = root.right, root.left\n",
    "        # inverte subtrees\n",
    "        root.left = self.invertTree(root.left)\n",
    "        root.right = self.invertTree(root.right)\n",
    "        \n",
    "        return root"
   ]
  },
  {
   "cell_type": "code",
   "execution_count": 39,
   "id": "f5eaec6e-a509-4551-bb4c-1c3fd0c4145a",
   "metadata": {},
   "outputs": [],
   "source": [
    "soln = Solution()\n",
    "ans = soln.invertTree(root3)"
   ]
  },
  {
   "cell_type": "code",
   "execution_count": 40,
   "id": "c433be2e-8591-4b02-9126-2e7ed1d5d727",
   "metadata": {},
   "outputs": [],
   "source": [
    "ans"
   ]
  },
  {
   "cell_type": "markdown",
   "id": "0c38ea35-e0af-4160-86a9-6469898e73e4",
   "metadata": {},
   "source": [
    "## 104. Maximum Depth of Binary Tree\n",
    "\n",
    "leetcode: https://leetcode.com/problems/maximum-depth-of-binary-tree/"
   ]
  },
  {
   "cell_type": "markdown",
   "id": "a0087693-5fb1-470c-9bed-b57fcf202fe7",
   "metadata": {},
   "source": [
    "Given the `root` of a binary tree, return **its maximum depth.**\n",
    "\n",
    "A binary tree's **maximum depth** is the number of nodes along the longest path from the root node down to the farthest leaf node.\n",
    "\n",
    " \n",
    "\n",
    "**Example 1:**\n",
    "\n",
    "![https://assets.leetcode.com/uploads/2020/11/26/tmp-tree.jpg](https://assets.leetcode.com/uploads/2020/11/26/tmp-tree.jpg)\n",
    "```\n",
    "Input: root = [3,9,20,null,null,15,7]\n",
    "Output: 3\n",
    "```\n",
    "**Example 2:**\n",
    "```\n",
    "Input: root = [1,null,2]\n",
    "Output: 2\n",
    "```\n",
    "\n",
    "**Constraints:**\n",
    "\n",
    "* The number of nodes in the tree is in the range `[0, 10^4]`.\n",
    "* `-100 <= Node.val <= 100`"
   ]
  },
  {
   "cell_type": "code",
   "execution_count": 46,
   "id": "d9c3775c-d056-469f-bd60-9f6acecb0625",
   "metadata": {},
   "outputs": [],
   "source": [
    "class TreeNode:\n",
    "    def __init__(self, val=0, left=None, right=None):\n",
    "        self.val = val\n",
    "        self.left = left\n",
    "        self.right = right\n",
    "\n",
    "def makeTree(nodes, i):\n",
    "    if i < len(nodes) and nodes[i]:\n",
    "        root = TreeNode(nodes[i])\n",
    "        root.left = makeTree(nodes, 2*i+1)\n",
    "        root.right = makeTree(nodes, 2*i+2)\n",
    "    else:\n",
    "        root = None\n",
    "    return root\n",
    "\n",
    "root1 = makeTree([3,9,20,None,None,15,7], 0)\n",
    "root2 = makeTree([1,None,2], 0)\n",
    "root3 = makeTree([], 0)\n",
    "root4 = makeTree([1], 0)"
   ]
  },
  {
   "cell_type": "code",
   "execution_count": 47,
   "id": "9e334ce7-7ca3-479a-b418-f1dc52784880",
   "metadata": {},
   "outputs": [],
   "source": [
    "# recursive DFS\n",
    "from typing import List, Optional\n",
    "# Definition for a binary tree node.\n",
    "# class TreeNode:\n",
    "#     def __init__(self, val=0, left=None, right=None):\n",
    "#         self.val = val\n",
    "#         self.left = left\n",
    "#         self.right = right\n",
    "class Solution:\n",
    "    def maxDepth(self, root: Optional[TreeNode]) -> int:\n",
    "        depth = 0\n",
    "        if root:\n",
    "            depth += 1\n",
    "            depth += max(self.maxDepth(root.left), self.maxDepth(root.right))\n",
    "            \n",
    "        return depth"
   ]
  },
  {
   "cell_type": "code",
   "execution_count": 52,
   "id": "9c435ede-592f-41c1-bbd5-5b787d202c0c",
   "metadata": {},
   "outputs": [],
   "source": [
    "# iterative BFS, level order traversal using deque\n",
    "\n",
    "from typing import List, Optional\n",
    "from collections import deque\n",
    "# Definition for a binary tree node.\n",
    "# class TreeNode:\n",
    "#     def __init__(self, val=0, left=None, right=None):\n",
    "#         self.val = val\n",
    "#         self.left = left\n",
    "#         self.right = right\n",
    "class Solution:\n",
    "    def maxDepth(self, root: Optional[TreeNode]) -> int:\n",
    "        if root == None:\n",
    "            return 0\n",
    "            \n",
    "        level = 0\n",
    "        queue = [root]\n",
    "        while len(queue)>0:\n",
    "            for i in range(len(queue)):\n",
    "                node = queue.pop(0)\n",
    "                if node.left:\n",
    "                    queue.append(node.left)\n",
    "                if node.right:\n",
    "                    queue.append(node.right)\n",
    "\n",
    "            level += 1\n",
    "                    \n",
    "        return level"
   ]
  },
  {
   "cell_type": "code",
   "execution_count": 66,
   "id": "2e7ef170-dc6e-418d-8db8-f50a659b9250",
   "metadata": {},
   "outputs": [],
   "source": [
    "# iterative DFS, using stack\n",
    "\n",
    "from typing import List, Optional\n",
    "# Definition for a binary tree node.\n",
    "# class TreeNode:\n",
    "#     def __init__(self, val=0, left=None, right=None):\n",
    "#         self.val = val\n",
    "#         self.left = left\n",
    "#         self.right = right\n",
    "class Solution:\n",
    "    def maxDepth(self, root: Optional[TreeNode]) -> int:\n",
    "        if root == None:\n",
    "            return 0\n",
    "\n",
    "        maxdepth = 0\n",
    "        stack = [(root,1)]\n",
    "        while (len(stack) > 0):\n",
    "            (node,depth) = stack.pop()\n",
    "            if node.left:\n",
    "                stack.append((node.left, depth+1))\n",
    "            if node.right:\n",
    "                stack.append((node.right, depth+1))\n",
    "\n",
    "            maxdepth = max(maxdepth,depth)\n",
    "            \n",
    "        return maxdepth"
   ]
  },
  {
   "cell_type": "code",
   "execution_count": 70,
   "id": "1d6e1d39-51dc-4d46-9aeb-b54a1dd028cf",
   "metadata": {},
   "outputs": [
    {
     "data": {
      "text/plain": [
       "1"
      ]
     },
     "execution_count": 70,
     "metadata": {},
     "output_type": "execute_result"
    }
   ],
   "source": [
    "soln = Solution()\n",
    "soln.maxDepth(root4)"
   ]
  },
  {
   "cell_type": "markdown",
   "id": "8ab7ca3a-59b5-4107-a378-0023588641ce",
   "metadata": {},
   "source": [
    "## 543. Diameter of Binary Tree\n",
    "\n",
    "leetcode: https://leetcode.com/problems/diameter-of-binary-tree/"
   ]
  },
  {
   "cell_type": "markdown",
   "id": "69c332eb-010a-4bc0-b318-cec74238c444",
   "metadata": {},
   "source": [
    "Given the `root` of a binary tree, return the **length of the diameter** of the tree.\n",
    "\n",
    "The **diameter** of a binary tree is the **length** of the longest path between any two nodes in a tree. This path may or may not pass through the `root`.\n",
    "\n",
    "The **length** of a path between two nodes is represented by the number of edges between them.\n",
    "\n",
    " \n",
    "\n",
    "**Example 1:**\n",
    "\n",
    "![https://assets.leetcode.com/uploads/2021/03/06/diamtree.jpg](https://assets.leetcode.com/uploads/2021/03/06/diamtree.jpg)\n",
    "```\n",
    "Input: root = [1,2,3,4,5]\n",
    "Output: 3\n",
    "Explanation: 3 is the length of the path [4,2,1,3] or [5,2,1,3].\n",
    "```\n",
    "**Example 2:**\n",
    "```\n",
    "Input: root = [1,2]\n",
    "Output: 1\n",
    "``` \n",
    "\n",
    "**Constraints:**\n",
    "\n",
    "* The number of nodes in the tree is in the range `[1, 104]`.\n",
    "* `-100 <= Node.val <= 100`"
   ]
  },
  {
   "cell_type": "code",
   "execution_count": 1,
   "id": "7a573150-cc0b-4c96-a29d-1fd8b4b899bd",
   "metadata": {},
   "outputs": [],
   "source": [
    "class TreeNode:\n",
    "    def __init__(self, val=0, left=None, right=None):\n",
    "        self.val = val\n",
    "        self.left = left\n",
    "        self.right = right\n",
    "\n",
    "def makeTree(nodes, i):\n",
    "    if i < len(nodes) and nodes[i]:\n",
    "        root = TreeNode(nodes[i])\n",
    "        root.left = makeTree(nodes, 2*i+1)\n",
    "        root.right = makeTree(nodes, 2*i+2)\n",
    "    else:\n",
    "        root = None\n",
    "\n",
    "    return root\n",
    "\n",
    "root1 = makeTree([1,2,3,4,5], 0)\n",
    "root2 = makeTree([1,2], 0)"
   ]
  },
  {
   "cell_type": "code",
   "execution_count": 2,
   "id": "d520c017-9c10-4226-9499-b36c278b72ec",
   "metadata": {},
   "outputs": [],
   "source": [
    "from typing import List, Optional\n",
    "# Definition for a binary tree node.\n",
    "# class TreeNode:\n",
    "#     def __init__(self, val=0, left=None, right=None):\n",
    "#         self.val = val\n",
    "#         self.left = left\n",
    "#         self.right = right\n",
    "class Solution:\n",
    "    def diameterOfBinaryTree(self, root: Optional[TreeNode]) -> int:\n",
    "        self.maxdiameter = 0\n",
    "        \n",
    "        def maxDepth(root: Optional[TreeNode]):\n",
    "            depth = 0\n",
    "            diam = 0\n",
    "            if root:\n",
    "                ldepth = maxDepth(root.left)\n",
    "                rdepth = maxDepth(root.right)\n",
    "                depth += max(ldepth,rdepth) + 1\n",
    "                diam += ldepth+rdepth+1\n",
    "                # update maxdiameter if edges seen from this node is greater than previous\n",
    "                self.maxdiameter = max(self.maxdiameter, ldepth+rdepth+1)\n",
    "\n",
    "            return diam\n",
    "        \n",
    "        maxDepth(root)\n",
    "        # self.maxdiameter\n",
    "        return self.maxdiameter-1"
   ]
  },
  {
   "cell_type": "code",
   "execution_count": 5,
   "id": "d65eb2bb-067a-45d0-a536-cffa9a52f39d",
   "metadata": {},
   "outputs": [
    {
     "data": {
      "text/plain": [
       "1"
      ]
     },
     "execution_count": 5,
     "metadata": {},
     "output_type": "execute_result"
    }
   ],
   "source": [
    "soln = Solution()\n",
    "soln.diameterOfBinaryTree(root2)\n",
    "# ans = soln.maxDepth(root1)"
   ]
  },
  {
   "cell_type": "code",
   "execution_count": 81,
   "id": "24fd72d8-966e-4ebe-8c54-1feb5d66cd55",
   "metadata": {},
   "outputs": [
    {
     "data": {
      "text/plain": [
       "5"
      ]
     },
     "execution_count": 81,
     "metadata": {},
     "output_type": "execute_result"
    }
   ],
   "source": [
    "ans"
   ]
  },
  {
   "cell_type": "markdown",
   "id": "92baec93-9d90-4a97-867f-120109050131",
   "metadata": {},
   "source": [
    "## 110. Balanced Binary Tree\n",
    "\n",
    "leetcode: https://leetcode.com/problems/balanced-binary-tree/"
   ]
  },
  {
   "cell_type": "markdown",
   "id": "adbd8f48-787c-4f6f-a728-392485a049c3",
   "metadata": {},
   "source": [
    "Given a binary tree, determine if it is **height-balanced**\n",
    "\n",
    "A **height-balanced** binary tree is a binary tree in which the depth of the two subtrees of every node never differs by more than one.\n",
    "\n",
    "**Example 1:**\n",
    "\n",
    "![https://assets.leetcode.com/uploads/2020/10/06/balance_1.jpg](https://assets.leetcode.com/uploads/2020/10/06/balance_1.jpg)\n",
    "```\n",
    "Input: root = [3,9,20,null,null,15,7]\n",
    "Output: true\n",
    "```\n",
    "**Example 2:**\n",
    "\n",
    "![https://assets.leetcode.com/uploads/2020/10/06/balance_2.jpg](https://assets.leetcode.com/uploads/2020/10/06/balance_2.jpg)\n",
    "```\n",
    "Input: root = [1,2,2,3,3,null,null,4,4]\n",
    "Output: false\n",
    "```\n",
    "**Example 3:**\n",
    "```\n",
    "Input: root = []\n",
    "Output: true\n",
    "```\n",
    "\n",
    "**Constraints:**\n",
    "\n",
    "* The number of nodes in the tree is in the range `[0, 5000]`.\n",
    "* `-10^4 <= Node.val <= 10^4`"
   ]
  },
  {
   "cell_type": "code",
   "execution_count": 63,
   "id": "0982304b-b1c1-4208-aee9-c56ee69e45c5",
   "metadata": {},
   "outputs": [],
   "source": [
    "class TreeNode:\n",
    "    def __init__(self, val=0, left=None, right=None):\n",
    "        self.val = val\n",
    "        self.left = left\n",
    "        self.right = right\n",
    "\n",
    "def makeTree(nodes, i):\n",
    "    if i < len(nodes) and nodes[i] != None:\n",
    "        root = TreeNode(nodes[i])\n",
    "        root.left = makeTree(nodes, 2*i+1)\n",
    "        root.right = makeTree(nodes, 2*i+2)\n",
    "    else:\n",
    "        root = None\n",
    "\n",
    "    return root\n",
    "\n",
    "\n",
    "root1 = makeTree([3,9,20,None,None,15,7], 0)\n",
    "root2 = makeTree([1,2,2,3,3,None,None,4,4], 0)\n",
    "root3 = makeTree([], 0)\n",
    "root4 = makeTree([1,2,2,3,None,None,3,4,None,None,4], 0)"
   ]
  },
  {
   "cell_type": "code",
   "execution_count": 64,
   "id": "312ef7c0-8c85-439b-bf04-ee288d239afe",
   "metadata": {},
   "outputs": [],
   "source": [
    "from typing import List, Optional\n",
    "# Definition for a binary tree node.\n",
    "# class TreeNode:\n",
    "#     def __init__(self, val=0, left=None, right=None):\n",
    "#         self.val = val\n",
    "#         self.left = left\n",
    "#         self.right = right\n",
    "class Solution:\n",
    "    def isBalanced(self, root: Optional[TreeNode]) -> bool:\n",
    "        # root is balanced if children are balanced and max depth of children differ by <= 1\n",
    "        if root == None:\n",
    "            return True\n",
    "\n",
    "        def maxDepth(root):\n",
    "            depth = 0\n",
    "            if root != None:\n",
    "                depth += 1\n",
    "                depth += max(maxDepth(root.left), maxDepth(root.right))\n",
    "            \n",
    "            return depth\n",
    "\n",
    "        ldepth = maxDepth(root.left)\n",
    "        rdepth = maxDepth(root.right)\n",
    "        \n",
    "        return self.isBalanced(root.left) and self.isBalanced(root.right) and (abs(ldepth-rdepth) <= 1)"
   ]
  },
  {
   "cell_type": "code",
   "execution_count": 65,
   "id": "388ff748-f13d-4393-9f41-386b7e410a1c",
   "metadata": {},
   "outputs": [],
   "source": [
    "# more efficient\n",
    "from typing import List, Optional\n",
    "# Definition for a binary tree node.\n",
    "# class TreeNode:\n",
    "#     def __init__(self, val=0, left=None, right=None):\n",
    "#         self.val = val\n",
    "#         self.left = left\n",
    "#         self.right = right\n",
    "class Solution:\n",
    "    def isBalanced(self, root: Optional[TreeNode]) -> bool:\n",
    "\n",
    "        def maxDepthAndBalanced(root):\n",
    "            depth = 0\n",
    "            balanced = True\n",
    "            if root != None:\n",
    "                depth += 1\n",
    "                (lbalanced, ldepth) = maxDepthAndBalanced(root.left)\n",
    "                (rbalanced, rdepth) = maxDepthAndBalanced(root.right)\n",
    "                depth += max(ldepth, rdepth)\n",
    "                balanced = (abs(ldepth-rdepth) <= 1) and lbalanced and rbalanced\n",
    "            return (balanced, depth)\n",
    "\n",
    "        (balanced, depth) = maxDepthAndBalanced(root)\n",
    "        \n",
    "        return balanced"
   ]
  },
  {
   "cell_type": "code",
   "execution_count": 66,
   "id": "c85db7e2-87fa-4de0-8092-b01ad9b6a878",
   "metadata": {},
   "outputs": [
    {
     "data": {
      "text/plain": [
       "False"
      ]
     },
     "execution_count": 66,
     "metadata": {},
     "output_type": "execute_result"
    }
   ],
   "source": [
    "soln = Solution()\n",
    "soln.isBalanced(root4)"
   ]
  },
  {
   "cell_type": "markdown",
   "id": "844161a7-d367-4eb6-8133-78fbb8770858",
   "metadata": {},
   "source": [
    "## 100. Same Tree\n",
    "\n",
    "leetcode: https://leetcode.com/problems/same-tree/"
   ]
  },
  {
   "cell_type": "markdown",
   "id": "f2c2acba-151c-4184-bb32-7e7b5f4f067d",
   "metadata": {},
   "source": [
    "Given the roots of two binary trees `p` and `q`, write a function to check if they are the same or not.\n",
    "\n",
    "Two binary trees are considered the same if they are structurally identical, and the nodes have the same value.\n",
    "\n",
    " \n",
    "\n",
    "**Example 1:**\n",
    "\n",
    "![https://assets.leetcode.com/uploads/2020/12/20/ex1.jpg](https://assets.leetcode.com/uploads/2020/12/20/ex1.jpg)\n",
    "```\n",
    "Input: p = [1,2,3], q = [1,2,3]\n",
    "Output: true\n",
    "```\n",
    "**Example 2:**\n",
    "\n",
    "![https://assets.leetcode.com/uploads/2020/12/20/ex2.jpg](https://assets.leetcode.com/uploads/2020/12/20/ex2.jpg)\n",
    "```\n",
    "Input: p = [1,2], q = [1,null,2]\n",
    "Output: false\n",
    "```\n",
    "**Example 3:**\n",
    "\n",
    "![https://assets.leetcode.com/uploads/2020/12/20/ex3.jpg](https://assets.leetcode.com/uploads/2020/12/20/ex3.jpg)\n",
    "```\n",
    "Input: p = [1,2,1], q = [1,1,2]\n",
    "Output: false\n",
    "```\n",
    "\n",
    "**Constraints:**\n",
    "\n",
    "* The number of nodes in both trees is in the range `[0, 100]`.\n",
    "* `-10^4 <= Node.val <= 10^4`"
   ]
  },
  {
   "cell_type": "code",
   "execution_count": 8,
   "id": "e2f83100-5952-4975-8ea9-8e1b22a0c17d",
   "metadata": {},
   "outputs": [],
   "source": [
    "class TreeNode:\n",
    "    def __init__(self, val=0, left=None, right=None):\n",
    "        self.val = val\n",
    "        self.left = left\n",
    "        self.right = right\n",
    "\n",
    "\n",
    "def makeTree(nodes, i):\n",
    "    if i < len(nodes) and nodes[i] != None:\n",
    "        node = TreeNode(nodes[i])\n",
    "        node.left = makeTree(nodes, 2*i+1)\n",
    "        node.right = makeTree(nodes, 2*i+2)\n",
    "    else:\n",
    "        node = None\n",
    "\n",
    "    return node\n",
    "\n",
    "p1 = makeTree([1,2,3], 0)\n",
    "q1 = makeTree([1,2,3], 0)\n",
    "\n",
    "p2 = makeTree([1,2], 0)\n",
    "q2 = makeTree([1,None,2], 0)\n",
    "\n",
    "p3 = makeTree([1,2,1], 0)\n",
    "q3 = makeTree([1,1,2], 0)"
   ]
  },
  {
   "cell_type": "code",
   "execution_count": 11,
   "id": "37f5f24c-5518-4c74-8e75-cf4db942a311",
   "metadata": {},
   "outputs": [],
   "source": [
    "from typing import List, Optional\n",
    "# Definition for a binary tree node.\n",
    "# class TreeNode:\n",
    "#     def __init__(self, val=0, left=None, right=None):\n",
    "#         self.val = val\n",
    "#         self.left = left\n",
    "#         self.right = right\n",
    "class Solution:\n",
    "    def isSameTree(self, p: Optional[TreeNode], q: Optional[TreeNode]) -> bool:\n",
    "        same = True\n",
    "        if p != None and q != None:\n",
    "            same = (p.val == q.val) and self.isSameTree(p.left, q.left) and self.isSameTree(p.right, q.right)\n",
    "        elif (p == None and q != None) or (p != None and q == None):\n",
    "            same = False\n",
    "            \n",
    "        \n",
    "        return same"
   ]
  },
  {
   "cell_type": "code",
   "execution_count": 15,
   "id": "c41906b3-a9a4-4ad2-90b8-e2f2ab6e2968",
   "metadata": {},
   "outputs": [
    {
     "data": {
      "text/plain": [
       "False"
      ]
     },
     "execution_count": 15,
     "metadata": {},
     "output_type": "execute_result"
    }
   ],
   "source": [
    "soln = Solution()\n",
    "soln.isSameTree(p3,q3)"
   ]
  },
  {
   "cell_type": "markdown",
   "id": "fa1ac309-ec2f-450d-a6f2-bbc652d8bbc5",
   "metadata": {},
   "source": [
    "## 572. Subtree of Another Tree\n",
    "\n",
    "leetcode: https://leetcode.com/problems/subtree-of-another-tree/"
   ]
  },
  {
   "cell_type": "markdown",
   "id": "9b8bf073-2ad1-4fbc-903a-5b5cc9d54bcd",
   "metadata": {},
   "source": [
    "Given the roots of two binary trees `root` and `subRoot`, return `true` if there is a subtree of `root` with the same structure and node values of `subRoot` and `false` otherwise.\n",
    "\n",
    "A subtree of a binary tree `tree` is a tree that consists of a node in `tree` and all of this node's descendants. The tree `tree` could also be considered as a subtree of itself.\n",
    "\n",
    " \n",
    "\n",
    "**Example 1:**\n",
    "\n",
    "![https://assets.leetcode.com/uploads/2021/04/28/subtree1-tree.jpg](https://assets.leetcode.com/uploads/2021/04/28/subtree1-tree.jpg)\n",
    "```\n",
    "Input: root = [3,4,5,1,2], subRoot = [4,1,2]\n",
    "Output: true\n",
    "```\n",
    "**Example 2:**\n",
    "\n",
    "![https://assets.leetcode.com/uploads/2021/04/28/subtree2-tree.jpg](https://assets.leetcode.com/uploads/2021/04/28/subtree2-tree.jpg)\n",
    "```\n",
    "Input: root = [3,4,5,1,2,null,null,null,null,0], subRoot = [4,1,2]\n",
    "Output: false\n",
    "```\n",
    "\n",
    "**Constraints:**\n",
    "\n",
    "* The number of nodes in the `root` tree is in the range `[1, 2000]`.\n",
    "* The number of nodes in the `subRoot` tree is in the range `[1, 1000]`.\n",
    "* `-10^4 <= root.val <= 10^4`\n",
    "* `-10^4 <= subRoot.val <= 10^4`"
   ]
  },
  {
   "cell_type": "code",
   "execution_count": 32,
   "id": "13469127-3f45-4c60-97d6-b3caa778a6d4",
   "metadata": {},
   "outputs": [],
   "source": [
    "class TreeNode:\n",
    "    def __init__(self, val=0, left=None, right=None):\n",
    "        self.val = val\n",
    "        self.left = left\n",
    "        self.right = right\n",
    "\n",
    "def makeTree(nodes, i):\n",
    "    if i < len(nodes) and nodes[i] != None:\n",
    "        node = TreeNode(nodes[i])\n",
    "        node.left = makeTree(nodes, 2*i+1)\n",
    "        node.right = makeTree(nodes, 2*i+2)\n",
    "    else:\n",
    "        node = None\n",
    "\n",
    "    return node\n",
    "\n",
    "root1 = makeTree([3,4,5,1,2], 0)\n",
    "subRoot1 = makeTree([4,1,2], 0)\n",
    "\n",
    "root2 = makeTree([3,4,5,1,2,None,None,None,None,0], 0)\n",
    "subRoot2 = makeTree([4,1,2], 0)\n",
    "\n",
    "root3 = makeTree([1,1], 0)\n",
    "subRoot3 = makeTree([1], 0)"
   ]
  },
  {
   "cell_type": "code",
   "execution_count": 28,
   "id": "b507c28d-12fe-4094-abf4-a3aa9b6ed22b",
   "metadata": {},
   "outputs": [],
   "source": [
    "from typing import List, Optional\n",
    "# Definition for a binary tree node.\n",
    "# class TreeNode:\n",
    "#     def __init__(self, val=0, left=None, right=None):\n",
    "#         self.val = val\n",
    "#         self.left = left\n",
    "#         self.right = right\n",
    "class Solution:\n",
    "    def isSubtree(self, root: Optional[TreeNode], subRoot: Optional[TreeNode]) -> bool:\n",
    "        def isSameTree(root, subRoot):\n",
    "            same = True\n",
    "            if (root != None and subRoot != None):\n",
    "                same = (root.val == subRoot.val) and isSameTree(root.left, subRoot.left) and isSameTree(root.right, subRoot.right)\n",
    "            elif (root != None and subRoot == None) or (root == None and subRoot != None): # one of the nodes is null\n",
    "                same = False\n",
    "            \n",
    "            return same \n",
    "\n",
    "        # traverse root to find node with same value as subRoot then check for same tree\n",
    "        subtree = False\n",
    "        if (root != None and subRoot != None):\n",
    "            subtree = isSameTree(root, subRoot)\n",
    "\n",
    "        if (subtree == False) and (root != None):\n",
    "            subtree = self.isSubtree(root.left, subRoot) or self.isSubtree(root.right, subRoot)\n",
    "            \n",
    "\n",
    "        return subtree"
   ]
  },
  {
   "cell_type": "code",
   "execution_count": 33,
   "id": "e010212c-00ef-4436-8e71-3823a9caac32",
   "metadata": {},
   "outputs": [
    {
     "data": {
      "text/plain": [
       "True"
      ]
     },
     "execution_count": 33,
     "metadata": {},
     "output_type": "execute_result"
    }
   ],
   "source": [
    "soln = Solution()\n",
    "soln.isSubtree(root3,subRoot3)"
   ]
  },
  {
   "cell_type": "markdown",
   "id": "ddeaaabf-3b62-4cdb-8c8f-614984b76b07",
   "metadata": {},
   "source": [
    "## 235. Lowest Common Ancestor of a Binary Search Tree\n",
    "\n",
    "leetcode: https://leetcode.com/problems/lowest-common-ancestor-of-a-binary-search-tree/description/"
   ]
  },
  {
   "cell_type": "markdown",
   "id": "63f3c8ed-f5d5-4e2b-a3f9-69e55ca0fc26",
   "metadata": {},
   "source": [
    "Given a binary search tree (BST), find the lowest common ancestor (LCA) node of two given nodes in the BST.\n",
    "\n",
    "According to the [definition of LCA on Wikipedia](https://en.wikipedia.org/wiki/Lowest_common_ancestor): “The lowest common ancestor is defined between two nodes `p` and `q` as the lowest node in `T` that has both p and q as descendants (where we allow **a node to be a descendant of itself**).”\n",
    "\n",
    " \n",
    "\n",
    "**Example 1:**\n",
    "\n",
    "![https://assets.leetcode.com/uploads/2018/12/14/binarysearchtree_improved.png](https://assets.leetcode.com/uploads/2018/12/14/binarysearchtree_improved.png)\n",
    "```\n",
    "Input: root = [6,2,8,0,4,7,9,null,null,3,5], p = 2, q = 8\n",
    "Output: 6\n",
    "Explanation: The LCA of nodes 2 and 8 is 6.\n",
    "```\n",
    "**Example 2:**\n",
    "\n",
    "![https://assets.leetcode.com/uploads/2018/12/14/binarysearchtree_improved.png](https://assets.leetcode.com/uploads/2018/12/14/binarysearchtree_improved.png)\n",
    "```\n",
    "Input: root = [6,2,8,0,4,7,9,null,null,3,5], p = 2, q = 4\n",
    "Output: 2\n",
    "Explanation: The LCA of nodes 2 and 4 is 2, since a node can be a descendant of itself according to the LCA definition.\n",
    "```\n",
    "**Example 3:**\n",
    "```\n",
    "Input: root = [2,1], p = 2, q = 1\n",
    "Output: 2\n",
    "``` \n",
    "\n",
    "**Constraints:**\n",
    "\n",
    "* The number of nodes in the tree is in the range `[2, 10^5]`.\n",
    "* `-10^9 <= Node.val <= 10^9`\n",
    "* All `Node.val` are unique.\n",
    "* `p != q`\n",
    "* `p` and `q` will exist in the BST."
   ]
  },
  {
   "cell_type": "code",
   "execution_count": 66,
   "id": "29befdb3-3ba9-4f95-a41d-d4f588ee0f88",
   "metadata": {},
   "outputs": [],
   "source": [
    "# Definition for a binary tree node.\n",
    "class TreeNode:\n",
    "    def __init__(self, val=0, left=None, right=None):\n",
    "        self.val = val\n",
    "        self.left = left\n",
    "        self.right = right\n",
    "\n",
    "def makeTree(nodes, i):\n",
    "    if i < len(nodes) and nodes[i] != None:\n",
    "        node = TreeNode(nodes[i])\n",
    "        node.left = makeTree(nodes, 2*i+1)\n",
    "        node.right = makeTree(nodes, 2*i+2)\n",
    "    else:\n",
    "        node = None\n",
    "\n",
    "    return node\n",
    "\n",
    "root1 = makeTree([6,2,8,0,4,7,9,None,None,3,5], 0)\n",
    "p1 = TreeNode(2)\n",
    "q1 = TreeNode(8)\n",
    "\n",
    "root2 = makeTree([6,2,8,0,4,7,9,None,None,3,5], 0)\n",
    "p2 = TreeNode(2)\n",
    "q2 = TreeNode(4)\n",
    "\n",
    "root3 = makeTree([2,1], 0)\n",
    "p3 = TreeNode(2)\n",
    "q3 = TreeNode(1)"
   ]
  },
  {
   "cell_type": "code",
   "execution_count": 64,
   "id": "90926ec4-f280-4018-97be-1764003902a9",
   "metadata": {},
   "outputs": [],
   "source": [
    "from typing import List, Optional\n",
    "# Definition for a binary tree node.\n",
    "# class TreeNode:\n",
    "#     def __init__(self, x):\n",
    "#         self.val = x\n",
    "#         self.left = None\n",
    "#         self.right = None\n",
    "\n",
    "class Solution:\n",
    "    def lowestCommonAncestor(self, root: 'TreeNode', p: 'TreeNode', q: 'TreeNode') -> 'TreeNode':\n",
    "        # make sure p < q\n",
    "        if q.val < p.val:\n",
    "            p,q = q,p \n",
    "\n",
    "        # traverse BST and return node if p or q is found or p and q are found in separate left and right subtrees\n",
    "        while root != None:\n",
    "            if root.val == p.val or root.val == q.val:\n",
    "                return root\n",
    "            elif (root.val > p.val) and (root.val < q.val):\n",
    "                return root\n",
    "            elif (root.val < p.val) and (root.val < q.val):\n",
    "                root = root.rightxt\n",
    "            else:\n",
    "                root = root.left\n",
    "            \n",
    "        return -1"
   ]
  },
  {
   "cell_type": "code",
   "execution_count": 67,
   "id": "ec7e94a7-df45-4243-be14-fe4918310dd5",
   "metadata": {},
   "outputs": [],
   "source": [
    "soln = Solution()\n",
    "ans = soln.lowestCommonAncestor(root2, p2, q2)"
   ]
  },
  {
   "cell_type": "code",
   "execution_count": 68,
   "id": "2d754a0e-1c34-4287-b192-cf4d6041d9ea",
   "metadata": {},
   "outputs": [
    {
     "data": {
      "text/plain": [
       "2"
      ]
     },
     "execution_count": 68,
     "metadata": {},
     "output_type": "execute_result"
    }
   ],
   "source": [
    "soln.lowestCommonAncestor(root2, TreeNode(5), TreeNode(0)).val"
   ]
  },
  {
   "cell_type": "code",
   "execution_count": null,
   "id": "36d6ebaf-1285-4cbf-83f3-fe023afb5e1f",
   "metadata": {},
   "outputs": [],
   "source": []
  },
  {
   "cell_type": "code",
   "execution_count": null,
   "id": "6eeb40fa-a1ef-4f65-bf43-6d9bce510b1b",
   "metadata": {},
   "outputs": [],
   "source": []
  },
  {
   "cell_type": "markdown",
   "id": "147e939d-aac7-4259-866f-7f4fb6dff895",
   "metadata": {},
   "source": [
    "## 102. Binary Tree Level Order Traversal\n",
    "\n",
    "leetcode: https://leetcode.com/problems/binary-tree-level-order-traversal/"
   ]
  },
  {
   "cell_type": "markdown",
   "id": "a5aa3553-54a6-4255-b637-1c2a059a1ee6",
   "metadata": {},
   "source": [
    "Given the `root` of a binary tree, return **the level order traversal of its nodes' values**. (i.e., from left to right, level by level).\n",
    "\n",
    " \n",
    "\n",
    "**Example 1:**\n",
    "\n",
    "![https://assets.leetcode.com/uploads/2021/02/19/tree1.jpg](https://assets.leetcode.com/uploads/2021/02/19/tree1.jpg)\n",
    "```\n",
    "Input: root = [3,9,20,null,null,15,7]\n",
    "Output: [[3],[9,20],[15,7]]\n",
    "```\n",
    "**Example 2:**\n",
    "```\n",
    "Input: root = [1]\n",
    "Output: [[1]]\n",
    "```\n",
    "**Example 3:**\n",
    "```\n",
    "Input: root = []\n",
    "Output: []\n",
    "```\n",
    "\n",
    "**Constraints:**\n",
    "\n",
    "* The number of nodes in the tree is in the range `[0, 2000]`.\n",
    "* `-1000 <= Node.val <= 1000`"
   ]
  },
  {
   "cell_type": "code",
   "execution_count": 9,
   "id": "e5544820-08f1-44d8-a5d6-df27fff00c7d",
   "metadata": {},
   "outputs": [],
   "source": [
    "# Definition for a binary tree node.\n",
    "class TreeNode:\n",
    "    def __init__(self, val=0, left=None, right=None):\n",
    "        self.val = val\n",
    "        self.left = left\n",
    "        self.right = right\n",
    "\n",
    "def makeTree(nodes, i):\n",
    "    if i < len(nodes) and nodes[i] != None:\n",
    "        node = TreeNode(nodes[i])\n",
    "        node.left = makeTree(nodes, 2*i+1)\n",
    "        node.right = makeTree(nodes, 2*i+2)\n",
    "    else:\n",
    "        node = None\n",
    "\n",
    "    return node\n",
    "\n",
    "root1 = makeTree([3,9,20,None,None,15,7], 0)\n",
    "root2 = makeTree([1], 0)\n",
    "root3 = makeTree([], 0)"
   ]
  },
  {
   "cell_type": "code",
   "execution_count": 23,
   "id": "74f6ce0d-33c4-4b57-9a5e-b11e52e3ec0f",
   "metadata": {},
   "outputs": [],
   "source": [
    "from typing import List, Optional\n",
    "# Definition for a binary tree node.\n",
    "# class TreeNode:\n",
    "#     def __init__(self, val=0, left=None, right=None):\n",
    "#         self.val = val\n",
    "#         self.left = left\n",
    "#         self.right = right\n",
    "class Solution:\n",
    "    def levelOrder(self, root: Optional[TreeNode]) -> List[List[int]]:\n",
    "        nextlevel = [root]\n",
    "        ans = []\n",
    "        while len(nextlevel) > 0:\n",
    "            curlevel = nextlevel\n",
    "            nextlevel = []\n",
    "            levelvals = []\n",
    "            while len(curlevel) > 0:\n",
    "                node = curlevel.pop(0)\n",
    "                if node:\n",
    "                    levelvals.append(node.val)\n",
    "                    if node.left != None:\n",
    "                        nextlevel.append(node.left)\n",
    "                    if node.right != None:\n",
    "                        nextlevel.append(node.right)\n",
    "                        \n",
    "            if len(levelvals) > 0:\n",
    "                ans.append(levelvals)\n",
    "\n",
    "        return ans"
   ]
  },
  {
   "cell_type": "code",
   "execution_count": 46,
   "id": "1b10de0f-b6c5-40af-a6f0-b67a24a230b7",
   "metadata": {},
   "outputs": [],
   "source": [
    "# BFS implementation using a single deque for optimization\n",
    "from typing import List, Optional\n",
    "import collections\n",
    "# Definition for a binary tree node.\n",
    "# class TreeNode:\n",
    "#     def __init__(self, val=0, left=None, right=None):\n",
    "#         self.val = val\n",
    "#         self.left = left\n",
    "#         self.right = right\n",
    "class Solution:\n",
    "    def levelOrder(self, root: Optional[TreeNode]) -> List[List[int]]:\n",
    "        queue = collections.deque()\n",
    "        queue.append(root)\n",
    "        ans = []\n",
    "        while len(queue) > 0:\n",
    "            queuelength = len(queue)\n",
    "            level = []\n",
    "            for i in range(queuelength):\n",
    "                node = queue.popleft()\n",
    "                if node:\n",
    "                    level.append(node.val)\n",
    "                    queue.append(node.left)\n",
    "                    queue.append(node.right)\n",
    "                        \n",
    "            if len(level) > 0:\n",
    "                ans.append(level)\n",
    "\n",
    "        return ans"
   ]
  },
  {
   "cell_type": "code",
   "execution_count": 48,
   "id": "f5fabb6c-8ef3-4c0a-b414-2e559d94136b",
   "metadata": {},
   "outputs": [
    {
     "data": {
      "text/plain": [
       "[]"
      ]
     },
     "execution_count": 48,
     "metadata": {},
     "output_type": "execute_result"
    }
   ],
   "source": [
    "soln = Solution()\n",
    "soln.levelOrder(root3)"
   ]
  },
  {
   "cell_type": "code",
   "execution_count": 49,
   "id": "9de681ba-e8e4-41c4-8065-220c3e0f376a",
   "metadata": {},
   "outputs": [
    {
     "data": {
      "text/plain": [
       "[[3], [9, 20], [15, 7]]"
      ]
     },
     "execution_count": 49,
     "metadata": {},
     "output_type": "execute_result"
    }
   ],
   "source": [
    "ans"
   ]
  },
  {
   "cell_type": "markdown",
   "id": "c1b8e8b0-c9ee-4d55-85e7-22ae7b0863a1",
   "metadata": {},
   "source": [
    "## 199. Binary Tree Right Side View\n",
    "\n",
    "leetcode: https://leetcode.com/problems/binary-tree-right-side-view/"
   ]
  },
  {
   "cell_type": "markdown",
   "id": "9b9c6783-a716-43df-9bf1-59765e9b93c6",
   "metadata": {},
   "source": [
    "Given the `root` of a binary tree, imagine yourself standing on the **right side** of it, return **the values of the nodes you can see ordered from top to bottom**.\n",
    "\n",
    " \n",
    "\n",
    "**Example 1:**\n",
    "\n",
    "![https://assets.leetcode.com/uploads/2021/02/14/tree.jpg](https://assets.leetcode.com/uploads/2021/02/14/tree.jpg)\n",
    "```\n",
    "Input: root = [1,2,3,null,5,null,4]\n",
    "Output: [1,3,4]\n",
    "```\n",
    "**Example 2:**\n",
    "```\n",
    "Input: root = [1,null,3]\n",
    "Output: [1,3]\n",
    "```\n",
    "**Example 3:**\n",
    "```\n",
    "Input: root = []\n",
    "Output: []\n",
    "``` \n",
    "\n",
    "**Constraints:**\n",
    "\n",
    "* The number of nodes in the tree is in the range `[0, 100]`.\n",
    "* `-100 <= Node.val <= 100`"
   ]
  },
  {
   "cell_type": "code",
   "execution_count": 10,
   "id": "06e5aa55-2289-4152-9da4-532744c2ed2f",
   "metadata": {},
   "outputs": [],
   "source": [
    "# Definition for a binary tree node.\n",
    "class TreeNode:\n",
    "    def __init__(self, val=0, left=None, right=None):\n",
    "        self.val = val\n",
    "        self.left = left\n",
    "        self.right = right\n",
    "\n",
    "def makeTree(nodes, i):\n",
    "    if i < len(nodes) and nodes[i] != None:\n",
    "        node = TreeNode(nodes[i])\n",
    "        node.left = makeTree(nodes, 2*i+1)\n",
    "        node.right = makeTree(nodes, 2*i+2)\n",
    "    else:\n",
    "        node = None\n",
    "\n",
    "    return node\n",
    "\n",
    "root1 = makeTree([1,2,3,None,5,None,4], 0)\n",
    "root2 = makeTree([1,None,3], 0)\n",
    "root3 = makeTree([], 0)\n",
    "root4 = makeTree([1,2,3,None,9,None,7,None,None,6,None,None,None], 0)"
   ]
  },
  {
   "cell_type": "code",
   "execution_count": 28,
   "id": "209b4e75-d0e8-4bff-9709-3b036349b49f",
   "metadata": {},
   "outputs": [],
   "source": [
    "# level order traversal\n",
    "from typing import List, Optional\n",
    "# Definition for a binary tree node.\n",
    "# class TreeNode:\n",
    "#     def __init__(self, val=0, left=None, right=None):\n",
    "#         self.val = val\n",
    "#         self.left = left\n",
    "#         self.right = right\n",
    "class Solution:\n",
    "    def rightSideView(self, root: Optional[TreeNode]) -> List[int]:\n",
    "        ans = []\n",
    "        queue = [root]\n",
    "        while len(queue) > 0:\n",
    "            level = []\n",
    "            queuelength = len(queue)\n",
    "            for i in range(queuelength):\n",
    "                node = queue.pop(0)\n",
    "                if node:\n",
    "                    level.append(node.val)\n",
    "                    queue.append(node.left)\n",
    "                    queue.append(node.right)\n",
    "                    \n",
    "            if len(level) > 0:\n",
    "                ans.append(level.pop())\n",
    "        \n",
    "        return ans"
   ]
  },
  {
   "cell_type": "code",
   "execution_count": 32,
   "id": "9055be59-f2ac-45f1-b0dd-76b49fa8c3fb",
   "metadata": {},
   "outputs": [
    {
     "data": {
      "text/plain": [
       "[1, 3, 7, 6]"
      ]
     },
     "execution_count": 32,
     "metadata": {},
     "output_type": "execute_result"
    }
   ],
   "source": [
    "soln = Solution()\n",
    "soln.rightSideView(root4)"
   ]
  },
  {
   "cell_type": "markdown",
   "id": "814cdb31-9c26-4f2b-996e-600d19158e46",
   "metadata": {},
   "source": [
    "## 1448. Count Good Nodes in Binary Tree\n",
    "\n",
    "leetcode: https://leetcode.com/problems/count-good-nodes-in-binary-tree/"
   ]
  },
  {
   "cell_type": "markdown",
   "id": "92541193-74de-43fa-a395-d25881b46c67",
   "metadata": {},
   "source": [
    "Given a binary tree `root`, a node `X` in the tree is named **good** if in the path from `root` to `X` there are no nodes with a value greater than `X`.\n",
    "\n",
    "Return the **number of good nodes** in the binary tree.\n",
    "\n",
    " \n",
    "\n",
    "**Example 1:**\n",
    "\n",
    "![https://assets.leetcode.com/uploads/2020/04/02/test_sample_1.png](https://assets.leetcode.com/uploads/2020/04/02/test_sample_1.png)\n",
    "```\n",
    "Input: root = [3,1,4,3,null,1,5]\n",
    "Output: 4\n",
    "Explanation: Nodes in blue are good.\n",
    "Root Node (3) is always a good node.\n",
    "Node 4 -> (3,4) is the maximum value in the path starting from the root.\n",
    "Node 5 -> (3,4,5) is the maximum value in the path\n",
    "Node 3 -> (3,1,3) is the maximum value in the path.\n",
    "```\n",
    "**Example 2:**\n",
    "\n",
    "![https://assets.leetcode.com/uploads/2020/04/02/test_sample_2.png](https://assets.leetcode.com/uploads/2020/04/02/test_sample_2.png)\n",
    "```\n",
    "Input: root = [3,3,null,4,2]\n",
    "Output: 3\n",
    "Explanation: Node 2 -> (3, 3, 2) is not good, because \"3\" is higher than it.\n",
    "```\n",
    "**Example 3:**\n",
    "```\n",
    "Input: root = [1]\n",
    "Output: 1\n",
    "Explanation: Root is considered as good.\n",
    "```\n",
    "\n",
    "**Constraints:**\n",
    "\n",
    "* The number of nodes in the binary tree is in the range `[1, 10^5]`.\n",
    "* Each node's value is between `[-10^4, 10^4]`."
   ]
  },
  {
   "cell_type": "code",
   "execution_count": 73,
   "id": "146ee6e7-0be2-479f-a711-4dc6df92a569",
   "metadata": {},
   "outputs": [],
   "source": [
    "# Definition for a binary tree node.\n",
    "class TreeNode:\n",
    "    def __init__(self, val=0, left=None, right=None):\n",
    "        self.val = val\n",
    "        self.left = left\n",
    "        self.right = right\n",
    "\n",
    "def makeTree(nodes, i):\n",
    "    if i < len(nodes) and nodes[i] != None:\n",
    "        node = TreeNode(nodes[i])\n",
    "        node.left = makeTree(nodes, 2*i+1)\n",
    "        node.right = makeTree(nodes, 2*i+2)\n",
    "    else:\n",
    "        node = None\n",
    "\n",
    "    return node\n",
    "\n",
    "root1 = makeTree([3,1,4,3,None,1,5], 0)\n",
    "root2 = makeTree([3,3,None,4,2], 0)\n",
    "root3 = makeTree([1], 0)\n",
    "# Leetcode omits children of null nodes in it's level-order array representation of binary trees\n",
    "# e.g. tree array [2,None,4,10,8,None,None,4] represents:\n",
    "#  2\n",
    "#   \\\n",
    "#    4\n",
    "#   / \\\n",
    "# 10   8\n",
    "#     /  \n",
    "#    4\n",
    "root4 = makeTree([2,None,4,None,None,10,8,None,None,None,None,None,None,4,None], 0)"
   ]
  },
  {
   "cell_type": "code",
   "execution_count": 87,
   "id": "40bb4214-0232-4b98-8656-1f19c985a6b9",
   "metadata": {},
   "outputs": [],
   "source": [
    "# recursive DFS with monotonic increasing stack\n",
    "# Definition for a binary tree node.\n",
    "# class TreeNode:\n",
    "#     def __init__(self, val=0, left=None, right=None):\n",
    "#         self.val = val\n",
    "#         self.left = left\n",
    "#         self.right = right\n",
    "class Solution:\n",
    "    def goodNodes(self, root: TreeNode) -> int:\n",
    "        goodcount = 1\n",
    "        stack = [root.val]\n",
    "\n",
    "        def goodNodeDFS(node, stack):\n",
    "            goodcount = 0\n",
    "            if node != None:\n",
    "                if node.val >= stack[-1]:\n",
    "                    stack.append(node.val)\n",
    "                    goodcount += 1\n",
    "            \n",
    "                goodcount += goodNodeDFS(node.left, stack.copy())\n",
    "                goodcount += goodNodeDFS(node.right, stack.copy())\n",
    "            return goodcount\n",
    "\n",
    "        goodcount += goodNodeDFS(root.left, stack.copy())\n",
    "        goodcount += goodNodeDFS(root.right, stack.copy())\n",
    "        \n",
    "        return goodcount"
   ]
  },
  {
   "cell_type": "code",
   "execution_count": 91,
   "id": "2a9b417a-cdf2-4121-89c5-f13f065b371d",
   "metadata": {},
   "outputs": [],
   "source": [
    "# recursive DFS with max value instead of stack\n",
    "# Definition for a binary tree node.\n",
    "# class TreeNode:\n",
    "#     def __init__(self, val=0, left=None, right=None):\n",
    "#         self.val = val\n",
    "#         self.left = left\n",
    "#         self.right = right\n",
    "class Solution:\n",
    "    def goodNodes(self, root: TreeNode) -> int:\n",
    "\n",
    "        def goodNodeDFS(node, maxval):\n",
    "            goodcount = 0\n",
    "            if node != None:\n",
    "                if node.val >= maxval:\n",
    "                    maxval = node.val\n",
    "                    goodcount += 1\n",
    "            \n",
    "                goodcount += goodNodeDFS(node.left, maxval)\n",
    "                goodcount += goodNodeDFS(node.right, maxval)\n",
    "                \n",
    "            return goodcount\n",
    "\n",
    "        return goodNodeDFS(root, root.val)"
   ]
  },
  {
   "cell_type": "code",
   "execution_count": 93,
   "id": "d36091f9-7e70-4d92-a4eb-d13d9c824f95",
   "metadata": {},
   "outputs": [
    {
     "data": {
      "text/plain": [
       "1"
      ]
     },
     "execution_count": 93,
     "metadata": {},
     "output_type": "execute_result"
    }
   ],
   "source": [
    "soln = Solution()\n",
    "soln.goodNodes(root3)"
   ]
  },
  {
   "cell_type": "markdown",
   "id": "92ad1f64-d844-48a3-a6a3-465f9033ebea",
   "metadata": {},
   "source": [
    "## 98. Validate Binary Search Tree\n",
    "\n",
    "leetcode: https://leetcode.com/problems/validate-binary-search-tree/"
   ]
  },
  {
   "cell_type": "markdown",
   "id": "a443aa45-f480-48aa-8561-289302223171",
   "metadata": {},
   "source": [
    "Given the `root` of a binary tree, determine if it is a valid binary search tree (BST).\n",
    "\n",
    "A **valid BST** is defined as follows:\n",
    "\n",
    "* The left subtree of a node contains only nodes with keys **less than** the node's key.\n",
    "* The right subtree of a node contains only nodes with keys **greater than** the node's key.\n",
    "* Both the left and right subtrees must also be binary search trees.\n",
    " \n",
    "\n",
    "**Example 1:**\n",
    "\n",
    "![https://assets.leetcode.com/uploads/2020/12/01/tree1.jpg](https://assets.leetcode.com/uploads/2020/12/01/tree1.jpg)\n",
    "```\n",
    "Input: root = [2,1,3]\n",
    "Output: true\n",
    "```\n",
    "**Example 2:**\n",
    "\n",
    "![https://assets.leetcode.com/uploads/2020/12/01/tree2.jpg](https://assets.leetcode.com/uploads/2020/12/01/tree2.jpg)\n",
    "```\n",
    "Input: root = [5,1,4,null,null,3,6]\n",
    "Output: false\n",
    "Explanation: The root node's value is 5 but its right child's value is 4.\n",
    "```\n",
    "\n",
    "**Constraints:**\n",
    "\n",
    "* The number of nodes in the tree is in the range `[1, 10^4]`.\n",
    "* `-2^31 <= Node.val <= 2^31 - 1`"
   ]
  },
  {
   "cell_type": "code",
   "execution_count": 15,
   "id": "332a7e4d-d233-4296-8c0a-e935e45ead1b",
   "metadata": {},
   "outputs": [],
   "source": [
    "# Definition for a binary tree node.\n",
    "class TreeNode:\n",
    "    def __init__(self, val=0, left=None, right=None):\n",
    "        self.val = val\n",
    "        self.left = left\n",
    "        self.right = right\n",
    "\n",
    "def makeTree(nodes, i):\n",
    "    if i < len(nodes) and nodes[i] != None:\n",
    "        node = TreeNode(nodes[i])\n",
    "        node.left = makeTree(nodes, 2*i+1)\n",
    "        node.right = makeTree(nodes, 2*i+2)\n",
    "    else:\n",
    "        node = None\n",
    "\n",
    "    return node\n",
    "\n",
    "root1 = makeTree([2,1,3], 0)\n",
    "root2 = makeTree([5,1,4,None,None,3,6], 0)\n",
    "root3 = makeTree([1,1], 0)\n",
    "\n",
    "# Leetcode omits children of null nodes in it's level-order array representation of binary trees\n",
    "# e.g. tree array [2,None,4,10,8,None,None,4] represents:\n",
    "#  2\n",
    "#   \\\n",
    "#    4\n",
    "#   / \\\n",
    "# 10   8\n",
    "#     /  \n",
    "#    4\n"
   ]
  },
  {
   "cell_type": "code",
   "execution_count": 17,
   "id": "24327ed7-e726-4db9-ae5c-994f0c1dbedd",
   "metadata": {},
   "outputs": [],
   "source": [
    "from typing import List, Optional\n",
    "# Definition for a binary tree node.\n",
    "# class TreeNode:\n",
    "#     def __init__(self, val=0, left=None, right=None):\n",
    "#         self.val = val\n",
    "#         self.left = left\n",
    "#         self.right = right\n",
    "class Solution:\n",
    "    def isValidBST(self, root: Optional[TreeNode]) -> bool:\n",
    "        def minMaxDFS(node):\n",
    "            # base case\n",
    "            if node == None:\n",
    "                is_valid = True\n",
    "                minval = float(\"inf\")\n",
    "                maxval = -float(\"inf\")\n",
    "            else:\n",
    "                left_isvalid, left_minval, left_maxval = minMaxDFS(node.left)\n",
    "                right_isvalid, right_minval, right_maxval = minMaxDFS(node.right)\n",
    "                if left_isvalid and right_isvalid and (node.val > left_maxval) and (node.val < right_minval):\n",
    "                    is_valid = True\n",
    "                else:\n",
    "                    is_valid = False\n",
    "\n",
    "                minval = min(node.val, left_minval)\n",
    "                maxval = max(node.val, right_maxval)\n",
    "\n",
    "\n",
    "            return (is_valid, minval, maxval)\n",
    "        \n",
    "        return minMaxDFS(root)[0]"
   ]
  },
  {
   "cell_type": "code",
   "execution_count": 18,
   "id": "637b942b-5e52-41b7-ad7e-b64f32da661f",
   "metadata": {},
   "outputs": [
    {
     "data": {
      "text/plain": [
       "False"
      ]
     },
     "execution_count": 18,
     "metadata": {},
     "output_type": "execute_result"
    }
   ],
   "source": [
    "soln = Solution()\n",
    "soln.isValidBST(root3)"
   ]
  },
  {
   "cell_type": "markdown",
   "id": "6d4b6d7c-015b-496d-bc35-27dcc98dce2c",
   "metadata": {},
   "source": [
    "## 230. Kth Smallest Element in a BST\n",
    "\n",
    "leetcode: https://leetcode.com/problems/kth-smallest-element-in-a-bst/"
   ]
  },
  {
   "cell_type": "markdown",
   "id": "f2cebcc6-f1bc-4f0b-864a-eac416b52843",
   "metadata": {},
   "source": [
    "Given the `root` of a binary search tree, and an integer `k`, return the `kth` smallest value **(1-indexed)** of all the values of the nodes in the tree.\n",
    "\n",
    " \n",
    "\n",
    "**Example 1:**\n",
    "\n",
    "![https://assets.leetcode.com/uploads/2021/01/28/kthtree1.jpg](https://assets.leetcode.com/uploads/2021/01/28/kthtree1.jpg)\n",
    "```\n",
    "Input: root = [3,1,4,null,2], k = 1\n",
    "Output: 1\n",
    "```\n",
    "**Example 2:**\n",
    "\n",
    "![https://assets.leetcode.com/uploads/2021/01/28/kthtree2.jpg](https://assets.leetcode.com/uploads/2021/01/28/kthtree2.jpg)\n",
    "```\n",
    "Input: root = [5,3,6,2,4,null,null,1], k = 3\n",
    "Output: 3\n",
    "```\n",
    "\n",
    "**Constraints:**\n",
    "\n",
    "* The number of nodes in the tree is `n`.\n",
    "* `1 <= k <= n <= 10^4`\n",
    "* `0 <= Node.val <= 10^4`\n",
    " \n",
    "\n",
    "**Follow up:** If the BST is modified often (i.e., we can do insert and delete operations) and you need to find the kth smallest frequently, how would you optimize?"
   ]
  },
  {
   "cell_type": "code",
   "execution_count": 21,
   "id": "27b7eef7-4d4b-45de-b35e-d8a94f475c13",
   "metadata": {},
   "outputs": [],
   "source": [
    "# Definition for a binary tree node.\n",
    "class TreeNode:\n",
    "    def __init__(self, val=0, left=None, right=None):\n",
    "        self.val = val\n",
    "        self.left = left\n",
    "        self.right = right\n",
    "\n",
    "def makeTree(nodes, i):\n",
    "    if i < len(nodes) and nodes[i] != None:\n",
    "        node = TreeNode(nodes[i])\n",
    "        node.left = makeTree(nodes, 2*i+1)\n",
    "        node.right = makeTree(nodes, 2*i+2)\n",
    "    else:\n",
    "        node = None\n",
    "\n",
    "    return node\n",
    "\n",
    "root1 = makeTree([3,1,4,None,2], 0)\n",
    "k1 = 1\n",
    "root2 = makeTree([5,3,6,2,4,None,None,1], 0)\n",
    "k2 = 3\n",
    "root3 = makeTree([5,3,6,2,4,None,None,1], 0)\n",
    "k3 = 6"
   ]
  },
  {
   "cell_type": "code",
   "execution_count": 5,
   "id": "69c66121-d43a-4ea8-bd78-013f960c7624",
   "metadata": {},
   "outputs": [],
   "source": [
    "test = []"
   ]
  },
  {
   "cell_type": "code",
   "execution_count": 6,
   "id": "54b1b85d-232d-435e-987f-be1b49ada1b4",
   "metadata": {},
   "outputs": [],
   "source": [
    "test.extend([6])"
   ]
  },
  {
   "cell_type": "code",
   "execution_count": 7,
   "id": "ae737bfa-5552-4257-8b96-3d318e57c9a7",
   "metadata": {},
   "outputs": [
    {
     "data": {
      "text/plain": [
       "[6]"
      ]
     },
     "execution_count": 7,
     "metadata": {},
     "output_type": "execute_result"
    }
   ],
   "source": [
    "test"
   ]
  },
  {
   "cell_type": "code",
   "execution_count": null,
   "id": "5c72e40f-949d-4208-86c0-fa1a1116ff03",
   "metadata": {},
   "outputs": [],
   "source": []
  },
  {
   "cell_type": "code",
   "execution_count": 18,
   "id": "90dd012d-f303-4cdb-862c-458afd315d2b",
   "metadata": {},
   "outputs": [],
   "source": [
    "# inorder traversal, recursive\n",
    "from typing import List, Optional\n",
    "# Definition for a binary tree node.\n",
    "# class TreeNode:\n",
    "#     def __init__(self, val=0, left=None, right=None):\n",
    "#         self.val = val\n",
    "#         self.left = left\n",
    "#         self.right = right\n",
    "class Solution:\n",
    "    def kthSmallest(self, root: Optional[TreeNode], k: int) -> int:\n",
    "        def orderedDFS(node):\n",
    "            nodes = []\n",
    "            if node != None:\n",
    "                leftnodes = orderedDFS(node.left)\n",
    "                rightnodes = orderedDFS(node.right)\n",
    "                if leftnodes != None:\n",
    "                    nodes.extend(leftnodes)\n",
    "                    \n",
    "                nodes.extend([node.val])\n",
    "                \n",
    "                if rightnodes != None:\n",
    "                    nodes.extend(rightnodes)\n",
    "            else:\n",
    "                nodes = None\n",
    "\n",
    "            return nodes\n",
    "        \n",
    "        return orderedDFS(root)[k-1]"
   ]
  },
  {
   "cell_type": "code",
   "execution_count": 36,
   "id": "39733323-0ebd-4b76-91b4-b8d80e55216c",
   "metadata": {},
   "outputs": [],
   "source": [
    "# inorder traversal, iterative with stack\n",
    "from typing import List, Optional\n",
    "# Definition for a binary tree node.\n",
    "# class TreeNode:\n",
    "#     def __init__(self, val=0, left=None, right=None):\n",
    "#         self.val = val\n",
    "#         self.left = left\n",
    "#         self.right = right\n",
    "class Solution:\n",
    "    def kthSmallest(self, root: Optional[TreeNode], k: int) -> int:\n",
    "        stack = [root]\n",
    "        order = []\n",
    "        node = root.left\n",
    "\n",
    "        while stack or node:\n",
    "            while node != None:\n",
    "                stack.append(node)\n",
    "                node = node.left\n",
    "\n",
    "            node = stack.pop()\n",
    "            order.append(node.val)\n",
    "            # exit early to output kth result if found\n",
    "            k -= 1\n",
    "            if k == 0:\n",
    "                return node.val\n",
    "\n",
    "            # set pointer to right child for next iteration of loop\n",
    "            node = node.right\n",
    "\n",
    "        \n",
    "        \n",
    "        return order"
   ]
  },
  {
   "cell_type": "code",
   "execution_count": 45,
   "id": "6fc5136f-4177-46b8-aa87-b3d8c7d1c1d7",
   "metadata": {},
   "outputs": [
    {
     "data": {
      "text/plain": [
       "4"
      ]
     },
     "execution_count": 45,
     "metadata": {},
     "output_type": "execute_result"
    }
   ],
   "source": [
    "soln = Solution()\n",
    "soln.kthSmallest(root1,4)"
   ]
  },
  {
   "cell_type": "code",
   "execution_count": null,
   "id": "d948d7de-8112-45bb-81dc-8bffc0fb7034",
   "metadata": {},
   "outputs": [],
   "source": []
  },
  {
   "cell_type": "markdown",
   "id": "88cf194b-d632-46ad-b404-460ff4596058",
   "metadata": {},
   "source": [
    "## 105. Construct Binary Tree from Preorder and Inorder Traversal\n",
    "\n",
    "leetcode: https://leetcode.com/problems/construct-binary-tree-from-preorder-and-inorder-traversal/"
   ]
  },
  {
   "cell_type": "markdown",
   "id": "1bfd2b43-bdce-4eb6-9640-6d6a9ca7fd1b",
   "metadata": {},
   "source": [
    "Given two integer arrays `preorder` and `inorder` where `preorder` is the preorder traversal of a binary tree and `inorder` is the inorder traversal of the same tree, construct and **return the binary tree**.\n",
    "\n",
    " \n",
    "\n",
    "**Example 1:**\n",
    "\n",
    "![https://assets.leetcode.com/uploads/2021/02/19/tree.jpg](https://assets.leetcode.com/uploads/2021/02/19/tree.jpg)\n",
    "```\n",
    "Input: preorder = [3,9,20,15,7], inorder = [9,3,15,20,7]\n",
    "Output: [3,9,20,null,null,15,7]\n",
    "```\n",
    "**Example 2:**\n",
    "```\n",
    "Input: preorder = [-1], inorder = [-1]\n",
    "Output: [-1]\n",
    "```\n",
    "\n",
    "**Constraints:**\n",
    "\n",
    "* `1 <= preorder.length <= 3000`\n",
    "* `inorder.length == preorder.length`\n",
    "* `-3000 <= preorder[i], inorder[i] <= 3000`\n",
    "* `preorder` and `inorder` consist of **unique** values.\n",
    "* Each value of `inorder` also appears in `preorder`.\n",
    "* `preorder` is **guaranteed** to be the preorder traversal of the tree.\n",
    "* `inorder` is **guaranteed** to be the inorder traversal of the tree."
   ]
  },
  {
   "cell_type": "markdown",
   "id": "d320f295-8383-44d7-9d0e-4352f1700462",
   "metadata": {},
   "source": [
    "**Example 3:**\n",
    "\n",
    "![https://www.baeldung.com/wp-content/uploads/sites/4/2020/08/full-tree.png](https://www.baeldung.com/wp-content/uploads/sites/4/2020/08/full-tree.png)\n",
    "```\n",
    "Input: preorder = [6,3,2,4,19,12,7,15,30], inorder = [2,3,4,6,7,12,15,19,30]\n",
    "Output: [6,3,19,2,4,12,30,None,None,None,None,7,15,None,None]\n",
    "```"
   ]
  },
  {
   "cell_type": "code",
   "execution_count": 7,
   "id": "579f047c-65f0-440b-b1aa-e7097ea43726",
   "metadata": {},
   "outputs": [],
   "source": [
    "# Definition for a binary tree node.\n",
    "class TreeNode:\n",
    "    def __init__(self, val=0, left=None, right=None):\n",
    "        self.val = val\n",
    "        self.left = left\n",
    "        self.right = right\n",
    "\n",
    "def makeTree(nodes, i):\n",
    "    if i < len(nodes) and nodes[i] != None:\n",
    "        node = TreeNode(nodes[i])\n",
    "        node.left = makeTree(nodes, 2*i+1)\n",
    "        node.right = makeTree(nodes, 2*i+2)\n",
    "    else:\n",
    "        node = None\n",
    "\n",
    "    return node\n",
    "\n",
    "\n",
    "preorder1 = [3,9,20,15,7]\n",
    "inorder1 = [9,3,15,20,7]\n",
    "\n",
    "preorder2 = [-1]\n",
    "inorder2 = [-1]\n",
    "\n",
    "preorder3 = [6,3,2,4,19,12,7,15,30]\n",
    "inorder3 = [2,3,4,6,7,12,15,19,30]"
   ]
  },
  {
   "cell_type": "code",
   "execution_count": 75,
   "id": "471b7ce1-fe79-4b91-83d3-3814574227b4",
   "metadata": {},
   "outputs": [],
   "source": [
    "# NOT WORKING\n",
    "from typing import List, Optional\n",
    "# Definition for a binary tree node.\n",
    "# class TreeNode:\n",
    "#     def __init__(self, val=0, left=None, right=None):\n",
    "#         self.val = val\n",
    "#         self.left = left\n",
    "#         self.right = right\n",
    "class Solution:\n",
    "    def buildTree(self, preorder: List[int], inorder: List[int]) -> Optional[TreeNode]:\n",
    "        # only valid of tree is a BST! use binary search to find index\n",
    "        # def findIndex(nodes, val):\n",
    "        #     l = 0\n",
    "        #     r = len(nodes)-1\n",
    "        #     while l <= r:\n",
    "        #         mid = (l + r)//2\n",
    "        #         if nodes[mid] == val:\n",
    "        #             return mid\n",
    "        #         if nodes[mid] < val:\n",
    "        #             l = mid+1\n",
    "        #         else:\n",
    "        #             r = mid-1\n",
    "        #     return -1\n",
    "\n",
    "        if len(preorder)>0:\n",
    "            rootval = preorder[0]        \n",
    "            rootidx = inorder.index(rootval) # usable because of unique node value constraint\n",
    "            leftinorder = inorder[:rootidx]\n",
    "            rightinorder = inorder[rootidx+1:]\n",
    "    \n",
    "            root = TreeNode(rootval)\n",
    "            \n",
    "            if (len(leftinorder) > 0):\n",
    "                leftpreorder = preorder[1:len(leftinorder)+1]\n",
    "                root.left = self.buildTree(leftpreorder,leftinorder)\n",
    "                \n",
    "            if (len(rightinorder) > 0):\n",
    "                rightpreorder = preorder[len(leftinorder)+1:len(rightinorder)+1]\n",
    "                root.right = self.buildTree(rightpreorder,rightinorder)\n",
    "        else:\n",
    "            root = None\n",
    "        \n",
    "        return root"
   ]
  },
  {
   "cell_type": "code",
   "execution_count": 78,
   "id": "a0eced4b-b37a-4860-8947-7d4efd8f4b93",
   "metadata": {},
   "outputs": [],
   "source": [
    "# insight: \n",
    "# inorder representation of tree is invariant\n",
    "# when splitting the array on a given node, the left/right sections are themselves inorder representations of the left/right subtrees\n",
    "from typing import List, Optional\n",
    "# Definition for a binary tree node.\n",
    "# class TreeNode:\n",
    "#     def __init__(self, val=0, left=None, right=None):\n",
    "#         self.val = val\n",
    "#         self.left = left\n",
    "#         self.right = right\n",
    "class Solution:\n",
    "    def buildTree(self, preorder: List[int], inorder: List[int]) -> Optional[TreeNode]:\n",
    "        if len(preorder)==0 or len(inorder)==0:\n",
    "            return None\n",
    "            \n",
    "        rootval = preorder[0]\n",
    "        rootidx = inorder.index(rootval)\n",
    "\n",
    "        root = TreeNode(rootval)\n",
    "        root.left = self.buildTree(preorder[1:rootidx+1], inorder[:rootidx])\n",
    "        root.right = self.buildTree(preorder[rootidx+1:], inorder[rootidx+1:])\n",
    "        \n",
    "        return root"
   ]
  },
  {
   "cell_type": "code",
   "execution_count": 79,
   "id": "c883d836-2e79-4d1f-a3d7-3a057b345b78",
   "metadata": {},
   "outputs": [],
   "source": [
    "soln = Solution()\n",
    "ans = soln.buildTree(preorder1, inorder1)"
   ]
  },
  {
   "cell_type": "code",
   "execution_count": null,
   "id": "6398b763-ab05-4a51-9faf-c7cb84001efa",
   "metadata": {},
   "outputs": [],
   "source": []
  },
  {
   "cell_type": "markdown",
   "id": "171b8955-02f5-424b-b67a-99ece50bde17",
   "metadata": {},
   "source": [
    "## 124. Binary Tree Maximum Path Sum\n",
    "\n",
    "leetcode: https://leetcode.com/problems/binary-tree-maximum-path-sum/"
   ]
  },
  {
   "cell_type": "markdown",
   "id": "10255be6-5f79-4bd0-ae4f-489bfd204455",
   "metadata": {},
   "source": [
    "A **path** in a binary tree is a sequence of nodes where each pair of adjacent nodes in the sequence has an edge connecting them. A node can only appear in the sequence **at most once**. Note that the path does not need to pass through the root.\n",
    "\n",
    "The **path sum** of a path is the sum of the node's values in the path.\n",
    "\n",
    "Given the `root` of a binary tree, return the **maximum path sum** of any non-empty path.\n",
    "\n",
    " \n",
    "\n",
    "**Example 1:**\n",
    "\n",
    "![https://assets.leetcode.com/uploads/2020/10/13/exx1.jpg](https://assets.leetcode.com/uploads/2020/10/13/exx1.jpg)\n",
    "```\n",
    "Input: root = [1,2,3]\n",
    "Output: 6\n",
    "Explanation: The optimal path is 2 -> 1 -> 3 with a path sum of 2 + 1 + 3 = 6.\n",
    "```\n",
    "**Example 2:**\n",
    "\n",
    "![https://assets.leetcode.com/uploads/2020/10/13/exx2.jpg](https://assets.leetcode.com/uploads/2020/10/13/exx2.jpg)\n",
    "```\n",
    "Input: root = [-10,9,20,null,null,15,7]\n",
    "Output: 42\n",
    "Explanation: The optimal path is 15 -> 20 -> 7 with a path sum of 15 + 20 + 7 = 42.\n",
    "``` \n",
    "\n",
    "**Constraints:**\n",
    "\n",
    "* The number of nodes in the tree is in the range `[1, 3 * 10^4]`.\n",
    "* `-1000 <= Node.val <= 1000`"
   ]
  },
  {
   "cell_type": "markdown",
   "id": "f15c84e9-7016-4d7e-87b8-0bcf7c2c2d57",
   "metadata": {},
   "source": [
    "**Example 3:**\n",
    "\n",
    "![https://www.baeldung.com/wp-content/uploads/sites/4/2020/08/full-tree.png](https://www.baeldung.com/wp-content/uploads/sites/4/2020/08/full-tree.png)\n",
    "```\n",
    "Input: root = [6,3,19,2,4,12,30,None,None,None,None,7,15,None,None]\n",
    "Output: 15+12+19+30 = 76\n",
    "```"
   ]
  },
  {
   "cell_type": "code",
   "execution_count": 73,
   "id": "a9e0134e-a541-4ee4-95ac-713aad706e91",
   "metadata": {},
   "outputs": [],
   "source": [
    "# Definition for a binary tree node.\n",
    "class TreeNode:\n",
    "    def __init__(self, val=0, left=None, right=None):\n",
    "        self.val = val\n",
    "        self.left = left\n",
    "        self.right = right\n",
    "\n",
    "def makeTree(nodes, i):\n",
    "    if i < len(nodes) and nodes[i] != None:\n",
    "        node = TreeNode(nodes[i])\n",
    "        node.left = makeTree(nodes, 2*i+1)\n",
    "        node.right = makeTree(nodes, 2*i+2)\n",
    "    else:\n",
    "        node = None\n",
    "\n",
    "    return node\n",
    "\n",
    "root1 = makeTree([1,2,3], 0)\n",
    "root2 = makeTree([-10,9,20,None,None,15,7], 0)\n",
    "root3 = makeTree([6,3,19,2,4,12,30,None,None,None,None,7,15,None,None], 0)\n",
    "root4 = makeTree([2,-1], 0) # 2"
   ]
  },
  {
   "cell_type": "code",
   "execution_count": 69,
   "id": "95dd025a-b44b-4f26-bcd1-537b89aab45b",
   "metadata": {},
   "outputs": [],
   "source": [
    "from typing import List, Optional\n",
    "# Definition for a binary tree node.\n",
    "# class TreeNode:\n",
    "#     def __init__(self, val=0, left=None, right=None):\n",
    "#         self.val = val\n",
    "#         self.left = left\n",
    "#         self.right = right\n",
    "class Solution:\n",
    "    \n",
    "    def maxPathSum(self, root: Optional[TreeNode]) -> int:\n",
    "        self.globalmax = float('-inf')\n",
    "        \n",
    "        def depthSum(node: Optional[TreeNode]) -> TreeNode:\n",
    "            max_sum = 0\n",
    "            if node != None:\n",
    "                lsum = max(depthSum(node.left), 0)\n",
    "                rsum = max(depthSum(node.right), 0)\n",
    "                \n",
    "                max_sum = node.val + max(lsum, rsum)\n",
    "                \n",
    "                self.globalmax = max(self.globalmax,node.val + lsum + rsum) # update global max\n",
    "\n",
    "            return max_sum\n",
    "\n",
    "        depthSum(root)        \n",
    "        return self.globalmax"
   ]
  },
  {
   "cell_type": "code",
   "execution_count": 72,
   "id": "6c1a6a13-3d26-4c3b-8c7f-fe6721e81bda",
   "metadata": {},
   "outputs": [
    {
     "data": {
      "text/plain": [
       "76"
      ]
     },
     "execution_count": 72,
     "metadata": {},
     "output_type": "execute_result"
    }
   ],
   "source": [
    "soln = Solution()\n",
    "soln.maxPathSum(root3)"
   ]
  },
  {
   "cell_type": "markdown",
   "id": "2cbacfc9-849c-41b3-a0a3-8cf916663d20",
   "metadata": {},
   "source": [
    "## 297. Serialize and Deserialize Binary Tree\n",
    "\n",
    "leetcode: https://leetcode.com/problems/serialize-and-deserialize-binary-tree/"
   ]
  },
  {
   "cell_type": "markdown",
   "id": "e6d086b9-8ec3-40a8-a3b9-d40a3b282aed",
   "metadata": {},
   "source": [
    "Serialization is the process of converting a data structure or object into a sequence of bits so that it can be stored in a file or memory buffer, or transmitted across a network connection link to be reconstructed later in the same or another computer environment.\n",
    "\n",
    "Design an algorithm to serialize and deserialize a binary tree. There is no restriction on how your serialization/deserialization algorithm should work. You just need to ensure that a binary tree can be serialized to a string and this string can be deserialized to the original tree structure.\n",
    "\n",
    "**Clarification:** The input/output format is the same as [how LeetCode serializes a binary tree](https://support.leetcode.com/hc/en-us/articles/360011883654-What-does-1-null-2-3-mean-in-binary-tree-representation-). You do not necessarily need to follow this format, so please be creative and come up with different approaches yourself.\n",
    "\n",
    " \n",
    "\n",
    "**Example 1:**\n",
    "\n",
    "![https://assets.leetcode.com/uploads/2020/09/15/serdeser.jpg](https://assets.leetcode.com/uploads/2020/09/15/serdeser.jpg)\n",
    "```\n",
    "Input: root = [1,2,3,null,null,4,5]\n",
    "Output: [1,2,3,null,null,4,5]\n",
    "```\n",
    "**Example 2:**\n",
    "```\n",
    "Input: root = []\n",
    "Output: []\n",
    "```\n",
    "\n",
    "**Constraints:**\n",
    "\n",
    "* The number of nodes in the tree is in the range `[0, 10^4]`.\n",
    "* `-1000 <= Node.val <= 1000`"
   ]
  },
  {
   "cell_type": "markdown",
   "id": "f138eebb-e503-48cd-8551-d19a72c24caa",
   "metadata": {},
   "source": [
    "**Example 4:**\n",
    "\n",
    "![https://www.baeldung.com/wp-content/uploads/sites/4/2020/08/full-tree.png](https://www.baeldung.com/wp-content/uploads/sites/4/2020/08/full-tree.png)\n",
    "```\n",
    "Input: root = [6,3,19,2,4,12,30,None,None,None,None,7,15,None,None]\n",
    "Output: [6,3,19,2,4,12,30,None,None,None,None,7,15,None,None]\n",
    "```"
   ]
  },
  {
   "cell_type": "code",
   "execution_count": 92,
   "id": "e4615147-34ad-4743-a270-39610f37e749",
   "metadata": {},
   "outputs": [],
   "source": [
    "# Definition for a binary tree node.\n",
    "class TreeNode(object):\n",
    "    def __init__(self, x):\n",
    "        self.val = x\n",
    "        self.left = None\n",
    "        self.right = None\n",
    "\n",
    "def makeTree(nodes, i):\n",
    "    if i < len(nodes) and nodes[i] != None:\n",
    "        node = TreeNode(nodes[i])\n",
    "        node.left = makeTree(nodes, 2*i+1)\n",
    "        node.right = makeTree(nodes, 2*i+2)\n",
    "    else:\n",
    "        node = None\n",
    "\n",
    "    return node\n",
    "\n",
    "root1 = makeTree([1,2,3,None,None,4,5], 0)\n",
    "root2 = makeTree([], 0)\n",
    "root3 = makeTree([1,2,3,None,None,4,5,None,None,None,None,6,7], 0) # [1,2,3,null,null,4,5,6,7]\n",
    "root4 = makeTree([6,3,19,2,4,12,30,None,None,None,None,7,15,None,None], 0)"
   ]
  },
  {
   "cell_type": "code",
   "execution_count": 83,
   "id": "2ff29dd8-75b6-4da1-a89c-2613bc568dd1",
   "metadata": {},
   "outputs": [],
   "source": [
    "# level order traversal\n",
    "# Definition for a binary tree node.\n",
    "# class TreeNode(object):\n",
    "#     def __init__(self, x):\n",
    "#         self.val = x\n",
    "#         self.left = None\n",
    "#         self.right = None\n",
    "\n",
    "class Codec:\n",
    "    def serialize(self, root):\n",
    "        \"\"\"Encodes a tree to a single string.\n",
    "        \n",
    "        :type root: TreeNode\n",
    "        :rtype: str\n",
    "        \"\"\"\n",
    "        queue = [root]\n",
    "        ans = []\n",
    "        while len(queue) > 0:\n",
    "            queuelen = len(queue)\n",
    "            level = []\n",
    "            for i in range(queuelen):\n",
    "                node = queue.pop(0)\n",
    "                if node != None:\n",
    "                    level.append(str(node.val))\n",
    "                    # treestr = treestr + str(node.val) + ','\n",
    "                    queue.append(node.left)\n",
    "                    queue.append(node.right)\n",
    "                else:\n",
    "                    level.append('')\n",
    "\n",
    "            ans.extend(level)\n",
    "\n",
    "        \n",
    "        return ans\n",
    "\n",
    "    def deserialize(self, data):\n",
    "        \"\"\"Decodes your encoded data to tree.\n",
    "        \n",
    "        :type data: str\n",
    "        :rtype: TreeNode\n",
    "        \"\"\"\n",
    "\n",
    "        def makeTree(nodes, i):\n",
    "            if i < len(nodes) and nodes[i] != '':\n",
    "                node = TreeNode(int(nodes[i]))\n",
    "                node.left = makeTree(nodes, 2*i+1)\n",
    "                node.right = makeTree(nodes, 2*i+2)\n",
    "            else:\n",
    "                node = None\n",
    "        \n",
    "            return node\n",
    "\n",
    "        datalist = data.split(',')[0:-1]\n",
    "        root = makeTree(datalist, 0)\n",
    "        \n",
    "        return root\n",
    "\n",
    "# Your Codec object will be instantiated and called as such:\n",
    "# ser = Codec()\n",
    "# deser = Codec()\n",
    "# ans = deser.deserialize(ser.serialize(root))"
   ]
  },
  {
   "cell_type": "code",
   "execution_count": 84,
   "id": "8743c4e2-eab0-49fa-800c-8f1e502ce03f",
   "metadata": {},
   "outputs": [],
   "source": [
    "# preorder traversal with explicit nulls\n",
    "# Definition for a binary tree node.\n",
    "# class TreeNode(object):\n",
    "#     def __init__(self, x):\n",
    "#         self.val = x\n",
    "#         self.left = None\n",
    "#         self.right = None\n",
    "\n",
    "class Codec:\n",
    "    def serialize(self, root):\n",
    "        \"\"\"Encodes a tree to a single string.\n",
    "        \n",
    "        :type root: TreeNode\n",
    "        :rtype: str\n",
    "        \"\"\"\n",
    "        stack = [root]\n",
    "        ans = []\n",
    "        while len(stack) > 0:\n",
    "            node = stack.pop()\n",
    "            if node != None:\n",
    "                ans.append(str(node.val))\n",
    "                stack.append(node.right)\n",
    "                stack.append(node.left)\n",
    "            else:\n",
    "                ans.append('N')\n",
    "\n",
    "        \n",
    "        return ','.join(ans)\n",
    "\n",
    "    def deserialize(self, data):\n",
    "        \"\"\"Decodes your encoded data to tree.\n",
    "        \n",
    "        :type data: str\n",
    "        :rtype: TreeNode\n",
    "        \"\"\"\n",
    "        vals = data.split(',')\n",
    "        self.idx = 0\n",
    "        def dfs():\n",
    "            if vals[self.idx] == 'N':\n",
    "                self.idx += 1\n",
    "                return None\n",
    "            else:\n",
    "                node = TreeNode(int(vals[self.idx]))\n",
    "                self.idx += 1\n",
    "                node.left = dfs()\n",
    "                node.right = dfs()\n",
    "\n",
    "            return node\n",
    "                \n",
    "        root = dfs()\n",
    "        return root\n",
    "\n",
    "# Your Codec object will be instantiated and called as such:\n",
    "# ser = Codec()\n",
    "# deser = Codec()\n",
    "# ans = deser.deserialize(ser.serialize(root))"
   ]
  },
  {
   "cell_type": "code",
   "execution_count": 99,
   "id": "f7e79c1d-ce9a-4bad-a0e0-8ba5f0320173",
   "metadata": {},
   "outputs": [],
   "source": [
    "# iterative preorder traversal with explicit nulls\n",
    "# visit root, left subtree, right subtree\n",
    "# Definition for a binary tree node.\n",
    "# class TreeNode(object):\n",
    "#     def __init__(self, x):\n",
    "#         self.val = x\n",
    "#         self.left = None\n",
    "#         self.right = None\n",
    "\n",
    "class Codec:\n",
    "    def serialize(self, root):\n",
    "        \"\"\"Encodes a tree to a single string.\n",
    "        \n",
    "        :type root: TreeNode\n",
    "        :rtype: str\n",
    "        \"\"\"\n",
    "\n",
    "        stack = [root]\n",
    "        ans = []\n",
    "\n",
    "        while len(stack)> 0:\n",
    "            node = stack.pop()\n",
    "            if node != None:\n",
    "                ans.append(str(node.val))\n",
    "                stack.append(node.right)\n",
    "                stack.append(node.left)\n",
    "            else:\n",
    "                ans.append('N')\n",
    "\n",
    "        return ','.join(ans)\n",
    "\n",
    "    def deserialize(self, data):\n",
    "        \"\"\"Decodes your encoded data to tree.\n",
    "        \n",
    "        :type data: str\n",
    "        :rtype: TreeNode\n",
    "        \"\"\"\n",
    "        # example input: '6,3,2,N,N,4,N,N,19,12,7,N,N,15,N,N,30,N,N'\n",
    "        \n",
    "        vals = data.split(',')\n",
    "        self.idx = 0\n",
    "        \n",
    "        def dfs():\n",
    "            if vals[self.idx] == 'N':\n",
    "                self.idx += 1\n",
    "                return\n",
    "            else:\n",
    "                node = TreeNode(int(vals[self.idx]))\n",
    "                self.idx += 1\n",
    "                node.left = dfs()\n",
    "                node.right = dfs()\n",
    "\n",
    "            return node\n",
    "\n",
    "            \n",
    "        root = dfs()\n",
    "        return root\n",
    "\n",
    "# Your Codec object will be instantiated and called as such:\n",
    "# ser = Codec()\n",
    "# deser = Codec()\n",
    "# ans = deser.deserialize(ser.serialize(root))"
   ]
  },
  {
   "cell_type": "code",
   "execution_count": 100,
   "id": "2192f07e-347c-4cfc-975f-820a854b2af2",
   "metadata": {},
   "outputs": [],
   "source": [
    "ser = Codec()\n",
    "deser = Codec()\n",
    "ans = deser.deserialize(ser.serialize(root3))"
   ]
  },
  {
   "cell_type": "code",
   "execution_count": 103,
   "id": "c2055e17-7c54-4a35-b4a9-22a9575945b8",
   "metadata": {},
   "outputs": [
    {
     "data": {
      "text/plain": [
       "True"
      ]
     },
     "execution_count": 103,
     "metadata": {},
     "output_type": "execute_result"
    }
   ],
   "source": [
    "ser.serialize(ans) == ser.serialize(root3)"
   ]
  },
  {
   "cell_type": "code",
   "execution_count": 90,
   "id": "2b013f7c-ccff-4bf2-9efa-7849492f741d",
   "metadata": {},
   "outputs": [
    {
     "data": {
      "text/plain": [
       "'6,3,2,N,N,4,N,N,19,12,7,N,N,15,N,N,30,N,N'"
      ]
     },
     "execution_count": 90,
     "metadata": {},
     "output_type": "execute_result"
    }
   ],
   "source": [
    "ans = ser.serialize(root4)\n",
    "ans"
   ]
  },
  {
   "cell_type": "markdown",
   "id": "ca7a3e87-88e7-4bad-9f46-56aee552f364",
   "metadata": {},
   "source": [
    "# Tries"
   ]
  },
  {
   "cell_type": "markdown",
   "id": "223646bc-58ed-48ec-ba6b-a2eda2fdd420",
   "metadata": {},
   "source": [
    "## 208. Implement Trie (Prefix Tree)\n",
    "\n",
    "leetcode: https://leetcode.com/problems/implement-trie-prefix-tree/"
   ]
  },
  {
   "cell_type": "markdown",
   "id": "a97a0b6f-e1e9-4253-a620-ee91afc13e86",
   "metadata": {},
   "source": [
    "A [trie](https://en.wikipedia.org/wiki/Trie) (pronounced as \"try\") or prefix tree is a tree data structure used to efficiently store and retrieve keys in a dataset of strings. There are various applications of this data structure, such as autocomplete and spellchecker.\n",
    "\n",
    "Implement the Trie class:\n",
    "\n",
    "* Trie() Initializes the `trie` object.\n",
    "* `void insert(String word)` Inserts the string `word` into the trie.\n",
    "* `boolean search(String word)` Returns `true` if the string `word` is in the trie (i.e., was inserted before), and `false` otherwise.\n",
    "* `boolean startsWith(String prefix)` Returns `true` if there is a previously inserted string `word` that has the prefix `prefix`, and `false` otherwise.\n",
    " \n",
    "\n",
    "**Example 1:**\n",
    "```\n",
    "Input\n",
    "[\"Trie\", \"insert\", \"search\", \"search\", \"startsWith\", \"insert\", \"search\"]\n",
    "[[], [\"apple\"], [\"apple\"], [\"app\"], [\"app\"], [\"app\"], [\"app\"]]\n",
    "Output\n",
    "[null, null, true, false, true, null, true]\n",
    "\n",
    "Explanation\n",
    "Trie trie = new Trie();\n",
    "trie.insert(\"apple\");\n",
    "trie.search(\"apple\");   // return True\n",
    "trie.search(\"app\");     // return False\n",
    "trie.startsWith(\"app\"); // return True\n",
    "trie.insert(\"app\");\n",
    "trie.search(\"app\");     // return True\n",
    "```\n",
    "\n",
    "**Constraints:**\n",
    "\n",
    "* `1 <= word.length, prefix.length <= 2000`\n",
    "* `word` and `prefix` consist only of lowercase English letters.\n",
    "* At most `3 * 10^4` calls in **total** will be made to `insert`, `search`, and `startsWith`."
   ]
  },
  {
   "cell_type": "code",
   "execution_count": 5,
   "id": "d8c4d16a-af86-4c24-99af-3320ce6e704f",
   "metadata": {},
   "outputs": [],
   "source": [
    "word1 = 'apple'\n",
    "prefix1 = 'app'"
   ]
  },
  {
   "cell_type": "code",
   "execution_count": 128,
   "id": "ea375570-f285-4808-a89a-9f31a08df315",
   "metadata": {},
   "outputs": [],
   "source": [
    "# Definition for a trie node.\n",
    "class TrieNode(object):\n",
    "    def __init__(self, x):\n",
    "        self.val = x\n",
    "        self.children = {}\n",
    "        self.is_word = False\n",
    "        \n",
    "class Trie:    \n",
    "    \n",
    "    def __init__(self):\n",
    "        self.root = TrieNode(None)\n",
    "        return\n",
    "\n",
    "    def insert(self, word: str) -> None:\n",
    "        node = self.root\n",
    "        for letter in word:\n",
    "            child = node.children.get(letter)\n",
    "            if child == None:\n",
    "                child = TrieNode(letter)\n",
    "                node.children[letter] = child\n",
    "            \n",
    "            node = child\n",
    "\n",
    "        node.is_word = True\n",
    "        return self.root\n",
    "\n",
    "    def search(self, word: str) -> bool:\n",
    "        node = self.root\n",
    "        for letter in word:\n",
    "            if node != None:\n",
    "                node = node.children.get(letter)\n",
    "                \n",
    "        return node.is_word if node else False\n",
    "\n",
    "    def startsWith(self, prefix: str) -> bool:\n",
    "        node = self.root\n",
    "        for letter in prefix:\n",
    "            if node != None:\n",
    "                node = node.children.get(letter)\n",
    "                \n",
    "        return True if node else False\n",
    "\n",
    "\n",
    "# Your Trie object will be instantiated and called as such:\n",
    "# obj = Trie()\n",
    "# obj.insert(word)\n",
    "# param_2 = obj.search(word)\n",
    "# param_3 = obj.startsWith(prefix)"
   ]
  },
  {
   "cell_type": "code",
   "execution_count": 129,
   "id": "f2cb5f91-d14e-49f3-ba47-d27642344617",
   "metadata": {},
   "outputs": [],
   "source": [
    "obj = Trie()\n",
    "testans = obj.insert(word1)\n",
    "param_2 = obj.search(word1)\n",
    "param_3 = obj.startsWith(prefix1)"
   ]
  },
  {
   "cell_type": "code",
   "execution_count": 130,
   "id": "aa7e348b-8b9d-472b-af16-c06cffae434a",
   "metadata": {},
   "outputs": [
    {
     "data": {
      "text/plain": [
       "<__main__.TrieNode at 0x105d95ca0>"
      ]
     },
     "execution_count": 130,
     "metadata": {},
     "output_type": "execute_result"
    }
   ],
   "source": [
    "obj.insert('apply')"
   ]
  },
  {
   "cell_type": "code",
   "execution_count": 131,
   "id": "875f245c-ebe7-4006-bdbf-248f5d3b55ab",
   "metadata": {},
   "outputs": [
    {
     "data": {
      "text/plain": [
       "<__main__.TrieNode at 0x105d95ca0>"
      ]
     },
     "execution_count": 131,
     "metadata": {},
     "output_type": "execute_result"
    }
   ],
   "source": [
    "obj.insert('app')"
   ]
  },
  {
   "cell_type": "code",
   "execution_count": 137,
   "id": "26d097c0-6028-4ddc-bfbe-86b2068a0f27",
   "metadata": {},
   "outputs": [
    {
     "data": {
      "text/plain": [
       "False"
      ]
     },
     "execution_count": 137,
     "metadata": {},
     "output_type": "execute_result"
    }
   ],
   "source": [
    "obj.startsWith('ape')"
   ]
  },
  {
   "cell_type": "code",
   "execution_count": 87,
   "id": "eaa7a8a6-4e5d-4532-b269-ab109f206b7f",
   "metadata": {},
   "outputs": [
    {
     "data": {
      "text/plain": [
       "True"
      ]
     },
     "execution_count": 87,
     "metadata": {},
     "output_type": "execute_result"
    }
   ],
   "source": [
    "testans.children['a'].children['p'].children['p'].children['l'].children['y'].is_word"
   ]
  },
  {
   "cell_type": "markdown",
   "id": "d58c3f27-a1b3-4e7a-b81e-446dd1808685",
   "metadata": {},
   "source": [
    "## 211. Design Add and Search Words Data Structure\n",
    "\n",
    "leetcode: https://leetcode.com/problems/design-add-and-search-words-data-structure/"
   ]
  },
  {
   "cell_type": "markdown",
   "id": "c1286418-272e-4d20-b54b-c6099217be99",
   "metadata": {},
   "source": [
    "Design a data structure that supports adding new words and finding if a string matches any previously added string.\n",
    "\n",
    "Implement the `WordDictionary` class:\n",
    "\n",
    "* `WordDictionary()` Initializes the object.\n",
    "* `void addWord(word)` Adds `word` to the data structure, it can be matched later.\n",
    "* `bool search(word)` Returns `true` if there is any string in the data structure that matches `word` or `false` otherwise. `word` may contain dots `'.'` where dots can be matched with any letter.\n",
    " \n",
    "\n",
    "**Example:**\n",
    "```\n",
    "Input\n",
    "[\"WordDictionary\",\"addWord\",\"addWord\",\"addWord\",\"search\",\"search\",\"search\",\"search\"]\n",
    "[[],[\"bad\"],[\"dad\"],[\"mad\"],[\"pad\"],[\"bad\"],[\".ad\"],[\"b..\"]]\n",
    "Output\n",
    "[null,null,null,null,false,true,true,true]\n",
    "\n",
    "Explanation\n",
    "WordDictionary wordDictionary = new WordDictionary();\n",
    "wordDictionary.addWord(\"bad\");\n",
    "wordDictionary.addWord(\"dad\");\n",
    "wordDictionary.addWord(\"mad\");\n",
    "wordDictionary.search(\"pad\"); // return False\n",
    "wordDictionary.search(\"bad\"); // return True\n",
    "wordDictionary.search(\".ad\"); // return True\n",
    "wordDictionary.search(\"b..\"); // return True\n",
    "```\n",
    "\n",
    "**Constraints:**\n",
    "\n",
    "* `1 <= word.length <= 25`\n",
    "* `word` in `addWord` consists of lowercase English letters.\n",
    "* `word` in search consist of `'.'` or lowercase English letters.\n",
    "* There will be at most `2` dots in `word` for `search` queries.\n",
    "* At most `10^4` calls will be made to `addWord` and `search`."
   ]
  },
  {
   "cell_type": "code",
   "execution_count": 23,
   "id": "1c8d35b5-e3f8-46ac-a153-14c26cf537b0",
   "metadata": {},
   "outputs": [],
   "source": [
    "class TrieNode(object):\n",
    "    def __init__(self, x):\n",
    "        self.val = x\n",
    "        self.children = {}\n",
    "        self.is_word = False\n",
    "\n",
    "class WordDictionary:\n",
    "\n",
    "    def __init__(self):\n",
    "        self.root = TrieNode(None)\n",
    "\n",
    "    def addWord(self, word: str) -> None:\n",
    "        cur = self.root\n",
    "        for letter in word:\n",
    "            child = cur.children.get(letter)\n",
    "            if child == None:\n",
    "                child = TrieNode(letter)\n",
    "                cur.children[letter] = child\n",
    "            cur = child\n",
    "\n",
    "        cur.is_word = True\n",
    "        \n",
    "        return\n",
    "\n",
    "    def search(self, word: str) -> bool:\n",
    "        nodes = [self.root]\n",
    "        # cur = self.root\n",
    "        ncount = 1\n",
    "        for letter in word:\n",
    "            for i in range(ncount):\n",
    "                cur = nodes.pop(0)\n",
    "                if letter == '.':\n",
    "                    # add all children\n",
    "                    nodes.extend(cur.children.values())\n",
    "                else:\n",
    "                    child = cur.children.get(letter)\n",
    "                    if child != None:\n",
    "                        nodes.append(child)\n",
    "\n",
    "            ncount = len(nodes)\n",
    "            if ncount == 0:\n",
    "                return False\n",
    "                \n",
    "\n",
    "        found = any([node.is_word for node in nodes])\n",
    "        return found\n",
    "\n",
    "\n",
    "# Your WordDictionary object will be instantiated and called as such:\n",
    "# obj = WordDictionary()\n",
    "# obj.addWord(word)\n",
    "# param_2 = obj.search(word)"
   ]
  },
  {
   "cell_type": "code",
   "execution_count": 33,
   "id": "d43d1018-853b-4ad4-8189-aae69e07a705",
   "metadata": {},
   "outputs": [],
   "source": [
    "# optimization: DFS down each word in trie and return True immediately if condition is met, otherwise check next available path"
   ]
  },
  {
   "cell_type": "code",
   "execution_count": 25,
   "id": "26064971-ec0f-45a5-8697-a67d53b1b791",
   "metadata": {},
   "outputs": [],
   "source": [
    "wordDictionary = WordDictionary();\n",
    "wordDictionary.addWord(\"bad\");\n",
    "wordDictionary.addWord(\"dad\");\n",
    "wordDictionary.addWord(\"mad\");\n",
    "wordDictionary.addWord(\"bar\");\n",
    "# wordDictionary.search(\"pad\"); ## return False\n",
    "# wordDictionary.search(\"bad\"); ## return True\n",
    "# wordDictionary.search(\".ad\"); ## return True\n",
    "# wordDictionary.search(\"b..\"); ## return True"
   ]
  },
  {
   "cell_type": "code",
   "execution_count": 32,
   "id": "c6ddca1f-e1bf-4cdd-899c-5822674252d1",
   "metadata": {},
   "outputs": [
    {
     "data": {
      "text/plain": [
       "False"
      ]
     },
     "execution_count": 32,
     "metadata": {},
     "output_type": "execute_result"
    }
   ],
   "source": [
    "wordDictionary.search(\"b.i\")"
   ]
  },
  {
   "cell_type": "code",
   "execution_count": 16,
   "id": "8bdb4976-358d-4339-8a6c-17dd25bf0ca1",
   "metadata": {},
   "outputs": [],
   "source": [
    "# testd = {'5':5, '3':3}\n",
    "testd = {}"
   ]
  },
  {
   "cell_type": "code",
   "execution_count": 17,
   "id": "1a9fcc8b-3892-41ae-84b4-8ff76f5a2eb1",
   "metadata": {},
   "outputs": [
    {
     "data": {
      "text/plain": [
       "dict_values([])"
      ]
     },
     "execution_count": 17,
     "metadata": {},
     "output_type": "execute_result"
    }
   ],
   "source": [
    "testd.values()"
   ]
  },
  {
   "cell_type": "code",
   "execution_count": 18,
   "id": "ac3e26e7-f3b0-466a-ae81-015b72f92d30",
   "metadata": {},
   "outputs": [],
   "source": [
    "testl = []"
   ]
  },
  {
   "cell_type": "code",
   "execution_count": 19,
   "id": "206dd4d7-646f-4370-8ef3-1d5e90806557",
   "metadata": {},
   "outputs": [],
   "source": [
    "testl.extend(testd.values())"
   ]
  },
  {
   "cell_type": "code",
   "execution_count": 20,
   "id": "798e5c9a-46ce-434d-89a4-0fcf25979ec4",
   "metadata": {},
   "outputs": [
    {
     "data": {
      "text/plain": [
       "[]"
      ]
     },
     "execution_count": 20,
     "metadata": {},
     "output_type": "execute_result"
    }
   ],
   "source": [
    "testl"
   ]
  },
  {
   "cell_type": "markdown",
   "id": "f5e07bc5-71be-42e8-b047-d03baa411be8",
   "metadata": {},
   "source": [
    "## 212. Word Search II\n",
    "\n",
    "leetcode: https://leetcode.com/problems/word-search-ii/"
   ]
  },
  {
   "cell_type": "markdown",
   "id": "0a11665c-cc5c-49c3-adfb-7ec419afd38e",
   "metadata": {},
   "source": [
    "Given an `m x n` board of characters and a list of strings `words`, return **all words on the board**.\n",
    "\n",
    "Each word must be constructed from letters of sequentially adjacent cells, where **adjacent cells** are horizontally or vertically neighboring. The same letter cell may not be used more than once in a word.\n",
    "\n",
    " \n",
    "\n",
    "**Example 1:**\n",
    "\n",
    "![https://assets.leetcode.com/uploads/2020/11/07/search1.jpg](https://assets.leetcode.com/uploads/2020/11/07/search1.jpg)\n",
    "```\n",
    "Input: board = [[\"o\",\"a\",\"a\",\"n\"],[\"e\",\"t\",\"a\",\"e\"],[\"i\",\"h\",\"k\",\"r\"],[\"i\",\"f\",\"l\",\"v\"]], words = [\"oath\",\"pea\",\"eat\",\"rain\"]\n",
    "Output: [\"eat\",\"oath\"]\n",
    "```\n",
    "**Example 2:**\n",
    "\n",
    "```\n",
    "Input: board = [[\"a\",\"b\"],[\"c\",\"d\"]], words = [\"abcb\"]\n",
    "Output: []\n",
    "```\n",
    "\n",
    "**Constraints:**\n",
    "\n",
    "* `m == board.length`\n",
    "* `n == board[i].length`\n",
    "* `1 <= m, n <= 12`\n",
    "* `board[i][j]` is a lowercase English letter.\n",
    "* `1 <= words.length <= 3 * 10^4`\n",
    "* `1 <= words[i].length <= 10`\n",
    "* `words[i]` consists of lowercase English letters.\n",
    "* All the strings of `words` are unique."
   ]
  },
  {
   "cell_type": "code",
   "execution_count": 84,
   "id": "ba3738c2-104d-480e-a88e-6ce9f0ec5b9a",
   "metadata": {},
   "outputs": [],
   "source": [
    "board1 = [[\"o\",\"a\",\"a\",\"n\"],[\"e\",\"t\",\"a\",\"e\"],[\"i\",\"h\",\"k\",\"r\"],[\"i\",\"f\",\"l\",\"v\"]]\n",
    "words1 = [\"oath\",\"pea\",\"eat\",\"rain\"]\n",
    "\n",
    "board2 = [[\"a\",\"b\"],[\"c\",\"d\"]]\n",
    "words2 = [\"abcb\"]\n",
    "\n",
    "board3 = [[\"o\",\"a\",\"a\",\"n\"],[\"e\",\"t\",\"a\",\"e\"],[\"i\",\"h\",\"k\",\"r\"],[\"i\",\"f\",\"l\",\"v\"]]\n",
    "words3 = [\"oath\",\"pea\",\"eat\",\"rain\",\"oathf\"]\n",
    "\n",
    "board4 = [[\"o\",\"a\",\"b\",\"n\"],[\"o\",\"t\",\"a\",\"e\"],[\"a\",\"h\",\"k\",\"r\"],[\"a\",\"f\",\"l\",\"v\"]]\n",
    "words4 = [\"oa\",\"oaa\"]\n",
    "\n",
    "board5 = [[\"o\",\"a\",\"a\",\"n\"],[\"e\",\"t\",\"a\",\"e\"],[\"i\",\"h\",\"k\",\"r\"],[\"i\",\"f\",\"l\",\"v\"]]\n",
    "words5 = [\"oath\",\"pea\",\"eat\",\"rain\",\"hklf\", \"hf\"]"
   ]
  },
  {
   "cell_type": "code",
   "execution_count": 106,
   "id": "bcdd70dc-3ee0-48d7-8799-c77beb574c5a",
   "metadata": {},
   "outputs": [
    {
     "data": {
      "text/plain": [
       "'h'"
      ]
     },
     "execution_count": 106,
     "metadata": {},
     "output_type": "execute_result"
    }
   ],
   "source": [
    "board5[2][1]"
   ]
  },
  {
   "cell_type": "code",
   "execution_count": 128,
   "id": "57d5c80f-f840-4690-bb4f-fb9a88857325",
   "metadata": {},
   "outputs": [],
   "source": [
    "from typing import List, Optional\n",
    "\n",
    "class TrieNode(object):\n",
    "    def __init__(self, x):\n",
    "        self.val = x\n",
    "        self.children = {}\n",
    "        self.is_word = False\n",
    "\n",
    "class Trie:\n",
    "    def __init__(self):\n",
    "        self.root = TrieNode(None)\n",
    "\n",
    "    def insert(self, word: str) -> None:\n",
    "        cur = self.root\n",
    "        for c in word:\n",
    "            child = cur.children.get(c)\n",
    "            if child == None:\n",
    "                child = TrieNode(c)\n",
    "                cur.children[c] = child\n",
    "            \n",
    "            cur = child\n",
    "            \n",
    "        cur.is_word = True\n",
    "\n",
    "class Solution:\n",
    "    def findWords(self, board: List[List[str]], words: List[str]) -> List[str]:\n",
    "        trie = Trie()\n",
    "        for word in words:\n",
    "            trie.insert(word)\n",
    "\n",
    "        ans = set()\n",
    "        for i in range(len(board)):\n",
    "            for j in range(len(board[i])):\n",
    "                visited = set()\n",
    "                path_chars = ''\n",
    "                node = trie.root\n",
    "                self.dfs(board, i, j, path_chars, node, ans, visited)\n",
    "\n",
    "        return ans\n",
    "        \n",
    "    def dfs(self, board, i, j, path_chars, node, ans, visited):\n",
    "        # return if out of bounds\n",
    "        if i < 0 or j < 0 or i >= len(board) or j >= len(board[0]):\n",
    "            return\n",
    "\n",
    "        # return if char is not what we need or already visited i,j\n",
    "        c = board[i][j]\n",
    "        if ((i,j) in visited) or (c not in node.children):\n",
    "            return\n",
    "\n",
    "        # move cur to next trie node, update path, and dfs to neighbors in board\n",
    "        node = node.children.get(c)\n",
    "        path_chars += c\n",
    "        visited.add((i,j))\n",
    "        self.dfs(board, i-1, j, path_chars, node, ans, visited)\n",
    "        self.dfs(board, i, j-1, path_chars, node, ans, visited)\n",
    "        self.dfs(board, i, j+1, path_chars, node, ans, visited)\n",
    "        self.dfs(board, i+1, j, path_chars, node, ans, visited)\n",
    "        visited.remove((i,j))\n",
    "\n",
    "        # add word to answer if path_chars forms a word\n",
    "        if node.is_word:\n",
    "            ans.add(path_chars)\n",
    "        \n",
    "\n",
    "        return \n",
    "        \n",
    "            \n",
    "                \n"
   ]
  },
  {
   "cell_type": "code",
   "execution_count": 129,
   "id": "1a574952-4422-4858-8972-823d82e66c29",
   "metadata": {},
   "outputs": [
    {
     "data": {
      "text/plain": [
       "{'eat', 'hf', 'hklf', 'oath'}"
      ]
     },
     "execution_count": 129,
     "metadata": {},
     "output_type": "execute_result"
    }
   ],
   "source": [
    "soln = Solution()\n",
    "soln.findWords(board5, words5)"
   ]
  },
  {
   "cell_type": "code",
   "execution_count": 122,
   "id": "dee1ce04-0551-4471-92f5-4b3a93a12743",
   "metadata": {},
   "outputs": [],
   "source": [
    "test = soln.findWords(board5, words5)"
   ]
  },
  {
   "cell_type": "code",
   "execution_count": 123,
   "id": "f322e6d6-6250-4e03-98c1-1287646721e5",
   "metadata": {},
   "outputs": [
    {
     "data": {
      "text/plain": [
       "['hklf', 'oath', 'eat']"
      ]
     },
     "execution_count": 123,
     "metadata": {},
     "output_type": "execute_result"
    }
   ],
   "source": [
    "test"
   ]
  },
  {
   "cell_type": "code",
   "execution_count": 102,
   "id": "2044b177-fa4d-4b00-b7ba-c7b0e0f3c7ba",
   "metadata": {},
   "outputs": [
    {
     "data": {
      "text/plain": [
       "True"
      ]
     },
     "execution_count": 102,
     "metadata": {},
     "output_type": "execute_result"
    }
   ],
   "source": [
    "test.root.children['h'].children['f'].is_word"
   ]
  },
  {
   "cell_type": "code",
   "execution_count": 108,
   "id": "294f5a39-6ea3-44e3-bbbc-5aa3bcad2abe",
   "metadata": {},
   "outputs": [
    {
     "data": {
      "text/plain": [
       "True"
      ]
     },
     "execution_count": 108,
     "metadata": {},
     "output_type": "execute_result"
    }
   ],
   "source": [
    "board5[2][1] in test.root.children"
   ]
  },
  {
   "cell_type": "code",
   "execution_count": 60,
   "id": "0b213c20-a455-494a-91ce-be663f8980e6",
   "metadata": {},
   "outputs": [],
   "source": [
    "test = 'a'"
   ]
  },
  {
   "cell_type": "code",
   "execution_count": 61,
   "id": "df960d7f-3336-4df7-abd9-002c083e967e",
   "metadata": {},
   "outputs": [],
   "source": [
    "test += 'b'"
   ]
  },
  {
   "cell_type": "code",
   "execution_count": 62,
   "id": "0c116218-ccb8-4748-8289-3567c56118c4",
   "metadata": {},
   "outputs": [
    {
     "data": {
      "text/plain": [
       "'ab'"
      ]
     },
     "execution_count": 62,
     "metadata": {},
     "output_type": "execute_result"
    }
   ],
   "source": [
    "test"
   ]
  },
  {
   "cell_type": "markdown",
   "id": "b3914d89-8f13-41a3-a91c-47a55af61cb0",
   "metadata": {},
   "source": [
    "## 78. Subsets\n",
    "\n",
    "leetcode: https://leetcode.com/problems/subsets/"
   ]
  },
  {
   "cell_type": "markdown",
   "id": "bfe70d88-843d-45be-b7d0-c3ff6d9b8b9b",
   "metadata": {},
   "source": [
    "Given an integer array `nums` of unique elements, return all possible subsets (the power set). A subset of an array is a selection of elements (possibly none) of the array.\n",
    "\n",
    "The solution set **must not** contain duplicate subsets. Return the solution in **any order**.\n",
    "\n",
    " \n",
    "\n",
    "**Example 1:**\n",
    "```\n",
    "Input: nums = [1,2,3]\n",
    "Output: [[],[1],[2],[1,2],[3],[1,3],[2,3],[1,2,3]]\n",
    "```\n",
    "**Example 2:**\n",
    "```\n",
    "Input: nums = [0]\n",
    "Output: [[],[0]]\n",
    "```\n",
    "\n",
    "**Constraints:**\n",
    "\n",
    "* `1 <= nums.length <= 10`\n",
    "* `-10 <= nums[i] <= 10`\n",
    "* All the numbers of `nums` are unique."
   ]
  },
  {
   "cell_type": "code",
   "execution_count": 1,
   "id": "a44a240e-a418-4d64-b7a2-af693f7e4463",
   "metadata": {},
   "outputs": [],
   "source": [
    "nums1 = [1,2,3]\n",
    "nums2 = [0]"
   ]
  },
  {
   "cell_type": "code",
   "execution_count": 33,
   "id": "8bb6aa80-a738-4983-8dcc-1e2f535d4819",
   "metadata": {},
   "outputs": [],
   "source": [
    "# list comprehension\n",
    "from typing import List, Optional\n",
    "class Solution:\n",
    "    def subsets(self, nums: List[int]) -> List[List[int]]:\n",
    "        ans = [[]]\n",
    "        for n in nums:\n",
    "            ans += [a + [n] for a in ans]\n",
    "\n",
    "        return ans"
   ]
  },
  {
   "cell_type": "code",
   "execution_count": 55,
   "id": "80b04762-e35c-4319-bdec-abb9d5e83eec",
   "metadata": {},
   "outputs": [],
   "source": [
    "# backtracking\n",
    "from typing import List, Optional\n",
    "class Solution:\n",
    "    def subsets(self, nums: List[int]) -> List[List[int]]:\n",
    "        ans = []\n",
    "        subset = []\n",
    "\n",
    "        def dfs(i):\n",
    "            if i >= len(nums):\n",
    "                ans.append(subset.copy())\n",
    "                return\n",
    "\n",
    "            n = nums[i]\n",
    "            # include n\n",
    "            subset.append(n)\n",
    "            dfs(i+1)\n",
    "\n",
    "            # exclude n\n",
    "            subset.pop()\n",
    "            dfs(i+1)\n",
    "\n",
    "        \n",
    "        dfs(0)\n",
    "        return ans"
   ]
  },
  {
   "cell_type": "code",
   "execution_count": 56,
   "id": "4e979086-1555-44ac-a72e-1ed87c4f4bf6",
   "metadata": {},
   "outputs": [
    {
     "data": {
      "text/plain": [
       "[[1, 2, 3], [1, 2], [1, 3], [1], [2, 3], [2], [3], []]"
      ]
     },
     "execution_count": 56,
     "metadata": {},
     "output_type": "execute_result"
    }
   ],
   "source": [
    "soln = Solution()\n",
    "soln.subsets(nums1)"
   ]
  },
  {
   "cell_type": "markdown",
   "id": "ad22fe76-3ffd-4bda-b15a-dd1c33cfe8ec",
   "metadata": {},
   "source": [
    "## 39. Combination Sum\n",
    "\n",
    "leetcode: https://leetcode.com/problems/combination-sum/"
   ]
  },
  {
   "cell_type": "markdown",
   "id": "df831fdf-21ec-4914-8ecc-60c46efdec0c",
   "metadata": {},
   "source": [
    "Given an array of **distinct** integers `candidates` and a target integer `target`, return a **list of all unique combinations** of `candidates` where the chosen numbers sum to `target`. You may return the combinations in **any order**.\n",
    "\n",
    "The same number may be chosen from `candidates` an **unlimited number** of times. Two combinations are unique if the frequency of at least one of the chosen numbers is different.\n",
    "\n",
    "The test cases are generated such that the number of unique combinations that sum up to `target` is less than `150` combinations for the given input.\n",
    "\n",
    " \n",
    "\n",
    "**Example 1:**\n",
    "```\n",
    "Input: candidates = [2,3,6,7], target = 7\n",
    "Output: [[2,2,3],[7]]\n",
    "Explanation:\n",
    "2 and 3 are candidates, and 2 + 2 + 3 = 7. Note that 2 can be used multiple times.\n",
    "7 is a candidate, and 7 = 7.\n",
    "These are the only two combinations.\n",
    "```\n",
    "**Example 2:**\n",
    "```\n",
    "Input: candidates = [2,3,5], target = 8\n",
    "Output: [[2,2,2,2],[2,3,3],[3,5]]\n",
    "```\n",
    "**Example 3:**\n",
    "```\n",
    "Input: candidates = [2], target = 1\n",
    "Output: []\n",
    "```\n",
    "\n",
    "**Constraints:**\n",
    "\n",
    "* `1 <= candidates.length <= 30`\n",
    "* `2 <= candidates[i] <= 40`\n",
    "* All elements of `candidates` are distinct.\n",
    "* `1 <= target <= 40`"
   ]
  },
  {
   "cell_type": "code",
   "execution_count": 1,
   "id": "386a503d-5e41-4f50-98fb-2d5eee8a51e8",
   "metadata": {},
   "outputs": [],
   "source": [
    "candidates1 = [2,3,6,7]\n",
    "target1 = 7\n",
    "\n",
    "candidates2 = [2,3,5]\n",
    "target2 = 8\n",
    "\n",
    "candidates3 = [2]\n",
    "target3 = 1"
   ]
  },
  {
   "cell_type": "code",
   "execution_count": 17,
   "id": "64496075-3fc9-4be5-92e3-478461d937d8",
   "metadata": {},
   "outputs": [],
   "source": [
    "# at each iteration, choose between adding candidate at current index or not including it\n",
    "# decision tree looks like: \n",
    "# 1. left path = all solutions with FIRST candidate[0], right_path = all solutions WITHOUT first candidate[0]\n",
    "# 2. left_path = all solutions with SECOMD candidate[0], right_path = all solutions WITHOUT second candidate[0]\n",
    "# 3. etc...\n",
    "from typing import List, Optional\n",
    "class Solution:\n",
    "    def combinationSum(self, candidates: List[int], target: int) -> List[List[int]]:\n",
    "        ans = []\n",
    "        \n",
    "        def backtrack(vals, idx, target):\n",
    "            if sum(vals) == target:\n",
    "                ans.append(vals)\n",
    "                return\n",
    "\n",
    "            if sum(vals) < target:\n",
    "                # solutions with another copy of candidates[idx]\n",
    "                c = candidates[idx]\n",
    "                backtrack(vals+[c], idx, target)\n",
    "\n",
    "                # try solutions without another copy of candidates[idx]\n",
    "                for i in range(idx+1,len(candidates)):\n",
    "                    c = candidates[i]\n",
    "                    backtrack(vals+[c], i, target)\n",
    "                    \n",
    "                    \n",
    "        backtrack([], 0, target)\n",
    "        return ans"
   ]
  },
  {
   "cell_type": "code",
   "execution_count": 26,
   "id": "51414ed1-0233-4e33-950c-a02c2f50c3f0",
   "metadata": {},
   "outputs": [],
   "source": [
    "# alternate code for similar solution\n",
    "from typing import List, Optional\n",
    "class Solution:\n",
    "    def combinationSum(self, candidates: List[int], target: int) -> List[List[int]]:\n",
    "        ans = []\n",
    "        \n",
    "        def backtrack(vals, idx, total):\n",
    "            if total == target:\n",
    "                ans.append(vals)\n",
    "                return\n",
    "\n",
    "            if idx >= len(candidates) or total > target:\n",
    "                return\n",
    "            \n",
    "            # solutions with another copy of candidates[idx]\n",
    "            c = candidates[idx]\n",
    "            backtrack(vals+[c], idx, total+c)\n",
    "\n",
    "            # try solutions without another copy of candidates[idx]\n",
    "            backtrack(vals.copy(), idx+1, total)\n",
    "                    \n",
    "                    \n",
    "        backtrack([], 0, 0)\n",
    "        return ans"
   ]
  },
  {
   "cell_type": "code",
   "execution_count": 29,
   "id": "303a0429-2e64-4285-ad9a-02cb9f48e19a",
   "metadata": {},
   "outputs": [
    {
     "data": {
      "text/plain": [
       "[[2, 2, 3], [7]]"
      ]
     },
     "execution_count": 29,
     "metadata": {},
     "output_type": "execute_result"
    }
   ],
   "source": [
    "soln = Solution()\n",
    "soln.combinationSum(candidates1, target1)"
   ]
  },
  {
   "cell_type": "code",
   "execution_count": 13,
   "id": "41383514-4e11-4757-a934-6431be156ea9",
   "metadata": {},
   "outputs": [
    {
     "data": {
      "text/plain": [
       "0"
      ]
     },
     "execution_count": 13,
     "metadata": {},
     "output_type": "execute_result"
    }
   ],
   "source": [
    "sum([])"
   ]
  },
  {
   "cell_type": "code",
   "execution_count": 16,
   "id": "8b762269-8516-47d4-88fa-c9dd210f8254",
   "metadata": {},
   "outputs": [],
   "source": [
    "for i in range(6,6):\n",
    "    print(i)"
   ]
  },
  {
   "cell_type": "code",
   "execution_count": 8,
   "id": "bffbcc93-92b0-4248-9b6c-411f309b531a",
   "metadata": {},
   "outputs": [
    {
     "data": {
      "text/plain": [
       "frozenset({1})"
      ]
     },
     "execution_count": 8,
     "metadata": {},
     "output_type": "execute_result"
    }
   ],
   "source": [
    "frozenset((1, 1))"
   ]
  },
  {
   "cell_type": "code",
   "execution_count": null,
   "id": "2bcb2d85-842d-4af0-8af9-38b77be0ad31",
   "metadata": {},
   "outputs": [],
   "source": []
  },
  {
   "cell_type": "markdown",
   "id": "162553b1-a77e-422f-b1e0-491c2bf38172",
   "metadata": {},
   "source": [
    "## 46. Permutations\n",
    "\n",
    "leetcode: https://leetcode.com/problems/permutations/"
   ]
  },
  {
   "cell_type": "markdown",
   "id": "0e80b776-6eae-47a1-82c5-9b1a729b3188",
   "metadata": {},
   "source": [
    "Given an array `nums` of distinct integers, return **all the possible permutations**. You can return the answer in any order.\n",
    "\n",
    " \n",
    "\n",
    "**Example 1:**\n",
    "```\n",
    "Input: nums = [1,2,3]\n",
    "Output: [[1,2,3],[1,3,2],[2,1,3],[2,3,1],[3,1,2],[3,2,1]]\n",
    "```\n",
    "**Example 2:**\n",
    "```\n",
    "Input: nums = [0,1]\n",
    "Output: [[0,1],[1,0]]\n",
    "```\n",
    "**Example 3:**\n",
    "```\n",
    "Input: nums = [1]\n",
    "Output: [[1]]\n",
    "```\n",
    "\n",
    "**Constraints:**\n",
    "\n",
    "* `1 <= nums.length <= 6`\n",
    "* `-10 <= nums[i] <= 10`\n",
    "* All the integers of `nums` are **unique**."
   ]
  },
  {
   "cell_type": "code",
   "execution_count": 12,
   "id": "8b93abe8-098c-4781-9157-ce4faf9330e4",
   "metadata": {},
   "outputs": [],
   "source": [
    "nums1 = [1,2,3]\n",
    "nums2 = [0,1]\n",
    "nums3 = [1]\n",
    "nums4 = [1,2,3,4] # [[1,2,3,4], [1,2,4,3], [1,3,2,4], [1,3,4,2], [1,4,2,3], [1,4,3,2]...]"
   ]
  },
  {
   "cell_type": "code",
   "execution_count": 48,
   "id": "b2b66167-5eb3-405b-a544-6d6022ee0a8b",
   "metadata": {},
   "outputs": [],
   "source": [
    "from typing import List, Optional\n",
    "class Solution:\n",
    "    def permute(self, nums: List[int]) -> List[List[int]]:\n",
    "        ans = []\n",
    "\n",
    "        def perm(nums, p, n):\n",
    "            # update permutation\n",
    "            p.append(n)\n",
    "            newnums = nums.copy()\n",
    "            newnums.remove(n)\n",
    "            \n",
    "            if len(newnums) == 0:\n",
    "                ans.append(p)\n",
    "                return\n",
    "\n",
    "            for n in newnums:\n",
    "                perm(newnums.copy(), p.copy(), n)\n",
    "\n",
    "        for n in nums:\n",
    "            perm(nums.copy(), [], n)\n",
    "            \n",
    "        return ans"
   ]
  },
  {
   "cell_type": "code",
   "execution_count": 51,
   "id": "d49026d5-b408-423a-b175-edea4d99719e",
   "metadata": {},
   "outputs": [],
   "source": [
    "# index rotating solution\n",
    "class Solution:\n",
    "    def permute(self, nums: List[int]) -> List[List[int]]:\n",
    "        def backtrack(nums, path): \n",
    "            if not nums: \n",
    "                result.append(path) \n",
    "                return \n",
    "            for i in range(len(nums)): \n",
    "                backtrack(nums[:i] + nums[i+1:], path + [nums[i]]) \n",
    "        result = [] \n",
    "        backtrack(nums, []) \n",
    "        return result "
   ]
  },
  {
   "cell_type": "code",
   "execution_count": 52,
   "id": "fa4ce74b-74ef-44c8-9e0a-ae3b040be6c3",
   "metadata": {},
   "outputs": [
    {
     "data": {
      "text/plain": [
       "[[1, 2, 3, 4],\n",
       " [1, 2, 4, 3],\n",
       " [1, 3, 2, 4],\n",
       " [1, 3, 4, 2],\n",
       " [1, 4, 2, 3],\n",
       " [1, 4, 3, 2],\n",
       " [2, 1, 3, 4],\n",
       " [2, 1, 4, 3],\n",
       " [2, 3, 1, 4],\n",
       " [2, 3, 4, 1],\n",
       " [2, 4, 1, 3],\n",
       " [2, 4, 3, 1],\n",
       " [3, 1, 2, 4],\n",
       " [3, 1, 4, 2],\n",
       " [3, 2, 1, 4],\n",
       " [3, 2, 4, 1],\n",
       " [3, 4, 1, 2],\n",
       " [3, 4, 2, 1],\n",
       " [4, 1, 2, 3],\n",
       " [4, 1, 3, 2],\n",
       " [4, 2, 1, 3],\n",
       " [4, 2, 3, 1],\n",
       " [4, 3, 1, 2],\n",
       " [4, 3, 2, 1]]"
      ]
     },
     "execution_count": 52,
     "metadata": {},
     "output_type": "execute_result"
    }
   ],
   "source": [
    "soln = Solution()\n",
    "soln.permute(nums4)"
   ]
  },
  {
   "cell_type": "code",
   "execution_count": null,
   "id": "3a946a76-cf7e-4d1a-8caf-e3057b3e4443",
   "metadata": {},
   "outputs": [],
   "source": []
  },
  {
   "cell_type": "markdown",
   "id": "82168902-fa5b-4b08-bf10-cb80528f213c",
   "metadata": {},
   "source": [
    "## 90. Subsets II\n",
    "\n",
    "\n",
    "leetcode: https://leetcode.com/problems/subsets-ii/"
   ]
  },
  {
   "cell_type": "markdown",
   "id": "c5aab885-1528-4f15-be39-27733dd02a76",
   "metadata": {},
   "source": [
    "Given an integer array `nums` that may contain duplicates, return **all possible subsets** (the power set).\n",
    "\n",
    "The solution set **must not** contain duplicate subsets. Return the solution **in any order**.\n",
    "\n",
    " \n",
    "\n",
    "**Example 1:**\n",
    "```\n",
    "Input: nums = [1,2,2]\n",
    "Output: [[],[1],[1,2],[1,2,2],[2],[2,2]]\n",
    "```\n",
    "**Example 2:**\n",
    "```\n",
    "Input: nums = [0]\n",
    "Output: [[],[0]]\n",
    "```\n",
    "\n",
    "**Constraints:**\n",
    "\n",
    "* `1 <= nums.length <= 10`\n",
    "* `-10 <= nums[i] <= 10`"
   ]
  },
  {
   "cell_type": "code",
   "execution_count": 8,
   "id": "df322433-470c-4b24-af3c-7115331fc272",
   "metadata": {},
   "outputs": [],
   "source": [
    "nums1 = [1,2,2]\n",
    "nums2 = [0]\n",
    "nums3 = [4,4,4,1,4] # [[],[1],[1,4],[1,4,4],[1,4,4,4],[1,4,4,4,4],[4],[4,4],[4,4,4],[4,4,4,4]]"
   ]
  },
  {
   "cell_type": "code",
   "execution_count": 9,
   "id": "e79af465-e2e1-4476-9e3e-83abc8c10f2b",
   "metadata": {},
   "outputs": [],
   "source": [
    "from typing import List, Optional\n",
    "class Solution:\n",
    "    def subsetsWithDup(self, nums: List[int]) -> List[List[int]]:\n",
    "        ans = set()\n",
    "        idx = 0\n",
    "        subset = []\n",
    "        \n",
    "        def dfs(idx):\n",
    "            if idx >= len(nums):\n",
    "                ans.add(tuple(subset))\n",
    "                return \n",
    "\n",
    "            # add next item\n",
    "            subset.append(nums[idx])\n",
    "            dfs(idx+1)\n",
    "\n",
    "            #add nothing\n",
    "            subset.pop()\n",
    "            dfs(idx+1)\n",
    "\n",
    "        nums = sorted(nums)\n",
    "        \n",
    "        dfs(0)\n",
    "        return [list(a) for a in ans]"
   ]
  },
  {
   "cell_type": "code",
   "execution_count": 10,
   "id": "09ccf16d-5057-4526-b1a7-9d714f3aca9c",
   "metadata": {},
   "outputs": [
    {
     "data": {
      "text/plain": [
       "[[1, 4, 4, 4, 4],\n",
       " [4, 4],\n",
       " [1, 4, 4],\n",
       " [4, 4, 4, 4],\n",
       " [1, 4],\n",
       " [4],\n",
       " [4, 4, 4],\n",
       " [1],\n",
       " [1, 4, 4, 4],\n",
       " []]"
      ]
     },
     "execution_count": 10,
     "metadata": {},
     "output_type": "execute_result"
    }
   ],
   "source": [
    "soln = Solution()\n",
    "soln.subsetsWithDup(nums3)"
   ]
  },
  {
   "cell_type": "markdown",
   "id": "96d6b377-648c-4972-bfc6-15b82feb5da5",
   "metadata": {},
   "source": [
    "## 40. Combination Sum II\n",
    "\n",
    "\n",
    "leetcode: https://leetcode.com/problems/combination-sum-ii/"
   ]
  },
  {
   "cell_type": "markdown",
   "id": "3989a55e-9d74-4f69-a641-6dc924d585d3",
   "metadata": {},
   "source": [
    "Given a collection of candidate numbers (`candidates`) and a target number (`target`), find all unique combinations in `candidates` where the candidate numbers sum to `target`.\n",
    "\n",
    "Each number in `candidates` may only be used **once** in the combination.\n",
    "\n",
    "**Note**: The solution set must not contain duplicate combinations.\n",
    "\n",
    " \n",
    "\n",
    "**Example 1:**\n",
    "```\n",
    "Input: candidates = [10,1,2,7,6,1,5], target = 8\n",
    "Output: \n",
    "[\n",
    "[1,1,6],\n",
    "[1,2,5],\n",
    "[1,7],\n",
    "[2,6]\n",
    "]\n",
    "```\n",
    "**Example 2:**\n",
    "```\n",
    "Input: candidates = [2,5,2,1,2], target = 5\n",
    "Output: \n",
    "[\n",
    "[1,2,2],\n",
    "[5]\n",
    "]\n",
    "```\n",
    "\n",
    "**Constraints:**\n",
    "\n",
    "* `1 <= candidates.length <= 100`\n",
    "* `1 <= candidates[i] <= 50`\n",
    "* `1 <= target <= 30`"
   ]
  },
  {
   "cell_type": "code",
   "execution_count": 3,
   "id": "1b7ab98f-8689-497f-9c45-d57aef4c263a",
   "metadata": {},
   "outputs": [],
   "source": [
    "candidates1 = [10,1,2,7,6,1,5]\n",
    "target1 = 8\n",
    "\n",
    "candidates2 = [2,5,2,1,2]\n",
    "target2 = 5\n",
    "\n",
    "candidates3 = [1,1,1,1,1,1,1,1,1,1,1,1,1,1,1,1,1,1,1,1,1,1,1,1,1]\n",
    "target3 = 27"
   ]
  },
  {
   "cell_type": "code",
   "execution_count": 4,
   "id": "eb3d5177-1c33-4b9a-acc1-30813c517a5b",
   "metadata": {},
   "outputs": [],
   "source": [
    "# backtracking (TLE)\n",
    "from typing import List, Optional\n",
    "class Solution:\n",
    "    def combinationSum2(self, candidates: List[int], target: int) -> List[List[int]]:\n",
    "        ans = set()\n",
    "        subset = []\n",
    "        \n",
    "        def dfs(i):\n",
    "            if i >= len(candidates):\n",
    "                if sum(subset) == target:\n",
    "                    candidate = tuple(sorted(subset))\n",
    "                    ans.add(candidate)\n",
    "                return\n",
    "\n",
    "            n = candidates[i]\n",
    "            # subset including n\n",
    "            subset.append(n)\n",
    "            dfs(i+1)\n",
    "\n",
    "            subset.pop()\n",
    "            dfs(i+1)\n",
    "\n",
    "        \n",
    "        dfs(0)\n",
    "        return [list(a) for a in ans]"
   ]
  },
  {
   "cell_type": "code",
   "execution_count": 5,
   "id": "addeb5d2-e5b2-4d33-8292-f910a7ff510c",
   "metadata": {},
   "outputs": [
    {
     "data": {
      "text/plain": [
       "[]"
      ]
     },
     "execution_count": 5,
     "metadata": {},
     "output_type": "execute_result"
    }
   ],
   "source": [
    "soln = Solution()\n",
    "soln.combinationSum2(candidates3, target3)"
   ]
  },
  {
   "cell_type": "markdown",
   "id": "56f37bb0-7d6e-40a9-a0ac-6ea6d8416a18",
   "metadata": {},
   "source": [
    "## 79. Word Search\n",
    "\n",
    "\n",
    "leetcode: https://leetcode.com/problems/word-search/"
   ]
  },
  {
   "cell_type": "markdown",
   "id": "973ff7fd-59c8-4a29-83cf-00d966404b8f",
   "metadata": {},
   "source": [
    "Given an `m x n` grid of characters `board` and a string `word`, return `true` if `word` exists in the grid.\n",
    "\n",
    "The word can be constructed from letters of sequentially adjacent cells, where adjacent cells are horizontally or vertically neighboring. The same letter cell may not be used more than once.\n",
    "\n",
    " \n",
    "\n",
    "**Example 1:**\n",
    "\n",
    "![https://assets.leetcode.com/uploads/2020/11/04/word2.jpg](https://assets.leetcode.com/uploads/2020/11/04/word2.jpg)\n",
    "```\n",
    "Input: board = [[\"A\",\"B\",\"C\",\"E\"],[\"S\",\"F\",\"C\",\"S\"],[\"A\",\"D\",\"E\",\"E\"]], word = \"ABCCED\"\n",
    "Output: true\n",
    "```\n",
    "**Example 2:**\n",
    "\n",
    "![https://assets.leetcode.com/uploads/2020/11/04/word-1.jpg](https://assets.leetcode.com/uploads/2020/11/04/word-1.jpg)\n",
    "```\n",
    "Input: board = [[\"A\",\"B\",\"C\",\"E\"],[\"S\",\"F\",\"C\",\"S\"],[\"A\",\"D\",\"E\",\"E\"]], word = \"SEE\"\n",
    "Output: true\n",
    "```\n",
    "**Example 3:**\n",
    "\n",
    "![https://assets.leetcode.com/uploads/2020/10/15/word3.jpg](https://assets.leetcode.com/uploads/2020/10/15/word3.jpg)\n",
    "```\n",
    "Input: board = [[\"A\",\"B\",\"C\",\"E\"],[\"S\",\"F\",\"C\",\"S\"],[\"A\",\"D\",\"E\",\"E\"]], word = \"ABCB\"\n",
    "Output: false\n",
    "```\n",
    "\n",
    "**Constraints:**\n",
    "\n",
    "* `m == board.length`\n",
    "* `n = board[i].length`\n",
    "* `1 <= m, n <= 6`\n",
    "* `1 <= word.length <= 15`\n",
    "* `board` and `word` consists of only lowercase and uppercase English letters.\n",
    "\n",
    "**Follow up**: Could you use search pruning to make your solution faster with a larger `board`?"
   ]
  },
  {
   "cell_type": "code",
   "execution_count": 64,
   "id": "80349c78-b061-4109-9ae2-e8921afccb2d",
   "metadata": {},
   "outputs": [],
   "source": [
    "board1 = [[\"A\",\"B\",\"C\",\"E\"],[\"S\",\"F\",\"C\",\"S\"],[\"A\",\"D\",\"E\",\"E\"]]\n",
    "word1 = \"ABCCED\"\n",
    "\n",
    "board2 = [[\"A\",\"B\",\"C\",\"E\"],[\"S\",\"F\",\"C\",\"S\"],[\"A\",\"D\",\"E\",\"E\"]]\n",
    "word2 = \"SEE\"\n",
    "\n",
    "board3 = [[\"A\",\"B\",\"C\",\"E\"],[\"S\",\"F\",\"C\",\"S\"],[\"A\",\"D\",\"E\",\"E\"]]\n",
    "word3 = \"ABCB\"\n",
    "\n",
    "board4 = [[\"A\",\"B\",\"C\",\"E\"],[\"S\",\"F\",\"E\",\"S\"],[\"A\",\"D\",\"E\",\"E\"]]\n",
    "word4 = \"ABCESEEEFS\""
   ]
  },
  {
   "cell_type": "code",
   "execution_count": 72,
   "id": "5f7f5012-20e5-4c23-87d5-3e5e5faac9c0",
   "metadata": {},
   "outputs": [],
   "source": [
    "from typing import List, Optional\n",
    "class Solution:\n",
    "    def exist(self, board: List[List[str]], word: str) -> bool:\n",
    "        self.ans = False\n",
    "        \n",
    "        def dfs(board, word, i, j, k):\n",
    "            # check bounds of board\n",
    "            if (i < 0) or (j < 0) or (i >= len(board)) or (j >= len(board[i])) or k >= len(word):\n",
    "                return\n",
    "\n",
    "            # check for valid char\n",
    "            if (i,j) not in visited and (board[i][j] == word[k]):\n",
    "                # word found\n",
    "                if k == len(word)-1:\n",
    "                    self.ans = True\n",
    "                    return \n",
    "\n",
    "                # check neighbors for next letter in word\n",
    "                visited.add((i,j))\n",
    "                dfs(board, word, i-1, j, k+1)\n",
    "                \n",
    "                dfs(board, word, i, j-1, k+1)\n",
    "                dfs(board, word, i, j+1, k+1)\n",
    "                dfs(board, word, i+1, j, k+1)\n",
    "                visited.remove((i,j))\n",
    "            \n",
    "        \n",
    "        for i in range(len(board)):\n",
    "            for j in range(len(board[0])):\n",
    "                visited = set()\n",
    "                dfs(board, word, i, j, 0)\n",
    "\n",
    "        return self.ans"
   ]
  },
  {
   "cell_type": "code",
   "execution_count": 71,
   "id": "522e723e-a9aa-4f3c-a8c9-13640e406f4c",
   "metadata": {},
   "outputs": [
    {
     "data": {
      "text/plain": [
       "True"
      ]
     },
     "execution_count": 71,
     "metadata": {},
     "output_type": "execute_result"
    }
   ],
   "source": [
    "soln = Solution()\n",
    "soln.exist(board4,word4)"
   ]
  },
  {
   "cell_type": "code",
   "execution_count": 38,
   "id": "6bae9818-2cc2-4dad-a90a-d265f9f93685",
   "metadata": {},
   "outputs": [
    {
     "data": {
      "text/plain": [
       "True"
      ]
     },
     "execution_count": 38,
     "metadata": {},
     "output_type": "execute_result"
    }
   ],
   "source": [
    "board1[0][0] == word1[0]"
   ]
  },
  {
   "cell_type": "code",
   "execution_count": 41,
   "id": "916cb80a-fc2c-432e-983a-2382a158f522",
   "metadata": {},
   "outputs": [
    {
     "data": {
      "text/plain": [
       "'D'"
      ]
     },
     "execution_count": 41,
     "metadata": {},
     "output_type": "execute_result"
    }
   ],
   "source": [
    "word1[5]"
   ]
  },
  {
   "cell_type": "markdown",
   "id": "172f2fbd-4341-476a-a6a0-0fad6b9bec1e",
   "metadata": {},
   "source": [
    "## 131. Palindrome Partitioning\n",
    "\n",
    "\n",
    "leetcode: https://leetcode.com/problems/palindrome-partitioning/"
   ]
  },
  {
   "cell_type": "markdown",
   "id": "8babaed8-31f0-46e9-9c36-ecb92d2e76b9",
   "metadata": {},
   "source": [
    "Given a string `s`, partition `s` such that every substring of the partition is a **palindrome**. (A palindrome is a string that reads the same forward and backward.) Return all possible palindrome partitioning of `s`.\n",
    "\n",
    " \n",
    "\n",
    "**Example 1:**\n",
    "```\n",
    "Input: s = \"aab\"\n",
    "Output: [[\"a\",\"a\",\"b\"],[\"aa\",\"b\"]]\n",
    "```\n",
    "**Example 2:**\n",
    "```\n",
    "Input: s = \"a\"\n",
    "Output: [[\"a\"]]\n",
    "```\n",
    "\n",
    "**Constraints:**\n",
    "\n",
    "* `1 <= s.length <= 16`\n",
    "* `s` contains only lowercase English letters."
   ]
  },
  {
   "cell_type": "code",
   "execution_count": 16,
   "id": "dabf5a1b-ec24-45af-8893-8d7e6fbe1415",
   "metadata": {},
   "outputs": [],
   "source": [
    "s1 = \"aab\"\n",
    "s2 = \"a\"\n",
    "s3 = \"aaaaa\""
   ]
  },
  {
   "cell_type": "code",
   "execution_count": 57,
   "id": "e6bccd77-5c75-4ca0-a8cf-e506465e61e3",
   "metadata": {},
   "outputs": [],
   "source": [
    "from typing import List\n",
    "class Solution:\n",
    "    def partition(self, s: str) -> List[List[str]]:\n",
    "        ans = []\n",
    "        slices = []\n",
    "        def is_palindrome(s):\n",
    "            return s == s[::-1]\n",
    "            \n",
    "        def backtrack(s):\n",
    "            if len(s) == 0:\n",
    "                ans.append(slices.copy())\n",
    "                return\n",
    "\n",
    "            for i in range(1,len(s)+1):\n",
    "                prefix = s[:i]\n",
    "                suffix = s[i:]\n",
    "                if is_palindrome(prefix):\n",
    "                    slices.append(prefix)\n",
    "                    backtrack(suffix)\n",
    "                    slices.pop()\n",
    "\n",
    "\n",
    "        backtrack(s)\n",
    "        return ans"
   ]
  },
  {
   "cell_type": "code",
   "execution_count": null,
   "id": "f086dd05-bae2-4ace-a915-3c3732406c9c",
   "metadata": {},
   "outputs": [],
   "source": [
    "# ['a', 'a', 'b']"
   ]
  },
  {
   "cell_type": "code",
   "execution_count": 58,
   "id": "ba20b41e-b947-41f4-a2e3-2567d26d0131",
   "metadata": {},
   "outputs": [
    {
     "data": {
      "text/plain": [
       "[['a', 'a', 'a', 'a', 'a'],\n",
       " ['a', 'a', 'a', 'aa'],\n",
       " ['a', 'a', 'aa', 'a'],\n",
       " ['a', 'a', 'aaa'],\n",
       " ['a', 'aa', 'a', 'a'],\n",
       " ['a', 'aa', 'aa'],\n",
       " ['a', 'aaa', 'a'],\n",
       " ['a', 'aaaa'],\n",
       " ['aa', 'a', 'a', 'a'],\n",
       " ['aa', 'a', 'aa'],\n",
       " ['aa', 'aa', 'a'],\n",
       " ['aa', 'aaa'],\n",
       " ['aaa', 'a', 'a'],\n",
       " ['aaa', 'aa'],\n",
       " ['aaaa', 'a'],\n",
       " ['aaaaa']]"
      ]
     },
     "execution_count": 58,
     "metadata": {},
     "output_type": "execute_result"
    }
   ],
   "source": [
    "soln = Solution()\n",
    "soln.partition(s3)"
   ]
  },
  {
   "cell_type": "code",
   "execution_count": 20,
   "id": "e9ae31a4-8fd9-4827-9b33-6613fc887f8a",
   "metadata": {},
   "outputs": [
    {
     "data": {
      "text/plain": [
       "1"
      ]
     },
     "execution_count": 20,
     "metadata": {},
     "output_type": "execute_result"
    }
   ],
   "source": [
    "len('a')"
   ]
  },
  {
   "cell_type": "code",
   "execution_count": 23,
   "id": "1dc70897-ac72-426a-b624-b777afed9829",
   "metadata": {},
   "outputs": [
    {
     "data": {
      "text/plain": [
       "0"
      ]
     },
     "execution_count": 23,
     "metadata": {},
     "output_type": "execute_result"
    }
   ],
   "source": [
    "len('a'[1:])"
   ]
  },
  {
   "cell_type": "code",
   "execution_count": null,
   "id": "aef08437-fa3c-4b80-9bb5-7999ea3b5062",
   "metadata": {},
   "outputs": [],
   "source": []
  },
  {
   "cell_type": "markdown",
   "id": "f8269b68-553e-4c1d-b008-2fae5ecec763",
   "metadata": {},
   "source": [
    "## \n",
    "\n",
    "\n",
    "leetcode: https://leetcode.com/problems/letter-combinations-of-a-phone-number/"
   ]
  },
  {
   "cell_type": "markdown",
   "id": "7b49df97-1fd2-463a-a8db-b6c174453a30",
   "metadata": {},
   "source": [
    "Given a string containing digits from `2-9` inclusive, return all possible letter combinations that the number could represent. Return the answer in **any order**.\n",
    "\n",
    "A mapping of digits to letters (just like on the telephone buttons) is given below. Note that 1 does not map to any letters.\n",
    "\n",
    "\n",
    " \n",
    "\n",
    "**Example 1:**\n",
    "\n",
    "![https://assets.leetcode.com/uploads/2022/03/15/1200px-telephone-keypad2svg.png](https://assets.leetcode.com/uploads/2022/03/15/1200px-telephone-keypad2svg.png)\n",
    "```\n",
    "Input: digits = \"23\"\n",
    "Output: [\"ad\",\"ae\",\"af\",\"bd\",\"be\",\"bf\",\"cd\",\"ce\",\"cf\"]\n",
    "```\n",
    "**Example 2:**\n",
    "```\n",
    "Input: digits = \"\"\n",
    "Output: []\n",
    "```\n",
    "**Example 3:**\n",
    "```\n",
    "Input: digits = \"2\"\n",
    "Output: [\"a\",\"b\",\"c\"]\n",
    "```\n",
    "\n",
    "**Constraints:**\n",
    "\n",
    "* `0 <= digits.length <= 4`\n",
    "* `digits[i]` is a digit in the range `['2', '9']`."
   ]
  },
  {
   "cell_type": "code",
   "execution_count": 16,
   "id": "c5878cb0-bcef-4bc3-989c-4fb8907c6f1c",
   "metadata": {},
   "outputs": [],
   "source": [
    "digits1 = \"23\"\n",
    "digits2 = \"\"\n",
    "digits3 = \"2\"\n",
    "digits4 = \"2759\""
   ]
  },
  {
   "cell_type": "code",
   "execution_count": 27,
   "id": "18685f59-83ce-4906-b4bf-35585df1feaa",
   "metadata": {},
   "outputs": [],
   "source": [
    "# backtracking\n",
    "from typing import List\n",
    "class Solution:\n",
    "    def letterCombinations(self, digits: str) -> List[str]:\n",
    "        digits_to_letters = {\n",
    "            '2': ['a', 'b', 'c'],\n",
    "            '3': ['d', 'e', 'f'],\n",
    "            '4': ['g', 'h', 'i'],\n",
    "            '5': ['j', 'k', 'l'],\n",
    "            '6': ['m', 'n', 'o'],\n",
    "            '7': ['p', 'q', 'r', 's'],\n",
    "            '8': ['t', 'u', 'v'],\n",
    "            '9': ['w', 'x', 'y', 'z']\n",
    "        }\n",
    "        ans = []\n",
    "        \n",
    "        def backtrack(digits_to_letters, letters, digits, i):\n",
    "            if i >= len(digits):\n",
    "                if letters != '':\n",
    "                    ans.append(letters)\n",
    "                return\n",
    "            \n",
    "            d = digits[i]\n",
    "            for c in digits_to_letters[d]:\n",
    "                newletters = letters + c\n",
    "                backtrack(digits_to_letters, newletters, digits, i+1)\n",
    "            \n",
    "            return\n",
    "\n",
    "        letters = ''\n",
    "        backtrack(digits_to_letters, letters, digits, 0)\n",
    "        return ans"
   ]
  },
  {
   "cell_type": "code",
   "execution_count": 32,
   "id": "7393758c-2b24-41b7-a078-8075f25780ee",
   "metadata": {},
   "outputs": [],
   "source": [
    "# more concise code backtracking\n",
    "from typing import List\n",
    "class Solution:\n",
    "    def letterCombinations(self, digits: str) -> List[str]:\n",
    "        digits_to_letters = {\n",
    "            '2': 'abc',\n",
    "            '3': 'def',\n",
    "            '4': 'ghi',\n",
    "            '5': 'jkl',\n",
    "            '6': 'mno',\n",
    "            '7': 'pqrs',\n",
    "            '8': 'tuv',\n",
    "            '9': 'wxyz'\n",
    "        }\n",
    "        ans = []\n",
    "        \n",
    "        def backtrack(letters, i):\n",
    "            if i >= len(digits):\n",
    "                ans.append(letters)\n",
    "                return\n",
    "            \n",
    "            d = digits[i]\n",
    "            for c in digits_to_letters[d]:\n",
    "                backtrack(letters + c, i+1)\n",
    "            \n",
    "            return\n",
    "\n",
    "        if digits != '':\n",
    "            backtrack('', 0)\n",
    "        return ans"
   ]
  },
  {
   "cell_type": "code",
   "execution_count": 34,
   "id": "6845be60-6d39-4c29-8749-74465e41a225",
   "metadata": {},
   "outputs": [
    {
     "data": {
      "text/plain": [
       "[]"
      ]
     },
     "execution_count": 34,
     "metadata": {},
     "output_type": "execute_result"
    }
   ],
   "source": [
    "soln = Solution()\n",
    "soln.letterCombinations(digits2)"
   ]
  },
  {
   "cell_type": "markdown",
   "id": "b367a5c4-1518-49f7-af22-a053a48cfeda",
   "metadata": {},
   "source": [
    "## 51. N-Queens\n",
    "\n",
    "\n",
    "leetcode: https://leetcode.com/problems/n-queens/"
   ]
  },
  {
   "cell_type": "markdown",
   "id": "6360b6a1-1969-4b84-b440-588785234bcd",
   "metadata": {},
   "source": [
    "The **n-queens** puzzle is the problem of placing `n` queens on an `n x n` chessboard such that no two queens attack each other.\n",
    "\n",
    "Given an integer `n`, return all **distinct** solutions to the **n-queens puzzle**. You may return the answer in **any order**.\n",
    "\n",
    "Each solution contains a distinct board configuration of the n-queens' placement, where `'Q'` and `'.'` both indicate a queen and an empty space, respectively.\n",
    "\n",
    " \n",
    "\n",
    "**Example 1:**\n",
    "\n",
    "![https://assets.leetcode.com/uploads/2020/11/13/queens.jpg](https://assets.leetcode.com/uploads/2020/11/13/queens.jpg)\n",
    "```\n",
    "Input: n = 4\n",
    "Output: [[\".Q..\",\"...Q\",\"Q...\",\"..Q.\"],[\"..Q.\",\"Q...\",\"...Q\",\".Q..\"]]\n",
    "Explanation: There exist two distinct solutions to the 4-queens puzzle as shown above\n",
    "```\n",
    "**Example 2:**\n",
    "```\n",
    "Input: n = 1\n",
    "Output: [[\"Q\"]]\n",
    "```\n",
    "\n",
    "**Constraints:**\n",
    "\n",
    "* `1 <= n <= 9`"
   ]
  },
  {
   "cell_type": "code",
   "execution_count": 36,
   "id": "a12beb3b-3db6-4a7d-b125-befe574ae7f6",
   "metadata": {},
   "outputs": [],
   "source": [
    "n1 = 4\n",
    "n2 = 1"
   ]
  },
  {
   "cell_type": "code",
   "execution_count": 24,
   "id": "4c3ae92c-656d-411a-877b-8a3799ed7bbf",
   "metadata": {},
   "outputs": [],
   "source": [
    "# not working solution\n",
    "# from typing import List\n",
    "# class Solution:\n",
    "#     def solveNQueens(self, n: int) -> List[List[str]]:\n",
    "#         ans = []\n",
    "        \n",
    "#         def place_queen(i):\n",
    "#             if i >= n:\n",
    "#                 ans.append([''.join(row) for row in board])\n",
    "#                 print('solution found!', board)\n",
    "#                 return\n",
    "\n",
    "#             for j in range(3):\n",
    "#                 if (board[i][j] == '#') or (board[i][j] == 'Q'):\n",
    "#                     continue\n",
    "\n",
    "#                 if (i < 0) or (j < 0) or (i >= len(board)) or (j >= len(board[0])):\n",
    "#                     continue\n",
    "                    \n",
    "#                 # place next queen\n",
    "#                 board[i][j] = 'Q'\n",
    "#                 # block spaces\n",
    "#                 for k in range(1,n):\n",
    "#                     block_spaces(i+k, j,   '#')\n",
    "#                     # block_spaces(i-k, j,   '#')\n",
    "#                     block_spaces(i  , j+k, '#')\n",
    "#                     block_spaces(i  , j-k, '#')\n",
    "#                     # diagonals \n",
    "#                     block_spaces(i+k, j+k, '#')\n",
    "#                     block_spaces(i+k, j-k, '#')\n",
    "#                     # block_spaces(i-k, j+k, '#')\n",
    "#                     # block_spaces(i-k, j-k, '#')\n",
    "#                 print('blocked board:', board)\n",
    "\n",
    "#                 place_queen(i+1)\n",
    "\n",
    "#                 # remove queen\n",
    "#                 board[i][j] = '.'\n",
    "#                 # unblock spaces\n",
    "#                 for k in range(1,n):\n",
    "#                     block_spaces(i+k, j,   '.')\n",
    "#                     # block_spaces(i-k, j,   '.')\n",
    "#                     block_spaces(i  , j+k, '.')\n",
    "#                     block_spaces(i  , j-k, '.')\n",
    "#                     # diagonals \n",
    "#                     block_spaces(i+k, j+k, '.')\n",
    "#                     block_spaces(i+k, j-k, '.')\n",
    "#                     # block_spaces(i-k, j+k, '.')\n",
    "#                     # block_spaces(i-k, j-k, '.')\n",
    "#                 print('unblocked board:', board)\n",
    " \n",
    "#         def block_spaces(i, j, c):\n",
    "#             if (i < 0) or (j < 0) or (i >= n) or (j >= n):\n",
    "#                 return\n",
    "\n",
    "#             if (board[i][j] != 'Q'):\n",
    "#                 board[i][j] = c\n",
    "#             return\n",
    "\n",
    "#         # repeat this and check if is a solution\n",
    "#         board = [['.']*n for _ in range(n)]\n",
    "#         place_queen(0)\n",
    "                \n",
    "            \n",
    "#         return ans"
   ]
  },
  {
   "cell_type": "code",
   "execution_count": 25,
   "id": "d0ee15ff-251c-4699-9d26-3c8088b74cc1",
   "metadata": {},
   "outputs": [],
   "source": [
    "from typing import List\n",
    "class Solution:\n",
    "    def solveNQueens(self, n: int) -> List[List[str]]:\n",
    "        ans = []\n",
    "        cols = set()\n",
    "        negdiag = set() # (r - c) are the same e.g. [(0,0), (1,1)], [(0,1), (1,2)], etc\n",
    "        posdiag = set() # (r + c) are the same e.g. [(0,3), (1,2)], [(0,2), (1,1)], etc\n",
    "\n",
    "        # attempt to place a queen in each row using the criteria\n",
    "        def place_queen(r):\n",
    "            if r >= n:\n",
    "                # print('adding solution')\n",
    "                ans.append([''.join(row) for row in board])\n",
    "                return\n",
    "\n",
    "            # loop through each column of current row and only recurse if valid spot is found\n",
    "            for c in range(n):\n",
    "                # print('checking position:', r, ',', c)\n",
    "\n",
    "                # check if attacked by existing queen\n",
    "                if (c in cols) or (r-c in negdiag) or (r+c in posdiag):\n",
    "                    continue\n",
    "\n",
    "                # print('queen in', r, ',', c)\n",
    "                board[r][c] = 'Q'\n",
    "                cols.add(c)\n",
    "                negdiag.add(r-c)\n",
    "                posdiag.add(r+c)\n",
    "\n",
    "                # recurse to next row\n",
    "                # print('recursing to next row')\n",
    "                place_queen(r+1)\n",
    "\n",
    "                # remove queen to continue checking rest of currenet row\n",
    "                board[r][c] = '.'\n",
    "                cols.remove(c)\n",
    "                negdiag.remove(r-c)\n",
    "                posdiag.remove(r+c)\n",
    "            \n",
    "\n",
    "        \n",
    "\n",
    "        board = [['.']*n for _ in range(n)]\n",
    "        place_queen(0)\n",
    "        return ans"
   ]
  },
  {
   "cell_type": "code",
   "execution_count": 26,
   "id": "6e5f5a53-c113-4a02-85ea-fc718f8f991c",
   "metadata": {},
   "outputs": [
    {
     "data": {
      "text/plain": [
       "[['.Q..', '...Q', 'Q...', '..Q.'], ['..Q.', 'Q...', '...Q', '.Q..']]"
      ]
     },
     "execution_count": 26,
     "metadata": {},
     "output_type": "execute_result"
    }
   ],
   "source": [
    "soln = Solution()\n",
    "soln.solveNQueens(4)"
   ]
  },
  {
   "cell_type": "code",
   "execution_count": null,
   "id": "89fe3fa3-b956-46ca-a44f-9ff664377cd9",
   "metadata": {},
   "outputs": [],
   "source": []
  },
  {
   "cell_type": "markdown",
   "id": "9d090e11-b142-4bd5-800c-6081cb1dd3c1",
   "metadata": {},
   "source": [
    "Backtracking solutions:\n",
    "\n",
    "https://leetcode.com/problems/letter-combinations-of-a-phone-number/solutions/780232/backtracking-python-problems-solutions-interview-prep/"
   ]
  },
  {
   "cell_type": "markdown",
   "id": "737a2ee1-de01-46fa-a00a-04282433bbe3",
   "metadata": {},
   "source": [
    "# Heap / Priority Queue"
   ]
  },
  {
   "cell_type": "markdown",
   "id": "1854f08b-1c22-4b6a-8d9d-d3e929ff2e82",
   "metadata": {},
   "source": [
    "## 703. Kth Largest Element in a Stream\n",
    "\n",
    "leetcode: https://leetcode.com/problems/kth-largest-element-in-a-stream/"
   ]
  },
  {
   "cell_type": "markdown",
   "id": "25b26044-3373-483a-bb0f-33d9570e7f6f",
   "metadata": {},
   "source": [
    "Design a class to find the `kth` largest element in a stream. Note that it is the `kth` largest element in the sorted order, not the `kth` distinct element.\n",
    "\n",
    "Implement `KthLargest` class:\n",
    "\n",
    "* `KthLargest(int k, int[] nums)` Initializes the object with the integer `k` and the stream of integers `nums`.\n",
    "* `int add(int val)` Appends the integer `val` to the stream and returns the element representing the `kth` largest element in the stream.\n",
    " \n",
    "\n",
    "**Example 1:**\n",
    "```\n",
    "Input\n",
    "[\"KthLargest\", \"add\", \"add\", \"add\", \"add\", \"add\"]\n",
    "[[3, [4, 5, 8, 2]], [3], [5], [10], [9], [4]]\n",
    "Output\n",
    "[null, 4, 5, 5, 8, 8]\n",
    "\n",
    "Explanation\n",
    "KthLargest kthLargest = new KthLargest(3, [4, 5, 8, 2]);\n",
    "kthLargest.add(3);   // return 4\n",
    "kthLargest.add(5);   // return 5\n",
    "kthLargest.add(10);  // return 5\n",
    "kthLargest.add(9);   // return 8\n",
    "kthLargest.add(4);   // return 8\n",
    "```\n",
    "\n",
    "**Constraints:**\n",
    "\n",
    "* `1 <= k <= 10^4`\n",
    "* `0 <= nums.length <= 10^4`\n",
    "* `-10^4 <= nums[i] <= 10^4`\n",
    "* `-10^4 <= val <= 10^4`\n",
    "* At most `10^4` calls will be made to `add`.\n",
    "* It is guaranteed that there will be at least `k` elements in the array when you search for the `kth` element."
   ]
  },
  {
   "cell_type": "code",
   "execution_count": 173,
   "id": "9c4992d4-2a17-4d43-9d84-8c5d702ef305",
   "metadata": {},
   "outputs": [],
   "source": [
    "# using heapq, only maintain heap with k largest elements and the MIN of this heap should be the kth largest\n",
    "import heapq\n",
    "# import itertools\n",
    "class KthLargest:\n",
    "\n",
    "    def __init__(self, k: int, nums: List[int]):\n",
    "        self.heap = nums\n",
    "        self.k = k\n",
    "        # self.counter = itertools.count()\n",
    "        \n",
    "        heapq.heapify(self.heap)\n",
    "        while len(self.heap) > self.k:\n",
    "            heapq.heappop(self.heap)\n",
    "        return\n",
    "\n",
    "    def add(self, val: int) -> int:\n",
    "        # count = next(self.counter)\n",
    "        # heapval = (val, count)\n",
    "        \n",
    "        heapq.heappush(self.heap, val)\n",
    "        if len(self.heap) > self.k:\n",
    "            heapq.heappop(self.heap)\n",
    "        return self.heap[0] #[0] #if len(self.heap) >= self.k else None\n",
    "\n",
    "# Your KthLargest object will be instantiated and called as such:\n",
    "# obj = KthLargest(k, nums)\n",
    "# param_1 = obj.add(val)"
   ]
  },
  {
   "cell_type": "code",
   "execution_count": 174,
   "id": "43195abb-f0fa-4e48-98b1-54c16085bbd8",
   "metadata": {},
   "outputs": [
    {
     "data": {
      "text/plain": [
       "8"
      ]
     },
     "execution_count": 174,
     "metadata": {},
     "output_type": "execute_result"
    }
   ],
   "source": [
    "nums1 = [4, 5, 8, 2]\n",
    "kthLargest = KthLargest(3, nums1)\n",
    "kthLargest.add(3)   ## return 4\n",
    "kthLargest.add(5)   ## return 5\n",
    "kthLargest.add(10)  ## return 5\n",
    "kthLargest.add(9)   ## return 8\n",
    "kthLargest.add(4)   ## return 8"
   ]
  },
  {
   "cell_type": "markdown",
   "id": "9dd57e84-e34e-427e-a06c-ed6ac728dfdd",
   "metadata": {},
   "source": [
    "## 1046. Last Stone Weight\n",
    "\n",
    "leetcode: https://leetcode.com/problems/last-stone-weight/"
   ]
  },
  {
   "cell_type": "markdown",
   "id": "75f7486e-3b1d-43ad-a824-b75eedbe4dab",
   "metadata": {},
   "source": [
    "You are given an array of integers `stones` where `stones[i]` is the weight of the `ith` stone.\n",
    "\n",
    "We are playing a game with the stones. On each turn, we choose the **heaviest two stones** and smash them together. Suppose the heaviest two stones have weights `x` and `y` with `x <= y`. The result of this smash is:\n",
    "\n",
    "* If `x == y`, both stones are destroyed, and\n",
    "* If `x != y`, the stone of weight `x` is destroyed, and the stone of weight `y` has new weight `y - x`.\n",
    "At the end of the game, there is **at most one** stone left.\n",
    "\n",
    "Return the **weight of the last remaining stone**. If there are no stones left, return `0`.\n",
    "\n",
    " \n",
    "\n",
    "**Example 1:**\n",
    "```\n",
    "Input: stones = [2,7,4,1,8,1]\n",
    "Output: 1\n",
    "Explanation: \n",
    "We combine 7 and 8 to get 1 so the array converts to [2,4,1,1,1] then,\n",
    "we combine 2 and 4 to get 2 so the array converts to [2,1,1,1] then,\n",
    "we combine 2 and 1 to get 1 so the array converts to [1,1,1] then,\n",
    "we combine 1 and 1 to get 0 so the array converts to [1] then that's the value of the last stone.\n",
    "```\n",
    "**Example 2:**\n",
    "```\n",
    "Input: stones = [1]\n",
    "Output: 1\n",
    "```\n",
    "\n",
    "**Constraints:**\n",
    "\n",
    "* `1 <= stones.length <= 30`\n",
    "* `1 <= stones[i] <= 1000`"
   ]
  },
  {
   "cell_type": "code",
   "execution_count": 38,
   "id": "1efbcfec-b3c6-49be-a50c-239b805286d5",
   "metadata": {},
   "outputs": [],
   "source": [
    "stones1 = [2,7,4,1,8,1]\n",
    "stones2 = [1]\n",
    "stones3 = [9,9,9,9,5,4,67,2,6,73,2,7,58,51,1]\n",
    "stones4 = [9,9,9,9,5,2]"
   ]
  },
  {
   "cell_type": "code",
   "execution_count": 41,
   "id": "3e458343-0cac-49bc-8065-e42343e567ec",
   "metadata": {},
   "outputs": [],
   "source": [
    "# using heapq\n",
    "from typing import List\n",
    "import heapq\n",
    "class Solution:\n",
    "    def lastStoneWeight(self, stones: List[int]) -> int:\n",
    "        heap = [-w for w in stones]\n",
    "        heapq.heapify(heap)\n",
    "        while len(heap) > 1:\n",
    "            stone1 = heapq.heappop(heap)\n",
    "            stone2 = heapq.heappop(heap)\n",
    "            newstone = (-stone1)-(-stone2)\n",
    "            if newstone != 0:\n",
    "                heapq.heappush(heap, -newstone)\n",
    "        return -heap[0] if heap else 0"
   ]
  },
  {
   "cell_type": "code",
   "execution_count": 45,
   "id": "bef54cbc-3af0-4245-8d5b-54a38b4bb5dc",
   "metadata": {},
   "outputs": [
    {
     "data": {
      "text/plain": [
       "1"
      ]
     },
     "execution_count": 45,
     "metadata": {},
     "output_type": "execute_result"
    }
   ],
   "source": [
    "soln = Solution()\n",
    "soln.lastStoneWeight([1])"
   ]
  },
  {
   "cell_type": "markdown",
   "id": "ec377aa7-d74e-4b51-932e-23ed91e9a1ba",
   "metadata": {},
   "source": [
    "## 1049. Last Stone Weight II\n",
    "\n",
    "leetcode: https://leetcode.com/problems/last-stone-weight-ii/"
   ]
  },
  {
   "cell_type": "markdown",
   "id": "3ee16371-1281-4766-9dd9-7f2f46350588",
   "metadata": {},
   "source": [
    "You are given an array of integers `stones` where `stones[i]` is the weight of the `ith` stone.\n",
    "\n",
    "We are playing a game with the stones. On each turn, we choose any two stones and smash them together. Suppose the stones have weights `x` and `y` with `x <= y`. The result of this smash is:\n",
    "\n",
    "* If `x == y`, both stones are destroyed, and\n",
    "* If `x != y`, the stone of weight `x` is destroyed, and the stone of weight `y` has new weight `y - x`.\n",
    "At the end of the game, there is **at most one** stone left.\n",
    "\n",
    "Return the **smallest possible weight of the left stone**. If there are no stones left, return `0`.\n",
    "\n",
    " \n",
    "\n",
    "**Example 1:**\n",
    "```\n",
    "Input: stones = [2,7,4,1,8,1]\n",
    "Output: 1\n",
    "Explanation:\n",
    "We can combine 2 and 4 to get 2, so the array converts to [2,7,1,8,1] then,\n",
    "we can combine 7 and 8 to get 1, so the array converts to [2,1,1,1] then,\n",
    "we can combine 2 and 1 to get 1, so the array converts to [1,1,1] then,\n",
    "we can combine 1 and 1 to get 0, so the array converts to [1], then that's the optimal value.\n",
    "```\n",
    "**Example 2:**\n",
    "```\n",
    "Input: stones = [31,26,33,21,40]\n",
    "Output: 5\n",
    "```\n",
    "\n",
    "**Constraints:**\n",
    "\n",
    "* `1 <= stones.length <= 30`\n",
    "* `1 <= stones[i] <= 100`"
   ]
  },
  {
   "cell_type": "code",
   "execution_count": 48,
   "id": "63010e18-9abd-4a7a-a212-ed631a6b9ed5",
   "metadata": {},
   "outputs": [],
   "source": [
    "stones1 = [2,7,4,1,8,1]\n",
    "stones2 = [31,26,33,21,40]\n",
    "stones3 = [100,99,95,36,34,1]\n",
    "stones4 = "
   ]
  },
  {
   "cell_type": "code",
   "execution_count": 74,
   "id": "920bd0a9-a4f4-4676-9442-4b2c9ff1892b",
   "metadata": {},
   "outputs": [
    {
     "data": {
      "text/plain": [
       "194"
      ]
     },
     "execution_count": 74,
     "metadata": {},
     "output_type": "execute_result"
    }
   ],
   "source": [
    "sum([95,99])"
   ]
  },
  {
   "cell_type": "code",
   "execution_count": 75,
   "id": "d1c7fda0-efbc-4071-83e4-26ee01fbc9b4",
   "metadata": {},
   "outputs": [
    {
     "data": {
      "text/plain": [
       "171"
      ]
     },
     "execution_count": 75,
     "metadata": {},
     "output_type": "execute_result"
    }
   ],
   "source": [
    "sum([100,36,34,1])"
   ]
  },
  {
   "cell_type": "code",
   "execution_count": 76,
   "id": "38e5f375-8e4b-4d61-86a5-62993d0fcc2f",
   "metadata": {},
   "outputs": [
    {
     "data": {
      "text/plain": [
       "24"
      ]
     },
     "execution_count": 76,
     "metadata": {},
     "output_type": "execute_result"
    }
   ],
   "source": [
    "195-171"
   ]
  },
  {
   "cell_type": "code",
   "execution_count": 65,
   "id": "138e8b4c-c030-48f2-b89a-c738edb6dbe4",
   "metadata": {},
   "outputs": [
    {
     "data": {
      "text/plain": [
       "63"
      ]
     },
     "execution_count": 65,
     "metadata": {},
     "output_type": "execute_result"
    }
   ],
   "source": [
    "100-37"
   ]
  },
  {
   "cell_type": "code",
   "execution_count": 61,
   "id": "b778cd25-2937-4a0d-8538-fcf615e1a6e5",
   "metadata": {},
   "outputs": [
    {
     "data": {
      "text/plain": [
       "18"
      ]
     },
     "execution_count": 61,
     "metadata": {},
     "output_type": "execute_result"
    }
   ],
   "source": [
    "31-13dd"
   ]
  },
  {
   "cell_type": "code",
   "execution_count": 60,
   "id": "ca1592ee-d61d-43f3-8fbb-a3007f258d96",
   "metadata": {},
   "outputs": [],
   "source": [
    "from typing import List\n",
    "class Solution:\n",
    "    def lastStoneWeightII(self, stones: List[int]) -> int:\n",
    "\n",
    "        return"
   ]
  },
  {
   "cell_type": "code",
   "execution_count": 50,
   "id": "c1a4e25c-5b6a-4605-8127-a30c84144ab4",
   "metadata": {},
   "outputs": [],
   "source": [
    "soln = Solution()\n",
    "soln.lastStoneWeightII(stones1)"
   ]
  },
  {
   "cell_type": "code",
   "execution_count": null,
   "id": "440a4936-e52e-4856-be6f-cb0d7e452c25",
   "metadata": {},
   "outputs": [],
   "source": []
  },
  {
   "cell_type": "markdown",
   "id": "328d8c9b-f41a-4469-98ec-7cb3136cdc92",
   "metadata": {},
   "source": [
    "## 973. K Closest Points to Origin\n",
    "\n",
    "leetcode: https://leetcode.com/problems/k-closest-points-to-origin/"
   ]
  },
  {
   "cell_type": "markdown",
   "id": "a2b6c188-290f-4ebd-809e-6851d2cd387f",
   "metadata": {},
   "source": [
    "Given an array of `points` where `points[i] = [xi, yi]` represents a point on the X-Y plane and an integer `k`, return the `k` closest points to the origin `(0, 0)`.\n",
    "\n",
    "The distance between two points on the **X-Y** plane is the Euclidean distance (i.e., `√(x1 - x2)^2 + (y1 - y2)^2`).\n",
    "\n",
    "You may return the answer in **any order**. The answer is guaranteed to be unique (except for the order that it is in).\n",
    "\n",
    " \n",
    "\n",
    "**Example 1:**\n",
    "\n",
    "![https://assets.leetcode.com/uploads/2021/03/03/closestplane1.jpg](https://assets.leetcode.com/uploads/2021/03/03/closestplane1.jpg)\n",
    "```\n",
    "Input: points = [[1,3],[-2,2]], k = 1\n",
    "Output: [[-2,2]]\n",
    "Explanation:\n",
    "The distance between (1, 3) and the origin is sqrt(10).\n",
    "The distance between (-2, 2) and the origin is sqrt(8).\n",
    "Since sqrt(8) < sqrt(10), (-2, 2) is closer to the origin.\n",
    "We only want the closest k = 1 points from the origin, so the answer is just [[-2,2]].\n",
    "```\n",
    "**Example 2:**\n",
    "```\n",
    "Input: points = [[3,3],[5,-1],[-2,4]], k = 2\n",
    "Output: [[3,3],[-2,4]]\n",
    "Explanation: The answer [[-2,4],[3,3]] would also be accepted.\n",
    "```\n",
    "\n",
    "**Constraints:**\n",
    "\n",
    "* `1 <= k <= points.length <= 10^4`\n",
    "* `-10^4 <= xi, yi <= 10^4`"
   ]
  },
  {
   "cell_type": "code",
   "execution_count": 2,
   "id": "38a545af-9d6a-4cda-a97e-d52e9f253205",
   "metadata": {},
   "outputs": [],
   "source": [
    "points1 = [[1,3],[-2,2]]\n",
    "k1 = 1\n",
    "\n",
    "points2 = [[3,3],[5,-1],[-2,4]]\n",
    "k2 = 2"
   ]
  },
  {
   "cell_type": "code",
   "execution_count": 21,
   "id": "74c32f12-a027-4cbb-802a-e581f461a633",
   "metadata": {},
   "outputs": [],
   "source": [
    "# using heapq\n",
    "from typing import List\n",
    "import heapq\n",
    "class Solution:\n",
    "    def kClosest(self, points: List[List[int]], k: int) -> List[List[int]]:\n",
    "        heap = []\n",
    "        ans = []\n",
    "\n",
    "        for i,point in enumerate(points:\n",
    "            dist = point[0]**2 + point[1]**2\n",
    "            heapval = (dist, point)\n",
    "            heapq.heappush(heap, heapval)\n",
    "\n",
    "\n",
    "        \n",
    "        for i in range(k):\n",
    "            heapval = heapq.heappop(heap)\n",
    "            ans.append(heapval[1])\n",
    "            \n",
    "        \n",
    "        return ans"
   ]
  },
  {
   "cell_type": "code",
   "execution_count": 20,
   "id": "1ed791b4-301f-4e01-bb4f-fc659978181d",
   "metadata": {},
   "outputs": [],
   "source": [
    "# using heapq, space optimization: store only k closest points, handles ties\n",
    "from typing import List\n",
    "import heapq\n",
    "class Solution:\n",
    "    def kClosest(self, points: List[List[int]], k: int) -> List[List[int]]:\n",
    "        heap = []\n",
    "\n",
    "        for i,point in enumerate(points):\n",
    "            dist = point[0]**2 + point[1]**2\n",
    "            heapval = (-dist, i, point)\n",
    "\n",
    "            if len(heap) == k:\n",
    "                heapq.heappushpop(heap, heapval)\n",
    "            else:\n",
    "                heapq.heappush(heap, heapval)\n",
    "                    \n",
    "        return [h[2] for h in heap]"
   ]
  },
  {
   "cell_type": "code",
   "execution_count": 27,
   "id": "2a65d950-de15-41d6-9a89-e34fc176b099",
   "metadata": {},
   "outputs": [],
   "source": [
    "# using heapq, speed optimization?: calculate all distances and use heapify to create heap\n",
    "from typing import List\n",
    "import heapq\n",
    "class Solution:\n",
    "    def kClosest(self, points: List[List[int]], k: int) -> List[List[int]]:\n",
    "        heap = []\n",
    "        ans = []\n",
    "\n",
    "        for i,point in enumerate(points):\n",
    "            dist = point[0]**2 + point[1]**2\n",
    "            heapval = (dist, i, point)\n",
    "            heap.append(heapval)\n",
    "\n",
    "\n",
    "        heapq.heapify(heap)\n",
    "        for i in range(k):\n",
    "            ans.append(heapq.heappop(heap)[2])\n",
    "                    \n",
    "        return ans"
   ]
  },
  {
   "cell_type": "code",
   "execution_count": 28,
   "id": "62375992-35eb-4e1a-af1e-9a0425070da1",
   "metadata": {},
   "outputs": [
    {
     "data": {
      "text/plain": [
       "[[3, 3], [-2, 4]]"
      ]
     },
     "execution_count": 28,
     "metadata": {},
     "output_type": "execute_result"
    }
   ],
   "source": [
    "soln = Solution()\n",
    "soln.kClosest(points2,k2)"
   ]
  },
  {
   "cell_type": "markdown",
   "id": "c376eb33-8ab4-40c4-a698-dab26f4f27d4",
   "metadata": {},
   "source": [
    "## 215. Kth Largest Element in an Array\n",
    "\n",
    "leetcode: https://leetcode.com/problems/kth-largest-element-in-an-array/"
   ]
  },
  {
   "cell_type": "markdown",
   "id": "2a9ff059-cdd7-4035-8f83-f35953d38d95",
   "metadata": {},
   "source": [
    "Given an integer array `nums` and an integer `k`, return the `kth` largest element in the array.\n",
    "\n",
    "Note that it is the `kth` largest element in the sorted order, not the `kth` distinct element.\n",
    "\n",
    "Can you solve it without sorting?\n",
    "\n",
    " \n",
    "\n",
    "**Example 1:**\n",
    "```\n",
    "Input: nums = [3,2,1,5,6,4], k = 2\n",
    "Output: 5\n",
    "```\n",
    "**Example 2:**\n",
    "```\n",
    "Input: nums = [3,2,3,1,2,4,5,5,6], k = 4\n",
    "Output: 4\n",
    "```\n",
    "\n",
    "**Constraints:**\n",
    "\n",
    "* `1 <= k <= nums.length <= 10^5`\n",
    "* `-10^4 <= nums[i] <= 10^4`"
   ]
  },
  {
   "cell_type": "code",
   "execution_count": 119,
   "id": "399983aa-8bf3-4be6-b248-32bff71da2e0",
   "metadata": {},
   "outputs": [],
   "source": [
    "nums1 = [3,2,1,5,6,4]\n",
    "k1 = 2\n",
    "\n",
    "nums2 = [3,2,3,1,2,4,5,5,6]\n",
    "k2 = 4"
   ]
  },
  {
   "cell_type": "code",
   "execution_count": 117,
   "id": "59c5d3bf-f51b-4084-aa06-531f7d06e2e1",
   "metadata": {},
   "outputs": [],
   "source": [
    "# using heapq, klogn run time\n",
    "from typing import List\n",
    "import heapq\n",
    "class Solution:\n",
    "    def findKthLargest(self, nums: List[int], k: int) -> int:\n",
    "        heap = [-n for n in nums]\n",
    "        heapq.heapify(heap)\n",
    "\n",
    "        while k > 0:\n",
    "            k -= 1\n",
    "            n = heapq.heappop(heap)\n",
    "        \n",
    "        return -n"
   ]
  },
  {
   "cell_type": "code",
   "execution_count": 120,
   "id": "453d6898-3bf2-4bde-9520-11f813d160f0",
   "metadata": {},
   "outputs": [],
   "source": [
    "# using quickselect, n run time on average\n",
    "# choose a pivot value at random, then partition array into greater than, less than, equal partitions\n",
    "# recursively search correct partition until size of greater + equal > k\n",
    "from typing import List\n",
    "import random\n",
    "class Solution:\n",
    "    def findKthLargest(self, nums: List[int], k: int) -> int:\n",
    "        pivot = random.choice(nums) # can also choose a value in a specific index, like 0, but will ruin run time for a sorted input\n",
    "        greater = [n for n in nums if n > pivot]\n",
    "        equal = [n for n in nums if n == pivot]\n",
    "        less = [n for n in nums if n < pivot]\n",
    "\n",
    "\n",
    "        L, M = len(greater), len(equal)\n",
    "        \n",
    "        # if len(greater) >= k:\n",
    "        #     return self.findKthLargest(greater, k)\n",
    "        # elif k > L + M:\n",
    "        #     return self.findKthLargest(less, k - L - M)\n",
    "        # else:\n",
    "        #     return equal[0]\n",
    "\n",
    "        # # alternative\n",
    "        # if len(greater) >= k:\n",
    "        #     return self.findKthLargest(greater, k)\n",
    "        # elif (len(greater) + len(equal)) >= k:\n",
    "        #     return equal[0]\n",
    "        # else:\n",
    "        #     return self.findKthLargest(less, k - len(greater) - len(equal))\n",
    "\n",
    "        # alternative 2\n",
    "        if len(greater) >= k: # num values > pivot more than k, kth largest value is in greater partition\n",
    "            return self.findKthLargest(greater, k)\n",
    "        elif len(greater) + len(equal) < k: # num values >= pivot less than k, kth largest value is in lesser partition\n",
    "            return self.findKthLargest(less, k - len(greater) - len(equal))\n",
    "        else: # k is in equal partition, kth largest value is the pivot\n",
    "            return equal[0]"
   ]
  },
  {
   "cell_type": "code",
   "execution_count": 127,
   "id": "c633b303-4aa3-49dc-b52e-374079c2a65b",
   "metadata": {},
   "outputs": [],
   "source": [
    "# quickselect using pointers\n",
    "from typing import List\n",
    "import random\n",
    "class Solution:\n",
    "    def findKthLargest(self, nums: List[int], k: int) -> int:\n",
    "        idx = len(nums) - k # index position of kth largest value in sorted array\n",
    "        \n",
    "        def quick_select(l, r):\n",
    "            p = l\n",
    "            pivot = nums[r] # choose last value as pivot, may have bad run time for a sorted input\n",
    "            \n",
    "\n",
    "            # iterate through range and maintain pointer p pointing at first value >= pivot value\n",
    "            for i in range(l,r):\n",
    "                if nums[i] < pivot:\n",
    "                    nums[p], nums[i] = nums[i], nums[p]\n",
    "                    p += 1\n",
    "\n",
    "            # swap pivot into p pointer position so that nums[0:p] < pivot, nums[p] == pivot, nums[p+1:] > pivot\n",
    "            nums[p], pivot = pivot, nums[p]\n",
    "\n",
    "\n",
    "            if p > idx:\n",
    "                return quick_select(l, p-1)\n",
    "            elif p < idx:\n",
    "                return quick_select(p+1, r)\n",
    "            else:\n",
    "                return nums[p]\n",
    "            \n",
    "            # if p == idx:\n",
    "            #     return nums[p]\n",
    "            # elif p < idx: # kth largest is in right half\n",
    "            #     # idx = len(nums[p+1:])-k\n",
    "            #     return quick_select(p+1, r)\n",
    "            # else: # kth largest is in left half\n",
    "            #     # idx = \n",
    "            #     return quick_select(l, p-1)\n",
    "\n",
    "        return quick_select(0, len(nums)-1)"
   ]
  },
  {
   "cell_type": "code",
   "execution_count": 128,
   "id": "5316f753-dea3-4183-80eb-2920bc208897",
   "metadata": {},
   "outputs": [
    {
     "data": {
      "text/plain": [
       "4"
      ]
     },
     "execution_count": 128,
     "metadata": {},
     "output_type": "execute_result"
    }
   ],
   "source": [
    "soln = Solution()\n",
    "soln.findKthLargest(nums1, k1)"
   ]
  },
  {
   "cell_type": "code",
   "execution_count": 58,
   "id": "adbf0481-a1cc-4040-93a4-dbf52b418fad",
   "metadata": {},
   "outputs": [
    {
     "data": {
      "text/plain": [
       "4"
      ]
     },
     "execution_count": 58,
     "metadata": {},
     "output_type": "execute_result"
    }
   ],
   "source": []
  },
  {
   "cell_type": "code",
   "execution_count": 50,
   "id": "3c6d438f-184f-419d-984d-5f680a54df4b",
   "metadata": {},
   "outputs": [
    {
     "data": {
      "text/plain": [
       "4"
      ]
     },
     "execution_count": 50,
     "metadata": {},
     "output_type": "execute_result"
    }
   ],
   "source": [
    "k2"
   ]
  },
  {
   "cell_type": "code",
   "execution_count": 31,
   "id": "9907d12d-343c-4eba-801f-86ed0ea069a3",
   "metadata": {},
   "outputs": [
    {
     "data": {
      "text/plain": [
       "[1, 2, 2, 3, 3, 4, 5, 5, 6]"
      ]
     },
     "execution_count": 31,
     "metadata": {},
     "output_type": "execute_result"
    }
   ],
   "source": [
    "sorted(nums2)"
   ]
  },
  {
   "cell_type": "markdown",
   "id": "2863da0d-eef2-4521-80b0-8fcdc3f876be",
   "metadata": {},
   "source": [
    "## 621. Task Scheduler\n",
    "\n",
    "leetcode: https://leetcode.com/problems/task-scheduler/"
   ]
  },
  {
   "cell_type": "markdown",
   "id": "d38bd3fe-8408-49f8-b818-34054ae5b6ca",
   "metadata": {},
   "source": [
    "Given a characters array `tasks`, representing the tasks a CPU needs to do, where each letter represents a different task. Tasks could be done in any order. Each task is done in one unit of time. For each unit of time, the CPU could complete either one task or just be idle.\n",
    "\n",
    "However, there is a non-negative integer `n` that represents the cooldown period between **two same tasks** (the same letter in the array), that is that there must be at least `n` units of time between any two same tasks.\n",
    "\n",
    "Return the **least number of units of times that the CPU will take to finish all the given tasks**.\n",
    "\n",
    " \n",
    "\n",
    "**Example 1:**\n",
    "```\n",
    "Input: tasks = [\"A\",\"A\",\"A\",\"B\",\"B\",\"B\"], n = 2\n",
    "Output: 8\n",
    "Explanation: \n",
    "A -> B -> idle -> A -> B -> idle -> A -> B\n",
    "There is at least 2 units of time between any two same tasks.\n",
    "```\n",
    "**Example 2:**\n",
    "```\n",
    "Input: tasks = [\"A\",\"A\",\"A\",\"B\",\"B\",\"B\"], n = 0\n",
    "Output: 6\n",
    "Explanation: On this case any permutation of size 6 would work since n = 0.\n",
    "[\"A\",\"A\",\"A\",\"B\",\"B\",\"B\"]\n",
    "[\"A\",\"B\",\"A\",\"B\",\"A\",\"B\"]\n",
    "[\"B\",\"B\",\"B\",\"A\",\"A\",\"A\"]\n",
    "...\n",
    "And so on.\n",
    "```\n",
    "**Example 3:**\n",
    "```\n",
    "Input: tasks = [\"A\",\"A\",\"A\",\"A\",\"A\",\"A\",\"B\",\"C\",\"D\",\"E\",\"F\",\"G\"], n = 2\n",
    "Output: 16\n",
    "Explanation: \n",
    "One possible solution is\n",
    "A -> B -> C -> A -> D -> E -> A -> F -> G -> A -> idle -> idle -> A -> idle -> idle -> A\n",
    "```\n",
    "\n",
    "**Constraints:**\n",
    "\n",
    "* `1 <= task.length <= 10^4`\n",
    "* `tasks[i]` is upper-case English letter.\n",
    "* The integer `n` is in the range `[0, 100]`."
   ]
  },
  {
   "cell_type": "code",
   "execution_count": 45,
   "id": "7d4acd45-9b88-4a28-838e-2cfaebdb085b",
   "metadata": {},
   "outputs": [],
   "source": [
    "tasks1 = [\"A\",\"A\",\"A\",\"B\",\"B\",\"B\"]\n",
    "n1 = 2\n",
    "\n",
    "tasks2 = [\"A\",\"A\",\"A\",\"B\",\"B\",\"B\"]\n",
    "n2 = 0\n",
    "\n",
    "tasks3 = [\"A\",\"A\",\"A\",\"A\",\"A\",\"A\",\"B\",\"C\",\"D\",\"E\",\"F\",\"G\"]\n",
    "n3 = 2\n",
    "\n",
    "tasks4 = [\"A\",\"A\",\"A\",\"A\",\"B\",\"B\",\"B\",\"C\",\"D\"]\n",
    "n4 = 2\n",
    "\n",
    "tasks5 = [\"A\",\"A\",\"A\",\"B\",\"B\",\"B\"]\n",
    "n5 = 50"
   ]
  },
  {
   "cell_type": "code",
   "execution_count": 125,
   "id": "ab935510-0ab8-4df8-96fa-389385c232ea",
   "metadata": {},
   "outputs": [],
   "source": [
    "# heap + queue solution\n",
    "# intuition: create a heap \n",
    "from typing import List\n",
    "import heapq\n",
    "class Solution:\n",
    "    def leastInterval(self, tasks: List[str], n: int) -> int:\n",
    "        taskmap = {}\n",
    "        for t in tasks:\n",
    "            taskmap[t] = taskmap.get(t,0) + 1\n",
    "\n",
    "        heap = [-n for n in list(taskmap.values())]\n",
    "        heapq.heapify(heap)\n",
    "\n",
    "        queue = []\n",
    "        time = 0\n",
    "        while heap or queue:\n",
    "            time += 1\n",
    "            # pop greatest taskcount and add to queue with current time\n",
    "            if heap:\n",
    "                taskcount = heapq.heappop(heap)\n",
    "                taskcount += 1 # taskcount is negative to use python's minHeap as a maxHeap\n",
    "                if taskcount < 0:\n",
    "                    queue.append((taskcount,time+n))\n",
    "\n",
    "            # check if oldest taskcount in queue is eligible to return to heap\n",
    "            if queue and time >= queue[0][1]:\n",
    "                taskcount,timereturn = queue.pop(0)\n",
    "                heapq.heappush(heap,taskcount)\n",
    "\n",
    "        return time"
   ]
  },
  {
   "cell_type": "code",
   "execution_count": 116,
   "id": "771db7ff-d38c-428e-bc3e-94599a02d906",
   "metadata": {},
   "outputs": [
    {
     "name": "stdout",
     "output_type": "stream",
     "text": [
      "heap: [-3, -3]\n",
      "queue: [(-2, 3)]\n",
      "heap: [-3]\n",
      "queue: [(-2, 3), (-2, 4)]\n",
      "heap: [-2]\n",
      "queue: [(-2, 4), (-1, 6)]\n",
      "heap: [-2]\n",
      "queue: [(-1, 6), (-1, 7)]\n",
      "heap: [-1]\n",
      "heap: [-1]\n"
     ]
    },
    {
     "data": {
      "text/plain": [
       "8"
      ]
     },
     "execution_count": 116,
     "metadata": {},
     "output_type": "execute_result"
    }
   ],
   "source": [
    "soln = Solution()\n",
    "soln.leastInterval([\"A\",\"A\",\"A\",\"B\",\"B\",\"B\"],2)"
   ]
  },
  {
   "cell_type": "markdown",
   "id": "4ae56b46-0ad0-41d0-b2cf-5f6f4ea1d74a",
   "metadata": {},
   "source": [
    "## Math solution description:\n",
    "```\n",
    "I think this question is not that hard but most people just lost in translation (like me).\n",
    "First get to understand the example\n",
    "tasks = [\"A\",\"A\",\"A\",\"B\",\"B\",\"B\"], n = 2\n",
    "The answer is : A -> B -> idle -> A -> B -> idle -> A -> B\n",
    "But the task said \"that is that there must be at least n units of time between any two same tasks.\"?\n",
    "We should have a close look. When B is execute, A is considered being IDLE, thus the sum of units of time B + IDLE = 2 = n which satisfies the condition.\n",
    "\n",
    "Next the last example: task =[\"A\",\"A\",\"A\",\"A\",\"A\",\"A\",\"B\",\"C\",\"D\",\"E\",\"F\",\"G\"], n = 2\n",
    "Visualize in term of row and column where row is the number of most freq task(s)\n",
    "The column is number of idle to add in between two As.\n",
    "The first draft should look like this:\n",
    "[A, _ , _] Note: _ could be either idle or just a task or both\n",
    "[A, _ , _]\n",
    "[A, _ , _]\n",
    "[A, _ , _]\n",
    "[A, _ , _]\n",
    "And the last term \"max_freq_ele_count\" is:\n",
    "[A]\n",
    "The final answer is: 16\n",
    "[A, B, C]\n",
    "[A, D , E]\n",
    "[A, F , G]\n",
    "[A, Idle , Idle]\n",
    "[A, Idle , Idle]\n",
    "[A]\n",
    "We can arrange it like this as well:\n",
    "[A, B, C]\n",
    "[A, D , E]\n",
    "[A, F , Idle]\n",
    "[A, G, Idle]\n",
    "[A, Idle , Idle]\n",
    "[A]\n",
    "Note: the description said \"One possible solution is\" not \"The only one possible solution is\"\n",
    "\n",
    "If we have two \"max_freq_ele_count\" (or more) they will be arranged in the last row\n",
    "[A, B , _] Note: _ could be either idle or just a task or both\n",
    "[A, B , _]\n",
    "[A, B , _]\n",
    "[A, B , _]\n",
    "[A, B , _]\n",
    "[A, B] <- add those in here\n",
    "\n",
    "In some cases, we can still arrange the scheduler so that it doesn't have two same tasks running before complete its idle time, hence the minimum task to be done is len(tasks) .\n",
    "\n",
    "It is very normal to lost in translation in the quiz like this. Just keep practicing\n",
    "Hope this help the explanation, cheer!\n",
    "```"
   ]
  },
  {
   "cell_type": "code",
   "execution_count": 85,
   "id": "72b93495-a88e-4c71-9b8d-59d67320a2cd",
   "metadata": {},
   "outputs": [],
   "source": [
    "# math solution\n",
    "# brief formula explanation:\n",
    "# (1+n) = length of time for cooldown period + task time\n",
    "# (maxtaskcount - 1) = there are this many intervals of cooldown period + task time for the most frequent task that needs to be done\n",
    "# count_of_maxtaskcounts = the final interval consists of the number of tasks that tie for the most frequency (final interval does not need cooldown)\n",
    "from typing import List\n",
    "class Solution:\n",
    "    def leastInterval(self, tasks: List[str], n: int) -> int:\n",
    "        taskmap = {}\n",
    "        for t in tasks:\n",
    "            taskmap[t] = taskmap.get(t,0) + 1\n",
    "\n",
    "        taskcounts = list(taskmap.values())\n",
    "        maxtaskcount = max(taskcounts)\n",
    "        count_of_maxtaskcounts = taskcounts.count(maxtaskcount)\n",
    "        \n",
    "        return max(len(tasks), (maxtaskcount-1) * (1+n) + count_of_maxtaskcounts)"
   ]
  },
  {
   "cell_type": "code",
   "execution_count": 119,
   "id": "35c93517-d5f7-4560-940e-b800b3d04f63",
   "metadata": {},
   "outputs": [
    {
     "data": {
      "text/plain": [
       "104"
      ]
     },
     "execution_count": 119,
     "metadata": {},
     "output_type": "execute_result"
    }
   ],
   "source": [
    "soln = Solution()\n",
    "soln.leastInterval([\"A\",\"A\",\"A\",\"B\",\"B\",\"B\"],50)"
   ]
  },
  {
   "cell_type": "code",
   "execution_count": 123,
   "id": "01087142-ae0d-4261-922c-9777e8eeea6e",
   "metadata": {},
   "outputs": [
    {
     "data": {
      "text/plain": [
       "10"
      ]
     },
     "execution_count": 123,
     "metadata": {},
     "output_type": "execute_result"
    }
   ],
   "source": [
    "soln.leastInterval(tasks4,n4)"
   ]
  },
  {
   "cell_type": "markdown",
   "id": "0457899a-6ac2-40ea-8f81-90b78c1fa304",
   "metadata": {},
   "source": [
    "## 355. Design Twitter\n",
    "\n",
    "leetcode: https://leetcode.com/problems/design-twitter/"
   ]
  },
  {
   "cell_type": "markdown",
   "id": "be5bfbb0-fcd2-4abf-9398-fe0adb1a54df",
   "metadata": {},
   "source": [
    "Design a simplified version of Twitter where users can post tweets, follow/unfollow another user, and is able to see the `10` most recent tweets in the user's news feed.\n",
    "\n",
    "Implement the `Twitter` class:\n",
    "\n",
    "* `Twitter()` Initializes your twitter object.\n",
    "* `void postTweet(int userId, int tweetId)` Composes a new tweet with ID `tweetId` by the user `userId`. Each call to this function will be made with a unique `tweetId`.\n",
    "* `List<Integer> getNewsFeed(int userId)` Retrieves the `10` most recent tweet IDs in the user's news feed. Each item in the news feed must be posted by users who the user followed or by the user themself. Tweets must be **ordered from most recent to least recent**.\n",
    "* `void follow(int followerId, int followeeId)` The user with ID `followerId` started following the user with ID `followeeId`.\n",
    "* `void unfollow(int followerId, int followeeId)` The user with ID `followerId` started unfollowing the user with ID `followeeId`.\n",
    " \n",
    "\n",
    "**Example 1:**\n",
    "```\n",
    "Input\n",
    "[\"Twitter\", \"postTweet\", \"getNewsFeed\", \"follow\", \"postTweet\", \"getNewsFeed\", \"unfollow\", \"getNewsFeed\"]\n",
    "[[], [1, 5], [1], [1, 2], [2, 6], [1], [1, 2], [1]]\n",
    "Output\n",
    "[null, null, [5], null, null, [6, 5], null, [5]]\n",
    "\n",
    "Explanation\n",
    "Twitter twitter = new Twitter();\n",
    "twitter.postTweet(1, 5); // User 1 posts a new tweet (id = 5).\n",
    "twitter.getNewsFeed(1);  // User 1's news feed should return a list with 1 tweet id -> [5]. return [5]\n",
    "twitter.follow(1, 2);    // User 1 follows user 2.\n",
    "twitter.postTweet(2, 6); // User 2 posts a new tweet (id = 6).\n",
    "twitter.getNewsFeed(1);  // User 1's news feed should return a list with 2 tweet ids -> [6, 5]. Tweet id 6 should precede tweet id 5 because it is posted after tweet id 5.\n",
    "twitter.unfollow(1, 2);  // User 1 unfollows user 2.\n",
    "twitter.getNewsFeed(1);  // User 1's news feed should return a list with 1 tweet id -> [5], since user 1 is no longer following user 2.\n",
    "```\n",
    "\n",
    "**Constraints:**\n",
    "\n",
    "* `1 <= userId, followerId, followeeId <= 500`\n",
    "* `0 <= tweetId <= 10^4`\n",
    "* All the tweets have **unique** IDs.\n",
    "* At most `3 * 10^4` calls will be made to `postTweet`, `getNewsFeed`, `follow`, and `unfollow`."
   ]
  },
  {
   "cell_type": "code",
   "execution_count": 100,
   "id": "c86870f0-1fe1-4f80-9c32-98646f36b0f1",
   "metadata": {},
   "outputs": [],
   "source": [
    "from typing import List\n",
    "import heapq\n",
    "class Twitter:\n",
    "\n",
    "    def __init__(self):\n",
    "        self.usertweets = {}\n",
    "        self.userfollows = {}\n",
    "        self.tweetcount = 0\n",
    "        return\n",
    "\n",
    "    def postTweet(self, userId: int, tweetId: int) -> None:\n",
    "        tweets = self.usertweets.get(userId)\n",
    "        if tweets:\n",
    "            tweets.append((self.tweetcount,tweetId))\n",
    "        else:\n",
    "            self.usertweets[userId] = [(self.tweetcount,tweetId)]\n",
    "\n",
    "        self.tweetcount += 1\n",
    "        return\n",
    "    \n",
    "    def getNewsFeed(self, userId: int) -> List[int]:\n",
    "        # use merge sort on all followed user tweets\n",
    "        follows = self.userfollows.get(userId)\n",
    "        if follows:\n",
    "            users = [userId] + list(follows)\n",
    "        else:\n",
    "            users = [userId]\n",
    "        tweets = [self.usertweets.get(user)[::-1] for user in users if self.usertweets.get(user)]\n",
    "        feed = heapq.merge(*tweets, key=lambda x: x[0], reverse=True)\n",
    "        return [tweet[1] for tweet in feed][:10]\n",
    "\n",
    "    def follow(self, followerId: int, followeeId: int) -> None:\n",
    "        follows = self.userfollows.get(followerId)\n",
    "        if follows:\n",
    "            follows.add(followeeId)\n",
    "        else:\n",
    "            self.userfollows[followerId] = {followeeId}\n",
    "            \n",
    "        return\n",
    "\n",
    "    def unfollow(self, followerId: int, followeeId: int) -> None:\n",
    "        follows = self.userfollows.get(followerId)\n",
    "        if follows:\n",
    "            follows.remove(followeeId)\n",
    "        return\n",
    "\n",
    "\n",
    "# Your Twitter object will be instantiated and called as such:\n",
    "# obj = Twitter()\n",
    "# obj.postTweet(userId,tweetId)\n",
    "# param_2 = obj.getNewsFeed(userId)\n",
    "# obj.follow(followerId,followeeId)\n",
    "# obj.unfollow(followerId,followeeId)"
   ]
  },
  {
   "cell_type": "code",
   "execution_count": 96,
   "id": "58baeff1-7c33-4d5d-9e48-f7ebaa8c91bd",
   "metadata": {},
   "outputs": [
    {
     "data": {
      "text/plain": [
       "[5]"
      ]
     },
     "execution_count": 96,
     "metadata": {},
     "output_type": "execute_result"
    }
   ],
   "source": [
    "twitter = Twitter();\n",
    "twitter.postTweet(1, 5) ## User 1 posts a new tweet (id = 5).\n",
    "twitter.getNewsFeed(1)  ## User 1's news feed should return a list with 1 tweet id -> [5]. return [5]\n",
    "twitter.follow(1, 2)    ## User 1 follows user 2.\n",
    "twitter.postTweet(2, 6) ## User 2 posts a new tweet (id = 6).\n",
    "twitter.getNewsFeed(1)  ## User 1's news feed should return a list with 2 tweet ids -> [6, 5]. Tweet id 6 should precede tweet id 5 because it is posted after tweet id 5.\n",
    "twitter.unfollow(1, 2)  ## User 1 unfollows user 2.\n",
    "twitter.getNewsFeed(1)  ## User 1's news feed should return a list with 1 tweet id -> [5], since user 1 is no longer following user 2."
   ]
  },
  {
   "cell_type": "code",
   "execution_count": 101,
   "id": "e9d555a0-a4b2-43c5-bb28-afab2ea5ffc1",
   "metadata": {},
   "outputs": [],
   "source": [
    "twitter = Twitter()\n",
    "twitter.postTweet(1, 5)\n",
    "twitter.postTweet(1, 3)\n",
    "twitter.postTweet(2, 7)\n",
    "twitter.follow(1,2)"
   ]
  },
  {
   "cell_type": "code",
   "execution_count": 102,
   "id": "014d3521-c3e6-4649-b518-e0f41a66a0bd",
   "metadata": {},
   "outputs": [
    {
     "data": {
      "text/plain": [
       "[7, 3, 5]"
      ]
     },
     "execution_count": 102,
     "metadata": {},
     "output_type": "execute_result"
    }
   ],
   "source": [
    "twitter.getNewsFeed(1)"
   ]
  },
  {
   "cell_type": "code",
   "execution_count": 103,
   "id": "76233493-8a54-42d7-8939-d655e943d160",
   "metadata": {},
   "outputs": [
    {
     "data": {
      "text/plain": [
       "[(1, 3), (0, 5)]"
      ]
     },
     "execution_count": 103,
     "metadata": {},
     "output_type": "execute_result"
    }
   ],
   "source": [
    "twitter.usertweets.get(1)[::-1]"
   ]
  },
  {
   "cell_type": "code",
   "execution_count": 106,
   "id": "48ba3d5a-9406-4ca2-b68d-ea56b4ce1a19",
   "metadata": {},
   "outputs": [],
   "source": [
    "testtweets = [twitter.usertweets.get(user)[::-1] for user in [1]]"
   ]
  },
  {
   "cell_type": "markdown",
   "id": "51e29958-24c8-4360-b4f1-f7669ebb7344",
   "metadata": {},
   "source": [
    "## 295. Find Median from Data Stream\n",
    "\n",
    "leetcode: https://leetcode.com/problems/find-median-from-data-stream/"
   ]
  },
  {
   "cell_type": "markdown",
   "id": "e111fae0-40f2-49b9-9860-879a3c60498c",
   "metadata": {},
   "source": [
    "The **median** is the middle value in an ordered integer list. If the size of the list is even, there is no middle value, and the median is the mean of the two middle values.\n",
    "\n",
    "* For example, for `arr = [2,3,4]`, the median is `3`.\n",
    "* For example, for `arr = [2,3]`, the median is `(2 + 3) / 2 = 2.5`.\n",
    "Implement the MedianFinder class:\n",
    "\n",
    "* `MedianFinder()` initializes the `MedianFinder` object.\n",
    "* `void addNum(int num)` adds the integer `num` from the data stream to the data structure.\n",
    "* `double findMedian()` returns the median of all elements so far. Answers within `10^-5` of the actual answer will be accepted.\n",
    " \n",
    "\n",
    "**Example 1:**\n",
    "```\n",
    "Input\n",
    "[\"MedianFinder\", \"addNum\", \"addNum\", \"findMedian\", \"addNum\", \"findMedian\"]\n",
    "[[], [1], [2], [], [3], []]\n",
    "Output\n",
    "[null, null, null, 1.5, null, 2.0]\n",
    "\n",
    "Explanation\n",
    "MedianFinder medianFinder = new MedianFinder();\n",
    "medianFinder.addNum(1);    // arr = [1]\n",
    "medianFinder.addNum(2);    // arr = [1, 2]\n",
    "medianFinder.findMedian(); // return 1.5 (i.e., (1 + 2) / 2)\n",
    "medianFinder.addNum(3);    // arr[1, 2, 3]\n",
    "medianFinder.findMedian(); // return 2.0\n",
    "```\n",
    "\n",
    "**Constraints:**\n",
    "\n",
    "* `-10^5 <= num <= 10^5`\n",
    "* There will be at least one element in the data structure before calling `findMedian`.\n",
    "* At most `5 * 10^4` calls will be made to `addNum` and `findMedian`.\n",
    " \n",
    "\n",
    "**Follow up:**\n",
    "\n",
    "* If all integer numbers from the stream are in the range `[0, 100]`, how would you optimize your solution?\n",
    "* If 99% of all integer numbers from the stream are in the range `[0, 100]`, how would you optimize your solution?"
   ]
  },
  {
   "cell_type": "code",
   "execution_count": 6,
   "id": "0af2f8fa-33ab-40cd-9709-80b4356d9db5",
   "metadata": {},
   "outputs": [],
   "source": [
    "import heapq\n",
    "class MedianFinder:\n",
    "\n",
    "    def __init__(self):\n",
    "        self.maxheap = []\n",
    "        self.minheap = []\n",
    "        return\n",
    "\n",
    "    def addNum(self, num: int) -> None:\n",
    "        # add to appropriate heap\n",
    "        if self.minheap and num >= self.minheap[0]:\n",
    "            heapq.heappush(self.minheap,num)\n",
    "        else:\n",
    "            heapq.heappush(self.maxheap,-num)\n",
    "\n",
    "        # balance heaps\n",
    "        if (len(self.minheap)-len(self.maxheap)) > 1:\n",
    "            val = heapq.heappop(self.minheap)\n",
    "            heapq.heappush(self.maxheap, -val)\n",
    "        elif (len(self.maxheap)-len(self.minheap)) > 1:\n",
    "            val = heapq.heappop(self.maxheap) # a negative value\n",
    "            heapq.heappush(self.minheap, -val)\n",
    "\n",
    "            \n",
    "        return        \n",
    "\n",
    "    def findMedian(self) -> float:\n",
    "        # median = None\n",
    "        if len(self.minheap) > len(self.maxheap):\n",
    "            median = self.minheap[0]\n",
    "        elif len(self.maxheap) > len(self.minheap):\n",
    "            median = -self.maxheap[0]\n",
    "        else:\n",
    "            median = (self.minheap[0]+(-self.maxheap[0]))/2\n",
    "            \n",
    "        return median\n",
    "\n",
    "\n",
    "# Your MedianFinder object will be instantiated and called as such:\n",
    "# obj = MedianFinder()\n",
    "# obj.addNum(num)\n",
    "# param_2 = obj.findMedian()"
   ]
  },
  {
   "cell_type": "code",
   "execution_count": 7,
   "id": "12778660-5670-40e5-8398-e85fdd75e28b",
   "metadata": {},
   "outputs": [
    {
     "data": {
      "text/plain": [
       "2"
      ]
     },
     "execution_count": 7,
     "metadata": {},
     "output_type": "execute_result"
    }
   ],
   "source": [
    "medianFinder = MedianFinder();\n",
    "medianFinder.addNum(1)    ## arr = [1]\n",
    "medianFinder.addNum(2)    ## arr = [1, 2]\n",
    "medianFinder.findMedian() ## return 1.5 (i.e., (1 + 2) / 2)\n",
    "medianFinder.addNum(3)    ## arr[1, 2, 3]\n",
    "medianFinder.findMedian() ## return 2.0"
   ]
  },
  {
   "cell_type": "code",
   "execution_count": 8,
   "id": "448deb4c-908a-462d-967b-90f5ea2291d3",
   "metadata": {},
   "outputs": [
    {
     "data": {
      "text/plain": [
       "[-1]"
      ]
     },
     "execution_count": 8,
     "metadata": {},
     "output_type": "execute_result"
    }
   ],
   "source": [
    "medianFinder.maxheap"
   ]
  },
  {
   "cell_type": "code",
   "execution_count": 2,
   "id": "9de3f3eb-10bb-48f2-8fdd-44ca0cf6f9d1",
   "metadata": {},
   "outputs": [],
   "source": [
    "test = []"
   ]
  },
  {
   "cell_type": "code",
   "execution_count": 3,
   "id": "c1ee8539-32e2-4c2d-ba83-bf65ad7b2f1f",
   "metadata": {},
   "outputs": [],
   "source": [
    "heapq.heappush(test,9)"
   ]
  },
  {
   "cell_type": "code",
   "execution_count": 4,
   "id": "5b89a9a2-fd9d-4e08-b576-96a2327c6071",
   "metadata": {},
   "outputs": [
    {
     "data": {
      "text/plain": [
       "[9]"
      ]
     },
     "execution_count": 4,
     "metadata": {},
     "output_type": "execute_result"
    }
   ],
   "source": [
    "test"
   ]
  },
  {
   "cell_type": "markdown",
   "id": "c222be03-42cb-4136-be32-6abc432fa65f",
   "metadata": {},
   "source": [
    "## 200. Number of Islands\n",
    "\n",
    "leetcode: https://leetcode.com/problems/number-of-islands/"
   ]
  },
  {
   "cell_type": "markdown",
   "id": "978df507-639f-4e81-b518-718f07f246f5",
   "metadata": {},
   "source": [
    "Given an `m x n` 2D binary grid `grid` which represents a map of `'1'`s (land) and `'0'`s (water), **return the number of islands**.\n",
    "\n",
    "An **island** is surrounded by water and is formed by connecting adjacent lands horizontally or vertically. You may assume all four edges of the grid are all surrounded by water.\n",
    "\n",
    " \n",
    "\n",
    "**Example 1:**\n",
    "```\n",
    "Input: grid = [\n",
    "  [\"1\",\"1\",\"1\",\"1\",\"0\"],\n",
    "  [\"1\",\"1\",\"0\",\"1\",\"0\"],\n",
    "  [\"1\",\"1\",\"0\",\"0\",\"0\"],\n",
    "  [\"0\",\"0\",\"0\",\"0\",\"0\"]\n",
    "]\n",
    "Output: 1\n",
    "```\n",
    "**Example 2:**\n",
    "```\n",
    "Input: grid = [\n",
    "  [\"1\",\"1\",\"0\",\"0\",\"0\"],\n",
    "  [\"1\",\"1\",\"0\",\"0\",\"0\"],\n",
    "  [\"0\",\"0\",\"1\",\"0\",\"0\"],\n",
    "  [\"0\",\"0\",\"0\",\"1\",\"1\"]\n",
    "]\n",
    "Output: 3\n",
    "```\n",
    "\n",
    "**Constraints:**\n",
    "\n",
    "* `m == grid.length`\n",
    "* `n == grid[i].length`\n",
    "* `1 <= m, n <= 300`\n",
    "* `grid[i][j]` is `'0'` or `'1'`."
   ]
  },
  {
   "cell_type": "code",
   "execution_count": 23,
   "id": "a8db679b-afa5-4b6b-984a-14dec994351c",
   "metadata": {},
   "outputs": [],
   "source": [
    "grid1 = [\n",
    "  [\"1\",\"1\",\"1\",\"1\",\"0\"],\n",
    "  [\"1\",\"1\",\"0\",\"1\",\"0\"],\n",
    "  [\"1\",\"1\",\"0\",\"0\",\"0\"],\n",
    "  [\"0\",\"0\",\"0\",\"0\",\"0\"]\n",
    "]\n",
    "\n",
    "grid2 = [\n",
    "  [\"1\",\"1\",\"0\",\"0\",\"0\"],\n",
    "  [\"1\",\"1\",\"0\",\"0\",\"0\"],\n",
    "  [\"0\",\"0\",\"1\",\"0\",\"0\"],\n",
    "  [\"0\",\"0\",\"0\",\"1\",\"1\"]\n",
    "]"
   ]
  },
  {
   "cell_type": "code",
   "execution_count": 1,
   "id": "753af830-c3f2-4e43-aee2-0e63f7331c7b",
   "metadata": {},
   "outputs": [],
   "source": [
    "from typing import List, Optional\n",
    "class Solution:\n",
    "    def numIslands(self, grid: List[List[str]]) -> int:\n",
    "        islandcount = 0\n",
    "        def dfs(grid, m, n):\n",
    "            if m < 0 or n < 0 or (m >= len(grid)) or (n >= len(grid[0])):\n",
    "                return\n",
    "\n",
    "            if grid[m][n] == '#':\n",
    "                return\n",
    "\n",
    "            if grid[m][n] == '1':\n",
    "                grid[m][n] = '#'\n",
    "                dfs(grid, m+1, n  )\n",
    "                dfs(grid, m-1, n  )\n",
    "                dfs(grid, m  , n+1)\n",
    "                dfs(grid, m  , n-1)\n",
    "\n",
    "                return\n",
    "\n",
    "        for m in range(len(grid)):\n",
    "            for n in range(len(grid[0])):\n",
    "                if grid[m][n] == '1':\n",
    "                    islandcount += 1\n",
    "                    dfs(grid, m, n)\n",
    "                \n",
    "        return islandcount"
   ]
  },
  {
   "cell_type": "code",
   "execution_count": 25,
   "id": "d1e9a6f4-7be3-40ba-8c46-ae20b7c3bdc2",
   "metadata": {},
   "outputs": [
    {
     "data": {
      "text/plain": [
       "1"
      ]
     },
     "execution_count": 25,
     "metadata": {},
     "output_type": "execute_result"
    }
   ],
   "source": [
    "soln = Solution()\n",
    "soln.numIslands(grid1)"
   ]
  },
  {
   "cell_type": "markdown",
   "id": "bd9a8e82-f8e4-47fd-a929-fef0894b8c49",
   "metadata": {},
   "source": [
    "## 133. Clone Graph\n",
    "\n",
    "leetcode: https://leetcode.com/problems/clone-graph/"
   ]
  },
  {
   "cell_type": "markdown",
   "id": "fa914258-3d88-4031-bc23-0c3c4d2a41a1",
   "metadata": {},
   "source": [
    "Given a reference of a node in a [connected](https://en.wikipedia.org/wiki/Connectivity_(graph_theory)#Connected_graph) undirected graph.\n",
    "\n",
    "Return a [deep copy](https://en.wikipedia.org/wiki/Object_copying#Deep_copy) (clone) of the graph.\n",
    "\n",
    "Each node in the graph contains a value (`int`) and a list (`List[Node]`) of its neighbors.\n",
    "```\n",
    "class Node {\n",
    "    public int val;\n",
    "    public List<Node> neighbors;\n",
    "}\n",
    "```\n",
    "\n",
    "**Test case format:**\n",
    "\n",
    "For simplicity, each node's value is the same as the node's index (1-indexed). For example, the first node with `val == 1`, the second node with `val == 2`, and so on. The graph is represented in the test case using an adjacency list.\n",
    "\n",
    "**An adjacency list** is a collection of unordered **lists** used to represent a finite graph. Each list describes the set of neighbors of a node in the graph.\n",
    "\n",
    "The given node will always be the first node with `val = 1`. You must **return the copy of the given node as a reference to the cloned graph**.\n",
    "\n",
    " \n",
    "\n",
    "**Example 1:**\n",
    "\n",
    "![https://assets.leetcode.com/uploads/2019/11/04/133_clone_graph_question.png](https://assets.leetcode.com/uploads/2019/11/04/133_clone_graph_question.png)\n",
    "```\n",
    "Input: adjList = [[2,4],[1,3],[2,4],[1,3]]\n",
    "Output: [[2,4],[1,3],[2,4],[1,3]]\n",
    "Explanation: There are 4 nodes in the graph.\n",
    "1st node (val = 1)'s neighbors are 2nd node (val = 2) and 4th node (val = 4).\n",
    "2nd node (val = 2)'s neighbors are 1st node (val = 1) and 3rd node (val = 3).\n",
    "3rd node (val = 3)'s neighbors are 2nd node (val = 2) and 4th node (val = 4).\n",
    "4th node (val = 4)'s neighbors are 1st node (val = 1) and 3rd node (val = 3).\n",
    "```\n",
    "**Example 2:**\n",
    "\n",
    "![https://assets.leetcode.com/uploads/2020/01/07/graph.png](https://assets.leetcode.com/uploads/2020/01/07/graph.png)\n",
    "```\n",
    "Input: adjList = [[]]\n",
    "Output: [[]]\n",
    "Explanation: Note that the input contains one empty list. The graph consists of only one node with val = 1 and it does not have any neighbors.\n",
    "```\n",
    "**Example 3:**\n",
    "```\n",
    "Input: adjList = []\n",
    "Output: []\n",
    "Explanation: This an empty graph, it does not have any nodes.\n",
    "```\n",
    "\n",
    "**Constraints:**\n",
    "\n",
    "* The number of nodes in the graph is in the range `[0, 100]`.\n",
    "* `1 <= Node.val <= 100`\n",
    "* `Node.val` is unique for each node.\n",
    "* There are no repeated edges and no self-loops in the graph.\n",
    "* The Graph is connected and all nodes can be visited starting from the given node."
   ]
  },
  {
   "cell_type": "code",
   "execution_count": 4,
   "id": "1e8e41ed-b361-47ec-88de-eb44ee69dd68",
   "metadata": {},
   "outputs": [],
   "source": [
    "# Definition for a Node.\n",
    "class Node:\n",
    "    def __init__(self, val = 0, neighbors = None):\n",
    "        self.val = val\n",
    "        self.neighbors = neighbors if neighbors is not None else []\n",
    "\n",
    "# def make_graph(nodeList):\n",
    "#     for \n",
    "\n",
    "adjList1 = [[2,4],[1,3],[2,4],[1,3]]\n",
    "adjList2 = [[]]\n",
    "adjList3 = []\n",
    "\n"
   ]
  },
  {
   "cell_type": "code",
   "execution_count": 14,
   "id": "48a32b88-6b0b-4f4a-945a-4ff6d2c08a18",
   "metadata": {},
   "outputs": [],
   "source": [
    "\"\"\"\n",
    "# Definition for a Node.\n",
    "class Node:\n",
    "    def __init__(self, val = 0, neighbors = None):\n",
    "        self.val = val\n",
    "        self.neighbors = neighbors if neighbors is not None else []\n",
    "\"\"\"\n",
    "\n",
    "from typing import Optional, List\n",
    "class Solution:\n",
    "    def cloneGraph(self, node: Optional['Node']) -> Optional['Node']:\n",
    "        visited_nodes = {}\n",
    "\n",
    "        def dfs(node):\n",
    "            if not node:\n",
    "                return None\n",
    "  \n",
    "            if node not in visited_nodes:\n",
    "                newnode = Node(node.val)\n",
    "                visited_nodes[node] = newnode\n",
    "                newnode.neighbors = [dfs(neighbor) for neighbor in node.neighbors]\n",
    "            else:\n",
    "                newnode = visited_nodes[node]                \n",
    "            return newnode\n",
    "\n",
    "        newgraph = dfs(node)\n",
    "        return newgraph"
   ]
  },
  {
   "cell_type": "code",
   "execution_count": 6,
   "id": "2c72ec6f-0941-4520-acac-58f5a9f2927c",
   "metadata": {},
   "outputs": [],
   "source": [
    "soln = Solution()\n",
    "soln.cloneGraph(adjList1)"
   ]
  },
  {
   "cell_type": "markdown",
   "id": "65d3e4aa-e8be-4f1f-b541-6ba05cfb431d",
   "metadata": {},
   "source": [
    "## 695. Max Area of Island\n",
    "\n",
    "leetcode: https://leetcode.com/problems/max-area-of-island/"
   ]
  },
  {
   "cell_type": "markdown",
   "id": "df530ded-f9f1-4038-b796-0180c84a9faf",
   "metadata": {},
   "source": [
    "You are given an `m x n` binary matrix `grid`. An island is a group of `1`'s (representing land) connected **4-directionally** (horizontal or vertical.) You may assume all four edges of the grid are surrounded by water.\n",
    "\n",
    "The **area** of an island is the number of cells with a value `1` in the island.\n",
    "\n",
    "Return **the maximum area** of an island in `grid`. If there is no island, return `0`.\n",
    "\n",
    " \n",
    "\n",
    "**Example 1:**\n",
    "\n",
    "![https://assets.leetcode.com/uploads/2021/05/01/maxarea1-grid.jpg](https://assets.leetcode.com/uploads/2021/05/01/maxarea1-grid.jpg)\n",
    "```\n",
    "Input: grid = [[0,0,1,0,0,0,0,1,0,0,0,0,0],[0,0,0,0,0,0,0,1,1,1,0,0,0],[0,1,1,0,1,0,0,0,0,0,0,0,0],[0,1,0,0,1,1,0,0,1,0,1,0,0],[0,1,0,0,1,1,0,0,1,1,1,0,0],[0,0,0,0,0,0,0,0,0,0,1,0,0],[0,0,0,0,0,0,0,1,1,1,0,0,0],[0,0,0,0,0,0,0,1,1,0,0,0,0]]\n",
    "Output: 6\n",
    "Explanation: The answer is not 11, because the island must be connected 4-directionally.\n",
    "```\n",
    "**Example 2:**\n",
    "```\n",
    "Input: grid = [[0,0,0,0,0,0,0,0]]\n",
    "Output: 0\n",
    "```\n",
    "\n",
    "**Constraints:**\n",
    "\n",
    "* `m == grid.length`\n",
    "* `n == grid[i].length`\n",
    "* `1 <= m, n <= 50`\n",
    "* `grid[i][j]` is either `0` or `1`."
   ]
  },
  {
   "cell_type": "code",
   "execution_count": 26,
   "id": "05ba6b5f-4bd4-4121-9688-08befc7969e7",
   "metadata": {},
   "outputs": [],
   "source": [
    "grid1 = [[0,0,1,0,0,0,0,1,0,0,0,0,0],\n",
    "         [0,0,0,0,0,0,0,1,1,1,0,0,0],\n",
    "         [0,1,1,0,1,0,0,0,0,0,0,0,0],\n",
    "         [0,1,0,0,1,1,0,0,1,0,1,0,0],\n",
    "         [0,1,0,0,1,1,0,0,1,1,1,0,0],\n",
    "         [0,0,0,0,0,0,0,0,0,0,1,0,0],\n",
    "         [0,0,0,0,0,0,0,1,1,1,0,0,0],\n",
    "         [0,0,0,0,0,0,0,1,1,0,0,0,0]\n",
    "        ]\n",
    "grid2 = [[0,0,0,0,0,0,0,0]]"
   ]
  },
  {
   "cell_type": "code",
   "execution_count": 22,
   "id": "a92cb4e9-1387-45e3-a2e2-3c7162caa1ae",
   "metadata": {},
   "outputs": [],
   "source": [
    "from typing import List\n",
    "class Solution:\n",
    "    def maxAreaOfIsland(self, grid: List[List[int]]) -> int:\n",
    "        max_area = 0\n",
    "        def dfs(grid, m, n):\n",
    "            if (m < 0) or (n < 0) or (m >= len(grid)) or (n >= len(grid[0])):\n",
    "                return 0\n",
    "\n",
    "            if (grid[m][n] == 0) or (grid[m][n] == '#'):\n",
    "                return 0\n",
    "\n",
    "            if grid[m][n] == 1:\n",
    "                grid[m][n] = '#'\n",
    "                area = 1\n",
    "                area += dfs(grid, m-1, n  )\n",
    "                area += dfs(grid, m+1, n  )\n",
    "                area += dfs(grid, m  , n-1)\n",
    "                area += dfs(grid, m  , n+1)\n",
    "\n",
    "            return area\n",
    "\n",
    "        for m in range(len(grid)):\n",
    "            for n in range(len(grid[0])):\n",
    "                area = 0\n",
    "                area += dfs(grid, m, n)\n",
    "                max_area = max(max_area, area)\n",
    "                \n",
    "        \n",
    "        return max_area"
   ]
  },
  {
   "cell_type": "code",
   "execution_count": 29,
   "id": "aa6c36da-0d42-45a0-8f13-4495c7f53c13",
   "metadata": {},
   "outputs": [],
   "source": [
    "# not modifying grid\n",
    "from typing import List\n",
    "class Solution:\n",
    "    def maxAreaOfIsland(self, grid: List[List[int]]) -> int:\n",
    "        max_area = 0\n",
    "        rows, cols = len(grid), len(grid[0])\n",
    "        visited = set()\n",
    "        \n",
    "        def dfs(grid, m, n):\n",
    "            if (m < 0) or (n < 0) or (m >= rows) or (n >= cols):\n",
    "                return 0\n",
    "\n",
    "            if (grid[m][n] == 0) or ((m,n) in visited):\n",
    "                return 0\n",
    "\n",
    "            if grid[m][n] == 1:\n",
    "                visited.add((m,n))\n",
    "                area = 1\n",
    "\n",
    "                dirs = [(1,0),(-1,0),(0,1),(0,-1)]\n",
    "                for dr, dc in dirs:\n",
    "                    area += dfs(grid, m+dr, n+dc)\n",
    "\n",
    "            return area\n",
    "\n",
    "        for m in range(rows):\n",
    "            for n in range(cols):\n",
    "                area = dfs(grid, m, n)\n",
    "                max_area = max(max_area, area)\n",
    "                \n",
    "        \n",
    "        return max_area"
   ]
  },
  {
   "cell_type": "code",
   "execution_count": 30,
   "id": "f8001a62-a5b5-4563-92c6-a1558f6073ad",
   "metadata": {},
   "outputs": [
    {
     "data": {
      "text/plain": [
       "6"
      ]
     },
     "execution_count": 30,
     "metadata": {},
     "output_type": "execute_result"
    }
   ],
   "source": [
    "soln = Solution()\n",
    "soln.maxAreaOfIsland(grid1)"
   ]
  },
  {
   "cell_type": "markdown",
   "id": "cbdae4fd-1bdc-4abb-a8b9-33c91f029892",
   "metadata": {},
   "source": [
    "## 417. Pacific Atlantic Water Flow\n",
    "\n",
    "leetcode: https://leetcode.com/problems/pacific-atlantic-water-flow/"
   ]
  },
  {
   "cell_type": "markdown",
   "id": "5dc4f4ee-eccd-4e7d-9d5a-60a875ae7a71",
   "metadata": {},
   "source": [
    "There is an `m x n` rectangular island that borders both the **Pacific Ocean** and **Atlantic Ocean**. The **Pacific Ocean** touches the island's left and top edges, and the **Atlantic Ocean** touches the island's right and bottom edges.\n",
    "\n",
    "The island is partitioned into a grid of square cells. You are given an `m x n` integer matrix heights where `heights[r][c]` represents the **height above sea level** of the cell at coordinate `(r, c)`.\n",
    "\n",
    "The island receives a lot of rain, and the rain water can flow to neighboring cells directly north, south, east, and west if the neighboring cell's height is **less than or equal** to the current cell's height. Water can flow from any cell adjacent to an ocean into the ocean.\n",
    "\n",
    "Return a **2D list of grid coordinates** `result` where `result[i] = [ri, ci]` denotes that rain water can flow from cell `(ri, ci)` to **both** the Pacific and Atlantic oceans.\n",
    "\n",
    " \n",
    "\n",
    "**Example 1:**\n",
    "\n",
    "![https://assets.leetcode.com/uploads/2021/06/08/waterflow-grid.jpg](https://assets.leetcode.com/uploads/2021/06/08/waterflow-grid.jpg)\n",
    "```\n",
    "Input: heights = [[1,2,2,3,5],[3,2,3,4,4],[2,4,5,3,1],[6,7,1,4,5],[5,1,1,2,4]]\n",
    "Output: [[0,4],[1,3],[1,4],[2,2],[3,0],[3,1],[4,0]]\n",
    "Explanation: The following cells can flow to the Pacific and Atlantic oceans, as shown below:\n",
    "[0,4]: [0,4] -> Pacific Ocean \n",
    "       [0,4] -> Atlantic Ocean\n",
    "[1,3]: [1,3] -> [0,3] -> Pacific Ocean \n",
    "       [1,3] -> [1,4] -> Atlantic Ocean\n",
    "[1,4]: [1,4] -> [1,3] -> [0,3] -> Pacific Ocean \n",
    "       [1,4] -> Atlantic Ocean\n",
    "[2,2]: [2,2] -> [1,2] -> [0,2] -> Pacific Ocean \n",
    "       [2,2] -> [2,3] -> [2,4] -> Atlantic Ocean\n",
    "[3,0]: [3,0] -> Pacific Ocean \n",
    "       [3,0] -> [4,0] -> Atlantic Ocean\n",
    "[3,1]: [3,1] -> [3,0] -> Pacific Ocean \n",
    "       [3,1] -> [4,1] -> Atlantic Ocean\n",
    "[4,0]: [4,0] -> Pacific Ocean \n",
    "       [4,0] -> Atlantic Ocean\n",
    "Note that there are other possible paths for these cells to flow to the Pacific and Atlantic oceans.\n",
    "```\n",
    "**Example 2:**\n",
    "```\n",
    "Input: heights = [[1]]\n",
    "Output: [[0,0]]\n",
    "Explanation: The water can flow from the only cell to the Pacific and Atlantic oceans.\n",
    "```\n",
    "\n",
    "**Constraints:**\n",
    "\n",
    "* `m == heights.length`\n",
    "* `n == heights[r].length`\n",
    "* `1 <= m, n <= 200`\n",
    "* `0 <= heights[r][c] <= 10^5`"
   ]
  },
  {
   "cell_type": "code",
   "execution_count": 4,
   "id": "5d60a878-44c0-41c0-8dee-9c0f8311452d",
   "metadata": {},
   "outputs": [],
   "source": [
    "heights1 = [[1,2,2,3,5],\n",
    "            [3,2,3,4,4],\n",
    "            [2,4,5,3,1],\n",
    "            [6,7,1,4,5],\n",
    "            [5,1,1,2,4]]\n",
    "\n",
    "heights2 = [[1]]\n",
    "\n",
    "heights3 = [[1 ,2  ,3  ,4  ,5  ,6  ,7  ,8  ,9  ,10 ,11 ,12 ,13 ,14,15],\n",
    "            [56,57 ,58 ,59 ,60 ,61 ,62 ,63 ,64 ,65 ,66 ,67 ,68 ,69,16],\n",
    "            [55,104,105,106,107,108,109,110,111,112,113,114,115,70,17],\n",
    "            [54,103,144,145,146,147,148,149,150,151,152,153,116,71,18],\n",
    "            [53,102,143,176,177,178,179,180,181,182,183,154,117,72,19],\n",
    "            [52,101,142,175,200,201,202,203,204,205,184,155,118,73,20],\n",
    "            [51,100,141,174,199,216,217,218,219,206,185,156,119,74,21],\n",
    "            [50,99 ,140,173,198,215,224,225,220,207,186,157,120,75,22],\n",
    "            [49,98 ,139,172,197,214,223,222,221,208,187,158,121,76,23],\n",
    "            [48,97 ,138,171,196,213,212,211,210,209,188,159,122,77,24],\n",
    "            [47,96 ,137,170,195,194,193,192,191,190,189,160,123,78,25],\n",
    "            [46,95 ,136,169,168,167,166,165,164,163,162,161,124,79,26],\n",
    "            [45,94 ,135,134,133,132,131,130,129,128,127,126,125,80,27],\n",
    "            [44,93 ,92 ,91 ,90 ,89 ,88 ,87 ,86 ,85 ,84 ,83 ,82 ,81,28],\n",
    "            [43,42 ,41 ,40 ,39 ,38 ,37 ,36 ,35 ,34 ,33 ,32 ,31 ,30,29]\n",
    "           ]\n"
   ]
  },
  {
   "cell_type": "code",
   "execution_count": 55,
   "id": "844d0c8b-e8a4-4c11-b9bf-dcd49618002f",
   "metadata": {},
   "outputs": [],
   "source": [
    "# brute force DFS, O(n^2) run time\n",
    "from typing import List\n",
    "class Solution:\n",
    "    def pacificAtlantic(self, heights: List[List[int]]) -> List[List[int]]:\n",
    "        rows, cols = len(heights), len(heights[0])\n",
    "        \n",
    "        def dfs(heights, m, n, oldheight):          \n",
    "            # pacific ocean\n",
    "            if (m < 0) or (n < 0):\n",
    "                return (1, 0)\n",
    "\n",
    "            # atlantic ocean\n",
    "            if (m >= rows) or (n >= cols):\n",
    "                return (0, 1)\n",
    "\n",
    "            # if water can flow here, continue checking neighbors\n",
    "            pacific = 0\n",
    "            atlantic = 0          \n",
    "            if (heights[m][n] <= oldheight) and ((m,n) not in visited):\n",
    "                visited.add((m,n))\n",
    "                if (m,n) in oceans:\n",
    "                    return oceans[(m,n)]\n",
    "                    \n",
    "                dirs = [(0,1), (0,-1), (1,0), (-1,0)]\n",
    "                for dm, dn in dirs:\n",
    "                    (p, a) = dfs(heights, m+dm, n+dn, heights[m][n])\n",
    "                    pacific += p\n",
    "                    atlantic += a    \n",
    "\n",
    "\n",
    "            if pacific >= 1:\n",
    "                pacific = 1\n",
    "            if atlantic >= 1:\n",
    "                atlantic = 1\n",
    "                \n",
    "            return (pacific, atlantic)\n",
    "\n",
    "\n",
    "        ans = []\n",
    "        for r in range(rows):\n",
    "            for c in range(cols):\n",
    "                pacific = 0\n",
    "                atlantic = 0\n",
    "                visited = set()\n",
    "                oceans = {}\n",
    "                pacific, atlantic = dfs(heights, r, c, 10**6)\n",
    "                oceans[(r,c)] = (pacific, atlantic)\n",
    "                if pacific and atlantic:\n",
    "                    ans.append([r,c])\n",
    "            \n",
    "        return ans"
   ]
  },
  {
   "cell_type": "code",
   "execution_count": 40,
   "id": "928214c9-c99d-4878-8c99-8ef6b4e51f4e",
   "metadata": {},
   "outputs": [],
   "source": [
    "# alternative idea: DFS from oceans to find the set of cells reachable from each ocean, then check each cell to see if it is in both ocean-reachable sets\n",
    "from typing import List\n",
    "class Solution:\n",
    "    def pacificAtlantic(self, heights: List[List[int]]) -> List[List[int]]:\n",
    "        rows, cols = len(heights), len(heights[0])\n",
    "        \n",
    "        def dfs_ocean(heights, m, n, oldheight, ocean_reachable):          \n",
    "            # check bounds\n",
    "            if (m < 0) or (n < 0) or (m >= rows) or (n >= cols):\n",
    "                return \n",
    "\n",
    "            if (heights[m][n] < oldheight) or ((m,n) in ocean_reachable):\n",
    "                return\n",
    "\n",
    "            # if water can flow FROM here to oldheight, continue checking neighbors, technically not necessary\n",
    "            if (heights[m][n] >= oldheight):\n",
    "                ocean_reachable.add((m,n))\n",
    "                dirs = [(0,1), (0,-1), (1,0), (-1,0)]\n",
    "                for dm, dn in dirs:\n",
    "                    dfs_ocean(heights, m+dm, n+dn, heights[m][n], ocean_reachable)         \n",
    "            return\n",
    "\n",
    "        pacific_reachable = set()\n",
    "        atlantic_reachable = set()\n",
    "        for c in range(cols):\n",
    "            dfs_ocean(heights, 0, c, 0, pacific_reachable)\n",
    "            dfs_ocean(heights, rows-1, c, 0, atlantic_reachable)\n",
    "\n",
    "        for r in range(rows):\n",
    "            dfs_ocean(heights, r, 0, 0, pacific_reachable)\n",
    "            dfs_ocean(heights, r, cols-1, 0, atlantic_reachable)\n",
    "\n",
    "        ans = []\n",
    "        for r in range(rows):\n",
    "            for c in range(cols):\n",
    "                if ((r,c) in pacific_reachable) and ((r,c) in atlantic_reachable):\n",
    "                    ans.append([r,c])\n",
    "            \n",
    "        return ans # alternatively, return the intersection of the two sets: pacific_reachable & atlantic_reachable"
   ]
  },
  {
   "cell_type": "code",
   "execution_count": 42,
   "id": "0204b542-0831-4dd6-b611-2cf80b72078a",
   "metadata": {},
   "outputs": [
    {
     "data": {
      "text/plain": [
       "[[0, 4], [1, 3], [1, 4], [2, 2], [3, 0], [3, 1], [4, 0]]"
      ]
     },
     "execution_count": 42,
     "metadata": {},
     "output_type": "execute_result"
    }
   ],
   "source": [
    "soln = Solution()\n",
    "soln.pacificAtlantic(heights1)"
   ]
  },
  {
   "cell_type": "code",
   "execution_count": null,
   "id": "4f9a1e22-6493-4aa2-9a1d-9bb719f357f7",
   "metadata": {},
   "outputs": [],
   "source": []
  },
  {
   "cell_type": "markdown",
   "id": "fa62211c-078d-4427-b900-3a0d27c59ca4",
   "metadata": {},
   "source": [
    "## 130. Surrounded Regions\n",
    "\n",
    "leetcode: https://leetcode.com/problems/surrounded-regions/"
   ]
  },
  {
   "cell_type": "markdown",
   "id": "b7f5318c-8191-499f-9acb-07a3ed978a2a",
   "metadata": {},
   "source": [
    "Given an `m x n` matrix `board` containing `'X'` and `'O'`, **capture all regions that are 4-directionally surrounded** by `'X'`.\n",
    "\n",
    "A region is **captured** by flipping all `'O'`s into `'X'`s in that surrounded region.\n",
    "\n",
    " \n",
    "\n",
    "**Example 1:**\n",
    "\n",
    "![https://assets.leetcode.com/uploads/2021/02/19/xogrid.jpg](https://assets.leetcode.com/uploads/2021/02/19/xogrid.jpg)\n",
    "```\n",
    "Input: board = [[\"X\",\"X\",\"X\",\"X\"],[\"X\",\"O\",\"O\",\"X\"],[\"X\",\"X\",\"O\",\"X\"],[\"X\",\"O\",\"X\",\"X\"]]\n",
    "Output: [[\"X\",\"X\",\"X\",\"X\"],[\"X\",\"X\",\"X\",\"X\"],[\"X\",\"X\",\"X\",\"X\"],[\"X\",\"O\",\"X\",\"X\"]]\n",
    "Explanation: Notice that an 'O' should not be flipped if:\n",
    "- It is on the border, or\n",
    "- It is adjacent to an 'O' that should not be flipped.\n",
    "The bottom 'O' is on the border, so it is not flipped.\n",
    "The other three 'O' form a surrounded region, so they are flipped.\n",
    "```\n",
    "**Example 2:**\n",
    "```\n",
    "Input: board = [[\"X\"]]\n",
    "Output: [[\"X\"]]\n",
    "```\n",
    "\n",
    "**Constraints:**\n",
    "\n",
    "* `m == board.length`\n",
    "* `n == board[i].length`\n",
    "* `1 <= m, n <= 200`\n",
    "* `board[i][j]` is `'X'` or `'O'`."
   ]
  },
  {
   "cell_type": "code",
   "execution_count": 105,
   "id": "dc6e2740-702f-4aec-a7ee-230eca3af15e",
   "metadata": {},
   "outputs": [],
   "source": [
    "board1 = [[\"X\",\"X\",\"X\",\"X\"],\n",
    "          [\"X\",\"O\",\"O\",\"X\"],\n",
    "          [\"X\",\"X\",\"O\",\"X\"],\n",
    "          [\"X\",\"O\",\"X\",\"X\"]]\n",
    "board2 = [[\"X\"]]\n",
    "board3 = [[\"X\",\"X\",\"X\",\"X\"],\n",
    "          [\"X\",\"O\",\"O\",\"O\"],\n",
    "          [\"X\",\"X\",\"O\",\"X\"],\n",
    "          [\"X\",\"O\",\"X\",\"X\"]]"
   ]
  },
  {
   "cell_type": "code",
   "execution_count": 106,
   "id": "89b5cdf9-8d4e-4fca-ab1e-99474b82463c",
   "metadata": {},
   "outputs": [],
   "source": [
    "# redo input\n",
    "board1 = [[\"X\",\"X\",\"X\",\"X\"],\n",
    "          [\"X\",\"O\",\"O\",\"X\"],\n",
    "          [\"X\",\"X\",\"O\",\"X\"],\n",
    "          [\"X\",\"O\",\"X\",\"X\"]]\n",
    "board2 = [[\"X\"]]\n",
    "board3 = [[\"X\",\"X\",\"X\",\"X\"],\n",
    "          [\"X\",\"O\",\"O\",\"O\"],\n",
    "          [\"X\",\"X\",\"O\",\"X\"],\n",
    "          [\"X\",\"O\",\"X\",\"X\"]]\n",
    "\n",
    "# NOT working: dfs each island of 'O' and check to see if edge reached\n",
    "from typing import List\n",
    "class Solution:\n",
    "    def solve(self, board: List[List[str]]) -> None:\n",
    "        \"\"\"\n",
    "        Do not return anything, modify board in-place instead.\n",
    "        \"\"\"\n",
    "        rows, cols = len(board), len(board[0])\n",
    "        \n",
    "        def dfs(m, n):\n",
    "            # out of bounds\n",
    "            if (m < 0) or (n < 0) or (m >= rows) or (n >= cols):\n",
    "                return False\n",
    "\n",
    "            if (board[m][n] == 'X') or ((m,n) in visited):\n",
    "                return True\n",
    "\n",
    "            if (board[m][n] == 'O'):\n",
    "                visited.add((m,n))\n",
    "                flip = (dfs(m+1, n  ) &\n",
    "                        dfs(m-1, n  ) &\n",
    "                        dfs(m  , n+1) &\n",
    "                        dfs(m  , n-1))\n",
    "                if flip:\n",
    "                    board[m][n] = 'X'\n",
    "            return flip\n",
    "\n",
    "        for r in range(rows):\n",
    "            for c in range(cols):\n",
    "                visited = set()\n",
    "                dfs(r,c)"
   ]
  },
  {
   "cell_type": "code",
   "execution_count": 107,
   "id": "9cac5474-01f7-44fb-b2f3-b650f1430c76",
   "metadata": {},
   "outputs": [],
   "source": [
    "# redo input\n",
    "board1 = [[\"X\",\"X\",\"X\",\"X\"],\n",
    "          [\"X\",\"O\",\"O\",\"X\"],\n",
    "          [\"X\",\"X\",\"O\",\"X\"],\n",
    "          [\"X\",\"O\",\"X\",\"X\"]]\n",
    "board2 = [[\"X\"]]\n",
    "board3 = [[\"X\",\"X\",\"X\",\"X\"],\n",
    "          [\"X\",\"O\",\"O\",\"O\"],\n",
    "          [\"X\",\"X\",\"O\",\"X\"],\n",
    "          [\"X\",\"O\",\"X\",\"X\"]]\n",
    "\n",
    "# dfs from edge of board to mark territory that should NOT be captured, then search board and mark all spaces as O if NOT capturable, and X otherwise\n",
    "from typing import List\n",
    "class Solution:\n",
    "    def solve(self, board: List[List[str]]) -> None:\n",
    "        \"\"\"\n",
    "        Do not return anything, modify board in-place instead.\n",
    "        \"\"\"\n",
    "        rows, cols = len(board), len(board[0])\n",
    "        \n",
    "        def dfs(m, n):\n",
    "            # check out of bounds\n",
    "            if (m < 0) or (n < 0) or (m >= rows) or (n >= cols):\n",
    "                return\n",
    "\n",
    "            if (board[m][n] == 'O'):\n",
    "                board[m][n] = 'T'\n",
    "                dirs = [(1,0), (-1,0), (0,1), (0,-1)]\n",
    "                for dm, dn in dirs:\n",
    "                    dfs(m+dm, n+dn)\n",
    "\n",
    "        # dfs from edges of board and mark all uncapturable 'O' as 'T'\n",
    "        for r in range(rows):\n",
    "            dfs(r, 0)\n",
    "            dfs(r, cols-1)\n",
    "        \n",
    "        for c in range(cols):\n",
    "            dfs(0, c)\n",
    "            dfs(rows-1,c)\n",
    "\n",
    "        # mark all 'T' as 'O', and all others as 'X'\n",
    "        for r in range(rows):\n",
    "            for c in range(cols):\n",
    "                if board[r][c] == 'T':\n",
    "                    board[r][c] = 'O'\n",
    "                else:\n",
    "                    board[r][c] = 'X'"
   ]
  },
  {
   "cell_type": "code",
   "execution_count": 111,
   "id": "02845c49-933c-4d4d-9fe0-81e3b7bfabae",
   "metadata": {},
   "outputs": [
    {
     "data": {
      "text/plain": [
       "[['X', 'X', 'X', 'X'],\n",
       " ['X', 'O', 'O', 'O'],\n",
       " ['X', 'X', 'O', 'X'],\n",
       " ['X', 'O', 'X', 'X']]"
      ]
     },
     "execution_count": 111,
     "metadata": {},
     "output_type": "execute_result"
    }
   ],
   "source": [
    "board3"
   ]
  },
  {
   "cell_type": "code",
   "execution_count": 112,
   "id": "0ac3bfcb-8820-407d-868a-82206ec713c2",
   "metadata": {},
   "outputs": [],
   "source": [
    "soln = Solution()\n",
    "soln.solve(board3)"
   ]
  },
  {
   "cell_type": "code",
   "execution_count": 113,
   "id": "b3dc26f0-0c5b-4fab-8b71-22e4b6a60108",
   "metadata": {},
   "outputs": [
    {
     "data": {
      "text/plain": [
       "[['X', 'X', 'X', 'X'],\n",
       " ['X', 'O', 'O', 'O'],\n",
       " ['X', 'X', 'O', 'X'],\n",
       " ['X', 'O', 'X', 'X']]"
      ]
     },
     "execution_count": 113,
     "metadata": {},
     "output_type": "execute_result"
    }
   ],
   "source": [
    "board3"
   ]
  },
  {
   "cell_type": "markdown",
   "id": "d24350fa-8d58-4094-846e-b0c94274df40",
   "metadata": {},
   "source": [
    "## 994. Rotting Oranges\n",
    "\n",
    "leetcode: https://leetcode.com/problems/rotting-oranges/"
   ]
  },
  {
   "cell_type": "markdown",
   "id": "d04c0d84-cbb3-4267-8e0a-163e8e821fa0",
   "metadata": {},
   "source": [
    "You are given an `m x n` `grid` where each cell can have one of three values:\n",
    "\n",
    "* `0` representing an empty cell,\n",
    "* `1` representing a fresh orange, or\n",
    "* `2` representing a rotten orange.\n",
    "\n",
    "Every minute, any fresh orange that is **4-directionally adjacent** to a rotten orange becomes rotten.\n",
    "\n",
    "Return the **minimum number of minutes** that must elapse until no cell has a fresh orange. If this is impossible, return `-1`.\n",
    "\n",
    " \n",
    "\n",
    "**Example 1:**\n",
    "\n",
    "![https://assets.leetcode.com/uploads/2019/02/16/oranges.png](https://assets.leetcode.com/uploads/2019/02/16/oranges.png)\n",
    "```\n",
    "Input: grid = [[2,1,1],[1,1,0],[0,1,1]]\n",
    "Output: 4\n",
    "```\n",
    "**Example 2:**\n",
    "```\n",
    "Input: grid = [[2,1,1],[0,1,1],[1,0,1]]\n",
    "Output: -1\n",
    "Explanation: The orange in the bottom left corner (row 2, column 0) is never rotten, because rotting only happens 4-directionally.\n",
    "```\n",
    "**Example 3:**\n",
    "```\n",
    "Input: grid = [[0,2]]\n",
    "Output: 0\n",
    "Explanation: Since there are already no fresh oranges at minute 0, the answer is just 0.\n",
    "```\n",
    "\n",
    "**Constraints:**\n",
    "\n",
    "* `m == grid.length`\n",
    "* `n == grid[i].length`\n",
    "* `1 <= m, n <= 10`\n",
    "* `grid[i][j]` is `0`, `1`, or `2`."
   ]
  },
  {
   "cell_type": "code",
   "execution_count": 1,
   "id": "436e328e-f3b1-4464-92d2-e19d12eae969",
   "metadata": {},
   "outputs": [],
   "source": [
    "grid1 = [[2,1,1],\n",
    "         [1,1,0],\n",
    "         [0,1,1]]\n",
    "\n",
    "grid2 = [[2,1,1],\n",
    "         [0,1,1],\n",
    "         [1,0,1]]\n",
    "\n",
    "grid3 = [[0,2]]"
   ]
  },
  {
   "cell_type": "code",
   "execution_count": 2,
   "id": "e50b42d0-0e62-4a30-a901-16738ee61896",
   "metadata": {},
   "outputs": [],
   "source": [
    "# DFS approach, does not work because?:\n",
    "# DFS starting at each initial rotten orange\n",
    "# add to hashmap each orange that becomes rotten at minute X\n",
    "# maintain minimum minute each orange becomes rotten in hashmap\n",
    "# return max minute in final hashmap of minimum rotten minutes\n",
    "from typing import List\n",
    "class Solution:\n",
    "    def orangesRotting(self, grid: List[List[int]]) -> int:\n",
    "        rotten = {}\n",
    "        rows, cols = len(grid), len(grid[0])\n",
    "\n",
    "        def dfs(m, n, cur_minute):\n",
    "            if (m < 0) or (n < 0) or (m >= rows) or (n >= cols):\n",
    "                return\n",
    "\n",
    "            if grid[m][n] == 0:\n",
    "                return\n",
    "\n",
    "            if grid[m][n] == 2 and ((m,n) not in visited):\n",
    "                visited.add((m,n))\n",
    "                dirs = [(0,1), (0,-1), (1,0), (-1,0)]\n",
    "                for dm, dn in dirs:\n",
    "                    dfs(m+dm, n+dn, cur_minute+1)\n",
    "\n",
    "            if grid[m][n] == 1 and ((m,n) not in visited):\n",
    "                rotten_minute = rotten.get((m,n))\n",
    "                if rotten_minute and cur_minute < rotten_minute:\n",
    "                    rotten[(m,n)] = cur_minute\n",
    "                else:\n",
    "                    rotten[(m,n)] = cur_minute\n",
    "\n",
    "                #dfs\n",
    "                visited.add((m,n))\n",
    "                dirs = [(0,1), (0,-1), (1,0), (-1,0)]\n",
    "                for dm, dn in dirs:\n",
    "                    dfs(m+dm, n+dn, cur_minute+1)\n",
    "            \n",
    "        for m in range(rows):\n",
    "            for n in range(cols):\n",
    "                dfs(m, n, 0)\n",
    "\n",
    "        ans = 0\n",
    "        for val in rotten.values():\n",
    "            visited = set()\n",
    "            ans = max(ans, val)\n",
    "        \n",
    "        return ans"
   ]
  },
  {
   "cell_type": "code",
   "execution_count": 26,
   "id": "f5e8694b-8059-42df-93b9-43571a1a126e",
   "metadata": {},
   "outputs": [],
   "source": [
    "# BFS approach: \n",
    "# BFS starting at each initial rotten orange\n",
    "# add to hashmap each orange that becomes rotten at minute X\n",
    "# maintain minimum minute each orange becomes rotten in hashmap\n",
    "# return max minute in final hashmap of minimum rotten minutes\n",
    "grid1 = [[2,1,1],\n",
    "         [1,1,0],\n",
    "         [0,1,1]]\n",
    "\n",
    "grid2 = [[2,1,1],\n",
    "         [0,1,1],\n",
    "         [1,0,1]]\n",
    "\n",
    "grid3 = [[0,2]]\n",
    "\n",
    "grid4 = [[2,1,1],\n",
    "         [1,1,0],\n",
    "         [0,1,2]]\n",
    "\n",
    "grid5 = [[0]]\n",
    "\n",
    "from typing import List\n",
    "from collections import deque\n",
    "class Solution:\n",
    "    def orangesRotting(self, grid: List[List[int]]) -> int:\n",
    "        rows, cols = len(grid), len(grid[0])\n",
    "        queue = deque()\n",
    "\n",
    "        def bfs(m, n, fresh_count):\n",
    "            if grid[m][n] == 2:\n",
    "                dirs = [(0,1), (0,-1), (1,0), (-1,0)]\n",
    "                for dm, dn in dirs:\n",
    "                    if (m+dm < 0) or (n+dn < 0) or (m+dm >= rows) or (n+dn >= cols):\n",
    "                        continue\n",
    "                        \n",
    "                    if grid[m+dm][n+dn] == 1:\n",
    "                        queue.append((m+dm,n+dn))\n",
    "                        grid[m+dm][n+dn] = 2\n",
    "                        fresh_count -= 1\n",
    "                        \n",
    "            return fresh_count\n",
    "\n",
    "        fresh_count = 0\n",
    "        for m in range(rows):\n",
    "            for n in range(cols):\n",
    "                if grid[m][n] == 2:\n",
    "                    queue.append((m,n))\n",
    "                if grid[m][n] == 1:\n",
    "                    fresh_count += 1\n",
    "\n",
    "        cur_minute = 0\n",
    "        while len(queue) > 0:\n",
    "            cur_minute += 1\n",
    "            for _ in range(len(queue)):\n",
    "                m,n = queue.popleft()\n",
    "                fresh_count = bfs(m, n, fresh_count)\n",
    "        \n",
    "        return -1 if (fresh_count > 0) else max(cur_minute-1, 0)"
   ]
  },
  {
   "cell_type": "code",
   "execution_count": 51,
   "id": "cc356de7-76e4-4e1f-9fb0-056d21291089",
   "metadata": {},
   "outputs": [],
   "source": [
    "# refactored BFS solution\n",
    "grid1 = [[2,1,1],\n",
    "         [1,1,0],\n",
    "         [0,1,1]]\n",
    "\n",
    "grid2 = [[2,1,1],\n",
    "         [0,1,1],\n",
    "         [1,0,1]]\n",
    "\n",
    "grid3 = [[0,2]]\n",
    "\n",
    "grid4 = [[2,1,1],\n",
    "         [1,1,0],\n",
    "         [0,1,2]]\n",
    "\n",
    "grid5 = [[0]]\n",
    "\n",
    "grid6 = [[2]]\n",
    "\n",
    "from typing import List\n",
    "from collections import deque\n",
    "class Solution:\n",
    "    def orangesRotting(self, grid: List[List[int]]) -> int:\n",
    "        rows, cols = len(grid), len(grid[0])\n",
    "        queue = deque()\n",
    "\n",
    "        fresh_count = 0\n",
    "        for m in range(rows):\n",
    "            for n in range(cols):\n",
    "                if grid[m][n] == 2:\n",
    "                    queue.append((m,n))\n",
    "                if grid[m][n] == 1:\n",
    "                    fresh_count += 1\n",
    "\n",
    "        cur_minute = 0\n",
    "        dirs = [(0,1), (0,-1), (1,0), (-1,0)]\n",
    "        while (len(queue) > 0):\n",
    "            for _ in range(len(queue)):\n",
    "                m,n = queue.popleft()\n",
    "                for dm, dn in dirs:\n",
    "                    if (m+dm < 0) or (n+dn < 0) or (m+dm >= rows) or (n+dn >= cols):\n",
    "                        continue\n",
    "                    \n",
    "                    if grid[m+dm][n+dn] == 1:\n",
    "                        queue.append((m+dm,n+dn))\n",
    "                        grid[m+dm][n+dn] = 2\n",
    "                        fresh_count -= 1\n",
    "            cur_minute += 1\n",
    "        \n",
    "        return -1 if (fresh_count > 0) else max(cur_minute-1, 0)\n",
    "        # return -1 if (fresh_count > 0) else cur_minute\n"
   ]
  },
  {
   "cell_type": "code",
   "execution_count": 52,
   "id": "ea3e78f1-2a0b-43a8-9800-7f77f11d998b",
   "metadata": {},
   "outputs": [
    {
     "data": {
      "text/plain": [
       "4"
      ]
     },
     "execution_count": 52,
     "metadata": {},
     "output_type": "execute_result"
    }
   ],
   "source": [
    "soln = Solution()\n",
    "soln.orangesRotting(grid1)"
   ]
  },
  {
   "cell_type": "code",
   "execution_count": 26,
   "id": "1e2adbd0-769d-498f-803c-f3f64b8ad018",
   "metadata": {},
   "outputs": [
    {
     "data": {
      "text/plain": [
       "2"
      ]
     },
     "execution_count": 26,
     "metadata": {},
     "output_type": "execute_result"
    }
   ],
   "source": [
    "grid1[0][0]"
   ]
  },
  {
   "cell_type": "markdown",
   "id": "746c8d22-5c77-4f41-8248-f6465517045a",
   "metadata": {},
   "source": [
    "## 207. Course Schedule\n",
    "\n",
    "leetcode: https://leetcode.com/problems/course-schedule/"
   ]
  },
  {
   "cell_type": "markdown",
   "id": "2d4489e1-d9fa-4f98-b38f-60ab12255442",
   "metadata": {},
   "source": [
    "There are a total of `numCourses` courses you have to take, labeled from `0` to `numCourses - 1`. You are given an array `prerequisites` where `prerequisites[i] = [ai, bi]` indicates that you **must** take course `bi` first if you want to take course `ai`.\n",
    "\n",
    "* For example, the pair `[0, 1]`, indicates that to take course `0` you have to first take course `1`.\n",
    "\n",
    "Return `true` if you can finish all courses. Otherwise, return `false`.\n",
    "\n",
    " \n",
    "\n",
    "**Example 1:**\n",
    "```\n",
    "Input: numCourses = 2, prerequisites = [[1,0]]\n",
    "Output: true\n",
    "Explanation: There are a total of 2 courses to take. \n",
    "To take course 1 you should have finished course 0. So it is possible.\n",
    "```\n",
    "**Example 2:**\n",
    "```\n",
    "Input: numCourses = 2, prerequisites = [[1,0],[0,1]]\n",
    "Output: false\n",
    "Explanation: There are a total of 2 courses to take. \n",
    "To take course 1 you should have finished course 0, and to take course 0 you should also have finished course 1. So it is impossible.\n",
    "```\n",
    "\n",
    "**Constraints:**\n",
    "\n",
    "* `1 <= numCourses <= 2000`\n",
    "* `0 <= prerequisites.length <= 5000`\n",
    "* `prerequisites[i].length == 2`\n",
    "* `0 <= ai, bi < numCourses`\n",
    "* All the pairs `prerequisites[i]` are **unique**."
   ]
  },
  {
   "cell_type": "code",
   "execution_count": 6,
   "id": "17d558a7-26cd-4aa5-a440-8554f0354d9a",
   "metadata": {},
   "outputs": [],
   "source": [
    "numCourses1 = 2\n",
    "prerequisites1 = [[1,0]]\n",
    "numCourses2 = 2\n",
    "prerequisites2 = [[1,0],[0,1]]\n",
    "numCourses3 = 5\n",
    "prerequisites3 = [[1,4],[2,4],[3,1],[3,2]]\n",
    "numCourses4 = 8\n",
    "prerequisites4 = [[1,0],[2,6],[1,7],[6,4],[7,0],[0,5]]\n",
    "\n",
    "numCourses5 = 100\n",
    "prerequisites5 = [[1,0],[2,0],[2,1],[3,1],[3,2],[4,2],[4,3],[5,3],[5,4],[6,4],[6,5],[7,5],[7,6],[8,6],[8,7],[9,7],[9,8],[10,8],[10,9],[11,9],[11,10],[12,10],[12,11],[13,11],[13,12],[14,12],[14,13],[15,13],[15,14],[16,14],[16,15],[17,15],[17,16],[18,16],[18,17],[19,17],[19,18],[20,18],[20,19],[21,19],[21,20],[22,20],[22,21],[23,21],[23,22],[24,22],[24,23],[25,23],[25,24],[26,24],[26,25],[27,25],[27,26],[28,26],[28,27],[29,27],[29,28],[30,28],[30,29],[31,29],[31,30],[32,30],[32,31],[33,31],[33,32],[34,32],[34,33],[35,33],[35,34],[36,34],[36,35],[37,35],[37,36],[38,36],[38,37],[39,37],[39,38],[40,38],[40,39],[41,39],[41,40],[42,40],[42,41],[43,41],[43,42],[44,42],[44,43],[45,43],[45,44],[46,44],[46,45],[47,45],[47,46],[48,46],[48,47],[49,47],[49,48],[50,48],[50,49],[51,49],[51,50],[52,50],[52,51],[53,51],[53,52],[54,52],[54,53],[55,53],[55,54],[56,54],[56,55],[57,55],[57,56],[58,56],[58,57],[59,57],[59,58],[60,58],[60,59],[61,59],[61,60],[62,60],[62,61],[63,61],[63,62],[64,62],[64,63],[65,63],[65,64],[66,64],[66,65],[67,65],[67,66],[68,66],[68,67],[69,67],[69,68],[70,68],[70,69],[71,69],[71,70],[72,70],[72,71],[73,71],[73,72],[74,72],[74,73],[75,73],[75,74],[76,74],[76,75],[77,75],[77,76],[78,76],[78,77],[79,77],[79,78],[80,78],[80,79],[81,79],[81,80],[82,80],[82,81],[83,81],[83,82],[84,82],[84,83],[85,83],[85,84],[86,84],[86,85],[87,85],[87,86],[88,86],[88,87],[89,87],[89,88],[90,88],[90,89],[91,89],[91,90],[92,90],[92,91],[93,91],[93,92],[94,92],[94,93],[95,93],[95,94],[96,94],[96,95],[97,95],[97,96],[98,96],[98,97],[99,97]]\n"
   ]
  },
  {
   "cell_type": "code",
   "execution_count": 138,
   "id": "75845573-a7a3-4edf-a9b4-5618280ad7ff",
   "metadata": {},
   "outputs": [],
   "source": [
    "# cycle detection using DFS\n",
    "from typing import List, Optional\n",
    "class Solution:\n",
    "    # def buildAdjList(self, numCourses: int, prerequisites: List[List[int]]) -> List:\n",
    "    #     adj_list = {i:[] for i in range(numCourses)}\n",
    "    #     for dest, source in prerequisites:\n",
    "    #         adj_list[dest].append(source)  \n",
    "    #     return adj_list\n",
    "        \n",
    "    def canFinish(self, numCourses: int, prerequisites: List[List[int]]) -> bool:\n",
    "        adj_list = {i:[] for i in range(numCourses)}\n",
    "        for dest, source in prerequisites:\n",
    "            adj_list[dest].append(source)\n",
    "\n",
    "        def detectCycle(course):\n",
    "            if course in visited:\n",
    "                return True \n",
    "\n",
    "            prereqs = adj_list[course]\n",
    "            if len(prereqs) == 0: # no rerequisites\n",
    "                return False\n",
    "\n",
    "            visited.add(course)\n",
    "            for prereq in prereqs:\n",
    "                if detectCycle(prereq):\n",
    "                    return True\n",
    "                    \n",
    "            visited.remove(course)\n",
    "            # optimization to avoid TLE: remove prereqs on course since it is confirmed to NOT have cycle\n",
    "            adj_list[course] = []\n",
    "            return False\n",
    "                \n",
    "\n",
    "        for course in adj_list.keys():\n",
    "            visited = set()\n",
    "            if detectCycle(course):\n",
    "                return False\n",
    "        \n",
    "        return True"
   ]
  },
  {
   "cell_type": "markdown",
   "id": "3bbd35c9-b99e-4d99-809a-4ff52cb09c2c",
   "metadata": {},
   "source": [
    "## Solution Explanation\n",
    "\n",
    "https://leetcode.com/problems/course-schedule/solutions/441722/python-99-time-and-100-space-collection-of-solutions-with-explanation/"
   ]
  },
  {
   "cell_type": "code",
   "execution_count": 28,
   "id": "07ef6fd9-728e-4e23-b55c-0a6cef8f8804",
   "metadata": {},
   "outputs": [],
   "source": [
    "# cycle detection using DFS using array with three states to track status\n",
    "from typing import List, Optional\n",
    "class Solution:\n",
    "    def buildAdjList(self, numCourses: int, prerequisites: List[List[int]]) -> List:\n",
    "        adj_list = {i:[] for i in range(numCourses)}\n",
    "        for dest, source in prerequisites:\n",
    "            adj_list[dest].append(source)  \n",
    "        return adj_list\n",
    "        \n",
    "    def canFinish(self, numCourses: int, prerequisites: List[List[int]]) -> bool:\n",
    "        adj_list = self.buildAdjList(numCourses, prerequisites)\n",
    "\n",
    "        def detectCycle(course):\n",
    "            if states[course] == 1:\n",
    "                return False\n",
    "            \n",
    "            if states[course] == -1:\n",
    "                return True \n",
    "\n",
    "            # set state to currently exploring and visit each prereq\n",
    "            states[course] = -1\n",
    "            prereqs = adj_list[course]\n",
    "            for prereq in prereqs:\n",
    "                if detectCycle(prereq):\n",
    "                    return True\n",
    "\n",
    "            # set state to explored if no loop found\n",
    "            states[course] = 1\n",
    "            return False\n",
    "\n",
    "        # states array to track courses status\n",
    "        # 0 = initial state, not explored yet\n",
    "        # 1 = fully explored and found to have no loops in it's prereqs\n",
    "        # -1 = currently being explored; if encounted while exploring then there is a loop and courses cannot be finished\n",
    "        states = [0 for _ in range(numCourses)]\n",
    "\n",
    "        for course in adj_list.keys():\n",
    "            if detectCycle(course):\n",
    "                return False\n",
    "        \n",
    "        return True"
   ]
  },
  {
   "cell_type": "code",
   "execution_count": 29,
   "id": "6db9f42d-6e3d-4e29-a956-86697f5d4a53",
   "metadata": {},
   "outputs": [
    {
     "data": {
      "text/plain": [
       "True"
      ]
     },
     "execution_count": 29,
     "metadata": {},
     "output_type": "execute_result"
    }
   ],
   "source": [
    "soln = Solution()\n",
    "soln.canFinish(numCourses5, prerequisites5)"
   ]
  },
  {
   "cell_type": "code",
   "execution_count": 76,
   "id": "2be4815d-0cb6-4e6e-a0c4-8b9f77c034ce",
   "metadata": {},
   "outputs": [
    {
     "name": "stdout",
     "output_type": "stream",
     "text": [
      "dest: 1 source: 0\n"
     ]
    }
   ],
   "source": [
    "for dest, source in prerequisites1:\n",
    "    print('dest:', dest, 'source:', source)"
   ]
  },
  {
   "cell_type": "code",
   "execution_count": 118,
   "id": "23a48f3f-913b-4a5c-a14b-08b322527970",
   "metadata": {},
   "outputs": [
    {
     "data": {
      "text/plain": [
       "[[1, 0], [2, 6], [1, 7], [6, 4], [7, 0], [0, 5]]"
      ]
     },
     "execution_count": 118,
     "metadata": {},
     "output_type": "execute_result"
    }
   ],
   "source": [
    "prerequisites4"
   ]
  },
  {
   "cell_type": "code",
   "execution_count": 121,
   "id": "aec35b7f-5b4b-4565-9fb6-a0e1d8ca51ae",
   "metadata": {},
   "outputs": [
    {
     "data": {
      "text/plain": [
       "{0: [5], 1: [0, 7], 2: [6], 3: [], 4: [], 5: [], 6: [4], 7: [0]}"
      ]
     },
     "execution_count": 121,
     "metadata": {},
     "output_type": "execute_result"
    }
   ],
   "source": [
    "soln.buildAdjList(numCourses4, prerequisites4)"
   ]
  },
  {
   "cell_type": "code",
   "execution_count": 87,
   "id": "933b52a7-9f7c-447a-8538-122d85052c3b",
   "metadata": {},
   "outputs": [],
   "source": [
    "for val in []:\n",
    "    print('hi')"
   ]
  },
  {
   "cell_type": "code",
   "execution_count": null,
   "id": "9a746c35-56c4-4036-979d-4b9c271fbf95",
   "metadata": {},
   "outputs": [],
   "source": []
  },
  {
   "cell_type": "markdown",
   "id": "2df9e5d0-2505-4bdc-8f28-aa7bd87a65a1",
   "metadata": {},
   "source": [
    "## 210. Course Schedule II\n",
    "\n",
    "leetcode: https://leetcode.com/problems/course-schedule-ii/"
   ]
  },
  {
   "cell_type": "markdown",
   "id": "979bf372-d69b-4f83-96a4-5d9907ceebae",
   "metadata": {},
   "source": [
    "There are a total of `numCourses` courses you have to take, labeled from `0` to `numCourses - 1`. You are given an array `prerequisites` where `prerequisites[i] = [ai, bi]` indicates that you must take course `bi` first if you want to take course `ai`.\n",
    "\n",
    "* For example, the pair `[0, 1]`, indicates that to take course `0` you have to first take course `1`.\n",
    "  \n",
    "Return **the ordering of courses you should take to finish all courses**. If there are many valid answers, return **any** of them. If it is impossible to finish all courses, return **an empty array**.\n",
    "\n",
    " \n",
    "\n",
    "**Example 1:**\n",
    "```\n",
    "Input: numCourses = 2, prerequisites = [[1,0]]\n",
    "Output: [0,1]\n",
    "Explanation: There are a total of 2 courses to take. To take course 1 you should have finished course 0. So the correct course order is [0,1].\n",
    "```\n",
    "**Example 2:**\n",
    "```\n",
    "Input: numCourses = 4, prerequisites = [[1,0],[2,0],[3,1],[3,2]]\n",
    "Output: [0,2,1,3]\n",
    "Explanation: There are a total of 4 courses to take. To take course 3 you should have finished both courses 1 and 2. Both courses 1 and 2 should be taken after you finished course 0.\n",
    "So one correct course order is [0,1,2,3]. Another correct ordering is [0,2,1,3].\n",
    "```\n",
    "**Example 3:**\n",
    "```\n",
    "Input: numCourses = 1, prerequisites = []\n",
    "Output: [0]\n",
    "```\n",
    "\n",
    "**Constraints:**\n",
    "\n",
    "* `1 <= numCourses <= 2000`\n",
    "* `0 <= prerequisites.length <= numCourses * (numCourses - 1)`\n",
    "* `prerequisites[i].length == 2`\n",
    "* `0 <= ai, bi < numCourses`\n",
    "* `ai != bi`\n",
    "* All the pairs `[ai, bi]` are distinct."
   ]
  },
  {
   "cell_type": "code",
   "execution_count": 35,
   "id": "db397ead-899d-4e57-ad61-76d439137fd5",
   "metadata": {},
   "outputs": [],
   "source": [
    "numCourses1 = 2\n",
    "prerequisites1 = [[1,0]]\n",
    "\n",
    "numCourses2 = 4\n",
    "prerequisites2 = [[1,0],[2,0],[3,1],[3,2]]\n",
    "\n",
    "numCourses3 = 1\n",
    "prerequisites3 = []\n",
    "\n",
    "numCourses4 = 4\n",
    "prerequisites4 = [[1,0],[2,0],[3,1],[3,2],[0,3]]"
   ]
  },
  {
   "cell_type": "code",
   "execution_count": 23,
   "id": "ec4fbfd8-cf1c-4abd-b3bd-37a9856761e1",
   "metadata": {},
   "outputs": [],
   "source": [
    "# DFS solution\n",
    "from typing import List\n",
    "class Solution:\n",
    "    def buildAdjList(self, numCourses: int, prerequisites: List[List[int]]) -> List[int]:\n",
    "        adj_list = {i:[] for i in range(numCourses)}\n",
    "        for course, prereq in prerequisites:\n",
    "            adj_list[course].append(prereq)\n",
    "\n",
    "        return adj_list\n",
    "    \n",
    "    def findOrder(self, numCourses: int, prerequisites: List[List[int]]) -> List[int]:\n",
    "        adj_list = self.buildAdjList(numCourses, prerequisites)\n",
    "        # completed = set() # courses already completed\n",
    "        course_order = []\n",
    "\n",
    "        def dfs(course):\n",
    "            if course in visited:\n",
    "                return True # has cycle\n",
    "\n",
    "            prereqs = adj_list[course]\n",
    "            if len(prereqs) == 0: # no prereqs, can take course\n",
    "                if course not in course_order:\n",
    "                    course_order.append(course)\n",
    "                return False\n",
    "\n",
    "            visited.add(course)\n",
    "            for prereq in prereqs:\n",
    "                if dfs(prereq):\n",
    "                    return True\n",
    "            # now that prereqs are satisfied, can take course\n",
    "            if course not in course_order:\n",
    "                course_order.append(course)\n",
    "            visited.remove(course)\n",
    "            # optimization: remove prereqs from course since they are satisifed now\n",
    "            adj_list[course] = []\n",
    "            \n",
    "            return False\n",
    "\n",
    "        for course in range(numCourses):\n",
    "            visited = set() # courses visited during each DFS exploration\n",
    "            if dfs(course): # if cycle found\n",
    "                return []\n",
    "        \n",
    "        return course_order"
   ]
  },
  {
   "cell_type": "code",
   "execution_count": 42,
   "id": "56daf999-6208-44b5-b853-13d1ca303a5f",
   "metadata": {},
   "outputs": [],
   "source": [
    "# DFS solution using states array\n",
    "from typing import List\n",
    "class Solution:\n",
    "    def buildAdjList(self, numCourses: int, prerequisites: List[List[int]]) -> List[int]:\n",
    "        adj_list = {i:[] for i in range(numCourses)}\n",
    "        for course, prereq in prerequisites:\n",
    "            adj_list[course].append(prereq)\n",
    "\n",
    "        return adj_list\n",
    "    \n",
    "    def findOrder(self, numCourses: int, prerequisites: List[List[int]]) -> List[int]:\n",
    "        adj_list = self.buildAdjList(numCourses, prerequisites)\n",
    "        # completed = set() # courses already completed\n",
    "        course_order = []\n",
    "\n",
    "        def dfs(course):\n",
    "            # course explored and no cycle found\n",
    "            if states[course] == 1:\n",
    "                return False\n",
    "\n",
    "            # course being explored, so cycle found\n",
    "            if states[course] == -1: \n",
    "                return True\n",
    "\n",
    "            states[course] = -1\n",
    "            prereqs = adj_list[course]            \n",
    "            for prereq in prereqs:\n",
    "                if dfs(prereq):\n",
    "                    return True\n",
    "                \n",
    "            # now that prereqs are satisfied, can take course\n",
    "            course_order.append(course)\n",
    "\n",
    "            # set course to explored\n",
    "            states[course] = 1       \n",
    "            return False\n",
    "\n",
    "        # states array to track courses status\n",
    "        # 0 = initial state, not explored yet\n",
    "        # 1 = fully explored and found to have no loops in it's prereqs\n",
    "        # -1 = currently being explored; if encounted while exploring then there is a loop and courses cannot be finished\n",
    "        states = [0 for _ in range(numCourses)]\n",
    "\n",
    "        for course in range(numCourses):\n",
    "            if dfs(course): # if cycle found, return empty array\n",
    "                return []\n",
    "        \n",
    "        return course_order"
   ]
  },
  {
   "cell_type": "code",
   "execution_count": 43,
   "id": "5689e76f-0e6c-4538-9881-fe05f4a91f4e",
   "metadata": {},
   "outputs": [
    {
     "data": {
      "text/plain": [
       "[0, 1, 2, 3]"
      ]
     },
     "execution_count": 43,
     "metadata": {},
     "output_type": "execute_result"
    }
   ],
   "source": [
    "soln = Solution()\n",
    "soln.findOrder(numCourses2, prerequisites2)"
   ]
  },
  {
   "cell_type": "markdown",
   "id": "5af8f22e-a9c4-4fca-a1b4-c46cd0de2729",
   "metadata": {},
   "source": [
    "## 684. Redundant Connection\n",
    "\n",
    "leetcode: https://leetcode.com/problems/redundant-connection/"
   ]
  },
  {
   "cell_type": "markdown",
   "id": "13c15d27-4eb6-485f-a908-48996c25c4e0",
   "metadata": {},
   "source": [
    "In this problem, a tree is an **undirected graph** that is connected and has no cycles.\n",
    "\n",
    "You are given a graph that started as a tree with `n` nodes labeled from `1` to `n`, with one additional edge added. The added edge has two **different** vertices chosen from `1` to `n`, and was not an edge that already existed. The graph is represented as an array `edges` of length `n` where `edges[i] = [ai, bi]` indicates that there is an edge between nodes `ai` and `bi` in the graph.\n",
    "\n",
    "Return **an edge that can be removed** so that the resulting graph is a tree of `n` nodes. If there are multiple answers, return the answer that occurs last in the input.\n",
    "\n",
    " \n",
    "\n",
    "**Example 1:**\n",
    "\n",
    "![https://assets.leetcode.com/uploads/2021/05/02/reduntant1-1-graph.jpg](https://assets.leetcode.com/uploads/2021/05/02/reduntant1-1-graph.jpg)\n",
    "```\n",
    "Input: edges = [[1,2],[1,3],[2,3]]\n",
    "Output: [2,3]\n",
    "```\n",
    "**Example 2:**\n",
    "\n",
    "![https://assets.leetcode.com/uploads/2021/05/02/reduntant1-2-graph.jpg](https://assets.leetcode.com/uploads/2021/05/02/reduntant1-2-graph.jpg)\n",
    "```\n",
    "Input: edges = [[1,2],[2,3],[3,4],[1,4],[1,5]]\n",
    "Output: [1,4]\n",
    "```\n",
    "\n",
    "**Constraints:**\n",
    "\n",
    "* `n == edges.length`\n",
    "* `3 <= n <= 1000`\n",
    "* `edges[i].length == 2`\n",
    "* `1 <= ai < bi <= edges.length`\n",
    "* `ai != bi`\n",
    "* There are no repeated edges.\n",
    "* The given graph is connected."
   ]
  },
  {
   "cell_type": "code",
   "execution_count": 1,
   "id": "9abc7c59-0870-4d4e-b0e8-abf9bd2be233",
   "metadata": {},
   "outputs": [],
   "source": [
    "edges1 = [[1,2],[1,3],[2,3]]\n",
    "edges2 = [[1,2],[2,3],[3,4],[1,4],[1,5]]\n",
    "edges3 = [[3,4],[1,2],[2,4],[3,5],[2,5]]\n",
    "edges4 = [[3,7],[1,4],[2,8],[1,6],[7,9],[6,10],[1,7],[2,3],[8,9],[5,9]]"
   ]
  },
  {
   "cell_type": "code",
   "execution_count": 2,
   "id": "1d9d2f65-bde6-421a-a42e-59d2eed5e778",
   "metadata": {},
   "outputs": [],
   "source": [
    "# initial attempt\n",
    "# redundant connection = there is a cycle somewhere\n",
    "# DFS solution: iterate through edges list and use dfs to check if there exists another path between source -> destination in currently known graph\n",
    "from typing import List\n",
    "class Solution:\n",
    "    # def buildAdjList(self, edges: List[List[int]]) -> List[int]:\n",
    "    #     n = len(edges)\n",
    "    #     adj_list = {i:[] for i in range(1,n+1)}\n",
    "\n",
    "    #     for n1,n2 in edges:\n",
    "    #         adj_list[n1].append(n2)\n",
    "    #         adj_list[n2].append(n1)\n",
    "\n",
    "    #     return adj_list\n",
    "    \n",
    "    def findRedundantConnection(self, edges: List[List[int]]) -> List[int]:\n",
    "        adj_list = {}\n",
    "\n",
    "        def detectCycle(source, dest):\n",
    "            if source == dest:\n",
    "                return True\n",
    "\n",
    "            # try to find alternate path from source -> dest\n",
    "            nodes = adj_list.get(source)\n",
    "            if nodes:\n",
    "                for node in nodes:\n",
    "                    if node not in visited:\n",
    "                        visited.add(node)\n",
    "                        if detectCycle(node, dest):\n",
    "                            return True\n",
    "            \n",
    "            return False\n",
    "\n",
    "        ans = []\n",
    "        for edge in edges:\n",
    "            n1 = edge[0]\n",
    "            n2 = edge[1]\n",
    "            visited = set()\n",
    "            visited.add(n1)\n",
    "            if detectCycle(n1, n2):\n",
    "                ans = edge\n",
    "\n",
    "            # add nodes to adj_list\n",
    "            if n1 in adj_list.keys():\n",
    "                adj_list[n1].append(n2)\n",
    "            else:\n",
    "                adj_list[n1] = [n2]\n",
    "            if n2 in adj_list.keys():\n",
    "                adj_list[n2].append(n1)\n",
    "            else:\n",
    "                adj_list[n2] = [n1]\n",
    "        \n",
    "                \n",
    "            \n",
    "        \n",
    "        return ans"
   ]
  },
  {
   "cell_type": "code",
   "execution_count": 30,
   "id": "8b4a8dc4-b12c-4f08-ace1-130132c94ae4",
   "metadata": {},
   "outputs": [],
   "source": [
    "# more concise code\n",
    "# DFS solution: iterate through edges list and use dfs to check if there exists another path between source -> destination in currently known graph\n",
    "# run time: O(n^2)\n",
    "from typing import List\n",
    "class Solution:\n",
    "    def findRedundantConnection(self, edges: List[List[int]]) -> List[int]:\n",
    "        adj_list = {}\n",
    "\n",
    "        def detectCycle(source, dest):\n",
    "            # if source = dest then we've found an already existing path from source -> dest\n",
    "            if source == dest:\n",
    "                return True\n",
    "\n",
    "            # if source already visited, then no path to dest through source\n",
    "            if source in visited:\n",
    "                return False\n",
    "\n",
    "            # try to find alternate path from source -> dest\n",
    "            visited.add(source)\n",
    "            nodes = adj_list.get(source, [])\n",
    "            for node in nodes:\n",
    "                if detectCycle(node, dest):\n",
    "                    return True\n",
    "                        \n",
    "            return False\n",
    "\n",
    "        ans = []\n",
    "        for edge in edges:\n",
    "            n1 = edge[0]\n",
    "            n2 = edge[1]\n",
    "            visited = set()\n",
    "            if detectCycle(n1, n2):\n",
    "                ans = edge\n",
    "\n",
    "            # add nodes to adj_list\n",
    "            adj_list[n1] = adj_list.get(n1, [])\n",
    "            adj_list[n1].append(n2)\n",
    "\n",
    "            adj_list[n2] = adj_list.get(n2, [])\n",
    "            adj_list[n2].append(n1)\n",
    "        \n",
    "        return ans"
   ]
  },
  {
   "cell_type": "code",
   "execution_count": 4,
   "id": "a575b082-b92f-4e4a-acf1-025a0e48428b",
   "metadata": {},
   "outputs": [],
   "source": [
    "# Union Find solution: create a parent and rank array for each node\n",
    "# iterate through edges and merge nodes into node with larger rank (rank of parent) until encountering edge with two nodes of same parents\n",
    "# run time: O(n) solution\n",
    "from typing import List\n",
    "class Solution:\n",
    "    def findRedundantConnection(self, edges: List[List[int]]) -> List[int]:\n",
    "        parents = [i for i in range(len(edges)+1)]\n",
    "        rank = [1 for i in range(len(edges)+1)]        \n",
    "        \n",
    "        # find highest parent of a node and set as parent\n",
    "        def find(n):\n",
    "            # path halving, speeds up subsequent find operations on nodes in the set\n",
    "            parent = parents[n]\n",
    "            while parent != parents[parent]:\n",
    "                parents[n] = parents[parents[n]]\n",
    "                parent = parents[n]\n",
    "            return parent\n",
    "\n",
    "        def union(n1, n2):\n",
    "            p1, p2 = find(n1), find(n2)\n",
    "            if p1 == p2:\n",
    "                return False\n",
    "\n",
    "            # set parent of greater rank as parent of the other\n",
    "            if rank[p1] > rank[p2]: \n",
    "                parents[p2] = p1\n",
    "                rank[p1] += rank[p2]\n",
    "            else: # if rank[p2] >= rank[p1]:\n",
    "                parents[p1] = p2\n",
    "                rank[p2] += rank[p1]\n",
    "\n",
    "            return True\n",
    "\n",
    "        ans = []\n",
    "        for edge in edges:\n",
    "            n1 = edge[0]\n",
    "            n2 = edge[1]\n",
    "\n",
    "            # union nodes and return edge if parents are same\n",
    "            if not union(n1, n2): # need to exit early for case 4, because parents will be altered after union operation and can cause parent check to return incorrect edge\n",
    "                return edge\n",
    "            \n",
    "        return ans"
   ]
  },
  {
   "cell_type": "code",
   "execution_count": 5,
   "id": "47f21372-4fdd-4ba3-9dd8-c78c887cbe7f",
   "metadata": {},
   "outputs": [
    {
     "data": {
      "text/plain": [
       "[8, 9]"
      ]
     },
     "execution_count": 5,
     "metadata": {},
     "output_type": "execute_result"
    }
   ],
   "source": [
    "soln = Solution()\n",
    "soln.findRedundantConnection(edges4)"
   ]
  },
  {
   "cell_type": "code",
   "execution_count": null,
   "id": "f4070325-5303-4d26-b558-d315ff0682f8",
   "metadata": {},
   "outputs": [],
   "source": [
    "# review"
   ]
  },
  {
   "cell_type": "code",
   "execution_count": 25,
   "id": "3c7c55c5-b734-418e-906f-0409d3f60303",
   "metadata": {},
   "outputs": [],
   "source": [
    "# DFS review\n",
    "# redundant connection = there is a cycle somewhere\n",
    "# build graph and check if there already exist path from node1 -> node2 in graph so far\n",
    "from typing import List\n",
    "class Solution:\n",
    "    def findRedundantConnection(self, edges: List[List[int]]) -> List[int]:\n",
    "        graph = {} # adjacency map\n",
    "\n",
    "        def detectCycle(n1, n2):\n",
    "            if n1 == n2:\n",
    "                return True\n",
    "\n",
    "            if n1 in visited:\n",
    "                return False\n",
    "\n",
    "            visited.add(n1)\n",
    "            adj_nodes = graph.get(n1, [])\n",
    "            for node in adj_nodes:\n",
    "                if detectCycle(node, n2):\n",
    "                    return True\n",
    "            \n",
    "\n",
    "            return False\n",
    "\n",
    "        for edge in edges:\n",
    "            n1 = edge[0]\n",
    "            n2 = edge[1]\n",
    "            visited = set()\n",
    "\n",
    "            if detectCycle(n1, n2):\n",
    "                return edge\n",
    "\n",
    "            graph[n1] = graph.get(n1,[])\n",
    "            graph[n1].append(n2)\n",
    "            \n",
    "            graph[n2] = graph.get(n2,[])\n",
    "            graph[n2].append(n1)\n",
    "        \n",
    "        return None"
   ]
  },
  {
   "cell_type": "code",
   "execution_count": 36,
   "id": "fba7d435-4116-4f58-bf7e-54efd3f91660",
   "metadata": {},
   "outputs": [],
   "source": [
    "# union find solution\n",
    "# union nodes based on rank (number of descendents)\n",
    "from typing import List\n",
    "class Solution:\n",
    "    def findRedundantConnection(self, edges: List[List[int]]) -> List[int]:\n",
    "        parents = [i for i in range(len(edges)+1)]\n",
    "        rank = [1 for _ in range(len(edges)+1)]\n",
    "\n",
    "        # find root parent of node\n",
    "        def find(node):\n",
    "            parent = parents[node]\n",
    "            while parent != parents[parent]:\n",
    "                parents[node] = parents[parents[node]]\n",
    "                parent = parents[node]\n",
    "            return parent\n",
    "\n",
    "        def union(n1, n2):\n",
    "            p1, p2 = find(n1), find(n2)\n",
    "\n",
    "            # if parents are shared, then edge redundant\n",
    "            if p1 == p2:\n",
    "                return False\n",
    "\n",
    "            if rank[p1] > rank[p2]:\n",
    "                parents[p2] = p1\n",
    "                rank[p1] += rank[p2]\n",
    "            else:\n",
    "                parents[p1] = p2\n",
    "                rank[p2] += rank[p1]\n",
    "            \n",
    "            return True\n",
    "\n",
    "        \n",
    "                \n",
    "        ans = []\n",
    "        for edge in edges:\n",
    "            n1 = edge[0]\n",
    "            n2 = edge[1]\n",
    "            if not union(n1, n2):\n",
    "                ans = edge\n",
    "        \n",
    "        return ans"
   ]
  },
  {
   "cell_type": "code",
   "execution_count": 39,
   "id": "aa49df00-b76c-4133-92ae-25d32c4315a9",
   "metadata": {},
   "outputs": [
    {
     "data": {
      "text/plain": [
       "[1, 4]"
      ]
     },
     "execution_count": 39,
     "metadata": {},
     "output_type": "execute_result"
    }
   ],
   "source": [
    "soln = Solution()\n",
    "soln.findRedundantConnection(edges2)"
   ]
  },
  {
   "cell_type": "code",
   "execution_count": null,
   "id": "2eaf799d-ee6e-4047-ba43-542b72837024",
   "metadata": {},
   "outputs": [],
   "source": []
  },
  {
   "cell_type": "markdown",
   "id": "ffa007c3-0ff8-42fc-93d9-0152a3aeda70",
   "metadata": {},
   "source": [
    "## 127. Word Ladder\n",
    "\n",
    "leetcode: https://leetcode.com/problems/word-ladder/"
   ]
  },
  {
   "cell_type": "markdown",
   "id": "678fbda6-bf80-47ef-b0bf-d39a4ca73fe0",
   "metadata": {},
   "source": [
    "A **transformation sequence** from word `beginWord` to word `endWord` using a dictionary `wordList` is a sequence of words `beginWord -> s1 -> s2 -> ... -> sk` such that:\n",
    "\n",
    "* Every adjacent pair of words differs by a single letter.\n",
    "* Every `si` for `1 <= i <= k` is in `wordList`. Note that `beginWord` does not need to be in `wordList`.\n",
    "* `sk == endWord`\n",
    "\n",
    "Given two words, `beginWord` and `endWord`, and a dictionary `wordList`, return **the number of words** in the **shortest transformation sequence** from `beginWord` to `endWord`, or `0` if no such sequence exists.\n",
    "\n",
    " \n",
    "\n",
    "**Example 1:**\n",
    "```\n",
    "Input: beginWord = \"hit\", endWord = \"cog\", wordList = [\"hot\",\"dot\",\"dog\",\"lot\",\"log\",\"cog\"]\n",
    "Output: 5\n",
    "Explanation: One shortest transformation sequence is \"hit\" -> \"hot\" -> \"dot\" -> \"dog\" -> cog\", which is 5 words long.\n",
    "```\n",
    "**Example 2:**\n",
    "```\n",
    "Input: beginWord = \"hit\", endWord = \"cog\", wordList = [\"hot\",\"dot\",\"dog\",\"lot\",\"log\"]\n",
    "Output: 0\n",
    "Explanation: The endWord \"cog\" is not in wordList, therefore there is no valid transformation sequence.\n",
    "```\n",
    "\n",
    "**Constraints:**\n",
    "\n",
    "* `1 <= beginWord.length <= 10`\n",
    "* `endWord.length == beginWord.length`\n",
    "* `1 <= wordList.length <= 5000`\n",
    "* `wordList[i].length == beginWord.length`\n",
    "* `beginWord`, `endWord`, and `wordList[i]` consist of lowercase English letters.\n",
    "* `beginWord != endWord`\n",
    "* All the words in `wordList` are **unique**."
   ]
  },
  {
   "cell_type": "code",
   "execution_count": 43,
   "id": "ac5861c1-7148-4595-aa3c-329eb0bc7c2e",
   "metadata": {},
   "outputs": [],
   "source": [
    "beginWord1 = \"hit\"\n",
    "endWord1 = \"cog\"\n",
    "wordList1 = [\"hot\",\"dot\",\"dog\",\"lot\",\"log\",\"cog\"]\n",
    "\n",
    "beginWord2 = \"hit\"\n",
    "endWord2 = \"cog\"\n",
    "wordList2 = [\"hot\",\"dot\",\"dog\",\"lot\",\"log\"]"
   ]
  },
  {
   "cell_type": "code",
   "execution_count": 131,
   "id": "6c92eb97-b4c1-446d-a067-4b44a30cd72c",
   "metadata": {},
   "outputs": [],
   "source": [
    "# idea: build adjacency list (graph) of words that differ by 1 letter, then find shortest path from beginWord -> endWord using BFS\n",
    "from typing import List\n",
    "import collections\n",
    "class Solution:\n",
    "    def buildGraph(self, beginWord, wordList):\n",
    "        # naive approach: compare every word to each other O(n^2)\n",
    "        # optimized approach: construct adj_list with wildcard patterns as key (e.g. hot -> *ot, h*t, ho*) and list of words as values\n",
    "        adj_list = {}\n",
    "\n",
    "        words = wordList + [beginWord]\n",
    "        for word in words:\n",
    "            for c in range(len(word)):\n",
    "                pattern = word[0:c] + '*' + word[c+1:]\n",
    "                adj_list[pattern] = adj_list.get(pattern,[]) # or use defaultdict to avoid this line\n",
    "                adj_list[pattern].append(word)\n",
    "\n",
    "        return adj_list\n",
    "    \n",
    "    def ladderLength(self, beginWord: str, endWord: str, wordList: List[str]) -> int:\n",
    "        if endWord not in wordList:\n",
    "            return 0\n",
    "\n",
    "        # build pattern adjacency list\n",
    "        adj_list = self.buildGraph(beginWord, wordList)\n",
    "\n",
    "        # bfs\n",
    "        # queue = [beginWord] # or use deque() and popleft for optimization\n",
    "        queue = collections.deque([beginWord])\n",
    "        visited = set()\n",
    "        ans = 1\n",
    "        while len(queue) > 0:\n",
    "            for i in range(len(queue)):\n",
    "                word = queue.popleft()\n",
    "                \n",
    "                if word == endWord:\n",
    "                    return ans\n",
    "                    \n",
    "                visited.add(word)\n",
    "                for c in range(len(word)):\n",
    "                    pattern = word[0:c] + '*' + word[c+1:]\n",
    "                    neighbors = adj_list[pattern]\n",
    "                    for nei in neighbors:\n",
    "                        if (nei not in visited) and (nei not in queue):\n",
    "                            queue.append(nei)\n",
    "\n",
    "            ans += 1\n",
    "        return 0"
   ]
  },
  {
   "cell_type": "code",
   "execution_count": 132,
   "id": "4201e0e5-065a-4db6-8b5f-8a5ebac8f47d",
   "metadata": {},
   "outputs": [
    {
     "data": {
      "text/plain": [
       "0"
      ]
     },
     "execution_count": 132,
     "metadata": {},
     "output_type": "execute_result"
    }
   ],
   "source": [
    "soln = Solution()\n",
    "soln.ladderLength('hit', 'pig', [\"hot\",\"dot\",\"dog\",\"lot\",\"log\",\"cog\", \"pig\"])"
   ]
  },
  {
   "cell_type": "code",
   "execution_count": 136,
   "id": "d5042983-1dbf-42e1-bcfd-21f134a394ac",
   "metadata": {},
   "outputs": [
    {
     "data": {
      "text/plain": [
       "5"
      ]
     },
     "execution_count": 136,
     "metadata": {},
     "output_type": "execute_result"
    }
   ],
   "source": [
    "soln = Solution()\n",
    "soln.ladderLength('hit', 'cog', [\"hot\",\"dot\",\"dog\",\"lot\",\"log\",\"cog\", \"pig\"])"
   ]
  },
  {
   "cell_type": "markdown",
   "id": "74475a6d-a770-41ab-9c19-930a300294d9",
   "metadata": {},
   "source": [
    "# 1-D Dynamic Programming"
   ]
  },
  {
   "cell_type": "markdown",
   "id": "6802ff16-8734-440f-8437-3b21c74cd7aa",
   "metadata": {},
   "source": [
    "## 70. Climbing Stairs\n",
    "\n",
    "\n",
    "leetcode: https://leetcode.com/problems/climbing-stairs/"
   ]
  },
  {
   "cell_type": "markdown",
   "id": "5fd53452-60ed-4c21-91c4-f397228f9e92",
   "metadata": {},
   "source": [
    "You are climbing a staircase. It takes `n` steps to reach the top.\n",
    "\n",
    "Each time you can either climb `1` or `2` steps. In how many distinct ways can you climb to the top?\n",
    "\n",
    " \n",
    "\n",
    "**Example 1:**\n",
    "```\n",
    "Input: n = 2\n",
    "Output: 2\n",
    "Explanation: There are two ways to climb to the top.\n",
    "1. 1 step + 1 step\n",
    "2. 2 steps\n",
    "```\n",
    "**Example 2:**\n",
    "```\n",
    "Input: n = 3\n",
    "Output: 3\n",
    "Explanation: There are three ways to climb to the top.\n",
    "1. 1 step + 1 step + 1 step\n",
    "2. 1 step + 2 steps\n",
    "3. 2 steps + 1 step\n",
    "```\n",
    "\n",
    "**Constraints:**\n",
    "\n",
    "* `1 <= n <= 45`"
   ]
  },
  {
   "cell_type": "code",
   "execution_count": 2,
   "id": "f421dac2-a380-4439-891e-bc77b32a5c5e",
   "metadata": {},
   "outputs": [],
   "source": [
    "n1 = 2\n",
    "n2 = 3"
   ]
  },
  {
   "cell_type": "code",
   "execution_count": 25,
   "id": "21675962-f549-467e-aede-e82ce02fb1a1",
   "metadata": {},
   "outputs": [],
   "source": [
    "# recursive solution, TLE\n",
    "class Solution:\n",
    "    def climbStairs(self, n: int) -> int:\n",
    "        self.ways = 0\n",
    "        \n",
    "        def climb(steps_taken, steps):\n",
    "            if steps_taken + steps > n:\n",
    "                return\n",
    "\n",
    "            if steps_taken + steps == n:\n",
    "                self.ways += 1\n",
    "                return\n",
    "\n",
    "            climb(steps_taken + steps, 1)\n",
    "            climb(steps_taken + steps, 2)\n",
    "            \n",
    "            return\n",
    "\n",
    "        steps_taken = 0\n",
    "        climb(steps_taken, 1)\n",
    "        climb(steps_taken, 2)\n",
    "        \n",
    "        return self.ways"
   ]
  },
  {
   "cell_type": "code",
   "execution_count": 36,
   "id": "4718402d-ce83-41f0-a8ac-795a09fcc73d",
   "metadata": {},
   "outputs": [],
   "source": [
    "# dp \"bottom up\" approach: add up previous results\n",
    "class Solution:\n",
    "    def climbStairs(self, n: int) -> int:\n",
    "        # initialize dp array\n",
    "        # dp array represents the num_ways to reach each step at dp[i]\n",
    "        dp = [0] * (n+1)\n",
    "        \n",
    "        # base cases: dp[0] = 1 way to reach \"zeroth\" step, dp[1] = 1 way to reach 1st step\n",
    "        dp[0] = 1\n",
    "        dp[1] = 1\n",
    "\n",
    "        # dp[i] = dp[i-1] + dp[i-2] : num_ways to reach ith step is the num_ways to reach i-1 step AND num_ways to reach i-2 step\n",
    "        for i in range(2, n+1):\n",
    "            dp[i] = dp[i-1] + dp[i-2]\n",
    "\n",
    "        return dp[-1]"
   ]
  },
  {
   "cell_type": "code",
   "execution_count": 35,
   "id": "354eb773-0743-46c6-9358-990fe7fab973",
   "metadata": {},
   "outputs": [
    {
     "data": {
      "text/plain": [
       "[1, 1, 2, 3, 5, 8]"
      ]
     },
     "execution_count": 35,
     "metadata": {},
     "output_type": "execute_result"
    }
   ],
   "source": [
    "soln = Solution()\n",
    "soln.climbStairs(5)"
   ]
  },
  {
   "cell_type": "markdown",
   "id": "c8110337-1590-43c1-8c8e-524760bd52b6",
   "metadata": {},
   "source": [
    "## 746. Min Cost Climbing Stairs\n",
    "\n",
    "leetcode: https://leetcode.com/problems/min-cost-climbing-stairs/"
   ]
  },
  {
   "cell_type": "markdown",
   "id": "10ed50bc-e0f6-4fde-abbd-baffc58a47ff",
   "metadata": {},
   "source": [
    "You are given an integer array `cost` where cost[i] is the cost of `ith` step on a staircase. Once you pay the cost, you can either climb one or two steps.\n",
    "\n",
    "You can either start from the step with index `0`, or the step with index `1`.\n",
    "\n",
    "Return the **minimum cost to reach the top of the floor.**\n",
    "\n",
    " \n",
    "\n",
    "**Example 1:**\n",
    "```\n",
    "Input: cost = [10,15,20]\n",
    "Output: 15\n",
    "Explanation: You will start at index 1.\n",
    "- Pay 15 and climb two steps to reach the top.\n",
    "The total cost is 15.\n",
    "```\n",
    "**Example 2:**\n",
    "```\n",
    "Input: cost = [1,100,1,1,1,100,1,1,100,1]\n",
    "Output: 6\n",
    "Explanation: You will start at index 0.\n",
    "- Pay 1 and climb two steps to reach index 2.\n",
    "- Pay 1 and climb two steps to reach index 4.\n",
    "- Pay 1 and climb two steps to reach index 6.\n",
    "- Pay 1 and climb one step to reach index 7.\n",
    "- Pay 1 and climb two steps to reach index 9.\n",
    "- Pay 1 and climb one step to reach the top.\n",
    "The total cost is 6.\n",
    "```\n",
    "\n",
    "**Constraints:**\n",
    "\n",
    "* `2 <= cost.length <= 1000`\n",
    "* `0 <= cost[i] <= 999`"
   ]
  },
  {
   "cell_type": "code",
   "execution_count": 32,
   "id": "bc54e9ed-1e7c-49ca-91b6-6cea28ce3581",
   "metadata": {},
   "outputs": [],
   "source": [
    "cost1 = [10,15,20]\n",
    "cost2 = [1,100,1,1,1,100,1,1,100,1]"
   ]
  },
  {
   "cell_type": "code",
   "execution_count": 33,
   "id": "899b7c71-6aba-4ee4-95d6-1a454119c8a9",
   "metadata": {},
   "outputs": [],
   "source": [
    "from typing import List\n",
    "class Solution:\n",
    "    def minCostClimbingStairs(self, cost: List[int]) -> int:\n",
    "        # dp array, stores MIN cost of leaving this step\n",
    "        # cost.append(0)\n",
    "        n = len(cost)\n",
    "        dp = [0] * (n)\n",
    "\n",
    "        # base case: step 0 & 1\n",
    "        dp[0] = cost[0]\n",
    "        dp[1] = cost[1]\n",
    "\n",
    "        # calculate cost of leaving each step as min of cost to reach step + cost of step\n",
    "        for i in range(2,n):\n",
    "            dp[i] = cost[i] + min(dp[i-1],dp[i-2])\n",
    "            \n",
    "        return min(dp[-1], dp[-2])"
   ]
  },
  {
   "cell_type": "code",
   "execution_count": 31,
   "id": "38531b01-a506-4de3-bcbb-766e17204f18",
   "metadata": {},
   "outputs": [
    {
     "data": {
      "text/plain": [
       "[10, 15, 30, 15]"
      ]
     },
     "execution_count": 31,
     "metadata": {},
     "output_type": "execute_result"
    }
   ],
   "source": [
    "soln = Solution()\n",
    "soln.minCostClimbingStairs(cost1)"
   ]
  },
  {
   "cell_type": "code",
   "execution_count": 10,
   "id": "6f8da2ba-df61-4579-86df-076e7be87ece",
   "metadata": {},
   "outputs": [
    {
     "data": {
      "text/plain": [
       "[10, 15, 20]"
      ]
     },
     "execution_count": 10,
     "metadata": {},
     "output_type": "execute_result"
    }
   ],
   "source": [
    "cost1"
   ]
  },
  {
   "cell_type": "code",
   "execution_count": null,
   "id": "d1b00a36-d154-4537-b981-e94988ae7986",
   "metadata": {},
   "outputs": [],
   "source": []
  },
  {
   "cell_type": "markdown",
   "id": "f71142be-f75e-4423-aad3-6dc544a87e83",
   "metadata": {},
   "source": [
    "## 198. House Robber\n",
    "\n",
    "\n",
    "leetcode: https://leetcode.com/problems/house-robber/"
   ]
  },
  {
   "cell_type": "markdown",
   "id": "44052058-7c8b-4a3b-9ea9-05822649b093",
   "metadata": {},
   "source": [
    "You are a professional robber planning to rob houses along a street. Each house has a certain amount of money stashed, the only constraint stopping you from robbing each of them is that adjacent houses have security systems connected and it will **automatically contact the police if two adjacent houses were broken into on the same night**.\n",
    "\n",
    "Given an integer array `nums` representing the amount of money of each house, return the **maximum amount of money** you can rob tonight **without alerting the police**.\n",
    "\n",
    " \n",
    "\n",
    "**Example 1:**\n",
    "```\n",
    "Input: nums = [1,2,3,1]\n",
    "Output: 4\n",
    "Explanation: Rob house 1 (money = 1) and then rob house 3 (money = 3).\n",
    "Total amount you can rob = 1 + 3 = 4.\n",
    "```\n",
    "**Example 2:**\n",
    "```\n",
    "Input: nums = [2,7,9,3,1]\n",
    "Output: 12\n",
    "Explanation: Rob house 1 (money = 2), rob house 3 (money = 9) and rob house 5 (money = 1).\n",
    "Total amount you can rob = 2 + 9 + 1 = 12.\n",
    "```\n",
    "\n",
    "**Constraints:**\n",
    "\n",
    "* `1 <= nums.length <= 100`\n",
    "* `0 <= nums[i] <= 400`"
   ]
  },
  {
   "cell_type": "code",
   "execution_count": 25,
   "id": "af316d5c-55c6-4374-b3ff-e566cdf86df6",
   "metadata": {},
   "outputs": [],
   "source": [
    "nums1 = [1,2,3,1]\n",
    "nums2 = [2,7,9,3,1]\n",
    "nums3 = [2,20,9,3,1,5,1000] # 20 + 3 + 1000\n",
    "nums4 = [4,1]\n",
    "\n",
    "# [2, 20, 20, 23, 23, 28, 1023]"
   ]
  },
  {
   "cell_type": "code",
   "execution_count": 10,
   "id": "310b1e5a-49f6-470d-a94a-c4a41c1eedea",
   "metadata": {},
   "outputs": [],
   "source": [
    "# 1D DP solution: bottom up\n",
    "# idea: dp[i] represents the greatest sum (total robbed) up to i, value is the maximum of robbing nums[i] + total robbed (dp[i-2]) or NOT robbing nums[i]\n",
    "from typing import List\n",
    "class Solution:\n",
    "    def rob(self, nums: List[int]) -> int:\n",
    "        dp = [0] * len(nums)\n",
    "        # base case\n",
    "        dp[0] = nums[0]\n",
    "\n",
    "        for i in range(1, len(nums)):\n",
    "            if i > 1:\n",
    "                dp[i] = max(nums[i]+dp[i-2], dp[i-1])\n",
    "            else:\n",
    "                dp[i] = max(nums[i]+0, dp[i-1])\n",
    "        \n",
    "        return dp[-1]"
   ]
  },
  {
   "cell_type": "code",
   "execution_count": 32,
   "id": "5009623d-8557-48a8-b026-42328a1ad3a4",
   "metadata": {},
   "outputs": [],
   "source": [
    "# 1D DP solution: bottom up, space optimized\n",
    "from typing import List\n",
    "class Solution:\n",
    "    def rob(self, nums: List[int]) -> int:\n",
    "        # base case\n",
    "        prev1 = nums[0]\n",
    "        prev2 = 0\n",
    "\n",
    "        for i in range(1, len(nums)):\n",
    "            # if i > 1:\n",
    "            cur = max(nums[i]+prev2, prev1)\n",
    "            prev2 = prev1\n",
    "            prev1 = cur\n",
    "            # else: # i = 1\n",
    "            #     cur = max(nums[i],prev1)\n",
    "            #     prev2 = prev1\n",
    "            #     prev1 = cur\n",
    "        \n",
    "        return prev1"
   ]
  },
  {
   "cell_type": "code",
   "execution_count": 36,
   "id": "530d9339-b276-4fba-a88d-ddbf6e933a18",
   "metadata": {},
   "outputs": [
    {
     "data": {
      "text/plain": [
       "1023"
      ]
     },
     "execution_count": 36,
     "metadata": {},
     "output_type": "execute_result"
    }
   ],
   "source": [
    "soln = Solution()\n",
    "soln.rob(nums3)"
   ]
  },
  {
   "cell_type": "markdown",
   "id": "61d6d7d8-efca-476c-b30d-83f70ccb0208",
   "metadata": {},
   "source": [
    "## 213. House Robber II\n",
    "\n",
    "\n",
    "leetcode: https://leetcode.com/problems/house-robber-ii/"
   ]
  },
  {
   "cell_type": "markdown",
   "id": "2471921d-08a3-4353-86a5-f2707017366a",
   "metadata": {},
   "source": [
    "You are a professional robber planning to rob houses along a street. Each house has a certain amount of money stashed. All houses at this place are **arranged in a circle**. That means the first house is the neighbor of the last one. Meanwhile, adjacent houses have a security system connected, and it will **automatically contact the police if two adjacent houses were broken into on the same night.**\n",
    "\n",
    "Given an integer array `nums` representing the amount of money of each house, return the **maximum amount of money you can rob tonight without alerting the police.**\n",
    "\n",
    " \n",
    "\n",
    "**Example 1:**\n",
    "```\n",
    "Input: nums = [2,3,2]\n",
    "Output: 3\n",
    "Explanation: You cannot rob house 1 (money = 2) and then rob house 3 (money = 2), because they are adjacent houses.\n",
    "```\n",
    "**Example 2:**\n",
    "```\n",
    "Input: nums = [1,2,3,1]\n",
    "Output: 4\n",
    "Explanation: Rob house 1 (money = 1) and then rob house 3 (money = 3).\n",
    "Total amount you can rob = 1 + 3 = 4.\n",
    "```\n",
    "**Example 3:**\n",
    "```\n",
    "Input: nums = [1,2,3]\n",
    "Output: 3\n",
    "```\n",
    "\n",
    "**Constraints:**\n",
    "\n",
    "* `1 <= nums.length <= 100`\n",
    "* `0 <= nums[i] <= 1000`"
   ]
  },
  {
   "cell_type": "code",
   "execution_count": 2,
   "id": "c113c485-ce68-4017-879c-71e7f9302113",
   "metadata": {},
   "outputs": [],
   "source": [
    "nums1 = [2,3,2]\n",
    "nums2 = [1,2,3,1]\n",
    "nums3 = [1,2,3]\n",
    "nums4 = [2,20,9,3,1,5,1000] # 20 + 3 + 1000\n",
    "nums5 = [1,4,2,7] # 11"
   ]
  },
  {
   "cell_type": "code",
   "execution_count": 36,
   "id": "4cb800d8-da2d-416d-b5b1-6564f7e868f3",
   "metadata": {},
   "outputs": [],
   "source": [
    "# 1D DP: bottom up\n",
    "# idea: maximum amount is the maximum of the linear solution of excluding first house vs excluding last house\n",
    "from typing import List\n",
    "class Solution:\n",
    "    def rob(self, nums: List[int]) -> int:\n",
    "        # space optimized linear solution\n",
    "        def rob_linear(nums):\n",
    "            # base cases\n",
    "            prev1 = 0 # rob / dp 1 house prior\n",
    "            prev2 = 0 # rob / dp 2 houses prior\n",
    "            cur = 0\n",
    "            \n",
    "            for n in nums:\n",
    "                cur = max(prev2 + n, prev1) # rob current house n vs skip and take previous total prev1\n",
    "                prev2 = prev1\n",
    "                prev1 = cur\n",
    "            \n",
    "            return cur\n",
    "\n",
    "        rob_first = rob_linear(nums[:len(nums)-1])\n",
    "        rob_last = rob_linear(nums[1:])\n",
    "        return max(rob_first,rob_last,nums[0])"
   ]
  },
  {
   "cell_type": "code",
   "execution_count": 37,
   "id": "f260cbe4-52ae-476c-ba85-b96dca4a816f",
   "metadata": {},
   "outputs": [
    {
     "data": {
      "text/plain": [
       "5"
      ]
     },
     "execution_count": 37,
     "metadata": {},
     "output_type": "execute_result"
    }
   ],
   "source": [
    "soln = Solution()\n",
    "soln.rob([5])"
   ]
  },
  {
   "cell_type": "markdown",
   "id": "37971bc5-adca-40e7-bd65-82eeeebbb7ae",
   "metadata": {},
   "source": [
    "## 5. Longest Palindromic Substring\n",
    "\n",
    "\n",
    "leetcode: https://leetcode.com/problems/longest-palindromic-substring/"
   ]
  },
  {
   "cell_type": "markdown",
   "id": "6cec360a-12e7-45dc-bf3f-f1e4db945548",
   "metadata": {},
   "source": [
    "Given a string `s`, return the longest palindromic (A string is palindromic if it reads the same forward and backward.) substring in `s`.\n",
    "\n",
    " \n",
    "\n",
    "**Example 1:**\n",
    "```\n",
    "Input: s = \"babad\"\n",
    "Output: \"bab\"\n",
    "Explanation: \"aba\" is also a valid answer.\n",
    "```\n",
    "**Example 2:**\n",
    "```\n",
    "Input: s = \"cbbd\"\n",
    "Output: \"bb\"\n",
    "```\n",
    "\n",
    "**Constraints:**\n",
    "\n",
    "* `1 <= s.length <= 1000`\n",
    "* `s` consist of only digits and English letters."
   ]
  },
  {
   "cell_type": "code",
   "execution_count": 2,
   "id": "5a353333-9837-4054-878f-c2489ef4ad0b",
   "metadata": {},
   "outputs": [],
   "source": [
    "s1 = \"babad\"\n",
    "s2 = \"cbbd\""
   ]
  },
  {
   "cell_type": "code",
   "execution_count": 8,
   "id": "ee5bd66c-f294-4466-9740-6d3e170488e9",
   "metadata": {},
   "outputs": [],
   "source": [
    "# O(n^2) solution: scan through string and check longest palindrome centered at each letter by expanding window both sides\n",
    "class Solution:\n",
    "    def longestPalindrome(self, s: str) -> str:\n",
    "        def findPalindrome(s: str, l: int, r: int):\n",
    "            # expand window until pointers reach end of string or characters are not the same\n",
    "            while r < len(s) and l >= 0 and s[l]==s[r]:\n",
    "                l -= 1\n",
    "                r += 1\n",
    "            return s[l+1:r] # return largest palindrome found centered at initial pointer location\n",
    "\n",
    "        ans = ''\n",
    "        for i in range(len(s)):\n",
    "            cand1 = findPalindrome(s, i, i) # odd numbered palindrome, base case returns s[i]\n",
    "            cand2 = findPalindrome(s, i, i+1) # even numbered palindrome, base case returns s[i+1]\n",
    "            ans = max(cand1, cand2, ans, key=len)\n",
    "        \n",
    "        return ans"
   ]
  },
  {
   "cell_type": "code",
   "execution_count": 10,
   "id": "e16493b6-7a59-49c0-902b-9afb2760cf54",
   "metadata": {},
   "outputs": [
    {
     "data": {
      "text/plain": [
       "'bb'"
      ]
     },
     "execution_count": 10,
     "metadata": {},
     "output_type": "execute_result"
    }
   ],
   "source": [
    "soln = Solution()\n",
    "soln.longestPalindrome(s2)"
   ]
  },
  {
   "cell_type": "code",
   "execution_count": null,
   "id": "8e84012f-f4df-4cd6-b74d-b03666dce01d",
   "metadata": {},
   "outputs": [],
   "source": []
  },
  {
   "cell_type": "markdown",
   "id": "bbe00065-a4e7-48c0-a912-db6a05b87b1a",
   "metadata": {},
   "source": [
    "## 647. Palindromic Substrings\n",
    "\n",
    "\n",
    "leetcode: https://leetcode.com/problems/palindromic-substrings/"
   ]
  },
  {
   "cell_type": "markdown",
   "id": "aa9cc82c-550b-42b0-9c6f-47c5520337f8",
   "metadata": {},
   "source": [
    "Given a string `s`, return **the number of palindromic substrings in it.**\n",
    "\n",
    "A string is a **palindrome** when it reads the same backward as forward.\n",
    "\n",
    "A **substring** is a contiguous sequence of characters within the string.\n",
    "\n",
    " \n",
    "\n",
    "**Example 1:**\n",
    "```\n",
    "Input: s = \"abc\"\n",
    "Output: 3\n",
    "Explanation: Three palindromic strings: \"a\", \"b\", \"c\".\n",
    "```\n",
    "**Example 2:**\n",
    "```\n",
    "Input: s = \"aaa\"\n",
    "Output: 6\n",
    "Explanation: Six palindromic strings: \"a\", \"a\", \"a\", \"aa\", \"aa\", \"aaa\".\n",
    "```\n",
    "\n",
    "**Constraints:**\n",
    "\n",
    "* `1 <= s.length <= 1000`\n",
    "* `s` consists of lowercase English letters."
   ]
  },
  {
   "cell_type": "code",
   "execution_count": 2,
   "id": "64e89601-ae9f-474b-94cd-7477baea4fea",
   "metadata": {},
   "outputs": [],
   "source": [
    "s1 = \"abc\"\n",
    "s2 = \"aaa\""
   ]
  },
  {
   "cell_type": "code",
   "execution_count": 12,
   "id": "ca189092-c75d-43b7-bbd1-74e882f2e34e",
   "metadata": {},
   "outputs": [],
   "source": [
    "# O(n^2) solution: count number of palindromes centered at each letter by expanding window and checking s[l] == s[r]\n",
    "class Solution:\n",
    "    def countSubstrings(self, s: str) -> int:\n",
    "        # count num palindromes centered at initial pointers l & r\n",
    "        def countPalindromes(s: str, l: int, r: int):\n",
    "            count = 0\n",
    "            while l >= 0 and r < len(s) and s[l] == s[r]:\n",
    "                l -= 1\n",
    "                r += 1\n",
    "                count += 1\n",
    "            return count\n",
    "\n",
    "        count = 0\n",
    "        for i in range(len(s)):\n",
    "            count += countPalindromes(s, i, i)   # odd palindromes\n",
    "            count += countPalindromes(s, i, i+1) # even palindromes\n",
    "        \n",
    "        return count"
   ]
  },
  {
   "cell_type": "code",
   "execution_count": 13,
   "id": "f073c9d3-5512-4b75-a778-a62afb94a3d2",
   "metadata": {},
   "outputs": [
    {
     "data": {
      "text/plain": [
       "78"
      ]
     },
     "execution_count": 13,
     "metadata": {},
     "output_type": "execute_result"
    }
   ],
   "source": [
    "soln = Solution()\n",
    "soln.countSubstrings('bbbbbbbbbbbb')"
   ]
  },
  {
   "cell_type": "markdown",
   "id": "3aa70f3e-b6a7-4735-b0f4-b1f609261460",
   "metadata": {},
   "source": [
    "## 91. Decode Ways\n",
    "\n",
    "\n",
    "leetcode: https://leetcode.com/problems/decode-ways/"
   ]
  },
  {
   "cell_type": "markdown",
   "id": "9539f9ef-0508-472e-9ea4-31f240c78f2b",
   "metadata": {},
   "source": [
    "A message containing letters from `A-Z` can be encoded into numbers using the following mapping:\n",
    "```\n",
    "'A' -> \"1\"\n",
    "'B' -> \"2\"\n",
    "...\n",
    "'Z' -> \"26\"\n",
    "```\n",
    "To **decode** an encoded message, all the digits must be grouped then mapped back into letters using the reverse of the mapping above (there may be multiple ways). For example, `\"11106\"` can be mapped into:\n",
    "\n",
    "* `\"AAJF\"` with the grouping `(1 1 10 6)`\n",
    "* `\"KJF\"` with the grouping `(11 10 6)`\n",
    "\n",
    "Note that the grouping `(1 11 06)` is invalid because `\"06\"` cannot be mapped into `'F'` since `\"6\"` is different from `\"06\"`.\n",
    "\n",
    "Given a string `s` containing only digits, return the **number of ways to decode it**.\n",
    "\n",
    "The test cases are generated so that the answer fits in a **32-bit** integer.\n",
    "\n",
    " \n",
    "\n",
    "**Example 1:**\n",
    "```\n",
    "Input: s = \"12\"\n",
    "Output: 2\n",
    "Explanation: \"12\" could be decoded as \"AB\" (1 2) or \"L\" (12).\n",
    "```\n",
    "**Example 2:**\n",
    "```\n",
    "Input: s = \"226\"\n",
    "Output: 3\n",
    "Explanation: \"226\" could be decoded as \"BZ\" (2 26), \"VF\" (22 6), or \"BBF\" (2 2 6).\n",
    "```\n",
    "**Example 3:**\n",
    "```\n",
    "Input: s = \"06\"\n",
    "Output: 0\n",
    "Explanation: \"06\" cannot be mapped to \"F\" because of the leading zero (\"6\" is different from \"06\").\n",
    "```\n",
    "\n",
    "**Constraints:**\n",
    "\n",
    "* `1 <= s.length <= 100`\n",
    "* `s` contains only digits and may contain leading zero(s)."
   ]
  },
  {
   "cell_type": "code",
   "execution_count": 20,
   "id": "22d27db7-2db9-4098-92a1-d11c5c73a085",
   "metadata": {},
   "outputs": [],
   "source": [
    "s1 = \"12\"\n",
    "s2 = \"226\"\n",
    "s3 = \"06\"\n",
    "s4 = \"2215\"\n",
    "s5 = \"2015\" # [1, 1, 1, 2]\n",
    "s6 = \"27\""
   ]
  },
  {
   "cell_type": "code",
   "execution_count": 29,
   "id": "81f5ca25-5537-411f-b82c-b9143fc69ef3",
   "metadata": {},
   "outputs": [],
   "source": [
    "# 1D DP: dp array memoize num ways to decode string up to s[i] where dp[i] = dp[i-1] + dp[i-1] \n",
    "# depending on whether s[i] or s[i-1:1+1] is valid encoding\n",
    "class Solution:\n",
    "    def numDecodings(self, s: str) -> int:\n",
    "        valid_encoding = set([str(i) for i in range(1,27)])\n",
    "        dp = [0] * len(s)\n",
    "        # base cases\n",
    "        dp[0] = 1 if s[0] in valid_encoding else 0\n",
    "        if len(s) > 1:\n",
    "            if (s[1] in valid_encoding):\n",
    "                dp[1] += dp[0]\n",
    "            if (s[0:2] in valid_encoding):\n",
    "                dp[1] += 1\n",
    "\n",
    "        for i in range(2,len(s)):\n",
    "            if (s[i] in valid_encoding):\n",
    "                dp[i] += dp[i-1]\n",
    "            if (s[i-1:i+1] in valid_encoding):\n",
    "                dp[i] += dp[i-2]\n",
    "        \n",
    "        \n",
    "        return dp[-1]"
   ]
  },
  {
   "cell_type": "code",
   "execution_count": 56,
   "id": "c47e19b4-fd44-402c-81b8-65d02c9fbda9",
   "metadata": {},
   "outputs": [],
   "source": [
    "# 1D DP: dp array memoize num ways to decode string up to s[i] where dp[i] = dp[i-1] + dp[i-1] \n",
    "# depending on whether s[i] or s[i-1:1+1] is valid encoding\n",
    "class Solution:\n",
    "    def numDecodings(self, s: str) -> int:\n",
    "        valid_encoding = set([str(i) for i in range(1,27)])\n",
    "\n",
    "        prev1 = 1 # dp[i-1]\n",
    "        prev2 = 1 # dp[i-2]\n",
    "        \n",
    "        for i in range(len(s)):\n",
    "            cur = 0\n",
    "            if (s[i] in valid_encoding):\n",
    "                cur += prev1\n",
    "            if (i > 0) and (s[i-1:i+1] in valid_encoding):\n",
    "                cur += prev2\n",
    "                \n",
    "            prev2 = prev1\n",
    "            prev1 = cur\n",
    "        \n",
    "        return cur"
   ]
  },
  {
   "cell_type": "code",
   "execution_count": 59,
   "id": "b1848ee9-1171-4933-9cca-3c4ca486f44f",
   "metadata": {},
   "outputs": [
    {
     "data": {
      "text/plain": [
       "5"
      ]
     },
     "execution_count": 59,
     "metadata": {},
     "output_type": "execute_result"
    }
   ],
   "source": [
    "soln = Solution()\n",
    "soln.numDecodings('2215')"
   ]
  },
  {
   "cell_type": "markdown",
   "id": "9cc8de9e-c48a-4f27-bd98-6d1ace6e44e5",
   "metadata": {},
   "source": [
    "## 322. Coin Change\n",
    "\n",
    "\n",
    "leetcode: https://leetcode.com/problems/coin-change/"
   ]
  },
  {
   "cell_type": "markdown",
   "id": "93192767-0177-4e70-bfe6-7cc8c8e9b535",
   "metadata": {},
   "source": [
    "You are given an integer array `coins` representing coins of different denominations and an integer `amount` representing a total amount of money.\n",
    "\n",
    "Return the **fewest number of coins that you need to make up that amount**. If that amount of money cannot be made up by any combination of the coins, return `-1`.\n",
    "\n",
    "You may assume that you have an infinite number of each kind of coin.\n",
    "\n",
    " \n",
    "\n",
    "**Example 1:**\n",
    "```\n",
    "Input: coins = [1,2,5], amount = 11\n",
    "Output: 3\n",
    "Explanation: 11 = 5 + 5 + 1\n",
    "```\n",
    "**Example 2:**\n",
    "```\n",
    "Input: coins = [2], amount = 3\n",
    "Output: -1\n",
    "```\n",
    "**Example 3:**\n",
    "```\n",
    "Input: coins = [1], amount = 0\n",
    "Output: 0\n",
    "```\n",
    "\n",
    "**Constraints:**\n",
    "\n",
    "* `1 <= coins.length <= 12`\n",
    "* `1 <= coins[i] <= 2^31 - 1`\n",
    "* `0 <= amount <= 10^4`"
   ]
  },
  {
   "cell_type": "code",
   "execution_count": 20,
   "id": "64f92773-526b-4233-8fd5-d213ff1bc6bb",
   "metadata": {},
   "outputs": [],
   "source": [
    "coins1 = [1,2,5]\n",
    "amount1 = 11\n",
    "\n",
    "coins2 = [2]\n",
    "amount2 = 3\n",
    "\n",
    "coins3 = [1]\n",
    "amount3 = 0\n",
    "\n",
    "coins4 = [186,419,83,408]\n",
    "amount4 = 6249\n",
    "\n",
    "coins5 = [8, 6, 1]\n",
    "amount5 = 13"
   ]
  },
  {
   "cell_type": "code",
   "execution_count": 2,
   "id": "466843f9-f7a1-44b3-aed6-fc742c74bf86",
   "metadata": {},
   "outputs": [],
   "source": [
    "# incorrect greedy solution\n",
    "from typing import List, Optional\n",
    "class Solution:\n",
    "    def coinChange(self, coins: List[int], amount: int) -> int:\n",
    "        coins_desc = sorted(coins, reverse=True)\n",
    "        total = 0\n",
    "        i = 0\n",
    "        count = 0\n",
    "        while i < len(coins_desc):\n",
    "            coin = coins_desc[i]\n",
    "            total += coin\n",
    "            count += 1\n",
    "            if total > amount:\n",
    "                total -= coin\n",
    "                count -= 1\n",
    "                i += 1\n",
    "                \n",
    "        return count if total == amount else -1"
   ]
  },
  {
   "cell_type": "code",
   "execution_count": 17,
   "id": "09aa6184-62b0-4198-a283-2fd5681fd215",
   "metadata": {},
   "outputs": [],
   "source": [
    "# 1D DP: dp array represents min number of coins to produce amount dp[i] (-1 if dp[i] is impossible to reach)\n",
    "from typing import List, Optional\n",
    "class Solution:\n",
    "    def coinChange(self, coins: List[int], amount: int) -> int:\n",
    "        dp = [amount + 1] * (amount+1) # initialize dp array with amount+1, can't use more coins than amount so this is larger than the solution\n",
    "        # base case\n",
    "        dp[0] = 0\n",
    "\n",
    "        # iterate up to amount and check the minimum number of coins needed to produce amount with each of the available coins\n",
    "        for i in range(1, amount+1):\n",
    "            for c in coins:\n",
    "                # if current_amount - c is non-negative, then we check previous dp min coins value\n",
    "                    if i - c >= 0:\n",
    "                        dp[i] = min(dp[i], 1 + dp[i-c])\n",
    "            \n",
    "\n",
    "        # return dp value if it is less than the initial value\n",
    "        return dp[-1] if dp[-1] < amount+1 else -1"
   ]
  },
  {
   "cell_type": "code",
   "execution_count": 21,
   "id": "59b1f2d7-6b28-4346-97a9-5e3e9401d8d3",
   "metadata": {},
   "outputs": [
    {
     "data": {
      "text/plain": [
       "3"
      ]
     },
     "execution_count": 21,
     "metadata": {},
     "output_type": "execute_result"
    }
   ],
   "source": [
    "soln = Solution()\n",
    "soln.coinChange(coins5, amount5)"
   ]
  },
  {
   "cell_type": "markdown",
   "id": "0106994b-85e2-4c26-80c1-2262f4022263",
   "metadata": {},
   "source": [
    "## 152. Maximum Product Subarray\n",
    "\n",
    "leetcode: https://leetcode.com/problems/maximum-product-subarray/"
   ]
  },
  {
   "cell_type": "markdown",
   "id": "5dc58384-fc3f-40a9-bc46-620b6a32bac1",
   "metadata": {},
   "source": [
    "Given an integer array `nums`, find a **subarray** (A subarray is a contiguous non-empty sequence of elements within an array.) that has the largest product, and return **the product**.\n",
    "\n",
    "The test cases are generated so that the answer will fit in a **32-bit** integer.\n",
    "\n",
    " \n",
    "\n",
    "**Example 1:**\n",
    "```\n",
    "Input: nums = [2,3,-2,4]\n",
    "Output: 6\n",
    "Explanation: [2,3] has the largest product 6.\n",
    "```\n",
    "**Example 2:**\n",
    "```\n",
    "Input: nums = [-2,0,-1]\n",
    "Output: 0\n",
    "Explanation: The result cannot be 2, because [-2,-1] is not a subarray.\n",
    "```\n",
    "\n",
    "**Constraints:**\n",
    "\n",
    "* `1 <= nums.length <= 2 * 10^4`\n",
    "* `-10 <= nums[i] <= 10`\n",
    "* The product of any prefix or suffix of `nums` is **guaranteed** to fit in a **32-bit** integer."
   ]
  },
  {
   "cell_type": "code",
   "execution_count": 22,
   "id": "274b72e4-deb8-400d-8f8b-e58a18532509",
   "metadata": {},
   "outputs": [],
   "source": [
    "nums1 = [2,3,-2,4]\n",
    "nums2 = [-2,0,-1]\n",
    "nums3 = [-4,-3,-2,-1,-5,-3]\n",
    "nums4 = [-2,0,-1,2,3,-2,4]"
   ]
  },
  {
   "cell_type": "code",
   "execution_count": 23,
   "id": "bbf3354c-cde9-469f-9550-9344122ec6be",
   "metadata": {},
   "outputs": [],
   "source": [
    "# idea: maintain dp array with dp[i] containing the min & max product value of subarray ending at i (must include ith value!)\n",
    "# min/max is the min and max of (max(dp[i-1])*n, min(dp[i-1])*n, n)\n",
    "# global max is then the max value seen over all values in dp array\n",
    "# can optimize space by storing values in variables instead of dp array\n",
    "from typing import List\n",
    "class Solution:\n",
    "    def maxProduct(self, nums: List[int]) -> int:\n",
    "        prevmax, prevmin, ans = nums[0], nums[0], nums[0]\n",
    "\n",
    "        for n in nums[1:]:\n",
    "            curmax = max(prevmax*n, prevmin*n, n)\n",
    "            curmin = min(prevmax*n, prevmin*n, n)\n",
    "            ans = max(ans, curmax)\n",
    "            prevmax = curmax\n",
    "            prevmin = curmin\n",
    "            \n",
    "        return ans"
   ]
  },
  {
   "cell_type": "code",
   "execution_count": 21,
   "id": "0ea3941d-2335-45a0-a309-ce5cb9fb98ce",
   "metadata": {},
   "outputs": [
    {
     "data": {
      "text/plain": [
       "48"
      ]
     },
     "execution_count": 21,
     "metadata": {},
     "output_type": "execute_result"
    }
   ],
   "source": [
    "soln = Solution()\n",
    "soln.maxProduct(nums4)"
   ]
  },
  {
   "cell_type": "markdown",
   "id": "81e73e22-8ea5-4eb3-8e14-585e19532d48",
   "metadata": {},
   "source": [
    "## 139. Word Break\n",
    "\n",
    "leetcode: https://leetcode.com/problems/word-break/"
   ]
  },
  {
   "cell_type": "markdown",
   "id": "b2315148-54f6-451f-9449-a470cdd2e635",
   "metadata": {},
   "source": [
    "Given a string `s` and a dictionary of strings `wordDict`, return `true` if `s` can be segmented into a space-separated sequence of one or more dictionary words.\n",
    "\n",
    "**Note** that the same word in the dictionary may be reused multiple times in the segmentation.\n",
    "\n",
    " \n",
    "\n",
    "**Example 1:**\n",
    "```\n",
    "Input: s = \"leetcode\", wordDict = [\"leet\",\"code\"]\n",
    "Output: true\n",
    "Explanation: Return true because \"leetcode\" can be segmented as \"leet code\".\n",
    "```\n",
    "**Example 2:**\n",
    "```\n",
    "Input: s = \"applepenapple\", wordDict = [\"apple\",\"pen\"]\n",
    "Output: true\n",
    "Explanation: Return true because \"applepenapple\" can be segmented as \"apple pen apple\".\n",
    "Note that you are allowed to reuse a dictionary word.\n",
    "```\n",
    "**Example 3:**\n",
    "```\n",
    "Input: s = \"catsandog\", wordDict = [\"cats\",\"dog\",\"sand\",\"and\",\"cat\"]\n",
    "Output: false\n",
    "```\n",
    "\n",
    "**Constraints:**\n",
    "\n",
    "* `1 <= s.length <= 300`\n",
    "* `1 <= wordDict.length <= 1000`\n",
    "* `1 <= wordDict[i].length <= 20`\n",
    "* `s` and `wordDict[i]` consist of only lowercase English letters.\n",
    "* All the strings of `wordDict` are **unique**."
   ]
  },
  {
   "cell_type": "code",
   "execution_count": 60,
   "id": "39d47bc7-55dd-4f84-91af-da166a3009f2",
   "metadata": {},
   "outputs": [],
   "source": [
    "s1 = \"leetcode\"\n",
    "wordDict1 = [\"leet\",\"code\"]\n",
    "\n",
    "s2 = \"applepenapple\"\n",
    "wordDict2 = [\"apple\",\"pen\"]\n",
    "\n",
    "s3 = \"catsandog\"\n",
    "wordDict3 = [\"cats\",\"dog\",\"sand\",\"and\",\"cat\"]\n",
    "\n",
    "s4 = \"catsanddoge\"\n",
    "wordDict4 = [\"cats\",\"ddog\",\"and\",\"cat\",\"doge\",\"san\"]"
   ]
  },
  {
   "cell_type": "code",
   "execution_count": 61,
   "id": "277d692c-eaf8-4864-8812-4c9c70b5ae6c",
   "metadata": {},
   "outputs": [],
   "source": [
    "# 1D DP solution, O(n*m) run time: maintain dp array of len(s) with dp[i] == True if dp[0:i+1] can form valid word break\n",
    "# for each word in wordDict, check either s[0:i] in wordDict or dp[i-len(word)] == True AND s[i-len(word}:i+1] in wordDict\n",
    "# for every i, check that the slice of s[i-len(word):i+1] is an actual word and use dp array to check if previous section of s is valid \n",
    "from typing import List\n",
    "class Solution:\n",
    "    def wordBreak(self, s: str, wordDict: List[str]) -> bool:\n",
    "        dp = [False] * len(s)\n",
    "        for i in range(len(s)):\n",
    "            end = i+1\n",
    "            for w in wordDict:\n",
    "                if (     (end-len(w) >= 0 and s[end-len(w):end] == w) # current slice == word in dict\n",
    "                     and (dp[i-len(w)] == True or i-len(w) < 0) # previous slice of s is valid word break OR is out of bounds\n",
    "                   ):\n",
    "                    dp[i] = True # mark current position i as valid word break\n",
    "        return dp[-1]"
   ]
  },
  {
   "cell_type": "code",
   "execution_count": 62,
   "id": "25c49a43-73c2-4bd6-83d1-8f51a757b919",
   "metadata": {},
   "outputs": [
    {
     "data": {
      "text/plain": [
       "True"
      ]
     },
     "execution_count": 62,
     "metadata": {},
     "output_type": "execute_result"
    }
   ],
   "source": [
    "soln = Solution()\n",
    "soln.wordBreak(s4,wordDict4)"
   ]
  },
  {
   "cell_type": "markdown",
   "id": "d5b0fd17-db03-4b6f-83ff-8ca06ed575b0",
   "metadata": {},
   "source": [
    "## 300. Longest Increasing Subsequence\n",
    "\n",
    "leetcode: https://leetcode.com/problems/longest-increasing-subsequence/"
   ]
  },
  {
   "cell_type": "markdown",
   "id": "943303c3-b87f-402b-b7d6-f24f5d41974f",
   "metadata": {},
   "source": [
    "Given an integer array `nums`, return the length of the longest strictly increasing subsequence (A subsequence is an array that can be derived from another array by deleting some or no elements without changing the order of the remaining elements).\n",
    "\n",
    " \n",
    "\n",
    "**Example 1:**\n",
    "```\n",
    "Input: nums = [10,9,2,5,3,7,101,18]\n",
    "Output: 4\n",
    "Explanation: The longest increasing subsequence is [2,3,7,101], therefore the length is 4.\n",
    "```\n",
    "**Example 2:**\n",
    "```\n",
    "Input: nums = [0,1,0,3,2,3]\n",
    "Output: 4\n",
    "```\n",
    "**Example 3:**\n",
    "```\n",
    "Input: nums = [7,7,7,7,7,7,7]\n",
    "Output: 1\n",
    "```\n",
    "\n",
    "**Constraints:**\n",
    "\n",
    "* `1 <= nums.length <= 2500`\n",
    "* `-10^4 <= nums[i] <= 10^4`\n",
    " \n",
    "\n",
    "**Follow up:** Can you come up with an algorithm that runs in `O(n log(n))` time complexity?"
   ]
  },
  {
   "cell_type": "code",
   "execution_count": 10,
   "id": "719f1290-903a-4c9b-953b-1deaf5391b62",
   "metadata": {},
   "outputs": [],
   "source": [
    "nums1 = [10,9,2,5,3,7,101,18]\n",
    "nums2 = [0,1,0,3,2,3]\n",
    "nums3 = [7,7,7,7,7,7,7]\n",
    "nums4 = [10,9,4,8,3,5,9,101,8,7,21] # [3,5,6,18,19,21]"
   ]
  },
  {
   "cell_type": "code",
   "execution_count": 28,
   "id": "8024713e-dc0c-47e1-8c40-2a5a8df093b2",
   "metadata": {},
   "outputs": [
    {
     "data": {
      "text/plain": [
       "2"
      ]
     },
     "execution_count": 28,
     "metadata": {},
     "output_type": "execute_result"
    }
   ],
   "source": [
    "(0+5)//2"
   ]
  },
  {
   "cell_type": "code",
   "execution_count": 29,
   "id": "ea2305e8-30bc-49ab-b7b0-8d1c5ae5566e",
   "metadata": {},
   "outputs": [],
   "source": [
    "# O(nlogn) idea: build dp array with increasing values\n",
    "# use binary search to determine where each new num can be inserted to keep increasing order and REPLACE existing value wiht new num\n",
    "# append to dp array if new num is inserted at end\n",
    "from typing import List\n",
    "from bisect import bisect_left\n",
    "class Solution:\n",
    "    def lengthOfLIS(self, nums: List[int]) -> int:\n",
    "        # can also use from bisect import bisect_left\n",
    "        # def binSearchLeft(nums, n):\n",
    "        #     l = 0\n",
    "        #     r = len(nums)-1\n",
    "        #     while l < r:\n",
    "        #         mid = (l+r)//2 # mid or left-side index of even mid\n",
    "        #         if n == nums[mid]:\n",
    "        #             return mid-1 # return left index\n",
    "                    \n",
    "        #         if n < nums[mid]: # search left\n",
    "        #             r = mid-1\n",
    "        #         else: # n > nums[mid]\n",
    "        #             l = mid+1\n",
    "\n",
    "        #     return mid-1\n",
    "        \n",
    "\n",
    "            \n",
    "                    \n",
    "        dp = []\n",
    "        for n in nums:\n",
    "            i = bisect_left(dp, n)\n",
    "            if i == len(dp): # n > all other values currently in dp\n",
    "                dp.append(n)\n",
    "            else:\n",
    "                dp[i] = n # replace smallest value in dp while maintaining increasing order\n",
    "            \n",
    "            \n",
    "        return len(dp)"
   ]
  },
  {
   "cell_type": "code",
   "execution_count": 86,
   "id": "f8813a67-a42a-4e0e-b7e6-0d9f7a80760c",
   "metadata": {},
   "outputs": [],
   "source": [
    "# 1D DP O(n^2): maintain dp array where dp[i] is the LIS (longest increasing subsequence) STARTING at nums[i]\n",
    "# e.g. for nums3 = [0,1,0,3,2,3], dp[5] == 1 ([3] is LIS), dp[4] == 2 ([2,3]), dp[3] == 1 ([3])\n",
    "# build dp array backwards starting at end of nums, with dp[i] = max(1,1+rest_of_dp_array)\n",
    "class Solution:\n",
    "    def lengthOfLIS(self, nums: List[int]) -> int:\n",
    "        length = len(nums)\n",
    "        dp = [1] * length\n",
    "        for i in reversed(range(length-1)):\n",
    "            for j in range(i+1,length):\n",
    "                # take the max value of 1 and 1+dp[i+1], 1+dp[i+2], etc. if nums[i+x] > n\n",
    "                if nums[i] < nums[j]:\n",
    "                    dp[i] = max(dp[i], 1+dp[j]) # since we're iterating we need to get the max of dp[i] vs 1+dp[j]\n",
    "        return max(dp) # return longest LIS in dp array"
   ]
  },
  {
   "cell_type": "code",
   "execution_count": 88,
   "id": "1d56ce40-0c03-4004-835f-bb22039ac9af",
   "metadata": {},
   "outputs": [
    {
     "data": {
      "text/plain": [
       "6"
      ]
     },
     "execution_count": 88,
     "metadata": {},
     "output_type": "execute_result"
    }
   ],
   "source": [
    "soln = Solution()\n",
    "soln.lengthOfLIS(nums4)"
   ]
  },
  {
   "cell_type": "code",
   "execution_count": null,
   "id": "196ef64b-374d-47e0-95d6-c835b95478f1",
   "metadata": {},
   "outputs": [],
   "source": []
  },
  {
   "cell_type": "markdown",
   "id": "588239c5-9daa-42b2-a10a-08793029f9ed",
   "metadata": {},
   "source": [
    "# NEXT CATEGORY"
   ]
  },
  {
   "cell_type": "code",
   "execution_count": null,
   "id": "66626a28-5247-4c27-ba97-e04c605455ae",
   "metadata": {},
   "outputs": [],
   "source": []
  }
 ],
 "metadata": {
  "kernelspec": {
   "display_name": "Python 3 (ipykernel)",
   "language": "python",
   "name": "python3"
  },
  "language_info": {
   "codemirror_mode": {
    "name": "ipython",
    "version": 3
   },
   "file_extension": ".py",
   "mimetype": "text/x-python",
   "name": "python",
   "nbconvert_exporter": "python",
   "pygments_lexer": "ipython3",
   "version": "3.9.6"
  }
 },
 "nbformat": 4,
 "nbformat_minor": 5
}
