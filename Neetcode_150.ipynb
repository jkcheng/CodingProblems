{
 "cells": [
  {
   "cell_type": "code",
   "execution_count": 1,
   "id": "3ccfc956-b9b9-4a42-a9a4-67342bb1c149",
   "metadata": {},
   "outputs": [],
   "source": [
    "from typing import List"
   ]
  },
  {
   "cell_type": "code",
   "execution_count": 4,
   "id": "427afad1-c4e6-4acb-8afd-36e31d59cced",
   "metadata": {},
   "outputs": [],
   "source": [
    "# tree practice\n",
    "class TreeNode:\n",
    "    def __init__(self, val=0, left=None, right=None):\n",
    "        self.val = val\n",
    "        self.left = left\n",
    "        self.right = right\n",
    "\n",
    "def mk_tree(nodes, i, n):\n",
    "    root = None\n",
    "    if (i < n) and nodes[i] is not None:\n",
    "        root = TreeNode(nodes[i])\n",
    "        root.left = mk_tree(nodes, 2*i+1, len(nodes))\n",
    "        root.right = mk_tree(nodes, 2*i+2, len(nodes))\n",
    "    return root\n",
    "\n",
    "def prnt_tree(root):\n",
    "    nodes = []\n",
    "    q = [root]\n",
    "    while any(q):\n",
    "        node = q.pop(0) # can use deque to optimize\n",
    "        if node:\n",
    "            nodes.append(node.val)\n",
    "            if node.left or node.right or any(q):\n",
    "                q.append(node.left)\n",
    "                q.append(node.right)\n",
    "        elif any(a): # if node is None AND there's still stuff in q to process\n",
    "            nodes.append('null')\n",
    "    \n",
    "    return nodes"
   ]
  },
  {
   "cell_type": "markdown",
   "id": "27c225a4-ee76-4c20-b7c0-ec120ac7c24f",
   "metadata": {},
   "source": [
    "## Neetcode Algorithms Roadmap\n",
    "https://neetcode.io/roadmap"
   ]
  },
  {
   "cell_type": "markdown",
   "id": "e0d80a83-cf4d-4040-9ce2-18c685c81a3a",
   "metadata": {},
   "source": [
    "# Arrays & Hashing"
   ]
  },
  {
   "cell_type": "markdown",
   "id": "5593dfbb-28fd-4ee0-8f3a-1105c6734151",
   "metadata": {},
   "source": [
    "## 217. Contains Duplicate\n",
    "### 2023/07/22\n",
    "leetcode link: https://leetcode.com/problems/contains-duplicate/"
   ]
  },
  {
   "cell_type": "markdown",
   "id": "ec04ddfa-1c44-465f-9ac2-932f01b5d950",
   "metadata": {},
   "source": [
    "Given an integer array `nums`, return `true` if any value appears **at least twice** in the array, and return `false` if every element is distinct.\n",
    "\n",
    " \n",
    "\n",
    "**Example 1:**\n",
    "```\n",
    "Input: nums = [1,2,3,1]\n",
    "Output: true\n",
    "```\n",
    "**Example 2:**\n",
    "```\n",
    "Input: nums = [1,2,3,4]\n",
    "Output: false\n",
    "```\n",
    "**Example 3:**\n",
    "```\n",
    "Input: nums = [1,1,1,3,3,4,3,2,4,2]\n",
    "Output: true\n",
    "```\n",
    "\n",
    "**Constraints:**\n",
    "\n",
    "* `1 <= nums.length <= 105`\n",
    "* `-109 <= nums[i] <= 109`"
   ]
  },
  {
   "cell_type": "code",
   "execution_count": 13,
   "id": "2a3f62e3-3a85-4f33-9dcc-0e82ca8919f2",
   "metadata": {},
   "outputs": [],
   "source": [
    "nums1 = [1,2,3,1]\n",
    "nums2 = [1,2,3,4]\n",
    "nums3 = [1,1,1,3,3,4,3,2,4,2]"
   ]
  },
  {
   "cell_type": "code",
   "execution_count": 41,
   "id": "4ecca764-0a10-41fb-8fab-79ffc6f8fad7",
   "metadata": {},
   "outputs": [],
   "source": [
    "class Solution:\n",
    "    def containsDuplicate(self, nums: List[int]) -> bool:\n",
    "        seen = set()\n",
    "        \n",
    "        for n in nums:\n",
    "            if n not in seen:\n",
    "                seen.add(n)\n",
    "            else:\n",
    "                return True\n",
    "        return False"
   ]
  },
  {
   "cell_type": "code",
   "execution_count": 42,
   "id": "fc1fb073-6ac9-44e7-bfd5-f7146c7787c8",
   "metadata": {},
   "outputs": [],
   "source": [
    "# python-specific (?) optimization: not actually faster, older solutions is faster because leetcode platform changes\n",
    "class Solution:\n",
    "    def containsDuplicate(self, nums: List[int]) -> bool:\n",
    "        setnums = set(nums)\n",
    "        if len(setnums) < len(nums):\n",
    "            return True\n",
    "        return False"
   ]
  },
  {
   "cell_type": "code",
   "execution_count": 38,
   "id": "f7cc82b3-ab6b-4e19-a762-dca8e40a25d1",
   "metadata": {
    "editable": true,
    "slideshow": {
     "slide_type": ""
    },
    "tags": []
   },
   "outputs": [
    {
     "data": {
      "text/plain": [
       "False"
      ]
     },
     "execution_count": 38,
     "metadata": {},
     "output_type": "execute_result"
    }
   ],
   "source": [
    "soln = Solution()\n",
    "soln.containsDuplicate(nums2)"
   ]
  },
  {
   "cell_type": "markdown",
   "id": "cd511b0a-ff7d-4367-9315-1d77ba1946d3",
   "metadata": {},
   "source": [
    "## 242. Valid Anagram\n",
    "https://leetcode.com/problems/valid-anagram/"
   ]
  },
  {
   "cell_type": "markdown",
   "id": "080f1f9a-3f06-43f8-8665-706b0f8b6332",
   "metadata": {},
   "source": [
    "Given two strings `s` and `t`, return `true` if `t` is an anagram of `s`, and `false` otherwise.\n",
    "\n",
    "An **Anagram** is a word or phrase formed by rearranging the letters of a different word or phrase, typically using all the original letters exactly once.\n",
    "\n",
    "**Example 1:**\n",
    "```\n",
    "Input: s = \"anagram\", t = \"nagaram\"\n",
    "Output: true\n",
    "```\n",
    "**Example 2:**\n",
    "```\n",
    "Input: s = \"rat\", t = \"car\"\n",
    "Output: false\n",
    "```\n",
    "\n",
    "**Constraints:**\n",
    "\n",
    "* `1 <= s.length, t.length <= 5 * 10^4`\n",
    "* `s and t consist of lowercase English letters.`\n",
    " \n",
    "\n",
    "**Follow up:** What if the inputs contain Unicode characters? How would you adapt your solution to such a case?"
   ]
  },
  {
   "cell_type": "code",
   "execution_count": 6,
   "id": "b80bd90a-6e8e-4555-8ca0-af7434bb7843",
   "metadata": {},
   "outputs": [],
   "source": [
    "s1 = \"anagram\"\n",
    "t1 = \"nagaram\"\n",
    "s2 = \"rat\"\n",
    "t2 = \"car\""
   ]
  },
  {
   "cell_type": "code",
   "execution_count": 28,
   "id": "efce29cd-ff6e-422a-9204-4c23eb1c2fe0",
   "metadata": {},
   "outputs": [],
   "source": [
    "class Solution:\n",
    "    def isAnagram(self, s: str, t: str) -> bool:\n",
    "        counts = {}\n",
    "        countt = {}\n",
    "        for c in s:\n",
    "            if c in counts:\n",
    "                counts[c] += 1\n",
    "            else:\n",
    "                counts[c] = 1\n",
    "\n",
    "        for c in t:\n",
    "            if c in countt:\n",
    "                countt[c] += 1\n",
    "            else:\n",
    "                countt[c] = 1\n",
    "        \n",
    "        return counts == countt"
   ]
  },
  {
   "cell_type": "code",
   "execution_count": 33,
   "id": "960a3035-a1d7-476f-9da3-15463d155f05",
   "metadata": {},
   "outputs": [],
   "source": [
    "# python-specific solution\n",
    "from collections import Counter\n",
    "\n",
    "class Solution:\n",
    "    def isAnagram(self, s: str, t: str) -> bool:\n",
    "        return Counter(s) == Counter(t)"
   ]
  },
  {
   "cell_type": "code",
   "execution_count": 66,
   "id": "e9373dd6-26dd-40c7-a2d2-129e42066d3b",
   "metadata": {},
   "outputs": [],
   "source": [
    "# slightly optimized manual counting (minimize iterations)\n",
    "class Solution:\n",
    "    def isAnagram(self, s: str, t: str) -> bool:\n",
    "        # return false early if not same length\n",
    "        if len(s) != len(t): \n",
    "            return False\n",
    "\n",
    "        # generate count of values\n",
    "        counts = {}\n",
    "        countt = {}\n",
    "        for i in range(len(s)):\n",
    "            cs = s[i]\n",
    "            ct = t[i]\n",
    "            if cs in counts:\n",
    "                counts[cs] += 1\n",
    "            else:\n",
    "                counts[cs] = 1\n",
    "\n",
    "            if ct in countt:\n",
    "                countt[ct] += 1\n",
    "            else:\n",
    "                countt[ct] = 1\n",
    "\n",
    "        # check each key-value pair in both dictionaries are same\n",
    "        for key in counts.keys():\n",
    "            if (key not in countt.keys()) or (counts[key] != countt[key]):\n",
    "                return False\n",
    "\n",
    "        return True        "
   ]
  },
  {
   "cell_type": "code",
   "execution_count": 68,
   "id": "6f17af28-26a2-4a7a-9aaa-fb82243fbb33",
   "metadata": {},
   "outputs": [
    {
     "data": {
      "text/plain": [
       "False"
      ]
     },
     "execution_count": 68,
     "metadata": {},
     "output_type": "execute_result"
    }
   ],
   "source": [
    "soln = Solution()\n",
    "soln.isAnagram(s2,t2)"
   ]
  },
  {
   "cell_type": "markdown",
   "id": "f8a2a369-6001-4617-8e5a-18fa378f3e07",
   "metadata": {},
   "source": [
    "## 1. Two Sum\n",
    "https://leetcode.com/problems/two-sum/"
   ]
  },
  {
   "cell_type": "markdown",
   "id": "9bb7b7cc-eb38-4af6-b3ef-599f8dcbf1ec",
   "metadata": {},
   "source": [
    "Given an array of integers `nums` and an integer `target`, return *indices of the two numbers such that they add up to `target`.*\n",
    "\n",
    "You may assume that each input would have **exactly one solution**, and you may not use the same element twice.\n",
    "\n",
    "You can return the answer in any order.\n",
    "\n",
    " \n",
    "\n",
    "**Example 1:**\n",
    "```\n",
    "Input: nums = [2,7,11,15], target = 9\n",
    "Output: [0,1]\n",
    "Explanation: Because nums[0] + nums[1] == 9, we return [0, 1].\n",
    "```\n",
    "**Example 2:**\n",
    "```\n",
    "Input: nums = [3,2,4], target = 6\n",
    "Output: [1,2]\n",
    "```\n",
    "**Example 3:**\n",
    "```\n",
    "Input: nums = [3,3], target = 6\n",
    "Output: [0,1]\n",
    "```\n",
    "\n",
    "**Constraints:**\n",
    "\n",
    "* `2 <= nums.length <= 10^4`\n",
    "* `-10^9 <= nums[i] <= 10^9`\n",
    "* `-10^9 <= target <= 10^9`\n",
    "* Only one valid answer exists.\n",
    " \n",
    "\n",
    "**Follow-up:** Can you come up with an algorithm that is less than `O(n^2)` time complexity?\n"
   ]
  },
  {
   "cell_type": "code",
   "execution_count": 5,
   "id": "8518de34-d9c2-46fe-9c42-ce1ecd3fc2cf",
   "metadata": {},
   "outputs": [],
   "source": [
    "nums1 = [2,7,11,15]\n",
    "target1 = 9\n",
    "nums2 = [3,2,4]\n",
    "target2 = 6\n",
    "nums3 = [3,3]\n",
    "target3 = 6"
   ]
  },
  {
   "cell_type": "code",
   "execution_count": 78,
   "id": "3ce16c91-e36d-445d-b863-77483244650f",
   "metadata": {},
   "outputs": [],
   "source": [
    "class Solution:\n",
    "    def twoSum(self, nums: List[int], target: int) -> List[int]:\n",
    "        d = {}\n",
    "        for i in range(len(nums)):\n",
    "            n = nums[i]\n",
    "            if n in d.keys():\n",
    "                d[n].append(i)\n",
    "            else:\n",
    "                d[n] = [i]\n",
    "\n",
    "        for n in d.keys():\n",
    "            if target-n in d.keys():\n",
    "                if (target-n == n) and len(d[target-n])<2:\n",
    "                    continue # not a real solution\n",
    "                r1 = d[n].pop()\n",
    "                r2 = d[target-n].pop()\n",
    "                return [r1,r2]"
   ]
  },
  {
   "cell_type": "code",
   "execution_count": 81,
   "id": "18d3a86a-497a-4c8e-924c-618c70d7b4cb",
   "metadata": {},
   "outputs": [],
   "source": [
    "# more elegant implementation of above idea\n",
    "class Solution:\n",
    "    def twoSum(self, nums: List[int], target: int) -> List[int]:\n",
    "        d = {}\n",
    "\n",
    "        for i in range(len(nums)):\n",
    "            n = nums[i]\n",
    "            comp = target-n\n",
    "            if comp in d.keys():\n",
    "                return [d[comp],i]\n",
    "            else:\n",
    "                d[n] = i"
   ]
  },
  {
   "cell_type": "code",
   "execution_count": 84,
   "id": "cae8d983-a220-4a4a-bddb-b3f9a120bd41",
   "metadata": {},
   "outputs": [
    {
     "data": {
      "text/plain": [
       "[0, 1]"
      ]
     },
     "execution_count": 84,
     "metadata": {},
     "output_type": "execute_result"
    }
   ],
   "source": [
    "soln = Solution()\n",
    "soln.twoSum(nums1,target1)"
   ]
  },
  {
   "cell_type": "markdown",
   "id": "f2823fee-b1f5-498d-9072-b504ecb0067b",
   "metadata": {},
   "source": [
    "## 49. Group Anagrams\n",
    "https://leetcode.com/problems/group-anagrams/"
   ]
  },
  {
   "cell_type": "markdown",
   "id": "40832b01-c7d9-44ee-a2d8-c5e18aeaea0d",
   "metadata": {},
   "source": [
    "Given an array of strings `strs`, group the **anagrams** together. You can return the answer in **any order**.\n",
    "\n",
    "An **Anagram** is a word or phrase formed by rearranging the letters of a different word or phrase, typically using all the original letters exactly once.\n",
    "\n",
    " \n",
    "\n",
    "**Example 1:**\n",
    "```\n",
    "Input: strs = [\"eat\",\"tea\",\"tan\",\"ate\",\"nat\",\"bat\"]\n",
    "Output: [[\"bat\"],[\"nat\",\"tan\"],[\"ate\",\"eat\",\"tea\"]]\n",
    "```\n",
    "**Example 2:**\n",
    "```\n",
    "Input: strs = [\"\"]\n",
    "Output: [[\"\"]]\n",
    "```\n",
    "**Example 3:**\n",
    "```\n",
    "Input: strs = [\"a\"]\n",
    "Output: [[\"a\"]]\n",
    "``` \n",
    "\n",
    "**Constraints:**\n",
    "\n",
    "* `1 <= strs.length <= 10^4`\n",
    "* `0 <= strs[i].length <= 100`\n",
    "* `strs[i] consists of lowercase English letters.`"
   ]
  },
  {
   "cell_type": "code",
   "execution_count": 140,
   "id": "0a858df5-b20f-46d8-94e2-f09230d40787",
   "metadata": {},
   "outputs": [],
   "source": [
    "strs1 = [\"eat\",\"tea\",\"tan\",\"ate\",\"nat\",\"bat\"]\n",
    "strs2 = [\"\"]\n",
    "strs3 = [\"a\"]\n",
    "strs4 = [\"cab\",\"tin\",\"pew\",\"duh\",\"may\",\"ill\",\"buy\",\"bar\",\"max\",\"doc\"]"
   ]
  },
  {
   "cell_type": "code",
   "execution_count": 62,
   "id": "53800dd0-9868-4319-bc07-ddd64fcaae90",
   "metadata": {},
   "outputs": [],
   "source": [
    "# bad O(n^2) solution\n",
    "\n",
    "from typing import List\n",
    "from collections import Counter\n",
    "\n",
    "class Solution:\n",
    "    def groupAnagrams(self, strs: List[str]) -> List[List[str]]:\n",
    "        def isAnagram(str1,str2):\n",
    "            return Counter(str1) == Counter(str2)\n",
    "        \n",
    "        d = {}\n",
    "        \n",
    "        for s in strs:\n",
    "            found = False\n",
    "            if len(d.keys()) > 0:\n",
    "                # check if anagram of existing key\n",
    "                for k in d.keys():\n",
    "                    if isAnagram(k,s):\n",
    "                        # set anagram as found\n",
    "                        found = True\n",
    "\n",
    "                        # record found anagram\n",
    "                        if len(d[k]) > 0:\n",
    "                            d[k].append(s)\n",
    "                        else:\n",
    "                            d[k] = [s]\n",
    "\n",
    "                        break\n",
    "                    \n",
    "                if found == False:\n",
    "                    d[s] = []\n",
    "                \n",
    "            else: # handle first str in strs\n",
    "                d[s] = []\n",
    "        \n",
    "\n",
    "\n",
    "        # iterate through hash table result to return as list\n",
    "        ans = []\n",
    "        for k,v in d.items():\n",
    "            ans.append([k]+v)\n",
    "            \n",
    "        return ans"
   ]
  },
  {
   "cell_type": "code",
   "execution_count": 106,
   "id": "7dd3a87b-8000-40c6-9648-cdc854d5fa67",
   "metadata": {},
   "outputs": [],
   "source": [
    "from typing import List\n",
    "from collections import Counter\n",
    " \n",
    "\n",
    "class Solution:\n",
    "    def groupAnagrams(self, strs: List[str]) -> List[List[str]]:\n",
    "        d = {}\n",
    "        \n",
    "        for s in strs:\n",
    "            anagram = ''.join(sorted(s)) # sorting solution\n",
    "            if anagram in d.keys():\n",
    "                d[anagram].append(s)\n",
    "            else:\n",
    "                d[anagram] = [s]\n",
    "\n",
    "        ans = []\n",
    "        for v in d.values():\n",
    "            ans.append(v)\n",
    "\n",
    "        return ans"
   ]
  },
  {
   "cell_type": "code",
   "execution_count": 148,
   "id": "57fd43dc-b685-4068-94ba-03fc25a16b3a",
   "metadata": {},
   "outputs": [],
   "source": [
    "# better implementation of getting dictionary values\n",
    "# sorting = O(m*nlogn)\n",
    "# using string-hash table = O(m*n)?\n",
    "\n",
    "from typing import List\n",
    "from collections import Counter\n",
    "\n",
    "class Solution:\n",
    "    def groupAnagrams(self, strs: List[str]) -> List[List[str]]:\n",
    "        d = {}\n",
    "        for s in strs:\n",
    "            # sort string to get unique anagram\n",
    "            # anagram = ''.join(sorted(s)) # sorting is O(nlogn)\n",
    "\n",
    "            # construct tuple of character counts in s\n",
    "            counter = [0] * 26\n",
    "            for c in s:\n",
    "                counter[ord(c)-ord('a')] += 1\n",
    "            tp = tuple(counter)\n",
    "            \n",
    "            d[tp] = d.get(tp,[]) + [s]\n",
    "\n",
    "        ans = []\n",
    "        for v in d.values():\n",
    "            ans.append(v)\n",
    "\n",
    "        return d.values()"
   ]
  },
  {
   "cell_type": "code",
   "execution_count": 151,
   "id": "91858e31-d692-40f3-855e-097bc2fda511",
   "metadata": {},
   "outputs": [
    {
     "data": {
      "text/plain": [
       "dict_values([['cab'], ['tin'], ['pew'], ['duh'], ['may'], ['ill'], ['buy'], ['bar'], ['max'], ['doc']])"
      ]
     },
     "execution_count": 151,
     "metadata": {},
     "output_type": "execute_result"
    }
   ],
   "source": [
    "soln = Solution()\n",
    "soln.groupAnagrams(strs4)"
   ]
  },
  {
   "cell_type": "markdown",
   "id": "262f266c-2a56-40e6-a33e-9146a9350f05",
   "metadata": {},
   "source": [
    "## 347. Top K Frequent Elements\n",
    "\n",
    "https://leetcode.com/problems/top-k-frequent-elements/"
   ]
  },
  {
   "cell_type": "markdown",
   "id": "f4007381-7d46-4c61-b89e-ec92bbb12af3",
   "metadata": {},
   "source": [
    "Given an integer array `nums` and an integer `k`, return the `k` most *frequent elements*. You may return the answer in **any order**.\n",
    "\n",
    " \n",
    "\n",
    "**Example 1:**\n",
    "```\n",
    "Input: nums = [1,1,1,2,2,3], k = 2\n",
    "Output: [1,2]\n",
    "```\n",
    "**Example 2:**\n",
    "```\n",
    "Input: nums = [1], k = 1\n",
    "Output: [1]\n",
    "```\n",
    "\n",
    "**Constraints:**\n",
    "\n",
    "* `1 <= nums.length <= 10^5`\n",
    "* `-10^4 <= nums[i] <= 10^4`\n",
    "* `k is in the range [1, the number of unique elements in the array].`\n",
    "* It is **guaranteed** that the answer is unique.\n",
    " \n",
    "\n",
    "**Follow up:** Your algorithm's time complexity must be better than `O(n log n)`, where `n` is the array's size."
   ]
  },
  {
   "cell_type": "code",
   "execution_count": 65,
   "id": "3815c409-eb59-42ed-b624-be765fe4467c",
   "metadata": {},
   "outputs": [],
   "source": [
    "nums1 = [1,1,1,2,2,3]\n",
    "k1 = 2\n",
    "nums2 = [1]\n",
    "k2 = 1\n",
    "nums3 = [3,0,1,0]\n",
    "k3 = 1\n",
    "nums4 = [4,1,-1,2,-1,2,3]\n",
    "k4 = 2"
   ]
  },
  {
   "cell_type": "code",
   "execution_count": 66,
   "id": "a05a848b-6299-45de-b054-ba05da1986ca",
   "metadata": {},
   "outputs": [],
   "source": [
    "from typing import List\n",
    "\n",
    "class Solution:\n",
    "    def topKFrequent(self, nums: List[int], k: int) -> List[int]:\n",
    "        d = {}\n",
    "\n",
    "        for n in nums:\n",
    "            if n in d.keys():\n",
    "                d[n] += 1\n",
    "            else:\n",
    "                d[n] = 1\n",
    "\n",
    "        # ans = [(k,v) for k,v in d.items()]\n",
    "        ans = sorted(d.items(), key=lambda x: x[1],reverse=True)\n",
    "        \n",
    "        return [x[0] for x in ans[:k]]"
   ]
  },
  {
   "cell_type": "code",
   "execution_count": 71,
   "id": "b98ace0a-69a3-4092-86c9-72e66dfd4508",
   "metadata": {},
   "outputs": [],
   "source": [
    "# followup solution: using bucket sort on the hashmap of counts\n",
    "# create a bucket array with indices representing the frequency of occurance in original array, then store original number as value\n",
    "# i.e. nums1 = [1,1,1,2,2,3] so bucket array would be [0,3,2,1,0,0,0]\n",
    "# bucket array is bounded by size n (input array size) and top k occuring elements is just the right-most non-zero k values in bucket array\n",
    "\n",
    "from typing import List\n",
    "\n",
    "class Solution:\n",
    "    def topKFrequent(self, nums: List[int], k: int) -> List[int]:\n",
    "        d = {}\n",
    "        for n in nums:\n",
    "            d[n] = d.get(n,0) + 1\n",
    "            \n",
    "        bucketd = [ [] for x in range(len(nums)+1) ]\n",
    "        for key,val in d.items():\n",
    "            bucketd[val].append(key)\n",
    "\n",
    "        ans = []\n",
    "        for x in reversed(bucketd):\n",
    "            if (len(x) > 0) and len(ans) < k:\n",
    "                ans = ans + x\n",
    "                \n",
    "        \n",
    "        return ans"
   ]
  },
  {
   "cell_type": "code",
   "execution_count": 72,
   "id": "85d2db32-2afd-4331-b80a-3cec63c3a1eb",
   "metadata": {},
   "outputs": [
    {
     "data": {
      "text/plain": [
       "[-1, 2]"
      ]
     },
     "execution_count": 72,
     "metadata": {},
     "output_type": "execute_result"
    }
   ],
   "source": [
    "soln = Solution()\n",
    "soln.topKFrequent(nums4,k4)"
   ]
  },
  {
   "cell_type": "markdown",
   "id": "3a5b4eac-c2b3-4a14-ab00-0dc71b97feb5",
   "metadata": {},
   "source": [
    "## 238. Product of Array Except Self\n",
    "\n",
    "https://leetcode.com/problems/product-of-array-except-self/"
   ]
  },
  {
   "cell_type": "markdown",
   "id": "ddc8bde8-7ec7-40c8-8c14-eec1e090603d",
   "metadata": {},
   "source": [
    "Given an integer array `nums`, return an array `answer` such that `answer[i]` is equal to the product of all the elements of `nums` except `nums[i]`.\n",
    "\n",
    "The product of any prefix or suffix of `nums` is **guaranteed** to fit in a **32-bit** integer.\n",
    "\n",
    "You must write an algorithm that runs in `O(n)` time and without using the division operation.\n",
    "\n",
    " \n",
    "\n",
    "**Example 1:**\n",
    "```\n",
    "Input: nums = [1,2,3,4]\n",
    "Output: [24,12,8,6]\n",
    "```\n",
    "**Example 2:**\n",
    "```\n",
    "Input: nums = [-1,1,0,-3,3]\n",
    "Output: [0,0,9,0,0]\n",
    "```\n",
    "\n",
    "**Constraints:**\n",
    "\n",
    "* `2 <= nums.length <= 10^5`\n",
    "* `-30 <= nums[i] <= 30`\n",
    "* The product of any prefix or suffix of `nums` is guaranteed to fit in a **32-bit** integer.\n",
    " \n",
    "\n",
    "**Follow up:** Can you solve the problem in `O(1)` extra space complexity? (The output array does not count as extra space for space complexity analysis.)"
   ]
  },
  {
   "cell_type": "code",
   "execution_count": 1,
   "id": "65d71356-7831-45f6-a9f0-142a03febe0e",
   "metadata": {},
   "outputs": [],
   "source": [
    "nums1 = [1,2,3,4]\n",
    "nums2 = [-1,1,0,-3,3]"
   ]
  },
  {
   "cell_type": "code",
   "execution_count": 22,
   "id": "42241335-0070-4c72-9ef2-f86e831bf192",
   "metadata": {},
   "outputs": [],
   "source": [
    "# two-pass solution: iterate through array twice to build an array of products to the left of nums[i] and an array of products to the right of nums[i]\n",
    "from typing import List\n",
    "\n",
    "class Solution:\n",
    "    def productExceptSelf(self, nums: List[int]) -> List[int]:\n",
    "        leftprod = [0] * len(nums)\n",
    "        rightprod = [0] * len(nums)\n",
    "\n",
    "        cumm_prod = 1\n",
    "        for i in range(len(nums)):\n",
    "            leftprod[i] = cumm_prod\n",
    "            cumm_prod *= nums[i]\n",
    "\n",
    "        cumm_prod = 1\n",
    "        for i in range(len(nums)-1,-1,-1):\n",
    "            rightprod[i] = cumm_prod\n",
    "            cumm_prod *= nums[i]\n",
    "\n",
    "        \n",
    "        ans = [0] * len(nums)\n",
    "        for i in range(len(nums)):\n",
    "            ans[i] = leftprod[i]*rightprod[i]\n",
    "        \n",
    "        return ans"
   ]
  },
  {
   "cell_type": "code",
   "execution_count": 23,
   "id": "8ca66687-7ebe-4ff6-86d1-fc116d6e6024",
   "metadata": {},
   "outputs": [
    {
     "data": {
      "text/plain": [
       "[0, 0, 9, 0, 0]"
      ]
     },
     "execution_count": 23,
     "metadata": {},
     "output_type": "execute_result"
    }
   ],
   "source": [
    "soln = Solution()\n",
    "soln.productExceptSelf(nums2)"
   ]
  },
  {
   "cell_type": "markdown",
   "id": "8991e38e-0c59-4c05-bc30-1b1d696ba309",
   "metadata": {},
   "source": [
    "## 36. Valid Sudoku\n",
    "\n",
    "https://leetcode.com/problems/valid-sudoku/"
   ]
  },
  {
   "cell_type": "markdown",
   "id": "a6154f0b-2ee0-4b68-ba4b-b3772d8b3443",
   "metadata": {},
   "source": [
    "Determine if a `9 x 9` Sudoku board is valid. Only the filled cells need to be validated according to the following rules:\n",
    "\n",
    "1. Each row must contain the digits `1-9` without repetition.\n",
    "2. Each column must contain the digits `1-9` without repetition.\n",
    "3. Each of the nine `3 x 3` sub-boxes of the grid must contain the digits `1-9` without repetition.\n",
    "\n",
    "**Note:**\n",
    "\n",
    "* A Sudoku board (partially filled) could be valid but is not necessarily solvable.\n",
    "* Only the filled cells need to be validated according to the mentioned rules.\n",
    " \n",
    "\n",
    "**Example 1:**\n",
    "\n",
    "![board1](https://upload.wikimedia.org/wikipedia/commons/thumb/f/ff/Sudoku-by-L2G-20050714.svg/250px-Sudoku-by-L2G-20050714.svg.png)\n",
    "```\n",
    "Input: board = \n",
    "[[\"5\",\"3\",\".\",\".\",\"7\",\".\",\".\",\".\",\".\"]\n",
    ",[\"6\",\".\",\".\",\"1\",\"9\",\"5\",\".\",\".\",\".\"]\n",
    ",[\".\",\"9\",\"8\",\".\",\".\",\".\",\".\",\"6\",\".\"]\n",
    ",[\"8\",\".\",\".\",\".\",\"6\",\".\",\".\",\".\",\"3\"]\n",
    ",[\"4\",\".\",\".\",\"8\",\".\",\"3\",\".\",\".\",\"1\"]\n",
    ",[\"7\",\".\",\".\",\".\",\"2\",\".\",\".\",\".\",\"6\"]\n",
    ",[\".\",\"6\",\".\",\".\",\".\",\".\",\"2\",\"8\",\".\"]\n",
    ",[\".\",\".\",\".\",\"4\",\"1\",\"9\",\".\",\".\",\"5\"]\n",
    ",[\".\",\".\",\".\",\".\",\"8\",\".\",\".\",\"7\",\"9\"]]\n",
    "Output: true\n",
    "```\n",
    "**Example 2:**\n",
    "\n",
    "```\n",
    "Input: board = \n",
    "[[\"8\",\"3\",\".\",\".\",\"7\",\".\",\".\",\".\",\".\"]\n",
    ",[\"6\",\".\",\".\",\"1\",\"9\",\"5\",\".\",\".\",\".\"]\n",
    ",[\".\",\"9\",\"8\",\".\",\".\",\".\",\".\",\"6\",\".\"]\n",
    ",[\"8\",\".\",\".\",\".\",\"6\",\".\",\".\",\".\",\"3\"]\n",
    ",[\"4\",\".\",\".\",\"8\",\".\",\"3\",\".\",\".\",\"1\"]\n",
    ",[\"7\",\".\",\".\",\".\",\"2\",\".\",\".\",\".\",\"6\"]\n",
    ",[\".\",\"6\",\".\",\".\",\".\",\".\",\"2\",\"8\",\".\"]\n",
    ",[\".\",\".\",\".\",\"4\",\"1\",\"9\",\".\",\".\",\"5\"]\n",
    ",[\".\",\".\",\".\",\".\",\"8\",\".\",\".\",\"7\",\"9\"]]\n",
    "Output: false\n",
    "Explanation: Same as Example 1, except with the 5 in the top left corner being modified to 8. Since there are two 8's in the top left 3x3 sub-box, it is invalid.\n",
    "``` \n",
    "\n",
    "**Constraints:**\n",
    "\n",
    "* `board.length == 9`\n",
    "* `board[i].length == 9`\n",
    "* `board[i][j] is a digit 1-9 or '.'.`"
   ]
  },
  {
   "cell_type": "code",
   "execution_count": 6,
   "id": "5768caa8-c3e2-4487-85b3-bbcd561fe3c6",
   "metadata": {},
   "outputs": [],
   "source": [
    "board1 = [[\"5\",\"3\",\".\",\".\",\"7\",\".\",\".\",\".\",\".\"]\n",
    "         ,[\"6\",\".\",\".\",\"1\",\"9\",\"5\",\".\",\".\",\".\"]\n",
    "         ,[\".\",\"9\",\"8\",\".\",\".\",\".\",\".\",\"6\",\".\"]\n",
    "         ,[\"8\",\".\",\".\",\".\",\"6\",\".\",\".\",\".\",\"3\"]\n",
    "         ,[\"4\",\".\",\".\",\"8\",\".\",\"3\",\".\",\".\",\"1\"]\n",
    "         ,[\"7\",\".\",\".\",\".\",\"2\",\".\",\".\",\".\",\"6\"]\n",
    "         ,[\".\",\"6\",\".\",\".\",\".\",\".\",\"2\",\"8\",\".\"]\n",
    "         ,[\".\",\".\",\".\",\"4\",\"1\",\"9\",\".\",\".\",\"5\"]\n",
    "         ,[\".\",\".\",\".\",\".\",\"8\",\".\",\".\",\"7\",\"9\"]]\n",
    "\n",
    "board2 = [[\"8\",\"3\",\".\",\".\",\"7\",\".\",\".\",\".\",\".\"]\n",
    "         ,[\"6\",\".\",\".\",\"1\",\"9\",\"5\",\".\",\".\",\".\"]\n",
    "         ,[\".\",\"9\",\"8\",\".\",\".\",\".\",\".\",\"6\",\".\"]\n",
    "         ,[\"8\",\".\",\".\",\".\",\"6\",\".\",\".\",\".\",\"3\"]\n",
    "         ,[\"4\",\".\",\".\",\"8\",\".\",\"3\",\".\",\".\",\"1\"]\n",
    "         ,[\"7\",\".\",\".\",\".\",\"2\",\".\",\".\",\".\",\"6\"]\n",
    "         ,[\".\",\"6\",\".\",\".\",\".\",\".\",\"2\",\"8\",\".\"]\n",
    "         ,[\".\",\".\",\".\",\"4\",\"1\",\"9\",\".\",\".\",\"5\"]\n",
    "         ,[\".\",\".\",\".\",\".\",\"8\",\".\",\".\",\"7\",\"9\"]]"
   ]
  },
  {
   "cell_type": "code",
   "execution_count": 47,
   "id": "0d6924a1-e096-48dc-8a5d-508056ba7864",
   "metadata": {},
   "outputs": [],
   "source": [
    "from typing import List\n",
    "\n",
    "class Solution:\n",
    "    def isValidSudoku(self, board: List[List[str]]) -> bool:\n",
    "        # rows\n",
    "        for i in range(len(board)):\n",
    "            rowset = set()\n",
    "            for j in range(len(board[i])):\n",
    "                if board[i][j] != '.' and board[i][j] in rowset:\n",
    "                    return False\n",
    "                else:\n",
    "                    rowset.add(board[i][j])\n",
    "\n",
    "        # cols\n",
    "        for i in range(len(board)):\n",
    "            colset = set()\n",
    "            for j in range(len(board[i])):\n",
    "                if board[j][i] != '.' and board[j][i] in colset:\n",
    "                    return False\n",
    "                else:\n",
    "                    colset.add(board[j][i])\n",
    "                    \n",
    "        # 3x3s\n",
    "        for i in range(len(board)):\n",
    "            if i%3 == 0: # create new sets when i is divisible by 3\n",
    "                threeset1 = set()\n",
    "                threeset2 = set()\n",
    "                threeset3 = set()\n",
    "            \n",
    "            for j in range(len(board[i])):\n",
    "                if board[i][j] != '.':\n",
    "                    if 0 <= j <= 2:\n",
    "                        if board[i][j] in threeset1:\n",
    "                            return False\n",
    "                        else:\n",
    "                            threeset1.add(board[i][j])\n",
    "                            \n",
    "                    elif 3 <= j <= 5:\n",
    "                        if board[i][j] in threeset2:\n",
    "                            return False\n",
    "                        else:\n",
    "                            threeset2.add(board[i][j])\n",
    "                    \n",
    "                    elif 6 <= j <= 8:\n",
    "                        if board[i][j] in threeset3:\n",
    "                            return False\n",
    "                        else:\n",
    "                            threeset3.add(board[i][j])\n",
    "                    \n",
    "                    \n",
    "        return True"
   ]
  },
  {
   "cell_type": "code",
   "execution_count": 48,
   "id": "0abb174d-f8f5-4d00-a017-c4e49743784c",
   "metadata": {},
   "outputs": [
    {
     "data": {
      "text/plain": [
       "True"
      ]
     },
     "execution_count": 48,
     "metadata": {},
     "output_type": "execute_result"
    }
   ],
   "source": [
    "soln = Solution()\n",
    "soln.isValidSudoku(board1)"
   ]
  },
  {
   "cell_type": "code",
   "execution_count": 14,
   "id": "ee30dd11-c2f7-455e-b184-b0d136d7105a",
   "metadata": {},
   "outputs": [
    {
     "data": {
      "text/plain": [
       "['6', '.', '.', '1', '9', '5', '.', '.', '.']"
      ]
     },
     "execution_count": 14,
     "metadata": {},
     "output_type": "execute_result"
    }
   ],
   "source": [
    "board1[1]"
   ]
  },
  {
   "cell_type": "markdown",
   "id": "082def7d-9ee2-4f8d-915b-07a9a210c4e5",
   "metadata": {},
   "source": [
    "## 659 · Encode and Decode Strings\n",
    "\n",
    "leetcode premium: https://leetcode.com/problems/encode-and-decode-strings/\n",
    "\n",
    "lintcode: https://www.lintcode.com/problem/659/\n",
    "* note: some kind of Chinese leetcode copy?"
   ]
  },
  {
   "cell_type": "markdown",
   "id": "c80ca804-b255-4451-8df4-c0a8e14967e1",
   "metadata": {},
   "source": [
    "Design an algorithm to encode a list of strings to a string. The encoded string is then sent over the network and is decoded back to the original list of strings.\n",
    "\n",
    "Please implement `encode` and `decode`\n",
    "\n",
    "**Example1**\n",
    "```\n",
    "Input: [\"lint\",\"code\",\"love\",\"you\"]\n",
    "Output: [\"lint\",\"code\",\"love\",\"you\"]\n",
    "Explanation:\n",
    "One possible encode method is: \"lint:;code:;love:;you\"\n",
    "```\n",
    "**Example2**\n",
    "```\n",
    "Input: [\"we\", \"say\", \":\", \"yes\"]\n",
    "Output: [\"we\", \"say\", \":\", \"yes\"]\n",
    "Explanation:\n",
    "One possible encode method is: \"we:;say:;:::;yes\"\n",
    "```"
   ]
  },
  {
   "cell_type": "code",
   "execution_count": 11,
   "id": "c9d43980-501c-4095-b7d6-041829adde58",
   "metadata": {},
   "outputs": [],
   "source": [
    "input1 = [\"lint\",\"code\",\"love\",\"you\"]\n",
    "input2 = [\"we\", \"say\", \":\", \"yes\"]\n",
    "input3 = [\"we\", \"say\", \",\", \"yes\"]"
   ]
  },
  {
   "cell_type": "code",
   "execution_count": 46,
   "id": "d2c8acbb-ccfc-4912-8219-62a4c692fede",
   "metadata": {},
   "outputs": [],
   "source": [
    "# idea: prepend each word with the number of characters in word + a delimieter (like \"#\" or \"+\")\n",
    "# then decoding will use this information to determine the length of each individual word\n",
    "\n",
    "class Solution:\n",
    "    \"\"\"\n",
    "    @param: strs: a list of strings\n",
    "    @return: encodes a list of strings to a single string.\n",
    "    \"\"\"\n",
    "    def encode(self, strs):\n",
    "        # write your code here\n",
    "        encoded = ''\n",
    "        for s in strs:\n",
    "            encoded += str(len(s)) + '+' + s\n",
    "        return encoded\n",
    "\n",
    "    \"\"\"\n",
    "    @param: str: A string\n",
    "    @return: decodes a single string to a list of strings\n",
    "    \"\"\"\n",
    "    def decode(self, str):\n",
    "        # write your code here\n",
    "        decoded = []\n",
    "        i = 0\n",
    "        wordlen_s = ''\n",
    "\n",
    "        while i < (len(str)):\n",
    "            if str[i] != '+': # parse for word length\n",
    "                wordlen_s += str[i]\n",
    "                i += 1\n",
    "            else: # parse word\n",
    "                wordlength = int(wordlen_s)\n",
    "                decoded.append(str[i+1:i+1+wordlength])\n",
    "                i = i+1+wordlength\n",
    "                wordlen_s = ''\n",
    "                \n",
    "        return decoded"
   ]
  },
  {
   "cell_type": "code",
   "execution_count": 49,
   "id": "f0c39f0e-b9a3-4408-adc9-7857ad2a5a14",
   "metadata": {},
   "outputs": [
    {
     "data": {
      "text/plain": [
       "'2+we3+say1+:3+yes'"
      ]
     },
     "execution_count": 49,
     "metadata": {},
     "output_type": "execute_result"
    }
   ],
   "source": [
    "soln = Solution()\n",
    "encoded = soln.encode(input2)\n",
    "encoded"
   ]
  },
  {
   "cell_type": "code",
   "execution_count": 50,
   "id": "898ced83-d3f0-42df-bc7b-73a6f5dd200b",
   "metadata": {},
   "outputs": [
    {
     "data": {
      "text/plain": [
       "['we', 'say', ':', 'yes']"
      ]
     },
     "execution_count": 50,
     "metadata": {},
     "output_type": "execute_result"
    }
   ],
   "source": [
    "soln.decode(encoded)"
   ]
  },
  {
   "cell_type": "markdown",
   "id": "a51c5862-e2dc-4945-b589-bd8228d40aa8",
   "metadata": {},
   "source": [
    "## 128. Longest Consecutive Sequence\n",
    "\n",
    "\n",
    "leetcode: https://leetcode.com/problems/longest-consecutive-sequence/"
   ]
  },
  {
   "cell_type": "markdown",
   "id": "a2bdc3a3-3c27-475b-ab13-dd35027fcbe0",
   "metadata": {},
   "source": [
    "Given an unsorted array of integers `nums`, return the length of the longest consecutive elements sequence.\n",
    "\n",
    "You must write an algorithm that runs in `O(n)` time.\n",
    "\n",
    " \n",
    "\n",
    "**Example 1:**\n",
    "```\n",
    "Input: nums = [100,4,200,1,3,2]\n",
    "Output: 4\n",
    "Explanation: The longest consecutive elements sequence is [1, 2, 3, 4]. Therefore its length is 4.\n",
    "```\n",
    "**Example 2:**\n",
    "```\n",
    "Input: nums = [0,3,7,2,5,8,4,6,0,1]\n",
    "Output: 9\n",
    "``` \n",
    "\n",
    "**Constraints:**\n",
    "\n",
    "* `0 <= nums.length <= 10^5`\n",
    "* `-10^9 <= nums[i] <= 10^9`"
   ]
  },
  {
   "cell_type": "code",
   "execution_count": 144,
   "id": "b043aec8-ad28-4681-9e7a-7c3f94b6547a",
   "metadata": {},
   "outputs": [],
   "source": [
    "nums1 = [100,4,200,1,3,2]\n",
    "nums2 = [0,3,7,2,5,8,4,6,0,1]\n",
    "nums3 = []\n",
    "nums4 = [9,1,4,7,3,-1,0,5,8,-1,6]\n",
    "nums5 = [0,1,2,4,8,5,6,7,9,3,55,88,77,99,999999999]"
   ]
  },
  {
   "cell_type": "code",
   "execution_count": 137,
   "id": "1a701acf-543a-4b23-bf93-315d54c9401d",
   "metadata": {},
   "outputs": [],
   "source": [
    "# takes too long\n",
    "from typing import List\n",
    "import heapq\n",
    "\n",
    "class Solution:\n",
    "    def longestConsecutive(self, nums: List[int]) -> int:\n",
    "        if len(nums) == 0:\n",
    "            return 0\n",
    "            \n",
    "        negnums = [-1*n for n in nums]\n",
    "        heapq.heapify(negnums)\n",
    "        heapq.heapify(nums)\n",
    "        root = nums[0]\n",
    "        maxroot = -1*negnums[0]\n",
    "\n",
    "        numset = set(nums)\n",
    "        ans, length = 0, 1\n",
    "        while root <= maxroot:\n",
    "            if root+1 in numset:\n",
    "                length += 1\n",
    "            else:\n",
    "                if length > ans:\n",
    "                    ans = length\n",
    "                length = 0\n",
    "                \n",
    "            root += 1\n",
    "        return ans"
   ]
  },
  {
   "cell_type": "code",
   "execution_count": 145,
   "id": "7ca72429-74ac-4a66-b97d-4be611c6f692",
   "metadata": {},
   "outputs": [],
   "source": [
    "from typing import List\n",
    "\n",
    "class Solution:\n",
    "    def longestConsecutive(self, nums: List[int]) -> int:\n",
    "        numset = set(nums)\n",
    "        ans = 0\n",
    "        for n in nums:\n",
    "            if n-1 not in numset:\n",
    "                seq = n\n",
    "                seqlength = 1\n",
    "                while seq+1 in numset:\n",
    "                    seqlength += 1\n",
    "                    seq += 1\n",
    "\n",
    "                if seqlength > ans:\n",
    "                    ans = seqlength\n",
    "        return ans"
   ]
  },
  {
   "cell_type": "code",
   "execution_count": 149,
   "id": "0cc7d37e-a277-42ba-9098-1b97d50c8757",
   "metadata": {},
   "outputs": [],
   "source": [
    "from typing import List\n",
    "\n",
    "class Solution:\n",
    "    def longestConsecutive(self, nums: List[int]) -> int:\n",
    "        numset = set(nums)\n",
    "        longest = 0\n",
    "        \n",
    "        for n in nums:\n",
    "            if n-1 not in numset:\n",
    "                seqlength = 1\n",
    "                while n+seqlength in numset:\n",
    "                    seqlength += 1\n",
    "\n",
    "                longest = max(longest,seqlength)\n",
    "        return longest"
   ]
  },
  {
   "cell_type": "code",
   "execution_count": 150,
   "id": "fe8da32c-6fe4-435b-a075-74c71ceb68bb",
   "metadata": {},
   "outputs": [
    {
     "data": {
      "text/plain": [
       "10"
      ]
     },
     "execution_count": 150,
     "metadata": {},
     "output_type": "execute_result"
    }
   ],
   "source": [
    "soln = Solution()\n",
    "soln.longestConsecutive(nums5)"
   ]
  },
  {
   "cell_type": "code",
   "execution_count": 147,
   "id": "3f3ac55e-19b8-4d57-8da9-e8ddc5a56134",
   "metadata": {},
   "outputs": [
    {
     "data": {
      "text/plain": [
       "[0, 1, 2, 3, 4, 5, 6, 7, 8, 9, 55, 77, 88, 99, 999999999]"
      ]
     },
     "execution_count": 147,
     "metadata": {},
     "output_type": "execute_result"
    }
   ],
   "source": [
    "sorted(nums5)"
   ]
  },
  {
   "cell_type": "markdown",
   "id": "db2868b4-bea9-434b-9173-b87609a94aa1",
   "metadata": {},
   "source": [
    "# Two Pointers"
   ]
  },
  {
   "cell_type": "markdown",
   "id": "ab8ca38b-5ada-410f-8060-7d118459a7d6",
   "metadata": {},
   "source": [
    "## 125. Valid Palindrome\n",
    "\n",
    "leetcode: https://leetcode.com/problems/valid-palindrome/"
   ]
  },
  {
   "cell_type": "markdown",
   "id": "991f3d72-8d9c-4551-b513-2ca3ad6a3a4e",
   "metadata": {},
   "source": [
    "A phrase is a **palindrome** if, after converting all uppercase letters into lowercase letters and removing all non-alphanumeric characters, it reads the same forward and backward. Alphanumeric characters include letters and numbers.\n",
    "\n",
    "Given a string `s`, return `true` if it is a **palindrome**, or `false` otherwise.\n",
    "\n",
    " \n",
    "\n",
    "**Example 1:**\n",
    "```\n",
    "Input: s = \"A man, a plan, a canal: Panama\"\n",
    "Output: true\n",
    "Explanation: \"amanaplanacanalpanama\" is a palindrome.\n",
    "```\n",
    "**Example 2:**\n",
    "```\n",
    "Input: s = \"race a car\"\n",
    "Output: false\n",
    "Explanation: \"raceacar\" is not a palindrome.\n",
    "```\n",
    "**Example 3:**\n",
    "```\n",
    "Input: s = \" \"\n",
    "Output: true\n",
    "Explanation: s is an empty string \"\" after removing non-alphanumeric characters.\n",
    "Since an empty string reads the same forward and backward, it is a palindrome.\n",
    "``` \n",
    "\n",
    "**Constraints:**\n",
    "\n",
    "* `1 <= s.length <= 2 * 10^5`\n",
    "* `s consists only of printable ASCII characters.`"
   ]
  },
  {
   "cell_type": "code",
   "execution_count": 1,
   "id": "1f1b58ac-8244-4215-9751-e0f1db64af86",
   "metadata": {},
   "outputs": [],
   "source": [
    "s1 = \"A man, a plan, a canal: Panama\"\n",
    "s2 = \"race a car\"\n",
    "s3 = \" \""
   ]
  },
  {
   "cell_type": "code",
   "execution_count": 12,
   "id": "f1f2283e-5a45-4cf2-92d9-c85e88f8098e",
   "metadata": {},
   "outputs": [],
   "source": [
    "import re\n",
    "\n",
    "class Solution:\n",
    "    def isPalindrome(self, s: str) -> bool:\n",
    "        stripped = re.sub(r'[^a-z0-9]','',s.lower())\n",
    "\n",
    "        return stripped == stripped[::-1]"
   ]
  },
  {
   "cell_type": "code",
   "execution_count": 53,
   "id": "158588c2-b04d-48a6-a3f5-f63c84d1ba6f",
   "metadata": {},
   "outputs": [],
   "source": [
    "# manual algorithm using a stack\n",
    "\n",
    "class Solution:\n",
    "    def isPalindrome(self, s: str) -> bool:\n",
    "        stack = []\n",
    "        for c in s:\n",
    "            if c.lower().isalnum():\n",
    "                stack.append(c.lower())\n",
    "        \n",
    "        for c in s:\n",
    "            c = c.lower()\n",
    "            if c.isalnum():\n",
    "                lastc = stack.pop()\n",
    "                if c != lastc:\n",
    "                    return False\n",
    "                \n",
    "        return True"
   ]
  },
  {
   "cell_type": "code",
   "execution_count": 88,
   "id": "32e956f7-6bd9-407d-9bef-f0550821d0c9",
   "metadata": {},
   "outputs": [],
   "source": [
    "# no extra memory, not using builtin function .isalnum()\n",
    "# use pointers\n",
    "\n",
    "class Solution:\n",
    "    def isPalindrome(self, s: str) -> bool:\n",
    "        def is_alnum(c: str) -> bool:\n",
    "            return (ord('A') <= ord(c) <= ord('Z')) or (ord('a') <= ord(c) <= ord('z')) or (ord('0') <= ord(c) <= ord('9'))     \n",
    "            \n",
    "        r = len(s)-1\n",
    "        l = 0\n",
    "\n",
    "        while l < r:\n",
    "            if is_alnum(s[l]) and is_alnum(s[r]):\n",
    "                if s[l].lower() != s[r].lower():\n",
    "                    return False\n",
    "                l += 1\n",
    "                r -= 1\n",
    "            elif not is_alnum(s[l]):\n",
    "                l += 1\n",
    "            elif not is_alnum(s[r]):\n",
    "                r -= 1\n",
    "        \n",
    "        return True"
   ]
  },
  {
   "cell_type": "code",
   "execution_count": 89,
   "id": "5849b81c-7ad7-48c3-8f4b-09f0b2950096",
   "metadata": {},
   "outputs": [
    {
     "data": {
      "text/plain": [
       "True"
      ]
     },
     "execution_count": 89,
     "metadata": {},
     "output_type": "execute_result"
    }
   ],
   "source": [
    "soln = Solution()\n",
    "soln.isPalindrome(s3)"
   ]
  },
  {
   "cell_type": "code",
   "execution_count": 81,
   "id": "4de69246-231a-4181-a798-06c2582b75d3",
   "metadata": {},
   "outputs": [
    {
     "data": {
      "text/plain": [
       "'A man, a plan, a canal: Panama'"
      ]
     },
     "execution_count": 81,
     "metadata": {},
     "output_type": "execute_result"
    }
   ],
   "source": [
    "s1"
   ]
  },
  {
   "cell_type": "markdown",
   "id": "c218cdec-212d-4d2a-b474-041b2fed84c9",
   "metadata": {},
   "source": [
    "## 167. Two Sum II - Input Array Is Sorted\n",
    "\n",
    "leetcode: https://leetcode.com/problems/two-sum-ii-input-array-is-sorted/"
   ]
  },
  {
   "cell_type": "markdown",
   "id": "bdbcc996-bd3f-4856-afd4-90a59d12e4e4",
   "metadata": {},
   "source": [
    "Given a **1-indexed** array of integers `numbers` that is already **sorted in non-decreasing order**, find two numbers such that they add up to a specific `target` number. Let these two numbers be `numbers[index1]` and `numbers[index2]` where `1 <= index1 < index2 < numbers.length`.\n",
    "\n",
    "Return the indices of the two numbers, `index1` and `index2`, added by one as an integer array `[index1, index2]` of length 2.\n",
    "\n",
    "The tests are generated such that there is **exactly one solution**. You may not use the same element twice.\n",
    "\n",
    "Your solution must use only constant extra space.\n",
    "\n",
    " \n",
    "\n",
    "**Example 1:**\n",
    "```\n",
    "Input: numbers = [2,7,11,15], target = 9\n",
    "Output: [1,2]\n",
    "Explanation: The sum of 2 and 7 is 9. Therefore, index1 = 1, index2 = 2. We return [1, 2].\n",
    "```\n",
    "**Example 2:**\n",
    "```\n",
    "Input: numbers = [2,3,4], target = 6\n",
    "Output: [1,3]\n",
    "Explanation: The sum of 2 and 4 is 6. Therefore index1 = 1, index2 = 3. We return [1, 3].\n",
    "```\n",
    "**Example 3:**\n",
    "```\n",
    "Input: numbers = [-1,0], target = -1\n",
    "Output: [1,2]\n",
    "Explanation: The sum of -1 and 0 is -1. Therefore index1 = 1, index2 = 2. We return [1, 2].\n",
    "```\n",
    "\n",
    "**Constraints:**\n",
    "\n",
    "* `2 <= numbers.length <= 3 * 10^4`\n",
    "* `-1000 <= numbers[i] <= 1000`\n",
    "* `numbers` is sorted in non-decreasing order.\n",
    "* `-1000 <= target <= 1000`\n",
    "* The tests are generated such that there is exactly one solution."
   ]
  },
  {
   "cell_type": "code",
   "execution_count": 142,
   "id": "e432c4f1-903d-4170-be7d-be60013f7ce3",
   "metadata": {},
   "outputs": [],
   "source": [
    "numbers1 = [2,7,11,15]\n",
    "target1 = 9\n",
    "numbers2 = [2,3,4]\n",
    "target2 = 6\n",
    "numbers3 = [-1,0]\n",
    "target3 = -1\n",
    "numbers4 = [0,0,3,4]\n",
    "target4 = 0\n",
    "numbers5 = [0,0,1,1,3,4]\n",
    "target5 = 2"
   ]
  },
  {
   "cell_type": "code",
   "execution_count": 156,
   "id": "94cf61d2-835b-4bc8-8714-096db9f63c71",
   "metadata": {},
   "outputs": [],
   "source": [
    "from typing import List\n",
    "\n",
    "class Solution:\n",
    "    def twoSum(self, numbers: List[int], target: int) -> List[int]:\n",
    "        def binsearch(nums,target,l,r):\n",
    "            if l > r:\n",
    "                return -1\n",
    "            \n",
    "            mid = (l+r)//2 \n",
    "            if nums[mid] == target:\n",
    "                return mid  \n",
    "            elif nums[mid] > target: # search left\n",
    "                return binsearch(nums,target,l,mid-1)\n",
    "            elif nums[mid] < target: # search right\n",
    "                return binsearch(nums,target,mid+1,r)\n",
    "                \n",
    "        for i in range(len(numbers)):\n",
    "            comp = target-numbers[i]\n",
    "            # binary search rest of array\n",
    "            compi = binsearch(numbers, comp, i+1, len(numbers)-1)\n",
    "            if compi != -1:\n",
    "                return [i+1,compi+1]\n",
    "        \n",
    "        return 'wtf'"
   ]
  },
  {
   "cell_type": "code",
   "execution_count": 166,
   "id": "1be4b8e8-9dd5-4eac-89c8-37a5b5aac3a8",
   "metadata": {},
   "outputs": [],
   "source": [
    "# optimal O(n) solution using two pointers + shifting\n",
    "from typing import List\n",
    "\n",
    "class Solution:\n",
    "    def twoSum(self, numbers: List[int], target: int) -> List[int]:\n",
    "        l,r = 0, len(numbers)-1\n",
    "\n",
    "        while l < r:\n",
    "            cand = numbers[l] + numbers[r]\n",
    "            if cand == target:\n",
    "                return [l+1,r+1]\n",
    "            elif cand < target: # shift left\n",
    "                l += 1\n",
    "            else: # shift right\n",
    "                r -= 1\n",
    "                \n",
    "        \n",
    "        return 'wtf'\n",
    "\n"
   ]
  },
  {
   "cell_type": "code",
   "execution_count": 167,
   "id": "0852b5ef-8c8e-4f4e-9b91-2e5f62db41a7",
   "metadata": {},
   "outputs": [
    {
     "data": {
      "text/plain": [
       "[5, 6]"
      ]
     },
     "execution_count": 167,
     "metadata": {},
     "output_type": "execute_result"
    }
   ],
   "source": [
    "soln = Solution()\n",
    "soln.twoSum(numbers5, 7)"
   ]
  },
  {
   "cell_type": "markdown",
   "id": "8402acf5-7685-4331-a55b-5d29d82288a3",
   "metadata": {},
   "source": [
    "## 15. 3sum\n",
    "\n",
    "leetcode: https://leetcode.com/problems/3sum/"
   ]
  },
  {
   "cell_type": "markdown",
   "id": "38468e28-82e1-47f0-83d4-ebda2c8f9529",
   "metadata": {},
   "source": [
    "Given an integer array `nums`, return all the triplets `[nums[i], nums[j], nums[k]]` such that `i != j`, `i != k`, and `j != k`, and `nums[i] + nums[j] + nums[k] == 0`.\n",
    "\n",
    "Notice that the solution set must not contain duplicate triplets.\n",
    "\n",
    " \n",
    "\n",
    "**Example 1:**\n",
    "```\n",
    "Input: nums = [-1,0,1,2,-1,-4]\n",
    "Output: [[-1,-1,2],[-1,0,1]]\n",
    "Explanation: \n",
    "nums[0] + nums[1] + nums[2] = (-1) + 0 + 1 = 0.\n",
    "nums[1] + nums[2] + nums[4] = 0 + 1 + (-1) = 0.\n",
    "nums[0] + nums[3] + nums[4] = (-1) + 2 + (-1) = 0.\n",
    "The distinct triplets are [-1,0,1] and [-1,-1,2].\n",
    "Notice that the order of the output and the order of the triplets does not matter.\n",
    "```\n",
    "**Example 2:**\n",
    "```\n",
    "Input: nums = [0,1,1]\n",
    "Output: []\n",
    "Explanation: The only possible triplet does not sum up to 0.\n",
    "```\n",
    "**Example 3:**\n",
    "```\n",
    "Input: nums = [0,0,0]\n",
    "Output: [[0,0,0]]\n",
    "Explanation: The only possible triplet sums up to 0.\n",
    "``` \n",
    "\n",
    "**Constraints:**\n",
    "\n",
    "* `3 <= nums.length <= 3000`\n",
    "* `-10^5 <= nums[i] <= 10^5`"
   ]
  },
  {
   "cell_type": "code",
   "execution_count": 1,
   "id": "a3a93156-62ee-43d1-84f5-b2f96cca9144",
   "metadata": {},
   "outputs": [],
   "source": [
    "nums1 = [-1,0,1,2,-1,-4]\n",
    "nums2 = [0,1,1]\n",
    "nums3 = [0,0,0]"
   ]
  },
  {
   "cell_type": "code",
   "execution_count": 51,
   "id": "3ad7c585-13fc-4e63-b8ac-69a437cab0c7",
   "metadata": {},
   "outputs": [],
   "source": [
    "# solving two sum n-times for a run time of O(n*n) time\n",
    "\n",
    "from typing import List\n",
    "\n",
    "class Solution:\n",
    "    def threeSum(self, nums: List[int]) -> List[List[int]]:\n",
    "        ans = set()\n",
    "        for i in range(len(nums)):\n",
    "            seen = set()\n",
    "            n = nums[i]\n",
    "            comp_threesum = 0 - n\n",
    "            for n2 in nums[i+1:]:\n",
    "                comp_twosum = comp_threesum - n2\n",
    "                if comp_twosum in d:\n",
    "                    triplet = tuple(sorted([n,n2,comp_twosum]))\n",
    "                    ans.add(triplet)\n",
    "                else:\n",
    "                    seen.add(n2)\n",
    "\n",
    "        # convert back to list of list for output\n",
    "        ans = [list(s) for s in ans]\n",
    "        return ans"
   ]
  },
  {
   "cell_type": "code",
   "execution_count": 61,
   "id": "2f9c4ca1-57d5-4abf-840c-d970565e31dc",
   "metadata": {},
   "outputs": [],
   "source": [
    "# sorted two sum solution, still O(n*n) runtime but more space efficient using only pointers\n",
    "# loop through nums and for each n use sorted two-sum pointer increment/decrement algorithm on the rest of the array\n",
    "from typing import List\n",
    "\n",
    "class Solution:\n",
    "    def threeSum(self, nums: List[int]) -> List[List[int]]:\n",
    "        ans = set()\n",
    "        nums = sorted(nums)\n",
    "        for i in range(len(nums)-2): # only iterate to the second-last element since we need a minimum of three elements in solution\n",
    "            first =  nums[i]\n",
    "\n",
    "            # two sum pointer solution for sorted array\n",
    "            l = i+1\n",
    "            r = len(nums)-1\n",
    "            while l<r:\n",
    "                second = nums[l]\n",
    "                third = nums[r]\n",
    "                candidate = first + second + third\n",
    "                if candidate == 0:\n",
    "                    ans.add((first,second,third)) # because nums is in sorted order, each solution triplet encountered will always be in the same order\n",
    "                    l += 1\n",
    "                    r -= 1\n",
    "                elif candidate < 0:\n",
    "                    l += 1\n",
    "                elif candidate > 0:\n",
    "                    r -= 1\n",
    "\n",
    "        # convert back to list of list for output\n",
    "        ans = [list(s) for s in ans]\n",
    "        return ans"
   ]
  },
  {
   "cell_type": "code",
   "execution_count": 66,
   "id": "535b2036-648d-4197-aed0-e3e44703a445",
   "metadata": {},
   "outputs": [],
   "source": [
    "# sorting pointer solution with duplicate checks for speed optimization\n",
    "from typing import List\n",
    "class Solution:\n",
    "    def threeSum(self, nums: List[int]) -> List[List[int]]:\n",
    "        ans = set()\n",
    "        nums = sorted(nums)\n",
    "        for i in range(len(nums)-2): # only iterate to the second-last element since we need a minimum of three elements in solution\n",
    "            if i > 0 and nums[i] == nums[i-1]: # skip iteration if nums[i] is duplicate\n",
    "                continue\n",
    "            first =  nums[i]\n",
    "            \n",
    "            # two sum pointer solution for sorted array\n",
    "            l = i+1\n",
    "            r = len(nums)-1\n",
    "            while l<r:\n",
    "                second = nums[l]\n",
    "                third = nums[r]\n",
    "                candidate = first + second + third\n",
    "                if candidate == 0:\n",
    "                    ans.add((first,second,third)) # because nums is in sorted order, each solution triplet encountered will always be in the same order\n",
    "                    l += 1\n",
    "                    r -= 1\n",
    "                    # continue increment l if nums[l] is duplicate of previous value\n",
    "                    while l<r and nums[l] == nums[l-1]:\n",
    "                        l += 1\n",
    "                    # continue decrement r if nums[r] is duplicate of previous value\n",
    "                    while l<r and nums[r] == nums[r+1]:\n",
    "                        r -= 1\n",
    "                elif candidate < 0:\n",
    "                    l += 1\n",
    "                elif candidate > 0:\n",
    "                    r -= 1\n",
    "\n",
    "        # convert back to list of list for output\n",
    "        ans = [list(s) for s in ans]\n",
    "        return ans"
   ]
  },
  {
   "cell_type": "code",
   "execution_count": 67,
   "id": "b6fd3f12-f2ef-4fd1-be9f-150423afcd53",
   "metadata": {},
   "outputs": [
    {
     "data": {
      "text/plain": [
       "[]"
      ]
     },
     "execution_count": 67,
     "metadata": {},
     "output_type": "execute_result"
    }
   ],
   "source": [
    "soln = Solution()\n",
    "soln.threeSum(nums2)"
   ]
  },
  {
   "cell_type": "markdown",
   "id": "af786e78-beca-4364-8152-23f2ec98c764",
   "metadata": {},
   "source": [
    "## 11. Container With Most Water\n",
    "\n",
    "leetcode: https://leetcode.com/problems/container-with-most-water/"
   ]
  },
  {
   "cell_type": "markdown",
   "id": "b774b920-06b0-4157-afa3-9719304d74a2",
   "metadata": {},
   "source": [
    "You are given an integer array `height` of length `n`. There are `n` vertical lines drawn such that the two endpoints of the `ith` line are `(i, 0)` and `(i, height[i])`.\n",
    "\n",
    "Find two lines that together with the x-axis form a container, such that the container contains the most water.\n",
    "\n",
    "Return the *maximum amount of water a container can store*.\n",
    "\n",
    "Notice that you may not slant the container.\n",
    "\n",
    " \n",
    "\n",
    "**Example 1:**\n",
    "\n",
    "![question_11](https://s3-lc-upload.s3.amazonaws.com/uploads/2018/07/17/question_11.jpg)\n",
    "```\n",
    "Input: height = [1,8,6,2,5,4,8,3,7]\n",
    "Output: 49\n",
    "Explanation: The above vertical lines are represented by array [1,8,6,2,5,4,8,3,7]. In this case, the max area of water (blue section) the container can contain is 49.\n",
    "```\n",
    "**Example 2:**\n",
    "```\n",
    "Input: height = [1,1]\n",
    "Output: 1\n",
    "```\n",
    "\n",
    "**Constraints:**\n",
    "\n",
    "* `n == height.length`\n",
    "* `2 <= n <= 10^5`\n",
    "* `0 <= height[i] <= 10^4`"
   ]
  },
  {
   "cell_type": "code",
   "execution_count": 4,
   "id": "d781336e-365e-42e7-9d4d-c9b1c97e9f4c",
   "metadata": {},
   "outputs": [],
   "source": [
    "height1 = [1,8,6,2,5,4,8,3,7]\n",
    "height2 = [1,1]"
   ]
  },
  {
   "cell_type": "code",
   "execution_count": 78,
   "id": "617c0170-16eb-44fa-943f-fa8bec42195e",
   "metadata": {},
   "outputs": [],
   "source": [
    "# use two pointers and move smaller of left/right pointers each iteration and check for largest area\n",
    "\n",
    "from typing import List\n",
    "\n",
    "class Solution:\n",
    "    def maxArea(self, height: List[int]) -> int:\n",
    "        l, r = 0, len(height)-1\n",
    "        maxarea = 0\n",
    "        while l < r:\n",
    "            area = (r-l) * min(height[l],height[r])\n",
    "            maxarea = max(maxarea, area)\n",
    "\n",
    "            # shift smaller of two heights\n",
    "            if height[l] < height [r]:\n",
    "                l += 1\n",
    "            else:\n",
    "                r -= 1\n",
    "                \n",
    "        return maxarea"
   ]
  },
  {
   "cell_type": "code",
   "execution_count": 79,
   "id": "2346b005-7ab2-4b87-b907-e462b23eec8a",
   "metadata": {},
   "outputs": [
    {
     "data": {
      "text/plain": [
       "1"
      ]
     },
     "execution_count": 79,
     "metadata": {},
     "output_type": "execute_result"
    }
   ],
   "source": [
    "soln = Solution()\n",
    "soln.maxArea(height2)"
   ]
  },
  {
   "cell_type": "markdown",
   "id": "60e13a8e-fdd1-45af-9629-70f570a756ed",
   "metadata": {},
   "source": [
    "## 42. Trapping Rain Water\n",
    "\n",
    "leetcode: https://leetcode.com/problems/trapping-rain-water/"
   ]
  },
  {
   "cell_type": "markdown",
   "id": "950501f3-6f6d-4130-b690-22890a4b647d",
   "metadata": {},
   "source": [
    "Given `n` non-negative integers representing an elevation map where the width of each bar is `1`, compute how much water it can trap after raining.\n",
    "\n",
    " \n",
    "\n",
    "**Example 1:**\n",
    "\n",
    "![https://assets.leetcode.com/uploads/2018/10/22/rainwatertrap.png](https://assets.leetcode.com/uploads/2018/10/22/rainwatertrap.png)\n",
    "```\n",
    "Input: height = [0,1,0,2,1,0,1,3,2,1,2,1]\n",
    "Output: 6\n",
    "Explanation: The above elevation map (black section) is represented by array [0,1,0,2,1,0,1,3,2,1,2,1]. In this case, 6 units of rain water (blue section) are being trapped.\n",
    "```\n",
    "**Example 2:**\n",
    "```\n",
    "Input: height = [4,2,0,3,2,5]\n",
    "Output: 9\n",
    "```\n",
    "\n",
    "**Constraints:**\n",
    "\n",
    "* `n == height.length`\n",
    "* `1 <= n <= 2 * 10^4`\n",
    "* `0 <= height[i] <= 10^5`"
   ]
  },
  {
   "cell_type": "code",
   "execution_count": 2,
   "id": "8a08e0dc-5c45-4fca-ab81-0fd9935f2311",
   "metadata": {},
   "outputs": [],
   "source": [
    "height1 = [0,1,0,2,1,0,1,3,2,1,2,1]\n",
    "height2 = [4,2,0,3,2,5]"
   ]
  },
  {
   "cell_type": "code",
   "execution_count": 19,
   "id": "b85c3269-0bdf-4c5c-b05d-f4eb6da0b623",
   "metadata": {},
   "outputs": [],
   "source": [
    "# idea: scan multiple passes to determine maximum height so far from the left and right side, then calculate water\n",
    "# as the height difference between the current floor at position i and the lowest maximum seen hight from left/right boundaries\n",
    "\n",
    "from typing import List\n",
    "\n",
    "class Solution:\n",
    "    def trap(self, height: List[int]) -> int:\n",
    "        lmax, rmax = [], []\n",
    "\n",
    "        # maximum height seen scanning from left\n",
    "        maxh = 0\n",
    "        for h in height:\n",
    "            maxh = max(maxh,h)\n",
    "            lmax.append(maxh)\n",
    "\n",
    "        # maximum height seen scanning from right\n",
    "        maxh = 0\n",
    "        for h in height[::-1]:\n",
    "            maxh = max(maxh,h)\n",
    "            rmax.append(maxh)\n",
    "        rmax = rmax[::-1] # reverse rmax so indicies line up with lmax & height\n",
    "\n",
    "        # calculate water as height diff between lowest(lmax,rmax) and height at position i\n",
    "        water = 0\n",
    "        for i in range(len(height)):\n",
    "            water += min(lmax[i],rmax[i])-height[i]\n",
    "            \n",
    "        return rmax"
   ]
  },
  {
   "cell_type": "code",
   "execution_count": 27,
   "id": "bdfd6e52-5e93-4b3f-9433-aa17ea58a829",
   "metadata": {},
   "outputs": [],
   "source": [
    "# O(1) space optimization using two pointers\n",
    "# use pointers to track Lmax and Rmax, shifting the smaller of the two pointers then calculating the water at the pointer position with the smaller max\n",
    "# this works because the water at any only cares about the smallest Lmax or Rmax\n",
    "\n",
    "from typing import List\n",
    "\n",
    "class Solution:\n",
    "    def trap(self, height: List[int]) -> int:\n",
    "        lmax, rmax = 0, 0\n",
    "        # start pointers at left and right ends of array\n",
    "        l, r = 0, len(height)-1\n",
    "\n",
    "        water = 0\n",
    "        while l < r:\n",
    "            lmax = max(lmax, height[l])\n",
    "            rmax = max(rmax, height[r])\n",
    "\n",
    "            if lmax < rmax: # calculate water at position l\n",
    "                water += lmax - height[l]\n",
    "                l += 1\n",
    "            else:\n",
    "                water += rmax - height[r]\n",
    "                r -= 1\n",
    "        \n",
    "        return water"
   ]
  },
  {
   "cell_type": "code",
   "execution_count": 29,
   "id": "13f07602-b93d-42f8-bf3d-308b4e1d0ccc",
   "metadata": {},
   "outputs": [
    {
     "data": {
      "text/plain": [
       "6"
      ]
     },
     "execution_count": 29,
     "metadata": {},
     "output_type": "execute_result"
    }
   ],
   "source": [
    "soln = Solution()\n",
    "soln.trap(height1)"
   ]
  },
  {
   "cell_type": "code",
   "execution_count": null,
   "id": "0d40c4e7-1df9-4830-bbde-9e5d89defb07",
   "metadata": {},
   "outputs": [],
   "source": []
  },
  {
   "cell_type": "markdown",
   "id": "082cc6be-e328-4467-a4b6-cce6f24a2b4b",
   "metadata": {},
   "source": [
    "## 20. Valid Parentheses\n",
    "\n",
    "leetcode: https://leetcode.com/problems/valid-parentheses/"
   ]
  },
  {
   "cell_type": "markdown",
   "id": "dba4eb94-fe81-47ab-9e1d-1fca44b05d91",
   "metadata": {},
   "source": [
    "Given a string `s` containing just the characters `'('`, `')'`, `'{'`, `'}'`, `'['` and `']'`, determine if the input string is valid.\n",
    "\n",
    "An input string is valid if:\n",
    "\n",
    "1. Open brackets must be closed by the same type of brackets.\n",
    "2. Open brackets must be closed in the correct order.\n",
    "3. Every close bracket has a corresponding open bracket of the same type.\n",
    " \n",
    "\n",
    "**Example 1:**\n",
    "```\n",
    "Input: s = \"()\"\n",
    "Output: true\n",
    "```\n",
    "**Example 2:**\n",
    "```\n",
    "Input: s = \"()[]{}\"\n",
    "Output: true\n",
    "```\n",
    "**Example 3:**\n",
    "```\n",
    "Input: s = \"(]\"\n",
    "Output: false\n",
    "```\n",
    "\n",
    "**Constraints:**\n",
    "\n",
    "* `1 <= s.length <= 10^4`\n",
    "* `s` consists of parentheses only `'()[]{}'`."
   ]
  },
  {
   "cell_type": "code",
   "execution_count": 21,
   "id": "6def244d-db4e-4c59-a5fc-12b7529696cb",
   "metadata": {},
   "outputs": [],
   "source": [
    "s1 = \"()\"\n",
    "s2 = \"()[]{}\"\n",
    "s3 = \"(]\"\n",
    "s4 = \"([)]\"\n",
    "s5 = \"\"\n",
    "s6 = \"{()[]{})\"\n",
    "s7 = \")))\""
   ]
  },
  {
   "cell_type": "code",
   "execution_count": 28,
   "id": "38395b2d-9698-479e-a46a-f235e3127e2d",
   "metadata": {},
   "outputs": [],
   "source": [
    "class Solution:\n",
    "    def isValid(self, s: str) -> bool:\n",
    "        stack = []\n",
    "        openings = {')': '(', \n",
    "                    ']': '[', \n",
    "                    '}': '{' }\n",
    "\n",
    "        for c in s:\n",
    "            if c in openings.keys():\n",
    "                if len(stack)>0 and openings[c] == stack[-1]:\n",
    "                    stack.pop()\n",
    "                else:\n",
    "                    return False\n",
    "            else:\n",
    "                stack.append(c)\n",
    "            \n",
    "        if len(stack) > 0:\n",
    "            return False\n",
    "            \n",
    "        return True"
   ]
  },
  {
   "cell_type": "code",
   "execution_count": 29,
   "id": "8378b156-d563-4666-9b42-a36031a0a587",
   "metadata": {},
   "outputs": [
    {
     "data": {
      "text/plain": [
       "False"
      ]
     },
     "execution_count": 29,
     "metadata": {},
     "output_type": "execute_result"
    }
   ],
   "source": [
    "soln = Solution()\n",
    "soln.isValid(s7)"
   ]
  },
  {
   "cell_type": "code",
   "execution_count": 7,
   "id": "5e9e6437-e662-4a5b-9c27-e790aae1d116",
   "metadata": {},
   "outputs": [
    {
     "data": {
      "text/plain": [
       "dict_values([1, 2])"
      ]
     },
     "execution_count": 7,
     "metadata": {},
     "output_type": "execute_result"
    }
   ],
   "source": [
    "{'d':1, 'e':2}.values()"
   ]
  },
  {
   "cell_type": "markdown",
   "id": "44443201-3976-4797-b52c-9ff77c4a5319",
   "metadata": {},
   "source": [
    "## 155. Min Stack\n",
    "\n",
    "leetcode: https://leetcode.com/problems/min-stack/"
   ]
  },
  {
   "cell_type": "markdown",
   "id": "da503387-1ac4-4445-b157-e2319e3cbc5b",
   "metadata": {},
   "source": [
    "Design a stack that supports push, pop, top, and retrieving the minimum element in constant time.\n",
    "\n",
    "Implement the `MinStack` class:\n",
    "\n",
    "* `MinStack()` initializes the stack object.\n",
    "* `void push(int val)` pushes the element `val` onto the stack.\n",
    "* `void pop()` removes the element on the top of the stack.\n",
    "* `int top()` gets the top element of the stack.\n",
    "* `int getMin()` retrieves the minimum element in the stack.\n",
    "* You must implement a solution with `O(1)` time complexity for each function.\n",
    "\n",
    " \n",
    "\n",
    "**Example 1:**\n",
    "```\n",
    "Input\n",
    "[\"MinStack\",\"push\",\"push\",\"push\",\"getMin\",\"pop\",\"top\",\"getMin\"]\n",
    "[[],[-2],[0],[-3],[],[],[],[]]\n",
    "\n",
    "Output\n",
    "[null,null,null,null,-3,null,0,-2]\n",
    "\n",
    "Explanation\n",
    "MinStack minStack = new MinStack();\n",
    "minStack.push(-2);\n",
    "minStack.push(0);\n",
    "minStack.push(-3);\n",
    "minStack.getMin(); // return -3\n",
    "minStack.pop();\n",
    "minStack.top();    // return 0\n",
    "minStack.getMin(); // return -2\n",
    "``` \n",
    "\n",
    "**Constraints:**\n",
    "\n",
    "* `-2^31 <= val <= 2^31 - 1`\n",
    "* Methods `pop`, `top` and `getMin` operations will always be called on non-empty stacks.\n",
    "* At most `3 * 10^4` calls will be made to `push`, `pop`, `top`, and `getMin`."
   ]
  },
  {
   "cell_type": "code",
   "execution_count": 44,
   "id": "15f62ec8-c78b-4f84-b539-286cc7c36d01",
   "metadata": {},
   "outputs": [],
   "source": [
    "class MinStack:\n",
    "\n",
    "    def __init__(self):\n",
    "        self.stack = []\n",
    "        self.minVals = []\n",
    "        \n",
    "\n",
    "    def push(self, val: int) -> None:\n",
    "        self.stack.append(val)\n",
    "        # update minVal if new minimum found\n",
    "        if (len(self.minVals) == 0) or (val <= self.minVals[-1]):\n",
    "            self.minVals.append(val)\n",
    "        \n",
    "\n",
    "    def pop(self) -> None:\n",
    "        delVal = self.stack.pop()\n",
    "        # if delVal matches current minimum, then update minVal to previous minVal\n",
    "        if delVal == self.minVals[-1]:\n",
    "            self.minVals.pop()\n",
    "\n",
    "    def top(self) -> int:\n",
    "        return self.stack[-1] if self.stack else None\n",
    "\n",
    "    def getMin(self) -> int:\n",
    "        return self.minVals[-1] if self.stack else None"
   ]
  },
  {
   "cell_type": "code",
   "execution_count": 73,
   "id": "f4071c3b-979e-43f6-bd52-c1f1656aa57d",
   "metadata": {},
   "outputs": [],
   "source": [
    "# optimization: uses one list to store tuples of (stack_element,current_minimum)\n",
    "class MinStack:\n",
    "\n",
    "    def __init__(self):\n",
    "        self.stack = []        \n",
    "\n",
    "    def push(self, val: int) -> None:\n",
    "        # update minimum\n",
    "        if self.stack:\n",
    "            oldmin = self.stack[-1][1]\n",
    "            newmin = min(oldmin,val)\n",
    "        else:\n",
    "            newmin = val\n",
    "        # add (val, newmin to stack)\n",
    "        self.stack.append((val,newmin))\n",
    "        \n",
    "\n",
    "    def pop(self) -> None:\n",
    "        self.stack.pop()\n",
    "\n",
    "    def top(self) -> int:\n",
    "        return self.stack[-1][0] if self.stack else None # return top element val\n",
    "\n",
    "    def getMin(self) -> int:\n",
    "        return self.stack[-1][1] if self.stack else None # return top element minval"
   ]
  },
  {
   "cell_type": "code",
   "execution_count": 74,
   "id": "74318456-7525-4275-8fd5-5485a0242e6d",
   "metadata": {},
   "outputs": [
    {
     "name": "stdout",
     "output_type": "stream",
     "text": [
      "0\n",
      "1\n",
      "0\n"
     ]
    }
   ],
   "source": [
    "minStack = MinStack()\n",
    "minStack.push(0)\n",
    "minStack.push(1)\n",
    "minStack.push(0)\n",
    "# minStack.push(-10)\n",
    "# minStack.push(-4)\n",
    "# minStack.push(-4)\n",
    "print(minStack.getMin()) \n",
    "minStack.pop()\n",
    "print(minStack.top())    \n",
    "print(minStack.getMin()) \n",
    "\n",
    "# [\"MinStack\",\"push\",\"push\",\"push\",\"top\",\"pop\",\"getMin\",\"pop\",\"getMin\",\"pop\",\"push\",\"top\",\"getMin\",\"push\",\"top\",\"getMin\",\"pop\",\"getMin\"]\n",
    "\n",
    "# minStack.pop()\n",
    "# print(minStack.top())\n",
    "# print(minStack.getMin())\n",
    "# minStack.pop()\n",
    "# print(minStack.top())\n",
    "# print(minStack.getMin())\n",
    "# minStack.pop()\n",
    "# print(minStack.top())\n",
    "# print(minStack.getMin())"
   ]
  },
  {
   "cell_type": "markdown",
   "id": "add53bb2-6474-4b6c-9acf-de459a7e1311",
   "metadata": {},
   "source": [
    "## 150. Evaluate Reverse Polish Notation\n",
    "\n",
    "\n",
    "leetcode: https://leetcode.com/problems/evaluate-reverse-polish-notation/"
   ]
  },
  {
   "cell_type": "markdown",
   "id": "94ff1c0b-2434-43b5-9997-cd6b92a9fb4c",
   "metadata": {},
   "source": [
    "You are given an array of strings `tokens` that represents an arithmetic expression in a [Reverse Polish Notation](http://en.wikipedia.org/wiki/Reverse_Polish_notation).\n",
    "\n",
    "Evaluate the expression. Return an integer that represents the value of the expression.\n",
    "\n",
    "**Note that:**\n",
    "\n",
    "* The valid operators are `'+'`, `'-'`, `'*'`, and `'/'`.\n",
    "* Each operand may be an integer or another expression.\n",
    "* The division between two integers always **truncates toward zero**.\n",
    "* There will not be any division by zero.\n",
    "* The input represents a valid arithmetic expression in a reverse polish notation.\n",
    "* The answer and all the intermediate calculations can be represented in a **32-bit** integer.\n",
    " \n",
    "\n",
    "**Example 1:**\n",
    "```\n",
    "Input: tokens = [\"2\",\"1\",\"+\",\"3\",\"*\"]\n",
    "Output: 9\n",
    "Explanation: ((2 + 1) * 3) = 9\n",
    "```\n",
    "**Example 2:**\n",
    "```\n",
    "Input: tokens = [\"4\",\"13\",\"5\",\"/\",\"+\"]\n",
    "Output: 6\n",
    "Explanation: (4 + (13 / 5)) = 6\n",
    "```\n",
    "**Example 3:**\n",
    "```\n",
    "Input: tokens = [\"10\",\"6\",\"9\",\"3\",\"+\",\"-11\",\"*\",\"/\",\"*\",\"17\",\"+\",\"5\",\"+\"]\n",
    "Output: 22\n",
    "Explanation: ((10 * (6 / ((9 + 3) * -11))) + 17) + 5\n",
    "= ((10 * (6 / (12 * -11))) + 17) + 5\n",
    "= ((10 * (6 / -132)) + 17) + 5\n",
    "= ((10 * 0) + 17) + 5\n",
    "= (0 + 17) + 5\n",
    "= 17 + 5\n",
    "= 22\n",
    "```\n",
    "\n",
    "**Constraints:**\n",
    "\n",
    "* `1 <= tokens.length <= 10^4`\n",
    "* `tokens[i]` is either an operator: `\"+\"`, `\"-\"`, `\"*\"`, or `\"/\"`, or an integer in the range `[-200, 200]`."
   ]
  },
  {
   "cell_type": "code",
   "execution_count": 74,
   "id": "fb2fe913-73ec-463f-a1c0-fc6ad3546d11",
   "metadata": {},
   "outputs": [],
   "source": [
    "tokens1 = [\"2\",\"1\",\"+\",\"3\",\"*\"]\n",
    "tokens2 = [\"4\",\"13\",\"5\",\"/\",\"+\"]\n",
    "tokens3 = [\"10\",\"6\",\"9\",\"3\",\"+\",\"-11\",\"*\",\"/\",\"*\",\"17\",\"+\",\"5\",\"+\"]\n",
    "tokens4 = [\"18\"]\n",
    "tokens5 = [\"0\",\"3\",\"/\"]\n",
    "tokens6 = [\"4\",\"-2\",\"/\",\"2\",\"-3\",\"-\",\"-\"]"
   ]
  },
  {
   "cell_type": "code",
   "execution_count": 71,
   "id": "a2d86c28-c4a7-4cc8-ae0a-451d220258b2",
   "metadata": {},
   "outputs": [],
   "source": [
    "from typing import List\n",
    "\n",
    "class Solution:\n",
    "    def evalRPN(self, tokens: List[str]) -> int:\n",
    "        stack = []\n",
    "        operators = set(['+','-', '*', '/'])\n",
    "        \n",
    "        for t in tokens:\n",
    "            if t in operators:\n",
    "                op2 = int(stack.pop())\n",
    "                op1 = int(stack.pop())\n",
    "\n",
    "                if t == '+':\n",
    "                    stack.append(op1 + op2)\n",
    "                elif t == '-':\n",
    "                    stack.append(op1 - op2)\n",
    "                elif t == '*':\n",
    "                    stack.append(op1 * op2)\n",
    "                elif t == '/':\n",
    "                    res = op1 / op2\n",
    "                    stack.append(int(res)) # convert float to int and truncate toward zero\n",
    "            else:\n",
    "                stack.append(int(t))\n",
    "                    \n",
    "        \n",
    "        return stack[0]"
   ]
  },
  {
   "cell_type": "code",
   "execution_count": 75,
   "id": "d3ec1892-56f0-4db9-a6c1-a4a58938c7ba",
   "metadata": {},
   "outputs": [
    {
     "data": {
      "text/plain": [
       "-7"
      ]
     },
     "execution_count": 75,
     "metadata": {},
     "output_type": "execute_result"
    }
   ],
   "source": [
    "soln = Solution()\n",
    "soln.evalRPN(tokens6)"
   ]
  },
  {
   "cell_type": "markdown",
   "id": "6ea5c02c-087a-43a1-a22d-33ddd9a928cd",
   "metadata": {},
   "source": [
    "## 22. Generate Parentheses\n",
    "\n",
    "leetcode: https://leetcode.com/problems/generate-parentheses/"
   ]
  },
  {
   "cell_type": "markdown",
   "id": "a281364f-766d-44cb-9124-59f578b68cf2",
   "metadata": {},
   "source": [
    "Given `n` pairs of parentheses, write a function to generate all combinations of well-formed parentheses.\n",
    "\n",
    " \n",
    "\n",
    "**Example 1:**\n",
    "```\n",
    "Input: n = 3\n",
    "Output: [\"((()))\",\"(()())\",\"(())()\",\"()(())\",\"()()()\"]\n",
    "```\n",
    "**Example 2:**\n",
    "```\n",
    "Input: n = 1\n",
    "Output: [\"()\"]\n",
    "```\n",
    "\n",
    "**Constraints:**\n",
    "\n",
    "* `1 <= n <= 8`"
   ]
  },
  {
   "cell_type": "code",
   "execution_count": 85,
   "id": "84d03d9c-8309-46d8-886b-b9123964b473",
   "metadata": {},
   "outputs": [],
   "source": [
    "n1 = 3\n",
    "n2 = 1"
   ]
  },
  {
   "cell_type": "code",
   "execution_count": null,
   "id": "ba98a8d0-eb25-432d-ac1a-8e3fd4c63309",
   "metadata": {},
   "outputs": [],
   "source": [
    "# 1x: ()\n",
    "# 2x: ((, )) -> (()), ()()\n",
    "# 3x: (((, ))) -> ((())), (())(), ()(()), ()()(), (()())\n",
    "# 4x: ((((,) ))) -> \n",
    "    # (((()))), \n",
    "    # ((()))(), ((()())), ((())()\n",
    "    # (())(()), (())()()\n",
    "    # ()((())), ()(())(), ()(()()), ()()(()), ()()()() \n",
    "# backtracking or DP problem\n",
    "    # can solve by backtracking using dfs\n",
    "    # (())"
   ]
  },
  {
   "cell_type": "code",
   "execution_count": 98,
   "id": "636defe1-be97-4e80-b0e6-e8401ab25563",
   "metadata": {},
   "outputs": [],
   "source": [
    "from typing import List\n",
    "\n",
    "class Solution:\n",
    "    def generateParenthesis(self, n: int) -> List[str]:        \n",
    "        def dfs(left, right, s):\n",
    "            if len(s) == n*2:\n",
    "                # we have a valid solution\n",
    "                ans.append(s)\n",
    "                return\n",
    "\n",
    "            # add one left parenthesis and recurse only if less openers than n\n",
    "            if left < n:\n",
    "                dfs(left+1, right, s + '(')\n",
    "\n",
    "            # add one right parenthesis and recurse only if less closers than openers\n",
    "            if right < left:\n",
    "                dfs(left, right+1, s + ')')\n",
    "\n",
    "        ans = []\n",
    "        dfs(0, 0, '')\n",
    "            \n",
    "        return ans"
   ]
  },
  {
   "cell_type": "code",
   "execution_count": 99,
   "id": "2b20ff73-8d81-45ce-bbb2-1025ad1e879d",
   "metadata": {},
   "outputs": [
    {
     "data": {
      "text/plain": [
       "['(((())))',\n",
       " '((()()))',\n",
       " '((())())',\n",
       " '((()))()',\n",
       " '(()(()))',\n",
       " '(()()())',\n",
       " '(()())()',\n",
       " '(())(())',\n",
       " '(())()()',\n",
       " '()((()))',\n",
       " '()(()())',\n",
       " '()(())()',\n",
       " '()()(())',\n",
       " '()()()()']"
      ]
     },
     "execution_count": 99,
     "metadata": {},
     "output_type": "execute_result"
    }
   ],
   "source": [
    "soln = Solution()\n",
    "soln.generateParenthesis(4)"
   ]
  },
  {
   "cell_type": "markdown",
   "id": "6a98f60e-25a1-41a4-9557-2b28f7d2d771",
   "metadata": {},
   "source": [
    "## 739. Daily Temperatures\n",
    "\n",
    "\n",
    "leetcode: https://leetcode.com/problems/daily-temperatures/"
   ]
  },
  {
   "cell_type": "markdown",
   "id": "ca60b4e6-7d24-4853-9fa5-bf7be4188849",
   "metadata": {},
   "source": [
    "Given an array of integers `temperatures` represents the daily temperatures, return an array `answer` such that `answer[i]` is the number of days you have to wait after the `ith` day to get a warmer temperature. If there is no future day for which this is possible, keep `answer[i] == 0` instead.\n",
    "\n",
    " \n",
    "\n",
    "**Example 1:**\n",
    "```\n",
    "Input: temperatures = [73,74,75,71,69,72,76,73]\n",
    "Output: [1,1,4,2,1,1,0,0]\n",
    "```\n",
    "**Example 2:**\n",
    "```\n",
    "Input: temperatures = [30,40,50,60]\n",
    "Output: [1,1,1,0]\n",
    "```\n",
    "***Example 3:**\n",
    "```\n",
    "Input: temperatures = [30,60,90]\n",
    "Output: [1,1,0]\n",
    "```\n",
    "\n",
    "**Constraints:**\n",
    "\n",
    "* `1 <= temperatures.length <= 10^5`\n",
    "* `30 <= temperatures[i] <= 100`"
   ]
  },
  {
   "cell_type": "code",
   "execution_count": 3,
   "id": "bf605c6f-fdd3-41ae-be45-f7fd016a941e",
   "metadata": {},
   "outputs": [],
   "source": [
    "temperatures1 = [73,74,75,71,69,72,76,73]\n",
    "temperatures2 = [30,40,50,60]\n",
    "temperatures3 = [30,60,90]\n",
    "temperatures4 = [37,9,8,7,27,20,4,30]"
   ]
  },
  {
   "cell_type": "code",
   "execution_count": 4,
   "id": "6ed3b61b-6021-401e-b92b-2da369c27b04",
   "metadata": {},
   "outputs": [],
   "source": [
    "# using monotonic increasing stack (of temperature indices)\n",
    "# iterate through temperatures in reverse order and maintain a stack of indices of strictly increasing temperatures\n",
    "\n",
    "from typing import List\n",
    "\n",
    "class Solution:\n",
    "    def dailyTemperatures(self, temperatures: List[int]) -> List[int]:\n",
    "        stack = []\n",
    "        ans = [0] * len(temperatures)\n",
    "        \n",
    "        for i in range(len(temperatures)-1,-1,-1):\n",
    "            while stack and temperatures[stack[-1]] <= temperatures[i]:\n",
    "                # remove all temperatures at top of stack that are less than or equal to current temp\n",
    "                stack.pop()\n",
    "\n",
    "            if stack:\n",
    "                # if there is something on the stack, then there's a hotter temp: add index diff to result\n",
    "                ans[i] = stack[-1] - i\n",
    "\n",
    "            # add current temp to stack\n",
    "            stack.append(i)\n",
    "            \n",
    "        return ans"
   ]
  },
  {
   "cell_type": "code",
   "execution_count": 5,
   "id": "5d8de633-1034-404c-b2b3-5a3f2a68ac84",
   "metadata": {},
   "outputs": [
    {
     "data": {
      "text/plain": [
       "[0, 3, 2, 1, 3, 2, 1, 0]"
      ]
     },
     "execution_count": 5,
     "metadata": {},
     "output_type": "execute_result"
    }
   ],
   "source": [
    "soln = Solution()\n",
    "soln.dailyTemperatures(temperatures4)"
   ]
  },
  {
   "cell_type": "markdown",
   "id": "82192f5d-80b1-47f1-a7e3-1bf9262db46a",
   "metadata": {},
   "source": [
    "## 853. Car Fleet\n",
    "\n",
    "\n",
    "\n",
    "leetcode: https://leetcode.com/problems/car-fleet/"
   ]
  },
  {
   "cell_type": "markdown",
   "id": "7d6d5a9b-cc6e-4c66-8a8c-9a932ee6da15",
   "metadata": {},
   "source": [
    "There are `n` cars going to the same destination along a one-lane road. The destination is `target` miles away.\n",
    "\n",
    "You are given two integer array `position` and `speed`, both of length `n`, where `position[i]` is the position of the `ith` car and `speed[i]` is the speed of the `ith` car (in miles per hour).\n",
    "\n",
    "A car can never pass another car ahead of it, but it can catch up to it and drive bumper to bumper at **the same speed**. The faster car will **slow down** to match the slower car's speed. The distance between these two cars is ignored (i.e., they are assumed to have the same position).\n",
    "\n",
    "A **car fleet** is some non-empty set of cars driving at the same position and same speed. Note that a single car is also a car fleet.\n",
    "\n",
    "If a car catches up to a car fleet right at the destination point, it will still be considered as one car fleet.\n",
    "\n",
    "Return the **number of car fleets** that will arrive at the destination.\n",
    "\n",
    " \n",
    "\n",
    "**Example 1:**\n",
    "```\n",
    "Input: target = 12, position = [10,8,0,5,3], speed = [2,4,1,1,3]\n",
    "Output: 3\n",
    "Explanation:\n",
    "The cars starting at 10 (speed 2) and 8 (speed 4) become a fleet, meeting each other at 12.\n",
    "The car starting at 0 does not catch up to any other car, so it is a fleet by itself.\n",
    "The cars starting at 5 (speed 1) and 3 (speed 3) become a fleet, meeting each other at 6. The fleet moves at speed 1 until it reaches target.\n",
    "Note that no other cars meet these fleets before the destination, so the answer is 3.\n",
    "```\n",
    "**Example 2:**\n",
    "```\n",
    "Input: target = 10, position = [3], speed = [3]\n",
    "Output: 1\n",
    "Explanation: There is only one car, hence there is only one fleet.\n",
    "```\n",
    "**Example 3:**\n",
    "```\n",
    "Input: target = 100, position = [0,2,4], speed = [4,2,1]\n",
    "Output: 1\n",
    "Explanation:\n",
    "The cars starting at 0 (speed 4) and 2 (speed 2) become a fleet, meeting each other at 4. The fleet moves at speed 2.\n",
    "Then, the fleet (speed 2) and the car starting at 4 (speed 1) become one fleet, meeting each other at 6. The fleet moves at speed 1 until it reaches target.\n",
    "```\n",
    "\n",
    "**Constraints:**\n",
    "\n",
    "* `n == position.length == speed.length`\n",
    "* `1 <= n <= 10^5`\n",
    "* `0 < target <= 10^6`\n",
    "* `0 <= position[i] < target`\n",
    "* All the values of `position` are **unique**.\n",
    "* `0 < speed[i] <= 10^6`\n",
    "\n"
   ]
  },
  {
   "cell_type": "code",
   "execution_count": 9,
   "id": "56cd2e62-3274-4487-a2c2-de8cbf143003",
   "metadata": {},
   "outputs": [],
   "source": [
    "target1 = 12\n",
    "position1 = [10,8,0,5,3]\n",
    "speed1 = [2,4,1,1,3]\n",
    "\n",
    "target2 = 10\n",
    "position2 = [3]\n",
    "speed2 = [3]\n",
    "\n",
    "target3 = 100\n",
    "position3 = [0,2,4]\n",
    "speed3 = [4,2,1]"
   ]
  },
  {
   "cell_type": "code",
   "execution_count": 47,
   "id": "8031b756-65cf-48b1-b4da-79a79a28688e",
   "metadata": {},
   "outputs": [],
   "source": [
    "from typing import List\n",
    "\n",
    "class Solution:\n",
    "    def carFleet(self, target: int, position: List[int], speed: List[int]) -> int:\n",
    "        cars = []\n",
    "        for i, p in enumerate(position):\n",
    "            cars.append( (p,speed[i]) )\n",
    "\n",
    "        cars = sorted(cars, key=lambda x: x[0])\n",
    "\n",
    "        ttt = []\n",
    "        for i, c in enumerate(cars):\n",
    "            ttt.append( (target - c[0]) / c[1])\n",
    "\n",
    "        # number of fleets is the number of elements in stack after creating a monotonic decreasing stack\n",
    "        fleets = []\n",
    "        for t in ttt:\n",
    "            while fleets and fleets[-1] <= t:\n",
    "                fleets.pop()b\n",
    "\n",
    "            fleets.append(t)\n",
    "            \n",
    "        return cars"
   ]
  },
  {
   "cell_type": "code",
   "execution_count": 58,
   "id": "8249c947-3cfb-4831-83a2-bae653d6f123",
   "metadata": {},
   "outputs": [],
   "source": [
    "# space optimization / more concise code\n",
    "\n",
    "class Solution:\n",
    "    def carFleet(self, target: int, position: List[int], speed: List[int]) -> int:\n",
    "        cars = [ (p, s) for p,s in zip(position, speed)]\n",
    "        cars = sorted(cars, key=lambda x: x[0])\n",
    "\n",
    "\n",
    "        # number of fleets is the number of elements in stack after creating a monotonic decreasing time to arrive stack\n",
    "        fleets = []\n",
    "        for c in cars:\n",
    "            while fleets and (target - fleets[-1][0])/fleets[-1][1] <= ((target-c[0])/c[1]):\n",
    "                fleets.pop()\n",
    "\n",
    "            fleets.append(c)\n",
    "            \n",
    "        return len(fleets)"
   ]
  },
  {
   "cell_type": "code",
   "execution_count": 60,
   "id": "ad68738d-c36f-4a61-b865-4f39fbc64936",
   "metadata": {},
   "outputs": [
    {
     "data": {
      "text/plain": [
       "3"
      ]
     },
     "execution_count": 60,
     "metadata": {},
     "output_type": "execute_result"
    }
   ],
   "source": [
    "soln = Solution()\n",
    "soln.carFleet(target1, position1, speed1)"
   ]
  },
  {
   "cell_type": "code",
   "execution_count": 30,
   "id": "863dbdbb-4df8-42c9-9572-59f1cb0efabc",
   "metadata": {},
   "outputs": [],
   "source": [
    "res = []\n",
    "testspeed = [1,3,1,4,2]\n",
    "testposition = [0,3,5,8,10]\n",
    "testtarget = target1\n",
    "for i in range(len(position1)):\n",
    "    res.append((testtarget - testposition[i]) // testspeed[i])"
   ]
  },
  {
   "cell_type": "code",
   "execution_count": 31,
   "id": "caea1973-7dde-4d02-bd60-de7cf3440abf",
   "metadata": {},
   "outputs": [
    {
     "data": {
      "text/plain": [
       "[12, 3, 7, 1, 1]"
      ]
     },
     "execution_count": 31,
     "metadata": {},
     "output_type": "execute_result"
    }
   ],
   "source": [
    "res"
   ]
  },
  {
   "cell_type": "code",
   "execution_count": 21,
   "id": "7fe452d2-a077-43a0-ba0b-49f4860006dd",
   "metadata": {},
   "outputs": [
    {
     "data": {
      "text/plain": [
       "100"
      ]
     },
     "execution_count": 21,
     "metadata": {},
     "output_type": "execute_result"
    }
   ],
   "source": [
    "target3 - position3[0]"
   ]
  },
  {
   "cell_type": "markdown",
   "id": "bdee52c0-c06a-48c7-8660-b8eb7bb967fa",
   "metadata": {},
   "source": [
    "## 84. Largest Rectangle in Histogram\n",
    "\n",
    "\n",
    "leetcode: https://leetcode.com/problems/largest-rectangle-in-histogram/"
   ]
  },
  {
   "cell_type": "code",
   "execution_count": 5,
   "id": "ca5569bc-d4a7-4267-a772-a8a1df0537f5",
   "metadata": {},
   "outputs": [
    {
     "data": {
      "text/plain": [
       "(2, 0, 2)"
      ]
     },
     "execution_count": 5,
     "metadata": {},
     "output_type": "execute_result"
    }
   ],
   "source": [
    "(2, 0, 1)\n",
    "\n",
    "# min_height = 1\n",
    "# position = 0\n",
    "# width = 1 - 0 + 1\n",
    "# area = 2\n"
   ]
  },
  {
   "cell_type": "markdown",
   "id": "d0e8c644-1a2a-407b-b6aa-312f572f50a5",
   "metadata": {},
   "source": [
    "Given an array of integers `heights` representing the histogram's bar height where the width of each bar is `1`, return the *area of the largest rectangle in the histogram*.\n",
    "\n",
    " \n",
    "\n",
    "**Example 1:**\n",
    "\n",
    "![https://assets.leetcode.com/uploads/2021/01/04/histogram.jpg](https://assets.leetcode.com/uploads/2021/01/04/histogram.jpg)\n",
    "```\n",
    "Input: heights = [2,1,5,6,2,3]\n",
    "Output: 10\n",
    "Explanation: The above is a histogram where width of each bar is 1.\n",
    "The largest rectangle is shown in the red area, which has an area = 10 units.\n",
    "```\n",
    "**Example 2:**\n",
    "\n",
    "![https://assets.leetcode.com/uploads/2021/01/04/histogram-1.jpg](https://assets.leetcode.com/uploads/2021/01/04/histogram-1.jpg)\n",
    "```\n",
    "Input: heights = [2,4]\n",
    "Output: 4\n",
    "```\n",
    "\n",
    "**Constraints:**\n",
    "\n",
    "* `1 <= heights.length <= 10^5`\n",
    "* `0 <= heights[i] <= 10^4`"
   ]
  },
  {
   "cell_type": "code",
   "execution_count": 1,
   "id": "5c94ad49-d269-436f-8b37-de60d1334574",
   "metadata": {},
   "outputs": [],
   "source": [
    "heights1 = [2,1,5,6,2,3]\n",
    "heights2 = [2,4]"
   ]
  },
  {
   "cell_type": "code",
   "execution_count": 51,
   "id": "62eec0da-1af6-409c-9ea9-a99edd567c7f",
   "metadata": {},
   "outputs": [],
   "source": [
    "# construct a stack of increasing heights\n",
    "# for each new height, add to stack if new > stack_top_height\n",
    "# repeatedly pop height from top of stack if new <= stack_top_height, then add new height to stack and set new height index to be the last popped index val\n",
    "\n",
    "\n",
    "from typing import List\n",
    "\n",
    "class Solution:\n",
    "    def largestRectangleArea(self, heights: List[int]) -> int:\n",
    "        maxarea = 0\n",
    "\n",
    "        stack = []\n",
    "        top = None\n",
    "        for i,h in enumerate(heights):\n",
    "            # repeatedly pop top stack height if > h, stack should be strictly increasing heights\n",
    "            while stack and stack[-1][1] > h:\n",
    "                top = stack.pop()\n",
    "\n",
    "                # update max area\n",
    "                maxarea = max(maxarea,top[1]*(i-top[0]))\n",
    "\n",
    "            # update i to latest popped index and append (i, h) to stack\n",
    "            if top:\n",
    "                i = top[0]\n",
    "            stack.append((i,h))\n",
    "            top = None\n",
    "\n",
    "        # check max area in final candidate rectangles\n",
    "        for i,h in stack:\n",
    "            maxarea = max(maxarea, (len(heights)-i) * h)\n",
    "                \n",
    "        return maxarea"
   ]
  },
  {
   "cell_type": "code",
   "execution_count": 61,
   "id": "ae8dabc8-f2d4-44b9-9999-bc0fb9a794fc",
   "metadata": {},
   "outputs": [],
   "source": [
    "class Solution:\n",
    "    def largestRectangleArea(self, heights):\n",
    "        stack, ans = [], 0\n",
    "        for i, h in enumerate(heights + [0]): # adding 0 to end of heights is hack to trigger max area check for final heights\n",
    "            while stack and heights[stack[-1]] >= h:\n",
    "                H = heights[stack.pop()]\n",
    "                W = i if not stack else i-stack[-1]-1\n",
    "                ans = max(ans, H*W)\n",
    "            stack.append((i,h))\n",
    "        return stack"
   ]
  },
  {
   "cell_type": "code",
   "execution_count": 62,
   "id": "59ae508e-8b9f-46b7-911a-f1d3a60021da",
   "metadata": {},
   "outputs": [
    {
     "data": {
      "text/plain": [
       "[(0, 2), (1, 1), (2, 5), (3, 6), (4, 2), (5, 3), (6, 0)]"
      ]
     },
     "execution_count": 62,
     "metadata": {},
     "output_type": "execute_result"
    }
   ],
   "source": [
    "soln = Solution()\n",
    "soln.largestRectangleArea(heights1)"
   ]
  },
  {
   "cell_type": "markdown",
   "id": "3467062e-e9b9-4e68-9ba6-951c03445dcb",
   "metadata": {},
   "source": [
    "# Binary Search"
   ]
  },
  {
   "cell_type": "markdown",
   "id": "42e0a3f3-ed1e-48af-b00a-d0168f9a8925",
   "metadata": {},
   "source": [
    "## 704. Binary Search\n",
    "\n",
    "\n",
    "leetcode: https://leetcode.com/problems/binary-search/"
   ]
  },
  {
   "cell_type": "markdown",
   "id": "40309ce5-e033-442e-827f-8322029eef09",
   "metadata": {},
   "source": [
    "Given an array of integers `nums` which is sorted in ascending order, and an integer `target`, write a function to search `target` in `nums`. If `target` exists, then return its `index`. Otherwise, return `-`1.\n",
    "\n",
    "You must write an algorithm with `O(log n)` runtime complexity.\n",
    "\n",
    " \n",
    "\n",
    "**Example 1:**\n",
    "```\n",
    "Input: nums = [-1,0,3,5,9,12], target = 9\n",
    "Output: 4\n",
    "Explanation: 9 exists in nums and its index is 4\n",
    "```\n",
    "**Example 2:**\n",
    "```\n",
    "Input: nums = [-1,0,3,5,9,12], target = 2\n",
    "Output: -1\n",
    "Explanation: 2 does not exist in nums so return -1\n",
    "```\n",
    "\n",
    "**Constraints:**\n",
    "\n",
    "* `1 <= nums.length <= 10^4`\n",
    "* `-10^4 < nums[i], target < 10^4`\n",
    "* All the integers in `nums` are unique.\n",
    "* `nums` is sorted in ascending order."
   ]
  },
  {
   "cell_type": "code",
   "execution_count": 19,
   "id": "1ee90cf5-fe4e-451d-9b5f-4b91fd46a29d",
   "metadata": {},
   "outputs": [],
   "source": [
    "nums1 = [-2,0,3,5,9,12]\n",
    "target1 = 9\n",
    "nums2 = [-2,0,3,5,9,12]\n",
    "target2 = 2"
   ]
  },
  {
   "cell_type": "code",
   "execution_count": 27,
   "id": "d69ea00a-a9f7-4b9d-8a8e-90c6ea6bdb19",
   "metadata": {},
   "outputs": [],
   "source": [
    "# binary search: remember to exclude mid index when iterating, and allow iteration to continue when left == right\n",
    "\n",
    "from typing import List\n",
    "\n",
    "class Solution:\n",
    "    def search(self, nums: List[int], target: int) -> int:\n",
    "        left, right = 0, len(nums)-1\n",
    "\n",
    "        while left <= right:\n",
    "            mid = (left + right)//2\n",
    "            # avoid possible integer overflow by subtracting and adding to left\n",
    "            # mid = ((right - left) // 2) + left\n",
    "            if nums[mid] == target:\n",
    "                return mid\n",
    "            elif nums[mid] < target:\n",
    "                left = mid + 1\n",
    "            else:\n",
    "                right = mid - 1\n",
    "        \n",
    "        return -1"
   ]
  },
  {
   "cell_type": "code",
   "execution_count": 28,
   "id": "8368a4f1-600b-4039-b719-cb413f4fac7c",
   "metadata": {},
   "outputs": [
    {
     "data": {
      "text/plain": [
       "-1"
      ]
     },
     "execution_count": 28,
     "metadata": {},
     "output_type": "execute_result"
    }
   ],
   "source": [
    "soln = Solution()\n",
    "soln.search(nums1,-1)"
   ]
  },
  {
   "cell_type": "markdown",
   "id": "465433ca-bd5c-46d1-96df-9378751bbcdc",
   "metadata": {},
   "source": [
    "## 74. Search a 2D Matrix\n",
    "\n",
    "\n",
    "leetcode: https://leetcode.com/problems/search-a-2d-matrix/"
   ]
  },
  {
   "cell_type": "markdown",
   "id": "2a563b60-712a-443c-bf94-29eca210dfae",
   "metadata": {},
   "source": [
    "You are given an `m x n` integer matrix `matrix` with the following two properties:\n",
    "\n",
    "* Each row is sorted in non-decreasing order.\n",
    "* The first integer of each row is greater than the last integer of the previous row.\n",
    "Given an integer `target`, return `true` if target is in `matrix` or `false` otherwise.\n",
    "\n",
    "You must write a solution in `O(log(m * n))` time complexity.\n",
    "\n",
    " \n",
    "\n",
    "**Example 1:**\n",
    "\n",
    "![https://assets.leetcode.com/uploads/2020/10/05/mat.jpg](https://assets.leetcode.com/uploads/2020/10/05/mat.jpg)\n",
    "```\n",
    "Input: matrix = [[1,3,5,7],[10,11,16,20],[23,30,34,60]], target = 3\n",
    "Output: true\n",
    "```\n",
    "**Example 2:**\n",
    "\n",
    "![https://assets.leetcode.com/uploads/2020/10/05/mat2.jpg](https://assets.leetcode.com/uploads/2020/10/05/mat2.jpg)\n",
    "```\n",
    "Input: matrix = [[1,3,5,7],[10,11,16,20],[23,30,34,60]], target = 13\n",
    "Output: false\n",
    "``` \n",
    "\n",
    "**Constraints:**\n",
    "\n",
    "* `m == matrix.length`\n",
    "* `n == matrix[i].length`\n",
    "* `1 <= m, n <= 100`\n",
    "* `-10^4 <= matrix[i][j], target <= 10^4`"
   ]
  },
  {
   "cell_type": "code",
   "execution_count": 3,
   "id": "ae465e10-2530-4913-b286-e3984c504725",
   "metadata": {},
   "outputs": [],
   "source": [
    "matrix1 = [[1,3,5,7],[10,11,16,20],[23,30,34,60]]\n",
    "target1 = 3\n",
    "\n",
    "matrix2 = [[1,3,5,7],[10,11,16,20],[23,30,34,60]]\n",
    "target2 = 13"
   ]
  },
  {
   "cell_type": "code",
   "execution_count": 42,
   "id": "84be5e5e-3017-4ef3-826c-c61df45180f8",
   "metadata": {},
   "outputs": [],
   "source": [
    "# cheating: convert matrix to single array, then binary search\n",
    "\n",
    "from typing import List\n",
    "\n",
    "class Solution:\n",
    "    def searchMatrix(self, matrix: List[List[int]], target: int) -> bool:\n",
    "        array = []\n",
    "        for row in matrix:\n",
    "            array += row\n",
    "        \n",
    "            \n",
    "        # binary search\n",
    "        left, right = 0, len(array)-1\n",
    "        while left <= right:\n",
    "            mid = (left + right)//2\n",
    "\n",
    "            if array[mid] == target:\n",
    "                return True\n",
    "            elif array[mid] < target:\n",
    "                left = mid + 1\n",
    "            else:\n",
    "                right = mid -1\n",
    "                \n",
    "        return False"
   ]
  },
  {
   "cell_type": "code",
   "execution_count": 51,
   "id": "2ee2b8d7-d31d-4ccf-850a-105de5c54db5",
   "metadata": {},
   "outputs": [],
   "source": [
    "# space optimization (without copying matrix)\n",
    "# binary search and check beginning and end values of each row\n",
    "\n",
    "from typing import List\n",
    "\n",
    "class Solution:\n",
    "    def searchMatrix(self, matrix: List[List[int]], target: int) -> bool:\n",
    "        # binary search rows\n",
    "        left, right = 0, len(matrix)-1\n",
    "        \n",
    "        while left <= right:\n",
    "            mid = (left + right)//2\n",
    "            firstval = matrix[mid][0]\n",
    "            endval = matrix[mid][-1]\n",
    "            \n",
    "            if firstval == target or endval == target:\n",
    "                return True\n",
    "            elif firstval < target and endval > target: # target in row\n",
    "                # binary search row\n",
    "                first, end = 0, len(matrix[mid])-1\n",
    "                while first <= end:\n",
    "                    rowmid = (first + end)//2\n",
    "                    rowmidval = matrix[mid][rowmid]\n",
    "                    \n",
    "                    if rowmidval == target:\n",
    "                        return True\n",
    "                    elif rowmidval < target:\n",
    "                        first = rowmid + 1\n",
    "                    else:\n",
    "                        end = rowmid - 1\n",
    "\n",
    "                return False\n",
    "            \n",
    "            elif endval < target: # target is in later row\n",
    "                left = mid + 1\n",
    "            else:\n",
    "                right = mid - 1\n",
    "                        \n",
    "        return False"
   ]
  },
  {
   "cell_type": "code",
   "execution_count": 4,
   "id": "7d5bcc42-cb9d-4850-9255-d09b6b827fdb",
   "metadata": {},
   "outputs": [],
   "source": [
    "# space optimization (without copying matrix)\n",
    "# binary search array as if it was a 1D array without modifying it\n",
    "\n",
    "from typing import List\n",
    "\n",
    "class Solution:\n",
    "    def searchMatrix(self, matrix, target):\n",
    "        if not matrix or not matrix[0]: return False\n",
    "        m, n = len(matrix[0]), len(matrix)\n",
    "        beg, end = 0, m*n - 1\n",
    "        while beg < end:\n",
    "            mid = (beg + end)//2\n",
    "            if matrix[mid//m][mid%m] < target:\n",
    "                beg = mid + 1\n",
    "            else:\n",
    "                end = mid\n",
    "        return matrix[beg//m][beg%m] == target"
   ]
  },
  {
   "cell_type": "code",
   "execution_count": 5,
   "id": "b3541bd6-56f5-44c0-b62a-782f409512eb",
   "metadata": {},
   "outputs": [
    {
     "data": {
      "text/plain": [
       "False"
      ]
     },
     "execution_count": 5,
     "metadata": {},
     "output_type": "execute_result"
    }
   ],
   "source": [
    "soln = Solution()\n",
    "soln.searchMatrix([],target1)"
   ]
  },
  {
   "cell_type": "code",
   "execution_count": 37,
   "id": "a1879949-c797-43f9-b857-a9b1a5a007b8",
   "metadata": {},
   "outputs": [],
   "source": [
    "test = [1,3,5,7]\n",
    "test += [10,11,16,20]"
   ]
  },
  {
   "cell_type": "code",
   "execution_count": 38,
   "id": "1b30225f-03b0-4328-844d-dbdcb783b3a9",
   "metadata": {},
   "outputs": [
    {
     "data": {
      "text/plain": [
       "[1, 3, 5, 7, 10, 11, 16, 20]"
      ]
     },
     "execution_count": 38,
     "metadata": {},
     "output_type": "execute_result"
    }
   ],
   "source": [
    "test"
   ]
  },
  {
   "cell_type": "code",
   "execution_count": null,
   "id": "b7608e2c-91c2-4088-94bc-4ee9be2983a3",
   "metadata": {},
   "outputs": [],
   "source": []
  },
  {
   "cell_type": "markdown",
   "id": "6409a0e0-7997-4c8e-b9dd-1edc82f31937",
   "metadata": {},
   "source": [
    "## 875. Koko Eating Bananas\n",
    "\n",
    "\n",
    "leetcode: https://leetcode.com/problems/koko-eating-bananas/"
   ]
  },
  {
   "cell_type": "markdown",
   "id": "da184405-b645-4868-9a9f-56cc0ccc07e3",
   "metadata": {},
   "source": [
    "Koko loves to eat bananas. There are `n` piles of bananas, the `ith` pile has `piles[i]` bananas. The guards have gone and will come back in `h` hours.\n",
    "\n",
    "Koko can decide her bananas-per-hour eating speed of `k`. Each hour, she chooses some pile of bananas and eats `k` bananas from that pile. If the pile has less than `k` bananas, she eats all of them instead and will not eat any more bananas during this hour.\n",
    "\n",
    "Koko likes to eat slowly but still wants to finish eating all the bananas before the guards return.\n",
    "\n",
    "Return the minimum integer `k` such that she can eat all the bananas within `h` hours.\n",
    "\n",
    " \n",
    "\n",
    "**Example 1:**\n",
    "```\n",
    "Input: piles = [3,6,7,11], h = 8\n",
    "Output: 4\n",
    "```\n",
    "**Example 2:**\n",
    "```\n",
    "Input: piles = [30,11,23,4,20], h = 5\n",
    "Output: 30\n",
    "```\n",
    "**Example 3:**\n",
    "```\n",
    "Input: piles = [30,11,23,4,20], h = 6\n",
    "Output: 23\n",
    "```\n",
    "\n",
    "**Constraints:**\n",
    "\n",
    "* `1 <= piles.length <= 10^4`\n",
    "* `piles.length <= h <= 10^9`\n",
    "* `1 <= piles[i] <= 10^9`"
   ]
  },
  {
   "cell_type": "code",
   "execution_count": 90,
   "id": "d878275f-b314-4df5-9c3e-98958016a3db",
   "metadata": {},
   "outputs": [],
   "source": [
    "piles1 = [3,6,7,11]\n",
    "h1 = 8\n",
    "\n",
    "piles2 = [30,11,23,4,20]\n",
    "h2 = 5\n",
    "\n",
    "piles3 = [30,11,23,4,20] \n",
    "h3 = 6\n",
    "\n",
    "piles4 = [312884470]\n",
    "h4 = 968709470\n",
    "\n",
    "piles5 = [5]\n",
    "h5 = 10"
   ]
  },
  {
   "cell_type": "code",
   "execution_count": 86,
   "id": "9ad25992-4e2f-4cf1-a1a6-391d6c0cc273",
   "metadata": {},
   "outputs": [],
   "source": [
    "# sort piles (or just call max()) to get max pile size, this is max speed k to finish at minimum h\n",
    "# min_speed solution is somewhere between 1 and max(piles): use binary search to find minimum speed that satisifes finish all piles within h\n",
    "# algorithm speed is [linear scan for hours-to-finish] * [log n binary search on speed]: O(n * logn)\n",
    "# modify binary search: instead of searching for exact value, continue algorithm until left is not strictly less than right\n",
    "    # instead of returning mid, return low or high since terminating condition is when they are the same value\n",
    "\n",
    "from typing import List\n",
    "\n",
    "class Solution:\n",
    "    def minEatingSpeed(self, piles: List[int], h: int) -> int:\n",
    "        lowspeed = 1\n",
    "        highspeed = max(piles)\n",
    "\n",
    "        while lowspeed < highspeed:\n",
    "            midspeed = (lowspeed + highspeed) // 2 \n",
    "\n",
    "            hourstofinish = 0\n",
    "            for p in piles:\n",
    "                hourstofinish += -(-p//midspeed) # ceiling division\n",
    "\n",
    "            \n",
    "            if hourstofinish <= h: \n",
    "                highspeed = midspeed\n",
    "            else:\n",
    "                lowspeed = midspeed + 1\n",
    "        \n",
    "        return highspeed"
   ]
  },
  {
   "cell_type": "code",
   "execution_count": 100,
   "id": "792d48ef-0664-44f1-a9f7-b1db62463053",
   "metadata": {},
   "outputs": [],
   "source": [
    "# alternative way of terminating binary search: just log candidate answers but keep searching until right pointer crosses left pointer\n",
    "\n",
    "from typing import List\n",
    "\n",
    "class Solution:\n",
    "    def minEatingSpeed(self, piles: List[int], h: int) -> int:\n",
    "        lowspeed = 1\n",
    "        highspeed = max(piles)\n",
    "\n",
    "        ans = 0\n",
    "        while lowspeed <= highspeed:\n",
    "            midspeed = (lowspeed + highspeed) // 2\n",
    "\n",
    "            hourstofinish = 0\n",
    "            for p in piles:\n",
    "                hourstofinish += -(-p//midspeed) # ceiling division\n",
    "\n",
    "            if hourstofinish <= h:\n",
    "                ans = midspeed\n",
    "                highspeed = midspeed - 1\n",
    "            else:\n",
    "                lowspeed = midspeed + 1\n",
    "        \n",
    "        return ans"
   ]
  },
  {
   "cell_type": "code",
   "execution_count": 102,
   "id": "6c8953e8-5923-4d5f-a2ab-1925a05c9c9c",
   "metadata": {},
   "outputs": [
    {
     "data": {
      "text/plain": [
       "1"
      ]
     },
     "execution_count": 102,
     "metadata": {},
     "output_type": "execute_result"
    }
   ],
   "source": [
    "soln = Solution()\n",
    "soln.minEatingSpeed(piles4,h4)"
   ]
  },
  {
   "cell_type": "markdown",
   "id": "c348d92d-cd8f-4245-84e0-2373012390f6",
   "metadata": {},
   "source": [
    "## 153. Find Minimum in Rotated Sorted Array\n",
    "\n",
    "\n",
    "leetcode: https://leetcode.com/problems/find-minimum-in-rotated-sorted-array/"
   ]
  },
  {
   "cell_type": "markdown",
   "id": "54abac34-d5c5-45f0-bfb0-5131f483578e",
   "metadata": {},
   "source": [
    "Suppose an array of length `n` sorted in ascending order is rotated between `1` and `n` times. For example, the array `nums = [0,1,2,4,5,6,7]` might become:\n",
    "\n",
    "* `[4,5,6,7,0,1,2]` if it was rotated `4` times.\n",
    "* `[0,1,2,4,5,6,7]` if it was rotated `7` times.\n",
    "Notice that **rotating** an array `[a[0], a[1], a[2], ..., a[n-1]]` 1 time results in the array `[a[n-1], a[0], a[1], a[2], ..., a[n-2]]`.\n",
    "\n",
    "Given the sorted rotated array `nums` of **unique** elements, return the minimum element of this array.\n",
    "\n",
    "You must write an algorithm that runs in `O(log n)` time.\n",
    "\n",
    " \n",
    "\n",
    "**Example 1:**\n",
    "```\n",
    "Input: nums = [3,4,5,1,2]\n",
    "Output: 1\n",
    "Explanation: The original array was [1,2,3,4,5] rotated 3 times.\n",
    "```\n",
    "**Example 2:**\n",
    "```\n",
    "Input: nums = [4,5,6,7,0,1,2]\n",
    "Output: 0\n",
    "Explanation: The original array was [0,1,2,4,5,6,7] and it was rotated 4 times.\n",
    "```\n",
    "**Example 3:**\n",
    "```\n",
    "Input: nums = [11,13,15,17]\n",
    "Output: 11\n",
    "Explanation: The original array was [11,13,15,17] and it was rotated 4 times. \n",
    "```\n",
    "\n",
    "**Constraints:**\n",
    "\n",
    "* `n == nums.length`\n",
    "* `1 <= n <= 5000`\n",
    "* `-5000 <= nums[i] <= 5000`\n",
    "* All the integers of `nums` are unique.\n",
    "* `nums` is sorted and rotated between `1` and `n` times."
   ]
  },
  {
   "cell_type": "code",
   "execution_count": 131,
   "id": "242cbe6e-c15e-49db-87c1-31b19d34fcf5",
   "metadata": {},
   "outputs": [],
   "source": [
    "nums1 = [3,4,5,1,2]\n",
    "nums2 = [4,5,6,7,0,1,2]\n",
    "nums3 = [11,13,15,17]\n",
    "nums4 = [3,1,2]\n",
    "nums5 = [4,5,6,7,8,0,1,2]"
   ]
  },
  {
   "cell_type": "code",
   "execution_count": 174,
   "id": "94358152-98b8-4581-8f24-628d88bf6b35",
   "metadata": {},
   "outputs": [],
   "source": [
    "# binary search comparing nums[mid] and nums[0] to determine whether to continue searching left or right\n",
    "\n",
    "from typing import List\n",
    "\n",
    "class Solution:\n",
    "    def findMin(self, nums: List[int]) -> int:\n",
    "        if nums[0] <= nums[-1]: # sorted array of n >= 1\n",
    "            return nums[0]\n",
    "\n",
    "        # binary search for pivot point\n",
    "        left = 0\n",
    "        right = len(nums)-1\n",
    "\n",
    "        while left <= right:\n",
    "            mid = (left + right) // 2\n",
    "            if nums[mid] < nums[mid-1]:\n",
    "                return nums[mid]\n",
    "            elif nums[mid] > nums[mid-1] and nums[mid] < nums[0]: # search left, mid in smaller section\n",
    "                right = mid - 1\n",
    "            else:\n",
    "                left = mid + 1\n",
    "                \n",
    "        return -1"
   ]
  },
  {
   "cell_type": "code",
   "execution_count": 188,
   "id": "64115339-1e5d-4b95-b90c-1571cbdb0005",
   "metadata": {},
   "outputs": [],
   "source": [
    "# alternative approach: exhaustive binary search and logging minimum value seen\n",
    "\n",
    "class Solution:\n",
    "    def findMin(self, nums: List[int]) -> int:\n",
    "        if nums[0] <= nums[-1]: # sorted array of n >= 1\n",
    "            return nums[0]\n",
    "\n",
    "        # binary search for pivot point\n",
    "        left = 0\n",
    "        right = len(nums)-1\n",
    "\n",
    "        # 4, 4\n",
    "        ans = nums[0]\n",
    "        while left <= right:\n",
    "            mid = (left + right) // 2 # 4\n",
    "            ans = min(ans,nums[mid])\n",
    "            \n",
    "            \n",
    "            if nums[mid] < nums[-1]: # search left\n",
    "                right = mid - 1\n",
    "            else:\n",
    "                left = mid + 1\n",
    "                \n",
    "        return ans"
   ]
  },
  {
   "cell_type": "code",
   "execution_count": 192,
   "id": "9caecda6-1591-453f-9b2d-6c723827dbf0",
   "metadata": {},
   "outputs": [
    {
     "data": {
      "text/plain": [
       "0"
      ]
     },
     "execution_count": 192,
     "metadata": {},
     "output_type": "execute_result"
    }
   ],
   "source": [
    "soln = Solution()\n",
    "soln.findMin(nums2)"
   ]
  },
  {
   "cell_type": "markdown",
   "id": "aed5e86a-ac12-4403-892f-af06296f4e48",
   "metadata": {},
   "source": [
    "## 981. Time Based Key-Value Store\n",
    "\n",
    "\n",
    "leetcode: https://leetcode.com/problems/time-based-key-value-store/"
   ]
  },
  {
   "cell_type": "markdown",
   "id": "0a371f42-7065-4fc6-84a5-50c380cd900b",
   "metadata": {},
   "source": [
    "Design a time-based key-value data structure that can store multiple values for the same key at different time stamps and retrieve the key's value at a certain timestamp.\n",
    "\n",
    "Implement the `TimeMap` class:\n",
    "\n",
    "* `TimeMap()` Initializes the object of the data structure.\n",
    "* `void set(String key, String value, int timestamp)` Stores the key `key` with the value `value` at the given time `timestamp`.\n",
    "* `String get(String key, int timestamp)` Returns a value such that `set` was called previously, with `timestamp_prev <= timestamp`. If there are multiple such values, it returns the value associated with the largest `timestamp_prev`. If there are no values, it returns `\"\"`.\n",
    " \n",
    "\n",
    "**Example 1:**\n",
    "```\n",
    "Input\n",
    "[\"TimeMap\", \"set\", \"get\", \"get\", \"set\", \"get\", \"get\"]\n",
    "[[], [\"foo\", \"bar\", 1], [\"foo\", 1], [\"foo\", 3], [\"foo\", \"bar2\", 4], [\"foo\", 4], [\"foo\", 5]]\n",
    "Output\n",
    "[null, null, \"bar\", \"bar\", null, \"bar2\", \"bar2\"]\n",
    "\n",
    "Explanation\n",
    "TimeMap timeMap = new TimeMap();\n",
    "timeMap.set(\"foo\", \"bar\", 1);  // store the key \"foo\" and value \"bar\" along with timestamp = 1.\n",
    "timeMap.get(\"foo\", 1);         // return \"bar\"\n",
    "timeMap.get(\"foo\", 3);         // return \"bar\", since there is no value corresponding to foo at timestamp 3 and timestamp 2, then the only value is at timestamp 1 is \"bar\".\n",
    "timeMap.set(\"foo\", \"bar2\", 4); // store the key \"foo\" and value \"bar2\" along with timestamp = 4.\n",
    "timeMap.get(\"foo\", 4);         // return \"bar2\"\n",
    "timeMap.get(\"foo\", 5);         // return \"bar2\"\n",
    "```\n",
    "\n",
    "**Constraints:**\n",
    "\n",
    "* `1 <= key.length, value.length <= 100`\n",
    "* `key` and `value` consist of lowercase English letters and digits.\n",
    "* `1 <= timestamp <= 10^7`\n",
    "* All the timestamps `timestamp` of `set` are strictly increasing.\n",
    "* At most `2 * 10^5` calls will be made to `set` and `get`."
   ]
  },
  {
   "cell_type": "code",
   "execution_count": 5,
   "id": "53bb2ab5-c1e3-4d52-963a-34dda7411222",
   "metadata": {},
   "outputs": [],
   "source": [
    "class TimeMap:\n",
    "\n",
    "    def __init__(self):\n",
    "        self.storage = {}\n",
    "\n",
    "    def set(self, key: str, value: str, timestamp: int) -> None:\n",
    "        storageval = (value, timestamp)\n",
    "        \n",
    "        # newval = self.storage.get(key, [])\n",
    "        # newval.append(storageval)\n",
    "        # self.storage[key] = newval\n",
    "        \n",
    "        if key in self.storage.keys():\n",
    "            self.storage[key] += [storageval]\n",
    "        else:\n",
    "            self.storage[key] = [storageval]\n",
    "\n",
    "    def get(self, key: str, timestamp: int) -> str:\n",
    "        storagelist = self.storage.get(key)\n",
    "\n",
    "        # binary search sorted values array\n",
    "        ans = \"\"\n",
    "        if storagelist:\n",
    "            left, right = 0, len(storagelist)-1\n",
    "\n",
    "            while left <= right:\n",
    "                mid = (left + right) // 2\n",
    "\n",
    "                if storagelist[mid][1] <= timestamp:\n",
    "                    ans = storagelist[mid][0]\n",
    "                    left = mid + 1\n",
    "                else:\n",
    "                    right = mid - 1\n",
    "        \n",
    "        return ans\n",
    "\n",
    "\n",
    "# Your TimeMap object will be instantiated and called as such:\n",
    "# obj = TimeMap()\n",
    "# obj.set(key,value,timestamp)\n",
    "# param_2 = obj.get(key,timestamp)"
   ]
  },
  {
   "cell_type": "code",
   "execution_count": 48,
   "id": "be119c19-525a-4c6a-8379-98d1aef19fda",
   "metadata": {},
   "outputs": [],
   "source": [
    "class TimeMap:\n",
    "\n",
    "    def __init__(self):\n",
    "        self.storage = {}\n",
    "\n",
    "    def set(self, key: str, value: str, timestamp: int) -> None:\n",
    "        storageval = (value, timestamp)\n",
    "        \n",
    "        # newval = self.storage.get(key, [])\n",
    "        # newval.append(storageval)\n",
    "        # self.storage[key] = newval\n",
    "        \n",
    "        if key in self.storage.keys():\n",
    "            self.storage[key] += [storageval]\n",
    "        else:\n",
    "            self.storage[key] = [storageval]\n",
    "\n",
    "    def get(self, key: str, timestamp: int) -> str:\n",
    "        storagelist = self.storage.get(key)\n",
    "\n",
    "\n",
    "        # linear search sorted values array from end\n",
    "        ans = \"\"\n",
    "        if storagelist:\n",
    "            index = len(storagelist)-1\n",
    "            valuetime = storagelist[index][1]\n",
    "            if valuetime <= timestamp:\n",
    "                ans = storagelist[index][0]\n",
    "\n",
    "            while valuetime > timestamp and index > 0:\n",
    "                index -= 1\n",
    "                valuetime = storagelist[index][1]\n",
    "                ans = storagelist[index][0]\n",
    "                        \n",
    "        return ans\n",
    "\n",
    "\n",
    "# Your TimeMap object will be instantiated and called as such:\n",
    "# obj = TimeMap()\n",
    "# obj.set(key,value,timestamp)\n",
    "# param_2 = obj.get(key,timestamp)"
   ]
  },
  {
   "cell_type": "code",
   "execution_count": 11,
   "id": "d14f16d5-d774-4ed2-9816-4c758b600c60",
   "metadata": {},
   "outputs": [],
   "source": [
    "timeMap = TimeMap();\n",
    "timeMap.set(\"foo\", \"bar\", 1);  ## store the key \"foo\" and value \"bar\" along with timestamp = 1.\n",
    "timeMap.get(\"foo\", 1);         ## return \"bar\"\n",
    "timeMap.get(\"foo\", 3);         ## return \"bar\", since there is no value corresponding to foo at timestamp 3 and timestamp 2, then the only value is at timestamp 1 is \"bar\".\n",
    "timeMap.set(\"foo\", \"bar2\", 4); ## store the key \"foo\" and value \"bar2\" along with timestamp = 4.\n",
    "timeMap.get(\"foo\", 4);         ## return \"bar2\"\n",
    "timeMap.get(\"foo\", 5);         ## return \"bar2\""
   ]
  },
  {
   "cell_type": "code",
   "execution_count": 50,
   "id": "50a66c37-ebb3-44df-b43b-595871149380",
   "metadata": {},
   "outputs": [
    {
     "data": {
      "text/plain": [
       "'bar2'"
      ]
     },
     "execution_count": 50,
     "metadata": {},
     "output_type": "execute_result"
    }
   ],
   "source": [
    "timeMap = TimeMap()\n",
    "timeMap.set(\"foo\", \"bar\", 1)\n",
    "timeMap.get(\"foo\", 1)\n",
    "timeMap.get(\"foo\", 3)\n",
    "timeMap.set(\"foo\", \"bar2\", 4)\n",
    "timeMap.get(\"foo\", 3)\n",
    "timeMap.set(\"foo\", \"bar3\", 400000)\n",
    "timeMap.get(\"foo\", 40000)"
   ]
  },
  {
   "cell_type": "code",
   "execution_count": 22,
   "id": "5e074140-5ff0-4231-a664-26ec6af0453a",
   "metadata": {},
   "outputs": [],
   "source": [
    "timeMap.storage['test'] = timeMap.storage.get('test',[]).append(('time1',5))"
   ]
  },
  {
   "cell_type": "code",
   "execution_count": 23,
   "id": "505b7301-de81-433f-b512-70ea6392bfdf",
   "metadata": {},
   "outputs": [
    {
     "data": {
      "text/plain": [
       "{'foo': None, 'test': None}"
      ]
     },
     "execution_count": 23,
     "metadata": {},
     "output_type": "execute_result"
    }
   ],
   "source": [
    "timeMap.storage"
   ]
  },
  {
   "cell_type": "code",
   "execution_count": 26,
   "id": "5a7abff3-66c9-4b73-b548-f8e007851555",
   "metadata": {},
   "outputs": [],
   "source": [
    "test = [1,2,3,4]\n",
    "test.append(('time1',5))"
   ]
  },
  {
   "cell_type": "code",
   "execution_count": 32,
   "id": "0e61ab0e-6373-4440-bdd0-a5fd348f0e08",
   "metadata": {},
   "outputs": [],
   "source": [
    "test = timeMap.storage.get('nothing',[]).append(('time1',5))"
   ]
  },
  {
   "cell_type": "code",
   "execution_count": 33,
   "id": "20895646-d636-4193-89c2-d7617035c80c",
   "metadata": {},
   "outputs": [],
   "source": [
    "test"
   ]
  },
  {
   "cell_type": "markdown",
   "id": "a08e5826-e2b3-49f0-aee1-31940bee64be",
   "metadata": {},
   "source": [
    "## 4. Median of Two Sorted Arrays\n",
    "\n",
    "leetcode: https://leetcode.com/problems/median-of-two-sorted-arrays/"
   ]
  },
  {
   "cell_type": "markdown",
   "id": "69fc1804-57cf-4c39-b5ff-1711a8e9abae",
   "metadata": {},
   "source": [
    "Given two sorted arrays `nums1` and `nums2` of size `m` and `n` respectively, return the **median** of the two sorted arrays.\n",
    "\n",
    "The overall run time complexity should be `O(log (m+n))`.\n",
    "\n",
    " \n",
    "\n",
    "**Example 1:**\n",
    "```\n",
    "Input: nums1 = [1,3], nums2 = [2]\n",
    "Output: 2.00000\n",
    "Explanation: merged array = [1,2,3] and median is 2.\n",
    "```\n",
    "**Example 2:**\n",
    "```\n",
    "Input: nums1 = [1,2], nums2 = [3,4]\n",
    "Output: 2.50000\n",
    "Explanation: merged array = [1,2,3,4] and median is (2 + 3) / 2 = 2.5.\n",
    "```\n",
    "\n",
    "**Constraints:**\n",
    "\n",
    "* `nums1.length == m`\n",
    "* `nums2.length == n`\n",
    "* `0 <= m <= 1000`\n",
    "* `0 <= n <= 1000`\n",
    "* `1 <= m + n <= 2000`\n",
    "* `-10^6 <= nums1[i], nums2[i] <= 10^6`"
   ]
  },
  {
   "cell_type": "code",
   "execution_count": 11,
   "id": "4461bc4e-1b23-4dc8-836f-7f4a0a05489b",
   "metadata": {},
   "outputs": [],
   "source": [
    "nums1_1 = [1,3]\n",
    "nums2_1 = [2]\n",
    "\n",
    "nums1_2 = [1,2]\n",
    "nums2_2 = [3,4]\n",
    "\n",
    "nums1_3 = [1,2,3,4,5,6,7,8]\n",
    "nums2_3 = [1,2,3,4,5] # 4"
   ]
  },
  {
   "cell_type": "code",
   "execution_count": 37,
   "id": "fc2a6a7b-f260-4c39-9f5a-d4d4bb5a892e",
   "metadata": {},
   "outputs": [],
   "source": [
    "# idea: binary search the two arrays and find candidates for largest value(s) in the left half of the final sorted array\n",
    "\n",
    "from typing import List\n",
    "\n",
    "class Solution:\n",
    "    def findMedianSortedArrays(self, nums1: List[int], nums2: List[int]) -> float:\n",
    "        if len(nums1) <= len(nums2):\n",
    "            a, b = nums1, nums2\n",
    "        else:\n",
    "            a, b = nums2, nums1\n",
    "\n",
    "        total = (len(a) + len(b))\n",
    "        half = total // 2\n",
    "\n",
    "        left, right = 0, len(a)-1\n",
    "        while True:\n",
    "            i = (left + right)//2\n",
    "            j = (half-1) - (i+1) # index of the [half - (i+1)]th element in b\n",
    "\n",
    "            if i >= 0:\n",
    "                aleft = a[i]\n",
    "            else:\n",
    "                aleft = float('-inf')\n",
    "\n",
    "            if i+1 < len(a):\n",
    "                aright = a[i+1]\n",
    "            else:\n",
    "                aright = float('inf')\n",
    "\n",
    "            if j >= 0:\n",
    "                bleft = b[j]\n",
    "            else:\n",
    "                bleft = float('-inf')\n",
    "\n",
    "            if j+1 < len(b):\n",
    "                bright = b[j+1]\n",
    "            else:\n",
    "                bright = float('inf')\n",
    "\n",
    "            if aleft <= bright and bleft <= aright:\n",
    "                if total % 2 == 1: # odd\n",
    "                    median =  min(aright,bright)\n",
    "                    break\n",
    "                else: # even\n",
    "                    median =  (max(aleft,bleft) + min(aright,bright))/2\n",
    "                    break\n",
    "            elif aleft > bright:\n",
    "                right = i - 1\n",
    "            else:\n",
    "                left = i + 1\n",
    "                \n",
    "            \n",
    "        return median"
   ]
  },
  {
   "cell_type": "markdown",
   "id": "5caf4615-c49d-462a-9c71-1050bf8a0c9d",
   "metadata": {},
   "source": [
    "Explanation:\n",
    "* Use the fact that both arrays are sorted and we know how many elements should be in the first half of the final sorted merged array\n",
    "* Binary search for the median in the smaller array by maintaining:\n",
    "* `array1[i] < array_larger[j+1]` , where `j` is the (half-i)th element in the larger array\n",
    "* i.e. if `i = 2` (3rd element) and total size of the first half is 7 (`half = 7`), then `j = 3` (`array1` has 3 elements of the first half, `array2` has 4 elements of the first half with the largest element at `array2[j]`)\n",
    "* Continue searching until index values for `i` and `j` are found where `array1[i] < array2[j+1]` and `array2[j] < array1[i+1]`\n",
    "* Increase or decrease candidate values of `i` and corresponding `j` until the conditions are met for the median\n",
    "* Implementation note: if i or j reach out of bounds of the arrays, then default them to +/- `Inf` for comparison\n",
    "* to handle even/odd median cases, use: `min(aright,bright)` for odd, `(max(aleft,bleft)+min(aright,bright))/2` for even\n",
    "* this works because `size(aleft)+size(bleft) == half//2`, the smaller \"half\" of the total array using integer division so the smallest element of the larger \"half\" in an odd total count case will be the median"
   ]
  },
  {
   "cell_type": "code",
   "execution_count": 39,
   "id": "17db07a4-a1f0-4e01-986f-d329099d09b4",
   "metadata": {},
   "outputs": [
    {
     "data": {
      "text/plain": [
       "4"
      ]
     },
     "execution_count": 39,
     "metadata": {},
     "output_type": "execute_result"
    }
   ],
   "source": [
    "soln = Solution()\n",
    "soln.findMedianSortedArrays(nums1_3,nums2_3)"
   ]
  },
  {
   "cell_type": "code",
   "execution_count": null,
   "id": "88e5e807-d5d3-41de-8b51-87991fa8fed3",
   "metadata": {},
   "outputs": [],
   "source": []
  },
  {
   "cell_type": "markdown",
   "id": "3918d733-8193-42b8-aae1-2160cdf75c19",
   "metadata": {},
   "source": [
    "# Sliding Window"
   ]
  },
  {
   "cell_type": "markdown",
   "id": "aba348ff-3bb8-4a38-b6ab-eb6e9e4a137e",
   "metadata": {},
   "source": [
    "## 121. Best Time to Buy and Sell Stock\n",
    "\n",
    "leetcode: https://leetcode.com/problems/best-time-to-buy-and-sell-stock/"
   ]
  },
  {
   "cell_type": "markdown",
   "id": "2e92188c-f411-417a-a339-bb5690408bfd",
   "metadata": {},
   "source": [
    "You are given an array `prices` where `prices[i]` is the price of a given stock on the `ith` day.\n",
    "\n",
    "You want to maximize your profit by choosing a **single day** to buy one stock and choosing a **different day in the future** to sell that stock.\n",
    "\n",
    "Return the maximum profit you can achieve from this transaction. If you cannot achieve any profit, return `0`.\n",
    "\n",
    " \n",
    "\n",
    "**Example 1:**\n",
    "```\n",
    "Input: prices = [7,1,5,3,6,4]\n",
    "Output: 5\n",
    "Explanation: Buy on day 2 (price = 1) and sell on day 5 (price = 6), profit = 6-1 = 5.\n",
    "Note that buying on day 2 and selling on day 1 is not allowed because you must buy before you sell.\n",
    "```\n",
    "**Example 2:**\n",
    "```\n",
    "Input: prices = [7,6,4,3,1]\n",
    "Output: 0\n",
    "Explanation: In this case, no transactions are done and the max profit = 0.\n",
    "```\n",
    "\n",
    "**Constraints:**\n",
    "\n",
    "* `1 <= prices.length <= 10^5`\n",
    "* `0 <= prices[i] <= 10^4`"
   ]
  },
  {
   "cell_type": "code",
   "execution_count": 36,
   "id": "3a2e9b14-d78b-4520-86f3-378fe9f79667",
   "metadata": {},
   "outputs": [],
   "source": [
    "prices1 = [7,1,5,3,6,4]\n",
    "prices2 = [7,6,4,3,1]\n",
    "prices3 = [7,1,5,3,6,0,1]"
   ]
  },
  {
   "cell_type": "code",
   "execution_count": 39,
   "id": "9a07ffc2-c846-445a-9e16-75b18d65e400",
   "metadata": {},
   "outputs": [],
   "source": [
    "# using buy/sell pointers\n",
    "\n",
    "from typing import List\n",
    "\n",
    "class Solution:\n",
    "    def maxProfit(self, prices: List[int]) -> int:\n",
    "        buy, sell = prices[0], prices[0]\n",
    "        profit = 0\n",
    "        \n",
    "        for price in prices:\n",
    "            if price < buy:\n",
    "                buy = price\n",
    "                sell = price\n",
    "            elif price > sell:\n",
    "                sell = price\n",
    "\n",
    "            profit = max(profit, sell-buy)\n",
    "            \n",
    "        return profit"
   ]
  },
  {
   "cell_type": "code",
   "execution_count": 40,
   "id": "23631ccf-37d4-4c33-b440-7c53d2bf4958",
   "metadata": {},
   "outputs": [],
   "source": [
    "# using min/max functions\n",
    "\n",
    "from typing import List\n",
    "\n",
    "class Solution:\n",
    "    def maxProfit(self, prices: List[int]) -> int:\n",
    "        minprice = prices[0]\n",
    "        profit = 0\n",
    "        \n",
    "        for price in prices:\n",
    "            minprice = min(minprice,price)\n",
    "            profit = max(profit, price-minprice)\n",
    "            \n",
    "        return profit"
   ]
  },
  {
   "cell_type": "code",
   "execution_count": 41,
   "id": "fe3e7232-0adf-4c98-838a-d0aa87fd87b2",
   "metadata": {},
   "outputs": [
    {
     "data": {
      "text/plain": [
       "5"
      ]
     },
     "execution_count": 41,
     "metadata": {},
     "output_type": "execute_result"
    }
   ],
   "source": [
    "soln = Solution()\n",
    "soln.maxProfit(prices3)"
   ]
  },
  {
   "cell_type": "markdown",
   "id": "4a409f3d-ef84-47d8-881c-437e008294a0",
   "metadata": {},
   "source": [
    "## 3. Longest Substring Without Repeating Characters\n",
    "\n",
    "\n",
    "leetcode: https://leetcode.com/problems/longest-substring-without-repeating-characters/"
   ]
  },
  {
   "cell_type": "markdown",
   "id": "22cdf849-e754-4286-8f2e-a565fa66a439",
   "metadata": {},
   "source": [
    "Given a string `s`, find the length of the longest substring (A substring is a contiguous non-empty sequence of characters within a string) without repeating characters.\n",
    "\n",
    " \n",
    "\n",
    "**Example 1:**\n",
    "```\n",
    "Input: s = \"abcabcbb\"\n",
    "Output: 3\n",
    "Explanation: The answer is \"abc\", with the length of 3.\n",
    "```\n",
    "**Example 2:**\n",
    "```\n",
    "Input: s = \"bbbbb\"\n",
    "Output: 1\n",
    "Explanation: The answer is \"b\", with the length of 1.\n",
    "```\n",
    "**Example 3:**\n",
    "```\n",
    "Input: s = \"pwwkew\"\n",
    "Output: 3\n",
    "Explanation: The answer is \"wke\", with the length of 3.\n",
    "Notice that the answer must be a substring, \"pwke\" is a subsequence and not a substring.\n",
    "```\n",
    "\n",
    "**Constraints:**\n",
    "\n",
    "* `0 <= s.length <= 5 * 10^4`\n",
    "* `s` consists of English letters, digits, symbols and spaces."
   ]
  },
  {
   "cell_type": "code",
   "execution_count": 87,
   "id": "5c3854ea-f0f4-4f12-9b29-07faab008f71",
   "metadata": {},
   "outputs": [],
   "source": [
    "s1 = \"abcabcbb\"\n",
    "s2 = \"bbbbb\"\n",
    "s3 = \"pwwkew\"\n",
    "s4 = \" \"\n",
    "s5 = \"dvdf\"\n",
    "s6 = \"dvdfdf\"\n",
    "s7 = \"tmmzuxt\"\n",
    "s8 = \"hijklmnopqrstuvwxyzABCDEFGHIJKLMNOPQRSTUVWXYZ0123456789hijklmnopqrstuvwxyzABCDEFGHIJKLMNOPQRSTUVWXYZ0123456789hijklmnopqrstuvwxyzABCDEFGHIJKLMNOPQRSTUVWXYZ0123456789hijklmnopqrstuvwxyzABCDEFGHIJKLMNOPQRSTUVWXYZ0123456789hijklmnopqrstuvwxyzABCDEFGHIJKLMNOPQRSTUVWXYZ0123456789hijklmnopqrstuvwxyzABCDEFGHIJKLMNOPQRSTUVWXYZ0123456789\""
   ]
  },
  {
   "cell_type": "code",
   "execution_count": 95,
   "id": "5c6f3d72-ac27-4192-aefa-f00af2f88ec6",
   "metadata": {},
   "outputs": [],
   "source": [
    "class Solution:\n",
    "    def lengthOfLongestSubstring(self, s: str) -> int:\n",
    "        chars = {}\n",
    "        maxsubstring = 0\n",
    "\n",
    "        back, front = 0, 0\n",
    "        for i,c in enumerate(s):\n",
    "            # char = c.lower() # repitition check is case sensitive \n",
    "            char = c\n",
    "            # check if c is a character (description is incorrect about not counting empty string)\n",
    "            # if (ord(char) <= ord('z') and ord(char) >= ord('a')):\n",
    "\n",
    "            front = i\n",
    "            # move back pointer forward if repeated character in current substring\n",
    "            if (char in chars.keys()) and (chars[char] >= back):\n",
    "                back = chars[char] + 1\n",
    "            \n",
    "            \n",
    "            # else:\n",
    "            #     chars = set()\n",
    "            maxsubstring = max(maxsubstring, front-back+1)\n",
    "            chars[char] = i\n",
    "                \n",
    "        return maxsubstring"
   ]
  },
  {
   "cell_type": "code",
   "execution_count": 97,
   "id": "dbf28278-1639-46f2-b63d-1ba7ce142d01",
   "metadata": {},
   "outputs": [],
   "source": [
    "# alternative approach: maintain a unique set and repeatedly remove the values at the back pointer from set until duplicate value is removed\n",
    "class Solution:\n",
    "    def lengthOfLongestSubstring(self, s: str) -> int:\n",
    "        chars = set()\n",
    "        ans = 0\n",
    "\n",
    "        back = 0\n",
    "        for front in range(len(s)):\n",
    "            # remove char at back pointer and move it forward until all duplicates are removed\n",
    "            while s[front] in chars:\n",
    "                chars.remove(s[back])\n",
    "                back += 1\n",
    "\n",
    "            chars.add(s[front])\n",
    "            ans = max(ans, front-back+1)\n",
    "            \n",
    "                \n",
    "        return ans"
   ]
  },
  {
   "cell_type": "code",
   "execution_count": 104,
   "id": "8a54566a-7d47-44e4-843b-44cef1fbafa6",
   "metadata": {},
   "outputs": [
    {
     "data": {
      "text/plain": [
       "3"
      ]
     },
     "execution_count": 104,
     "metadata": {},
     "output_type": "execute_result"
    }
   ],
   "source": [
    "soln = Solution()\n",
    "soln.lengthOfLongestSubstring(s6)"
   ]
  },
  {
   "cell_type": "markdown",
   "id": "2164326e-1ef9-44d3-abe0-df1f42d4b74a",
   "metadata": {},
   "source": [
    "## 424. Longest Repeating Character Replacement\n",
    "\n",
    "leetcode: https://leetcode.com/problems/longest-repeating-character-replacement/"
   ]
  },
  {
   "cell_type": "markdown",
   "id": "b9138351-49fc-4214-841c-eab97ddf5a6d",
   "metadata": {},
   "source": [
    "You are given a string `s` and an integer `k`. You can choose any character of the string and change it to any other uppercase English character. You can perform this operation at most `k` times.\n",
    "\n",
    "Return the length of the longest substring containing the same letter you can get after performing the above operations.\n",
    "\n",
    " \n",
    "\n",
    "**Example 1:**\n",
    "```\n",
    "Input: s = \"ABAB\", k = 2\n",
    "Output: 4\n",
    "Explanation: Replace the two 'A's with two 'B's or vice versa.\n",
    "```\n",
    "**Example 2:**\n",
    "```\n",
    "Input: s = \"AABABBA\", k = 1\n",
    "Output: 4\n",
    "Explanation: Replace the one 'A' in the middle with 'B' and form \"AABBBBA\".\n",
    "The substring \"BBBB\" has the longest repeating letters, which is 4.\n",
    "There may exists other ways to achive this answer too.\n",
    "```\n",
    "\n",
    "**Constraints:**\n",
    "\n",
    "* `1 <= s.length <= 10^5`\n",
    "* `s` consists of only uppercase English letters.\n",
    "* `0 <= k <= s.length`"
   ]
  },
  {
   "cell_type": "code",
   "execution_count": 25,
   "id": "209cff1c-1aa8-440c-bd0e-d74e4db64136",
   "metadata": {},
   "outputs": [],
   "source": [
    "s1 = \"ABAB\"\n",
    "k1 = 2\n",
    "\n",
    "s2 = \"AABABBA\" \n",
    "k2 = 1\n",
    "\n",
    "s3 = \"ABCDEECAEFGGGGGJAKDLBBDKALE\"\n",
    "k3 = 5\n",
    "\n",
    "s4 = \"ABCDEECAEFGGGGGJAGGLBBDKALE\"\n",
    "k4 = 5\n",
    "\n",
    "s5 = \"KRSCDCSONAJNHLBMDQGIFCPEKPOHQIHLTDIQGEKLRLCQNBOHNDQGHJPNDQPERNFSSSRDEQLFPCCCARFMDLHADJADAGNNSBNCJQOF\"\n",
    "k5 = 4\n",
    "\n",
    "s6 = \"A\"\n",
    "k6 = 0"
   ]
  },
  {
   "cell_type": "code",
   "execution_count": 34,
   "id": "e7f8f996-9267-4ce1-8067-5539c6c8e855",
   "metadata": {},
   "outputs": [],
   "source": [
    "# idea: grow window while checking counts of characters inside window\n",
    "# size allowed to grow if windowsize - max(repeat_character) > k\n",
    "# otherwise shrink window until criteria is maintained\n",
    "# note: correct answer still arrived at if using \"if\" instead of \"while\" to repeatedly shrink window, this is because window will grow to max size\n",
    "# and remain constant until the criteria allows it to grow more\n",
    "\n",
    "class Solution:\n",
    "    def characterReplacement(self, s: str, k: int) -> int:\n",
    "        charcounts = {}\n",
    "\n",
    "        back = 0\n",
    "        ans = 0\n",
    "        for front in range(len(s)):\n",
    "            frontchar = s[front]\n",
    "\n",
    "            # add new character\n",
    "            if frontchar in charcounts:\n",
    "                charcounts[frontchar] += 1\n",
    "            else:\n",
    "                charcounts[frontchar] = 1\n",
    "\n",
    "            # check if need to increment back pointer\n",
    "            while (front-back+1) - max(charcounts.values()) > k:\n",
    "                backchar = s[back]\n",
    "                charcounts[backchar] -= 1\n",
    "                back += 1\n",
    "                \n",
    "            ans = max(ans, front-back+1)\n",
    "        \n",
    "        return ans"
   ]
  },
  {
   "cell_type": "code",
   "execution_count": 35,
   "id": "a14cccfd-4576-4861-b423-cf986e94cc48",
   "metadata": {},
   "outputs": [
    {
     "data": {
      "text/plain": [
       "7"
      ]
     },
     "execution_count": 35,
     "metadata": {},
     "output_type": "execute_result"
    }
   ],
   "source": [
    "soln = Solution()\n",
    "soln.characterReplacement(s5,k5)"
   ]
  },
  {
   "cell_type": "code",
   "execution_count": 5,
   "id": "49ad95b9-34be-4514-837c-6bf54a8b318b",
   "metadata": {},
   "outputs": [],
   "source": [
    "test = {'a':5, 'b':3, 'af':0}"
   ]
  },
  {
   "cell_type": "code",
   "execution_count": 7,
   "id": "0afbb520-1c3b-47e6-aa3e-806bce166144",
   "metadata": {},
   "outputs": [
    {
     "data": {
      "text/plain": [
       "5"
      ]
     },
     "execution_count": 7,
     "metadata": {},
     "output_type": "execute_result"
    }
   ],
   "source": [
    "max(test.values())"
   ]
  },
  {
   "cell_type": "markdown",
   "id": "69cea42d-445a-4adc-b73d-259a404cf14b",
   "metadata": {},
   "source": [
    "## 567. Permutation in String\n",
    "\n",
    "leetcode: https://leetcode.com/problems/permutation-in-string/"
   ]
  },
  {
   "cell_type": "markdown",
   "id": "6d6b0998-d856-4c26-b337-7468432f9686",
   "metadata": {},
   "source": [
    "Given two strings `s1` and `s2`, return `true` if `s2` contains a **permutation** of `s1`, or `false` otherwise.\n",
    "\n",
    "In other words, return `true` if one of `s1`'s permutations is the substring of `s2`.\n",
    "\n",
    " \n",
    "\n",
    "**Example 1:**\n",
    "```\n",
    "Input: s1 = \"ab\", s2 = \"eidbaooo\"\n",
    "Output: true\n",
    "Explanation: s2 contains one permutation of s1 (\"ba\").\n",
    "```\n",
    "**Example 2:**\n",
    "```\n",
    "Input: s1 = \"ab\", s2 = \"eidboaoo\"\n",
    "Output: false\n",
    "```\n",
    "\n",
    "**Constraints:**\n",
    "\n",
    "* `1 <= s1.length, s2.length <= 10^4`\n",
    "* `s1` and `s2` consist of lowercase English letters."
   ]
  },
  {
   "cell_type": "code",
   "execution_count": 63,
   "id": "be7befb7-999c-49be-9b7f-62d05cd7f4ed",
   "metadata": {},
   "outputs": [],
   "source": [
    "s1_1 = \"ab\"\n",
    "s2_1 = \"eidbaooo\"\n",
    "\n",
    "s1_2 = \"ab\"\n",
    "s2_2 = \"eidboaoo\"\n",
    "\n",
    "s1_3 = \"allb\"\n",
    "s2_3 = \"hullabaloo\""
   ]
  },
  {
   "cell_type": "code",
   "execution_count": 59,
   "id": "67b0f646-a0d1-4edb-905e-3ff04d2f5a47",
   "metadata": {},
   "outputs": [],
   "source": [
    "class Solution:\n",
    "    def checkInclusion(self, s1: str, s2: str) -> bool:\n",
    "        if len(s1) > len(s2):\n",
    "            return False\n",
    "\n",
    "        # build initial character counts\n",
    "        s1chars = {}\n",
    "        s2chars = {}\n",
    "        for i in range(len(s1)):\n",
    "            s1chars[s1[i]] = s1chars.get(s1[i], 0) + 1\n",
    "            s2chars[s2[i]] = s2chars.get(s2[i], 0) + 1\n",
    "\n",
    "        # iterate through s2 and check character counts in window\n",
    "        left = 0\n",
    "        right = len(s1)-1\n",
    "        while right < len(s2):\n",
    "            if s1chars == s2chars:\n",
    "                return True\n",
    "            \n",
    "            # remove old characters from hashmap\n",
    "            if s2chars[s2[left]] == 1:\n",
    "                s2chars.pop(s2[left])\n",
    "            else:\n",
    "                s2chars[s2[left]] -= 1      \n",
    "\n",
    "            # update window and add new characters\n",
    "            left += 1\n",
    "            right += 1\n",
    "            if right < len(s2):\n",
    "                s2chars[s2[right]] = s2chars.get(s2[right], 0) + 1\n",
    "        \n",
    "        return False"
   ]
  },
  {
   "cell_type": "code",
   "execution_count": 62,
   "id": "6151af8a-6389-4356-a047-b78793372a56",
   "metadata": {},
   "outputs": [
    {
     "data": {
      "text/plain": [
       "False"
      ]
     },
     "execution_count": 62,
     "metadata": {},
     "output_type": "execute_result"
    }
   ],
   "source": [
    "soln = Solution()`\n",
    "soln.checkInclusion(s1_3,s2_3)"
   ]
  },
  {
   "cell_type": "markdown",
   "id": "ad306fa9-5bb6-48e1-b691-d92a3e3a15b8",
   "metadata": {},
   "source": [
    "## 76. Minimum Window Substring\n",
    "\n",
    "leetcode: https://leetcode.com/problems/minimum-window-substring/"
   ]
  },
  {
   "cell_type": "markdown",
   "id": "d6eaa446-a0c7-4b76-a3ee-198e6971ad21",
   "metadata": {},
   "source": [
    "Given two strings `s` and `t` of lengths `m` and `n` respectively, return the **minimum window substring** of `s` such that every character in `t` (including duplicates) is included in the window. If there is no such substring, return the empty string `\"\"`.\n",
    "\n",
    "The testcases will be generated such that the answer is **unique**.\n",
    "\n",
    " \n",
    "\n",
    "**Example 1:**\n",
    "```\n",
    "Input: s = \"ADOBECODEBANC\", t = \"ABC\"\n",
    "Output: \"BANC\"\n",
    "Explanation: The minimum window substring \"BANC\" includes 'A', 'B', and 'C' from string t.\n",
    "```\n",
    "**Example 2:**\n",
    "```\n",
    "Input: s = \"a\", t = \"a\"\n",
    "Output: \"a\"\n",
    "Explanation: The entire string s is the minimum window.\n",
    "```\n",
    "**Example 3:**\n",
    "```\n",
    "Input: s = \"a\", t = \"aa\"\n",
    "Output: \"\"\n",
    "Explanation: Both 'a's from t must be included in the window.\n",
    "Since the largest window of s only has one 'a', return empty string.\n",
    "````\n",
    "\n",
    "**Constraints:**\n",
    "\n",
    "* `m == s.length`\n",
    "* `n == t.length`\n",
    "* `1 <= m, n <= 10^5`\n",
    "* `s` and `t` consist of uppercase and lowercase English letters.\n",
    "\n",
    "\n",
    "**Follow up:** Could you find an algorithm that runs in `O(m + n)` time?"
   ]
  },
  {
   "cell_type": "code",
   "execution_count": 57,
   "id": "033815ea-69e2-4860-b82a-c4ae40186fb1",
   "metadata": {},
   "outputs": [],
   "source": [
    "s1 = \"ADOBECODEBANC\"\n",
    "t1 = \"ABC\"\n",
    "\n",
    "s2 = \"a\"\n",
    "t2 = \"a\"\n",
    "\n",
    "s3 = \"a\"\n",
    "t3 = \"aa\"\n",
    "\n",
    "s4 = \"EVADABANCOBECODE\"\n",
    "t4 = \"AABC\"\n",
    "\n",
    "s5 = 'EVADAANCOBECODE'\n",
    "t5 = 'AABC'\n",
    "\n",
    "s6 = 'aaaaaaaaaaaabbbbbcdd'\n",
    "t6 = 'abcdd'\n",
    "\n",
    "s7 = 'aaaaaaaaaaaabbbbbcdd'\n",
    "t7 = 'abcddg'"
   ]
  },
  {
   "cell_type": "code",
   "execution_count": 58,
   "id": "2e9bbd6a-77ce-4b88-8227-0ef261d2743b",
   "metadata": {},
   "outputs": [],
   "source": [
    "class Solution:\n",
    "    def minWindow(self, s: str, t: str) -> str:\n",
    "        if len(s) < len(t):\n",
    "            return ''\n",
    "\n",
    "        tchars = {}\n",
    "        for c in t:\n",
    "            tchars[c] = tchars.get(c, 0) + 1\n",
    "\n",
    "        left, right =  -1, 0\n",
    "        schars = {}\n",
    "        minSize = len(s)\n",
    "        minLeft, minRight = -1, -1\n",
    "        need = len(tchars)\n",
    "        have = len(schars)\n",
    "        for i,c in enumerate(s):\n",
    "            right = i\n",
    "\n",
    "            # add char to window hash\n",
    "            if c in tchars:\n",
    "                schars[c] = schars.get(c, 0) + 1\n",
    "                if schars[c] == tchars[c]:\n",
    "                    have += 1\n",
    "                \n",
    "                # set left pointer for initial valid window\n",
    "                if (left == -1):\n",
    "                    left = i\n",
    "                \n",
    "                # shrink window if possible\n",
    "                while (s[left] not in tchars) or ( (s[left] in tchars) and (schars[s[left]]-1 >= tchars[s[left]]) ):\n",
    "                    if s[left] in schars:\n",
    "                        schars[s[left]] -= 1\n",
    "                        \n",
    "                    left += 1\n",
    "                \n",
    "                \n",
    "                # if schars: # check if window is valid? check if last element removed has count >= tchars (maybe unnecessary)\n",
    "                if have == need:\n",
    "                    if (right-left+1) <= minSize:\n",
    "                        minSize = min(minSize, right-left+1)\n",
    "                        minLeft = left\n",
    "                        minRight = right\n",
    "        \n",
    "        return s[minLeft:minRight+1] # if minLeft > -1 else '' # not necessary, will default to returning s[-1:-1] which outputs ''"
   ]
  },
  {
   "cell_type": "code",
   "execution_count": 59,
   "id": "5db6b77c-a9d6-4cf7-8c04-7f75f6d1cc45",
   "metadata": {},
   "outputs": [
    {
     "data": {
      "text/plain": [
       "''"
      ]
     },
     "execution_count": 59,
     "metadata": {},
     "output_type": "execute_result"
    }
   ],
   "source": [
    "soln = Solution()\n",
    "soln.minWindow(s7,t7)"
   ]
  },
  {
   "cell_type": "markdown",
   "id": "64018afc-9d00-4c01-9fa7-fd1688a47f67",
   "metadata": {},
   "source": [
    "## 239. Sliding Window Maximum\n",
    "\n",
    "leetcode: https://leetcode.com/problems/sliding-window-maximum/"
   ]
  },
  {
   "cell_type": "markdown",
   "id": "f9b58284-db18-4d93-a324-0acea03df347",
   "metadata": {},
   "source": [
    "You are given an array of integers `nums`, there is a sliding window of size `k` which is moving from the very left of the array to the very right. You can only see the `k` numbers in the window. Each time the sliding window moves right by one position.\n",
    "\n",
    "Return the **max sliding window**.\n",
    "\n",
    " \n",
    "\n",
    "**Example 1:**\n",
    "```\n",
    "Input: nums = [1,3,-1,-3,5,3,6,7], k = 3\n",
    "Output: [3,3,5,5,6,7]\n",
    "Explanation: \n",
    "Window position                Max\n",
    "---------------               -----\n",
    "[1  3  -1] -3  5  3  6  7       3\n",
    " 1 [3  -1  -3] 5  3  6  7       3\n",
    " 1  3 [-1  -3  5] 3  6  7       5\n",
    " 1  3  -1 [-3  5  3] 6  7       5\n",
    " 1  3  -1  -3 [5  3  6] 7       6\n",
    " 1  3  -1  -3  5 [3  6  7]      7\n",
    "```\n",
    "**Example 2:**\n",
    "```\n",
    "Input: nums = [1], k = 1\n",
    "Output: [1]\n",
    "```\n",
    "\n",
    "**Constraints:**\n",
    "\n",
    "* `1 <= nums.length <= 10^5`\n",
    "* `-10^4 <= nums[i] <= 10^4`\n",
    "* `1 <= k <= nums.length`"
   ]
  },
  {
   "cell_type": "code",
   "execution_count": 37,
   "id": "361c7246-aaf4-4cca-bab4-6b3903a925e9",
   "metadata": {},
   "outputs": [],
   "source": [
    "nums1 = [1,3,-1,-3,5,3,6,7]\n",
    "k1 = 3\n",
    "\n",
    "nums2 = [1]\n",
    "k2 = 1\n",
    "\n",
    "nums3 = [7,6,5,4,3,2,1]\n",
    "k3 = 3"
   ]
  },
  {
   "cell_type": "code",
   "execution_count": 54,
   "id": "ad64baa2-2ffc-4097-87ed-4e3d09118f66",
   "metadata": {},
   "outputs": [],
   "source": [
    "# idea: construct monotonically decreasing deque\n",
    "# add newly encountered max values on the right (while clearing out anything less than new max)\n",
    "# add all new values lower than current max\n",
    "# maintain in the deque the maximum value seen in current window as the left-most element\n",
    "# when value is removed from window, check if it matches left-most deque element and pop off if so\n",
    "\n",
    "from typing import List\n",
    "from collections import deque\n",
    "\n",
    "class Solution:\n",
    "    def maxSlidingWindow(self, nums: List[int], k: int) -> List[int]:\n",
    "        d = deque() # store indexes to make moving left pointer easier\n",
    "        ans = []\n",
    "\n",
    "        left = 0\n",
    "        right = 0\n",
    "        \n",
    "        while right < len(nums):\n",
    "            # remove items in deque smaller than new item\n",
    "            while (len(d) > 0) and (nums[d[-1]] < nums[right]):\n",
    "                d.pop()\n",
    "            \n",
    "            # append new value, now guaranteed to be n <= d[-1]\n",
    "            d.append(right)\n",
    "\n",
    "            # remove current max value if it rolled out of window\n",
    "            if left > d[0]:\n",
    "                d.popleft()\n",
    "            \n",
    " \n",
    "            # store max value once window has grown to correct size and begin incrementing left\n",
    "            if right+1 >= k:\n",
    "                ans.append(nums[d[0]])\n",
    "                left += 1\n",
    "                \n",
    "            right += 1\n",
    "            \n",
    "        return ans"
   ]
  },
  {
   "cell_type": "code",
   "execution_count": 55,
   "id": "585cbd5b-28a7-4a84-86e9-1b1222e1853c",
   "metadata": {},
   "outputs": [
    {
     "data": {
      "text/plain": [
       "[3, 3, 5, 5, 6, 7]"
      ]
     },
     "execution_count": 55,
     "metadata": {},
     "output_type": "execute_result"
    }
   ],
   "source": [
    "soln = Solution()\n",
    "soln.maxSlidingWindow(nums1,k1)"
   ]
  },
  {
   "cell_type": "markdown",
   "id": "f3cbe2d7-dc2b-4ca4-82c0-0aefba23ae40",
   "metadata": {},
   "source": [
    "## 206. Reverse Linked List\n",
    "\n",
    "leetcode:https://leetcode.com/problems/reverse-linked-list/"
   ]
  },
  {
   "cell_type": "markdown",
   "id": "8bad556a-8642-4d45-8398-3dcdcbbeefdc",
   "metadata": {},
   "source": [
    "Given the `head` of a singly linked list, reverse the list, and return the **reversed list**.\n",
    "\n",
    " \n",
    "\n",
    "**Example 1:**\n",
    "\n",
    "![https://assets.leetcode.com/uploads/2021/02/19/rev1ex1.jpg](https://assets.leetcode.com/uploads/2021/02/19/rev1ex1.jpg)\n",
    "```\n",
    "Input: head = [1,2,3,4,5]\n",
    "Output: [5,4,3,2,1]\n",
    "```\n",
    "**Example 2:**\n",
    "\n",
    "![https://assets.leetcode.com/uploads/2021/02/19/rev1ex2.jpg](https://assets.leetcode.com/uploads/2021/02/19/rev1ex2.jpg)\n",
    "```\n",
    "Input: head = [1,2]\n",
    "Output: [2,1]\n",
    "```\n",
    "**Example 3:**\n",
    "```\n",
    "Input: head = []\n",
    "Output: []\n",
    "``` \n",
    "\n",
    "**Constraints:**\n",
    "\n",
    "* The number of nodes in the list is the range `[0, 5000]`.\n",
    "* `-5000 <= Node.val <= 5000`\n",
    " \n",
    "\n",
    "**Follow up:** A linked list can be reversed either iteratively or recursively. Could you implement both?"
   ]
  },
  {
   "cell_type": "code",
   "execution_count": 60,
   "id": "c5f7acb8-5b3a-448e-9d18-0e13749ab94f",
   "metadata": {},
   "outputs": [],
   "source": [
    "class ListNode:\n",
    "    def __init__(self, val=0, next=None):\n",
    "        self.val = val\n",
    "        self.next = next\n",
    "\n",
    "def makeList(nodevals):\n",
    "    prev = None\n",
    "    node = None\n",
    "    for nodeval in nodevals[::-1]:\n",
    "        node = ListNode(nodeval)\n",
    "        node.next = prev\n",
    "        prev = node\n",
    "        \n",
    "    return node\n",
    "\n",
    "head1 = makeList([1,2,3,4,5])\n",
    "head2 = makeList([1,2])\n",
    "head3 = makeList([])"
   ]
  },
  {
   "cell_type": "code",
   "execution_count": 62,
   "id": "a54eeb62-c766-48ee-a156-0717b53a20d7",
   "metadata": {},
   "outputs": [],
   "source": [
    "from typing import List, Optional\n",
    "\n",
    "# Definition for singly-linked list.\n",
    "# class ListNode:\n",
    "#     def __init__(self, val=0, next=None):\n",
    "#         self.val = val\n",
    "#         self.next = next\n",
    "\n",
    "class Solution:\n",
    "    def reverseList(self, head: Optional[ListNode]) -> Optional[ListNode]:\n",
    "        cur = head\n",
    "        prev = None        \n",
    "        while cur:\n",
    "            # store next node\n",
    "            next = cur.next\n",
    "            # reverse link\n",
    "            cur.next = prev\n",
    "            # move pointers\n",
    "            prev = cur\n",
    "            cur = next\n",
    "        \n",
    "        return prev"
   ]
  },
  {
   "cell_type": "code",
   "execution_count": 61,
   "id": "49f46d6e-a598-4dfb-94f9-880f82b524fe",
   "metadata": {},
   "outputs": [],
   "source": [
    "soln = Solution()\n",
    "ans = soln.reverseList(head1)"
   ]
  },
  {
   "cell_type": "code",
   "execution_count": 59,
   "id": "eb1a9cf9-5267-44d1-b085-bc20cd5d86f8",
   "metadata": {},
   "outputs": [],
   "source": [
    "ans"
   ]
  },
  {
   "cell_type": "markdown",
   "id": "db9a1934-536f-47bf-ae7d-47a317ce3b1a",
   "metadata": {},
   "source": [
    "## 21. Merge Two Sorted Lists\n",
    "\n",
    "leetcode: https://leetcode.com/problems/merge-two-sorted-lists/"
   ]
  },
  {
   "cell_type": "markdown",
   "id": "d502d1a2-df0b-4580-8cb3-bacebe6dd901",
   "metadata": {},
   "source": [
    "You are given the heads of two sorted linked lists `list1` and `list2`.\n",
    "\n",
    "Merge the two lists into one **sorted** list. The list should be made by splicing together the nodes of the first two lists.\n",
    "\n",
    "Return the **head of the merged linked list**.\n",
    "\n",
    " \n",
    "\n",
    "**Example 1:**\n",
    "\n",
    "![https://assets.leetcode.com/uploads/2020/10/03/merge_ex1.jpg](https://assets.leetcode.com/uploads/2020/10/03/merge_ex1.jpg)\n",
    "```\n",
    "Input: list1 = [1,2,4], list2 = [1,3,4]\n",
    "Output: [1,1,2,3,4,4]\n",
    "```\n",
    "**Example 2:**\n",
    "```\n",
    "Input: list1 = [], list2 = []\n",
    "Output: []\n",
    "```\n",
    "**Example 3:**\n",
    "```\n",
    "Input: list1 = [], list2 = [0]\n",
    "Output: [0]\n",
    "```\n",
    "\n",
    "**Constraints:**\n",
    "\n",
    "** The number of nodes in both lists is in the range `[0, 50]`.\n",
    "* `-100 <= Node.val <= 100`\n",
    "* Both `list1` and `list2` are sorted in **non-decreasing** order."
   ]
  },
  {
   "cell_type": "code",
   "execution_count": 2,
   "id": "61d6818e-a9a8-4c09-b191-53afbb341935",
   "metadata": {},
   "outputs": [],
   "source": [
    "class ListNode:\n",
    "    def __init__(self, val=0, next=None):\n",
    "        self.val = val\n",
    "        self.next = next\n",
    "\n",
    "def makeList(nodevals):\n",
    "    prev = None\n",
    "    node = None\n",
    "    for nodeval in nodevals[::-1]:\n",
    "        node = ListNode(nodeval)\n",
    "        node.next = prev\n",
    "        prev = node\n",
    "        \n",
    "    return node\n",
    "\n",
    "list1_1 = makeList([1,2,4])\n",
    "list2_1 = makeList([1,3,4])\n",
    "\n",
    "list1_2 = makeList([])\n",
    "list2_2 = makeList([])\n",
    "\n",
    "list1_3 = makeList([])\n",
    "list2_3 = makeList([0])"
   ]
  },
  {
   "cell_type": "code",
   "execution_count": 3,
   "id": "9c6058bf-93a0-4773-902c-e8df8add3c1f",
   "metadata": {},
   "outputs": [],
   "source": [
    "from typing import List, Optional\n",
    "\n",
    "# Definition for singly-linked list.\n",
    "# class ListNode:\n",
    "#     def __init__(self, val=0, next=None):\n",
    "#         self.val = val\n",
    "#         self.next = next\n",
    "class Solution:\n",
    "    def mergeTwoLists(self, list1: Optional[ListNode], list2: Optional[ListNode]) -> Optional[ListNode]:\n",
    "        head = ListNode(-1)\n",
    "        cur = head\n",
    "        \n",
    "        while cur and (list1 or list2):\n",
    "            if (list2 == None) or ((list1 and list2) and (list1.val <= list2.val)):\n",
    "                cur.next = list1\n",
    "                list1 = list1.next\n",
    "            else:\n",
    "                cur.next = list2\n",
    "                list2 = list2.next\n",
    "\n",
    "            cur = cur.next\n",
    "        \n",
    "        return head.next"
   ]
  },
  {
   "cell_type": "code",
   "execution_count": 4,
   "id": "090a3fd0-b572-4d14-9c5e-e23075039e7b",
   "metadata": {},
   "outputs": [],
   "source": [
    "soln = Solution()\n",
    "ans = soln.mergeTwoLists(list1_3,list2_3)"
   ]
  },
  {
   "cell_type": "code",
   "execution_count": 5,
   "id": "aced8db3-cc35-45d3-be43-c17fcb9d7e13",
   "metadata": {},
   "outputs": [
    {
     "data": {
      "text/plain": [
       "<__main__.ListNode at 0x10564e8b0>"
      ]
     },
     "execution_count": 5,
     "metadata": {},
     "output_type": "execute_result"
    }
   ],
   "source": [
    "ans"
   ]
  },
  {
   "cell_type": "markdown",
   "id": "2bc7b58e-ee71-4d9a-bc04-399b98484e93",
   "metadata": {},
   "source": [
    "## 143. Reorder List\n",
    "\n",
    "leetcode: https://leetcode.com/problems/reorder-list/"
   ]
  },
  {
   "cell_type": "markdown",
   "id": "08b448fa-c664-4c66-b83c-ee495bd63c5c",
   "metadata": {},
   "source": [
    "You are given the head of a singly linked-list. The list can be represented as:\n",
    "\n",
    "> L0 → L1 → … → Ln - 1 → Ln\n",
    "\n",
    "Reorder the list to be on the following form:\n",
    "\n",
    "> L0 → Ln → L1 → Ln - 1 → L2 → Ln - 2 → …\n",
    "\n",
    "You may not modify the values in the list's nodes. Only nodes themselves may be changed.\n",
    "\n",
    " \n",
    "\n",
    "**Example 1:**\n",
    "\n",
    "![https://assets.leetcode.com/uploads/2021/03/04/reorder1linked-list.jpg](https://assets.leetcode.com/uploads/2021/03/04/reorder1linked-list.jpg)\n",
    "```\n",
    "Input: head = [1,2,3,4]\n",
    "Output: [1,4,2,3]\n",
    "```\n",
    "**Example 2:**\n",
    "\n",
    "![https://assets.leetcode.com/uploads/2021/03/09/reorder2-linked-list.jpg](https://assets.leetcode.com/uploads/2021/03/09/reorder2-linked-list.jpg)\n",
    "```\n",
    "Input: head = [1,2,3,4,5]\n",
    "Output: [1,5,2,4,3]\n",
    "```\n",
    "\n",
    "**Constraints:**\n",
    "\n",
    "* The number of nodes in the list is in the range `[1, 5 * 10^4]`.\n",
    "* `1 <= Node.val <= 1000`"
   ]
  },
  {
   "cell_type": "code",
   "execution_count": 160,
   "id": "7df97240-dadd-4750-9db0-33bd7fcb8b7e",
   "metadata": {},
   "outputs": [],
   "source": [
    "class ListNode:\n",
    "    def __init__(self, val=0, next=None):\n",
    "        self.val = val\n",
    "        self.next = next\n",
    "\n",
    "def makeList(nodevals):\n",
    "    prev = None\n",
    "    node = None\n",
    "    for nodeval in nodevals[::-1]:\n",
    "        node = ListNode(nodeval)\n",
    "        node.next = prev\n",
    "        prev = node\n",
    "        \n",
    "    return node\n",
    "\n",
    "head1 = makeList([1,2,3,4])\n",
    "head2 = makeList([1,2,3,4,5])\n",
    "head3 = makeList([1])"
   ]
  },
  {
   "cell_type": "code",
   "execution_count": 139,
   "id": "836070ff-d8c5-47a2-8e5a-2c51bc930f06",
   "metadata": {},
   "outputs": [],
   "source": [
    "# Definition for singly-linked list.\n",
    "# class ListNode:\n",
    "#     def __init__(self, val=0, next=None):\n",
    "#         self.val = val\n",
    "#         self.next = next\n",
    "\n",
    "# two-pass solution, O(n) additional space\n",
    "\n",
    "class Solution:\n",
    "    def reorderList(self, head: Optional[ListNode]) -> None:\n",
    "        \"\"\"\n",
    "        Do not return anything, modify head in-place instead.\n",
    "        \"\"\"\n",
    "        revnodes = []\n",
    "        cur = head\n",
    "        while cur:\n",
    "            revnodes.append(cur)\n",
    "            cur = cur.next\n",
    "\n",
    "        cur = head\n",
    "        while cur and len(revnodes)>0:\n",
    "            # store next node\n",
    "            next = cur.next # 2\n",
    "            lastNode = revnodes.pop()\n",
    "            cur.next = lastNode\n",
    "            # set lastNode.next to previous cur.next\n",
    "            lastNode.next = next\n",
    "\n",
    "            # remove cur node from stack if not empty\n",
    "            if len(revnodes)>0:\n",
    "                revnodes.pop(0)\n",
    "                cur = next # loop exits with cur pointing to final node\n",
    "        if cur:\n",
    "            cur.next = None"
   ]
  },
  {
   "cell_type": "code",
   "execution_count": 155,
   "id": "ff69ca38-65be-45ca-b353-99e15dd0b5ff",
   "metadata": {},
   "outputs": [],
   "source": [
    "# optimal solution O(n) runtime, O(1) space idea: split linked list into two halves, reverse second half and merge\n",
    "\n",
    "class Solution:\n",
    "    def reorderList(self, head: Optional[ListNode]) -> None:\n",
    "        \"\"\"\n",
    "        Do not return anything, modify head in-place instead.\n",
    "        \"\"\"\n",
    "        # use slow/fast pointer to find middle of list\n",
    "        slow, fast = head, head.next\n",
    "        while fast and fast.next:\n",
    "            slow = slow.next\n",
    "            fast = fast.next.next\n",
    "\n",
    "        # reverse second half\n",
    "        second = slow.next\n",
    "        cur = second\n",
    "        prev = None\n",
    "        while cur:\n",
    "            # store next node\n",
    "            next = cur.next\n",
    "            # reverse link\n",
    "            cur.next = prev\n",
    "            # move pointers\n",
    "            prev = cur\n",
    "            cur = next\n",
    "\n",
    "        # merge two halves, reversing second half ends with prev pointing to end of original list\n",
    "        cur = head\n",
    "        revcur = prev\n",
    "        while cur and revcur:\n",
    "            # store next nodes\n",
    "            next = cur.next\n",
    "            revnext = revcur.next\n",
    "            # change links\n",
    "            cur.next = revcur\n",
    "            revcur.next = next\n",
    "            # move pointers\n",
    "            cur = next\n",
    "            revcur = revnext\n",
    "\n",
    "        cur.next = None"
   ]
  },
  {
   "cell_type": "code",
   "execution_count": 168,
   "id": "e41471ed-786d-4b91-ad53-157024beb3c0",
   "metadata": {},
   "outputs": [],
   "source": [
    "soln = Solution()\n",
    "soln.reorderList(head2)"
   ]
  },
  {
   "cell_type": "code",
   "execution_count": 172,
   "id": "829ae8b0-f569-489a-9cba-134f499cc4ad",
   "metadata": {},
   "outputs": [],
   "source": [
    "head2.next.next.next.next.next"
   ]
  },
  {
   "cell_type": "code",
   "execution_count": 84,
   "id": "444d564b-ed58-478e-9a3d-254d65040f40",
   "metadata": {},
   "outputs": [
    {
     "data": {
      "text/plain": [
       "[<__main__.ListNode at 0x1056b1ca0>,\n",
       " <__main__.ListNode at 0x10564eb20>,\n",
       " <__main__.ListNode at 0x10564e9a0>]"
      ]
     },
     "execution_count": 84,
     "metadata": {},
     "output_type": "execute_result"
    }
   ],
   "source": []
  },
  {
   "cell_type": "markdown",
   "id": "0b66535e-0bbd-472d-bbdd-17d2b249cd26",
   "metadata": {},
   "source": [
    "## 19. Remove Nth Node From End of List\n",
    "\n",
    "leetcode: https://leetcode.com/problems/remove-nth-node-from-end-of-list/"
   ]
  },
  {
   "cell_type": "markdown",
   "id": "c8584143-dbe9-4c7f-b17f-32853e005fa4",
   "metadata": {},
   "source": [
    "Given the `head` of a linked list, remove the `nth` node from the end of the list and return its head.\n",
    " \n",
    "\n",
    "**Example 1:**\n",
    "\n",
    "![https://assets.leetcode.com/uploads/2020/10/03/remove_ex1.jpg](https://assets.leetcode.com/uploads/2020/10/03/remove_ex1.jpg)\n",
    "```\n",
    "Input: head = [1,2,3,4,5], n = 2\n",
    "Output: [1,2,3,5]\n",
    "```\n",
    "**Example 2:**\n",
    "```\n",
    "Input: head = [1], n = 1\n",
    "Output: []\n",
    "```\n",
    "**Example 3:**\n",
    "```\n",
    "Input: head = [1,2], n = 1\n",
    "Output: [1]\n",
    "```\n",
    "\n",
    "**Constraints:**\n",
    "\n",
    "* The number of nodes in the list is `sz`.\n",
    "* `1 <= sz <= 30`\n",
    "* `0 <= Node.val <= 100`\n",
    "* `1 <= n <= sz`\n",
    " \n",
    "\n",
    "**Follow up:** Could you do this in one pass?"
   ]
  },
  {
   "cell_type": "code",
   "execution_count": 125,
   "id": "8bd28013-018c-47d4-ab7e-99f944295ce9",
   "metadata": {},
   "outputs": [],
   "source": [
    "class ListNode:\n",
    "    def __init__(self, val=0, next=None):\n",
    "        self.val = val\n",
    "        self.next = next\n",
    "\n",
    "def makeList(nodevals):\n",
    "    prev = None\n",
    "    node = None\n",
    "    for nodeval in nodevals[::-1]:\n",
    "        node = ListNode(nodeval)\n",
    "        node.next = prev\n",
    "        prev = node\n",
    "        \n",
    "    return node\n",
    "\n",
    "head1 = makeList([1,2,3,4,5])\n",
    "n1 = 2\n",
    "head2 = makeList([1])\n",
    "n2 = 1\n",
    "head3 = makeList([1,2])\n",
    "n3 = 1\n",
    "head4 = makeList([1,2])\n",
    "n4 = 2"
   ]
  },
  {
   "cell_type": "code",
   "execution_count": 126,
   "id": "904f7f73-bff4-4e58-b8e4-8b5a2bcd2e4c",
   "metadata": {},
   "outputs": [],
   "source": [
    "# multiple pass solution\n",
    "\n",
    "from typing import List, Optional\n",
    "\n",
    "# Definition for singly-linked list.\n",
    "# class ListNode:\n",
    "#     def __init__(self, val=0, next=None):\n",
    "#         self.val = val\n",
    "#         self.next = next\n",
    "class Solution:\n",
    "    def removeNthFromEnd(self, head: Optional[ListNode], n: int) -> Optional[ListNode]:\n",
    "        # count nodes\n",
    "        nodecount = 0\n",
    "        cur = head\n",
    "        while cur:\n",
    "            cur = cur.next\n",
    "            nodecount += 1\n",
    "\n",
    "        if nodecount == 1:\n",
    "            return None\n",
    "        \n",
    "        # remove node\n",
    "        dummy = ListNode(-1)\n",
    "        dummy.next = head\n",
    "        cur = head\n",
    "        prev = dummy\n",
    "        while cur:\n",
    "            if nodecount == n:\n",
    "                prev.next = cur.next\n",
    "                return dummy.next\n",
    "            \n",
    "            prev = cur            \n",
    "            cur = cur.next\n",
    "            nodecount -= 1\n",
    "\n",
    "            \n",
    "        return -1"
   ]
  },
  {
   "cell_type": "code",
   "execution_count": 137,
   "id": "5536773e-324f-4867-92dc-6cd560e4d19f",
   "metadata": {},
   "outputs": [],
   "source": [
    "# single pass: use two pointers that are shifted by n-positions, remove left pointer when right pointer is at end of list\n",
    "\n",
    "from typing import List, Optional\n",
    "\n",
    "# Definition for singly-linked list.\n",
    "# class ListNode:\n",
    "#     def __init__(self, val=0, next=None):\n",
    "#         self.val = val\n",
    "#         self.next = next\n",
    "class Solution:\n",
    "    def removeNthFromEnd(self, head: Optional[ListNode], n: int) -> Optional[ListNode]:\n",
    "        dummy = ListNode(-1)\n",
    "        dummy.next = head\n",
    "\n",
    "        # move right pointer n places\n",
    "        right = head\n",
    "        while right and n > 0:\n",
    "            right = right.next\n",
    "            n -= 1\n",
    "\n",
    "        # remove node\n",
    "        left = dummy\n",
    "        while right:\n",
    "            left = left.next\n",
    "            right = right.next\n",
    "\n",
    "        left.next = left.next.next\n",
    "        return dummy.next"
   ]
  },
  {
   "cell_type": "code",
   "execution_count": 138,
   "id": "af256745-73d4-46e2-ae02-b88d9eb60d62",
   "metadata": {},
   "outputs": [],
   "source": [
    "soln = Solution()\n",
    "ans = soln.removeNthFromEnd(head2, n2)"
   ]
  },
  {
   "cell_type": "markdown",
   "id": "303c7a04-e9ba-468d-ac7a-dad2b2e7d2dd",
   "metadata": {},
   "source": [
    "## 138. Copy List with Random Pointer\n",
    "\n",
    "leetcode: https://leetcode.com/problems/copy-list-with-random-pointer/"
   ]
  },
  {
   "attachments": {},
   "cell_type": "markdown",
   "id": "2a3e3a12-9989-4cf5-877a-989b415b99b3",
   "metadata": {},
   "source": [
    "A linked list of length `n` is given such that each node contains an additional random pointer, which could point to any node in the list, or `null`.\n",
    "\n",
    "Construct a [deep copy](https://en.wikipedia.org/wiki/Object_copying#Deep_copy) of the list. The deep copy should consist of exactly `n` **brand new** nodes, where each new node has its value set to the value of its corresponding original node. Both the `next` and `random` pointer of the new nodes should point to new nodes in the copied list such that the pointers in the original list and copied list represent the same list state. **None of the pointers in the new list should point to nodes in the original list.**\n",
    "\n",
    "For example, if there are two nodes `X` and `Y` in the original list, where `X.random --> Y`, then for the corresponding two nodes `x` and `y` in the copied list, `x.random --> y`.\n",
    "\n",
    "Return the head of the **copied linked list**.\n",
    "\n",
    "The linked list is represented in the input/output as a list of `n` nodes. Each node is represented as a pair of `[val, random_index]` where:\n",
    "\n",
    "* `val`: an integer representing `Node.val`\n",
    "* `random_index`: the index of the node (range from `0` to `n-1`) that the `random` pointer points to, or `null` if it does not point to any node.\n",
    "Your code will **only** be given the `head` of the original linked list.\n",
    "\n",
    " \n",
    "\n",
    "**Example 1:**\n",
    "\n",
    "![https://assets.leetcode.com/uploads/2019/12/18/e1.png](https://assets.leetcode.com/uploads/2019/12/18/e1.png)\n",
    "```\n",
    "Input: head = [[7,null],[13,0],[11,4],[10,2],[1,0]]\n",
    "Output: [[7,null],[13,0],[11,4],[10,2],[1,0]]\n",
    "```\n",
    "**Example 2:**\n",
    "\n",
    "![https://assets.leetcode.com/uploads/2019/12/18/e2.png](https://assets.leetcode.com/uploads/2019/12/18/e2.png)\n",
    "```\n",
    "Input: head = [[1,1],[2,1]]\n",
    "Output: [[1,1],[2,1]]\n",
    "```\n",
    "**Example 3:**\n",
    "\n",
    "![https://assets.leetcode.com/uploads/2019/12/18/e3.png](https://assets.leetcode.com/uploads/2019/12/18/e3.png)\n",
    "```\n",
    "Input: head = [[3,null],[3,0],[3,null]]\n",
    "Output: [[3,null],[3,0],[3,null]]\n",
    "```\n",
    "\n",
    "**Constraints:**\n",
    "\n",
    "* `0 <= n <= 1000`\n",
    "* `-10^4 <= Node.val <= 10^4`\n",
    "* `Node.random` is `null` or is pointing to some node in the linked list."
   ]
  },
  {
   "cell_type": "code",
   "execution_count": 69,
   "id": "84bca050-70df-4fa3-bb59-105728930a05",
   "metadata": {},
   "outputs": [],
   "source": [
    "class Node:\n",
    "    def __init__(self, x: int, next: 'Node' = None, random: 'Node' = None):\n",
    "        self.val = int(x)\n",
    "        self.next = next\n",
    "        self.random = random\n",
    "\n",
    "def makeListRand(nodevals):\n",
    "    prev = None\n",
    "    node = None\n",
    "    nodes = []\n",
    "    for nodeval in nodevals[::-1]:\n",
    "        node = Node(nodeval[0])\n",
    "        node.next = prev\n",
    "        nodes.append(node)\n",
    "        prev = node\n",
    "\n",
    "\n",
    "    # traverse newly created list to update random\n",
    "    nodes = nodes[::-1]\n",
    "    head = node\n",
    "    count = 0\n",
    "    while node:\n",
    "        random_node_pos = nodevals[count][1]\n",
    "        if random_node_pos==None: \n",
    "            node.random = None\n",
    "        else:\n",
    "            node.random = nodes[random_node_pos]\n",
    "        node = node.next\n",
    "        count += 1\n",
    "        \n",
    "    return head\n",
    "\n",
    "head1 = makeListRand([[7,None],[13,0],[11,4],[10,2],[1,0]])\n",
    "head2 = makeListRand([[1,1],[2,1]])\n",
    "head3 = makeListRand([[3,None],[3,0],[3,None]])\n",
    "head4 = makeListRand([])"
   ]
  },
  {
   "cell_type": "code",
   "execution_count": 79,
   "id": "0a9fc936-5bd5-44c2-a52f-25d11639a9f3",
   "metadata": {},
   "outputs": [],
   "source": [
    "# two pass idea: build normal linked list nodes and insert into hashmap linking old node -> new, then traverse oldlist and update random pointer to nodes using array indexes\n",
    "\n",
    "\"\"\"\n",
    "# Definition for a Node.\n",
    "class Node:\n",
    "    def __init__(self, x: int, next: 'Node' = None, random: 'Node' = None):\n",
    "        self.val = int(x)\n",
    "        self.next = next\n",
    "        self.random = random\n",
    "\"\"\"\n",
    "\n",
    "class Solution:\n",
    "    def copyRandomList(self, head: 'Optional[Node]') -> 'Optional[Node]':\n",
    "        # create new nodes and add to hashmap\n",
    "        oldnode = head\n",
    "        nodes = {None:None} # map null to null\n",
    "        # prevnewnode = None\n",
    "        while oldnode:\n",
    "            newnode = Node(oldnode.val)\n",
    "            nodes[oldnode] = newnode\n",
    "            oldnode = oldnode.next\n",
    "\n",
    "        # assign pointers for new list\n",
    "        oldnode = head\n",
    "        while oldnode:\n",
    "            newnode = nodes[oldnode]\n",
    "            newnode.next = nodes[oldnode.next]\n",
    "            newnode.random = nodes[oldnode.random]\n",
    "\n",
    "            # # alternative using if logic\n",
    "            # if oldnode.next:\n",
    "            #     newnode.next = nodes[oldnode.next]\n",
    "            # else:\n",
    "            #     newnode.next = None\n",
    "\n",
    "            # if oldnode.random:\n",
    "            #     newnode.random = nodes[oldnode.random]\n",
    "            # else:\n",
    "            #     newnode.random = None\n",
    "\n",
    "            oldnode = oldnode.next\n",
    "            \n",
    "            \n",
    "        return nodes[head]"
   ]
  },
  {
   "cell_type": "code",
   "execution_count": 86,
   "id": "6ea54a37-20a7-44d3-ab4c-dc2ac8ef2117",
   "metadata": {},
   "outputs": [],
   "source": [
    "soln = Solution()\n",
    "ans = soln.copyRandomList(head1)"
   ]
  },
  {
   "cell_type": "code",
   "execution_count": 87,
   "id": "167da9ae-cafe-4dc3-9b67-83022317ccdc",
   "metadata": {},
   "outputs": [
    {
     "data": {
      "text/plain": [
       "<__main__.Node at 0x108bab460>"
      ]
     },
     "execution_count": 87,
     "metadata": {},
     "output_type": "execute_result"
    }
   ],
   "source": [
    "ans"
   ]
  },
  {
   "cell_type": "code",
   "execution_count": 93,
   "id": "ee0f996f-4523-4996-9e59-a8b205d3e986",
   "metadata": {},
   "outputs": [
    {
     "data": {
      "text/plain": [
       "7"
      ]
     },
     "execution_count": 93,
     "metadata": {},
     "output_type": "execute_result"
    }
   ],
   "source": [
    "ans.next.random.val"
   ]
  },
  {
   "cell_type": "markdown",
   "id": "d08b8505-6216-4c69-946f-aef3708185b7",
   "metadata": {},
   "source": [
    "## 2. Add Two Numbers\n",
    "\n",
    "\n",
    "leetcode: https://leetcode.com/problems/add-two-numbers/"
   ]
  },
  {
   "attachments": {},
   "cell_type": "markdown",
   "id": "bf807376-d193-44c2-876c-919a61eb7809",
   "metadata": {},
   "source": [
    "You are given two **non-empty** linked lists representing two non-negative integers. The digits are stored in **reverse order**, and each of their nodes contains a single digit. Add the two numbers and return the sum as a linked list.\n",
    "\n",
    "You may assume the two numbers do not contain any leading zero, except the number 0 itself.\n",
    "\n",
    " \n",
    "\n",
    "**Example 1:**\n",
    "\n",
    "![https://assets.leetcode.com/uploads/2020/10/02/addtwonumber1.jpg](https://assets.leetcode.com/uploads/2020/10/02/addtwonumber1.jpg)\n",
    "```\n",
    "Input: l1 = [2,4,3], l2 = [5,6,4]\n",
    "Output: [7,0,8]\n",
    "Explanation: 342 + 465 = 807.\n",
    "```\n",
    "**Example 2:**\n",
    "```\n",
    "Input: l1 = [0], l2 = [0]\n",
    "Output: [0]\n",
    "```\n",
    "**Example 3:**\n",
    "```\n",
    "Input: l1 = [9,9,9,9,9,9,9], l2 = [9,9,9,9]\n",
    "Output: [8,9,9,9,0,0,0,1]\n",
    "```\n",
    "\n",
    "**Constraints:**\n",
    "\n",
    "* The number of nodes in each linked list is in the range `[1, 100]`.\n",
    "* `0 <= Node.val <= 9`\n",
    "* It is guaranteed that the list represents a number that does not have leading zeros."
   ]
  },
  {
   "cell_type": "code",
   "execution_count": null,
   "id": "3998d521-8114-4818-9461-fa9bc5c3ff07",
   "metadata": {},
   "outputs": [],
   "source": [
    "9,999,999 + 9,999"
   ]
  },
  {
   "cell_type": "code",
   "execution_count": 67,
   "id": "b4a36fc9-7052-473d-9fca-b089c9b304bd",
   "metadata": {},
   "outputs": [
    {
     "data": {
      "text/plain": [
       "10009998"
      ]
     },
     "execution_count": 67,
     "metadata": {},
     "output_type": "execute_result"
    }
   ],
   "source": [
    "9999999+9999"
   ]
  },
  {
   "cell_type": "code",
   "execution_count": 13,
   "id": "9aa28988-7665-42b9-a704-9630338df889",
   "metadata": {},
   "outputs": [],
   "source": [
    "class ListNode:\n",
    "    def __init__(self, val=0, next=None):\n",
    "        self.val = val\n",
    "        self.next = next\n",
    "\n",
    "def makeList(nodevals):\n",
    "    prev = None\n",
    "    node = None\n",
    "    for nodeval in nodevals[::-1]:\n",
    "        node = ListNode(nodeval)\n",
    "        node.next = prev\n",
    "        prev = node\n",
    "        \n",
    "    return node\n",
    "\n",
    "l1_1 = makeList([2,4,3])\n",
    "l2_1 = makeList([5,6,4])\n",
    "\n",
    "l1_2 = makeList([0])\n",
    "l2_2 = makeList([0])\n",
    "\n",
    "l1_3 = makeList([9,9,9,9,9,9,9])\n",
    "l2_3 = makeList([9,9,9,9])"
   ]
  },
  {
   "cell_type": "code",
   "execution_count": 91,
   "id": "da983cda-2feb-4d39-9397-be74cac944a9",
   "metadata": {},
   "outputs": [],
   "source": [
    "# idea: traverse lists and multiply by powers of 10 before adding\n",
    "\n",
    "from typing import List, Optional\n",
    "\n",
    "# Definition for singly-linked list.\n",
    "# class ListNode:\n",
    "#     def __init__(self, val=0, next=None):\n",
    "#         self.val = val\n",
    "#         self.next = next\n",
    "class Solution:\n",
    "    def addTwoNumbers(self, l1: Optional[ListNode], l2: Optional[ListNode]) -> Optional[ListNode]:\n",
    "        cur1 = l1\n",
    "        cur2 = l2\n",
    "        dummy = ListNode(-1)\n",
    "        ansnode = dummy\n",
    "        carry = 0\n",
    "        while cur1 or cur2 or (carry==1):\n",
    "            \n",
    "            cur1val = cur1.val if cur1 else 0\n",
    "            cur2val = cur2.val if cur2 else 0\n",
    "\n",
    "            ans = cur1val+cur2val+carry\n",
    "            newnode = ListNode(ans%10)\n",
    "            ansnode.next = newnode\n",
    "\n",
    "            if ans >= 10:\n",
    "                carry = 1\n",
    "            else:\n",
    "                carry = 0\n",
    "            \n",
    "            # move pointers\n",
    "            ansnode = newnode  \n",
    "            if cur1:\n",
    "                cur1 = cur1.next\n",
    "            if cur2:\n",
    "                cur2 = cur2.next\n",
    "                \n",
    "        return dummy.next"
   ]
  },
  {
   "cell_type": "code",
   "execution_count": 89,
   "id": "8cb3d04a-2f1c-4de9-9d0c-afb66a96a071",
   "metadata": {},
   "outputs": [],
   "source": [
    "soln = Solution()\n",
    "ans = soln.addTwoNumbers(l1_3,l2_3)"
   ]
  },
  {
   "cell_type": "code",
   "execution_count": 90,
   "id": "c7696e32-1d00-46ce-a01f-835083ccb7fd",
   "metadata": {},
   "outputs": [],
   "source": [
    "ans.next.next.next.next.next.next.next.next"
   ]
  },
  {
   "cell_type": "code",
   "execution_count": 46,
   "id": "fe38edf8-8250-4e96-92b0-500db215ff85",
   "metadata": {},
   "outputs": [
    {
     "data": {
      "text/plain": [
       "7"
      ]
     },
     "execution_count": 46,
     "metadata": {},
     "output_type": "execute_result"
    }
   ],
   "source": [
    "(7%10)+0"
   ]
  },
  {
   "cell_type": "markdown",
   "id": "8d40da2e-6e03-426f-b46f-a7d749305d1b",
   "metadata": {},
   "source": [
    "## 141. Linked List Cycle\n",
    "\n",
    "leetcode: https://leetcode.com/problems/linked-list-cycle/"
   ]
  },
  {
   "cell_type": "markdown",
   "id": "63cc7c6f-cb2f-41c1-a60f-034e60909d93",
   "metadata": {},
   "source": [
    "Given `head`, the head of a linked list, determine if the linked list has a cycle in it.\n",
    "\n",
    "There is a cycle in a linked list if there is some node in the list that can be reached again by continuously following the `next` pointer. Internally, `pos` is used to denote the index of the node that tail's `next` pointer is connected to. **Note that `pos` is not passed as a parameter.**\n",
    "\n",
    "Return `true` if there **is a cycle in the linked list**. Otherwise, return `false`.\n",
    "\n",
    " \n",
    "\n",
    "**Example 1:**\n",
    "\n",
    "![https://assets.leetcode.com/uploads/2018/12/07/circularlinkedlist.png](https://assets.leetcode.com/uploads/2018/12/07/circularlinkedlist.png)\n",
    "```\n",
    "Input: head = [3,2,0,-4], pos = 1\n",
    "Output: true\n",
    "Explanation: There is a cycle in the linked list, where the tail connects to the 1st node (0-indexed).\n",
    "```\n",
    "**Example 2:**\n",
    "\n",
    "![https://assets.leetcode.com/uploads/2018/12/07/circularlinkedlist_test2.png](https://assets.leetcode.com/uploads/2018/12/07/circularlinkedlist_test2.png)\n",
    "```\n",
    "Input: head = [1,2], pos = 0\n",
    "Output: true\n",
    "Explanation: There is a cycle in the linked list, where the tail connects to the 0th node.\n",
    "```\n",
    "**Example 3:**\n",
    "\n",
    "![https://assets.leetcode.com/uploads/2018/12/07/circularlinkedlist_test3.png](https://assets.leetcode.com/uploads/2018/12/07/circularlinkedlist_test3.png)\n",
    "```\n",
    "Input: head = [1], pos = -1\n",
    "Output: false\n",
    "Explanation: There is no cycle in the linked list.\n",
    "``` \n",
    "\n",
    "**Constraints:**\n",
    "\n",
    "* The number of the nodes in the list is in the range `[0, 10^4]`.\n",
    "* `-10^5 <= Node.val <= 10^5`\n",
    "* `pos` is `-1` or a **valid index** in the linked-list.\n",
    " \n",
    "\n",
    "**Follow up:** Can you solve it using `O(1)` (i.e. constant) memory?"
   ]
  },
  {
   "cell_type": "code",
   "execution_count": 38,
   "id": "202a7f16-f639-4a79-834a-d607df0302a0",
   "metadata": {},
   "outputs": [],
   "source": [
    "class ListNode:\n",
    "    def __init__(self, val=0, next=None):\n",
    "        self.val = val\n",
    "        self.next = next\n",
    "\n",
    "def makeListCycle(nodevals,pos):\n",
    "    prev = None\n",
    "    first = True\n",
    "    for nodeval in nodevals[::-1]:\n",
    "        node = ListNode(nodeval)\n",
    "        if first:\n",
    "            end = node\n",
    "            first = False\n",
    "            \n",
    "        node.next = prev\n",
    "        prev = node\n",
    "    \n",
    "    # add cycle\n",
    "    cur = node\n",
    "    while cur and pos >= 0:\n",
    "        if pos == 0:\n",
    "            end.next = cur\n",
    "\n",
    "        pos -= 1\n",
    "        cur = cur.next\n",
    "        \n",
    "    return node\n",
    "\n",
    "pos1 = 1\n",
    "head1 = makeListCycle([3,2,0,-4],pos1)\n",
    "\n",
    "pos2 = 0\n",
    "head2 = makeListCycle([1,2],pos2)\n",
    "\n",
    "pos3 = -1\n",
    "head3 = makeListCycle([1],pos3)\n",
    "\n",
    "pos4 = -1\n",
    "head4 = makeListCycle([1,2],pos4)"
   ]
  },
  {
   "cell_type": "code",
   "execution_count": 44,
   "id": "5f0a68df-3063-4b88-997d-ea151ddc80fe",
   "metadata": {},
   "outputs": [],
   "source": [
    "# idea: use slow + fast pointer, cycle detected if they land on the same node\n",
    "\n",
    "from typing import List, Optional\n",
    "\n",
    "# Definition for singly-linked list.\n",
    "# class ListNode:\n",
    "#     def __init__(self, x):\n",
    "#         self.val = x\n",
    "#         self.next = None\n",
    "\n",
    "class Solution:\n",
    "    def hasCycle(self, head: Optional[ListNode]) -> bool:\n",
    "        slow, fast = head, head\n",
    "        while fast and fast.next:\n",
    "            slow = slow.next\n",
    "            fast = fast.next.next\n",
    "            if slow == fast:\n",
    "                return True\n",
    "                \n",
    "        return False        "
   ]
  },
  {
   "cell_type": "code",
   "execution_count": 45,
   "id": "a8ae5823-528e-4496-91de-8bb90c6cc5ee",
   "metadata": {},
   "outputs": [
    {
     "data": {
      "text/plain": [
       "False"
      ]
     },
     "execution_count": 45,
     "metadata": {},
     "output_type": "execute_result"
    }
   ],
   "source": [
    "soln = Solution()\n",
    "soln.hasCycle(head4)"
   ]
  },
  {
   "cell_type": "markdown",
   "id": "862414e3-d61d-49a0-926a-5187049e7f8e",
   "metadata": {},
   "source": [
    "## 287. Find the Duplicate Number\n",
    "\n",
    "leetcode: https://leetcode.com/problems/find-the-duplicate-number/"
   ]
  },
  {
   "cell_type": "markdown",
   "id": "71f056e1-52a4-46e0-bbf8-a7b8bfd5bccc",
   "metadata": {},
   "source": [
    "Given an array of integers `nums` containing `n + 1` integers where each integer is in the range `[1, n]` inclusive.\n",
    "\n",
    "There is only **one repeated number** in `nums`, return **this repeated number**.\n",
    "\n",
    "You must solve the problem **without** modifying the array `nums` and uses only constant extra space.\n",
    "\n",
    " \n",
    "\n",
    "**Example 1:**\n",
    "```\n",
    "Input: nums = [1,3,4,2,2]\n",
    "Output: 2\n",
    "```\n",
    "**Example 2:**\n",
    "```\n",
    "Input: nums = [3,1,3,4,2]\n",
    "Output: 3\n",
    "``` \n",
    "\n",
    "**Constraints:**\n",
    "\n",
    "* `1 <= n <= 10^5`\n",
    "* `nums.length == n + 1`\n",
    "* `1 <= nums[i] <= n`\n",
    "* All the integers in `nums` appear only **once** except for **precisely one integer** which appears **two or more** times.\n",
    " \n",
    "\n",
    "**Follow up:**\n",
    "\n",
    "* How can we prove that at least one duplicate number must exist in `nums`?\n",
    "* Can you solve the problem in linear runtime complexity?"
   ]
  },
  {
   "cell_type": "code",
   "execution_count": 18,
   "id": "0f54cf67-b853-4668-941f-d595015169f3",
   "metadata": {},
   "outputs": [],
   "source": [
    "nums1 = [1,3,4,2,2]\n",
    "nums2 = [3,1,3,4,2]\n",
    "nums3 = [1,3,2,2,2]"
   ]
  },
  {
   "cell_type": "code",
   "execution_count": 15,
   "id": "b0f5cc5a-76be-4a06-91f0-97e7667e352f",
   "metadata": {},
   "outputs": [],
   "source": [
    "# idea: if interpret each element value as a pointer to another index position in the nums array, this will create a cycle when you traverse the array this way\n",
    "# use floyd's cycle detection algorithm to detech the beginning of the cycle, which will be the repeated element (because multiple elements point to the same index)\n",
    "\n",
    "from typing import List\n",
    "\n",
    "class Solution:\n",
    "    def findDuplicate(self, nums: List[int]) -> int:\n",
    "        # use slow, fast pointers to find first intersection\n",
    "        slow, fast = nums[0], nums[0]\n",
    "        slow = nums[slow]\n",
    "        fast = nums[nums[fast]]\n",
    "        while slow != fast:\n",
    "            slow = nums[slow]\n",
    "            fast = nums[nums[fast]]\n",
    "\n",
    "        slow2 = nums[0]\n",
    "        while slow2 != slow:\n",
    "            slow = nums[slow]\n",
    "            slow2 = nums[slow2]\n",
    "            \n",
    "        return slow"
   ]
  },
  {
   "cell_type": "code",
   "execution_count": 19,
   "id": "b130ec7c-4c55-461b-a287-d792bd2e43b9",
   "metadata": {},
   "outputs": [
    {
     "data": {
      "text/plain": [
       "2"
      ]
     },
     "execution_count": 19,
     "metadata": {},
     "output_type": "execute_result"
    }
   ],
   "source": [
    "soln = Solution()\n",
    "soln.findDuplicate(nums3)"
   ]
  },
  {
   "cell_type": "markdown",
   "id": "67b00c77-5417-45dc-93f7-99661da1d8d8",
   "metadata": {},
   "source": [
    "## 146. LRU Cache\n",
    "\n",
    "leetcode: https://leetcode.com/problems/lru-cache/"
   ]
  },
  {
   "cell_type": "markdown",
   "id": "08ce7f5e-98d3-4256-b028-9b6193beb24a",
   "metadata": {},
   "source": [
    "Design a data structure that follows the constraints of a [Least Recently Used (LRU) cache](https://en.wikipedia.org/wiki/Cache_replacement_policies#LRU).\n",
    "\n",
    "Implement the `LRUCache` class:\n",
    "\n",
    "* `LRUCache(int capacity)` Initialize the LRU cache with positive size `capacity`.\n",
    "* `int get(int key)` Return the value of the `key` if the `key` exists, otherwise return `-1`.\n",
    "* `void put(int key, int value)` Update the value of the `key` if the `key` exists. Otherwise, add the `key-value` pair to the cache. If the number of keys exceeds the `capacity` from this operation, evict the least recently used key.\n",
    "* The functions `get` and `put` must each run in `O(1)` average time complexity.\n",
    "\n",
    " \n",
    "\n",
    "**Example 1:**\n",
    "```\n",
    "Input\n",
    "[\"LRUCache\", \"put\", \"put\", \"get\", \"put\", \"get\", \"put\", \"get\", \"get\", \"get\"]\n",
    "[[2], [1, 1], [2, 2], [1], [3, 3], [2], [4, 4], [1], [3], [4]]\n",
    "Output\n",
    "[null, null, null, 1, null, -1, null, -1, 3, 4]\n",
    "\n",
    "Explanation\n",
    "LRUCache lRUCache = new LRUCache(2);\n",
    "lRUCache.put(1, 1); // cache is {1=1}\n",
    "lRUCache.put(2, 2); // cache is {1=1, 2=2}\n",
    "lRUCache.get(1);    // return 1\n",
    "lRUCache.put(3, 3); // LRU key was 2, evicts key 2, cache is {1=1, 3=3}\n",
    "lRUCache.get(2);    // returns -1 (not found)\n",
    "lRUCache.put(4, 4); // LRU key was 1, evicts key 1, cache is {4=4, 3=3}\n",
    "lRUCache.get(1);    // return -1 (not found)\n",
    "lRUCache.get(3);    // return 3\n",
    "lRUCache.get(4);    // return 4\n",
    "```\n",
    "\n",
    "**Constraints:**\n",
    "\n",
    "* `1 <= capacity <= 3000`\n",
    "* `0 <= key <= 10^4`\n",
    "* `0 <= value <= 10^5`\n",
    "* At most `2 * 10^5` calls will be made to `get` and `put`."
   ]
  },
  {
   "cell_type": "code",
   "execution_count": null,
   "id": "bc181cfe-6030-4e0f-a81f-1fb9d2cad5e8",
   "metadata": {},
   "outputs": [],
   "source": [
    "input1 = [\"LRUCache\", \"put\", \"put\", \"get\", \"put\", \"get\", \"put\", \"get\", \"get\", \"get\"]\n",
    "values1 = [[2], [1, 1], [2, 2], [1], [3, 3], [2], [4, 4], [1], [3], [4]]\n",
    "\n",
    "input2 = [\"LRUCache\",\"get\",\"put\",\"get\",\"put\",\"put\",\"get\",\"get\"]\n",
    "values2 = [[2],[2],[2,6],[1],[1,5],[1,2],[1],[2]]\n",
    "\n",
    "input3 = [\"LRUCache\",\"put\",\"put\",\"put\",\"put\",\"get\",\"get\",\"get\",\"get\",\"put\",\"get\",\"get\",\"get\",\"get\",\"get\"]\n",
    "values3 = [[3],[1,1],[2,2],[3,3],[4,4],[4],[3],[2],[1],[5,5],[1],[2],[3],[4],[5]]"
   ]
  },
  {
   "cell_type": "code",
   "execution_count": 236,
   "id": "9f328ce7-7aca-45fd-b35f-a899d1171e19",
   "metadata": {},
   "outputs": [],
   "source": [
    "# idea: hashmap to store key-value pairs, doubly linked list to maintain ordering\n",
    "class ListNode:\n",
    "    def __init__(self, val=0, key=None, next=None, prev=None):\n",
    "        self.val = val\n",
    "        self.key = key\n",
    "        self.next = next\n",
    "        self.prev = prev\n",
    "\n",
    "class LRUCache:\n",
    "\n",
    "    def __init__(self, capacity: int):\n",
    "        self.items = {}\n",
    "        self.capacity = capacity\n",
    "        # create initial list\n",
    "        self.left = ListNode(-1)\n",
    "        self.right = ListNode(-1)\n",
    "        # connect nodes\n",
    "        self.right.prev = self.left\n",
    "        self.left.next = self.right\n",
    "\n",
    "    def get(self, key: int) -> int:\n",
    "        if key in self.items:\n",
    "            valnode = self.items[key]\n",
    "            val = valnode.val\n",
    "            # update cache ordering\n",
    "            # remove from old position\n",
    "            if valnode.prev:\n",
    "                valnode.prev.next = valnode.next\n",
    "            if valnode.next:\n",
    "                valnode.next.prev = valnode.prev\n",
    "    \n",
    "            # add to end of list\n",
    "            valnode.next = self.right\n",
    "            valnode.prev = self.right.prev\n",
    "            self.right.prev = valnode\n",
    "            valnode.prev.next = valnode\n",
    "        else:\n",
    "            val = -1\n",
    "            \n",
    "        return val\n",
    "\n",
    "    def put(self, key: int, value: int) -> None:\n",
    "        # update value\n",
    "        if key in self.items:\n",
    "            valnode = self.items[key]\n",
    "            valnode.val = value\n",
    "        # else add new value\n",
    "        else:\n",
    "            valnode = ListNode(value,key)\n",
    "            self.items[key] = valnode\n",
    "            # check capacity\n",
    "            if self.capacity > 0:\n",
    "                self.capacity -= 1     \n",
    "            else:\n",
    "                # evict LRU item\n",
    "                nodetoremove = self.left.next\n",
    "                self.items.pop(nodetoremove.key, None)   \n",
    "                self.left.next = nodetoremove.next\n",
    "                nodetoremove.next.prev = self.left\n",
    "                \n",
    "            \n",
    "        # remove from old position\n",
    "        if valnode.prev:\n",
    "            valnode.prev.next = valnode.next\n",
    "        if valnode.next:\n",
    "            valnode.next.prev = valnode.prev\n",
    "\n",
    "        # add to end of list\n",
    "        valnode.next = self.right\n",
    "        valnode.prev = self.right.prev\n",
    "        self.right.prev = valnode\n",
    "        valnode.prev.next = valnode\n",
    "            \n",
    "        \n",
    "\n",
    "# Your LRUCache object will be instantiated and called as such:\n",
    "# obj = LRUCache(capacity)\n",
    "# param_1 = obj.get(key)\n",
    "# obj.put(key,value)"
   ]
  },
  {
   "cell_type": "code",
   "execution_count": 78,
   "id": "0b78e6b0-3ce4-45b4-b0b4-aa234a8bdcda",
   "metadata": {},
   "outputs": [],
   "source": [
    "# input1\n",
    "lRUCache = LRUCache(2)\n",
    "lRUCache.put(1, 1); ## cache is {1=1}\n",
    "lRUCache.put(2, 2); ## cache is {1=1, 2=2}\n",
    "lRUCache.get(1);    ## return 1\n",
    "lRUCache.put(3, 3); ## LRU key was 2, evicts key 2, cache is {1=1, 3=3}\n",
    "lRUCache.get(2);    ## returns -1 (not found)\n",
    "lRUCache.put(4, 4); ## LRU key was 1, evicts key 1, cache is {4=4, 3=3}\n",
    "lRUCache.get(1);    ## return -1 (not found)\n",
    "lRUCache.get(3);    ## return 3\n",
    "lRUCache.get(4);    ## return 4"
   ]
  },
  {
   "cell_type": "code",
   "execution_count": 81,
   "id": "f22ea8d7-56f4-4efb-b429-addcea5114ea",
   "metadata": {},
   "outputs": [
    {
     "data": {
      "text/plain": [
       "{3: <__main__.ListNode at 0x106900e50>, 4: <__main__.ListNode at 0x106900f40>}"
      ]
     },
     "execution_count": 81,
     "metadata": {},
     "output_type": "execute_result"
    }
   ],
   "source": [
    "lRUCache.items"
   ]
  },
  {
   "cell_type": "code",
   "execution_count": 68,
   "id": "28cb80b0-82bb-4b49-beb3-9563ede5a0cd",
   "metadata": {},
   "outputs": [],
   "source": [
    "lRUCache = LRUCache(2)\n",
    "lRUCache.put(1, 5); ## cache is {1=1}\n",
    "lRUCache.put(2, 2); ## cache is {1=1, 2=2}\n",
    "lRUCache.get(1)\n",
    "lRUCache.put(3, 3); ## LRU key was 2, evicts key 2, cache is {1=1, 3=3}\n",
    "lRUCache.get(2)\n",
    "lRUCache.put(4, 4); ## LRU key was 1, evicts key 1, cache is {4=4, 3=3}\n",
    "# lRUCache.get(1)"
   ]
  },
  {
   "cell_type": "code",
   "execution_count": 75,
   "id": "0c55db48-dc44-43e8-909e-d7a6f63b1f28",
   "metadata": {},
   "outputs": [
    {
     "data": {
      "text/plain": [
       "{3: <__main__.ListNode at 0x1066bcc10>, 4: <__main__.ListNode at 0x1066bcdf0>}"
      ]
     },
     "execution_count": 75,
     "metadata": {},
     "output_type": "execute_result"
    }
   ],
   "source": [
    "# check LRU\n",
    "lRUCache.items"
   ]
  },
  {
   "cell_type": "code",
   "execution_count": 118,
   "id": "218212d0-c5a9-4427-810a-4e6458a3800d",
   "metadata": {},
   "outputs": [
    {
     "ename": "AttributeError",
     "evalue": "'NoneType' object has no attribute 'next'",
     "output_type": "error",
     "traceback": [
      "\u001b[0;31m---------------------------------------------------------------------------\u001b[0m",
      "\u001b[0;31mAttributeError\u001b[0m                            Traceback (most recent call last)",
      "Cell \u001b[0;32mIn[118], line 2\u001b[0m\n\u001b[1;32m      1\u001b[0m \u001b[38;5;66;03m# check MRU\u001b[39;00m\n\u001b[0;32m----> 2\u001b[0m \u001b[43mlRUCache\u001b[49m\u001b[38;5;241;43m.\u001b[39;49m\u001b[43mleft\u001b[49m\u001b[38;5;241;43m.\u001b[39;49m\u001b[43mnext\u001b[49m\u001b[38;5;241;43m.\u001b[39;49m\u001b[43mnext\u001b[49m\u001b[38;5;241;43m.\u001b[39;49m\u001b[43mnext\u001b[49m\n",
      "\u001b[0;31mAttributeError\u001b[0m: 'NoneType' object has no attribute 'next'"
     ]
    }
   ],
   "source": [
    "# check MRU\n",
    "lRUCache.left.next.key"
   ]
  },
  {
   "cell_type": "code",
   "execution_count": 119,
   "id": "caa168a4-46f3-467b-9bed-09e03cc84700",
   "metadata": {},
   "outputs": [
    {
     "data": {
      "text/plain": [
       "6"
      ]
     },
     "execution_count": 119,
     "metadata": {},
     "output_type": "execute_result"
    }
   ],
   "source": [
    "# input2\n",
    "# [\"LRUCache\",\"get\",\"put\",\"get\",\"put\",\"put\",\"get\",\"get\"]\n",
    "# [[2],[2],[2,6],[1],[1,5],[1,2],[1],[2]]\n",
    "\n",
    "lRUCache = LRUCache(2)\n",
    "lRUCache.get(2);    ## return -1\n",
    "lRUCache.put(2, 6); ## cache is {2=6}\n",
    "lRUCache.get(1);    ## return -1\n",
    "lRUCache.put(1, 5); ## cache is {2=6, 1=5}\n",
    "lRUCache.put(1, 2); ## cache is {2=6, 1=2}\n",
    "lRUCache.get(1);    ## returns 2\n",
    "lRUCache.get(2)     ## returns 6\n"
   ]
  },
  {
   "cell_type": "code",
   "execution_count": 83,
   "id": "0e0123e8-a110-4f22-8558-c3190e0006dd",
   "metadata": {},
   "outputs": [
    {
     "data": {
      "text/plain": [
       "{2: <__main__.ListNode at 0x1067ebee0>, 1: <__main__.ListNode at 0x1068ee3a0>}"
      ]
     },
     "execution_count": 83,
     "metadata": {},
     "output_type": "execute_result"
    }
   ],
   "source": [
    "lRUCache.items"
   ]
  },
  {
   "cell_type": "code",
   "execution_count": 237,
   "id": "51234e66-ca3e-466a-b986-d278d057b290",
   "metadata": {},
   "outputs": [],
   "source": [
    "# input 3\n",
    "# [\"LRUCache\",\"put\",\"put\",\"put\",\"put\",\"get\",\"get\",\"get\",\"get\",\"put\",\"get\",\"get\",\"get\",\"get\",\"get\"]\n",
    "#  [[3],[1,1],[2,2],[3,3],[4,4],[4],[3],[2],[1],[5,5],[1],[2],[3],[4],[5]]\n",
    "lRUCache = LRUCache(3)\n",
    "lRUCache.put(1, 1)\n",
    "lRUCache.put(2, 2)\n",
    "lRUCache.put(3, 3)\n",
    "lRUCache.put(4, 4)\n",
    "# lRUCache.get(4)\n",
    "# lRUCache.get(3)\n",
    "# lRUCache.get(2)\n",
    "# lRUCache.get(1)\n",
    "# lRUCache.put(5, 5)\n",
    "# lRUCache.get(1)\n",
    "# lRUCache.get(2)\n",
    "# lRUCache.get(3)\n",
    "\n",
    "\n",
    "# lRUCache.get(2);    ## return -1\n",
    "# lRUCache.put(2, 6); ## cache is {2=6}\n",
    "# lRUCache.get(1);    ## return -1\n",
    "# lRUCache.put(1, 2); ## cache is {2=6, 1=2}\n",
    "# lRUCache.get(1);    ## returns 2\n",
    "# lRUCache.get(2)     ## returns 6"
   ]
  },
  {
   "cell_type": "code",
   "execution_count": 238,
   "id": "ad38a7aa-fe1a-474e-aeba-43e89c4b7ee6",
   "metadata": {},
   "outputs": [
    {
     "data": {
      "text/plain": [
       "{2: <__main__.ListNode at 0x1066d9c70>,\n",
       " 3: <__main__.ListNode at 0x1066d9b80>,\n",
       " 4: <__main__.ListNode at 0x1066d9f70>}"
      ]
     },
     "execution_count": 238,
     "metadata": {},
     "output_type": "execute_result"
    }
   ],
   "source": [
    "lRUCache.items"
   ]
  },
  {
   "cell_type": "code",
   "execution_count": 227,
   "id": "480d975f-6539-4603-890e-9554ed81227c",
   "metadata": {},
   "outputs": [],
   "source": [
    "tmpvalnode = lRUCache.items[2]"
   ]
  },
  {
   "cell_type": "code",
   "execution_count": 218,
   "id": "c9a9bb29-a05d-4256-a932-30defbd35664",
   "metadata": {},
   "outputs": [],
   "source": [
    "tmpvalnode.prev.next = tmpvalnode.next\n",
    "tmpvalnode.next.prev = tmpvalnode.prev\n",
    "\n",
    "# tmpvalnode.next = lRUCache.right\n",
    "# tmpvalnode.prev = lRUCache.right.prev\n",
    "# lRUCache.right.prev = tmpvalnode\n",
    "# tmpvalnode.prev.next = tmpvalnode"
   ]
  },
  {
   "cell_type": "code",
   "execution_count": 228,
   "id": "f9d3d33c-3e69-4137-8f9b-f817687f0a59",
   "metadata": {},
   "outputs": [
    {
     "data": {
      "text/plain": [
       "1"
      ]
     },
     "execution_count": 228,
     "metadata": {},
     "output_type": "execute_result"
    }
   ],
   "source": [
    "tmpvalnode.prev.key"
   ]
  },
  {
   "cell_type": "code",
   "execution_count": 245,
   "id": "6dca60e6-3a9b-4fd7-ba82-f1b031bedbcc",
   "metadata": {},
   "outputs": [
    {
     "data": {
      "text/plain": [
       "4"
      ]
     },
     "execution_count": 245,
     "metadata": {},
     "output_type": "execute_result"
    }
   ],
   "source": [
    "lRUCache.right.prev.key"
   ]
  },
  {
   "cell_type": "code",
   "execution_count": 250,
   "id": "2e4bfd72-8c7c-411d-8cf9-f64ba43796c3",
   "metadata": {},
   "outputs": [
    {
     "data": {
      "text/plain": [
       "3"
      ]
     },
     "execution_count": 250,
     "metadata": {},
     "output_type": "execute_result"
    }
   ],
   "source": [
    "lRUCache.left.next.next.next.prev.key"
   ]
  },
  {
   "cell_type": "code",
   "execution_count": 175,
   "id": "142ff360-187a-44bd-9945-12371885b53e",
   "metadata": {},
   "outputs": [
    {
     "data": {
      "text/plain": [
       "<__main__.ListNode at 0x10673d3a0>"
      ]
     },
     "execution_count": 175,
     "metadata": {},
     "output_type": "execute_result"
    }
   ],
   "source": [
    "tmpvalnode.next"
   ]
  },
  {
   "cell_type": "code",
   "execution_count": null,
   "id": "5d75cbea-36d0-4bff-bc6b-af71934cbc17",
   "metadata": {},
   "outputs": [],
   "source": []
  },
  {
   "cell_type": "markdown",
   "id": "6dfc9db9-3eb7-43c4-aa01-f339e7ee6243",
   "metadata": {},
   "source": [
    "## 23. Merge k Sorted Lists\n",
    "\n",
    "leetcode: https://leetcode.com/problems/merge-k-sorted-lists/"
   ]
  },
  {
   "cell_type": "markdown",
   "id": "60eedd0f-8036-4d6d-93ea-d34732735452",
   "metadata": {},
   "source": [
    "You are given an array of `k` linked-lists `lists`, each linked-list is sorted in ascending order.\n",
    "\n",
    "**Merge all the linked-lists into one sorted linked-list and return it.**\n",
    "\n",
    " \n",
    "\n",
    "**Example 1:**\n",
    "```\n",
    "Input: lists = [[1,4,5],[1,3,4],[2,6]]\n",
    "Output: [1,1,2,3,4,4,5,6]\n",
    "Explanation: The linked-lists are:\n",
    "[\n",
    "  1->4->5,\n",
    "  1->3->4,\n",
    "  2->6\n",
    "]\n",
    "merging them into one sorted list:\n",
    "1->1->2->3->4->4->5->6\n",
    "```\n",
    "**Example 2:**\n",
    "```\n",
    "Input: lists = []\n",
    "Output: []\n",
    "Example 3:\n",
    "\n",
    "Input: lists = [[]]\n",
    "Output: []\n",
    "```\n",
    "\n",
    "**Constraints:**\n",
    "\n",
    "* `k == lists.length`\n",
    "* `0 <= k <= 10^4`\n",
    "* `0 <= lists[i].length <= 500`\n",
    "* `-10^4 <= lists[i][j] <= 10^4`\n",
    "* `lists[i]` is sorted in **ascending order**.\n",
    "* The sum of `lists[i].length` will not exceed `10^4`."
   ]
  },
  {
   "cell_type": "code",
   "execution_count": 116,
   "id": "396b4bfd-d54f-4875-aaac-3e8d1c1576c9",
   "metadata": {},
   "outputs": [],
   "source": [
    "class ListNode:\n",
    "    def __init__(self, val=0, next=None):\n",
    "        self.val = val\n",
    "        self.next = next\n",
    "\n",
    "def makeList(nodevals):\n",
    "    prev = None\n",
    "    node = None\n",
    "    for nodeval in nodevals[::-1]:\n",
    "        node = ListNode(nodeval)\n",
    "        node.next = prev\n",
    "        prev = node\n",
    "        \n",
    "    return node\n",
    "\n",
    "lists1 = [makeList([1,4,5]),makeList([1,3,4]),makeList([2,6])]\n",
    "lists2 = []\n",
    "lists3 = [makeList([])]"
   ]
  },
  {
   "cell_type": "code",
   "execution_count": 117,
   "id": "99bdc87b-a317-4f0e-94c3-fa38eed0a0aa",
   "metadata": {},
   "outputs": [],
   "source": [
    "# idea: create a min heap out of the head of each list, then repeatedly pop min node and add to new list while adding min_node.next to heap\n",
    "from typing import List, Optional\n",
    "import heapq\n",
    "\n",
    "# Definition for singly-linked list.\n",
    "# class ListNode:\n",
    "#     def __init__(self, val=0, next=None):\n",
    "#         self.val = val\n",
    "#         self.next = next\n",
    "class Solution:\n",
    "    def mergeKLists(self, lists: List[Optional[ListNode]]) -> Optional[ListNode]:\n",
    "        heap = []\n",
    "        count = 0\n",
    "        for head in lists:\n",
    "            if head:\n",
    "                heapitem = (head.val, count, head)\n",
    "                heap.append(heapitem)\n",
    "                count += 1\n",
    "\n",
    "        heapq.heapify(heap)\n",
    "\n",
    "        dummy = ListNode(-1)\n",
    "        cur = dummy\n",
    "        while (len(heap) > 0):\n",
    "            # get lowest node and add to output\n",
    "            heapitem = heapq.heappop(heap)\n",
    "            node = heapitem[2]\n",
    "            cur.next = node\n",
    "\n",
    "            # get next node from list and add to heap\n",
    "            nextnode = node.next\n",
    "            if (nextnode!=None):\n",
    "                heapitem = (nextnode.val, count, nextnode)\n",
    "                heapq.heappush(heap, heapitem)\n",
    "\n",
    "            # move pointers and increment count\n",
    "            cur = cur.next\n",
    "            count += 1\n",
    "        \n",
    "        return dummy.next"
   ]
  },
  {
   "cell_type": "code",
   "execution_count": 118,
   "id": "4054636e-9e87-4649-8245-db4f15384f9c",
   "metadata": {},
   "outputs": [],
   "source": [
    "# idea: repeatedly merge pairs of linked-lists in the lists of lists. This will be O(nlogk) time where k is the number of linked-lists\n",
    "\n",
    "# Definition for singly-linked list.\n",
    "# class ListNode:\n",
    "#     def __init__(self, val=0, next=None):\n",
    "#         self.val = val\n",
    "#         self.next = next\n",
    "class Solution:\n",
    "    def mergeKLists(self, lists: List[Optional[ListNode]]) -> Optional[ListNode]:\n",
    "        if not lists or len(lists) == 0:\n",
    "            return None\n",
    "            \n",
    "        while len(lists) > 1:\n",
    "            merged = []\n",
    "            for i in range(0, len(lists), 2):\n",
    "                l1 = lists[i]\n",
    "                l2 = lists[i+1] if (i+1)<len(lists) else None\n",
    "\n",
    "                merged.append(self.mergeLists(l1,l2))\n",
    "\n",
    "            lists = merged\n",
    "\n",
    "        return lists[0]\n",
    "        \n",
    "\n",
    "    def mergeLists(self, l1, l2):\n",
    "        dummy = ListNode(-1)\n",
    "        cur = dummy\n",
    "        while l1 and l2:\n",
    "            if l1.val < l2.val:\n",
    "                cur.next = l1\n",
    "                l1 = l1.next\n",
    "            else:\n",
    "                cur.next = l2\n",
    "                l2 = l2.next\n",
    "            cur = cur.next\n",
    "            \n",
    "        if l1:\n",
    "            cur.next = l1\n",
    "        if l2:\n",
    "            cur.next = l2\n",
    "        \n",
    "        return dummy.next"
   ]
  },
  {
   "cell_type": "code",
   "execution_count": 131,
   "id": "aa9e9800-b6de-429d-8dd6-fcb5644fed79",
   "metadata": {},
   "outputs": [],
   "source": [
    "soln = Solution()\n",
    "ans = soln.mergeKLists(lists3)"
   ]
  },
  {
   "cell_type": "code",
   "execution_count": 132,
   "id": "7e44fb3e-0808-4235-96b5-1f4df9cfd2b9",
   "metadata": {},
   "outputs": [],
   "source": [
    "ans"
   ]
  },
  {
   "cell_type": "code",
   "execution_count": 43,
   "id": "b2ea8d22-6f30-4870-948c-28a56c7e1f5a",
   "metadata": {},
   "outputs": [
    {
     "data": {
      "text/plain": [
       "(2, 2, <__main__.ListNode at 0x1035c1a00>)"
      ]
     },
     "execution_count": 43,
     "metadata": {},
     "output_type": "execute_result"
    }
   ],
   "source": [
    "heapq.heappop(test)"
   ]
  },
  {
   "cell_type": "code",
   "execution_count": null,
   "id": "07f14ae8-1de6-45fe-8499-8ff5c43cd0e1",
   "metadata": {},
   "outputs": [],
   "source": []
  },
  {
   "cell_type": "markdown",
   "id": "2c57f8b3-74b8-4793-92ad-fd96f39d7088",
   "metadata": {},
   "source": [
    "## 25. Reverse Nodes in k-Group\n",
    "\n",
    "leetcode: https://leetcode.com/problems/reverse-nodes-in-k-group/"
   ]
  },
  {
   "cell_type": "markdown",
   "id": "68ae0a11-b2fc-4dca-929a-9e0d5495f2f4",
   "metadata": {},
   "source": [
    "Given the `head` of a linked list, reverse the nodes of the list `k` at a time, and return the **modified list**.\n",
    "\n",
    "`k` is a positive integer and is less than or equal to the length of the linked list. If the number of nodes is not a multiple of `k` then left-out nodes, in the end, should remain as it is.\n",
    "\n",
    "You may not alter the values in the list's nodes, only nodes themselves may be changed.\n",
    "\n",
    " \n",
    "\n",
    "**Example 1:**\n",
    "\n",
    "![https://assets.leetcode.com/uploads/2020/10/03/reverse_ex1.jpg](https://assets.leetcode.com/uploads/2020/10/03/reverse_ex1.jpg)\n",
    "```\n",
    "Input: head = [1,2,3,4,5], k = 2\n",
    "Output: [2,1,4,3,5]\n",
    "```\n",
    "**Example 2:**\n",
    "\n",
    "![https://assets.leetcode.com/uploads/2020/10/03/reverse_ex2.jpg](https://assets.leetcode.com/uploads/2020/10/03/reverse_ex2.jpg)\n",
    "```\n",
    "Input: head = [1,2,3,4,5], k = 3\n",
    "Output: [3,2,1,4,5]\n",
    "```\n",
    "\n",
    "**Constraints:**\n",
    "\n",
    "* The number of nodes in the list is `n`.\n",
    "* `1 <= k <= n <= 5000`\n",
    "* `0 <= Node.val <= 1000`\n",
    " \n",
    "\n",
    "**Follow-up:** Can you solve the problem in `O(1)` extra memory space?"
   ]
  },
  {
   "cell_type": "code",
   "execution_count": 126,
   "id": "dfcf9ec6-061a-422a-8330-a0d80ccbd8f9",
   "metadata": {},
   "outputs": [],
   "source": [
    "class ListNode:\n",
    "    def __init__(self, val=0, next=None):\n",
    "        self.val = val\n",
    "        self.next = next\n",
    "\n",
    "def makeList(nodevals):\n",
    "    prev = None\n",
    "    node = None\n",
    "    for nodeval in nodevals[::-1]:\n",
    "        node = ListNode(nodeval)\n",
    "        node.next = prev\n",
    "        prev = node\n",
    "        \n",
    "    return node\n",
    "\n",
    "head1 = makeList([1,2,3,4,5])\n",
    "k1 = 2\n",
    "head2 = makeList([1,2,3,4,5])\n",
    "k2 = 3"
   ]
  },
  {
   "cell_type": "code",
   "execution_count": 127,
   "id": "2d294caa-6eb4-4340-8f24-8f0012be7fa7",
   "metadata": {},
   "outputs": [],
   "source": [
    "from typing import List, Optional\n",
    "\n",
    "# Definition for singly-linked list.\n",
    "# class ListNode:\n",
    "#     def __init__(self, val=0, next=None):\n",
    "#         self.val = val\n",
    "#         self.next = next\n",
    "class Solution:\n",
    "    def reverseKGroup(self, head: Optional[ListNode], k: int) -> Optional[ListNode]:\n",
    "        dummy = ListNode(-1)\n",
    "        dummy.next = head\n",
    "        prevgroup = dummy\n",
    "        first = True\n",
    "\n",
    "        while True:\n",
    "            # get last node of group and first node of next group\n",
    "            kth = self.getKthNode(prevgroup, k)\n",
    "            if not kth:\n",
    "                break\n",
    "                # pass\n",
    "            nextgroup = kth.next\n",
    "    \n",
    "            \n",
    "            # reverse k nodes\n",
    "            cur = prevgroup.next\n",
    "            prev = nextgroup\n",
    "            while cur and cur != nextgroup:\n",
    "                nextnode = cur.next\n",
    "                cur.next = prev\n",
    "                prev = cur\n",
    "                cur = nextnode\n",
    "\n",
    "            tmp = prevgroup.next # store last node in newly reversed group\n",
    "            prevgroup.next = kth # set last node of prevgroup to point to first node of newly reversed group\n",
    "            prevgroup = tmp # set prevgroup to end of newly reversed group\n",
    "            if first:\n",
    "                dummy.next = prev\n",
    "                first = False\n",
    "        \n",
    "        return dummy.next\n",
    "\n",
    "    def getKthNode(self,  node: Optional[ListNode], k: int) -> Optional[ListNode]:\n",
    "        count = 0\n",
    "        cur = node\n",
    "        while count < k and cur:\n",
    "            cur = cur.next\n",
    "            count += 1\n",
    "            \n",
    "        return cur"
   ]
  },
  {
   "cell_type": "code",
   "execution_count": 128,
   "id": "00c4fa82-ae08-4da5-a404-fe4c3a45cd9a",
   "metadata": {},
   "outputs": [],
   "source": [
    "soln = Solution()\n",
    "test = soln.reverseKGroup(head2,k2)"
   ]
  },
  {
   "cell_type": "code",
   "execution_count": 124,
   "id": "4f0b1f5a-ff7c-4f2b-990b-06985122654e",
   "metadata": {},
   "outputs": [],
   "source": [
    "test.next.next.next.next.next#.val"
   ]
  },
  {
   "cell_type": "markdown",
   "id": "d394e214-e2b0-484c-8a10-baf95039f94f",
   "metadata": {},
   "source": [
    "# Trees"
   ]
  },
  {
   "cell_type": "markdown",
   "id": "5ec2a86a-0443-4be8-ac62-6e0a46537ce7",
   "metadata": {},
   "source": [
    "## 226. Invert Binary Tree\n",
    "\n",
    "leetcode: https://leetcode.com/problems/invert-binary-tree/"
   ]
  },
  {
   "cell_type": "markdown",
   "id": "1ddd7398-1cf2-459c-a705-ca07d61e8b2b",
   "metadata": {},
   "source": [
    "Given the `root` of a binary tree, invert the tree, and return its `root`.\n",
    "\n",
    " \n",
    "\n",
    "**Example 1:**\n",
    "\n",
    "![https://assets.leetcode.com/uploads/2021/03/14/invert1-tree.jpg](https://assets.leetcode.com/uploads/2021/03/14/invert1-tree.jpg)\n",
    "```\n",
    "Input: root = [4,2,7,1,3,6,9]\n",
    "Output: [4,7,2,9,6,3,1]\n",
    "```\n",
    "**Example 2:**\n",
    "\n",
    "![https://assets.leetcode.com/uploads/2021/03/14/invert2-tree.jpg](https://assets.leetcode.com/uploads/2021/03/14/invert2-tree.jpg)\n",
    "```\n",
    "Input: root = [2,1,3]\n",
    "Output: [2,3,1]\n",
    "```\n",
    "**Example 3:**\n",
    "```\n",
    "Input: root = []\n",
    "Output: []\n",
    "```\n",
    "\n",
    "**Constraints:**\n",
    "\n",
    "* The number of nodes in the tree is in the range `[0, 100]`.\n",
    "* `-100 <= Node.val <= 100`"
   ]
  },
  {
   "cell_type": "code",
   "execution_count": 30,
   "id": "0dcd8c59-0ed1-49ab-8f9c-761582c4a28e",
   "metadata": {},
   "outputs": [],
   "source": [
    "class TreeNode:\n",
    "    def __init__(self, val=0, left=None, right=None):\n",
    "        self.val = val\n",
    "        self.left = left\n",
    "        self.right = right\n",
    "\n",
    "def makeTree(nodes, i):\n",
    "    if i < len(nodes):\n",
    "        node = TreeNode(nodes[i])\n",
    "        node.left = makeTree(nodes, 2*i+1)\n",
    "        node.right = makeTree(nodes, 2*i+2)\n",
    "    else:\n",
    "        node = None\n",
    "    \n",
    "    return node\n",
    "\n",
    "root1 = makeTree([4,2,7,1,3,6,9],0)\n",
    "root2 = makeTree([2,1,3],0)\n",
    "root3 = makeTree([],0)"
   ]
  },
  {
   "cell_type": "code",
   "execution_count": 28,
   "id": "157a6c0a-8583-4eae-a9c6-5b57d836c317",
   "metadata": {},
   "outputs": [],
   "source": [
    "from typing import List, Optional\n",
    "# Definition for a binary tree node.\n",
    "# class TreeNode:\n",
    "#     def __init__(self, val=0, left=None, right=None):\n",
    "#         self.val = val\n",
    "#         self.left = left\n",
    "#         self.right = right\n",
    "class Solution:\n",
    "    def invertTree(self, root: Optional[TreeNode]) -> Optional[TreeNode]:\n",
    "        if root:\n",
    "            root.left, root.right = self.invertTree(root.right), self.invertTree(root.left)\n",
    "            \n",
    "        return root"
   ]
  },
  {
   "cell_type": "code",
   "execution_count": 31,
   "id": "d06e0b9a-03cc-4369-838f-c1d842bb62ba",
   "metadata": {},
   "outputs": [],
   "source": [
    "from typing import List, Optional\n",
    "# Definition for a binary tree node.\n",
    "# class TreeNode:\n",
    "#     def __init__(self, val=0, left=None, right=None):\n",
    "#         self.val = val\n",
    "#         self.left = left\n",
    "#         self.right = right\n",
    "class Solution:\n",
    "    def invertTree(self, root: Optional[TreeNode]) -> Optional[TreeNode]:\n",
    "        if root is None:\n",
    "            return None\n",
    "\n",
    "        # invert current children\n",
    "        root.left, root.right = root.right, root.left\n",
    "        # inverte subtrees\n",
    "        root.left = self.invertTree(root.left)\n",
    "        root.right = self.invertTree(root.right)\n",
    "        \n",
    "        return root"
   ]
  },
  {
   "cell_type": "code",
   "execution_count": 39,
   "id": "f5eaec6e-a509-4551-bb4c-1c3fd0c4145a",
   "metadata": {},
   "outputs": [],
   "source": [
    "soln = Solution()\n",
    "ans = soln.invertTree(root3)"
   ]
  },
  {
   "cell_type": "code",
   "execution_count": 40,
   "id": "c433be2e-8591-4b02-9126-2e7ed1d5d727",
   "metadata": {},
   "outputs": [],
   "source": [
    "ans"
   ]
  },
  {
   "cell_type": "markdown",
   "id": "0c38ea35-e0af-4160-86a9-6469898e73e4",
   "metadata": {},
   "source": [
    "## 104. Maximum Depth of Binary Tree\n",
    "\n",
    "leetcode: https://leetcode.com/problems/maximum-depth-of-binary-tree/"
   ]
  },
  {
   "cell_type": "markdown",
   "id": "a0087693-5fb1-470c-9bed-b57fcf202fe7",
   "metadata": {},
   "source": [
    "Given the `root` of a binary tree, return **its maximum depth.**\n",
    "\n",
    "A binary tree's **maximum depth** is the number of nodes along the longest path from the root node down to the farthest leaf node.\n",
    "\n",
    " \n",
    "\n",
    "**Example 1:**\n",
    "\n",
    "![https://assets.leetcode.com/uploads/2020/11/26/tmp-tree.jpg](https://assets.leetcode.com/uploads/2020/11/26/tmp-tree.jpg)\n",
    "```\n",
    "Input: root = [3,9,20,null,null,15,7]\n",
    "Output: 3\n",
    "```\n",
    "**Example 2:**\n",
    "```\n",
    "Input: root = [1,null,2]\n",
    "Output: 2\n",
    "```\n",
    "\n",
    "**Constraints:**\n",
    "\n",
    "* The number of nodes in the tree is in the range `[0, 10^4]`.\n",
    "* `-100 <= Node.val <= 100`"
   ]
  },
  {
   "cell_type": "code",
   "execution_count": 46,
   "id": "d9c3775c-d056-469f-bd60-9f6acecb0625",
   "metadata": {},
   "outputs": [],
   "source": [
    "class TreeNode:\n",
    "    def __init__(self, val=0, left=None, right=None):\n",
    "        self.val = val\n",
    "        self.left = left\n",
    "        self.right = right\n",
    "\n",
    "def makeTree(nodes, i):\n",
    "    if i < len(nodes) and nodes[i]:\n",
    "        root = TreeNode(nodes[i])\n",
    "        root.left = makeTree(nodes, 2*i+1)\n",
    "        root.right = makeTree(nodes, 2*i+2)\n",
    "    else:\n",
    "        root = None\n",
    "    return root\n",
    "\n",
    "root1 = makeTree([3,9,20,None,None,15,7], 0)\n",
    "root2 = makeTree([1,None,2], 0)\n",
    "root3 = makeTree([], 0)\n",
    "root4 = makeTree([1], 0)"
   ]
  },
  {
   "cell_type": "code",
   "execution_count": 47,
   "id": "9e334ce7-7ca3-479a-b418-f1dc52784880",
   "metadata": {},
   "outputs": [],
   "source": [
    "# recursive DFS\n",
    "from typing import List, Optional\n",
    "# Definition for a binary tree node.\n",
    "# class TreeNode:\n",
    "#     def __init__(self, val=0, left=None, right=None):\n",
    "#         self.val = val\n",
    "#         self.left = left\n",
    "#         self.right = right\n",
    "class Solution:\n",
    "    def maxDepth(self, root: Optional[TreeNode]) -> int:\n",
    "        depth = 0\n",
    "        if root:\n",
    "            depth += 1\n",
    "            depth += max(self.maxDepth(root.left), self.maxDepth(root.right))\n",
    "            \n",
    "        return depth"
   ]
  },
  {
   "cell_type": "code",
   "execution_count": 52,
   "id": "9c435ede-592f-41c1-bbd5-5b787d202c0c",
   "metadata": {},
   "outputs": [],
   "source": [
    "# iterative BFS, level order traversal using deque\n",
    "\n",
    "from typing import List, Optional\n",
    "from collections import deque\n",
    "# Definition for a binary tree node.\n",
    "# class TreeNode:\n",
    "#     def __init__(self, val=0, left=None, right=None):\n",
    "#         self.val = val\n",
    "#         self.left = left\n",
    "#         self.right = right\n",
    "class Solution:\n",
    "    def maxDepth(self, root: Optional[TreeNode]) -> int:\n",
    "        if root == None:\n",
    "            return 0\n",
    "            \n",
    "        level = 0\n",
    "        queue = [root]\n",
    "        while len(queue)>0:\n",
    "            for i in range(len(queue)):\n",
    "                node = queue.pop(0)\n",
    "                if node.left:\n",
    "                    queue.append(node.left)\n",
    "                if node.right:\n",
    "                    queue.append(node.right)\n",
    "\n",
    "            level += 1\n",
    "                    \n",
    "        return level"
   ]
  },
  {
   "cell_type": "code",
   "execution_count": 66,
   "id": "2e7ef170-dc6e-418d-8db8-f50a659b9250",
   "metadata": {},
   "outputs": [],
   "source": [
    "# iterative DFS, using stack\n",
    "\n",
    "from typing import List, Optional\n",
    "# Definition for a binary tree node.\n",
    "# class TreeNode:\n",
    "#     def __init__(self, val=0, left=None, right=None):\n",
    "#         self.val = val\n",
    "#         self.left = left\n",
    "#         self.right = right\n",
    "class Solution:\n",
    "    def maxDepth(self, root: Optional[TreeNode]) -> int:\n",
    "        if root == None:\n",
    "            return 0\n",
    "\n",
    "        maxdepth = 0\n",
    "        stack = [(root,1)]\n",
    "        while (len(stack) > 0):\n",
    "            (node,depth) = stack.pop()\n",
    "            if node.left:\n",
    "                stack.append((node.left, depth+1))\n",
    "            if node.right:\n",
    "                stack.append((node.right, depth+1))\n",
    "\n",
    "            maxdepth = max(maxdepth,depth)\n",
    "            \n",
    "        return maxdepth"
   ]
  },
  {
   "cell_type": "code",
   "execution_count": 70,
   "id": "1d6e1d39-51dc-4d46-9aeb-b54a1dd028cf",
   "metadata": {},
   "outputs": [
    {
     "data": {
      "text/plain": [
       "1"
      ]
     },
     "execution_count": 70,
     "metadata": {},
     "output_type": "execute_result"
    }
   ],
   "source": [
    "soln = Solution()\n",
    "soln.maxDepth(root4)"
   ]
  },
  {
   "cell_type": "markdown",
   "id": "8ab7ca3a-59b5-4107-a378-0023588641ce",
   "metadata": {},
   "source": [
    "## 543. Diameter of Binary Tree\n",
    "\n",
    "leetcode: https://leetcode.com/problems/diameter-of-binary-tree/"
   ]
  },
  {
   "cell_type": "markdown",
   "id": "69c332eb-010a-4bc0-b318-cec74238c444",
   "metadata": {},
   "source": [
    "Given the `root` of a binary tree, return the **length of the diameter** of the tree.\n",
    "\n",
    "The **diameter** of a binary tree is the **length** of the longest path between any two nodes in a tree. This path may or may not pass through the `root`.\n",
    "\n",
    "The **length** of a path between two nodes is represented by the number of edges between them.\n",
    "\n",
    " \n",
    "\n",
    "**Example 1:**\n",
    "\n",
    "![https://assets.leetcode.com/uploads/2021/03/06/diamtree.jpg](https://assets.leetcode.com/uploads/2021/03/06/diamtree.jpg)\n",
    "```\n",
    "Input: root = [1,2,3,4,5]\n",
    "Output: 3\n",
    "Explanation: 3 is the length of the path [4,2,1,3] or [5,2,1,3].\n",
    "```\n",
    "**Example 2:**\n",
    "```\n",
    "Input: root = [1,2]\n",
    "Output: 1\n",
    "``` \n",
    "\n",
    "**Constraints:**\n",
    "\n",
    "* The number of nodes in the tree is in the range `[1, 104]`.\n",
    "* `-100 <= Node.val <= 100`"
   ]
  },
  {
   "cell_type": "code",
   "execution_count": 1,
   "id": "7a573150-cc0b-4c96-a29d-1fd8b4b899bd",
   "metadata": {},
   "outputs": [],
   "source": [
    "class TreeNode:\n",
    "    def __init__(self, val=0, left=None, right=None):\n",
    "        self.val = val\n",
    "        self.left = left\n",
    "        self.right = right\n",
    "\n",
    "def makeTree(nodes, i):\n",
    "    if i < len(nodes) and nodes[i]:\n",
    "        root = TreeNode(nodes[i])\n",
    "        root.left = makeTree(nodes, 2*i+1)\n",
    "        root.right = makeTree(nodes, 2*i+2)\n",
    "    else:\n",
    "        root = None\n",
    "\n",
    "    return root\n",
    "\n",
    "root1 = makeTree([1,2,3,4,5], 0)\n",
    "root2 = makeTree([1,2], 0)"
   ]
  },
  {
   "cell_type": "code",
   "execution_count": 2,
   "id": "d520c017-9c10-4226-9499-b36c278b72ec",
   "metadata": {},
   "outputs": [],
   "source": [
    "from typing import List, Optional\n",
    "# Definition for a binary tree node.\n",
    "# class TreeNode:\n",
    "#     def __init__(self, val=0, left=None, right=None):\n",
    "#         self.val = val\n",
    "#         self.left = left\n",
    "#         self.right = right\n",
    "class Solution:\n",
    "    def diameterOfBinaryTree(self, root: Optional[TreeNode]) -> int:\n",
    "        self.maxdiameter = 0\n",
    "        \n",
    "        def maxDepth(root: Optional[TreeNode]):\n",
    "            depth = 0\n",
    "            diam = 0\n",
    "            if root:\n",
    "                ldepth = maxDepth(root.left)\n",
    "                rdepth = maxDepth(root.right)\n",
    "                depth += max(ldepth,rdepth) + 1\n",
    "                diam += ldepth+rdepth+1\n",
    "                # update maxdiameter if edges seen from this node is greater than previous\n",
    "                self.maxdiameter = max(self.maxdiameter, ldepth+rdepth+1)\n",
    "\n",
    "            return diam\n",
    "        \n",
    "        maxDepth(root)\n",
    "        # self.maxdiameter\n",
    "        return self.maxdiameter-1"
   ]
  },
  {
   "cell_type": "code",
   "execution_count": 5,
   "id": "d65eb2bb-067a-45d0-a536-cffa9a52f39d",
   "metadata": {},
   "outputs": [
    {
     "data": {
      "text/plain": [
       "1"
      ]
     },
     "execution_count": 5,
     "metadata": {},
     "output_type": "execute_result"
    }
   ],
   "source": [
    "soln = Solution()\n",
    "soln.diameterOfBinaryTree(root2)\n",
    "# ans = soln.maxDepth(root1)"
   ]
  },
  {
   "cell_type": "code",
   "execution_count": 81,
   "id": "24fd72d8-966e-4ebe-8c54-1feb5d66cd55",
   "metadata": {},
   "outputs": [
    {
     "data": {
      "text/plain": [
       "5"
      ]
     },
     "execution_count": 81,
     "metadata": {},
     "output_type": "execute_result"
    }
   ],
   "source": [
    "ans"
   ]
  },
  {
   "cell_type": "markdown",
   "id": "92baec93-9d90-4a97-867f-120109050131",
   "metadata": {},
   "source": [
    "## 110. Balanced Binary Tree\n",
    "\n",
    "leetcode: https://leetcode.com/problems/balanced-binary-tree/"
   ]
  },
  {
   "cell_type": "markdown",
   "id": "adbd8f48-787c-4f6f-a728-392485a049c3",
   "metadata": {},
   "source": [
    "Given a binary tree, determine if it is **height-balanced**\n",
    "\n",
    "A **height-balanced** binary tree is a binary tree in which the depth of the two subtrees of every node never differs by more than one.\n",
    "\n",
    "**Example 1:**\n",
    "\n",
    "![https://assets.leetcode.com/uploads/2020/10/06/balance_1.jpg](https://assets.leetcode.com/uploads/2020/10/06/balance_1.jpg)\n",
    "```\n",
    "Input: root = [3,9,20,null,null,15,7]\n",
    "Output: true\n",
    "```\n",
    "**Example 2:**\n",
    "\n",
    "![https://assets.leetcode.com/uploads/2020/10/06/balance_2.jpg](https://assets.leetcode.com/uploads/2020/10/06/balance_2.jpg)\n",
    "```\n",
    "Input: root = [1,2,2,3,3,null,null,4,4]\n",
    "Output: false\n",
    "```\n",
    "**Example 3:**\n",
    "```\n",
    "Input: root = []\n",
    "Output: true\n",
    "```\n",
    "\n",
    "**Constraints:**\n",
    "\n",
    "* The number of nodes in the tree is in the range `[0, 5000]`.\n",
    "* `-10^4 <= Node.val <= 10^4`"
   ]
  },
  {
   "cell_type": "code",
   "execution_count": 63,
   "id": "0982304b-b1c1-4208-aee9-c56ee69e45c5",
   "metadata": {},
   "outputs": [],
   "source": [
    "class TreeNode:\n",
    "    def __init__(self, val=0, left=None, right=None):\n",
    "        self.val = val\n",
    "        self.left = left\n",
    "        self.right = right\n",
    "\n",
    "def makeTree(nodes, i):\n",
    "    if i < len(nodes) and nodes[i] != None:\n",
    "        root = TreeNode(nodes[i])\n",
    "        root.left = makeTree(nodes, 2*i+1)\n",
    "        root.right = makeTree(nodes, 2*i+2)\n",
    "    else:\n",
    "        root = None\n",
    "\n",
    "    return root\n",
    "\n",
    "\n",
    "root1 = makeTree([3,9,20,None,None,15,7], 0)\n",
    "root2 = makeTree([1,2,2,3,3,None,None,4,4], 0)\n",
    "root3 = makeTree([], 0)\n",
    "root4 = makeTree([1,2,2,3,None,None,3,4,None,None,4], 0)"
   ]
  },
  {
   "cell_type": "code",
   "execution_count": 64,
   "id": "312ef7c0-8c85-439b-bf04-ee288d239afe",
   "metadata": {},
   "outputs": [],
   "source": [
    "from typing import List, Optional\n",
    "# Definition for a binary tree node.\n",
    "# class TreeNode:\n",
    "#     def __init__(self, val=0, left=None, right=None):\n",
    "#         self.val = val\n",
    "#         self.left = left\n",
    "#         self.right = right\n",
    "class Solution:\n",
    "    def isBalanced(self, root: Optional[TreeNode]) -> bool:\n",
    "        # root is balanced if children are balanced and max depth of children differ by <= 1\n",
    "        if root == None:\n",
    "            return True\n",
    "\n",
    "        def maxDepth(root):\n",
    "            depth = 0\n",
    "            if root != None:\n",
    "                depth += 1\n",
    "                depth += max(maxDepth(root.left), maxDepth(root.right))\n",
    "            \n",
    "            return depth\n",
    "\n",
    "        ldepth = maxDepth(root.left)\n",
    "        rdepth = maxDepth(root.right)\n",
    "        \n",
    "        return self.isBalanced(root.left) and self.isBalanced(root.right) and (abs(ldepth-rdepth) <= 1)"
   ]
  },
  {
   "cell_type": "code",
   "execution_count": 65,
   "id": "388ff748-f13d-4393-9f41-386b7e410a1c",
   "metadata": {},
   "outputs": [],
   "source": [
    "# more efficient\n",
    "from typing import List, Optional\n",
    "# Definition for a binary tree node.\n",
    "# class TreeNode:\n",
    "#     def __init__(self, val=0, left=None, right=None):\n",
    "#         self.val = val\n",
    "#         self.left = left\n",
    "#         self.right = right\n",
    "class Solution:\n",
    "    def isBalanced(self, root: Optional[TreeNode]) -> bool:\n",
    "\n",
    "        def maxDepthAndBalanced(root):\n",
    "            depth = 0\n",
    "            balanced = True\n",
    "            if root != None:\n",
    "                depth += 1\n",
    "                (lbalanced, ldepth) = maxDepthAndBalanced(root.left)\n",
    "                (rbalanced, rdepth) = maxDepthAndBalanced(root.right)\n",
    "                depth += max(ldepth, rdepth)\n",
    "                balanced = (abs(ldepth-rdepth) <= 1) and lbalanced and rbalanced\n",
    "            return (balanced, depth)\n",
    "\n",
    "        (balanced, depth) = maxDepthAndBalanced(root)\n",
    "        \n",
    "        return balanced"
   ]
  },
  {
   "cell_type": "code",
   "execution_count": 66,
   "id": "c85db7e2-87fa-4de0-8092-b01ad9b6a878",
   "metadata": {},
   "outputs": [
    {
     "data": {
      "text/plain": [
       "False"
      ]
     },
     "execution_count": 66,
     "metadata": {},
     "output_type": "execute_result"
    }
   ],
   "source": [
    "soln = Solution()\n",
    "soln.isBalanced(root4)"
   ]
  },
  {
   "cell_type": "markdown",
   "id": "844161a7-d367-4eb6-8133-78fbb8770858",
   "metadata": {},
   "source": [
    "## 100. Same Tree\n",
    "\n",
    "leetcode: https://leetcode.com/problems/same-tree/"
   ]
  },
  {
   "cell_type": "markdown",
   "id": "f2c2acba-151c-4184-bb32-7e7b5f4f067d",
   "metadata": {},
   "source": [
    "Given the roots of two binary trees `p` and `q`, write a function to check if they are the same or not.\n",
    "\n",
    "Two binary trees are considered the same if they are structurally identical, and the nodes have the same value.\n",
    "\n",
    " \n",
    "\n",
    "**Example 1:**\n",
    "\n",
    "![https://assets.leetcode.com/uploads/2020/12/20/ex1.jpg](https://assets.leetcode.com/uploads/2020/12/20/ex1.jpg)\n",
    "```\n",
    "Input: p = [1,2,3], q = [1,2,3]\n",
    "Output: true\n",
    "```\n",
    "**Example 2:**\n",
    "\n",
    "![https://assets.leetcode.com/uploads/2020/12/20/ex2.jpg](https://assets.leetcode.com/uploads/2020/12/20/ex2.jpg)\n",
    "```\n",
    "Input: p = [1,2], q = [1,null,2]\n",
    "Output: false\n",
    "```\n",
    "**Example 3:**\n",
    "\n",
    "![https://assets.leetcode.com/uploads/2020/12/20/ex3.jpg](https://assets.leetcode.com/uploads/2020/12/20/ex3.jpg)\n",
    "```\n",
    "Input: p = [1,2,1], q = [1,1,2]\n",
    "Output: false\n",
    "```\n",
    "\n",
    "**Constraints:**\n",
    "\n",
    "* The number of nodes in both trees is in the range `[0, 100]`.\n",
    "* `-10^4 <= Node.val <= 10^4`"
   ]
  },
  {
   "cell_type": "code",
   "execution_count": 8,
   "id": "e2f83100-5952-4975-8ea9-8e1b22a0c17d",
   "metadata": {},
   "outputs": [],
   "source": [
    "class TreeNode:\n",
    "    def __init__(self, val=0, left=None, right=None):\n",
    "        self.val = val\n",
    "        self.left = left\n",
    "        self.right = right\n",
    "\n",
    "\n",
    "def makeTree(nodes, i):\n",
    "    if i < len(nodes) and nodes[i] != None:\n",
    "        node = TreeNode(nodes[i])\n",
    "        node.left = makeTree(nodes, 2*i+1)\n",
    "        node.right = makeTree(nodes, 2*i+2)\n",
    "    else:\n",
    "        node = None\n",
    "\n",
    "    return node\n",
    "\n",
    "p1 = makeTree([1,2,3], 0)\n",
    "q1 = makeTree([1,2,3], 0)\n",
    "\n",
    "p2 = makeTree([1,2], 0)\n",
    "q2 = makeTree([1,None,2], 0)\n",
    "\n",
    "p3 = makeTree([1,2,1], 0)\n",
    "q3 = makeTree([1,1,2], 0)"
   ]
  },
  {
   "cell_type": "code",
   "execution_count": 11,
   "id": "37f5f24c-5518-4c74-8e75-cf4db942a311",
   "metadata": {},
   "outputs": [],
   "source": [
    "from typing import List, Optional\n",
    "# Definition for a binary tree node.\n",
    "# class TreeNode:\n",
    "#     def __init__(self, val=0, left=None, right=None):\n",
    "#         self.val = val\n",
    "#         self.left = left\n",
    "#         self.right = right\n",
    "class Solution:\n",
    "    def isSameTree(self, p: Optional[TreeNode], q: Optional[TreeNode]) -> bool:\n",
    "        same = True\n",
    "        if p != None and q != None:\n",
    "            same = (p.val == q.val) and self.isSameTree(p.left, q.left) and self.isSameTree(p.right, q.right)\n",
    "        elif (p == None and q != None) or (p != None and q == None):\n",
    "            same = False\n",
    "            \n",
    "        \n",
    "        return same"
   ]
  },
  {
   "cell_type": "code",
   "execution_count": 15,
   "id": "c41906b3-a9a4-4ad2-90b8-e2f2ab6e2968",
   "metadata": {},
   "outputs": [
    {
     "data": {
      "text/plain": [
       "False"
      ]
     },
     "execution_count": 15,
     "metadata": {},
     "output_type": "execute_result"
    }
   ],
   "source": [
    "soln = Solution()\n",
    "soln.isSameTree(p3,q3)"
   ]
  },
  {
   "cell_type": "markdown",
   "id": "fa1ac309-ec2f-450d-a6f2-bbc652d8bbc5",
   "metadata": {},
   "source": [
    "## 572. Subtree of Another Tree\n",
    "\n",
    "leetcode: https://leetcode.com/problems/subtree-of-another-tree/"
   ]
  },
  {
   "cell_type": "markdown",
   "id": "9b8bf073-2ad1-4fbc-903a-5b5cc9d54bcd",
   "metadata": {},
   "source": [
    "Given the roots of two binary trees `root` and `subRoot`, return `true` if there is a subtree of `root` with the same structure and node values of `subRoot` and `false` otherwise.\n",
    "\n",
    "A subtree of a binary tree `tree` is a tree that consists of a node in `tree` and all of this node's descendants. The tree `tree` could also be considered as a subtree of itself.\n",
    "\n",
    " \n",
    "\n",
    "**Example 1:**\n",
    "\n",
    "![https://assets.leetcode.com/uploads/2021/04/28/subtree1-tree.jpg](https://assets.leetcode.com/uploads/2021/04/28/subtree1-tree.jpg)\n",
    "```\n",
    "Input: root = [3,4,5,1,2], subRoot = [4,1,2]\n",
    "Output: true\n",
    "```\n",
    "**Example 2:**\n",
    "\n",
    "![https://assets.leetcode.com/uploads/2021/04/28/subtree2-tree.jpg](https://assets.leetcode.com/uploads/2021/04/28/subtree2-tree.jpg)\n",
    "```\n",
    "Input: root = [3,4,5,1,2,null,null,null,null,0], subRoot = [4,1,2]\n",
    "Output: false\n",
    "```\n",
    "\n",
    "**Constraints:**\n",
    "\n",
    "* The number of nodes in the `root` tree is in the range `[1, 2000]`.\n",
    "* The number of nodes in the `subRoot` tree is in the range `[1, 1000]`.\n",
    "* `-10^4 <= root.val <= 10^4`\n",
    "* `-10^4 <= subRoot.val <= 10^4`"
   ]
  },
  {
   "cell_type": "code",
   "execution_count": 32,
   "id": "13469127-3f45-4c60-97d6-b3caa778a6d4",
   "metadata": {},
   "outputs": [],
   "source": [
    "class TreeNode:\n",
    "    def __init__(self, val=0, left=None, right=None):\n",
    "        self.val = val\n",
    "        self.left = left\n",
    "        self.right = right\n",
    "\n",
    "def makeTree(nodes, i):\n",
    "    if i < len(nodes) and nodes[i] != None:\n",
    "        node = TreeNode(nodes[i])\n",
    "        node.left = makeTree(nodes, 2*i+1)\n",
    "        node.right = makeTree(nodes, 2*i+2)\n",
    "    else:\n",
    "        node = None\n",
    "\n",
    "    return node\n",
    "\n",
    "root1 = makeTree([3,4,5,1,2], 0)\n",
    "subRoot1 = makeTree([4,1,2], 0)\n",
    "\n",
    "root2 = makeTree([3,4,5,1,2,None,None,None,None,0], 0)\n",
    "subRoot2 = makeTree([4,1,2], 0)\n",
    "\n",
    "root3 = makeTree([1,1], 0)\n",
    "subRoot3 = makeTree([1], 0)"
   ]
  },
  {
   "cell_type": "code",
   "execution_count": 28,
   "id": "b507c28d-12fe-4094-abf4-a3aa9b6ed22b",
   "metadata": {},
   "outputs": [],
   "source": [
    "from typing import List, Optional\n",
    "# Definition for a binary tree node.\n",
    "# class TreeNode:\n",
    "#     def __init__(self, val=0, left=None, right=None):\n",
    "#         self.val = val\n",
    "#         self.left = left\n",
    "#         self.right = right\n",
    "class Solution:\n",
    "    def isSubtree(self, root: Optional[TreeNode], subRoot: Optional[TreeNode]) -> bool:\n",
    "        def isSameTree(root, subRoot):\n",
    "            same = True\n",
    "            if (root != None and subRoot != None):\n",
    "                same = (root.val == subRoot.val) and isSameTree(root.left, subRoot.left) and isSameTree(root.right, subRoot.right)\n",
    "            elif (root != None and subRoot == None) or (root == None and subRoot != None): # one of the nodes is null\n",
    "                same = False\n",
    "            \n",
    "            return same \n",
    "\n",
    "        # traverse root to find node with same value as subRoot then check for same tree\n",
    "        subtree = False\n",
    "        if (root != None and subRoot != None):\n",
    "            subtree = isSameTree(root, subRoot)\n",
    "\n",
    "        if (subtree == False) and (root != None):\n",
    "            subtree = self.isSubtree(root.left, subRoot) or self.isSubtree(root.right, subRoot)\n",
    "            \n",
    "\n",
    "        return subtree"
   ]
  },
  {
   "cell_type": "code",
   "execution_count": 33,
   "id": "e010212c-00ef-4436-8e71-3823a9caac32",
   "metadata": {},
   "outputs": [
    {
     "data": {
      "text/plain": [
       "True"
      ]
     },
     "execution_count": 33,
     "metadata": {},
     "output_type": "execute_result"
    }
   ],
   "source": [
    "soln = Solution()\n",
    "soln.isSubtree(root3,subRoot3)"
   ]
  },
  {
   "cell_type": "markdown",
   "id": "ddeaaabf-3b62-4cdb-8c8f-614984b76b07",
   "metadata": {},
   "source": [
    "## 235. Lowest Common Ancestor of a Binary Search Tree\n",
    "\n",
    "leetcode: https://leetcode.com/problems/lowest-common-ancestor-of-a-binary-search-tree/description/"
   ]
  },
  {
   "cell_type": "markdown",
   "id": "63f3c8ed-f5d5-4e2b-a3f9-69e55ca0fc26",
   "metadata": {},
   "source": [
    "Given a binary search tree (BST), find the lowest common ancestor (LCA) node of two given nodes in the BST.\n",
    "\n",
    "According to the [definition of LCA on Wikipedia](https://en.wikipedia.org/wiki/Lowest_common_ancestor): “The lowest common ancestor is defined between two nodes `p` and `q` as the lowest node in `T` that has both p and q as descendants (where we allow **a node to be a descendant of itself**).”\n",
    "\n",
    " \n",
    "\n",
    "**Example 1:**\n",
    "\n",
    "![https://assets.leetcode.com/uploads/2018/12/14/binarysearchtree_improved.png](https://assets.leetcode.com/uploads/2018/12/14/binarysearchtree_improved.png)\n",
    "```\n",
    "Input: root = [6,2,8,0,4,7,9,null,null,3,5], p = 2, q = 8\n",
    "Output: 6\n",
    "Explanation: The LCA of nodes 2 and 8 is 6.\n",
    "```\n",
    "**Example 2:**\n",
    "\n",
    "![https://assets.leetcode.com/uploads/2018/12/14/binarysearchtree_improved.png](https://assets.leetcode.com/uploads/2018/12/14/binarysearchtree_improved.png)\n",
    "```\n",
    "Input: root = [6,2,8,0,4,7,9,null,null,3,5], p = 2, q = 4\n",
    "Output: 2\n",
    "Explanation: The LCA of nodes 2 and 4 is 2, since a node can be a descendant of itself according to the LCA definition.\n",
    "```\n",
    "**Example 3:**\n",
    "```\n",
    "Input: root = [2,1], p = 2, q = 1\n",
    "Output: 2\n",
    "``` \n",
    "\n",
    "**Constraints:**\n",
    "\n",
    "* The number of nodes in the tree is in the range `[2, 10^5]`.\n",
    "* `-10^9 <= Node.val <= 10^9`\n",
    "* All `Node.val` are unique.\n",
    "* `p != q`\n",
    "* `p` and `q` will exist in the BST."
   ]
  },
  {
   "cell_type": "code",
   "execution_count": 66,
   "id": "29befdb3-3ba9-4f95-a41d-d4f588ee0f88",
   "metadata": {},
   "outputs": [],
   "source": [
    "# Definition for a binary tree node.\n",
    "class TreeNode:\n",
    "    def __init__(self, val=0, left=None, right=None):\n",
    "        self.val = val\n",
    "        self.left = left\n",
    "        self.right = right\n",
    "\n",
    "def makeTree(nodes, i):\n",
    "    if i < len(nodes) and nodes[i] != None:\n",
    "        node = TreeNode(nodes[i])\n",
    "        node.left = makeTree(nodes, 2*i+1)\n",
    "        node.right = makeTree(nodes, 2*i+2)\n",
    "    else:\n",
    "        node = None\n",
    "\n",
    "    return node\n",
    "\n",
    "root1 = makeTree([6,2,8,0,4,7,9,None,None,3,5], 0)\n",
    "p1 = TreeNode(2)\n",
    "q1 = TreeNode(8)\n",
    "\n",
    "root2 = makeTree([6,2,8,0,4,7,9,None,None,3,5], 0)\n",
    "p2 = TreeNode(2)\n",
    "q2 = TreeNode(4)\n",
    "\n",
    "root3 = makeTree([2,1], 0)\n",
    "p3 = TreeNode(2)\n",
    "q3 = TreeNode(1)"
   ]
  },
  {
   "cell_type": "code",
   "execution_count": 64,
   "id": "90926ec4-f280-4018-97be-1764003902a9",
   "metadata": {},
   "outputs": [],
   "source": [
    "from typing import List, Optional\n",
    "# Definition for a binary tree node.\n",
    "# class TreeNode:\n",
    "#     def __init__(self, x):\n",
    "#         self.val = x\n",
    "#         self.left = None\n",
    "#         self.right = None\n",
    "\n",
    "class Solution:\n",
    "    def lowestCommonAncestor(self, root: 'TreeNode', p: 'TreeNode', q: 'TreeNode') -> 'TreeNode':\n",
    "        # make sure p < q\n",
    "        if q.val < p.val:\n",
    "            p,q = q,p \n",
    "\n",
    "        # traverse BST and return node if p or q is found or p and q are found in separate left and right subtrees\n",
    "        while root != None:\n",
    "            if root.val == p.val or root.val == q.val:\n",
    "                return root\n",
    "            elif (root.val > p.val) and (root.val < q.val):\n",
    "                return root\n",
    "            elif (root.val < p.val) and (root.val < q.val):\n",
    "                root = root.rightxt\n",
    "            else:\n",
    "                root = root.left\n",
    "            \n",
    "        return -1"
   ]
  },
  {
   "cell_type": "code",
   "execution_count": 67,
   "id": "ec7e94a7-df45-4243-be14-fe4918310dd5",
   "metadata": {},
   "outputs": [],
   "source": [
    "soln = Solution()\n",
    "ans = soln.lowestCommonAncestor(root2, p2, q2)"
   ]
  },
  {
   "cell_type": "code",
   "execution_count": 68,
   "id": "2d754a0e-1c34-4287-b192-cf4d6041d9ea",
   "metadata": {},
   "outputs": [
    {
     "data": {
      "text/plain": [
       "2"
      ]
     },
     "execution_count": 68,
     "metadata": {},
     "output_type": "execute_result"
    }
   ],
   "source": [
    "soln.lowestCommonAncestor(root2, TreeNode(5), TreeNode(0)).val"
   ]
  },
  {
   "cell_type": "code",
   "execution_count": null,
   "id": "36d6ebaf-1285-4cbf-83f3-fe023afb5e1f",
   "metadata": {},
   "outputs": [],
   "source": []
  },
  {
   "cell_type": "code",
   "execution_count": null,
   "id": "6eeb40fa-a1ef-4f65-bf43-6d9bce510b1b",
   "metadata": {},
   "outputs": [],
   "source": []
  },
  {
   "cell_type": "markdown",
   "id": "147e939d-aac7-4259-866f-7f4fb6dff895",
   "metadata": {},
   "source": [
    "## 102. Binary Tree Level Order Traversal\n",
    "\n",
    "leetcode: https://leetcode.com/problems/binary-tree-level-order-traversal/"
   ]
  },
  {
   "cell_type": "markdown",
   "id": "a5aa3553-54a6-4255-b637-1c2a059a1ee6",
   "metadata": {},
   "source": [
    "Given the `root` of a binary tree, return **the level order traversal of its nodes' values**. (i.e., from left to right, level by level).\n",
    "\n",
    " \n",
    "\n",
    "**Example 1:**\n",
    "\n",
    "![https://assets.leetcode.com/uploads/2021/02/19/tree1.jpg](https://assets.leetcode.com/uploads/2021/02/19/tree1.jpg)\n",
    "```\n",
    "Input: root = [3,9,20,null,null,15,7]\n",
    "Output: [[3],[9,20],[15,7]]\n",
    "```\n",
    "**Example 2:**\n",
    "```\n",
    "Input: root = [1]\n",
    "Output: [[1]]\n",
    "```\n",
    "**Example 3:**\n",
    "```\n",
    "Input: root = []\n",
    "Output: []\n",
    "```\n",
    "\n",
    "**Constraints:**\n",
    "\n",
    "* The number of nodes in the tree is in the range `[0, 2000]`.\n",
    "* `-1000 <= Node.val <= 1000`"
   ]
  },
  {
   "cell_type": "code",
   "execution_count": 9,
   "id": "e5544820-08f1-44d8-a5d6-df27fff00c7d",
   "metadata": {},
   "outputs": [],
   "source": [
    "# Definition for a binary tree node.\n",
    "class TreeNode:\n",
    "    def __init__(self, val=0, left=None, right=None):\n",
    "        self.val = val\n",
    "        self.left = left\n",
    "        self.right = right\n",
    "\n",
    "def makeTree(nodes, i):\n",
    "    if i < len(nodes) and nodes[i] != None:\n",
    "        node = TreeNode(nodes[i])\n",
    "        node.left = makeTree(nodes, 2*i+1)\n",
    "        node.right = makeTree(nodes, 2*i+2)\n",
    "    else:\n",
    "        node = None\n",
    "\n",
    "    return node\n",
    "\n",
    "root1 = makeTree([3,9,20,None,None,15,7], 0)\n",
    "root2 = makeTree([1], 0)\n",
    "root3 = makeTree([], 0)"
   ]
  },
  {
   "cell_type": "code",
   "execution_count": 23,
   "id": "74f6ce0d-33c4-4b57-9a5e-b11e52e3ec0f",
   "metadata": {},
   "outputs": [],
   "source": [
    "from typing import List, Optional\n",
    "# Definition for a binary tree node.\n",
    "# class TreeNode:\n",
    "#     def __init__(self, val=0, left=None, right=None):\n",
    "#         self.val = val\n",
    "#         self.left = left\n",
    "#         self.right = right\n",
    "class Solution:\n",
    "    def levelOrder(self, root: Optional[TreeNode]) -> List[List[int]]:\n",
    "        nextlevel = [root]\n",
    "        ans = []\n",
    "        while len(nextlevel) > 0:\n",
    "            curlevel = nextlevel\n",
    "            nextlevel = []\n",
    "            levelvals = []\n",
    "            while len(curlevel) > 0:\n",
    "                node = curlevel.pop(0)\n",
    "                if node:\n",
    "                    levelvals.append(node.val)\n",
    "                    if node.left != None:\n",
    "                        nextlevel.append(node.left)\n",
    "                    if node.right != None:\n",
    "                        nextlevel.append(node.right)\n",
    "                        \n",
    "            if len(levelvals) > 0:\n",
    "                ans.append(levelvals)\n",
    "\n",
    "        return ans"
   ]
  },
  {
   "cell_type": "code",
   "execution_count": 46,
   "id": "1b10de0f-b6c5-40af-a6f0-b67a24a230b7",
   "metadata": {},
   "outputs": [],
   "source": [
    "# BFS implementation using a single deque for optimization\n",
    "from typing import List, Optional\n",
    "import collections\n",
    "# Definition for a binary tree node.\n",
    "# class TreeNode:\n",
    "#     def __init__(self, val=0, left=None, right=None):\n",
    "#         self.val = val\n",
    "#         self.left = left\n",
    "#         self.right = right\n",
    "class Solution:\n",
    "    def levelOrder(self, root: Optional[TreeNode]) -> List[List[int]]:\n",
    "        queue = collections.deque()\n",
    "        queue.append(root)\n",
    "        ans = []\n",
    "        while len(queue) > 0:\n",
    "            queuelength = len(queue)\n",
    "            level = []\n",
    "            for i in range(queuelength):\n",
    "                node = queue.popleft()\n",
    "                if node:\n",
    "                    level.append(node.val)\n",
    "                    queue.append(node.left)\n",
    "                    queue.append(node.right)\n",
    "                        \n",
    "            if len(level) > 0:\n",
    "                ans.append(level)\n",
    "\n",
    "        return ans"
   ]
  },
  {
   "cell_type": "code",
   "execution_count": 48,
   "id": "f5fabb6c-8ef3-4c0a-b414-2e559d94136b",
   "metadata": {},
   "outputs": [
    {
     "data": {
      "text/plain": [
       "[]"
      ]
     },
     "execution_count": 48,
     "metadata": {},
     "output_type": "execute_result"
    }
   ],
   "source": [
    "soln = Solution()\n",
    "soln.levelOrder(root3)"
   ]
  },
  {
   "cell_type": "code",
   "execution_count": 49,
   "id": "9de681ba-e8e4-41c4-8065-220c3e0f376a",
   "metadata": {},
   "outputs": [
    {
     "data": {
      "text/plain": [
       "[[3], [9, 20], [15, 7]]"
      ]
     },
     "execution_count": 49,
     "metadata": {},
     "output_type": "execute_result"
    }
   ],
   "source": [
    "ans"
   ]
  },
  {
   "cell_type": "markdown",
   "id": "c1b8e8b0-c9ee-4d55-85e7-22ae7b0863a1",
   "metadata": {},
   "source": [
    "## 199. Binary Tree Right Side View\n",
    "\n",
    "leetcode: https://leetcode.com/problems/binary-tree-right-side-view/"
   ]
  },
  {
   "cell_type": "markdown",
   "id": "9b9c6783-a716-43df-9bf1-59765e9b93c6",
   "metadata": {},
   "source": [
    "Given the `root` of a binary tree, imagine yourself standing on the **right side** of it, return **the values of the nodes you can see ordered from top to bottom**.\n",
    "\n",
    " \n",
    "\n",
    "**Example 1:**\n",
    "\n",
    "![https://assets.leetcode.com/uploads/2021/02/14/tree.jpg](https://assets.leetcode.com/uploads/2021/02/14/tree.jpg)\n",
    "```\n",
    "Input: root = [1,2,3,null,5,null,4]\n",
    "Output: [1,3,4]\n",
    "```\n",
    "**Example 2:**\n",
    "```\n",
    "Input: root = [1,null,3]\n",
    "Output: [1,3]\n",
    "```\n",
    "**Example 3:**\n",
    "```\n",
    "Input: root = []\n",
    "Output: []\n",
    "``` \n",
    "\n",
    "**Constraints:**\n",
    "\n",
    "* The number of nodes in the tree is in the range `[0, 100]`.\n",
    "* `-100 <= Node.val <= 100`"
   ]
  },
  {
   "cell_type": "code",
   "execution_count": 10,
   "id": "06e5aa55-2289-4152-9da4-532744c2ed2f",
   "metadata": {},
   "outputs": [],
   "source": [
    "# Definition for a binary tree node.\n",
    "class TreeNode:\n",
    "    def __init__(self, val=0, left=None, right=None):\n",
    "        self.val = val\n",
    "        self.left = left\n",
    "        self.right = right\n",
    "\n",
    "def makeTree(nodes, i):\n",
    "    if i < len(nodes) and nodes[i] != None:\n",
    "        node = TreeNode(nodes[i])\n",
    "        node.left = makeTree(nodes, 2*i+1)\n",
    "        node.right = makeTree(nodes, 2*i+2)\n",
    "    else:\n",
    "        node = None\n",
    "\n",
    "    return node\n",
    "\n",
    "root1 = makeTree([1,2,3,None,5,None,4], 0)\n",
    "root2 = makeTree([1,None,3], 0)\n",
    "root3 = makeTree([], 0)\n",
    "root4 = makeTree([1,2,3,None,9,None,7,None,None,6,None,None,None], 0)"
   ]
  },
  {
   "cell_type": "code",
   "execution_count": 28,
   "id": "209b4e75-d0e8-4bff-9709-3b036349b49f",
   "metadata": {},
   "outputs": [],
   "source": [
    "# level order traversal\n",
    "from typing import List, Optional\n",
    "# Definition for a binary tree node.\n",
    "# class TreeNode:\n",
    "#     def __init__(self, val=0, left=None, right=None):\n",
    "#         self.val = val\n",
    "#         self.left = left\n",
    "#         self.right = right\n",
    "class Solution:\n",
    "    def rightSideView(self, root: Optional[TreeNode]) -> List[int]:\n",
    "        ans = []\n",
    "        queue = [root]\n",
    "        while len(queue) > 0:\n",
    "            level = []\n",
    "            queuelength = len(queue)\n",
    "            for i in range(queuelength):\n",
    "                node = queue.pop(0)\n",
    "                if node:\n",
    "                    level.append(node.val)\n",
    "                    queue.append(node.left)\n",
    "                    queue.append(node.right)\n",
    "                    \n",
    "            if len(level) > 0:\n",
    "                ans.append(level.pop())\n",
    "        \n",
    "        return ans"
   ]
  },
  {
   "cell_type": "code",
   "execution_count": 32,
   "id": "9055be59-f2ac-45f1-b0dd-76b49fa8c3fb",
   "metadata": {},
   "outputs": [
    {
     "data": {
      "text/plain": [
       "[1, 3, 7, 6]"
      ]
     },
     "execution_count": 32,
     "metadata": {},
     "output_type": "execute_result"
    }
   ],
   "source": [
    "soln = Solution()\n",
    "soln.rightSideView(root4)"
   ]
  },
  {
   "cell_type": "markdown",
   "id": "814cdb31-9c26-4f2b-996e-600d19158e46",
   "metadata": {},
   "source": [
    "## 1448. Count Good Nodes in Binary Tree\n",
    "\n",
    "leetcode: https://leetcode.com/problems/count-good-nodes-in-binary-tree/"
   ]
  },
  {
   "cell_type": "markdown",
   "id": "92541193-74de-43fa-a395-d25881b46c67",
   "metadata": {},
   "source": [
    "Given a binary tree `root`, a node `X` in the tree is named **good** if in the path from `root` to `X` there are no nodes with a value greater than `X`.\n",
    "\n",
    "Return the **number of good nodes** in the binary tree.\n",
    "\n",
    " \n",
    "\n",
    "**Example 1:**\n",
    "\n",
    "![https://assets.leetcode.com/uploads/2020/04/02/test_sample_1.png](https://assets.leetcode.com/uploads/2020/04/02/test_sample_1.png)\n",
    "```\n",
    "Input: root = [3,1,4,3,null,1,5]\n",
    "Output: 4\n",
    "Explanation: Nodes in blue are good.\n",
    "Root Node (3) is always a good node.\n",
    "Node 4 -> (3,4) is the maximum value in the path starting from the root.\n",
    "Node 5 -> (3,4,5) is the maximum value in the path\n",
    "Node 3 -> (3,1,3) is the maximum value in the path.\n",
    "```\n",
    "**Example 2:**\n",
    "\n",
    "![https://assets.leetcode.com/uploads/2020/04/02/test_sample_2.png](https://assets.leetcode.com/uploads/2020/04/02/test_sample_2.png)\n",
    "```\n",
    "Input: root = [3,3,null,4,2]\n",
    "Output: 3\n",
    "Explanation: Node 2 -> (3, 3, 2) is not good, because \"3\" is higher than it.\n",
    "```\n",
    "**Example 3:**\n",
    "```\n",
    "Input: root = [1]\n",
    "Output: 1\n",
    "Explanation: Root is considered as good.\n",
    "```\n",
    "\n",
    "**Constraints:**\n",
    "\n",
    "* The number of nodes in the binary tree is in the range `[1, 10^5]`.\n",
    "* Each node's value is between `[-10^4, 10^4]`."
   ]
  },
  {
   "cell_type": "code",
   "execution_count": 73,
   "id": "146ee6e7-0be2-479f-a711-4dc6df92a569",
   "metadata": {},
   "outputs": [],
   "source": [
    "# Definition for a binary tree node.\n",
    "class TreeNode:\n",
    "    def __init__(self, val=0, left=None, right=None):\n",
    "        self.val = val\n",
    "        self.left = left\n",
    "        self.right = right\n",
    "\n",
    "def makeTree(nodes, i):\n",
    "    if i < len(nodes) and nodes[i] != None:\n",
    "        node = TreeNode(nodes[i])\n",
    "        node.left = makeTree(nodes, 2*i+1)\n",
    "        node.right = makeTree(nodes, 2*i+2)\n",
    "    else:\n",
    "        node = None\n",
    "\n",
    "    return node\n",
    "\n",
    "root1 = makeTree([3,1,4,3,None,1,5], 0)\n",
    "root2 = makeTree([3,3,None,4,2], 0)\n",
    "root3 = makeTree([1], 0)\n",
    "# Leetcode omits children of null nodes in it's level-order array representation of binary trees\n",
    "# e.g. tree array [2,None,4,10,8,None,None,4] represents:\n",
    "#  2\n",
    "#   \\\n",
    "#    4\n",
    "#   / \\\n",
    "# 10   8\n",
    "#     /  \n",
    "#    4\n",
    "root4 = makeTree([2,None,4,None,None,10,8,None,None,None,None,None,None,4,None], 0)"
   ]
  },
  {
   "cell_type": "code",
   "execution_count": 87,
   "id": "40bb4214-0232-4b98-8656-1f19c985a6b9",
   "metadata": {},
   "outputs": [],
   "source": [
    "# recursive DFS with monotonic increasing stack\n",
    "# Definition for a binary tree node.\n",
    "# class TreeNode:\n",
    "#     def __init__(self, val=0, left=None, right=None):\n",
    "#         self.val = val\n",
    "#         self.left = left\n",
    "#         self.right = right\n",
    "class Solution:\n",
    "    def goodNodes(self, root: TreeNode) -> int:\n",
    "        goodcount = 1\n",
    "        stack = [root.val]\n",
    "\n",
    "        def goodNodeDFS(node, stack):\n",
    "            goodcount = 0\n",
    "            if node != None:\n",
    "                if node.val >= stack[-1]:\n",
    "                    stack.append(node.val)\n",
    "                    goodcount += 1\n",
    "            \n",
    "                goodcount += goodNodeDFS(node.left, stack.copy())\n",
    "                goodcount += goodNodeDFS(node.right, stack.copy())\n",
    "            return goodcount\n",
    "\n",
    "        goodcount += goodNodeDFS(root.left, stack.copy())\n",
    "        goodcount += goodNodeDFS(root.right, stack.copy())\n",
    "        \n",
    "        return goodcount"
   ]
  },
  {
   "cell_type": "code",
   "execution_count": 91,
   "id": "2a9b417a-cdf2-4121-89c5-f13f065b371d",
   "metadata": {},
   "outputs": [],
   "source": [
    "# recursive DFS with max value instead of stack\n",
    "# Definition for a binary tree node.\n",
    "# class TreeNode:\n",
    "#     def __init__(self, val=0, left=None, right=None):\n",
    "#         self.val = val\n",
    "#         self.left = left\n",
    "#         self.right = right\n",
    "class Solution:\n",
    "    def goodNodes(self, root: TreeNode) -> int:\n",
    "\n",
    "        def goodNodeDFS(node, maxval):\n",
    "            goodcount = 0\n",
    "            if node != None:\n",
    "                if node.val >= maxval:\n",
    "                    maxval = node.val\n",
    "                    goodcount += 1\n",
    "            \n",
    "                goodcount += goodNodeDFS(node.left, maxval)\n",
    "                goodcount += goodNodeDFS(node.right, maxval)\n",
    "                \n",
    "            return goodcount\n",
    "\n",
    "        return goodNodeDFS(root, root.val)"
   ]
  },
  {
   "cell_type": "code",
   "execution_count": 93,
   "id": "d36091f9-7e70-4d92-a4eb-d13d9c824f95",
   "metadata": {},
   "outputs": [
    {
     "data": {
      "text/plain": [
       "1"
      ]
     },
     "execution_count": 93,
     "metadata": {},
     "output_type": "execute_result"
    }
   ],
   "source": [
    "soln = Solution()\n",
    "soln.goodNodes(root3)"
   ]
  },
  {
   "cell_type": "markdown",
   "id": "92ad1f64-d844-48a3-a6a3-465f9033ebea",
   "metadata": {},
   "source": [
    "## 98. Validate Binary Search Tree\n",
    "\n",
    "leetcode: https://leetcode.com/problems/validate-binary-search-tree/"
   ]
  },
  {
   "cell_type": "markdown",
   "id": "a443aa45-f480-48aa-8561-289302223171",
   "metadata": {},
   "source": [
    "Given the `root` of a binary tree, determine if it is a valid binary search tree (BST).\n",
    "\n",
    "A **valid BST** is defined as follows:\n",
    "\n",
    "* The left subtree of a node contains only nodes with keys **less than** the node's key.\n",
    "* The right subtree of a node contains only nodes with keys **greater than** the node's key.\n",
    "* Both the left and right subtrees must also be binary search trees.\n",
    " \n",
    "\n",
    "**Example 1:**\n",
    "\n",
    "![https://assets.leetcode.com/uploads/2020/12/01/tree1.jpg](https://assets.leetcode.com/uploads/2020/12/01/tree1.jpg)\n",
    "```\n",
    "Input: root = [2,1,3]\n",
    "Output: true\n",
    "```\n",
    "**Example 2:**\n",
    "\n",
    "![https://assets.leetcode.com/uploads/2020/12/01/tree2.jpg](https://assets.leetcode.com/uploads/2020/12/01/tree2.jpg)\n",
    "```\n",
    "Input: root = [5,1,4,null,null,3,6]\n",
    "Output: false\n",
    "Explanation: The root node's value is 5 but its right child's value is 4.\n",
    "```\n",
    "\n",
    "**Constraints:**\n",
    "\n",
    "* The number of nodes in the tree is in the range `[1, 10^4]`.\n",
    "* `-2^31 <= Node.val <= 2^31 - 1`"
   ]
  },
  {
   "cell_type": "code",
   "execution_count": 15,
   "id": "332a7e4d-d233-4296-8c0a-e935e45ead1b",
   "metadata": {},
   "outputs": [],
   "source": [
    "# Definition for a binary tree node.\n",
    "class TreeNode:\n",
    "    def __init__(self, val=0, left=None, right=None):\n",
    "        self.val = val\n",
    "        self.left = left\n",
    "        self.right = right\n",
    "\n",
    "def makeTree(nodes, i):\n",
    "    if i < len(nodes) and nodes[i] != None:\n",
    "        node = TreeNode(nodes[i])\n",
    "        node.left = makeTree(nodes, 2*i+1)\n",
    "        node.right = makeTree(nodes, 2*i+2)\n",
    "    else:\n",
    "        node = None\n",
    "\n",
    "    return node\n",
    "\n",
    "root1 = makeTree([2,1,3], 0)\n",
    "root2 = makeTree([5,1,4,None,None,3,6], 0)\n",
    "root3 = makeTree([1,1], 0)\n",
    "\n",
    "# Leetcode omits children of null nodes in it's level-order array representation of binary trees\n",
    "# e.g. tree array [2,None,4,10,8,None,None,4] represents:\n",
    "#  2\n",
    "#   \\\n",
    "#    4\n",
    "#   / \\\n",
    "# 10   8\n",
    "#     /  \n",
    "#    4\n"
   ]
  },
  {
   "cell_type": "code",
   "execution_count": 17,
   "id": "24327ed7-e726-4db9-ae5c-994f0c1dbedd",
   "metadata": {},
   "outputs": [],
   "source": [
    "from typing import List, Optional\n",
    "# Definition for a binary tree node.\n",
    "# class TreeNode:\n",
    "#     def __init__(self, val=0, left=None, right=None):\n",
    "#         self.val = val\n",
    "#         self.left = left\n",
    "#         self.right = right\n",
    "class Solution:\n",
    "    def isValidBST(self, root: Optional[TreeNode]) -> bool:\n",
    "        def minMaxDFS(node):\n",
    "            # base case\n",
    "            if node == None:\n",
    "                is_valid = True\n",
    "                minval = float(\"inf\")\n",
    "                maxval = -float(\"inf\")\n",
    "            else:\n",
    "                left_isvalid, left_minval, left_maxval = minMaxDFS(node.left)\n",
    "                right_isvalid, right_minval, right_maxval = minMaxDFS(node.right)\n",
    "                if left_isvalid and right_isvalid and (node.val > left_maxval) and (node.val < right_minval):\n",
    "                    is_valid = True\n",
    "                else:\n",
    "                    is_valid = False\n",
    "\n",
    "                minval = min(node.val, left_minval)\n",
    "                maxval = max(node.val, right_maxval)\n",
    "\n",
    "\n",
    "            return (is_valid, minval, maxval)\n",
    "        \n",
    "        return minMaxDFS(root)[0]"
   ]
  },
  {
   "cell_type": "code",
   "execution_count": 18,
   "id": "637b942b-5e52-41b7-ad7e-b64f32da661f",
   "metadata": {},
   "outputs": [
    {
     "data": {
      "text/plain": [
       "False"
      ]
     },
     "execution_count": 18,
     "metadata": {},
     "output_type": "execute_result"
    }
   ],
   "source": [
    "soln = Solution()\n",
    "soln.isValidBST(root3)"
   ]
  },
  {
   "cell_type": "markdown",
   "id": "6d4b6d7c-015b-496d-bc35-27dcc98dce2c",
   "metadata": {},
   "source": [
    "## 230. Kth Smallest Element in a BST\n",
    "\n",
    "leetcode: https://leetcode.com/problems/kth-smallest-element-in-a-bst/"
   ]
  },
  {
   "cell_type": "markdown",
   "id": "f2cebcc6-f1bc-4f0b-864a-eac416b52843",
   "metadata": {},
   "source": [
    "Given the `root` of a binary search tree, and an integer `k`, return the `kth` smallest value **(1-indexed)** of all the values of the nodes in the tree.\n",
    "\n",
    " \n",
    "\n",
    "**Example 1:**\n",
    "\n",
    "![https://assets.leetcode.com/uploads/2021/01/28/kthtree1.jpg](https://assets.leetcode.com/uploads/2021/01/28/kthtree1.jpg)\n",
    "```\n",
    "Input: root = [3,1,4,null,2], k = 1\n",
    "Output: 1\n",
    "```\n",
    "**Example 2:**\n",
    "\n",
    "![https://assets.leetcode.com/uploads/2021/01/28/kthtree2.jpg](https://assets.leetcode.com/uploads/2021/01/28/kthtree2.jpg)\n",
    "```\n",
    "Input: root = [5,3,6,2,4,null,null,1], k = 3\n",
    "Output: 3\n",
    "```\n",
    "\n",
    "**Constraints:**\n",
    "\n",
    "* The number of nodes in the tree is `n`.\n",
    "* `1 <= k <= n <= 10^4`\n",
    "* `0 <= Node.val <= 10^4`\n",
    " \n",
    "\n",
    "**Follow up:** If the BST is modified often (i.e., we can do insert and delete operations) and you need to find the kth smallest frequently, how would you optimize?"
   ]
  },
  {
   "cell_type": "code",
   "execution_count": 21,
   "id": "27b7eef7-4d4b-45de-b35e-d8a94f475c13",
   "metadata": {},
   "outputs": [],
   "source": [
    "# Definition for a binary tree node.\n",
    "class TreeNode:\n",
    "    def __init__(self, val=0, left=None, right=None):\n",
    "        self.val = val\n",
    "        self.left = left\n",
    "        self.right = right\n",
    "\n",
    "def makeTree(nodes, i):\n",
    "    if i < len(nodes) and nodes[i] != None:\n",
    "        node = TreeNode(nodes[i])\n",
    "        node.left = makeTree(nodes, 2*i+1)\n",
    "        node.right = makeTree(nodes, 2*i+2)\n",
    "    else:\n",
    "        node = None\n",
    "\n",
    "    return node\n",
    "\n",
    "root1 = makeTree([3,1,4,None,2], 0)\n",
    "k1 = 1\n",
    "root2 = makeTree([5,3,6,2,4,None,None,1], 0)\n",
    "k2 = 3\n",
    "root3 = makeTree([5,3,6,2,4,None,None,1], 0)\n",
    "k3 = 6"
   ]
  },
  {
   "cell_type": "code",
   "execution_count": 5,
   "id": "69c66121-d43a-4ea8-bd78-013f960c7624",
   "metadata": {},
   "outputs": [],
   "source": [
    "test = []"
   ]
  },
  {
   "cell_type": "code",
   "execution_count": 6,
   "id": "54b1b85d-232d-435e-987f-be1b49ada1b4",
   "metadata": {},
   "outputs": [],
   "source": [
    "test.extend([6])"
   ]
  },
  {
   "cell_type": "code",
   "execution_count": 7,
   "id": "ae737bfa-5552-4257-8b96-3d318e57c9a7",
   "metadata": {},
   "outputs": [
    {
     "data": {
      "text/plain": [
       "[6]"
      ]
     },
     "execution_count": 7,
     "metadata": {},
     "output_type": "execute_result"
    }
   ],
   "source": [
    "test"
   ]
  },
  {
   "cell_type": "code",
   "execution_count": null,
   "id": "5c72e40f-949d-4208-86c0-fa1a1116ff03",
   "metadata": {},
   "outputs": [],
   "source": []
  },
  {
   "cell_type": "code",
   "execution_count": 18,
   "id": "90dd012d-f303-4cdb-862c-458afd315d2b",
   "metadata": {},
   "outputs": [],
   "source": [
    "# inorder traversal, recursive\n",
    "from typing import List, Optional\n",
    "# Definition for a binary tree node.\n",
    "# class TreeNode:\n",
    "#     def __init__(self, val=0, left=None, right=None):\n",
    "#         self.val = val\n",
    "#         self.left = left\n",
    "#         self.right = right\n",
    "class Solution:\n",
    "    def kthSmallest(self, root: Optional[TreeNode], k: int) -> int:\n",
    "        def orderedDFS(node):\n",
    "            nodes = []\n",
    "            if node != None:\n",
    "                leftnodes = orderedDFS(node.left)\n",
    "                rightnodes = orderedDFS(node.right)\n",
    "                if leftnodes != None:\n",
    "                    nodes.extend(leftnodes)\n",
    "                    \n",
    "                nodes.extend([node.val])\n",
    "                \n",
    "                if rightnodes != None:\n",
    "                    nodes.extend(rightnodes)\n",
    "            else:\n",
    "                nodes = None\n",
    "\n",
    "            return nodes\n",
    "        \n",
    "        return orderedDFS(root)[k-1]"
   ]
  },
  {
   "cell_type": "code",
   "execution_count": 36,
   "id": "39733323-0ebd-4b76-91b4-b8d80e55216c",
   "metadata": {},
   "outputs": [],
   "source": [
    "# inorder traversal, iterative with stack\n",
    "from typing import List, Optional\n",
    "# Definition for a binary tree node.\n",
    "# class TreeNode:\n",
    "#     def __init__(self, val=0, left=None, right=None):\n",
    "#         self.val = val\n",
    "#         self.left = left\n",
    "#         self.right = right\n",
    "class Solution:\n",
    "    def kthSmallest(self, root: Optional[TreeNode], k: int) -> int:\n",
    "        stack = [root]\n",
    "        order = []\n",
    "        node = root.left\n",
    "\n",
    "        while stack or node:\n",
    "            while node != None:\n",
    "                stack.append(node)\n",
    "                node = node.left\n",
    "\n",
    "            node = stack.pop()\n",
    "            order.append(node.val)\n",
    "            # exit early to output kth result if found\n",
    "            k -= 1\n",
    "            if k == 0:\n",
    "                return node.val\n",
    "\n",
    "            # set pointer to right child for next iteration of loop\n",
    "            node = node.right\n",
    "\n",
    "        \n",
    "        \n",
    "        return order"
   ]
  },
  {
   "cell_type": "code",
   "execution_count": 45,
   "id": "6fc5136f-4177-46b8-aa87-b3d8c7d1c1d7",
   "metadata": {},
   "outputs": [
    {
     "data": {
      "text/plain": [
       "4"
      ]
     },
     "execution_count": 45,
     "metadata": {},
     "output_type": "execute_result"
    }
   ],
   "source": [
    "soln = Solution()\n",
    "soln.kthSmallest(root1,4)"
   ]
  },
  {
   "cell_type": "code",
   "execution_count": null,
   "id": "d948d7de-8112-45bb-81dc-8bffc0fb7034",
   "metadata": {},
   "outputs": [],
   "source": []
  },
  {
   "cell_type": "markdown",
   "id": "88cf194b-d632-46ad-b404-460ff4596058",
   "metadata": {},
   "source": [
    "## 105. Construct Binary Tree from Preorder and Inorder Traversal\n",
    "\n",
    "leetcode: https://leetcode.com/problems/construct-binary-tree-from-preorder-and-inorder-traversal/"
   ]
  },
  {
   "cell_type": "markdown",
   "id": "1bfd2b43-bdce-4eb6-9640-6d6a9ca7fd1b",
   "metadata": {},
   "source": [
    "Given two integer arrays `preorder` and `inorder` where `preorder` is the preorder traversal of a binary tree and `inorder` is the inorder traversal of the same tree, construct and **return the binary tree**.\n",
    "\n",
    " \n",
    "\n",
    "**Example 1:**\n",
    "\n",
    "![https://assets.leetcode.com/uploads/2021/02/19/tree.jpg](https://assets.leetcode.com/uploads/2021/02/19/tree.jpg)\n",
    "```\n",
    "Input: preorder = [3,9,20,15,7], inorder = [9,3,15,20,7]\n",
    "Output: [3,9,20,null,null,15,7]\n",
    "```\n",
    "**Example 2:**\n",
    "```\n",
    "Input: preorder = [-1], inorder = [-1]\n",
    "Output: [-1]\n",
    "```\n",
    "\n",
    "**Constraints:**\n",
    "\n",
    "* `1 <= preorder.length <= 3000`\n",
    "* `inorder.length == preorder.length`\n",
    "* `-3000 <= preorder[i], inorder[i] <= 3000`\n",
    "* `preorder` and `inorder` consist of **unique** values.\n",
    "* Each value of `inorder` also appears in `preorder`.\n",
    "* `preorder` is **guaranteed** to be the preorder traversal of the tree.\n",
    "* `inorder` is **guaranteed** to be the inorder traversal of the tree."
   ]
  },
  {
   "cell_type": "markdown",
   "id": "d320f295-8383-44d7-9d0e-4352f1700462",
   "metadata": {},
   "source": [
    "**Example 3:**\n",
    "\n",
    "![https://www.baeldung.com/wp-content/uploads/sites/4/2020/08/full-tree.png](https://www.baeldung.com/wp-content/uploads/sites/4/2020/08/full-tree.png)\n",
    "```\n",
    "Input: preorder = [6,3,2,4,19,12,7,15,30], inorder = [2,3,4,6,7,12,15,19,30]\n",
    "Output: [6,3,19,2,4,12,30,None,None,None,None,7,15,None,None]\n",
    "```"
   ]
  },
  {
   "cell_type": "code",
   "execution_count": 7,
   "id": "579f047c-65f0-440b-b1aa-e7097ea43726",
   "metadata": {},
   "outputs": [],
   "source": [
    "# Definition for a binary tree node.\n",
    "class TreeNode:\n",
    "    def __init__(self, val=0, left=None, right=None):\n",
    "        self.val = val\n",
    "        self.left = left\n",
    "        self.right = right\n",
    "\n",
    "def makeTree(nodes, i):\n",
    "    if i < len(nodes) and nodes[i] != None:\n",
    "        node = TreeNode(nodes[i])\n",
    "        node.left = makeTree(nodes, 2*i+1)\n",
    "        node.right = makeTree(nodes, 2*i+2)\n",
    "    else:\n",
    "        node = None\n",
    "\n",
    "    return node\n",
    "\n",
    "\n",
    "preorder1 = [3,9,20,15,7]\n",
    "inorder1 = [9,3,15,20,7]\n",
    "\n",
    "preorder2 = [-1]\n",
    "inorder2 = [-1]\n",
    "\n",
    "preorder3 = [6,3,2,4,19,12,7,15,30]\n",
    "inorder3 = [2,3,4,6,7,12,15,19,30]"
   ]
  },
  {
   "cell_type": "code",
   "execution_count": 75,
   "id": "471b7ce1-fe79-4b91-83d3-3814574227b4",
   "metadata": {},
   "outputs": [],
   "source": [
    "# NOT WORKING\n",
    "from typing import List, Optional\n",
    "# Definition for a binary tree node.\n",
    "# class TreeNode:\n",
    "#     def __init__(self, val=0, left=None, right=None):\n",
    "#         self.val = val\n",
    "#         self.left = left\n",
    "#         self.right = right\n",
    "class Solution:\n",
    "    def buildTree(self, preorder: List[int], inorder: List[int]) -> Optional[TreeNode]:\n",
    "        # only valid of tree is a BST! use binary search to find index\n",
    "        # def findIndex(nodes, val):\n",
    "        #     l = 0\n",
    "        #     r = len(nodes)-1\n",
    "        #     while l <= r:\n",
    "        #         mid = (l + r)//2\n",
    "        #         if nodes[mid] == val:\n",
    "        #             return mid\n",
    "        #         if nodes[mid] < val:\n",
    "        #             l = mid+1\n",
    "        #         else:\n",
    "        #             r = mid-1\n",
    "        #     return -1\n",
    "\n",
    "        if len(preorder)>0:\n",
    "            rootval = preorder[0]        \n",
    "            rootidx = inorder.index(rootval) # usable because of unique node value constraint\n",
    "            leftinorder = inorder[:rootidx]\n",
    "            rightinorder = inorder[rootidx+1:]\n",
    "    \n",
    "            root = TreeNode(rootval)\n",
    "            \n",
    "            if (len(leftinorder) > 0):\n",
    "                leftpreorder = preorder[1:len(leftinorder)+1]\n",
    "                root.left = self.buildTree(leftpreorder,leftinorder)\n",
    "                \n",
    "            if (len(rightinorder) > 0):\n",
    "                rightpreorder = preorder[len(leftinorder)+1:len(rightinorder)+1]\n",
    "                root.right = self.buildTree(rightpreorder,rightinorder)\n",
    "        else:\n",
    "            root = None\n",
    "        \n",
    "        return root"
   ]
  },
  {
   "cell_type": "code",
   "execution_count": 78,
   "id": "a0eced4b-b37a-4860-8947-7d4efd8f4b93",
   "metadata": {},
   "outputs": [],
   "source": [
    "# insight: \n",
    "# inorder representation of tree is invariant\n",
    "# when splitting the array on a given node, the left/right sections are themselves inorder representations of the left/right subtrees\n",
    "from typing import List, Optional\n",
    "# Definition for a binary tree node.\n",
    "# class TreeNode:\n",
    "#     def __init__(self, val=0, left=None, right=None):\n",
    "#         self.val = val\n",
    "#         self.left = left\n",
    "#         self.right = right\n",
    "class Solution:\n",
    "    def buildTree(self, preorder: List[int], inorder: List[int]) -> Optional[TreeNode]:\n",
    "        if len(preorder)==0 or len(inorder)==0:\n",
    "            return None\n",
    "            \n",
    "        rootval = preorder[0]\n",
    "        rootidx = inorder.index(rootval)\n",
    "\n",
    "        root = TreeNode(rootval)\n",
    "        root.left = self.buildTree(preorder[1:rootidx+1], inorder[:rootidx])\n",
    "        root.right = self.buildTree(preorder[rootidx+1:], inorder[rootidx+1:])\n",
    "        \n",
    "        return root"
   ]
  },
  {
   "cell_type": "code",
   "execution_count": 79,
   "id": "c883d836-2e79-4d1f-a3d7-3a057b345b78",
   "metadata": {},
   "outputs": [],
   "source": [
    "soln = Solution()\n",
    "ans = soln.buildTree(preorder1, inorder1)"
   ]
  },
  {
   "cell_type": "code",
   "execution_count": null,
   "id": "6398b763-ab05-4a51-9faf-c7cb84001efa",
   "metadata": {},
   "outputs": [],
   "source": []
  },
  {
   "cell_type": "markdown",
   "id": "171b8955-02f5-424b-b67a-99ece50bde17",
   "metadata": {},
   "source": [
    "## 124. Binary Tree Maximum Path Sum\n",
    "\n",
    "leetcode: https://leetcode.com/problems/binary-tree-maximum-path-sum/"
   ]
  },
  {
   "cell_type": "markdown",
   "id": "10255be6-5f79-4bd0-ae4f-489bfd204455",
   "metadata": {},
   "source": [
    "A **path** in a binary tree is a sequence of nodes where each pair of adjacent nodes in the sequence has an edge connecting them. A node can only appear in the sequence **at most once**. Note that the path does not need to pass through the root.\n",
    "\n",
    "The **path sum** of a path is the sum of the node's values in the path.\n",
    "\n",
    "Given the `root` of a binary tree, return the **maximum path sum** of any non-empty path.\n",
    "\n",
    " \n",
    "\n",
    "**Example 1:**\n",
    "\n",
    "![https://assets.leetcode.com/uploads/2020/10/13/exx1.jpg](https://assets.leetcode.com/uploads/2020/10/13/exx1.jpg)\n",
    "```\n",
    "Input: root = [1,2,3]\n",
    "Output: 6\n",
    "Explanation: The optimal path is 2 -> 1 -> 3 with a path sum of 2 + 1 + 3 = 6.\n",
    "```\n",
    "**Example 2:**\n",
    "\n",
    "![https://assets.leetcode.com/uploads/2020/10/13/exx2.jpg](https://assets.leetcode.com/uploads/2020/10/13/exx2.jpg)\n",
    "```\n",
    "Input: root = [-10,9,20,null,null,15,7]\n",
    "Output: 42\n",
    "Explanation: The optimal path is 15 -> 20 -> 7 with a path sum of 15 + 20 + 7 = 42.\n",
    "``` \n",
    "\n",
    "**Constraints:**\n",
    "\n",
    "* The number of nodes in the tree is in the range `[1, 3 * 10^4]`.\n",
    "* `-1000 <= Node.val <= 1000`"
   ]
  },
  {
   "cell_type": "markdown",
   "id": "f15c84e9-7016-4d7e-87b8-0bcf7c2c2d57",
   "metadata": {},
   "source": [
    "**Example 3:**\n",
    "\n",
    "![https://www.baeldung.com/wp-content/uploads/sites/4/2020/08/full-tree.png](https://www.baeldung.com/wp-content/uploads/sites/4/2020/08/full-tree.png)\n",
    "```\n",
    "Input: root = [6,3,19,2,4,12,30,None,None,None,None,7,15,None,None]\n",
    "Output: 15+12+19+30 = 76\n",
    "```"
   ]
  },
  {
   "cell_type": "code",
   "execution_count": 73,
   "id": "a9e0134e-a541-4ee4-95ac-713aad706e91",
   "metadata": {},
   "outputs": [],
   "source": [
    "# Definition for a binary tree node.\n",
    "class TreeNode:\n",
    "    def __init__(self, val=0, left=None, right=None):\n",
    "        self.val = val\n",
    "        self.left = left\n",
    "        self.right = right\n",
    "\n",
    "def makeTree(nodes, i):\n",
    "    if i < len(nodes) and nodes[i] != None:\n",
    "        node = TreeNode(nodes[i])\n",
    "        node.left = makeTree(nodes, 2*i+1)\n",
    "        node.right = makeTree(nodes, 2*i+2)\n",
    "    else:\n",
    "        node = None\n",
    "\n",
    "    return node\n",
    "\n",
    "root1 = makeTree([1,2,3], 0)\n",
    "root2 = makeTree([-10,9,20,None,None,15,7], 0)\n",
    "root3 = makeTree([6,3,19,2,4,12,30,None,None,None,None,7,15,None,None], 0)\n",
    "root4 = makeTree([2,-1], 0) # 2"
   ]
  },
  {
   "cell_type": "code",
   "execution_count": 69,
   "id": "95dd025a-b44b-4f26-bcd1-537b89aab45b",
   "metadata": {},
   "outputs": [],
   "source": [
    "from typing import List, Optional\n",
    "# Definition for a binary tree node.\n",
    "# class TreeNode:\n",
    "#     def __init__(self, val=0, left=None, right=None):\n",
    "#         self.val = val\n",
    "#         self.left = left\n",
    "#         self.right = right\n",
    "class Solution:\n",
    "    \n",
    "    def maxPathSum(self, root: Optional[TreeNode]) -> int:\n",
    "        self.globalmax = float('-inf')\n",
    "        \n",
    "        def depthSum(node: Optional[TreeNode]) -> TreeNode:\n",
    "            max_sum = 0\n",
    "            if node != None:\n",
    "                lsum = max(depthSum(node.left), 0)\n",
    "                rsum = max(depthSum(node.right), 0)\n",
    "                \n",
    "                max_sum = node.val + max(lsum, rsum)\n",
    "                \n",
    "                self.globalmax = max(self.globalmax,node.val + lsum + rsum) # update global max\n",
    "\n",
    "            return max_sum\n",
    "\n",
    "        depthSum(root)        \n",
    "        return self.globalmax"
   ]
  },
  {
   "cell_type": "code",
   "execution_count": 72,
   "id": "6c1a6a13-3d26-4c3b-8c7f-fe6721e81bda",
   "metadata": {},
   "outputs": [
    {
     "data": {
      "text/plain": [
       "76"
      ]
     },
     "execution_count": 72,
     "metadata": {},
     "output_type": "execute_result"
    }
   ],
   "source": [
    "soln = Solution()\n",
    "soln.maxPathSum(root3)"
   ]
  },
  {
   "cell_type": "markdown",
   "id": "2cbacfc9-849c-41b3-a0a3-8cf916663d20",
   "metadata": {},
   "source": [
    "## 297. Serialize and Deserialize Binary Tree\n",
    "\n",
    "leetcode: https://leetcode.com/problems/serialize-and-deserialize-binary-tree/"
   ]
  },
  {
   "cell_type": "markdown",
   "id": "e6d086b9-8ec3-40a8-a3b9-d40a3b282aed",
   "metadata": {},
   "source": [
    "Serialization is the process of converting a data structure or object into a sequence of bits so that it can be stored in a file or memory buffer, or transmitted across a network connection link to be reconstructed later in the same or another computer environment.\n",
    "\n",
    "Design an algorithm to serialize and deserialize a binary tree. There is no restriction on how your serialization/deserialization algorithm should work. You just need to ensure that a binary tree can be serialized to a string and this string can be deserialized to the original tree structure.\n",
    "\n",
    "**Clarification:** The input/output format is the same as [how LeetCode serializes a binary tree](https://support.leetcode.com/hc/en-us/articles/360011883654-What-does-1-null-2-3-mean-in-binary-tree-representation-). You do not necessarily need to follow this format, so please be creative and come up with different approaches yourself.\n",
    "\n",
    " \n",
    "\n",
    "**Example 1:**\n",
    "\n",
    "![https://assets.leetcode.com/uploads/2020/09/15/serdeser.jpg](https://assets.leetcode.com/uploads/2020/09/15/serdeser.jpg)\n",
    "```\n",
    "Input: root = [1,2,3,null,null,4,5]\n",
    "Output: [1,2,3,null,null,4,5]\n",
    "```\n",
    "**Example 2:**\n",
    "```\n",
    "Input: root = []\n",
    "Output: []\n",
    "```\n",
    "\n",
    "**Constraints:**\n",
    "\n",
    "* The number of nodes in the tree is in the range `[0, 10^4]`.\n",
    "* `-1000 <= Node.val <= 1000`"
   ]
  },
  {
   "cell_type": "code",
   "execution_count": 91,
   "id": "e4615147-34ad-4743-a270-39610f37e749",
   "metadata": {},
   "outputs": [],
   "source": [
    "# Definition for a binary tree node.\n",
    "class TreeNode(object):\n",
    "    def __init__(self, x):\n",
    "        self.val = x\n",
    "        self.left = None\n",
    "        self.right = None\n",
    "\n",
    "def makeTree(nodes, i):\n",
    "    if i < len(nodes) and nodes[i] != None:\n",
    "        node = TreeNode(nodes[i])\n",
    "        node.left = makeTree(nodes, 2*i+1)\n",
    "        node.right = makeTree(nodes, 2*i+2)\n",
    "    else:\n",
    "        node = None\n",
    "\n",
    "    return node\n",
    "\n",
    "root1 = makeTree([1,2,3,None,None,4,5], 0)\n",
    "root2 = makeTree([], 0)\n",
    "root3 = makeTree([1,2,3,None,None,4,5,None,None,None,None,6,7], 0) # [1,2,3,null,null,4,5,6,7]"
   ]
  },
  {
   "cell_type": "code",
   "execution_count": 98,
   "id": "2ff29dd8-75b6-4da1-a89c-2613bc568dd1",
   "metadata": {},
   "outputs": [],
   "source": [
    "# level order traversal\n",
    "# Definition for a binary tree node.\n",
    "# class TreeNode(object):\n",
    "#     def __init__(self, x):\n",
    "#         self.val = x\n",
    "#         self.left = None\n",
    "#         self.right = None\n",
    "\n",
    "class Codec:\n",
    "    def serialize(self, root):\n",
    "        \"\"\"Encodes a tree to a single string.\n",
    "        \n",
    "        :type root: TreeNode\n",
    "        :rtype: str\n",
    "        \"\"\"\n",
    "        queue = [root]\n",
    "        ans = []\n",
    "        while len(queue) > 0:\n",
    "            queuelen = len(queue)\n",
    "            level = []\n",
    "            for i in range(queuelen):\n",
    "                node = queue.pop(0)\n",
    "                if node != None:\n",
    "                    level.append(str(node.val))\n",
    "                    # treestr = treestr + str(node.val) + ','\n",
    "                    queue.append(node.left)\n",
    "                    queue.append(node.right)\n",
    "                else:\n",
    "                    level.append('')\n",
    "\n",
    "            ans.extend(level)\n",
    "\n",
    "        \n",
    "        return ans\n",
    "\n",
    "    def deserialize(self, data):\n",
    "        \"\"\"Decodes your encoded data to tree.\n",
    "        \n",
    "        :type data: str\n",
    "        :rtype: TreeNode\n",
    "        \"\"\"\n",
    "\n",
    "        def makeTree(nodes, i):\n",
    "            if i < len(nodes) and nodes[i] != '':\n",
    "                node = TreeNode(int(nodes[i]))\n",
    "                node.left = makeTree(nodes, 2*i+1)\n",
    "                node.right = makeTree(nodes, 2*i+2)\n",
    "            else:\n",
    "                node = None\n",
    "        \n",
    "            return node\n",
    "\n",
    "        datalist = data.split(',')[0:-1]\n",
    "        root = makeTree(datalist, 0)\n",
    "        \n",
    "        return root\n",
    "\n",
    "# Your Codec object will be instantiated and called as such:\n",
    "# ser = Codec()\n",
    "# deser = Codec()\n",
    "# ans = deser.deserialize(ser.serialize(root))"
   ]
  },
  {
   "cell_type": "code",
   "execution_count": 133,
   "id": "8743c4e2-eab0-49fa-800c-8f1e502ce03f",
   "metadata": {},
   "outputs": [],
   "source": [
    "# preorder traversal with explicit nulls\n",
    "# Definition for a binary tree node.\n",
    "# class TreeNode(object):\n",
    "#     def __init__(self, x):\n",
    "#         self.val = x\n",
    "#         self.left = None\n",
    "#         self.right = None\n",
    "\n",
    "class Codec:\n",
    "    def serialize(self, root):\n",
    "        \"\"\"Encodes a tree to a single string.\n",
    "        \n",
    "        :type root: TreeNode\n",
    "        :rtype: str\n",
    "        \"\"\"\n",
    "        stack = [root]\n",
    "        ans = []\n",
    "        while len(stack) > 0:\n",
    "            node = stack.pop()\n",
    "            if node != None:\n",
    "                ans.append(str(node.val))\n",
    "                stack.append(node.right)\n",
    "                stack.append(node.left)\n",
    "            else:\n",
    "                ans.append('N')\n",
    "\n",
    "        \n",
    "        return ','.join(ans)\n",
    "\n",
    "    def deserialize(self, data):\n",
    "        \"\"\"Decodes your encoded data to tree.\n",
    "        \n",
    "        :type data: str\n",
    "        :rtype: TreeNode\n",
    "        \"\"\"\n",
    "        vals = data.split(',')\n",
    "        self.idx = 0\n",
    "        def dfs():\n",
    "            if vals[self.idx] == 'N':\n",
    "                self.idx += 1\n",
    "                return None\n",
    "            else:\n",
    "                node = TreeNode(int(vals[self.idx]))\n",
    "                self.idx += 1\n",
    "                node.left = dfs()\n",
    "                node.right = dfs()\n",
    "\n",
    "            return node\n",
    "                \n",
    "        root = dfs()\n",
    "        return root\n",
    "\n",
    "# Your Codec object will be instantiated and called as such:\n",
    "# ser = Codec()\n",
    "# deser = Codec()\n",
    "# ans = deser.deserialize(ser.serialize(root))"
   ]
  },
  {
   "cell_type": "code",
   "execution_count": 134,
   "id": "2192f07e-347c-4cfc-975f-820a854b2af2",
   "metadata": {},
   "outputs": [],
   "source": [
    "ser = Codec()\n",
    "deser = Codec()\n",
    "ans = deser.deserialize(ser.serialize(root3))"
   ]
  },
  {
   "cell_type": "code",
   "execution_count": null,
   "id": "2b013f7c-ccff-4bf2-9efa-7849492f741d",
   "metadata": {},
   "outputs": [],
   "source": []
  },
  {
   "cell_type": "markdown",
   "id": "ca7a3e87-88e7-4bad-9f46-56aee552f364",
   "metadata": {},
   "source": [
    "# Tries"
   ]
  },
  {
   "cell_type": "markdown",
   "id": "223646bc-58ed-48ec-ba6b-a2eda2fdd420",
   "metadata": {},
   "source": [
    "## 208. Implement Trie (Prefix Tree)\n",
    "\n",
    "leetcode: https://leetcode.com/problems/implement-trie-prefix-tree/"
   ]
  },
  {
   "cell_type": "code",
   "execution_count": null,
   "id": "8129bc1a-50f2-4629-bb6a-b9744c1eae7d",
   "metadata": {},
   "outputs": [],
   "source": []
  },
  {
   "cell_type": "code",
   "execution_count": null,
   "id": "04bcd6ed-9702-4b27-a900-df91a1944106",
   "metadata": {},
   "outputs": [],
   "source": []
  },
  {
   "cell_type": "markdown",
   "id": "a97a0b6f-e1e9-4253-a620-ee91afc13e86",
   "metadata": {},
   "source": [
    "A [trie](https://en.wikipedia.org/wiki/Trie) (pronounced as \"try\") or prefix tree is a tree data structure used to efficiently store and retrieve keys in a dataset of strings. There are various applications of this data structure, such as autocomplete and spellchecker.\n",
    "\n",
    "Implement the Trie class:\n",
    "\n",
    "* Trie() Initializes the `trie` object.\n",
    "* `void insert(String word)` Inserts the string `word` into the trie.\n",
    "* `boolean search(String word)` Returns `true` if the string `word` is in the trie (i.e., was inserted before), and `false` otherwise.\n",
    "* `boolean startsWith(String prefix)` Returns `true` if there is a previously inserted string `word` that has the prefix `prefix`, and `false` otherwise.\n",
    " \n",
    "\n",
    "**Example 1:**\n",
    "```\n",
    "Input\n",
    "[\"Trie\", \"insert\", \"search\", \"search\", \"startsWith\", \"insert\", \"search\"]\n",
    "[[], [\"apple\"], [\"apple\"], [\"app\"], [\"app\"], [\"app\"], [\"app\"]]\n",
    "Output\n",
    "[null, null, true, false, true, null, true]\n",
    "\n",
    "Explanation\n",
    "Trie trie = new Trie();\n",
    "trie.insert(\"apple\");\n",
    "trie.search(\"apple\");   // return True\n",
    "trie.search(\"app\");     // return False\n",
    "trie.startsWith(\"app\"); // return True\n",
    "trie.insert(\"app\");\n",
    "trie.search(\"app\");     // return True\n",
    "```\n",
    "\n",
    "**Constraints:**\n",
    "\n",
    "* `1 <= word.length, prefix.length <= 2000`\n",
    "* `word` and `prefix` consist only of lowercase English letters.\n",
    "* At most `3 * 10^4` calls in **total** will be made to `insert`, `search`, and `startsWith`."
   ]
  },
  {
   "cell_type": "code",
   "execution_count": 5,
   "id": "d8c4d16a-af86-4c24-99af-3320ce6e704f",
   "metadata": {},
   "outputs": [],
   "source": [
    "word1 = 'apple'\n",
    "prefix1 = 'app'"
   ]
  },
  {
   "cell_type": "code",
   "execution_count": 128,
   "id": "ea375570-f285-4808-a89a-9f31a08df315",
   "metadata": {},
   "outputs": [],
   "source": [
    "# Definition for a trie node.\n",
    "class TrieNode(object):\n",
    "    def __init__(self, x):\n",
    "        self.val = x\n",
    "        self.children = {}\n",
    "        self.is_word = False\n",
    "        \n",
    "class Trie:    \n",
    "    \n",
    "    def __init__(self):\n",
    "        self.root = TrieNode(None)\n",
    "        return\n",
    "\n",
    "    def insert(self, word: str) -> None:\n",
    "        node = self.root\n",
    "        for letter in word:\n",
    "            child = node.children.get(letter)\n",
    "            if child == None:\n",
    "                child = TrieNode(letter)\n",
    "                node.children[letter] = child\n",
    "            \n",
    "            node = child\n",
    "\n",
    "        node.is_word = True\n",
    "        return self.root\n",
    "\n",
    "    def search(self, word: str) -> bool:\n",
    "        node = self.root\n",
    "        for letter in word:\n",
    "            if node != None:\n",
    "                node = node.children.get(letter)\n",
    "                \n",
    "        return node.is_word if node else False\n",
    "\n",
    "    def startsWith(self, prefix: str) -> bool:\n",
    "        node = self.root\n",
    "        for letter in prefix:\n",
    "            if node != None:\n",
    "                node = node.children.get(letter)\n",
    "                \n",
    "        return True if node else False\n",
    "\n",
    "\n",
    "# Your Trie object will be instantiated and called as such:\n",
    "# obj = Trie()\n",
    "# obj.insert(word)\n",
    "# param_2 = obj.search(word)\n",
    "# param_3 = obj.startsWith(prefix)"
   ]
  },
  {
   "cell_type": "code",
   "execution_count": 129,
   "id": "f2cb5f91-d14e-49f3-ba47-d27642344617",
   "metadata": {},
   "outputs": [],
   "source": [
    "obj = Trie()\n",
    "testans = obj.insert(word1)\n",
    "param_2 = obj.search(word1)\n",
    "param_3 = obj.startsWith(prefix1)"
   ]
  },
  {
   "cell_type": "code",
   "execution_count": 130,
   "id": "aa7e348b-8b9d-472b-af16-c06cffae434a",
   "metadata": {},
   "outputs": [
    {
     "data": {
      "text/plain": [
       "<__main__.TrieNode at 0x105d95ca0>"
      ]
     },
     "execution_count": 130,
     "metadata": {},
     "output_type": "execute_result"
    }
   ],
   "source": [
    "obj.insert('apply')"
   ]
  },
  {
   "cell_type": "code",
   "execution_count": 131,
   "id": "875f245c-ebe7-4006-bdbf-248f5d3b55ab",
   "metadata": {},
   "outputs": [
    {
     "data": {
      "text/plain": [
       "<__main__.TrieNode at 0x105d95ca0>"
      ]
     },
     "execution_count": 131,
     "metadata": {},
     "output_type": "execute_result"
    }
   ],
   "source": [
    "obj.insert('app')"
   ]
  },
  {
   "cell_type": "code",
   "execution_count": 137,
   "id": "26d097c0-6028-4ddc-bfbe-86b2068a0f27",
   "metadata": {},
   "outputs": [
    {
     "data": {
      "text/plain": [
       "False"
      ]
     },
     "execution_count": 137,
     "metadata": {},
     "output_type": "execute_result"
    }
   ],
   "source": [
    "obj.startsWith('ape')"
   ]
  },
  {
   "cell_type": "code",
   "execution_count": 87,
   "id": "eaa7a8a6-4e5d-4532-b269-ab109f206b7f",
   "metadata": {},
   "outputs": [
    {
     "data": {
      "text/plain": [
       "True"
      ]
     },
     "execution_count": 87,
     "metadata": {},
     "output_type": "execute_result"
    }
   ],
   "source": [
    "testans.children['a'].children['p'].children['p'].children['l'].children['y'].is_word"
   ]
  },
  {
   "cell_type": "markdown",
   "id": "737a2ee1-de01-46fa-a00a-04282433bbe3",
   "metadata": {
    "jp-MarkdownHeadingCollapsed": true
   },
   "source": [
    "# NEXT CATEGORY"
   ]
  }
 ],
 "metadata": {
  "kernelspec": {
   "display_name": "Python 3 (ipykernel)",
   "language": "python",
   "name": "python3"
  },
  "language_info": {
   "codemirror_mode": {
    "name": "ipython",
    "version": 3
   },
   "file_extension": ".py",
   "mimetype": "text/x-python",
   "name": "python",
   "nbconvert_exporter": "python",
   "pygments_lexer": "ipython3",
   "version": "3.9.6"
  }
 },
 "nbformat": 4,
 "nbformat_minor": 5
}
