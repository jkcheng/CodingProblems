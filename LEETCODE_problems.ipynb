{
 "cells": [
  {
   "cell_type": "code",
   "execution_count": 1,
   "metadata": {},
   "outputs": [],
   "source": [
    "from typing import List"
   ]
  },
  {
   "cell_type": "markdown",
   "metadata": {},
   "source": [
    "# LEETCODE!\n",
    "Blind recommended list: https://www.teamblind.com/post/New-Year-Gift---Curated-List-of-Top-75-LeetCode-Questions-to-Save-Your-Time-OaM1orEU"
   ]
  },
  {
   "cell_type": "markdown",
   "metadata": {},
   "source": [
    "## Topic: Array Problems"
   ]
  },
  {
   "cell_type": "markdown",
   "metadata": {},
   "source": [
    "### 1. Two sum  \n",
    "https://leetcode.com/problems/two-sum/"
   ]
  },
  {
   "cell_type": "markdown",
   "metadata": {},
   "source": [
    "Given an array of integers, return indices of the two numbers such that they add up to a specific target.\n",
    "\n",
    "You may assume that each input would have exactly one solution, and you may not use the same element twice.\n",
    "\n",
    "**Example:**\n",
    "```\n",
    "Given nums = [2, 7, 11, 15], target = 9,\n",
    "\n",
    "Because nums[0] + nums[1] = 2 + 7 = 9,\n",
    "return [0, 1].\n",
    "```"
   ]
  },
  {
   "cell_type": "code",
   "execution_count": 42,
   "metadata": {
    "collapsed": true
   },
   "outputs": [],
   "source": [
    "nums1, target1 = [2,7,11,15], 9 # [0,1]\n",
    "nums2, target2 = [1,3,4,2], 6 # [2,3]\n",
    "nums3, target3 = [3,3], 6 # [0,1]"
   ]
  },
  {
   "cell_type": "code",
   "execution_count": 9,
   "metadata": {
    "collapsed": true
   },
   "outputs": [],
   "source": [
    "def twoSum(nums, target):\n",
    "    for i in range(0,len(nums)):\n",
    "        for j in range(0,len(nums)):\n",
    "            if i==j:\n",
    "                pass\n",
    "            else:\n",
    "                test = nums[i]+nums[j]\n",
    "                if test==target:\n",
    "                    return [i,j]\n",
    "                "
   ]
  },
  {
   "cell_type": "code",
   "execution_count": 47,
   "metadata": {
    "collapsed": true
   },
   "outputs": [],
   "source": [
    "def twoSum(nums, target):\n",
    "    dct = {}\n",
    "    for i,num in enumerate(nums):\n",
    "        dct[num] = i\n",
    "    for i,num in enumerate(nums):\n",
    "        comp = target-num\n",
    "        j = dct.get(comp)\n",
    "        if j is not None and i!=j:\n",
    "            return [i,j]"
   ]
  },
  {
   "cell_type": "code",
   "execution_count": 74,
   "metadata": {
    "collapsed": true
   },
   "outputs": [],
   "source": [
    "def twoSum(nums, target):\n",
    "    dct = {}\n",
    "    for i,num in enumerate(nums):\n",
    "        comp = target-num\n",
    "        j = dct.get(comp)\n",
    "        if j is not None and i!=j:\n",
    "            print([i,j])\n",
    "        else:\n",
    "            dct[num] = i"
   ]
  },
  {
   "cell_type": "code",
   "execution_count": 40,
   "metadata": {
    "collapsed": true
   },
   "outputs": [],
   "source": [
    "# two pointer\n",
    "def twoSum(nums, target):\n",
    "    nums = sorted(enumerate(nums), key=lambda x: x[1])\n",
    "    l,r = 0, len(nums)-1\n",
    "    while l<r:\n",
    "        if nums[l][1] + nums[r][1] == target:\n",
    "            return [nums[l][0], nums[r][0]]\n",
    "        elif nums[l][1]+nums[r][1] > target:\n",
    "            r -= 1\n",
    "        else:\n",
    "            l += 1\n",
    "    return -1"
   ]
  },
  {
   "cell_type": "markdown",
   "metadata": {},
   "source": [
    "### 121. Best Time to Buy and Sell Stock\n",
    "https://leetcode.com/problems/best-time-to-buy-and-sell-stock/"
   ]
  },
  {
   "cell_type": "markdown",
   "metadata": {},
   "source": [
    "Say you have an array for which the $i^{th}$ element is the price of a given stock on day $i$.\n",
    "\n",
    "If you were only permitted to complete at most one transaction (i.e., buy one and sell one share of the stock), design an algorithm to find the maximum profit.\n",
    "\n",
    "Note that you cannot sell a stock before you buy one.\n",
    "\n",
    "**Example 1:**\n",
    "```\n",
    "Input: [7,1,5,3,6,4]\n",
    "Output: 5\n",
    "Explanation: Buy on day 2 (price = 1) and sell on day 5 (price = 6), profit = 6-1 = 5.\n",
    "             Not 7-1 = 6, as selling price needs to be larger than buying price.\n",
    "```\n",
    "**Example 2:**\n",
    "```\n",
    "Input: [7,6,4,3,1]\n",
    "Output: 0\n",
    "Explanation: In this case, no transaction is done, i.e. max profit = 0.\n",
    "```"
   ]
  },
  {
   "cell_type": "code",
   "execution_count": 98,
   "metadata": {
    "collapsed": true
   },
   "outputs": [],
   "source": [
    "prices = [7,1,5,3,6,4]"
   ]
  },
  {
   "cell_type": "code",
   "execution_count": 104,
   "metadata": {
    "collapsed": true
   },
   "outputs": [],
   "source": [
    "prices = [7,6,4,3,1]"
   ]
  },
  {
   "cell_type": "code",
   "execution_count": 100,
   "metadata": {
    "collapsed": true
   },
   "outputs": [],
   "source": [
    "def maxProfit(prices):\n",
    "    maxprice = 0\n",
    "    for i in range(0, len(prices)):\n",
    "        for j in range(i, len(prices)):\n",
    "            price = prices[j]-prices[i]\n",
    "            if price > maxprice:\n",
    "                maxprice = price\n",
    "    return maxprice"
   ]
  },
  {
   "cell_type": "code",
   "execution_count": 102,
   "metadata": {
    "collapsed": true
   },
   "outputs": [],
   "source": [
    "def maxProfit(prices):\n",
    "    minprice = 9999999\n",
    "    maxprice = 0\n",
    "    for i in range(0, len(prices)):\n",
    "        if prices[i] < minprice:\n",
    "            minprice = prices[i]\n",
    "        elif prices[i] - minprice > maxprice:\n",
    "            maxprice = prices[i] - minprice\n",
    "    return maxprice"
   ]
  },
  {
   "cell_type": "code",
   "execution_count": 105,
   "metadata": {},
   "outputs": [
    {
     "data": {
      "text/plain": [
       "0"
      ]
     },
     "execution_count": 105,
     "metadata": {},
     "output_type": "execute_result"
    }
   ],
   "source": [
    "maxProfit(prices)"
   ]
  },
  {
   "cell_type": "markdown",
   "metadata": {},
   "source": [
    "### 217. Contains Duplicate\n",
    "https://leetcode.com/problems/contains-duplicate/"
   ]
  },
  {
   "cell_type": "markdown",
   "metadata": {},
   "source": [
    "Given an array of integers, find if the array contains any duplicates.\n",
    "\n",
    "Your function should return true if any value appears at least twice in the array, and it should return false if every element is distinct.\n",
    "\n",
    "***Example 1:***\n",
    "```\n",
    "Input: [1,2,3,1]\n",
    "Output: true\n",
    "```\n",
    "**Example 2:**\n",
    "```\n",
    "Input: [1,2,3,4]\n",
    "Output: false\n",
    "```\n",
    "**Example 3:**\n",
    "```\n",
    "Input: [1,1,1,3,3,4,3,2,4,2]\n",
    "Output: true\n",
    "```"
   ]
  },
  {
   "cell_type": "code",
   "execution_count": 114,
   "metadata": {
    "collapsed": true
   },
   "outputs": [],
   "source": [
    "nums1 = [1,2,3,1]\n",
    "nums2 = [1,2,3,4]\n",
    "nums3 = [1,1,1,3,3,4,3,2,4,2]"
   ]
  },
  {
   "cell_type": "code",
   "execution_count": 117,
   "metadata": {
    "collapsed": true
   },
   "outputs": [],
   "source": [
    "def containsDuplicate(nums: List[int]) -> bool:\n",
    "    dct = {}\n",
    "    for i in range(0,len(nums)):\n",
    "        dupe = dct.get(nums[i])\n",
    "        if dupe is not None:\n",
    "            return True\n",
    "        else:\n",
    "            dct[nums[i]] = i\n",
    "    return False"
   ]
  },
  {
   "cell_type": "code",
   "execution_count": 120,
   "metadata": {
    "collapsed": true
   },
   "outputs": [],
   "source": [
    "def containsDuplicate(nums: List[int]) -> bool:\n",
    "    setnums = set(nums)\n",
    "    if len(setnums)<len(nums):\n",
    "        return True\n",
    "    else:\n",
    "        return False"
   ]
  },
  {
   "cell_type": "code",
   "execution_count": 122,
   "metadata": {},
   "outputs": [
    {
     "data": {
      "text/plain": [
       "False"
      ]
     },
     "execution_count": 122,
     "metadata": {},
     "output_type": "execute_result"
    }
   ],
   "source": [
    "containsDuplicate(nums2)"
   ]
  },
  {
   "cell_type": "markdown",
   "metadata": {},
   "source": [
    "### 238. Product of Array Except Self\n",
    "https://leetcode.com/problems/product-of-array-except-self/"
   ]
  },
  {
   "cell_type": "markdown",
   "metadata": {},
   "source": [
    "Given an array nums of n integers where n > 1,  return an array output such that output[i] is equal to the product of all the elements of nums except nums[i].\n",
    "\n",
    "**Example:**\n",
    "```\n",
    "Input:  [1,2,3,4]\n",
    "Output: [24,12,8,6]\n",
    "```\n",
    "**Note:** Please solve it without division and in O(n).\n",
    "\n",
    "**Follow up:**  \n",
    "Could you solve it with constant space complexity? (The output array does not count as extra space for the purpose of space complexity analysis.)"
   ]
  },
  {
   "cell_type": "code",
   "execution_count": 216,
   "metadata": {
    "collapsed": true
   },
   "outputs": [],
   "source": [
    "nums1 = [1,2,3,4]"
   ]
  },
  {
   "cell_type": "code",
   "execution_count": 149,
   "metadata": {
    "collapsed": true
   },
   "outputs": [],
   "source": [
    "# 3-pass solution\n",
    "def productExceptSelf(nums: List[int]) -> List[int]:\n",
    "    length = len(nums)\n",
    "    l, r, p = [1]*length, [1]*length, [1]*length\n",
    "    for i in range(1,length):\n",
    "        l[i] = l[i-1]*nums[i-1]\n",
    "    for i in range(length-2,-1,-1): # iterates in reverse\n",
    "        r[i] = r[i+1]*nums[i+1]\n",
    "    for i in range(0,length):\n",
    "        p[i] = l[i]*r[i]\n",
    "    return p"
   ]
  },
  {
   "cell_type": "code",
   "execution_count": 155,
   "metadata": {
    "collapsed": true
   },
   "outputs": [],
   "source": [
    "# 2-pass, constant space solution\n",
    "def productExceptSelf(nums: List[int]) -> List[int]:\n",
    "    length = len(nums)\n",
    "    p = [1]*length\n",
    "    r = 1\n",
    "    for i in range(1,length):\n",
    "        p[i] = p[i-1]*nums[i-1]\n",
    "    for i in range(length-1,-1,-1): # iterates in reverse, update product and r\n",
    "        p[i] = p[i]*r\n",
    "        r = r*nums[i]\n",
    "    return p"
   ]
  },
  {
   "cell_type": "code",
   "execution_count": 156,
   "metadata": {},
   "outputs": [
    {
     "data": {
      "text/plain": [
       "[24, 12, 8, 6]"
      ]
     },
     "execution_count": 156,
     "metadata": {},
     "output_type": "execute_result"
    }
   ],
   "source": [
    "productExceptSelf(nums1)"
   ]
  },
  {
   "cell_type": "markdown",
   "metadata": {},
   "source": [
    "### 53. Maximum Subarray\n",
    "https://leetcode.com/problems/maximum-subarray/"
   ]
  },
  {
   "cell_type": "markdown",
   "metadata": {},
   "source": [
    "Given an integer array `nums`, find the contiguous subarray (containing at least one number) which has the largest sum and return its sum.\n",
    "\n",
    "**Example:**\n",
    "```\n",
    "Input: [-2,1,-3,4,-1,2,1,-5,4],\n",
    "Output: 6\n",
    "Explanation: [4,-1,2,1] has the largest sum = 6.\n",
    "```\n",
    "**Follow up:**  \n",
    "\n",
    "If you have figured out the O(n) solution, try coding another solution using the divide and conquer approach, which is more subtle."
   ]
  },
  {
   "cell_type": "code",
   "execution_count": 218,
   "metadata": {
    "collapsed": true
   },
   "outputs": [],
   "source": [
    "nums1 = [-2,1,-3,4,-1,2,1,-5,4]"
   ]
  },
  {
   "cell_type": "code",
   "execution_count": 197,
   "metadata": {
    "collapsed": true
   },
   "outputs": [],
   "source": [
    "def maxSubArray(nums: List[int]) -> int:\n",
    "    a = [nums[0]]*len(nums)\n",
    "    for i in range(1,len(nums)):\n",
    "        if a[i-1] > 0:\n",
    "            a[i] = a[i-1]+nums[i]\n",
    "        else:\n",
    "            a[i] = nums[i]\n",
    "    return max(a)"
   ]
  },
  {
   "cell_type": "code",
   "execution_count": 210,
   "metadata": {
    "collapsed": true
   },
   "outputs": [],
   "source": [
    "def maxSubArray(nums: List[int]) -> int:\n",
    "    cursum = maxsum = nums[0]\n",
    "    for n in nums[1:]:\n",
    "        cursum = max(cursum+n,n)\n",
    "        maxsum = max(maxsum,cursum)\n",
    "    return maxsum"
   ]
  },
  {
   "cell_type": "code",
   "execution_count": 219,
   "metadata": {},
   "outputs": [
    {
     "data": {
      "text/plain": [
       "6"
      ]
     },
     "execution_count": 219,
     "metadata": {},
     "output_type": "execute_result"
    }
   ],
   "source": [
    "maxSubArray(nums1)"
   ]
  },
  {
   "cell_type": "markdown",
   "metadata": {},
   "source": [
    "### 152. Maximum Product Subarray\n",
    "https://leetcode.com/problems/maximum-product-subarray/"
   ]
  },
  {
   "cell_type": "markdown",
   "metadata": {},
   "source": [
    "Given an integer array `nums`, find the contiguous subarray within an array (containing at least one number) which has the largest product.\n",
    "\n",
    "**Example 1:**\n",
    "```\n",
    "Input: [2,3,-2,4]\n",
    "Output: 6\n",
    "Explanation: [2,3] has the largest product 6.\n",
    "```\n",
    "**Example 2:**\n",
    "```\n",
    "Input: [-2,0,-1]\n",
    "Output: 0\n",
    "Explanation: The result cannot be 2, because [-2,-1] is not a subarray.\n",
    "```"
   ]
  },
  {
   "cell_type": "code",
   "execution_count": 380,
   "metadata": {
    "collapsed": true
   },
   "outputs": [],
   "source": [
    "nums1 = [2,3,-2,4] # 6\n",
    "nums2 = [-2,0,-1] # 0\n",
    "nums3 = [-2,3,-4] # 24\n",
    "nums4 = [-2,-3,-4] # 12"
   ]
  },
  {
   "cell_type": "code",
   "execution_count": 385,
   "metadata": {
    "collapsed": true
   },
   "outputs": [],
   "source": [
    "nums = nums1"
   ]
  },
  {
   "cell_type": "code",
   "execution_count": 389,
   "metadata": {
    "collapsed": true
   },
   "outputs": [],
   "source": [
    "def maxProduct(nums: List[int]) -> int:\n",
    "    prevmax = prevmin = maxprod = nums[0]\n",
    "    for n in nums[1:]:\n",
    "        curmax = max(prevmax*n,prevmin*n,n)\n",
    "        curmin = min(prevmax*n,prevmin*n,n)\n",
    "        maxprod = max(maxprod,curmax,curmin)\n",
    "        prevmax=curmax\n",
    "        prevmin=curmin\n",
    "    return maxprod"
   ]
  },
  {
   "cell_type": "code",
   "execution_count": 395,
   "metadata": {},
   "outputs": [
    {
     "data": {
      "text/plain": [
       "12"
      ]
     },
     "execution_count": 395,
     "metadata": {},
     "output_type": "execute_result"
    }
   ],
   "source": [
    "maxProduct(nums4)"
   ]
  },
  {
   "cell_type": "markdown",
   "metadata": {},
   "source": [
    "### 153. Find Minimum in Rotated Sorted Array\n",
    "https://leetcode.com/problems/find-minimum-in-rotated-sorted-array/"
   ]
  },
  {
   "cell_type": "markdown",
   "metadata": {},
   "source": [
    "Suppose an array sorted in ascending order is rotated at some pivot unknown to you beforehand.\n",
    "\n",
    "(i.e., `[0,1,2,4,5,6,7]` might become `[4,5,6,7,0,1,2]`).\n",
    "\n",
    "Find the minimum element.\n",
    "\n",
    "You may assume no duplicate exists in the array.\n",
    "\n",
    "**Example 1:**\n",
    "```\n",
    "Input: [3,4,5,1,2] \n",
    "Output: 1\n",
    "```\n",
    "**Example 2:**\n",
    "```\n",
    "Input: [4,5,6,7,0,1,2]\n",
    "Outut: 0\n",
    "```"
   ]
  },
  {
   "cell_type": "code",
   "execution_count": 463,
   "metadata": {
    "collapsed": true
   },
   "outputs": [],
   "source": [
    "nums1 = [3,4,5,1,2]  # 1\n",
    "nums2 = [4,5,6,7,0,1,2] # 0\n",
    "nums3 = [4,5,6,7,8,0,1,2] # 0\n",
    "nums4 = [6,7,8,9,10,11,24,105,2,3,4,5] # 2\n",
    "nums5 = [105,0,1,2,3,4,5,6,11,24] # 0\n",
    "nums6 = [1] # 1\n",
    "nums7 = [11,24,105,2,3,4,5,8,9,10] # 2"
   ]
  },
  {
   "cell_type": "code",
   "execution_count": 457,
   "metadata": {
    "collapsed": true
   },
   "outputs": [],
   "source": [
    "# variation of binary search, explicit checks\n",
    "# fails for a propery sorted array\n",
    "def findMin(nums: List[int]) -> int:\n",
    "    first, last = 0,len(nums)-1\n",
    "    if nums[last]>=nums[0]:\n",
    "        return nums[0]\n",
    "        \n",
    "    while first<=last:\n",
    "        mid = (last+first)//2\n",
    "        # check if inflection found\n",
    "        if nums[mid]<nums[mid-1]:\n",
    "            return nums[mid]\n",
    "        elif nums[mid]>nums[mid+1]:\n",
    "            return nums[mid+1]\n",
    "\n",
    "        # split array\n",
    "        if nums[mid] > nums[0]:\n",
    "            first = mid+1\n",
    "        else:\n",
    "            last = mid-1"
   ]
  },
  {
   "cell_type": "code",
   "execution_count": 477,
   "metadata": {
    "collapsed": true
   },
   "outputs": [],
   "source": [
    "# less lines of code\n",
    "def findMin(nums: List[int]) -> int:\n",
    "    first, last = 0,len(nums)-1\n",
    "    while nums[last]<nums[first]:\n",
    "        mid = (last+first)//2\n",
    "        # split array\n",
    "        if nums[mid] > nums[last]:\n",
    "            first = mid+1\n",
    "        else:\n",
    "            last = mid\n",
    "    return nums[first]"
   ]
  },
  {
   "cell_type": "code",
   "execution_count": 485,
   "metadata": {},
   "outputs": [
    {
     "data": {
      "text/plain": [
       "2"
      ]
     },
     "execution_count": 485,
     "metadata": {},
     "output_type": "execute_result"
    }
   ],
   "source": [
    "findMin(nums7)"
   ]
  },
  {
   "cell_type": "markdown",
   "metadata": {},
   "source": [
    "### 33. Search in Rotated Sorted Array\n",
    "https://leetcode.com/problems/search-in-rotated-sorted-array/"
   ]
  },
  {
   "cell_type": "markdown",
   "metadata": {},
   "source": [
    "Suppose an array sorted in ascending order is rotated at some pivot unknown to you beforehand.\n",
    "\n",
    "(i.e., `[0,1,2,4,5,6,7]` might become `[4,5,6,7,0,1,2]`).\n",
    "\n",
    "You are given a target value to search. If found in the array return its index, otherwise return `-1`.\n",
    "\n",
    "You may assume no duplicate exists in the array.\n",
    "\n",
    "Your algorithm's runtime complexity must be in the order of O(log n).\n",
    "\n",
    "**Example 1:**\n",
    "```\n",
    "Input: nums = [4,5,6,7,0,1,2], target = 0\n",
    "Output: 4\n",
    "```\n",
    "**Example 2:**\n",
    "```\n",
    "Input: nums = [4,5,6,7,0,1,2], target = 3\n",
    "Output: -1\n",
    "````"
   ]
  },
  {
   "cell_type": "code",
   "execution_count": 547,
   "metadata": {
    "collapsed": true
   },
   "outputs": [],
   "source": [
    "nums1,target1 = [4,5,6,7,0,1,2], 0\n",
    "nums2,target2 = [4,5,6,7,0,1,2], 3\n",
    "nums3,target3 = [4,5,6,7,8,9,0,1,2,3], 0\n",
    "nums4,target4 = [12,0,1,2,3,5], 12\n",
    "nums5,target5 = [1], 1\n",
    "nums6,target6 = [1], 0\n",
    "nums7,target7 = [1,3,5], 1\n",
    "nums8,target8 = [5,1,3], 5"
   ]
  },
  {
   "cell_type": "code",
   "execution_count": 4,
   "metadata": {},
   "outputs": [],
   "source": [
    "def search(nums: List[int], target: int) -> int:\n",
    "    first,last = 0, len(nums)-1\n",
    "    while first<=last:\n",
    "        mid = (first + last)//2\n",
    "        pivot = nums[0]\n",
    "        if target == nums[mid]:\n",
    "            return mid\n",
    "        \n",
    "        if nums[mid] >= pivot:\n",
    "            if (target >= pivot) and (target <= nums[mid]):\n",
    "                last = mid-1\n",
    "            else:\n",
    "                first = mid+1\n",
    "        else:\n",
    "            if (target <= nums[last]) and (target >= nums[mid]):\n",
    "                first = mid+1\n",
    "            else:\n",
    "                last = mid-1\n",
    "    return -1"
   ]
  },
  {
   "cell_type": "code",
   "execution_count": 550,
   "metadata": {},
   "outputs": [
    {
     "data": {
      "text/plain": [
       "0"
      ]
     },
     "execution_count": 550,
     "metadata": {},
     "output_type": "execute_result"
    }
   ],
   "source": [
    "search(nums8,target8)"
   ]
  },
  {
   "cell_type": "code",
   "execution_count": 542,
   "metadata": {
    "collapsed": true
   },
   "outputs": [],
   "source": [
    "def search(nums, target):\n",
    "    if not nums:\n",
    "        return -1\n",
    "\n",
    "    low, high = 0, len(nums) - 1\n",
    "\n",
    "    while low <= high:\n",
    "        mid = (low + high) // 2\n",
    "        if target == nums[mid]:\n",
    "            return mid\n",
    "\n",
    "        if nums[low] <= nums[mid]:\n",
    "            if nums[low] <= target <= nums[mid]:\n",
    "                high = mid - 1\n",
    "            else:\n",
    "                low = mid + 1\n",
    "        else:\n",
    "            if nums[mid] <= target <= nums[high]:\n",
    "                low = mid + 1\n",
    "            else:\n",
    "                high = mid - 1\n",
    "\n",
    "    return -1"
   ]
  },
  {
   "cell_type": "code",
   "execution_count": 544,
   "metadata": {},
   "outputs": [
    {
     "data": {
      "text/plain": [
       "0"
      ]
     },
     "execution_count": 544,
     "metadata": {},
     "output_type": "execute_result"
    }
   ],
   "source": [
    "search(nums7,target7)"
   ]
  },
  {
   "cell_type": "markdown",
   "metadata": {},
   "source": [
    "### 15. 3Sum\n",
    "https://leetcode.com/problems/3sum/"
   ]
  },
  {
   "cell_type": "markdown",
   "metadata": {},
   "source": [
    "Given an array `nums` of n integers, are there elements a, b, c in `nums` such that a + b + c = 0? Find all unique triplets in the array which gives the sum of zero.\n",
    "\n",
    "**Note:**\n",
    "\n",
    "The solution set must not contain duplicate triplets.\n",
    "\n",
    "**Example:**\n",
    "```\n",
    "Given array nums = [-1, 0, 1, 2, -1, -4],\n",
    "\n",
    "A solution set is:\n",
    "[\n",
    "  [-1, 0, 1],\n",
    "  [-1, -1, 2]\n",
    "]\n",
    "```"
   ]
  },
  {
   "cell_type": "code",
   "execution_count": 146,
   "metadata": {
    "collapsed": true
   },
   "outputs": [],
   "source": [
    "nums1 = [-1, 0, 1, 2, -1, -4]\n",
    "nums2 = [0,0,0,0]\n",
    "nums3 = [-2, 1, 1, 1]"
   ]
  },
  {
   "cell_type": "code",
   "execution_count": 153,
   "metadata": {
    "collapsed": true
   },
   "outputs": [],
   "source": [
    "# using Twosum dict\n",
    "def threeSum(nums: List[int]) -> List[List[int]]:\n",
    "    soln = []\n",
    "    nums = sorted(nums)\n",
    "    for i in range(0, len(nums)):\n",
    "        target = -nums[i]\n",
    "        # two sum only if i is not equal to previous i\n",
    "        if (i>0) and (nums[i] == nums[i-1]):\n",
    "            continue\n",
    "        else:\n",
    "            dct = {}\n",
    "            for j in range(i+1, len(nums)):\n",
    "                dct[nums[j]] = j\n",
    "            # skip if j is the same as previous\n",
    "            for j in range(i+1, len(nums)):\n",
    "                if (nums[j] == nums[j-1]) and j!=i+1:\n",
    "                    continue\n",
    "                comp = target - nums[j]\n",
    "                idx = dct.get(comp)\n",
    "                if idx is not None and idx>j:\n",
    "                    soln.append([nums[i],nums[j],nums[idx]])\n",
    "    return soln"
   ]
  },
  {
   "cell_type": "markdown",
   "metadata": {},
   "source": [
    "### 11. Container With Most Water\n",
    "https://leetcode.com/problems/container-with-most-water/"
   ]
  },
  {
   "cell_type": "markdown",
   "metadata": {},
   "source": [
    "Given $n$ non-negative integers $a_{1}, a_{2}, ..., a_{n}$, where each represents a point at coordinate $(i, a_{i})$. $n$ vertical lines are drawn such that the two endpoints of line $i$ is at $(i, a_{i})$ and $(i, 0)$. Find two lines, which together with x-axis forms a container, such that the container contains the most water.\n",
    "\n",
    "**Note:** You may not slant the container and $n$ is at least 2.\n",
    "\n",
    "![containerdiagram](https://s3-lc-upload.s3.amazonaws.com/uploads/2018/07/17/question_11.jpg)\n",
    "The above vertical lines are represented by array [1,8,6,2,5,4,8,3,7]. In this case, the max area of water (blue section) the container can contain is 49.\n",
    "\n",
    "**Example:**\n",
    "```\n",
    "Input: [1,8,6,2,5,4,8,3,7]\n",
    "Output: 49\n",
    "```"
   ]
  },
  {
   "cell_type": "code",
   "execution_count": 182,
   "metadata": {
    "collapsed": true
   },
   "outputs": [],
   "source": [
    "height1 = [1,8,6,2,5,4,8,3,7]\n",
    "height2 = [1,1,6,2,0,4,29,3,7]"
   ]
  },
  {
   "cell_type": "code",
   "execution_count": 174,
   "metadata": {
    "collapsed": true
   },
   "outputs": [],
   "source": [
    "# O(n^2) solution\n",
    "def maxArea(height: List[int]) -> int:\n",
    "    maxarea = 0\n",
    "    for i,h in enumerate(height):\n",
    "        for j in range(i,len(height)):\n",
    "            h2 = height[j]\n",
    "            area = min(h,h2)*(j-i)\n",
    "            if area > maxarea:\n",
    "                maxarea = area\n",
    "    return maxarea"
   ]
  },
  {
   "cell_type": "code",
   "execution_count": 185,
   "metadata": {
    "collapsed": true
   },
   "outputs": [],
   "source": [
    "# O(n) solution\n",
    "def maxArea(height: List[int]) -> int:\n",
    "    maxarea, l, r = 0, 0, len(height)-1\n",
    "    while l < r:\n",
    "        area = min(height[l],height[r])*(r-l)\n",
    "        if area > maxarea:\n",
    "            maxarea = area\n",
    "        \n",
    "        if height[l] < height[r]:\n",
    "            l += 1\n",
    "        else:\n",
    "            r -= 1\n",
    "        \n",
    "    return maxarea"
   ]
  },
  {
   "cell_type": "code",
   "execution_count": 187,
   "metadata": {},
   "outputs": [
    {
     "data": {
      "text/plain": [
       "49"
      ]
     },
     "execution_count": 187,
     "metadata": {},
     "output_type": "execute_result"
    }
   ],
   "source": [
    "maxArea(height1)"
   ]
  },
  {
   "cell_type": "markdown",
   "metadata": {},
   "source": [
    "## Topic: Dynamic Programming"
   ]
  },
  {
   "cell_type": "markdown",
   "metadata": {},
   "source": [
    "### 70. Climbing Stairs\n",
    "https://leetcode.com/problems/climbing-stairs/"
   ]
  },
  {
   "cell_type": "markdown",
   "metadata": {},
   "source": [
    "You are climbing a stair case. It takes *n* steps to reach to the top.\n",
    "\n",
    "Each time you can either climb 1 or 2 steps. In how many distinct ways can you climb to the top?\n",
    "\n",
    "**Note:** Given *n* will be a positive integer.\n",
    "\n",
    "**Example 1:**\n",
    "```\n",
    "Input: 2\n",
    "Output: 2\n",
    "Explanation: There are two ways to climb to the top.\n",
    "1. 1 step + 1 step\n",
    "2. 2 steps\n",
    "```\n",
    "**Example 2:**\n",
    "```\n",
    "Input: 3\n",
    "Output: 3\n",
    "Explanation: There are three ways to climb to the top.\n",
    "1. 1 step + 1 step + 1 step\n",
    "2. 1 step + 2 steps\n",
    "3. 2 steps + 1 step\n",
    "```"
   ]
  },
  {
   "cell_type": "code",
   "execution_count": 6,
   "metadata": {},
   "outputs": [],
   "source": [
    "# recursive solution\n",
    "class Solution:\n",
    "    def climbStairs(self, n: int) -> int:\n",
    "        # base case\n",
    "        if n == 1 or n == 0:\n",
    "            return 1\n",
    "        else:\n",
    "            return self.climbStairs(n-1)+self.climbStairs(n-2)"
   ]
  },
  {
   "cell_type": "code",
   "execution_count": 33,
   "metadata": {},
   "outputs": [],
   "source": [
    "# iterative array solution\n",
    "class Solution:\n",
    "    def climbStairs(self, n: int) -> int:\n",
    "        ans = [0]*(n+1)\n",
    "        for i in range(0,n+1):\n",
    "            # base cases\n",
    "            if i==0 or i==1:\n",
    "                ans[i] = 1\n",
    "            else:\n",
    "                ans[i] = ans[i-1]+ans[i-2]\n",
    "        return ans[n]"
   ]
  },
  {
   "cell_type": "code",
   "execution_count": 43,
   "metadata": {},
   "outputs": [
    {
     "data": {
      "text/plain": [
       "63245986"
      ]
     },
     "execution_count": 43,
     "metadata": {},
     "output_type": "execute_result"
    }
   ],
   "source": [
    "soln = Solution()\n",
    "soln.climbStairs(38)"
   ]
  },
  {
   "cell_type": "markdown",
   "metadata": {},
   "source": [
    "### 322. Coin Change\n",
    "Medium  \n",
    "https://leetcode.com/problems/coin-change/"
   ]
  },
  {
   "cell_type": "markdown",
   "metadata": {},
   "source": [
    "You are given coins of different denominations and a total amount of money `amount`. Write a function to compute the fewest number of coins that you need to make up that amount. If that amount of money cannot be made up by any combination of the coins, return `-1`.\n",
    "\n",
    "**Example 1:**\n",
    "```\n",
    "Input: coins = [1, 2, 5], amount = 11\n",
    "Output: 3 \n",
    "Explanation: 11 = 5 + 5 + 1\n",
    "```\n",
    "**Example 2:**\n",
    "```\n",
    "Input: coins = [2], amount = 3\n",
    "Output: -1\n",
    "```\n",
    "**Note:**  \n",
    "You may assume that you have an infinite number of each kind of coin."
   ]
  },
  {
   "cell_type": "code",
   "execution_count": 47,
   "metadata": {},
   "outputs": [],
   "source": [
    "coins1, amount1 = [1, 2, 5], 11\n",
    "coins2, amount2 = [2], 3"
   ]
  },
  {
   "cell_type": "code",
   "execution_count": 63,
   "metadata": {},
   "outputs": [],
   "source": [
    "# recursive top down solution\n",
    "class Solution:\n",
    "    def coinChange(self, coins: List[int], amount: int) -> int:\n",
    "        \n",
    "        def _coinchange(coins,amount,coincount):\n",
    "            # base case\n",
    "            if amount==0:\n",
    "                print('base case, returning coincount:',coincount+1)\n",
    "                return coincount+1\n",
    "            else:\n",
    "                print('amount:', amount)\n",
    "                counts = []\n",
    "                for c in coins:\n",
    "                    print('c is:', c)\n",
    "                    if amount-c >= 0:\n",
    "                        print('coin',c,'usable!')\n",
    "                        print('calling _coinChange with amount:',amount,'-',c,'=',amount-c,'coincount:',coincount+1)\n",
    "                        counts.append(_coinChange(coins,amount-c,coincount+1))\n",
    "                        \n",
    "                return counts\n",
    "#         mincount = min(counts)\n",
    "#         print('returning mincount:',mincount)\n",
    "        return _coinchange(coins,amount,0)"
   ]
  },
  {
   "cell_type": "code",
   "execution_count": 111,
   "metadata": {},
   "outputs": [],
   "source": [
    "# iterative bottom up solution\n",
    "class Solution:\n",
    "    def coinChange(self, coins: List[int], amount: int) -> int:\n",
    "        dp = [float('inf')]*(amount+1)\n",
    "        # base case\n",
    "        dp[0] = 0\n",
    "        \n",
    "        # iterate\n",
    "        for c in coins:\n",
    "            for i in range(c,amount+1):\n",
    "                dp[i] = min(dp[i],dp[i-c]+1)\n",
    "        \n",
    "        return dp[amount] if dp[amount]<float('inf') else -1"
   ]
  },
  {
   "cell_type": "code",
   "execution_count": 115,
   "metadata": {
    "scrolled": false
   },
   "outputs": [
    {
     "data": {
      "text/plain": [
       "3"
      ]
     },
     "execution_count": 115,
     "metadata": {},
     "output_type": "execute_result"
    }
   ],
   "source": [
    "soln = Solution()\n",
    "soln.coinChange(coins1,11)"
   ]
  },
  {
   "cell_type": "markdown",
   "metadata": {},
   "source": [
    "### 300. Longest Increasing Subsequence\n",
    "MEDIUM  \n",
    "https://leetcode.com/problems/longest-increasing-subsequence/"
   ]
  },
  {
   "cell_type": "markdown",
   "metadata": {},
   "source": [
    "Given an unsorted array of integers, find the length of longest increasing subsequence.\n",
    "\n",
    "**Example:**\n",
    "```\n",
    "Input: [10,9,2,5,3,7,101,18]\n",
    "Output: 4 \n",
    "Explanation: The longest increasing subsequence is [2,3,7,101], therefore the length is 4. \n",
    "```\n",
    "**Note:**\n",
    "\n",
    "* There may be more than one LIS combination, it is only necessary for you to return the length.\n",
    "* Your algorithm should run in $O(n^2)$ complexity.\n",
    "\n",
    "**Follow up:** Could you improve it to $O(n log n)$ time complexity?"
   ]
  },
  {
   "cell_type": "code",
   "execution_count": 48,
   "metadata": {},
   "outputs": [],
   "source": [
    "nums1 = [10,9,2,5,3,7,101,18]\n",
    "nums2 = [10,9,2,5,3,7,101,18,19,20,21,22,23,24]\n",
    "nums3 = [100,99,92,95,93,97,101,18,19,20,21,22,23,24]\n",
    "nums4 = [100,99,92,95,93,97,101,18,19]\n"
   ]
  },
  {
   "cell_type": "code",
   "execution_count": 94,
   "metadata": {},
   "outputs": [],
   "source": [
    "# brute force, bottom up solution O(n^2)\n",
    "class Solution:\n",
    "    def lengthOfLIS(self, nums: List[int]) -> int:\n",
    "        lises = [1]*len(nums)\n",
    "        maxlis = 1\n",
    "        for i in range(1,len(nums)):\n",
    "            # scan through previous values and increment lis value if nums[i] > nums[j]\n",
    "            lis = 0\n",
    "            for j in range(0,i):\n",
    "                if nums[i] > nums[j]:\n",
    "                    lis = max(lis,lises[j]) # track biggest lis found for sequences ending in nums[i]\n",
    "            lis += 1 # add 1 to count nums[i] itself\n",
    "            # update lis array with lis for current nums[i]\n",
    "#             print('lis for ',nums[i],':',lis)\n",
    "            lises[i] = lis\n",
    "            maxlis = max(maxlis,lis)\n",
    "        return maxlis if nums else 0"
   ]
  },
  {
   "cell_type": "code",
   "execution_count": 117,
   "metadata": {},
   "outputs": [],
   "source": [
    "# binary search solution\n",
    "class Solution:\n",
    "    from bisect import bisect_left\n",
    "    \n",
    "    def lengthOfLIS(self, nums: List[int]) -> int:\n",
    "        dp = []        \n",
    "        for n in nums:\n",
    "            i = self.bisect_left(dp,n)\n",
    "            if i==len(dp):\n",
    "                dp.append(n)\n",
    "            else:\n",
    "                dp[i]=n\n",
    "        return len(dp)"
   ]
  },
  {
   "cell_type": "code",
   "execution_count": 118,
   "metadata": {},
   "outputs": [
    {
     "data": {
      "text/plain": [
       "2"
      ]
     },
     "execution_count": 118,
     "metadata": {},
     "output_type": "execute_result"
    }
   ],
   "source": [
    "soln = Solution()\n",
    "soln.lengthOfLIS([1,2,1,1])"
   ]
  },
  {
   "cell_type": "code",
   "execution_count": 96,
   "metadata": {},
   "outputs": [],
   "source": [
    "from bisect import bisect_left"
   ]
  },
  {
   "cell_type": "code",
   "execution_count": 120,
   "metadata": {},
   "outputs": [
    {
     "data": {
      "text/plain": [
       "0"
      ]
     },
     "execution_count": 120,
     "metadata": {},
     "output_type": "execute_result"
    }
   ],
   "source": [
    "test = [1,2,3,5]\n",
    "\n",
    "bisect_left(test,1)"
   ]
  },
  {
   "cell_type": "markdown",
   "metadata": {},
   "source": [
    "### 1143. Longest Common Subsequence\n",
    "MEDIUM  \n",
    "https://leetcode.com/problems/longest-common-subsequence/"
   ]
  },
  {
   "cell_type": "markdown",
   "metadata": {},
   "source": [
    "Given two strings `text1` and `text2`, return the length of their longest common subsequence.\n",
    "\n",
    "A subsequence of a string is a new string generated from the original string with some characters(can be none) deleted without changing the relative order of the remaining characters. (eg, \"ace\" is a subsequence of \"abcde\" while \"aec\" is not). A common subsequence of two strings is a subsequence that is common to both strings.\n",
    "\n",
    "If there is no common subsequence, return 0.\n",
    "\n",
    "**Example 1:**\n",
    "```\n",
    "Input: text1 = \"abcde\", text2 = \"ace\" \n",
    "Output: 3  \n",
    "Explanation: The longest common subsequence is \"ace\" and its length is 3.\n",
    "```\n",
    "**Example 2:**\n",
    "```\n",
    "Input: text1 = \"abc\", text2 = \"abc\"\n",
    "Output: 3\n",
    "Explanation: The longest common subsequence is \"abc\" and its length is 3.\n",
    "```\n",
    "**Example 3:**\n",
    "```\n",
    "Input: text1 = \"abc\", text2 = \"def\"\n",
    "Output: 0\n",
    "Explanation: There is no such common subsequence, so the result is 0.\n",
    "```"
   ]
  },
  {
   "cell_type": "code",
   "execution_count": 9,
   "metadata": {},
   "outputs": [],
   "source": [
    "text11,text12, = \"abcde\", \"ace\" \n",
    "text21,text22 = \"abc\", \"abc\"\n",
    "text31,text32 = \"abc\", \"def\""
   ]
  },
  {
   "cell_type": "code",
   "execution_count": 31,
   "metadata": {},
   "outputs": [],
   "source": [
    "class Solution:\n",
    "    def longestCommonSubsequence(self, text1: str, text2: str) -> int:\n",
    "        n = len(text1)\n",
    "        m = len(text2)\n",
    "        # initialize 2d array of length n+1, m+1\n",
    "        dp = [[0]*(m+1) for x in range(0,n+1)]\n",
    "        # iterate through each string and build lcs from substrings\n",
    "        for i,c1 in enumerate(text1):\n",
    "            for j,c2 in enumerate(text2):\n",
    "                if c1==c2:\n",
    "                    # note: 2D array is 1-indexed vs the str is 0-indexed\n",
    "                    # thus for each loop i,j references the dp array index location of the previous char\n",
    "                    dp[i+1][j+1] = 1+dp[i][j]\n",
    "                else:\n",
    "                    dp[i+1][j+1] = max(dp[i][j+1],dp[i+1][j])\n",
    "        \n",
    "        return dp[-1][-1]"
   ]
  },
  {
   "cell_type": "code",
   "execution_count": 11,
   "metadata": {},
   "outputs": [],
   "source": [
    "# leetcode answer\n",
    "def longestCommonSubsequence(text1: str, text2: str) -> int:\n",
    "    dp = [[0] * (len(text2) + 1) for _ in range(len(text1) + 1)]\n",
    "    for i, c in enumerate(text1):\n",
    "        for j, d in enumerate(text2):\n",
    "            dp[i + 1][j + 1] = 1 + dp[i][j] if c == d else max(dp[i][j + 1], dp[i + 1][j])\n",
    "    return dp"
   ]
  },
  {
   "cell_type": "code",
   "execution_count": 34,
   "metadata": {},
   "outputs": [
    {
     "data": {
      "text/plain": [
       "0"
      ]
     },
     "execution_count": 34,
     "metadata": {},
     "output_type": "execute_result"
    }
   ],
   "source": [
    "soln = Solution()\n",
    "soln.longestCommonSubsequence(text31,text32)"
   ]
  },
  {
   "cell_type": "markdown",
   "metadata": {},
   "source": [
    "## 139. Word Break\n",
    "MEDIUM  \n",
    "https://leetcode.com/problems/word-break/  "
   ]
  },
  {
   "cell_type": "markdown",
   "metadata": {},
   "source": [
    "Given a **non-empty** string s and a dictionary *wordDict* containing a list of **non-empty** words, determine if s can be segmented into a space-separated sequence of one or more dictionary words.\n",
    "\n",
    "**Note:**\n",
    "\n",
    "* The same word in the dictionary may be reused multiple times in the segmentation.\n",
    "* You may assume the dictionary does not contain duplicate words.\n",
    "\n",
    "**Example 1:**\n",
    "```\n",
    "Input: s = \"leetcode\", wordDict = [\"leet\", \"code\"]\n",
    "Output: true\n",
    "Explanation: Return true because \"leetcode\" can be segmented as \"leet code\".\n",
    "```\n",
    "**Example 2:**\n",
    "```\n",
    "Input: s = \"applepenapple\", wordDict = [\"apple\", \"pen\"]\n",
    "Output: true\n",
    "Explanation: Return true because \"applepenapple\" can be segmented as \"apple pen apple\".\n",
    "             Note that you are allowed to reuse a dictionary word.\n",
    "```\n",
    "**Example 3:**\n",
    "```\n",
    "Input: s = \"catsandog\", wordDict = [\"cats\", \"dog\", \"sand\", \"and\", \"cat\"]\n",
    "Output: false\n",
    "```"
   ]
  },
  {
   "cell_type": "code",
   "execution_count": 26,
   "metadata": {},
   "outputs": [],
   "source": [
    "s1, wordDict1 = \"leetcode\", [\"leet\", \"code\"]\n",
    "s2, wordDict2 = \"applepenapple\", [\"apple\", \"pen\"]\n",
    "s3, wordDict3 = \"catsandog\", [\"cats\", \"dog\", \"sand\", \"and\", \"cat\"]\n",
    "s4, wordDict4 = \"catsandog\", [\"sand\", \"cats\", \"dog\", \"an\", \"and\", \"cat\"] # true\n",
    "s5, wordDict5 = \"aaaaaaa\", [\"aaaa\",\"aa\"] # false"
   ]
  },
  {
   "cell_type": "code",
   "execution_count": 35,
   "metadata": {},
   "outputs": [],
   "source": [
    "# bottom up dp solution: dp[i] = true if the string slice ending at s[i] (inclusive) ends with a word in wordDict\n",
    "# AND dp[i-(wordlength)] is also true OR it's the first word (i-wordlength) == -1\n",
    "class Solution:\n",
    "    def wordBreak(self, s: str, wordDict: List[str]) -> bool:\n",
    "        dp = [False]*len(s)\n",
    "        for i in range(len(s)):\n",
    "            si = i+1\n",
    "            for w in wordDict:\n",
    "                if w == s[si-len(w):si] and (dp[i-len(w)]==1 or i-len(w)==-1):\n",
    "                    dp[i]=True\n",
    "        return dp[-1]"
   ]
  },
  {
   "cell_type": "code",
   "execution_count": 36,
   "metadata": {},
   "outputs": [
    {
     "data": {
      "text/plain": [
       "False"
      ]
     },
     "execution_count": 36,
     "metadata": {},
     "output_type": "execute_result"
    }
   ],
   "source": [
    "soln = Solution()\n",
    "soln.wordBreak(s5,wordDict5)"
   ]
  },
  {
   "cell_type": "markdown",
   "metadata": {},
   "source": [
    "## 377. Combination Sum IV\n",
    "MEDIUM  \n",
    "https://leetcode.com/problems/combination-sum-iv/  "
   ]
  },
  {
   "cell_type": "markdown",
   "metadata": {},
   "source": [
    "Given an integer array with all positive numbers and no duplicates, find the number of possible combinations that add up to a positive integer target.\n",
    "\n",
    "**Example:**\n",
    "```\n",
    "nums = [1, 2, 3]\n",
    "target = 4\n",
    "\n",
    "The possible combination ways are:\n",
    "(1, 1, 1, 1)\n",
    "(1, 1, 2)\n",
    "(1, 2, 1)\n",
    "(1, 3)\n",
    "(2, 1, 1)\n",
    "(2, 2)\n",
    "(3, 1)\n",
    "\n",
    "Note that different sequences are counted as different combinations.\n",
    "\n",
    "Therefore the output is 7.\n",
    "```\n",
    "\n",
    "**Follow up:**  \n",
    "What if negative numbers are allowed in the given array?  \n",
    "How does it change the problem?  \n",
    "What limitation we need to add to the question to allow negative numbers?  "
   ]
  },
  {
   "cell_type": "code",
   "execution_count": 79,
   "metadata": {},
   "outputs": [],
   "source": [
    "nums1,target1 = [1, 2, 3], 4\n",
    "nums2,target2 = [1, 2, 3], 5"
   ]
  },
  {
   "cell_type": "code",
   "execution_count": 128,
   "metadata": {},
   "outputs": [],
   "source": [
    "# bottom up dp approach\n",
    "class Solution:\n",
    "    def combinationSum4(self, nums: List[int], target: int) -> int:\n",
    "        dp = [0]*(target+1)\n",
    "        dp[0] = 1 # base case: just one way to sum up to zero (use nothing from nums)\n",
    "        for i in range(1,target+1): # iterate through all positive numbers up to target\n",
    "            for n in nums:\n",
    "                if n <= i:\n",
    "                    # intuition: num_permutations = sum(num_permutations of i (current target) minus each n in nums)\n",
    "                    # for each n, count every permutation that adds up to i-n and append n to the sequence\n",
    "                    dp[i] += dp[i-n] \n",
    "        return dp[-1]"
   ]
  },
  {
   "cell_type": "code",
   "execution_count": 130,
   "metadata": {},
   "outputs": [
    {
     "data": {
      "text/plain": [
       "13"
      ]
     },
     "execution_count": 130,
     "metadata": {},
     "output_type": "execute_result"
    }
   ],
   "source": [
    "soln = Solution()\n",
    "soln.combinationSum4([1,2,3],target2)"
   ]
  },
  {
   "cell_type": "markdown",
   "metadata": {},
   "source": [
    "**Additional notes:**  \n",
    "* tl;dr: using the bottom up dp approach, looping through `target (amount)` in the outer loop FIRST results in the number of *permutations* of the numbers in `nums` that add up to `target (amount)`\n",
    "* looping through `nums` (or `coins` in some other variations of this problem) FIRST results in the `combinations` of numbers in `nums` that add up to `target`"
   ]
  },
  {
   "cell_type": "markdown",
   "metadata": {},
   "source": [
    "### 198. House Robber\n",
    "EASY  \n",
    "https://leetcode.com/problems/house-robber/"
   ]
  },
  {
   "cell_type": "markdown",
   "metadata": {},
   "source": [
    "You are a professional robber planning to rob houses along a street. Each house has a certain amount of money stashed, the only constraint stopping you from robbing each of them is that adjacent houses have security system connected and **it will automatically contact the police if two adjacent houses were broken into on the same night.**\n",
    "\n",
    "Given a list of non-negative integers representing the amount of money of each house, determine the maximum amount of money you can rob tonight **without alerting the police.**\n",
    "\n",
    "**Example 1:**\n",
    "```\n",
    "Input: [1,2,3,1]\n",
    "Output: 4\n",
    "Explanation: Rob house 1 (money = 1) and then rob house 3 (money = 3).\n",
    "             Total amount you can rob = 1 + 3 = 4.\n",
    "```\n",
    "**Example 2:**\n",
    "```\n",
    "Input: [2,7,9,3,1]\n",
    "Output: 12\n",
    "Explanation: Rob house 1 (money = 2), rob house 3 (money = 9) and rob house 5 (money = 1).\n",
    "             Total amount you can rob = 2 + 9 + 1 = 12.\n",
    "```"
   ]
  },
  {
   "cell_type": "code",
   "execution_count": 52,
   "metadata": {},
   "outputs": [],
   "source": [
    "nums1 = [1,2,3,1]\n",
    "nums2 = [2,7,9,3,1]\n",
    "nums3 = [2,1,1,2] # 4\n",
    "nums4 = [2,1,2,3,5,3] # 9\n",
    "nums5 = [3,5,3] # 6"
   ]
  },
  {
   "cell_type": "code",
   "execution_count": 55,
   "metadata": {},
   "outputs": [],
   "source": [
    "numa4 = [2,2,4,5,9,9]"
   ]
  },
  {
   "cell_type": "code",
   "execution_count": 39,
   "metadata": {},
   "outputs": [],
   "source": [
    "# bottom up array solution\n",
    "class Solution:\n",
    "    def rob(self, nums: List[int]) -> int:\n",
    "        \n",
    "        dp = [0]*len(nums)\n",
    "        for i,n in enumerate(nums):\n",
    "            if i>1:\n",
    "                dp[i] = max(dp[i-1],dp[i-2]+n)\n",
    "            elif i==1:\n",
    "                dp[i] = max(dp[i-1],n)\n",
    "            else:\n",
    "                dp[i] = n\n",
    "        return dp[-1] if dp else 0"
   ]
  },
  {
   "cell_type": "code",
   "execution_count": 81,
   "metadata": {},
   "outputs": [],
   "source": [
    "# bottom up variable storage\n",
    "# bottom up array solution\n",
    "class Solution:\n",
    "    def rob(self, nums: List[int]) -> int:\n",
    "        cur = prev1 = prev2 = 0\n",
    "        for n in nums:\n",
    "            nextprev = prev1\n",
    "            cur = max(prev2+n,prev1)\n",
    "            prev1 = cur\n",
    "            prev2 = nextprev\n",
    "#             print('prev is:',prev,'cur is:',cur,'n is:',n)\n",
    "        return cur"
   ]
  },
  {
   "cell_type": "code",
   "execution_count": 82,
   "metadata": {},
   "outputs": [
    {
     "data": {
      "text/plain": [
       "9"
      ]
     },
     "execution_count": 82,
     "metadata": {},
     "output_type": "execute_result"
    }
   ],
   "source": [
    "soln = Solution()\n",
    "soln.rob(nums4)"
   ]
  },
  {
   "cell_type": "markdown",
   "metadata": {},
   "source": [
    "### 213. House Robber II\n",
    "MEDIUM  \n",
    "https://leetcode.com/problems/house-robber-ii/"
   ]
  },
  {
   "cell_type": "markdown",
   "metadata": {},
   "source": [
    "You are a professional robber planning to rob houses along a street. Each house has a certain amount of money stashed. All houses at this place are **arranged in a circle.** That means the first house is the neighbor of the last one. Meanwhile, adjacent houses have security system connected and **it will automatically contact the police if two adjacent houses were broken into on the same night.**\n",
    "\n",
    "Given a list of non-negative integers representing the amount of money of each house, determine the maximum amount of money you can rob tonight **without alerting the police.**\n",
    "\n",
    "**Example 1:**\n",
    "```\n",
    "Input: [2,3,2]\n",
    "Output: 3\n",
    "Explanation: You cannot rob house 1 (money = 2) and then rob house 3 (money = 2),\n",
    "             because they are adjacent houses.\n",
    "```\n",
    "**Example 2:**\n",
    "```\n",
    "Input: [1,2,3,1]\n",
    "Output: 4\n",
    "Explanation: Rob house 1 (money = 1) and then rob house 3 (money = 3).\n",
    "             Total amount you can rob = 1 + 3 = 4.\n",
    "```"
   ]
  },
  {
   "cell_type": "code",
   "execution_count": 1,
   "metadata": {},
   "outputs": [],
   "source": [
    "nums1 = [2,3,2] # 3 # []\n",
    "nums2 = [1,2,3,1] # 4 # [1,2,4]\n",
    "nums3 = [2,7,9,3,1] # 11 # [2,7,9,]\n",
    "nums4 = [2,1,1,2] # 3\n",
    "nums5 = [2,1,2,3,5,3] # 7\n",
    "nums6 = [3,5,3] # 5"
   ]
  },
  {
   "cell_type": "code",
   "execution_count": 36,
   "metadata": {},
   "outputs": [],
   "source": [
    "# two-pass solution\n",
    "# approach: treat problem as an extension of House Robber I by comparing the simple case solutions of \n",
    "# houses 1:n vs houses 0:n-1 (rob first, don't rob last vs don't rob first, rob last)\n",
    "class Solution:\n",
    "    def rob(self, nums: List[int]) -> int:\n",
    "        def rob_linear(nums):\n",
    "            cur = prev1 = prev2 = 0\n",
    "            for n in nums:\n",
    "                nextprev = prev1\n",
    "                cur = max(prev2+n,prev1)\n",
    "                prev1 = cur\n",
    "                prev2 = nextprev\n",
    "            return cur\n",
    "        \n",
    "        if len(nums)>1:\n",
    "            rob_first = rob_linear(nums[:len(nums)-1])\n",
    "            rob_last = rob_linear(nums[1:])\n",
    "            return max(rob_first,rob_last)\n",
    "        elif len(nums)==1:\n",
    "            return nums[0]\n",
    "        else:\n",
    "            return 0"
   ]
  },
  {
   "cell_type": "code",
   "execution_count": 37,
   "metadata": {},
   "outputs": [
    {
     "data": {
      "text/plain": [
       "0"
      ]
     },
     "execution_count": 37,
     "metadata": {},
     "output_type": "execute_result"
    }
   ],
   "source": [
    "soln = Solution()\n",
    "soln.rob([])"
   ]
  },
  {
   "cell_type": "markdown",
   "metadata": {},
   "source": [
    "### 91. Decode Ways\n",
    "MEDIUM  \n",
    "https://leetcode.com/problems/decode-ways/"
   ]
  },
  {
   "cell_type": "markdown",
   "metadata": {},
   "source": [
    "A message containing letters from `A-Z` is being encoded to numbers using the following mapping:\n",
    "```\n",
    "'A' -> 1\n",
    "'B' -> 2\n",
    "...\n",
    "'Z' -> 26\n",
    "```\n",
    "Given a **non-empty** string containing only digits, determine the total number of ways to decode it.\n",
    "\n",
    "**Example 1:**\n",
    "```\n",
    "Input: \"12\"\n",
    "Output: 2\n",
    "Explanation: It could be decoded as \"AB\" (1 2) or \"L\" (12).\n",
    "```\n",
    "**Example 2:**\n",
    "```\n",
    "Input: \"226\"\n",
    "Output: 3\n",
    "Explanation: It could be decoded as \"BZ\" (2 26), \"VF\" (22 6), or \"BBF\" (2 2 6).\n",
    "```"
   ]
  },
  {
   "cell_type": "code",
   "execution_count": 51,
   "metadata": {},
   "outputs": [],
   "source": [
    "s1 = \"22\" # (2,2), (22)\n",
    "s2 = \"221\" # (2,2,1), (22,1), (2,21)\n",
    "s3 = '2263' # (2,2,6,3), (22,6,3), (2,26,3)\n",
    "s4 = '2214' # (2,2,1,4), (22,1,4), (2,21,4), (22,14), (2,2,14)\n",
    "s5 = '0' # 0\n",
    "s6 = '2210' # (22,10), (2,2,10)\n",
    "s7 = '22106' # (2,2,1,06), (22,1,06), (2,21,06), (22,10,6), (2,2,10,6)"
   ]
  },
  {
   "cell_type": "code",
   "execution_count": 52,
   "metadata": {},
   "outputs": [],
   "source": [
    "# bottom up, dp solution\n",
    "class Solution:\n",
    "    def numDecodings(self, s: str) -> int:\n",
    "        dp = [0]*(len(s)+1)\n",
    "        for i in range(len(dp)):\n",
    "            if i>1:\n",
    "                newsingle = int(s[i-1])\n",
    "                newdouble = int(s[i-2:i])\n",
    "                if newsingle and newdouble <= 26:\n",
    "                    dp[i] = dp[i-1]+dp[i-2] # only if the last two numbers are in range [1,26]\n",
    "                \n",
    "                \n",
    "                if int(s[i-2:i]) <= 26:\n",
    "                    dp[i] = dp[i-1]+dp[i-2] # only if the last two numbers are in range [1,26]\n",
    "                else:\n",
    "                    dp[i] = dp[i-1]\n",
    "            else:# i<=1:\n",
    "                dp[i] = 1\n",
    "        return dp[-1]"
   ]
  },
  {
   "cell_type": "code",
   "execution_count": 54,
   "metadata": {},
   "outputs": [
    {
     "data": {
      "text/plain": [
       "0"
      ]
     },
     "execution_count": 54,
     "metadata": {},
     "output_type": "execute_result"
    }
   ],
   "source": [
    "soln = Solution()\n",
    "soln.numDecodings(s5)"
   ]
  },
  {
   "cell_type": "code",
   "execution_count": 32,
   "metadata": {},
   "outputs": [
    {
     "data": {
      "text/plain": [
       "2"
      ]
     },
     "execution_count": 32,
     "metadata": {},
     "output_type": "execute_result"
    }
   ],
   "source": [
    "int(s1[2-1:2+1])"
   ]
  },
  {
   "cell_type": "code",
   "execution_count": 21,
   "metadata": {},
   "outputs": [
    {
     "data": {
      "text/plain": [
       "[0, 0, 0, 0, 0]"
      ]
     },
     "execution_count": 21,
     "metadata": {},
     "output_type": "execute_result"
    }
   ],
   "source": [
    "[0]*5"
   ]
  },
  {
   "cell_type": "markdown",
   "metadata": {},
   "source": [
    "## Topic: Interval"
   ]
  },
  {
   "cell_type": "markdown",
   "metadata": {},
   "source": [
    "### 57. Insert Interval\n",
    "https://leetcode.com/problems/insert-interval/"
   ]
  },
  {
   "cell_type": "markdown",
   "metadata": {},
   "source": [
    "Given a set of *non-overlapping* intervals, insert a new interval into the intervals (merge if necessary).\n",
    "\n",
    "You may assume that the intervals were initially sorted according to their start times.\n",
    "\n",
    "**Example 1:**\n",
    "```\n",
    "Input: intervals = [[1,3],[6,9]], newInterval = [2,5]\n",
    "Output: [[1,5],[6,9]]\n",
    "```\n",
    "**Example 2:**\n",
    "```\n",
    "Input: intervals = [[1,2],[3,5],[6,7],[8,10],[12,16]], newInterval = [4,8]\n",
    "Output: [[1,2],[3,10],[12,16]]\n",
    "Explanation: Because the new interval [4,8] overlaps with [3,5],[6,7],[8,10].\n",
    "```\n",
    "**NOTE:** input types have been changed on April 15, 2019. Please reset to default code definition to get new method signature."
   ]
  },
  {
   "cell_type": "code",
   "execution_count": 320,
   "metadata": {
    "collapsed": true
   },
   "outputs": [],
   "source": [
    "intervals1, newinterval1 = [[1,3],[6,9]], [2,5]\n",
    "intervals2, newinterval2 = [[1,2],[3,5],[6,7],[8,10],[12,16]], [4,8]\n",
    "intervals3, newinterval3 = [], [5,7]\n",
    "intervals4, newinterval4 = [[1,5]], [2,7]\n",
    "intervals5, newinterval5 = [[1,5]], [6,8]\n",
    "intervals6, newinterval6 = [[1,5]], [0,3]\n",
    "intervals7, newinterval7 = [[0,2],[3,3],[6,11]], [9,15]"
   ]
  },
  {
   "cell_type": "code",
   "execution_count": 247,
   "metadata": {
    "collapsed": true
   },
   "outputs": [],
   "source": [
    "# using sort, O(nlogn)\n",
    "def insert(intervals: List[List[int]], newInterval: List[int]) -> List[List[int]]:\n",
    "    intervals = intervals + [newInterval] # create a new list instead of modifying existing\n",
    "    intervals = sorted(intervals, key=lambda x: x[0])\n",
    "    result = []\n",
    "    # scan array and merge intervals\n",
    "    for i in intervals:\n",
    "        if result and i[0] <= result[-1][1]:\n",
    "            result[-1][1] = max(result[-1][1],i[1])\n",
    "        else:\n",
    "            result.append(i)\n",
    "    return result"
   ]
  },
  {
   "cell_type": "code",
   "execution_count": 337,
   "metadata": {
    "collapsed": true
   },
   "outputs": [],
   "source": [
    "# O(n)\n",
    "def insert(intervals: List[List[int]], newInterval: List[int]) -> List[List[int]]:\n",
    "    result = []\n",
    "    for i,intr in enumerate(intervals):\n",
    "        # break loop early if newInterval < intr (no overlap)\n",
    "        if newInterval[1] < intr[0]:\n",
    "            return result + [newInterval] + intervals[i:]\n",
    "        # merge if newInterval overlaps intr\n",
    "        elif newInterval[0] <= intr[1]:\n",
    "            newInterval[1] = max(intr[1],newInterval[1])\n",
    "            newInterval[0] = min(intr[0],newInterval[0])\n",
    "        else:\n",
    "            result.append(intr)\n",
    "    # case when newInterval is last\n",
    "    result.append(newInterval)\n",
    "    return result"
   ]
  },
  {
   "cell_type": "code",
   "execution_count": 338,
   "metadata": {},
   "outputs": [
    {
     "data": {
      "text/plain": [
       "[[1, 2], [3, 10], [12, 16]]"
      ]
     },
     "execution_count": 338,
     "metadata": {},
     "output_type": "execute_result"
    }
   ],
   "source": [
    "insert(intervals2,newinterval2)"
   ]
  },
  {
   "cell_type": "markdown",
   "metadata": {},
   "source": [
    "### 56. Merge Intervals\n",
    "https://leetcode.com/problems/merge-intervals/"
   ]
  },
  {
   "cell_type": "markdown",
   "metadata": {},
   "source": [
    "Given a collection of intervals, merge all overlapping intervals.\n",
    "\n",
    "**Example 1:**\n",
    "```\n",
    "Input: [[1,3],[2,6],[8,10],[15,18]]\n",
    "Output: [[1,6],[8,10],[15,18]]\n",
    "Explanation: Since intervals [1,3] and [2,6] overlaps, merge them into [1,6].\n",
    "```\n",
    "**Example 2:**\n",
    "```\n",
    "Input: [[1,4],[4,5]]\n",
    "Output: [[1,5]]\n",
    "Explanation: Intervals [1,4] and [4,5] are considered overlapping.\n",
    "```\n",
    "**NOTE:** input types have been changed on April 15, 2019. Please reset to default code definition to get new method signature."
   ]
  },
  {
   "cell_type": "code",
   "execution_count": 5,
   "metadata": {
    "collapsed": true
   },
   "outputs": [],
   "source": [
    "intervals1 = [[1,3],[2,6],[8,10],[15,18]]\n",
    "intervals2 = [[1,4],[4,5]]\n",
    "intervals3 = [[1,4],[0,4]]\n",
    "intervals4 = [[1,4],[0,0]]"
   ]
  },
  {
   "cell_type": "code",
   "execution_count": 360,
   "metadata": {
    "collapsed": true
   },
   "outputs": [],
   "source": [
    "# assumes sorted already\n",
    "def merge(intervals: List[List[int]]) -> List[List[int]]:\n",
    "    result = []\n",
    "    for i in intervals:\n",
    "        if result and i[0] <= result[-1][1]:\n",
    "            result[-1][1] = max(i[1],result[-1][1])\n",
    "            result[-1][0] = min(i[0],result[-1][0])\n",
    "        else:\n",
    "            result.append(i)\n",
    "    return result"
   ]
  },
  {
   "cell_type": "code",
   "execution_count": 3,
   "metadata": {
    "collapsed": true
   },
   "outputs": [],
   "source": [
    "def merge(intervals: List[List[int]]) -> List[List[int]]:\n",
    "    result = []\n",
    "    intervals = sorted(intervals, key=lambda x: x[0])\n",
    "    for i in intervals:\n",
    "        if result and i[0] <= result[-1][1]:\n",
    "            result[-1][1] = max(i[1],result[-1][1])\n",
    "            result[-1][0] = min(i[0],result[-1][0])\n",
    "        else:\n",
    "            result.append(i)\n",
    "    return result"
   ]
  },
  {
   "cell_type": "code",
   "execution_count": 7,
   "metadata": {},
   "outputs": [
    {
     "data": {
      "text/plain": [
       "[[0, 0], [1, 4]]"
      ]
     },
     "execution_count": 7,
     "metadata": {},
     "output_type": "execute_result"
    }
   ],
   "source": [
    "merge(intervals4)"
   ]
  },
  {
   "cell_type": "markdown",
   "metadata": {},
   "source": [
    "### 435. Non-overlapping Intervals\n",
    "https://leetcode.com/problems/non-overlapping-intervals/"
   ]
  },
  {
   "cell_type": "markdown",
   "metadata": {},
   "source": [
    "Given a collection of intervals, find the minimum number of intervals you need to remove to make the rest of the intervals non-overlapping.\n",
    "\n",
    " \n",
    "\n",
    "**Example 1:**\n",
    "```\n",
    "Input: [[1,2],[2,3],[3,4],[1,3]]\n",
    "Output: 1\n",
    "Explanation: [1,3] can be removed and the rest of intervals are non-overlapping.\n",
    "```\n",
    "**Example 2:**\n",
    "```\n",
    "Input: [[1,2],[1,2],[1,2]]\n",
    "Output: 2\n",
    "Explanation: You need to remove two [1,2] to make the rest of intervals non-overlapping.\n",
    "```\n",
    "**Example 3:**\n",
    "```\n",
    "Input: [[1,2],[2,3]]\n",
    "Output: 0\n",
    "Explanation: You don't need to remove any of the intervals since they're already non-overlapping.\n",
    "```\n",
    "\n",
    "**Note:**\n",
    "\n",
    "1. You may assume the interval's end point is always bigger than its start point.\n",
    "2. Intervals like [1,2] and [2,3] have borders \"touching\" but they don't overlap each other."
   ]
  },
  {
   "cell_type": "code",
   "execution_count": 45,
   "metadata": {
    "collapsed": true
   },
   "outputs": [],
   "source": [
    "intervals1 = [[1,2],[2,3],[3,4],[1,3]]  # 1\n",
    "intervals2 = [[1,2],[1,2],[1,2]]  # 2\n",
    "intervals3 = [[1,2],[2,3]]  # 0\n",
    "intervals4 = []\n",
    "intervals5 = [[1,7]]\n",
    "intervals6 = [[0,2],[1,3],[2,4],[3,5],[4,6]]"
   ]
  },
  {
   "cell_type": "code",
   "execution_count": 41,
   "metadata": {
    "collapsed": true
   },
   "outputs": [],
   "source": [
    "def eraseOverlapIntervals(intervals: List[List[int]]) -> int:\n",
    "    intervals = sorted(intervals, key=lambda x: x[0])\n",
    "    n = 0\n",
    "    if len(intervals)>1:\n",
    "        previ = intervals[0]\n",
    "        for i in intervals[1:]:\n",
    "            if previ[1] > i[0]: # overlap!\n",
    "                n += 1\n",
    "                if i[1] < previ[1]:\n",
    "                    previ = i\n",
    "            else:\n",
    "                previ = i\n",
    "    return n"
   ]
  },
  {
   "cell_type": "code",
   "execution_count": 49,
   "metadata": {
    "collapsed": true
   },
   "outputs": [],
   "source": [
    "# sort by end of interval\n",
    "def eraseOverlapIntervals(intervals: List[List[int]]) -> int:\n",
    "    n, rb = 0, 0\n",
    "    intervals = sorted(intervals, key=lambda x: x[1])\n",
    "    for i in intervals:\n",
    "        if i[0] >= rb:\n",
    "            rb = i[1]\n",
    "        else:\n",
    "            n += 1\n",
    "    return n"
   ]
  },
  {
   "cell_type": "code",
   "execution_count": 55,
   "metadata": {},
   "outputs": [
    {
     "data": {
      "text/plain": [
       "1"
      ]
     },
     "execution_count": 55,
     "metadata": {},
     "output_type": "execute_result"
    }
   ],
   "source": [
    "eraseOverlapIntervals(intervals1)"
   ]
  },
  {
   "cell_type": "markdown",
   "metadata": {
    "collapsed": true
   },
   "source": [
    "### 252. Meeting Rooms (leetcode premium)\n",
    "https://leetcode.com/problems/meeting-rooms/  \n",
    "[secondary blog link](http://tiancao.me/Leetcode-Unlocked/LeetCode%20Locked/c1.6.html)"
   ]
  },
  {
   "cell_type": "markdown",
   "metadata": {},
   "source": [
    "Given an array of meeting time intervals consisting of start and end times `[[s1,e1],[s2,e2],...] (si < ei)`, determine if a person could attend all meetings.\n",
    "\n",
    "For example,\n",
    "\n",
    "Given `[[0, 30],[5, 10],[15, 20]]`,  \n",
    "return `false`."
   ]
  },
  {
   "cell_type": "code",
   "execution_count": 5,
   "metadata": {
    "collapsed": true
   },
   "outputs": [],
   "source": [
    "intervals1 = [[0, 30],[5, 10],[15, 20]]\n",
    "intervals2 = [[0, 4],[5, 10],[15, 20]]"
   ]
  },
  {
   "cell_type": "code",
   "execution_count": 6,
   "metadata": {
    "collapsed": true
   },
   "outputs": [],
   "source": [
    "def meetings(intervals: List[List[int]]) -> bool:\n",
    "    intervals = sorted(intervals, key=lambda x: x[0])\n",
    "    endtime = 0\n",
    "    for i in intervals:\n",
    "        starttime = i[0]\n",
    "        if starttime < endtime:\n",
    "            return False\n",
    "        endtime = i[1]\n",
    "        \n",
    "    return True "
   ]
  },
  {
   "cell_type": "code",
   "execution_count": 7,
   "metadata": {},
   "outputs": [
    {
     "data": {
      "text/plain": [
       "True"
      ]
     },
     "execution_count": 7,
     "metadata": {},
     "output_type": "execute_result"
    }
   ],
   "source": [
    "meetings(intervals2)"
   ]
  },
  {
   "cell_type": "markdown",
   "metadata": {},
   "source": [
    "### 253. Meeting Rooms II (leetcode premium)\n",
    "https://leetcode.com/problems/meeting-rooms-ii/  \n",
    "[secondary blog link](http://tiancao.me/Leetcode-Unlocked/LeetCode%20Locked/c1.6.html)"
   ]
  },
  {
   "cell_type": "markdown",
   "metadata": {},
   "source": [
    "Given an array of meeting time intervals consisting of start and end times `[[s1,e1],[s2,e2],...] (si < ei)`, find the minimum number of conference rooms required.\n",
    "\n",
    "For example,\n",
    "\n",
    "Given `[[0, 30],[5, 10],[15, 20]]`,  \n",
    "return `2`."
   ]
  },
  {
   "cell_type": "code",
   "execution_count": 51,
   "metadata": {
    "collapsed": true
   },
   "outputs": [],
   "source": [
    "intervals1 = [[0, 30],[5, 10],[15, 20]] # 2\n",
    "intervals2 = [[0, 4],[5, 10],[15, 20]] # 1\n",
    "intervals3 = [[0, 30],[5, 10],[15, 20], [20, 25], [22, 28]] # 3\n",
    "intervals4 = [[0, 22],[5, 10],[15, 20], [20, 25], [22, 28]] # 2\n",
    "intervals5 = [[25, 30],[5, 10],[15, 20]] # 1\n",
    "intervals6 = [[7,10],[2,4]]"
   ]
  },
  {
   "cell_type": "code",
   "execution_count": 53,
   "metadata": {
    "collapsed": true
   },
   "outputs": [],
   "source": [
    "#use heap\n",
    "import heapq\n",
    "\n",
    "def minMeetingRooms(intervals: List[List[int]]) -> int:\n",
    "    heap = []\n",
    "    intervals = sorted(intervals, key=lambda x: x[0])\n",
    "    for i in intervals:\n",
    "        if heap and i[0] >= heap[0]:\n",
    "            heapq.heapreplace(heap, i[1])\n",
    "        else:\n",
    "            heapq.heappush(heap, i[1])\n",
    "    return len(heap)"
   ]
  },
  {
   "cell_type": "code",
   "execution_count": 56,
   "metadata": {},
   "outputs": [
    {
     "data": {
      "text/plain": [
       "3"
      ]
     },
     "execution_count": 56,
     "metadata": {},
     "output_type": "execute_result"
    }
   ],
   "source": [
    "minMeetingRooms(intervals3)"
   ]
  },
  {
   "cell_type": "markdown",
   "metadata": {},
   "source": [
    "## Topic: Strings"
   ]
  },
  {
   "cell_type": "markdown",
   "metadata": {},
   "source": [
    "### 242. Valid Anagram\n",
    "https://leetcode.com/problems/valid-anagram/"
   ]
  },
  {
   "cell_type": "markdown",
   "metadata": {},
   "source": [
    "Given two strings $s$ and $t$, write a function to determine if $t$ is an anagram of $s$.\n",
    "\n",
    "**Example 1:**\n",
    "```\n",
    "Input: s = \"anagram\", t = \"nagaram\"\n",
    "Output: true\n",
    "```\n",
    "**Example 2:**\n",
    "```\n",
    "Input: s = \"rat\", t = \"car\"\n",
    "Output: false\n",
    "```\n",
    "**Note:**  \n",
    "You may assume the string contains only lowercase alphabets.\n",
    "\n",
    "**Follow up:**  \n",
    "What if the inputs contain unicode characters? How would you adapt your solution to such case?"
   ]
  },
  {
   "cell_type": "code",
   "execution_count": 66,
   "metadata": {
    "collapsed": true
   },
   "outputs": [],
   "source": [
    "s1, t1 = \"anagram\", \"nagaram\"\n",
    "s2, t2 = \"rat\", \"car\""
   ]
  },
  {
   "cell_type": "code",
   "execution_count": 83,
   "metadata": {
    "collapsed": true
   },
   "outputs": [],
   "source": [
    "def isAnagram(s: str, t: str) -> bool:\n",
    "    sdct = {}\n",
    "    tdct = {}\n",
    "    for l in s:\n",
    "        sdct[l] = sdct.get(l,0)+1\n",
    "    for l in t:\n",
    "        tdct[l] = tdct.get(l,0)+1\n",
    "        \n",
    "    return sdct==tdct"
   ]
  },
  {
   "cell_type": "code",
   "execution_count": 85,
   "metadata": {},
   "outputs": [
    {
     "data": {
      "text/plain": [
       "False"
      ]
     },
     "execution_count": 85,
     "metadata": {},
     "output_type": "execute_result"
    }
   ],
   "source": [
    "isAnagram(s2,t2)"
   ]
  },
  {
   "cell_type": "markdown",
   "metadata": {},
   "source": [
    "### 20. Valid Parentheses\n",
    "https://leetcode.com/problems/valid-parentheses/"
   ]
  },
  {
   "cell_type": "markdown",
   "metadata": {},
   "source": [
    "Given a string containing just the characters `'('`, `')'`, `'{'`, `'}'`, `'['` and `']'`, determine if the input string is valid.\n",
    "\n",
    "An input string is valid if:\n",
    "\n",
    "1. Open brackets must be closed by the same type of brackets.\n",
    "2. Open brackets must be closed in the correct order.  \n",
    "\n",
    "Note that an empty string is also considered valid.\n",
    "\n",
    "**Example 1:**\n",
    "```\n",
    "Input: \"()\"\n",
    "Output: true\n",
    "```\n",
    "**Example 2:**\n",
    "```\n",
    "Input: \"()[]{}\"\n",
    "Output: true\n",
    "```\n",
    "**Example 3:**\n",
    "```\n",
    "Input: \"(]\"\n",
    "Output: false\n",
    "```\n",
    "**Example 4:**\n",
    "```\n",
    "Input: \"([)]\"\n",
    "Output: false\n",
    "```\n",
    "**Example 5:**\n",
    "```\n",
    "Input: \"{[]}\"\n",
    "Output: true\n",
    "```"
   ]
  },
  {
   "cell_type": "code",
   "execution_count": 102,
   "metadata": {
    "collapsed": true
   },
   "outputs": [],
   "source": [
    "s1 = '()'\n",
    "s2 = '()[]{}'\n",
    "s3 = '(]'\n",
    "s4 = '([)]'\n",
    "s5 = '{[]}'\n",
    "s6 = '))]}'"
   ]
  },
  {
   "cell_type": "code",
   "execution_count": 100,
   "metadata": {
    "collapsed": true
   },
   "outputs": [],
   "source": [
    "def isValid(s: str) -> bool:\n",
    "    mapping = {')':'(','}':'{',']':'['}\n",
    "    stack = []\n",
    "    for c in s:\n",
    "        if c not in mapping.keys():\n",
    "            stack.append(c)\n",
    "        elif stack and mapping.get(c)==stack[-1]:\n",
    "            stack.pop()\n",
    "        else:\n",
    "            return False\n",
    "        \n",
    "    if stack:\n",
    "        return False\n",
    "    else:\n",
    "        return True"
   ]
  },
  {
   "cell_type": "code",
   "execution_count": 103,
   "metadata": {},
   "outputs": [
    {
     "data": {
      "text/plain": [
       "False"
      ]
     },
     "execution_count": 103,
     "metadata": {},
     "output_type": "execute_result"
    }
   ],
   "source": [
    "isValid(s6)"
   ]
  },
  {
   "cell_type": "markdown",
   "metadata": {},
   "source": [
    "### 125. Valid Palindrome\n",
    "https://leetcode.com/problems/valid-palindrome/"
   ]
  },
  {
   "cell_type": "markdown",
   "metadata": {},
   "source": [
    "Given a string, determine if it is a palindrome, considering only alphanumeric characters and ignoring cases.\n",
    "\n",
    "Note: For the purpose of this problem, we define empty string as valid palindrome.\n",
    "\n",
    "**Example 1:**\n",
    "```\n",
    "Input: \"A man, a plan, a canal: Panama\"\n",
    "Output: true\n",
    "```\n",
    "**Example 2:**\n",
    "```\n",
    "Input: \"race a car\"\n",
    "Output: false\n",
    "```"
   ]
  },
  {
   "cell_type": "code",
   "execution_count": 127,
   "metadata": {
    "collapsed": true
   },
   "outputs": [],
   "source": [
    "s1 = 'A man, a plan, a canal: Panama'\n",
    "s2 = 'race a car'\n",
    "s3 = ''"
   ]
  },
  {
   "cell_type": "code",
   "execution_count": 118,
   "metadata": {
    "collapsed": true
   },
   "outputs": [],
   "source": [
    "import string\n",
    "def isPalindrome(s: str) -> bool:\n",
    "    s = s.translate(s.maketrans('','',string.punctuation)).replace(' ','').lower()\n",
    "    return s==s[::-1]"
   ]
  },
  {
   "cell_type": "code",
   "execution_count": 123,
   "metadata": {
    "collapsed": true
   },
   "outputs": [],
   "source": [
    "def isPalindrome(s: str) -> bool:\n",
    "    s = ''.join(c for c in s.lower() if c.isalnum())\n",
    "    return s==s[::-1]"
   ]
  },
  {
   "cell_type": "code",
   "execution_count": 129,
   "metadata": {},
   "outputs": [
    {
     "data": {
      "text/plain": [
       "True"
      ]
     },
     "execution_count": 129,
     "metadata": {},
     "output_type": "execute_result"
    }
   ],
   "source": [
    "isPalindrome(s3)"
   ]
  },
  {
   "cell_type": "markdown",
   "metadata": {},
   "source": [
    "### 3. Longest Substring Without Repeating Characters\n",
    "https://leetcode.com/problems/longest-substring-without-repeating-characters/"
   ]
  },
  {
   "cell_type": "markdown",
   "metadata": {},
   "source": [
    "Given a string, find the length of the longest substring without repeating characters.\n",
    "\n",
    "**Example 1:**\n",
    "```\n",
    "Input: \"abcabcbb\"\n",
    "Output: 3 \n",
    "Explanation: The answer is \"abc\", with the length of 3. \n",
    "```\n",
    "**Example 2:**\n",
    "```\n",
    "Input: \"bbbbb\"\n",
    "Output: 1\n",
    "Explanation: The answer is \"b\", with the length of 1.\n",
    "```\n",
    "**Example 3:**\n",
    "```\n",
    "Input: \"pwwkew\"\n",
    "Output: 3\n",
    "Explanation: The answer is \"wke\", with the length of 3. \n",
    "             Note that the answer must be a substring, \"pwke\" is a subsequence and not a substring.\n",
    "```"
   ]
  },
  {
   "cell_type": "code",
   "execution_count": 260,
   "metadata": {
    "collapsed": true
   },
   "outputs": [],
   "source": [
    "s1 = 'abcabcbb'\n",
    "s2 = 'bbbbb'\n",
    "s3 = 'pwwkew'\n",
    "s4 = 'pwwkewabcdfgastwfqrw'\n",
    "s5 = \"tmmzuxt\""
   ]
  },
  {
   "cell_type": "code",
   "execution_count": 244,
   "metadata": {
    "collapsed": true
   },
   "outputs": [],
   "source": [
    "def lengthOfLongestSubstring(s: str) -> int:\n",
    "    i,j,res = 0,0,0\n",
    "    dct = {}\n",
    "    while (i<len(s)) and (j<len(s)):\n",
    "        c = s[j]\n",
    "        if c not in dct:\n",
    "            dct[c] = j\n",
    "            j +=1\n",
    "            res = max(res,len(dct))\n",
    "        else:\n",
    "            dct.pop(s[i])\n",
    "            i +=1\n",
    "    return res"
   ]
  },
  {
   "cell_type": "code",
   "execution_count": 263,
   "metadata": {
    "collapsed": true
   },
   "outputs": [],
   "source": [
    "def lengthOfLongestSubstring(s: str) -> int:\n",
    "    res = start = 0\n",
    "    dct = {}\n",
    "    for i,c in enumerate(s):\n",
    "        if (c not in dct) or start > dct[c]:\n",
    "            res = max(res,i-start+1)\n",
    "        elif start <= dct[c]:\n",
    "            start = dct[c]+1\n",
    "        dct[c] = i\n",
    "    return res"
   ]
  },
  {
   "cell_type": "code",
   "execution_count": 265,
   "metadata": {
    "collapsed": true
   },
   "outputs": [],
   "source": [
    "def lengthOfLongestSubstring(s: str) -> int:\n",
    "    res = start = 0\n",
    "    dct = {}\n",
    "    for i,c in enumerate(s):\n",
    "        if (c in dct) and (start <= dct[c]):\n",
    "            start = dct[c]+1\n",
    "        else:\n",
    "            l = i-start+1\n",
    "            if res < l:\n",
    "                res = l\n",
    "        dct[c] = i\n",
    "    return res"
   ]
  },
  {
   "cell_type": "code",
   "execution_count": 266,
   "metadata": {},
   "outputs": [
    {
     "data": {
      "text/plain": [
       "5"
      ]
     },
     "execution_count": 266,
     "metadata": {},
     "output_type": "execute_result"
    }
   ],
   "source": [
    "lengthOfLongestSubstring(s5)"
   ]
  },
  {
   "cell_type": "markdown",
   "metadata": {},
   "source": [
    "### 424. Longest Repeating Character Replacement\n",
    "https://leetcode.com/problems/longest-repeating-character-replacement/"
   ]
  },
  {
   "cell_type": "markdown",
   "metadata": {},
   "source": [
    "Given a string `s` that consists of only uppercase English letters, you can perform at most `k` operations on that string.\n",
    "\n",
    "In one operation, you can choose any character of the string and change it to **any** other uppercase English character.\n",
    "\n",
    "Find the length of the longest sub-string containing all repeating letters you can get after performing the above operations.\n",
    "\n",
    "**Note:**\n",
    "Both the string's length and `k` will not exceed $10^4$.\n",
    "\n",
    "**Example 1:**\n",
    "```\n",
    "Input:\n",
    "s = \"ABAB\", k = 2\n",
    "\n",
    "Output:\n",
    "4\n",
    "\n",
    "Explanation:\n",
    "Replace the two 'A's with two 'B's or vice versa.\n",
    "```\n",
    "\n",
    "**Example 2:**\n",
    "```\n",
    "Input:\n",
    "s = \"AABABBA\", k = 1\n",
    "\n",
    "Output:\n",
    "4\n",
    "\n",
    "Explanation:\n",
    "Replace the one 'A' in the middle with 'B' and form \"AABBBBA\".\n",
    "The substring \"BBBB\" has the longest repeating letters, which is 4.\n",
    "```"
   ]
  },
  {
   "cell_type": "code",
   "execution_count": 301,
   "metadata": {
    "collapsed": true
   },
   "outputs": [],
   "source": [
    "s1, k1 = 'ABAB', 2\n",
    "s2, k2 = 'AABABBA', 1\n",
    "s3, k3 = 'ABCDAAAFGAA', 3"
   ]
  },
  {
   "cell_type": "code",
   "execution_count": 296,
   "metadata": {
    "collapsed": true
   },
   "outputs": [],
   "source": [
    "# try sliding window\n",
    "def characterReplacement(s: str, k: int) -> int:\n",
    "    start,res = 0,0\n",
    "    dct = {}\n",
    "    for i,c in enumerate(s):\n",
    "        # add c to counts of characters in window\n",
    "        if c not in dct:\n",
    "            dct[c] = 1\n",
    "        else:\n",
    "            dct[c] += 1\n",
    "        \n",
    "        # calc window size\n",
    "        windowsize = i-start+1\n",
    "        # repeatedly shrink window until replacements needed don't exceed allowed value k\n",
    "        while windowsize - max(dct.values()) > k:\n",
    "            dct[s[start]] -= 1\n",
    "            start += 1\n",
    "            windowsize = i-start+1\n",
    "        \n",
    "        res = max(res, windowsize)\n",
    "    return res"
   ]
  },
  {
   "cell_type": "code",
   "execution_count": 302,
   "metadata": {},
   "outputs": [
    {
     "data": {
      "text/plain": [
       "8"
      ]
     },
     "execution_count": 302,
     "metadata": {},
     "output_type": "execute_result"
    }
   ],
   "source": [
    "characterReplacement(s3,k3)"
   ]
  },
  {
   "cell_type": "markdown",
   "metadata": {},
   "source": [
    "### 5. Longest Palindromic Substring\n",
    "https://leetcode.com/problems/longest-palindromic-substring/"
   ]
  },
  {
   "cell_type": "markdown",
   "metadata": {},
   "source": [
    "Given a string s, find the longest palindromic substring in s. You may assume that the maximum length of s is 1000.\n",
    "\n",
    "**Example 1:**\n",
    "```\n",
    "Input: \"babad\"\n",
    "Output: \"bab\"\n",
    "Note: \"aba\" is also a valid answer.\n",
    "```\n",
    "**Example 2:**\n",
    "```\n",
    "Input: \"cbbd\"\n",
    "Output: \"bb\"\n",
    "```"
   ]
  },
  {
   "cell_type": "code",
   "execution_count": 262,
   "metadata": {},
   "outputs": [],
   "source": [
    "s1 = 'babad'\n",
    "s2 = 'cbbd'\n",
    "s3 = 'acacacabra'\n",
    "s4 = 'racecar'\n",
    "s5 = 'assalbraceecartb'\n",
    "s6 = 'a'\n",
    "s7 = 'bb'\n",
    "s8 = 'cd'"
   ]
  },
  {
   "cell_type": "code",
   "execution_count": 263,
   "metadata": {},
   "outputs": [],
   "source": [
    "# using middle out helper function for palindrome detection\n",
    "def longestPalindrome(s: str) -> str:\n",
    "    def detect_palindrome(s: str, l: int, r: int) -> str:\n",
    "        while r<len(s) and l>=0 and (s[l]==s[r]):\n",
    "            l -= 1\n",
    "            r += 1\n",
    "        return s[l+1:r] # return previous string\n",
    "    \n",
    "    maxpal = ''\n",
    "    if len(s) < 1:\n",
    "        return ''\n",
    "    for i in range(0,len(s)):\n",
    "        cand1 = detect_palindrome(s,i,i) # case 1: odd length palindrome\n",
    "        cand2 = detect_palindrome(s,i,i+1) # case 2: even length palindrome\n",
    "        if len(cand1) > len(maxpal):\n",
    "            maxpal = cand1\n",
    "            print('found cand1:', cand1)\n",
    "        if len(cand2) > len(maxpal):\n",
    "            maxpal = cand2\n",
    "            print('found cand2:', cand2)\n",
    "    return maxpal"
   ]
  },
  {
   "cell_type": "code",
   "execution_count": 19,
   "metadata": {},
   "outputs": [
    {
     "data": {
      "text/plain": [
       "'babad'"
      ]
     },
     "execution_count": 19,
     "metadata": {},
     "output_type": "execute_result"
    }
   ],
   "source": [
    "# weird hard to understand python solution\n",
    "# scans string in a single pass using a 2x sliding windows that grow if the center of a palindrome is detected\n",
    "# still O(n^2) run time because string reversal s[::-1] is linear time operation\n",
    "def longestPalindrome(self, s):\n",
    "    if len(s)==0:\n",
    "        return 0\n",
    "    maxLen=1\n",
    "    start=0\n",
    "    for i in xrange(len(s)):\n",
    "        # expands palindrome window by 1 character if odd length palindrome ending at i detected\n",
    "        if i-maxLen >=1 and s[i-maxLen-1:i+1]==s[i-maxLen-1:i+1][::-1]:\n",
    "            start=i-maxLen-1\n",
    "            maxLen+=2\n",
    "            continue\n",
    "        \n",
    "        # expands palindrome window by 1 character if even length palindrome ending at i detected\n",
    "        if i-maxLen >=0 and s[i-maxLen:i+1]==s[i-maxLen:i+1][::-1]:\n",
    "            start=i-maxLen\n",
    "            maxLen+=1\n",
    "    return s[start:start+maxLen]"
   ]
  },
  {
   "cell_type": "code",
   "execution_count": 265,
   "metadata": {},
   "outputs": [
    {
     "name": "stdout",
     "output_type": "stream",
     "text": [
      "found cand1: c\n"
     ]
    },
    {
     "data": {
      "text/plain": [
       "'c'"
      ]
     },
     "execution_count": 265,
     "metadata": {},
     "output_type": "execute_result"
    }
   ],
   "source": [
    "longestPalindrome(s8)"
   ]
  },
  {
   "cell_type": "markdown",
   "metadata": {},
   "source": [
    "### 647. Palindromic Substrings\n",
    "https://leetcode.com/problems/palindromic-substrings/"
   ]
  },
  {
   "cell_type": "markdown",
   "metadata": {},
   "source": [
    "Given a string, your task is to count how many palindromic substrings in this string.\n",
    "\n",
    "The substrings with different start indexes or end indexes are counted as different substrings even they consist of same characters.\n",
    "\n",
    "**Example 1:**\n",
    "```\n",
    "Input: \"abc\"\n",
    "Output: 3\n",
    "Explanation: Three palindromic strings: \"a\", \"b\", \"c\".\n",
    "```\n",
    "\n",
    "**Example 2:**\n",
    "```\n",
    "Input: \"aaa\"\n",
    "Output: 6\n",
    "Explanation: Six palindromic strings: \"a\", \"a\", \"a\", \"aa\", \"aa\", \"aaa\".\n",
    "```\n",
    "\n",
    "**Note:**\n",
    "\n",
    "1. The input string length won't exceed 1000."
   ]
  },
  {
   "cell_type": "code",
   "execution_count": 272,
   "metadata": {},
   "outputs": [],
   "source": [
    "def countSubstrings(s: str) -> int:\n",
    "    def count_palindrome(s: str, l: int, r:int):\n",
    "#         if len(s) < 1:\n",
    "#             return ''\n",
    "        count=0\n",
    "        while l>=0 and r<len(s) and (s[l]==s[r]):\n",
    "            l -= 1\n",
    "            r +=1\n",
    "            count+=1\n",
    "        return count\n",
    "    \n",
    "    totalcount = 0\n",
    "    for i in range(0,len(s)):\n",
    "        # case 1: odd length palindrome\n",
    "        totalcount += count_palindrome(s, i, i)\n",
    "        # case 2: even length palindrome\n",
    "        totalcount += count_palindrome(s, i, i+1)\n",
    "        \n",
    "        \n",
    "    return totalcount"
   ]
  },
  {
   "cell_type": "code",
   "execution_count": 267,
   "metadata": {},
   "outputs": [],
   "source": [
    "s1 = 'abc'\n",
    "s2 = 'aaa'\n",
    "s3 = 'racecar'\n",
    "s4 = 'raceecar'"
   ]
  },
  {
   "cell_type": "code",
   "execution_count": 276,
   "metadata": {},
   "outputs": [
    {
     "data": {
      "text/plain": [
       "12"
      ]
     },
     "execution_count": 276,
     "metadata": {},
     "output_type": "execute_result"
    }
   ],
   "source": [
    "countSubstrings(s4)"
   ]
  },
  {
   "cell_type": "markdown",
   "metadata": {},
   "source": [
    "## Topic: Heaps"
   ]
  },
  {
   "cell_type": "markdown",
   "metadata": {},
   "source": [
    "### 347. Top K Frequent Elements\n",
    "https://leetcode.com/problems/top-k-frequent-elements/"
   ]
  },
  {
   "cell_type": "markdown",
   "metadata": {},
   "source": [
    "Given a non-empty array of integers, return the $k$ most frequent elements.\n",
    "\n",
    "**Example 1:**\n",
    "```\n",
    "Input: nums = [1,1,1,2,2,3], k = 2\n",
    "Output: [1,2]\n",
    "```\n",
    "**Example 2:**\n",
    "```\n",
    "Input: nums = [1], k = 1\n",
    "Output: [1]\n",
    "```\n",
    "**Note:**\n",
    "\n",
    "* You may assume $k$ is always valid, 1 ≤ $k$ ≤ number of unique elements.\n",
    "* Your algorithm's time complexity **must be** better than $O(n log n)$, where n is the array's size."
   ]
  },
  {
   "cell_type": "code",
   "execution_count": 317,
   "metadata": {},
   "outputs": [],
   "source": [
    "nums1, k1 = [1,1,1,2,2,3], 2\n",
    "nums2, k2 = [1], 1"
   ]
  },
  {
   "cell_type": "code",
   "execution_count": 322,
   "metadata": {},
   "outputs": [],
   "source": [
    "# O(nlogn) solution: store counts into dict and sort\n",
    "def topKFrequent(nums: List[int], k: int) -> List[int]:\n",
    "    dct = {}\n",
    "    for i in nums:\n",
    "        if i in dct.keys():\n",
    "            dct[i] += 1\n",
    "        else:\n",
    "            dct[i] = 1\n",
    "    \n",
    "    sorteddct = sorted(dct.items(), key=lambda x: x[1], reverse=True)\n",
    "    topk = [s[0] for s in sorteddct[:k]]\n",
    "    return topk"
   ]
  },
  {
   "cell_type": "code",
   "execution_count": 463,
   "metadata": {},
   "outputs": [],
   "source": [
    "# O(nlogk) solution using heaps. worst case run is O(nlogn) if k==n, but will be better for all k < n\n",
    "# uses only heap push and pop and dynamically builds/maintains heap\n",
    "from heapq import heappush, heappushpop\n",
    "\n",
    "def topKFrequent(nums: List[int], k: int) -> List[int]:\n",
    "    counts = {}\n",
    "    # can also use collections.counter to build dict\n",
    "    for i in nums:\n",
    "        if i in counts.keys():\n",
    "            counts[i] += 1\n",
    "        else:\n",
    "            counts[i] = 1\n",
    "        \n",
    "    # create list of counts and numbers\n",
    "    vals = [(value,key) for key,value in counts.items()]\n",
    "    \n",
    "    # push items into heap until heap size == k, then pushpop to maintain constant heap size\n",
    "    h = []\n",
    "    for i in range(0,len(vals)):\n",
    "        if i<k:\n",
    "            heappush(h,vals[i])\n",
    "        else:\n",
    "            heappushpop(h,vals[i])\n",
    "            \n",
    "    # build output list of only numbers from nums\n",
    "    topk = [v[1] for v in h]\n",
    "    return topk"
   ]
  },
  {
   "cell_type": "code",
   "execution_count": 458,
   "metadata": {},
   "outputs": [],
   "source": [
    "# O(nlogk) solution using heaps. worst case run is O(nlogn) if k==n, but will be better for all k < n\n",
    "# slightly faster than above solution, as heapify is O(n) time to build heap in place\n",
    "from heapq import heapify, heappushpop\n",
    "\n",
    "def topKFrequent(nums: List[int], k: int) -> List[int]:\n",
    "    counts = {}\n",
    "    # can also use collections.counter to build dict\n",
    "    for i in nums:\n",
    "        if i in counts.keys():\n",
    "            counts[i] += 1\n",
    "        else:\n",
    "            counts[i] = 1\n",
    "        \n",
    "    # pseudo implementation of heapq.nlargest\n",
    "    vals = [(value,key) for key,value in counts.items()] # \n",
    "    h = vals[:k]\n",
    "    heapify(h)\n",
    "    for val in vals[k:]:\n",
    "        heappushpop(h,val)\n",
    "        \n",
    "    topk = [v[1] for v in h]\n",
    "    return topk"
   ]
  },
  {
   "cell_type": "code",
   "execution_count": 486,
   "metadata": {},
   "outputs": [],
   "source": [
    "# O(nlogk) solution using heaps. worst case run is O(nlogn) if k==n, but will be better for all k < n\n",
    "# probably fastest solution using python built-in functions that run on optimized C code\n",
    "# kind of \"cheating\" as this uses built-in methods and doesn't show understanding of underlying algorithm\n",
    "from collections import Counter\n",
    "from heapq import nlargest\n",
    "\n",
    "def topKFrequent(nums: List[int], k: int) -> List[int]:\n",
    "    counts = Counter(nums)\n",
    "    topk = nlargest(k, counts, key=counts.get)\n",
    "    return topk"
   ]
  },
  {
   "cell_type": "markdown",
   "metadata": {},
   "source": [
    "### 295. Find Median from Data Stream\n",
    "https://leetcode.com/problems/find-median-from-data-stream/"
   ]
  },
  {
   "cell_type": "markdown",
   "metadata": {},
   "source": [
    "Median is the middle value in an ordered integer list. If the size of the list is even, there is no middle value. So the median is the mean of the two middle value.\n",
    "\n",
    "For example,\n",
    "`[2,3,4]`, the median is `3`\n",
    "\n",
    "`[2,3]`, the median is `(2 + 3) / 2 = 2.5`\n",
    "\n",
    "Design a data structure that supports the following two operations:\n",
    "\n",
    "* void addNum(int num) - Add a integer number from the data stream to the data structure.\n",
    "* double findMedian() - Return the median of all elements so far.\n",
    "\n",
    "**Example:**\n",
    "```\n",
    "addNum(1)\n",
    "addNum(2)\n",
    "findMedian() -> 1.5\n",
    "addNum(3) \n",
    "findMedian() -> 2\n",
    "```\n",
    "\n",
    "**Follow up:**\n",
    "\n",
    "1. If all integer numbers from the stream are between 0 and 100, how would you optimize it?\n",
    "2. If 99% of all integer numbers from the stream are between 0 and 100, how would you optimize it?"
   ]
  },
  {
   "cell_type": "code",
   "execution_count": 582,
   "metadata": {},
   "outputs": [],
   "source": [
    "from heapq import heappush, heappop\n",
    "\n",
    "class MedianFinder:\n",
    "\n",
    "    def __init__(self):\n",
    "        \"\"\"\n",
    "        initialize your data structure here.\n",
    "        \"\"\"\n",
    "        self.maxheap = []\n",
    "        self.minheap = []\n",
    "        \n",
    "\n",
    "    def addNum(self, num: int) -> None:\n",
    "        minh = self.minheap\n",
    "        maxh = self.maxheap\n",
    "        if minh and minh[0] <= num:\n",
    "            heappush(minh,num)\n",
    "        elif maxh and maxh[0] < num*-1:\n",
    "            heappush(maxh,num*-1)\n",
    "        else:\n",
    "            heappush(minh,num)\n",
    "        \n",
    "        # maintain similar heap sizes\n",
    "        while abs(len(minh)-len(maxh))>1:\n",
    "            if len(minh)>len(maxh):\n",
    "                val = heappop(minh)\n",
    "                heappush(maxh,val*-1)\n",
    "            elif len(maxh)>len(minh):\n",
    "                val = heappop(maxh)\n",
    "                heappush(minh,val*-1)\n",
    "        \n",
    "    def findMedian(self) -> float:\n",
    "        minh = self.minheap\n",
    "        maxh = self.maxheap\n",
    "        \n",
    "        # case: even number of items\n",
    "        if len(minh)==0 and len(maxh)==0:\n",
    "            median = None\n",
    "        elif (len(minh)+len(maxh)) % 2 == 0:\n",
    "            median = (minh[0]+(maxh[0]*-1))/2\n",
    "        else:\n",
    "            # find the larger of the two heaps\n",
    "            if len(maxh)>len(minh):\n",
    "                median = float(maxh[0]*-1)\n",
    "            else:\n",
    "                median = float(minh[0])\n",
    "        return median\n",
    "            \n",
    "    def _printvals(self) -> List[int]:\n",
    "        minh = self.minheap\n",
    "        maxh = self.maxheap\n",
    "        output = [-1*x for x in maxh]\n",
    "        output.extend(minh)\n",
    "        return output\n",
    "\n",
    "# Your MedianFinder object will be instantiated and called as such:\n",
    "# obj = MedianFinder()\n",
    "# obj.addNum(num)\n",
    "# param_2 = obj.findMedian()"
   ]
  },
  {
   "cell_type": "code",
   "execution_count": 580,
   "metadata": {},
   "outputs": [],
   "source": [
    "finder = MedianFinder()"
   ]
  },
  {
   "cell_type": "code",
   "execution_count": 583,
   "metadata": {},
   "outputs": [
    {
     "name": "stdout",
     "output_type": "stream",
     "text": [
      "-1.5\n",
      "-2\n",
      "-2.0\n"
     ]
    }
   ],
   "source": [
    "finder.addNum(-1)\n",
    "print(finder.findMedian())\n",
    "finder.addNum(-2)\n",
    "print(finder.findMedian())\n",
    "finder.addNum(-3)\n",
    "print(finder.findMedian())"
   ]
  },
  {
   "cell_type": "markdown",
   "metadata": {},
   "source": [
    "### 23. Merge k Sorted Lists\n",
    "https://leetcode.com/problems/merge-k-sorted-lists/"
   ]
  },
  {
   "cell_type": "markdown",
   "metadata": {},
   "source": [
    "Merge k sorted linked lists and return it as one sorted list. Analyze and describe its complexity.\n",
    "\n",
    "**Example:**\n",
    "```\n",
    "Input:\n",
    "[\n",
    "  1->4->5,\n",
    "  1->3->4,\n",
    "  2->6\n",
    "]\n",
    "Output: 1->1->2->3->4->4->5->6\n",
    "```"
   ]
  },
  {
   "cell_type": "code",
   "execution_count": 622,
   "metadata": {},
   "outputs": [],
   "source": [
    "# Definition for singly-linked list.\n",
    "class ListNode:\n",
    "    def __init__(self, x):\n",
    "        self.val = x\n",
    "        self.next = None\n",
    "\n",
    "class Solution:\n",
    "    from heapq import heappop, heappush\n",
    "    def mergeKLists(self, lists: List[ListNode]) -> ListNode:\n",
    "        dummy = cur = ListNode(0)\n",
    "        q = []\n",
    "        count = 0\n",
    "        # add initial nodes to heap with count val to preserve insertion order\n",
    "        for l in lists:\n",
    "            if l:\n",
    "                heapnode = (l.val,count,l)\n",
    "                heappush(q,heapnode)\n",
    "                count += 1\n",
    "\n",
    "        while len(q)>0:\n",
    "            # pop the lowest value node & add to final list\n",
    "            heapnode = heappop(q)\n",
    "            cur.next = heapnode[2]\n",
    "            cur = cur.next\n",
    "            # add next value to heap\n",
    "            nextl = heapnode[2].next\n",
    "            if nextl:\n",
    "                heapnode = (nextl.val,count,nextl)\n",
    "                heappush(q,heapnode)\n",
    "                count +=1\n",
    "        return dummy.next"
   ]
  },
  {
   "cell_type": "markdown",
   "metadata": {},
   "source": [
    "## Topic: Linked Lists"
   ]
  },
  {
   "cell_type": "markdown",
   "metadata": {},
   "source": [
    "### 206. Reverse Linked List\n",
    "https://leetcode.com/problems/reverse-linked-list/"
   ]
  },
  {
   "cell_type": "markdown",
   "metadata": {},
   "source": [
    "Reverse a singly linked list.\n",
    "\n",
    "**Example:**\n",
    "```\n",
    "Input: 1->2->3->4->5->NULL\n",
    "Output: 5->4->3->2->1->NULL\n",
    "```\n",
    "**Follow up:**\n",
    "\n",
    "A linked list can be reversed either iteratively or recursively. Could you implement both?"
   ]
  },
  {
   "cell_type": "code",
   "execution_count": 679,
   "metadata": {},
   "outputs": [],
   "source": [
    "class ListNode:\n",
    "    def __init__(self, x):\n",
    "        self.val = x\n",
    "        self.next = None\n",
    "\n",
    "n1 = ListNode(1)\n",
    "n2 = ListNode(2)\n",
    "n3 = ListNode(3)\n",
    "n4 = ListNode(4)\n",
    "n5 = ListNode(5)\n",
    "n1.next = n2\n",
    "n2.next = n3\n",
    "n3.next = n4\n",
    "n4.next = n5\n",
    "\n",
    "head1 = n1\n",
    "head2 = None"
   ]
  },
  {
   "cell_type": "code",
   "execution_count": 676,
   "metadata": {},
   "outputs": [],
   "source": [
    "class Solution:\n",
    "    def reverseList(self, head: ListNode) -> ListNode:\n",
    "        lastnode = None\n",
    "        curnode = head   \n",
    "        newhead = ListNode(0)\n",
    "        while curnode:\n",
    "            newnode = ListNode(curnode.val)\n",
    "            newnode.next = lastnode\n",
    "            newhead.next = newnode\n",
    "            curnode = curnode.next\n",
    "            lastnode = newnode\n",
    "        return newhead.next"
   ]
  },
  {
   "cell_type": "code",
   "execution_count": 693,
   "metadata": {},
   "outputs": [],
   "source": [
    "# more concise code\n",
    "class Solution:\n",
    "    def reverseList(self, head: ListNode) -> ListNode:\n",
    "        lastnode = None\n",
    "        curnode = head   \n",
    "        while curnode:\n",
    "            # reassign reference\n",
    "            nextnode = curnode.next\n",
    "            curnode.next = lastnode\n",
    "            # move pointers\n",
    "            lastnode = curnode\n",
    "            curnode = nextnode\n",
    "        return lastnode"
   ]
  },
  {
   "cell_type": "code",
   "execution_count": 696,
   "metadata": {},
   "outputs": [
    {
     "name": "stdout",
     "output_type": "stream",
     "text": [
      "5\n",
      "4\n",
      "3\n",
      "2\n",
      "1\n"
     ]
    }
   ],
   "source": [
    "soln = Solution()\n",
    "ans = soln.reverseList(head1)\n",
    "\n",
    "while ans:\n",
    "    print(ans.val)\n",
    "    ans = ans.next"
   ]
  },
  {
   "cell_type": "markdown",
   "metadata": {},
   "source": [
    "### 141. Linked List Cycle\n",
    "https://leetcode.com/problems/linked-list-cycle/"
   ]
  },
  {
   "cell_type": "markdown",
   "metadata": {},
   "source": [
    "Given a linked list, determine if it has a cycle in it.\n",
    "\n",
    "To represent a cycle in the given linked list, we use an integer pos which represents the position (0-indexed) in the linked list where tail connects to. If pos is -1, then there is no cycle in the linked list.\n",
    "\n",
    " \n",
    "\n",
    "**Example 1:**\n",
    "```\n",
    "Input: head = [3,2,0,-4], pos = 1\n",
    "Output: true\n",
    "Explanation: There is a cycle in the linked list, where tail connects to the second node.\n",
    "```\n",
    "![circularlinkedlist](https://assets.leetcode.com/uploads/2018/12/07/circularlinkedlist.png)\n",
    "\n",
    "**Example 2:**\n",
    "```\n",
    "Input: head = [1,2], pos = 0\n",
    "Output: true\n",
    "Explanation: There is a cycle in the linked list, where tail connects to the first node.\n",
    "```\n",
    "![circularlinkedlist2](https://assets.leetcode.com/uploads/2018/12/07/circularlinkedlist_test2.png)\n",
    "\n",
    "\n",
    "**Example 3:**\n",
    "```\n",
    "Input: head = [1], pos = -1\n",
    "Output: false\n",
    "Explanation: There is no cycle in the linked list.\n",
    "```\n",
    "![circularlinkedlist3](https://assets.leetcode.com/uploads/2018/12/07/circularlinkedlist_test3.png)\n",
    " \n",
    "\n",
    "**Follow up:**\n",
    "\n",
    "Can you solve it using O(1) (i.e. constant) memory?"
   ]
  },
  {
   "cell_type": "code",
   "execution_count": 705,
   "metadata": {},
   "outputs": [],
   "source": [
    "class ListNode:\n",
    "    def __init__(self, x):\n",
    "        self.val = x\n",
    "        self.next = None\n",
    "\n",
    "# nodes\n",
    "n0 = ListNode(3)\n",
    "n1 = ListNode(2)\n",
    "n2 = ListNode(0)\n",
    "n3 = ListNode(-4)\n",
    "n4 = ListNode(1)\n",
    "n5 = ListNode(2)\n",
    "# list 1\n",
    "n0.next = n1\n",
    "n1.next = n2\n",
    "n2.next = n3\n",
    "n3.next = n1\n",
    "# list 2\n",
    "n4.next = n5\n",
    "n5.next = n4\n",
    "\n",
    "head1 = n0\n",
    "head2 = n4\n",
    "head3 = None"
   ]
  },
  {
   "cell_type": "code",
   "execution_count": 706,
   "metadata": {},
   "outputs": [],
   "source": [
    "# O(n) memory solution: hash table\n",
    "class Solution:\n",
    "    def hasCycle(self, head: ListNode) -> bool:\n",
    "        dct = {}\n",
    "        curnode = head\n",
    "        while curnode:\n",
    "            if curnode in dct:\n",
    "                return True\n",
    "            else:\n",
    "                dct[curnode] = 1\n",
    "                curnode = curnode.next\n",
    "        return False"
   ]
  },
  {
   "cell_type": "code",
   "execution_count": 713,
   "metadata": {},
   "outputs": [],
   "source": [
    "# O(1) memory solution: fast & slow pointers\n",
    "class Solution:\n",
    "    def hasCycle(self, head: ListNode) -> bool:\n",
    "        sp = fp = head\n",
    "        while sp and fp:\n",
    "            sp=sp.next\n",
    "            fp=fp.next\n",
    "            if fp:\n",
    "                fp=fp.next\n",
    "            \n",
    "            # check for cycle\n",
    "            if fp==sp:\n",
    "                return True\n",
    "        return False"
   ]
  },
  {
   "cell_type": "code",
   "execution_count": 716,
   "metadata": {},
   "outputs": [],
   "source": [
    "# O(1) memory solution: fast & slow pointers\n",
    "class Solution:\n",
    "    def hasCycle(self, head: ListNode) -> bool:\n",
    "        sp = fp = head\n",
    "        while fp and fp.next:\n",
    "            sp=sp.next\n",
    "            fp=fp.next.next\n",
    "            # check for cycle\n",
    "            if fp==sp:\n",
    "                return True\n",
    "        return False"
   ]
  },
  {
   "cell_type": "code",
   "execution_count": 718,
   "metadata": {},
   "outputs": [
    {
     "data": {
      "text/plain": [
       "True"
      ]
     },
     "execution_count": 718,
     "metadata": {},
     "output_type": "execute_result"
    }
   ],
   "source": [
    "soln = Solution()\n",
    "soln.hasCycle(head1)"
   ]
  },
  {
   "cell_type": "markdown",
   "metadata": {},
   "source": [
    "## 21. Merge Two Sorted Lists\n",
    "https://leetcode.com/problems/merge-two-sorted-lists/"
   ]
  },
  {
   "cell_type": "markdown",
   "metadata": {},
   "source": [
    "Merge two sorted linked lists and return it as a new list. The new list should be made by splicing together the nodes of the first two lists.\n",
    "\n",
    "**Example:**\n",
    "```\n",
    "Input: 1->2->4, 1->3->4\n",
    "Output: 1->1->2->3->4->4\n",
    "```"
   ]
  },
  {
   "cell_type": "code",
   "execution_count": 598,
   "metadata": {},
   "outputs": [],
   "source": [
    "# Definition for singly-linked list.\n",
    "class ListNode:\n",
    "    def __init__(self, x):\n",
    "        self.val = x\n",
    "        self.next = None\n",
    "\n",
    "class Solution:\n",
    "    def mergeTwoLists(self, l1: ListNode, l2: ListNode) -> ListNode:\n",
    "        p1 = l1\n",
    "        p2 = l2\n",
    "        if p1 is None and p2 is None:\n",
    "            return None\n",
    "        if (p2 is None) or (p1 and p1.val <= p2.val):\n",
    "            head = p1\n",
    "            p1 = p1.next\n",
    "        elif (p1 is None) or (p2 and p2.val <= p1.val):\n",
    "            head = p2\n",
    "            p2 = p2.next\n",
    "        curnode = head\n",
    "        while p1 or p2:\n",
    "            if (p2 is None) or (p1 and p1.val <= p2.val):\n",
    "                curnode.next = p1\n",
    "                p1 = p1.next\n",
    "                curnode = curnode.next\n",
    "            elif (p1 is None) or (p2 and p2.val <= p1.val):\n",
    "                curnode.next = p2\n",
    "                p2 = p2.next\n",
    "                curnode = curnode.next\n",
    "        return head"
   ]
  },
  {
   "cell_type": "code",
   "execution_count": 607,
   "metadata": {},
   "outputs": [],
   "source": [
    "# more concise code\n",
    "class Solution:\n",
    "    def mergeTwoLists(self, l1: ListNode, l2: ListNode) -> ListNode:\n",
    "        dummy = curnode = ListNode(0) # initial dummy node with None as next node\n",
    "        while l1 and l2:\n",
    "            if l1.val < l2.val:\n",
    "                curnode.next = l1\n",
    "                l1 = l1.next\n",
    "            else:\n",
    "                curnode.next = l2\n",
    "                l2 = l2.next\n",
    "            curnode = curnode.next\n",
    "        curnode.next = l1 or l2 # sets next node as the remaining non-empty node\n",
    "        return dummy.next"
   ]
  },
  {
   "cell_type": "code",
   "execution_count": 608,
   "metadata": {},
   "outputs": [],
   "source": [
    "# recursive\n",
    "class Solution:\n",
    "    def mergeTwoLists(self, l1: ListNode, l2: ListNode) -> ListNode:\n",
    "        # if either l1 or l2 empty, return the non empty node\n",
    "        if not l1 or not l2:\n",
    "            return l1 or l2\n",
    "        if l1.val < l2.val:\n",
    "            l1.next = self.mergeTwoLists(l1.next,l2) # set next node as the smaller of l1.next or l2\n",
    "            return l1\n",
    "        else:\n",
    "            l2.next = self.mergeTwoLists(l2.next,l1)\n",
    "            return l2"
   ]
  },
  {
   "cell_type": "markdown",
   "metadata": {},
   "source": [
    "### 19. Remove Nth Node From End of List\n",
    "https://leetcode.com/problems/remove-nth-node-from-end-of-list/"
   ]
  },
  {
   "cell_type": "markdown",
   "metadata": {},
   "source": [
    "Given a linked list, remove the n-th node from the end of list and return its head.\n",
    "\n",
    "**Example:**\n",
    "```\n",
    "Given linked list: 1->2->3->4->5, and n = 2.\n",
    "\n",
    "After removing the second node from the end, the linked list becomes 1->2->3->5.\n",
    "```\n",
    "**Note:**\n",
    "\n",
    "Given n will always be valid.\n",
    "\n",
    "**Follow up:**\n",
    "\n",
    "Could you do this in one pass?"
   ]
  },
  {
   "cell_type": "code",
   "execution_count": 766,
   "metadata": {},
   "outputs": [],
   "source": [
    "class ListNode:\n",
    "    def __init__(self, x):\n",
    "        self.val = x\n",
    "        self.next = None\n",
    "\n",
    "# nodes\n",
    "n0 = ListNode(1)\n",
    "n1 = ListNode(2)\n",
    "n2 = ListNode(3)\n",
    "n3 = ListNode(4)\n",
    "n4 = ListNode(5)\n",
    "n5 = ListNode(1)\n",
    "\n",
    "# list 1\n",
    "n0.next = n1\n",
    "n1.next = n2\n",
    "n2.next = n3\n",
    "n3.next = n4\n",
    "\n",
    "# list 2\n",
    "n5.next = None\n",
    "\n",
    "head1,ni1 = n0,2\n",
    "head2,ni2 = None,0\n",
    "head3,ni3 = n5,1"
   ]
  },
  {
   "cell_type": "code",
   "execution_count": 769,
   "metadata": {},
   "outputs": [],
   "source": [
    "class Solution:\n",
    "    def removeNthFromEnd(self, head: ListNode, n: int) -> ListNode:\n",
    "        # first pass to count length of list\n",
    "        length = 0\n",
    "        curnode = head\n",
    "        while curnode:\n",
    "            length += 1\n",
    "            curnode = curnode.next\n",
    "        \n",
    "        # second pass to modify list\n",
    "        dummy = curnode = ListNode(0)\n",
    "        nextnode = head\n",
    "        target = length-n\n",
    "        count = 0\n",
    "        while nextnode:\n",
    "            # remove nextnode by reassigning curnode.next\n",
    "            if count==target:\n",
    "                curnode.next = nextnode.next\n",
    "            else:\n",
    "                curnode.next = nextnode\n",
    "            # increment curnode and nextnode pointers\n",
    "            curnode = nextnode\n",
    "            nextnode = nextnode.next\n",
    "            count +=1\n",
    "                \n",
    "        return dummy.next"
   ]
  },
  {
   "cell_type": "code",
   "execution_count": 770,
   "metadata": {},
   "outputs": [],
   "source": [
    "# more optimized iteration (stops second pass at target node)\n",
    "class Solution:\n",
    "    def removeNthFromEnd(self, head: ListNode, n: int) -> ListNode:\n",
    "        # first pass to count length of list\n",
    "        length = 0\n",
    "        curnode = head\n",
    "        while curnode:\n",
    "            length += 1\n",
    "            curnode = curnode.next\n",
    "        \n",
    "        # second pass to modify list\n",
    "        dummy = curnode = ListNode(0)\n",
    "        nextnode = head\n",
    "        target = length-n\n",
    "        while target>=0:\n",
    "            # remove nextnode by reassigning curnode.next\n",
    "            if target == 0:\n",
    "                curnode.next = nextnode.next\n",
    "            else:\n",
    "                curnode.next = nextnode\n",
    "            # increment curnode and nextnode pointers\n",
    "            curnode = nextnode\n",
    "            nextnode = nextnode.next\n",
    "            target -= 1\n",
    "                \n",
    "        return dummy.next"
   ]
  },
  {
   "cell_type": "code",
   "execution_count": 771,
   "metadata": {},
   "outputs": [
    {
     "name": "stdout",
     "output_type": "stream",
     "text": [
      "1\n",
      "2\n",
      "5\n"
     ]
    }
   ],
   "source": [
    "soln = Solution()\n",
    "ans = soln.removeNthFromEnd(head1,ni1)\n",
    "\n",
    "while ans:\n",
    "    print(ans.val)\n",
    "    ans = ans.next"
   ]
  },
  {
   "cell_type": "markdown",
   "metadata": {},
   "source": [
    "### 143. Reorder List\n",
    "https://leetcode.com/problems/reorder-list/"
   ]
  },
  {
   "cell_type": "markdown",
   "metadata": {},
   "source": [
    "Given a singly linked list L: $L_0$→$L_1$→…→$L_{n-1}$→$L_n$,\n",
    "reorder it to: $L_0$→$L_n$→$L_1$→$L_{n-1}$→$L_2$→$L_{n-2}$→…\n",
    "\n",
    "You may **not** modify the values in the list's nodes, only nodes itself may be changed.\n",
    "\n",
    "**Example 1:**\n",
    "```\n",
    "Given 1->2->3->4, reorder it to 1->4->2->3.\n",
    "```\n",
    "**Example 2:**\n",
    "```\n",
    "Given 1->2->3->4->5, reorder it to 1->5->2->4->3.\n",
    "```"
   ]
  },
  {
   "cell_type": "code",
   "execution_count": null,
   "metadata": {},
   "outputs": [],
   "source": [
    "1, 2, 3, 4, 5, 6, 7, 8"
   ]
  },
  {
   "cell_type": "code",
   "execution_count": 799,
   "metadata": {},
   "outputs": [
    {
     "data": {
      "text/plain": [
       "2"
      ]
     },
     "execution_count": 799,
     "metadata": {},
     "output_type": "execute_result"
    }
   ],
   "source": [
    "4//2"
   ]
  },
  {
   "cell_type": "code",
   "execution_count": 3,
   "metadata": {},
   "outputs": [],
   "source": [
    "class ListNode:\n",
    "    def __init__(self, x):\n",
    "        self.val = x\n",
    "        self.next = None\n",
    "\n",
    "# nodes\n",
    "n0 = ListNode(1)\n",
    "n1 = ListNode(2)\n",
    "n2 = ListNode(3)\n",
    "n3 = ListNode(4)\n",
    "n5 = ListNode(1)\n",
    "n6 = ListNode(2)\n",
    "n7 = ListNode(3)\n",
    "n8 = ListNode(4)\n",
    "n9 = ListNode(5)\n",
    "n10 = ListNode(1)\n",
    "\n",
    "# list 1\n",
    "n0.next = n1\n",
    "n1.next = n2\n",
    "n2.next = n3\n",
    "\n",
    "# list 2\n",
    "n5.next = n6\n",
    "n6.next = n7\n",
    "n7.next = n8\n",
    "n8.next = n9\n",
    "\n",
    "\n",
    "head1 = n0\n",
    "head2 = n5\n",
    "head3 = n10\n",
    "head4 = None"
   ]
  },
  {
   "cell_type": "code",
   "execution_count": 4,
   "metadata": {},
   "outputs": [],
   "source": [
    "# two pass solution, ending when iterating halfway through nodes list\n",
    "class Solution:\n",
    "    def reorderList(self, head: ListNode) -> None:\n",
    "        \"\"\"\n",
    "        Do not return anything, modify head in-place instead.\n",
    "        \"\"\"\n",
    "        # first pass to add nodes to array\n",
    "        nodes = []\n",
    "        curnode = head\n",
    "        while curnode:\n",
    "            nodes.append(curnode)\n",
    "            curnode = curnode.next\n",
    "            \n",
    "        # second pass to reorder list based on index\n",
    "        for i in range(0,len(nodes)):\n",
    "            # assign pointers to nodes to reassign\n",
    "            curnode = nodes[i]\n",
    "            nextnode = curnode.next\n",
    "            reversenode = nodes[len(nodes)-1-i]\n",
    "            # reorder nodes\n",
    "            curnode.next = reversenode\n",
    "            reversenode.next = nextnode\n",
    "            # move pointers if end criteria not met\n",
    "            if i+1 >= len(nodes)//2: # end loop if it reaches endingnode\n",
    "                if nextnode:\n",
    "                    nextnode.next = None\n",
    "                break\n",
    "            else:\n",
    "                curnode = nodes[i+1]\n",
    "        return None"
   ]
  },
  {
   "cell_type": "code",
   "execution_count": 5,
   "metadata": {},
   "outputs": [],
   "source": [
    "# two pass solution, using nodes list as a queue\n",
    "class Solution:\n",
    "    def reorderList(self, head: ListNode) -> None:\n",
    "        \"\"\"\n",
    "        Do not return anything, modify head in-place instead.\n",
    "        \"\"\"\n",
    "        # first pass to add nodes to array\n",
    "        nodes = []\n",
    "        curnode = head\n",
    "        while curnode:\n",
    "            nodes.append(curnode)\n",
    "            curnode = curnode.next\n",
    "            \n",
    "        # second pass using nodes as queue to reorder list\n",
    "        while nodes:\n",
    "            # assign pointers to nodes to reassign\n",
    "            curnode = nodes.pop(0)\n",
    "            nextnode = curnode.next\n",
    "            reversenode = None\n",
    "            if nodes:\n",
    "                reversenode = nodes.pop(-1)\n",
    "                # reorder nodes\n",
    "                curnode.next = reversenode\n",
    "                reversenode.next = nextnode\n",
    "            # check for end conditions\n",
    "            if reversenode is None: # if node count is odd\n",
    "                curnode.next = None\n",
    "            elif reversenode == nextnode: # if node count is even\n",
    "                reversenode.next = None\n",
    "        return None"
   ]
  },
  {
   "cell_type": "code",
   "execution_count": 6,
   "metadata": {},
   "outputs": [
    {
     "name": "stdout",
     "output_type": "stream",
     "text": [
      "1\n",
      "5\n",
      "2\n",
      "4\n",
      "3\n"
     ]
    }
   ],
   "source": [
    "inputnode = head2\n",
    "soln = Solution()\n",
    "soln.reorderList(inputnode)\n",
    "\n",
    "ans = inputnode\n",
    "while ans:\n",
    "    print(ans.val)\n",
    "    ans = ans.next"
   ]
  }
 ],
 "metadata": {
  "kernelspec": {
   "display_name": "Python 3",
   "language": "python",
   "name": "python3"
  },
  "language_info": {
   "codemirror_mode": {
    "name": "ipython",
    "version": 3
   },
   "file_extension": ".py",
   "mimetype": "text/x-python",
   "name": "python",
   "nbconvert_exporter": "python",
   "pygments_lexer": "ipython3",
   "version": "3.7.7"
  }
 },
 "nbformat": 4,
 "nbformat_minor": 1
}
