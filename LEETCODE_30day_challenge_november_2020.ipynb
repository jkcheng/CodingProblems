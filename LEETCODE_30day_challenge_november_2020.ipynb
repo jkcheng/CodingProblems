{
 "cells": [
  {
   "cell_type": "code",
   "execution_count": 1,
   "metadata": {},
   "outputs": [],
   "source": [
    "from typing import List"
   ]
  },
  {
   "cell_type": "code",
   "execution_count": 2,
   "metadata": {},
   "outputs": [],
   "source": [
    "# tree practice\n",
    "def constructtree(nodes, i, n):\n",
    "    root = None\n",
    "    if (i < n) and nodes[i] is not None:\n",
    "        root = nodes[i]\n",
    "        root.left = constructtree(nodes, 2*i+1, len(nodes))\n",
    "        root.right = constructtree(nodes, 2*i+2, len(nodes))\n",
    "    return root\n",
    "\n",
    "def printtree(root):\n",
    "    q = [root]\n",
    "    nodes = []\n",
    "    while any(q):\n",
    "        node = q.pop(0) # can use deque instead to optimize\n",
    "        if node:\n",
    "            nodes.append(node.val)\n",
    "            if node.left or node.right or any(q):\n",
    "                q.append(node.left)\n",
    "                q.append(node.right)\n",
    "        elif any(q): # if node is None AND there's still stuff in q to process\n",
    "            nodes.append('null')\n",
    "    return nodes"
   ]
  },
  {
   "cell_type": "markdown",
   "metadata": {},
   "source": [
    "## Day 1: 11/1/20\n",
    "### 1290. Convert Binary Number in a Linked List to Integer\n",
    "EASY  \n",
    "https://leetcode.com/problems/convert-binary-number-in-a-linked-list-to-integer/  \n",
    "https://leetcode.com/explore/challenge/card/november-leetcoding-challenge/564/week-1-november-1st-november-7th/3516/"
   ]
  },
  {
   "cell_type": "markdown",
   "metadata": {},
   "source": [
    "Given `head` which is a reference node to a singly-linked list. The value of each node in the linked list is either 0 or 1. The linked list holds the binary representation of a number.\n",
    "\n",
    "Return the *decimal value* of the number in the linked list.\n",
    "\n",
    " \n",
    "\n",
    "**Example 1:**\n",
    "![https://assets.leetcode.com/uploads/2019/12/05/graph-1.png](https://assets.leetcode.com/uploads/2019/12/05/graph-1.png)\n",
    "```\n",
    "Input: head = [1,0,1]\n",
    "Output: 5\n",
    "Explanation: (101) in base 2 = (5) in base 10\n",
    "```\n",
    "**Example 2:**\n",
    "```\n",
    "Input: head = [0]\n",
    "Output: 0\n",
    "```\n",
    "**Example 3:**\n",
    "```\n",
    "Input: head = [1]\n",
    "Output: 1\n",
    "```\n",
    "**Example 4:**\n",
    "```\n",
    "Input: head = [1,0,0,1,0,0,1,1,1,0,0,0,0,0,0]\n",
    "Output: 18880\n",
    "```\n",
    "**Example 5:**\n",
    "```\n",
    "Input: head = [0,0]\n",
    "Output: 0\n",
    "```\n",
    "\n",
    "**Constraints:**\n",
    "\n",
    "* The Linked List is not empty.\n",
    "* Number of nodes will not exceed `30`.\n",
    "* Each node's value is either `0` or `1`."
   ]
  },
  {
   "cell_type": "markdown",
   "metadata": {},
   "source": [
    "**Study Notes:**\n",
    "* leetcode discussion solution: https://leetcode.com/problems/convert-binary-number-in-a-linked-list-to-integer/discuss/918946/Python-simple-O(n)-solution-explained\n",
    "    * uses binary math"
   ]
  },
  {
   "cell_type": "code",
   "execution_count": 4,
   "metadata": {},
   "outputs": [],
   "source": [
    "# Definition for singly-linked list.\n",
    "class ListNode:\n",
    "    def __init__(self, val=0, next=None):\n",
    "        self.val = val\n",
    "        self.next = next\n",
    "        \n",
    "def mk_slist(nodes):\n",
    "    pln = None\n",
    "    for n in nodes[::-1]:\n",
    "        ln = ListNode(n)\n",
    "        ln.next = pln\n",
    "        pln = ln\n",
    "    return ln\n",
    "\n",
    "def prnt_list(head):\n",
    "    s = ''\n",
    "    while head:\n",
    "        s += str(head.val)\n",
    "        head = head.next\n",
    "        if head:\n",
    "            s += ' -> '\n",
    "    return s"
   ]
  },
  {
   "cell_type": "code",
   "execution_count": 13,
   "metadata": {},
   "outputs": [],
   "source": [
    "nodes1 = [1,0,1]\n",
    "head1 = mk_slist(nodes1)\n",
    "nodes2 = [0]\n",
    "head2 = mk_slist(nodes2)\n",
    "nodes3 = [1]\n",
    "head3 = mk_slist(nodes3)\n",
    "nodes4 = [1,0,0,1,0,0,1,1,1,0,0,0,0,0,0]\n",
    "head4 = mk_slist(nodes4)\n",
    "nodes5 = [0,0]\n",
    "head5 = mk_slist(nodes5)\n",
    "nodes6 = [1,0,1,1,0,0]\n",
    "head6 = mk_slist(nodes6)"
   ]
  },
  {
   "cell_type": "code",
   "execution_count": 15,
   "metadata": {},
   "outputs": [
    {
     "data": {
      "text/plain": [
       "'1 -> 0 -> 1 -> 1 -> 0 -> 0'"
      ]
     },
     "execution_count": 15,
     "metadata": {},
     "output_type": "execute_result"
    }
   ],
   "source": [
    "prnt_list(head6)"
   ]
  },
  {
   "cell_type": "code",
   "execution_count": 32,
   "metadata": {},
   "outputs": [],
   "source": [
    "class Solution:\n",
    "    def getDecimalValue(self, head: ListNode) -> int:\n",
    "        binary = []\n",
    "        while head:\n",
    "            binary.append(str(head.val))\n",
    "            head = head.next\n",
    "        return int(''.join(binary),2)"
   ]
  },
  {
   "cell_type": "code",
   "execution_count": 20,
   "metadata": {},
   "outputs": [],
   "source": [
    "# binary math\n",
    "class Solution:\n",
    "    def getDecimalValue(self, head: ListNode) -> int:\n",
    "        s = 0\n",
    "        while head:\n",
    "            s = 2*s + head.val\n",
    "            head = head.next\n",
    "        return s"
   ]
  },
  {
   "cell_type": "code",
   "execution_count": 21,
   "metadata": {},
   "outputs": [
    {
     "data": {
      "text/plain": [
       "[1, 0, 0, 1, 0, 0, 1, 1, 1, 0, 0, 0, 0, 0, 0]"
      ]
     },
     "execution_count": 21,
     "metadata": {},
     "output_type": "execute_result"
    }
   ],
   "source": [
    "nodes4"
   ]
  },
  {
   "cell_type": "code",
   "execution_count": 22,
   "metadata": {},
   "outputs": [
    {
     "data": {
      "text/plain": [
       "5"
      ]
     },
     "execution_count": 22,
     "metadata": {},
     "output_type": "execute_result"
    }
   ],
   "source": [
    "soln = Solution()\n",
    "soln.getDecimalValue(head1)"
   ]
  },
  {
   "cell_type": "markdown",
   "metadata": {},
   "source": [
    "## Day 2: 11/2/20\n",
    "### 147. Insertion Sort List\n",
    "MEDIUM  \n",
    "https://leetcode.com/problems/insertion-sort-list/  \n",
    "https://leetcode.com/explore/challenge/card/november-leetcoding-challenge/564/week-1-november-1st-november-7th/3517/"
   ]
  },
  {
   "cell_type": "markdown",
   "metadata": {},
   "source": [
    "Sort a linked list using insertion sort.\n",
    "![https://upload.wikimedia.org/wikipedia/commons/0/0f/Insertion-sort-example-300px.gif](https://upload.wikimedia.org/wikipedia/commons/0/0f/Insertion-sort-example-300px.gif)\n",
    "\n",
    "A graphical example of insertion sort. The partial sorted list (black) initially contains only the first element in the list.\n",
    "With each iteration one element (red) is removed from the input data and inserted in-place into the sorted list\n",
    " \n",
    "\n",
    "**Algorithm of Insertion Sort:**\n",
    "\n",
    "1. Insertion sort iterates, consuming one input element each repetition, and growing a sorted output list.\n",
    "2. At each iteration, insertion sort removes one element from the input data, finds the location it belongs within the sorted list, and inserts it there.\n",
    "3. It repeats until no input elements remain.\n",
    "\n",
    "**Example 1:**\n",
    "```\n",
    "Input: 4->2->1->3\n",
    "Output: 1->2->3->4\n",
    "```\n",
    "**Example 2:**\n",
    "```\n",
    "Input: -1->5->3->4->0\n",
    "Output: -1->0->3->4->5\n",
    "```"
   ]
  },
  {
   "cell_type": "markdown",
   "metadata": {},
   "source": [
    "**Study Notes:**\n",
    "* solution article: https://leetcode.com/problems/insertion-sort-list/solution/\n",
    "* leetcode discussion solution: https://leetcode.com/problems/insertion-sort-list/discuss/920371/Python-Insertion-Sort-explained"
   ]
  },
  {
   "cell_type": "code",
   "execution_count": 35,
   "metadata": {},
   "outputs": [],
   "source": [
    "# Definition for singly-linked list.\n",
    "class ListNode:\n",
    "    def __init__(self, val=0, next=None):\n",
    "        self.val = val\n",
    "        self.next = next\n",
    "        \n",
    "def mk_slist(nodes):\n",
    "    pln = None\n",
    "    for n in nodes[::-1]:\n",
    "        ln = ListNode(n)\n",
    "        ln.next = pln\n",
    "        pln = ln\n",
    "    return ln\n",
    "\n",
    "def prnt_slist(head):\n",
    "    s = ''\n",
    "    while head:\n",
    "        s += str(head.val)\n",
    "        if head.next:\n",
    "            s += ' -> '\n",
    "        head = head.next\n",
    "    return s"
   ]
  },
  {
   "cell_type": "code",
   "execution_count": 36,
   "metadata": {},
   "outputs": [],
   "source": [
    "nodes1 = [4,2,1,3]\n",
    "head1 = mk_slist(nodes1)\n",
    "nodes2 = [-1,5,3,4,0]\n",
    "head2 = mk_slist(nodes2)"
   ]
  },
  {
   "cell_type": "code",
   "execution_count": 37,
   "metadata": {},
   "outputs": [
    {
     "data": {
      "text/plain": [
       "'-1 -> 5 -> 3 -> 4 -> 0'"
      ]
     },
     "execution_count": 37,
     "metadata": {},
     "output_type": "execute_result"
    }
   ],
   "source": [
    "prnt_slist(head2)"
   ]
  },
  {
   "cell_type": "code",
   "execution_count": 38,
   "metadata": {},
   "outputs": [],
   "source": [
    "class Solution:\n",
    "    def insertionSortList(self, head: ListNode) -> ListNode:\n",
    "        dummy = ListNode(None)\n",
    "        curnode = head\n",
    "        while curnode:\n",
    "            prevnode = dummy\n",
    "            nextnode = prevnode.next\n",
    "            while nextnode:\n",
    "                if nextnode.val > curnode.val:\n",
    "                    break\n",
    "                prevnode = prevnode.next\n",
    "                nextnode = nextnode.next\n",
    "            nextcur = curnode.next\n",
    "            curnode.next = prevnode.next\n",
    "            prevnode.next = curnode\n",
    "            curnode = nextcur\n",
    "                \n",
    "\n",
    "        return dummy.next"
   ]
  },
  {
   "cell_type": "code",
   "execution_count": 39,
   "metadata": {},
   "outputs": [],
   "source": [
    "soln = Solution()\n",
    "head2 = soln.insertionSortList(head2)"
   ]
  },
  {
   "cell_type": "code",
   "execution_count": 41,
   "metadata": {},
   "outputs": [
    {
     "data": {
      "text/plain": [
       "'-1 -> 0 -> 3 -> 4 -> 5'"
      ]
     },
     "execution_count": 41,
     "metadata": {},
     "output_type": "execute_result"
    }
   ],
   "source": [
    "prnt_slist(head2)"
   ]
  },
  {
   "cell_type": "markdown",
   "metadata": {},
   "source": [
    "## Day 3: 11/3/20\n",
    "### 1446. Consecutive Characters\n",
    "EASY  \n",
    "https://leetcode.com/problems/consecutive-characters/  \n",
    "https://leetcode.com/explore/challenge/card/november-leetcoding-challenge/564/week-1-november-1st-november-7th/3518/"
   ]
  },
  {
   "cell_type": "markdown",
   "metadata": {},
   "source": [
    "Given a string `s`, the power of the string is the maximum length of a non-empty substring that contains only one unique character.\n",
    "\n",
    "Return *the power* of the string.\n",
    "\n",
    " \n",
    "\n",
    "**Example 1:**\n",
    "```\n",
    "Input: s = \"leetcode\"\n",
    "Output: 2\n",
    "Explanation: The substring \"ee\" is of length 2 with the character 'e' only.\n",
    "```\n",
    "**Example 2:**\n",
    "```\n",
    "Input: s = \"abbcccddddeeeeedcba\"\n",
    "Output: 5\n",
    "Explanation: The substring \"eeeee\" is of length 5 with the character 'e' only.\n",
    "```\n",
    "**Example 3:**\n",
    "```\n",
    "Input: s = \"triplepillooooow\"\n",
    "Output: 5\n",
    "```\n",
    "**Example 4:**\n",
    "```\n",
    "Input: s = \"hooraaaaaaaaaaay\"\n",
    "Output: 11\n",
    "```\n",
    "**Example 5:**\n",
    "```\n",
    "Input: s = \"tourist\"\n",
    "Output: 1\n",
    "```\n",
    "\n",
    "**Constraints:**\n",
    "\n",
    "* `1 <= s.length <= 500`\n",
    "* `s` contains only lowercase English letters."
   ]
  },
  {
   "cell_type": "markdown",
   "metadata": {},
   "source": [
    "**Study Notes:**\n",
    "* leetcode solution article: https://leetcode.com/problems/consecutive-characters/solution/\n",
    "* leetcode discussion solution using `groupby` python function: https://leetcode.com/problems/consecutive-characters/discuss/921642/Python-Oneliner-using-groupby-explained"
   ]
  },
  {
   "cell_type": "code",
   "execution_count": 9,
   "metadata": {},
   "outputs": [],
   "source": [
    "s1 = \"leetcode\"\n",
    "s2 = \"abbcccddddeeeeedcba\"\n",
    "s3 = \"triplepillooooow\"\n",
    "s4 = \"hooraaaaaaaaaaay\"\n",
    "s5 = \"tourist\""
   ]
  },
  {
   "cell_type": "code",
   "execution_count": 10,
   "metadata": {},
   "outputs": [],
   "source": [
    "class Solution:\n",
    "    def maxPower(self, s: str) -> int:\n",
    "        prevc = None\n",
    "        count = 1\n",
    "        maxcount = 0\n",
    "        for c in s:\n",
    "            if c == prevc:\n",
    "                count += 1\n",
    "            else:\n",
    "                count = 1\n",
    "            prevc = c\n",
    "            maxcount = max(maxcount,count)\n",
    "        return maxcount"
   ]
  },
  {
   "cell_type": "code",
   "execution_count": 38,
   "metadata": {},
   "outputs": [],
   "source": [
    "# using itertools.groupby\n",
    "from itertools import groupby\n",
    "class Solution:\n",
    "    def maxPower(self, s: str) -> int:\n",
    "        # explicitly coded out\n",
    "        grouped = groupby(s)\n",
    "        grouplengths = [len(list(g)) for k,g in grouped]\n",
    "        ans = max(grouplengths)\n",
    "#         # one-liner\n",
    "#         ans = max([len(list(g)) for k,g in groupby(s)])\n",
    "        return ans"
   ]
  },
  {
   "cell_type": "code",
   "execution_count": 39,
   "metadata": {},
   "outputs": [
    {
     "data": {
      "text/plain": [
       "11"
      ]
     },
     "execution_count": 39,
     "metadata": {},
     "output_type": "execute_result"
    }
   ],
   "source": [
    "soln = Solution()\n",
    "soln.maxPower(s4)"
   ]
  },
  {
   "cell_type": "markdown",
   "metadata": {},
   "source": [
    "## Day 4: 11/4/20\n",
    "### 310. Minimum Height Trees\n",
    "MEDIUM  \n",
    "https://leetcode.com/problems/minimum-height-trees/  \n",
    "https://leetcode.com/explore/challenge/card/november-leetcoding-challenge/564/week-1-november-1st-november-7th/3519/"
   ]
  },
  {
   "cell_type": "markdown",
   "metadata": {},
   "source": [
    "A tree is an undirected graph in which any two vertices are connected by *exactly* one path. In other words, any connected graph without simple cycles is a tree.\n",
    "\n",
    "Given a tree of `n` nodes labelled from `0` to `n - 1`, and an array of `n - 1` `edges` where `edges[i] = [a_i, b_i]` indicates that there is an undirected edge between the two nodes `a_i` and `b_i` in the tree, you can choose any node of the tree as the root. When you select a node `x` as the root, the result tree has height `h`. Among all possible rooted trees, those with minimum height (i.e. `min(h)`)  are called **minimum height trees** (MHTs).\n",
    "\n",
    "Return *a list of all **MHTs'** root labels*. You can return the answer in **any order**.\n",
    "\n",
    "The **height** of a rooted tree is the number of edges on the longest downward path between the root and a leaf.\n",
    "\n",
    " \n",
    "\n",
    "**Example 1:**\n",
    "![https://assets.leetcode.com/uploads/2020/09/01/e1.jpg](https://assets.leetcode.com/uploads/2020/09/01/e1.jpg)\n",
    "```\n",
    "Input: n = 4, edges = [[1,0],[1,2],[1,3]]\n",
    "Output: [1]\n",
    "Explanation: As shown, the height of the tree is 1 when the root is the node with label 1 which is the only MHT.\n",
    "```\n",
    "**Example 2:**\n",
    "![https://assets.leetcode.com/uploads/2020/09/01/e2.jpg](https://assets.leetcode.com/uploads/2020/09/01/e2.jpg)\n",
    "```\n",
    "Input: n = 6, edges = [[3,0],[3,1],[3,2],[3,4],[5,4]]\n",
    "Output: [3,4]\n",
    "```\n",
    "**Example 3:**\n",
    "```\n",
    "Input: n = 1, edges = []\n",
    "Output: [0]\n",
    "```\n",
    "**Example 4:**\n",
    "```\n",
    "Input: n = 2, edges = [[0,1]]\n",
    "Output: [0,1]\n",
    "```\n",
    "\n",
    "**Constraints:**\n",
    "\n",
    "* `1 <= n <= 2 * 10^4`\n",
    "* `edges.length == n - 1`\n",
    "* `0 <= a_i, b_i < n`\n",
    "* `ai != bi`\n",
    "* All the pairs `(a_i, b_i)` are distinct.\n",
    "* The given input is **guaranteed** to be a tree and there will be **no repeated** edges."
   ]
  },
  {
   "cell_type": "markdown",
   "metadata": {},
   "source": [
    "**Study Notes:**\n",
    "* solution article: https://leetcode.com/problems/minimum-height-trees/solution/\n",
    "    * uses `topological sort` with `breadth-first search` to solve\n",
    "* related problem: [Course Schedule](https://leetcode.com/problems/course-schedule/)\n",
    "* leetcode discussion solution: https://leetcode.com/problems/minimum-height-trees/discuss/923071/Python-Find-diameter-using-2-dfs-explained\n",
    "    * uses 2x `depth-first search`\n",
    "    1. Start from any node and run `dfs`, which calculate distances for all other nodes from this node as well as create parent for each node. What our fucntion will return in the end is the index of farthest node (there can be more than one and it is OK for us).\n",
    "    2. Now, we need to start our `dfs` all over again from this node (that is why we use `dfs_helper` function - we need to clean our distances and parents arrays. When we run our dfs second time, we again find the farthest node.\n",
    "    3. Finally, we create path between the first node we found and the second and it will be our diameter: if it has even number of nodes, we return `2` middle nodes, in other case we return `1` middle node.|"
   ]
  },
  {
   "cell_type": "code",
   "execution_count": 2,
   "metadata": {},
   "outputs": [],
   "source": [
    "n1,edges1 = 4, [[1,0],[1,2],[1,3]]\n",
    "n2,edges2 = 6, [[3,0],[3,1],[3,2],[3,4],[5,4]]\n",
    "n3,edges3 = 1, []\n",
    "n4,edges4 = 2, [[0,1]]"
   ]
  },
  {
   "cell_type": "code",
   "execution_count": 50,
   "metadata": {},
   "outputs": [],
   "source": [
    "from collections import defaultdict\n",
    "class Solution:\n",
    "    def findMinHeightTrees(self, n: int, edges: List[List[int]]) -> List[int]:\n",
    "        \n",
    "        def dfs_helper(start, n):\n",
    "            self.dists, self.parents = [-1]*n, [-1]*n\n",
    "            self.dists[start] = 0\n",
    "            dfs(start)\n",
    "            return self.dists.index(max(self.dists))\n",
    "        \n",
    "        def dfs(start):\n",
    "            for neighbor in graph[start]:\n",
    "                if self.dists[neighbor] == -1:\n",
    "                    self.dists[neighbor] = self.dists[start]+1\n",
    "                    self.parents[neighbor] = start\n",
    "                    dfs(neighbor)\n",
    "            \n",
    "        # make graph\n",
    "        graph = defaultdict(set)\n",
    "        for a,b in edges:\n",
    "            graph[a].add(b)\n",
    "            graph[b].add(a)\n",
    "                \n",
    "        # find terminal nodes of diameter of tree\n",
    "        ind1 = dfs_helper(0, n)\n",
    "        ind2 = dfs_helper(ind1, n)\n",
    "        \n",
    "        # make longest path and return center nodes\n",
    "        path = []\n",
    "        cur = ind2\n",
    "        while cur != -1:\n",
    "            path.append(cur)\n",
    "            cur = self.parents[cur]\n",
    "            \n",
    "        pathlen = len(path)\n",
    "        if pathlen%2 == 0:\n",
    "            ans = [path[(pathlen-1)//2], path[pathlen//2]]\n",
    "        else:\n",
    "            ans = [path[(pathlen-1)//2]]\n",
    "        return ans\n",
    "#         return list(set([path[(pathlen-1)//2], path[pathlen//2]]))"
   ]
  },
  {
   "cell_type": "code",
   "execution_count": 51,
   "metadata": {},
   "outputs": [
    {
     "data": {
      "text/plain": [
       "[3, 4]"
      ]
     },
     "execution_count": 51,
     "metadata": {},
     "output_type": "execute_result"
    }
   ],
   "source": [
    "soln = Solution()\n",
    "soln.findMinHeightTrees(n2,edges2)"
   ]
  }
 ],
 "metadata": {
  "kernelspec": {
   "display_name": "base (Python 3.7.7)",
   "language": "python",
   "name": "base"
  },
  "language_info": {
   "codemirror_mode": {
    "name": "ipython",
    "version": 3
   },
   "file_extension": ".py",
   "mimetype": "text/x-python",
   "name": "python",
   "nbconvert_exporter": "python",
   "pygments_lexer": "ipython3",
   "version": "3.7.7"
  }
 },
 "nbformat": 4,
 "nbformat_minor": 4
}
