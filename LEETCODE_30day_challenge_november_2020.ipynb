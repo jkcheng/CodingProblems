{
 "cells": [
  {
   "cell_type": "code",
   "execution_count": 1,
   "metadata": {},
   "outputs": [],
   "source": [
    "from typing import List"
   ]
  },
  {
   "cell_type": "code",
   "execution_count": 2,
   "metadata": {},
   "outputs": [],
   "source": [
    "# tree practice\n",
    "def constructtree(nodes, i, n):\n",
    "    root = None\n",
    "    if (i < n) and nodes[i] is not None:\n",
    "        root = nodes[i]\n",
    "        root.left = constructtree(nodes, 2*i+1, len(nodes))\n",
    "        root.right = constructtree(nodes, 2*i+2, len(nodes))\n",
    "    return root\n",
    "\n",
    "def printtree(root):\n",
    "    q = [root]\n",
    "    nodes = []\n",
    "    while any(q):\n",
    "        node = q.pop(0) # can use deque instead to optimize\n",
    "        if node:\n",
    "            nodes.append(node.val)\n",
    "            if node.left or node.right or any(q):\n",
    "                q.append(node.left)\n",
    "                q.append(node.right)\n",
    "        elif any(q): # if node is None AND there's still stuff in q to process\n",
    "            nodes.append('null')\n",
    "    return nodes"
   ]
  },
  {
   "cell_type": "markdown",
   "metadata": {},
   "source": [
    "## Day 1: 11/1/20\n",
    "### 1290. Convert Binary Number in a Linked List to Integer\n",
    "EASY  \n",
    "https://leetcode.com/problems/convert-binary-number-in-a-linked-list-to-integer/  \n",
    "https://leetcode.com/explore/challenge/card/november-leetcoding-challenge/564/week-1-november-1st-november-7th/3516/"
   ]
  },
  {
   "cell_type": "markdown",
   "metadata": {},
   "source": [
    "Given `head` which is a reference node to a singly-linked list. The value of each node in the linked list is either 0 or 1. The linked list holds the binary representation of a number.\n",
    "\n",
    "Return the *decimal value* of the number in the linked list.\n",
    "\n",
    " \n",
    "\n",
    "**Example 1:**\n",
    "![https://assets.leetcode.com/uploads/2019/12/05/graph-1.png](https://assets.leetcode.com/uploads/2019/12/05/graph-1.png)\n",
    "```\n",
    "Input: head = [1,0,1]\n",
    "Output: 5\n",
    "Explanation: (101) in base 2 = (5) in base 10\n",
    "```\n",
    "**Example 2:**\n",
    "```\n",
    "Input: head = [0]\n",
    "Output: 0\n",
    "```\n",
    "**Example 3:**\n",
    "```\n",
    "Input: head = [1]\n",
    "Output: 1\n",
    "```\n",
    "**Example 4:**\n",
    "```\n",
    "Input: head = [1,0,0,1,0,0,1,1,1,0,0,0,0,0,0]\n",
    "Output: 18880\n",
    "```\n",
    "**Example 5:**\n",
    "```\n",
    "Input: head = [0,0]\n",
    "Output: 0\n",
    "```\n",
    "\n",
    "**Constraints:**\n",
    "\n",
    "* The Linked List is not empty.\n",
    "* Number of nodes will not exceed `30`.\n",
    "* Each node's value is either `0` or `1`."
   ]
  },
  {
   "cell_type": "markdown",
   "metadata": {},
   "source": [
    "**Study Notes:**\n",
    "* leetcode discussion solution: https://leetcode.com/problems/convert-binary-number-in-a-linked-list-to-integer/discuss/918946/Python-simple-O(n)-solution-explained\n",
    "    * uses binary math"
   ]
  },
  {
   "cell_type": "code",
   "execution_count": 4,
   "metadata": {},
   "outputs": [],
   "source": [
    "# Definition for singly-linked list.\n",
    "class ListNode:\n",
    "    def __init__(self, val=0, next=None):\n",
    "        self.val = val\n",
    "        self.next = next\n",
    "        \n",
    "def mk_slist(nodes):\n",
    "    pln = None\n",
    "    for n in nodes[::-1]:\n",
    "        ln = ListNode(n)\n",
    "        ln.next = pln\n",
    "        pln = ln\n",
    "    return ln\n",
    "\n",
    "def prnt_list(head):\n",
    "    s = ''\n",
    "    while head:\n",
    "        s += str(head.val)\n",
    "        head = head.next\n",
    "        if head:\n",
    "            s += ' -> '\n",
    "    return s"
   ]
  },
  {
   "cell_type": "code",
   "execution_count": 13,
   "metadata": {},
   "outputs": [],
   "source": [
    "nodes1 = [1,0,1]\n",
    "head1 = mk_slist(nodes1)\n",
    "nodes2 = [0]\n",
    "head2 = mk_slist(nodes2)\n",
    "nodes3 = [1]\n",
    "head3 = mk_slist(nodes3)\n",
    "nodes4 = [1,0,0,1,0,0,1,1,1,0,0,0,0,0,0]\n",
    "head4 = mk_slist(nodes4)\n",
    "nodes5 = [0,0]\n",
    "head5 = mk_slist(nodes5)\n",
    "nodes6 = [1,0,1,1,0,0]\n",
    "head6 = mk_slist(nodes6)"
   ]
  },
  {
   "cell_type": "code",
   "execution_count": 15,
   "metadata": {},
   "outputs": [
    {
     "data": {
      "text/plain": [
       "'1 -> 0 -> 1 -> 1 -> 0 -> 0'"
      ]
     },
     "execution_count": 15,
     "metadata": {},
     "output_type": "execute_result"
    }
   ],
   "source": [
    "prnt_list(head6)"
   ]
  },
  {
   "cell_type": "code",
   "execution_count": 32,
   "metadata": {},
   "outputs": [],
   "source": [
    "class Solution:\n",
    "    def getDecimalValue(self, head: ListNode) -> int:\n",
    "        binary = []\n",
    "        while head:\n",
    "            binary.append(str(head.val))\n",
    "            head = head.next\n",
    "        return int(''.join(binary),2)"
   ]
  },
  {
   "cell_type": "code",
   "execution_count": 20,
   "metadata": {},
   "outputs": [],
   "source": [
    "# binary math\n",
    "class Solution:\n",
    "    def getDecimalValue(self, head: ListNode) -> int:\n",
    "        s = 0\n",
    "        while head:\n",
    "            s = 2*s + head.val\n",
    "            head = head.next\n",
    "        return s"
   ]
  },
  {
   "cell_type": "code",
   "execution_count": 21,
   "metadata": {},
   "outputs": [
    {
     "data": {
      "text/plain": [
       "[1, 0, 0, 1, 0, 0, 1, 1, 1, 0, 0, 0, 0, 0, 0]"
      ]
     },
     "execution_count": 21,
     "metadata": {},
     "output_type": "execute_result"
    }
   ],
   "source": [
    "nodes4"
   ]
  },
  {
   "cell_type": "code",
   "execution_count": 22,
   "metadata": {},
   "outputs": [
    {
     "data": {
      "text/plain": [
       "5"
      ]
     },
     "execution_count": 22,
     "metadata": {},
     "output_type": "execute_result"
    }
   ],
   "source": [
    "soln = Solution()\n",
    "soln.getDecimalValue(head1)"
   ]
  },
  {
   "cell_type": "markdown",
   "metadata": {},
   "source": [
    "## Day 2: 11/2/20\n",
    "### 147. Insertion Sort List\n",
    "MEDIUM  \n",
    "https://leetcode.com/problems/insertion-sort-list/  \n",
    "https://leetcode.com/explore/challenge/card/november-leetcoding-challenge/564/week-1-november-1st-november-7th/3517/"
   ]
  },
  {
   "cell_type": "markdown",
   "metadata": {},
   "source": [
    "Sort a linked list using insertion sort.\n",
    "![https://upload.wikimedia.org/wikipedia/commons/0/0f/Insertion-sort-example-300px.gif](https://upload.wikimedia.org/wikipedia/commons/0/0f/Insertion-sort-example-300px.gif)\n",
    "\n",
    "A graphical example of insertion sort. The partial sorted list (black) initially contains only the first element in the list.\n",
    "With each iteration one element (red) is removed from the input data and inserted in-place into the sorted list\n",
    " \n",
    "\n",
    "**Algorithm of Insertion Sort:**\n",
    "\n",
    "1. Insertion sort iterates, consuming one input element each repetition, and growing a sorted output list.\n",
    "2. At each iteration, insertion sort removes one element from the input data, finds the location it belongs within the sorted list, and inserts it there.\n",
    "3. It repeats until no input elements remain.\n",
    "\n",
    "**Example 1:**\n",
    "```\n",
    "Input: 4->2->1->3\n",
    "Output: 1->2->3->4\n",
    "```\n",
    "**Example 2:**\n",
    "```\n",
    "Input: -1->5->3->4->0\n",
    "Output: -1->0->3->4->5\n",
    "```"
   ]
  },
  {
   "cell_type": "markdown",
   "metadata": {},
   "source": [
    "**Study Notes:**\n",
    "* solution article: https://leetcode.com/problems/insertion-sort-list/solution/\n",
    "* leetcode discussion solution: https://leetcode.com/problems/insertion-sort-list/discuss/920371/Python-Insertion-Sort-explained"
   ]
  },
  {
   "cell_type": "code",
   "execution_count": 35,
   "metadata": {},
   "outputs": [],
   "source": [
    "# Definition for singly-linked list.\n",
    "class ListNode:\n",
    "    def __init__(self, val=0, next=None):\n",
    "        self.val = val\n",
    "        self.next = next\n",
    "        \n",
    "def mk_slist(nodes):\n",
    "    pln = None\n",
    "    for n in nodes[::-1]:\n",
    "        ln = ListNode(n)\n",
    "        ln.next = pln\n",
    "        pln = ln\n",
    "    return ln\n",
    "\n",
    "def prnt_slist(head):\n",
    "    s = ''\n",
    "    while head:\n",
    "        s += str(head.val)\n",
    "        if head.next:\n",
    "            s += ' -> '\n",
    "        head = head.next\n",
    "    return s"
   ]
  },
  {
   "cell_type": "code",
   "execution_count": 36,
   "metadata": {},
   "outputs": [],
   "source": [
    "nodes1 = [4,2,1,3]\n",
    "head1 = mk_slist(nodes1)\n",
    "nodes2 = [-1,5,3,4,0]\n",
    "head2 = mk_slist(nodes2)"
   ]
  },
  {
   "cell_type": "code",
   "execution_count": 37,
   "metadata": {},
   "outputs": [
    {
     "data": {
      "text/plain": [
       "'-1 -> 5 -> 3 -> 4 -> 0'"
      ]
     },
     "execution_count": 37,
     "metadata": {},
     "output_type": "execute_result"
    }
   ],
   "source": [
    "prnt_slist(head2)"
   ]
  },
  {
   "cell_type": "code",
   "execution_count": 38,
   "metadata": {},
   "outputs": [],
   "source": [
    "class Solution:\n",
    "    def insertionSortList(self, head: ListNode) -> ListNode:\n",
    "        dummy = ListNode(None)\n",
    "        curnode = head\n",
    "        while curnode:\n",
    "            prevnode = dummy\n",
    "            nextnode = prevnode.next\n",
    "            while nextnode:\n",
    "                if nextnode.val > curnode.val:\n",
    "                    break\n",
    "                prevnode = prevnode.next\n",
    "                nextnode = nextnode.next\n",
    "            nextcur = curnode.next\n",
    "            curnode.next = prevnode.next\n",
    "            prevnode.next = curnode\n",
    "            curnode = nextcur\n",
    "                \n",
    "\n",
    "        return dummy.next"
   ]
  },
  {
   "cell_type": "code",
   "execution_count": 39,
   "metadata": {},
   "outputs": [],
   "source": [
    "soln = Solution()\n",
    "head2 = soln.insertionSortList(head2)"
   ]
  },
  {
   "cell_type": "code",
   "execution_count": 41,
   "metadata": {},
   "outputs": [
    {
     "data": {
      "text/plain": [
       "'-1 -> 0 -> 3 -> 4 -> 5'"
      ]
     },
     "execution_count": 41,
     "metadata": {},
     "output_type": "execute_result"
    }
   ],
   "source": [
    "prnt_slist(head2)"
   ]
  },
  {
   "cell_type": "markdown",
   "metadata": {},
   "source": [
    "## Day 3: 11/3/20\n",
    "### 1446. Consecutive Characters\n",
    "EASY  \n",
    "https://leetcode.com/problems/consecutive-characters/  \n",
    "https://leetcode.com/explore/challenge/card/november-leetcoding-challenge/564/week-1-november-1st-november-7th/3518/"
   ]
  },
  {
   "cell_type": "markdown",
   "metadata": {},
   "source": [
    "Given a string `s`, the power of the string is the maximum length of a non-empty substring that contains only one unique character.\n",
    "\n",
    "Return *the power* of the string.\n",
    "\n",
    " \n",
    "\n",
    "**Example 1:**\n",
    "```\n",
    "Input: s = \"leetcode\"\n",
    "Output: 2\n",
    "Explanation: The substring \"ee\" is of length 2 with the character 'e' only.\n",
    "```\n",
    "**Example 2:**\n",
    "```\n",
    "Input: s = \"abbcccddddeeeeedcba\"\n",
    "Output: 5\n",
    "Explanation: The substring \"eeeee\" is of length 5 with the character 'e' only.\n",
    "```\n",
    "**Example 3:**\n",
    "```\n",
    "Input: s = \"triplepillooooow\"\n",
    "Output: 5\n",
    "```\n",
    "**Example 4:**\n",
    "```\n",
    "Input: s = \"hooraaaaaaaaaaay\"\n",
    "Output: 11\n",
    "```\n",
    "**Example 5:**\n",
    "```\n",
    "Input: s = \"tourist\"\n",
    "Output: 1\n",
    "```\n",
    "\n",
    "**Constraints:**\n",
    "\n",
    "* `1 <= s.length <= 500`\n",
    "* `s` contains only lowercase English letters."
   ]
  },
  {
   "cell_type": "markdown",
   "metadata": {},
   "source": [
    "**Study Notes:**\n",
    "* leetcode solution article: https://leetcode.com/problems/consecutive-characters/solution/\n",
    "* leetcode discussion solution using `groupby` python function: https://leetcode.com/problems/consecutive-characters/discuss/921642/Python-Oneliner-using-groupby-explained"
   ]
  },
  {
   "cell_type": "code",
   "execution_count": 9,
   "metadata": {},
   "outputs": [],
   "source": [
    "s1 = \"leetcode\"\n",
    "s2 = \"abbcccddddeeeeedcba\"\n",
    "s3 = \"triplepillooooow\"\n",
    "s4 = \"hooraaaaaaaaaaay\"\n",
    "s5 = \"tourist\""
   ]
  },
  {
   "cell_type": "code",
   "execution_count": 10,
   "metadata": {},
   "outputs": [],
   "source": [
    "class Solution:\n",
    "    def maxPower(self, s: str) -> int:\n",
    "        prevc = None\n",
    "        count = 1\n",
    "        maxcount = 0\n",
    "        for c in s:\n",
    "            if c == prevc:\n",
    "                count += 1\n",
    "            else:\n",
    "                count = 1\n",
    "            prevc = c\n",
    "            maxcount = max(maxcount,count)\n",
    "        return maxcount"
   ]
  },
  {
   "cell_type": "code",
   "execution_count": 38,
   "metadata": {},
   "outputs": [],
   "source": [
    "# using itertools.groupby\n",
    "from itertools import groupby\n",
    "class Solution:\n",
    "    def maxPower(self, s: str) -> int:\n",
    "        # explicitly coded out\n",
    "        grouped = groupby(s)\n",
    "        grouplengths = [len(list(g)) for k,g in grouped]\n",
    "        ans = max(grouplengths)\n",
    "#         # one-liner\n",
    "#         ans = max([len(list(g)) for k,g in groupby(s)])\n",
    "        return ans"
   ]
  },
  {
   "cell_type": "code",
   "execution_count": 39,
   "metadata": {},
   "outputs": [
    {
     "data": {
      "text/plain": [
       "11"
      ]
     },
     "execution_count": 39,
     "metadata": {},
     "output_type": "execute_result"
    }
   ],
   "source": [
    "soln = Solution()\n",
    "soln.maxPower(s4)"
   ]
  },
  {
   "cell_type": "markdown",
   "metadata": {},
   "source": [
    "## Day 4: 11/4/20\n",
    "### 310. Minimum Height Trees\n",
    "MEDIUM  \n",
    "https://leetcode.com/problems/minimum-height-trees/  \n",
    "https://leetcode.com/explore/challenge/card/november-leetcoding-challenge/564/week-1-november-1st-november-7th/3519/"
   ]
  },
  {
   "cell_type": "markdown",
   "metadata": {},
   "source": [
    "A tree is an undirected graph in which any two vertices are connected by *exactly* one path. In other words, any connected graph without simple cycles is a tree.\n",
    "\n",
    "Given a tree of `n` nodes labelled from `0` to `n - 1`, and an array of `n - 1` `edges` where `edges[i] = [a_i, b_i]` indicates that there is an undirected edge between the two nodes `a_i` and `b_i` in the tree, you can choose any node of the tree as the root. When you select a node `x` as the root, the result tree has height `h`. Among all possible rooted trees, those with minimum height (i.e. `min(h)`)  are called **minimum height trees** (MHTs).\n",
    "\n",
    "Return *a list of all **MHTs'** root labels*. You can return the answer in **any order**.\n",
    "\n",
    "The **height** of a rooted tree is the number of edges on the longest downward path between the root and a leaf.\n",
    "\n",
    " \n",
    "\n",
    "**Example 1:**\n",
    "![https://assets.leetcode.com/uploads/2020/09/01/e1.jpg](https://assets.leetcode.com/uploads/2020/09/01/e1.jpg)\n",
    "```\n",
    "Input: n = 4, edges = [[1,0],[1,2],[1,3]]\n",
    "Output: [1]\n",
    "Explanation: As shown, the height of the tree is 1 when the root is the node with label 1 which is the only MHT.\n",
    "```\n",
    "**Example 2:**\n",
    "![https://assets.leetcode.com/uploads/2020/09/01/e2.jpg](https://assets.leetcode.com/uploads/2020/09/01/e2.jpg)\n",
    "```\n",
    "Input: n = 6, edges = [[3,0],[3,1],[3,2],[3,4],[5,4]]\n",
    "Output: [3,4]\n",
    "```\n",
    "**Example 3:**\n",
    "```\n",
    "Input: n = 1, edges = []\n",
    "Output: [0]\n",
    "```\n",
    "**Example 4:**\n",
    "```\n",
    "Input: n = 2, edges = [[0,1]]\n",
    "Output: [0,1]\n",
    "```\n",
    "\n",
    "**Constraints:**\n",
    "\n",
    "* `1 <= n <= 2 * 10^4`\n",
    "* `edges.length == n - 1`\n",
    "* `0 <= a_i, b_i < n`\n",
    "* `ai != bi`\n",
    "* All the pairs `(a_i, b_i)` are distinct.\n",
    "* The given input is **guaranteed** to be a tree and there will be **no repeated** edges."
   ]
  },
  {
   "cell_type": "markdown",
   "metadata": {},
   "source": [
    "**Study Notes:**\n",
    "* solution article: https://leetcode.com/problems/minimum-height-trees/solution/\n",
    "    * uses `topological sort` with `breadth-first search` to solve\n",
    "* related problem: [Course Schedule](https://leetcode.com/problems/course-schedule/)\n",
    "* leetcode discussion solution: https://leetcode.com/problems/minimum-height-trees/discuss/923071/Python-Find-diameter-using-2-dfs-explained\n",
    "    * uses 2x `depth-first search`\n",
    "    1. Start from any node and run `dfs`, which calculate distances for all other nodes from this node as well as create parent for each node. What our fucntion will return in the end is the index of farthest node (there can be more than one and it is OK for us).\n",
    "    2. Now, we need to start our `dfs` all over again from this node (that is why we use `dfs_helper` function - we need to clean our distances and parents arrays. When we run our dfs second time, we again find the farthest node.\n",
    "    3. Finally, we create path between the first node we found and the second and it will be our diameter: if it has even number of nodes, we return `2` middle nodes, in other case we return `1` middle node.|"
   ]
  },
  {
   "cell_type": "code",
   "execution_count": 2,
   "metadata": {},
   "outputs": [],
   "source": [
    "n1,edges1 = 4, [[1,0],[1,2],[1,3]]\n",
    "n2,edges2 = 6, [[3,0],[3,1],[3,2],[3,4],[5,4]]\n",
    "n3,edges3 = 1, []\n",
    "n4,edges4 = 2, [[0,1]]"
   ]
  },
  {
   "cell_type": "code",
   "execution_count": 50,
   "metadata": {},
   "outputs": [],
   "source": [
    "from collections import defaultdict\n",
    "class Solution:\n",
    "    def findMinHeightTrees(self, n: int, edges: List[List[int]]) -> List[int]:\n",
    "        \n",
    "        def dfs_helper(start, n):\n",
    "            self.dists, self.parents = [-1]*n, [-1]*n\n",
    "            self.dists[start] = 0\n",
    "            dfs(start)\n",
    "            return self.dists.index(max(self.dists))\n",
    "        \n",
    "        def dfs(start):\n",
    "            for neighbor in graph[start]:\n",
    "                if self.dists[neighbor] == -1:\n",
    "                    self.dists[neighbor] = self.dists[start]+1\n",
    "                    self.parents[neighbor] = start\n",
    "                    dfs(neighbor)\n",
    "            \n",
    "        # make graph\n",
    "        graph = defaultdict(set)\n",
    "        for a,b in edges:\n",
    "            graph[a].add(b)\n",
    "            graph[b].add(a)\n",
    "                \n",
    "        # find terminal nodes of diameter of tree\n",
    "        ind1 = dfs_helper(0, n)\n",
    "        ind2 = dfs_helper(ind1, n)\n",
    "        \n",
    "        # make longest path and return center nodes\n",
    "        path = []\n",
    "        cur = ind2\n",
    "        while cur != -1:\n",
    "            path.append(cur)\n",
    "            cur = self.parents[cur]\n",
    "            \n",
    "        pathlen = len(path)\n",
    "        if pathlen%2 == 0:\n",
    "            ans = [path[(pathlen-1)//2], path[pathlen//2]]\n",
    "        else:\n",
    "            ans = [path[(pathlen-1)//2]]\n",
    "        return ans\n",
    "#         return list(set([path[(pathlen-1)//2], path[pathlen//2]]))"
   ]
  },
  {
   "cell_type": "code",
   "execution_count": 51,
   "metadata": {},
   "outputs": [
    {
     "data": {
      "text/plain": [
       "[3, 4]"
      ]
     },
     "execution_count": 51,
     "metadata": {},
     "output_type": "execute_result"
    }
   ],
   "source": [
    "soln = Solution()\n",
    "soln.findMinHeightTrees(n2,edges2)"
   ]
  },
  {
   "cell_type": "markdown",
   "metadata": {},
   "source": [
    "## Day 5: 11/5/20\n",
    "### 1217. Minimum Cost to Move Chips to The Same Position\n",
    "EASY  \n",
    "https://leetcode.com/problems/minimum-cost-to-move-chips-to-the-same-position/  \n",
    "https://leetcode.com/explore/challenge/card/november-leetcoding-challenge/564/week-1-november-1st-november-7th/3520/"
   ]
  },
  {
   "cell_type": "markdown",
   "metadata": {},
   "source": [
    "We have `n` chips, where the position of the `ith` chip is `position[i]`.\n",
    "\n",
    "We need to move all the chips to the **same position**. In one step, we can change the position of the `ith` chip from `position[i]` to:\n",
    "\n",
    "* `position[i] + 2` or `position[i] - 2` with `cost = 0`.\n",
    "* `position[i] + 1` or `position[i] - 1` with `cost = 1`.\n",
    "\n",
    "Return *the minimum cost* needed to move all the chips to the same position.\n",
    "\n",
    " \n",
    "\n",
    "**Example 1:**\n",
    "![https://assets.leetcode.com/uploads/2020/08/15/chips_e1.jpg](https://assets.leetcode.com/uploads/2020/08/15/chips_e1.jpg)\n",
    "```\n",
    "Input: position = [1,2,3]\n",
    "Output: 1\n",
    "Explanation: First step: Move the chip at position 3 to position 1 with cost = 0.\n",
    "Second step: Move the chip at position 2 to position 1 with cost = 1.\n",
    "Total cost is 1.\n",
    "```\n",
    "**Example 2:**\n",
    "![https://assets.leetcode.com/uploads/2020/08/15/chip_e2.jpg](https://assets.leetcode.com/uploads/2020/08/15/chip_e2.jpg)\n",
    "```\n",
    "Input: position = [2,2,2,3,3]\n",
    "Output: 2\n",
    "Explanation: We can move the two chips at poistion 3 to position 2. Each move has cost = 1. The total cost = 2.\n",
    "```\n",
    "**Example 3:**\n",
    "```\n",
    "Input: position = [1,1000000000]\n",
    "Output: 1\n",
    "```\n",
    "\n",
    "**Constraints:**\n",
    "\n",
    "* `1 <= position.length <= 100`\n",
    "* `1 <= position[i] <= 10^9`"
   ]
  },
  {
   "cell_type": "markdown",
   "metadata": {},
   "source": [
    "**Study Notes:**\n",
    "* can be solved with math\n",
    "* insights:\n",
    "    1. It costs `0` to move any coin two spaces, meaning there is no cost to moving an odd coin to an odd position and vice versa\n",
    "    2. Moving a coin from odd to even position (and vice versa) costs `1`\n",
    "* core ideas:\n",
    "    1. count number of coins at odd or even positions\n",
    "    2. cost is the minimum number of coins at odd or even positions if both present, otherwise zero\n",
    "* leetcode discussion one-liner: https://leetcode.com/problems/minimum-cost-to-move-chips-to-the-same-position/discuss/924174/Python-Oneliner-O(n)-explained"
   ]
  },
  {
   "cell_type": "code",
   "execution_count": 5,
   "metadata": {},
   "outputs": [],
   "source": [
    "position1 = [1,2,3]\n",
    "position2 = [2,2,2,3,3]\n",
    "position3 = [1,1000000000]"
   ]
  },
  {
   "cell_type": "code",
   "execution_count": 6,
   "metadata": {},
   "outputs": [],
   "source": [
    "class Solution:\n",
    "    def minCostToMoveChips(self, position: List[int]) -> int:\n",
    "        even, odd = 0, 0\n",
    "        for pos in position:\n",
    "            if pos % 2 == 0:\n",
    "                even += 1\n",
    "            else:\n",
    "                odd += 1\n",
    "        return min(even,odd)"
   ]
  },
  {
   "cell_type": "code",
   "execution_count": 9,
   "metadata": {},
   "outputs": [
    {
     "data": {
      "text/plain": [
       "1"
      ]
     },
     "execution_count": 9,
     "metadata": {},
     "output_type": "execute_result"
    }
   ],
   "source": [
    "soln = Solution()\n",
    "soln.minCostToMoveChips(position3)"
   ]
  },
  {
   "cell_type": "markdown",
   "metadata": {},
   "source": [
    "## Day 6: 11/7/20\n",
    "### 1283. Find the Smallest Divisor Given a Threshold\n",
    "MEDIUM  \n",
    "https://leetcode.com/problems/find-the-smallest-divisor-given-a-threshold/  \n",
    "https://leetcode.com/explore/challenge/card/november-leetcoding-challenge/564/week-1-november-1st-november-7th/3521/"
   ]
  },
  {
   "cell_type": "markdown",
   "metadata": {},
   "source": [
    "Given an array of integers `nums` and an integer `threshold`, we will choose a positive integer divisor and divide all the array by it and sum the result of the division. Find the **smallest** divisor such that the result mentioned above is less than or equal to `threshold`.\n",
    "\n",
    "Each result of division is rounded to the nearest integer greater than or equal to that element. (For example: 7/3 = 3 and 10/2 = 5).\n",
    "\n",
    "It is guaranteed that there will be an answer.\n",
    "\n",
    " \n",
    "\n",
    "**Example 1:**\n",
    "```\n",
    "Input: nums = [1,2,5,9], threshold = 6\n",
    "Output: 5\n",
    "Explanation: We can get a sum to 17 (1+2+5+9) if the divisor is 1. \n",
    "If the divisor is 4 we can get a sum to 7 (1+1+2+3) and if the divisor is 5 the sum will be 5 (1+1+1+2). \n",
    "```\n",
    "**Example 2:**\n",
    "```\n",
    "Input: nums = [2,3,5,7,11], threshold = 11\n",
    "Output: 3\n",
    "```\n",
    "**Example 3:**\n",
    "```\n",
    "Input: nums = [19], threshold = 5\n",
    "Output: 4\n",
    "```\n",
    "\n",
    "**Constraints:**\n",
    "\n",
    "* `1 <= nums.length <= 5 * 10^4`\n",
    "* `1 <= nums[i] <= 10^6`\n",
    "* `nums.length <= threshold <= 10^6`"
   ]
  },
  {
   "cell_type": "markdown",
   "metadata": {},
   "source": [
    "**Study Notes:**\n",
    "* tricky! involves binary search and optimal solution is `O(nlogm)`, where `n` is size of array and `m` is `max(nums)`\n",
    "* core insights:\n",
    "    * minimum divisor value is `1` and maximum divisor value is `max(nums)`\n",
    "    * binary search over the divisor range to find the smallest divisor that satisfies `threshold`\n",
    "    * implementation quirk: cannot assume that the divisor for `total == threshold` is the answer, there maybe multiple divisors that satisfy that condition and we should return the smallest one\n",
    "* leetcode solution article: https://leetcode.com/problems/find-the-smallest-divisor-given-a-threshold/solution/"
   ]
  },
  {
   "cell_type": "code",
   "execution_count": 30,
   "metadata": {},
   "outputs": [],
   "source": [
    "nums1,threshold1 = [1,2,5,9], 6\n",
    "nums2,threshold2 = [2,3,5,7,11], 11\n",
    "nums3,threshold3 = [19], 5\n",
    "nums4,threshold4 = [81488,78770,69737,14847,36203,85812,62771,25584,40434,55397,95643,48474,63802,63203,69258,16397,62134,68311,48931,4317,488,76613,70301,24052,67069,8018,61725,98992,86206,54407,33175,65597,5215,11866,9420,93851,66858,78097,70255,92021,50353,91451,52417,411,81332,27928,51842,83525,74458,10995,18792,14219,31190,86907,412,45731,9730,1258,94589,84673,20469,479,71501,68751,18230,77410,41662,9005,72532,36514,5203,528,59746,45580,72611,30386,40609,30783,70776,78765,97187,19997,16257,86367,80891,43219,55020,4753,2785,70141,86103,25092,50595,73151,69139,92893,18011,94848,65111,5657], 988"
   ]
  },
  {
   "cell_type": "code",
   "execution_count": 91,
   "metadata": {},
   "outputs": [],
   "source": [
    "class Solution:\n",
    "    def smallestDivisor(self, nums: List[int], threshold: int) -> int:\n",
    "        # ceiling division\n",
    "        def ceil(n,d):\n",
    "            return -(n // -d)\n",
    "        \n",
    "        # binary search\n",
    "        lo = 1\n",
    "        hi = max(nums)\n",
    "        while lo < hi:\n",
    "            mid = (lo+hi)//2\n",
    "            total = sum(ceil(n,mid) for n in nums)\n",
    "            if total > threshold:\n",
    "                lo = mid+1\n",
    "            else:\n",
    "                hi = mid\n",
    "        return lo"
   ]
  },
  {
   "cell_type": "code",
   "execution_count": 92,
   "metadata": {},
   "outputs": [
    {
     "data": {
      "text/plain": [
       "5317"
      ]
     },
     "execution_count": 92,
     "metadata": {},
     "output_type": "execute_result"
    }
   ],
   "source": [
    "soln = Solution()\n",
    "soln.smallestDivisor(nums4,threshold4)"
   ]
  },
  {
   "cell_type": "markdown",
   "metadata": {},
   "source": [
    "## Day 7: 11/7/20\n",
    "### 445. Add Two Numbers II\n",
    "MEDIUM  \n",
    "https://leetcode.com/problems/add-two-numbers-ii/  \n",
    "https://leetcode.com/explore/challenge/card/november-leetcoding-challenge/564/week-1-november-1st-november-7th/3522/"
   ]
  },
  {
   "cell_type": "markdown",
   "metadata": {},
   "source": [
    "You are given two **non-empty** linked lists representing two non-negative integers. The most significant digit comes first and each of their nodes contain a single digit. Add the two numbers and return it as a linked list.\n",
    "\n",
    "You may assume the two numbers do not contain any leading zero, except the number 0 itself.\n",
    "\n",
    "**Follow up:**  \n",
    "What if you cannot modify the input lists? In other words, reversing the lists is not allowed.\n",
    "\n",
    "**Example:**\n",
    "```\n",
    "Input: (7 -> 2 -> 4 -> 3) + (5 -> 6 -> 4)\n",
    "Output: 7 -> 8 -> 0 -> 7\n",
    "```"
   ]
  },
  {
   "cell_type": "markdown",
   "metadata": {},
   "source": [
    "**Study Notes:**\n",
    "* multiple approaches to this one\n",
    "* my approach: convert `l1` and `l2` into `ints` and add, convert to string then iterate trough string to create `ListNode` for each digit\n",
    "    * `O(2n)` time, where `n` is the total number of nodes\n",
    "    * `O(3n)` space\n",
    "* leetcode discussion solution: https://leetcode.com/problems/add-two-numbers-ii/discuss/926807/Python-Two-stacks-solution-explained\n",
    "    * uses two stacks"
   ]
  },
  {
   "cell_type": "code",
   "execution_count": 2,
   "metadata": {},
   "outputs": [],
   "source": [
    "# Definition for singly-linked list.\n",
    "class ListNode:\n",
    "    def __init__(self, val=0, next=None):\n",
    "        self.val = val\n",
    "        self.next = next\n",
    "        \n",
    "def mk_slist(nodes):\n",
    "    pln = None\n",
    "    for n in nodes[::-1]:\n",
    "        ln = ListNode(n)\n",
    "        ln.next = pln\n",
    "        pln = ln\n",
    "    return ln\n",
    "\n",
    "def prnt_list(head):\n",
    "    s = ''\n",
    "    while head:\n",
    "        s += str(head.val)\n",
    "        head = head.next\n",
    "        if head:\n",
    "            s += ' -> '\n",
    "    return s"
   ]
  },
  {
   "cell_type": "code",
   "execution_count": 4,
   "metadata": {},
   "outputs": [],
   "source": [
    "nodes11,nodes12 = [7,2,4,3], [5,6,4]\n",
    "l11,l12 = mk_slist(nodes11), mk_slist(nodes12)"
   ]
  },
  {
   "cell_type": "code",
   "execution_count": 26,
   "metadata": {},
   "outputs": [],
   "source": [
    "class Solution:\n",
    "    def addTwoNumbers(self, l1: ListNode, l2: ListNode) -> ListNode:\n",
    "        # iterate through linked lists to create integers\n",
    "        n1,n2 = 0,0\n",
    "        while l1:            \n",
    "            n1 *= 10\n",
    "            n1 += l1.val\n",
    "            l1 = l1.next\n",
    "        while l2:\n",
    "            n2 *= 10\n",
    "            n2 += l2.val\n",
    "            l2 = l2.next\n",
    "        ans = n1+n2\n",
    "        \n",
    "        # iterate through digits in ans to generate output linked list\n",
    "        dummy = cur = ListNode(None)\n",
    "        for c in str(ans):\n",
    "            ln = ListNode(int(c))\n",
    "            cur.next = ln\n",
    "            cur = cur.next\n",
    "        return dummy.next"
   ]
  },
  {
   "cell_type": "code",
   "execution_count": 42,
   "metadata": {},
   "outputs": [],
   "source": [
    "# two stacks from leetcode discussion, does math directly without using + operator\n",
    "class Solution:\n",
    "    def addTwoNumbers(self, l1: ListNode, l2: ListNode) -> ListNode:\n",
    "        # create stacks with input digits\n",
    "        s1,s2 = [], []\n",
    "        while l1:\n",
    "            s1.append(l1.val)\n",
    "            l1 = l1.next\n",
    "        while l2:\n",
    "            s2.append(l2.val)\n",
    "            l2 = l2.next\n",
    "        \n",
    "        # add digits\n",
    "        carry = 0\n",
    "        node = None\n",
    "        while s1 or s2 or carry:\n",
    "            d1 = s1.pop() if s1 else 0\n",
    "            d2 = s2.pop() if s2 else 0\n",
    "            num = d1+d2+carry\n",
    "            carry = num//10\n",
    "            digit = num%10\n",
    "            # make and connect list nodes\n",
    "            newnode = ListNode(digit)\n",
    "            newnode.next = node\n",
    "            node = newnode\n",
    "            \n",
    "        return node"
   ]
  },
  {
   "cell_type": "code",
   "execution_count": 43,
   "metadata": {},
   "outputs": [],
   "source": [
    "soln = Solution()\n",
    "ans = soln.addTwoNumbers(l11,l12)"
   ]
  },
  {
   "cell_type": "code",
   "execution_count": 44,
   "metadata": {},
   "outputs": [
    {
     "data": {
      "text/plain": [
       "'7 -> 8 -> 0 -> 7'"
      ]
     },
     "execution_count": 44,
     "metadata": {},
     "output_type": "execute_result"
    }
   ],
   "source": [
    "prnt_list(ans)"
   ]
  },
  {
   "cell_type": "markdown",
   "metadata": {},
   "source": [
    "## Day 8: 11/8/20\n",
    "### 563. Binary Tree Tilt\n",
    "EASY  \n",
    "https://leetcode.com/problems/binary-tree-tilt/  \n",
    "https://leetcode.com/explore/challenge/card/november-leetcoding-challenge/565/week-2-november-8th-november-14th/3524/"
   ]
  },
  {
   "cell_type": "markdown",
   "metadata": {},
   "source": [
    "Given the `root` of a binary tree, return *the sum of every tree node's* ***tilt***.\n",
    "\n",
    "The **tilt** of a tree node is the **absolute difference** between the sum of all left subtree node **values** and all right subtree node **values**. If a node does not have a left child, then the sum of the left subtree node **values** is treated as `0`. The rule is similar if there the node does not have a right child.\n",
    "\n",
    " \n",
    "\n",
    "**Example 1:**\n",
    "![https://assets.leetcode.com/uploads/2020/10/20/tilt1.jpg](https://assets.leetcode.com/uploads/2020/10/20/tilt1.jpg)\n",
    "```\n",
    "Input: root = [1,2,3]\n",
    "Output: 1\n",
    "Explanation: \n",
    "Tilt of node 2 : |0-0| = 0 (no children)\n",
    "Tilt of node 3 : |0-0| = 0 (no children)\n",
    "Tile of node 1 : |2-3| = 1 (left subtree is just left child, so sum is 2; right subtree is just right child, so sum is 3)\n",
    "Sum of every tilt : 0 + 0 + 1 = 1\n",
    "```\n",
    "**Example 2:**\n",
    "![https://assets.leetcode.com/uploads/2020/10/20/tilt2.jpg](https://assets.leetcode.com/uploads/2020/10/20/tilt2.jpg)\n",
    "```\n",
    "Input: root = [4,2,9,3,5,null,7]\n",
    "Output: 15\n",
    "Explanation: \n",
    "Tilt of node 3 : |0-0| = 0 (no children)\n",
    "Tilt of node 5 : |0-0| = 0 (no children)\n",
    "Tilt of node 7 : |0-0| = 0 (no children)\n",
    "Tilt of node 2 : |3-5| = 2 (left subtree is just left child, so sum is 3; right subtree is just right child, so sum is 5)\n",
    "Tilt of node 9 : |0-7| = 7 (no left child, so sum is 0; right subtree is just right child, so sum is 7)\n",
    "Tilt of node 4 : |(3+5+2)-(9+7)| = |10-16| = 6 (left subtree values are 3, 5, and 2, which sums to 10; right subtree values are 9 and 7, which sums to 16)\n",
    "Sum of every tilt : 0 + 0 + 0 + 2 + 7 + 6 = 15\n",
    "```\n",
    "**Example 3:**\n",
    "![https://assets.leetcode.com/uploads/2020/10/20/tilt3.jpg](https://assets.leetcode.com/uploads/2020/10/20/tilt3.jpg)\n",
    "```\n",
    "Input: root = [21,7,14,1,1,2,2,3,3]\n",
    "Output: 9\n",
    "```\n",
    "\n",
    "**Constraints:**\n",
    "\n",
    "* The number of nodes in the tree is in the range `[0, 10^4]`.\n",
    "* `-1000 <= Node.val <= 1000`"
   ]
  },
  {
   "cell_type": "markdown",
   "metadata": {},
   "source": [
    "**Study Notes:**\n",
    "* solution article: https://leetcode.com/problems/binary-tree-tilt/solution/\n",
    "    * one solution is post-order DFS traversal\n",
    "* leetcode discussion solution: https://leetcode.com/problems/binary-tree-tilt/discuss/927899/Python-Short-dfs-solution-explained"
   ]
  },
  {
   "cell_type": "code",
   "execution_count": 7,
   "metadata": {},
   "outputs": [],
   "source": [
    "# Definition for a binary tree node.\n",
    "class TreeNode:\n",
    "    def __init__(self, val=0, left=None, right=None):\n",
    "        self.val = val\n",
    "        self.left = left\n",
    "        self.right = right\n",
    "        \n",
    "def mk_tree(nodes, i, n):\n",
    "    root = None\n",
    "    if (i < n) and nodes[i] is not None:\n",
    "        root = TreeNode(nodes[i])\n",
    "        root.left = mk_tree(nodes, 2*i+1, len(nodes))\n",
    "        root.right = mk_tree(nodes, 2*i+2, len(nodes))\n",
    "    return root\n",
    "\n",
    "def prnt_tree(root):\n",
    "    q = [root]\n",
    "    nodes = []\n",
    "    while any(q):\n",
    "        node = q.pop(0) # can use deque instead to optimize\n",
    "        if node:\n",
    "            nodes.append(node.val)\n",
    "            if node.left or node.right or any(q):\n",
    "                q.append(node.left)\n",
    "                q.append(node.right)\n",
    "        elif any(q): # if node is None AND there's still stuff in q to process\n",
    "            nodes.append('null')\n",
    "    return nodes"
   ]
  },
  {
   "cell_type": "code",
   "execution_count": 8,
   "metadata": {},
   "outputs": [],
   "source": [
    "nodes1 = [1,2,3]\n",
    "root1 = mk_tree(nodes1,0,len(nodes1))\n",
    "nodes2 = [4,2,9,3,5,None,7]\n",
    "root2 = mk_tree(nodes2,0,len(nodes2))\n",
    "nodes3 = [21,7,14,1,1,2,2,3,3]\n",
    "root3 = mk_tree(nodes3,0,len(nodes3))"
   ]
  },
  {
   "cell_type": "code",
   "execution_count": 20,
   "metadata": {},
   "outputs": [],
   "source": [
    "class Solution:\n",
    "    def findTilt(self, root: TreeNode) -> int:\n",
    "        def recurse(root):\n",
    "            sumval = 0\n",
    "            if root:\n",
    "                leftsum = recurse(root.left)\n",
    "                rightsum = recurse(root.right)\n",
    "                tilts.append(abs(leftsum-rightsum))\n",
    "                sumval = root.val + leftsum + rightsum\n",
    "            return sumval\n",
    "        \n",
    "        tilts = []\n",
    "        recurse(root)\n",
    "        return sum(tilts)"
   ]
  },
  {
   "cell_type": "code",
   "execution_count": 22,
   "metadata": {},
   "outputs": [],
   "source": [
    "# more concise code\n",
    "class Solution:\n",
    "    def findTilt(self, root):\n",
    "        def dfs(node):\n",
    "            if not node: return [0,0]\n",
    "            t1, s1 = dfs(node.left)\n",
    "            t2, s2 = dfs(node.right)\n",
    "            return [t1+t2+abs(s1-s2), s1+s2+node.val]\n",
    "        return dfs(root)[0]"
   ]
  },
  {
   "cell_type": "code",
   "execution_count": 23,
   "metadata": {},
   "outputs": [
    {
     "data": {
      "text/plain": [
       "9"
      ]
     },
     "execution_count": 23,
     "metadata": {},
     "output_type": "execute_result"
    }
   ],
   "source": [
    "soln = Solution()\n",
    "soln.findTilt(root3)"
   ]
  },
  {
   "cell_type": "markdown",
   "metadata": {},
   "source": [
    "## Day 9: 11/9/20\n",
    "### 1026. Maximum Difference Between Node and Ancestor\n",
    "MEDIUM  \n",
    "https://leetcode.com/problems/maximum-difference-between-node-and-ancestor/  \n",
    "https://leetcode.com/explore/challenge/card/november-leetcoding-challenge/565/week-2-november-8th-november-14th/3525/"
   ]
  },
  {
   "cell_type": "markdown",
   "metadata": {},
   "source": [
    "Given the `root` of a binary tree, find the maximum value `V` for which there exist **different** nodes `A` and `B` where `V = |A.val - B.val|` and `A` is an ancestor of `B`.\n",
    "\n",
    "A node `A` is an ancestor of `B` if either: any child of `A` is equal to `B`, or any child of `A` is an ancestor of `B`.\n",
    "\n",
    " \n",
    "\n",
    "**Example 1:**\n",
    "![https://assets.leetcode.com/uploads/2020/11/09/tmp-tree.jpg](https://assets.leetcode.com/uploads/2020/11/09/tmp-tree.jpg)\n",
    "```\n",
    "Input: root = [8,3,10,1,6,null,14,null,null,4,7,13]\n",
    "Output: 7\n",
    "Explanation: We have various ancestor-node differences, some of which are given below :\n",
    "|8 - 3| = 5\n",
    "|3 - 7| = 4\n",
    "|8 - 1| = 7\n",
    "|10 - 13| = 3\n",
    "Among all possible differences, the maximum value of 7 is obtained by |8 - 1| = 7.\n",
    "```\n",
    "**Example 2:**\n",
    "![https://assets.leetcode.com/uploads/2020/11/09/tmp-tree-1.jpg](https://assets.leetcode.com/uploads/2020/11/09/tmp-tree-1.jpg)\n",
    "```\n",
    "Input: root = [1,null,2,null,0,3]\n",
    "Output: 3\n",
    "```\n",
    "\n",
    "**Constraints:**\n",
    "\n",
    "* The number of nodes in the tree is in the range `[2, 5000]`.\n",
    "* `0 <= Node.val <= 10^5`"
   ]
  },
  {
   "cell_type": "markdown",
   "metadata": {},
   "source": [
    "**Study Notes:**\n",
    "* leetcode solution article: https://leetcode.com/problems/maximum-difference-between-node-and-ancestor/solution/\n",
    "* leetcode discussion solution: https://leetcode.com/problems/maximum-difference-between-node-and-ancestor/discuss/929284/Python-O(n)%3A-look-at-child-explained"
   ]
  },
  {
   "cell_type": "code",
   "execution_count": 14,
   "metadata": {},
   "outputs": [],
   "source": [
    "# Definition for a binary tree node.\n",
    "class TreeNode:\n",
    "    def __init__(self, val=0, left=None, right=None):\n",
    "        self.val = val\n",
    "        self.left = left\n",
    "        self.right = right\n",
    "        \n",
    "def mk_tree(nodes, i, n):\n",
    "    root = None\n",
    "    if (i < n) and nodes[i] is not None:\n",
    "        root = TreeNode(nodes[i])\n",
    "        root.left = mk_tree(nodes, 2*i+1, len(nodes))\n",
    "        root.right = mk_tree(nodes, 2*i+2, len(nodes))\n",
    "    return root\n",
    "\n",
    "def prnt_tree(root):\n",
    "    q = [root]\n",
    "    nodes = []\n",
    "    while any(q):\n",
    "        node = q.pop(0) # use deque to optimize\n",
    "        if node:\n",
    "            nodes.append(node.val)\n",
    "            if node.left or node.right or any(q):\n",
    "                q.append(node.left)\n",
    "                q.append(node.right)\n",
    "        elif any(q):\n",
    "            nodes.append('null')\n",
    "    return nodes"
   ]
  },
  {
   "cell_type": "code",
   "execution_count": 12,
   "metadata": {},
   "outputs": [],
   "source": [
    "nodes1 = [8,3,10,1,6,None,14,None,None,4,7,13]\n",
    "root1 = mk_tree(nodes1, 0, len(nodes1))\n",
    "nodes2 = [1,None,2,None,0,3]\n",
    "root2 = mk_tree(nodes2, 0, len(nodes2))"
   ]
  },
  {
   "cell_type": "code",
   "execution_count": 16,
   "metadata": {},
   "outputs": [
    {
     "data": {
      "text/plain": [
       "[1, 'null', 2, 3]"
      ]
     },
     "execution_count": 16,
     "metadata": {},
     "output_type": "execute_result"
    }
   ],
   "source": [
    "prnt_tree(root2)"
   ]
  },
  {
   "cell_type": "code",
   "execution_count": 40,
   "metadata": {},
   "outputs": [],
   "source": [
    "class Solution:\n",
    "    def maxAncestorDiff(self, root: TreeNode) -> int:\n",
    "        \n",
    "        def minmax(root):\n",
    "            minval, maxval, V = float('inf'), float('-inf'), 0\n",
    "            if root:\n",
    "                leftmin, leftmax, Vleft = minmax(root.left)\n",
    "                rightmin, rightmax, Vright = minmax(root.right)\n",
    "                minval = min(leftmin,rightmin,root.val)\n",
    "                maxval = max(leftmax,rightmax,root.val)\n",
    "                V = max(abs(root.val-minval),abs(root.val-maxval),Vleft,Vright)\n",
    "            return minval, maxval, V\n",
    "        \n",
    "        minval, maxval, V = minmax(root)\n",
    "        return V"
   ]
  },
  {
   "cell_type": "code",
   "execution_count": 42,
   "metadata": {},
   "outputs": [],
   "source": [
    "# from leetcode discussion\n",
    "class Solution:\n",
    "    def maxAncestorDiff(self, root):\n",
    "        \n",
    "        self.Max = 0\n",
    "        def dfs(node, low, high):    \n",
    "            if not node: return\n",
    "\n",
    "            self.Max = max(self.Max, abs(node.val-low), abs(node.val-high))\n",
    "            low1, high1 = min(low, node.val), max(high, node.val)\n",
    "            dfs(node.left, low1, high1)\n",
    "            dfs(node.right, low1, high1)\n",
    "                \n",
    "        dfs(root, root.val, root.val)\n",
    "        return self.Max"
   ]
  },
  {
   "cell_type": "code",
   "execution_count": 43,
   "metadata": {},
   "outputs": [
    {
     "data": {
      "text/plain": [
       "2"
      ]
     },
     "execution_count": 43,
     "metadata": {},
     "output_type": "execute_result"
    }
   ],
   "source": [
    "soln = Solution()\n",
    "soln.maxAncestorDiff(root2)"
   ]
  },
  {
   "cell_type": "markdown",
   "metadata": {},
   "source": [
    "## Day 10: 11/10/20\n",
    "### 832. Flipping an Image\n",
    "EASY  \n",
    "https://leetcode.com/problems/flipping-an-image/  \n",
    "https://leetcode.com/explore/challenge/card/november-leetcoding-challenge/565/week-2-november-8th-november-14th/3526/"
   ]
  },
  {
   "cell_type": "markdown",
   "metadata": {},
   "source": [
    "Given a binary matrix `A`, we want to flip the image horizontally, then invert it, and return the resulting image.\n",
    "\n",
    "To flip an image horizontally means that each row of the image is reversed.  For example, flipping `[1, 1, 0]` horizontally results in `[0, 1, 1]`.\n",
    "\n",
    "To invert an image means that each `0` is replaced by `1`, and each `1` is replaced by `0`. For example, inverting `[0, 1, 1]` results in `[1, 0, 0]`.\n",
    "\n",
    "**Example 1:**\n",
    "```\n",
    "Input: [[1,1,0],[1,0,1],[0,0,0]]\n",
    "Output: [[1,0,0],[0,1,0],[1,1,1]]\n",
    "Explanation: First reverse each row: [[0,1,1],[1,0,1],[0,0,0]].\n",
    "Then, invert the image: [[1,0,0],[0,1,0],[1,1,1]]\n",
    "```\n",
    "**Example 2:**\n",
    "```\n",
    "Input: [[1,1,0,0],[1,0,0,1],[0,1,1,1],[1,0,1,0]]\n",
    "Output: [[1,1,0,0],[0,1,1,0],[0,0,0,1],[1,0,1,0]]\n",
    "Explanation: First reverse each row: [[0,0,1,1],[1,0,0,1],[1,1,1,0],[0,1,0,1]].\n",
    "Then invert the image: [[1,1,0,0],[0,1,1,0],[0,0,0,1],[1,0,1,0]]\n",
    "```\n",
    "**Notes:**\n",
    "\n",
    "* `1 <= A.length = A[0].length <= 20`\n",
    "* `0 <= A[i][j] <= 1`"
   ]
  },
  {
   "cell_type": "code",
   "execution_count": 75,
   "metadata": {},
   "outputs": [],
   "source": [
    "# direct indexing\n",
    "A1 = [[1,1,0],[1,0,1],[0,0,0]]\n",
    "A2 = [[1,1,0,0],[1,0,0,1],[0,1,1,1],[1,0,1,0]]\n",
    "class Solution:\n",
    "    def flipAndInvertImage(self, A: List[List[int]]) -> List[List[int]]:\n",
    "        for i in range(len(A)):\n",
    "            A[i] = A[i][::-1]\n",
    "            for j in range(len(A[i])):\n",
    "                if A[i][j] == 0:\n",
    "                    A[i][j] = 1\n",
    "                else:\n",
    "                    A[i][j] = 0        \n",
    "        return A"
   ]
  },
  {
   "cell_type": "code",
   "execution_count": 76,
   "metadata": {},
   "outputs": [],
   "source": [
    "# python list comprehension\n",
    "# use 1-val trick to invert binary values\n",
    "# uses extra space because copies the original array\n",
    "A1 = [[1,1,0],[1,0,1],[0,0,0]]\n",
    "A2 = [[1,1,0,0],[1,0,0,1],[0,1,1,1],[1,0,1,0]]\n",
    "class Solution:\n",
    "    def flipAndInvertImage(self, A: List[List[int]]) -> List[List[int]]:\n",
    "        result = []\n",
    "        for row in A:\n",
    "            result.append([1-val for val in row[::-1]])\n",
    "        return result"
   ]
  },
  {
   "cell_type": "code",
   "execution_count": 84,
   "metadata": {},
   "outputs": [],
   "source": [
    "# one-liner\n",
    "# python list comprehension\n",
    "# use 1-val trick to invert binary values\n",
    "# uses extra space because copies the original array?\n",
    "# reversed(row) instead of row[::-1] for minor speed increase\n",
    "A1 = [[1,1,0],[1,0,1],[0,0,0]]\n",
    "A2 = [[1,1,0,0],[1,0,0,1],[0,1,1,1],[1,0,1,0]]\n",
    "class Solution:\n",
    "    def flipAndInvertImage(self, A: List[List[int]]) -> List[List[int]]:\n",
    "        A = [[1-val for val in reversed(row)] for row in A]\n",
    "        return A"
   ]
  },
  {
   "cell_type": "code",
   "execution_count": 85,
   "metadata": {},
   "outputs": [
    {
     "data": {
      "text/plain": [
       "[[1, 0, 0], [0, 1, 0], [1, 1, 1]]"
      ]
     },
     "execution_count": 85,
     "metadata": {},
     "output_type": "execute_result"
    }
   ],
   "source": [
    "soln = Solution()\n",
    "soln.flipAndInvertImage(A1)"
   ]
  },
  {
   "cell_type": "markdown",
   "metadata": {},
   "source": [
    "## Day 11: 11/11/20\n",
    "### 593. Valid Square\n",
    "MEDIUM  \n",
    "https://leetcode.com/problems/valid-square/  \n",
    "https://leetcode.com/explore/challenge/card/november-leetcoding-challenge/565/week-2-november-8th-november-14th/3527/"
   ]
  },
  {
   "cell_type": "markdown",
   "metadata": {},
   "source": [
    "Given the coordinates of four points in 2D space, return whether the four points could construct a square.\n",
    "\n",
    "The coordinate (x,y) of a point is represented by an integer array with two integers.\n",
    "\n",
    "**Example:**\n",
    "```\n",
    "Input: p1 = [0,0], p2 = [1,1], p3 = [1,0], p4 = [0,1]\n",
    "Output: True\n",
    "``` \n",
    "\n",
    "**Note:**\n",
    "\n",
    "1. All the input integers are in the range `[-10000, 10000]`.\n",
    "2. A valid square has four equal sides with positive length and four equal angles (90-degree angles).\n",
    "3. Input points have no order."
   ]
  },
  {
   "cell_type": "markdown",
   "metadata": {},
   "source": [
    "**Study Notes:**\n",
    "* solution article: https://leetcode.com/problems/valid-square/solution/\n",
    "* idea: all squares have only two different lengths between points (the edge length and the diagonal length)\n",
    "    * calculate distance between every two points, add to a `set`, and check `len(set)==2`\n",
    "    * need to also make sure that any two points from the input are not the same coordinates\n",
    "* leetcode discussion solution: https://leetcode.com/problems/valid-square/discuss/931664/Python-Math-check-diagonals-explained"
   ]
  },
  {
   "cell_type": "code",
   "execution_count": 83,
   "metadata": {},
   "outputs": [],
   "source": [
    "p11,p12,p13,p14 = [0,0], [1,1], [1,0], [0,1]\n",
    "p21,p22,p23,p24 = [1,0], [-1,0], [0,1], [0,-1]\n",
    "p31,p32,p33,p34 = [0,0], [1,1], [0,0], [0,0]"
   ]
  },
  {
   "cell_type": "code",
   "execution_count": 84,
   "metadata": {},
   "outputs": [],
   "source": [
    "class Solution:\n",
    "    def validSquare(self, p1: List[int], p2: List[int], p3: List[int], p4: List[int]) -> bool:\n",
    "        def distsq(pt1,pt2):\n",
    "            return (pt1[0]-pt2[0])**2 + (pt1[1]-pt2[1])**2\n",
    "        \n",
    "        def isdupe(pt1,pt2):\n",
    "            return pt1[0]==pt2[0] and pt1[1]==pt2[1]\n",
    "        \n",
    "        pts = [p1,p2,p3,p4]\n",
    "        dists = set()\n",
    "        for i,pti in enumerate(pts):\n",
    "            for j,ptj in enumerate(pts):\n",
    "                if i!=j:\n",
    "                    if isdupe(pti,ptj): \n",
    "                        return False\n",
    "                    else:\n",
    "                        dists.add(distsq(pti,ptj))\n",
    "        return len(dists)==2"
   ]
  },
  {
   "cell_type": "code",
   "execution_count": 86,
   "metadata": {},
   "outputs": [
    {
     "data": {
      "text/plain": [
       "False"
      ]
     },
     "execution_count": 86,
     "metadata": {},
     "output_type": "execute_result"
    }
   ],
   "source": [
    "soln = Solution()\n",
    "soln.validSquare(p31,p32,p33,p34)"
   ]
  },
  {
   "cell_type": "markdown",
   "metadata": {},
   "source": [
    "## Day 12: 11/12/20\n",
    "### 47. Permutations II\n",
    "MEDIUM  \n",
    "https://leetcode.com/problems/permutations-ii/  \n",
    "https://leetcode.com/explore/challenge/card/november-leetcoding-challenge/565/week-2-november-8th-november-14th/3528/"
   ]
  },
  {
   "cell_type": "markdown",
   "metadata": {},
   "source": [
    "Given a collection of numbers, `nums`, that might contain duplicates, return *all possible unique permutations* ***in any order***.\n",
    "\n",
    " \n",
    "\n",
    "**Example 1:**\n",
    "```\n",
    "Input: nums = [1,1,2]\n",
    "Output:\n",
    "[[1,1,2],\n",
    " [1,2,1],\n",
    " [2,1,1]]\n",
    "```\n",
    "**Example 2:**\n",
    "```\n",
    "Input: nums = [1,2,3]\n",
    "Output: [[1,2,3],[1,3,2],[2,1,3],[2,3,1],[3,1,2],[3,2,1]]\n",
    "```\n",
    "\n",
    "**Constraints:**\n",
    "\n",
    "* `1 <= nums.length <= 8`\n",
    "* `-10 <= nums[i] <= 10`"
   ]
  },
  {
   "cell_type": "markdown",
   "metadata": {},
   "source": [
    "**Study Notes:**\n",
    "* classic backtracking problem\n",
    "* leetcode solution article: https://leetcode.com/problems/permutations-ii/solution/\n",
    "* leetcode discussion solution: "
   ]
  },
  {
   "cell_type": "code",
   "execution_count": 4,
   "metadata": {},
   "outputs": [],
   "source": [
    "nums1 = [1,1,2]\n",
    "nums2 = [1,2,3]"
   ]
  },
  {
   "cell_type": "code",
   "execution_count": 5,
   "metadata": {},
   "outputs": [],
   "source": [
    "class Solution:\n",
    "    def permuteUnique(self, nums: List[int]) -> List[List[int]]:\n",
    "        \n",
    "        return None"
   ]
  },
  {
   "cell_type": "code",
   "execution_count": 6,
   "metadata": {},
   "outputs": [],
   "source": [
    "soln = Solution()\n",
    "soln.permuteUnique(nums1)"
   ]
  },
  {
   "cell_type": "markdown",
   "metadata": {},
   "source": [
    "## Day 13: 11/13/20\n",
    "### 116. Populating Next Right Pointers in Each Node\n",
    "MEDIUM  \n",
    "https://leetcode.com/problems/populating-next-right-pointers-in-each-node/  \n",
    "https://leetcode.com/explore/challenge/card/november-leetcoding-challenge/565/week-2-november-8th-november-14th/3529/"
   ]
  },
  {
   "cell_type": "markdown",
   "metadata": {},
   "source": [
    "You are given a **perfect binary tree** where all leaves are on the same level, and every parent has two children. The binary tree has the following definition:\n",
    "```\n",
    "struct Node {\n",
    "  int val;\n",
    "  Node *left;\n",
    "  Node *right;\n",
    "  Node *next;\n",
    "}\n",
    "```\n",
    "Populate each next pointer to point to its next right node. If there is no next right node, the next pointer should be set to `NULL`.\n",
    "\n",
    "Initially, all next pointers are set to `NULL`.\n",
    "\n",
    " \n",
    "\n",
    "**Follow up:**\n",
    "\n",
    "* You may only use constant extra space.\n",
    "* Recursive approach is fine, you may assume implicit stack space does not count as extra space for this problem.\n",
    " \n",
    "\n",
    "**Example 1:**\n",
    "![https://assets.leetcode.com/uploads/2019/02/14/116_sample.png](https://assets.leetcode.com/uploads/2019/02/14/116_sample.png)\n",
    "```\n",
    "Input: root = [1,2,3,4,5,6,7]\n",
    "Output: [1,#,2,3,#,4,5,6,7,#]\n",
    "Explanation: Given the above perfect binary tree (Figure A), your function should populate each next pointer to point to its next right node, just like in Figure B. The serialized output is in level order as connected by the next pointers, with '#' signifying the end of each level.\n",
    "``` \n",
    "\n",
    "**Constraints:**\n",
    "\n",
    "* The number of nodes in the given tree is less than `4096`.\n",
    "* `-1000 <= node.val <= 1000`"
   ]
  },
  {
   "cell_type": "markdown",
   "metadata": {},
   "source": [
    "**Study Notes:**\n",
    "* leetcode discussion solution: https://leetcode.com/problems/populating-next-right-pointers-in-each-node/discuss/934066/Python-O(n)-time-O(log-n)-space-recursion-explained"
   ]
  },
  {
   "cell_type": "code",
   "execution_count": 4,
   "metadata": {},
   "outputs": [],
   "source": [
    "# Definition for a Node.\n",
    "class Node:\n",
    "    def __init__(self, val: int = 0, left: 'Node' = None, right: 'Node' = None, next: 'Node' = None):\n",
    "        self.val = val\n",
    "        self.left = left\n",
    "        self.right = right\n",
    "        self.next = next\n",
    "\n",
    "def mk_tree(nodes, i, n):\n",
    "    root = None\n",
    "    if (i < n) and nodes[i] is not None:\n",
    "        root = Node(nodes[i])\n",
    "        root.left = mk_tree(nodes, 2*i+1, len(nodes))\n",
    "        root.right = mk_tree(nodes, 2*i+2, len(nodes))\n",
    "    return root\n",
    "\n",
    "def prnt_tree(root):\n",
    "    q = [root]\n",
    "    nodes = []\n",
    "    while any(q):\n",
    "        node = q.pop(0) # use deque to optimize\n",
    "        if node:\n",
    "            nodes.append(node.val)\n",
    "            if node.left or node.right or any(q):\n",
    "                q.append(node.left)\n",
    "                q.append(node.right)\n",
    "        elif any(q):\n",
    "            nodes.append('null')\n",
    "    return nodes\n",
    "\n",
    "def prnt_ans(root):\n",
    "    ans = []\n",
    "    level = root\n",
    "    while level:\n",
    "        node = level\n",
    "        while node:\n",
    "            ans.append(node.val)\n",
    "            node = node.next\n",
    "        ans.append('#')\n",
    "        level = level.left\n",
    "    return ans"
   ]
  },
  {
   "cell_type": "code",
   "execution_count": 5,
   "metadata": {},
   "outputs": [],
   "source": [
    "nodes1 = [1,2,3,4,5,6,7]\n",
    "root1 = mk_tree(nodes1, 0, len(nodes1))"
   ]
  },
  {
   "cell_type": "code",
   "execution_count": 6,
   "metadata": {},
   "outputs": [
    {
     "data": {
      "text/plain": [
       "[1, 2, 3, 4, 5, 6, 7]"
      ]
     },
     "execution_count": 6,
     "metadata": {},
     "output_type": "execute_result"
    }
   ],
   "source": [
    "prnt_tree(root1)"
   ]
  },
  {
   "cell_type": "code",
   "execution_count": 12,
   "metadata": {},
   "outputs": [],
   "source": [
    "# recursive\n",
    "class Solution:\n",
    "    def connect(self, root: 'Node') -> 'Node':\n",
    "        if root and root.left:\n",
    "            root.left.next = root.right\n",
    "            if root.next:\n",
    "                root.right.next = root.next.left\n",
    "            self.connect(root.left)\n",
    "            self.connect(root.right)\n",
    "        \n",
    "        return root"
   ]
  },
  {
   "cell_type": "code",
   "execution_count": 8,
   "metadata": {},
   "outputs": [],
   "source": [
    "# alternative recursion from leetcode discussion\n",
    "class Solution:\n",
    "    def connect(self, root):\n",
    "        if not root or not root.left: return root\n",
    "        \n",
    "        self.connect(root.left)\n",
    "        self.connect(root.right)\n",
    "        \n",
    "        lft = root.left\n",
    "        rgh = root.right\n",
    "        lft.next = rgh\n",
    "\n",
    "        while lft.right: \n",
    "            lft = lft.right\n",
    "            rgh = rgh.left\n",
    "            lft.next = rgh\n",
    "        \n",
    "        return root"
   ]
  },
  {
   "cell_type": "code",
   "execution_count": 13,
   "metadata": {},
   "outputs": [
    {
     "data": {
      "text/plain": [
       "[1, '#', 2, 3, '#', 4, 5, 6, 7, '#']"
      ]
     },
     "execution_count": 13,
     "metadata": {},
     "output_type": "execute_result"
    }
   ],
   "source": [
    "nodes1 = [1,2,3,4,5,6,7]\n",
    "root1 = mk_tree(nodes1, 0, len(nodes1))\n",
    "soln = Solution()\n",
    "ans = soln.connect(root1)\n",
    "prnt_ans(ans)"
   ]
  },
  {
   "cell_type": "markdown",
   "metadata": {},
   "source": [
    "## Day 14: 11/14/20\n",
    "### 458. Poor Pigs\n",
    "HARD  \n",
    "https://leetcode.com/problems/poor-pigs/  \n",
    "https://leetcode.com/explore/challenge/card/november-leetcoding-challenge/565/week-2-november-8th-november-14th/3530/"
   ]
  },
  {
   "cell_type": "markdown",
   "metadata": {},
   "source": [
    "There are 1000 buckets, one and only one of them is poisonous, while the rest are filled with water. They all look identical. If a pig drinks the poison it will die within 15 minutes. What is the minimum amount of pigs you need to figure out which bucket is poisonous within one hour?\n",
    "\n",
    "Answer this question, and write an algorithm for the general case.\n",
    "\n",
    " \n",
    "\n",
    "**General case:**\n",
    "\n",
    "If there are `n` buckets and a pig drinking poison will die within `m` minutes, how many pigs (`x`) you need to figure out the poisonous bucket within `p` minutes? There is exactly one bucket with poison.\n",
    "\n",
    " \n",
    "\n",
    "**Note:**\n",
    "\n",
    "1. A pig can be allowed to drink simultaneously on as many buckets as one would like, and the feeding takes no time.\n",
    "2. After a pig has instantly finished drinking buckets, there has to be a cool down time of m minutes. During this time, only observation is allowed and no feedings at all.\n",
    "3. Any given bucket can be sampled an infinite number of times (by an unlimited number of pigs)."
   ]
  },
  {
   "cell_type": "markdown",
   "metadata": {},
   "source": [
    "**Study Notes:**\n",
    "* This is actually computer science bit information storage in disguise; relates to how bits store information in computers\n",
    "* leetcode discussion explanations:\n",
    "    * https://leetcode.com/problems/poor-pigs/discuss/935172/Two-diagrams-to-help-understanding\n",
    "    * https://leetcode.com/problems/poor-pigs/discuss/935112/Python-Math-solution-detailed-expanations"
   ]
  },
  {
   "cell_type": "code",
   "execution_count": 3,
   "metadata": {},
   "outputs": [],
   "source": [
    "n1,m1,p1 = 1000, 15, 15"
   ]
  },
  {
   "cell_type": "code",
   "execution_count": 4,
   "metadata": {},
   "outputs": [],
   "source": [
    "class Solution:\n",
    "    def poorPigs(self, buckets: int, minutesToDie: int, minutesToTest: int) -> int:\n",
    "        \n",
    "        return None"
   ]
  },
  {
   "cell_type": "code",
   "execution_count": 8,
   "metadata": {},
   "outputs": [],
   "source": [
    "# from leetcode discussion\n",
    "from math import ceil, log\n",
    "class Solution:\n",
    "    def poorPigs(self, buckets, minutesToDie, minutesToTest):\n",
    "        return ceil(log(buckets)/log(minutesToTest//minutesToDie + 1))"
   ]
  },
  {
   "cell_type": "code",
   "execution_count": 7,
   "metadata": {},
   "outputs": [
    {
     "data": {
      "text/plain": [
       "10"
      ]
     },
     "execution_count": 7,
     "metadata": {},
     "output_type": "execute_result"
    }
   ],
   "source": [
    "soln = Solution()\n",
    "soln.poorPigs(n1,m1,p1)"
   ]
  },
  {
   "cell_type": "markdown",
   "metadata": {},
   "source": [
    "## Day 15: 11/15/20\n",
    "### 938. Range Sum of BST\n",
    "EASY  \n",
    "https://leetcode.com/problems/range-sum-of-bst/  \n",
    "https://leetcode.com/explore/challenge/card/november-leetcoding-challenge/566/week-3-november-15th-november-21st/3532/"
   ]
  },
  {
   "cell_type": "markdown",
   "metadata": {},
   "source": [
    "Given the `root` node of a binary search tree, return *the sum of values of all nodes with a value in the range `[low, high]`*.\n",
    "\n",
    " \n",
    "\n",
    "**Example 1:**\n",
    "![https://assets.leetcode.com/uploads/2020/11/05/bst1.jpg](https://assets.leetcode.com/uploads/2020/11/05/bst1.jpg)\n",
    "```\n",
    "Input: root = [10,5,15,3,7,null,18], low = 7, high = 15\n",
    "Output: 32\n",
    "```\n",
    "**Example 2:**\n",
    "![https://assets.leetcode.com/uploads/2020/11/05/bst2.jpg](https://assets.leetcode.com/uploads/2020/11/05/bst2.jpg)\n",
    "```\n",
    "Input: root = [10,5,15,3,7,13,18,1,null,6], low = 6, high = 10\n",
    "Output: 23\n",
    "```\n",
    "\n",
    "**Constraints:**\n",
    "\n",
    "* The number of nodes in the tree is in the range `[1, 2 * 10^4]`.\n",
    "* `1 <= Node.val <= 10^5`\n",
    "* `1 <= low <= high <= 10^5`\n",
    "* All `Node.val` are **unique**."
   ]
  },
  {
   "cell_type": "markdown",
   "metadata": {},
   "source": [
    "**Study Notes:**\n",
    "* leetcode solution article: https://leetcode.com/problems/range-sum-of-bst/solution/\n",
    "* leetcode discussion solution: https://leetcode.com/problems/range-sum-of-bst/discuss/936480/Python-Simple-dfs-explained"
   ]
  },
  {
   "cell_type": "code",
   "execution_count": 25,
   "metadata": {},
   "outputs": [],
   "source": [
    "# Definition for a binary tree node.\n",
    "class TreeNode:\n",
    "    def __init__(self, val=0, left=None, right=None):\n",
    "        self.val = val\n",
    "        self.left = left\n",
    "        self.right = right\n",
    "        \n",
    "def mk_tree(nodes, i, n):\n",
    "    root = None\n",
    "    if (i < n) and nodes[i] is not None:\n",
    "        root = TreeNode(nodes[i])\n",
    "        root.left = mk_tree(nodes, 2*i+1, len(nodes))\n",
    "        root.right = mk_tree(nodes, 2*i+2, len(nodes))\n",
    "    return root\n",
    "\n",
    "def prnt_tree(root):\n",
    "    nodes = []\n",
    "    q = [root]\n",
    "    while any(q):\n",
    "        node = q.pop(0)\n",
    "        if node:\n",
    "            nodes.append(node.val)\n",
    "            if node.left or node.right or any(q):\n",
    "                q.append(node.left)\n",
    "                q.append(node.right)\n",
    "        elif any(q):\n",
    "            nodes.append('null')\n",
    "    return nodes"
   ]
  },
  {
   "cell_type": "code",
   "execution_count": 23,
   "metadata": {},
   "outputs": [],
   "source": [
    "nodes1 = [10,5,15,3,7,None,18]\n",
    "root1,low1,high1 = mk_tree(nodes1,0,len(nodes1)), 7, 15\n",
    "nodes2 = [10,5,15,3,7,13,18,1,None,6]\n",
    "root2,low2,high2 = mk_tree(nodes2,0,len(nodes2)), 6, 10"
   ]
  },
  {
   "cell_type": "code",
   "execution_count": 24,
   "metadata": {},
   "outputs": [
    {
     "data": {
      "text/plain": [
       "[10, 5, 15, 3, 7, 13, 18, 1, 'null', 6]"
      ]
     },
     "execution_count": 24,
     "metadata": {},
     "output_type": "execute_result"
    }
   ],
   "source": [
    "prnt_tree(root2)"
   ]
  },
  {
   "cell_type": "code",
   "execution_count": 26,
   "metadata": {},
   "outputs": [],
   "source": [
    "class Solution:\n",
    "    def rangeSumBST(self, root: TreeNode, low: int, high: int) -> int:\n",
    "        total = 0\n",
    "        if root:\n",
    "            if root.val > low:\n",
    "                total += self.rangeSumBST(root.left,low,high)\n",
    "            if root.val < high:\n",
    "                total += self.rangeSumBST(root.right,low,high)\n",
    "            if root.val >= low and root.val <= high:\n",
    "                total += root.val\n",
    "                \n",
    "        return total"
   ]
  },
  {
   "cell_type": "code",
   "execution_count": 27,
   "metadata": {},
   "outputs": [
    {
     "data": {
      "text/plain": [
       "23"
      ]
     },
     "execution_count": 27,
     "metadata": {},
     "output_type": "execute_result"
    }
   ],
   "source": [
    "soln = Solution()\n",
    "soln.rangeSumBST(root2,low2,high2)"
   ]
  },
  {
   "cell_type": "markdown",
   "metadata": {},
   "source": [
    "## Day 16: 11/16/20\n",
    "### 845. Longest Mountain in Array\n",
    "MEDIUM  \n",
    "https://leetcode.com/problems/longest-mountain-in-array/  \n",
    "https://leetcode.com/explore/challenge/card/november-leetcoding-challenge/566/week-3-november-15th-november-21st/3533/"
   ]
  },
  {
   "cell_type": "markdown",
   "metadata": {},
   "source": [
    "Let's call any (contiguous) subarray B (of A) a *mountain* if the following properties hold:\n",
    "\n",
    "* `B.length >= 3`\n",
    "* There exists some `0 < i < B.length - 1` such that `B[0] < B[1] < ... B[i-1] < B[i] > B[i+1] > ... > B[B.length - 1]`\n",
    "\n",
    "(Note that B could be any subarray of A, including the entire array A.)\n",
    "\n",
    "Given an array `A` of integers, return the length of the longest mountain. \n",
    "\n",
    "Return `0` if there is no mountain.\n",
    "\n",
    "**Example 1:**\n",
    "```\n",
    "Input: [2,1,4,7,3,2,5]\n",
    "Output: 5\n",
    "Explanation: The largest mountain is [1,4,7,3,2] which has length 5.\n",
    "```\n",
    "**Example 2:**\n",
    "```\n",
    "Input: [2,2,2]\n",
    "Output: 0\n",
    "Explanation: There is no mountain.\n",
    "```\n",
    "**Note:**\n",
    "\n",
    "* `0 <= A.length <= 10000`\n",
    "* `0 <= A[i] <= 10000`\n",
    "\n",
    "**Follow up:**\n",
    "\n",
    "* Can you solve it using only one pass?\n",
    "* Can you solve it in O(1) space?"
   ]
  },
  {
   "cell_type": "code",
   "execution_count": 35,
   "metadata": {},
   "outputs": [],
   "source": [
    "A1 = [2,1,4,7,3,2,5]\n",
    "A2 = [2,2,2]\n",
    "A3 = [1,1,0,0,1,0]"
   ]
  },
  {
   "cell_type": "code",
   "execution_count": 64,
   "metadata": {},
   "outputs": [],
   "source": [
    "class Solution:\n",
    "    def longestMountain(self, A: List[int]) -> int:\n",
    "        maxheight,height = 0,0\n",
    "        asc, dsc, prevn = None, None, None\n",
    "        for n in A:\n",
    "            if (prevn is not None) and (n > prevn):\n",
    "#                 print('will this ever trigger')\n",
    "                if dsc and dsc > 0:\n",
    "                    height = min(asc,dsc)*2+1\n",
    "                    maxheight = max(maxheight,height)\n",
    "                    asc, dsc = None, None\n",
    "#                 print('wtf is asc at:',asc)\n",
    "                if asc is None:\n",
    "                    asc = 1\n",
    "                else:\n",
    "                    asc += 1\n",
    "#                     print('asc set to:',asc)\n",
    "            elif (prevn is not None) and (n < prevn) and asc:\n",
    "                if dsc:\n",
    "                    dsc += 1\n",
    "                else:\n",
    "                    dsc = 1\n",
    "            elif asc and dsc:\n",
    "                height = min(asc,dsc)*2+1\n",
    "                maxheight = max(maxheight,height)\n",
    "                asc, dsc = None, None\n",
    "#             print('prevn:',prevn, 'n:',n)\n",
    "            prevn = n\n",
    "#             print('asc:',asc,'dsc:',dsc)\n",
    "\n",
    "        if asc and dsc:\n",
    "            height = min(asc,dsc)*2+1\n",
    "            maxheight = max(maxheight,height)        \n",
    "        return maxheight"
   ]
  },
  {
   "cell_type": "code",
   "execution_count": 68,
   "metadata": {},
   "outputs": [],
   "source": [
    "class Solution:\n",
    "    def longestMountain(self, A: List[int]) -> int:\n",
    "        maxheight,height = 0,0\n",
    "        asc, dsc, prevn = None, None, None\n",
    "        for n in A:\n",
    "            if (prevn is not None) and (n > prevn):\n",
    "                if dsc and dsc > 0:\n",
    "                    height = min(asc,dsc)*2+1\n",
    "                    maxheight = max(maxheight,height)\n",
    "                    asc, dsc = None, None\n",
    "                if asc is None:\n",
    "                    asc = 1\n",
    "                else:\n",
    "                    asc += 1\n",
    "            elif (prevn is not None) and (n < prevn) and asc:\n",
    "                if dsc:\n",
    "                    dsc += 1\n",
    "                else:\n",
    "                    dsc = 1\n",
    "            elif asc and dsc:\n",
    "                height = min(asc,dsc)*2+1\n",
    "                maxheight = max(maxheight,height)\n",
    "                asc, dsc = None, None\n",
    "            prevn = n\n",
    "\n",
    "        if asc and dsc:\n",
    "            height = min(asc,dsc)*2+1\n",
    "            maxheight = max(maxheight,height)        \n",
    "        return maxheight"
   ]
  },
  {
   "cell_type": "code",
   "execution_count": 69,
   "metadata": {},
   "outputs": [
    {
     "data": {
      "text/plain": [
       "5"
      ]
     },
     "execution_count": 69,
     "metadata": {},
     "output_type": "execute_result"
    }
   ],
   "source": [
    "soln = Solution()\n",
    "soln.longestMountain(A1)"
   ]
  },
  {
   "cell_type": "markdown",
   "metadata": {},
   "source": [
    "## Day 17: 11/17/20\n",
    "### 858. Mirror Reflection\n",
    "MEDIUM  \n",
    "https://leetcode.com/problems/mirror-reflection/  \n",
    "https://leetcode.com/explore/challenge/card/november-leetcoding-challenge/566/week-3-november-15th-november-21st/3534/"
   ]
  },
  {
   "cell_type": "markdown",
   "metadata": {},
   "source": [
    "There is a special square room with mirrors on each of the four walls.  Except for the southwest corner, there are receptors on each of the remaining corners, numbered `0`, `1`, and `2`.\n",
    "\n",
    "The square room has walls of length `p`, and a laser ray from the southwest corner first meets the east wall at a distance `q` from the `0`th receptor.\n",
    "\n",
    "Return the number of the receptor that the ray meets first.  (It is guaranteed that the ray will meet a receptor eventually.)\n",
    "\n",
    " \n",
    "\n",
    "**Example 1:**\n",
    "```\n",
    "Input: p = 2, q = 1\n",
    "Output: 2\n",
    "Explanation: The ray meets receptor 2 the first time it gets reflected back to the left wall.\n",
    "```\n",
    "![https://s3-lc-upload.s3.amazonaws.com/uploads/2018/06/18/reflection.png](https://s3-lc-upload.s3.amazonaws.com/uploads/2018/06/18/reflection.png)\n",
    "**Note:**\n",
    "\n",
    "* `1 <= p <= 1000`\n",
    "* `0 <= q <= p`"
   ]
  },
  {
   "cell_type": "markdown",
   "metadata": {},
   "source": [
    "**Study Notes:**\n",
    "* math-heavy problem\n",
    "* two solutions \n",
    "    1. simulate ray:  \n",
    "        * The parameterized position of the laser after time `t` will be `(x + rx * t, y + ry * t)`. From there, we know when it will meet the east wall (if `x + rx * t == p`), and so on. For a positive (and nonnegligible) time `t`, it meets the next wall.\n",
    "        * We can then calculate how the ray reflects. If it hits an east or west wall, then `rx *= -1`, else `ry *= -1`.\n",
    "    2. treat ray as a straight line traveling through mirror reflections of the room\n",
    "        * Instead of modelling the ray as a bouncing line, model it as a straight line through reflections of the room.\n",
    "        * For example, if `p = 2`, `q = 1`, then we can reflect the room horizontally, and draw a straight line from `(0, 0)` to `(4, 2)`. The ray meets the receptor 2, which was reflected from `(0, 2)` to `(4, 2)`.\n",
    "        * In general, the ray goes to the first integer point `(kp, kq)` where `k` is an integer, and `kp` and `kq` are multiples of `p`. Thus, the goal is just to find the smallest `k` for which `kq` is a multiple of `p`.\n",
    "        * image example: ![https://assets.leetcode.com/users/images/04613b0d-5fd5-462d-a6dd-db0f82164451_1605601104.06233.png](https://assets.leetcode.com/users/images/04613b0d-5fd5-462d-a6dd-db0f82164451_1605601104.06233.png)\n",
    "\n",
    "        * The mathematical answer is `k = p / gcd(p, q)`.\n",
    "        * to determine which corner the beam finally hits, we can calculate whether `kp` and `kq` are even or odd multiples of `p` and `q`\n",
    "* leetcode solution article: https://leetcode.com/problems/mirror-reflection/solution/\n",
    "* leetcode discussion solution (straight line solution): https://leetcode.com/problems/mirror-reflection/discuss/938792/Python-Oneliner-solution-with-diagram-explained"
   ]
  },
  {
   "cell_type": "code",
   "execution_count": 108,
   "metadata": {},
   "outputs": [],
   "source": [
    "p1,q1 = 2, 1\n",
    "p2,q2 = 15,12"
   ]
  },
  {
   "cell_type": "code",
   "execution_count": 105,
   "metadata": {},
   "outputs": [],
   "source": [
    "from math import gcd\n",
    "class Solution:\n",
    "    def mirrorReflection(self, p: int, q: int) -> int:\n",
    "        g = gcd(p,q)\n",
    "        k = p/g\n",
    "        # check whether kp is even/odd multiple of p\n",
    "        np = 0 if (k*p) % 2 == 0 else 1\n",
    "        # check whether kq is even/odd multiple of p\n",
    "        nq = 0 if (k*q) % 2 == 0 else 1\n",
    "        return (np,nq)"
   ]
  },
  {
   "cell_type": "code",
   "execution_count": 111,
   "metadata": {},
   "outputs": [],
   "source": [
    "# from leetcode solution article\n",
    "class Solution:\n",
    "    def mirrorReflection(self, p: int, q: int) -> int:\n",
    "        g = gcd(p,q)\n",
    "        p = (p / g) % 2\n",
    "        q = (q / g) % 2\n",
    "\n",
    "        return 1 if p and q else 0 if p else 2"
   ]
  },
  {
   "cell_type": "code",
   "execution_count": 112,
   "metadata": {},
   "outputs": [
    {
     "data": {
      "text/plain": [
       "2"
      ]
     },
     "execution_count": 112,
     "metadata": {},
     "output_type": "execute_result"
    }
   ],
   "source": [
    "soln = Solution()\n",
    "soln.mirrorReflection(p1,q1)"
   ]
  },
  {
   "cell_type": "markdown",
   "metadata": {},
   "source": [
    "## 11/18/20\n",
    "### 56. Merge Intervals\n",
    "MEDIUM  \n",
    "https://leetcode.com/problems/merge-intervals/  \n",
    "https://leetcode.com/explore/challenge/card/november-leetcoding-challenge/566/week-3-november-15th-november-21st/3535/"
   ]
  },
  {
   "cell_type": "markdown",
   "metadata": {},
   "source": [
    "Given an array of `intervals` where `intervals[i] = [start_i, end_i]`, merge all overlapping intervals, and return *an array of the non-overlapping intervals that cover all the intervals in the input*.\n",
    "\n",
    " \n",
    "\n",
    "**Example 1:**\n",
    "```\n",
    "Input: intervals = [[1,3],[2,6],[8,10],[15,18]]\n",
    "Output: [[1,6],[8,10],[15,18]]\n",
    "Explanation: Since intervals [1,3] and [2,6] overlaps, merge them into [1,6].\n",
    "```\n",
    "**Example 2:**\n",
    "```\n",
    "Input: intervals = [[1,4],[4,5]]\n",
    "Output: [[1,5]]\n",
    "Explanation: Intervals [1,4] and [4,5] are considered overlapping.\n",
    "```\n",
    "\n",
    "**Constraints:**\n",
    "\n",
    "* `1 <= intervals.length <= 10^4`\n",
    "* `intervals[i].length == 2`\n",
    "* `0 <= start_i <= end_i <= 104^`"
   ]
  },
  {
   "cell_type": "code",
   "execution_count": 24,
   "metadata": {},
   "outputs": [],
   "source": [
    "intervals1 = [[1,3],[2,6],[8,10],[15,18]]\n",
    "intervals2 = [[1,4],[4,5]]\n",
    "intervals3 = [[1,4],[0,4]]\n",
    "intervals4 = [[1,4],[0,0]]"
   ]
  },
  {
   "cell_type": "code",
   "execution_count": 25,
   "metadata": {},
   "outputs": [],
   "source": [
    "class Solution:\n",
    "    def merge(self, intervals: List[List[int]]) -> List[List[int]]:\n",
    "        if len(intervals) == 0:\n",
    "            return []\n",
    "        \n",
    "        intervals = sorted(intervals, key = lambda x: x[0])\n",
    "        ans = [intervals[0]]\n",
    "        for i in range(1,len(intervals)):\n",
    "            end = ans[-1][1]\n",
    "            start = intervals[i][0]\n",
    "            if start <= end: # merge\n",
    "                ans[-1][0] = min(ans[-1][0],intervals[i][0])\n",
    "                ans[-1][1] = max(ans[-1][1],intervals[i][1])\n",
    "            else:\n",
    "                ans.append(intervals[i])\n",
    "        return ans"
   ]
  },
  {
   "cell_type": "code",
   "execution_count": 30,
   "metadata": {},
   "outputs": [],
   "source": [
    "# more concise code\n",
    "class Solution:\n",
    "    def merge(self, intervals: List[List[int]]) -> List[List[int]]:\n",
    "        ans = []\n",
    "        intervals = sorted(intervals, key = lambda x: x[0])\n",
    "        for i in intervals:\n",
    "            if ans and i[0] <= ans[-1][1]: # merge\n",
    "                ans[-1][1] = max(ans[-1][1],i[1])\n",
    "            else:\n",
    "                ans.append(i) # handles edge case of first iteration\n",
    "        return ans"
   ]
  },
  {
   "cell_type": "code",
   "execution_count": 34,
   "metadata": {},
   "outputs": [
    {
     "data": {
      "text/plain": [
       "[[1, 6], [8, 10], [15, 18]]"
      ]
     },
     "execution_count": 34,
     "metadata": {},
     "output_type": "execute_result"
    }
   ],
   "source": [
    "soln = Solution()\n",
    "soln.merge(intervals1)"
   ]
  },
  {
   "cell_type": "markdown",
   "metadata": {},
   "source": [
    "## Day 19: 11/19/20\n",
    "### 394. Decode String\n",
    "MEDIUM  \n",
    "https://leetcode.com/problems/decode-string/  \n",
    "https://leetcode.com/explore/challenge/card/november-leetcoding-challenge/566/week-3-november-15th-november-21st/3536/"
   ]
  },
  {
   "cell_type": "markdown",
   "metadata": {},
   "source": [
    "Given an encoded string, return its decoded string.\n",
    "\n",
    "The encoding rule is: `k[encoded_string]`, where the *encoded_string* inside the square brackets is being repeated exactly *k* times. Note that *k* is guaranteed to be a positive integer.\n",
    "\n",
    "You may assume that the input string is always valid; No extra white spaces, square brackets are well-formed, etc.\n",
    "\n",
    "Furthermore, you may assume that the original data does not contain any digits and that digits are only for those repeat numbers, *k*. For example, there won't be input like `3a` or `2[4]`.\n",
    "\n",
    " \n",
    "\n",
    "**Example 1:**\n",
    "```\n",
    "Input: s = \"3[a]2[bc]\"\n",
    "Output: \"aaabcbc\"\n",
    "```\n",
    "**Example 2:**\n",
    "```\n",
    "Input: s = \"3[a2[c]]\"\n",
    "Output: \"accaccacc\"\n",
    "```\n",
    "**Example 3:**\n",
    "```\n",
    "Input: s = \"2[abc]3[cd]ef\"\n",
    "Output: \"abcabccdcdcdef\"\n",
    "```\n",
    "**Example 4:**\n",
    "```\n",
    "Input: s = \"abc3[cd]xyz\"\n",
    "Output: \"abccdcdcdxyz\"\n",
    "```\n",
    "\n",
    "**Constraints:**\n",
    "\n",
    "* `1 <= s.length <= 30`\n",
    "* `s` consists of lowercase English letters, digits, and square brackets `'[]'`.\n",
    "* `s` is guaranteed to be a valid input.\n",
    "* All the integers in s are in the range `[1, 300]`."
   ]
  },
  {
   "cell_type": "markdown",
   "metadata": {},
   "source": [
    "**Study Notes:**\n",
    "* surprisingly tricky, need to be careful:\n",
    "    1. Integer value could be multiple digits. Need to use open bracket `[` as an indicator that the integer has been fully parsed (e.g. `300` vs just `3`)\n",
    "    2. Need to use stack structure to account for multiple nested encodings (e.g. `3[a2[c]]]`)\n",
    "* leetcode discussion solution (stack): https://leetcode.com/problems/decode-string/discuss/941309/Python-Stack-solution-explained\n",
    "* leetcode discussion solution (DFS recursion): https://leetcode.com/problems/decode-string/discuss/941382/Python-DFS-with-comments\n",
    "    * idea is to use a helper var `bal` to help segment the string for recursion"
   ]
  },
  {
   "cell_type": "code",
   "execution_count": 31,
   "metadata": {},
   "outputs": [],
   "source": [
    "s1 = \"3[a]2[bc]\"\n",
    "s2 = \"3[a2[c]]\"\n",
    "s3 = \"2[abc]3[cd]ef\"\n",
    "s4 = \"abc3[cd]xyz\""
   ]
  },
  {
   "cell_type": "code",
   "execution_count": 34,
   "metadata": {},
   "outputs": [],
   "source": [
    "# using only stack; use stack to build unencoded string while parsing encoded string\n",
    "class Solution:\n",
    "    def decodeString(self, s: str) -> str:\n",
    "        stk = []\n",
    "        n = 0\n",
    "        for c in s:\n",
    "            if c.isdigit():\n",
    "                n = n*10+int(c)\n",
    "            elif c == '[':\n",
    "                stk.append(n)\n",
    "                n = 0\n",
    "            elif c == ']': # build repeated string\n",
    "                subs = ''\n",
    "                while isinstance(stk[-1],str):\n",
    "                    subs = stk.pop()+subs\n",
    "                i = stk.pop()\n",
    "                stk.append(i*subs)   \n",
    "            else:\n",
    "                stk.append(c)\n",
    "        return ''.join(stk)"
   ]
  },
  {
   "cell_type": "code",
   "execution_count": 45,
   "metadata": {},
   "outputs": [],
   "source": [
    "# recursion\n",
    "class Solution:\n",
    "    def decodeString(self, s: str) -> str:\n",
    "        def recurse(s):\n",
    "            ans, n = '', ''\n",
    "            i = 0\n",
    "            while i < len(s):\n",
    "                c = s[i]\n",
    "                if c.isdigit():\n",
    "                    n += c \n",
    "                elif c == '[':\n",
    "                    # find s[j:i] that should be repeated n times\n",
    "                    j = i+1\n",
    "                    bal = 1\n",
    "                    while bal:\n",
    "                        i += 1\n",
    "                        if s[i] == '[': bal += 1\n",
    "                        if s[i] == ']': bal -=1\n",
    "                    ans += int(n)*recurse(s[j:i])\n",
    "                    n = '' # reset n\n",
    "                else:\n",
    "                    ans += c\n",
    "                i += 1\n",
    "            return ans\n",
    "        \n",
    "        return recurse(s)"
   ]
  },
  {
   "cell_type": "code",
   "execution_count": 46,
   "metadata": {},
   "outputs": [
    {
     "data": {
      "text/plain": [
       "'abccdcdcdxyz'"
      ]
     },
     "execution_count": 46,
     "metadata": {},
     "output_type": "execute_result"
    }
   ],
   "source": [
    "soln = Solution()\n",
    "soln.decodeString(s4)"
   ]
  },
  {
   "cell_type": "markdown",
   "metadata": {},
   "source": [
    "## Day 19: 11/19/20\n",
    "### 81. Search in Rotated Sorted Array II\n",
    "MEDIUM  \n",
    "https://leetcode.com/problems/search-in-rotated-sorted-array-ii/  \n",
    "https://leetcode.com/explore/challenge/card/november-leetcoding-challenge/566/week-3-november-15th-november-21st/3537/"
   ]
  },
  {
   "cell_type": "markdown",
   "metadata": {},
   "source": [
    "Suppose an array sorted in ascending order is rotated at some pivot unknown to you beforehand.\n",
    "\n",
    "(i.e., `[0,0,1,2,2,5,6]` might become `[2,5,6,0,0,1,2]`).\n",
    "\n",
    "You are given a target value to search. If found in the array return `true`, otherwise return `false`.\n",
    "\n",
    "**Example 1:**\n",
    "```\n",
    "Input: nums = [2,5,6,0,0,1,2], target = 0\n",
    "Output: true\n",
    "```\n",
    "**Example 2:**\n",
    "```\n",
    "Input: nums = [2,5,6,0,0,1,2], target = 3\n",
    "Output: false\n",
    "```\n",
    "**Follow up:**\n",
    "\n",
    "* This is a follow up problem to [Search in Rotated Sorted Array](https://leetcode.com/problems/search-in-rotated-sorted-array/description/), where `nums` may contain duplicates.\n",
    "* Would this affect the run-time complexity? How and why?"
   ]
  },
  {
   "cell_type": "markdown",
   "metadata": {},
   "source": [
    "**Study Notes:**\n",
    "* very similar to original problem [Search in Rotated Sorted Array](https://leetcode.com/problems/search-in-rotated-sorted-array/description/)\n",
    "* additional case of when `mid_val == pivot_val`:\n",
    "    * can't tell which subsection mid is part of, so shrink search space by `1` instead of by half since we know `target != pivot` (otherwise we just return `True`)"
   ]
  },
  {
   "cell_type": "code",
   "execution_count": 18,
   "metadata": {},
   "outputs": [],
   "source": [
    "nums1,target1 = [2,5,6,0,0,1,2], 0\n",
    "nums2,target2 = [2,5,6,0,0,1,2], 3\n",
    "nums3,target3 = [], 5\n",
    "nums4,target4 = [3,5,1], 1 # true"
   ]
  },
  {
   "cell_type": "code",
   "execution_count": 21,
   "metadata": {},
   "outputs": [],
   "source": [
    "class Solution:\n",
    "    def search(self, nums: List[int], target: int) -> bool:\n",
    "        left, right = 0, len(nums)-1\n",
    "        \n",
    "        while left <= right:\n",
    "            mid = (left + right)//2\n",
    "            pivot = nums[left]\n",
    "            \n",
    "            # check for found value\n",
    "            if pivot == target or nums[mid] == target:\n",
    "                return True\n",
    "            \n",
    "            # check whether mums[mid] is on same or different subsection as pivot\n",
    "            if nums[mid] > pivot:\n",
    "                if ((target > nums[mid]) and (target > pivot)) or ((target < nums[mid]) and (target < pivot)):\n",
    "                    left = mid + 1\n",
    "                else:\n",
    "                    right = mid # -1\n",
    "            elif nums[mid] < pivot:\n",
    "                if ((target > nums[mid]) and (target > pivot)) or ((target < nums[mid]) and (target < pivot)):\n",
    "                    right = mid # -1\n",
    "                else:\n",
    "                    left = mid + 1\n",
    "            else:\n",
    "                left += 1\n",
    "                \n",
    "        return False"
   ]
  },
  {
   "cell_type": "code",
   "execution_count": null,
   "metadata": {},
   "outputs": [],
   "source": [
    "class Solution:\n",
    "    def search(self, nums: List[int], target: int) -> bool:\n",
    "        left, right = 0, len(nums)-1\n",
    "        \n",
    "        while left <= right:\n",
    "            mid = (left + right)//2\n",
    "            pivot = nums[left]\n",
    "            \n",
    "            # check for found value\n",
    "            if pivot == target or nums[mid] == target:\n",
    "                return True\n",
    "            \n",
    "            # check whether mums[mid] is on same or different subsection as pivot\n",
    "            if nums[mid] > pivot: # same side, check right\n",
    "                if ((target > nums[mid]) and (target > pivot)) or ((target < nums[mid]) and (target < pivot)):\n",
    "                    left = mid + 1\n",
    "                else:\n",
    "                    right = mid\n",
    "            elif nums[mid] < pivot:\n",
    "                if ((target > nums[mid]) and (target > pivot)) or ((target < nums[mid]) and (target < pivot)):\n",
    "                    right = mid\n",
    "                else:\n",
    "                    left = mid + 1\n",
    "            else:\n",
    "                left += 1\n",
    "                \n",
    "        return False"
   ]
  },
  {
   "cell_type": "code",
   "execution_count": 23,
   "metadata": {},
   "outputs": [
    {
     "data": {
      "text/plain": [
       "True"
      ]
     },
     "execution_count": 23,
     "metadata": {},
     "output_type": "execute_result"
    }
   ],
   "source": [
    "soln = Solution()\n",
    "soln.search(nums4,target4)"
   ]
  }
 ],
 "metadata": {
  "kernelspec": {
   "display_name": "base (Python 3.7.7)",
   "language": "python",
   "name": "base"
  },
  "language_info": {
   "codemirror_mode": {
    "name": "ipython",
    "version": 3
   },
   "file_extension": ".py",
   "mimetype": "text/x-python",
   "name": "python",
   "nbconvert_exporter": "python",
   "pygments_lexer": "ipython3",
   "version": "3.7.7"
  }
 },
 "nbformat": 4,
 "nbformat_minor": 4
}
