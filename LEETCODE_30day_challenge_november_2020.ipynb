{
 "cells": [
  {
   "cell_type": "code",
   "execution_count": 1,
   "metadata": {},
   "outputs": [],
   "source": [
    "from typing import List"
   ]
  },
  {
   "cell_type": "code",
   "execution_count": 2,
   "metadata": {},
   "outputs": [],
   "source": [
    "# tree practice\n",
    "def constructtree(nodes, i, n):\n",
    "    root = None\n",
    "    if (i < n) and nodes[i] is not None:\n",
    "        root = nodes[i]\n",
    "        root.left = constructtree(nodes, 2*i+1, len(nodes))\n",
    "        root.right = constructtree(nodes, 2*i+2, len(nodes))\n",
    "    return root\n",
    "\n",
    "def printtree(root):\n",
    "    q = [root]\n",
    "    nodes = []\n",
    "    while any(q):\n",
    "        node = q.pop(0) # can use deque instead to optimize\n",
    "        if node:\n",
    "            nodes.append(node.val)\n",
    "            if node.left or node.right or any(q):\n",
    "                q.append(node.left)\n",
    "                q.append(node.right)\n",
    "        elif any(q): # if node is None AND there's still stuff in q to process\n",
    "            nodes.append('null')\n",
    "    return nodes"
   ]
  },
  {
   "cell_type": "markdown",
   "metadata": {},
   "source": [
    "## Day 1: 11/1/20\n",
    "### 1290. Convert Binary Number in a Linked List to Integer\n",
    "EASY  \n",
    "https://leetcode.com/problems/convert-binary-number-in-a-linked-list-to-integer/  \n",
    "https://leetcode.com/explore/challenge/card/november-leetcoding-challenge/564/week-1-november-1st-november-7th/3516/"
   ]
  },
  {
   "cell_type": "markdown",
   "metadata": {},
   "source": [
    "Given `head` which is a reference node to a singly-linked list. The value of each node in the linked list is either 0 or 1. The linked list holds the binary representation of a number.\n",
    "\n",
    "Return the *decimal value* of the number in the linked list.\n",
    "\n",
    " \n",
    "\n",
    "**Example 1:**\n",
    "![https://assets.leetcode.com/uploads/2019/12/05/graph-1.png](https://assets.leetcode.com/uploads/2019/12/05/graph-1.png)\n",
    "```\n",
    "Input: head = [1,0,1]\n",
    "Output: 5\n",
    "Explanation: (101) in base 2 = (5) in base 10\n",
    "```\n",
    "**Example 2:**\n",
    "```\n",
    "Input: head = [0]\n",
    "Output: 0\n",
    "```\n",
    "**Example 3:**\n",
    "```\n",
    "Input: head = [1]\n",
    "Output: 1\n",
    "```\n",
    "**Example 4:**\n",
    "```\n",
    "Input: head = [1,0,0,1,0,0,1,1,1,0,0,0,0,0,0]\n",
    "Output: 18880\n",
    "```\n",
    "**Example 5:**\n",
    "```\n",
    "Input: head = [0,0]\n",
    "Output: 0\n",
    "```\n",
    "\n",
    "**Constraints:**\n",
    "\n",
    "* The Linked List is not empty.\n",
    "* Number of nodes will not exceed `30`.\n",
    "* Each node's value is either `0` or `1`."
   ]
  },
  {
   "cell_type": "markdown",
   "metadata": {},
   "source": [
    "**Study Notes:**\n",
    "* leetcode discussion solution: https://leetcode.com/problems/convert-binary-number-in-a-linked-list-to-integer/discuss/918946/Python-simple-O(n)-solution-explained\n",
    "    * uses binary math"
   ]
  },
  {
   "cell_type": "code",
   "execution_count": 4,
   "metadata": {},
   "outputs": [],
   "source": [
    "# Definition for singly-linked list.\n",
    "class ListNode:\n",
    "    def __init__(self, val=0, next=None):\n",
    "        self.val = val\n",
    "        self.next = next\n",
    "        \n",
    "def mk_slist(nodes):\n",
    "    pln = None\n",
    "    for n in nodes[::-1]:\n",
    "        ln = ListNode(n)\n",
    "        ln.next = pln\n",
    "        pln = ln\n",
    "    return ln\n",
    "\n",
    "def prnt_list(head):\n",
    "    s = ''\n",
    "    while head:\n",
    "        s += str(head.val)\n",
    "        head = head.next\n",
    "        if head:\n",
    "            s += ' -> '\n",
    "    return s"
   ]
  },
  {
   "cell_type": "code",
   "execution_count": 13,
   "metadata": {},
   "outputs": [],
   "source": [
    "nodes1 = [1,0,1]\n",
    "head1 = mk_slist(nodes1)\n",
    "nodes2 = [0]\n",
    "head2 = mk_slist(nodes2)\n",
    "nodes3 = [1]\n",
    "head3 = mk_slist(nodes3)\n",
    "nodes4 = [1,0,0,1,0,0,1,1,1,0,0,0,0,0,0]\n",
    "head4 = mk_slist(nodes4)\n",
    "nodes5 = [0,0]\n",
    "head5 = mk_slist(nodes5)\n",
    "nodes6 = [1,0,1,1,0,0]\n",
    "head6 = mk_slist(nodes6)"
   ]
  },
  {
   "cell_type": "code",
   "execution_count": 15,
   "metadata": {},
   "outputs": [
    {
     "data": {
      "text/plain": [
       "'1 -> 0 -> 1 -> 1 -> 0 -> 0'"
      ]
     },
     "execution_count": 15,
     "metadata": {},
     "output_type": "execute_result"
    }
   ],
   "source": [
    "prnt_list(head6)"
   ]
  },
  {
   "cell_type": "code",
   "execution_count": 32,
   "metadata": {},
   "outputs": [],
   "source": [
    "class Solution:\n",
    "    def getDecimalValue(self, head: ListNode) -> int:\n",
    "        binary = []\n",
    "        while head:\n",
    "            binary.append(str(head.val))\n",
    "            head = head.next\n",
    "        return int(''.join(binary),2)"
   ]
  },
  {
   "cell_type": "code",
   "execution_count": 20,
   "metadata": {},
   "outputs": [],
   "source": [
    "# binary math\n",
    "class Solution:\n",
    "    def getDecimalValue(self, head: ListNode) -> int:\n",
    "        s = 0\n",
    "        while head:\n",
    "            s = 2*s + head.val\n",
    "            head = head.next\n",
    "        return s"
   ]
  },
  {
   "cell_type": "code",
   "execution_count": 21,
   "metadata": {},
   "outputs": [
    {
     "data": {
      "text/plain": [
       "[1, 0, 0, 1, 0, 0, 1, 1, 1, 0, 0, 0, 0, 0, 0]"
      ]
     },
     "execution_count": 21,
     "metadata": {},
     "output_type": "execute_result"
    }
   ],
   "source": [
    "nodes4"
   ]
  },
  {
   "cell_type": "code",
   "execution_count": 22,
   "metadata": {},
   "outputs": [
    {
     "data": {
      "text/plain": [
       "5"
      ]
     },
     "execution_count": 22,
     "metadata": {},
     "output_type": "execute_result"
    }
   ],
   "source": [
    "soln = Solution()\n",
    "soln.getDecimalValue(head1)"
   ]
  },
  {
   "cell_type": "markdown",
   "metadata": {},
   "source": [
    "## Day 2: 11/2/20\n",
    "### 147. Insertion Sort List\n",
    "MEDIUM  \n",
    "https://leetcode.com/problems/insertion-sort-list/  \n",
    "https://leetcode.com/explore/challenge/card/november-leetcoding-challenge/564/week-1-november-1st-november-7th/3517/"
   ]
  },
  {
   "cell_type": "markdown",
   "metadata": {},
   "source": [
    "Sort a linked list using insertion sort.\n",
    "![https://upload.wikimedia.org/wikipedia/commons/0/0f/Insertion-sort-example-300px.gif](https://upload.wikimedia.org/wikipedia/commons/0/0f/Insertion-sort-example-300px.gif)\n",
    "\n",
    "A graphical example of insertion sort. The partial sorted list (black) initially contains only the first element in the list.\n",
    "With each iteration one element (red) is removed from the input data and inserted in-place into the sorted list\n",
    " \n",
    "\n",
    "**Algorithm of Insertion Sort:**\n",
    "\n",
    "1. Insertion sort iterates, consuming one input element each repetition, and growing a sorted output list.\n",
    "2. At each iteration, insertion sort removes one element from the input data, finds the location it belongs within the sorted list, and inserts it there.\n",
    "3. It repeats until no input elements remain.\n",
    "\n",
    "**Example 1:**\n",
    "```\n",
    "Input: 4->2->1->3\n",
    "Output: 1->2->3->4\n",
    "```\n",
    "**Example 2:**\n",
    "```\n",
    "Input: -1->5->3->4->0\n",
    "Output: -1->0->3->4->5\n",
    "```"
   ]
  },
  {
   "cell_type": "markdown",
   "metadata": {},
   "source": [
    "**Study Notes:**\n",
    "* solution article: https://leetcode.com/problems/insertion-sort-list/solution/\n",
    "* leetcode discussion solution: https://leetcode.com/problems/insertion-sort-list/discuss/920371/Python-Insertion-Sort-explained"
   ]
  },
  {
   "cell_type": "code",
   "execution_count": 35,
   "metadata": {},
   "outputs": [],
   "source": [
    "# Definition for singly-linked list.\n",
    "class ListNode:\n",
    "    def __init__(self, val=0, next=None):\n",
    "        self.val = val\n",
    "        self.next = next\n",
    "        \n",
    "def mk_slist(nodes):\n",
    "    pln = None\n",
    "    for n in nodes[::-1]:\n",
    "        ln = ListNode(n)\n",
    "        ln.next = pln\n",
    "        pln = ln\n",
    "    return ln\n",
    "\n",
    "def prnt_slist(head):\n",
    "    s = ''\n",
    "    while head:\n",
    "        s += str(head.val)\n",
    "        if head.next:\n",
    "            s += ' -> '\n",
    "        head = head.next\n",
    "    return s"
   ]
  },
  {
   "cell_type": "code",
   "execution_count": 36,
   "metadata": {},
   "outputs": [],
   "source": [
    "nodes1 = [4,2,1,3]\n",
    "head1 = mk_slist(nodes1)\n",
    "nodes2 = [-1,5,3,4,0]\n",
    "head2 = mk_slist(nodes2)"
   ]
  },
  {
   "cell_type": "code",
   "execution_count": 37,
   "metadata": {},
   "outputs": [
    {
     "data": {
      "text/plain": [
       "'-1 -> 5 -> 3 -> 4 -> 0'"
      ]
     },
     "execution_count": 37,
     "metadata": {},
     "output_type": "execute_result"
    }
   ],
   "source": [
    "prnt_slist(head2)"
   ]
  },
  {
   "cell_type": "code",
   "execution_count": 38,
   "metadata": {},
   "outputs": [],
   "source": [
    "class Solution:\n",
    "    def insertionSortList(self, head: ListNode) -> ListNode:\n",
    "        dummy = ListNode(None)\n",
    "        curnode = head\n",
    "        while curnode:\n",
    "            prevnode = dummy\n",
    "            nextnode = prevnode.next\n",
    "            while nextnode:\n",
    "                if nextnode.val > curnode.val:\n",
    "                    break\n",
    "                prevnode = prevnode.next\n",
    "                nextnode = nextnode.next\n",
    "            nextcur = curnode.next\n",
    "            curnode.next = prevnode.next\n",
    "            prevnode.next = curnode\n",
    "            curnode = nextcur\n",
    "                \n",
    "\n",
    "        return dummy.next"
   ]
  },
  {
   "cell_type": "code",
   "execution_count": 39,
   "metadata": {},
   "outputs": [],
   "source": [
    "soln = Solution()\n",
    "head2 = soln.insertionSortList(head2)"
   ]
  },
  {
   "cell_type": "code",
   "execution_count": 41,
   "metadata": {},
   "outputs": [
    {
     "data": {
      "text/plain": [
       "'-1 -> 0 -> 3 -> 4 -> 5'"
      ]
     },
     "execution_count": 41,
     "metadata": {},
     "output_type": "execute_result"
    }
   ],
   "source": [
    "prnt_slist(head2)"
   ]
  },
  {
   "cell_type": "markdown",
   "metadata": {},
   "source": [
    "## Day 3: 11/3/20\n",
    "### 1446. Consecutive Characters\n",
    "EASY  \n",
    "https://leetcode.com/problems/consecutive-characters/  \n",
    "https://leetcode.com/explore/challenge/card/november-leetcoding-challenge/564/week-1-november-1st-november-7th/3518/"
   ]
  },
  {
   "cell_type": "markdown",
   "metadata": {},
   "source": [
    "Given a string `s`, the power of the string is the maximum length of a non-empty substring that contains only one unique character.\n",
    "\n",
    "Return *the power* of the string.\n",
    "\n",
    " \n",
    "\n",
    "**Example 1:**\n",
    "```\n",
    "Input: s = \"leetcode\"\n",
    "Output: 2\n",
    "Explanation: The substring \"ee\" is of length 2 with the character 'e' only.\n",
    "```\n",
    "**Example 2:**\n",
    "```\n",
    "Input: s = \"abbcccddddeeeeedcba\"\n",
    "Output: 5\n",
    "Explanation: The substring \"eeeee\" is of length 5 with the character 'e' only.\n",
    "```\n",
    "**Example 3:**\n",
    "```\n",
    "Input: s = \"triplepillooooow\"\n",
    "Output: 5\n",
    "```\n",
    "**Example 4:**\n",
    "```\n",
    "Input: s = \"hooraaaaaaaaaaay\"\n",
    "Output: 11\n",
    "```\n",
    "**Example 5:**\n",
    "```\n",
    "Input: s = \"tourist\"\n",
    "Output: 1\n",
    "```\n",
    "\n",
    "**Constraints:**\n",
    "\n",
    "* `1 <= s.length <= 500`\n",
    "* `s` contains only lowercase English letters."
   ]
  },
  {
   "cell_type": "markdown",
   "metadata": {},
   "source": [
    "**Study Notes:**\n",
    "* leetcode solution article: https://leetcode.com/problems/consecutive-characters/solution/\n",
    "* leetcode discussion solution using `groupby` python function: https://leetcode.com/problems/consecutive-characters/discuss/921642/Python-Oneliner-using-groupby-explained"
   ]
  },
  {
   "cell_type": "code",
   "execution_count": 9,
   "metadata": {},
   "outputs": [],
   "source": [
    "s1 = \"leetcode\"\n",
    "s2 = \"abbcccddddeeeeedcba\"\n",
    "s3 = \"triplepillooooow\"\n",
    "s4 = \"hooraaaaaaaaaaay\"\n",
    "s5 = \"tourist\""
   ]
  },
  {
   "cell_type": "code",
   "execution_count": 10,
   "metadata": {},
   "outputs": [],
   "source": [
    "class Solution:\n",
    "    def maxPower(self, s: str) -> int:\n",
    "        prevc = None\n",
    "        count = 1\n",
    "        maxcount = 0\n",
    "        for c in s:\n",
    "            if c == prevc:\n",
    "                count += 1\n",
    "            else:\n",
    "                count = 1\n",
    "            prevc = c\n",
    "            maxcount = max(maxcount,count)\n",
    "        return maxcount"
   ]
  },
  {
   "cell_type": "code",
   "execution_count": 38,
   "metadata": {},
   "outputs": [],
   "source": [
    "# using itertools.groupby\n",
    "from itertools import groupby\n",
    "class Solution:\n",
    "    def maxPower(self, s: str) -> int:\n",
    "        # explicitly coded out\n",
    "        grouped = groupby(s)\n",
    "        grouplengths = [len(list(g)) for k,g in grouped]\n",
    "        ans = max(grouplengths)\n",
    "#         # one-liner\n",
    "#         ans = max([len(list(g)) for k,g in groupby(s)])\n",
    "        return ans"
   ]
  },
  {
   "cell_type": "code",
   "execution_count": 39,
   "metadata": {},
   "outputs": [
    {
     "data": {
      "text/plain": [
       "11"
      ]
     },
     "execution_count": 39,
     "metadata": {},
     "output_type": "execute_result"
    }
   ],
   "source": [
    "soln = Solution()\n",
    "soln.maxPower(s4)"
   ]
  },
  {
   "cell_type": "markdown",
   "metadata": {},
   "source": [
    "## Day 4: 11/4/20\n",
    "### 310. Minimum Height Trees\n",
    "MEDIUM  \n",
    "https://leetcode.com/problems/minimum-height-trees/  \n",
    "https://leetcode.com/explore/challenge/card/november-leetcoding-challenge/564/week-1-november-1st-november-7th/3519/"
   ]
  },
  {
   "cell_type": "markdown",
   "metadata": {},
   "source": [
    "A tree is an undirected graph in which any two vertices are connected by *exactly* one path. In other words, any connected graph without simple cycles is a tree.\n",
    "\n",
    "Given a tree of `n` nodes labelled from `0` to `n - 1`, and an array of `n - 1` `edges` where `edges[i] = [a_i, b_i]` indicates that there is an undirected edge between the two nodes `a_i` and `b_i` in the tree, you can choose any node of the tree as the root. When you select a node `x` as the root, the result tree has height `h`. Among all possible rooted trees, those with minimum height (i.e. `min(h)`)  are called **minimum height trees** (MHTs).\n",
    "\n",
    "Return *a list of all **MHTs'** root labels*. You can return the answer in **any order**.\n",
    "\n",
    "The **height** of a rooted tree is the number of edges on the longest downward path between the root and a leaf.\n",
    "\n",
    " \n",
    "\n",
    "**Example 1:**\n",
    "![https://assets.leetcode.com/uploads/2020/09/01/e1.jpg](https://assets.leetcode.com/uploads/2020/09/01/e1.jpg)\n",
    "```\n",
    "Input: n = 4, edges = [[1,0],[1,2],[1,3]]\n",
    "Output: [1]\n",
    "Explanation: As shown, the height of the tree is 1 when the root is the node with label 1 which is the only MHT.\n",
    "```\n",
    "**Example 2:**\n",
    "![https://assets.leetcode.com/uploads/2020/09/01/e2.jpg](https://assets.leetcode.com/uploads/2020/09/01/e2.jpg)\n",
    "```\n",
    "Input: n = 6, edges = [[3,0],[3,1],[3,2],[3,4],[5,4]]\n",
    "Output: [3,4]\n",
    "```\n",
    "**Example 3:**\n",
    "```\n",
    "Input: n = 1, edges = []\n",
    "Output: [0]\n",
    "```\n",
    "**Example 4:**\n",
    "```\n",
    "Input: n = 2, edges = [[0,1]]\n",
    "Output: [0,1]\n",
    "```\n",
    "\n",
    "**Constraints:**\n",
    "\n",
    "* `1 <= n <= 2 * 10^4`\n",
    "* `edges.length == n - 1`\n",
    "* `0 <= a_i, b_i < n`\n",
    "* `ai != bi`\n",
    "* All the pairs `(a_i, b_i)` are distinct.\n",
    "* The given input is **guaranteed** to be a tree and there will be **no repeated** edges."
   ]
  },
  {
   "cell_type": "markdown",
   "metadata": {},
   "source": [
    "**Study Notes:**\n",
    "* solution article: https://leetcode.com/problems/minimum-height-trees/solution/\n",
    "    * uses `topological sort` with `breadth-first search` to solve\n",
    "* related problem: [Course Schedule](https://leetcode.com/problems/course-schedule/)\n",
    "* leetcode discussion solution: https://leetcode.com/problems/minimum-height-trees/discuss/923071/Python-Find-diameter-using-2-dfs-explained\n",
    "    * uses 2x `depth-first search`\n",
    "    1. Start from any node and run `dfs`, which calculate distances for all other nodes from this node as well as create parent for each node. What our fucntion will return in the end is the index of farthest node (there can be more than one and it is OK for us).\n",
    "    2. Now, we need to start our `dfs` all over again from this node (that is why we use `dfs_helper` function - we need to clean our distances and parents arrays. When we run our dfs second time, we again find the farthest node.\n",
    "    3. Finally, we create path between the first node we found and the second and it will be our diameter: if it has even number of nodes, we return `2` middle nodes, in other case we return `1` middle node.|"
   ]
  },
  {
   "cell_type": "code",
   "execution_count": 2,
   "metadata": {},
   "outputs": [],
   "source": [
    "n1,edges1 = 4, [[1,0],[1,2],[1,3]]\n",
    "n2,edges2 = 6, [[3,0],[3,1],[3,2],[3,4],[5,4]]\n",
    "n3,edges3 = 1, []\n",
    "n4,edges4 = 2, [[0,1]]"
   ]
  },
  {
   "cell_type": "code",
   "execution_count": 50,
   "metadata": {},
   "outputs": [],
   "source": [
    "from collections import defaultdict\n",
    "class Solution:\n",
    "    def findMinHeightTrees(self, n: int, edges: List[List[int]]) -> List[int]:\n",
    "        \n",
    "        def dfs_helper(start, n):\n",
    "            self.dists, self.parents = [-1]*n, [-1]*n\n",
    "            self.dists[start] = 0\n",
    "            dfs(start)\n",
    "            return self.dists.index(max(self.dists))\n",
    "        \n",
    "        def dfs(start):\n",
    "            for neighbor in graph[start]:\n",
    "                if self.dists[neighbor] == -1:\n",
    "                    self.dists[neighbor] = self.dists[start]+1\n",
    "                    self.parents[neighbor] = start\n",
    "                    dfs(neighbor)\n",
    "            \n",
    "        # make graph\n",
    "        graph = defaultdict(set)\n",
    "        for a,b in edges:\n",
    "            graph[a].add(b)\n",
    "            graph[b].add(a)\n",
    "                \n",
    "        # find terminal nodes of diameter of tree\n",
    "        ind1 = dfs_helper(0, n)\n",
    "        ind2 = dfs_helper(ind1, n)\n",
    "        \n",
    "        # make longest path and return center nodes\n",
    "        path = []\n",
    "        cur = ind2\n",
    "        while cur != -1:\n",
    "            path.append(cur)\n",
    "            cur = self.parents[cur]\n",
    "            \n",
    "        pathlen = len(path)\n",
    "        if pathlen%2 == 0:\n",
    "            ans = [path[(pathlen-1)//2], path[pathlen//2]]\n",
    "        else:\n",
    "            ans = [path[(pathlen-1)//2]]\n",
    "        return ans\n",
    "#         return list(set([path[(pathlen-1)//2], path[pathlen//2]]))"
   ]
  },
  {
   "cell_type": "code",
   "execution_count": 51,
   "metadata": {},
   "outputs": [
    {
     "data": {
      "text/plain": [
       "[3, 4]"
      ]
     },
     "execution_count": 51,
     "metadata": {},
     "output_type": "execute_result"
    }
   ],
   "source": [
    "soln = Solution()\n",
    "soln.findMinHeightTrees(n2,edges2)"
   ]
  },
  {
   "cell_type": "markdown",
   "metadata": {},
   "source": [
    "## Day 5: 11/5/20\n",
    "### 1217. Minimum Cost to Move Chips to The Same Position\n",
    "EASY  \n",
    "https://leetcode.com/problems/minimum-cost-to-move-chips-to-the-same-position/  \n",
    "https://leetcode.com/explore/challenge/card/november-leetcoding-challenge/564/week-1-november-1st-november-7th/3520/"
   ]
  },
  {
   "cell_type": "markdown",
   "metadata": {},
   "source": [
    "We have `n` chips, where the position of the `ith` chip is `position[i]`.\n",
    "\n",
    "We need to move all the chips to the **same position**. In one step, we can change the position of the `ith` chip from `position[i]` to:\n",
    "\n",
    "* `position[i] + 2` or `position[i] - 2` with `cost = 0`.\n",
    "* `position[i] + 1` or `position[i] - 1` with `cost = 1`.\n",
    "\n",
    "Return *the minimum cost* needed to move all the chips to the same position.\n",
    "\n",
    " \n",
    "\n",
    "**Example 1:**\n",
    "![https://assets.leetcode.com/uploads/2020/08/15/chips_e1.jpg](https://assets.leetcode.com/uploads/2020/08/15/chips_e1.jpg)\n",
    "```\n",
    "Input: position = [1,2,3]\n",
    "Output: 1\n",
    "Explanation: First step: Move the chip at position 3 to position 1 with cost = 0.\n",
    "Second step: Move the chip at position 2 to position 1 with cost = 1.\n",
    "Total cost is 1.\n",
    "```\n",
    "**Example 2:**\n",
    "![https://assets.leetcode.com/uploads/2020/08/15/chip_e2.jpg](https://assets.leetcode.com/uploads/2020/08/15/chip_e2.jpg)\n",
    "```\n",
    "Input: position = [2,2,2,3,3]\n",
    "Output: 2\n",
    "Explanation: We can move the two chips at poistion 3 to position 2. Each move has cost = 1. The total cost = 2.\n",
    "```\n",
    "**Example 3:**\n",
    "```\n",
    "Input: position = [1,1000000000]\n",
    "Output: 1\n",
    "```\n",
    "\n",
    "**Constraints:**\n",
    "\n",
    "* `1 <= position.length <= 100`\n",
    "* `1 <= position[i] <= 10^9`"
   ]
  },
  {
   "cell_type": "markdown",
   "metadata": {},
   "source": [
    "**Study Notes:**\n",
    "* can be solved with math\n",
    "* insights:\n",
    "    1. It costs `0` to move any coin two spaces, meaning there is no cost to moving an odd coin to an odd position and vice versa\n",
    "    2. Moving a coin from odd to even position (and vice versa) costs `1`\n",
    "* core ideas:\n",
    "    1. count number of coins at odd or even positions\n",
    "    2. cost is the minimum number of coins at odd or even positions if both present, otherwise zero\n",
    "* leetcode discussion one-liner: https://leetcode.com/problems/minimum-cost-to-move-chips-to-the-same-position/discuss/924174/Python-Oneliner-O(n)-explained"
   ]
  },
  {
   "cell_type": "code",
   "execution_count": 5,
   "metadata": {},
   "outputs": [],
   "source": [
    "position1 = [1,2,3]\n",
    "position2 = [2,2,2,3,3]\n",
    "position3 = [1,1000000000]"
   ]
  },
  {
   "cell_type": "code",
   "execution_count": 6,
   "metadata": {},
   "outputs": [],
   "source": [
    "class Solution:\n",
    "    def minCostToMoveChips(self, position: List[int]) -> int:\n",
    "        even, odd = 0, 0\n",
    "        for pos in position:\n",
    "            if pos % 2 == 0:\n",
    "                even += 1\n",
    "            else:\n",
    "                odd += 1\n",
    "        return min(even,odd)"
   ]
  },
  {
   "cell_type": "code",
   "execution_count": 9,
   "metadata": {},
   "outputs": [
    {
     "data": {
      "text/plain": [
       "1"
      ]
     },
     "execution_count": 9,
     "metadata": {},
     "output_type": "execute_result"
    }
   ],
   "source": [
    "soln = Solution()\n",
    "soln.minCostToMoveChips(position3)"
   ]
  },
  {
   "cell_type": "markdown",
   "metadata": {},
   "source": [
    "## Day 6: 11/7/20\n",
    "### 1283. Find the Smallest Divisor Given a Threshold\n",
    "MEDIUM  \n",
    "https://leetcode.com/problems/find-the-smallest-divisor-given-a-threshold/  \n",
    "https://leetcode.com/explore/challenge/card/november-leetcoding-challenge/564/week-1-november-1st-november-7th/3521/"
   ]
  },
  {
   "cell_type": "markdown",
   "metadata": {},
   "source": [
    "Given an array of integers `nums` and an integer `threshold`, we will choose a positive integer divisor and divide all the array by it and sum the result of the division. Find the **smallest** divisor such that the result mentioned above is less than or equal to `threshold`.\n",
    "\n",
    "Each result of division is rounded to the nearest integer greater than or equal to that element. (For example: 7/3 = 3 and 10/2 = 5).\n",
    "\n",
    "It is guaranteed that there will be an answer.\n",
    "\n",
    " \n",
    "\n",
    "**Example 1:**\n",
    "```\n",
    "Input: nums = [1,2,5,9], threshold = 6\n",
    "Output: 5\n",
    "Explanation: We can get a sum to 17 (1+2+5+9) if the divisor is 1. \n",
    "If the divisor is 4 we can get a sum to 7 (1+1+2+3) and if the divisor is 5 the sum will be 5 (1+1+1+2). \n",
    "```\n",
    "**Example 2:**\n",
    "```\n",
    "Input: nums = [2,3,5,7,11], threshold = 11\n",
    "Output: 3\n",
    "```\n",
    "**Example 3:**\n",
    "```\n",
    "Input: nums = [19], threshold = 5\n",
    "Output: 4\n",
    "```\n",
    "\n",
    "**Constraints:**\n",
    "\n",
    "* `1 <= nums.length <= 5 * 10^4`\n",
    "* `1 <= nums[i] <= 10^6`\n",
    "* `nums.length <= threshold <= 10^6`"
   ]
  },
  {
   "cell_type": "markdown",
   "metadata": {},
   "source": [
    "**Study Notes:**\n",
    "* tricky! involves binary search and optimal solution is `O(nlogm)`, where `n` is size of array and `m` is `max(nums)`\n",
    "* core insights:\n",
    "    * minimum divisor value is `1` and maximum divisor value is `max(nums)`\n",
    "    * binary search over the divisor range to find the smallest divisor that satisfies `threshold`\n",
    "    * implementation quirk: cannot assume that the divisor for `total == threshold` is the answer, there maybe multiple divisors that satisfy that condition and we should return the smallest one\n",
    "* leetcode solution article: https://leetcode.com/problems/find-the-smallest-divisor-given-a-threshold/solution/"
   ]
  },
  {
   "cell_type": "code",
   "execution_count": 30,
   "metadata": {},
   "outputs": [],
   "source": [
    "nums1,threshold1 = [1,2,5,9], 6\n",
    "nums2,threshold2 = [2,3,5,7,11], 11\n",
    "nums3,threshold3 = [19], 5\n",
    "nums4,threshold4 = [81488,78770,69737,14847,36203,85812,62771,25584,40434,55397,95643,48474,63802,63203,69258,16397,62134,68311,48931,4317,488,76613,70301,24052,67069,8018,61725,98992,86206,54407,33175,65597,5215,11866,9420,93851,66858,78097,70255,92021,50353,91451,52417,411,81332,27928,51842,83525,74458,10995,18792,14219,31190,86907,412,45731,9730,1258,94589,84673,20469,479,71501,68751,18230,77410,41662,9005,72532,36514,5203,528,59746,45580,72611,30386,40609,30783,70776,78765,97187,19997,16257,86367,80891,43219,55020,4753,2785,70141,86103,25092,50595,73151,69139,92893,18011,94848,65111,5657], 988"
   ]
  },
  {
   "cell_type": "code",
   "execution_count": 91,
   "metadata": {},
   "outputs": [],
   "source": [
    "class Solution:\n",
    "    def smallestDivisor(self, nums: List[int], threshold: int) -> int:\n",
    "        # ceiling division\n",
    "        def ceil(n,d):\n",
    "            return -(n // -d)\n",
    "        \n",
    "        # binary search\n",
    "        lo = 1\n",
    "        hi = max(nums)\n",
    "        while lo < hi:\n",
    "            mid = (lo+hi)//2\n",
    "            total = sum(ceil(n,mid) for n in nums)\n",
    "            if total > threshold:\n",
    "                lo = mid+1\n",
    "            else:\n",
    "                hi = mid\n",
    "        return lo"
   ]
  },
  {
   "cell_type": "code",
   "execution_count": 92,
   "metadata": {},
   "outputs": [
    {
     "data": {
      "text/plain": [
       "5317"
      ]
     },
     "execution_count": 92,
     "metadata": {},
     "output_type": "execute_result"
    }
   ],
   "source": [
    "soln = Solution()\n",
    "soln.smallestDivisor(nums4,threshold4)"
   ]
  }
 ],
 "metadata": {
  "kernelspec": {
   "display_name": "base (Python 3.7.7)",
   "language": "python",
   "name": "base"
  },
  "language_info": {
   "codemirror_mode": {
    "name": "ipython",
    "version": 3
   },
   "file_extension": ".py",
   "mimetype": "text/x-python",
   "name": "python",
   "nbconvert_exporter": "python",
   "pygments_lexer": "ipython3",
   "version": "3.7.7"
  }
 },
 "nbformat": 4,
 "nbformat_minor": 4
}
