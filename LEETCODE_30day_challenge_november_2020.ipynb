{
 "cells": [
  {
   "cell_type": "code",
   "execution_count": 1,
   "metadata": {},
   "outputs": [],
   "source": [
    "from typing import List"
   ]
  },
  {
   "cell_type": "code",
   "execution_count": 2,
   "metadata": {},
   "outputs": [],
   "source": [
    "# tree practice\n",
    "def constructtree(nodes, i, n):\n",
    "    root = None\n",
    "    if (i < n) and nodes[i] is not None:\n",
    "        root = nodes[i]\n",
    "        root.left = constructtree(nodes, 2*i+1, len(nodes))\n",
    "        root.right = constructtree(nodes, 2*i+2, len(nodes))\n",
    "    return root\n",
    "\n",
    "def printtree(root):\n",
    "    q = [root]\n",
    "    nodes = []\n",
    "    while any(q):\n",
    "        node = q.pop(0) # can use deque instead to optimize\n",
    "        if node:\n",
    "            nodes.append(node.val)\n",
    "            if node.left or node.right or any(q):\n",
    "                q.append(node.left)\n",
    "                q.append(node.right)\n",
    "        elif any(q): # if node is None AND there's still stuff in q to process\n",
    "            nodes.append('null')\n",
    "    return nodes"
   ]
  },
  {
   "cell_type": "markdown",
   "metadata": {},
   "source": [
    "## Day 1: 11/1/20\n",
    "### 1290. Convert Binary Number in a Linked List to Integer\n",
    "EASY  \n",
    "https://leetcode.com/problems/convert-binary-number-in-a-linked-list-to-integer/  \n",
    "https://leetcode.com/explore/challenge/card/november-leetcoding-challenge/564/week-1-november-1st-november-7th/3516/"
   ]
  },
  {
   "cell_type": "markdown",
   "metadata": {},
   "source": [
    "Given `head` which is a reference node to a singly-linked list. The value of each node in the linked list is either 0 or 1. The linked list holds the binary representation of a number.\n",
    "\n",
    "Return the *decimal value* of the number in the linked list.\n",
    "\n",
    " \n",
    "\n",
    "**Example 1:**\n",
    "![https://assets.leetcode.com/uploads/2019/12/05/graph-1.png](https://assets.leetcode.com/uploads/2019/12/05/graph-1.png)\n",
    "```\n",
    "Input: head = [1,0,1]\n",
    "Output: 5\n",
    "Explanation: (101) in base 2 = (5) in base 10\n",
    "```\n",
    "**Example 2:**\n",
    "```\n",
    "Input: head = [0]\n",
    "Output: 0\n",
    "```\n",
    "**Example 3:**\n",
    "```\n",
    "Input: head = [1]\n",
    "Output: 1\n",
    "```\n",
    "**Example 4:**\n",
    "```\n",
    "Input: head = [1,0,0,1,0,0,1,1,1,0,0,0,0,0,0]\n",
    "Output: 18880\n",
    "```\n",
    "**Example 5:**\n",
    "```\n",
    "Input: head = [0,0]\n",
    "Output: 0\n",
    "```\n",
    "\n",
    "**Constraints:**\n",
    "\n",
    "* The Linked List is not empty.\n",
    "* Number of nodes will not exceed `30`.\n",
    "* Each node's value is either `0` or `1`."
   ]
  },
  {
   "cell_type": "markdown",
   "metadata": {},
   "source": [
    "**Study Notes:**\n",
    "* leetcode discussion solution: https://leetcode.com/problems/convert-binary-number-in-a-linked-list-to-integer/discuss/918946/Python-simple-O(n)-solution-explained\n",
    "    * uses binary math"
   ]
  },
  {
   "cell_type": "code",
   "execution_count": 4,
   "metadata": {},
   "outputs": [],
   "source": [
    "# Definition for singly-linked list.\n",
    "class ListNode:\n",
    "    def __init__(self, val=0, next=None):\n",
    "        self.val = val\n",
    "        self.next = next\n",
    "        \n",
    "def mk_slist(nodes):\n",
    "    pln = None\n",
    "    for n in nodes[::-1]:\n",
    "        ln = ListNode(n)\n",
    "        ln.next = pln\n",
    "        pln = ln\n",
    "    return ln\n",
    "\n",
    "def prnt_list(head):\n",
    "    s = ''\n",
    "    while head:\n",
    "        s += str(head.val)\n",
    "        head = head.next\n",
    "        if head:\n",
    "            s += ' -> '\n",
    "    return s"
   ]
  },
  {
   "cell_type": "code",
   "execution_count": 13,
   "metadata": {},
   "outputs": [],
   "source": [
    "nodes1 = [1,0,1]\n",
    "head1 = mk_slist(nodes1)\n",
    "nodes2 = [0]\n",
    "head2 = mk_slist(nodes2)\n",
    "nodes3 = [1]\n",
    "head3 = mk_slist(nodes3)\n",
    "nodes4 = [1,0,0,1,0,0,1,1,1,0,0,0,0,0,0]\n",
    "head4 = mk_slist(nodes4)\n",
    "nodes5 = [0,0]\n",
    "head5 = mk_slist(nodes5)\n",
    "nodes6 = [1,0,1,1,0,0]\n",
    "head6 = mk_slist(nodes6)"
   ]
  },
  {
   "cell_type": "code",
   "execution_count": 15,
   "metadata": {},
   "outputs": [
    {
     "data": {
      "text/plain": [
       "'1 -> 0 -> 1 -> 1 -> 0 -> 0'"
      ]
     },
     "execution_count": 15,
     "metadata": {},
     "output_type": "execute_result"
    }
   ],
   "source": [
    "prnt_list(head6)"
   ]
  },
  {
   "cell_type": "code",
   "execution_count": 32,
   "metadata": {},
   "outputs": [],
   "source": [
    "class Solution:\n",
    "    def getDecimalValue(self, head: ListNode) -> int:\n",
    "        binary = []\n",
    "        while head:\n",
    "            binary.append(str(head.val))\n",
    "            head = head.next\n",
    "        return int(''.join(binary),2)"
   ]
  },
  {
   "cell_type": "code",
   "execution_count": 20,
   "metadata": {},
   "outputs": [],
   "source": [
    "# binary math\n",
    "class Solution:\n",
    "    def getDecimalValue(self, head: ListNode) -> int:\n",
    "        s = 0\n",
    "        while head:\n",
    "            s = 2*s + head.val\n",
    "            head = head.next\n",
    "        return s"
   ]
  },
  {
   "cell_type": "code",
   "execution_count": 21,
   "metadata": {},
   "outputs": [
    {
     "data": {
      "text/plain": [
       "[1, 0, 0, 1, 0, 0, 1, 1, 1, 0, 0, 0, 0, 0, 0]"
      ]
     },
     "execution_count": 21,
     "metadata": {},
     "output_type": "execute_result"
    }
   ],
   "source": [
    "nodes4"
   ]
  },
  {
   "cell_type": "code",
   "execution_count": 22,
   "metadata": {},
   "outputs": [
    {
     "data": {
      "text/plain": [
       "5"
      ]
     },
     "execution_count": 22,
     "metadata": {},
     "output_type": "execute_result"
    }
   ],
   "source": [
    "soln = Solution()\n",
    "soln.getDecimalValue(head1)"
   ]
  }
 ],
 "metadata": {
  "kernelspec": {
   "display_name": "base (Python 3.7.7)",
   "language": "python",
   "name": "base"
  },
  "language_info": {
   "codemirror_mode": {
    "name": "ipython",
    "version": 3
   },
   "file_extension": ".py",
   "mimetype": "text/x-python",
   "name": "python",
   "nbconvert_exporter": "python",
   "pygments_lexer": "ipython3",
   "version": "3.7.7"
  }
 },
 "nbformat": 4,
 "nbformat_minor": 4
}
