{
 "cells": [
  {
   "cell_type": "code",
   "execution_count": 1,
   "metadata": {},
   "outputs": [],
   "source": [
    "from typing import List"
   ]
  },
  {
   "cell_type": "markdown",
   "metadata": {},
   "source": [
    "## Day 1: 7/1/20\n",
    "### 441. Arranging Coins\n",
    "EASY  \n",
    "https://leetcode.com/problems/arranging-coins/  \n",
    "https://leetcode.com/explore/challenge/card/july-leetcoding-challenge/544/week-1-july-1st-july-7th/3377/"
   ]
  },
  {
   "cell_type": "markdown",
   "metadata": {},
   "source": [
    "You have a total of *n* coins that you want to form in a staircase shape, where every k-th row must have exactly k coins.\n",
    "\n",
    "Given n, find the total number of **full** staircase rows that can be formed.\n",
    "\n",
    "*n* is a non-negative integer and fits within the range of a 32-bit signed integer.\n",
    "\n",
    "**Example 1:**\n",
    "```\n",
    "n = 5\n",
    "\n",
    "The coins can form the following rows:\n",
    "¤\n",
    "¤ ¤\n",
    "¤ ¤\n",
    "\n",
    "Because the 3rd row is incomplete, we return 2.\n",
    "```\n",
    "**Example 2:**\n",
    "```\n",
    "n = 8\n",
    "\n",
    "The coins can form the following rows:\n",
    "¤\n",
    "¤ ¤\n",
    "¤ ¤ ¤\n",
    "¤ ¤\n",
    "\n",
    "Because the 4th row is incomplete, we return 3.\n",
    "```"
   ]
  },
  {
   "cell_type": "code",
   "execution_count": 2,
   "metadata": {},
   "outputs": [],
   "source": [
    "n1 = 5\n",
    "n2 = 8"
   ]
  },
  {
   "cell_type": "code",
   "execution_count": 9,
   "metadata": {},
   "outputs": [],
   "source": [
    "# counting up\n",
    "class Solution:\n",
    "    def arrangeCoins(self, n: int) -> int:\n",
    "        coins, rowcoins, row = 0, 0 , 0\n",
    "        while coins < n:\n",
    "            rowcoins += 1\n",
    "            coins += rowcoins\n",
    "            row += 1\n",
    "        \n",
    "        return row-1"
   ]
  },
  {
   "cell_type": "code",
   "execution_count": 36,
   "metadata": {},
   "outputs": [],
   "source": [
    "# using subtraction\n",
    "class Solution:\n",
    "    def arrangeCoins(self, n: int) -> int:\n",
    "        rowcoins, row = 0, 0\n",
    "        while (n-rowcoins) > 0:\n",
    "            rowcoins += 1\n",
    "            n -= rowcoins\n",
    "            row += 1\n",
    "        \n",
    "        return row"
   ]
  },
  {
   "cell_type": "markdown",
   "metadata": {},
   "source": [
    "**Study Notes:**\n",
    "* number of items in staircase is an [arithmetic sum](https://www.mathwords.com/a/arithmetic_series.htm#:~:text=The%20sum%20of%20an%20arithmetic,the%20first%20and%20last%20terms.&text=Example%3A,formula%20for%20an%20arithmetic%20sequence.)\n",
    "* general formula is $sum = n\\left(\\frac{a_1+a_n}{2}\\right)$\n",
    "    * for this problem, $n = k$ and $sum = n$ from formula\n",
    "    * thus, $n = k\\left(\\frac{a_1+a_n}{2}\\right)$\n",
    "    * $n = k\\left(\\frac{1+k}{2}\\right)$\n",
    "    * $2n = k(k+1)$\n",
    "    * $k^2+k-2n = 0$\n",
    "    * Using quadratic formula: $k = \\frac{(-1)\\pm\\sqrt{1^2-4(1)(-2n)}}{2(1)}$\n",
    "    * Since only positive solution matters: $k = \\frac{\\sqrt{8n+1}-1}{2}$"
   ]
  },
  {
   "cell_type": "code",
   "execution_count": 42,
   "metadata": {},
   "outputs": [],
   "source": [
    "# using math\n",
    "from math import sqrt\n",
    "class Solution:\n",
    "    def arrangeCoins(self, n: int) -> int:\n",
    "        k = (sqrt(8*n+1)-1)//2\n",
    "        return int(k)"
   ]
  },
  {
   "cell_type": "code",
   "execution_count": 43,
   "metadata": {},
   "outputs": [
    {
     "data": {
      "text/plain": [
       "3"
      ]
     },
     "execution_count": 43,
     "metadata": {},
     "output_type": "execute_result"
    }
   ],
   "source": [
    "soln = Solution()\n",
    "soln.arrangeCoins(7)"
   ]
  },
  {
   "cell_type": "markdown",
   "metadata": {},
   "source": [
    "## Day 2: 7/2/20\n",
    "### 107. Binary Tree Level Order Traversal II\n",
    "EASY  \n",
    "https://leetcode.com/problems/binary-tree-level-order-traversal-ii/  \n",
    "https://leetcode.com/explore/challenge/card/july-leetcoding-challenge/544/week-1-july-1st-july-7th/3378/"
   ]
  },
  {
   "cell_type": "markdown",
   "metadata": {},
   "source": [
    "Given a binary tree, return the *bottom-up level order* traversal of its nodes' values. (ie, from left to right, level by level from leaf to root).\n",
    "\n",
    "For example:\n",
    "Given binary tree `[3,9,20,null,null,15,7]`,\n",
    "```\n",
    "    3\n",
    "   / \\\n",
    "  9  20\n",
    "    /  \\\n",
    "   15   7\n",
    "```\n",
    "return its bottom-up level order traversal as:\n",
    "```\n",
    "[\n",
    "  [15,7],\n",
    "  [9,20],\n",
    "  [3]\n",
    "]\n",
    "```"
   ]
  },
  {
   "cell_type": "code",
   "execution_count": 19,
   "metadata": {},
   "outputs": [],
   "source": [
    "# Definition for a binary tree node.\n",
    "class TreeNode:\n",
    "    def __init__(self, val=0, left=None, right=None):\n",
    "        self.val = val\n",
    "        self.left = left\n",
    "        self.right = right\n",
    "\n",
    "# only works for complete trees! Need additional info (like inorder) to uniquely identify tree\n",
    "def constructTree(nodes, i, n):\n",
    "    # default to returning None if node not defined at i in nodes array\n",
    "    root = None\n",
    "    if (i<n) and nodes[i] is not None:\n",
    "        node = TreeNode(nodes[i])\n",
    "        root = node\n",
    "        \n",
    "        root.left = constructTree(nodes, 2*i+1, n)\n",
    "        root.right = constructTree(nodes, 2*i+2, n)\n",
    "    return root\n",
    "\n",
    "def printTree(root):\n",
    "    treevals = []\n",
    "    q = [root]\n",
    "    while q:\n",
    "        node = q.pop(0)\n",
    "        if node:\n",
    "            treevals.append(node.val)\n",
    "            # add to queue if a child exists\n",
    "            if node.left or node.right:\n",
    "                q.append(node.left)\n",
    "                q.append(node.right)\n",
    "        else:\n",
    "            treevals.append('null')\n",
    "    return treevals\n",
    "\n",
    "tree1 = [3,9,20,None,None,15,7]\n",
    "root1 = constructTree(tree1,0,len(tree1))"
   ]
  },
  {
   "cell_type": "code",
   "execution_count": 20,
   "metadata": {},
   "outputs": [
    {
     "data": {
      "text/plain": [
       "9"
      ]
     },
     "execution_count": 20,
     "metadata": {},
     "output_type": "execute_result"
    }
   ],
   "source": [
    "root1.left.val"
   ]
  },
  {
   "cell_type": "code",
   "execution_count": 21,
   "metadata": {},
   "outputs": [],
   "source": [
    "class Solution:\n",
    "    def levelOrderBottom(self, root: TreeNode) -> List[List[int]]:\n",
    "        nq = [root]\n",
    "        nodelist = []\n",
    "        while nq:\n",
    "            q = nq\n",
    "            nq, levellist = [], []\n",
    "            while q:\n",
    "                node = q.pop(0)\n",
    "                if node:\n",
    "                    levellist.append(node.val)\n",
    "                    nq.append(node.left)\n",
    "                    nq.append(node.right)\n",
    "            if levellist:\n",
    "                nodelist.insert(0,levellist)\n",
    "        return nodelist"
   ]
  },
  {
   "cell_type": "code",
   "execution_count": null,
   "metadata": {},
   "outputs": [],
   "source": [
    "# regular level order traversal, but reverse"
   ]
  },
  {
   "cell_type": "code",
   "execution_count": 23,
   "metadata": {},
   "outputs": [
    {
     "data": {
      "text/plain": [
       "[[15, 7], [9, 20], [3]]"
      ]
     },
     "execution_count": 23,
     "metadata": {},
     "output_type": "execute_result"
    }
   ],
   "source": [
    "soln = Solution()\n",
    "soln.levelOrderBottom(root1)"
   ]
  },
  {
   "cell_type": "markdown",
   "metadata": {},
   "source": [
    "## Day 3: 7/3/20\n",
    "### 957. Prison Cells After N Days\n",
    "MEDIUM  \n",
    "https://leetcode.com/problems/prison-cells-after-n-days/  \n",
    "https://leetcode.com/explore/challenge/card/july-leetcoding-challenge/544/week-1-july-1st-july-7th/3379/"
   ]
  },
  {
   "cell_type": "markdown",
   "metadata": {},
   "source": [
    "There are 8 prison cells in a row, and each cell is either occupied or vacant.\n",
    "\n",
    "Each day, whether the cell is occupied or vacant changes according to the following rules:\n",
    "\n",
    "If a cell has two adjacent neighbors that are both occupied or both vacant, then the cell becomes occupied.\n",
    "Otherwise, it becomes vacant.\n",
    "(Note that because the prison is a row, the first and the last cells in the row can't have two adjacent neighbors.)\n",
    "\n",
    "We describe the current state of the prison in the following way: `cells[i] == 1` if the `i`-th cell is occupied, else `cells[i] == 0`.\n",
    "\n",
    "Given the initial state of the prison, return the state of the prison after `N` days (and `N` such changes described above.)\n",
    "\n",
    " \n",
    "\n",
    "**Example 1:**\n",
    "```\n",
    "Input: cells = [0,1,0,1,1,0,0,1], N = 7\n",
    "Output: [0,0,1,1,0,0,0,0]\n",
    "Explanation: \n",
    "The following table summarizes the state of the prison on each day:\n",
    "Day 0: [0, 1, 0, 1, 1, 0, 0, 1]\n",
    "Day 1: [0, 1, 1, 0, 0, 0, 0, 0]\n",
    "Day 2: [0, 0, 0, 0, 1, 1, 1, 0]\n",
    "Day 3: [0, 1, 1, 0, 0, 1, 0, 0]\n",
    "Day 4: [0, 0, 0, 0, 0, 1, 0, 0]\n",
    "Day 5: [0, 1, 1, 1, 0, 1, 0, 0]\n",
    "Day 6: [0, 0, 1, 0, 1, 1, 0, 0]\n",
    "Day 7: [0, 0, 1, 1, 0, 0, 0, 0]\n",
    "```\n",
    "**Example 2:**\n",
    "```\n",
    "Input: cells = [1,0,0,1,0,0,1,0], N = 1000000000\n",
    "Output: [0,0,1,1,1,1,1,0]\n",
    "```\n",
    "\n",
    "**Note:**\n",
    "\n",
    "1. `cells.length == 8`\n",
    "2. `cells[i]` is in `{0, 1}`\n",
    "3. `1 <= N <= 10^9`"
   ]
  },
  {
   "cell_type": "code",
   "execution_count": 74,
   "metadata": {},
   "outputs": [],
   "source": [
    "cells1,N1 = [0,1,0,1,1,0,0,1], 7\n",
    "cells2,N2 = [1,0,0,1,0,0,1,0], 1000000000"
   ]
  },
  {
   "cell_type": "code",
   "execution_count": 75,
   "metadata": {},
   "outputs": [],
   "source": [
    "class Solution:\n",
    "    def prisonAfterNDays(self, cells: List[int], N: int) -> List[int]:\n",
    "        \n",
    "        return None"
   ]
  },
  {
   "cell_type": "code",
   "execution_count": 76,
   "metadata": {},
   "outputs": [],
   "source": [
    "soln = Solution()\n",
    "soln.prisonAfterNDays(cells1,N1)"
   ]
  },
  {
   "cell_type": "markdown",
   "metadata": {},
   "source": [
    "## Day 4: 7/4/20\n",
    "### 264. Ugly Number II\n",
    "MEDIUM  \n",
    "https://leetcode.com/problems/ugly-number-ii/  \n",
    "https://leetcode.com/explore/challenge/card/july-leetcoding-challenge/544/week-1-july-1st-july-7th/3380/"
   ]
  },
  {
   "cell_type": "markdown",
   "metadata": {},
   "source": [
    "Write a program to find the `n`-th ugly number.\n",
    "\n",
    "Ugly numbers are **positive numbers** whose prime factors only include `2, 3, 5`. \n",
    "\n",
    "**Example:**\n",
    "```\n",
    "Input: n = 10\n",
    "Output: 12\n",
    "Explanation: 1, 2, 3, 4, 5, 6, 8, 9, 10, 12 is the sequence of the first 10 ugly numbers.\n",
    "```\n",
    "**Note:**\n",
    "\n",
    "1. `1` is typically treated as an ugly number.\n",
    "2. `n` does not exceed 1690."
   ]
  },
  {
   "cell_type": "code",
   "execution_count": 77,
   "metadata": {},
   "outputs": [],
   "source": [
    "n1 = 10"
   ]
  },
  {
   "cell_type": "code",
   "execution_count": 78,
   "metadata": {},
   "outputs": [],
   "source": [
    "class Solution:\n",
    "    def nthUglyNumber(self, n: int) -> int:\n",
    "        \n",
    "        return None"
   ]
  },
  {
   "cell_type": "code",
   "execution_count": 79,
   "metadata": {},
   "outputs": [],
   "source": [
    "soln = Solution()\n",
    "soln.nthUglyNumber(n1)"
   ]
  },
  {
   "cell_type": "code",
   "execution_count": 81,
   "metadata": {},
   "outputs": [
    {
     "data": {
      "text/plain": [
       "1"
      ]
     },
     "execution_count": 81,
     "metadata": {},
     "output_type": "execute_result"
    }
   ],
   "source": [
    "9 % 4"
   ]
  },
  {
   "cell_type": "code",
   "execution_count": 100,
   "metadata": {},
   "outputs": [],
   "source": [
    "class Solution:\n",
    "    def isUgly(self, num: int) -> bool:\n",
    "        \n",
    "        factors = [2, 3, 5]\n",
    "        for f in factors:\n",
    "            # repeatedly divide by each factor until non-divisible\n",
    "            while (num % f == 0) and (num != 0):\n",
    "                num = num/f\n",
    "        \n",
    "        return True if int(num) == 1 else False"
   ]
  },
  {
   "cell_type": "code",
   "execution_count": 101,
   "metadata": {},
   "outputs": [
    {
     "data": {
      "text/plain": [
       "False"
      ]
     },
     "execution_count": 101,
     "metadata": {},
     "output_type": "execute_result"
    }
   ],
   "source": [
    "soln = Solution()\n",
    "soln.isUgly(0)"
   ]
  },
  {
   "cell_type": "code",
   "execution_count": 99,
   "metadata": {},
   "outputs": [
    {
     "data": {
      "text/plain": [
       "0"
      ]
     },
     "execution_count": 99,
     "metadata": {},
     "output_type": "execute_result"
    }
   ],
   "source": [
    "0 % 5"
   ]
  },
  {
   "cell_type": "markdown",
   "metadata": {},
   "source": [
    "## Day 5: 7/5/20\n",
    "### 461. Hamming Distance\n",
    "EASY  \n",
    "https://leetcode.com/problems/hamming-distance/  \n",
    "https://leetcode.com/explore/challenge/card/july-leetcoding-challenge/544/week-1-july-1st-july-7th/3381/"
   ]
  },
  {
   "cell_type": "markdown",
   "metadata": {},
   "source": [
    "The [Hamming distance](https://en.wikipedia.org/wiki/Hamming_distance) between two integers is the number of positions at which the corresponding bits are different.\n",
    "\n",
    "Given two integers `x` and `y`, calculate the Hamming distance.\n",
    "\n",
    "**Note:**\n",
    "0 ≤ `x`, `y` < $2^{31}$.\n",
    "\n",
    "**Example:**\n",
    "```\n",
    "Input: x = 1, y = 4\n",
    "\n",
    "Output: 2\n",
    "\n",
    "Explanation:\n",
    "1   (0 0 0 1)\n",
    "4   (0 1 0 0)\n",
    "       ↑   ↑\n",
    "\n",
    "The above arrows point to positions where the corresponding bits are different.\n",
    "```"
   ]
  },
  {
   "cell_type": "code",
   "execution_count": 174,
   "metadata": {},
   "outputs": [],
   "source": [
    "x1, y1 = 1, 4\n",
    "x2, y2 = 9, 21"
   ]
  },
  {
   "cell_type": "code",
   "execution_count": 176,
   "metadata": {},
   "outputs": [],
   "source": [
    "# iterating through bit strings\n",
    "class Solution:\n",
    "    def hammingDistance(self, x: int, y: int) -> int:\n",
    "        s = min(x,y)\n",
    "        l = max(x,y)\n",
    "        sb = bin(s)[2:]\n",
    "        lb = bin(l)[2:]\n",
    "        \n",
    "        # pad shorter bit str\n",
    "        sb = '0'*(len(lb)-len(sb))+sb\n",
    "        diff = 0\n",
    "        for i in range(len(sb)):\n",
    "            if sb[i]!=lb[i]:\n",
    "                diff += 1\n",
    "        return diff"
   ]
  },
  {
   "cell_type": "code",
   "execution_count": 180,
   "metadata": {},
   "outputs": [],
   "source": [
    "# use XOR\n",
    "class Solution:\n",
    "    def hammingDistance(self, x: int, y: int) -> int:\n",
    "        xorstr = bin(x^y)[2:]\n",
    "        diff = 0\n",
    "        for s in xorstr:\n",
    "            if s == '1':\n",
    "                diff += 1\n",
    "                \n",
    "        return diff"
   ]
  },
  {
   "cell_type": "code",
   "execution_count": 182,
   "metadata": {},
   "outputs": [
    {
     "data": {
      "text/plain": [
       "2"
      ]
     },
     "execution_count": 182,
     "metadata": {},
     "output_type": "execute_result"
    }
   ],
   "source": [
    "soln = Solution()\n",
    "soln.hammingDistance(x1,y1)"
   ]
  },
  {
   "cell_type": "markdown",
   "metadata": {},
   "source": [
    "## Day 6: 7/6/20\n",
    "### 66. Plus One\n",
    "EASY  \n",
    "https://leetcode.com/problems/plus-one/  \n",
    "https://leetcode.com/explore/challenge/card/july-leetcoding-challenge/544/week-1-july-1st-july-7th/3382/"
   ]
  },
  {
   "cell_type": "markdown",
   "metadata": {},
   "source": [
    "Given a **non-empty** array of digits representing a non-negative integer, plus one to the integer.\n",
    "\n",
    "The digits are stored such that the most significant digit is at the head of the list, and each element in the array contain a single digit.\n",
    "\n",
    "You may assume the integer does not contain any leading zero, except the number 0 itself.\n",
    "\n",
    "**Example 1:**\n",
    "```\n",
    "Input: [1,2,3]\n",
    "Output: [1,2,4]\n",
    "Explanation: The array represents the integer 123.\n",
    "```\n",
    "**Example 2:**\n",
    "```\n",
    "Input: [4,3,2,1]\n",
    "Output: [4,3,2,2]\n",
    "Explanation: The array represents the integer 4321.\n",
    "```"
   ]
  },
  {
   "cell_type": "code",
   "execution_count": 32,
   "metadata": {},
   "outputs": [],
   "source": [
    "digits1 = [1,2,3]\n",
    "digits2 = [4,3,2,1]"
   ]
  },
  {
   "cell_type": "code",
   "execution_count": 93,
   "metadata": {},
   "outputs": [],
   "source": [
    "# math + str conversion\n",
    "class Solution:\n",
    "    def plusOne(self, digits: List[int]) -> List[int]:\n",
    "        val = 0\n",
    "        lasti = len(digits)-1\n",
    "        for i in range(len(digits)):\n",
    "            val += digits[lasti-i]*(10**i)\n",
    "            if i == 0:\n",
    "                val += 1\n",
    "                \n",
    "        return [int(c) for c in list(str(val))]"
   ]
  },
  {
   "cell_type": "code",
   "execution_count": 103,
   "metadata": {},
   "outputs": [],
   "source": [
    "# direct list iterations\n",
    "class Solution:\n",
    "    def plusOne(self, digits: List[int]) -> List[int]:\n",
    "        newdigits = digits#.copy()\n",
    "        i = len(newdigits)-1\n",
    "        plus = newdigits[i] + 1\n",
    "        while plus == 10:\n",
    "            newdigits[i] = 0\n",
    "            i -= 1\n",
    "            if i >= 0:\n",
    "                plus = newdigits[i] + 1\n",
    "            else:\n",
    "                plus = 1\n",
    "        \n",
    "        if i < 0:\n",
    "            newdigits.insert(0,plus)\n",
    "        else:\n",
    "            newdigits[i] = plus\n",
    "        return newdigits"
   ]
  },
  {
   "cell_type": "code",
   "execution_count": 98,
   "metadata": {},
   "outputs": [],
   "source": [
    "# using str conversion\n",
    "class Solution:\n",
    "    def plusOne(self, digits: List[int]) -> List[int]:\n",
    "        valstr = ''.join([str(i) for i in digits])\n",
    "        newval = int(valstr)+1\n",
    "        return [int(c) for c in list(str(newval))]"
   ]
  },
  {
   "cell_type": "code",
   "execution_count": 111,
   "metadata": {},
   "outputs": [],
   "source": [
    "# direct list iterations\n",
    "class Solution:\n",
    "    def plusOne(self, digits: List[int]) -> List[int]:\n",
    "        i = len(digits)-1\n",
    "        while digits[i] == 9:\n",
    "            digits[i] = 0\n",
    "            i -= 1\n",
    "            \n",
    "        if i < 0:\n",
    "            digits = [1] + digits\n",
    "        else:\n",
    "            digits[i] += 1\n",
    "        return digits"
   ]
  },
  {
   "cell_type": "code",
   "execution_count": 114,
   "metadata": {},
   "outputs": [
    {
     "data": {
      "text/plain": [
       "[1, 0, 0, 0, 0]"
      ]
     },
     "execution_count": 114,
     "metadata": {},
     "output_type": "execute_result"
    }
   ],
   "source": [
    "soln = Solution()\n",
    "soln.plusOne([9,9,9,9])"
   ]
  },
  {
   "cell_type": "markdown",
   "metadata": {},
   "source": [
    "## Day 7: 7/7/20\n",
    "### 463. Island Perimeter\n",
    "EASY  \n",
    "https://leetcode.com/problems/island-perimeter/  \n",
    "https://leetcode.com/explore/challenge/card/july-leetcoding-challenge/544/week-1-july-1st-july-7th/3383/"
   ]
  },
  {
   "cell_type": "markdown",
   "metadata": {},
   "source": [
    "You are given a map in form of a two-dimensional integer grid where 1 represents land and 0 represents water.\n",
    "\n",
    "Grid cells are connected horizontally/vertically (not diagonally). The grid is completely surrounded by water, and there is exactly one island (i.e., one or more connected land cells).\n",
    "\n",
    "The island doesn't have \"lakes\" (water inside that isn't connected to the water around the island). One cell is a square with side length 1. The grid is rectangular, width and height don't exceed 100. Determine the perimeter of the island.\n",
    "\n",
    "**Example:**\n",
    "```\n",
    "Input:\n",
    "[[0,1,0,0],\n",
    " [1,1,1,0],\n",
    " [0,1,0,0],\n",
    " [1,1,0,0]]\n",
    "\n",
    "Output: 16\n",
    "\n",
    "Explanation: The perimeter is the 16 yellow stripes in the image below:\n",
    "```\n",
    "![https://assets.leetcode.com/uploads/2018/10/12/island.png](https://assets.leetcode.com/uploads/2018/10/12/island.png)"
   ]
  },
  {
   "cell_type": "code",
   "execution_count": 153,
   "metadata": {},
   "outputs": [],
   "source": [
    "grid1 = [[0,1,0,0],\n",
    "         [1,1,1,0],\n",
    "         [0,1,0,0],\n",
    "         [1,1,0,0]]\n",
    "grid2 = [[0,1,0,0],\n",
    "         [0,1,1,1],\n",
    "         [0,1,0,0],\n",
    "         [1,1,1,1]]\n",
    "grid3 = [[1,0]]"
   ]
  },
  {
   "cell_type": "code",
   "execution_count": 156,
   "metadata": {},
   "outputs": [
    {
     "data": {
      "text/plain": [
       "2"
      ]
     },
     "execution_count": 156,
     "metadata": {},
     "output_type": "execute_result"
    }
   ],
   "source": [
    "len(grid3[0])"
   ]
  },
  {
   "cell_type": "code",
   "execution_count": 157,
   "metadata": {},
   "outputs": [],
   "source": [
    "class Solution:\n",
    "    def islandPerimeter(self, grid: List[List[int]]) -> int:\n",
    "        peri = 0\n",
    "        height,width = len(grid), len(grid[0])\n",
    "        for r in range(height):\n",
    "            for c in range(width):\n",
    "                if grid[r][c]==1:\n",
    "                    if ((r-1)>=0 and grid[r-1][c]==0) or ((r-1)<0):\n",
    "                        peri += 1\n",
    "                    if ((c-1)>=0 and grid[r][c-1]==0) or ((c-1)<0):\n",
    "                        peri += 1\n",
    "                    if ((c+1)<width and grid[r][c+1]==0) or ((c+1)>=width):\n",
    "                        peri += 1\n",
    "                    if ((r+1)<height and grid[r+1][c]==0) or ((r+1)>=height):\n",
    "                        peri += 1\n",
    "        return peri"
   ]
  },
  {
   "cell_type": "code",
   "execution_count": 159,
   "metadata": {},
   "outputs": [],
   "source": [
    "# using logical short-circuiting\n",
    "class Solution:\n",
    "    def islandPerimeter(self, grid: List[List[int]]) -> int:\n",
    "        peri = 0\n",
    "        height,width = len(grid), len(grid[0])\n",
    "        for r in range(height):\n",
    "            for c in range(width):\n",
    "                if grid[r][c]==1: # perform additional checks only if square is land\n",
    "                    # checks if square on edge first before water check\n",
    "                    if r==0 or grid[r-1][c]==0:\n",
    "                        peri += 1\n",
    "                    if c==0 or grid[r][c-1]==0:\n",
    "                        peri += 1\n",
    "                    if c==width-1 or grid[r][c+1]==0:\n",
    "                        peri += 1\n",
    "                    if r==height-1 or grid[r+1][c]==0:\n",
    "                        peri += 1\n",
    "        return peri"
   ]
  },
  {
   "cell_type": "code",
   "execution_count": 164,
   "metadata": {},
   "outputs": [
    {
     "data": {
      "text/plain": [
       "16"
      ]
     },
     "execution_count": 164,
     "metadata": {},
     "output_type": "execute_result"
    }
   ],
   "source": [
    "soln = Solution()\n",
    "soln.islandPerimeter(grid1)"
   ]
  },
  {
   "cell_type": "markdown",
   "metadata": {},
   "source": [
    "## Day 8: 7/8/20\n",
    "### 15. 3Sum\n",
    "MEDIUM  \n",
    "https://leetcode.com/problems/3sum/  \n",
    "https://leetcode.com/explore/challenge/card/july-leetcoding-challenge/545/week-2-july-8th-july-14th/3384/\n",
    "\n",
    "**Also on:**  \n",
    "[Blind recommended list](https://www.teamblind.com/post/New-Year-Gift---Curated-List-of-Top-75-LeetCode-Questions-to-Save-Your-Time-OaM1orEU)"
   ]
  },
  {
   "cell_type": "markdown",
   "metadata": {},
   "source": [
    "Given an array `nums` of n integers, are there elements a, b, c in `nums` such that a + b + c = 0? Find all unique triplets in the array which gives the sum of zero.\n",
    "\n",
    "**Note:**\n",
    "\n",
    "The solution set must not contain duplicate triplets.\n",
    "\n",
    "**Example:**\n",
    "```\n",
    "Given array nums = [-1, 0, 1, 2, -1, -4],\n",
    "\n",
    "A solution set is:\n",
    "[\n",
    "  [-1, 0, 1],\n",
    "  [-1, -1, 2]\n",
    "]\n",
    "```"
   ]
  },
  {
   "cell_type": "markdown",
   "metadata": {},
   "source": [
    "**Study Notes:**\n",
    "* optimal solution is $O(n^2)$ time"
   ]
  },
  {
   "cell_type": "code",
   "execution_count": 166,
   "metadata": {},
   "outputs": [],
   "source": [
    "nums1 = [-1, 0, 1, 2, -1, -4]\n",
    "nums2 = [0,0,0,0]\n",
    "nums3 = [-2, 1, 1, 1]"
   ]
  },
  {
   "cell_type": "code",
   "execution_count": 203,
   "metadata": {},
   "outputs": [],
   "source": [
    "class Solution:\n",
    "    def threeSum(self, nums: List[int]) -> List[List[int]]:\n",
    "        nums = sorted(nums)\n",
    "        result = []\n",
    "        for i in range(len(nums)):\n",
    "            # skip iteration if nums[i] same as previous value (to avoid duplicates)\n",
    "            if i>0 and nums[i]==nums[i-1]:\n",
    "                continue\n",
    "            else: # two sum hash map solution\n",
    "                dct = {}\n",
    "                target = -nums[i]\n",
    "                for i2 in range(i+1,len(nums)):\n",
    "                    dct[nums[i2]] = i2\n",
    "                for i2 in range(i+1,len(nums)):\n",
    "                    # skip check again if nums[i2] same as previous\n",
    "                    if i2>i+1 and nums[i2]==nums[i2-1]:\n",
    "                        continue\n",
    "                    else:\n",
    "                        c = target-nums[i2]\n",
    "                        # check if complement in dict\n",
    "                        # also make sure dict result is not the same item at i2\n",
    "                        if c in dct and dct[c]>i2:\n",
    "                            result.append([nums[i],nums[i2],c])\n",
    "        return result"
   ]
  },
  {
   "cell_type": "code",
   "execution_count": 204,
   "metadata": {},
   "outputs": [
    {
     "data": {
      "text/plain": [
       "[[-1, -1, 2], [-1, 0, 1]]"
      ]
     },
     "execution_count": 204,
     "metadata": {},
     "output_type": "execute_result"
    }
   ],
   "source": [
    "soln = Solution()\n",
    "soln.threeSum(nums1)"
   ]
  },
  {
   "cell_type": "markdown",
   "metadata": {},
   "source": [
    "## Day 9: 7/9/20\n",
    "### 662. Maximum Width of Binary Tree\n",
    "MEDIUM  \n",
    "https://leetcode.com/problems/maximum-width-of-binary-tree/  \n",
    "https://leetcode.com/explore/challenge/card/july-leetcoding-challenge/545/week-2-july-8th-july-14th/3385/"
   ]
  },
  {
   "cell_type": "markdown",
   "metadata": {},
   "source": [
    "Given a binary tree, write a function to get the maximum width of the given tree. The width of a tree is the maximum width among all levels. The binary tree has the same structure as a **full binary tree**, but some nodes are `null`.\n",
    "\n",
    "The width of one level is defined as the length between the end-nodes (the leftmost and right most non-null nodes in the level, where the null nodes between the end-nodes are also counted into the length calculation.\n",
    "\n",
    "**Example 1:**\n",
    "```\n",
    "Input: \n",
    "\n",
    "           1\n",
    "         /   \\\n",
    "        3     2\n",
    "       / \\     \\  \n",
    "      5   3     9 \n",
    "\n",
    "Output: 4\n",
    "Explanation: The maximum width existing in the third level with the length 4 (5,3,null,9).\n",
    "```\n",
    "**Example 2:**\n",
    "```\n",
    "Input: \n",
    "\n",
    "          1\n",
    "         /  \n",
    "        3    \n",
    "       / \\       \n",
    "      5   3     \n",
    "\n",
    "Output: 2\n",
    "Explanation: The maximum width existing in the third level with the length 2 (5,3).\n",
    "```\n",
    "**Example 3:**\n",
    "```\n",
    "Input: \n",
    "\n",
    "          1\n",
    "         / \\\n",
    "        3   2 \n",
    "       /        \n",
    "      5      \n",
    "\n",
    "Output: 2\n",
    "Explanation: The maximum width existing in the second level with the length 2 (3,2).\n",
    "```\n",
    "**Example 4:**\n",
    "```\n",
    "Input: \n",
    "\n",
    "          1\n",
    "         / \\\n",
    "        3   2\n",
    "       /     \\  \n",
    "      5       9 \n",
    "     /         \\\n",
    "    6           7\n",
    "Output: 8\n",
    "Explanation:The maximum width existing in the fourth level with the length 8 (6,null,null,null,null,null,null,7).\n",
    "```\n",
    "\n",
    "**Note:** Answer will in the range of 32-bit signed integer."
   ]
  },
  {
   "cell_type": "code",
   "execution_count": 259,
   "metadata": {},
   "outputs": [],
   "source": [
    "# Definition for a binary tree node.\n",
    "class TreeNode:\n",
    "    def __init__(self, val=0, left=None, right=None):\n",
    "        self.val = val\n",
    "        self.left = left\n",
    "        self.right = right\n",
    "\n",
    "# construct tree from level order array, assumes array is fully populated with missing nodes\n",
    "def constructtree(nodes, i, n):\n",
    "    root = None\n",
    "    if i < n and nodes[i] is not None:\n",
    "        root = TreeNode(nodes[i])\n",
    "        root.left = constructtree(nodes,2*i+1,n)\n",
    "        root.right = constructtree(nodes,2*i+2,n)\n",
    "        \n",
    "    return root\n",
    "\n",
    "# display tree in level order (using stack)\n",
    "def printtree(root):\n",
    "    q = [root]\n",
    "    nodevals = []\n",
    "    while q:\n",
    "        node = q.pop(0)\n",
    "        if node:\n",
    "            nodevals.append(node.val)\n",
    "            # add to queue only if any children exists\n",
    "            if node.left or node.right:\n",
    "                q.append(node.left)\n",
    "                q.append(node.right)\n",
    "        else:\n",
    "            nodevals.append(None)\n",
    "    return nodevals\n",
    "\n",
    "tree1 = [1,3,2,5,3,None,9]\n",
    "root1 = constructtree(tree1,0,len(tree1))\n",
    "tree2 = [1,3,None,5,3]\n",
    "root2 = constructtree(tree2,0,len(tree2))\n",
    "tree3 = [1,3,2,5,None]\n",
    "root3 = constructtree(tree3,0,len(tree3))\n",
    "tree4 = [1,3,2,5,None,None,9,6,None,None,None,None,None,None,7]\n",
    "root4 = constructtree(tree4,0,len(tree4))"
   ]
  },
  {
   "cell_type": "code",
   "execution_count": 264,
   "metadata": {},
   "outputs": [
    {
     "data": {
      "text/plain": [
       "7"
      ]
     },
     "execution_count": 264,
     "metadata": {},
     "output_type": "execute_result"
    }
   ],
   "source": [
    "root4.right.right.right.val"
   ]
  },
  {
   "cell_type": "code",
   "execution_count": 260,
   "metadata": {},
   "outputs": [
    {
     "data": {
      "text/plain": [
       "[1, 3, 2, 5, None, None, 9, 6, None, None, 7]"
      ]
     },
     "execution_count": 260,
     "metadata": {},
     "output_type": "execute_result"
    }
   ],
   "source": [
    "# doesn't print\n",
    "printtree(root4)"
   ]
  },
  {
   "cell_type": "code",
   "execution_count": 265,
   "metadata": {},
   "outputs": [],
   "source": [
    "class Solution:\n",
    "    def widthOfBinaryTree(self, root: TreeNode) -> int:\n",
    "        \n",
    "        def position(node,depth,pos):\n",
    "            if node and node.left:\n",
    "                return position(node.left,depth+1,2*pos+1)\n",
    "            elif node and node.right:\n",
    "                return position(node.right,depth+1,2*pos+2)\n",
    "            else:\n",
    "                \n",
    "        \n",
    "        # use two dicts to track width of left and right sides for each depth\n",
    "        \n",
    "        depth,lpos = position(root.left,1)\n",
    "        depth,rpos = position(root.right,2)\n",
    "        return rpos-lpos+1"
   ]
  },
  {
   "cell_type": "code",
   "execution_count": null,
   "metadata": {},
   "outputs": [],
   "source": []
  },
  {
   "cell_type": "code",
   "execution_count": null,
   "metadata": {},
   "outputs": [],
   "source": []
  },
  {
   "cell_type": "markdown",
   "metadata": {},
   "source": [
    "## Day 10: 7/10/20\n",
    "### 430. Flatten a Multilevel Doubly Linked List\n",
    "MEDIUM  \n",
    "https://leetcode.com/problems/flatten-a-multilevel-doubly-linked-list/  \n",
    "https://leetcode.com/explore/challenge/card/july-leetcoding-challenge/545/week-2-july-8th-july-14th/3386/"
   ]
  },
  {
   "cell_type": "markdown",
   "metadata": {},
   "source": [
    "You are given a doubly linked list which in addition to the next and previous pointers, it could have a child pointer, which may or may not point to a separate doubly linked list. These child lists may have one or more children of their own, and so on, to produce a multilevel data structure, as shown in the example below.\n",
    "\n",
    "Flatten the list so that all the nodes appear in a single-level, doubly linked list. You are given the head of the first level of the list.\n",
    "\n",
    " \n",
    "\n",
    "**Example 1:**\n",
    "```\n",
    "Input: head = [1,2,3,4,5,6,null,null,null,7,8,9,10,null,null,11,12]\n",
    "Output: [1,2,3,7,8,11,12,9,10,4,5,6]\n",
    "```\n",
    "Explanation:\n",
    "\n",
    "The multilevel linked list in the input is as follows:\n",
    "![https://assets.leetcode.com/uploads/2018/10/12/multilevellinkedlist.png](https://assets.leetcode.com/uploads/2018/10/12/multilevellinkedlist.png)\n",
    "\n",
    "After flattening the multilevel linked list it becomes:\n",
    "![https://assets.leetcode.com/uploads/2018/10/12/multilevellinkedlistflattened.png](https://assets.leetcode.com/uploads/2018/10/12/multilevellinkedlistflattened.png)\n",
    "\n",
    "\n",
    "**Example 2:**\n",
    "```\n",
    "Input: head = [1,2,null,3]\n",
    "Output: [1,3,2]\n",
    "Explanation:\n",
    "\n",
    "The input multilevel linked list is as follows:\n",
    "\n",
    "  1---2---NULL\n",
    "  |\n",
    "  3---NULL\n",
    "```\n",
    "**Example 3:**\n",
    "```\n",
    "Input: head = []\n",
    "Output: []\n",
    "```\n",
    "\n",
    "**How multilevel linked list is represented in test case:**\n",
    "\n",
    "We use the multilevel linked list from **Example 1** above:\n",
    "```\n",
    " 1---2---3---4---5---6--NULL\n",
    "         |\n",
    "         7---8---9---10--NULL\n",
    "             |\n",
    "             11--12--NULL\n",
    "```\n",
    "The serialization of each level is as follows:\n",
    "```\n",
    "[1,2,3,4,5,6,null]\n",
    "[7,8,9,10,null]\n",
    "[11,12,null]\n",
    "```\n",
    "To serialize all levels together we will add nulls in each level to signify no node connects to the upper node of the previous level. The serialization becomes:\n",
    "```\n",
    "[1,2,3,4,5,6,null]\n",
    "[null,null,7,8,9,10,null]\n",
    "[null,11,12,null]\n",
    "```\n",
    "Merging the serialization of each level and removing trailing nulls we obtain:\n",
    "```\n",
    "[1,2,3,4,5,6,null,null,null,7,8,9,10,null,null,11,12]\n",
    "```\n",
    "\n",
    "**Constraints:**\n",
    "\n",
    "* Number of Nodes will not exceed 1000.\n",
    "* `1 <= Node.val <= 10^5`"
   ]
  },
  {
   "cell_type": "code",
   "execution_count": 421,
   "metadata": {},
   "outputs": [],
   "source": [
    "# Definition for a Node.\n",
    "class Node:\n",
    "    def __init__(self, val, prev, next, child):\n",
    "        self.val = val\n",
    "        self.prev = prev\n",
    "        self.next = next\n",
    "        self.child = child\n",
    "\n",
    "# fix later\n",
    "def nestedlist(nodes):\n",
    "    prevnode, nextnode  = None, None\n",
    "    for i,n in enumerate(nodes):\n",
    "        if (i>0) and nodes[i-1] is not None:\n",
    "            node = Node(n,prevnode,nextnode,None)\n",
    "        elif (i>0) and nodes[i-1] is None:\n",
    "            if nodes[i] is not None:\n",
    "                continue\n",
    "                \n",
    "            prevnode, nextnode = None, None\n",
    "            node = Node(n,prevnode,nextnode)\n",
    "            \n",
    "# simple list\n",
    "def simplelist(nodes):\n",
    "    head = Node(0,None,None,None)\n",
    "    prevnode, nextnode, childnode = None, None, None\n",
    "    newlist = True\n",
    "    if nodes:\n",
    "        for i,n in enumerate(nodes):\n",
    "            if i==0:\n",
    "                node = Node(n,prevnode,nextnode,childnode)\n",
    "                head.next = node # save real head as head.next\n",
    "                prevnode = node\n",
    "            else:\n",
    "                node = Node(n,prevnode,nextnode,childnode)\n",
    "                prevnode.next = node\n",
    "                prevnode = node\n",
    "    else:\n",
    "        head.next = None\n",
    "    return head.next\n",
    "\n",
    "def printlist(head):\n",
    "    nodevals = []\n",
    "    if head:\n",
    "        nodevals.append(head.val)\n",
    "        while head.next:\n",
    "            head = head.next\n",
    "            nodevals.append(head.val)\n",
    "    return nodevals\n",
    "            \n",
    "    \n",
    "nodes1 = [1,2,3,4,5,6,None,None,None,7,8,9,10,None,None,11,12]\n",
    "head1 = simplelist(nodes1[:6])\n",
    "h1subhead1 = simplelist(nodes1[9:13])\n",
    "h1subhead2 = simplelist(nodes1[15:])\n",
    "head1.next.next.child = h1subhead1\n",
    "h1subhead1.next.child = h1subhead2\n",
    "\n",
    "nodes2 = [1,2,None,3]\n",
    "head2 = simplelist(nodes2[:2])\n",
    "h2subhead1 = simplelist(nodes2[3:4])\n",
    "head2.child = h2subhead1\n",
    "\n",
    "nodes3 = []\n",
    "head3 = simplelist(nodes3)"
   ]
  },
  {
   "cell_type": "code",
   "execution_count": 422,
   "metadata": {},
   "outputs": [],
   "source": [
    "class Solution:\n",
    "    def flatten(self, head: 'Node') -> 'Node':\n",
    "        stack = []\n",
    "        prevnode = None\n",
    "        if head:\n",
    "            stack.append(head)\n",
    "        while stack:\n",
    "            node = stack.pop()\n",
    "            if node.next:\n",
    "                stack.append(node.next)\n",
    "            if node.child:\n",
    "                stack.append(node.child)\n",
    "                node.next = node.child\n",
    "                node.child = None\n",
    "            node.prev = prevnode\n",
    "            if prevnode and prevnode.next is None:\n",
    "                prevnode.next = node\n",
    "            prevnode = node\n",
    "        return head"
   ]
  },
  {
   "cell_type": "code",
   "execution_count": 423,
   "metadata": {},
   "outputs": [
    {
     "data": {
      "text/plain": [
       "[]"
      ]
     },
     "execution_count": 423,
     "metadata": {},
     "output_type": "execute_result"
    }
   ],
   "source": [
    "soln = Solution()\n",
    "flattened = soln.flatten(head3)\n",
    "printlist(flattened)"
   ]
  },
  {
   "cell_type": "markdown",
   "metadata": {},
   "source": [
    "## Day 11: 7/11/20\n",
    "### 78. Subsets\n",
    "MEDIUM  \n",
    "https://leetcode.com/problems/subsets/  \n",
    "https://leetcode.com/explore/challenge/card/july-leetcoding-challenge/545/week-2-july-8th-july-14th/3387/"
   ]
  },
  {
   "cell_type": "markdown",
   "metadata": {},
   "source": [
    "Given a set of **distinct** integers, *nums*, return all possible subsets (the power set).\n",
    "\n",
    "**Note:** The solution set must not contain duplicate subsets.\n",
    "\n",
    "**Example:**\n",
    "```\n",
    "Input: nums = [1,2,3]\n",
    "Output:\n",
    "[\n",
    "  [3],\n",
    "  [1],\n",
    "  [2],\n",
    "  [1,2,3],\n",
    "  [1,3],\n",
    "  [2,3],\n",
    "  [1,2],\n",
    "  []\n",
    "]\n",
    "```"
   ]
  },
  {
   "cell_type": "code",
   "execution_count": 9,
   "metadata": {},
   "outputs": [],
   "source": [
    "nums1 = [1,2,3]\n",
    "nums2 = [1,2,3,4,5]"
   ]
  },
  {
   "cell_type": "code",
   "execution_count": 60,
   "metadata": {},
   "outputs": [],
   "source": [
    "# cascading solution\n",
    "class Solution:\n",
    "    def subsets(self, nums: List[int]) -> List[List[int]]:\n",
    "        out = [[]]\n",
    "        for n in nums:\n",
    "            out += [o+[n] for o in out]\n",
    "        return out"
   ]
  },
  {
   "cell_type": "markdown",
   "metadata": {},
   "source": [
    "**study notes:**\n",
    "* $O(n*2^n)$ run time"
   ]
  },
  {
   "cell_type": "code",
   "execution_count": 55,
   "metadata": {},
   "outputs": [],
   "source": [
    "# bitmask solution\n",
    "class Solution:\n",
    "    def subsets(self, nums: List[int]) -> List[List[int]]:\n",
    "        n = len(nums)\n",
    "        nth_bit = 1 << n\n",
    "        out = []\n",
    "        for i in range(2**n):\n",
    "            # use xor and truncate first 3 chars to created zero left-padded bit representation of i of length n\n",
    "            bitmask = bin(i | nth_bit)[3:] \n",
    "            \n",
    "            # append combination from nums represented by bitmask\n",
    "            out.append([nums[j] for j in range(n) if bitmask[j]=='1'])\n",
    "        return out"
   ]
  },
  {
   "cell_type": "markdown",
   "metadata": {},
   "source": [
    "**Study Notes:**\n",
    "* math axiom: There are $2^n$ possible subsets of a unique set $S$, where $n$ is the number of items\n",
    "    * [power set](https://en.wikipedia.org/wiki/Power_set)\n",
    "    * [proof of axiom](https://math.stackexchange.com/questions/546414/what-is-the-proof-that-the-total-number-of-subsets-of-a-set-is-2n)\n",
    "* approach is to generate a bitmask of length $n$ that represents every subset in nums\n",
    "* convert every integer from 0 to $2^n$ into bit representation and zero left pad to length $n$\n",
    "* use bitmask to select items from nums"
   ]
  },
  {
   "cell_type": "code",
   "execution_count": 61,
   "metadata": {},
   "outputs": [
    {
     "data": {
      "text/plain": [
       "[[], [1], [2], [1, 2], [3], [1, 3], [2, 3], [1, 2, 3]]"
      ]
     },
     "execution_count": 61,
     "metadata": {},
     "output_type": "execute_result"
    }
   ],
   "source": [
    "soln = Solution()\n",
    "soln.subsets(nums1)"
   ]
  },
  {
   "cell_type": "markdown",
   "metadata": {},
   "source": [
    "## Day 12: 7/12/20\n",
    "### 190. Reverse Bits\n",
    "EASY  \n",
    "https://leetcode.com/problems/reverse-bits/  \n",
    "https://leetcode.com/explore/challenge/card/july-leetcoding-challenge/545/week-2-july-8th-july-14th/3388/"
   ]
  },
  {
   "cell_type": "markdown",
   "metadata": {},
   "source": [
    "Reverse bits of a given 32 bits unsigned integer.\n",
    "\n",
    " \n",
    "\n",
    "**Example 1:**\n",
    "```\n",
    "Input: 00000010100101000001111010011100\n",
    "Output: 00111001011110000010100101000000\n",
    "Explanation: The input binary string 00000010100101000001111010011100 represents the unsigned integer 43261596, so return 964176192 which its binary representation is 00111001011110000010100101000000.\n",
    "```\n",
    "**Example 2:**\n",
    "```\n",
    "Input: 11111111111111111111111111111101\n",
    "Output: 10111111111111111111111111111111\n",
    "Explanation: The input binary string 11111111111111111111111111111101 represents the unsigned integer 4294967293, so return 3221225471 which its binary representation is 10111111111111111111111111111111.\n",
    "```\n",
    "\n",
    "**Note:**\n",
    "\n",
    "* Note that in some languages such as Java, there is no unsigned integer type. In this case, both input and output will be given as signed integer type and should not affect your implementation, as the internal binary representation of the integer is the same whether it is signed or unsigned.\n",
    "* In Java, the compiler represents the signed integers using 2's complement notation. Therefore, in Example 2 above the input represents the signed integer -3 and the output represents the signed integer -1073741825."
   ]
  },
  {
   "cell_type": "code",
   "execution_count": 65,
   "metadata": {},
   "outputs": [],
   "source": [
    "n1 = int('00000010100101000001111010011100',2) # '00111001011110000010100101000000'\n",
    "n2 = int('11111111111111111111111111111101',2)"
   ]
  },
  {
   "cell_type": "code",
   "execution_count": 118,
   "metadata": {},
   "outputs": [],
   "source": [
    "class Solution:\n",
    "    def reverseBits(self, n: int) -> int:\n",
    "        # need to pad bitstr if using bin\n",
    "        b32 = 1<<32\n",
    "        paddedbitstr = bin(n|b32)[3:]\n",
    "        # or just use built-in string methods in python\n",
    "        bitstr = bin(n)[2:]\n",
    "        newbitstr = bitstr.zfill(32)[::-1]\n",
    "\n",
    "        return int(newbitstr,2)"
   ]
  },
  {
   "cell_type": "markdown",
   "metadata": {},
   "source": [
    "**Study Notes:**\n",
    "* *Reverse* means to reverse the actual bit string sequence, NOT to invert each bit from 1 -> 0 and 0 -> 1"
   ]
  },
  {
   "cell_type": "code",
   "execution_count": 121,
   "metadata": {},
   "outputs": [
    {
     "data": {
      "text/plain": [
       "3221225471"
      ]
     },
     "execution_count": 121,
     "metadata": {},
     "output_type": "execute_result"
    }
   ],
   "source": [
    "soln = Solution()\n",
    "soln.reverseBits(n2)"
   ]
  },
  {
   "cell_type": "markdown",
   "metadata": {},
   "source": [
    "## Day 14: 7/14/20\n",
    "## 1344. Angle Between Hands of a Clock\n",
    "MEDIUM  \n",
    "https://leetcode.com/problems/angle-between-hands-of-a-clock/  \n",
    "https://leetcode.com/explore/challenge/card/july-leetcoding-challenge/545/week-2-july-8th-july-14th/3390/"
   ]
  },
  {
   "cell_type": "markdown",
   "metadata": {},
   "source": [
    "Given two numbers, `hour` and `minutes`. Return the smaller angle (in degrees) formed between the `hour` and the `minute` hand.\n",
    "\n",
    "**Example 1:**\n",
    "\n",
    "![https://assets.leetcode.com/uploads/2019/12/26/sample_1_1673.png](https://assets.leetcode.com/uploads/2019/12/26/sample_1_1673.png)\n",
    "```\n",
    "Input: hour = 12, minutes = 30\n",
    "Output: 165\n",
    "```\n",
    "**Example 2:**\n",
    "\n",
    "![https://assets.leetcode.com/uploads/2019/12/26/sample_2_1673.png](https://assets.leetcode.com/uploads/2019/12/26/sample_2_1673.png)\n",
    "```\n",
    "Input: hour = 3, minutes = 30\n",
    "Output: 75\n",
    "```\n",
    "**Example 3:**\n",
    "\n",
    "![https://assets.leetcode.com/uploads/2019/12/26/sample_3_1673.png](https://assets.leetcode.com/uploads/2019/12/26/sample_3_1673.png)\n",
    "```\n",
    "Input: hour = 3, minutes = 15\n",
    "Output: 7.5\n",
    "```\n",
    "**Example 4:**\n",
    "```\n",
    "Input: hour = 4, minutes = 50\n",
    "Output: 155\n",
    "```\n",
    "**Example 5:**\n",
    "```\n",
    "Input: hour = 12, minutes = 0\n",
    "Output: 0\n",
    "```\n",
    "\n",
    "**Constraints:**\n",
    "\n",
    "* `1 <= hour <= 12`\n",
    "* `0 <= minutes <= 59`\n",
    "* Answers within `10^-5` of the actual value will be accepted as correct."
   ]
  },
  {
   "cell_type": "code",
   "execution_count": 5,
   "metadata": {},
   "outputs": [],
   "source": [
    "hour1,minutes1 = 12, 30\n",
    "hour2,minutes2 = 3, 30\n",
    "hour3,minutes3 = 3, 15\n",
    "hour4,minutes4 = 4, 50\n",
    "hour5,minutes5 = 12, 0"
   ]
  },
  {
   "cell_type": "code",
   "execution_count": 18,
   "metadata": {},
   "outputs": [],
   "source": [
    "class Solution:\n",
    "    def angleClock(self, hour: int, minutes: int) -> float:\n",
    "        if hour == 12:\n",
    "            hour = 0\n",
    "        hangle = hour*30+(minutes/60)*30\n",
    "        mangle = (minutes/60)*360\n",
    "        \n",
    "        diff = abs(mangle-hangle)\n",
    "        result = min(diff,360-diff)\n",
    "        return result"
   ]
  },
  {
   "cell_type": "code",
   "execution_count": 21,
   "metadata": {},
   "outputs": [
    {
     "data": {
      "text/plain": [
       "7.5"
      ]
     },
     "execution_count": 21,
     "metadata": {},
     "output_type": "execute_result"
    }
   ],
   "source": [
    "soln = Solution()\n",
    "soln.angleClock(hour3,minutes3)"
   ]
  },
  {
   "cell_type": "markdown",
   "metadata": {},
   "source": [
    "## Day 15: 7/15/20\n",
    "### 151. Reverse Words in a String\n",
    "MEDIUM  \n",
    "https://leetcode.com/problems/reverse-words-in-a-string/  \n",
    "https://leetcode.com/explore/challenge/card/july-leetcoding-challenge/546/week-3-july-15th-july-21st/3391/"
   ]
  },
  {
   "cell_type": "markdown",
   "metadata": {},
   "source": [
    "Given an input string, reverse the string word by word.\n",
    "\n",
    " \n",
    "\n",
    "**Example 1:**\n",
    "```\n",
    "Input: \"the sky is blue\"\n",
    "Output: \"blue is sky the\"\n",
    "```\n",
    "**Example 2:**\n",
    "```\n",
    "Input: \"  hello world!  \"\n",
    "Output: \"world! hello\"\n",
    "Explanation: Your reversed string should not contain leading or trailing spaces.\n",
    "```\n",
    "**Example 3:**\n",
    "```\n",
    "Input: \"a good   example\"\n",
    "Output: \"example good a\"\n",
    "Explanation: You need to reduce multiple spaces between two words to a single space in the reversed string.\n",
    "```\n",
    "\n",
    "**Note:**\n",
    "\n",
    "* A word is defined as a sequence of non-space characters.\n",
    "* Input string may contain leading or trailing spaces. However, your reversed string should not contain leading or trailing spaces.\n",
    "* You need to reduce multiple spaces between two words to a single space in the reversed string."
   ]
  },
  {
   "cell_type": "code",
   "execution_count": 9,
   "metadata": {},
   "outputs": [
    {
     "data": {
      "text/plain": [
       "'spaces different with string test'"
      ]
     },
     "execution_count": 9,
     "metadata": {},
     "output_type": "execute_result"
    }
   ],
   "source": [
    "test1 = 'test  string with    different spaces   '\n",
    "' '.join(test1.split()[::-1])"
   ]
  },
  {
   "cell_type": "code",
   "execution_count": 5,
   "metadata": {},
   "outputs": [],
   "source": [
    "s1 = \"the sky is blue\"\n",
    "s2 = \"  hello world!  \"\n",
    "s3 = \"a good   example\""
   ]
  },
  {
   "cell_type": "code",
   "execution_count": 10,
   "metadata": {},
   "outputs": [],
   "source": [
    "# trivial python solution using built-in split\n",
    "class Solution:\n",
    "    def reverseWords(self, s: str) -> str:\n",
    "    \n",
    "        return ' '.join(s.split()[::-1])"
   ]
  },
  {
   "cell_type": "code",
   "execution_count": 16,
   "metadata": {},
   "outputs": [
    {
     "data": {
      "text/plain": [
       "'teststringwithdifferentspaces'"
      ]
     },
     "execution_count": 16,
     "metadata": {},
     "output_type": "execute_result"
    }
   ],
   "source": [
    "word = ''\n",
    "for c in test1:\n",
    "    if c != ' ':\n",
    "        word += c\n",
    "word"
   ]
  },
  {
   "cell_type": "code",
   "execution_count": null,
   "metadata": {},
   "outputs": [],
   "source": [
    "# \"in-place\" solution using list\n",
    "class Solution:\n",
    "    def reverseWords(self, s: str) -> str:\n",
    "        ls = list(s)\n",
    "        for i in range()\n",
    "        return ' '.join(s.split()[::-1])"
   ]
  },
  {
   "cell_type": "code",
   "execution_count": 13,
   "metadata": {},
   "outputs": [
    {
     "data": {
      "text/plain": [
       "'example good a'"
      ]
     },
     "execution_count": 13,
     "metadata": {},
     "output_type": "execute_result"
    }
   ],
   "source": [
    "soln = Solution()\n",
    "soln.reverseWords(s3)"
   ]
  },
  {
   "cell_type": "markdown",
   "metadata": {},
   "source": [
    "## Day 16: 7/16/20\n",
    "### 50. Pow(x, n)\n",
    "MEDIUM  \n",
    "https://leetcode.com/problems/powx-n/  \n",
    "https://leetcode.com/explore/challenge/card/july-leetcoding-challenge/546/week-3-july-15th-july-21st/3392/"
   ]
  },
  {
   "cell_type": "markdown",
   "metadata": {},
   "source": [
    "Implement [pow(x, n)](http://www.cplusplus.com/reference/valarray/pow/), which calculates *x* raised to the power *n* ($x^n$).\n",
    "\n",
    "**Example 1:**\n",
    "```\n",
    "Input: 2.00000, 10\n",
    "Output: 1024.00000\n",
    "```\n",
    "**Example 2:**\n",
    "```\n",
    "Input: 2.10000, 3\n",
    "Output: 9.26100\n",
    "```\n",
    "**Example 3:**\n",
    "```\n",
    "Input: 2.00000, -2\n",
    "Output: 0.25000\n",
    "Explanation: 2-2 = 1/22 = 1/4 = 0.25\n",
    "```\n",
    "**Note:**\n",
    "\n",
    "* -100.0 < x < 100.0\n",
    "* *n* is a 32-bit signed integer, within the range [$−2^{31}$, $2^{31}$ − 1]"
   ]
  },
  {
   "cell_type": "code",
   "execution_count": 47,
   "metadata": {},
   "outputs": [],
   "source": [
    "x1,n1 = 2.00000, 10\n",
    "x2,n2 = 2.10000, 3\n",
    "x3,n3 = 2.00000, -2"
   ]
  },
  {
   "cell_type": "code",
   "execution_count": 55,
   "metadata": {},
   "outputs": [],
   "source": [
    "# naive looping solution\n",
    "class Solution:\n",
    "    def myPow(self, x: float, n: int) -> float:\n",
    "        result = 1\n",
    "        for i in range(abs(n)):\n",
    "            result *= x\n",
    "        return result if n > 0 else 1/result"
   ]
  },
  {
   "cell_type": "code",
   "execution_count": null,
   "metadata": {},
   "outputs": [],
   "source": [
    "# using recursion for logn speed\n",
    "class Solution:\n",
    "    def myPow(self, x: float, n: int) -> float:\n",
    "        result = 1\n",
    "        for i in range(abs(n)):\n",
    "            result *= x\n",
    "        return result if n > 0 else 1/result"
   ]
  },
  {
   "cell_type": "code",
   "execution_count": 59,
   "metadata": {},
   "outputs": [
    {
     "data": {
      "text/plain": [
       "1024"
      ]
     },
     "execution_count": 59,
     "metadata": {},
     "output_type": "execute_result"
    }
   ],
   "source": [
    "test = 2\n"
   ]
  },
  {
   "cell_type": "code",
   "execution_count": 60,
   "metadata": {},
   "outputs": [
    {
     "data": {
      "text/plain": [
       "81"
      ]
     },
     "execution_count": 60,
     "metadata": {},
     "output_type": "execute_result"
    }
   ],
   "source": [
    "3**4"
   ]
  },
  {
   "cell_type": "code",
   "execution_count": 65,
   "metadata": {},
   "outputs": [
    {
     "data": {
      "text/plain": [
       "6561"
      ]
     },
     "execution_count": 65,
     "metadata": {},
     "output_type": "execute_result"
    }
   ],
   "source": [
    "81*81"
   ]
  },
  {
   "cell_type": "code",
   "execution_count": 63,
   "metadata": {},
   "outputs": [
    {
     "data": {
      "text/plain": [
       "6561"
      ]
     },
     "execution_count": 63,
     "metadata": {},
     "output_type": "execute_result"
    }
   ],
   "source": [
    "3**8"
   ]
  },
  {
   "cell_type": "code",
   "execution_count": 66,
   "metadata": {},
   "outputs": [],
   "source": [
    "test = 3\n",
    "for i in range(3):\n",
    "    test *= test"
   ]
  },
  {
   "cell_type": "code",
   "execution_count": 68,
   "metadata": {},
   "outputs": [
    {
     "data": {
      "text/plain": [
       "0"
      ]
     },
     "execution_count": 68,
     "metadata": {},
     "output_type": "execute_result"
    }
   ],
   "source": [
    "if 8%2 == 0"
   ]
  },
  {
   "cell_type": "code",
   "execution_count": 56,
   "metadata": {},
   "outputs": [
    {
     "name": "stdout",
     "output_type": "stream",
     "text": [
      "2.0\n",
      "4.0\n",
      "8.0\n",
      "16.0\n",
      "32.0\n",
      "64.0\n",
      "128.0\n",
      "256.0\n",
      "512.0\n",
      "1024.0\n"
     ]
    }
   ],
   "source": [
    "result = 1\n",
    "for i in range(10):\n",
    "    result *= x1\n",
    "    print(result)"
   ]
  },
  {
   "cell_type": "code",
   "execution_count": 57,
   "metadata": {},
   "outputs": [
    {
     "data": {
      "text/plain": [
       "0.25"
      ]
     },
     "execution_count": 57,
     "metadata": {},
     "output_type": "execute_result"
    }
   ],
   "source": [
    "soln = Solution()\n",
    "soln.myPow(x3,n3)"
   ]
  },
  {
   "cell_type": "markdown",
   "metadata": {},
   "source": [
    "## Day 17: 7/17/20\n",
    "### 347. Top K Frequent Elements\n",
    "MEDIUM  \n",
    "https://leetcode.com/problems/top-k-frequent-elements/  \n",
    "https://leetcode.com/explore/challenge/card/july-leetcoding-challenge/546/week-3-july-15th-july-21st/3393/"
   ]
  },
  {
   "cell_type": "markdown",
   "metadata": {},
   "source": [
    "Given a non-empty array of integers, return the **k** most frequent elements.\n",
    "\n",
    "**Example 1:**\n",
    "```\n",
    "Input: nums = [1,1,1,2,2,3], k = 2\n",
    "Output: [1,2]\n",
    "```\n",
    "**Example 2:**\n",
    "```\n",
    "Input: nums = [1], k = 1\n",
    "Output: [1]\n",
    "```\n",
    "**Note:**\n",
    "\n",
    "* You may assume k is always valid, 1 ≤ k ≤ number of unique elements.\n",
    "* Your algorithm's time complexity must be better than **O(n log n)**, where n is the array's size.\n",
    "* It's guaranteed that the answer is unique, in other words the set of the top k frequent elements is unique.\n",
    "* You can return the answer in any order."
   ]
  },
  {
   "cell_type": "code",
   "execution_count": 69,
   "metadata": {},
   "outputs": [],
   "source": [
    "nums1,k1 = [1,1,1,2,2,3], 2\n",
    "nums2,k2 = [1], 1"
   ]
  },
  {
   "cell_type": "code",
   "execution_count": 93,
   "metadata": {},
   "outputs": [],
   "source": [
    "# using python built-ins\n",
    "from collections import Counter\n",
    "class Solution:\n",
    "    def topKFrequent(self, nums: List[int], k: int) -> List[int]:\n",
    "        counts = Counter(nums)\n",
    "        result = [c[0] for c in counts.most_common(k)]\n",
    "        return result"
   ]
  },
  {
   "cell_type": "code",
   "execution_count": 110,
   "metadata": {},
   "outputs": [],
   "source": [
    "# without built-ins, using additional space (hashmap)\n",
    "class Solution:\n",
    "    def topKFrequent(self, nums: List[int], k: int) -> List[int]:\n",
    "        counts = {}\n",
    "        for n in nums:\n",
    "            if n in counts:\n",
    "                counts[n] += 1\n",
    "            else:\n",
    "                counts[n] = 1\n",
    "        results = sorted(counts.items(), key=lambda x: x[1], reverse=True)\n",
    "        return [r[0] for r in results[:k]]"
   ]
  },
  {
   "cell_type": "code",
   "execution_count": 112,
   "metadata": {},
   "outputs": [
    {
     "data": {
      "text/plain": [
       "[1, 2]"
      ]
     },
     "execution_count": 112,
     "metadata": {},
     "output_type": "execute_result"
    }
   ],
   "source": [
    "soln = Solution()\n",
    "soln.topKFrequent(nums1,k1)"
   ]
  },
  {
   "cell_type": "code",
   "execution_count": 101,
   "metadata": {},
   "outputs": [],
   "source": [
    "test = {}\n",
    "for n in nums1:\n",
    "    if n in test:\n",
    "        test[n] += 1\n",
    "    else:\n",
    "        test[n] = 1"
   ]
  },
  {
   "cell_type": "code",
   "execution_count": 107,
   "metadata": {},
   "outputs": [
    {
     "data": {
      "text/plain": [
       "[(1, 3), (2, 2)]"
      ]
     },
     "execution_count": 107,
     "metadata": {},
     "output_type": "execute_result"
    }
   ],
   "source": [
    "sorted(test.items(),key=lambda x: x[1], reverse=True)[:2]"
   ]
  },
  {
   "cell_type": "markdown",
   "metadata": {},
   "source": [
    "## Day 18: 7/18/20\n",
    "### 210. Course Schedule II\n",
    "MEDIUM  \n",
    "https://leetcode.com/problems/course-schedule-ii/  \n",
    "https://leetcode.com/explore/challenge/card/july-leetcoding-challenge/546/week-3-july-15th-july-21st/3394/"
   ]
  },
  {
   "cell_type": "markdown",
   "metadata": {},
   "source": [
    "There are a total of *n* courses you have to take, labeled from `0` to `n-1`.\n",
    "\n",
    "Some courses may have prerequisites, for example to take course `0` you have to first take course `1`, which is expressed as a pair: `[0,1]`\n",
    "\n",
    "Given the total number of courses and a list of prerequisite **pairs**, return the ordering of courses you should take to finish all courses.\n",
    "\n",
    "There may be multiple correct orders, you just need to return one of them. If it is impossible to finish all courses, return an empty array.\n",
    "\n",
    "**Example 1:**\n",
    "```\n",
    "Input: 2, [[1,0]] \n",
    "Output: [0,1]\n",
    "Explanation: There are a total of 2 courses to take. To take course 1 you should have finished   \n",
    "             course 0. So the correct course order is [0,1] .\n",
    "```\n",
    "**Example 2:**\n",
    "```\n",
    "Input: 4, [[1,0],[2,0],[3,1],[3,2]]\n",
    "Output: [0,1,2,3] or [0,2,1,3]\n",
    "Explanation: There are a total of 4 courses to take. To take course 3 you should have finished both     \n",
    "             courses 1 and 2. Both courses 1 and 2 should be taken after you finished course 0. \n",
    "             So one correct course order is [0,1,2,3]. Another correct ordering is [0,2,1,3] .\n",
    "```\n",
    "**Note:**\n",
    "\n",
    "1. The input prerequisites is a graph represented by a list of edges, not adjacency matrices. Read more about [how a graph is represented](https://www.khanacademy.org/computing/computer-science/algorithms/graph-representation/a/representing-graphs).\n",
    "2. You may assume that there are no duplicate edges in the input prerequisites."
   ]
  },
  {
   "cell_type": "code",
   "execution_count": 113,
   "metadata": {},
   "outputs": [],
   "source": [
    "numcourses1,prerequisites1 = 2, [[1,0]]\n",
    "numcourses2,prerequisites2 = 4, [[1,0],[2,0],[3,1],[3,2]]"
   ]
  },
  {
   "cell_type": "code",
   "execution_count": 114,
   "metadata": {},
   "outputs": [],
   "source": [
    "class Solution:\n",
    "    def findOrder(self, numCourses: int, prerequisites: List[List[int]]) -> List[int]:\n",
    "        \n",
    "        return None"
   ]
  },
  {
   "cell_type": "code",
   "execution_count": 115,
   "metadata": {},
   "outputs": [],
   "source": [
    "soln = Solution()\n",
    "soln.findOrder(numcourses1,prerequisites1)"
   ]
  },
  {
   "cell_type": "markdown",
   "metadata": {},
   "source": [
    "## Day 19: 7/19/20\n",
    "### 67. Add Binary\n",
    "EASY  \n",
    "https://leetcode.com/problems/add-binary/  \n",
    "https://leetcode.com/explore/challenge/card/july-leetcoding-challenge/546/week-3-july-15th-july-21st/3395/"
   ]
  },
  {
   "cell_type": "markdown",
   "metadata": {},
   "source": [
    "Given two binary strings, return their sum (also a binary string).\n",
    "\n",
    "The input strings are both **non-empty** and contains only characters `1` or `0`.\n",
    "\n",
    "**Example 1:**\n",
    "```\n",
    "Input: a = \"11\", b = \"1\"\n",
    "Output: \"100\"\n",
    "```\n",
    "**Example 2:**\n",
    "```\n",
    "Input: a = \"1010\", b = \"1011\"\n",
    "Output: \"10101\"\n",
    "```\n",
    "\n",
    "**Constraints:**\n",
    "\n",
    "* Each string consists only of `'0'` or `'1'` characters.\n",
    "* `1 <= a.length, b.length <= 10^4`\n",
    "* Each string is either `\"0\"` or doesn't contain any leading zero."
   ]
  },
  {
   "cell_type": "code",
   "execution_count": 121,
   "metadata": {},
   "outputs": [],
   "source": [
    "a1,b1 = \"11\", \"1\"\n",
    "a2,b2 = \"1010\", \"1011\""
   ]
  },
  {
   "cell_type": "code",
   "execution_count": 152,
   "metadata": {},
   "outputs": [],
   "source": [
    "class Solution:\n",
    "    def addBinary(self, a: str, b: str) -> str:\n",
    "        # find which str is \"longer\"\n",
    "        if len(a) > len(b):\n",
    "            longer = a\n",
    "            shorter = b\n",
    "        else:\n",
    "            longer = b\n",
    "            shorter = a\n",
    "        \n",
    "        result = []\n",
    "        carry = 0\n",
    "        for i in range(-1,-len(longer)-1,-1):\n",
    "            if i >= -len(shorter): # if i is still in index of shorter\n",
    "                r = int(longer[i]) + int(shorter[i]) + carry\n",
    "            else:\n",
    "                r = int(longer[i]) + carry\n",
    "                \n",
    "            if r == 2:\n",
    "                r = 0\n",
    "                carry = 1\n",
    "            elif r == 3:\n",
    "                r = 1\n",
    "                carry = 1\n",
    "            else:\n",
    "                carry = 0\n",
    "            \n",
    "            result.append(str(r))\n",
    "        \n",
    "        # append carry\n",
    "        if carry == 1:\n",
    "            result.append(str(carry))\n",
    "        \n",
    "        return ''.join(reversed(result))"
   ]
  },
  {
   "cell_type": "code",
   "execution_count": 168,
   "metadata": {},
   "outputs": [],
   "source": [
    "# using list conversion + floor and modulo\n",
    "class Solution:\n",
    "    def addBinary(self, a: str, b: str) -> str:\n",
    "        la = list(a)\n",
    "        lb = list(b)\n",
    "        carry = 0\n",
    "        result = []\n",
    "        while la or lb or carry:\n",
    "            if la:\n",
    "                ia = int(la.pop())\n",
    "            if lb:\n",
    "                ib = int(lb.pop())\n",
    "            \n",
    "            r = ia + ib + carry\n",
    "            carry = r//2\n",
    "            \n",
    "            result.append(str(r%2))\n",
    "            ia,ib = 0,0\n",
    "        return ''.join(reversed(result))"
   ]
  },
  {
   "cell_type": "code",
   "execution_count": 170,
   "metadata": {},
   "outputs": [
    {
     "data": {
      "text/plain": [
       "'10101'"
      ]
     },
     "execution_count": 170,
     "metadata": {},
     "output_type": "execute_result"
    }
   ],
   "source": [
    "soln = Solution()\n",
    "soln.addBinary(a2,b2)"
   ]
  },
  {
   "cell_type": "markdown",
   "metadata": {},
   "source": [
    "## Day 20: 7/20/20\n",
    "### 203. Remove Linked List Elements\n",
    "EASY  \n",
    "https://leetcode.com/problems/remove-linked-list-elements/  \n",
    "https://leetcode.com/explore/challenge/card/july-leetcoding-challenge/546/week-3-july-15th-july-21st/3396/"
   ]
  },
  {
   "cell_type": "markdown",
   "metadata": {},
   "source": [
    "Remove all elements from a linked list of integers that have value ***val***.\n",
    "\n",
    "**Example:**\n",
    "```\n",
    "Input:  1->2->6->3->4->5->6, val = 6\n",
    "Output: 1->2->3->4->5\n",
    "```"
   ]
  },
  {
   "cell_type": "code",
   "execution_count": 27,
   "metadata": {},
   "outputs": [],
   "source": [
    "# Definition for singly-linked list.\n",
    "class ListNode:\n",
    "    def __init__(self, val=0, next=None):\n",
    "        self.val = val\n",
    "        self.next = next\n",
    "        \n",
    "def printlist(head):\n",
    "    output = ''\n",
    "    while head:\n",
    "        output += str(head.val)\n",
    "        if head.next:\n",
    "            output += '->'\n",
    "        head = head.next\n",
    "    print(output)\n",
    "        \n",
    "node6 = ListNode(6)\n",
    "node5 = ListNode(5,node6)\n",
    "node4 = ListNode(4,node5)\n",
    "node3 = ListNode(3,node4)\n",
    "node2 = ListNode(2,node3)\n",
    "head1 = ListNode(1,node2)\n",
    "val1 = 6"
   ]
  },
  {
   "cell_type": "code",
   "execution_count": 28,
   "metadata": {},
   "outputs": [
    {
     "name": "stdout",
     "output_type": "stream",
     "text": [
      "1->2->3->4->5->6\n"
     ]
    }
   ],
   "source": [
    "printlist(head1)"
   ]
  },
  {
   "cell_type": "code",
   "execution_count": 21,
   "metadata": {},
   "outputs": [],
   "source": [
    "class Solution:\n",
    "    def removeElements(self, head: ListNode, val: int) -> ListNode:\n",
    "        dummy = ListNode(None,head)\n",
    "        prev = dummy\n",
    "        while head:\n",
    "            if head.val == val:\n",
    "                prev.next = head.next\n",
    "            else:\n",
    "                prev = head\n",
    "            head = head.next\n",
    "        return dummy.next"
   ]
  },
  {
   "cell_type": "code",
   "execution_count": 29,
   "metadata": {},
   "outputs": [
    {
     "name": "stdout",
     "output_type": "stream",
     "text": [
      "2->3->4->5->6\n"
     ]
    }
   ],
   "source": [
    "soln = Solution()\n",
    "ans = soln.removeElements(head1,1)\n",
    "printlist(ans)"
   ]
  },
  {
   "cell_type": "markdown",
   "metadata": {},
   "source": [
    "## Day 21: 7/21/20\n",
    "### 79. Word Search\n",
    "MEDIUM  \n",
    "https://leetcode.com/problems/word-search/  \n",
    "https://leetcode.com/explore/challenge/card/july-leetcoding-challenge/546/week-3-july-15th-july-21st/3397/"
   ]
  },
  {
   "cell_type": "markdown",
   "metadata": {},
   "source": [
    "Given a 2D board and a word, find if the word exists in the grid.\n",
    "\n",
    "The word can be constructed from letters of sequentially adjacent cell, where \"adjacent\" cells are those horizontally or vertically neighboring. The same letter cell may not be used more than once.\n",
    "\n",
    "**Example:**\n",
    "```\n",
    "board =\n",
    "[\n",
    "  ['A','B','C','E'],\n",
    "  ['S','F','C','S'],\n",
    "  ['A','D','E','E']\n",
    "]\n",
    "\n",
    "Given word = \"ABCCED\", return true.\n",
    "Given word = \"SEE\", return true.\n",
    "Given word = \"ABCB\", return false.\n",
    "```\n",
    "\n",
    "**Constraints:**\n",
    "\n",
    "* `board` and `word` consists only of lowercase and uppercase English letters.\n",
    "* `1 <= board.length <= 200`\n",
    "* `1 <= board[i].length <= 200`\n",
    "* `1 <= word.length <= 10^3`"
   ]
  },
  {
   "cell_type": "code",
   "execution_count": 7,
   "metadata": {},
   "outputs": [],
   "source": [
    "board1 = [\n",
    "  ['A','B','C','E'],\n",
    "  ['S','F','C','S'],\n",
    "  ['A','D','E','E']\n",
    "]\n",
    "word1 = \"ABCCED\"\n",
    "word2 = \"SEE\"\n",
    "word3 = \"ABCB\""
   ]
  },
  {
   "cell_type": "code",
   "execution_count": 6,
   "metadata": {},
   "outputs": [],
   "source": [
    "class Solution:\n",
    "    def exist(self, board: List[List[str]], word: str) -> bool:\n",
    "        \n",
    "        def dfs(board1)\n",
    "        return None"
   ]
  },
  {
   "cell_type": "code",
   "execution_count": 8,
   "metadata": {},
   "outputs": [],
   "source": [
    "soln = Solution()\n",
    "soln.exist(board1,word1)"
   ]
  },
  {
   "cell_type": "markdown",
   "metadata": {},
   "source": [
    "## Day 22: 7/22/20\n",
    "### 103. Binary Tree Zigzag Level Order Traversal\n",
    "MEDIUM  \n",
    "https://leetcode.com/problems/binary-tree-zigzag-level-order-traversal/  \n",
    "https://leetcode.com/explore/challenge/card/july-leetcoding-challenge/547/week-4-july-22nd-july-28th/3398/"
   ]
  },
  {
   "cell_type": "markdown",
   "metadata": {},
   "source": [
    "Given a binary tree, return the *zigzag level* order traversal of its nodes' values. (ie, from left to right, then right to left for the next level and alternate between).\n",
    "\n",
    "For example:\n",
    "Given binary tree `[3,9,20,null,null,15,7]`,\n",
    "```\n",
    "    3\n",
    "   / \\\n",
    "  9  20\n",
    "    /  \\\n",
    "   15   7\n",
    "```\n",
    "return its zigzag level order traversal as:\n",
    "```\n",
    "[\n",
    "  [3],\n",
    "  [20,9],\n",
    "  [15,7]\n",
    "]\n",
    "```"
   ]
  },
  {
   "cell_type": "code",
   "execution_count": 27,
   "metadata": {},
   "outputs": [],
   "source": [
    "# Definition for a binary tree node.\n",
    "class TreeNode:\n",
    "    def __init__(self, val=0, left=None, right=None):\n",
    "        self.val = val\n",
    "        self.left = left\n",
    "        self.right = right\n",
    "        \n",
    "def constructtree(nodes, i, n):\n",
    "    root = None\n",
    "    if (i<n) and nodes[i] is not None:\n",
    "        node = TreeNode(nodes[i])\n",
    "        root = node\n",
    "        \n",
    "        root.left = constructtree(nodes, 2*i+1, n)\n",
    "        root.right = constructtree(nodes, 2*i+2, n)\n",
    "    return root\n",
    "\n",
    "def printtree(root):\n",
    "    treevals = []\n",
    "    q = [root]\n",
    "    while q:\n",
    "        node = q.pop(0)\n",
    "        if node:\n",
    "            treevals.append(node.val)\n",
    "#             if node.left or node.right:\n",
    "            q.append(node.left)\n",
    "            q.append(node.right)\n",
    "        else:\n",
    "            treevals.append('null')\n",
    "    return treevals\n",
    "\n",
    "nodes1 = [3,9,20,None,None,15,7]\n",
    "tree1 = constructtree(nodes1,0,len(nodes1))"
   ]
  },
  {
   "cell_type": "code",
   "execution_count": 29,
   "metadata": {},
   "outputs": [
    {
     "data": {
      "text/plain": [
       "[3, 9, 20, 'null', 'null', 15, 7, 'null', 'null', 'null', 'null']"
      ]
     },
     "execution_count": 29,
     "metadata": {},
     "output_type": "execute_result"
    }
   ],
   "source": [
    "printtree(tree1)"
   ]
  },
  {
   "cell_type": "code",
   "execution_count": 32,
   "metadata": {},
   "outputs": [],
   "source": [
    "class Solution:\n",
    "    def levelOrderBottom(self, root: TreeNode) -> List[List[int]]:\n",
    "        nq = [root]\n",
    "        nodelist, level = [], 0\n",
    "        while nq:\n",
    "            q = nq\n",
    "            nq, levellist = [], []\n",
    "            while q:\n",
    "                node = q.pop(0)\n",
    "                if node:\n",
    "                    levellist.append(node.val)\n",
    "                    nq.append(node.left)\n",
    "                    nq.append(node.right)\n",
    "            if levellist:\n",
    "                nodelist.insert(0,levellist)\n",
    "        return nodelist"
   ]
  },
  {
   "cell_type": "code",
   "execution_count": 35,
   "metadata": {},
   "outputs": [
    {
     "data": {
      "text/plain": [
       "0"
      ]
     },
     "execution_count": 35,
     "metadata": {},
     "output_type": "execute_result"
    }
   ],
   "source": [
    "2%2"
   ]
  },
  {
   "cell_type": "code",
   "execution_count": 46,
   "metadata": {},
   "outputs": [],
   "source": [
    "class Solution:\n",
    "    def zigzagLevelOrder(self, root: TreeNode) -> List[List[int]]:\n",
    "        nodelist,level = [], 0\n",
    "        nq = [root] # queue for next level\n",
    "        while nq:\n",
    "            q = nq # copy next level queue to current queue\n",
    "            nq, levellist = [], [] # reset next queue, set new node list for level\n",
    "            while q:\n",
    "                node = q.pop(0)\n",
    "                if node:\n",
    "                    levellist.append(node.val)\n",
    "                    nq.append(node.left)\n",
    "                    nq.append(node.right)\n",
    "            # append normal or reversed levellist to node list\n",
    "            if levellist and (level%2)==0:\n",
    "                nodelist.append(levellist)\n",
    "            elif levellist and (level%2)==1:\n",
    "                nodelist.append(list(reversed(levellist)))\n",
    "            level += 1\n",
    "        return nodelist"
   ]
  },
  {
   "cell_type": "code",
   "execution_count": 45,
   "metadata": {},
   "outputs": [
    {
     "data": {
      "text/plain": [
       "[[3], [20, 9], [15, 7]]"
      ]
     },
     "execution_count": 45,
     "metadata": {},
     "output_type": "execute_result"
    }
   ],
   "source": [
    "soln = Solution()\n",
    "soln.zigzagLevelOrder(tree1)"
   ]
  },
  {
   "cell_type": "markdown",
   "metadata": {},
   "source": [
    "## Day 23: 7/23/20\n",
    "### 260. Single Number III\n",
    "MEDIUM  \n",
    "https://leetcode.com/problems/single-number-iii/  \n",
    "https://leetcode.com/explore/challenge/card/july-leetcoding-challenge/547/week-4-july-22nd-july-28th/3399/"
   ]
  },
  {
   "cell_type": "markdown",
   "metadata": {},
   "source": [
    "Given an array of numbers `nums`, in which exactly two elements appear only once and all the other elements appear exactly twice. Find the two elements that appear only once.\n",
    "\n",
    "**Example:**\n",
    "```\n",
    "Input:  [1,2,1,3,2,5]\n",
    "Output: [3,5]\n",
    "```\n",
    "**Note:**\n",
    "\n",
    "1. The order of the result is not important. So in the above example, [5, 3] is also correct.\n",
    "2. Your algorithm should run in linear runtime complexity. Could you implement it using only constant space complexity?"
   ]
  },
  {
   "cell_type": "code",
   "execution_count": 47,
   "metadata": {},
   "outputs": [],
   "source": [
    "nums1 = [1,2,1,3,2,5]"
   ]
  },
  {
   "cell_type": "code",
   "execution_count": 53,
   "metadata": {},
   "outputs": [],
   "source": [
    "# using up to O(n) space\n",
    "class Solution:\n",
    "    def singleNumber(self, nums: List[int]) -> List[int]:\n",
    "        d = {}\n",
    "        for n in nums:\n",
    "            if d.pop(n, None):\n",
    "                pass\n",
    "            else:\n",
    "                d[n] = 1\n",
    "        return list(d.keys())"
   ]
  },
  {
   "cell_type": "markdown",
   "metadata": {},
   "source": [
    "**Study Notes:**\n",
    "* XOR between two same numbers results in all 0\n",
    "* XOR all numbers in `nums` will result in XOR of the two numbers that appear once\n",
    "    * This result will have a bit value of 1 in the position where the two numbers have different bits\n",
    "    * Use this bit position to separate all numbers in `nums` into two groups with `1` or `0` at position\n",
    "* XOR all numbers in the two separate groups to get the bit representation of the number that appears once in each group"
   ]
  },
  {
   "cell_type": "code",
   "execution_count": 101,
   "metadata": {},
   "outputs": [],
   "source": [
    "# O(1) space, using bit manipulation\n",
    "class Solution:\n",
    "    def singleNumber(self, nums: List[int]) -> List[int]:\n",
    "        # xor all numbers together\n",
    "        xor = 0\n",
    "        for n in nums:\n",
    "            xor ^= n\n",
    "        \n",
    "        # find bit position in resulting xor that is 1\n",
    "        mask = 1\n",
    "        while (xor&mask == 0):\n",
    "            mask = mask << 1\n",
    "        \n",
    "        # separate nums into two groups\n",
    "        a,b = 0,0\n",
    "        for n in nums:\n",
    "            if (n&mask):\n",
    "                a ^= n\n",
    "            else:\n",
    "                b ^= n\n",
    "        \n",
    "        return [a,b]"
   ]
  },
  {
   "cell_type": "code",
   "execution_count": 102,
   "metadata": {},
   "outputs": [
    {
     "data": {
      "text/plain": [
       "[3, 5]"
      ]
     },
     "execution_count": 102,
     "metadata": {},
     "output_type": "execute_result"
    }
   ],
   "source": [
    "soln = Solution()\n",
    "soln.singleNumber(nums1)"
   ]
  },
  {
   "cell_type": "markdown",
   "metadata": {},
   "source": [
    "## Day 24: 7/24/20\n",
    "### 797. All Paths From Source to Target\n",
    "MEDIUM  \n",
    "https://leetcode.com/problems/all-paths-from-source-to-target/  \n",
    "https://leetcode.com/explore/challenge/card/july-leetcoding-challenge/547/week-4-july-22nd-july-28th/3400/"
   ]
  },
  {
   "cell_type": "markdown",
   "metadata": {},
   "source": [
    "Given a directed, acyclic graph of `N` nodes.  Find all possible paths from node `0` to node `N-1`, and return them in any order.\n",
    "\n",
    "The graph is given as follows:  the nodes are 0, 1, ..., graph.length - 1.  graph[i] is a list of all nodes j for which the edge (i, j) exists.\n",
    "\n",
    "```\n",
    "Example:\n",
    "Input: [[1,2], [3], [3], []] \n",
    "Output: [[0,1,3],[0,2,3]] \n",
    "Explanation: The graph looks like this:\n",
    "0--->1\n",
    "|    |\n",
    "v    v\n",
    "2--->3\n",
    "There are two paths: 0 -> 1 -> 3 and 0 -> 2 -> 3.\n",
    "```\n",
    "**Note:**\n",
    "\n",
    "* The number of nodes in the graph will be in the range `[2, 15]`.\n",
    "* You can print different paths in any order, but you should keep the order of nodes inside one path."
   ]
  },
  {
   "cell_type": "code",
   "execution_count": 2,
   "metadata": {},
   "outputs": [],
   "source": [
    "graph1 = [[1,2], [3], [3], []]"
   ]
  },
  {
   "cell_type": "code",
   "execution_count": 6,
   "metadata": {},
   "outputs": [],
   "source": [
    "class Solution:\n",
    "    def allPathsSourceTarget(self, graph: List[List[int]]) -> List[List[int]]:\n",
    "        \n",
    "        return None"
   ]
  },
  {
   "cell_type": "code",
   "execution_count": 7,
   "metadata": {},
   "outputs": [],
   "source": [
    "soln = Solution()\n",
    "soln.allPathsSourceTarget(graph1)"
   ]
  },
  {
   "cell_type": "markdown",
   "metadata": {},
   "source": [
    "## Day 25: 7/25/20\n",
    "### 154. Find Minimum in Rotated Sorted Array II\n",
    "HARD  \n",
    "https://leetcode.com/problems/find-minimum-in-rotated-sorted-array-ii/  \n",
    "https://leetcode.com/explore/challenge/card/july-leetcoding-challenge/547/week-4-july-22nd-july-28th/3401/"
   ]
  },
  {
   "cell_type": "markdown",
   "metadata": {},
   "source": [
    "Suppose an array sorted in ascending order is rotated at some pivot unknown to you beforehand.\n",
    "\n",
    "(i.e.,  `[0,1,2,4,5,6,7]` might become  `[4,5,6,7,0,1,2]`).\n",
    "\n",
    "Find the minimum element.\n",
    "\n",
    "The array may contain duplicates.\n",
    "\n",
    "**Example 1:**\n",
    "```\n",
    "Input: [1,3,5]\n",
    "Output: 1\n",
    "```\n",
    "**Example 2:**\n",
    "```\n",
    "Input: [2,2,2,0,1]\n",
    "Output: 0\n",
    "```\n",
    "**Note:**\n",
    "\n",
    "* This is a follow up problem to Find Minimum in Rotated Sorted Array.\n",
    "* Would allow duplicates affect the run-time complexity? How and why?"
   ]
  },
  {
   "cell_type": "code",
   "execution_count": 3,
   "metadata": {},
   "outputs": [],
   "source": [
    "nums1 = [1,3,5]\n",
    "nums2 = [2,2,2,0,1]"
   ]
  },
  {
   "cell_type": "code",
   "execution_count": 4,
   "metadata": {},
   "outputs": [],
   "source": [
    "class Solution:\n",
    "    def findMin(self, nums: List[int]) -> int:\n",
    "        \n",
    "        return None"
   ]
  },
  {
   "cell_type": "code",
   "execution_count": 5,
   "metadata": {},
   "outputs": [],
   "source": [
    "soln = Solution()\n",
    "soln.findMin(nums1)"
   ]
  },
  {
   "cell_type": "markdown",
   "metadata": {},
   "source": [
    "## Day 26: 7/26/20\n",
    "### 258. Add Digits\n",
    "EASY  \n",
    "https://leetcode.com/problems/add-digits/  \n",
    "https://leetcode.com/explore/challenge/card/july-leetcoding-challenge/547/week-4-july-22nd-july-28th/3402/"
   ]
  },
  {
   "cell_type": "markdown",
   "metadata": {},
   "source": [
    "Given a non-negative integer `num`, repeatedly add all its digits until the result has only one digit.\n",
    "\n",
    "**Example:**\n",
    "```\n",
    "Input: 38\n",
    "Output: 2 \n",
    "Explanation: The process is like: 3 + 8 = 11, 1 + 1 = 2. \n",
    "             Since 2 has only one digit, return it.\n",
    "```\n",
    "**Follow up:**  \n",
    "Could you do it without any loop/recursion in O(1) runtime?"
   ]
  },
  {
   "cell_type": "code",
   "execution_count": 13,
   "metadata": {},
   "outputs": [],
   "source": [
    "num1 = 38 # 2\n",
    "num2 = 41 # 5\n",
    "num3 = 78836 # 5"
   ]
  },
  {
   "cell_type": "code",
   "execution_count": 64,
   "metadata": {},
   "outputs": [],
   "source": [
    "# recursive integer method\n",
    "class Solution:\n",
    "    def addDigits(self, num: int) -> int:\n",
    "        res = 0\n",
    "        while num != 0:\n",
    "            digit = num%10\n",
    "            num = num//10\n",
    "            res+=digit\n",
    "        return res if res<10 else self.addDigits(res)"
   ]
  },
  {
   "cell_type": "code",
   "execution_count": 130,
   "metadata": {},
   "outputs": [],
   "source": [
    "# using string conversion\n",
    "class Solution:\n",
    "    def addDigits(self, num: int) -> int:\n",
    "        while num > 9:\n",
    "            num = sum(int(c) for c in str(num))\n",
    "        return num"
   ]
  },
  {
   "cell_type": "markdown",
   "metadata": {},
   "source": [
    "**Study Notes:**\n",
    "* This problem is about calculating the [digital root](https://en.wikipedia.org/wiki/Digital_root)\n",
    "* O(1) solution requires using math proprties of digital roots:\n",
    "    * if `n = 0`, `root = 0`\n",
    "    * if `n % 9 = 0`,  `root = 9` (n is divisible by 9)\n",
    "    * if `n % 9 != 0`, `root = n % 9` (n is NOT divisible by 9)\n",
    "    * brief proof at [leetcode](https://leetcode.com/problems/add-digits/solution/)\n",
    "    * full proof at wikipedia for generalized base *b*"
   ]
  },
  {
   "cell_type": "code",
   "execution_count": 127,
   "metadata": {},
   "outputs": [],
   "source": [
    "# digital root\n",
    "class Solution:\n",
    "    def addDigits(self, num: int) -> int:\n",
    "        if num == 0:\n",
    "            return 0\n",
    "        elif num % 9 == 0:\n",
    "            return 9\n",
    "        else:\n",
    "            return num % 9"
   ]
  },
  {
   "cell_type": "code",
   "execution_count": 134,
   "metadata": {},
   "outputs": [
    {
     "data": {
      "text/plain": [
       "2"
      ]
     },
     "execution_count": 134,
     "metadata": {},
     "output_type": "execute_result"
    }
   ],
   "source": [
    "soln = Solution()\n",
    "soln.addDigits(num1)"
   ]
  },
  {
   "cell_type": "markdown",
   "metadata": {},
   "source": [
    "## Day 27: 7/27/20\n",
    "### 106. Construct Binary Tree from Inorder and Postorder Traversal\n",
    "MEDIUM  \n",
    "https://leetcode.com/problems/construct-binary-tree-from-inorder-and-postorder-traversal/  \n",
    "https://leetcode.com/explore/challenge/card/july-leetcoding-challenge/547/week-4-july-22nd-july-28th/3403/"
   ]
  },
  {
   "cell_type": "markdown",
   "metadata": {},
   "source": [
    "Given inorder and postorder traversal of a tree, construct the binary tree.\n",
    "\n",
    "**Note:**\n",
    "You may assume that duplicates do not exist in the tree.\n",
    "\n",
    "For example, given\n",
    "```\n",
    "inorder = [9,3,15,20,7]\n",
    "postorder = [9,15,7,20,3]\n",
    "```\n",
    "Return the following binary tree:\n",
    "```\n",
    "    3\n",
    "   / \\\n",
    "  9  20\n",
    "    /  \\\n",
    "   15   7\n",
    "```"
   ]
  },
  {
   "cell_type": "code",
   "execution_count": 150,
   "metadata": {},
   "outputs": [],
   "source": [
    "inorder1, postorder1 = [9,3,15,20,7], [9,15,7,20,3]"
   ]
  },
  {
   "cell_type": "code",
   "execution_count": 152,
   "metadata": {},
   "outputs": [],
   "source": [
    "# Definition for a binary tree node.\n",
    "class TreeNode:\n",
    "    def __init__(self, val=0, left=None, right=None):\n",
    "        self.val = val\n",
    "        self.left = left\n",
    "        self.right = right\n",
    "\n",
    "# # printtree (level order)\n",
    "# def printtree()"
   ]
  },
  {
   "cell_type": "code",
   "execution_count": 145,
   "metadata": {},
   "outputs": [],
   "source": [
    "class Solution:\n",
    "    def buildTree(self, inorder: List[int], postorder: List[int]) -> TreeNode:\n",
    "        \n",
    "        indexes = \n",
    "        for n in inorder:\n",
    "            \n",
    "        \n",
    "        return None"
   ]
  },
  {
   "cell_type": "code",
   "execution_count": 147,
   "metadata": {},
   "outputs": [],
   "source": [
    "soln = Solution()\n",
    "soln.buildTree(inorder1,postorder1)"
   ]
  },
  {
   "cell_type": "code",
   "execution_count": 154,
   "metadata": {},
   "outputs": [
    {
     "data": {
      "text/plain": [
       "1"
      ]
     },
     "execution_count": 154,
     "metadata": {},
     "output_type": "execute_result"
    }
   ],
   "source": [
    "inorder1.index(3)"
   ]
  },
  {
   "cell_type": "markdown",
   "metadata": {},
   "source": [
    "## Day 28: 7/28/20\n",
    "### 621. Task Scheduler\n",
    "MEDIUM  \n",
    "https://leetcode.com/problems/task-scheduler/  \n",
    "https://leetcode.com/explore/challenge/card/july-leetcoding-challenge/547/week-4-july-22nd-july-28th/3404/"
   ]
  },
  {
   "cell_type": "markdown",
   "metadata": {},
   "source": [
    "You are given a char array representing tasks CPU need to do. It contains capital letters A to Z where each letter represents a different task. Tasks could be done without the original order of the array. Each task is done in one unit of time. For each unit of time, the CPU could complete either one task or just be idle.\n",
    "\n",
    "However, there is a non-negative integer `n` that represents the cooldown period between two **same tasks** (the same letter in the array), that is that there must be at least n units of time between any two same tasks.\n",
    "\n",
    "You need to return the **least** number of units of times that the CPU will take to finish all the given tasks.\n",
    "\n",
    " \n",
    "\n",
    "**Example 1:**\n",
    "```\n",
    "Input: tasks = [\"A\",\"A\",\"A\",\"B\",\"B\",\"B\"], n = 2\n",
    "Output: 8\n",
    "Explanation: \n",
    "A -> B -> idle -> A -> B -> idle -> A -> B\n",
    "There is at least 2 units of time between any two same tasks.\n",
    "```\n",
    "**Example 2:**\n",
    "```\n",
    "Input: tasks = [\"A\",\"A\",\"A\",\"B\",\"B\",\"B\"], n = 0\n",
    "Output: 6\n",
    "Explanation: On this case any permutation of size 6 would work since n = 0.\n",
    "[\"A\",\"A\",\"A\",\"B\",\"B\",\"B\"]\n",
    "[\"A\",\"B\",\"A\",\"B\",\"A\",\"B\"]\n",
    "[\"B\",\"B\",\"B\",\"A\",\"A\",\"A\"]\n",
    "...\n",
    "And so on.\n",
    "```\n",
    "**Example 3:**\n",
    "```\n",
    "Input: tasks = [\"A\",\"A\",\"A\",\"A\",\"A\",\"A\",\"B\",\"C\",\"D\",\"E\",\"F\",\"G\"], n = 2\n",
    "Output: 16\n",
    "Explanation: \n",
    "One possible solution is\n",
    "A -> B -> C -> A -> D -> E -> A -> F -> G -> A -> idle -> idle -> A -> idle -> idle -> A\n",
    "```\n",
    "\n",
    "**Constraints:**\n",
    "\n",
    "* The number of tasks is in the range `[1, 10000]`.\n",
    "* The integer `n` is in the range `[0, 100]`."
   ]
  },
  {
   "cell_type": "code",
   "execution_count": 194,
   "metadata": {},
   "outputs": [],
   "source": [
    "tasks1,n1 = [\"A\",\"A\",\"A\",\"B\",\"B\",\"B\"], 2\n",
    "tasks2,n2 = [\"A\",\"A\",\"A\",\"B\",\"B\",\"B\"], 0\n",
    "tasks3,n3 = [\"A\",\"A\",\"A\",\"A\",\"A\",\"A\",\"B\",\"C\",\"D\",\"E\",\"F\",\"G\"], 2"
   ]
  },
  {
   "cell_type": "code",
   "execution_count": 224,
   "metadata": {},
   "outputs": [],
   "source": [
    "class Solution:\n",
    "    def leastInterval(self, tasks: List[str], n: int) -> int:\n",
    "        nq = [] # queue for next iteration of loop\n",
    "        tindex = {}\n",
    "        i = 0\n",
    "        schedule = []\n",
    "        tasks = tasks.copy()\n",
    "        idle = True\n",
    "        while len(tasks)>0:\n",
    "            # copy next queue into current queue\n",
    "            q = nq\n",
    "            q.append(tasks.pop(0)) # add task to queue\n",
    "            nq = []\n",
    "            # process tasks in q\n",
    "            while q:\n",
    "                task = q.pop(0)\n",
    "                i = len(schedule)\n",
    "                # check if task can be added to schedule; add to next queue if cannot\n",
    "                if tindex.get(task)==None or (i-tindex.get(task))>n:\n",
    "                    schedule.append(task)\n",
    "                    tindex[task] = i\n",
    "                    idle = False\n",
    "                else:\n",
    "                    nq.append(task)\n",
    "            \n",
    "            if idle:\n",
    "                schedule.append('idle')\n",
    "                i = len(schedule)\n",
    "        \n",
    "        return schedule"
   ]
  },
  {
   "cell_type": "code",
   "execution_count": 225,
   "metadata": {},
   "outputs": [
    {
     "data": {
      "text/plain": [
       "['A', 'B']"
      ]
     },
     "execution_count": 225,
     "metadata": {},
     "output_type": "execute_result"
    }
   ],
   "source": [
    "soln = Solution()\n",
    "soln.leastInterval(tasks1,n1)"
   ]
  },
  {
   "cell_type": "markdown",
   "metadata": {},
   "source": [
    "## Day 29: 7/29/30\n",
    "### 309. Best Time to Buy and Sell Stock with Cooldown\n",
    "MEDIUM  \n",
    "https://leetcode.com/problems/best-time-to-buy-and-sell-stock-with-cooldown/  \n",
    "https://leetcode.com/explore/challenge/card/july-leetcoding-challenge/548/week-5-july-29th-july-31st/3405/"
   ]
  },
  {
   "cell_type": "markdown",
   "metadata": {},
   "source": [
    "Say you have an array for which the $i^{th}$ element is the price of a given stock on day *i*.\n",
    "\n",
    "Design an algorithm to find the maximum profit. You may complete as many transactions as you like (ie, buy one and sell one share of the stock multiple times) with the following restrictions:\n",
    "\n",
    "* You may not engage in multiple transactions at the same time (ie, you must sell the stock before you buy again).\n",
    "* After you sell your stock, you cannot buy stock on next day. (ie, cooldown 1 day)\n",
    "\n",
    "**Example:**\n",
    "```\n",
    "Input: [1,2,3,0,2]\n",
    "Output: 3 \n",
    "Explanation: transactions = [buy, sell, cooldown, buy, sell]\n",
    "```"
   ]
  },
  {
   "cell_type": "code",
   "execution_count": 221,
   "metadata": {},
   "outputs": [],
   "source": [
    "prices1 = [1,2,3,0,2] # 3\n",
    "prices2 = [1,2,7,0,3] # 6\n",
    "prices3 = [1,2,3,0,5] # 6"
   ]
  },
  {
   "cell_type": "code",
   "execution_count": 219,
   "metadata": {},
   "outputs": [],
   "source": [
    "class Solution:\n",
    "    def maxProfit(self, prices: List[int]) -> int:\n",
    "        if not prices:\n",
    "            return 0\n",
    "        \n",
    "        # dp array of length len(prices)\n",
    "        # dp[0][0] = maxprofit for ending with cd\n",
    "        # dp[0][1] = maxprofit for ending with buy\n",
    "        # dp[0][2] = maxprofit for ending with sell\n",
    "        dp = [[0]*3 for _ in prices]\n",
    "        \n",
    "        # initial values\n",
    "        dp[0][0] = 0\n",
    "        dp[0][1] = -prices[0]\n",
    "        dp[0][2] = float('-inf') # initialize first \"sell\" as -inf\n",
    "        bought = dp[0][1] # maximum profit from previous buy\n",
    "        \n",
    "        for i in range(1,len(prices)):\n",
    "            dp[i][0] = max(dp[i-1][0],dp[i-1][1],dp[i-1][2]) # cd maxprofit = max among 3 at previous i\n",
    "            dp[i][1] = dp[i-1][0]-prices[i] # a buy can only occur after cd at previous i\n",
    "            dp[i][2] = bought+prices[i]\n",
    "            \n",
    "            # update bought with new potential maximum profit\n",
    "            bought = max(bought,dp[i][1])\n",
    "        \n",
    "        return max(dp[-1])"
   ]
  },
  {
   "cell_type": "code",
   "execution_count": null,
   "metadata": {},
   "outputs": [],
   "source": [
    "# [0, -1, -inf], bought = -1\n",
    "# [0, -2, 1], bought = -1\n",
    "# [1, -3, 2], bought = -1\n",
    "# [2, 1, -1], bought = 1"
   ]
  },
  {
   "cell_type": "code",
   "execution_count": 223,
   "metadata": {},
   "outputs": [
    {
     "data": {
      "text/plain": [
       "6"
      ]
     },
     "execution_count": 223,
     "metadata": {},
     "output_type": "execute_result"
    }
   ],
   "source": [
    "soln = Solution()\n",
    "soln.maxProfit(prices3)"
   ]
  },
  {
   "cell_type": "markdown",
   "metadata": {},
   "source": [
    "## Day 30: 7/30/20\n",
    "### 140. Word Break II\n",
    "HARD  \n",
    "https://leetcode.com/problems/word-break-ii/  \n",
    "https://leetcode.com/explore/challenge/card/july-leetcoding-challenge/548/week-5-july-29th-july-31st/3406/"
   ]
  },
  {
   "cell_type": "markdown",
   "metadata": {},
   "source": [
    "Given a **non-empty** string *s* and a dictionary *wordDict* containing a list of **non-empty** words, add spaces in s to construct a sentence where each word is a valid dictionary word. Return all such possible sentences.\n",
    "\n",
    "**Note:**\n",
    "\n",
    "* The same word in the dictionary may be reused multiple times in the segmentation.\n",
    "* You may assume the dictionary does not contain duplicate words.\n",
    "\n",
    "**Example 1:**\n",
    "```\n",
    "Input:\n",
    "s = \"catsanddog\"\n",
    "wordDict = [\"cat\", \"cats\", \"and\", \"sand\", \"dog\"]\n",
    "Output:\n",
    "[\n",
    "  \"cats and dog\",\n",
    "  \"cat sand dog\"\n",
    "]\n",
    "```\n",
    "**Example 2:**\n",
    "```\n",
    "Input:\n",
    "s = \"pineapplepenapple\"\n",
    "wordDict = [\"apple\", \"pen\", \"applepen\", \"pine\", \"pineapple\"]\n",
    "Output:\n",
    "[\n",
    "  \"pine apple pen apple\",\n",
    "  \"pineapple pen apple\",\n",
    "  \"pine applepen apple\"\n",
    "]\n",
    "Explanation: Note that you are allowed to reuse a dictionary word.\n",
    "```\n",
    "**Example 3:**\n",
    "```\n",
    "Input:\n",
    "s = \"catsandog\"\n",
    "wordDict = [\"cats\", \"dog\", \"sand\", \"and\", \"cat\"]\n",
    "Output:\n",
    "[]\n",
    "```"
   ]
  },
  {
   "cell_type": "markdown",
   "metadata": {},
   "source": [
    "**Study Notes:**\n",
    "* dynamic programming problem, extention of problem [Word Break](https://leetcode.com/problems/word-break/)\n",
    "* primer on Word Break solution:\n",
    "    * dp[i] = True if position i contains the ending of a word in wordDict AND dp[i-len(word)] is also true\n",
    "    * `s[si-len(w):si]` checks for word w ending at position *i*\n",
    "    * `dp[i-len(w)]==1` checks for dp being `True` at position *i-len(w)*\n",
    "    * `i-len(w)==-1` bypasses previous check and marks dp[i] as `True` if currently checking first word\n",
    "* for Word Break II, general approach is to apply backtracking to add any found words in the rest of the string given the substring from `s[0:i]` is a found word\n",
    "    * use Word Break I solution to check each time whether the substring will end in a valid word before recursing"
   ]
  },
  {
   "cell_type": "code",
   "execution_count": 3,
   "metadata": {},
   "outputs": [],
   "source": [
    "s1,wordDict1 = \"catsanddog\", [\"cat\", \"cats\", \"and\", \"sand\", \"dog\"]\n",
    "s2,wordDict2 = \"pineapplepenapple\", [\"apple\", \"pen\", \"applepen\", \"pine\", \"pineapple\"]\n",
    "s3,wordDict3 = \"catsandog\", [\"cats\", \"dog\", \"sand\", \"and\", \"cat\"]"
   ]
  },
  {
   "cell_type": "code",
   "execution_count": 4,
   "metadata": {},
   "outputs": [],
   "source": [
    "class Solution:\n",
    "    def wordBreak(self, s: str, wordDict: List[str]) -> bool:\n",
    "        result = []\n",
    "        path = ''\n",
    "        self.dfs(s,wordDict,path,result)\n",
    "        return result\n",
    "    \n",
    "    # dfs (backtracking)\n",
    "    def dfs(self, s, wordDict, path, result):\n",
    "        # check if s ends with a word\n",
    "        if self.wordbreak1(s, wordDict):\n",
    "            if not s:\n",
    "                result.append(path[:-1])\n",
    "                return # backtracking if s empty (end of string)\n",
    "            for i in range(1,len(s)+1):\n",
    "                if s[:i] in wordDict:\n",
    "                    self.dfs(s[i:], wordDict, path+s[:i]+' ', result)\n",
    "            \n",
    "    \n",
    "    # solution for Word Break w/ special case for blanks\n",
    "    def wordbreak1(self, s: str, wordDict: List[str]) -> bool:\n",
    "        if not s:\n",
    "            return True\n",
    "        \n",
    "        dp = [False]*len(s)\n",
    "        for i in range(len(s)):\n",
    "            si = i+1\n",
    "            for w in wordDict:\n",
    "                candidate = s[si-len(w):si]\n",
    "                if w == candidate and (dp[i-len(w)]==1 or i-len(w) == -1):\n",
    "                    dp[i]=True\n",
    "        return dp[-1]"
   ]
  },
  {
   "cell_type": "code",
   "execution_count": 5,
   "metadata": {},
   "outputs": [
    {
     "data": {
      "text/plain": [
       "['pine apple pen apple', 'pine applepen apple', 'pineapple pen apple']"
      ]
     },
     "execution_count": 5,
     "metadata": {},
     "output_type": "execute_result"
    }
   ],
   "source": [
    "soln = Solution()\n",
    "soln.wordBreak(s2,wordDict2)"
   ]
  },
  {
   "cell_type": "markdown",
   "metadata": {},
   "source": [
    "## Day 31: 7/31/20\n",
    "### 70. Climbing Stairs\n",
    "EASY  \n",
    "https://leetcode.com/problems/climbing-stairs/  \n",
    "https://leetcode.com/explore/challenge/card/july-leetcoding-challenge/548/week-5-july-29th-july-31st/3407/"
   ]
  },
  {
   "cell_type": "markdown",
   "metadata": {},
   "source": [
    "You are climbing a stair case. It takes *n* steps to reach to the top.\n",
    "\n",
    "Each time you can either climb 1 or 2 steps. In how many distinct ways can you climb to the top?\n",
    "\n",
    "**Example 1:**\n",
    "```\n",
    "Input: 2\n",
    "Output: 2\n",
    "Explanation: There are two ways to climb to the top.\n",
    "1. 1 step + 1 step\n",
    "2. 2 steps\n",
    "```\n",
    "**Example 2:**\n",
    "```\n",
    "Input: 3\n",
    "Output: 3\n",
    "Explanation: There are three ways to climb to the top.\n",
    "1. 1 step + 1 step + 1 step\n",
    "2. 1 step + 2 steps\n",
    "3. 2 steps + 1 step\n",
    "```\n",
    "\n",
    "**Constraints:**\n",
    "\n",
    "* 1 <= n <= 45"
   ]
  },
  {
   "cell_type": "code",
   "execution_count": 33,
   "metadata": {},
   "outputs": [],
   "source": [
    "n1 = 2\n",
    "n2 = 3\n",
    "n3 = 38"
   ]
  },
  {
   "cell_type": "code",
   "execution_count": 29,
   "metadata": {},
   "outputs": [],
   "source": [
    "# dp\n",
    "class Solution:\n",
    "    def climbStairs(self, n: int) -> int:\n",
    "        dp = [0]*(n+1)\n",
    "        # base cases\n",
    "        dp[0] = 1 \n",
    "        dp[1] = 1\n",
    "        \n",
    "        for i in range(2,n+1):\n",
    "            dp[i] = dp[i-1]+dp[i-2]\n",
    "        \n",
    "        return dp[-1]"
   ]
  },
  {
   "cell_type": "code",
   "execution_count": 25,
   "metadata": {},
   "outputs": [],
   "source": [
    "# recursive\n",
    "class Solution:\n",
    "    def climbStairs(self, n: int) -> int:\n",
    "        if n==0 or n==1:\n",
    "            return 1\n",
    "        return self.climbStairs(n-1)+self.climbStairs(n-2)"
   ]
  },
  {
   "cell_type": "code",
   "execution_count": 34,
   "metadata": {},
   "outputs": [
    {
     "data": {
      "text/plain": [
       "63245986"
      ]
     },
     "execution_count": 34,
     "metadata": {},
     "output_type": "execute_result"
    }
   ],
   "source": [
    "soln = Solution()\n",
    "soln.climbStairs(n3)"
   ]
  }
 ],
 "metadata": {
  "kernelspec": {
   "display_name": "base (Python 3.7.7)",
   "language": "python",
   "name": "base"
  },
  "language_info": {
   "codemirror_mode": {
    "name": "ipython",
    "version": 3
   },
   "file_extension": ".py",
   "mimetype": "text/x-python",
   "name": "python",
   "nbconvert_exporter": "python",
   "pygments_lexer": "ipython3",
   "version": "3.7.7"
  }
 },
 "nbformat": 4,
 "nbformat_minor": 4
}
