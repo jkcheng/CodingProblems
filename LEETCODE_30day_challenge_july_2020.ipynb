{
 "cells": [
  {
   "cell_type": "code",
   "execution_count": 1,
   "metadata": {},
   "outputs": [],
   "source": [
    "from typing import List"
   ]
  },
  {
   "cell_type": "markdown",
   "metadata": {},
   "source": [
    "## Day 1: 7/1/20\n",
    "### 441. Arranging Coins\n",
    "EASY  \n",
    "https://leetcode.com/problems/arranging-coins/  \n",
    "https://leetcode.com/explore/challenge/card/july-leetcoding-challenge/544/week-1-july-1st-july-7th/3377/"
   ]
  },
  {
   "cell_type": "markdown",
   "metadata": {},
   "source": [
    "You have a total of *n* coins that you want to form in a staircase shape, where every k-th row must have exactly k coins.\n",
    "\n",
    "Given n, find the total number of **full** staircase rows that can be formed.\n",
    "\n",
    "*n* is a non-negative integer and fits within the range of a 32-bit signed integer.\n",
    "\n",
    "**Example 1:**\n",
    "```\n",
    "n = 5\n",
    "\n",
    "The coins can form the following rows:\n",
    "¤\n",
    "¤ ¤\n",
    "¤ ¤\n",
    "\n",
    "Because the 3rd row is incomplete, we return 2.\n",
    "```\n",
    "**Example 2:**\n",
    "```\n",
    "n = 8\n",
    "\n",
    "The coins can form the following rows:\n",
    "¤\n",
    "¤ ¤\n",
    "¤ ¤ ¤\n",
    "¤ ¤\n",
    "\n",
    "Because the 4th row is incomplete, we return 3.\n",
    "```"
   ]
  },
  {
   "cell_type": "code",
   "execution_count": 2,
   "metadata": {},
   "outputs": [],
   "source": [
    "n1 = 5\n",
    "n2 = 8"
   ]
  },
  {
   "cell_type": "code",
   "execution_count": 9,
   "metadata": {},
   "outputs": [],
   "source": [
    "# counting up\n",
    "class Solution:\n",
    "    def arrangeCoins(self, n: int) -> int:\n",
    "        coins, rowcoins, row = 0, 0 , 0\n",
    "        while coins < n:\n",
    "            rowcoins += 1\n",
    "            coins += rowcoins\n",
    "            row += 1\n",
    "        \n",
    "        return row-1"
   ]
  },
  {
   "cell_type": "code",
   "execution_count": 36,
   "metadata": {},
   "outputs": [],
   "source": [
    "# using subtraction\n",
    "class Solution:\n",
    "    def arrangeCoins(self, n: int) -> int:\n",
    "        rowcoins, row = 0, 0\n",
    "        while (n-rowcoins) > 0:\n",
    "            rowcoins += 1\n",
    "            n -= rowcoins\n",
    "            row += 1\n",
    "        \n",
    "        return row"
   ]
  },
  {
   "cell_type": "markdown",
   "metadata": {},
   "source": [
    "**Study Notes:**\n",
    "* number of items in staircase is an [arithmetic sum](https://www.mathwords.com/a/arithmetic_series.htm#:~:text=The%20sum%20of%20an%20arithmetic,the%20first%20and%20last%20terms.&text=Example%3A,formula%20for%20an%20arithmetic%20sequence.)\n",
    "* general formula is $sum = n\\left(\\frac{a_1+a_n}{2}\\right)$\n",
    "    * for this problem, $n = k$ and $sum = n$ from formula\n",
    "    * thus, $n = k\\left(\\frac{a_1+a_n}{2}\\right)$\n",
    "    * $n = k\\left(\\frac{1+k}{2}\\right)$\n",
    "    * $2n = k(k+1)$\n",
    "    * $k^2+k-2n = 0$\n",
    "    * Using quadratic formula: $k = \\frac{(-1)\\pm\\sqrt{1^2-4(1)(-2n)}}{2(1)}$\n",
    "    * Since only positive solution matters: $k = \\frac{\\sqrt{8n+1}-1}{2}$"
   ]
  },
  {
   "cell_type": "code",
   "execution_count": 42,
   "metadata": {},
   "outputs": [],
   "source": [
    "# using math\n",
    "from math import sqrt\n",
    "class Solution:\n",
    "    def arrangeCoins(self, n: int) -> int:\n",
    "        k = (sqrt(8*n+1)-1)//2\n",
    "        return int(k)"
   ]
  },
  {
   "cell_type": "code",
   "execution_count": 43,
   "metadata": {},
   "outputs": [
    {
     "data": {
      "text/plain": [
       "3"
      ]
     },
     "execution_count": 43,
     "metadata": {},
     "output_type": "execute_result"
    }
   ],
   "source": [
    "soln = Solution()\n",
    "soln.arrangeCoins(7)"
   ]
  },
  {
   "cell_type": "markdown",
   "metadata": {},
   "source": [
    "## Day 2: 7/2/20\n",
    "### 107. Binary Tree Level Order Traversal II\n",
    "EASY  \n",
    "https://leetcode.com/problems/binary-tree-level-order-traversal-ii/  \n",
    "https://leetcode.com/explore/challenge/card/july-leetcoding-challenge/544/week-1-july-1st-july-7th/3378/"
   ]
  },
  {
   "cell_type": "markdown",
   "metadata": {},
   "source": [
    "Given a binary tree, return the *bottom-up level order* traversal of its nodes' values. (ie, from left to right, level by level from leaf to root).\n",
    "\n",
    "For example:\n",
    "Given binary tree `[3,9,20,null,null,15,7]`,\n",
    "```\n",
    "    3\n",
    "   / \\\n",
    "  9  20\n",
    "    /  \\\n",
    "   15   7\n",
    "```\n",
    "return its bottom-up level order traversal as:\n",
    "```\n",
    "[\n",
    "  [15,7],\n",
    "  [9,20],\n",
    "  [3]\n",
    "]\n",
    "```"
   ]
  },
  {
   "cell_type": "code",
   "execution_count": 49,
   "metadata": {},
   "outputs": [],
   "source": [
    "# Definition for a binary tree node.\n",
    "class TreeNode:\n",
    "    def __init__(self, val=0, left=None, right=None):\n",
    "        self.val = val\n",
    "        self.left = left\n",
    "        self.right = right\n",
    "\n",
    "# only works for complete trees! Need additional info (like inorder) to uniquely identify tree\n",
    "def constructTree(nodes, i, n):\n",
    "    # default to returning None if node not defined at i in nodes array\n",
    "    root = None\n",
    "    if (i<n) and nodes[i] is not None:\n",
    "        node = TreeNode(nodes[i])\n",
    "        root = node\n",
    "        \n",
    "        root.left = constructTree(nodes, 2*i+1, n)\n",
    "        root.right = constructTree(nodes, 2*i+2, n)\n",
    "    return root\n",
    "\n",
    "def printTree(root):\n",
    "    treevals = []\n",
    "    q = [root]\n",
    "    while q:\n",
    "        node = q.pop(0)\n",
    "        if node:\n",
    "            treevals.append(node.val)\n",
    "            # add to queue if a child exists\n",
    "            if node.left or node.right:\n",
    "                q.append(node.left)\n",
    "                q.append(node.right)\n",
    "        else:\n",
    "            treevals.append('null')\n",
    "    return treevals\n",
    "\n",
    "tree1 = [3,9,20,None,None,15,7]\n",
    "root1 = constructTree(tree1,0,len(tree1))"
   ]
  },
  {
   "cell_type": "code",
   "execution_count": 65,
   "metadata": {},
   "outputs": [
    {
     "data": {
      "text/plain": [
       "9"
      ]
     },
     "execution_count": 65,
     "metadata": {},
     "output_type": "execute_result"
    }
   ],
   "source": [
    "root1.left.val"
   ]
  },
  {
   "cell_type": "code",
   "execution_count": 71,
   "metadata": {},
   "outputs": [],
   "source": [
    "class Solution:\n",
    "    def levelOrderBottom(self, root: TreeNode) -> List[List[int]]:\n",
    "        nq = [root]\n",
    "        nodelist = []\n",
    "        while nq:\n",
    "            q = nq\n",
    "            nq, levellist = [], []\n",
    "            while q:\n",
    "                node = q.pop(0)\n",
    "                if node:\n",
    "                    levellist.append(node.val)\n",
    "                    nq.append(node.left)\n",
    "                    nq.append(node.right)\n",
    "            if levellist:\n",
    "                nodelist.insert(0,levellist)\n",
    "        return nodelist"
   ]
  },
  {
   "cell_type": "code",
   "execution_count": null,
   "metadata": {},
   "outputs": [],
   "source": [
    "# regular level order traversal, but reverse"
   ]
  },
  {
   "cell_type": "code",
   "execution_count": 73,
   "metadata": {},
   "outputs": [
    {
     "data": {
      "text/plain": [
       "[]"
      ]
     },
     "execution_count": 73,
     "metadata": {},
     "output_type": "execute_result"
    }
   ],
   "source": [
    "soln = Solution()\n",
    "soln.levelOrderBottom()"
   ]
  },
  {
   "cell_type": "markdown",
   "metadata": {},
   "source": [
    "## Day 3: 7/3/20\n",
    "### 957. Prison Cells After N Days\n",
    "MEDIUM  \n",
    "https://leetcode.com/problems/prison-cells-after-n-days/  \n",
    "https://leetcode.com/explore/challenge/card/july-leetcoding-challenge/544/week-1-july-1st-july-7th/3379/"
   ]
  },
  {
   "cell_type": "markdown",
   "metadata": {},
   "source": [
    "There are 8 prison cells in a row, and each cell is either occupied or vacant.\n",
    "\n",
    "Each day, whether the cell is occupied or vacant changes according to the following rules:\n",
    "\n",
    "If a cell has two adjacent neighbors that are both occupied or both vacant, then the cell becomes occupied.\n",
    "Otherwise, it becomes vacant.\n",
    "(Note that because the prison is a row, the first and the last cells in the row can't have two adjacent neighbors.)\n",
    "\n",
    "We describe the current state of the prison in the following way: `cells[i] == 1` if the `i`-th cell is occupied, else `cells[i] == 0`.\n",
    "\n",
    "Given the initial state of the prison, return the state of the prison after `N` days (and `N` such changes described above.)\n",
    "\n",
    " \n",
    "\n",
    "**Example 1:**\n",
    "```\n",
    "Input: cells = [0,1,0,1,1,0,0,1], N = 7\n",
    "Output: [0,0,1,1,0,0,0,0]\n",
    "Explanation: \n",
    "The following table summarizes the state of the prison on each day:\n",
    "Day 0: [0, 1, 0, 1, 1, 0, 0, 1]\n",
    "Day 1: [0, 1, 1, 0, 0, 0, 0, 0]\n",
    "Day 2: [0, 0, 0, 0, 1, 1, 1, 0]\n",
    "Day 3: [0, 1, 1, 0, 0, 1, 0, 0]\n",
    "Day 4: [0, 0, 0, 0, 0, 1, 0, 0]\n",
    "Day 5: [0, 1, 1, 1, 0, 1, 0, 0]\n",
    "Day 6: [0, 0, 1, 0, 1, 1, 0, 0]\n",
    "Day 7: [0, 0, 1, 1, 0, 0, 0, 0]\n",
    "```\n",
    "**Example 2:**\n",
    "```\n",
    "Input: cells = [1,0,0,1,0,0,1,0], N = 1000000000\n",
    "Output: [0,0,1,1,1,1,1,0]\n",
    "```\n",
    "\n",
    "**Note:**\n",
    "\n",
    "1. `cells.length == 8`\n",
    "2. `cells[i]` is in `{0, 1}`\n",
    "3. `1 <= N <= 10^9`"
   ]
  },
  {
   "cell_type": "code",
   "execution_count": 74,
   "metadata": {},
   "outputs": [],
   "source": [
    "cells1,N1 = [0,1,0,1,1,0,0,1], 7\n",
    "cells2,N2 = [1,0,0,1,0,0,1,0], 1000000000"
   ]
  },
  {
   "cell_type": "code",
   "execution_count": 75,
   "metadata": {},
   "outputs": [],
   "source": [
    "class Solution:\n",
    "    def prisonAfterNDays(self, cells: List[int], N: int) -> List[int]:\n",
    "        \n",
    "        return None"
   ]
  },
  {
   "cell_type": "code",
   "execution_count": 76,
   "metadata": {},
   "outputs": [],
   "source": [
    "soln = Solution()\n",
    "soln.prisonAfterNDays(cells1,N1)"
   ]
  },
  {
   "cell_type": "markdown",
   "metadata": {},
   "source": [
    "## Day 4: 7/4/20\n",
    "### 264. Ugly Number II\n",
    "MEDIUM  \n",
    "https://leetcode.com/problems/ugly-number-ii/  \n",
    "https://leetcode.com/explore/challenge/card/july-leetcoding-challenge/544/week-1-july-1st-july-7th/3380/"
   ]
  },
  {
   "cell_type": "markdown",
   "metadata": {},
   "source": [
    "Write a program to find the `n`-th ugly number.\n",
    "\n",
    "Ugly numbers are **positive numbers** whose prime factors only include `2, 3, 5`. \n",
    "\n",
    "**Example:**\n",
    "```\n",
    "Input: n = 10\n",
    "Output: 12\n",
    "Explanation: 1, 2, 3, 4, 5, 6, 8, 9, 10, 12 is the sequence of the first 10 ugly numbers.\n",
    "```\n",
    "**Note:**\n",
    "\n",
    "1. `1` is typically treated as an ugly number.\n",
    "2. `n` does not exceed 1690."
   ]
  },
  {
   "cell_type": "code",
   "execution_count": 77,
   "metadata": {},
   "outputs": [],
   "source": [
    "n1 = 10"
   ]
  },
  {
   "cell_type": "code",
   "execution_count": 78,
   "metadata": {},
   "outputs": [],
   "source": [
    "class Solution:\n",
    "    def nthUglyNumber(self, n: int) -> int:\n",
    "        \n",
    "        return None"
   ]
  },
  {
   "cell_type": "code",
   "execution_count": 79,
   "metadata": {},
   "outputs": [],
   "source": [
    "soln = Solution()\n",
    "soln.nthUglyNumber(n1)"
   ]
  },
  {
   "cell_type": "code",
   "execution_count": 81,
   "metadata": {},
   "outputs": [
    {
     "data": {
      "text/plain": [
       "1"
      ]
     },
     "execution_count": 81,
     "metadata": {},
     "output_type": "execute_result"
    }
   ],
   "source": [
    "9 % 4"
   ]
  },
  {
   "cell_type": "code",
   "execution_count": 100,
   "metadata": {},
   "outputs": [],
   "source": [
    "class Solution:\n",
    "    def isUgly(self, num: int) -> bool:\n",
    "        \n",
    "        factors = [2, 3, 5]\n",
    "        for f in factors:\n",
    "            # repeatedly divide by each factor until non-divisible\n",
    "            while (num % f == 0) and (num != 0):\n",
    "                num = num/f\n",
    "        \n",
    "        return True if int(num) == 1 else False"
   ]
  },
  {
   "cell_type": "code",
   "execution_count": 101,
   "metadata": {},
   "outputs": [
    {
     "data": {
      "text/plain": [
       "False"
      ]
     },
     "execution_count": 101,
     "metadata": {},
     "output_type": "execute_result"
    }
   ],
   "source": [
    "soln = Solution()\n",
    "soln.isUgly(0)"
   ]
  },
  {
   "cell_type": "code",
   "execution_count": 99,
   "metadata": {},
   "outputs": [
    {
     "data": {
      "text/plain": [
       "0"
      ]
     },
     "execution_count": 99,
     "metadata": {},
     "output_type": "execute_result"
    }
   ],
   "source": [
    "0 % 5"
   ]
  },
  {
   "cell_type": "markdown",
   "metadata": {},
   "source": [
    "## Day 5: 7/5/20\n",
    "### 461. Hamming Distance\n",
    "EASY  \n",
    "https://leetcode.com/problems/hamming-distance/  \n",
    "https://leetcode.com/explore/challenge/card/july-leetcoding-challenge/544/week-1-july-1st-july-7th/3381/"
   ]
  },
  {
   "cell_type": "markdown",
   "metadata": {},
   "source": [
    "The [Hamming distance](https://en.wikipedia.org/wiki/Hamming_distance) between two integers is the number of positions at which the corresponding bits are different.\n",
    "\n",
    "Given two integers `x` and `y`, calculate the Hamming distance.\n",
    "\n",
    "**Note:**\n",
    "0 ≤ `x`, `y` < $2^{31}$.\n",
    "\n",
    "**Example:**\n",
    "```\n",
    "Input: x = 1, y = 4\n",
    "\n",
    "Output: 2\n",
    "\n",
    "Explanation:\n",
    "1   (0 0 0 1)\n",
    "4   (0 1 0 0)\n",
    "       ↑   ↑\n",
    "\n",
    "The above arrows point to positions where the corresponding bits are different.\n",
    "```"
   ]
  },
  {
   "cell_type": "code",
   "execution_count": 174,
   "metadata": {},
   "outputs": [],
   "source": [
    "x1, y1 = 1, 4\n",
    "x2, y2 = 9, 21"
   ]
  },
  {
   "cell_type": "code",
   "execution_count": 176,
   "metadata": {},
   "outputs": [],
   "source": [
    "# iterating through bit strings\n",
    "class Solution:\n",
    "    def hammingDistance(self, x: int, y: int) -> int:\n",
    "        s = min(x,y)\n",
    "        l = max(x,y)\n",
    "        sb = bin(s)[2:]\n",
    "        lb = bin(l)[2:]\n",
    "        \n",
    "        # pad shorter bit str\n",
    "        sb = '0'*(len(lb)-len(sb))+sb\n",
    "        diff = 0\n",
    "        for i in range(len(sb)):\n",
    "            if sb[i]!=lb[i]:\n",
    "                diff += 1\n",
    "        return diff"
   ]
  },
  {
   "cell_type": "code",
   "execution_count": 180,
   "metadata": {},
   "outputs": [],
   "source": [
    "# use XOR\n",
    "class Solution:\n",
    "    def hammingDistance(self, x: int, y: int) -> int:\n",
    "        xorstr = bin(x^y)[2:]\n",
    "        diff = 0\n",
    "        for s in xorstr:\n",
    "            if s == '1':\n",
    "                diff += 1\n",
    "                \n",
    "        return diff"
   ]
  },
  {
   "cell_type": "code",
   "execution_count": 182,
   "metadata": {},
   "outputs": [
    {
     "data": {
      "text/plain": [
       "2"
      ]
     },
     "execution_count": 182,
     "metadata": {},
     "output_type": "execute_result"
    }
   ],
   "source": [
    "soln = Solution()\n",
    "soln.hammingDistance(x1,y1)"
   ]
  },
  {
   "cell_type": "markdown",
   "metadata": {},
   "source": [
    "## Day 6: 7/6/20\n",
    "### 66. Plus One\n",
    "EASY  \n",
    "https://leetcode.com/problems/plus-one/  \n",
    "https://leetcode.com/explore/challenge/card/july-leetcoding-challenge/544/week-1-july-1st-july-7th/3382/"
   ]
  },
  {
   "cell_type": "markdown",
   "metadata": {},
   "source": [
    "Given a **non-empty** array of digits representing a non-negative integer, plus one to the integer.\n",
    "\n",
    "The digits are stored such that the most significant digit is at the head of the list, and each element in the array contain a single digit.\n",
    "\n",
    "You may assume the integer does not contain any leading zero, except the number 0 itself.\n",
    "\n",
    "**Example 1:**\n",
    "```\n",
    "Input: [1,2,3]\n",
    "Output: [1,2,4]\n",
    "Explanation: The array represents the integer 123.\n",
    "```\n",
    "**Example 2:**\n",
    "```\n",
    "Input: [4,3,2,1]\n",
    "Output: [4,3,2,2]\n",
    "Explanation: The array represents the integer 4321.\n",
    "```"
   ]
  },
  {
   "cell_type": "code",
   "execution_count": 32,
   "metadata": {},
   "outputs": [],
   "source": [
    "digits1 = [1,2,3]\n",
    "digits2 = [4,3,2,1]"
   ]
  },
  {
   "cell_type": "code",
   "execution_count": 93,
   "metadata": {},
   "outputs": [],
   "source": [
    "# math + str conversion\n",
    "class Solution:\n",
    "    def plusOne(self, digits: List[int]) -> List[int]:\n",
    "        val = 0\n",
    "        lasti = len(digits)-1\n",
    "        for i in range(len(digits)):\n",
    "            val += digits[lasti-i]*(10**i)\n",
    "            if i == 0:\n",
    "                val += 1\n",
    "                \n",
    "        return [int(c) for c in list(str(val))]"
   ]
  },
  {
   "cell_type": "code",
   "execution_count": 103,
   "metadata": {},
   "outputs": [],
   "source": [
    "# direct list iterations\n",
    "class Solution:\n",
    "    def plusOne(self, digits: List[int]) -> List[int]:\n",
    "        newdigits = digits#.copy()\n",
    "        i = len(newdigits)-1\n",
    "        plus = newdigits[i] + 1\n",
    "        while plus == 10:\n",
    "            newdigits[i] = 0\n",
    "            i -= 1\n",
    "            if i >= 0:\n",
    "                plus = newdigits[i] + 1\n",
    "            else:\n",
    "                plus = 1\n",
    "        \n",
    "        if i < 0:\n",
    "            newdigits.insert(0,plus)\n",
    "        else:\n",
    "            newdigits[i] = plus\n",
    "        return newdigits"
   ]
  },
  {
   "cell_type": "code",
   "execution_count": 98,
   "metadata": {},
   "outputs": [],
   "source": [
    "# using str conversion\n",
    "class Solution:\n",
    "    def plusOne(self, digits: List[int]) -> List[int]:\n",
    "        valstr = ''.join([str(i) for i in digits])\n",
    "        newval = int(valstr)+1\n",
    "        return [int(c) for c in list(str(newval))]"
   ]
  },
  {
   "cell_type": "code",
   "execution_count": 111,
   "metadata": {},
   "outputs": [],
   "source": [
    "# direct list iterations\n",
    "class Solution:\n",
    "    def plusOne(self, digits: List[int]) -> List[int]:\n",
    "        i = len(digits)-1\n",
    "        while digits[i] == 9:\n",
    "            digits[i] = 0\n",
    "            i -= 1\n",
    "            \n",
    "        if i < 0:\n",
    "            digits = [1] + digits\n",
    "        else:\n",
    "            digits[i] += 1\n",
    "        return digits"
   ]
  },
  {
   "cell_type": "code",
   "execution_count": 114,
   "metadata": {},
   "outputs": [
    {
     "data": {
      "text/plain": [
       "[1, 0, 0, 0, 0]"
      ]
     },
     "execution_count": 114,
     "metadata": {},
     "output_type": "execute_result"
    }
   ],
   "source": [
    "soln = Solution()\n",
    "soln.plusOne([9,9,9,9])"
   ]
  },
  {
   "cell_type": "markdown",
   "metadata": {},
   "source": [
    "## Day 7: 7/7/20\n",
    "### 463. Island Perimeter\n",
    "EASY  \n",
    "https://leetcode.com/problems/island-perimeter/  \n",
    "https://leetcode.com/explore/challenge/card/july-leetcoding-challenge/544/week-1-july-1st-july-7th/3383/"
   ]
  },
  {
   "cell_type": "markdown",
   "metadata": {},
   "source": [
    "You are given a map in form of a two-dimensional integer grid where 1 represents land and 0 represents water.\n",
    "\n",
    "Grid cells are connected horizontally/vertically (not diagonally). The grid is completely surrounded by water, and there is exactly one island (i.e., one or more connected land cells).\n",
    "\n",
    "The island doesn't have \"lakes\" (water inside that isn't connected to the water around the island). One cell is a square with side length 1. The grid is rectangular, width and height don't exceed 100. Determine the perimeter of the island.\n",
    "\n",
    "**Example:**\n",
    "```\n",
    "Input:\n",
    "[[0,1,0,0],\n",
    " [1,1,1,0],\n",
    " [0,1,0,0],\n",
    " [1,1,0,0]]\n",
    "\n",
    "Output: 16\n",
    "\n",
    "Explanation: The perimeter is the 16 yellow stripes in the image below:\n",
    "```\n",
    "![https://assets.leetcode.com/uploads/2018/10/12/island.png](https://assets.leetcode.com/uploads/2018/10/12/island.png)"
   ]
  },
  {
   "cell_type": "code",
   "execution_count": 153,
   "metadata": {},
   "outputs": [],
   "source": [
    "grid1 = [[0,1,0,0],\n",
    "         [1,1,1,0],\n",
    "         [0,1,0,0],\n",
    "         [1,1,0,0]]\n",
    "grid2 = [[0,1,0,0],\n",
    "         [0,1,1,1],\n",
    "         [0,1,0,0],\n",
    "         [1,1,1,1]]\n",
    "grid3 = [[1,0]]"
   ]
  },
  {
   "cell_type": "code",
   "execution_count": 156,
   "metadata": {},
   "outputs": [
    {
     "data": {
      "text/plain": [
       "2"
      ]
     },
     "execution_count": 156,
     "metadata": {},
     "output_type": "execute_result"
    }
   ],
   "source": [
    "len(grid3[0])"
   ]
  },
  {
   "cell_type": "code",
   "execution_count": 157,
   "metadata": {},
   "outputs": [],
   "source": [
    "class Solution:\n",
    "    def islandPerimeter(self, grid: List[List[int]]) -> int:\n",
    "        peri = 0\n",
    "        height,width = len(grid), len(grid[0])\n",
    "        for r in range(height):\n",
    "            for c in range(width):\n",
    "                if grid[r][c]==1:\n",
    "                    if ((r-1)>=0 and grid[r-1][c]==0) or ((r-1)<0):\n",
    "                        peri += 1\n",
    "                    if ((c-1)>=0 and grid[r][c-1]==0) or ((c-1)<0):\n",
    "                        peri += 1\n",
    "                    if ((c+1)<width and grid[r][c+1]==0) or ((c+1)>=width):\n",
    "                        peri += 1\n",
    "                    if ((r+1)<height and grid[r+1][c]==0) or ((r+1)>=height):\n",
    "                        peri += 1\n",
    "        return peri"
   ]
  },
  {
   "cell_type": "code",
   "execution_count": 159,
   "metadata": {},
   "outputs": [],
   "source": [
    "# using logical short-circuiting\n",
    "class Solution:\n",
    "    def islandPerimeter(self, grid: List[List[int]]) -> int:\n",
    "        peri = 0\n",
    "        height,width = len(grid), len(grid[0])\n",
    "        for r in range(height):\n",
    "            for c in range(width):\n",
    "                if grid[r][c]==1: # perform additional checks only if square is land\n",
    "                    # checks if square on edge first before water check\n",
    "                    if r==0 or grid[r-1][c]==0:\n",
    "                        peri += 1\n",
    "                    if c==0 or grid[r][c-1]==0:\n",
    "                        peri += 1\n",
    "                    if c==width-1 or grid[r][c+1]==0:\n",
    "                        peri += 1\n",
    "                    if r==height-1 or grid[r+1][c]==0:\n",
    "                        peri += 1\n",
    "        return peri"
   ]
  },
  {
   "cell_type": "code",
   "execution_count": 164,
   "metadata": {},
   "outputs": [
    {
     "data": {
      "text/plain": [
       "16"
      ]
     },
     "execution_count": 164,
     "metadata": {},
     "output_type": "execute_result"
    }
   ],
   "source": [
    "soln = Solution()\n",
    "soln.islandPerimeter(grid1)"
   ]
  },
  {
   "cell_type": "markdown",
   "metadata": {},
   "source": [
    "## Day 8: 7/8/20\n",
    "### 15. 3Sum\n",
    "MEDIUM  \n",
    "https://leetcode.com/problems/3sum/  \n",
    "https://leetcode.com/explore/challenge/card/july-leetcoding-challenge/545/week-2-july-8th-july-14th/3384/\n",
    "\n",
    "**Also on:**  \n",
    "[Blind recommended list](https://www.teamblind.com/post/New-Year-Gift---Curated-List-of-Top-75-LeetCode-Questions-to-Save-Your-Time-OaM1orEU)"
   ]
  },
  {
   "cell_type": "markdown",
   "metadata": {},
   "source": [
    "Given an array `nums` of n integers, are there elements a, b, c in `nums` such that a + b + c = 0? Find all unique triplets in the array which gives the sum of zero.\n",
    "\n",
    "**Note:**\n",
    "\n",
    "The solution set must not contain duplicate triplets.\n",
    "\n",
    "**Example:**\n",
    "```\n",
    "Given array nums = [-1, 0, 1, 2, -1, -4],\n",
    "\n",
    "A solution set is:\n",
    "[\n",
    "  [-1, 0, 1],\n",
    "  [-1, -1, 2]\n",
    "]\n",
    "```"
   ]
  },
  {
   "cell_type": "markdown",
   "metadata": {},
   "source": [
    "**Study Notes:**\n",
    "* optimal solution is $O(n^2)$ time"
   ]
  },
  {
   "cell_type": "code",
   "execution_count": 166,
   "metadata": {},
   "outputs": [],
   "source": [
    "nums1 = [-1, 0, 1, 2, -1, -4]\n",
    "nums2 = [0,0,0,0]\n",
    "nums3 = [-2, 1, 1, 1]"
   ]
  },
  {
   "cell_type": "code",
   "execution_count": 203,
   "metadata": {},
   "outputs": [],
   "source": [
    "class Solution:\n",
    "    def threeSum(self, nums: List[int]) -> List[List[int]]:\n",
    "        nums = sorted(nums)\n",
    "        result = []\n",
    "        for i in range(len(nums)):\n",
    "            # skip iteration if nums[i] same as previous value (to avoid duplicates)\n",
    "            if i>0 and nums[i]==nums[i-1]:\n",
    "                continue\n",
    "            else: # two sum hash map solution\n",
    "                dct = {}\n",
    "                target = -nums[i]\n",
    "                for i2 in range(i+1,len(nums)):\n",
    "                    dct[nums[i2]] = i2\n",
    "                for i2 in range(i+1,len(nums)):\n",
    "                    # skip check again if nums[i2] same as previous\n",
    "                    if i2>i+1 and nums[i2]==nums[i2-1]:\n",
    "                        continue\n",
    "                    else:\n",
    "                        c = target-nums[i2]\n",
    "                        # check if complement in dict\n",
    "                        # also make sure dict result is not the same item at i2\n",
    "                        if c in dct and dct[c]>i2:\n",
    "                            result.append([nums[i],nums[i2],c])\n",
    "        return result"
   ]
  },
  {
   "cell_type": "code",
   "execution_count": 204,
   "metadata": {},
   "outputs": [
    {
     "data": {
      "text/plain": [
       "[[-1, -1, 2], [-1, 0, 1]]"
      ]
     },
     "execution_count": 204,
     "metadata": {},
     "output_type": "execute_result"
    }
   ],
   "source": [
    "soln = Solution()\n",
    "soln.threeSum(nums1)"
   ]
  },
  {
   "cell_type": "markdown",
   "metadata": {},
   "source": [
    "## Day 9: 7/9/20\n",
    "### 662. Maximum Width of Binary Tree\n",
    "MEDIUM  \n",
    "https://leetcode.com/problems/maximum-width-of-binary-tree/  \n",
    "https://leetcode.com/explore/challenge/card/july-leetcoding-challenge/545/week-2-july-8th-july-14th/3385/"
   ]
  },
  {
   "cell_type": "markdown",
   "metadata": {},
   "source": [
    "Given a binary tree, write a function to get the maximum width of the given tree. The width of a tree is the maximum width among all levels. The binary tree has the same structure as a **full binary tree**, but some nodes are `null`.\n",
    "\n",
    "The width of one level is defined as the length between the end-nodes (the leftmost and right most non-null nodes in the level, where the null nodes between the end-nodes are also counted into the length calculation.\n",
    "\n",
    "**Example 1:**\n",
    "```\n",
    "Input: \n",
    "\n",
    "           1\n",
    "         /   \\\n",
    "        3     2\n",
    "       / \\     \\  \n",
    "      5   3     9 \n",
    "\n",
    "Output: 4\n",
    "Explanation: The maximum width existing in the third level with the length 4 (5,3,null,9).\n",
    "```\n",
    "**Example 2:**\n",
    "```\n",
    "Input: \n",
    "\n",
    "          1\n",
    "         /  \n",
    "        3    \n",
    "       / \\       \n",
    "      5   3     \n",
    "\n",
    "Output: 2\n",
    "Explanation: The maximum width existing in the third level with the length 2 (5,3).\n",
    "```\n",
    "**Example 3:**\n",
    "```\n",
    "Input: \n",
    "\n",
    "          1\n",
    "         / \\\n",
    "        3   2 \n",
    "       /        \n",
    "      5      \n",
    "\n",
    "Output: 2\n",
    "Explanation: The maximum width existing in the second level with the length 2 (3,2).\n",
    "```\n",
    "**Example 4:**\n",
    "```\n",
    "Input: \n",
    "\n",
    "          1\n",
    "         / \\\n",
    "        3   2\n",
    "       /     \\  \n",
    "      5       9 \n",
    "     /         \\\n",
    "    6           7\n",
    "Output: 8\n",
    "Explanation:The maximum width existing in the fourth level with the length 8 (6,null,null,null,null,null,null,7).\n",
    "```\n",
    "\n",
    "**Note:** Answer will in the range of 32-bit signed integer."
   ]
  },
  {
   "cell_type": "code",
   "execution_count": 259,
   "metadata": {},
   "outputs": [],
   "source": [
    "# Definition for a binary tree node.\n",
    "class TreeNode:\n",
    "    def __init__(self, val=0, left=None, right=None):\n",
    "        self.val = val\n",
    "        self.left = left\n",
    "        self.right = right\n",
    "\n",
    "# construct tree from level order array, assumes array is fully populated with missing nodes\n",
    "def constructtree(nodes, i, n):\n",
    "    root = None\n",
    "    if i < n and nodes[i] is not None:\n",
    "        root = TreeNode(nodes[i])\n",
    "        root.left = constructtree(nodes,2*i+1,n)\n",
    "        root.right = constructtree(nodes,2*i+2,n)\n",
    "        \n",
    "    return root\n",
    "\n",
    "# display tree in level order (using stack)\n",
    "def printtree(root):\n",
    "    q = [root]\n",
    "    nodevals = []\n",
    "    while q:\n",
    "        node = q.pop(0)\n",
    "        if node:\n",
    "            nodevals.append(node.val)\n",
    "            # add to queue only if any children exists\n",
    "            if node.left or node.right:\n",
    "                q.append(node.left)\n",
    "                q.append(node.right)\n",
    "        else:\n",
    "            nodevals.append(None)\n",
    "    return nodevals\n",
    "\n",
    "tree1 = [1,3,2,5,3,None,9]\n",
    "root1 = constructtree(tree1,0,len(tree1))\n",
    "tree2 = [1,3,None,5,3]\n",
    "root2 = constructtree(tree2,0,len(tree2))\n",
    "tree3 = [1,3,2,5,None]\n",
    "root3 = constructtree(tree3,0,len(tree3))\n",
    "tree4 = [1,3,2,5,None,None,9,6,None,None,None,None,None,None,7]\n",
    "root4 = constructtree(tree4,0,len(tree4))"
   ]
  },
  {
   "cell_type": "code",
   "execution_count": 264,
   "metadata": {},
   "outputs": [
    {
     "data": {
      "text/plain": [
       "7"
      ]
     },
     "execution_count": 264,
     "metadata": {},
     "output_type": "execute_result"
    }
   ],
   "source": [
    "root4.right.right.right.val"
   ]
  },
  {
   "cell_type": "code",
   "execution_count": 260,
   "metadata": {},
   "outputs": [
    {
     "data": {
      "text/plain": [
       "[1, 3, 2, 5, None, None, 9, 6, None, None, 7]"
      ]
     },
     "execution_count": 260,
     "metadata": {},
     "output_type": "execute_result"
    }
   ],
   "source": [
    "# doesn't print\n",
    "printtree(root4)"
   ]
  },
  {
   "cell_type": "code",
   "execution_count": 265,
   "metadata": {},
   "outputs": [],
   "source": [
    "class Solution:\n",
    "    def widthOfBinaryTree(self, root: TreeNode) -> int:\n",
    "        \n",
    "        def position(node,depth,pos):\n",
    "            if node and node.left:\n",
    "                return position(node.left,depth+1,2*pos+1)\n",
    "            elif node and node.right:\n",
    "                return position(node.right,depth+1,2*pos+2)\n",
    "            else:\n",
    "                \n",
    "        \n",
    "        # use two dicts to track width of left and right sides for each depth\n",
    "        \n",
    "        depth,lpos = position(root.left,1)\n",
    "        depth,rpos = position(root.right,2)\n",
    "        return rpos-lpos+1"
   ]
  },
  {
   "cell_type": "code",
   "execution_count": null,
   "metadata": {},
   "outputs": [],
   "source": []
  },
  {
   "cell_type": "code",
   "execution_count": null,
   "metadata": {},
   "outputs": [],
   "source": []
  },
  {
   "cell_type": "markdown",
   "metadata": {},
   "source": [
    "## Day 10: 7/10/20\n",
    "### 430. Flatten a Multilevel Doubly Linked List\n",
    "MEDIUM  \n",
    "https://leetcode.com/problems/flatten-a-multilevel-doubly-linked-list/  \n",
    "https://leetcode.com/explore/challenge/card/july-leetcoding-challenge/545/week-2-july-8th-july-14th/3386/"
   ]
  },
  {
   "cell_type": "markdown",
   "metadata": {},
   "source": [
    "You are given a doubly linked list which in addition to the next and previous pointers, it could have a child pointer, which may or may not point to a separate doubly linked list. These child lists may have one or more children of their own, and so on, to produce a multilevel data structure, as shown in the example below.\n",
    "\n",
    "Flatten the list so that all the nodes appear in a single-level, doubly linked list. You are given the head of the first level of the list.\n",
    "\n",
    " \n",
    "\n",
    "**Example 1:**\n",
    "```\n",
    "Input: head = [1,2,3,4,5,6,null,null,null,7,8,9,10,null,null,11,12]\n",
    "Output: [1,2,3,7,8,11,12,9,10,4,5,6]\n",
    "```\n",
    "Explanation:\n",
    "\n",
    "The multilevel linked list in the input is as follows:\n",
    "![https://assets.leetcode.com/uploads/2018/10/12/multilevellinkedlist.png](https://assets.leetcode.com/uploads/2018/10/12/multilevellinkedlist.png)\n",
    "\n",
    "After flattening the multilevel linked list it becomes:\n",
    "![https://assets.leetcode.com/uploads/2018/10/12/multilevellinkedlistflattened.png](https://assets.leetcode.com/uploads/2018/10/12/multilevellinkedlistflattened.png)\n",
    "\n",
    "\n",
    "**Example 2:**\n",
    "```\n",
    "Input: head = [1,2,null,3]\n",
    "Output: [1,3,2]\n",
    "Explanation:\n",
    "\n",
    "The input multilevel linked list is as follows:\n",
    "\n",
    "  1---2---NULL\n",
    "  |\n",
    "  3---NULL\n",
    "```\n",
    "**Example 3:**\n",
    "```\n",
    "Input: head = []\n",
    "Output: []\n",
    "```\n",
    "\n",
    "**How multilevel linked list is represented in test case:**\n",
    "\n",
    "We use the multilevel linked list from **Example 1** above:\n",
    "```\n",
    " 1---2---3---4---5---6--NULL\n",
    "         |\n",
    "         7---8---9---10--NULL\n",
    "             |\n",
    "             11--12--NULL\n",
    "```\n",
    "The serialization of each level is as follows:\n",
    "```\n",
    "[1,2,3,4,5,6,null]\n",
    "[7,8,9,10,null]\n",
    "[11,12,null]\n",
    "```\n",
    "To serialize all levels together we will add nulls in each level to signify no node connects to the upper node of the previous level. The serialization becomes:\n",
    "```\n",
    "[1,2,3,4,5,6,null]\n",
    "[null,null,7,8,9,10,null]\n",
    "[null,11,12,null]\n",
    "```\n",
    "Merging the serialization of each level and removing trailing nulls we obtain:\n",
    "```\n",
    "[1,2,3,4,5,6,null,null,null,7,8,9,10,null,null,11,12]\n",
    "```\n",
    "\n",
    "**Constraints:**\n",
    "\n",
    "* Number of Nodes will not exceed 1000.\n",
    "* `1 <= Node.val <= 10^5`"
   ]
  },
  {
   "cell_type": "code",
   "execution_count": 421,
   "metadata": {},
   "outputs": [],
   "source": [
    "# Definition for a Node.\n",
    "class Node:\n",
    "    def __init__(self, val, prev, next, child):\n",
    "        self.val = val\n",
    "        self.prev = prev\n",
    "        self.next = next\n",
    "        self.child = child\n",
    "\n",
    "# fix later\n",
    "def nestedlist(nodes):\n",
    "    prevnode, nextnode  = None, None\n",
    "    for i,n in enumerate(nodes):\n",
    "        if (i>0) and nodes[i-1] is not None:\n",
    "            node = Node(n,prevnode,nextnode,None)\n",
    "        elif (i>0) and nodes[i-1] is None:\n",
    "            if nodes[i] is not None:\n",
    "                continue\n",
    "                \n",
    "            prevnode, nextnode = None, None\n",
    "            node = Node(n,prevnode,nextnode)\n",
    "            \n",
    "# simple list\n",
    "def simplelist(nodes):\n",
    "    head = Node(0,None,None,None)\n",
    "    prevnode, nextnode, childnode = None, None, None\n",
    "    newlist = True\n",
    "    if nodes:\n",
    "        for i,n in enumerate(nodes):\n",
    "            if i==0:\n",
    "                node = Node(n,prevnode,nextnode,childnode)\n",
    "                head.next = node # save real head as head.next\n",
    "                prevnode = node\n",
    "            else:\n",
    "                node = Node(n,prevnode,nextnode,childnode)\n",
    "                prevnode.next = node\n",
    "                prevnode = node\n",
    "    else:\n",
    "        head.next = None\n",
    "    return head.next\n",
    "\n",
    "def printlist(head):\n",
    "    nodevals = []\n",
    "    if head:\n",
    "        nodevals.append(head.val)\n",
    "        while head.next:\n",
    "            head = head.next\n",
    "            nodevals.append(head.val)\n",
    "    return nodevals\n",
    "            \n",
    "    \n",
    "nodes1 = [1,2,3,4,5,6,None,None,None,7,8,9,10,None,None,11,12]\n",
    "head1 = simplelist(nodes1[:6])\n",
    "h1subhead1 = simplelist(nodes1[9:13])\n",
    "h1subhead2 = simplelist(nodes1[15:])\n",
    "head1.next.next.child = h1subhead1\n",
    "h1subhead1.next.child = h1subhead2\n",
    "\n",
    "nodes2 = [1,2,None,3]\n",
    "head2 = simplelist(nodes2[:2])\n",
    "h2subhead1 = simplelist(nodes2[3:4])\n",
    "head2.child = h2subhead1\n",
    "\n",
    "nodes3 = []\n",
    "head3 = simplelist(nodes3)"
   ]
  },
  {
   "cell_type": "code",
   "execution_count": 422,
   "metadata": {},
   "outputs": [],
   "source": [
    "class Solution:\n",
    "    def flatten(self, head: 'Node') -> 'Node':\n",
    "        stack = []\n",
    "        prevnode = None\n",
    "        if head:\n",
    "            stack.append(head)\n",
    "        while stack:\n",
    "            node = stack.pop()\n",
    "            if node.next:\n",
    "                stack.append(node.next)\n",
    "            if node.child:\n",
    "                stack.append(node.child)\n",
    "                node.next = node.child\n",
    "                node.child = None\n",
    "            node.prev = prevnode\n",
    "            if prevnode and prevnode.next is None:\n",
    "                prevnode.next = node\n",
    "            prevnode = node\n",
    "        return head"
   ]
  },
  {
   "cell_type": "code",
   "execution_count": 423,
   "metadata": {},
   "outputs": [
    {
     "data": {
      "text/plain": [
       "[]"
      ]
     },
     "execution_count": 423,
     "metadata": {},
     "output_type": "execute_result"
    }
   ],
   "source": [
    "soln = Solution()\n",
    "flattened = soln.flatten(head3)\n",
    "printlist(flattened)"
   ]
  },
  {
   "cell_type": "markdown",
   "metadata": {},
   "source": [
    "## Day 11: 7/11/20\n",
    "### 78. Subsets\n",
    "MEDIUM  \n",
    "https://leetcode.com/problems/subsets/  \n",
    "https://leetcode.com/explore/challenge/card/july-leetcoding-challenge/545/week-2-july-8th-july-14th/3387/"
   ]
  },
  {
   "cell_type": "markdown",
   "metadata": {},
   "source": [
    "Given a set of **distinct** integers, *nums*, return all possible subsets (the power set).\n",
    "\n",
    "**Note:** The solution set must not contain duplicate subsets.\n",
    "\n",
    "**Example:**\n",
    "```\n",
    "Input: nums = [1,2,3]\n",
    "Output:\n",
    "[\n",
    "  [3],\n",
    "  [1],\n",
    "  [2],\n",
    "  [1,2,3],\n",
    "  [1,3],\n",
    "  [2,3],\n",
    "  [1,2],\n",
    "  []\n",
    "]\n",
    "```"
   ]
  },
  {
   "cell_type": "code",
   "execution_count": 9,
   "metadata": {},
   "outputs": [],
   "source": [
    "nums1 = [1,2,3]\n",
    "nums2 = [1,2,3,4,5]"
   ]
  },
  {
   "cell_type": "code",
   "execution_count": 60,
   "metadata": {},
   "outputs": [],
   "source": [
    "# cascading solution\n",
    "class Solution:\n",
    "    def subsets(self, nums: List[int]) -> List[List[int]]:\n",
    "        out = [[]]\n",
    "        for n in nums:\n",
    "            out += [o+[n] for o in out]\n",
    "        return out"
   ]
  },
  {
   "cell_type": "markdown",
   "metadata": {},
   "source": [
    "**study notes:**\n",
    "* $O(n*2^n)$ run time"
   ]
  },
  {
   "cell_type": "code",
   "execution_count": 55,
   "metadata": {},
   "outputs": [],
   "source": [
    "# bitmask solution\n",
    "class Solution:\n",
    "    def subsets(self, nums: List[int]) -> List[List[int]]:\n",
    "        n = len(nums)\n",
    "        nth_bit = 1 << n\n",
    "        out = []\n",
    "        for i in range(2**n):\n",
    "            # use xor and truncate first 3 chars to created zero left-padded bit representation of i of length n\n",
    "            bitmask = bin(i | nth_bit)[3:] \n",
    "            \n",
    "            # append combination from nums represented by bitmask\n",
    "            out.append([nums[j] for j in range(n) if bitmask[j]=='1'])\n",
    "        return out"
   ]
  },
  {
   "cell_type": "markdown",
   "metadata": {},
   "source": [
    "**Study Notes:**\n",
    "* math axiom: There are $2^n$ possible subsets of a unique set $S$, where $n$ is the number of items\n",
    "    * [power set](https://en.wikipedia.org/wiki/Power_set)\n",
    "    * [proof of axiom](https://math.stackexchange.com/questions/546414/what-is-the-proof-that-the-total-number-of-subsets-of-a-set-is-2n)\n",
    "* approach is to generate a bitmask of length $n$ that represents every subset in nums\n",
    "* convert every integer from 0 to $2^n$ into bit representation and zero left pad to length $n$\n",
    "* use bitmask to select items from nums"
   ]
  },
  {
   "cell_type": "code",
   "execution_count": 61,
   "metadata": {},
   "outputs": [
    {
     "data": {
      "text/plain": [
       "[[], [1], [2], [1, 2], [3], [1, 3], [2, 3], [1, 2, 3]]"
      ]
     },
     "execution_count": 61,
     "metadata": {},
     "output_type": "execute_result"
    }
   ],
   "source": [
    "soln = Solution()\n",
    "soln.subsets(nums1)"
   ]
  },
  {
   "cell_type": "markdown",
   "metadata": {},
   "source": [
    "## Day 12: 7/12/20\n",
    "### 190. Reverse Bits\n",
    "EASY  \n",
    "https://leetcode.com/problems/reverse-bits/  \n",
    "https://leetcode.com/explore/challenge/card/july-leetcoding-challenge/545/week-2-july-8th-july-14th/3388/"
   ]
  },
  {
   "cell_type": "markdown",
   "metadata": {},
   "source": [
    "Reverse bits of a given 32 bits unsigned integer.\n",
    "\n",
    " \n",
    "\n",
    "**Example 1:**\n",
    "```\n",
    "Input: 00000010100101000001111010011100\n",
    "Output: 00111001011110000010100101000000\n",
    "Explanation: The input binary string 00000010100101000001111010011100 represents the unsigned integer 43261596, so return 964176192 which its binary representation is 00111001011110000010100101000000.\n",
    "```\n",
    "**Example 2:**\n",
    "```\n",
    "Input: 11111111111111111111111111111101\n",
    "Output: 10111111111111111111111111111111\n",
    "Explanation: The input binary string 11111111111111111111111111111101 represents the unsigned integer 4294967293, so return 3221225471 which its binary representation is 10111111111111111111111111111111.\n",
    "```\n",
    "\n",
    "**Note:**\n",
    "\n",
    "* Note that in some languages such as Java, there is no unsigned integer type. In this case, both input and output will be given as signed integer type and should not affect your implementation, as the internal binary representation of the integer is the same whether it is signed or unsigned.\n",
    "* In Java, the compiler represents the signed integers using 2's complement notation. Therefore, in Example 2 above the input represents the signed integer -3 and the output represents the signed integer -1073741825."
   ]
  },
  {
   "cell_type": "code",
   "execution_count": 65,
   "metadata": {},
   "outputs": [],
   "source": [
    "n1 = int('00000010100101000001111010011100',2) # '00111001011110000010100101000000'\n",
    "n2 = int('11111111111111111111111111111101',2)"
   ]
  },
  {
   "cell_type": "code",
   "execution_count": 118,
   "metadata": {},
   "outputs": [],
   "source": [
    "class Solution:\n",
    "    def reverseBits(self, n: int) -> int:\n",
    "        # need to pad bitstr if using bin\n",
    "        b32 = 1<<32\n",
    "        paddedbitstr = bin(n|b32)[3:]\n",
    "        # or just use built-in string methods in python\n",
    "        bitstr = bin(n)[2:]\n",
    "        newbitstr = bitstr.zfill(32)[::-1]\n",
    "\n",
    "        return int(newbitstr,2)"
   ]
  },
  {
   "cell_type": "markdown",
   "metadata": {},
   "source": [
    "**Study Notes:**\n",
    "* *Reverse* means to reverse the actual bit string sequence, NOT to invert each bit from 1 -> 0 and 0 -> 1"
   ]
  },
  {
   "cell_type": "code",
   "execution_count": 121,
   "metadata": {},
   "outputs": [
    {
     "data": {
      "text/plain": [
       "3221225471"
      ]
     },
     "execution_count": 121,
     "metadata": {},
     "output_type": "execute_result"
    }
   ],
   "source": [
    "soln = Solution()\n",
    "soln.reverseBits(n2)"
   ]
  },
  {
   "cell_type": "code",
   "execution_count": null,
   "metadata": {},
   "outputs": [],
   "source": []
  }
 ],
 "metadata": {
  "kernelspec": {
   "display_name": "base (Python 3.7.7)",
   "language": "python",
   "name": "base"
  },
  "language_info": {
   "codemirror_mode": {
    "name": "ipython",
    "version": 3
   },
   "file_extension": ".py",
   "mimetype": "text/x-python",
   "name": "python",
   "nbconvert_exporter": "python",
   "pygments_lexer": "ipython3",
   "version": "3.7.7"
  }
 },
 "nbformat": 4,
 "nbformat_minor": 4
}
