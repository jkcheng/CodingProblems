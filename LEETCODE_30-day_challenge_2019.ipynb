{
 "cells": [
  {
   "cell_type": "code",
   "execution_count": 1,
   "metadata": {},
   "outputs": [],
   "source": [
    "from typing import List"
   ]
  },
  {
   "cell_type": "markdown",
   "metadata": {},
   "source": [
    "## Day 1: 4/1/2020\n",
    "### 136. Single Number\n",
    "https://leetcode.com/problems/single-number/  \n",
    "https://leetcode.com/explore/other/card/30-day-leetcoding-challenge/528/week-1/3283/"
   ]
  },
  {
   "cell_type": "markdown",
   "metadata": {},
   "source": [
    "Given a **non-empty** array of integers, every element appears twice except for one. Find that single one.\n",
    "\n",
    "**Note:**\n",
    "\n",
    "Your algorithm should have a linear runtime complexity. Could you implement it without using extra memory?\n",
    "\n",
    "**Example 1:**\n",
    "```\n",
    "Input: [2,2,1]\n",
    "Output: 1\n",
    "```\n",
    "**Example 2:**\n",
    "```\n",
    "Input: [4,1,2,1,2]\n",
    "Output: 4\n",
    "```"
   ]
  },
  {
   "cell_type": "code",
   "execution_count": 2,
   "metadata": {},
   "outputs": [],
   "source": [
    "nums1 = [2,2,1]\n",
    "nums2 = [4,1,2,1,2]"
   ]
  },
  {
   "cell_type": "code",
   "execution_count": 12,
   "metadata": {},
   "outputs": [
    {
     "data": {
      "text/plain": [
       "1"
      ]
     },
     "execution_count": 12,
     "metadata": {},
     "output_type": "execute_result"
    }
   ],
   "source": [
    "list({1:2}.keys())[0]"
   ]
  },
  {
   "cell_type": "code",
   "execution_count": 13,
   "metadata": {},
   "outputs": [],
   "source": [
    "class Solution:\n",
    "    def singleNumber(self, nums: List[int]) -> int:\n",
    "        counts = {}\n",
    "        for n in nums:\n",
    "            if n not in counts:\n",
    "                counts[n] = 1\n",
    "            else:\n",
    "                p = counts.pop(n)\n",
    "            \n",
    "        return list(counts.keys())[0]"
   ]
  },
  {
   "cell_type": "code",
   "execution_count": 42,
   "metadata": {},
   "outputs": [],
   "source": [
    "# bitwise solution\n",
    "class Solution:\n",
    "    def singleNumber(self, nums: List[int]) -> int:\n",
    "        r =0\n",
    "        for n in nums:\n",
    "            r^=n\n",
    "        return r"
   ]
  },
  {
   "cell_type": "markdown",
   "metadata": {},
   "source": [
    "## Day 2: 4/2/2020\n",
    "### 202. Happy Number\n",
    "https://leetcode.com/problems/happy-number/  \n",
    "https://leetcode.com/explore/other/card/30-day-leetcoding-challenge/528/week-1/3284/"
   ]
  },
  {
   "cell_type": "markdown",
   "metadata": {},
   "source": [
    "Write an algorithm to determine if a number is \"happy\".\n",
    "\n",
    "A happy number is a number defined by the following process: Starting with any positive integer, replace the number by the sum of the squares of its digits, and repeat the process until the number equals 1 (where it will stay), or it loops endlessly in a cycle which does not include 1. Those numbers for which this process ends in 1 are happy numbers.\n",
    "\n",
    "**Example:**\n",
    "```\n",
    "Input: 19\n",
    "Output: true\n",
    "```\n",
    "**Explanation:**  \n",
    "$1^2$ + $9^2$ = 82    \n",
    "$8^2$ + $2^2$ = 68  \n",
    "$6^2$ + $8^2$ = 100  \n",
    "$1^2$ + $0^2$ + $0^2$ = 1\n"
   ]
  },
  {
   "cell_type": "code",
   "execution_count": 44,
   "metadata": {},
   "outputs": [],
   "source": [
    "n1 = 19"
   ]
  },
  {
   "cell_type": "code",
   "execution_count": 59,
   "metadata": {},
   "outputs": [],
   "source": [
    "class Solution:\n",
    "    def isHappy(self, n: int) -> bool:\n",
    "        seen = set()\n",
    "        while n != 1:\n",
    "            n = sum(int(i)**2 for i in str(n))\n",
    "            if n in seen:\n",
    "                return False\n",
    "            else:\n",
    "                seen.add(n)\n",
    "        \n",
    "        return True"
   ]
  },
  {
   "cell_type": "code",
   "execution_count": 70,
   "metadata": {},
   "outputs": [
    {
     "data": {
      "text/plain": [
       "True"
      ]
     },
     "execution_count": 70,
     "metadata": {},
     "output_type": "execute_result"
    }
   ],
   "source": [
    "soln = Solution()\n",
    "soln.isHappy(19)"
   ]
  },
  {
   "cell_type": "markdown",
   "metadata": {},
   "source": [
    "## Day 3: 4/3/20\n",
    "### 53. Maximum Subarray\n",
    "https://leetcode.com/problems/maximum-subarray/  \n",
    "https://leetcode.com/explore/other/card/30-day-leetcoding-challenge/528/week-1/3285/"
   ]
  },
  {
   "cell_type": "markdown",
   "metadata": {},
   "source": [
    "Given an integer array `nums`, find the contiguous subarray (containing at least one number) which has the largest sum and return its sum.\n",
    "\n",
    "**Example:**\n",
    "```\n",
    "Input: [-2,1,-3,4,-1,2,1,-5,4],\n",
    "Output: 6\n",
    "Explanation: [4,-1,2,1] has the largest sum = 6.\n",
    "```\n",
    "**Follow up:**  \n",
    "\n",
    "If you have figured out the O(n) solution, try coding another solution using the divide and conquer approach, which is more subtle."
   ]
  },
  {
   "cell_type": "code",
   "execution_count": 79,
   "metadata": {},
   "outputs": [],
   "source": [
    "nums1 = [-2,1,-3,4,-1,2,1,-5,4]\n",
    "nums2 = [-2,1,-3,4,-1,2,1,-7,4,-2,-1,7]"
   ]
  },
  {
   "cell_type": "code",
   "execution_count": 80,
   "metadata": {},
   "outputs": [],
   "source": [
    "class Solution:\n",
    "    def maxSubArray(self, nums: List[int]) -> int:\n",
    "        maxsum = cursum = nums[0]\n",
    "        for n in nums[1:]:\n",
    "            # set current sum to the larger value between previous sum + n or just n\n",
    "            cursum = max(cursum+n,n)\n",
    "            # set global max sum to the larger value between previous max sum or current sum\n",
    "            maxsum = max(maxsum,cursum)\n",
    "\n",
    "        return maxsum"
   ]
  },
  {
   "cell_type": "code",
   "execution_count": 83,
   "metadata": {},
   "outputs": [
    {
     "data": {
      "text/plain": [
       "8"
      ]
     },
     "execution_count": 83,
     "metadata": {},
     "output_type": "execute_result"
    }
   ],
   "source": [
    "soln = Solution()\n",
    "soln.maxSubArray(nums2)"
   ]
  },
  {
   "cell_type": "markdown",
   "metadata": {},
   "source": [
    "## Day 4: 4/4/20\n",
    "### 283. Move Zeroes\n",
    "https://leetcode.com/problems/move-zeroes/  \n",
    "https://leetcode.com/explore/other/card/30-day-leetcoding-challenge/528/week-1/3286/"
   ]
  },
  {
   "cell_type": "markdown",
   "metadata": {},
   "source": [
    "Given an array `nums`, write a function to move all `0`'s to the end of it while maintaining the relative order of the non-zero elements.\n",
    "\n",
    "**Example:**\n",
    "```\n",
    "Input: [0,1,0,3,12]\n",
    "Output: [1,3,12,0,0]\n",
    "```\n",
    "**Note:**\n",
    "\n",
    "1. You must do this **in-place** without making a copy of the array.\n",
    "2. Minimize the total number of operations."
   ]
  },
  {
   "cell_type": "code",
   "execution_count": 127,
   "metadata": {},
   "outputs": [],
   "source": [
    "nums1 = [0,1,0,3,12]\n",
    "nums2 = [0,0,4,7,5,0,9,5,0]\n",
    "nums3 = [0,0,0]\n",
    "nums4 = []\n",
    "nums5 = [1]"
   ]
  },
  {
   "cell_type": "code",
   "execution_count": 117,
   "metadata": {},
   "outputs": [],
   "source": [
    "class Solution:\n",
    "    def moveZeroes(self, nums: List[int]) -> None:\n",
    "        \"\"\"\n",
    "        Do not return anything, modify nums in-place instead.\n",
    "        \"\"\"\n",
    "        firstzero = None\n",
    "        for i in range(0,len(nums)):\n",
    "            if (nums[i] == 0) and firstzero is None:\n",
    "                firstzero = i\n",
    "            elif (nums[i] != 0) and firstzero is not None:\n",
    "                nums[i], nums[firstzero] = nums[firstzero], nums[i]\n",
    "                firstzero += 1"
   ]
  },
  {
   "cell_type": "code",
   "execution_count": 124,
   "metadata": {},
   "outputs": [],
   "source": [
    "class Solution:\n",
    "    def moveZeroes(self, nums: List[int]) -> None:\n",
    "        \"\"\"\n",
    "        Do not return anything, modify nums in-place instead.\n",
    "        \"\"\"\n",
    "        swap = 0\n",
    "        for i in range(0,len(nums)):\n",
    "            if nums[i] != 0:\n",
    "                nums[i], nums[swap] = nums[swap], nums[i]\n",
    "                swap += 1"
   ]
  },
  {
   "cell_type": "code",
   "execution_count": 128,
   "metadata": {},
   "outputs": [],
   "source": [
    "soln = Solution()\n",
    "soln.moveZeroes(nums2)"
   ]
  },
  {
   "cell_type": "code",
   "execution_count": 129,
   "metadata": {},
   "outputs": [
    {
     "data": {
      "text/plain": [
       "[4, 7, 5, 9, 5, 0, 0, 0, 0]"
      ]
     },
     "execution_count": 129,
     "metadata": {},
     "output_type": "execute_result"
    }
   ],
   "source": [
    "nums2"
   ]
  },
  {
   "cell_type": "markdown",
   "metadata": {},
   "source": [
    "## Day 5: 4/5/20\n",
    "### 122. Best Time to Buy and Sell Stock II\n",
    "https://leetcode.com/problems/best-time-to-buy-and-sell-stock-ii/  \n",
    "https://leetcode.com/explore/featured/card/30-day-leetcoding-challenge/528/week-1/3287/"
   ]
  },
  {
   "cell_type": "markdown",
   "metadata": {},
   "source": [
    "Say you have an array for which the $i^{th}$ element is the price of a given stock on day $i$.\n",
    "\n",
    "Design an algorithm to find the maximum profit. You may complete as many transactions as you like (i.e., buy one and sell one share of the stock multiple times).\n",
    "\n",
    "**Note:** You may not engage in multiple transactions at the same time (i.e., you must sell the stock before you buy again).\n",
    "\n",
    "**Example 1:**\n",
    "```\n",
    "Input: [7,1,5,3,6,4]\n",
    "Output: 7\n",
    "Explanation: Buy on day 2 (price = 1) and sell on day 3 (price = 5), profit = 5-1 = 4.\n",
    "             Then buy on day 4 (price = 3) and sell on day 5 (price = 6), profit = 6-3 = 3.\n",
    "```\n",
    "**Example 2:**\n",
    "```\n",
    "Input: [1,2,3,4,5]\n",
    "Output: 4\n",
    "Explanation: Buy on day 1 (price = 1) and sell on day 5 (price = 5), profit = 5-1 = 4.\n",
    "             Note that you cannot buy on day 1, buy on day 2 and sell them later, as you are\n",
    "             engaging multiple transactions at the same time. You must sell before buying again.\n",
    "```\n",
    "**Example 3:**\n",
    "```\n",
    "Input: [7,6,4,3,1]\n",
    "Output: 0\n",
    "Explanation: In this case, no transaction is done, i.e. max profit = 0.\n",
    "```"
   ]
  },
  {
   "cell_type": "code",
   "execution_count": 130,
   "metadata": {},
   "outputs": [],
   "source": [
    "prices1 = [7,1,5,3,6,4]\n",
    "prices2 = [1,2,3,4,5]\n",
    "prices3 = [7,6,4,3,1]"
   ]
  },
  {
   "cell_type": "code",
   "execution_count": 135,
   "metadata": {},
   "outputs": [],
   "source": [
    "class Solution:\n",
    "    def maxProfit(self, prices: List[int]) -> int:\n",
    "        profit = 0\n",
    "        for i in range(1,len(prices)):\n",
    "            diff = prices[i]-prices[i-1]\n",
    "            if diff > 0:\n",
    "                profit += diff\n",
    "        return profit"
   ]
  },
  {
   "cell_type": "code",
   "execution_count": 139,
   "metadata": {},
   "outputs": [
    {
     "data": {
      "text/plain": [
       "0"
      ]
     },
     "execution_count": 139,
     "metadata": {},
     "output_type": "execute_result"
    }
   ],
   "source": [
    "soln = Solution()\n",
    "soln.maxProfit(prices3)"
   ]
  },
  {
   "cell_type": "markdown",
   "metadata": {},
   "source": [
    "## Day 6: 4/6/20\n",
    "### 49. Group Anagrams\n",
    "https://leetcode.com/problems/group-anagrams/  \n",
    "https://leetcode.com/explore/featured/card/30-day-leetcoding-challenge/528/week-1/3288/"
   ]
  },
  {
   "cell_type": "markdown",
   "metadata": {},
   "source": [
    "Given an array of strings, group anagrams together.\n",
    "\n",
    "**Example:**\n",
    "```\n",
    "Input: [\"eat\", \"tea\", \"tan\", \"ate\", \"nat\", \"bat\"],\n",
    "Output:\n",
    "[\n",
    "  [\"ate\",\"eat\",\"tea\"],\n",
    "  [\"nat\",\"tan\"],\n",
    "  [\"bat\"]\n",
    "]\n",
    "```\n",
    "**Note:**\n",
    "\n",
    "* All inputs will be in lowercase.\n",
    "* The order of your output does not matter."
   ]
  },
  {
   "cell_type": "code",
   "execution_count": 183,
   "metadata": {},
   "outputs": [],
   "source": [
    "strs1 = [\"eat\", \"tea\", \"tan\", \"ate\", \"nat\", \"bat\"]\n",
    "strs2 = []\n",
    "strs3 = ['one']"
   ]
  },
  {
   "cell_type": "code",
   "execution_count": 195,
   "metadata": {},
   "outputs": [],
   "source": [
    "# using sort\n",
    "class Solution:\n",
    "    def groupAnagrams(self, strs: List[str]) -> List[List[str]]:\n",
    "        anagrams= {}\n",
    "        for s in strs:\n",
    "            ss = tuple((sorted(s)))\n",
    "            anagrams[ss] = anagrams.get(ss,[]) + [s]\n",
    "            \n",
    "        return list(anagrams.values())"
   ]
  },
  {
   "cell_type": "code",
   "execution_count": 220,
   "metadata": {},
   "outputs": [],
   "source": [
    "# counting characters\n",
    "class Solution:\n",
    "    def groupAnagrams(self, strs: List[str]) -> List[List[str]]:\n",
    "        anagrams= {}\n",
    "        for s in strs:\n",
    "            cl = [0]*26\n",
    "            for c in s:\n",
    "                cl[ord(c)-ord('a')] += 1\n",
    "            \n",
    "            key = tuple(cl)\n",
    "            anagrams[key] = anagrams.get(key,[]) + [s]\n",
    "            \n",
    "        return anagrams.values()"
   ]
  },
  {
   "cell_type": "code",
   "execution_count": 221,
   "metadata": {},
   "outputs": [
    {
     "data": {
      "text/plain": [
       "dict_values([['eat', 'tea', 'ate'], ['tan', 'nat'], ['bat']])"
      ]
     },
     "execution_count": 221,
     "metadata": {},
     "output_type": "execute_result"
    }
   ],
   "source": [
    "soln = Solution()\n",
    "soln.groupAnagrams(strs1)"
   ]
  },
  {
   "cell_type": "markdown",
   "metadata": {},
   "source": [
    "## Day 7: 4/7/20\n",
    "### Counting Elements\n",
    "https://leetcode.com/explore/featured/card/30-day-leetcoding-challenge/528/week-1/3289/"
   ]
  },
  {
   "cell_type": "markdown",
   "metadata": {},
   "source": [
    "Given an integer array `arr`, count element `x` such that `x + 1` is also in `arr`.\n",
    "\n",
    "If there are duplicates in `arr`, count them seperately.\n",
    "\n",
    "**Example 1:**\n",
    "```\n",
    "Input: arr = [1,2,3]\n",
    "Output: 2\n",
    "Explanation: 1 and 2 are counted cause 2 and 3 are in arr.\n",
    "```\n",
    "**Example 2:**\n",
    "```\n",
    "Input: arr = [1,1,3,3,5,5,7,7]\n",
    "Output: 0\n",
    "Explanation: No numbers are counted, cause there's no 2, 4, 6, or 8 in arr.\n",
    "```\n",
    "**Example 3:**\n",
    "```\n",
    "Input: arr = [1,3,2,3,5,0]\n",
    "Output: 3\n",
    "Explanation: 0, 1 and 2 are counted cause 1, 2 and 3 are in arr.\n",
    "```\n",
    "**Example 4:**\n",
    "```\n",
    "Input: arr = [1,1,2,2]\n",
    "Output: 2\n",
    "Explanation: Two 1s are counted cause 2 is in arr.\n",
    "```\n",
    "\n",
    "**Constraints:**\n",
    "\n",
    "1. `<= arr.length <= 1000`\n",
    "2. `<= arr[i] <= 1000`"
   ]
  },
  {
   "cell_type": "code",
   "execution_count": 222,
   "metadata": {},
   "outputs": [],
   "source": [
    "arr1 = [1,2,3]\n",
    "arr2 = [1,1,3,3,5,5,7,7]\n",
    "arr3 = [1,3,2,3,5,0]\n",
    "arr4 = [1,1,2,2]"
   ]
  },
  {
   "cell_type": "code",
   "execution_count": 225,
   "metadata": {},
   "outputs": [],
   "source": [
    "class Solution:\n",
    "    def countElements(self, arr: List[int]) -> int:\n",
    "        elements = set(arr)\n",
    "        count = 0\n",
    "        for e in arr:\n",
    "            if e+1 in elements:\n",
    "                count += 1\n",
    "        return count"
   ]
  },
  {
   "cell_type": "code",
   "execution_count": 241,
   "metadata": {},
   "outputs": [],
   "source": [
    "# two line solution using iterator\n",
    "class Solution:\n",
    "    def countElements(self, arr: List[int]) -> int:\n",
    "        elements = set(arr)\n",
    "        return sum(1 for e in arr if e+1 in elements)"
   ]
  },
  {
   "cell_type": "code",
   "execution_count": 240,
   "metadata": {},
   "outputs": [
    {
     "data": {
      "text/plain": [
       "3"
      ]
     },
     "execution_count": 240,
     "metadata": {},
     "output_type": "execute_result"
    }
   ],
   "source": [
    "soln = Solution()\n",
    "soln.countElements(arr3)"
   ]
  },
  {
   "cell_type": "markdown",
   "metadata": {},
   "source": [
    "## Day 8: 4/8/20\n",
    "### 876. Middle of the Linked List\n",
    "https://leetcode.com/problems/middle-of-the-linked-list/  \n",
    "https://leetcode.com/explore/featured/card/30-day-leetcoding-challenge/529/week-2/3290/"
   ]
  },
  {
   "cell_type": "markdown",
   "metadata": {},
   "source": [
    "Given a non-empty, singly linked list with head node `head`, return a middle node of linked list.\n",
    "\n",
    "If there are two middle nodes, return the second middle node.\n",
    "\n",
    "**Example 1:**\n",
    "```\n",
    "Input: [1,2,3,4,5]\n",
    "Output: Node 3 from this list (Serialization: [3,4,5])\n",
    "The returned node has value 3.  (The judge's serialization of this node is [3,4,5]).\n",
    "Note that we returned a ListNode object ans, such that:\n",
    "ans.val = 3, ans.next.val = 4, ans.next.next.val = 5, and ans.next.next.next = NULL.\n",
    "```\n",
    "**Example 2:**\n",
    "```\n",
    "Input: [1,2,3,4,5,6]\n",
    "Output: Node 4 from this list (Serialization: [4,5,6])\n",
    "Since the list has two middle nodes with values 3 and 4, we return the second one.\n",
    "```\n",
    "\n",
    "**Note:**\n",
    "\n",
    "* The number of nodes in the given list will be between `1` and `100`."
   ]
  },
  {
   "cell_type": "code",
   "execution_count": 258,
   "metadata": {},
   "outputs": [],
   "source": [
    "class ListNode:\n",
    "    def __init__(self, x):\n",
    "        self.val = x\n",
    "        self.next = None\n",
    "        \n",
    "# nodes\n",
    "n0 = ListNode(1)\n",
    "n1 = ListNode(2)\n",
    "n2 = ListNode(3)\n",
    "n3 = ListNode(4)\n",
    "n4 = ListNode(5)\n",
    "n5 = ListNode(1)\n",
    "n6 = ListNode(2)\n",
    "n7 = ListNode(3)\n",
    "n8 = ListNode(4)\n",
    "n9 = ListNode(5)\n",
    "n10 = ListNode(6)\n",
    "\n",
    "# list1\n",
    "n0.next = n1\n",
    "n1.next = n2\n",
    "n2.next = n3\n",
    "n3.next = n4\n",
    "\n",
    "# list 2\n",
    "n5.next = n6\n",
    "n6.next = n7\n",
    "n7.next = n8\n",
    "n8.next = n9\n",
    "n9.next = n10\n",
    "\n",
    "head1 = n0\n",
    "head2 = n5\n",
    "head3 = n4 # single item list\n",
    "head4 = None\n",
    "head5 = n3 # two item list"
   ]
  },
  {
   "cell_type": "code",
   "execution_count": 247,
   "metadata": {},
   "outputs": [],
   "source": [
    "class Solution:\n",
    "    def middleNode(self, head: ListNode) -> ListNode:\n",
    "        slow = fast = head\n",
    "        while fast and fast.next:\n",
    "            slow = slow.next\n",
    "            fast = fast.next.next\n",
    "        return slow"
   ]
  },
  {
   "cell_type": "code",
   "execution_count": 269,
   "metadata": {},
   "outputs": [
    {
     "name": "stdout",
     "output_type": "stream",
     "text": [
      "5\n"
     ]
    }
   ],
   "source": [
    "soln = Solution()\n",
    "ans = soln.middleNode(head5)\n",
    "if ans:\n",
    "    print(ans.val)"
   ]
  },
  {
   "cell_type": "markdown",
   "metadata": {},
   "source": [
    "## Day 9: 4/9/20\n",
    "### 844. Backspace String Compare\n",
    "EASY  \n",
    "https://leetcode.com/problems/backspace-string-compare/  \n",
    "https://leetcode.com/explore/featured/card/30-day-leetcoding-challenge/529/week-2/3291/"
   ]
  },
  {
   "cell_type": "markdown",
   "metadata": {},
   "source": [
    "Given two strings `S` and `T`, return if they are equal when both are typed into empty text editors. `#` means a backspace character.\n",
    "\n",
    "**Example 1:**\n",
    "```\n",
    "Input: S = \"ab#c\", T = \"ad#c\"\n",
    "Output: true\n",
    "Explanation: Both S and T become \"ac\".\n",
    "```\n",
    "**Example 2:**\n",
    "```\n",
    "Input: S = \"ab##\", T = \"c#d#\"\n",
    "Output: true\n",
    "Explanation: Both S and T become \"\".\n",
    "```\n",
    "**Example 3:**\n",
    "```\n",
    "Input: S = \"a##c\", T = \"#a#c\"\n",
    "Output: true\n",
    "Explanation: Both S and T become \"c\".\n",
    "```\n",
    "**Example 4:**\n",
    "```\n",
    "Input: S = \"a#c\", T = \"b\"\n",
    "Output: false\n",
    "Explanation: S becomes \"c\" while T becomes \"b\".\n",
    "```\n",
    "**Note:**\n",
    "\n",
    "1. `1 <= S.length <= 200`\n",
    "2. `1 <= T.length <= 200`\n",
    "3. `S` and `T` only contain lowercase letters and `'#'` characters.\n",
    "\n",
    "**Follow up:**\n",
    "\n",
    "* Can you solve it in `O(N)` time and `O(1)` space?"
   ]
  },
  {
   "cell_type": "code",
   "execution_count": 135,
   "metadata": {},
   "outputs": [],
   "source": [
    "S1, T1 = \"ab#c\", \"ad#c\"\n",
    "S2, T2 = \"ab##\", \"c#d#\"\n",
    "S3, T3 = \"a##c\", \"#a#c\"\n",
    "S4, T4 = \"a#c\", \"b\"\n",
    "S5, T5 = \"y#fo##f\", \"y#f#o##f\""
   ]
  },
  {
   "cell_type": "code",
   "execution_count": 125,
   "metadata": {},
   "outputs": [],
   "source": [
    "class Solution:\n",
    "    def backspaceCompare(self, S: str, T: str) -> bool:\n",
    "        newS, newT = '',''\n",
    "        for c in S:\n",
    "            if c=='#':\n",
    "                newS = newS[:-1]\n",
    "            else:\n",
    "                newS = newS + c\n",
    "        \n",
    "        for c in T:\n",
    "            if c=='#':\n",
    "                newT = newT[:-1]\n",
    "            else:\n",
    "                newT = newT + c\n",
    "        return newS==newT"
   ]
  },
  {
   "cell_type": "code",
   "execution_count": 144,
   "metadata": {},
   "outputs": [],
   "source": [
    "# O(n) space stack solution\n",
    "class Solution:\n",
    "    def backspaceCompare(self, S: str, T: str) -> bool:\n",
    "        def scan(s):\n",
    "            news = []\n",
    "            for c in s:\n",
    "                if news and c=='#':\n",
    "                    news.pop(-1)\n",
    "                elif c != '#':\n",
    "                    news.append(c)\n",
    "            return news\n",
    "        \n",
    "    \n",
    "        return scan(S)==scan(T)"
   ]
  },
  {
   "cell_type": "code",
   "execution_count": 122,
   "metadata": {},
   "outputs": [],
   "source": [
    "# clever O(1) space solution: iterate backwards and skip next char for every '#' encountered\n",
    "import itertools\n",
    "class Solution:\n",
    "    def backspaceCompare(self, S: str, T: str) -> bool:\n",
    "        def scan(s):\n",
    "            skip = 0\n",
    "            for c in reversed(s):\n",
    "                if c == '#':\n",
    "                    skip += 1\n",
    "                elif skip:\n",
    "                    skip -= 1\n",
    "                else:\n",
    "                    yield c\n",
    "        \n",
    "        result = all(x == y for x, y in itertools.zip_longest(scan(S), scan(T)))\n",
    "        return result"
   ]
  },
  {
   "cell_type": "code",
   "execution_count": 134,
   "metadata": {},
   "outputs": [
    {
     "data": {
      "text/plain": [
       "True"
      ]
     },
     "execution_count": 134,
     "metadata": {},
     "output_type": "execute_result"
    }
   ],
   "source": [
    "soln = Solution()\n",
    "soln.backspaceCompare(S2,T2)"
   ]
  },
  {
   "cell_type": "markdown",
   "metadata": {},
   "source": [
    "Debug cells"
   ]
  },
  {
   "cell_type": "code",
   "execution_count": 117,
   "metadata": {},
   "outputs": [],
   "source": [
    "def scan(S):\n",
    "    skip = 0\n",
    "    for c in reversed(s):\n",
    "        if c == '#':\n",
    "            skip += 1\n",
    "        elif skip:\n",
    "            skip -= 1\n",
    "        else:\n",
    "            yield c"
   ]
  },
  {
   "cell_type": "code",
   "execution_count": 146,
   "metadata": {},
   "outputs": [],
   "source": [
    "def scan(s):\n",
    "    news = []\n",
    "    for c in s:\n",
    "        if news and c=='#':\n",
    "            news.pop(-1)\n",
    "        elif c != '#':\n",
    "            news.append(c)\n",
    "    return news"
   ]
  },
  {
   "cell_type": "code",
   "execution_count": 137,
   "metadata": {},
   "outputs": [],
   "source": [
    "s = '#wo#rd'"
   ]
  },
  {
   "cell_type": "code",
   "execution_count": 147,
   "metadata": {},
   "outputs": [
    {
     "data": {
      "text/plain": [
       "['f']"
      ]
     },
     "execution_count": 147,
     "metadata": {},
     "output_type": "execute_result"
    }
   ],
   "source": [
    "scan(T5)"
   ]
  },
  {
   "cell_type": "markdown",
   "metadata": {},
   "source": [
    "## Day 10: 4/10/20\n",
    "### 155. Min Stack\n",
    "EASY  \n",
    "https://leetcode.com/problems/min-stack/  \n",
    "https://leetcode.com/explore/featured/card/30-day-leetcoding-challenge/529/week-2/3292/"
   ]
  },
  {
   "cell_type": "markdown",
   "metadata": {},
   "source": [
    "Design a stack that supports push, pop, top, and retrieving the minimum element in constant time.\n",
    "\n",
    "* push(x) -- Push element x onto stack.\n",
    "* pop() -- Removes the element on top of the stack.\n",
    "* top() -- Get the top element.\n",
    "* getMin() -- Retrieve the minimum element in the stack.\n",
    "\n",
    "**Example:**\n",
    "```\n",
    "MinStack minStack = new MinStack();\n",
    "minStack.push(-2);\n",
    "minStack.push(0);\n",
    "minStack.push(-3);\n",
    "minStack.getMin();   --> Returns -3.\n",
    "minStack.pop();\n",
    "minStack.top();      --> Returns 0.\n",
    "minStack.getMin();   --> Returns -2.\n",
    "```"
   ]
  },
  {
   "cell_type": "markdown",
   "metadata": {},
   "source": [
    "Additional clarification from discussion threads:\n",
    "* push will push the value to the stack - add a new top value;\n",
    "* pop will delete the top value of the stack - the only removing operation;\n",
    "* top will just return he top value of the stack - no removing;\n",
    "* getMin will just get the minimal value among the values in stack - no removing;"
   ]
  },
  {
   "cell_type": "code",
   "execution_count": 31,
   "metadata": {},
   "outputs": [],
   "source": [
    "class MinStack:\n",
    "    from heapq import heapify\n",
    "\n",
    "    def __init__(self):\n",
    "        \"\"\"\n",
    "        initialize your data structure here.\n",
    "        \"\"\"\n",
    "        self.stack = []\n",
    "\n",
    "    def push(self, x: int) -> None:\n",
    "        self.stack.append(x)\n",
    "\n",
    "    def pop(self) -> None:\n",
    "        self.stack.pop(-1)\n",
    "\n",
    "    def top(self) -> int:\n",
    "        return self.stack[-1]\n",
    "\n",
    "    def getMin(self) -> int:\n",
    "        heap = self.stack.copy()\n",
    "        self.heapify(heap)\n",
    "        return heap[0]\n",
    "        \n",
    "\n",
    "\n",
    "# Your MinStack object will be instantiated and called as such:\n",
    "# obj = MinStack()\n",
    "# obj.push(x)\n",
    "# obj.pop()\n",
    "# param_3 = obj.top()\n",
    "# param_4 = obj.getMin()"
   ]
  },
  {
   "cell_type": "code",
   "execution_count": 69,
   "metadata": {},
   "outputs": [],
   "source": [
    "# without using python packages\n",
    "class MinStack:\n",
    "\n",
    "    def __init__(self):\n",
    "        \"\"\"\n",
    "        initialize your data structure here.\n",
    "        \"\"\"\n",
    "        self.stack = []\n",
    "        self.mins = []\n",
    "\n",
    "    def push(self, x: int) -> None:\n",
    "        self.stack.append(x)\n",
    "        if self.mins:\n",
    "            self.mins.append(min(self.mins[-1],x))\n",
    "        else:\n",
    "            self.mins.append(x)\n",
    "\n",
    "    def pop(self) -> None:\n",
    "        self.stack.pop(-1)\n",
    "        self.mins.pop(-1)\n",
    "\n",
    "    def top(self) -> int:\n",
    "        return self.stack[-1]\n",
    "\n",
    "    def getMin(self) -> int:\n",
    "        return self.mins[-1]"
   ]
  },
  {
   "cell_type": "code",
   "execution_count": 82,
   "metadata": {},
   "outputs": [],
   "source": [
    "# without using python packages, more space efficient (maybe not?) single list\n",
    "class MinStack:\n",
    "\n",
    "    def __init__(self):\n",
    "        \"\"\"\n",
    "        initialize your data structure here.\n",
    "        \"\"\"\n",
    "        self.stack = []\n",
    "\n",
    "    def push(self, x: int) -> None:\n",
    "        if self.stack:\n",
    "            elem = (x,min(x,self.stack[-1][1]))\n",
    "            self.stack.append(elem)\n",
    "        else:\n",
    "            elem = (x,x)\n",
    "            self.stack.append(elem)\n",
    "\n",
    "    def pop(self) -> None:\n",
    "        self.stack.pop(-1)\n",
    "\n",
    "    def top(self) -> int:\n",
    "        return self.stack[-1][0]\n",
    "\n",
    "    def getMin(self) -> int:\n",
    "        return self.stack[-1][1]"
   ]
  },
  {
   "cell_type": "code",
   "execution_count": 83,
   "metadata": {},
   "outputs": [],
   "source": [
    "stack = MinStack()\n",
    "stack.push(-2)\n",
    "stack.push(0)\n",
    "stack.push(-3)"
   ]
  },
  {
   "cell_type": "code",
   "execution_count": 84,
   "metadata": {},
   "outputs": [
    {
     "data": {
      "text/plain": [
       "-3"
      ]
     },
     "execution_count": 84,
     "metadata": {},
     "output_type": "execute_result"
    }
   ],
   "source": [
    "stack.getMin()"
   ]
  },
  {
   "cell_type": "code",
   "execution_count": 85,
   "metadata": {},
   "outputs": [
    {
     "data": {
      "text/plain": [
       "-3"
      ]
     },
     "execution_count": 85,
     "metadata": {},
     "output_type": "execute_result"
    }
   ],
   "source": [
    "stack.top()"
   ]
  },
  {
   "cell_type": "code",
   "execution_count": 86,
   "metadata": {},
   "outputs": [
    {
     "data": {
      "text/plain": [
       "0"
      ]
     },
     "execution_count": 86,
     "metadata": {},
     "output_type": "execute_result"
    }
   ],
   "source": [
    "stack.pop()\n",
    "stack.top()"
   ]
  },
  {
   "cell_type": "code",
   "execution_count": 87,
   "metadata": {},
   "outputs": [
    {
     "data": {
      "text/plain": [
       "-2"
      ]
     },
     "execution_count": 87,
     "metadata": {},
     "output_type": "execute_result"
    }
   ],
   "source": [
    "stack.getMin()"
   ]
  },
  {
   "cell_type": "code",
   "execution_count": 88,
   "metadata": {},
   "outputs": [],
   "source": [
    "stack = MinStack()\n",
    "stack.push(-2)\n",
    "stack.push(0)\n",
    "stack.push(-1)"
   ]
  },
  {
   "cell_type": "code",
   "execution_count": 89,
   "metadata": {},
   "outputs": [
    {
     "data": {
      "text/plain": [
       "-2"
      ]
     },
     "execution_count": 89,
     "metadata": {},
     "output_type": "execute_result"
    }
   ],
   "source": [
    "stack.getMin()"
   ]
  },
  {
   "cell_type": "code",
   "execution_count": 90,
   "metadata": {},
   "outputs": [
    {
     "data": {
      "text/plain": [
       "-1"
      ]
     },
     "execution_count": 90,
     "metadata": {},
     "output_type": "execute_result"
    }
   ],
   "source": [
    "stack.top()"
   ]
  },
  {
   "cell_type": "code",
   "execution_count": 91,
   "metadata": {},
   "outputs": [],
   "source": [
    "stack.pop()"
   ]
  },
  {
   "cell_type": "code",
   "execution_count": 92,
   "metadata": {},
   "outputs": [
    {
     "data": {
      "text/plain": [
       "-2"
      ]
     },
     "execution_count": 92,
     "metadata": {},
     "output_type": "execute_result"
    }
   ],
   "source": [
    "stack.getMin()"
   ]
  },
  {
   "cell_type": "code",
   "execution_count": 93,
   "metadata": {},
   "outputs": [
    {
     "data": {
      "text/plain": [
       "[(-2, -2), (0, -2)]"
      ]
     },
     "execution_count": 93,
     "metadata": {},
     "output_type": "execute_result"
    }
   ],
   "source": [
    "stack.stack"
   ]
  },
  {
   "cell_type": "markdown",
   "metadata": {},
   "source": [
    "## Day 11: 4/11/20\n",
    "### 543. Diameter of Binary Tree\n",
    "EASY  \n",
    "https://leetcode.com/problems/diameter-of-binary-tree/  \n",
    "https://leetcode.com/explore/featured/card/30-day-leetcoding-challenge/529/week-2/3293/"
   ]
  },
  {
   "cell_type": "markdown",
   "metadata": {},
   "source": [
    "Given a binary tree, you need to compute the length of the diameter of the tree. The diameter of a binary tree is the length of the **longest** path between any two nodes in a tree. This path may or may not pass through the root.\n",
    "\n",
    "**Example:**  \n",
    "Given a binary tree\n",
    "```\n",
    "          1\n",
    "         / \\\n",
    "        2   3\n",
    "       / \\     \n",
    "      4   5    \n",
    "```\n",
    "Return **3**, which is the length of the path [4,2,1,3] or [5,2,1,3].\n",
    "\n",
    "**Note:** The length of path between two nodes is represented by the number of edges between them."
   ]
  },
  {
   "cell_type": "code",
   "execution_count": 39,
   "metadata": {},
   "outputs": [],
   "source": [
    "# Definition for a binary tree node.\n",
    "class TreeNode:\n",
    "    def __init__(self, x):\n",
    "        self.val = x\n",
    "        self.left = None\n",
    "        self.right = None\n",
    "        \n",
    "# nodes\n",
    "n0 = TreeNode(1)\n",
    "n1 = TreeNode(2)\n",
    "n2 = TreeNode(3)\n",
    "n3 = TreeNode(4)\n",
    "n4 = TreeNode(5)\n",
    "\n",
    "# tree\n",
    "n0.left = n1\n",
    "n0.right = n2\n",
    "n1.left = n3\n",
    "n1.right = n4\n",
    "\n",
    "root1 = n0\n",
    "root2 = n4"
   ]
  },
  {
   "cell_type": "code",
   "execution_count": 45,
   "metadata": {},
   "outputs": [],
   "source": [
    "# DFS\n",
    "class Solution:\n",
    "    def diameterOfBinaryTree(self, root: TreeNode) -> int:\n",
    "        self.mostnodes = 1 # count the nodes seen in longest path\n",
    "        def depth(node):\n",
    "            if node:\n",
    "                ldepth = depth(node.left)\n",
    "                rdepth = depth(node.right)\n",
    "                # update most nodes that can be visited from curren tnode\n",
    "                self.mostnodes = max(self.mostnodes,ldepth+rdepth+1)\n",
    "                return max(ldepth,rdepth)+1\n",
    "            else:\n",
    "                return 0\n",
    "                \n",
    "        depth(root)\n",
    "        # longest path is the most number of edges seen\n",
    "        longestpath = self.mostnodes-1\n",
    "        return longestpath"
   ]
  },
  {
   "cell_type": "code",
   "execution_count": 43,
   "metadata": {},
   "outputs": [
    {
     "data": {
      "text/plain": [
       "0"
      ]
     },
     "execution_count": 43,
     "metadata": {},
     "output_type": "execute_result"
    }
   ],
   "source": [
    "soln = Solution()\n",
    "soln.diameterOfBinaryTree(root2)"
   ]
  },
  {
   "cell_type": "markdown",
   "metadata": {},
   "source": [
    "## Day 11: 4/11/20\n",
    "### 1046. Last Stone Weight\n",
    "EASY  \n",
    "https://leetcode.com/problems/last-stone-weight/  \n",
    "https://leetcode.com/explore/featured/card/30-day-leetcoding-challenge/529/week-2/3297/"
   ]
  },
  {
   "cell_type": "markdown",
   "metadata": {},
   "source": [
    "We have a collection of stones, each stone has a positive integer weight.\n",
    "\n",
    "Each turn, we choose the two **heaviest** stones and smash them together.  Suppose the stones have weights `x` and `y` with `x <= y`.  The result of this smash is:\n",
    "\n",
    "* If `x == y`, both stones are totally destroyed;\n",
    "* If `x != y`, the stone of weight `x` is totally destroyed, and the stone of weight `y` has new weight `y-x`.\n",
    "\n",
    "At the end, there is at most 1 stone left.  Return the weight of this stone (or 0 if there are no stones left.)\n",
    "\n",
    "\n",
    "**Example 1:**\n",
    "```\n",
    "Input: [2,7,4,1,8,1]\n",
    "Output: 1\n",
    "Explanation: \n",
    "We combine 7 and 8 to get 1 so the array converts to [2,4,1,1,1] then,\n",
    "we combine 2 and 4 to get 2 so the array converts to [2,1,1,1] then,\n",
    "we combine 2 and 1 to get 1 so the array converts to [1,1,1] then,\n",
    "we combine 1 and 1 to get 0 so the array converts to [1] then that's the value of last stone.\n",
    "```\n",
    "\n",
    "**Note:**\n",
    "\n",
    "1. `1 <= stones.length <= 30`\n",
    "2. `1 <= stones[i] <= 1000`"
   ]
  },
  {
   "cell_type": "code",
   "execution_count": 4,
   "metadata": {},
   "outputs": [],
   "source": [
    "stones1 = [2,7,4,1,8,1]"
   ]
  },
  {
   "cell_type": "code",
   "execution_count": 39,
   "metadata": {},
   "outputs": [],
   "source": [
    "class Solution:\n",
    "    from heapq import heappush, heappop, heapify\n",
    "    def lastStoneWeight(self, stones: List[int]) -> int:\n",
    "        # heapify!\n",
    "        stones = [-1*s for s in stones]\n",
    "        self.heapify(stones)\n",
    "        while len(stones)>1:\n",
    "            y = self.heappop(stones)*-1\n",
    "            x = self.heappop(stones)*-1\n",
    "            diff = y-x\n",
    "            if diff != 0:\n",
    "                self.heappush(stones,diff*-1)\n",
    "        return stones[0]*-1 if stones else 0"
   ]
  },
  {
   "cell_type": "code",
   "execution_count": 48,
   "metadata": {},
   "outputs": [],
   "source": [
    "# using sort, actually faster than heap because short inputs\n",
    "class Solution:\n",
    "    def lastStoneWeight(self, stones: List[int]) -> int:\n",
    "        while len(stones)>1:\n",
    "            stones.sort()\n",
    "            y = stones.pop(-1)\n",
    "            x = stones.pop(-1)\n",
    "            diff = y-x\n",
    "            if diff != 0:\n",
    "                stones.append(diff)\n",
    "        return stones[0] if stones else 0"
   ]
  },
  {
   "cell_type": "code",
   "execution_count": 49,
   "metadata": {},
   "outputs": [
    {
     "data": {
      "text/plain": [
       "1"
      ]
     },
     "execution_count": 49,
     "metadata": {},
     "output_type": "execute_result"
    }
   ],
   "source": [
    "soln = Solution()\n",
    "soln.lastStoneWeight(stones1)"
   ]
  },
  {
   "cell_type": "markdown",
   "metadata": {},
   "source": [
    "## Day 12: 4/12/20\n",
    "### 525. Contiguous Array\n",
    "MEDIUM  \n",
    "https://leetcode.com/problems/contiguous-array/  \n",
    "https://leetcode.com/explore/featured/card/30-day-leetcoding-challenge/529/week-2/3298/"
   ]
  },
  {
   "cell_type": "markdown",
   "metadata": {},
   "source": [
    "Given a binary array, find the maximum length of a contiguous subarray with equal number of 0 and 1.\n",
    "\n",
    "**Example 1:**\n",
    "```\n",
    "Input: [0,1]\n",
    "Output: 2\n",
    "Explanation: [0, 1] is the longest contiguous subarray with equal number of 0 and 1.\n",
    "```\n",
    "**Example 2:**\n",
    "```\n",
    "Input: [0,1,0]\n",
    "Output: 2\n",
    "Explanation: [0, 1] (or [1, 0]) is a longest contiguous subarray with equal number of 0 and 1.\n",
    "```\n",
    "**Note:** The length of the given binary array will not exceed 50,000."
   ]
  },
  {
   "cell_type": "code",
   "execution_count": 44,
   "metadata": {},
   "outputs": [],
   "source": [
    "nums1 = [0,1]\n",
    "nums2 = [0,1,0]\n",
    "nums3 = [0,1,0,0,0,0,1,0]\n",
    "nums4 = [0,1,0,0,1,0,1,0]\n",
    "nums5 = [0,1,0,0,1,1,1,0]\n",
    "nums6 = [0,0,0,1,1,1,0]\n",
    "nums7 = [0,0,0,1,1,1,0,1,1,1,1]"
   ]
  },
  {
   "cell_type": "code",
   "execution_count": 17,
   "metadata": {},
   "outputs": [],
   "source": [
    "def counts(nums):\n",
    "    counts = []\n",
    "    count = 0\n",
    "    for i in range(0,len(nums)):\n",
    "        if nums[i]==1:\n",
    "            count += 1\n",
    "        else:\n",
    "            count -= 1\n",
    "        counts.append(count)\n",
    "    return counts"
   ]
  },
  {
   "cell_type": "code",
   "execution_count": 77,
   "metadata": {},
   "outputs": [],
   "source": [
    "# observation: implement a counter that -1 for 0 and +1 for 1\n",
    "# will result in a valid contiguous subsequence when counter is 0 or for the sequence between same counter values\n",
    "class Solution:\n",
    "    def findMaxLength(self, nums: List[int]) -> int:\n",
    "        counter = 0\n",
    "        counters = {}\n",
    "        maxlength = 0\n",
    "        for i in range(0,len(nums)):\n",
    "            n = nums[i]\n",
    "            if n==1:\n",
    "                counter += 1\n",
    "            else:\n",
    "                counter -= 1\n",
    "            \n",
    "            if counter == 0:\n",
    "                maxlength = max(maxlength,i+1)\n",
    "            elif counters.get(counter) is not None:\n",
    "                maxlength = max(maxlength,i-counters.get(counter))\n",
    "            else:\n",
    "                counters[counter] = i\n",
    "\n",
    "        return maxlength"
   ]
  },
  {
   "cell_type": "code",
   "execution_count": 85,
   "metadata": {},
   "outputs": [],
   "source": [
    "# more concise pythonic code for approach above\n",
    "class Solution:\n",
    "    def findMaxLength(self, nums: List[int]) -> int:\n",
    "        counter = 0\n",
    "        counters = {0:-1}\n",
    "        maxlength = 0\n",
    "        for i,n in enumerate(nums):\n",
    "            if n==1:\n",
    "                counter += 1\n",
    "            else:\n",
    "                counter -= 1\n",
    "            \n",
    "            if counter in counters:\n",
    "                maxlength = max(maxlength,i-counters[counter])\n",
    "            else:\n",
    "                counters[counter] = i\n",
    "\n",
    "        return maxlength"
   ]
  },
  {
   "cell_type": "code",
   "execution_count": 92,
   "metadata": {},
   "outputs": [
    {
     "data": {
      "text/plain": [
       "2"
      ]
     },
     "execution_count": 92,
     "metadata": {},
     "output_type": "execute_result"
    }
   ],
   "source": [
    "soln = Solution()\n",
    "soln.findMaxLength(nums2)"
   ]
  },
  {
   "cell_type": "markdown",
   "metadata": {},
   "source": [
    "## Day 14: 4/14/20\n",
    "### Perform String Shifts\n",
    "NEW PROBLEM  \n",
    "https://leetcode.com/explore/featured/card/30-day-leetcoding-challenge/529/week-2/3299/"
   ]
  },
  {
   "cell_type": "markdown",
   "metadata": {},
   "source": [
    "You are given a string `s` containing lowercase English letters, and a matrix `shift`, where `shift[i] = [direction, amount]`:\n",
    "\n",
    "* `direction` can be `0` (for left shift) or `1` (for right shift). \n",
    "* `amount` is the amount by which string `s` is to be shifted.\n",
    "* A left shift by 1 means remove the first character of `s` and append it to the end.\n",
    "* Similarly, a right shift by 1 means remove the last character of `s` and add it to the beginning.\n",
    "\n",
    "Return the final string after all operations.\n",
    "\n",
    "**Example 1:**\n",
    "```\n",
    "Input: s = \"abc\", shift = [[0,1],[1,2]]\n",
    "Output: \"cab\"\n",
    "Explanation: \n",
    "[0,1] means shift to left by 1. \"abc\" -> \"bca\"\n",
    "[1,2] means shift to right by 2. \"bca\" -> \"cab\"\n",
    "```\n",
    "**Example 2:**\n",
    "```\n",
    "Input: s = \"abcdefg\", shift = [[1,1],[1,1],[0,2],[1,3]]\n",
    "Output: \"efgabcd\"\n",
    "Explanation:  \n",
    "[1,1] means shift to right by 1. \"abcdefg\" -> \"gabcdef\"\n",
    "[1,1] means shift to right by 1. \"gabcdef\" -> \"fgabcde\"\n",
    "[0,2] means shift to left by 2. \"fgabcde\" -> \"abcdefg\"\n",
    "[1,3] means shift to right by 3. \"abcdefg\" -> \"efgabcd\"\n",
    "```\n",
    "\n",
    "**Constraints:**\n",
    "\n",
    "* `1 <= s.length <= 100`\n",
    "* `s` only contains lower case English letters.\n",
    "* `1 <= shift.length <= 100`\n",
    "* `shift[i].length == 2`\n",
    "* `0 <= shift[i][0] <= 1`\n",
    "* `0 <= shift[i][1] <= 100`"
   ]
  },
  {
   "cell_type": "code",
   "execution_count": 87,
   "metadata": {},
   "outputs": [],
   "source": [
    "s1, shift1 = \"abc\", [[0,1],[1,2]]\n",
    "s2, shift2 = \"abcdefg\", [[1,1],[1,1],[0,2],[1,3]]\n",
    "s3, shift3 = \"xqgwkiqpif\", [[1,4],[0,7],[0,8],[0,7],[0,6],[1,3],[0,1],[1,7],[0,5],[0,6]]"
   ]
  },
  {
   "cell_type": "code",
   "execution_count": 91,
   "metadata": {},
   "outputs": [],
   "source": [
    "# ez looping implementation\n",
    "class Solution:\n",
    "    def stringShift(self, s: str, shift: List[List[int]]) -> str:\n",
    "        for i in shift:\n",
    "            direction = i[0]\n",
    "            amount = i[1]\n",
    "            for j in range(amount): \n",
    "                if direction == 0:  # left shift\n",
    "                    s = s[1:]+s[0]\n",
    "                else:  # right shift\n",
    "                    s = s[-1]+s[:-1]\n",
    "        return s"
   ]
  },
  {
   "cell_type": "code",
   "execution_count": 93,
   "metadata": {},
   "outputs": [],
   "source": [
    "# more efficient (?), concise(?) slicing implementation\n",
    "class Solution:\n",
    "    def stringShift(self, s: str, shift: List[List[int]]) -> str:\n",
    "        for d,a in shift:\n",
    "#             if d == 0:\n",
    "#                 s = s[a:]+s[:a]\n",
    "#             else:\n",
    "#                 s = s[-a:]+s[:-a]\n",
    "            # even more concise\n",
    "            if d == 1:\n",
    "                a = -a\n",
    "            s = s[a:]+s[:a]\n",
    "        return s"
   ]
  },
  {
   "cell_type": "code",
   "execution_count": 103,
   "metadata": {},
   "outputs": [],
   "source": [
    "# most efficient (?): adds up total shifts and slices once\n",
    "class Solution:\n",
    "    def stringShift(self, s: str, shift: List[List[int]]) -> str:\n",
    "        totala = 0\n",
    "        for d,a in shift:\n",
    "            if d == 0:\n",
    "                totala += a\n",
    "            else:\n",
    "                totala -= a\n",
    "        totala = totala%len(s)\n",
    "        s = s[totala:]+s[:totala]\n",
    "        return s"
   ]
  },
  {
   "cell_type": "code",
   "execution_count": 104,
   "metadata": {},
   "outputs": [
    {
     "data": {
      "text/plain": [
       "'qpifxqgwki'"
      ]
     },
     "execution_count": 104,
     "metadata": {},
     "output_type": "execute_result"
    }
   ],
   "source": [
    "soln = Solution()\n",
    "soln.stringShift(s3,shift3)"
   ]
  },
  {
   "cell_type": "markdown",
   "metadata": {},
   "source": [
    "## Day 15: 4/15/20\n",
    "### 238. Product of Array Except Self\n",
    "MEDIUM  \n",
    "https://leetcode.com/problems/product-of-array-except-self/  \n",
    "https://leetcode.com/explore/featured/card/30-day-leetcoding-challenge/530/week-3/3300/"
   ]
  },
  {
   "cell_type": "markdown",
   "metadata": {},
   "source": [
    "Given an array `nums` of $n$ integers where $n$ > 1,  return an array `output` such that `output[i]` is equal to the product of all the elements of `nums` except `nums[i]`.\n",
    "\n",
    "**Example:**\n",
    "```\n",
    "Input:  [1,2,3,4]\n",
    "Output: [24,12,8,6]\n",
    "```\n",
    "**Constraint:** It's guaranteed that the product of the elements of any prefix or suffix of the array (including the whole array) fits in a 32 bit integer.\n",
    "\n",
    "**Note:** Please solve it **without division** and in O(n).\n",
    "\n",
    "**Follow up:**  \n",
    "Could you solve it with constant space complexity? (The output array does not count as extra space for the purpose of space complexity analysis.)"
   ]
  },
  {
   "cell_type": "code",
   "execution_count": 66,
   "metadata": {},
   "outputs": [],
   "source": [
    "nums1 = [1,2,3,4]\n",
    "nums2 = [3,4,5,6]"
   ]
  },
  {
   "cell_type": "code",
   "execution_count": 30,
   "metadata": {},
   "outputs": [],
   "source": [
    "# three-pass, triple (?) space required\n",
    "class Solution:\n",
    "    def productExceptSelf(self, nums: List[int]) -> List[int]:\n",
    "        f,b,o = [], [], []\n",
    "        lastval = 1\n",
    "        for n in nums:\n",
    "            newval = n*lastval\n",
    "            f.append(newval)\n",
    "            lastval = newval\n",
    "        lastval = 1\n",
    "        for n in nums[::-1]:\n",
    "            newval = n*lastval\n",
    "            b.append(newval)\n",
    "            lastval = newval\n",
    "        \n",
    "        b = b[::-1]\n",
    "        for i in range(len(nums)):\n",
    "            if i-1<0:\n",
    "                val = b[i+1]\n",
    "                o.append(val)\n",
    "            elif i+1==len(nums):\n",
    "                val = f[i-1]\n",
    "                o.append(val)\n",
    "            else:\n",
    "                val = f[i-1]*b[i+1]\n",
    "                o.append(val)\n",
    "        return o"
   ]
  },
  {
   "cell_type": "code",
   "execution_count": 55,
   "metadata": {},
   "outputs": [],
   "source": [
    "# less-clunky implementation of the above multi-pass solution\n",
    "class Solution:\n",
    "    def productExceptSelf(self, nums: List[int]) -> List[int]:\n",
    "        f,b = [1],[1]*len(nums1)\n",
    "        prevval = 1\n",
    "        for i in range(1,len(nums)):\n",
    "            val = nums[i-1]*prevval\n",
    "            f.append(val)\n",
    "            prevval = val\n",
    "        \n",
    "        prevval = 1\n",
    "        for i in range(len(nums1)-2,-1,-1):\n",
    "            val = nums[i+1]*prevval\n",
    "            b[i]=val\n",
    "            prevval = val\n",
    "        \n",
    "        o = []\n",
    "        for n1,n2 in zip(f,b):\n",
    "            o.append(n1*n2)\n",
    "        \n",
    "        return o"
   ]
  },
  {
   "cell_type": "code",
   "execution_count": 78,
   "metadata": {},
   "outputs": [],
   "source": [
    "# two-pass solution with optimal space, iterates over nums twice and fills final product array\n",
    "class Solution:\n",
    "    def productExceptSelf(self, nums: List[int]) -> List[int]:\n",
    "        length = len(nums)\n",
    "        p = [1]*length\n",
    "        prod = 1\n",
    "        # build array of products left of i\n",
    "        for i in range(1,length):\n",
    "            p[i] = p[i-1]*nums[i-1]\n",
    "        # iterate backwards and multiply p[i] with products right of i\n",
    "        for i in range(length-1,-1,-1):\n",
    "            p[i] = p[i]*prod\n",
    "            prod = nums[i]*prod\n",
    "        return p"
   ]
  },
  {
   "cell_type": "code",
   "execution_count": 79,
   "metadata": {},
   "outputs": [
    {
     "data": {
      "text/plain": [
       "[24, 12, 8, 6]"
      ]
     },
     "execution_count": 79,
     "metadata": {},
     "output_type": "execute_result"
    }
   ],
   "source": [
    "soln = Solution()\n",
    "soln.productExceptSelf(nums1)"
   ]
  },
  {
   "cell_type": "markdown",
   "metadata": {},
   "source": [
    "## Day 16: 4/16/20\n",
    "### 678. Valid Parenthesis String\n",
    "MEDIUM  \n",
    "https://leetcode.com/problems/valid-parenthesis-string/  \n",
    "https://leetcode.com/explore/challenge/card/30-day-leetcoding-challenge/530/week-3/3301/"
   ]
  },
  {
   "cell_type": "markdown",
   "metadata": {},
   "source": [
    "Given a string containing only three types of characters: `'('`, `')'` and `'*'`, write a function to check whether this string is valid. We define the validity of a string by these rules:\n",
    "\n",
    "1. Any left parenthesis `'('` must have a corresponding right parenthesis `')'`.\n",
    "2. Any right parenthesis `')'` must have a corresponding left parenthesis `'('`.\n",
    "3. Left parenthesis `'('` must go before the corresponding right parenthesis `')'`.\n",
    "4. `'*'` could be treated as a single right parenthesis `')'` or a single left parenthesis `'('` or an empty string.\n",
    "5. An empty string is also valid.\n",
    "\n",
    "**Example 1:**\n",
    "```\n",
    "Input: \"()\"\n",
    "Output: True\n",
    "```\n",
    "**Example 2:**\n",
    "```\n",
    "Input: \"(*)\"\n",
    "Output: True\n",
    "```\n",
    "**Example 3:**\n",
    "```\n",
    "Input: \"(*))\"\n",
    "Output: True\n",
    "```\n",
    "**Note:**\n",
    "\n",
    "1. The string size will be in the range [1, 100]."
   ]
  },
  {
   "cell_type": "code",
   "execution_count": 75,
   "metadata": {},
   "outputs": [],
   "source": [
    "s1 = '()'\n",
    "s2 = '(*)'\n",
    "s3 = '(*))'\n",
    "s4 = '(()())((*****'\n",
    "s5 = '((*)'\n",
    "s6 = '(())))*' # False\n",
    "s7 = ')*()' # False\n",
    "s8 = \"(())((())()()(*)(*()(())())())()()((()())((()))(*\"\n",
    "s9 = '(**(**(**((***' # True\n",
    "s10 = '***(((((***' # False\n",
    "s11 = \"(*()\" # False"
   ]
  },
  {
   "cell_type": "code",
   "execution_count": null,
   "metadata": {},
   "outputs": [],
   "source": [
    "\"()()()()()()()()()()()()()()()()()()()()()()((***\""
   ]
  },
  {
   "cell_type": "code",
   "execution_count": 79,
   "metadata": {},
   "outputs": [],
   "source": [
    "class Solution:\n",
    "    def checkValidString(self, s: str) -> bool:\n",
    "        stack = []\n",
    "        acount = 0\n",
    "        for c in s:\n",
    "            \n",
    "            if c=='(':\n",
    "                stack.append((c,acount))\n",
    "            elif stack and c==')':\n",
    "                stack.pop(-1)\n",
    "            elif c==')' and acount >0:\n",
    "                acount -= 1\n",
    "            elif c == '*':\n",
    "                acount += 1\n",
    "            else:\n",
    "                return False\n",
    "        \n",
    "        for t in reversed(stack):\n",
    "            if acount-t[1]>0:\n",
    "                acount -= 1\n",
    "            else:\n",
    "                return False\n",
    "        return True"
   ]
  },
  {
   "cell_type": "code",
   "execution_count": 80,
   "metadata": {},
   "outputs": [
    {
     "data": {
      "text/plain": [
       "True"
      ]
     },
     "execution_count": 80,
     "metadata": {},
     "output_type": "execute_result"
    }
   ],
   "source": [
    "soln = Solution()\n",
    "soln.checkValidString(s11)"
   ]
  },
  {
   "cell_type": "markdown",
   "metadata": {},
   "source": [
    "## Day 17: 4/16/20\n",
    "### 200. Number of Islands\n",
    "MEDIUM  \n",
    "https://leetcode.com/problems/number-of-islands/  \n",
    "https://leetcode.com/explore/challenge/card/30-day-leetcoding-challenge/530/week-3/3302/"
   ]
  },
  {
   "cell_type": "markdown",
   "metadata": {},
   "source": [
    "Given a 2d grid map of `'1'`s (land) and `'0'`s (water), count the number of islands. An island is surrounded by water and is formed by connecting adjacent lands horizontally or vertically. You may assume all four edges of the grid are all surrounded by water.\n",
    "\n",
    "**Example 1:**\n",
    "```\n",
    "Input:\n",
    "11110\n",
    "11010\n",
    "11000\n",
    "00000\n",
    "\n",
    "Output: 1\n",
    "```\n",
    "**Example 2:**\n",
    "```\n",
    "Input:\n",
    "11000\n",
    "11000\n",
    "00100\n",
    "00011\n",
    "\n",
    "Output: 3\n",
    "```"
   ]
  },
  {
   "cell_type": "code",
   "execution_count": 16,
   "metadata": {},
   "outputs": [],
   "source": [
    "grid1 = [['1', '1', '1', '1', '0'],\n",
    "         ['1', '1', '0', '1', '0'],\n",
    "         ['1', '1', '0', '0', '0'],\n",
    "         ['0', '0', '0', '0', '0']] # 1\n",
    "grid2 = [['1', '1', '0', '0', '0'],\n",
    "         ['1', '1', '0', '0', '0'],\n",
    "         ['0', '0', '1', '0', '0'],\n",
    "         ['0', '0', '0', '1', '1']] # 3\n",
    "grid3 = [['1', '1', '1', '1', '0'],\n",
    "         ['1', '1', '0', '1', '0'],\n",
    "         ['1', '1', '0', '0', '0'],\n",
    "         ['0', '0', '0', '0', '1']] # 2"
   ]
  },
  {
   "cell_type": "code",
   "execution_count": 25,
   "metadata": {},
   "outputs": [],
   "source": [
    "# DFS (?)\n",
    "class Solution:\n",
    "    def numIslands(self, grid: List[List[str]]) -> int:        \n",
    "        def DFS(grid,coord,seen):\n",
    "            q = [coord]\n",
    "            islands = 0\n",
    "            while len(q)>0:\n",
    "                c = q.pop(0)\n",
    "                if c not in seen: # and add x,y constraints?\n",
    "                    icount = 1\n",
    "                    seen.append(c)\n",
    "                    x = c[0]\n",
    "                    y = c[1]\n",
    "                    val = grid[y][x]\n",
    "                    if val == 1: # if land, add adjacent coordinates to q\n",
    "                        q.append[y-1][x] # above\n",
    "                        q.append[y][x-1] # left\n",
    "                        q.append[y][x+1] # right\n",
    "                        q.append[y+1][x] # below\n",
    "            return icount,seen\n",
    "        \n",
    "        seen = []\n",
    "        islands = 0\n",
    "        if grid:\n",
    "            maxx,maxy = len(grid[0]),len(grid)\n",
    "            for i in range(maxx):\n",
    "                for j in range(maxy):\n",
    "                    coord = (i,j)\n",
    "                    icount,seen = DFS(grid,coord,seen)\n",
    "                    islands += icount\n",
    "        \n",
    "        return islands"
   ]
  },
  {
   "cell_type": "code",
   "execution_count": 26,
   "metadata": {},
   "outputs": [
    {
     "data": {
      "text/plain": [
       "20"
      ]
     },
     "execution_count": 26,
     "metadata": {},
     "output_type": "execute_result"
    }
   ],
   "source": [
    "soln = Solution()\n",
    "soln.numIslands(grid1)"
   ]
  },
  {
   "cell_type": "code",
   "execution_count": 73,
   "metadata": {},
   "outputs": [],
   "source": [
    "\n",
    "def DFS(grid,coord,seen):\n",
    "    q = [coord]\n",
    "    icount = 0\n",
    "    maxx,maxy = len(grid[0]), len(grid)\n",
    "    while len(q)>0:\n",
    "        c = q.pop(0)\n",
    "        if c not in seen: # and add x,y constraints?\n",
    "#             print('coord is:',coord)\n",
    "#             print('c is:',c)\n",
    "#             print('seen is:', seen)\n",
    "#             print('q is:',q)\n",
    "#             print('-------------')\n",
    "            seen.append(c)\n",
    "            x = c[0]\n",
    "            y = c[1]\n",
    "            try:\n",
    "                val = grid[y][x]\n",
    "            except IndexError:\n",
    "                print('IndexError at x =',x,', y = ',y)\n",
    "#             print('val is:', val)\n",
    "            if (val == '1'): # if land, add adjacent coordinates to q\n",
    "                icount = 1 # count island if new land found\n",
    "#                 print('q should be modified')\n",
    "                if y>0:\n",
    "                    q.append((x,y-1)) # above\n",
    "                if x>0:\n",
    "                    q.append((x-1,y)) # left\n",
    "                if x<(maxx-1):\n",
    "#                     print('maxx is:',maxx)\n",
    "#                     print('x is:',x)\n",
    "#                     print('y is:',y)\n",
    "                    q.append((x+1,y)) # right\n",
    "                if y<(maxy-1):\n",
    "                    q.append((x,y+1)) # below\n",
    "#             print('q is now:',q)\n",
    "#             print('===============')\n",
    "\n",
    "    return icount,seen\n",
    "\n",
    "seen = []\n",
    "islands = 0\n",
    "if grid1:\n",
    "    maxx,maxy = len(grid1[0]),len(grid1)\n",
    "    for i in range(maxx):\n",
    "        for j in range(maxy):\n",
    "            coord = (i,j)\n",
    "            icount,seen = DFS(grid1,coord,seen)\n",
    "#             print('seen is:', seen)\n",
    "#             print('-------------')\n",
    "            islands += icount"
   ]
  },
  {
   "cell_type": "code",
   "execution_count": 71,
   "metadata": {},
   "outputs": [
    {
     "data": {
      "text/plain": [
       "4"
      ]
     },
     "execution_count": 71,
     "metadata": {},
     "output_type": "execute_result"
    }
   ],
   "source": [
    "len(grid1)"
   ]
  },
  {
   "cell_type": "code",
   "execution_count": 72,
   "metadata": {},
   "outputs": [
    {
     "data": {
      "text/plain": [
       "['0', '0', '0', '0', '0']"
      ]
     },
     "execution_count": 72,
     "metadata": {},
     "output_type": "execute_result"
    }
   ],
   "source": [
    "grid1[3]"
   ]
  },
  {
   "cell_type": "code",
   "execution_count": 55,
   "metadata": {},
   "outputs": [
    {
     "data": {
      "text/plain": [
       "[['1', '1', '1', '1', '0'],\n",
       " ['1', '1', '0', '1', '0'],\n",
       " ['1', '1', '0', '0', '0'],\n",
       " ['0', '0', '0', '0', '0']]"
      ]
     },
     "execution_count": 55,
     "metadata": {},
     "output_type": "execute_result"
    }
   ],
   "source": [
    "grid1"
   ]
  },
  {
   "cell_type": "code",
   "execution_count": 49,
   "metadata": {},
   "outputs": [
    {
     "data": {
      "text/plain": [
       "'1'"
      ]
     },
     "execution_count": 49,
     "metadata": {},
     "output_type": "execute_result"
    }
   ],
   "source": [
    "grid1[0][0+1]"
   ]
  },
  {
   "cell_type": "code",
   "execution_count": 34,
   "metadata": {},
   "outputs": [
    {
     "data": {
      "text/plain": [
       "'0'"
      ]
     },
     "execution_count": 34,
     "metadata": {},
     "output_type": "execute_result"
    }
   ],
   "source": [
    "grid1[-1][-1]"
   ]
  },
  {
   "cell_type": "code",
   "execution_count": 31,
   "metadata": {},
   "outputs": [
    {
     "data": {
      "text/plain": [
       "[(0, 0),\n",
       " (0, 1),\n",
       " (0, 2),\n",
       " (0, 3),\n",
       " (1, 0),\n",
       " (1, 1),\n",
       " (1, 2),\n",
       " (1, 3),\n",
       " (2, 0),\n",
       " (2, 1),\n",
       " (2, 2),\n",
       " (2, 3),\n",
       " (3, 0),\n",
       " (3, 1),\n",
       " (3, 2),\n",
       " (3, 3),\n",
       " (4, 0),\n",
       " (4, 1),\n",
       " (4, 2),\n",
       " (4, 3)]"
      ]
     },
     "execution_count": 31,
     "metadata": {},
     "output_type": "execute_result"
    }
   ],
   "source": [
    "seen"
   ]
  },
  {
   "cell_type": "code",
   "execution_count": 13,
   "metadata": {},
   "outputs": [
    {
     "data": {
      "text/plain": [
       "5"
      ]
     },
     "execution_count": 13,
     "metadata": {},
     "output_type": "execute_result"
    }
   ],
   "source": [
    "len(grid1[0])"
   ]
  },
  {
   "cell_type": "markdown",
   "metadata": {},
   "source": [
    "## Day 18: 4/18/20\n",
    "### 64. Minimum Path Sum\n",
    "MEDIUM  \n",
    "https://leetcode.com/problems/minimum-path-sum/  \n",
    "https://leetcode.com/explore/featured/card/30-day-leetcoding-challenge/530/week-3/3303/"
   ]
  },
  {
   "cell_type": "markdown",
   "metadata": {},
   "source": [
    "Given a $m$ x $n$ grid filled with non-negative numbers, find a path from top left to bottom right which *minimizes* the sum of all numbers along its path.\n",
    "\n",
    "**Note:** You can only move either down or right at any point in time.\n",
    "\n",
    "**Example:**\n",
    "```\n",
    "Input:\n",
    "[\n",
    "  [1,3,1],\n",
    "  [1,5,1],\n",
    "  [4,2,1]\n",
    "]\n",
    "Output: 7\n",
    "Explanation: Because the path 1→3→1→1→1 minimizes the sum.\n",
    "```"
   ]
  },
  {
   "cell_type": "code",
   "execution_count": 47,
   "metadata": {},
   "outputs": [],
   "source": [
    "grid1 = [\n",
    "          [1,3,1],\n",
    "          [1,5,1],\n",
    "          [4,2,1]\n",
    "        ]\n",
    "grid2 = [[0]]\n",
    "grid3 = [[7,1,3,5,8,9,9,2,1,9,0,8,3,1,6,6,9,5],[9,5,9,4,0,4,8,8,9,5,7,3,6,6,6,9,1,6],[8,2,9,1,3,1,9,7,2,5,3,1,2,4,8,2,8,8],[6,7,9,8,4,8,3,0,4,0,9,6,6,0,0,5,1,4],[7,1,3,1,8,8,3,1,2,1,5,0,2,1,9,1,1,4],[9,5,4,3,5,6,1,3,6,4,9,7,0,8,0,3,9,9],[1,4,2,5,8,7,7,0,0,7,1,2,1,2,7,7,7,4],[3,9,7,9,5,8,9,5,6,9,8,8,0,1,4,2,8,2],[1,5,2,2,2,5,6,3,9,3,1,7,9,6,8,6,8,3],[5,7,8,3,8,8,3,9,9,8,1,9,2,5,4,7,7,7],[2,3,2,4,8,5,1,7,2,9,5,2,4,2,9,2,8,7],[0,1,6,1,1,0,0,6,5,4,3,4,3,7,9,6,1,9]]"
   ]
  },
  {
   "cell_type": "code",
   "execution_count": 44,
   "metadata": {},
   "outputs": [],
   "source": [
    "# recursive, time limit reached\n",
    "class Solution:\n",
    "    def minPathSum(self, grid: List[List[int]]) -> int:\n",
    "        def sumpath(grid,coord):\n",
    "            x,y = coord[0],coord[1]\n",
    "            # return positive infinity if out of grid bounds\n",
    "            if (y>=len(grid)) or (x>=len(grid[0])):\n",
    "                return float('inf')\n",
    "            \n",
    "            val = grid[y][x]\n",
    "            right = (x+1,y)\n",
    "            down = (x,y+1)\n",
    "            minpaths = min(sumpath(grid,right),sumpath(grid,down))\n",
    "            if minpaths == float('inf'):\n",
    "                pathval = val\n",
    "            else:\n",
    "                pathval = val + minpaths\n",
    "            return pathval\n",
    "        return sumpath(grid,(0,0)) if grid else 0"
   ]
  },
  {
   "cell_type": "code",
   "execution_count": 42,
   "metadata": {},
   "outputs": [],
   "source": [
    "def sumpath(grid,coord):\n",
    "    x,y = coord[0],coord[1]\n",
    "    # return positive infinity if out of grid bounds\n",
    "    if (y>=len(grid)) or (x>=len(grid[0])):\n",
    "        return float('inf')\n",
    "\n",
    "    val = grid[y][x]\n",
    "#     print('val is now:',val,' for coord:',coord)\n",
    "    right = (x+1,y)\n",
    "    down = (x,y+1)\n",
    "    minpaths = min(sumpath(grid,right),sumpath(grid,down))\n",
    "    if minpaths == float('inf'):\n",
    "        pathval = val\n",
    "    else:\n",
    "        pathval = val + minpaths\n",
    "    return pathval"
   ]
  },
  {
   "cell_type": "code",
   "execution_count": 50,
   "metadata": {},
   "outputs": [
    {
     "data": {
      "text/plain": [
       "7"
      ]
     },
     "execution_count": 50,
     "metadata": {},
     "output_type": "execute_result"
    }
   ],
   "source": [
    "soln = Solution()\n",
    "soln.minPathSum(grid1)"
   ]
  },
  {
   "cell_type": "code",
   "execution_count": 51,
   "metadata": {},
   "outputs": [
    {
     "data": {
      "text/plain": [
       "[[7, 1, 3, 5, 8, 9, 9, 2, 1, 9, 0, 8, 3, 1, 6, 6, 9, 5],\n",
       " [9, 5, 9, 4, 0, 4, 8, 8, 9, 5, 7, 3, 6, 6, 6, 9, 1, 6],\n",
       " [8, 2, 9, 1, 3, 1, 9, 7, 2, 5, 3, 1, 2, 4, 8, 2, 8, 8],\n",
       " [6, 7, 9, 8, 4, 8, 3, 0, 4, 0, 9, 6, 6, 0, 0, 5, 1, 4],\n",
       " [7, 1, 3, 1, 8, 8, 3, 1, 2, 1, 5, 0, 2, 1, 9, 1, 1, 4],\n",
       " [9, 5, 4, 3, 5, 6, 1, 3, 6, 4, 9, 7, 0, 8, 0, 3, 9, 9],\n",
       " [1, 4, 2, 5, 8, 7, 7, 0, 0, 7, 1, 2, 1, 2, 7, 7, 7, 4],\n",
       " [3, 9, 7, 9, 5, 8, 9, 5, 6, 9, 8, 8, 0, 1, 4, 2, 8, 2],\n",
       " [1, 5, 2, 2, 2, 5, 6, 3, 9, 3, 1, 7, 9, 6, 8, 6, 8, 3],\n",
       " [5, 7, 8, 3, 8, 8, 3, 9, 9, 8, 1, 9, 2, 5, 4, 7, 7, 7],\n",
       " [2, 3, 2, 4, 8, 5, 1, 7, 2, 9, 5, 2, 4, 2, 9, 2, 8, 7],\n",
       " [0, 1, 6, 1, 1, 0, 0, 6, 5, 4, 3, 4, 3, 7, 9, 6, 1, 9]]"
      ]
     },
     "execution_count": 51,
     "metadata": {},
     "output_type": "execute_result"
    }
   ],
   "source": [
    "grid3"
   ]
  },
  {
   "cell_type": "markdown",
   "metadata": {},
   "source": [
    "## Day 19: 4/19/20\n",
    "### 33. Search in Rotated Sorted Array\n",
    "MEDIUM  \n",
    "https://leetcode.com/problems/search-in-rotated-sorted-array/  \n",
    "https://leetcode.com/explore/featured/card/30-day-leetcoding-challenge/530/week-3/3304/"
   ]
  },
  {
   "cell_type": "markdown",
   "metadata": {},
   "source": [
    "Suppose an array sorted in ascending order is rotated at some pivot unknown to you beforehand.\n",
    "\n",
    "(i.e., `[0,1,2,4,5,6,7]` might become `[4,5,6,7,0,1,2]`).\n",
    "\n",
    "You are given a target value to search. If found in the array return its index, otherwise return `-1`.\n",
    "\n",
    "You may assume no duplicate exists in the array.\n",
    "\n",
    "Your algorithm's runtime complexity must be in the order of O(log n).\n",
    "\n",
    "**Example 1:**\n",
    "```\n",
    "Input: nums = [4,5,6,7,0,1,2], target = 0\n",
    "Output: 4\n",
    "```\n",
    "**Example 2:**\n",
    "```\n",
    "Input: nums = [4,5,6,7,0,1,2], target = 3\n",
    "Output: -1\n",
    "```"
   ]
  },
  {
   "cell_type": "code",
   "execution_count": 59,
   "metadata": {},
   "outputs": [],
   "source": [
    "nums1,target1 = [4,5,6,7,0,1,2], 0\n",
    "nums2,target2 = [4,5,6,7,0,1,2], 3\n",
    "nums3,target3 = [4,5,6,7,8,9,0,1,2,3], 0\n",
    "nums4,target4 = [12,0,1,2,3,5], 12\n",
    "nums5,target5 = [1], 1\n",
    "nums6,target6 = [1], 0\n",
    "nums7,target7 = [1,3,5], 1\n",
    "nums8,target8 = [5,1,3], 5"
   ]
  },
  {
   "cell_type": "code",
   "execution_count": 78,
   "metadata": {},
   "outputs": [],
   "source": [
    "class Solution:\n",
    "    def search(self, nums: List[int], target: int) -> int:\n",
    "        first,last = 0, len(nums)-1\n",
    "        \n",
    "        # binary search loop\n",
    "        while first<=last:\n",
    "            mid = (first+last)//2\n",
    "            pivot = nums[0]\n",
    "            # immediately return if mid is target\n",
    "            if target == nums[mid]:\n",
    "                return mid\n",
    "            \n",
    "            # for easier if statement construction, compare to pivot (nums[0]) first\n",
    "            if target >= pivot:\n",
    "                if (target > nums[mid]) and (nums[mid] >= pivot): # target and mid same \"side\", search right\n",
    "                    first = mid+1\n",
    "                else:\n",
    "                    last = mid-1\n",
    "            else:\n",
    "                if (target < nums[mid]) and (nums[mid] < pivot): # target and mid same \"side\", search left\n",
    "                    last = mid-1\n",
    "                else:\n",
    "                    first = mid+1\n",
    "        return -1"
   ]
  },
  {
   "cell_type": "markdown",
   "metadata": {},
   "source": [
    "cases: \n",
    "1. target >= pivot, target > mid, target & mid on same half: **search right** (if-if)\n",
    "2. target >= pivot, target > mid, target & mid on diff half: **search left** (if-else)\n",
    "3. target >= pivot, target < mid, target & mid on same half: **search left** (if-else)\n",
    "4. target < pivot, target < mid, target & mid on same half: **search left** (else-if)\n",
    "5. target < pivot, target < mid, target & mid on diff half: **search right** (else-else)\n",
    "6. target < pivot, target > mid, target & mid on same half: **search right** (else-else)"
   ]
  },
  {
   "cell_type": "code",
   "execution_count": 77,
   "metadata": {},
   "outputs": [
    {
     "data": {
      "text/plain": [
       "0"
      ]
     },
     "execution_count": 77,
     "metadata": {},
     "output_type": "execute_result"
    }
   ],
   "source": [
    "soln = Solution()\n",
    "soln.search(nums4,target4)"
   ]
  },
  {
   "cell_type": "markdown",
   "metadata": {},
   "source": [
    "## Day 20: 4/20/20\n",
    "### 1008. Construct Binary Search Tree from Preorder Traversal\n",
    "MEDIUM  \n",
    "https://leetcode.com/problems/construct-binary-search-tree-from-preorder-traversal/  \n",
    "https://leetcode.com/explore/challenge/card/30-day-leetcoding-challenge/530/week-3/3305/"
   ]
  },
  {
   "cell_type": "markdown",
   "metadata": {},
   "source": [
    "Return the root node of a binary **search** tree that matches the given `preorder` traversal.\n",
    "\n",
    "(Recall that a binary search tree is a binary tree where for every node, any descendant of `node.left` has a value `<` `node.val`, and any descendant of `node.right` has a value `>` `node.val`.  Also recall that a `preorder` traversal displays the value of the node first, then traverses `node.left`, then traverses `node.right`.)\n",
    "\n",
    "**Example 1:**\n",
    "```\n",
    "Input: [8,5,1,7,10,12]\n",
    "Output: [8,5,10,1,7,null,12]\n",
    "```\n",
    "![https://assets.leetcode.com/uploads/2019/03/06/1266.png](https://assets.leetcode.com/uploads/2019/03/06/1266.png)\n",
    "\n",
    " \n",
    "\n",
    "**Note:**\n",
    "\n",
    "1. `<= preorder.length <= 100`\n",
    "2. The values of `preorder` are distinct."
   ]
  },
  {
   "cell_type": "code",
   "execution_count": 6,
   "metadata": {},
   "outputs": [],
   "source": [
    "# Definition for a binary tree node.\n",
    "class TreeNode:\n",
    "    def __init__(self, x):\n",
    "        self.val = x\n",
    "        self.left = None\n",
    "        self.right = None\n",
    "        \n",
    "preorder1 = [8,5,1,7,10,12]\n",
    "preorder2 = [8,5,1,7,6,10,12]\n",
    "preorder3 = [9,5,1,7,8,10,12]"
   ]
  },
  {
   "cell_type": "code",
   "execution_count": 12,
   "metadata": {},
   "outputs": [],
   "source": [
    "class Solution:\n",
    "    def bstFromPreorder(self, preorder: List[int]) -> TreeNode:\n",
    "        root = TreeNode(preorder[0])\n",
    "        stack = [root]\n",
    "        for v in preorder[1:]: # iterate through preorder array\n",
    "            n = TreeNode(v)\n",
    "            if v < stack[-1].val: # check if v < latest node, then set as left child\n",
    "                stack[-1].left = n\n",
    "                stack.append(n)\n",
    "            else: # if not, then v > latest node\n",
    "                while stack and (v > stack[-1].val): # repeatedly pop last node from stack until last node > val\n",
    "                    sn = stack.pop(-1)\n",
    "                sn.right = n # then assign as right child of the previously popped node\n",
    "                stack.append(n)\n",
    "        return root"
   ]
  },
  {
   "cell_type": "code",
   "execution_count": 35,
   "metadata": {},
   "outputs": [
    {
     "data": {
      "text/plain": [
       "[8, 5, 10, 1, 7, 'null', 12]"
      ]
     },
     "execution_count": 35,
     "metadata": {},
     "output_type": "execute_result"
    }
   ],
   "source": [
    "def printtree(root):\n",
    "    treevals = [root.val]\n",
    "    q = [root]\n",
    "    while q:\n",
    "        node = q.pop(0)\n",
    "        if node.left or node.right:\n",
    "            if node.left:\n",
    "                treevals.append(node.left.val)\n",
    "                q.append(node.left)\n",
    "            else:\n",
    "                treevals.append('null')\n",
    "            if node.right:\n",
    "                treevals.append(node.right.val)\n",
    "                q.append(node.right)\n",
    "            else:\n",
    "                treevals.append('null')\n",
    "    return treevals\n",
    "\n",
    "soln = Solution()\n",
    "ans = soln.bstFromPreorder(preorder1)\n",
    "printtree(ans)"
   ]
  },
  {
   "cell_type": "markdown",
   "metadata": {},
   "source": [
    "## Day 21: 4/21/20\n",
    "### Leftmost Column with at Least a One\n",
    "NEW  \n",
    "https://leetcode.com/explore/challenge/card/30-day-leetcoding-challenge/530/week-3/3306/"
   ]
  },
  {
   "cell_type": "markdown",
   "metadata": {},
   "source": [
    "(This problem is an **interactive problem.**)\n",
    "\n",
    "A binary matrix means that all elements are `0` or `1`. For each **individual** row of the matrix, this row is sorted in non-decreasing order.\n",
    "\n",
    "Given a row-sorted binary matrix binaryMatrix, return leftmost column index (0-indexed) with at least a `1` in it. If such index doesn't exist, return `-1`.\n",
    "\n",
    "**You can't access the Binary Matrix directly.**  You may only access the matrix using a `BinaryMatrix` interface:\n",
    "\n",
    "* `BinaryMatrix.get(x, y)` returns the element of the matrix at index `(x, y)` (0-indexed).\n",
    "* `BinaryMatrix.dimensions()` returns a list of 2 elements `[n, m]`, which means the matrix is `n * m`.\n",
    "\n",
    "Submissions making more than `1000` calls to `BinaryMatrix.get` will be judged Wrong Answer.  Also, any solutions that attempt to circumvent the judge will result in disqualification.\n",
    "\n",
    "For custom testing purposes you're given the binary matrix `mat` as input in the following four examples. You will not have access the binary matrix directly.\n",
    "\n",
    "**Example 1:**\n",
    "![https://assets.leetcode.com/uploads/2019/10/25/untitled-diagram-5.jpg](https://assets.leetcode.com/uploads/2019/10/25/untitled-diagram-5.jpg)\n",
    "```\n",
    "Input: mat = [[0,0],[1,1]]\n",
    "Output: 0\n",
    "```\n",
    "\n",
    "**Example 2:**\n",
    "![https://assets.leetcode.com/uploads/2019/10/25/untitled-diagram-4.jpg](https://assets.leetcode.com/uploads/2019/10/25/untitled-diagram-4.jpg)\n",
    "```\n",
    "Input: mat = [[0,0],[0,1]]\n",
    "Output: 1\n",
    "```\n",
    "**Example 3:**\n",
    "![https://assets.leetcode.com/uploads/2019/10/25/untitled-diagram-3.jpg](https://assets.leetcode.com/uploads/2019/10/25/untitled-diagram-3.jpg)\n",
    "```\n",
    "Input: mat = [[0,0],[0,0]]\n",
    "Output: -1\n",
    "```\n",
    "**Example 4:**\n",
    "![https://assets.leetcode.com/uploads/2019/10/25/untitled-diagram-6.jpg](https://assets.leetcode.com/uploads/2019/10/25/untitled-diagram-6.jpg)\n",
    "```\n",
    "Input: mat = [[0,0,0,1],[0,0,1,1],[0,1,1,1]]\n",
    "Output: 1\n",
    "```\n",
    "\n",
    "**Constraints:**\n",
    "\n",
    "1. `1 <= mat.length, mat[i].length <= 100`\n",
    "2. `mat[i][j]` is either `0` or `1`.\n",
    "3. `mat[i]` is sorted in a non-decreasing way."
   ]
  },
  {
   "cell_type": "code",
   "execution_count": 41,
   "metadata": {},
   "outputs": [],
   "source": [
    "mat1 = [[0,0],[1,1]]\n",
    "mat2 = [[0,0],[0,1]]\n",
    "mat3 = [[0,0],[0,0]]\n",
    "mat4 = [[0,0,0,1],[0,0,1,1],[0,1,1,1]]"
   ]
  },
  {
   "cell_type": "code",
   "execution_count": 92,
   "metadata": {},
   "outputs": [],
   "source": [
    "# \"\"\"\n",
    "# This is BinaryMatrix's API interface.\n",
    "# You should not implement it, or speculate about its implementation\n",
    "# \"\"\"\n",
    "class BinaryMatrix(object):\n",
    "    def __init__(self, mat):\n",
    "        self.matrix = mat\n",
    "    def get(self, x: int, y: int) -> int:\n",
    "        return self.matrix[x][y]\n",
    "    def dimensions(self) -> list:\n",
    "        return [len(self.matrix),len(self.matrix[0])]\n",
    "\n",
    "class Solution:\n",
    "    def leftMostColumnWithOne(self, binaryMatrix: 'BinaryMatrix') -> int:\n",
    "        dim = binaryMatrix.dimensions()\n",
    "        n,m = dim[0], dim[1]\n",
    "        leftcol = m-1\n",
    "        foundone = False\n",
    "        for i in reversed(range(n)):\n",
    "            for j in reversed(range(leftcol+1)):\n",
    "                val = binaryMatrix.get(i,j)\n",
    "                if val:\n",
    "                    leftcol = j # set leftmost col to current col (j) if 1 found\n",
    "                    foundone = True\n",
    "                else:\n",
    "                    break # advance row by up 1 if 0 encountered\n",
    "        \n",
    "        return leftcol if foundone else -1"
   ]
  },
  {
   "cell_type": "code",
   "execution_count": 96,
   "metadata": {},
   "outputs": [
    {
     "data": {
      "text/plain": [
       "1"
      ]
     },
     "execution_count": 96,
     "metadata": {},
     "output_type": "execute_result"
    }
   ],
   "source": [
    "soln = Solution()\n",
    "soln.leftMostColumnWithOne(BinaryMatrix(mat4))"
   ]
  },
  {
   "cell_type": "markdown",
   "metadata": {},
   "source": [
    "## Day 22: 4/22/20\n",
    "### 560. Subarray Sum Equals K\n",
    "MEDIUM  \n",
    "https://leetcode.com/problems/subarray-sum-equals-k/  \n",
    "https://leetcode.com/explore/challenge/card/30-day-leetcoding-challenge/531/week-4/3307/"
   ]
  },
  {
   "cell_type": "markdown",
   "metadata": {},
   "source": [
    "Given an array of integers and an integer **k**, you need to find the total number of continuous subarrays whose sum equals to **k**.\n",
    "\n",
    "**Example 1:**\n",
    "```\n",
    "Input:nums = [1,1,1], k = 2\n",
    "Output: 2\n",
    "```\n",
    "**Note:**\n",
    "1. The length of the array is in range [1, 20,000].\n",
    "2. The range of numbers in the array is [-1000, 1000] and the range of the integer **k** is [-1e7, 1e7]."
   ]
  },
  {
   "cell_type": "code",
   "execution_count": 20,
   "metadata": {},
   "outputs": [],
   "source": [
    "nums1,k1 = [1,1,1], 2\n",
    "nums2,k2 = [2], 2 # 1\n",
    "nums3,k3 = [-1,-1,1], 0 # 1\n",
    "nums4,k4 = [0,0,0,0,0,0,0,0,0,0], 0 # 55"
   ]
  },
  {
   "cell_type": "code",
   "execution_count": 51,
   "metadata": {},
   "outputs": [],
   "source": [
    "# from leetcode: https://leetcode.com/problems/subarray-sum-equals-k/solution/\n",
    "# intuition: \n",
    "# given the cumulative sums sum[i] and sum[j], where sum[i] == sum of interval [0,i), if sum[i]==sum[j]\n",
    "# then the sum of interval [i,j) == 0. Furthermore, sum[i]-sum[j] == sum of interval [i,j).\n",
    "# solution: \n",
    "# calculate + store cumulative sums, checking to see if difference between current sum and any previous sum is k\n",
    "class Solution:\n",
    "    def subarraySum(self, nums: List[int], k: int) -> int:\n",
    "        count,csum = 0,0\n",
    "        sums = {}\n",
    "        for n in nums:\n",
    "            csum += n\n",
    "            if csum==k:\n",
    "                count += 1\n",
    "            \n",
    "            diff = csum-k\n",
    "            occurance = sums.get(diff)\n",
    "            if occurance:\n",
    "                count += occurance\n",
    "            \n",
    "            if csum in sums:\n",
    "                sums[csum] += 1\n",
    "            else:\n",
    "                sums[csum] = 1\n",
    "        return count"
   ]
  },
  {
   "cell_type": "code",
   "execution_count": 54,
   "metadata": {},
   "outputs": [
    {
     "data": {
      "text/plain": [
       "1"
      ]
     },
     "execution_count": 54,
     "metadata": {},
     "output_type": "execute_result"
    }
   ],
   "source": [
    "soln = Solution()\n",
    "soln.subarraySum(nums2,k2)"
   ]
  },
  {
   "cell_type": "markdown",
   "metadata": {},
   "source": [
    "## Day 23: 4/23/20\n",
    "### 201. Bitwise AND of Numbers Range\n",
    "MEDIUM  \n",
    "https://leetcode.com/problems/bitwise-and-of-numbers-range/  \n",
    "https://leetcode.com/explore/challenge/card/30-day-leetcoding-challenge/531/week-4/3308/"
   ]
  },
  {
   "cell_type": "markdown",
   "metadata": {},
   "source": [
    "Given a range [m, n] where 0 <= m <= n <= 2147483647, return the bitwise AND of all numbers in this range, inclusive.\n",
    "\n",
    "**Example 1:**\n",
    "```\n",
    "Input: [5,7]\n",
    "Output: 4\n",
    "```\n",
    "**Example 2:**\n",
    "```\n",
    "Input: [0,1]\n",
    "Output: 0\n",
    "```"
   ]
  },
  {
   "cell_type": "code",
   "execution_count": 38,
   "metadata": {},
   "outputs": [],
   "source": [
    "m1,n1 = 5, 7\n",
    "m2,n2 = 0, 1"
   ]
  },
  {
   "cell_type": "code",
   "execution_count": 35,
   "metadata": {},
   "outputs": [],
   "source": [
    "# answer from leetcode \n",
    "# https://leetcode.com/problems/bitwise-and-of-numbers-range/discuss/56719/JavaPython-easy-solution-with-explanation\n",
    "# don't really understand still\n",
    "class Solution:\n",
    "    def rangeBitwiseAnd(self, m: int, n: int) -> int:\n",
    "        i = 0\n",
    "        while m != n:\n",
    "            m >>= 1\n",
    "            n >>= 1\n",
    "            i += 1\n",
    "        return n << i"
   ]
  },
  {
   "cell_type": "code",
   "execution_count": 40,
   "metadata": {},
   "outputs": [
    {
     "data": {
      "text/plain": [
       "0"
      ]
     },
     "execution_count": 40,
     "metadata": {},
     "output_type": "execute_result"
    }
   ],
   "source": [
    "soln = Solution()\n",
    "soln.rangeBitwiseAnd(m2,n2)"
   ]
  },
  {
   "cell_type": "markdown",
   "metadata": {},
   "source": [
    "## Day 24: 4/24/20\n",
    "### 146. LRU Cache\n",
    "MEDIUM  \n",
    "https://leetcode.com/problems/lru-cache/  \n",
    "https://leetcode.com/explore/featured/card/30-day-leetcoding-challenge/531/week-4/3309/"
   ]
  },
  {
   "cell_type": "markdown",
   "metadata": {},
   "source": [
    "Design and implement a data structure for [Least Recently Used (LRU) cache](https://en.wikipedia.org/wiki/Cache_replacement_policies#LRU). It should support the following operations: `get` and `put`.\n",
    "\n",
    "`get(key)` - Get the value (will always be positive) of the key if the key exists in the cache, otherwise return -1.  \n",
    "`put(key, value)` - Set or insert the value if the key is not already present. When the cache reached its capacity, it should invalidate the least recently used item before inserting a new item.\n",
    "\n",
    "The cache is initialized with a **positive** capacity.\n",
    "\n",
    "**Follow up:**  \n",
    "Could you do both operations in **O(1)** time complexity?\n",
    "\n",
    "**Example:**\n",
    "```\n",
    "LRUCache cache = new LRUCache( 2 /* capacity */ );\n",
    "\n",
    "cache.put(1, 1);\n",
    "cache.put(2, 2);\n",
    "cache.get(1);       // returns 1\n",
    "cache.put(3, 3);    // evicts key 2\n",
    "cache.get(2);       // returns -1 (not found)\n",
    "cache.put(4, 4);    // evicts key 1\n",
    "cache.get(1);       // returns -1 (not found)\n",
    "cache.get(3);       // returns 3\n",
    "cache.get(4);       // returns 4\n",
    "```"
   ]
  },
  {
   "cell_type": "code",
   "execution_count": 38,
   "metadata": {},
   "outputs": [],
   "source": [
    "# use python's OrderedDict to track insertion orders\n",
    "# O(1) time for get and puts\n",
    "from collections import OrderedDict\n",
    "\n",
    "class LRUCache:\n",
    "    def __init__(self, capacity: int):\n",
    "        self.capacity = capacity\n",
    "        self.cache = OrderedDict()\n",
    "\n",
    "    def get(self, key: int) -> int:\n",
    "        if key not in self.cache:\n",
    "            return -1\n",
    "        else:\n",
    "            val = self.cache.pop(key)\n",
    "            self.cache[key] = val\n",
    "            return val\n",
    "\n",
    "    def put(self, key: int, value: int) -> None:\n",
    "        if key in self.cache:\n",
    "            self.cache.pop(key)\n",
    "        else:\n",
    "            if self.capacity > 0:\n",
    "                self.capacity -=1\n",
    "            else: # remove oldest item because cache is full\n",
    "                self.cache.popitem(last=False)\n",
    "        self.cache[key] = value\n",
    "\n",
    "# Your LRUCache object will be instantiated and called as such:\n",
    "# obj = LRUCache(capacity)\n",
    "# param_1 = obj.get(key)\n",
    "# obj.put(key,value)"
   ]
  },
  {
   "cell_type": "code",
   "execution_count": 37,
   "metadata": {},
   "outputs": [
    {
     "name": "stdout",
     "output_type": "stream",
     "text": [
      "1\n",
      "-1\n",
      "-1\n",
      "3\n",
      "4\n"
     ]
    }
   ],
   "source": [
    "cache = LRUCache(2)\n",
    "cache.put(1, 1)\n",
    "cache.put(2, 2)\n",
    "print(cache.get(1)) # 1\n",
    "cache.put(3, 3)\n",
    "print(cache.get(2)) # 2\n",
    "cache.put(4, 4)\n",
    "print(cache.get(1)) # 1\n",
    "print(cache.get(3))\n",
    "print(cache.get(4))"
   ]
  },
  {
   "cell_type": "markdown",
   "metadata": {},
   "source": [
    "## Day 25: 4/25/20\n",
    "### 55. Jump Game\n",
    "MEDIUM  \n",
    "https://leetcode.com/problems/jump-game/  \n",
    "https://leetcode.com/explore/challenge/card/30-day-leetcoding-challenge/531/week-4/3310/"
   ]
  },
  {
   "cell_type": "markdown",
   "metadata": {},
   "source": [
    "Given an array of non-negative integers, you are initially positioned at the first index of the array.\n",
    "\n",
    "Each element in the array represents your maximum jump length at that position.\n",
    "\n",
    "Determine if you are able to reach the last index.\n",
    "\n",
    "**Example 1:**\n",
    "```\n",
    "Input: [2,3,1,1,4]\n",
    "Output: true\n",
    "Explanation: Jump 1 step from index 0 to 1, then 3 steps to the last index.\n",
    "```\n",
    "**Example 2:**\n",
    "```\n",
    "Input: [3,2,1,0,4]\n",
    "Output: false\n",
    "Explanation: You will always arrive at index 3 no matter what. Its maximum\n",
    "             jump length is 0, which makes it impossible to reach the last index.\n",
    "```"
   ]
  },
  {
   "cell_type": "code",
   "execution_count": 3,
   "metadata": {},
   "outputs": [],
   "source": [
    "nums1 = [2,3,1,1,4]\n",
    "nums2 = [3,2,1,0,4]"
   ]
  },
  {
   "cell_type": "code",
   "execution_count": 2,
   "metadata": {},
   "outputs": [],
   "source": [
    "class Solution:\n",
    "    def canJump(self, nums: List[int]) -> bool:\n",
    "        \n",
    "        return None"
   ]
  },
  {
   "cell_type": "markdown",
   "metadata": {},
   "source": [
    "## Day 26: 4/26/20\n",
    "### 1143. Longest Common Subsequence\n",
    "MEDIUM  \n",
    "https://leetcode.com/problems/longest-common-subsequence/  \n",
    "https://leetcode.com/explore/challenge/card/30-day-leetcoding-challenge/531/week-4/3311/"
   ]
  },
  {
   "cell_type": "markdown",
   "metadata": {},
   "source": [
    "Given two strings `text1` and `text2`, return the length of their longest common subsequence.\n",
    "\n",
    "A subsequence of a string is a new string generated from the original string with some characters(can be none) deleted without changing the relative order of the remaining characters. (eg, \"ace\" is a subsequence of \"abcde\" while \"aec\" is not). A common subsequence of two strings is a subsequence that is common to both strings.\n",
    "\n",
    "If there is no common subsequence, return 0.\n",
    "\n",
    "**Example 1:**\n",
    "```\n",
    "Input: text1 = \"abcde\", text2 = \"ace\" \n",
    "Output: 3  \n",
    "Explanation: The longest common subsequence is \"ace\" and its length is 3.\n",
    "```\n",
    "**Example 2:**\n",
    "```\n",
    "Input: text1 = \"abc\", text2 = \"abc\"\n",
    "Output: 3\n",
    "Explanation: The longest common subsequence is \"abc\" and its length is 3.\n",
    "```\n",
    "**Example 3:**\n",
    "```\n",
    "Input: text1 = \"abc\", text2 = \"def\"\n",
    "Output: 0\n",
    "Explanation: There is no such common subsequence, so the result is 0.\n",
    "```"
   ]
  },
  {
   "cell_type": "code",
   "execution_count": 5,
   "metadata": {},
   "outputs": [],
   "source": [
    "text11,text12, = \"abcde\", \"ace\" \n",
    "text21,text22 = \"abc\", \"abc\"\n",
    "text31,text32 = \"abc\", \"def\""
   ]
  },
  {
   "cell_type": "code",
   "execution_count": 6,
   "metadata": {},
   "outputs": [],
   "source": [
    "class Solution:\n",
    "    def longestCommonSubsequence(self, text1: str, text2: str) -> int:\n",
    "        \n",
    "        return None"
   ]
  },
  {
   "cell_type": "markdown",
   "metadata": {},
   "source": [
    "## Day 27: 4/27/20\n",
    "### 221. Maximal Square\n",
    "MEDIUM  \n",
    "https://leetcode.com/problems/maximal-square/  \n",
    "https://leetcode.com/explore/challenge/card/30-day-leetcoding-challenge/531/week-4/3312/"
   ]
  },
  {
   "cell_type": "markdown",
   "metadata": {},
   "source": [
    "Given a 2D binary matrix filled with 0's and 1's, find the largest square containing only 1's and return its area.\n",
    "\n",
    "**Example:**\n",
    "```\n",
    "Input: \n",
    "\n",
    "1 0 1 0 0\n",
    "1 0 1 1 1\n",
    "1 1 1 1 1\n",
    "1 0 0 1 0\n",
    "\n",
    "Output: 4\n",
    "```"
   ]
  },
  {
   "cell_type": "markdown",
   "metadata": {},
   "source": [
    "**Note:**  \n",
    "largest square is the cluster of 4x 1's at (2,1) and (3,2) (0-indexed)"
   ]
  },
  {
   "cell_type": "code",
   "execution_count": 129,
   "metadata": {},
   "outputs": [],
   "source": [
    "matrix1 = [[\"1\",\"0\",\"1\",\"0\",\"0\"],\n",
    "           [\"1\",\"0\",\"1\",\"1\",\"1\"],\n",
    "           [\"1\",\"1\",\"1\",\"1\",\"1\"],\n",
    "           [\"1\",\"0\",\"0\",\"1\",\"0\"]]\n",
    "matrix2 = [[]]\n",
    "matrix3 = [['1']]\n",
    "matrix4 = [['0']]"
   ]
  },
  {
   "cell_type": "code",
   "execution_count": 92,
   "metadata": {},
   "outputs": [],
   "source": [
    "# recursive solution, times out\n",
    "class Solution:\n",
    "    def maximalSquare(self, matrix: List[List[str]]) -> int:\n",
    "        rows = len(matrix)\n",
    "        cols = len(matrix[0])\n",
    "        # helper function to check the value of other 3 cells in 2x2 square at i,j\n",
    "        def checkSquare(i,j):\n",
    "            nonlocal rows, cols\n",
    "            if (0 <= i < rows) and (0 <= j < cols):\n",
    "                if matrix[i][j] == '1':\n",
    "                    # recursively check other 3 cells\n",
    "                    return min(checkSquare(i,j+1), checkSquare(i+1,j+1), checkSquare(i,j+1)) + 1\n",
    "            return 0 # if i,j not in matrix\n",
    "            \n",
    "        maxval = 0\n",
    "        for i in range(rows):\n",
    "            for j in range(cols):\n",
    "                if matrix[i][j] == '1':\n",
    "                    val = checkSquare(i,j)\n",
    "                    maxval = max(maxval,val)\n",
    "        \n",
    "        return maxval**2"
   ]
  },
  {
   "cell_type": "code",
   "execution_count": 144,
   "metadata": {},
   "outputs": [],
   "source": [
    "# memoize, bottom up (?)\n",
    "class Solution:\n",
    "    def maximalSquare(self, matrix: List[List[str]]) -> int:\n",
    "        if matrix is None or len(matrix)<1:\n",
    "            return 0\n",
    "        \n",
    "        rows = len(matrix)\n",
    "        cols = len(matrix[0])\n",
    "        dp = [[0]*cols for row in range(rows)]\n",
    "        \n",
    "        # iterate starting at bottom right corner\n",
    "        maxval = 0\n",
    "        for i in reversed(range(rows)):\n",
    "            for j in reversed(range(cols)):\n",
    "                if matrix[i][j] == '1':\n",
    "                    if (i+1 >= rows) or (j+1 >= cols):\n",
    "                        dp[i][j] = 1\n",
    "                    else: \n",
    "                        dp[i][j] = min(dp[i][j+1], dp[i+1][j], dp[i+1][j+1]) + 1\n",
    "                    maxval = max(dp[i][j],maxval)\n",
    "                \n",
    "        return maxval**2"
   ]
  },
  {
   "cell_type": "code",
   "execution_count": 148,
   "metadata": {},
   "outputs": [
    {
     "name": "stdout",
     "output_type": "stream",
     "text": [
      "0\n"
     ]
    }
   ],
   "source": [
    "soln = Solution()\n",
    "print(soln.maximalSquare(matrix4))"
   ]
  },
  {
   "cell_type": "markdown",
   "metadata": {},
   "source": [
    "## Day 29: 4/28/20\n",
    "### First Unique Number\n",
    "NEW  \n",
    "https://leetcode.com/explore/challenge/card/30-day-leetcoding-challenge/531/week-4/3313/"
   ]
  },
  {
   "cell_type": "markdown",
   "metadata": {},
   "source": [
    "You have a queue of integers, you need to retrieve the first unique integer in the queue.\n",
    "\n",
    "Implement the `FirstUnique` class:\n",
    "\n",
    "* `FirstUnique(int[] nums)` Initializes the object with the numbers in the queue.\n",
    "* `int showFirstUnique()` returns the value of the **first unique** integer of the queue, and returns **-1** if there is no such integer.\n",
    "* `void add(int value)` insert value to the queue.\n",
    "\n",
    "**Example 1:**\n",
    "```\n",
    "Input: \n",
    "[\"FirstUnique\",\"showFirstUnique\",\"add\",\"showFirstUnique\",\"add\",\"showFirstUnique\",\"add\",\"showFirstUnique\"]\n",
    "[[[2,3,5]],[],[5],[],[2],[],[3],[]]\n",
    "Output: \n",
    "[null,2,null,2,null,3,null,-1]\n",
    "\n",
    "Explanation: \n",
    "FirstUnique firstUnique = new FirstUnique([2,3,5]);\n",
    "firstUnique.showFirstUnique(); // return 2\n",
    "firstUnique.add(5);            // the queue is now [2,3,5,5]\n",
    "firstUnique.showFirstUnique(); // return 2\n",
    "firstUnique.add(2);            // the queue is now [2,3,5,5,2]\n",
    "firstUnique.showFirstUnique(); // return 3\n",
    "firstUnique.add(3);            // the queue is now [2,3,5,5,2,3]\n",
    "firstUnique.showFirstUnique(); // return -1\n",
    "```\n",
    "\n",
    "**Example 2:**\n",
    "```\n",
    "Input: \n",
    "[\"FirstUnique\",\"showFirstUnique\",\"add\",\"add\",\"add\",\"add\",\"add\",\"showFirstUnique\"]\n",
    "[[[7,7,7,7,7,7]],[],[7],[3],[3],[7],[17],[]]\n",
    "Output: \n",
    "[null,-1,null,null,null,null,null,17]\n",
    "\n",
    "Explanation: \n",
    "FirstUnique firstUnique = new FirstUnique([7,7,7,7,7,7]);\n",
    "firstUnique.showFirstUnique(); // return -1\n",
    "firstUnique.add(7);            // the queue is now [7,7,7,7,7,7,7]\n",
    "firstUnique.add(3);            // the queue is now [7,7,7,7,7,7,7,3]\n",
    "firstUnique.add(3);            // the queue is now [7,7,7,7,7,7,7,3,3]\n",
    "firstUnique.add(7);            // the queue is now [7,7,7,7,7,7,7,3,3,7]\n",
    "firstUnique.add(17);           // the queue is now [7,7,7,7,7,7,7,3,3,7,17]\n",
    "firstUnique.showFirstUnique(); // return 17\n",
    "```\n",
    "\n",
    "**Example 3:**\n",
    "```\n",
    "Input: \n",
    "[\"FirstUnique\",\"showFirstUnique\",\"add\",\"showFirstUnique\"]\n",
    "[[[809]],[],[809],[]]\n",
    "Output: \n",
    "[null,809,null,-1]\n",
    "\n",
    "Explanation: \n",
    "FirstUnique firstUnique = new FirstUnique([809]);\n",
    "firstUnique.showFirstUnique(); // return 809\n",
    "firstUnique.add(809);          // the queue is now [809,809]\n",
    "firstUnique.showFirstUnique(); // return -1\n",
    "```\n",
    "\n",
    "**Constraints:**\n",
    "\n",
    "* `1 <= nums.length <= 10^5`\n",
    "* `1 <= nums[i] <= 10^8`\n",
    "* `1 <= value <= 10^8`\n",
    "* At most `50000` calls will be made to `showFirstUnique` and `add`."
   ]
  },
  {
   "cell_type": "code",
   "execution_count": 60,
   "metadata": {},
   "outputs": [],
   "source": [
    "# using python OrderedDict\n",
    "from collections import OrderedDict\n",
    "\n",
    "class FirstUnique:\n",
    "    def __init__(self, nums: List[int]):\n",
    "        self.numsd = OrderedDict()\n",
    "        for n in nums:\n",
    "            self.add(n)\n",
    "                \n",
    "    def showFirstUnique(self) -> int:\n",
    "        for key,count in self.numsd.items():\n",
    "            if count == 1:\n",
    "                return key\n",
    "        return -1\n",
    "        \n",
    "    def add(self, value: int) -> None:\n",
    "        if value in self.numsd: # remove and insert key-value if present\n",
    "            count = self.numsd.pop(value)\n",
    "            self.numsd[value] = count+1\n",
    "        else: # insert if new\n",
    "            self.numsd[value] = 1\n",
    "            \n",
    "\n",
    "\n",
    "# Your FirstUnique object will be instantiated and called as such:\n",
    "# obj = FirstUnique(nums)\n",
    "# param_1 = obj.showFirstUnique()\n",
    "# obj.add(value)"
   ]
  },
  {
   "cell_type": "code",
   "execution_count": 63,
   "metadata": {},
   "outputs": [
    {
     "name": "stdout",
     "output_type": "stream",
     "text": [
      "2\n",
      "2\n",
      "3\n",
      "-1\n"
     ]
    }
   ],
   "source": [
    "firstUnique = FirstUnique([2,3,5])\n",
    "print(firstUnique.showFirstUnique()) # return 2\n",
    "firstUnique.add(5)                   # the queue is now [2,3,5,5]\n",
    "print(firstUnique.showFirstUnique()) # return 2\n",
    "firstUnique.add(2)                   # the queue is now [2,3,5,5,2]\n",
    "print(firstUnique.showFirstUnique()) # return 3\n",
    "firstUnique.add(3)                   # the queue is now [2,3,5,5,2,3]\n",
    "print(firstUnique.showFirstUnique()) # return -1"
   ]
  },
  {
   "cell_type": "code",
   "execution_count": 64,
   "metadata": {},
   "outputs": [
    {
     "name": "stdout",
     "output_type": "stream",
     "text": [
      "-1\n",
      "17\n"
     ]
    }
   ],
   "source": [
    "firstUnique = FirstUnique([7,7,7,7,7,7])\n",
    "print(firstUnique.showFirstUnique()) # return -1\n",
    "firstUnique.add(7)                   # the queue is now [7,7,7,7,7,7,7]\n",
    "firstUnique.add(3)                   # the queue is now [7,7,7,7,7,7,7,3]\n",
    "firstUnique.add(3)                   # the queue is now [7,7,7,7,7,7,7,3,3]\n",
    "firstUnique.add(7)                   # the queue is now [7,7,7,7,7,7,7,3,3,7]\n",
    "firstUnique.add(17)                  # the queue is now [7,7,7,7,7,7,7,3,3,7,17]\n",
    "print(firstUnique.showFirstUnique()) # return 17"
   ]
  }
 ],
 "metadata": {
  "kernelspec": {
   "display_name": "Python 3",
   "language": "python",
   "name": "python3"
  },
  "language_info": {
   "codemirror_mode": {
    "name": "ipython",
    "version": 3
   },
   "file_extension": ".py",
   "mimetype": "text/x-python",
   "name": "python",
   "nbconvert_exporter": "python",
   "pygments_lexer": "ipython3",
   "version": "3.7.7"
  }
 },
 "nbformat": 4,
 "nbformat_minor": 4
}
