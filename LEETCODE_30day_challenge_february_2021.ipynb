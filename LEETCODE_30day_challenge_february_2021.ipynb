{
 "cells": [
  {
   "cell_type": "code",
   "execution_count": 1,
   "metadata": {},
   "outputs": [],
   "source": [
    "from typing import List"
   ]
  },
  {
   "cell_type": "code",
   "execution_count": 4,
   "metadata": {},
   "outputs": [],
   "source": [
    "# tree practice\n",
    "class TreeNode:\n",
    "    def __init__(self, val=0, left=None, right=None):\n",
    "        self.val = val\n",
    "        self.left = left\n",
    "        self.right = right\n",
    "\n",
    "def mk_tree(nodes, i, n):\n",
    "    root = None\n",
    "    if (i < n) and nodes[i] is not None:\n",
    "        root = TreeNode(nodes[i])\n",
    "        root.left = mk_tree(nodes, 2*i+1, len(nodes))\n",
    "        root.right = mk_tree(nodes, 2*i+2, len(nodes))\n",
    "    return root\n",
    "\n",
    "def prnt_tree(root):\n",
    "    nodes = []\n",
    "    q = [root]\n",
    "    while any(q):\n",
    "        node = q.pop(0) # can use deque to optimize\n",
    "        if node:\n",
    "            nodes.append(node.val)\n",
    "            if node.left or node.right or any(q):\n",
    "                q.append(node.left)\n",
    "                q.append(node.right)\n",
    "        elif any(a): # if node is None AND there's still stuff in q to process\n",
    "            nodes.append('null')\n",
    "    \n",
    "    return nodes"
   ]
  },
  {
   "cell_type": "markdown",
   "metadata": {},
   "source": [
    "## Day 1: 2/1/21\n",
    "### 191. Number of 1 Bits\n",
    "MEDIUM  \n",
    "https://leetcode.com/problems/number-of-1-bits/  \n",
    "https://leetcode.com/explore/challenge/card/february-leetcoding-challenge-2021/584/week-1-february-1st-february-7th/3625/"
   ]
  },
  {
   "cell_type": "markdown",
   "metadata": {},
   "source": [
    "Write a function that takes an unsigned integer and returns the number of '1' bits it has (also known as the [Hamming weight](http://en.wikipedia.org/wiki/Hamming_weight)).\n",
    "\n",
    "**Note:**\n",
    "\n",
    "* Note that in some languages such as Java, there is no unsigned integer type. In this case, the input will be given as a signed integer type. It should not affect your implementation, as the integer's internal binary representation is the same, whether it is signed or unsigned.\n",
    "* In Java, the compiler represents the signed integers using [2's complement notation](https://en.wikipedia.org/wiki/Two%27s_complement). Therefore, in **Example 3** above, the input represents the signed integer. `-3`.\n",
    "\n",
    "**Follow up:** If this function is called many times, how would you optimize it?\n",
    "\n",
    " \n",
    "\n",
    "**Example 1:**\n",
    "```\n",
    "Input: n = 00000000000000000000000000001011\n",
    "Output: 3\n",
    "Explanation: The input binary string 00000000000000000000000000001011 has a total of three '1' bits.\n",
    "```\n",
    "**Example 2:**\n",
    "```\n",
    "Input: n = 00000000000000000000000010000000\n",
    "Output: 1\n",
    "Explanation: The input binary string 00000000000000000000000010000000 has a total of one '1' bit.\n",
    "```\n",
    "**Example 3:**\n",
    "```\n",
    "Input: n = 11111111111111111111111111111101\n",
    "Output: 31\n",
    "Explanation: The input binary string 11111111111111111111111111111101 has a total of thirty one '1' bits.\n",
    "```\n",
    "\n",
    "**Constraints:**\n",
    "\n",
    "* The input must be a **binary string** of length `32`"
   ]
  },
  {
   "cell_type": "markdown",
   "metadata": {},
   "source": [
    "**Companies:**\n",
    "![https://i.imgur.com/BowbxfB.png](https://i.imgur.com/BowbxfB.png)\n",
    "\n",
    "**Study Notes:**\n",
    "* leetcode solution: https://leetcode.com/problems/number-of-1-bits/solution/\n",
    "* leetcode discussion: https://leetcode.com/problems/number-of-1-bits/discuss/1044775/Python-n-and-(n-1)-trick-%2B-even-faster-explained"
   ]
  },
  {
   "cell_type": "code",
   "execution_count": 31,
   "metadata": {},
   "outputs": [],
   "source": [
    "s1 = '00000000000000000000000000001011'\n",
    "n1 = int(s1,2)\n",
    "s2 = '00000000000000000000000010000000'\n",
    "n2 = int(s2,2)\n",
    "s3 = '11111111111111111111111111111101'\n",
    "n3 = int(s3,2)"
   ]
  },
  {
   "cell_type": "code",
   "execution_count": 32,
   "metadata": {},
   "outputs": [],
   "source": [
    "class Solution:\n",
    "    def hammingWeight(self, n: int) -> int:\n",
    "        \n",
    "        return bin(n).count('1')"
   ]
  },
  {
   "cell_type": "code",
   "execution_count": 33,
   "metadata": {},
   "outputs": [],
   "source": [
    "# from leetcode discussion\n",
    "class Solution:\n",
    "    def hammingWeight(self, n: int) -> int:\n",
    "        ans = 0\n",
    "        while n:\n",
    "            n &= (n-1)\n",
    "            ans += 1\n",
    "        return ans"
   ]
  },
  {
   "cell_type": "code",
   "execution_count": 34,
   "metadata": {},
   "outputs": [
    {
     "data": {
      "text/plain": [
       "31"
      ]
     },
     "execution_count": 34,
     "metadata": {},
     "output_type": "execute_result"
    }
   ],
   "source": [
    "soln = Solution()\n",
    "soln.hammingWeight(n3)"
   ]
  },
  {
   "cell_type": "markdown",
   "metadata": {},
   "source": [
    "## Day 2: 2/2/21\n",
    "### 669. Trim a Binary Search Tree\n",
    "MEDIUM  \n",
    "https://leetcode.com/problems/trim-a-binary-search-tree/  \n",
    "https://leetcode.com/explore/challenge/card/february-leetcoding-challenge-2021/584/week-1-february-1st-february-7th/3626/"
   ]
  },
  {
   "cell_type": "markdown",
   "metadata": {},
   "source": [
    "Given the `root` of a binary search tree and the lowest and highest boundaries as `low` and `high`, trim the tree so that all its elements lies in `[low, high]`. Trimming the tree should **not** change the relative structure of the elements that will remain in the tree (i.e., any node's descendant should remain a descendant). It can be proven that there is a **unique answer**.\n",
    "\n",
    "Return *the root of the trimmed binary search tree*. Note that the root may change depending on the given bounds.\n",
    "\n",
    " \n",
    "\n",
    "**Example 1:**\n",
    "<img alt=\"\" src=\"https://assets.leetcode.com/uploads/2020/09/09/trim1.jpg\" style=\"width: 450px; height: 126px;\">\n",
    "```\n",
    "Input: root = [1,0,2], low = 1, high = 2\n",
    "Output: [1,null,2]\n",
    "```\n",
    "**Example 2:**\n",
    "<img alt=\"\" src=\"https://assets.leetcode.com/uploads/2020/09/09/trim2.jpg\" style=\"width: 450px; height: 277px;\">\n",
    "```\n",
    "Input: root = [3,0,4,null,2,null,null,1], low = 1, high = 3\n",
    "Output: [3,2,null,1]\n",
    "```\n",
    "**Example 3:**\n",
    "```\n",
    "Input: root = [1], low = 1, high = 2\n",
    "Output: [1]\n",
    "```\n",
    "**Example 4:**\n",
    "```\n",
    "Input: root = [1,null,2], low = 1, high = 3\n",
    "Output: [1,null,2]\n",
    "```\n",
    "**Example 5:**\n",
    "```\n",
    "Input: root = [1,null,2], low = 2, high = 4\n",
    "Output: [2]\n",
    "```\n",
    "\n",
    "**Constraints:**\n",
    "\n",
    "* `The number of nodes in the tree in the range `[1, 104]`.\n",
    "* `0 <= Node.val <= 10^4`\n",
    "* The value of each node in the tree is **unique**.\n",
    "* `root` is guaranteed to be a valid binary search tree.\n",
    "* `0 <= low <= high <= 10^4`"
   ]
  },
  {
   "cell_type": "markdown",
   "metadata": {},
   "source": [
    "**Companies:**\n",
    "![https://i.imgur.com/qFSqbwd.png](https://i.imgur.com/qFSqbwd.png)\n",
    "\n",
    "**Study Notes:**\n",
    "* leetcode solution: https://leetcode.com/problems/trim-a-binary-search-tree/solution/\n",
    "* leetcode discussion: https://leetcode.com/problems/trim-a-binary-search-tree/discuss/1046206/Python-dfs-solution-explained"
   ]
  },
  {
   "cell_type": "code",
   "execution_count": 8,
   "metadata": {},
   "outputs": [],
   "source": [
    "# Definition for a binary tree node.\n",
    "class TreeNode:\n",
    "    def __init__(self, val=0, left=None, right=None):\n",
    "        self.val = val\n",
    "        self.left = left\n",
    "        self.right = right\n",
    "        \n",
    "def mk_tree(nodes, i, n):\n",
    "    root = None\n",
    "    if (i < n) and nodes[i] is not None:\n",
    "        root = TreeNode(nodes[i])\n",
    "        root.left = mk_tree(nodes, 2*i+1, len(nodes))\n",
    "        root.right = mk_tree(nodes, 2*i+2, len(nodes))\n",
    "    return root\n",
    "\n",
    "def prnt_tree(root):\n",
    "    nodes = []\n",
    "    q = [root]\n",
    "    while any(q):\n",
    "        node = q.pop(0) # can use deque to optimize\n",
    "        if node:\n",
    "            nodes.append(node.val)\n",
    "            if node.left or node.right or any(q):\n",
    "                q.append(node.left)\n",
    "                q.append(node.right)\n",
    "        elif any(a): # if node is None AND there's still stuff in q to process\n",
    "            nodes.append('null')\n",
    "    \n",
    "    return nodes\n",
    "\n",
    "nodes1 = [1,0,2]\n",
    "root1,low1,high1 = mk_tree(nodes1,0,len(nodes1)), 1, 2\n",
    "nodes2 = [3,0,4,None,2,None,None,1]\n",
    "root2,low2,high2 = mk_tree(nodes2,0,len(nodes2)), 1, 3\n",
    "nodes3 = [1]\n",
    "root3,low3,high3 = mk_tree(nodes3,0,len(nodes3)), 1, 2\n",
    "nodes4 = [1,None,2]\n",
    "root4,low4,high4 = mk_tree(nodes4,0,len(nodes4)), 1, 3\n",
    "nodes5 = [1,None,2]\n",
    "root5,low5,high5 = mk_tree(nodes5,0,len(nodes5)), 2, 4"
   ]
  },
  {
   "cell_type": "code",
   "execution_count": 9,
   "metadata": {},
   "outputs": [],
   "source": [
    "class Solution:\n",
    "    def trimBST(self, root: TreeNode, low: int, high: int) -> TreeNode:\n",
    "        \n",
    "        return None"
   ]
  },
  {
   "cell_type": "code",
   "execution_count": 10,
   "metadata": {},
   "outputs": [],
   "source": [
    "soln = Solution()\n",
    "soln.trimBST(root1,low1,high1)"
   ]
  },
  {
   "cell_type": "code",
   "execution_count": null,
   "metadata": {},
   "outputs": [],
   "source": []
  }
 ],
 "metadata": {
  "kernelspec": {
   "display_name": "base (Python 3.7.7)",
   "language": "python",
   "name": "base"
  },
  "language_info": {
   "codemirror_mode": {
    "name": "ipython",
    "version": 3
   },
   "file_extension": ".py",
   "mimetype": "text/x-python",
   "name": "python",
   "nbconvert_exporter": "python",
   "pygments_lexer": "ipython3",
   "version": "3.7.7"
  }
 },
 "nbformat": 4,
 "nbformat_minor": 4
}
