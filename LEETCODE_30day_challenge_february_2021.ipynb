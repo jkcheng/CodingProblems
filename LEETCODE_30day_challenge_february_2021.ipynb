{
 "cells": [
  {
   "cell_type": "code",
   "execution_count": 1,
   "metadata": {},
   "outputs": [],
   "source": [
    "from typing import List"
   ]
  },
  {
   "cell_type": "code",
   "execution_count": 4,
   "metadata": {},
   "outputs": [],
   "source": [
    "# tree practice\n",
    "class TreeNode:\n",
    "    def __init__(self, val=0, left=None, right=None):\n",
    "        self.val = val\n",
    "        self.left = left\n",
    "        self.right = right\n",
    "\n",
    "def mk_tree(nodes, i, n):\n",
    "    root = None\n",
    "    if (i < n) and nodes[i] is not None:\n",
    "        root = TreeNode(nodes[i])\n",
    "        root.left = mk_tree(nodes, 2*i+1, len(nodes))\n",
    "        root.right = mk_tree(nodes, 2*i+2, len(nodes))\n",
    "    return root\n",
    "\n",
    "def prnt_tree(root):\n",
    "    nodes = []\n",
    "    q = [root]\n",
    "    while any(q):\n",
    "        node = q.pop(0) # can use deque to optimize\n",
    "        if node:\n",
    "            nodes.append(node.val)\n",
    "            if node.left or node.right or any(q):\n",
    "                q.append(node.left)\n",
    "                q.append(node.right)\n",
    "        elif any(a): # if node is None AND there's still stuff in q to process\n",
    "            nodes.append('null')\n",
    "    \n",
    "    return nodes"
   ]
  },
  {
   "cell_type": "markdown",
   "metadata": {},
   "source": [
    "## Day 1: 2/1/21\n",
    "### 191. Number of 1 Bits\n",
    "MEDIUM  \n",
    "https://leetcode.com/problems/number-of-1-bits/  \n",
    "https://leetcode.com/explore/challenge/card/february-leetcoding-challenge-2021/584/week-1-february-1st-february-7th/3625/"
   ]
  },
  {
   "cell_type": "markdown",
   "metadata": {},
   "source": [
    "Write a function that takes an unsigned integer and returns the number of '1' bits it has (also known as the [Hamming weight](http://en.wikipedia.org/wiki/Hamming_weight)).\n",
    "\n",
    "**Note:**\n",
    "\n",
    "* Note that in some languages such as Java, there is no unsigned integer type. In this case, the input will be given as a signed integer type. It should not affect your implementation, as the integer's internal binary representation is the same, whether it is signed or unsigned.\n",
    "* In Java, the compiler represents the signed integers using [2's complement notation](https://en.wikipedia.org/wiki/Two%27s_complement). Therefore, in **Example 3** above, the input represents the signed integer. `-3`.\n",
    "\n",
    "**Follow up:** If this function is called many times, how would you optimize it?\n",
    "\n",
    " \n",
    "\n",
    "**Example 1:**\n",
    "```\n",
    "Input: n = 00000000000000000000000000001011\n",
    "Output: 3\n",
    "Explanation: The input binary string 00000000000000000000000000001011 has a total of three '1' bits.\n",
    "```\n",
    "**Example 2:**\n",
    "```\n",
    "Input: n = 00000000000000000000000010000000\n",
    "Output: 1\n",
    "Explanation: The input binary string 00000000000000000000000010000000 has a total of one '1' bit.\n",
    "```\n",
    "**Example 3:**\n",
    "```\n",
    "Input: n = 11111111111111111111111111111101\n",
    "Output: 31\n",
    "Explanation: The input binary string 11111111111111111111111111111101 has a total of thirty one '1' bits.\n",
    "```\n",
    "\n",
    "**Constraints:**\n",
    "\n",
    "* The input must be a **binary string** of length `32`"
   ]
  },
  {
   "cell_type": "markdown",
   "metadata": {},
   "source": [
    "**Companies:**\n",
    "![https://i.imgur.com/BowbxfB.png](https://i.imgur.com/BowbxfB.png)\n",
    "\n",
    "**Study Notes:**\n",
    "* leetcode solution: https://leetcode.com/problems/number-of-1-bits/solution/\n",
    "* leetcode discussion: https://leetcode.com/problems/number-of-1-bits/discuss/1044775/Python-n-and-(n-1)-trick-%2B-even-faster-explained"
   ]
  },
  {
   "cell_type": "code",
   "execution_count": 31,
   "metadata": {},
   "outputs": [],
   "source": [
    "s1 = '00000000000000000000000000001011'\n",
    "n1 = int(s1,2)\n",
    "s2 = '00000000000000000000000010000000'\n",
    "n2 = int(s2,2)\n",
    "s3 = '11111111111111111111111111111101'\n",
    "n3 = int(s3,2)"
   ]
  },
  {
   "cell_type": "code",
   "execution_count": 32,
   "metadata": {},
   "outputs": [],
   "source": [
    "class Solution:\n",
    "    def hammingWeight(self, n: int) -> int:\n",
    "        \n",
    "        return bin(n).count('1')"
   ]
  },
  {
   "cell_type": "code",
   "execution_count": 33,
   "metadata": {},
   "outputs": [],
   "source": [
    "# from leetcode discussion\n",
    "class Solution:\n",
    "    def hammingWeight(self, n: int) -> int:\n",
    "        ans = 0\n",
    "        while n:\n",
    "            n &= (n-1)\n",
    "            ans += 1\n",
    "        return ans"
   ]
  },
  {
   "cell_type": "code",
   "execution_count": 34,
   "metadata": {},
   "outputs": [
    {
     "data": {
      "text/plain": [
       "31"
      ]
     },
     "execution_count": 34,
     "metadata": {},
     "output_type": "execute_result"
    }
   ],
   "source": [
    "soln = Solution()\n",
    "soln.hammingWeight(n3)"
   ]
  },
  {
   "cell_type": "markdown",
   "metadata": {},
   "source": [
    "## Day 2: 2/2/21\n",
    "### 669. Trim a Binary Search Tree\n",
    "MEDIUM  \n",
    "https://leetcode.com/problems/trim-a-binary-search-tree/  \n",
    "https://leetcode.com/explore/challenge/card/february-leetcoding-challenge-2021/584/week-1-february-1st-february-7th/3626/"
   ]
  },
  {
   "cell_type": "markdown",
   "metadata": {},
   "source": [
    "Given the `root` of a binary search tree and the lowest and highest boundaries as `low` and `high`, trim the tree so that all its elements lies in `[low, high]`. Trimming the tree should **not** change the relative structure of the elements that will remain in the tree (i.e., any node's descendant should remain a descendant). It can be proven that there is a **unique answer**.\n",
    "\n",
    "Return *the root of the trimmed binary search tree*. Note that the root may change depending on the given bounds.\n",
    "\n",
    " \n",
    "\n",
    "**Example 1:**\n",
    "<img alt=\"\" src=\"https://assets.leetcode.com/uploads/2020/09/09/trim1.jpg\" style=\"width: 450px; height: 126px;\">\n",
    "```\n",
    "Input: root = [1,0,2], low = 1, high = 2\n",
    "Output: [1,null,2]\n",
    "```\n",
    "**Example 2:**\n",
    "<img alt=\"\" src=\"https://assets.leetcode.com/uploads/2020/09/09/trim2.jpg\" style=\"width: 450px; height: 277px;\">\n",
    "```\n",
    "Input: root = [3,0,4,null,2,null,null,1], low = 1, high = 3\n",
    "Output: [3,2,null,1]\n",
    "```\n",
    "**Example 3:**\n",
    "```\n",
    "Input: root = [1], low = 1, high = 2\n",
    "Output: [1]\n",
    "```\n",
    "**Example 4:**\n",
    "```\n",
    "Input: root = [1,null,2], low = 1, high = 3\n",
    "Output: [1,null,2]\n",
    "```\n",
    "**Example 5:**\n",
    "```\n",
    "Input: root = [1,null,2], low = 2, high = 4\n",
    "Output: [2]\n",
    "```\n",
    "\n",
    "**Constraints:**\n",
    "\n",
    "* `The number of nodes in the tree in the range `[1, 104]`.\n",
    "* `0 <= Node.val <= 10^4`\n",
    "* The value of each node in the tree is **unique**.\n",
    "* `root` is guaranteed to be a valid binary search tree.\n",
    "* `0 <= low <= high <= 10^4`"
   ]
  },
  {
   "cell_type": "markdown",
   "metadata": {},
   "source": [
    "**Companies:**\n",
    "![https://i.imgur.com/qFSqbwd.png](https://i.imgur.com/qFSqbwd.png)\n",
    "\n",
    "**Study Notes:**\n",
    "* leetcode solution: https://leetcode.com/problems/trim-a-binary-search-tree/solution/\n",
    "* leetcode discussion: https://leetcode.com/problems/trim-a-binary-search-tree/discuss/1046206/Python-dfs-solution-explained"
   ]
  },
  {
   "cell_type": "code",
   "execution_count": 8,
   "metadata": {},
   "outputs": [],
   "source": [
    "# Definition for a binary tree node.\n",
    "class TreeNode:\n",
    "    def __init__(self, val=0, left=None, right=None):\n",
    "        self.val = val\n",
    "        self.left = left\n",
    "        self.right = right\n",
    "        \n",
    "def mk_tree(nodes, i, n):\n",
    "    root = None\n",
    "    if (i < n) and nodes[i] is not None:\n",
    "        root = TreeNode(nodes[i])\n",
    "        root.left = mk_tree(nodes, 2*i+1, len(nodes))\n",
    "        root.right = mk_tree(nodes, 2*i+2, len(nodes))\n",
    "    return root\n",
    "\n",
    "def prnt_tree(root):\n",
    "    nodes = []\n",
    "    q = [root]\n",
    "    while any(q):\n",
    "        node = q.pop(0) # can use deque to optimize\n",
    "        if node:\n",
    "            nodes.append(node.val)\n",
    "            if node.left or node.right or any(q):\n",
    "                q.append(node.left)\n",
    "                q.append(node.right)\n",
    "        elif any(a): # if node is None AND there's still stuff in q to process\n",
    "            nodes.append('null')\n",
    "    \n",
    "    return nodes\n",
    "\n",
    "nodes1 = [1,0,2]\n",
    "root1,low1,high1 = mk_tree(nodes1,0,len(nodes1)), 1, 2\n",
    "nodes2 = [3,0,4,None,2,None,None,1]\n",
    "root2,low2,high2 = mk_tree(nodes2,0,len(nodes2)), 1, 3\n",
    "nodes3 = [1]\n",
    "root3,low3,high3 = mk_tree(nodes3,0,len(nodes3)), 1, 2\n",
    "nodes4 = [1,None,2]\n",
    "root4,low4,high4 = mk_tree(nodes4,0,len(nodes4)), 1, 3\n",
    "nodes5 = [1,None,2]\n",
    "root5,low5,high5 = mk_tree(nodes5,0,len(nodes5)), 2, 4"
   ]
  },
  {
   "cell_type": "code",
   "execution_count": 9,
   "metadata": {},
   "outputs": [],
   "source": [
    "class Solution:\n",
    "    def trimBST(self, root: TreeNode, low: int, high: int) -> TreeNode:\n",
    "        \n",
    "        return None"
   ]
  },
  {
   "cell_type": "code",
   "execution_count": 10,
   "metadata": {},
   "outputs": [],
   "source": [
    "soln = Solution()\n",
    "soln.trimBST(root1,low1,high1)"
   ]
  },
  {
   "cell_type": "markdown",
   "metadata": {},
   "source": [
    "## 2/10/21\n",
    "### 138. Copy List with Random Pointer\n",
    "MEDIUM  \n",
    "https://leetcode.com/problems/copy-list-with-random-pointer/  \n",
    "https://leetcode.com/explore/challenge/card/february-leetcoding-challenge-2021/585/week-2-february-8th-february-14th/3635/"
   ]
  },
  {
   "cell_type": "markdown",
   "metadata": {},
   "source": [
    "A linked list of length `n` is given such that each node contains an additional random pointer, which could point to any node in the list, or `null`.\n",
    "\n",
    "Construct a [deep copy](https://en.wikipedia.org/wiki/Object_copying#Deep_copy) of the list. The deep copy should consist of exactly `n` **brand new** nodes, where each new node has its value set to the value of its corresponding original node. Both the `next` and `random` pointer of the new nodes should point to new nodes in the copied list such that the pointers in the original list and copied list represent the same list state. **None of the pointers in the new list should point to nodes in the original list**.\n",
    "\n",
    "For example, if there are two nodes `X` and `Y` in the original list, where `X.random --> Y`, then for the corresponding two nodes `x` and `y` in the copied list, `x.random` --> `y`.\n",
    "\n",
    "Return *the head of the copied linked list*.\n",
    "\n",
    "The linked list is represented in the input/output as a list of `n` nodes. Each node is represented as a pair of `[val, random_index]` where:\n",
    "\n",
    "* `val`: an integer representing `Node.val`\n",
    "* `random_index`: the index of the node (range from `0` to `n-1`) that the random pointer points to, or `null` if it does not point to any node.\n",
    "\n",
    "Your code will **only** be given the `head` of the original linked list.\n",
    "\n",
    " \n",
    "\n",
    "**Example 1:**\n",
    "<img alt=\"\" src=\"https://assets.leetcode.com/uploads/2019/12/18/e1.png\" style=\"width: 700px; height: 142px;\">\n",
    "```\n",
    "Input: head = [[7,null],[13,0],[11,4],[10,2],[1,0]]\n",
    "Output: [[7,null],[13,0],[11,4],[10,2],[1,0]]\n",
    "```\n",
    "**Example 2:**\n",
    "<img alt=\"\" src=\"https://assets.leetcode.com/uploads/2019/12/18/e2.png\" style=\"width: 700px; height: 114px;\">\n",
    "```\n",
    "Input: head = [[1,1],[2,1]]\n",
    "Output: [[1,1],[2,1]]\n",
    "```\n",
    "**Example 3:**\n",
    "<img alt=\"\" src=\"https://assets.leetcode.com/uploads/2019/12/18/e2.png\" style=\"width: 700px; height: 114px;\">\n",
    "```\n",
    "Input: head = [[3,null],[3,0],[3,null]]\n",
    "Output: [[3,null],[3,0],[3,null]]\n",
    "```\n",
    "**Example 4:**\n",
    "```\n",
    "Input: head = []\n",
    "Output: []\n",
    "Explanation: The given linked list is empty (null pointer), so return null.\n",
    "```\n",
    "\n",
    "**Constraints:**\n",
    "\n",
    "* `0 <= n <= 1000`\n",
    "* `-10000 <= Node.val <= 10000`\n",
    "* `Node.random` is `null` or is pointing to some node in the linked list."
   ]
  },
  {
   "cell_type": "markdown",
   "metadata": {},
   "source": [
    "**Companies:**\n",
    "![https://i.imgur.com/yOC2cIv.png](https://i.imgur.com/yOC2cIv.png)\n",
    "\n",
    "**Study Notes:**\n",
    "* leetcode discussion: https://leetcode.com/problems/copy-list-with-random-pointer/discuss/1059152/Python-3-stage-O(n)-solution-explained"
   ]
  },
  {
   "cell_type": "code",
   "execution_count": 9,
   "metadata": {},
   "outputs": [],
   "source": [
    "# Definition for a Node.\n",
    "class Node:\n",
    "    def __init__(self, x: int, next: 'Node' = None, random: 'Node' = None):\n",
    "        self.val = int(x)\n",
    "        self.next = next\n",
    "        self.random = random\n",
    "        \n",
    "def mk_randslist(nodes):\n",
    "    nextnode = None\n",
    "    for n in nodes[::-1]:\n",
    "        node = Node(n[0])\n",
    "        node.next = nextnode\n",
    "#         node.random = nodes[n[1]] if n[1] else None\n",
    "        nextnode = node\n",
    "    return nextnode\n",
    "        \n",
    "nodes1 = [[7,None],[13,0],[11,4],[10,2],[1,0]]\n",
    "head1 = mk_randslist(nodes1)"
   ]
  },
  {
   "cell_type": "code",
   "execution_count": 18,
   "metadata": {},
   "outputs": [],
   "source": [
    "class Solution:\n",
    "    def copyRandomList(self, head: 'Node') -> 'Node':\n",
    "        \n",
    "        \n",
    "        return None"
   ]
  },
  {
   "cell_type": "code",
   "execution_count": 19,
   "metadata": {},
   "outputs": [],
   "source": [
    "soln = Solution()\n",
    "soln.copyRandomList(head1)"
   ]
  },
  {
   "cell_type": "markdown",
   "metadata": {},
   "source": [
    "## Day 11: 2/11/21\n",
    "### 242. Valid Anagram\n",
    "EASY  \n",
    "https://leetcode.com/problems/valid-anagram/  \n",
    "https://leetcode.com/explore/challenge/card/february-leetcoding-challenge-2021/585/week-2-february-8th-february-14th/3636/"
   ]
  },
  {
   "cell_type": "markdown",
   "metadata": {},
   "source": [
    "Given two strings *s* and *t* , write a function to determine if *t* is an anagram of *s*.\n",
    "\n",
    "**Example 1:**\n",
    "```\n",
    "Input: s = \"anagram\", t = \"nagaram\"\n",
    "Output: true\n",
    "```\n",
    "**Example 2:**\n",
    "```\n",
    "Input: s = \"rat\", t = \"car\"\n",
    "Output: false\n",
    "```\n",
    "**Note:**\n",
    "You may assume the string contains only lowercase alphabets.\n",
    "\n",
    "**Follow up:**\n",
    "What if the inputs contain unicode characters? How would you adapt your solution to such case?"
   ]
  },
  {
   "cell_type": "markdown",
   "metadata": {},
   "source": [
    "**Companies:**\n",
    "![https://i.imgur.com/FTMkEzL.png](https://i.imgur.com/FTMkEzL.png)\n",
    "\n",
    "**Study Notes:**\n",
    "* leetcode solution: https://leetcode.com/problems/valid-anagram/solution/\n",
    "* leetcode discussion: https://leetcode.com/problems/valid-anagram/discuss/1060535/Python-2-Oneliners-explained"
   ]
  },
  {
   "cell_type": "code",
   "execution_count": 16,
   "metadata": {},
   "outputs": [],
   "source": [
    "s1,t1 = \"anagram\", \"nagaram\"\n",
    "s2,t2 = \"rat\", \"car\""
   ]
  },
  {
   "cell_type": "code",
   "execution_count": 21,
   "metadata": {},
   "outputs": [],
   "source": [
    "# manually\n",
    "class Solution:\n",
    "    def isAnagram(self, s: str, t: str) -> bool:\n",
    "        counts, countt = {}, {}\n",
    "        for c in s:\n",
    "            if c in counts:\n",
    "                counts[c] += 1\n",
    "            else:\n",
    "                counts[c] = 0\n",
    "                \n",
    "        for c in t:\n",
    "            if c in countt:\n",
    "                countt[c] += 1\n",
    "            else:\n",
    "                countt[c] = 0\n",
    "        return counts==countt"
   ]
  },
  {
   "cell_type": "code",
   "execution_count": 30,
   "metadata": {},
   "outputs": [],
   "source": [
    "# more concise manual dictionary\n",
    "class Solution:\n",
    "    def isAnagram(self, s: str, t: str) -> bool:\n",
    "        counts, countt = {}, {}\n",
    "        for c in s:\n",
    "            counts[c] = counts.get(c,0)+1\n",
    "                \n",
    "        for c in t:\n",
    "            countt[c] = countt.get(c,0)+1\n",
    "            \n",
    "        return counts==countt"
   ]
  },
  {
   "cell_type": "code",
   "execution_count": 18,
   "metadata": {},
   "outputs": [],
   "source": [
    "# builtin\n",
    "from collections import Counter\n",
    "class Solution:\n",
    "    def isAnagram(self, s: str, t: str) -> bool:\n",
    "        \n",
    "        return Counter(s)==Counter(t1)"
   ]
  },
  {
   "cell_type": "code",
   "execution_count": 29,
   "metadata": {},
   "outputs": [
    {
     "data": {
      "text/plain": [
       "False"
      ]
     },
     "execution_count": 29,
     "metadata": {},
     "output_type": "execute_result"
    }
   ],
   "source": [
    "soln = Solution()\n",
    "soln.isAnagram(s2,t2)"
   ]
  }
 ],
 "metadata": {
  "kernelspec": {
   "display_name": "base (Python 3.7.7)",
   "language": "python",
   "name": "base"
  },
  "language_info": {
   "codemirror_mode": {
    "name": "ipython",
    "version": 3
   },
   "file_extension": ".py",
   "mimetype": "text/x-python",
   "name": "python",
   "nbconvert_exporter": "python",
   "pygments_lexer": "ipython3",
   "version": "3.7.7"
  }
 },
 "nbformat": 4,
 "nbformat_minor": 4
}
