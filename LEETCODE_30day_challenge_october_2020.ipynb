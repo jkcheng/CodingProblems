{
 "cells": [
  {
   "cell_type": "code",
   "execution_count": 1,
   "metadata": {},
   "outputs": [],
   "source": [
    "from typing import List"
   ]
  },
  {
   "cell_type": "code",
   "execution_count": 3,
   "metadata": {},
   "outputs": [],
   "source": [
    "# tree practice\n",
    "def constructtree(nodes, i, n):\n",
    "    root = None\n",
    "    if (i < n) and nodes[i] is not None:\n",
    "        root = nodes[i]\n",
    "        root.left = constructtree(nodes, 2*i+1, len(nodes))\n",
    "        root.right = constructtree(nodes, 2*i+2, len(nodes))\n",
    "    return root\n",
    "\n",
    "def printtree(root):\n",
    "    q = [root]\n",
    "    nodes = []\n",
    "    while any(q):\n",
    "        node = q.pop(0) # can use deque instead to optimize\n",
    "        if node:\n",
    "            nodes.append(node.val)\n",
    "            if node.left or node.right or any(q):\n",
    "                q.append(node.left)\n",
    "                q.append(node.right)\n",
    "        elif any(q): # if node is None AND there's still stuff in q to process\n",
    "            nodes.append('null')\n",
    "    return nodes"
   ]
  },
  {
   "cell_type": "markdown",
   "metadata": {},
   "source": [
    "## Day 1: 10/1/20\n",
    "### 933. Number of Recent Calls\n",
    "EASY  \n",
    "https://leetcode.com/problems/number-of-recent-calls/  \n",
    "https://leetcode.com/explore/challenge/card/october-leetcoding-challenge/559/week-1-october-1st-october-7th/3480/"
   ]
  },
  {
   "cell_type": "markdown",
   "metadata": {},
   "source": [
    "You have a `RecentCounter` class which counts the number of recent requests within a certain time frame.\n",
    "\n",
    "Implement the `RecentCounter` class:\n",
    "\n",
    "* `RecentCounter()` Initializes the counter with zero recent requests.\n",
    "* `int ping(int t)` Adds a new request at time `t`, where `t` represents some time in milliseconds, and returns the number of requests that has happened in the past `3000` milliseconds (including the new request). Specifically, return the number of requests that have happened in the inclusive range `[t - 3000, t]`.\n",
    "\n",
    "It is **guaranteed** that every call to ping uses a strictly larger value of t than the previous call.\n",
    "\n",
    " \n",
    "\n",
    "**Example 1:**\n",
    "```\n",
    "Input\n",
    "[\"RecentCounter\", \"ping\", \"ping\", \"ping\", \"ping\"]\n",
    "[[], [1], [100], [3001], [3002]]\n",
    "Output\n",
    "[null, 1, 2, 3, 3]\n",
    "\n",
    "Explanation\n",
    "RecentCounter recentCounter = new RecentCounter();\n",
    "recentCounter.ping(1);     // requests = [1], range is [-2999,1], return 1\n",
    "recentCounter.ping(100);   // requests = [1, 100], range is [-2900,100], return 2\n",
    "recentCounter.ping(3001);  // requests = [1, 100, 3001], range is [1,3001], return 3\n",
    "recentCounter.ping(3002);  // requests = [1, 100, 3001, 3002], range is [2,3002], return 3\n",
    "```\n",
    "\n",
    "**Constraints:**\n",
    "\n",
    "* `1 <= t <= 104`\n",
    "* Each test case will call `ping` with **strictly increasing** values of `t`.\n",
    "* At most $10^4$ calls will be made to `ping`."
   ]
  },
  {
   "cell_type": "markdown",
   "metadata": {},
   "source": [
    "**Study Notes:**\n",
    "* easy problem with lots of optimization opportunities\n",
    "* leetcode solution article: https://leetcode.com/problems/number-of-recent-calls/solution/\n",
    "    * binary search is technically faster, but may be more trouble than it's worth to implement\n",
    "        * doesn't work well with linked lists in Java\n",
    "        * doable in python with python's mutable lists but still negligible gains"
   ]
  },
  {
   "cell_type": "code",
   "execution_count": 11,
   "metadata": {},
   "outputs": [],
   "source": [
    "input1 = [[], [1], [100], [3001], [3002]]"
   ]
  },
  {
   "cell_type": "code",
   "execution_count": 12,
   "metadata": {},
   "outputs": [],
   "source": [
    "class RecentCounter:\n",
    "\n",
    "    def __init__(self):\n",
    "        self.s = []\n",
    "    \n",
    "    def ping(self, t: int) -> int:\n",
    "        self.s.append(t)\n",
    "        while self.s[0] < t-3000:\n",
    "            self.s.pop(0)\n",
    "        return len(self.s)\n",
    "\n",
    "\n",
    "# Your RecentCounter object will be instantiated and called as such:\n",
    "# obj = RecentCounter()\n",
    "# param_1 = obj.ping(t)"
   ]
  },
  {
   "cell_type": "code",
   "execution_count": 18,
   "metadata": {},
   "outputs": [
    {
     "name": "stdout",
     "output_type": "stream",
     "text": [
      "1\n",
      "2\n",
      "3\n",
      "3\n"
     ]
    }
   ],
   "source": [
    "inpt = input1\n",
    "soln = RecentCounter()\n",
    "for i in inpt[1:]:\n",
    "    t = i[0]\n",
    "    print(soln.ping(t))"
   ]
  }
 ],
 "metadata": {
  "kernelspec": {
   "display_name": "base (Python 3.7.7)",
   "language": "python",
   "name": "base"
  },
  "language_info": {
   "codemirror_mode": {
    "name": "ipython",
    "version": 3
   },
   "file_extension": ".py",
   "mimetype": "text/x-python",
   "name": "python",
   "nbconvert_exporter": "python",
   "pygments_lexer": "ipython3",
   "version": "3.7.7"
  }
 },
 "nbformat": 4,
 "nbformat_minor": 4
}
