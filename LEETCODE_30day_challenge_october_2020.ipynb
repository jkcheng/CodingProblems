{
 "cells": [
  {
   "cell_type": "code",
   "execution_count": 1,
   "metadata": {},
   "outputs": [],
   "source": [
    "from typing import List"
   ]
  },
  {
   "cell_type": "code",
   "execution_count": 3,
   "metadata": {},
   "outputs": [],
   "source": [
    "# tree practice\n",
    "def constructtree(nodes, i, n):\n",
    "    root = None\n",
    "    if (i < n) and nodes[i] is not None:\n",
    "        root = nodes[i]\n",
    "        root.left = constructtree(nodes, 2*i+1, len(nodes))\n",
    "        root.right = constructtree(nodes, 2*i+2, len(nodes))\n",
    "    return root\n",
    "\n",
    "def printtree(root):\n",
    "    q = [root]\n",
    "    nodes = []\n",
    "    while any(q):\n",
    "        node = q.pop(0) # can use deque instead to optimize\n",
    "        if node:\n",
    "            nodes.append(node.val)\n",
    "            if node.left or node.right or any(q):\n",
    "                q.append(node.left)\n",
    "                q.append(node.right)\n",
    "        elif any(q): # if node is None AND there's still stuff in q to process\n",
    "            nodes.append('null')\n",
    "    return nodes"
   ]
  },
  {
   "cell_type": "markdown",
   "metadata": {},
   "source": [
    "## Day 1: 10/1/20\n",
    "### 933. Number of Recent Calls\n",
    "EASY  \n",
    "https://leetcode.com/problems/number-of-recent-calls/  \n",
    "https://leetcode.com/explore/challenge/card/october-leetcoding-challenge/559/week-1-october-1st-october-7th/3480/"
   ]
  },
  {
   "cell_type": "markdown",
   "metadata": {},
   "source": [
    "You have a `RecentCounter` class which counts the number of recent requests within a certain time frame.\n",
    "\n",
    "Implement the `RecentCounter` class:\n",
    "\n",
    "* `RecentCounter()` Initializes the counter with zero recent requests.\n",
    "* `int ping(int t)` Adds a new request at time `t`, where `t` represents some time in milliseconds, and returns the number of requests that has happened in the past `3000` milliseconds (including the new request). Specifically, return the number of requests that have happened in the inclusive range `[t - 3000, t]`.\n",
    "\n",
    "It is **guaranteed** that every call to ping uses a strictly larger value of t than the previous call.\n",
    "\n",
    " \n",
    "\n",
    "**Example 1:**\n",
    "```\n",
    "Input\n",
    "[\"RecentCounter\", \"ping\", \"ping\", \"ping\", \"ping\"]\n",
    "[[], [1], [100], [3001], [3002]]\n",
    "Output\n",
    "[null, 1, 2, 3, 3]\n",
    "\n",
    "Explanation\n",
    "RecentCounter recentCounter = new RecentCounter();\n",
    "recentCounter.ping(1);     // requests = [1], range is [-2999,1], return 1\n",
    "recentCounter.ping(100);   // requests = [1, 100], range is [-2900,100], return 2\n",
    "recentCounter.ping(3001);  // requests = [1, 100, 3001], range is [1,3001], return 3\n",
    "recentCounter.ping(3002);  // requests = [1, 100, 3001, 3002], range is [2,3002], return 3\n",
    "```\n",
    "\n",
    "**Constraints:**\n",
    "\n",
    "* `1 <= t <= 104`\n",
    "* Each test case will call `ping` with **strictly increasing** values of `t`.\n",
    "* At most $10^4$ calls will be made to `ping`."
   ]
  },
  {
   "cell_type": "markdown",
   "metadata": {},
   "source": [
    "**Study Notes:**\n",
    "* easy problem with lots of optimization opportunities\n",
    "* leetcode solution article: https://leetcode.com/problems/number-of-recent-calls/solution/\n",
    "    * binary search is technically faster, but may be more trouble than it's worth to implement\n",
    "        * doesn't work well with linked lists in Java\n",
    "        * doable in python with python's mutable lists but still negligible gains"
   ]
  },
  {
   "cell_type": "code",
   "execution_count": 11,
   "metadata": {},
   "outputs": [],
   "source": [
    "input1 = [[], [1], [100], [3001], [3002]]"
   ]
  },
  {
   "cell_type": "code",
   "execution_count": 12,
   "metadata": {},
   "outputs": [],
   "source": [
    "class RecentCounter:\n",
    "\n",
    "    def __init__(self):\n",
    "        self.s = []\n",
    "    \n",
    "    def ping(self, t: int) -> int:\n",
    "        self.s.append(t)\n",
    "        while self.s[0] < t-3000:\n",
    "            self.s.pop(0)\n",
    "        return len(self.s)\n",
    "\n",
    "\n",
    "# Your RecentCounter object will be instantiated and called as such:\n",
    "# obj = RecentCounter()\n",
    "# param_1 = obj.ping(t)"
   ]
  },
  {
   "cell_type": "code",
   "execution_count": 18,
   "metadata": {},
   "outputs": [
    {
     "name": "stdout",
     "output_type": "stream",
     "text": [
      "1\n",
      "2\n",
      "3\n",
      "3\n"
     ]
    }
   ],
   "source": [
    "inpt = input1\n",
    "soln = RecentCounter()\n",
    "for i in inpt[1:]:\n",
    "    t = i[0]\n",
    "    print(soln.ping(t))"
   ]
  },
  {
   "cell_type": "markdown",
   "metadata": {},
   "source": [
    "## Day 2: 10/2/20\n",
    "### 39. Combination Sum\n",
    "MEDIUM  \n",
    "https://leetcode.com/problems/combination-sum/  \n",
    "https://leetcode.com/explore/challenge/card/october-leetcoding-challenge/559/week-1-october-1st-october-7th/3481/"
   ]
  },
  {
   "cell_type": "markdown",
   "metadata": {},
   "source": [
    "Given an array of **distinct** integers `candidates` and a target integer `target`, return a *list of all **unique combinations** of `candidates` where the chosen numbers sum to `target`*. You may return the combinations in **any order**.\n",
    "\n",
    "The same number may be chosen from `candidates` an **unlimited number of times**. Two combinations are unique if the frequency of at least one of the chosen numbers is different.\n",
    "\n",
    " \n",
    "\n",
    "**Example 1:**\n",
    "```\n",
    "Input: candidates = [2,3,6,7], target = 7\n",
    "Output: [[2,2,3],[7]]\n",
    "Explanation:\n",
    "2 and 3 are candidates, and 2 + 2 + 3 = 7. Note that 2 can be used multiple times.\n",
    "7 is a candidate, and 7 = 7.\n",
    "These are the only two combinations.\n",
    "```\n",
    "**Example 2:**\n",
    "```\n",
    "Input: candidates = [2,3,5], target = 8\n",
    "Output: [[2,2,2,2],[2,3,3],[3,5]]\n",
    "```\n",
    "**Example 3:**\n",
    "```\n",
    "Input: candidates = [2], target = 1\n",
    "Output: []\n",
    "```\n",
    "**Example 4:**\n",
    "```\n",
    "Input: candidates = [1], target = 1\n",
    "Output: [[1]]\n",
    "```\n",
    "**Example 5:**\n",
    "```\n",
    "Input: candidates = [1], target = 2\n",
    "Output: [[1,1]]\n",
    "```\n",
    "\n",
    "**Constraints:**\n",
    "\n",
    "* `1 <= candidates.length <= 30`\n",
    "* `1 <= candidates[i] <= 200`\n",
    "* All elements of `candidates` are **distinct**.\n",
    "* `1 <= target <= 500`"
   ]
  },
  {
   "cell_type": "markdown",
   "metadata": {},
   "source": [
    "**Study Notes:**\n",
    "* classic backtracking problem!\n",
    "* leetcode discussion solution: https://leetcode.com/problems/combination-sum/discuss/875097/Python-bactracking-solution-explained"
   ]
  },
  {
   "cell_type": "code",
   "execution_count": 44,
   "metadata": {},
   "outputs": [],
   "source": [
    "candidates1,target1 = [2,3,6,7], 7\n",
    "candidates2,target2 = [2,3,5], 8\n",
    "candidates3,target3 = [2], 1\n",
    "candidates4,target4 = [1], 1\n",
    "candidates5,target5 = [1], 2"
   ]
  },
  {
   "cell_type": "code",
   "execution_count": 46,
   "metadata": {},
   "outputs": [],
   "source": [
    "class Solution:\n",
    "    def combinationSum(self, candidates: List[int], target: int) -> List[List[int]]:\n",
    "        def backtr(curtarget, cur, idx):\n",
    "            if curtarget == 0:\n",
    "                ans.append(cur)\n",
    "                return\n",
    "                \n",
    "            if (curtarget < 0) or (idx >= len(candidates)):\n",
    "                return\n",
    "            \n",
    "            for i in range(idx,len(candidates)):\n",
    "                c = candidates[i]\n",
    "                # call backtrack with temporary cur solution\n",
    "                backtr(curtarget-c,cur+[c],i)\n",
    "                \n",
    "           \n",
    "        ans = []\n",
    "        backtr(target,[],0)\n",
    "        return ans"
   ]
  },
  {
   "cell_type": "code",
   "execution_count": 45,
   "metadata": {},
   "outputs": [
    {
     "data": {
      "text/plain": [
       "[[2, 2, 2, 2], [2, 3, 3], [3, 5]]"
      ]
     },
     "execution_count": 45,
     "metadata": {},
     "output_type": "execute_result"
    }
   ],
   "source": [
    "soln = Solution()\n",
    "soln.combinationSum(candidates2,target2)"
   ]
  },
  {
   "cell_type": "markdown",
   "metadata": {},
   "source": [
    "## Day 3: 10/3/20\n",
    "### 532. K-diff Pairs in an Array\n",
    "MEDIUM  \n",
    "https://leetcode.com/problems/k-diff-pairs-in-an-array/  \n",
    "https://leetcode.com/explore/challenge/card/october-leetcoding-challenge/559/week-1-october-1st-october-7th/3481/"
   ]
  },
  {
   "cell_type": "markdown",
   "metadata": {},
   "source": [
    "Given an array of integers `nums` and an integer `k`, return *the number of **unique** k-diff pairs in the array*.\n",
    "\n",
    "A **k-diff** pair is an integer pair `(nums[i], nums[j])`, where the following are true:\n",
    "\n",
    "* `0 <= i, j < nums.length`\n",
    "* `i != j`\n",
    "* `a <= b`\n",
    "* `b - a == k`\n",
    " \n",
    "\n",
    "**Example 1:**\n",
    "```\n",
    "Input: nums = [3,1,4,1,5], k = 2\n",
    "Output: 2\n",
    "Explanation: There are two 2-diff pairs in the array, (1, 3) and (3, 5).\n",
    "Although we have two 1s in the input, we should only return the number of unique pairs.\n",
    "```\n",
    "**Example 2:**\n",
    "```\n",
    "Input: nums = [1,2,3,4,5], k = 1\n",
    "Output: 4\n",
    "Explanation: There are four 1-diff pairs in the array, (1, 2), (2, 3), (3, 4) and (4, 5).\n",
    "```\n",
    "**Example 3:**\n",
    "```\n",
    "Input: nums = [1,3,1,5,4], k = 0\n",
    "Output: 1\n",
    "Explanation: There is one 0-diff pair in the array, (1, 1).\n",
    "```\n",
    "**Example 4:**\n",
    "```\n",
    "Input: nums = [1,2,4,4,3,3,0,9,2,3], k = 3\n",
    "Output: 2\n",
    "```\n",
    "**Example 5:**\n",
    "```\n",
    "Input: nums = [-1,-2,-3], k = 1\n",
    "Output: 2\n",
    "```\n",
    "\n",
    "**Constraints:**\n",
    "\n",
    "* `1 <= nums.length <= 104`\n",
    "* `-107 <= nums[i] <= 107`\n",
    "* `0 <= k <= 107`"
   ]
  },
  {
   "cell_type": "code",
   "execution_count": 3,
   "metadata": {},
   "outputs": [],
   "source": [
    "nums1,k1 = [3,1,4,1,5], 2\n",
    "nums2,k2 = [1,2,3,4,5], 1\n",
    "nums3,k3 = [1,3,1,5,4], 0\n",
    "nums4,k4 = [1,2,4,4,3,3,0,9,2,3], 3\n",
    "nums5,k5 = [-1,-2,-3], 1"
   ]
  },
  {
   "cell_type": "code",
   "execution_count": 14,
   "metadata": {},
   "outputs": [],
   "source": [
    "class Solution:\n",
    "    def findPairs(self, nums: List[int], k: int) -> int:\n",
    "        nums = sorted(nums)\n",
    "        lasta, lastb = None, None\n",
    "        i, j = 0, 1\n",
    "        paircount = 0\n",
    "        if len(nums) < 2:\n",
    "            return 0\n",
    "        \n",
    "        while (i < j) and (j < len(nums)):\n",
    "            a = nums[i]\n",
    "            b = nums[j]\n",
    "            if (b-a == k) and (a != lasta) and (b != lastb):\n",
    "                lasta = a\n",
    "                lastb = b\n",
    "                paircount += 1\n",
    "                i += 1\n",
    "                j += 1\n",
    "            elif b-a < k:\n",
    "                j += 1\n",
    "            else:\n",
    "                i += 1\n",
    "                if (i==j):\n",
    "                    j += 1\n",
    "        \n",
    "        \n",
    "        return paircount"
   ]
  },
  {
   "cell_type": "code",
   "execution_count": 32,
   "metadata": {},
   "outputs": [],
   "source": [
    "# using counter\n",
    "from collections import Counter\n",
    "class Solution:\n",
    "    def findPairs(self, nums: List[int], k: int) -> int:\n",
    "        counts = Counter(nums)\n",
    "        paircounts = 0\n",
    "        for i,v in counts.items():\n",
    "            if (k > 0) and i+k in counts:\n",
    "                paircounts += 1\n",
    "            elif k == 0 and v > 1:\n",
    "                paircounts += 1\n",
    "        return paircounts"
   ]
  },
  {
   "cell_type": "code",
   "execution_count": 38,
   "metadata": {},
   "outputs": [
    {
     "data": {
      "text/plain": [
       "1"
      ]
     },
     "execution_count": 38,
     "metadata": {},
     "output_type": "execute_result"
    }
   ],
   "source": [
    "soln = Solution()\n",
    "soln.findPairs(nums3,k3)"
   ]
  },
  {
   "cell_type": "markdown",
   "metadata": {},
   "source": [
    "## Day 4: 10/4/5\n",
    "### 1288. Remove Covered Intervals\n",
    "MEDIUM  \n",
    "https://leetcode.com/problems/remove-covered-intervals/  \n",
    "https://leetcode.com/explore/challenge/card/october-leetcoding-challenge/559/week-1-october-1st-october-7th/3483/"
   ]
  },
  {
   "cell_type": "markdown",
   "metadata": {},
   "source": [
    "Given a list of `intervals`, remove all intervals that are covered by another interval in the list.\n",
    "\n",
    "Interval `[a,b)` is covered by interval `[c,d)` if and only if `c <= a` and `b <= d`.\n",
    "\n",
    "After doing so, return *the number of remaining intervals*.\n",
    "\n",
    " \n",
    "\n",
    "**Example 1:**\n",
    "```\n",
    "Input: intervals = [[1,4],[3,6],[2,8]]\n",
    "Output: 2\n",
    "Explanation: Interval [3,6] is covered by [2,8], therefore it is removed.\n",
    "```\n",
    "**Example 2:**\n",
    "```\n",
    "Input: intervals = [[1,4],[2,3]]\n",
    "Output: 1\n",
    "```\n",
    "**Example 3:**\n",
    "```\n",
    "Input: intervals = [[0,10],[5,12]]\n",
    "Output: 2\n",
    "```\n",
    "**Example 4:**\n",
    "```\n",
    "Input: intervals = [[3,10],[4,10],[5,11]]\n",
    "Output: 2\n",
    "```\n",
    "**Example 5:**\n",
    "```\n",
    "Input: intervals = [[1,2],[1,4],[3,4]]\n",
    "Output: 1\n",
    "```\n",
    "\n",
    "**Constraints:**\n",
    "\n",
    "* `1 <= intervals.length <= 1000`\n",
    "* `intervals[i].length == 2`\n",
    "* `0 <= intervals[i][0] < intervals[i][1] <= 10^5`\n",
    "* All the intervals are **unique**."
   ]
  },
  {
   "cell_type": "code",
   "execution_count": 58,
   "metadata": {},
   "outputs": [],
   "source": [
    "intervals1 = [[1,4],[3,6],[2,8]] # 2\n",
    "intervals2 = [[1,4],[2,3]] # 1\n",
    "intervals3 = [[0,10],[5,12]] # 2\n",
    "intervals4 = [[3,10],[4,10],[5,11]] # 2\n",
    "intervals5 = [[1,2],[1,4],[3,4]] # 1"
   ]
  },
  {
   "cell_type": "code",
   "execution_count": 43,
   "metadata": {},
   "outputs": [],
   "source": [
    "class Solution:\n",
    "    def removeCoveredIntervals(self, intervals: List[List[int]]) -> int:\n",
    "        intervals = sorted(intervals, key=lambda x: (x[0],x[1]))\n",
    "        count = 0\n",
    "        lasti = intervals[0]\n",
    "        if len(intervals) < 2:\n",
    "            return len(intervals)\n",
    "        \n",
    "        for i in range(1,len(intervals)):\n",
    "            if (intervals[i][1] > lasti[1]) and (intervals[i][0] > lasti[0]):\n",
    "                count += 1\n",
    "            lasti = max(intervals[i],lasti, key=lambda x: x[1])\n",
    "            \n",
    "        return count+1"
   ]
  },
  {
   "cell_type": "code",
   "execution_count": 69,
   "metadata": {},
   "outputs": [],
   "source": [
    "# sorting by both start and end; sort start ascending, end descending\n",
    "class Solution:\n",
    "    def removeCoveredIntervals(self, intervals: List[List[int]]) -> int:\n",
    "        intervals = sorted(intervals, key=lambda x: (x[0],-x[1]))\n",
    "        covered = 0\n",
    "        rightmost = 0\n",
    "        for start,end in intervals:\n",
    "            if end <= rightmost:\n",
    "                covered += 1\n",
    "            else:\n",
    "                rightmost = end\n",
    "        return len(intervals)-covered"
   ]
  },
  {
   "cell_type": "code",
   "execution_count": 71,
   "metadata": {},
   "outputs": [
    {
     "data": {
      "text/plain": [
       "1"
      ]
     },
     "execution_count": 71,
     "metadata": {},
     "output_type": "execute_result"
    }
   ],
   "source": [
    "soln = Solution()\n",
    "soln.removeCoveredIntervals(intervals5)"
   ]
  },
  {
   "cell_type": "code",
   "execution_count": 50,
   "metadata": {},
   "outputs": [],
   "source": [
    "tst = [[2, 5], [1, 5], [3, 5], [3, 4]]"
   ]
  },
  {
   "cell_type": "code",
   "execution_count": null,
   "metadata": {},
   "outputs": [],
   "source": []
  },
  {
   "cell_type": "code",
   "execution_count": null,
   "metadata": {},
   "outputs": [],
   "source": []
  },
  {
   "cell_type": "code",
   "execution_count": null,
   "metadata": {},
   "outputs": [],
   "source": []
  },
  {
   "cell_type": "markdown",
   "metadata": {},
   "source": [
    "## 61. Rotate List\n",
    "MEDIUM  \n",
    "https://leetcode.com/problems/rotate-list/  \n",
    "https://leetcode.com/explore/challenge/card/october-leetcoding-challenge/559/week-1-october-1st-october-7th/3486/"
   ]
  },
  {
   "cell_type": "markdown",
   "metadata": {},
   "source": [
    "Given a linked list, rotate the list to the right by *k* places, where *k* is non-negative.\n",
    "\n",
    "**Example 1:**\n",
    "```\n",
    "Input: 1->2->3->4->5->NULL, k = 2\n",
    "Output: 4->5->1->2->3->NULL\n",
    "Explanation:\n",
    "rotate 1 steps to the right: 5->1->2->3->4->NULL\n",
    "rotate 2 steps to the right: 4->5->1->2->3->NULL\n",
    "```\n",
    "**Example 2:**\n",
    "```\n",
    "Input: 0->1->2->NULL, k = 4\n",
    "Output: 2->0->1->NULL\n",
    "Explanation:\n",
    "rotate 1 steps to the right: 2->0->1->NULL\n",
    "rotate 2 steps to the right: 1->2->0->NULL\n",
    "rotate 3 steps to the right: 0->1->2->NULL\n",
    "rotate 4 steps to the right: 2->0->1->NULL\n",
    "```"
   ]
  },
  {
   "cell_type": "code",
   "execution_count": 132,
   "metadata": {},
   "outputs": [
    {
     "data": {
      "text/plain": [
       "'1 -> 2 -> 3 -> '"
      ]
     },
     "execution_count": 132,
     "metadata": {},
     "output_type": "execute_result"
    }
   ],
   "source": [
    "# Definition for singly-linked list.\n",
    "class ListNode:\n",
    "    def __init__(self, val=0, next=None):\n",
    "        self.val = val\n",
    "        self.next = next\n",
    "        \n",
    "def mk_slist(nodes):\n",
    "    pln = None\n",
    "    for n in nodes[::-1]:\n",
    "        ln = ListNode(n)\n",
    "        ln.next = pln\n",
    "        pln = ln\n",
    "    return ln\n",
    "\n",
    "def prnt_list(head):\n",
    "    s = ''\n",
    "    while head:\n",
    "        s += str(head.val) + ' -> '\n",
    "        head = head.next\n",
    "    return s\n",
    "        \n",
    "nodes1 = [1,2,3,4,5]\n",
    "ln1 = mk_slist(nodes1)\n",
    "k1 = 2\n",
    "nodes2 = [0,1,2]\n",
    "ln2 = mk_slist(nodes2)\n",
    "k2 = 4\n",
    "nodes3 = [1,2,3]\n",
    "ln3 = mk_slist(nodes3)\n",
    "k3 = 2000000000\n",
    "\n",
    "prnt_list(ln3)"
   ]
  },
  {
   "cell_type": "code",
   "execution_count": 131,
   "metadata": {},
   "outputs": [],
   "source": [
    "class Solution:\n",
    "    def rotateRight(self, head: ListNode, k: int) -> ListNode:\n",
    "        # if list empty or just 1 node\n",
    "        if not head or not head.next:\n",
    "            return head\n",
    "        \n",
    "        # get length of list\n",
    "        p1, n = head, 1\n",
    "        while p1.next:\n",
    "            p1 = p1.next\n",
    "            n += 1\n",
    "        \n",
    "        # re-calculate k\n",
    "        k = k % n\n",
    "        if k == 0:\n",
    "            return head\n",
    "        \n",
    "        p1 = p2 = head\n",
    "        while p2.next or (k > 0):\n",
    "            # move forward pointer\n",
    "            if p2.next:\n",
    "                p2 = p2.next\n",
    "            else:\n",
    "                p2 = head\n",
    "\n",
    "            # move rear pointer\n",
    "            if k > 0:\n",
    "                k -=1\n",
    "            else:\n",
    "                p1 = p1.next\n",
    "\n",
    "\n",
    "        p2.next = head\n",
    "        head = p1.next\n",
    "        p1.next = None\n",
    "        \n",
    "        return head"
   ]
  },
  {
   "cell_type": "code",
   "execution_count": 137,
   "metadata": {},
   "outputs": [],
   "source": [
    "soln = Solution()\n",
    "ans = soln.rotateRight(ln3,k3)"
   ]
  },
  {
   "cell_type": "code",
   "execution_count": 138,
   "metadata": {},
   "outputs": [
    {
     "data": {
      "text/plain": [
       "'2 -> 3 -> 1 -> '"
      ]
     },
     "execution_count": 138,
     "metadata": {},
     "output_type": "execute_result"
    }
   ],
   "source": [
    "# print linked list\n",
    "prnt_list(ans)"
   ]
  },
  {
   "cell_type": "markdown",
   "metadata": {},
   "source": [
    "## Day 8: 10/8/20\n",
    "### 704. Binary Search\n",
    "EASY  \n",
    "https://leetcode.com/problems/binary-search/  \n",
    "https://leetcode.com/explore/challenge/card/october-leetcoding-challenge/560/week-2-october-8th-october-14th/3488/"
   ]
  },
  {
   "cell_type": "markdown",
   "metadata": {},
   "source": [
    "Given a **sorted** (in ascending order) integer array `nums` of `n` elements and a `target` value, write a function to search `target` in `nums`. If `target` exists, then return its index, otherwise return `-1`.\n",
    "\n",
    "\n",
    "**Example 1:**\n",
    "```\n",
    "Input: nums = [-1,0,3,5,9,12], target = 9\n",
    "Output: 4\n",
    "Explanation: 9 exists in nums and its index is 4\n",
    "```\n",
    "**Example 2:**\n",
    "```\n",
    "Input: nums = [-1,0,3,5,9,12], target = 2\n",
    "Output: -1\n",
    "Explanation: 2 does not exist in nums so return -1\n",
    "```\n",
    "\n",
    "**Note:**\n",
    "\n",
    "1. You may assume that all elements in `nums` are unique.\n",
    "2. `n` will be in the range `[1, 10000]`.\n",
    "3. The value of each element in nums will be in the range `[-9999, 9999]`."
   ]
  },
  {
   "cell_type": "code",
   "execution_count": 18,
   "metadata": {},
   "outputs": [],
   "source": [
    "nums1,target1 = [-1,0,3,5,9,12], 9\n",
    "nums2,target2 = [-1,0,3,5,9,12], 2\n",
    "nums3,target3 = [5], 5"
   ]
  },
  {
   "cell_type": "code",
   "execution_count": 23,
   "metadata": {},
   "outputs": [],
   "source": [
    "# using strictly left < right\n",
    "class Solution:\n",
    "    def search(self, nums: List[int], target: int) -> int:\n",
    "        left, right = 0, len(nums)-1\n",
    "        \n",
    "        while left < right:\n",
    "            mid = (left + right)//2\n",
    "            if nums[mid] == target:\n",
    "                return mid\n",
    "            if target > nums[mid]:\n",
    "                left = mid + 1\n",
    "            else:\n",
    "                right = mid   \n",
    "        # check if nums[left] is the target for the case where left == right\n",
    "        return left if nums[left]==target else -1"
   ]
  },
  {
   "cell_type": "code",
   "execution_count": 26,
   "metadata": {},
   "outputs": [],
   "source": [
    "# using <= in while loop\n",
    "class Solution:\n",
    "    def search(self, nums: List[int], target: int) -> int:\n",
    "        left, right = 0, len(nums)-1\n",
    "        \n",
    "        while left <= right:\n",
    "            mid = (left + right)//2\n",
    "            if nums[mid] == target:\n",
    "                return mid\n",
    "            if target > nums[mid]:\n",
    "                left = mid + 1\n",
    "            else:\n",
    "                right = mid - 1  \n",
    "        return -1"
   ]
  },
  {
   "cell_type": "code",
   "execution_count": 27,
   "metadata": {},
   "outputs": [
    {
     "data": {
      "text/plain": [
       "0"
      ]
     },
     "execution_count": 27,
     "metadata": {},
     "output_type": "execute_result"
    }
   ],
   "source": [
    "soln = Solution()\n",
    "soln.search(nums3,target3)"
   ]
  },
  {
   "cell_type": "markdown",
   "metadata": {},
   "source": [
    "## Day 9: 10/9/20\n",
    "### 449. Serialize and Deserialize BST\n",
    "MEDIUM  \n",
    "https://leetcode.com/problems/serialize-and-deserialize-bst/  \n",
    "https://leetcode.com/explore/challenge/card/october-leetcoding-challenge/560/week-2-october-8th-october-14th/3489/"
   ]
  },
  {
   "cell_type": "markdown",
   "metadata": {},
   "source": [
    "Serialization is converting a data structure or object into a sequence of bits so that it can be stored in a file or memory buffer, or transmitted across a network connection link to be reconstructed later in the same or another computer environment.\n",
    "\n",
    "Design an algorithm to serialize and deserialize a **binary search tree**. There is no restriction on how your serialization/deserialization algorithm should work. You need to ensure that a binary search tree can be serialized to a string, and this string can be deserialized to the original tree structure.\n",
    "\n",
    "**The encoded string should be as compact as possible.**\n",
    "\n",
    " \n",
    "\n",
    "**Example 1:**\n",
    "```\n",
    "Input: root = [2,1,3]\n",
    "Output: [2,1,3]\n",
    "```\n",
    "**Example 2:**\n",
    "```\n",
    "Input: root = []\n",
    "Output: []\n",
    "```\n",
    "\n",
    "**Constraints:**\n",
    "\n",
    "* The number of nodes in the tree is in the range `[0, 10^4]`.\n",
    "* `0 <= Node.val <= 10^4`\n",
    "* The input tree is **guaranteed** to be a binary search tree."
   ]
  },
  {
   "cell_type": "markdown",
   "metadata": {},
   "source": [
    "**Study Notes:**\n",
    "* use preorder traversal to represent + reconstruct tree\n",
    "* solution article: https://leetcode.com/problems/serialize-and-deserialize-bst/discuss/886354/Python-O(n)-solution-using-preorder-traversal-explained\n",
    "* recursive solution: https://leetcode.com/problems/serialize-and-deserialize-bst/discuss/886209/Python-recursion"
   ]
  },
  {
   "cell_type": "code",
   "execution_count": 18,
   "metadata": {},
   "outputs": [],
   "source": [
    "# Definition for a binary tree node.\n",
    "class TreeNode:\n",
    "    def __init__(self, x):\n",
    "        self.val = x\n",
    "        self.left = None\n",
    "        self.right = None\n",
    "        \n",
    "# tree practice\n",
    "def constructtree(nodes, i, n):\n",
    "    root = None\n",
    "    if (i < n) and nodes[i] is not None:\n",
    "        root = TreeNode(nodes[i])\n",
    "        root.left = constructtree(nodes, 2*i+1, len(nodes))\n",
    "        root.right = constructtree(nodes, 2*i+2, len(nodes))\n",
    "    return root\n",
    "\n",
    "def printtree(root):\n",
    "    q = [root]\n",
    "    nodes = []\n",
    "    while any(q):\n",
    "        node = q.pop(0) # can use deque instead to optimize\n",
    "        if node:\n",
    "            nodes.append(node.val)\n",
    "            if node.left or node.right or any(q):\n",
    "                q.append(node.left)\n",
    "                q.append(node.right)\n",
    "        elif any(q): # if node is None AND there's still stuff in q to process\n",
    "            nodes.append('null')\n",
    "    return nodes"
   ]
  },
  {
   "cell_type": "code",
   "execution_count": 65,
   "metadata": {},
   "outputs": [],
   "source": [
    "nodes1 = [2,1,3]\n",
    "root1 = constructtree(nodes1, 0, len(nodes1))\n",
    "nodes2 = []\n",
    "root2 = constructtree(nodes2, 0, len(nodes2))\n",
    "\n",
    "nodes3 = [3,9,20,None,None,15,7]\n",
    "root3 = constructtree(nodes3,0,len(nodes3))\n",
    "nodes4 = [1,2,3,4,5,6,7]\n",
    "root4 = constructtree(nodes4,0,len(nodes4))\n",
    "\n",
    "nodes5 = [41,37,44,24,39,42,48,1,35,38,40,'null',43,46,49,0,2,30,36,\n",
    "          'null','null','null','null','null','null',45,47,'null',\n",
    "          'null','null','null','null',4,29,32,'null','null','null',\n",
    "          'null','null','null',3,9,26,'null',31,34,'null','null',\n",
    "          7,11,25,27,'null','null',33,'null',6,8,10,16,'null','null',\n",
    "          'null',28,'null','null',5,'null','null','null','null','null',\n",
    "          15,19,'null','null','null','null',12,'null',18,20,'null',13,17,\n",
    "          'null','null',22,'null',14,'null','null',21,23]\n",
    "root5 = constructtree(nodes5,0,len(nodes5))"
   ]
  },
  {
   "cell_type": "code",
   "execution_count": 94,
   "metadata": {},
   "outputs": [],
   "source": [
    "nodes6 = [5,3,6,2,4,None,7]\n",
    "root6 = constructtree(nodes6,0,len(nodes6))\n",
    "nodes7 = [5,4,6,2,None,None,7]\n",
    "root7 = constructtree(nodes7,0,len(nodes7))\n",
    "nodes8 = [5,2,6,None,4,None,7]\n",
    "root8 = constructtree(nodes8,0,len(nodes8))"
   ]
  },
  {
   "cell_type": "markdown",
   "metadata": {},
   "source": [
    "example trees\n",
    "```\n",
    "root6 = [5,3,6,2,4,null,7]\n",
    "\n",
    "    5\n",
    "   / \\\n",
    "  3   6\n",
    " / \\   \\\n",
    "2   4   7\n",
    "\n",
    "\n",
    "root7 = [5,4,6,2,null,null,7]\n",
    "\n",
    "    5\n",
    "   / \\\n",
    "  4   6\n",
    " /     \\\n",
    "2       7\n",
    "\n",
    "root8 = [5,2,6,null,4,null,7]\n",
    "\n",
    "    5\n",
    "   / \\\n",
    "  2   6\n",
    "   \\   \\\n",
    "    4   7\n",
    "```"
   ]
  },
  {
   "cell_type": "code",
   "execution_count": 132,
   "metadata": {},
   "outputs": [],
   "source": [
    "# stack (no nulls)\n",
    "def serialize(root):\n",
    "    if not root: return \"\"\n",
    "    stack, out = [root], []\n",
    "    while stack:\n",
    "        cur = stack.pop()\n",
    "        out.append(cur.val)\n",
    "        for child in filter(None, [cur.right, cur.left]):\n",
    "            stack += [child]\n",
    "\n",
    "    return ','.join(map(str, out))\n",
    "\n",
    "# # recursive with nulls\n",
    "# def serialize(root):\n",
    "#     if root == None:\n",
    "#         return 'null'\n",
    "#     return str(root.val) + \",\" + serialize(root.left) + \",\" + serialize(root.right)\n",
    "\n",
    "# recursive (no nulls)\n",
    "def serialize(root):\n",
    "    if root == None:\n",
    "        return ''\n",
    "    \n",
    "    l = serialize(root.left)\n",
    "    r = serialize(root.right)\n",
    "    \n",
    "    serialized = str(root.val)\n",
    "    if l: serialized += ',' + l\n",
    "    if r: serialized += ',' + r\n",
    "    return serialized"
   ]
  },
  {
   "cell_type": "code",
   "execution_count": 151,
   "metadata": {},
   "outputs": [],
   "source": [
    "# leetcode discussion solution\n",
    "def serialize(root: TreeNode) -> str:\n",
    "    if not root:\n",
    "        return ''\n",
    "    s1 = serialize(root.left)\n",
    "    s2 = serialize(root.right)\n",
    "    ret = str(root.val)\n",
    "    if s1: ret += ' ' + s1\n",
    "    if s2: ret += ' ' + s2\n",
    "    return ret\n",
    "\n",
    "def deserialize(data: str) -> TreeNode:\n",
    "    if not data:\n",
    "        return []\n",
    "    def recur(arr):\n",
    "        this = TreeNode(arr[0])\n",
    "        left = [e for e in arr[1:] if e<arr[0]]\n",
    "        right = [e for e in arr[1:] if e>arr[0]]\n",
    "        if left: this.left = recur(left)\n",
    "        if right: this.right = recur(right)\n",
    "        return this\n",
    "    arr = data.strip().split(' ')\n",
    "    arr = [int(e) for e in arr]\n",
    "    return recur(arr)"
   ]
  },
  {
   "cell_type": "code",
   "execution_count": 153,
   "metadata": {},
   "outputs": [],
   "source": [
    "ans = deserialize(serialize(root7))"
   ]
  },
  {
   "cell_type": "code",
   "execution_count": 156,
   "metadata": {},
   "outputs": [],
   "source": [
    "ans.left.right"
   ]
  },
  {
   "cell_type": "code",
   "execution_count": 147,
   "metadata": {},
   "outputs": [
    {
     "data": {
      "text/plain": [
       "'5 2 4 6 7'"
      ]
     },
     "execution_count": 147,
     "metadata": {},
     "output_type": "execute_result"
    }
   ],
   "source": [
    "serialize(root8)"
   ]
  },
  {
   "cell_type": "code",
   "execution_count": 110,
   "metadata": {},
   "outputs": [
    {
     "data": {
      "text/plain": [
       "[5, 4, 6, 2, 'null', 'null', 7]"
      ]
     },
     "execution_count": 110,
     "metadata": {},
     "output_type": "execute_result"
    }
   ],
   "source": [
    "printtree(root7)"
   ]
  },
  {
   "cell_type": "code",
   "execution_count": 91,
   "metadata": {},
   "outputs": [],
   "source": [
    "root3.left.left"
   ]
  },
  {
   "cell_type": "code",
   "execution_count": null,
   "metadata": {},
   "outputs": [],
   "source": []
  },
  {
   "cell_type": "code",
   "execution_count": 62,
   "metadata": {},
   "outputs": [],
   "source": [
    "class Codec:\n",
    "\n",
    "    def serialize(self, root: TreeNode) -> str:\n",
    "        \"\"\"Encodes a tree to a single string.\n",
    "        \"\"\"\n",
    "        q = [root]\n",
    "        nodes = []\n",
    "        while any(q):\n",
    "            node = q.pop(0)\n",
    "            if node:\n",
    "                nodes.append(node.val)\n",
    "                if node.left or node.right or any(q):\n",
    "                    q.append(node.left)\n",
    "                    q.append(node.right)\n",
    "            else:\n",
    "                nodes.append('null')\n",
    "        \n",
    "        return ','.join([str(n) for n in nodes])\n",
    "\n",
    "    def deserialize(self, data: str) -> TreeNode:\n",
    "        \"\"\"Decodes your encoded data to tree.\n",
    "        \"\"\"\n",
    "        nodes = data.split(',')\n",
    "        if nodes == ['']:\n",
    "            nodes = []\n",
    "        else:\n",
    "            nodes = [int(n) if n!='null' else None for n in nodes]\n",
    "        \n",
    "        def constructtree(nodes, i, n):\n",
    "            root = None\n",
    "            if (i<n) and nodes[i] is not None:\n",
    "                root = TreeNode(nodes[i])\n",
    "                root.left = constructtree(nodes, 2*i+1, len(nodes))\n",
    "                root.right = constructtree(nodes, 2*i+2, len(nodes))\n",
    "            return root\n",
    "        return constructtree(nodes, 0, len(nodes))\n",
    "    \n",
    "# Your Codec object will be instantiated and called as such:\n",
    "# Your Codec object will be instantiated and called as such:\n",
    "# ser = Codec()\n",
    "# deser = Codec()\n",
    "# tree = ser.serialize(root)\n",
    "# ans = deser.deserialize(tree)\n",
    "# return ans"
   ]
  },
  {
   "cell_type": "code",
   "execution_count": 63,
   "metadata": {},
   "outputs": [],
   "source": [
    "codec = Codec()\n",
    "tmp = codec.serialize(root2)\n",
    "ans = codec.deserialize(tmp)"
   ]
  },
  {
   "cell_type": "markdown",
   "metadata": {},
   "source": [
    "## Day 10: 10/10/20\n",
    "### 452. Minimum Number of Arrows to Burst Balloons\n",
    "MEDIUM  \n",
    "https://leetcode.com/problems/minimum-number-of-arrows-to-burst-balloons/  \n",
    "https://leetcode.com/explore/challenge/card/october-leetcoding-challenge/560/week-2-october-8th-october-14th/3490/"
   ]
  },
  {
   "cell_type": "markdown",
   "metadata": {},
   "source": [
    "There are some spherical balloons spread in two-dimensional space. For each balloon, provided input is the start and end coordinates of the horizontal diameter. Since it's horizontal, y-coordinates don't matter, and hence the x-coordinates of start and end of the diameter suffice. The start is always smaller than the end.\n",
    "\n",
    "An arrow can be shot up exactly vertically from different points along the x-axis. A balloon with $x_{start}$ and $x_{end}$ bursts by an arrow shot at x if $x_{start}$ ≤ $x$ ≤ $x_{end}$. There is no limit to the number of arrows that can be shot. An arrow once shot keeps traveling up infinitely.\n",
    "\n",
    "Given an array points where `points[i]` = [$x_{start}$, $x_{end}$], return the minimum number of arrows that must be shot to burst all balloons.\n",
    "\n",
    " \n",
    "\n",
    "**Example 1:**\n",
    "```\n",
    "Input: points = [[10,16],[2,8],[1,6],[7,12]]\n",
    "Output: 2\n",
    "Explanation: One way is to shoot one arrow for example at x = 6 (bursting the balloons [2,8] and [1,6]) and another arrow at x = 11 (bursting the other two balloons).\n",
    "```\n",
    "**Example 2:**\n",
    "```\n",
    "Input: points = [[1,2],[3,4],[5,6],[7,8]]\n",
    "Output: 4\n",
    "```\n",
    "**Example 3:**\n",
    "```\n",
    "Input: points = [[1,2],[2,3],[3,4],[4,5]]\n",
    "Output: 2\n",
    "```\n",
    "**Example 4:**\n",
    "```\n",
    "Input: points = [[1,2]]\n",
    "Output: 1\n",
    "```\n",
    "**Example 5:**\n",
    "```\n",
    "Input: points = [[2,3],[2,3]]\n",
    "Output: 1\n",
    "```\n",
    "\n",
    "**Constraints:**\n",
    "\n",
    "* `0 <= points.length <= 10^4`\n",
    "* `points.length == 2`\n",
    "* -231 <= $x_{start}$ < $x_{end}$ <= 231 - 1"
   ]
  },
  {
   "cell_type": "markdown",
   "metadata": {},
   "source": [
    "**Study Notes:**\n",
    "* intuition: number of darts == number of **non-overlapping** intervals\n",
    "    * each non-overlapping interval needs a separate dart\n",
    "    * can ignore any other interval that overlaps with any of these, since one of the darts for the non-overlapping interval will also cover one of the overlapping intervals\n",
    "    * need to sort intervals by their **end** rather than start"
   ]
  },
  {
   "cell_type": "code",
   "execution_count": 172,
   "metadata": {},
   "outputs": [],
   "source": [
    "points1 = [[10,16],[2,8],[1,6],[7,12]]\n",
    "points2 = [[1,2],[3,4],[5,6],[7,8]]\n",
    "points3 = [[1,2],[2,3],[3,4],[4,5]]\n",
    "points4 = [[1,2]]\n",
    "points5 = [[2,3],[2,3]]\n",
    "points6 = [[3,9],[7,12],[3,8],[6,8],[9,10],[2,9],[0,9],[3,9],[0,6],[2,8]]"
   ]
  },
  {
   "cell_type": "code",
   "execution_count": 176,
   "metadata": {},
   "outputs": [],
   "source": [
    "class Solution:\n",
    "    def findMinArrowShots(self, points: List[List[int]]) -> int:\n",
    "        points = sorted(points, key=lambda x: x[1])\n",
    "        count = 0\n",
    "        previ = None\n",
    "        for i in points:\n",
    "            if previ == None:\n",
    "                previ = i\n",
    "                count += 1\n",
    "                continue\n",
    "            elif previ[1] >= i[0]:\n",
    "                continue\n",
    "            count += 1\n",
    "            previ = i\n",
    "        return count"
   ]
  },
  {
   "cell_type": "code",
   "execution_count": 181,
   "metadata": {},
   "outputs": [],
   "source": [
    "class Solution:\n",
    "    def findMinArrowShots(self, points: List[List[int]]) -> int:\n",
    "        # if only one interval then return 0\n",
    "        if len(points) == 0:\n",
    "            return 0\n",
    "        \n",
    "        points = sorted(points, key=lambda x: x[1])\n",
    "        count = 1\n",
    "        previ = points[0]\n",
    "        for i in points:\n",
    "            if previ[1] < i[0]:\n",
    "                count += 1\n",
    "                previ = i\n",
    "        return count"
   ]
  },
  {
   "cell_type": "code",
   "execution_count": 184,
   "metadata": {},
   "outputs": [
    {
     "data": {
      "text/plain": [
       "2"
      ]
     },
     "execution_count": 184,
     "metadata": {},
     "output_type": "execute_result"
    }
   ],
   "source": [
    "soln = Solution()\n",
    "soln.findMinArrowShots(points1)"
   ]
  },
  {
   "cell_type": "markdown",
   "metadata": {},
   "source": [
    "## Day 11: 10/11/20\n",
    "### 316. Remove Duplicate Letters\n",
    "MEDIUM  \n",
    "https://leetcode.com/problems/remove-duplicate-letters/  \n",
    "https://leetcode.com/explore/challenge/card/october-leetcoding-challenge/560/week-2-october-8th-october-14th/3491/"
   ]
  },
  {
   "cell_type": "markdown",
   "metadata": {},
   "source": [
    "Given a string `s`, remove duplicate letters so that every letter appears once and only once. You must make sure your result is **the smallest in lexicographical order** among all possible results.\n",
    "\n",
    "**Note:** This question is the same as 1081: [https://leetcode.com/problems/smallest-subsequence-of-distinct-characters/](https://leetcode.com/problems/smallest-subsequence-of-distinct-characters/)\n",
    "\n",
    " \n",
    "\n",
    "**Example 1:**\n",
    "```\n",
    "Input: s = \"bcabc\"\n",
    "Output: \"abc\"\n",
    "```\n",
    "**Example 2:**\n",
    "```\n",
    "Input: s = \"cbacdcbc\"\n",
    "Output: \"acdb\"\n",
    "```\n",
    "\n",
    "**Constraints:**\n",
    "\n",
    "* `1 <= s.length <= 10^4`\n",
    "* `s` consists of lowercase English letters."
   ]
  },
  {
   "cell_type": "markdown",
   "metadata": {},
   "source": [
    "**Study Notes:**\n",
    "* core idea: \n",
    "    * scan once to identify position of the **last** copy of each character\n",
    "    * use a `stack` to track candidate characters\n",
    "    * repeatedly remove top character from `stack` AND `seen` as long as:\n",
    "        * current character is < stack top character\n",
    "        * stack top character isn't the last copy (alternatively, stack top character has a copy that comes after `i`)\n",
    "* leetcode discussion solution: https://leetcode.com/problems/remove-duplicate-letters/discuss/889477/Python-O(n)-greedy-with-stack-explained"
   ]
  },
  {
   "cell_type": "code",
   "execution_count": 209,
   "metadata": {},
   "outputs": [],
   "source": [
    "s1 = \"bcabc\"\n",
    "s2 = \"cbacdcbc\""
   ]
  },
  {
   "cell_type": "code",
   "execution_count": 227,
   "metadata": {},
   "outputs": [],
   "source": [
    "class Solution:\n",
    "    def removeDuplicateLetters(self, s: str) -> str:\n",
    "        lastc = {c:i for i,c in enumerate(s)}\n",
    "        stk = []\n",
    "        seen = set() # actually tracks whether we have added c to our output so far\n",
    "        \n",
    "        for i,c in enumerate(s):\n",
    "            if c in seen:\n",
    "                continue\n",
    "\n",
    "            while len(stk)>0 and (c < stk[-1]) and (i < lastc[stk[-1]]):\n",
    "                seen.remove(stk.pop())\n",
    "            stk.append(c)\n",
    "            seen.add(c)\n",
    "        \n",
    "        return ''.join(stk)"
   ]
  },
  {
   "cell_type": "code",
   "execution_count": 228,
   "metadata": {},
   "outputs": [
    {
     "data": {
      "text/plain": [
       "'acdb'"
      ]
     },
     "execution_count": 228,
     "metadata": {},
     "output_type": "execute_result"
    }
   ],
   "source": [
    "soln = Solution()\n",
    "soln.removeDuplicateLetters(s2)"
   ]
  }
 ],
 "metadata": {
  "kernelspec": {
   "display_name": "base (Python 3.7.7)",
   "language": "python",
   "name": "base"
  },
  "language_info": {
   "codemirror_mode": {
    "name": "ipython",
    "version": 3
   },
   "file_extension": ".py",
   "mimetype": "text/x-python",
   "name": "python",
   "nbconvert_exporter": "python",
   "pygments_lexer": "ipython3",
   "version": "3.7.7"
  }
 },
 "nbformat": 4,
 "nbformat_minor": 4
}
