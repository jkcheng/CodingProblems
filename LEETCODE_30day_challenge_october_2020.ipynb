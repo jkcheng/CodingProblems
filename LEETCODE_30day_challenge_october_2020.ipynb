{
 "cells": [
  {
   "cell_type": "code",
   "execution_count": 1,
   "metadata": {},
   "outputs": [],
   "source": [
    "from typing import List"
   ]
  },
  {
   "cell_type": "code",
   "execution_count": 3,
   "metadata": {},
   "outputs": [],
   "source": [
    "# tree practice\n",
    "def constructtree(nodes, i, n):\n",
    "    root = None\n",
    "    if (i < n) and nodes[i] is not None:\n",
    "        root = nodes[i]\n",
    "        root.left = constructtree(nodes, 2*i+1, len(nodes))\n",
    "        root.right = constructtree(nodes, 2*i+2, len(nodes))\n",
    "    return root\n",
    "\n",
    "def printtree(root):\n",
    "    q = [root]\n",
    "    nodes = []\n",
    "    while any(q):\n",
    "        node = q.pop(0) # can use deque instead to optimize\n",
    "        if node:\n",
    "            nodes.append(node.val)\n",
    "            if node.left or node.right or any(q):\n",
    "                q.append(node.left)\n",
    "                q.append(node.right)\n",
    "        elif any(q): # if node is None AND there's still stuff in q to process\n",
    "            nodes.append('null')\n",
    "    return nodes"
   ]
  },
  {
   "cell_type": "markdown",
   "metadata": {},
   "source": [
    "## Day 1: 10/1/20\n",
    "### 933. Number of Recent Calls\n",
    "EASY  \n",
    "https://leetcode.com/problems/number-of-recent-calls/  \n",
    "https://leetcode.com/explore/challenge/card/october-leetcoding-challenge/559/week-1-october-1st-october-7th/3480/"
   ]
  },
  {
   "cell_type": "markdown",
   "metadata": {},
   "source": [
    "You have a `RecentCounter` class which counts the number of recent requests within a certain time frame.\n",
    "\n",
    "Implement the `RecentCounter` class:\n",
    "\n",
    "* `RecentCounter()` Initializes the counter with zero recent requests.\n",
    "* `int ping(int t)` Adds a new request at time `t`, where `t` represents some time in milliseconds, and returns the number of requests that has happened in the past `3000` milliseconds (including the new request). Specifically, return the number of requests that have happened in the inclusive range `[t - 3000, t]`.\n",
    "\n",
    "It is **guaranteed** that every call to ping uses a strictly larger value of t than the previous call.\n",
    "\n",
    " \n",
    "\n",
    "**Example 1:**\n",
    "```\n",
    "Input\n",
    "[\"RecentCounter\", \"ping\", \"ping\", \"ping\", \"ping\"]\n",
    "[[], [1], [100], [3001], [3002]]\n",
    "Output\n",
    "[null, 1, 2, 3, 3]\n",
    "\n",
    "Explanation\n",
    "RecentCounter recentCounter = new RecentCounter();\n",
    "recentCounter.ping(1);     // requests = [1], range is [-2999,1], return 1\n",
    "recentCounter.ping(100);   // requests = [1, 100], range is [-2900,100], return 2\n",
    "recentCounter.ping(3001);  // requests = [1, 100, 3001], range is [1,3001], return 3\n",
    "recentCounter.ping(3002);  // requests = [1, 100, 3001, 3002], range is [2,3002], return 3\n",
    "```\n",
    "\n",
    "**Constraints:**\n",
    "\n",
    "* `1 <= t <= 104`\n",
    "* Each test case will call `ping` with **strictly increasing** values of `t`.\n",
    "* At most $10^4$ calls will be made to `ping`."
   ]
  },
  {
   "cell_type": "markdown",
   "metadata": {},
   "source": [
    "**Study Notes:**\n",
    "* easy problem with lots of optimization opportunities\n",
    "* leetcode solution article: https://leetcode.com/problems/number-of-recent-calls/solution/\n",
    "    * binary search is technically faster, but may be more trouble than it's worth to implement\n",
    "        * doesn't work well with linked lists in Java\n",
    "        * doable in python with python's mutable lists but still negligible gains"
   ]
  },
  {
   "cell_type": "code",
   "execution_count": 11,
   "metadata": {},
   "outputs": [],
   "source": [
    "input1 = [[], [1], [100], [3001], [3002]]"
   ]
  },
  {
   "cell_type": "code",
   "execution_count": 12,
   "metadata": {},
   "outputs": [],
   "source": [
    "class RecentCounter:\n",
    "\n",
    "    def __init__(self):\n",
    "        self.s = []\n",
    "    \n",
    "    def ping(self, t: int) -> int:\n",
    "        self.s.append(t)\n",
    "        while self.s[0] < t-3000:\n",
    "            self.s.pop(0)\n",
    "        return len(self.s)\n",
    "\n",
    "\n",
    "# Your RecentCounter object will be instantiated and called as such:\n",
    "# obj = RecentCounter()\n",
    "# param_1 = obj.ping(t)"
   ]
  },
  {
   "cell_type": "code",
   "execution_count": 18,
   "metadata": {},
   "outputs": [
    {
     "name": "stdout",
     "output_type": "stream",
     "text": [
      "1\n",
      "2\n",
      "3\n",
      "3\n"
     ]
    }
   ],
   "source": [
    "inpt = input1\n",
    "soln = RecentCounter()\n",
    "for i in inpt[1:]:\n",
    "    t = i[0]\n",
    "    print(soln.ping(t))"
   ]
  },
  {
   "cell_type": "markdown",
   "metadata": {},
   "source": [
    "## Day 2: 10/2/20\n",
    "### 39. Combination Sum\n",
    "MEDIUM  \n",
    "https://leetcode.com/problems/combination-sum/  \n",
    "https://leetcode.com/explore/challenge/card/october-leetcoding-challenge/559/week-1-october-1st-october-7th/3481/"
   ]
  },
  {
   "cell_type": "markdown",
   "metadata": {},
   "source": [
    "Given an array of **distinct** integers `candidates` and a target integer `target`, return a *list of all **unique combinations** of `candidates` where the chosen numbers sum to `target`*. You may return the combinations in **any order**.\n",
    "\n",
    "The same number may be chosen from `candidates` an **unlimited number of times**. Two combinations are unique if the frequency of at least one of the chosen numbers is different.\n",
    "\n",
    " \n",
    "\n",
    "**Example 1:**\n",
    "```\n",
    "Input: candidates = [2,3,6,7], target = 7\n",
    "Output: [[2,2,3],[7]]\n",
    "Explanation:\n",
    "2 and 3 are candidates, and 2 + 2 + 3 = 7. Note that 2 can be used multiple times.\n",
    "7 is a candidate, and 7 = 7.\n",
    "These are the only two combinations.\n",
    "```\n",
    "**Example 2:**\n",
    "```\n",
    "Input: candidates = [2,3,5], target = 8\n",
    "Output: [[2,2,2,2],[2,3,3],[3,5]]\n",
    "```\n",
    "**Example 3:**\n",
    "```\n",
    "Input: candidates = [2], target = 1\n",
    "Output: []\n",
    "```\n",
    "**Example 4:**\n",
    "```\n",
    "Input: candidates = [1], target = 1\n",
    "Output: [[1]]\n",
    "```\n",
    "**Example 5:**\n",
    "```\n",
    "Input: candidates = [1], target = 2\n",
    "Output: [[1,1]]\n",
    "```\n",
    "\n",
    "**Constraints:**\n",
    "\n",
    "* `1 <= candidates.length <= 30`\n",
    "* `1 <= candidates[i] <= 200`\n",
    "* All elements of `candidates` are **distinct**.\n",
    "* `1 <= target <= 500`"
   ]
  },
  {
   "cell_type": "markdown",
   "metadata": {},
   "source": [
    "**Study Notes:**\n",
    "* classic backtracking problem!\n",
    "* leetcode discussion solution: https://leetcode.com/problems/combination-sum/discuss/875097/Python-bactracking-solution-explained"
   ]
  },
  {
   "cell_type": "code",
   "execution_count": 44,
   "metadata": {},
   "outputs": [],
   "source": [
    "candidates1,target1 = [2,3,6,7], 7\n",
    "candidates2,target2 = [2,3,5], 8\n",
    "candidates3,target3 = [2], 1\n",
    "candidates4,target4 = [1], 1\n",
    "candidates5,target5 = [1], 2"
   ]
  },
  {
   "cell_type": "code",
   "execution_count": 46,
   "metadata": {},
   "outputs": [],
   "source": [
    "class Solution:\n",
    "    def combinationSum(self, candidates: List[int], target: int) -> List[List[int]]:\n",
    "        def backtr(curtarget, cur, idx):\n",
    "            if curtarget == 0:\n",
    "                ans.append(cur)\n",
    "                return\n",
    "                \n",
    "            if (curtarget < 0) or (idx >= len(candidates)):\n",
    "                return\n",
    "            \n",
    "            for i in range(idx,len(candidates)):\n",
    "                c = candidates[i]\n",
    "                # call backtrack with temporary cur solution\n",
    "                backtr(curtarget-c,cur+[c],i)\n",
    "                \n",
    "           \n",
    "        ans = []\n",
    "        backtr(target,[],0)\n",
    "        return ans"
   ]
  },
  {
   "cell_type": "code",
   "execution_count": 45,
   "metadata": {},
   "outputs": [
    {
     "data": {
      "text/plain": [
       "[[2, 2, 2, 2], [2, 3, 3], [3, 5]]"
      ]
     },
     "execution_count": 45,
     "metadata": {},
     "output_type": "execute_result"
    }
   ],
   "source": [
    "soln = Solution()\n",
    "soln.combinationSum(candidates2,target2)"
   ]
  },
  {
   "cell_type": "markdown",
   "metadata": {},
   "source": [
    "## Day 3: 10/3/20\n",
    "### 532. K-diff Pairs in an Array\n",
    "MEDIUM  \n",
    "https://leetcode.com/problems/k-diff-pairs-in-an-array/  \n",
    "https://leetcode.com/explore/challenge/card/october-leetcoding-challenge/559/week-1-october-1st-october-7th/3481/"
   ]
  },
  {
   "cell_type": "markdown",
   "metadata": {},
   "source": [
    "Given an array of integers `nums` and an integer `k`, return *the number of **unique** k-diff pairs in the array*.\n",
    "\n",
    "A **k-diff** pair is an integer pair `(nums[i], nums[j])`, where the following are true:\n",
    "\n",
    "* `0 <= i, j < nums.length`\n",
    "* `i != j`\n",
    "* `a <= b`\n",
    "* `b - a == k`\n",
    " \n",
    "\n",
    "**Example 1:**\n",
    "```\n",
    "Input: nums = [3,1,4,1,5], k = 2\n",
    "Output: 2\n",
    "Explanation: There are two 2-diff pairs in the array, (1, 3) and (3, 5).\n",
    "Although we have two 1s in the input, we should only return the number of unique pairs.\n",
    "```\n",
    "**Example 2:**\n",
    "```\n",
    "Input: nums = [1,2,3,4,5], k = 1\n",
    "Output: 4\n",
    "Explanation: There are four 1-diff pairs in the array, (1, 2), (2, 3), (3, 4) and (4, 5).\n",
    "```\n",
    "**Example 3:**\n",
    "```\n",
    "Input: nums = [1,3,1,5,4], k = 0\n",
    "Output: 1\n",
    "Explanation: There is one 0-diff pair in the array, (1, 1).\n",
    "```\n",
    "**Example 4:**\n",
    "```\n",
    "Input: nums = [1,2,4,4,3,3,0,9,2,3], k = 3\n",
    "Output: 2\n",
    "```\n",
    "**Example 5:**\n",
    "```\n",
    "Input: nums = [-1,-2,-3], k = 1\n",
    "Output: 2\n",
    "```\n",
    "\n",
    "**Constraints:**\n",
    "\n",
    "* `1 <= nums.length <= 104`\n",
    "* `-107 <= nums[i] <= 107`\n",
    "* `0 <= k <= 107`"
   ]
  },
  {
   "cell_type": "code",
   "execution_count": 3,
   "metadata": {},
   "outputs": [],
   "source": [
    "nums1,k1 = [3,1,4,1,5], 2\n",
    "nums2,k2 = [1,2,3,4,5], 1\n",
    "nums3,k3 = [1,3,1,5,4], 0\n",
    "nums4,k4 = [1,2,4,4,3,3,0,9,2,3], 3\n",
    "nums5,k5 = [-1,-2,-3], 1"
   ]
  },
  {
   "cell_type": "code",
   "execution_count": 14,
   "metadata": {},
   "outputs": [],
   "source": [
    "class Solution:\n",
    "    def findPairs(self, nums: List[int], k: int) -> int:\n",
    "        nums = sorted(nums)\n",
    "        lasta, lastb = None, None\n",
    "        i, j = 0, 1\n",
    "        paircount = 0\n",
    "        if len(nums) < 2:\n",
    "            return 0\n",
    "        \n",
    "        while (i < j) and (j < len(nums)):\n",
    "            a = nums[i]\n",
    "            b = nums[j]\n",
    "            if (b-a == k) and (a != lasta) and (b != lastb):\n",
    "                lasta = a\n",
    "                lastb = b\n",
    "                paircount += 1\n",
    "                i += 1\n",
    "                j += 1\n",
    "            elif b-a < k:\n",
    "                j += 1\n",
    "            else:\n",
    "                i += 1\n",
    "                if (i==j):\n",
    "                    j += 1\n",
    "        \n",
    "        \n",
    "        return paircount"
   ]
  },
  {
   "cell_type": "code",
   "execution_count": 32,
   "metadata": {},
   "outputs": [],
   "source": [
    "# using counter\n",
    "from collections import Counter\n",
    "class Solution:\n",
    "    def findPairs(self, nums: List[int], k: int) -> int:\n",
    "        counts = Counter(nums)\n",
    "        paircounts = 0\n",
    "        for i,v in counts.items():\n",
    "            if (k > 0) and i+k in counts:\n",
    "                paircounts += 1\n",
    "            elif k == 0 and v > 1:\n",
    "                paircounts += 1\n",
    "        return paircounts"
   ]
  },
  {
   "cell_type": "code",
   "execution_count": 38,
   "metadata": {},
   "outputs": [
    {
     "data": {
      "text/plain": [
       "1"
      ]
     },
     "execution_count": 38,
     "metadata": {},
     "output_type": "execute_result"
    }
   ],
   "source": [
    "soln = Solution()\n",
    "soln.findPairs(nums3,k3)"
   ]
  },
  {
   "cell_type": "markdown",
   "metadata": {},
   "source": [
    "## Day 4: 10/4/5\n",
    "### 1288. Remove Covered Intervals\n",
    "MEDIUM  \n",
    "https://leetcode.com/problems/remove-covered-intervals/  \n",
    "https://leetcode.com/explore/challenge/card/october-leetcoding-challenge/559/week-1-october-1st-october-7th/3483/"
   ]
  },
  {
   "cell_type": "markdown",
   "metadata": {},
   "source": [
    "Given a list of `intervals`, remove all intervals that are covered by another interval in the list.\n",
    "\n",
    "Interval `[a,b)` is covered by interval `[c,d)` if and only if `c <= a` and `b <= d`.\n",
    "\n",
    "After doing so, return *the number of remaining intervals*.\n",
    "\n",
    " \n",
    "\n",
    "**Example 1:**\n",
    "```\n",
    "Input: intervals = [[1,4],[3,6],[2,8]]\n",
    "Output: 2\n",
    "Explanation: Interval [3,6] is covered by [2,8], therefore it is removed.\n",
    "```\n",
    "**Example 2:**\n",
    "```\n",
    "Input: intervals = [[1,4],[2,3]]\n",
    "Output: 1\n",
    "```\n",
    "**Example 3:**\n",
    "```\n",
    "Input: intervals = [[0,10],[5,12]]\n",
    "Output: 2\n",
    "```\n",
    "**Example 4:**\n",
    "```\n",
    "Input: intervals = [[3,10],[4,10],[5,11]]\n",
    "Output: 2\n",
    "```\n",
    "**Example 5:**\n",
    "```\n",
    "Input: intervals = [[1,2],[1,4],[3,4]]\n",
    "Output: 1\n",
    "```\n",
    "\n",
    "**Constraints:**\n",
    "\n",
    "* `1 <= intervals.length <= 1000`\n",
    "* `intervals[i].length == 2`\n",
    "* `0 <= intervals[i][0] < intervals[i][1] <= 10^5`\n",
    "* All the intervals are **unique**."
   ]
  },
  {
   "cell_type": "code",
   "execution_count": 58,
   "metadata": {},
   "outputs": [],
   "source": [
    "intervals1 = [[1,4],[3,6],[2,8]] # 2\n",
    "intervals2 = [[1,4],[2,3]] # 1\n",
    "intervals3 = [[0,10],[5,12]] # 2\n",
    "intervals4 = [[3,10],[4,10],[5,11]] # 2\n",
    "intervals5 = [[1,2],[1,4],[3,4]] # 1"
   ]
  },
  {
   "cell_type": "code",
   "execution_count": 43,
   "metadata": {},
   "outputs": [],
   "source": [
    "class Solution:\n",
    "    def removeCoveredIntervals(self, intervals: List[List[int]]) -> int:\n",
    "        intervals = sorted(intervals, key=lambda x: (x[0],x[1]))\n",
    "        count = 0\n",
    "        lasti = intervals[0]\n",
    "        if len(intervals) < 2:\n",
    "            return len(intervals)\n",
    "        \n",
    "        for i in range(1,len(intervals)):\n",
    "            if (intervals[i][1] > lasti[1]) and (intervals[i][0] > lasti[0]):\n",
    "                count += 1\n",
    "            lasti = max(intervals[i],lasti, key=lambda x: x[1])\n",
    "            \n",
    "        return count+1"
   ]
  },
  {
   "cell_type": "code",
   "execution_count": 69,
   "metadata": {},
   "outputs": [],
   "source": [
    "# sorting by both start and end; sort start ascending, end descending\n",
    "class Solution:\n",
    "    def removeCoveredIntervals(self, intervals: List[List[int]]) -> int:\n",
    "        intervals = sorted(intervals, key=lambda x: (x[0],-x[1]))\n",
    "        covered = 0\n",
    "        rightmost = 0\n",
    "        for start,end in intervals:\n",
    "            if end <= rightmost:\n",
    "                covered += 1\n",
    "            else:\n",
    "                rightmost = end\n",
    "        return len(intervals)-covered"
   ]
  },
  {
   "cell_type": "code",
   "execution_count": 71,
   "metadata": {},
   "outputs": [
    {
     "data": {
      "text/plain": [
       "1"
      ]
     },
     "execution_count": 71,
     "metadata": {},
     "output_type": "execute_result"
    }
   ],
   "source": [
    "soln = Solution()\n",
    "soln.removeCoveredIntervals(intervals5)"
   ]
  },
  {
   "cell_type": "code",
   "execution_count": 50,
   "metadata": {},
   "outputs": [],
   "source": [
    "tst = [[2, 5], [1, 5], [3, 5], [3, 4]]"
   ]
  },
  {
   "cell_type": "code",
   "execution_count": null,
   "metadata": {},
   "outputs": [],
   "source": []
  },
  {
   "cell_type": "code",
   "execution_count": null,
   "metadata": {},
   "outputs": [],
   "source": []
  },
  {
   "cell_type": "code",
   "execution_count": null,
   "metadata": {},
   "outputs": [],
   "source": []
  },
  {
   "cell_type": "markdown",
   "metadata": {},
   "source": [
    "## 61. Rotate List\n",
    "MEDIUM  \n",
    "https://leetcode.com/problems/rotate-list/  \n",
    "https://leetcode.com/explore/challenge/card/october-leetcoding-challenge/559/week-1-october-1st-october-7th/3486/"
   ]
  },
  {
   "cell_type": "markdown",
   "metadata": {},
   "source": [
    "Given a linked list, rotate the list to the right by *k* places, where *k* is non-negative.\n",
    "\n",
    "**Example 1:**\n",
    "```\n",
    "Input: 1->2->3->4->5->NULL, k = 2\n",
    "Output: 4->5->1->2->3->NULL\n",
    "Explanation:\n",
    "rotate 1 steps to the right: 5->1->2->3->4->NULL\n",
    "rotate 2 steps to the right: 4->5->1->2->3->NULL\n",
    "```\n",
    "**Example 2:**\n",
    "```\n",
    "Input: 0->1->2->NULL, k = 4\n",
    "Output: 2->0->1->NULL\n",
    "Explanation:\n",
    "rotate 1 steps to the right: 2->0->1->NULL\n",
    "rotate 2 steps to the right: 1->2->0->NULL\n",
    "rotate 3 steps to the right: 0->1->2->NULL\n",
    "rotate 4 steps to the right: 2->0->1->NULL\n",
    "```"
   ]
  },
  {
   "cell_type": "code",
   "execution_count": 132,
   "metadata": {},
   "outputs": [
    {
     "data": {
      "text/plain": [
       "'1 -> 2 -> 3 -> '"
      ]
     },
     "execution_count": 132,
     "metadata": {},
     "output_type": "execute_result"
    }
   ],
   "source": [
    "# Definition for singly-linked list.\n",
    "class ListNode:\n",
    "    def __init__(self, val=0, next=None):\n",
    "        self.val = val\n",
    "        self.next = next\n",
    "        \n",
    "def mk_slist(nodes):\n",
    "    pln = None\n",
    "    for n in nodes[::-1]:\n",
    "        ln = ListNode(n)\n",
    "        ln.next = pln\n",
    "        pln = ln\n",
    "    return ln\n",
    "\n",
    "def prnt_list(head):\n",
    "    s = ''\n",
    "    while head:\n",
    "        s += str(head.val) + ' -> '\n",
    "        head = head.next\n",
    "    return s\n",
    "        \n",
    "nodes1 = [1,2,3,4,5]\n",
    "ln1 = mk_slist(nodes1)\n",
    "k1 = 2\n",
    "nodes2 = [0,1,2]\n",
    "ln2 = mk_slist(nodes2)\n",
    "k2 = 4\n",
    "nodes3 = [1,2,3]\n",
    "ln3 = mk_slist(nodes3)\n",
    "k3 = 2000000000\n",
    "\n",
    "prnt_list(ln3)"
   ]
  },
  {
   "cell_type": "code",
   "execution_count": 131,
   "metadata": {},
   "outputs": [],
   "source": [
    "class Solution:\n",
    "    def rotateRight(self, head: ListNode, k: int) -> ListNode:\n",
    "        # if list empty or just 1 node\n",
    "        if not head or not head.next:\n",
    "            return head\n",
    "        \n",
    "        # get length of list\n",
    "        p1, n = head, 1\n",
    "        while p1.next:\n",
    "            p1 = p1.next\n",
    "            n += 1\n",
    "        \n",
    "        # re-calculate k\n",
    "        k = k % n\n",
    "        if k == 0:\n",
    "            return head\n",
    "        \n",
    "        p1 = p2 = head\n",
    "        while p2.next or (k > 0):\n",
    "            # move forward pointer\n",
    "            if p2.next:\n",
    "                p2 = p2.next\n",
    "            else:\n",
    "                p2 = head\n",
    "\n",
    "            # move rear pointer\n",
    "            if k > 0:\n",
    "                k -=1\n",
    "            else:\n",
    "                p1 = p1.next\n",
    "\n",
    "\n",
    "        p2.next = head\n",
    "        head = p1.next\n",
    "        p1.next = None\n",
    "        \n",
    "        return head"
   ]
  },
  {
   "cell_type": "code",
   "execution_count": 137,
   "metadata": {},
   "outputs": [],
   "source": [
    "soln = Solution()\n",
    "ans = soln.rotateRight(ln3,k3)"
   ]
  },
  {
   "cell_type": "code",
   "execution_count": 138,
   "metadata": {},
   "outputs": [
    {
     "data": {
      "text/plain": [
       "'2 -> 3 -> 1 -> '"
      ]
     },
     "execution_count": 138,
     "metadata": {},
     "output_type": "execute_result"
    }
   ],
   "source": [
    "# print linked list\n",
    "prnt_list(ans)"
   ]
  }
 ],
 "metadata": {
  "kernelspec": {
   "display_name": "base (Python 3.7.7)",
   "language": "python",
   "name": "base"
  },
  "language_info": {
   "codemirror_mode": {
    "name": "ipython",
    "version": 3
   },
   "file_extension": ".py",
   "mimetype": "text/x-python",
   "name": "python",
   "nbconvert_exporter": "python",
   "pygments_lexer": "ipython3",
   "version": "3.7.7"
  }
 },
 "nbformat": 4,
 "nbformat_minor": 4
}
