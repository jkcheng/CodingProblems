{
 "cells": [
  {
   "cell_type": "code",
   "execution_count": 1,
   "metadata": {},
   "outputs": [],
   "source": [
    "from typing import List"
   ]
  },
  {
   "cell_type": "code",
   "execution_count": null,
   "metadata": {},
   "outputs": [],
   "source": []
  },
  {
   "cell_type": "markdown",
   "metadata": {},
   "source": [
    "## 23. Merge k Sorted Lists\n",
    "HARD  \n",
    "https://leetcode.com/problems/merge-k-sorted-lists/"
   ]
  },
  {
   "cell_type": "markdown",
   "metadata": {},
   "source": [
    "Given an array of linked-lists lists, each linked list is sorted in ascending order.\n",
    "\n",
    "Merge all the linked-lists into one sort linked-list and return it.\n",
    "\n",
    " \n",
    "\n",
    "**Example 1:**\n",
    "```\n",
    "Input: lists = [[1,4,5],[1,3,4],[2,6]]\n",
    "Output: [1,1,2,3,4,4,5,6]\n",
    "Explanation: The linked-lists are:\n",
    "[\n",
    "  1->4->5,\n",
    "  1->3->4,\n",
    "  2->6\n",
    "]\n",
    "merging them into one sorted list:\n",
    "1->1->2->3->4->4->5->6\n",
    "```\n",
    "**Example 2:**\n",
    "```\n",
    "Input: lists = []\n",
    "Output: []\n",
    "```\n",
    "**Example 3:**\n",
    "```\n",
    "Input: lists = [[]]\n",
    "Output: []\n",
    "```\n",
    "\n",
    "**Constraints:**\n",
    "\n",
    "* `k == lists.length`\n",
    "* `0 <= k <= 10^4`\n",
    "* `0 <= lists[i].length <= 500`\n",
    "* `-10^4 <= lists[i][j] <= 10^4`\n",
    "* `lists[i]` is sorted in **ascending order**.\n",
    "* The sum of `lists[i].length` won't exceed `10^4`."
   ]
  },
  {
   "cell_type": "markdown",
   "metadata": {},
   "source": [
    "**Study Notes:**\n",
    "* Input is actually just a list of listnodes, so list1 should only have 3 root nodes"
   ]
  },
  {
   "cell_type": "code",
   "execution_count": 45,
   "metadata": {},
   "outputs": [],
   "source": [
    "# Definition for singly-linked list.\n",
    "class ListNode:\n",
    "    def __init__(self, x):\n",
    "        self.val = x\n",
    "        self.next = None\n",
    "\n",
    "# lists1 = [[1,4,5],[1,3,4],[2,6]] \n",
    "node1 = ListNode(1)\n",
    "node2 = ListNode(4)\n",
    "node3 = ListNode(5)\n",
    "node4 = ListNode(1)\n",
    "node5 = ListNode(3)\n",
    "node6 = ListNode(4)\n",
    "node7 = ListNode(2)\n",
    "node8 = ListNode(6)\n",
    "node1.next = node2\n",
    "node2.next = node3\n",
    "node4.next = node5\n",
    "node5.next = node6\n",
    "node7.next = node8\n",
    "lists1 = [node1,node4,node7]"
   ]
  },
  {
   "cell_type": "code",
   "execution_count": 46,
   "metadata": {},
   "outputs": [],
   "source": [
    "from heapq import heappop, heappush\n",
    "class Solution:\n",
    "    def mergeKLists(self, lists: List[ListNode]) -> ListNode:\n",
    "        dummy = cur = ListNode(0)\n",
    "        q = []\n",
    "        count = 0\n",
    "        # add root nodes of each initial linked list to heap with count val to preserve insertion order\n",
    "        # count serves as tie-breaker for when two ListNodes have the same value!\n",
    "        for l in lists:\n",
    "            if l:\n",
    "                heapnode = (l.val,count,l)\n",
    "                heappush(q,heapnode)\n",
    "                count += 1\n",
    "        \n",
    "        while len(q)>0:\n",
    "            # pop the lowest value node & add to final list\n",
    "            heapnode = heappop(q)\n",
    "            cur.next = heapnode[2] # actual ListNode itself, initially curr = dummy node\n",
    "            cur = cur.next # point current node toward the next one\n",
    "            # add next value to heap\n",
    "            nextl = heapnode[2].next\n",
    "            if nextl:\n",
    "                heapnode = (nextl.val,count,nextl)\n",
    "                heappush(q,heapnode)\n",
    "                count +=1\n",
    "        return dummy.next"
   ]
  },
  {
   "cell_type": "code",
   "execution_count": 47,
   "metadata": {},
   "outputs": [],
   "source": [
    "soln = Solution()\n",
    "res = soln.mergeKLists(lists1)"
   ]
  },
  {
   "cell_type": "markdown",
   "metadata": {},
   "source": [
    "## 29. Divide Two Integers\n",
    "MEDIUM  \n",
    "https://leetcode.com/problems/divide-two-integers/"
   ]
  },
  {
   "cell_type": "markdown",
   "metadata": {},
   "source": [
    "Given two integers dividend and divisor, divide two integers without using multiplication, division and mod operator.\n",
    "\n",
    "Return the quotient after dividing dividend by divisor.\n",
    "\n",
    "The integer division should truncate toward zero, which means losing its fractional part. For example, truncate(8.345) = 8 and truncate(-2.7335) = -2.\n",
    "\n",
    "Example 1:\n",
    "\n",
    "Input: dividend = 10, divisor = 3\n",
    "Output: 3\n",
    "Explanation: 10/3 = truncate(3.33333..) = 3.\n",
    "Example 2:\n",
    "\n",
    "Input: dividend = 7, divisor = -3\n",
    "Output: -2\n",
    "Explanation: 7/-3 = truncate(-2.33333..) = -2.\n",
    "Note:\n",
    "\n",
    "Both dividend and divisor will be 32-bit signed integers.\n",
    "The divisor will never be 0.\n",
    "Assume we are dealing with an environment which could only store integers within the 32-bit signed integer range: [−231,  231 − 1]. For the purpose of this problem, assume that your function returns 231 − 1 when the division result overflows."
   ]
  },
  {
   "cell_type": "markdown",
   "metadata": {},
   "source": [
    "**Study Notes**:\n",
    "* bitwise python explanation: https://leetcode.com/problems/divide-two-integers/discuss/705092/Decent-Python3-code-mathematical-explanation"
   ]
  },
  {
   "cell_type": "code",
   "execution_count": 51,
   "metadata": {},
   "outputs": [],
   "source": [
    "dividend1, divisor1 = 10, 3"
   ]
  },
  {
   "cell_type": "code",
   "execution_count": 52,
   "metadata": {},
   "outputs": [],
   "source": [
    "class Solution:\n",
    "    def divide(self, dividend: int, divisor: int) -> int:\n",
    "        \n",
    "        return None"
   ]
  },
  {
   "cell_type": "code",
   "execution_count": 53,
   "metadata": {},
   "outputs": [],
   "source": [
    "soln = Solution()\n",
    "soln.divide(dividend1,divisor1)"
   ]
  },
  {
   "cell_type": "markdown",
   "metadata": {},
   "source": [
    "## 31. Next Permutation\n",
    "MEDIUM  \n",
    "https://leetcode.com/problems/next-permutation/"
   ]
  },
  {
   "cell_type": "markdown",
   "metadata": {},
   "source": [
    "Implement **next permutation**, which rearranges numbers into the lexicographically next greater permutation of numbers.\n",
    "\n",
    "If such arrangement is not possible, it must rearrange it as the lowest possible order (ie, sorted in ascending order).\n",
    "\n",
    "The replacement must be [in-place](http://en.wikipedia.org/wiki/In-place_algorithm) and use only constant extra memory.\n",
    "\n",
    "Here are some examples. Inputs are in the left-hand column and its corresponding outputs are in the right-hand column.\n",
    "```\n",
    "1,2,3 → 1,3,2\n",
    "3,2,1 → 1,2,3\n",
    "1,1,5 → 1,5,1\n",
    "```"
   ]
  },
  {
   "cell_type": "markdown",
   "metadata": {},
   "source": [
    "**Study Notes:**\n",
    "* solution: https://leetcode.com/problems/next-permutation/solution/\n",
    "* insights:\n",
    "    1. Largest permutation possible is simply the list **sorted in descending order**. Thus when you can't get the next largest permutation you can just reverse the list to get the lowest possible order.\n",
    "    2. The number to swap will be the right-most number that is **smaller** than the number to the right of it. Swap it with the smallest number to the right that is still greater than it.\n",
    "    3. The numbers to the right of this out-of-place number should be already sorted in descending order, so to make the permutation smallest just flip the order of this sequence."
   ]
  },
  {
   "cell_type": "code",
   "execution_count": 157,
   "metadata": {},
   "outputs": [],
   "source": [
    "nums1 = [1,5,8,4,7,6,5,3,1] # [1,5,8,4,7,6,5,3,1]\n",
    "nums2 = [1,5,1]\n",
    "nums3 = [5,4,3,2,1]\n",
    "nums4 = [9,8,7,4,4,4,3,2,1]"
   ]
  },
  {
   "cell_type": "code",
   "execution_count": 115,
   "metadata": {},
   "outputs": [],
   "source": [
    "# pseudocode\n",
    "# def nextPermutation(self, nums: List[int]) -> None:\n",
    "#     scan array from right to left until nums[i] > nums[i-1]\n",
    "#     find nums[j] that is just bigger than nums[i-1] and swap the two positions\n",
    "#     reverse sequence nums[i:]"
   ]
  },
  {
   "cell_type": "code",
   "execution_count": 179,
   "metadata": {},
   "outputs": [],
   "source": [
    "class Solution:\n",
    "    def nextPermutation(self, nums: List[int]) -> None:\n",
    "        \"\"\"\n",
    "        Do not return anything, modify nums in-place instead.\n",
    "        \"\"\"\n",
    "        # find position i-1 that needs to swap\n",
    "        i = len(nums)-1\n",
    "        while (i>0) and (nums[i] <= nums[i-1]):\n",
    "            i-=1\n",
    "        \n",
    "        # find position j to swap with i-1\n",
    "        if i > 0:\n",
    "            j = len(nums)-1\n",
    "            while (j > 0) and (nums[j] <= nums[i-1]):\n",
    "                j -= 1\n",
    "            # swap positions\n",
    "            nums[j], nums[i-1] = nums[i-1], nums[j]\n",
    "        # reverse rest of array\n",
    "        nums[i:] = nums[i:][::-1]"
   ]
  },
  {
   "cell_type": "code",
   "execution_count": 180,
   "metadata": {},
   "outputs": [],
   "source": [
    "test = nums4.copy()\n",
    "soln = Solution()\n",
    "soln.nextPermutation(test)"
   ]
  },
  {
   "cell_type": "markdown",
   "metadata": {},
   "source": [
    "## 43. Multiply Strings\n",
    "MEDIUM  \n",
    "https://leetcode.com/problems/multiply-strings/"
   ]
  },
  {
   "cell_type": "markdown",
   "metadata": {},
   "source": [
    "Given two non-negative integers `num1` and `num2` represented as strings, return the product of `num1` and `num2`, also represented as a string.\n",
    "\n",
    "**Example 1:**\n",
    "```\n",
    "Input: num1 = \"2\", num2 = \"3\"\n",
    "Output: \"6\"\n",
    "```\n",
    "**Example 2:**\n",
    "```\n",
    "Input: num1 = \"123\", num2 = \"456\"\n",
    "Output: \"56088\"\n",
    "```\n",
    "**Note:**\n",
    "\n",
    "* The length of both `num1` and `num2` is < 110.\n",
    "* Both `num1` and `num2` contain only digits `0-9`.\n",
    "* Both `num1` and `num2` do not contain any leading zero, except the number 0 itself.\n",
    "* You **must not use any built-in BigInteger library** or **convert the inputs to integer directly**."
   ]
  },
  {
   "cell_type": "code",
   "execution_count": 185,
   "metadata": {},
   "outputs": [],
   "source": [
    "num11,num12 = '2', '3'\n",
    "num21,num22 = '123', '456'"
   ]
  },
  {
   "cell_type": "code",
   "execution_count": 199,
   "metadata": {},
   "outputs": [],
   "source": [
    "class Solution:\n",
    "    def multiply(self, num1: str, num2: str) -> str:\n",
    "        int_num = 0\n",
    "        for i in num1:\n",
    "            int_num = int_num * 10\n",
    "            int_num += (ord(i) - ord('0'))\n",
    "\n",
    "        int_num2 = 0\n",
    "        for i in num2:\n",
    "            int_num2 = int_num2 * 10\n",
    "            int_num2 += (ord(i) - ord('0'))\n",
    "        return str(int_num * int_num2)"
   ]
  },
  {
   "cell_type": "code",
   "execution_count": 200,
   "metadata": {},
   "outputs": [
    {
     "data": {
      "text/plain": [
       "'56088'"
      ]
     },
     "execution_count": 200,
     "metadata": {},
     "output_type": "execute_result"
    }
   ],
   "source": [
    "soln = Solution()\n",
    "soln.multiply(num21,num22)"
   ]
  },
  {
   "cell_type": "markdown",
   "metadata": {},
   "source": [
    "## 50. Pow(x, n)\n",
    "MEDIUM  \n",
    "https://leetcode.com/problems/powx-n/"
   ]
  },
  {
   "cell_type": "markdown",
   "metadata": {},
   "source": [
    "Implement [pow(x, n)](http://www.cplusplus.com/reference/valarray/pow/), which calculates *x* raised to the power *n* ($x^n$).\n",
    "\n",
    "**Example 1:**\n",
    "```\n",
    "Input: 2.00000, 10\n",
    "Output: 1024.00000\n",
    "```\n",
    "**Example 2:**\n",
    "```\n",
    "Input: 2.10000, 3\n",
    "Output: 9.26100\n",
    "```\n",
    "**Example 3:**\n",
    "```\n",
    "Input: 2.00000, -2\n",
    "Output: 0.25000\n",
    "Explanation: 2-2 = 1/22 = 1/4 = 0.25\n",
    "```\n",
    "**Note:**\n",
    "\n",
    "* -100.0 < x < 100.0\n",
    "* *n* is a 32-bit signed integer, within the range [$−2^{31}$, $2^{31}$ − 1]"
   ]
  },
  {
   "cell_type": "code",
   "execution_count": 202,
   "metadata": {},
   "outputs": [],
   "source": [
    "x1,n1 = 2.00000, 10\n",
    "x2,n2 = 2.10000, 3\n",
    "x3,n3 = 2.00000, -2"
   ]
  },
  {
   "cell_type": "code",
   "execution_count": 225,
   "metadata": {},
   "outputs": [],
   "source": [
    "# naive looping solution\n",
    "class Solution:\n",
    "    def myPow(self, x: float, n: int) -> float:\n",
    "        res = 1\n",
    "        for i in range(abs(n)):\n",
    "            res *= x\n",
    "        return res if n>=0 else 1/res"
   ]
  },
  {
   "cell_type": "code",
   "execution_count": 231,
   "metadata": {},
   "outputs": [],
   "source": [
    "# recursion for log(n) speed\n",
    "class Solution:\n",
    "    def myPow(self, x: float, n: int) -> float:\n",
    "        def recurse(n):\n",
    "            ans = 1\n",
    "            if(n == 0):\n",
    "                return 1\n",
    "            if(n==1):\n",
    "                return x\n",
    "            if(n == 2):\n",
    "                return x * x\n",
    "            \n",
    "            if(n%2 == 0):\n",
    "                ans = recurse(n//2)\n",
    "                return ans * ans\n",
    "            if( n%2 == 1):\n",
    "                ans = recurse(n//2) * recurse((n//2) + 1)\n",
    "                return ans\n",
    "            \n",
    "        if( n < 0 ):\n",
    "            x = 1/x\n",
    "            n = -n\n",
    "        return recurse(n)"
   ]
  },
  {
   "cell_type": "code",
   "execution_count": 232,
   "metadata": {},
   "outputs": [
    {
     "data": {
      "text/plain": [
       "1"
      ]
     },
     "execution_count": 232,
     "metadata": {},
     "output_type": "execute_result"
    }
   ],
   "source": [
    "soln = Solution()\n",
    "soln.myPow(5,0)"
   ]
  },
  {
   "cell_type": "markdown",
   "metadata": {},
   "source": [
    "### 56. Merge Intervals\n",
    "https://leetcode.com/problems/merge-intervals/"
   ]
  },
  {
   "cell_type": "markdown",
   "metadata": {},
   "source": [
    "Given a collection of intervals, merge all overlapping intervals.\n",
    "\n",
    "**Example 1:**\n",
    "```\n",
    "Input: [[1,3],[2,6],[8,10],[15,18]]\n",
    "Output: [[1,6],[8,10],[15,18]]\n",
    "Explanation: Since intervals [1,3] and [2,6] overlaps, merge them into [1,6].\n",
    "```\n",
    "**Example 2:**\n",
    "```\n",
    "Input: [[1,4],[4,5]]\n",
    "Output: [[1,5]]\n",
    "Explanation: Intervals [1,4] and [4,5] are considered overlapping.\n",
    "```\n",
    "**NOTE:** input types have been changed on April 15, 2019. Please reset to default code definition to get new method signature."
   ]
  },
  {
   "cell_type": "markdown",
   "metadata": {},
   "source": [
    "**Study Notes:**\n",
    "* Facebook followup: https://leetcode.com/problems/merge-intervals/discuss/355318/Fully-Explained-and-Clean-Interval-Tree-for-Facebook-Follow-Up-No-Sorting"
   ]
  },
  {
   "cell_type": "code",
   "execution_count": 234,
   "metadata": {},
   "outputs": [],
   "source": [
    "intervals1 = [[1,3],[2,6],[8,10],[15,18]]\n",
    "intervals2 = [[1,4],[4,5]]\n",
    "intervals3 = [[1,4],[0,4]]\n",
    "intervals4 = [[1,4],[0,0]]"
   ]
  },
  {
   "cell_type": "code",
   "execution_count": 236,
   "metadata": {},
   "outputs": [],
   "source": [
    "# assumes sorted already\n",
    "class Solution:\n",
    "    def merge(self, intervals: List[List[int]]) -> List[List[int]]:\n",
    "        result = []\n",
    "        for i in intervals:\n",
    "            if result and i[0] <= result[-1][1]:\n",
    "                result[-1][1] = max(i[1],result[-1][1])\n",
    "                result[-1][0] = min(i[0],result[-1][0])\n",
    "            else:\n",
    "                result.append(i)\n",
    "        return result"
   ]
  },
  {
   "cell_type": "code",
   "execution_count": null,
   "metadata": {},
   "outputs": [],
   "source": [
    "class Solution:\n",
    "    def merge(self, intervals: List[List[int]]) -> List[List[int]]:\n",
    "        result = []\n",
    "        intervals = sorted(intervals, key=lambda x: x[0])\n",
    "        for i in intervals:\n",
    "            if result and i[0] <= result[-1][1]:\n",
    "                result[-1][1] = max(i[1],result[-1][1])\n",
    "                result[-1][0] = min(i[0],result[-1][0])\n",
    "            else:\n",
    "                result.append(i)\n",
    "        return result"
   ]
  },
  {
   "cell_type": "code",
   "execution_count": 238,
   "metadata": {},
   "outputs": [
    {
     "data": {
      "text/plain": [
       "[[0, 4]]"
      ]
     },
     "execution_count": 238,
     "metadata": {},
     "output_type": "execute_result"
    }
   ],
   "source": [
    "soln = Solution()\n",
    "soln.merge(intervals4)"
   ]
  },
  {
   "cell_type": "markdown",
   "metadata": {},
   "source": [
    "## 65. Valid Number\n",
    "HARD  \n",
    "https://leetcode.com/problems/valid-number/"
   ]
  },
  {
   "cell_type": "markdown",
   "metadata": {},
   "source": [
    "Validate if a given string can be interpreted as a decimal number.\n",
    "\n",
    "Some examples:  \n",
    "`\"0\"` => `true`  \n",
    "`\" 0.1 \"` => `true`  \n",
    "`\"abc\"` => `false`  \n",
    "`\"1 a\"` => `false`  \n",
    "`\"2e10\"` => `true`  \n",
    "`\" -90e3   \"` => `true`  \n",
    "`\" 1e\"` => `false`  \n",
    "`\"e3\"` => `false`  \n",
    "`\" 6e-1\"` => `true`  \n",
    "`\" 99e2.5 \"` => `false`  \n",
    "`\"53.5e93\"` => `true`  \n",
    "`\" --6 \"` => `false`  \n",
    "`\"-+3\"` => `false`  \n",
    "`\"95a54e53\"` => `false`  \n",
    "\n",
    "**Note:** It is intended for the problem statement to be ambiguous. You should gather all requirements up front before implementing one. However, here is a list of characters that can be in a valid decimal number:\n",
    "\n",
    "* Numbers 0-9\n",
    "* Exponent - \"e\"\n",
    "* Positive/negative sign - \"+\"/\"-\"\n",
    "* Decimal point - \".\"\n",
    "* Of course, the context of these characters also matters in the input.\n",
    "\n",
    "**Update (2015-02-10):**\n",
    "The signature of the `C++` function had been updated. If you still see your function signature accepts a `const char *` argument, please click the reload button to reset your code definition."
   ]
  },
  {
   "cell_type": "code",
   "execution_count": 284,
   "metadata": {},
   "outputs": [],
   "source": [
    "s1 = \"0\"\n",
    "s2 = \" -90e3   \"\n",
    "s3 = \" --6 \"\n",
    "s4 = \"-+3\"\n",
    "s5 = \"95a54e53\"\n",
    "s6 = \"+4\"\n",
    "s7 = \" 6e-1\""
   ]
  },
  {
   "cell_type": "code",
   "execution_count": 251,
   "metadata": {},
   "outputs": [],
   "source": [
    "# completely trivial solution\n",
    "class Solution:\n",
    "    def isNumber(self, s: str) -> bool:\n",
    "        try:\n",
    "            float(s)\n",
    "            return True\n",
    "        except:\n",
    "            return False"
   ]
  },
  {
   "cell_type": "code",
   "execution_count": 320,
   "metadata": {},
   "outputs": [],
   "source": [
    "class Solution:\n",
    "    def isNumber(self, s: str) -> bool:\n",
    "        num, exp = s.strip(), '1'\n",
    "        \n",
    "        # split string on 'e' into exactly two parts and return False if fails\n",
    "        if 'e' in num:\n",
    "            try:\n",
    "                num, exp = num.split('e')\n",
    "            except:\n",
    "                return False\n",
    "        \n",
    "        # strip leading sign if present\n",
    "        if num and (num[0] in '+-'):\n",
    "            num = num[1:]\n",
    "        if exp and (exp[0] in '+-'):\n",
    "            exp = exp[1:]\n",
    "        \n",
    "        # check if parts are invalid numbers\n",
    "        # 1. nume and exp are non-empty strings\n",
    "        # 2. num has more than one decimal\n",
    "        # 3. num is just a decimal point\n",
    "#         if not (num and exp) or num.count('.') > 1 or num == '.':\n",
    "        if (num == '') or (exp=='') or num.count('.') > 1 or num == '.':\n",
    "            return False\n",
    "\n",
    "        return all(part.isnumeric() for part in num.split('.') + [exp] if part)"
   ]
  },
  {
   "cell_type": "code",
   "execution_count": 322,
   "metadata": {},
   "outputs": [
    {
     "data": {
      "text/plain": [
       "False"
      ]
     },
     "execution_count": 322,
     "metadata": {},
     "output_type": "execute_result"
    }
   ],
   "source": [
    "soln = Solution()\n",
    "soln.isNumber('e')"
   ]
  },
  {
   "cell_type": "markdown",
   "metadata": {},
   "source": [
    "## 88. Merge Sorted Array\n",
    "EASY  \n",
    "https://leetcode.com/problems/merge-sorted-array/"
   ]
  },
  {
   "cell_type": "markdown",
   "metadata": {},
   "source": [
    "Given two sorted integer arrays *nums1* and *nums2*, merge *nums2* into *nums1* as one sorted array.\n",
    "\n",
    "**Note:**\n",
    "\n",
    "* The number of elements initialized in *nums1* and *nums2* are *m* and *n* respectively.\n",
    "* You may assume that *nums1* has enough space (size that is equal to *m + n*) to hold additional elements from *nums2*.\n",
    "\n",
    "**Example:**\n",
    "```\n",
    "Input:\n",
    "nums1 = [1,2,3,0,0,0], m = 3\n",
    "nums2 = [2,5,6],       n = 3\n",
    "\n",
    "Output: [1,2,2,3,5,6]\n",
    "```\n",
    "\n",
    "**Constraints:**\n",
    "\n",
    "* `-10^9 <= nums1[i], nums2[i] <= 10^9`\n",
    "* `nums1.length == m + n`\n",
    "* `nums2.length == n`"
   ]
  },
  {
   "cell_type": "code",
   "execution_count": 67,
   "metadata": {},
   "outputs": [],
   "source": [
    "nums11,m1,nums12,n1 = [1,2,3,0,0,0], 3, [2,5,6], 3"
   ]
  },
  {
   "cell_type": "code",
   "execution_count": 53,
   "metadata": {},
   "outputs": [],
   "source": [
    "# using sort cheese strats\n",
    "class Solution:\n",
    "    def merge(self, nums1: List[int], m: int, nums2: List[int], n: int) -> None:\n",
    "        \"\"\"\n",
    "        Do not return anything, modify nums1 in-place instead.\n",
    "        \"\"\"\n",
    "        nums1[m:] = nums2\n",
    "        nums1.sort()"
   ]
  },
  {
   "cell_type": "code",
   "execution_count": 68,
   "metadata": {},
   "outputs": [],
   "source": [
    "class Solution:\n",
    "    def merge(self, nums1: List[int], m: int, nums2: List[int], n: int) -> None:\n",
    "        mi,ni = 0,0\n",
    "        while (mi+ni)<m and (ni<n):\n",
    "            n1 = nums1[mi]\n",
    "            n2 = nums2[ni]\n",
    "            if n1<=n2:\n",
    "                mi += 1\n",
    "            elif n2 < n1:\n",
    "                print('inserting:', n2, 'at position:', mi, 'removing:',nums1[mi])\n",
    "                nums1.pop(mi)\n",
    "                nums1.insert(mi,n2)\n",
    "                ni += 1\n",
    "                \n",
    "        while ni<n:\n",
    "            nums1[mi+ni] = nums2[ni]\n",
    "            ni+= 1"
   ]
  },
  {
   "cell_type": "code",
   "execution_count": 46,
   "metadata": {},
   "outputs": [],
   "source": [
    "# two pointers using custom written insert function\n",
    "class Solution:\n",
    "    def merge(self, nums1: List[int], m: int, nums2: List[int], n: int) -> None:\n",
    "        \"\"\"\n",
    "        Do not return anything, modify nums1 in-place instead.\n",
    "        \"\"\"\n",
    "        def numsinsert(nums,i,val):\n",
    "            tmp = nums[i]\n",
    "            while i< len(nums):\n",
    "                nums[i], tmp = tmp, nums[i]\n",
    "                i += 1\n",
    "        \n",
    "        mi,ni = 0,0\n",
    "        while (mi<m) and (ni<n):\n",
    "            n1 = nums1[mi]\n",
    "            n2 = nums2[ni]\n",
    "            if n1<=n2:\n",
    "                mi += 1\n",
    "                n1 = nums1[mi]\n",
    "            elif n2 < n1:\n",
    "                numsinsert(nums1,mi,n2)\n",
    "                ni += 1\n",
    "        \n",
    "        while ni<n:\n",
    "            nums1[mi+ni] = nums2[ni]\n",
    "            ni+= 1\n",
    "            "
   ]
  },
  {
   "cell_type": "code",
   "execution_count": 69,
   "metadata": {},
   "outputs": [
    {
     "name": "stdout",
     "output_type": "stream",
     "text": [
      "inserting: 2 at position: 2 removing: 3\n"
     ]
    }
   ],
   "source": [
    "soln = Solution()\n",
    "soln.merge(nums11,m1,nums12,n1)"
   ]
  },
  {
   "cell_type": "code",
   "execution_count": 70,
   "metadata": {},
   "outputs": [
    {
     "data": {
      "text/plain": [
       "[1, 2, 2, 5, 6, 0]"
      ]
     },
     "execution_count": 70,
     "metadata": {},
     "output_type": "execute_result"
    }
   ],
   "source": [
    "nums11"
   ]
  },
  {
   "cell_type": "code",
   "execution_count": null,
   "metadata": {},
   "outputs": [],
   "source": []
  },
  {
   "cell_type": "code",
   "execution_count": 1,
   "metadata": {},
   "outputs": [],
   "source": [
    "ts = \"Hi my name is Bob\""
   ]
  },
  {
   "cell_type": "code",
   "execution_count": 3,
   "metadata": {},
   "outputs": [],
   "source": [
    "words = ts.split()"
   ]
  },
  {
   "cell_type": "code",
   "execution_count": 6,
   "metadata": {},
   "outputs": [
    {
     "data": {
      "text/plain": [
       "2.6"
      ]
     },
     "execution_count": 6,
     "metadata": {},
     "output_type": "execute_result"
    }
   ],
   "source": [
    "sum(len(word) for word in words)/len(words)"
   ]
  },
  {
   "cell_type": "code",
   "execution_count": 15,
   "metadata": {},
   "outputs": [
    {
     "data": {
      "text/plain": [
       "2.6"
      ]
     },
     "execution_count": 15,
     "metadata": {},
     "output_type": "execute_result"
    }
   ],
   "source": [
    "tmp = [len(word) for word in words]\n",
    "sum(tmp)/len(tmp)"
   ]
  },
  {
   "cell_type": "code",
   "execution_count": 19,
   "metadata": {},
   "outputs": [],
   "source": [
    "lst=[['D'],['A','B'],['A','C'],['C','A']]"
   ]
  },
  {
   "cell_type": "code",
   "execution_count": 34,
   "metadata": {},
   "outputs": [],
   "source": [
    "def follower(lst):\n",
    "    counts = {}\n",
    "    for l in lst:\n",
    "        for c in l:\n",
    "            if c in counts:\n",
    "                counts[c] += 1\n",
    "            else:\n",
    "                counts[c] = 0\n",
    "    return counts"
   ]
  },
  {
   "cell_type": "code",
   "execution_count": 35,
   "metadata": {},
   "outputs": [
    {
     "data": {
      "text/plain": [
       "{'D': 0, 'A': 2, 'B': 0, 'C': 1}"
      ]
     },
     "execution_count": 35,
     "metadata": {},
     "output_type": "execute_result"
    }
   ],
   "source": [
    "follower(lst)"
   ]
  },
  {
   "cell_type": "code",
   "execution_count": 54,
   "metadata": {},
   "outputs": [
    {
     "name": "stdout",
     "output_type": "stream",
     "text": [
      "False\n"
     ]
    }
   ],
   "source": [
    "def validate(ip):\n",
    "#     valid_digit=set('0123456789')\n",
    "    # check for correct number of dots\n",
    "    try:\n",
    "        nums = ip.split('.')\n",
    "    except:\n",
    "        return False\n",
    "    if len(nums) != 4:\n",
    "        return False\n",
    "    \n",
    "    for n in nums:\n",
    "        if not n.isdigit():\n",
    "            return False\n",
    "        i=int(n)\n",
    "        if i < 0 or i> 255:\n",
    "            return False\n",
    "    return True\n",
    "print(validate('1.255.0c.4.1'))"
   ]
  },
  {
   "cell_type": "code",
   "execution_count": 41,
   "metadata": {},
   "outputs": [
    {
     "data": {
      "text/plain": [
       "True"
      ]
     },
     "execution_count": 41,
     "metadata": {},
     "output_type": "execute_result"
    }
   ],
   "source": [
    "'0462'.isdigit()"
   ]
  },
  {
   "cell_type": "code",
   "execution_count": 57,
   "metadata": {},
   "outputs": [
    {
     "data": {
      "text/plain": [
       "4"
      ]
     },
     "execution_count": 57,
     "metadata": {},
     "output_type": "execute_result"
    }
   ],
   "source": [
    "str1 = 'how much wood would a woodchuck chuck if a woodchuck could chuck wood'\n",
    "str1.count('wood')"
   ]
  },
  {
   "cell_type": "code",
   "execution_count": 68,
   "metadata": {},
   "outputs": [],
   "source": [
    "def count_substr(s,word):\n",
    "    count = 0\n",
    "    for i in range(len(s)-len(word)+1):\n",
    "        if s[i:i+len(word)]==word:\n",
    "            count += 1\n",
    "    return count"
   ]
  },
  {
   "cell_type": "code",
   "execution_count": 69,
   "metadata": {},
   "outputs": [
    {
     "data": {
      "text/plain": [
       "4"
      ]
     },
     "execution_count": 69,
     "metadata": {},
     "output_type": "execute_result"
    }
   ],
   "source": [
    "count_substr(str1,'wood')"
   ]
  },
  {
   "cell_type": "code",
   "execution_count": 45,
   "metadata": {},
   "outputs": [
    {
     "data": {
      "text/plain": [
       "1"
      ]
     },
     "execution_count": 45,
     "metadata": {},
     "output_type": "execute_result"
    }
   ],
   "source": []
  },
  {
   "cell_type": "code",
   "execution_count": 59,
   "metadata": {},
   "outputs": [
    {
     "data": {
      "text/plain": [
       "65"
      ]
     },
     "execution_count": 59,
     "metadata": {},
     "output_type": "execute_result"
    }
   ],
   "source": [
    "len(str1)-len('wood')"
   ]
  },
  {
   "cell_type": "code",
   "execution_count": 62,
   "metadata": {},
   "outputs": [
    {
     "data": {
      "text/plain": [
       "'wood'"
      ]
     },
     "execution_count": 62,
     "metadata": {},
     "output_type": "execute_result"
    }
   ],
   "source": [
    "str1[65:65+len('wood')]"
   ]
  },
  {
   "cell_type": "code",
   "execution_count": 73,
   "metadata": {},
   "outputs": [
    {
     "data": {
      "text/plain": [
       "['woh',\n",
       " 'hcum',\n",
       " 'doow',\n",
       " 'dluow',\n",
       " 'a',\n",
       " 'kcuhcdoow',\n",
       " 'kcuhc',\n",
       " 'fi',\n",
       " 'a',\n",
       " 'kcuhcdoow',\n",
       " 'dluoc',\n",
       " 'kcuhc',\n",
       " 'doow']"
      ]
     },
     "execution_count": 73,
     "metadata": {},
     "output_type": "execute_result"
    }
   ],
   "source": [
    "[w[::-1] for w in str1.split()]"
   ]
  },
  {
   "cell_type": "code",
   "execution_count": 2,
   "metadata": {},
   "outputs": [
    {
     "data": {
      "text/plain": [
       "True"
      ]
     },
     "execution_count": 2,
     "metadata": {},
     "output_type": "execute_result"
    }
   ],
   "source": [
    "not {}"
   ]
  },
  {
   "cell_type": "code",
   "execution_count": 40,
   "metadata": {},
   "outputs": [],
   "source": [
    "def return_key(input_dict,n):\n",
    "    if not input_dict:\n",
    "        return None\n",
    "    if n == 0:\n",
    "        return None\n",
    "    dct2 = {}\n",
    "    for k,v in input_dict.items():\n",
    "        if v in dct2:\n",
    "            dct2[v].append(k)\n",
    "        else:\n",
    "            dct2[v] = [k]\n",
    "    \n",
    "    lst = dct2.items()\n",
    "    lst = sorted(lst, key=lambda x: x[0], reverse=True)\n",
    "    \n",
    "    if n>len(lst) or n<1:\n",
    "        return None\n",
    "    \n",
    "    cand = lst[n-1][1]\n",
    "    cand = sorted(cand)\n",
    "    return cand[0]"
   ]
  },
  {
   "cell_type": "code",
   "execution_count": 41,
   "metadata": {},
   "outputs": [
    {
     "data": {
      "text/plain": [
       "'laptop'"
      ]
     },
     "execution_count": 41,
     "metadata": {},
     "output_type": "execute_result"
    }
   ],
   "source": [
    "return_key({\"laptop\": 999,\"smartphone\": 999,\"smart tv\": 500,\"smart watch\": 300,\"smart home\": 9999999},2)"
   ]
  },
  {
   "cell_type": "code",
   "execution_count": 42,
   "metadata": {},
   "outputs": [
    {
     "name": "stdout",
     "output_type": "stream",
     "text": [
      "passed\n"
     ]
    }
   ],
   "source": [
    "assert return_key({},1) == None\n",
    "assert return_key({\"a\": 10,\"b\": 20},0) == None\n",
    "assert return_key({\"a\": 1,\"b\": 2,\"c\": 3,\"d\": 4,\"e\": 5},6) == None\n",
    "assert return_key({\"a\": 10,\"b\": 20,\"c\": 3,\"d\": 2,\"e\": 9},1) == 'b'\n",
    "assert return_key({\"laptop\": 999,\"smartphone\": 999,\"smart tv\": 500,\"smart watch\": 300,\"smart home\": 9999999},2) == 'laptop'\n",
    "print('passed')"
   ]
  },
  {
   "cell_type": "code",
   "execution_count": null,
   "metadata": {},
   "outputs": [],
   "source": []
  }
 ],
 "metadata": {
  "kernelspec": {
   "display_name": "base (Python 3.7.7)",
   "language": "python",
   "name": "base"
  },
  "language_info": {
   "codemirror_mode": {
    "name": "ipython",
    "version": 3
   },
   "file_extension": ".py",
   "mimetype": "text/x-python",
   "name": "python",
   "nbconvert_exporter": "python",
   "pygments_lexer": "ipython3",
   "version": "3.7.7"
  }
 },
 "nbformat": 4,
 "nbformat_minor": 4
}
