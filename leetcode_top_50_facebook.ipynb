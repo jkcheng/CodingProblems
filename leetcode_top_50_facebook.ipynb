{
 "cells": [
  {
   "cell_type": "code",
   "execution_count": 296,
   "metadata": {},
   "outputs": [],
   "source": [
    "from typing import List"
   ]
  },
  {
   "cell_type": "markdown",
   "metadata": {},
   "source": [
    "## 23. Merge k Sorted Lists\n",
    "HARD  \n",
    "https://leetcode.com/problems/merge-k-sorted-lists/"
   ]
  },
  {
   "cell_type": "markdown",
   "metadata": {},
   "source": [
    "Given an array of linked-lists lists, each linked list is sorted in ascending order.\n",
    "\n",
    "Merge all the linked-lists into one sort linked-list and return it.\n",
    "\n",
    " \n",
    "\n",
    "**Example 1:**\n",
    "```\n",
    "Input: lists = [[1,4,5],[1,3,4],[2,6]]\n",
    "Output: [1,1,2,3,4,4,5,6]\n",
    "Explanation: The linked-lists are:\n",
    "[\n",
    "  1->4->5,\n",
    "  1->3->4,\n",
    "  2->6\n",
    "]\n",
    "merging them into one sorted list:\n",
    "1->1->2->3->4->4->5->6\n",
    "```\n",
    "**Example 2:**\n",
    "```\n",
    "Input: lists = []\n",
    "Output: []\n",
    "```\n",
    "**Example 3:**\n",
    "```\n",
    "Input: lists = [[]]\n",
    "Output: []\n",
    "```\n",
    "\n",
    "**Constraints:**\n",
    "\n",
    "* `k == lists.length`\n",
    "* `0 <= k <= 10^4`\n",
    "* `0 <= lists[i].length <= 500`\n",
    "* `-10^4 <= lists[i][j] <= 10^4`\n",
    "* `lists[i]` is sorted in **ascending order**.\n",
    "* The sum of `lists[i].length` won't exceed `10^4`."
   ]
  },
  {
   "cell_type": "markdown",
   "metadata": {},
   "source": [
    "**Study Notes:**\n",
    "* Input is actually just a list of listnodes, so list1 should only have 3 root nodes"
   ]
  },
  {
   "cell_type": "code",
   "execution_count": 45,
   "metadata": {},
   "outputs": [],
   "source": [
    "# Definition for singly-linked list.\n",
    "class ListNode:\n",
    "    def __init__(self, x):\n",
    "        self.val = x\n",
    "        self.next = None\n",
    "\n",
    "# lists1 = [[1,4,5],[1,3,4],[2,6]] \n",
    "node1 = ListNode(1)\n",
    "node2 = ListNode(4)\n",
    "node3 = ListNode(5)\n",
    "node4 = ListNode(1)\n",
    "node5 = ListNode(3)\n",
    "node6 = ListNode(4)\n",
    "node7 = ListNode(2)\n",
    "node8 = ListNode(6)\n",
    "node1.next = node2\n",
    "node2.next = node3\n",
    "node4.next = node5\n",
    "node5.next = node6\n",
    "node7.next = node8\n",
    "lists1 = [node1,node4,node7]"
   ]
  },
  {
   "cell_type": "code",
   "execution_count": 46,
   "metadata": {},
   "outputs": [],
   "source": [
    "from heapq import heappop, heappush\n",
    "class Solution:\n",
    "    def mergeKLists(self, lists: List[ListNode]) -> ListNode:\n",
    "        dummy = cur = ListNode(0)\n",
    "        q = []\n",
    "        count = 0\n",
    "        # add root nodes of each initial linked list to heap with count val to preserve insertion order\n",
    "        # count serves as tie-breaker for when two ListNodes have the same value!\n",
    "        for l in lists:\n",
    "            if l:\n",
    "                heapnode = (l.val,count,l)\n",
    "                heappush(q,heapnode)\n",
    "                count += 1\n",
    "        \n",
    "        while len(q)>0:\n",
    "            # pop the lowest value node & add to final list\n",
    "            heapnode = heappop(q)\n",
    "            cur.next = heapnode[2] # actual ListNode itself, initially curr = dummy node\n",
    "            cur = cur.next # point current node toward the next one\n",
    "            # add next value to heap\n",
    "            nextl = heapnode[2].next\n",
    "            if nextl:\n",
    "                heapnode = (nextl.val,count,nextl)\n",
    "                heappush(q,heapnode)\n",
    "                count +=1\n",
    "        return dummy.next"
   ]
  },
  {
   "cell_type": "code",
   "execution_count": 47,
   "metadata": {},
   "outputs": [],
   "source": [
    "soln = Solution()\n",
    "res = soln.mergeKLists(lists1)"
   ]
  },
  {
   "cell_type": "markdown",
   "metadata": {},
   "source": [
    "## 29. Divide Two Integers\n",
    "MEDIUM  \n",
    "https://leetcode.com/problems/divide-two-integers/"
   ]
  },
  {
   "cell_type": "markdown",
   "metadata": {},
   "source": [
    "Given two integers dividend and divisor, divide two integers without using multiplication, division and mod operator.\n",
    "\n",
    "Return the quotient after dividing dividend by divisor.\n",
    "\n",
    "The integer division should truncate toward zero, which means losing its fractional part. For example, truncate(8.345) = 8 and truncate(-2.7335) = -2.\n",
    "\n",
    "**Example 1:**\n",
    "```\n",
    "Input: dividend = 10, divisor = 3\n",
    "Output: 3\n",
    "Explanation: 10/3 = truncate(3.33333..) = 3.\n",
    "```\n",
    "**Example 2:**\n",
    "```\n",
    "Input: dividend = 7, divisor = -3\n",
    "Output: -2\n",
    "Explanation: 7/-3 = truncate(-2.33333..) = -2.\n",
    "```\n",
    "**Note:**\n",
    "\n",
    "* Both dividend and divisor will be 32-bit signed integers.\n",
    "* The divisor will never be 0.\n",
    "* Assume we are dealing with an environment which could only store integers within the 32-bit signed integer range: [−231,  231 − 1]. **For the purpose of this problem, assume that your function returns 231 − 1 when the division result overflows.**"
   ]
  },
  {
   "cell_type": "markdown",
   "metadata": {},
   "source": [
    "**Study Notes**:\n",
    "* bitwise python explanation: https://leetcode.com/problems/divide-two-integers/discuss/705092/Decent-Python3-code-mathematical-explanation"
   ]
  },
  {
   "cell_type": "code",
   "execution_count": 51,
   "metadata": {},
   "outputs": [],
   "source": [
    "dividend1, divisor1 = 10, 3"
   ]
  },
  {
   "cell_type": "code",
   "execution_count": 52,
   "metadata": {},
   "outputs": [],
   "source": [
    "class Solution:\n",
    "    def divide(self, dividend: int, divisor: int) -> int:\n",
    "        \n",
    "        return None"
   ]
  },
  {
   "cell_type": "code",
   "execution_count": 53,
   "metadata": {},
   "outputs": [],
   "source": [
    "soln = Solution()\n",
    "soln.divide(dividend1,divisor1)"
   ]
  },
  {
   "cell_type": "markdown",
   "metadata": {},
   "source": [
    "## 31. Next Permutation\n",
    "MEDIUM  \n",
    "https://leetcode.com/problems/next-permutation/"
   ]
  },
  {
   "cell_type": "markdown",
   "metadata": {},
   "source": [
    "Implement **next permutation**, which rearranges numbers into the lexicographically next greater permutation of numbers.\n",
    "\n",
    "If such arrangement is not possible, it must rearrange it as the lowest possible order (ie, sorted in ascending order).\n",
    "\n",
    "The replacement must be [in-place](http://en.wikipedia.org/wiki/In-place_algorithm) and use only constant extra memory.\n",
    "\n",
    "Here are some examples. Inputs are in the left-hand column and its corresponding outputs are in the right-hand column.\n",
    "```\n",
    "1,2,3 → 1,3,2\n",
    "3,2,1 → 1,2,3\n",
    "1,1,5 → 1,5,1\n",
    "```"
   ]
  },
  {
   "cell_type": "markdown",
   "metadata": {},
   "source": [
    "**Study Notes:**\n",
    "* solution: https://leetcode.com/problems/next-permutation/solution/\n",
    "* insights:\n",
    "    1. Largest permutation possible is simply the list **sorted in descending order**. Thus when you can't get the next largest permutation you can just reverse the list to get the lowest possible order.\n",
    "    2. The number to swap will be the right-most number that is **smaller** than the number to the right of it. Swap it with the smallest number to the right that is still greater than it.\n",
    "    3. The numbers to the right of this out-of-place number should be already sorted in descending order, so to make the permutation smallest just flip the order of this sequence."
   ]
  },
  {
   "cell_type": "code",
   "execution_count": 157,
   "metadata": {},
   "outputs": [],
   "source": [
    "nums1 = [1,5,8,4,7,6,5,3,1] # [1,5,8,4,7,6,5,3,1]\n",
    "nums2 = [1,5,1]\n",
    "nums3 = [5,4,3,2,1]\n",
    "nums4 = [9,8,7,4,4,4,3,2,1]"
   ]
  },
  {
   "cell_type": "code",
   "execution_count": 115,
   "metadata": {},
   "outputs": [],
   "source": [
    "# pseudocode\n",
    "# def nextPermutation(self, nums: List[int]) -> None:\n",
    "#     scan array from right to left until nums[i] > nums[i-1]\n",
    "#     find nums[j] that is just bigger than nums[i-1] and swap the two positions\n",
    "#     reverse sequence nums[i:]"
   ]
  },
  {
   "cell_type": "code",
   "execution_count": 179,
   "metadata": {},
   "outputs": [],
   "source": [
    "class Solution:\n",
    "    def nextPermutation(self, nums: List[int]) -> None:\n",
    "        \"\"\"\n",
    "        Do not return anything, modify nums in-place instead.\n",
    "        \"\"\"\n",
    "        # find position i-1 that needs to swap\n",
    "        i = len(nums)-1\n",
    "        while (i>0) and (nums[i] <= nums[i-1]):\n",
    "            i-=1\n",
    "        \n",
    "        # find position j to swap with i-1\n",
    "        if i > 0:\n",
    "            j = len(nums)-1\n",
    "            while (j > 0) and (nums[j] <= nums[i-1]):\n",
    "                j -= 1\n",
    "            # swap positions\n",
    "            nums[j], nums[i-1] = nums[i-1], nums[j]\n",
    "        # reverse rest of array\n",
    "        nums[i:] = nums[i:][::-1]"
   ]
  },
  {
   "cell_type": "code",
   "execution_count": 180,
   "metadata": {},
   "outputs": [],
   "source": [
    "test = nums4.copy()\n",
    "soln = Solution()\n",
    "soln.nextPermutation(test)"
   ]
  },
  {
   "cell_type": "markdown",
   "metadata": {},
   "source": [
    "## 43. Multiply Strings\n",
    "MEDIUM  \n",
    "https://leetcode.com/problems/multiply-strings/"
   ]
  },
  {
   "cell_type": "markdown",
   "metadata": {},
   "source": [
    "Given two non-negative integers `num1` and `num2` represented as strings, return the product of `num1` and `num2`, also represented as a string.\n",
    "\n",
    "**Example 1:**\n",
    "```\n",
    "Input: num1 = \"2\", num2 = \"3\"\n",
    "Output: \"6\"\n",
    "```\n",
    "**Example 2:**\n",
    "```\n",
    "Input: num1 = \"123\", num2 = \"456\"\n",
    "Output: \"56088\"\n",
    "```\n",
    "**Note:**\n",
    "\n",
    "* The length of both `num1` and `num2` is < 110.\n",
    "* Both `num1` and `num2` contain only digits `0-9`.\n",
    "* Both `num1` and `num2` do not contain any leading zero, except the number 0 itself.\n",
    "* You **must not use any built-in BigInteger library** or **convert the inputs to integer directly**."
   ]
  },
  {
   "cell_type": "markdown",
   "metadata": {},
   "source": [
    "**Study Notes:**\n",
    "* solution 2: [https://leetcode.com/problems/multiply-strings/discuss/17726/One-digit-at-a-time](https://leetcode.com/problems/multiply-strings/discuss/17726/One-digit-at-a-time)\n",
    "* arithemtic solution: [https://www.geeksforgeeks.org/multiply-large-numbers-represented-as-strings/](https://www.geeksforgeeks.org/multiply-large-numbers-represented-as-strings/)"
   ]
  },
  {
   "cell_type": "code",
   "execution_count": 2,
   "metadata": {},
   "outputs": [],
   "source": [
    "num11,num12 = '2', '3'\n",
    "num21,num22 = '123', '456'"
   ]
  },
  {
   "cell_type": "code",
   "execution_count": 199,
   "metadata": {},
   "outputs": [],
   "source": [
    "class Solution:\n",
    "    def multiply(self, num1: str, num2: str) -> str:\n",
    "        int_num = 0\n",
    "        for i in num1:\n",
    "            int_num = int_num * 10\n",
    "            int_num += (ord(i) - ord('0'))\n",
    "\n",
    "        int_num2 = 0\n",
    "        for i in num2:\n",
    "            int_num2 = int_num2 * 10\n",
    "            int_num2 += (ord(i) - ord('0'))\n",
    "        return str(int_num * int_num2)"
   ]
  },
  {
   "cell_type": "code",
   "execution_count": 21,
   "metadata": {},
   "outputs": [],
   "source": [
    "# alternate solution\n",
    "#Input:  [1,2,4,5]\n",
    "#Output: [1000, 200, 40, 5]\n",
    "def splitNum(num):           \n",
    "    num = [int(d) for d in str(num)]\n",
    "    pow = len(num)-1\n",
    "    res = []\n",
    "    for n in num:\n",
    "        res.append(n*10**pow)\n",
    "        pow -= 1                \n",
    "    return res\n",
    "        \n",
    "class Solution:\n",
    "    def multiply(self, num1: str, num2: str) -> str:        \n",
    "        n1 = splitNum(num1)\n",
    "        n2 = splitNum(num2)\n",
    "        \n",
    "        # Because (a+b)*(c+d) = ac + ad + bc + bd\n",
    "        return str(sum([x*y for x in n1 for y in n2]))  "
   ]
  },
  {
   "cell_type": "code",
   "execution_count": 22,
   "metadata": {},
   "outputs": [
    {
     "data": {
      "text/plain": [
       "'56088'"
      ]
     },
     "execution_count": 22,
     "metadata": {},
     "output_type": "execute_result"
    }
   ],
   "source": [
    "soln = Solution()\n",
    "soln.multiply(num21,num22)"
   ]
  },
  {
   "cell_type": "markdown",
   "metadata": {},
   "source": [
    "## 50. Pow(x, n)\n",
    "MEDIUM  \n",
    "https://leetcode.com/problems/powx-n/"
   ]
  },
  {
   "cell_type": "markdown",
   "metadata": {},
   "source": [
    "Implement [pow(x, n)](http://www.cplusplus.com/reference/valarray/pow/), which calculates *x* raised to the power *n* ($x^n$).\n",
    "\n",
    "**Example 1:**\n",
    "```\n",
    "Input: 2.00000, 10\n",
    "Output: 1024.00000\n",
    "```\n",
    "**Example 2:**\n",
    "```\n",
    "Input: 2.10000, 3\n",
    "Output: 9.26100\n",
    "```\n",
    "**Example 3:**\n",
    "```\n",
    "Input: 2.00000, -2\n",
    "Output: 0.25000\n",
    "Explanation: 2-2 = 1/22 = 1/4 = 0.25\n",
    "```\n",
    "**Note:**\n",
    "\n",
    "* -100.0 < x < 100.0\n",
    "* *n* is a 32-bit signed integer, within the range [$−2^{31}$, $2^{31}$ − 1]"
   ]
  },
  {
   "cell_type": "code",
   "execution_count": 202,
   "metadata": {},
   "outputs": [],
   "source": [
    "x1,n1 = 2.00000, 10\n",
    "x2,n2 = 2.10000, 3\n",
    "x3,n3 = 2.00000, -2"
   ]
  },
  {
   "cell_type": "code",
   "execution_count": 225,
   "metadata": {},
   "outputs": [],
   "source": [
    "# naive looping solution\n",
    "class Solution:\n",
    "    def myPow(self, x: float, n: int) -> float:\n",
    "        res = 1\n",
    "        for i in range(abs(n)):\n",
    "            res *= x\n",
    "        return res if n>=0 else 1/res"
   ]
  },
  {
   "cell_type": "code",
   "execution_count": 231,
   "metadata": {},
   "outputs": [],
   "source": [
    "# recursion for log(n) speed\n",
    "class Solution:\n",
    "    def myPow(self, x: float, n: int) -> float:\n",
    "        def recurse(n):\n",
    "            ans = 1\n",
    "            if(n == 0):\n",
    "                return 1\n",
    "            if(n==1):\n",
    "                return x\n",
    "            if(n == 2):\n",
    "                return x * x\n",
    "            \n",
    "            if(n%2 == 0):\n",
    "                ans = recurse(n//2)\n",
    "                return ans * ans\n",
    "            if( n%2 == 1):\n",
    "                ans = recurse(n//2) * recurse((n//2) + 1)\n",
    "                return ans\n",
    "            \n",
    "        if( n < 0 ):\n",
    "            x = 1/x\n",
    "            n = -n\n",
    "        return recurse(n)"
   ]
  },
  {
   "cell_type": "code",
   "execution_count": 232,
   "metadata": {},
   "outputs": [
    {
     "data": {
      "text/plain": [
       "1"
      ]
     },
     "execution_count": 232,
     "metadata": {},
     "output_type": "execute_result"
    }
   ],
   "source": [
    "soln = Solution()\n",
    "soln.myPow(5,0)"
   ]
  },
  {
   "cell_type": "markdown",
   "metadata": {},
   "source": [
    "### 56. Merge Intervals\n",
    "https://leetcode.com/problems/merge-intervals/"
   ]
  },
  {
   "cell_type": "markdown",
   "metadata": {},
   "source": [
    "Given a collection of intervals, merge all overlapping intervals.\n",
    "\n",
    "**Example 1:**\n",
    "```\n",
    "Input: [[1,3],[2,6],[8,10],[15,18]]\n",
    "Output: [[1,6],[8,10],[15,18]]\n",
    "Explanation: Since intervals [1,3] and [2,6] overlaps, merge them into [1,6].\n",
    "```\n",
    "**Example 2:**\n",
    "```\n",
    "Input: [[1,4],[4,5]]\n",
    "Output: [[1,5]]\n",
    "Explanation: Intervals [1,4] and [4,5] are considered overlapping.\n",
    "```\n",
    "**NOTE:** input types have been changed on April 15, 2019. Please reset to default code definition to get new method signature."
   ]
  },
  {
   "cell_type": "markdown",
   "metadata": {},
   "source": [
    "**Study Notes:**\n",
    "* Facebook followup: https://leetcode.com/problems/merge-intervals/discuss/355318/Fully-Explained-and-Clean-Interval-Tree-for-Facebook-Follow-Up-No-Sorting"
   ]
  },
  {
   "cell_type": "code",
   "execution_count": 234,
   "metadata": {},
   "outputs": [],
   "source": [
    "intervals1 = [[1,3],[2,6],[8,10],[15,18]]\n",
    "intervals2 = [[1,4],[4,5]]\n",
    "intervals3 = [[1,4],[0,4]]\n",
    "intervals4 = [[1,4],[0,0]]"
   ]
  },
  {
   "cell_type": "code",
   "execution_count": 236,
   "metadata": {},
   "outputs": [],
   "source": [
    "# assumes sorted already\n",
    "class Solution:\n",
    "    def merge(self, intervals: List[List[int]]) -> List[List[int]]:\n",
    "        result = []\n",
    "        for i in intervals:\n",
    "            if result and i[0] <= result[-1][1]:\n",
    "                result[-1][1] = max(i[1],result[-1][1])\n",
    "                result[-1][0] = min(i[0],result[-1][0]) # actually not necessary, sorting ensures this\n",
    "            else:\n",
    "                result.append(i)\n",
    "        return result"
   ]
  },
  {
   "cell_type": "code",
   "execution_count": null,
   "metadata": {},
   "outputs": [],
   "source": [
    "class Solution:\n",
    "    def merge(self, intervals: List[List[int]]) -> List[List[int]]:\n",
    "        result = []\n",
    "        intervals = sorted(intervals, key=lambda x: x[0])\n",
    "        for i in intervals:\n",
    "            if result and i[0] <= result[-1][1]:\n",
    "                result[-1][1] = max(i[1],result[-1][1])\n",
    "                result[-1][0] = min(i[0],result[-1][0]) # actually not necessary, sorting ensures this\n",
    "            else:\n",
    "                result.append(i)\n",
    "        return result"
   ]
  },
  {
   "cell_type": "code",
   "execution_count": 238,
   "metadata": {},
   "outputs": [
    {
     "data": {
      "text/plain": [
       "[[0, 4]]"
      ]
     },
     "execution_count": 238,
     "metadata": {},
     "output_type": "execute_result"
    }
   ],
   "source": [
    "soln = Solution()\n",
    "soln.merge(intervals4)"
   ]
  },
  {
   "cell_type": "markdown",
   "metadata": {},
   "source": [
    "## 65. Valid Number\n",
    "HARD  \n",
    "https://leetcode.com/problems/valid-number/"
   ]
  },
  {
   "cell_type": "markdown",
   "metadata": {},
   "source": [
    "Validate if a given string can be interpreted as a decimal number.\n",
    "\n",
    "Some examples:  \n",
    "`\"0\"` => `true`  \n",
    "`\" 0.1 \"` => `true`  \n",
    "`\"abc\"` => `false`  \n",
    "`\"1 a\"` => `false`  \n",
    "`\"2e10\"` => `true`  \n",
    "`\" -90e3   \"` => `true`  \n",
    "`\" 1e\"` => `false`  \n",
    "`\"e3\"` => `false`  \n",
    "`\" 6e-1\"` => `true`  \n",
    "`\" 99e2.5 \"` => `false`  \n",
    "`\"53.5e93\"` => `true`  \n",
    "`\" --6 \"` => `false`  \n",
    "`\"-+3\"` => `false`  \n",
    "`\"95a54e53\"` => `false`  \n",
    "\n",
    "**Note:** It is intended for the problem statement to be ambiguous. You should gather all requirements up front before implementing one. However, here is a list of characters that can be in a valid decimal number:\n",
    "\n",
    "* Numbers 0-9\n",
    "* Exponent - \"e\"\n",
    "* Positive/negative sign - \"+\"/\"-\"\n",
    "* Decimal point - \".\"\n",
    "* Of course, the context of these characters also matters in the input.\n",
    "\n",
    "**Update (2015-02-10):**\n",
    "The signature of the `C++` function had been updated. If you still see your function signature accepts a `const char *` argument, please click the reload button to reset your code definition."
   ]
  },
  {
   "cell_type": "code",
   "execution_count": 284,
   "metadata": {},
   "outputs": [],
   "source": [
    "s1 = \"0\"\n",
    "s2 = \" -90e3   \"\n",
    "s3 = \" --6 \"\n",
    "s4 = \"-+3\"\n",
    "s5 = \"95a54e53\"\n",
    "s6 = \"+4\"\n",
    "s7 = \" 6e-1\""
   ]
  },
  {
   "cell_type": "code",
   "execution_count": 251,
   "metadata": {},
   "outputs": [],
   "source": [
    "# completely trivial solution\n",
    "class Solution:\n",
    "    def isNumber(self, s: str) -> bool:\n",
    "        try:\n",
    "            float(s)\n",
    "            return True\n",
    "        except:\n",
    "            return False"
   ]
  },
  {
   "cell_type": "code",
   "execution_count": 320,
   "metadata": {},
   "outputs": [],
   "source": [
    "class Solution:\n",
    "    def isNumber(self, s: str) -> bool:\n",
    "        num, exp = s.strip(), '1'\n",
    "        \n",
    "        # split string on 'e' into exactly two parts and return False if fails\n",
    "        if 'e' in num:\n",
    "            try:\n",
    "                num, exp = num.split('e')\n",
    "            except:\n",
    "                return False\n",
    "        \n",
    "        # strip leading sign if present\n",
    "        if num and (num[0] in '+-'):\n",
    "            num = num[1:]\n",
    "        if exp and (exp[0] in '+-'):\n",
    "            exp = exp[1:]\n",
    "        \n",
    "        # check if parts are invalid numbers\n",
    "        # 1. nume and exp are non-empty strings\n",
    "        # 2. num has more than one decimal\n",
    "        # 3. num is just a decimal point\n",
    "#         if not (num and exp) or num.count('.') > 1 or num == '.':\n",
    "        if (num == '') or (exp=='') or num.count('.') > 1 or num == '.':\n",
    "            return False\n",
    "\n",
    "        return all(part.isnumeric() for part in num.split('.') + [exp] if part)"
   ]
  },
  {
   "cell_type": "code",
   "execution_count": 322,
   "metadata": {},
   "outputs": [
    {
     "data": {
      "text/plain": [
       "False"
      ]
     },
     "execution_count": 322,
     "metadata": {},
     "output_type": "execute_result"
    }
   ],
   "source": [
    "soln = Solution()\n",
    "soln.isNumber('e')"
   ]
  },
  {
   "cell_type": "markdown",
   "metadata": {},
   "source": [
    "## 67. Add Binary\n",
    "EASY  \n",
    "https://leetcode.com/problems/add-binary/"
   ]
  },
  {
   "cell_type": "markdown",
   "metadata": {},
   "source": [
    "Given two binary strings, return their sum (also a binary string).\n",
    "\n",
    "The input strings are both **non-empty** and contains only characters `1` or `0`.\n",
    "\n",
    "**Example 1:**\n",
    "```\n",
    "Input: a = \"11\", b = \"1\"\n",
    "Output: \"100\"\n",
    "```\n",
    "**Example 2:**\n",
    "```\n",
    "Input: a = \"1010\", b = \"1011\"\n",
    "Output: \"10101\"\n",
    "```\n",
    "\n",
    "**Constraints:**\n",
    "\n",
    "* Each string consists only of `'0'` or `'1'` characters.\n",
    "* `1 <= a.length, b.length <= 10^4`\n",
    "* Each string is either `\"0\"` or doesn't contain any leading zero."
   ]
  },
  {
   "cell_type": "markdown",
   "metadata": {},
   "source": [
    "**Study Notes:**\n",
    "* cheesy solution = use `int(a,2)` to convert binary strings into numeric values, then add and return the binary string of the result using `bin()`\n",
    "* manual addition: [https://leetcode.com/problems/add-binary/discuss/811853/Python3-with-Comments](https://leetcode.com/problems/add-binary/discuss/811853/Python3-with-Comments)"
   ]
  },
  {
   "cell_type": "code",
   "execution_count": 23,
   "metadata": {},
   "outputs": [],
   "source": [
    "a1,b1 = '11','1'\n",
    "a2,b2 = '1010','1011'"
   ]
  },
  {
   "cell_type": "code",
   "execution_count": 29,
   "metadata": {},
   "outputs": [],
   "source": [
    "# cheesy\n",
    "class Solution:\n",
    "    def addBinary(self, a: str, b: str) -> str:\n",
    "        ia = int(a,2)\n",
    "        ib = int(b,2)\n",
    "        ir = ia+ib\n",
    "        return bin(ir)[2:]"
   ]
  },
  {
   "cell_type": "code",
   "execution_count": null,
   "metadata": {},
   "outputs": [],
   "source": [
    "class Solution:\n",
    "    def addBinary(self, a: str, b: str) -> str:\n",
    "        aLen = len(a)\n",
    "        bLen = len(b)\n",
    "\n",
    "        # make both strings same length\n",
    "        if aLen < bLen:\n",
    "            while aLen < bLen:\n",
    "                a = \"0\" + a\n",
    "                aLen += 1\n",
    "        elif bLen < aLen:\n",
    "            while bLen < aLen:\n",
    "                b = \"0\" + b\n",
    "                bLen += 1\n",
    "\n",
    "        addition = 0\n",
    "        carry = 0\n",
    "        ansString = \"\"\n",
    "\n",
    "        # add each character\n",
    "        for i in range(aLen-1,-1,-1):\n",
    "            addition = int(a[i])+int(b[i])+carry\n",
    "            # if we have a carry situation\n",
    "            if addition > 1:\n",
    "                # the carry value will be whatever was added divided by 2, rounded down\n",
    "                # e.g. remainder 3, the carry will be 1\n",
    "                carry = int(addition/2)\n",
    "                # the addition will always either be 0 or 1, determined by if the sum is even or not\n",
    "                # i.e. if addition is even, the sum will be 0, and odd he sum will be 1\n",
    "                addition %= 2\n",
    "            else:\n",
    "                carry = 0\n",
    "            ansString = str(addition) + ansString\n",
    "\n",
    "        # if there are any leftovers, append any additions to the end\n",
    "        if carry > 0:\n",
    "            while carry > 0:\n",
    "                ansString = str(carry%2) + ansString\n",
    "                carry -= 2\n",
    "\n",
    "        return ansString"
   ]
  },
  {
   "cell_type": "code",
   "execution_count": 31,
   "metadata": {},
   "outputs": [
    {
     "data": {
      "text/plain": [
       "'10101'"
      ]
     },
     "execution_count": 31,
     "metadata": {},
     "output_type": "execute_result"
    }
   ],
   "source": [
    "soln = Solution()\n",
    "soln.addBinary(a2,b2)"
   ]
  },
  {
   "cell_type": "markdown",
   "metadata": {},
   "source": [
    "## 88. Merge Sorted Array\n",
    "EASY  \n",
    "https://leetcode.com/problems/merge-sorted-array/"
   ]
  },
  {
   "cell_type": "markdown",
   "metadata": {},
   "source": [
    "Given two sorted integer arrays *nums1* and *nums2*, merge *nums2* into *nums1* as one sorted array.\n",
    "\n",
    "**Note:**\n",
    "\n",
    "* The number of elements initialized in *nums1* and *nums2* are *m* and *n* respectively.\n",
    "* You may assume that *nums1* has enough space (size that is equal to *m + n*) to hold additional elements from *nums2*.\n",
    "\n",
    "**Example:**\n",
    "```\n",
    "Input:\n",
    "nums1 = [1,2,3,0,0,0], m = 3\n",
    "nums2 = [2,5,6],       n = 3\n",
    "\n",
    "Output: [1,2,2,3,5,6]\n",
    "```\n",
    "\n",
    "**Constraints:**\n",
    "\n",
    "* `-10^9 <= nums1[i], nums2[i] <= 10^9`\n",
    "* `nums1.length == m + n`\n",
    "* `nums2.length == n`"
   ]
  },
  {
   "cell_type": "markdown",
   "metadata": {},
   "source": [
    "**Study Notes:**\n",
    "* [https://leetcode.com/problems/merge-sorted-array/discuss/29503/Beautiful-Python-Solution](https://leetcode.com/problems/merge-sorted-array/discuss/29503/Beautiful-Python-Solution)\n",
    "* core idea: iterate backwards through both arrays, filling the larger of the two values into nums1"
   ]
  },
  {
   "cell_type": "code",
   "execution_count": 42,
   "metadata": {},
   "outputs": [],
   "source": [
    "nums11,m1,nums12,n1 = [1,2,3,0,0,0], 3, [2,5,6], 3"
   ]
  },
  {
   "cell_type": "code",
   "execution_count": 53,
   "metadata": {},
   "outputs": [],
   "source": [
    "# using sort cheese strats\n",
    "class Solution:\n",
    "    def merge(self, nums1: List[int], m: int, nums2: List[int], n: int) -> None:\n",
    "        \"\"\"\n",
    "        Do not return anything, modify nums1 in-place instead.\n",
    "        \"\"\"\n",
    "        nums1[m:] = nums2\n",
    "        nums1.sort()"
   ]
  },
  {
   "cell_type": "code",
   "execution_count": 39,
   "metadata": {},
   "outputs": [],
   "source": [
    "class Solution:\n",
    "    def merge(self, nums1: List[int], m: int, nums2: List[int], n: int) -> None:\n",
    "        \"\"\"\n",
    "        Do not return anything, modify nums1 in-place instead.\n",
    "        \"\"\"\n",
    "        while m > 0 and n > 0:\n",
    "            if nums1[m-1] > nums2[n-1]:\n",
    "                nums1[m+n-1] = nums1[m-1]\n",
    "                m -= 1\n",
    "            else:\n",
    "                nums1[m+n-1] = nums2[n-1]\n",
    "                n -= 1\n",
    "        nums1[:n] = nums2[:n]"
   ]
  },
  {
   "cell_type": "code",
   "execution_count": 43,
   "metadata": {},
   "outputs": [],
   "source": [
    "nums11,m1,nums12,n1 = [1,2,3,0,0,0], 3, [2,5,6], 3\n",
    "soln = Solution()\n",
    "soln.merge(nums11,m1,nums12,n1)"
   ]
  },
  {
   "cell_type": "markdown",
   "metadata": {},
   "source": [
    "## 124. Binary Tree Maximum Path Sum\n",
    "HARD  \n",
    "https://leetcode.com/problems/binary-tree-maximum-path-sum/"
   ]
  },
  {
   "cell_type": "markdown",
   "metadata": {},
   "source": [
    "Given a **non-empty** binary tree, find the maximum path sum.\n",
    "\n",
    "For this problem, a path is defined as any sequence of nodes from some starting node to any node in the tree along the parent-child connections. The path must contain **at least** one node and does not need to go through the root.\n",
    "\n",
    "**Example 1:**\n",
    "```\n",
    "Input: [1,2,3]\n",
    "\n",
    "       1\n",
    "      / \\\n",
    "     2   3\n",
    "\n",
    "Output: 6\n",
    "```\n",
    "**Example 2:**\n",
    "```\n",
    "Input: [-10,9,20,null,null,15,7]\n",
    "\n",
    "   -10\n",
    "   / \\\n",
    "  9  20\n",
    "    /  \\\n",
    "   15   7\n",
    "\n",
    "Output: 42\n",
    "```"
   ]
  },
  {
   "cell_type": "markdown",
   "metadata": {},
   "source": [
    "**Study Notes:**\n",
    "* [https://leetcode.com/problems/binary-tree-maximum-path-sum/discuss/209995/Python-solution](https://leetcode.com/problems/binary-tree-maximum-path-sum/discuss/209995/Python-solution)"
   ]
  },
  {
   "cell_type": "code",
   "execution_count": 54,
   "metadata": {},
   "outputs": [],
   "source": [
    "# Definition for a binary tree node.\n",
    "class TreeNode:\n",
    "    def __init__(self, val=0, left=None, right=None):\n",
    "        self.val = val\n",
    "        self.left = left\n",
    "        self.right = right\n",
    "\n",
    "def constructtree(nodes, i, n):\n",
    "    root = None\n",
    "    if (i<n) and nodes[i] is not None:\n",
    "        root = TreeNode(nodes[i])\n",
    "        root.left = constructtree(nodes, 2*i+1, len(nodes))\n",
    "        root.right = constructtree(nodes, 2*i+2, len(nodes))\n",
    "    return root\n",
    "\n",
    "def printtree(root):\n",
    "    q = [root]\n",
    "    nodes = []\n",
    "    while len(q)>0:\n",
    "        node = q.pop(0)\n",
    "        if node:\n",
    "            nodes.append(node.val)\n",
    "            if node.left or node.right or any(q):\n",
    "                q.append(node.left)\n",
    "                q.append(node.right)\n",
    "                \n",
    "        elif any(q):\n",
    "            nodes.append('null')\n",
    "    return nodes\n",
    "    \n",
    "nodes1 = [1,2,3]\n",
    "root1 = constructtree(nodes1, 0, len(nodes1))\n",
    "nodes2 = [-10,9,20,None,None,15,7]\n",
    "root2 = constructtree(nodes2, 0, len(nodes2))"
   ]
  },
  {
   "cell_type": "code",
   "execution_count": 60,
   "metadata": {},
   "outputs": [],
   "source": [
    "# DFS\n",
    "class Solution:\n",
    "    def maxPathSum(self, root: TreeNode) -> int:\n",
    "        self.maxsum = float('-inf')\n",
    "        def depthsum(node):\n",
    "            if node:\n",
    "                # only consider positive sums of child nodes\n",
    "                lsum = max(0,depthsum(node.left))\n",
    "                rsum = max(0,depthsum(node.right))\n",
    "                # check if path using current node as the root is the largest path seen so far\n",
    "                self.maxsum = max(self.maxsum,lsum+rsum+node.val)\n",
    "                return max(lsum,rsum)+node.val\n",
    "            else:\n",
    "                return 0\n",
    "            \n",
    "        depthsum(root)\n",
    "        return self.maxsum"
   ]
  },
  {
   "cell_type": "code",
   "execution_count": 58,
   "metadata": {},
   "outputs": [
    {
     "data": {
      "text/plain": [
       "42"
      ]
     },
     "execution_count": 58,
     "metadata": {},
     "output_type": "execute_result"
    }
   ],
   "source": [
    "soln = Solution()\n",
    "soln.maxPathSum(root2)"
   ]
  },
  {
   "cell_type": "markdown",
   "metadata": {},
   "source": [
    "## 125. Valid Palindrome\n",
    "EASY  \n",
    "https://leetcode.com/problems/valid-palindrome/"
   ]
  },
  {
   "cell_type": "markdown",
   "metadata": {},
   "source": [
    "Given a string, determine if it is a palindrome, considering only alphanumeric characters and ignoring cases.\n",
    "\n",
    "**Note:** For the purpose of this problem, we define empty string as valid palindrome.\n",
    "\n",
    "**Example 1:**\n",
    "```\n",
    "Input: \"A man, a plan, a canal: Panama\"\n",
    "Output: true\n",
    "```\n",
    "**Example 2:**\n",
    "```\n",
    "Input: \"race a car\"\n",
    "Output: false\n",
    "```\n",
    "\n",
    "**Constraints:**\n",
    "\n",
    "* `s` consists only of printable ASCII characters."
   ]
  },
  {
   "cell_type": "code",
   "execution_count": 61,
   "metadata": {},
   "outputs": [],
   "source": [
    "s1 = \"A man, a plan, a canal: Panama\"\n",
    "s2 = \"race a car\""
   ]
  },
  {
   "cell_type": "code",
   "execution_count": 63,
   "metadata": {},
   "outputs": [],
   "source": [
    "# using slicing\n",
    "import string\n",
    "class Solution:\n",
    "    def isPalindrome(self, s: str) -> bool:\n",
    "        # strip punctuation\n",
    "        table = str.maketrans('','',string.punctuation)\n",
    "        s = s.translate(table)\n",
    "        \n",
    "#         # alternative strip punctuation\n",
    "#         for c in string.punctuation:\n",
    "#             s = s.replace(c,'')\n",
    "        \n",
    "        # remove spaces, lower case\n",
    "        s = s.replace(' ','').lower()\n",
    "        \n",
    "        return s==s[::-1]"
   ]
  },
  {
   "cell_type": "code",
   "execution_count": 64,
   "metadata": {},
   "outputs": [
    {
     "data": {
      "text/plain": [
       "True"
      ]
     },
     "execution_count": 64,
     "metadata": {},
     "output_type": "execute_result"
    }
   ],
   "source": [
    "soln = Solution()\n",
    "soln.isPalindrome(s1)"
   ]
  },
  {
   "cell_type": "markdown",
   "metadata": {},
   "source": [
    "## 139. Word Break\n",
    "MEDIUM  \n",
    "https://leetcode.com/problems/word-break/"
   ]
  },
  {
   "cell_type": "markdown",
   "metadata": {},
   "source": [
    "Given a **non-empty** string s and a dictionary *wordDict* containing a list of **non-empty** words, determine if s can be segmented into a space-separated sequence of one or more dictionary words.\n",
    "\n",
    "**Note:**\n",
    "\n",
    "* The same word in the dictionary may be reused multiple times in the segmentation.\n",
    "* You may assume the dictionary does not contain duplicate words.\n",
    "\n",
    "**Example 1:**\n",
    "```\n",
    "Input: s = \"leetcode\", wordDict = [\"leet\", \"code\"]\n",
    "Output: true\n",
    "Explanation: Return true because \"leetcode\" can be segmented as \"leet code\".\n",
    "```\n",
    "**Example 2:**\n",
    "```\n",
    "Input: s = \"applepenapple\", wordDict = [\"apple\", \"pen\"]\n",
    "Output: true\n",
    "Explanation: Return true because \"applepenapple\" can be segmented as \"apple pen apple\".\n",
    "             Note that you are allowed to reuse a dictionary word.\n",
    "```\n",
    "**Example 3:**\n",
    "```\n",
    "Input: s = \"catsandog\", wordDict = [\"cats\", \"dog\", \"sand\", \"and\", \"cat\"]\n",
    "Output: false\n",
    "```"
   ]
  },
  {
   "cell_type": "markdown",
   "metadata": {},
   "source": [
    "**Study Notes:**\n",
    "* explanation: [https://leetcode.com/problems/word-break/discuss/164472/Python-solution](https://leetcode.com/problems/word-break/discuss/164472/Python-solution)"
   ]
  },
  {
   "cell_type": "code",
   "execution_count": 77,
   "metadata": {},
   "outputs": [],
   "source": [
    "s1, wordDict1 = \"leetcode\", [\"leet\", \"code\"]\n",
    "s2, wordDict2 = \"applepenapple\", [\"apple\", \"pen\"]\n",
    "s3, wordDict3 = \"catsandog\", [\"cats\", \"dog\", \"sand\", \"and\", \"cat\"]\n",
    "s4, wordDict4 = \"catsandog\", [\"sand\", \"cats\", \"dog\", \"an\", \"and\", \"cat\"] # true\n",
    "s5, wordDict5 = \"aaaaaaa\", [\"aaaa\",\"aa\"] # false"
   ]
  },
  {
   "cell_type": "code",
   "execution_count": 78,
   "metadata": {},
   "outputs": [],
   "source": [
    "# bottom up dp solution: dp[i] = true if the string slice ending at s[i] (inclusive) ends with a word in wordDict\n",
    "# AND dp[i-(wordlength)] is also true OR it's the first word (i-wordlength) == -1\n",
    "class Solution:\n",
    "    def wordBreak(self, s: str, wordDict: List[str]) -> bool:\n",
    "        dp = [False]*len(s)\n",
    "        for i in range(len(s)):\n",
    "            si = i+1\n",
    "            for w in wordDict:\n",
    "                if w == s[si-len(w):si] and (dp[i-len(w)]==1 or i-len(w)==-1):\n",
    "                    dp[i]=True\n",
    "        return dp[-1]"
   ]
  },
  {
   "cell_type": "code",
   "execution_count": 79,
   "metadata": {},
   "outputs": [
    {
     "data": {
      "text/plain": [
       "False"
      ]
     },
     "execution_count": 79,
     "metadata": {},
     "output_type": "execute_result"
    }
   ],
   "source": [
    "soln = Solution()\n",
    "soln.wordBreak(s5,wordDict5)"
   ]
  },
  {
   "cell_type": "markdown",
   "metadata": {},
   "source": [
    "## 173. Binary Search Tree Iterator\n",
    "MEDIUM  \n",
    "https://leetcode.com/problems/binary-search-tree-iterator/"
   ]
  },
  {
   "cell_type": "markdown",
   "metadata": {},
   "source": [
    "Implement an iterator over a binary search tree (BST). Your iterator will be initialized with the root node of a BST.\n",
    "\n",
    "Calling `next()` will return the next smallest number in the BST.\n",
    "\n",
    " \n",
    "\n",
    "**Example:**\n",
    "![https://assets.leetcode.com/uploads/2018/12/25/bst-tree.png](https://assets.leetcode.com/uploads/2018/12/25/bst-tree.png)\n",
    "\n",
    "```\n",
    "BSTIterator iterator = new BSTIterator(root);\n",
    "iterator.next();    // return 3\n",
    "iterator.next();    // return 7\n",
    "iterator.hasNext(); // return true\n",
    "iterator.next();    // return 9\n",
    "iterator.hasNext(); // return true\n",
    "iterator.next();    // return 15\n",
    "iterator.hasNext(); // return true\n",
    "iterator.next();    // return 20\n",
    "iterator.hasNext(); // return false\n",
    "```\n",
    "\n",
    "**Note:**\n",
    "\n",
    "* `next()` and `hasNext()` should run in average O(1) time and uses O(*h*) memory, where *h* is the height of the tree.\n",
    "* You may assume that `next()` call will always be valid, that is, there will be at least a next smallest number in the BST when `next()` is called."
   ]
  },
  {
   "cell_type": "markdown",
   "metadata": {},
   "source": [
    "**Study Notes:**\n",
    "* [https://leetcode.com/problems/binary-search-tree-iterator/solution/](https://leetcode.com/problems/binary-search-tree-iterator/solution/)\n",
    "* core idea: inorder traversal with stack"
   ]
  },
  {
   "cell_type": "code",
   "execution_count": 81,
   "metadata": {},
   "outputs": [],
   "source": [
    "# Definition for a binary tree node.\n",
    "class TreeNode:\n",
    "    def __init__(self, val=0, left=None, right=None):\n",
    "        self.val = val\n",
    "        self.left = left\n",
    "        self.right = right\n",
    "\n",
    "def constructtree(nodes, i, n):\n",
    "    root = None\n",
    "    if (i<n) and nodes[i] is not None:\n",
    "        root = TreeNode(nodes[i])\n",
    "        root.left = constructtree(nodes, 2*i+1, len(nodes))\n",
    "        root.right = constructtree(nodes, 2*i+2, len(nodes))\n",
    "    return root\n",
    "\n",
    "def printtree(root):\n",
    "    q = [root]\n",
    "    nodes = []\n",
    "    while len(q)>0:\n",
    "        node = q.pop(0)\n",
    "        if node:\n",
    "            nodes.append(node.val)\n",
    "            if node.left or node.right or any(q):\n",
    "                q.append(node.left)\n",
    "                q.append(node.right)\n",
    "                \n",
    "        elif any(q):\n",
    "            nodes.append('null')\n",
    "    return nodes\n",
    "\n",
    "nodes1 = [7,3,15,None,None,9,20]\n",
    "root1 = constructtree(nodes1,0,len(nodes1))"
   ]
  },
  {
   "cell_type": "code",
   "execution_count": 83,
   "metadata": {},
   "outputs": [],
   "source": [
    "# leetcode solution\n",
    "class BSTIterator:\n",
    "\n",
    "    def __init__(self, root: TreeNode):\n",
    "        \n",
    "        # Stack for the recursion simulation\n",
    "        self.stack = []\n",
    "        \n",
    "        # Remember that the algorithm starts with a call to the helper function\n",
    "        # with the root node as the input\n",
    "        self._leftmost_inorder(root)\n",
    "        \n",
    "    def _leftmost_inorder(self, root):\n",
    "        \n",
    "        # For a given node, add all the elements in the leftmost branch of the tree\n",
    "        # under it to the stack.\n",
    "        while root:\n",
    "            self.stack.append(root)\n",
    "            root = root.left\n",
    "\n",
    "    def next(self) -> int:\n",
    "        \"\"\"\n",
    "        @return the next smallest number\n",
    "        \"\"\"\n",
    "        \n",
    "        # Node at the top of the stack is the next smallest element\n",
    "        topmost_node = self.stack.pop()\n",
    "        \n",
    "        # Need to maintain the invariant. If the node has a right child, call the \n",
    "        # helper function for the right child\n",
    "        if topmost_node.right:\n",
    "            self._leftmost_inorder(topmost_node.right)\n",
    "        return topmost_node.val\n",
    "\n",
    "    def hasNext(self) -> bool:\n",
    "        \"\"\"\n",
    "        @return whether we have a next smallest number\n",
    "        \"\"\"\n",
    "        return len(self.stack) > 0"
   ]
  },
  {
   "cell_type": "code",
   "execution_count": null,
   "metadata": {},
   "outputs": [],
   "source": [
    "class BSTIterator:\n",
    "\n",
    "    def __init__(self, root: TreeNode):\n",
    "        \n",
    "\n",
    "    def next(self) -> int:\n",
    "        \"\"\"\n",
    "        @return the next smallest number\n",
    "        \"\"\"\n",
    "        \n",
    "\n",
    "    def hasNext(self) -> bool:\n",
    "        \"\"\"\n",
    "        @return whether we have a next smallest number\n",
    "        \"\"\"\n",
    "        \n",
    "\n",
    "\n",
    "# Your BSTIterator object will be instantiated and called as such:\n",
    "# obj = BSTIterator(root)\n",
    "# param_1 = obj.next()\n",
    "# param_2 = obj.hasNext()"
   ]
  },
  {
   "cell_type": "markdown",
   "metadata": {},
   "source": [
    "## 199. Binary Tree Right Side View\n",
    "MEDIUM  \n",
    "https://leetcode.com/problems/binary-tree-right-side-view/"
   ]
  },
  {
   "cell_type": "markdown",
   "metadata": {},
   "source": [
    "Given a binary tree, imagine yourself standing on the *right* side of it, return the values of the nodes you can see ordered from top to bottom.\n",
    "\n",
    "**Example:**\n",
    "```\n",
    "Input: [1,2,3,null,5,null,4]\n",
    "Output: [1, 3, 4]\n",
    "Explanation:\n",
    "\n",
    "   1            <---\n",
    " /   \\\n",
    "2     3         <---\n",
    " \\     \\\n",
    "  5     4       <---\n",
    "```"
   ]
  },
  {
   "cell_type": "markdown",
   "metadata": {},
   "source": [
    "**Study Notes:**\n",
    "* can use level order traversal or BFS (same thing?)\n",
    "* one solution: [https://leetcode.com/problems/binary-tree-right-side-view/discuss/56210/Python-straightforward-BFS](https://leetcode.com/problems/binary-tree-right-side-view/discuss/56210/Python-straightforward-BFS)"
   ]
  },
  {
   "cell_type": "code",
   "execution_count": 86,
   "metadata": {},
   "outputs": [],
   "source": [
    "# Definition for a binary tree node.\n",
    "class TreeNode:\n",
    "    def __init__(self, val=0, left=None, right=None):\n",
    "        self.val = val\n",
    "        self.left = left\n",
    "        self.right = right\n",
    "        \n",
    "def constructtree(nodes, i, n):\n",
    "    root = None\n",
    "    if (i < n) and nodes[i] is not None:\n",
    "        root = TreeNode(nodes[i])\n",
    "        root.left = constructtree(nodes, 2*i+1, len(nodes))\n",
    "        root.right = constructtree(nodes, 2*i+2, len(nodes))\n",
    "    return root\n",
    "\n",
    "def printtree(root):\n",
    "    q = [root]\n",
    "    nodes = []\n",
    "    while len(q)>0:\n",
    "        node = q.pop(0)\n",
    "        if node:\n",
    "            nodes.append(node.val)\n",
    "            if node.left or node.right or any(q):\n",
    "                q.append(node.left)\n",
    "                q.append(node.right)\n",
    "        elif any(q):\n",
    "            nodes.append('null')\n",
    "    return nodes\n",
    "\n",
    "nodes1 = [1,2,3,None,5,None,4]\n",
    "root1 = constructtree(nodes1, 0, len(nodes1))"
   ]
  },
  {
   "cell_type": "code",
   "execution_count": 89,
   "metadata": {},
   "outputs": [],
   "source": [
    "class Solution:\n",
    "    def rightSideView(self, root: TreeNode) -> List[int]:\n",
    "        res, nxtL= [], [root] if root else []\n",
    "        while nxtL:\n",
    "            res.append(nxtL[-1].val) # right most val as to output\n",
    "            curL, nxtL = nxtL, []\n",
    "            for i in curL: # build the next level\n",
    "                if i.left: nxtL.append(i.left)\n",
    "                if i.right: nxtL.append(i.right)\n",
    "        return res"
   ]
  },
  {
   "cell_type": "code",
   "execution_count": null,
   "metadata": {},
   "outputs": [],
   "source": [
    "class Solution:\n",
    "    def rightSideView(self, root: TreeNode) -> List[int]:\n",
    "        \n",
    "        return None"
   ]
  },
  {
   "cell_type": "markdown",
   "metadata": {},
   "source": [
    "## 211. Design Add and Search Words Data Structure\n",
    "MEDIUM  \n",
    "https://leetcode.com/problems/design-add-and-search-words-data-structure/"
   ]
  },
  {
   "cell_type": "markdown",
   "metadata": {},
   "source": [
    "You should design a data structure that supports adding new words and finding if a string matches any previously added string.\n",
    "\n",
    "Implement the `WordDictionary` class:\n",
    "\n",
    "* `WordDictionary()` Initializes the object.\n",
    "* `void addWord(word)` adds `word` to the data structure, it can be matched later.\n",
    "* `bool search(word)` returns `true` if there is any string in the data structure that matches word or `false` otherwise. `word` may contain dots `'.'` where dots can be matched with any letter.\n",
    "\n",
    "**Example:**\n",
    "```\n",
    "Input\n",
    "[\"WordDictionary\",\"addWord\",\"addWord\",\"addWord\",\"search\",\"search\",\"search\",\"search\"]\n",
    "[[],[\"bad\"],[\"dad\"],[\"mad\"],[\"pad\"],[\"bad\"],[\".ad\"],[\"b..\"]]\n",
    "Output\n",
    "[null,null,null,null,false,true,true,true]\n",
    "\n",
    "Explanation\n",
    "WordDictionary wordDictionary = new WordDictionary();\n",
    "wordDictionary.addWord(\"bad\");\n",
    "wordDictionary.addWord(\"dad\");\n",
    "wordDictionary.addWord(\"mad\");\n",
    "wordDictionary.search(\"pad\"); // return False\n",
    "wordDictionary.search(\"bad\"); // return True\n",
    "wordDictionary.search(\".ad\"); // return True\n",
    "wordDictionary.search(\"b..\"); // return True\n",
    "```\n",
    "\n",
    "**Constraints:**\n",
    "\n",
    "* `1 <= word.length <= 500`\n",
    "* `word` in `addWord` consists lower-case English letters.\n",
    "* `word` in `search` consist of  '.' or lower-case English letters.\n",
    "* At most 50000 calls will be made to `addWord` and `search` ."
   ]
  },
  {
   "cell_type": "markdown",
   "metadata": {},
   "source": [
    "**Study Notes:**\n",
    "* can directly answer question using python builtin data structures like `dict` or `defaultdict`\n",
    "* interview solution is to use a trie with dfs\n",
    "    * solution: [https://leetcode.com/problems/design-add-and-search-words-data-structure/discuss/774530/Python-Trie-solution-with-dfs-explained](https://leetcode.com/problems/design-add-and-search-words-data-structure/discuss/774530/Python-Trie-solution-with-dfs-explained)"
   ]
  },
  {
   "cell_type": "code",
   "execution_count": 90,
   "metadata": {},
   "outputs": [],
   "source": [
    "# using python built-ins\n",
    "import re\n",
    "from collections import defaultdict\n",
    "class WordDictionary:\n",
    "\n",
    "    def __init__(self):\n",
    "        \"\"\"\n",
    "        Initialize your data structure here.\n",
    "        \"\"\"\n",
    "        self.words = defaultdict(set)\n",
    "\n",
    "    def addWord(self, word: str) -> None:\n",
    "        \"\"\"\n",
    "        Adds a word into the data structure.\n",
    "        \"\"\"\n",
    "        self.words[len(word)].add(word)\n",
    "\n",
    "    def search(self, word: str) -> bool:\n",
    "        \"\"\"\n",
    "        Returns if the word is in the data structure. A word could contain the dot character '.' to represent any one letter.\n",
    "        \"\"\"\n",
    "        pattern = re.compile(word)\n",
    "        for w in self.words[len(word)]:\n",
    "            if pattern.fullmatch(w):\n",
    "                return True\n",
    "        return False"
   ]
  },
  {
   "cell_type": "code",
   "execution_count": 91,
   "metadata": {},
   "outputs": [],
   "source": [
    "# trie solution\n",
    "class TrieNode:\n",
    "    def __init__(self):\n",
    "        self.children = {}\n",
    "        self.end_node = 0\n",
    "        \n",
    "class WordDictionary:\n",
    "    def __init__(self):\n",
    "        self.root = TrieNode()      \n",
    "\n",
    "    def addWord(self, word):\n",
    "        root = self.root\n",
    "        for symbol in word:\n",
    "            root = root.children.setdefault(symbol, TrieNode())\n",
    "        root.end_node = 1\n",
    "        \n",
    "    def search(self, word):\n",
    "        def dfs(node, i):\n",
    "            if i == len(word): return node.end_node\n",
    "               \n",
    "            if word[i] == \".\":\n",
    "                for child in node.children:\n",
    "                    if dfs(node.children[child], i+1): return True\n",
    "                    \n",
    "            if word[i] in node.children:\n",
    "                return dfs(node.children[word[i]], i+1)\n",
    "            \n",
    "            return False\n",
    "    \n",
    "        return dfs(self.root, 0)"
   ]
  },
  {
   "cell_type": "code",
   "execution_count": 92,
   "metadata": {},
   "outputs": [
    {
     "data": {
      "text/plain": [
       "True"
      ]
     },
     "execution_count": 92,
     "metadata": {},
     "output_type": "execute_result"
    }
   ],
   "source": [
    "wd = WordDictionary()\n",
    "wd.addWord('bad')\n",
    "wd.addWord('dad')\n",
    "wd.addWord('pad')\n",
    "wd.search('pa.')"
   ]
  },
  {
   "cell_type": "code",
   "execution_count": 93,
   "metadata": {},
   "outputs": [
    {
     "data": {
      "text/plain": [
       "True"
      ]
     },
     "execution_count": 93,
     "metadata": {},
     "output_type": "execute_result"
    }
   ],
   "source": [
    "wd = WordDictionary()\n",
    "wd.addWord('at')\n",
    "wd.addWord('and')\n",
    "wd.addWord('an')\n",
    "wd.addWord('add')\n",
    "wd.search('.dd')"
   ]
  },
  {
   "cell_type": "markdown",
   "metadata": {},
   "source": [
    "## 215. Kth Largest Element in an Array\n",
    "MEDIUM  \n",
    "https://leetcode.com/problems/kth-largest-element-in-an-array/"
   ]
  },
  {
   "cell_type": "markdown",
   "metadata": {},
   "source": [
    "Find the **k**th largest element in an unsorted array. Note that it is the kth largest element in the sorted order, not the kth distinct element.\n",
    "\n",
    "**Example 1:**\n",
    "```\n",
    "Input: [3,2,1,5,6,4] and k = 2\n",
    "Output: 5\n",
    "```\n",
    "**Example 2:**\n",
    "```\n",
    "Input: [3,2,3,1,2,4,5,5,6] and k = 4\n",
    "Output: 4\n",
    "```\n",
    "**Note:**  \n",
    "You may assume k is always valid, 1 ≤ k ≤ array's length."
   ]
  },
  {
   "cell_type": "markdown",
   "metadata": {},
   "source": [
    "**Study Notes:**\n",
    "* solution discussion: [https://leetcode.com/problems/kth-largest-element-in-an-array/discuss/60306/Python-different-solutions-with-comments-(bubble-sort-selection-sort-heap-sort-and-quick-sort).](https://leetcode.com/problems/kth-largest-element-in-an-array/discuss/60306/Python-different-solutions-with-comments-(bubble-sort-selection-sort-heap-sort-and-quick-sort).)"
   ]
  },
  {
   "cell_type": "code",
   "execution_count": 94,
   "metadata": {},
   "outputs": [],
   "source": [
    "nums1,k1 = [3,2,1,5,6,4], 2\n",
    "nums2,k2 = [3,2,3,1,2,4,5,5,6], 4"
   ]
  },
  {
   "cell_type": "code",
   "execution_count": 96,
   "metadata": {},
   "outputs": [],
   "source": [
    "class Solution:\n",
    "    def findKthLargest(self, nums: List[int], k: int) -> int:\n",
    "        \n",
    "        return None"
   ]
  },
  {
   "cell_type": "code",
   "execution_count": 97,
   "metadata": {},
   "outputs": [],
   "source": [
    "soln = Solution()\n",
    "soln.findKthLargest(nums1,k1)"
   ]
  },
  {
   "cell_type": "code",
   "execution_count": null,
   "metadata": {},
   "outputs": [],
   "source": []
  },
  {
   "cell_type": "markdown",
   "metadata": {},
   "source": [
    "## 238. Product of Array Except Self\n",
    "MEDIUM  \n",
    "https://leetcode.com/problems/product-of-array-except-self/"
   ]
  },
  {
   "cell_type": "markdown",
   "metadata": {},
   "source": [
    "Given an array `nums` of $n$ integers where $n$ > 1,  return an array `output` such that `output[i]` is equal to the product of all the elements of `nums` except `nums[i]`.\n",
    "\n",
    "**Example:**\n",
    "```\n",
    "Input:  [1,2,3,4]\n",
    "Output: [24,12,8,6]\n",
    "```\n",
    "**Constraint:** It's guaranteed that the product of the elements of any prefix or suffix of the array (including the whole array) fits in a 32 bit integer.\n",
    "\n",
    "**Note:** Please solve it **without division** and in O(n).\n",
    "\n",
    "**Follow up:**  \n",
    "Could you solve it with constant space complexity? (The output array does not count as extra space for the purpose of space complexity analysis.)"
   ]
  },
  {
   "cell_type": "markdown",
   "metadata": {},
   "source": [
    "**Study Notes:**\n",
    "* solution article: [https://leetcode.com/problems/product-of-array-except-self/solution/](https://leetcode.com/problems/product-of-array-except-self/solution/)\n",
    "* core idea:\n",
    "    1. "
   ]
  },
  {
   "cell_type": "code",
   "execution_count": 98,
   "metadata": {},
   "outputs": [],
   "source": [
    "nums1 = [1,2,3,4]\n",
    "nums2 = [3,4,5,6]"
   ]
  },
  {
   "cell_type": "code",
   "execution_count": 101,
   "metadata": {},
   "outputs": [],
   "source": [
    "# two-pass solution with optimal space, iterates over nums twice and fills final product array\n",
    "class Solution:\n",
    "    def productExceptSelf(self, nums: List[int]) -> List[int]:\n",
    "        length = len(nums)\n",
    "        p = [1]*length\n",
    "        prod = 1\n",
    "        # build array of products left of i\n",
    "        for i in range(1,length):\n",
    "            p[i] = p[i-1]*nums[i-1]\n",
    "        # iterate backwards and multiply p[i] with products right of i\n",
    "        for i in range(length-1,-1,-1):\n",
    "            p[i] = p[i]*prod\n",
    "            prod = nums[i]*prod\n",
    "        return p"
   ]
  },
  {
   "cell_type": "code",
   "execution_count": 99,
   "metadata": {},
   "outputs": [],
   "source": [
    "# two-pass solution with optimal space, iterates over nums twice and fills final product array\n",
    "class Solution:\n",
    "    def productExceptSelf(self, nums: List[int]) -> List[int]:\n",
    "        \n",
    "        return None"
   ]
  },
  {
   "cell_type": "code",
   "execution_count": 100,
   "metadata": {},
   "outputs": [],
   "source": [
    "soln = Solution()\n",
    "soln.productExceptSelf(nums1)"
   ]
  },
  {
   "cell_type": "markdown",
   "metadata": {},
   "source": [
    "## 273. Integer to English Words\n",
    "HARD  \n",
    "https://leetcode.com/problems/integer-to-english-words/"
   ]
  },
  {
   "cell_type": "markdown",
   "metadata": {},
   "source": [
    "Convert a non-negative integer to its english words representation. Given input is guaranteed to be less than $2^{31}$ - 1.\n",
    "\n",
    "**Example 1:**\n",
    "```\n",
    "Input: 123\n",
    "Output: \"One Hundred Twenty Three\"\n",
    "```\n",
    "**Example 2:**\n",
    "```\n",
    "Input: 12345\n",
    "Output: \"Twelve Thousand Three Hundred Forty Five\"\n",
    "```\n",
    "**Example 3:**\n",
    "```\n",
    "Input: 1234567\n",
    "Output: \"One Million Two Hundred Thirty Four Thousand Five Hundred Sixty Seven\"\n",
    "```\n",
    "**Example 4:**\n",
    "```\n",
    "Input: 1234567891\n",
    "Output: \"One Billion Two Hundred Thirty Four Million Five Hundred Sixty Seven Thousand Eight Hundred Ninety One\"\n",
    "```"
   ]
  },
  {
   "cell_type": "markdown",
   "metadata": {},
   "source": [
    "**Study Notes:**\n",
    "* recursive solution: [https://leetcode.com/problems/integer-to-english-words/discuss/70632/Recursive-Python](https://leetcode.com/problems/integer-to-english-words/discuss/70632/Recursive-Python)\n",
    "* easier (?) recursive: [https://leetcode.com/problems/integer-to-english-words/discuss/164087/Python-100-and-Easy-To-Understand-Solution](https://leetcode.com/problems/integer-to-english-words/discuss/164087/Python-100-and-Easy-To-Understand-Solution)"
   ]
  },
  {
   "cell_type": "code",
   "execution_count": 104,
   "metadata": {},
   "outputs": [],
   "source": [
    "# recursive solution (with comments!)\n",
    "class Solution(object):\n",
    "    def numberToWords(self, num):\n",
    "        \"\"\"\n",
    "        :type num: int\n",
    "        :rtype: str\n",
    "        \"\"\"\n",
    "\n",
    "        n2w = {1e9: \"Billion\", 1e6: \"Million\", 1e3: \"Thousand\", 1e2: \"Hundred\",\n",
    "               90:  \"Ninety\", 80:  \"Eighty\", 70:  \"Seventy\",\n",
    "               60:  \"Sixty\", 50:  \"Fifty\", 40:  \"Forty\",\n",
    "               30:  \"Thirty\", 20:  \"Twenty\", 19: \"Nineteen\",\n",
    "               18:  \"Eighteen\", 17: \"Seventeen\", 16: \"Sixteen\",\n",
    "               15:  \"Fifteen\", 14: \"Fourteen\", 13: \"Thirteen\",\n",
    "               12:  \"Twelve\", 11:  \"Eleven\", 10:  \"Ten\",\n",
    "               9:   \"Nine\", 8:   \"Eight\", 7:   \"Seven\",\n",
    "               6:   \"Six\", 5:   \"Five\", 4: \"Four\", 3: \"Three\",\n",
    "               2: \"Two\", 1: \"One\", 0: \"Zero\"}\n",
    "\n",
    "        keys = [1000000000, 1000000, 1000, 100, 90, 80, 70,\n",
    "               60, 50, 40, 30, 20, 19, 18, 17, 16, 15, 14, 13, 12,\n",
    "               11, 10, 9, 8, 7, 6, 5, 4, 3, 2, 1, 0]\n",
    "\n",
    "        def dp(n):\n",
    "            if n <= 20: return n2w[n]\n",
    "            for div in keys:\n",
    "                d, r = divmod(n, div)\n",
    "                if not d: # if d is zero (divisor > dividend)\n",
    "                    continue\n",
    "                s1 = dp(d) + \" \" if div >= 100 else \"\"\n",
    "                s2 = \" \" + dp(r) if r else \"\"\n",
    "                return s1 + n2w[div] + s2\n",
    "\n",
    "        return dp(num)"
   ]
  },
  {
   "cell_type": "code",
   "execution_count": 133,
   "metadata": {},
   "outputs": [
    {
     "data": {
      "text/plain": [
       "'One Hundred Twenty Three'"
      ]
     },
     "execution_count": 133,
     "metadata": {},
     "output_type": "execute_result"
    }
   ],
   "source": [
    "soln = Solution()\n",
    "soln.numberToWords(123)"
   ]
  },
  {
   "cell_type": "markdown",
   "metadata": {},
   "source": [
    "## 278. First Bad Version\n",
    "EASY  \n",
    "https://leetcode.com/problems/first-bad-version/"
   ]
  },
  {
   "cell_type": "markdown",
   "metadata": {},
   "source": [
    "You are a product manager and currently leading a team to develop a new product. Unfortunately, the latest version of your product fails the quality check. Since each version is developed based on the previous version, all the versions after a bad version are also bad.\n",
    "\n",
    "Suppose you have `n` versions `[1, 2, ..., n]` and you want to find out the first bad one, which causes all the following ones to be bad.\n",
    "\n",
    "You are given an API `bool isBadVersion(version)` which will return whether `version` is bad. Implement a function to find the first bad version. You should minimize the number of calls to the API.\n",
    "\n",
    "**Example:**\n",
    "```\n",
    "Given n = 5, and version = 4 is the first bad version.\n",
    "\n",
    "call isBadVersion(3) -> false\n",
    "call isBadVersion(5) -> true\n",
    "call isBadVersion(4) -> true\n",
    "\n",
    "Then 4 is the first bad version. \n",
    "```"
   ]
  },
  {
   "cell_type": "markdown",
   "metadata": {},
   "source": [
    "**Study Notes:**\n",
    "* use binary search\n",
    "* solution article: [https://leetcode.com/problems/first-bad-version/solution/](https://leetcode.com/problems/first-bad-version/solution/)"
   ]
  },
  {
   "cell_type": "code",
   "execution_count": 138,
   "metadata": {},
   "outputs": [],
   "source": [
    "# The isBadVersion API is already defined for you.\n",
    "# @param version, an integer\n",
    "# @return an integer\n",
    "# def isBadVersion(version):\n",
    "\n",
    "class Solution:\n",
    "    def firstBadVersion(self, n):\n",
    "        \"\"\"\n",
    "        :type n: int\n",
    "        :rtype: int\n",
    "        \"\"\"\n",
    "        lo = 1\n",
    "        hi = n\n",
    "        while lo < hi:\n",
    "            mid = lo + ((hi-lo)//2)\n",
    "            if isBadVersion(mid):\n",
    "                hi = mid\n",
    "            else:\n",
    "                lo = mid+1 # left middle value used, so exclude lower edge\n",
    "        return lo"
   ]
  },
  {
   "cell_type": "markdown",
   "metadata": {},
   "source": [
    "## 282. Expression Add Operators\n",
    "HARD  \n",
    "https://leetcode.com/problems/expression-add-operators/"
   ]
  },
  {
   "cell_type": "markdown",
   "metadata": {},
   "source": [
    "Given a string that contains only digits `0-9` and a target value, return all possibilities to add **binary** operators (not unary) `+`, `-`, or `*` between the digits so they evaluate to the target value.\n",
    "\n",
    "**Example 1:**\n",
    "```\n",
    "Input: num = \"123\", target = 6\n",
    "Output: [\"1+2+3\", \"1*2*3\"] \n",
    "```\n",
    "**Example 2:**\n",
    "```\n",
    "Input: num = \"232\", target = 8\n",
    "Output: [\"2*3+2\", \"2+3*2\"]\n",
    "```\n",
    "**Example 3:**\n",
    "```\n",
    "Input: num = \"105\", target = 5\n",
    "Output: [\"1*0+5\",\"10-5\"]\n",
    "```\n",
    "**Example 4:**\n",
    "```\n",
    "Input: num = \"00\", target = 0\n",
    "Output: [\"0+0\", \"0-0\", \"0*0\"]\n",
    "```\n",
    "**Example 5:**\n",
    "```\n",
    "Input: num = \"3456237490\", target = 9191\n",
    "Output: []\n",
    "```\n",
    "\n",
    "**Constraints:**\n",
    "\n",
    "* `0 <= num.length <= 10`\n",
    "* `num` only contain digits."
   ]
  },
  {
   "cell_type": "markdown",
   "metadata": {},
   "source": [
    "**Study Notes**\n",
    "* This question seems truly hard\n",
    "* Use backtracking\n",
    "* solution article: https://leetcode.com/problems/expression-add-operators/solution/"
   ]
  },
  {
   "cell_type": "code",
   "execution_count": 139,
   "metadata": {},
   "outputs": [],
   "source": [
    "num1,target1 = \"123\", 6\n",
    "num2,target2 = \"232\", 8\n",
    "num3,target3 = \"105\", 5\n",
    "num4,target4 = \"00\", 0\n",
    "num5,target5 = \"3456237490\", 9191"
   ]
  },
  {
   "cell_type": "code",
   "execution_count": 140,
   "metadata": {},
   "outputs": [],
   "source": [
    "class Solution:\n",
    "    def addOperators(self, num: 'str', target: 'int') -> 'List[str]':\n",
    "\n",
    "        N = len(num)\n",
    "        answers = []\n",
    "        def recurse(index, prev_operand, current_operand, value, string):\n",
    "\n",
    "            # Done processing all the digits in num\n",
    "            if index == N:\n",
    "\n",
    "                # If the final value == target expected AND\n",
    "                # no operand is left unprocessed\n",
    "                if value == target and current_operand == 0:\n",
    "                    answers.append(\"\".join(string[1:]))\n",
    "                return\n",
    "\n",
    "            # Extending the current operand by one digit\n",
    "            current_operand = current_operand*10 + int(num[index])\n",
    "            str_op = str(current_operand)\n",
    "\n",
    "            # To avoid cases where we have 1 + 05 or 1 * 05 since 05 won't be a\n",
    "            # valid operand. Hence this check\n",
    "            if current_operand > 0:\n",
    "\n",
    "                # NO OP recursion\n",
    "                recurse(index + 1, prev_operand, current_operand, value, string)\n",
    "\n",
    "            # ADDITION\n",
    "            string.append('+'); string.append(str_op)\n",
    "            recurse(index + 1, current_operand, 0, value + current_operand, string)\n",
    "            string.pop();string.pop()\n",
    "\n",
    "            # Can subtract or multiply only if there are some previous operands\n",
    "            if string:\n",
    "\n",
    "                # SUBTRACTION\n",
    "                string.append('-'); string.append(str_op)\n",
    "                recurse(index + 1, -current_operand, 0, value - current_operand, string)\n",
    "                string.pop();string.pop()\n",
    "\n",
    "                # MULTIPLICATION\n",
    "                string.append('*'); string.append(str_op)\n",
    "                recurse(index + 1, current_operand * prev_operand, 0, value - prev_operand + (current_operand * prev_operand), string)\n",
    "                string.pop();string.pop()\n",
    "        recurse(0, 0, 0, 0, [])    \n",
    "        return answers"
   ]
  },
  {
   "cell_type": "code",
   "execution_count": 143,
   "metadata": {},
   "outputs": [
    {
     "data": {
      "text/plain": [
       "[]"
      ]
     },
     "execution_count": 143,
     "metadata": {},
     "output_type": "execute_result"
    }
   ],
   "source": [
    "soln = Solution()\n",
    "soln.addOperators(num5,target5)"
   ]
  },
  {
   "cell_type": "markdown",
   "metadata": {},
   "source": [
    "## 297. Serialize and Deserialize Binary Tree\n",
    "HARD  \n",
    "https://leetcode.com/problems/serialize-and-deserialize-binary-tree/"
   ]
  },
  {
   "cell_type": "markdown",
   "metadata": {},
   "source": [
    "Serialization is the process of converting a data structure or object into a sequence of bits so that it can be stored in a file or memory buffer, or transmitted across a network connection link to be reconstructed later in the same or another computer environment.\n",
    "\n",
    "Design an algorithm to serialize and deserialize a binary tree. There is no restriction on how your serialization/deserialization algorithm should work. You just need to ensure that a binary tree can be serialized to a string and this string can be deserialized to the original tree structure.\n",
    "\n",
    "**Example:**\n",
    "```\n",
    "You may serialize the following tree:\n",
    "\n",
    "    1\n",
    "   / \\\n",
    "  2   3\n",
    "     / \\\n",
    "    4   5\n",
    "\n",
    "as \"[1,2,3,null,null,4,5]\"\n",
    "```\n",
    "**Clarification:** The above format is the same as [how LeetCode serializes a binary tree](https://leetcode.com/faq/#binary-tree). You do not necessarily need to follow this format, so please be creative and come up with different approaches yourself.\n",
    "\n",
    "**Note:** Do not use class member/global/static variables to store states. Your serialize and deserialize algorithms should be stateless."
   ]
  },
  {
   "cell_type": "markdown",
   "metadata": {},
   "source": [
    "**Study Notes:**\n",
    "* can be done by BFS or DFS\n",
    "* example BFS solution (similar to leetcode serialization): https://leetcode.com/problems/serialize-and-deserialize-binary-tree/discuss/74379/Simple-and-intuitive-iterative-Python-solution-using-deque()-same-serialization-as-Leetcode-beats-95"
   ]
  },
  {
   "cell_type": "code",
   "execution_count": 144,
   "metadata": {},
   "outputs": [],
   "source": [
    "# Definition for a binary tree node.\n",
    "# class TreeNode(object):\n",
    "#     def __init__(self, x):\n",
    "#         self.val = x\n",
    "#         self.left = None\n",
    "#         self.right = None\n",
    "\n",
    "from collections import deque\n",
    "\n",
    "class Codec:\n",
    "\n",
    "    def serialize(self, root):\n",
    "        string = \"\"\n",
    "        queue = deque([root])\n",
    "        while queue:\n",
    "            cur = queue.popleft()\n",
    "            if not cur:\n",
    "                string += \",None\"\n",
    "                continue\n",
    "            else:\n",
    "                string += \",\" + str(cur.val)\n",
    "                queue.append(cur.left)\n",
    "                queue.append(cur.right)\n",
    "        return string\n",
    "        \n",
    "    def deserialize(self, data):\n",
    "        data = deque(data.split(\",\"))\n",
    "        _, val = data.popleft(), data.popleft()\n",
    "        root = None if val == \"None\" else TreeNode(int(val))\n",
    "        queue = deque([root])\n",
    "        while queue:\n",
    "            cur = queue.popleft()\n",
    "            if cur:\n",
    "                a, b = data.popleft(), data.popleft()\n",
    "                cur.left = TreeNode(int(a)) if a != \"None\" else None\n",
    "                cur.right = TreeNode(int(b)) if b != \"None\" else None\n",
    "                queue.append(cur.left)\n",
    "                queue.append(cur.right)\n",
    "        return root\n",
    "\n",
    "# Your Codec object will be instantiated and called as such:\n",
    "# codec = Codec()\n",
    "# codec.deserialize(codec.serialize(root))"
   ]
  },
  {
   "cell_type": "code",
   "execution_count": null,
   "metadata": {},
   "outputs": [],
   "source": []
  },
  {
   "cell_type": "markdown",
   "metadata": {},
   "source": [
    "## 301. Remove Invalid Parentheses\n",
    "HARD  \n",
    "https://leetcode.com/problems/remove-invalid-parentheses/"
   ]
  },
  {
   "cell_type": "markdown",
   "metadata": {},
   "source": [
    "Remove the minimum number of invalid parentheses in order to make the input string valid. Return all possible results.\n",
    "\n",
    "**Note:** The input string may contain letters other than the parentheses `(` and `)`.\n",
    "\n",
    "**Example 1:**\n",
    "```\n",
    "Input: \"()())()\"\n",
    "Output: [\"()()()\", \"(())()\"]\n",
    "```\n",
    "**Example 2:**\n",
    "```\n",
    "Input: \"(a)())()\"\n",
    "Output: [\"(a)()()\", \"(a())()\"]\n",
    "```\n",
    "**Example 3:**\n",
    "```\n",
    "Input: \")(\"\n",
    "Output: [\"\"]\n",
    "```"
   ]
  },
  {
   "cell_type": "markdown",
   "metadata": {},
   "source": [
    "**Study Notes:**\n",
    "* backtracking, \"brute force\" solution\n",
    "* solution article: https://leetcode.com/problems/remove-invalid-parentheses/solution/"
   ]
  },
  {
   "cell_type": "code",
   "execution_count": 146,
   "metadata": {},
   "outputs": [],
   "source": [
    "s1 = \"()())()\"\n",
    "s2 = \"(a)())()\"\n",
    "s3 = \")(\""
   ]
  },
  {
   "cell_type": "code",
   "execution_count": 147,
   "metadata": {},
   "outputs": [],
   "source": [
    "class Solution:\n",
    "    def removeInvalidParentheses(self, s: str) -> List[str]:\n",
    "        \n",
    "        return None"
   ]
  },
  {
   "cell_type": "code",
   "execution_count": 148,
   "metadata": {},
   "outputs": [],
   "source": [
    "soln = Solution()\n",
    "soln.removeInvalidParentheses(s1)"
   ]
  },
  {
   "cell_type": "markdown",
   "metadata": {},
   "source": [
    "## 349. Intersection of Two Arrays\n",
    "EASY  \n",
    "https://leetcode.com/problems/intersection-of-two-arrays/"
   ]
  },
  {
   "cell_type": "markdown",
   "metadata": {},
   "source": [
    "Given two arrays, write a function to compute their intersection.\n",
    "\n",
    "**Example 1:**\n",
    "```\n",
    "Input: nums1 = [1,2,2,1], nums2 = [2,2]\n",
    "Output: [2]\n",
    "```\n",
    "**Example 2:**\n",
    "```\n",
    "Input: nums1 = [4,9,5], nums2 = [9,4,9,8,4]\n",
    "Output: [9,4]\n",
    "```\n",
    "**Note:**\n",
    "\n",
    "* Each element in the result must be unique.\n",
    "* The result can be in any order."
   ]
  },
  {
   "cell_type": "markdown",
   "metadata": {},
   "source": [
    "**Study Notes:**\n",
    "* solution article: https://leetcode.com/problems/intersection-of-two-arrays/solution/\n",
    "* leetcode question as-is is trivial, but for Facebook there is a followup:\n",
    "\n",
    "```\n",
    "This is a Facebook interview question.\n",
    "They ask for the intersection, which has a trivial solution using a hash or a set.\n",
    "\n",
    "Then they ask you to solve it under these constraints:\n",
    "O(n) time and O(1) space (the resulting array of intersections is not taken into consideration).\n",
    "You are told the lists are sorted.\n",
    "\n",
    "Cases to take into consideration include:\n",
    "duplicates, negative values, single value lists, 0's, and empty list arguments.\n",
    "Other considerations might include\n",
    "sparse arrays.\n",
    "```\n",
    "* see also solution for other problem: https://leetcode.com/problems/intersection-of-two-arrays-ii/discuss/398920/Facebook-follow-up-on-the-sorted-array-python-with-explanation\n",
    "    * general idea: loop through shorter array, binary search other array for presence\n",
    "    * to handle duplicates, when binary searching we get the left-most number, then binary search for previous_index+1 for the next instance of value\n",
    "* alternatively, can loop once to store everything in dictionary with # of occurances as value, then decrement each time a value is looked up in the dict"
   ]
  },
  {
   "cell_type": "code",
   "execution_count": 149,
   "metadata": {},
   "outputs": [],
   "source": [
    "nums11,nums12 = [1,2,2,1], [2,2]\n",
    "nums21,nums22 = [4,9,5], [9,4,9,8,4]"
   ]
  },
  {
   "cell_type": "code",
   "execution_count": 157,
   "metadata": {},
   "outputs": [],
   "source": [
    "# python builtins\n",
    "class Solution:\n",
    "    def intersection(self, nums1: List[int], nums2: List[int]) -> List[int]:\n",
    "        return list(set(nums1) & set(nums2))"
   ]
  },
  {
   "cell_type": "code",
   "execution_count": null,
   "metadata": {},
   "outputs": [],
   "source": [
    "# iterating, without using set operators\n",
    "class Solution:\n",
    "    def intersection(self, nums1: List[int], nums2: List[int]) -> List[int]:\n",
    "        result = set()\n",
    "        for n in nums1:\n",
    "            if n in nums2:\n",
    "                result.add(n)\n",
    "        return list(result)"
   ]
  },
  {
   "cell_type": "code",
   "execution_count": 152,
   "metadata": {},
   "outputs": [],
   "source": [
    "soln = Solution()\n",
    "soln.intersection(nums11,nums12)"
   ]
  },
  {
   "cell_type": "code",
   "execution_count": 156,
   "metadata": {},
   "outputs": [
    {
     "data": {
      "text/plain": [
       "[2]"
      ]
     },
     "execution_count": 156,
     "metadata": {},
     "output_type": "execute_result"
    }
   ],
   "source": [
    "list(set(nums11) & set(nums12))"
   ]
  },
  {
   "cell_type": "markdown",
   "metadata": {},
   "source": [
    "## 398. Random Pick Index\n",
    "MEDIUM  \n",
    "https://leetcode.com/problems/random-pick-index/"
   ]
  },
  {
   "cell_type": "markdown",
   "metadata": {},
   "source": [
    "Given an array of integers with possible duplicates, randomly output the index of a given target number. You can assume that the given target number must exist in the array.\n",
    "\n",
    "**Note:**  \n",
    "The array size can be very large. Solution that uses too much extra space will not pass the judge.\n",
    "\n",
    "**Example:**\n",
    "```\n",
    "int[] nums = new int[] {1,2,3,3,3};\n",
    "Solution solution = new Solution(nums);\n",
    "\n",
    "// pick(3) should return either index 2, 3, or 4 randomly. Each index should have equal probability of returning.\n",
    "solution.pick(3);\n",
    "\n",
    "// pick(1) should return 0. Since in the array only nums[0] is equal to 1.\n",
    "solution.pick(1);\n",
    "```"
   ]
  },
  {
   "cell_type": "markdown",
   "metadata": {},
   "source": [
    "**Study Notes**\n",
    "* uses [reservoir sampling](https://en.wikipedia.org/wiki/Reservoir_sampling#Simple_algorithm)\n",
    "* reservoir sampling: https://leetcode.com/problems/random-pick-index/discuss/88072/simple-reservoir-sampling-solution\n",
    "* python implementation: https://leetcode.com/problems/random-pick-index/discuss/88153/Python-reservoir-sampling-solution."
   ]
  },
  {
   "cell_type": "code",
   "execution_count": 162,
   "metadata": {},
   "outputs": [],
   "source": [
    "nums1 = [1,2,3,3,3]"
   ]
  },
  {
   "cell_type": "code",
   "execution_count": 167,
   "metadata": {},
   "outputs": [],
   "source": [
    "import random\n",
    "class Solution:\n",
    "\n",
    "    def __init__(self, nums: List[int]):\n",
    "        self.nums = nums\n",
    "\n",
    "    def pick(self, target: int) -> int:\n",
    "        idx = None\n",
    "        count = 0\n",
    "        for i,n in enumerate(self.nums):\n",
    "            if n == target:\n",
    "                count += 1\n",
    "                chance = random.randint(1,count)\n",
    "                if chance == count:\n",
    "                    idx = i\n",
    "        return idx\n",
    "\n",
    "\n",
    "# Your Solution object will be instantiated and called as such:\n",
    "# obj = Solution(nums)\n",
    "# param_1 = obj.pick(target)"
   ]
  },
  {
   "cell_type": "code",
   "execution_count": 206,
   "metadata": {},
   "outputs": [
    {
     "data": {
      "text/plain": [
       "2"
      ]
     },
     "execution_count": 206,
     "metadata": {},
     "output_type": "execute_result"
    }
   ],
   "source": [
    "soln = Solution(nums1)\n",
    "soln.pick(3)"
   ]
  },
  {
   "cell_type": "markdown",
   "metadata": {},
   "source": [
    "## 415. Add Strings\n",
    "EASY  \n",
    "https://leetcode.com/problems/add-strings/"
   ]
  },
  {
   "cell_type": "markdown",
   "metadata": {},
   "source": [
    "Given two non-negative integers `num1` and `num2` represented as string, return the sum of `num1` and `num2`.\n",
    "\n",
    "**Note:**\n",
    "\n",
    "* The length of both `num1` and `num2` is < 5100.\n",
    "* Both `num1` and `num2` contains only digits `0-9`.\n",
    "* Both `num1` and `num2` does not contain any leading zero.\n",
    "* You **must not use any built-in BigInteger library or convert the inputs to integer** directly."
   ]
  },
  {
   "cell_type": "markdown",
   "metadata": {},
   "source": [
    "**Study Notes**\n",
    "* solution article: https://leetcode.com/problems/add-strings/solution/"
   ]
  },
  {
   "cell_type": "code",
   "execution_count": 219,
   "metadata": {},
   "outputs": [],
   "source": [
    "# cheesy convert w/o using int()\n",
    "class Solution:\n",
    "    def addStrings(self, num1: str, num2: str) -> str:\n",
    "        inum1 = 0\n",
    "        for i in num1:\n",
    "            inum1 = inum1 * 10\n",
    "            inum1 += (ord(i) - ord('0'))\n",
    "        \n",
    "        inum2 = 0\n",
    "        for i in num2:\n",
    "            inum2 = inum2 * 10\n",
    "            inum2 += (ord(i) - ord('0'))\n",
    "        \n",
    "        return str(inum1+inum2)"
   ]
  },
  {
   "cell_type": "code",
   "execution_count": 234,
   "metadata": {},
   "outputs": [],
   "source": [
    "# direct arithmetic\n",
    "class Solution:\n",
    "    def addStrings(self, num1: str, num2: str) -> str:\n",
    "        carry = 0\n",
    "        p1 = len(num1)-1\n",
    "        p2 = len(num2)-1\n",
    "        res = []\n",
    "        while p1 >= 0 or p2 >= 0:\n",
    "            i1 = ord(num1[p1])-ord('0') if p1 >= 0 else 0\n",
    "            i2 = ord(num2[p2])-ord('0') if p2 >= 0 else 0\n",
    "            su = carry + i1 + i2\n",
    "            if su > 9 :\n",
    "                su = su - 10\n",
    "                carry = 1\n",
    "            else:\n",
    "                carry = 0\n",
    "                \n",
    "            res.append(str(su))\n",
    "            p1 -= 1\n",
    "            p2 -= 1\n",
    "        \n",
    "        return ''.join(s for s in res[::-1])"
   ]
  },
  {
   "cell_type": "code",
   "execution_count": 235,
   "metadata": {},
   "outputs": [
    {
     "data": {
      "text/plain": [
       "'34447872'"
      ]
     },
     "execution_count": 235,
     "metadata": {},
     "output_type": "execute_result"
    }
   ],
   "source": [
    "soln = Solution()\n",
    "soln.addStrings('2353266','32094606')"
   ]
  },
  {
   "cell_type": "markdown",
   "metadata": {},
   "source": [
    "## 523. Continuous Subarray Sum\n",
    "MEDIUM  \n",
    "https://leetcode.com/problems/continuous-subarray-sum/"
   ]
  },
  {
   "cell_type": "markdown",
   "metadata": {},
   "source": [
    "Given a list of **non-negative** numbers and a target **integer** k, write a function to check if the array has a continuous subarray of size at least 2 that sums up to a multiple of **k**, that is, sums up to n*k where n is also an **integer**.\n",
    "\n",
    " \n",
    "\n",
    "**Example 1:**\n",
    "```\n",
    "Input: [23, 2, 4, 6, 7],  k=6\n",
    "Output: True\n",
    "Explanation: Because [2, 4] is a continuous subarray of size 2 and sums up to 6.\n",
    "```\n",
    "**Example 2:**\n",
    "```\n",
    "Input: [23, 2, 6, 4, 7],  k=6\n",
    "Output: True\n",
    "Explanation: Because [23, 2, 6, 4, 7] is an continuous subarray of size 5 and sums up to 42.\n",
    "```\n",
    "\n",
    "**Constraints:**\n",
    "\n",
    "* The length of the array won't exceed 10,000.\n",
    "* You may assume the sum of all the numbers is in the range of a signed 32-bit integer."
   ]
  },
  {
   "cell_type": "markdown",
   "metadata": {},
   "source": [
    "**Study Notes:**\n",
    "* Uses some arithetic properties of sums and modulus math: [https://www.khanacademy.org/computing/computer-science/cryptography/modarithmetic/a/what-is-modular-arithmetic](https://www.khanacademy.org/computing/computer-science/cryptography/modarithmetic/a/what-is-modular-arithmetic)\n",
    "    * leetcode math discussion: [https://leetcode.com/problems/continuous-subarray-sum/discuss/150330/Math-behind-the-solutions](https://leetcode.com/problems/continuous-subarray-sum/discuss/150330/Math-behind-the-solutions)\n",
    "* python solution: [https://leetcode.com/problems/continuous-subarray-sum/discuss/236976/Python-solution](https://leetcode.com/problems/continuous-subarray-sum/discuss/236976/Python-solution)"
   ]
  },
  {
   "cell_type": "code",
   "execution_count": 238,
   "metadata": {},
   "outputs": [],
   "source": [
    "nums1,k1 = [23, 2, 4, 6, 7], 6\n",
    "nums2,k2 = [23, 2, 6, 4, 7], 6"
   ]
  },
  {
   "cell_type": "code",
   "execution_count": 239,
   "metadata": {},
   "outputs": [],
   "source": [
    "# leetcode solution\n",
    "class Solution():\n",
    "    def checkSubarraySum(self, nums, k):\n",
    "        \"\"\"\n",
    "        :type nums: List[int]\n",
    "        :type k: int\n",
    "        :rtype: bool\n",
    "        \"\"\"\n",
    "        dic = {0:-1}\n",
    "        summ = 0\n",
    "        for i, n in enumerate(nums):\n",
    "            if k != 0:\n",
    "                summ = (summ + n) % k\n",
    "            else:\n",
    "                summ += n\n",
    "            if summ not in dic:\n",
    "                dic[summ] = i\n",
    "            else:\n",
    "                if i - dic[summ] >= 2:\n",
    "                    return True\n",
    "        return False"
   ]
  },
  {
   "cell_type": "code",
   "execution_count": null,
   "metadata": {},
   "outputs": [],
   "source": [
    "class Solution:\n",
    "    def checkSubarraySum(self, nums: List[int], k: int) -> bool:\n",
    "        \n",
    "        return None"
   ]
  },
  {
   "cell_type": "markdown",
   "metadata": {},
   "source": [
    "## 543. Diameter of Binary Tree\n",
    "EASY  \n",
    "https://leetcode.com/problems/diameter-of-binary-tree/  "
   ]
  },
  {
   "cell_type": "markdown",
   "metadata": {},
   "source": [
    "Given a binary tree, you need to compute the length of the diameter of the tree. The diameter of a binary tree is the length of the **longest** path between any two nodes in a tree. This path may or may not pass through the root.\n",
    "\n",
    "**Example:**  \n",
    "Given a binary tree\n",
    "```\n",
    "          1\n",
    "         / \\\n",
    "        2   3\n",
    "       / \\     \n",
    "      4   5    \n",
    "```\n",
    "Return **3**, which is the length of the path [4,2,1,3] or [5,2,1,3].\n",
    "\n",
    "**Note:** The length of path between two nodes is represented by the number of edges between them."
   ]
  },
  {
   "cell_type": "code",
   "execution_count": 240,
   "metadata": {},
   "outputs": [],
   "source": [
    "# Definition for a binary tree node.\n",
    "class TreeNode:\n",
    "    def __init__(self, x):\n",
    "        self.val = x\n",
    "        self.left = None\n",
    "        self.right = None\n",
    "        \n",
    "# nodes\n",
    "n0 = TreeNode(1)\n",
    "n1 = TreeNode(2)\n",
    "n2 = TreeNode(3)\n",
    "n3 = TreeNode(4)\n",
    "n4 = TreeNode(5)\n",
    "\n",
    "# tree\n",
    "n0.left = n1\n",
    "n0.right = n2\n",
    "n1.left = n3\n",
    "n1.right = n4\n",
    "\n",
    "root1 = n0\n",
    "root2 = n4"
   ]
  },
  {
   "cell_type": "code",
   "execution_count": 241,
   "metadata": {},
   "outputs": [],
   "source": [
    "# DFS\n",
    "class Solution:\n",
    "    def diameterOfBinaryTree(self, root: TreeNode) -> int:\n",
    "        self.mostnodes = 1 # count the nodes seen in longest path\n",
    "        def depth(node):\n",
    "            if node:\n",
    "                ldepth = depth(node.left)\n",
    "                rdepth = depth(node.right)\n",
    "                # update most nodes that can be visited from current node\n",
    "                self.mostnodes = max(self.mostnodes,ldepth+rdepth+1)\n",
    "                return max(ldepth,rdepth)+1\n",
    "            else:\n",
    "                return 0\n",
    "                \n",
    "        depth(root)\n",
    "        # longest path is the most number of edges seen\n",
    "        longestpath = self.mostnodes-1\n",
    "        return longestpath"
   ]
  },
  {
   "cell_type": "code",
   "execution_count": 243,
   "metadata": {},
   "outputs": [
    {
     "data": {
      "text/plain": [
       "3"
      ]
     },
     "execution_count": 243,
     "metadata": {},
     "output_type": "execute_result"
    }
   ],
   "source": [
    "soln = Solution()\n",
    "soln.diameterOfBinaryTree(root1)"
   ]
  },
  {
   "cell_type": "markdown",
   "metadata": {},
   "source": [
    "### 560. Subarray Sum Equals K\n",
    "MEDIUM  \n",
    "https://leetcode.com/problems/subarray-sum-equals-k/  "
   ]
  },
  {
   "cell_type": "markdown",
   "metadata": {},
   "source": [
    "Given an array of integers and an integer **k**, you need to find the total number of continuous subarrays whose sum equals to **k**.\n",
    "\n",
    "**Example 1:**\n",
    "```\n",
    "Input:nums = [1,1,1], k = 2\n",
    "Output: 2\n",
    "```\n",
    "**Note:**\n",
    "1. The length of the array is in range [1, 20,000].\n",
    "2. The range of numbers in the array is [-1000, 1000] and the range of the integer **k** is [-1e7, 1e7]."
   ]
  },
  {
   "cell_type": "markdown",
   "metadata": {},
   "source": [
    "**Study Notes:**\n",
    "* leetcode solution article: [https://leetcode.com/problems/subarray-sum-equals-k/solution/](https://leetcode.com/problems/subarray-sum-equals-k/solution/)\n",
    "* ideas:\n",
    "    * given the cumulative sums `sum[i]` and `sum[j]`, where `sum[i] == sum of interval [0,i)`, if `sum[i]==sum[j]` then the sum of interval `[i,j) == 0`. Furthermore, `sum[i]-sum[j] == sum of interval [i,j)`.\n",
    "    * calculate + store cumulative sums, checking to see if difference between current (cumulative) sum and any previous (cumulative) sum is k\n",
    "    * optimize by using a hashmap to store cumulative sums"
   ]
  },
  {
   "cell_type": "code",
   "execution_count": 244,
   "metadata": {},
   "outputs": [],
   "source": [
    "nums1,k1 = [1,1,1], 2\n",
    "nums2,k2 = [2], 2 # 1\n",
    "nums3,k3 = [-1,-1,1], 0 # 1\n",
    "nums4,k4 = [0,0,0,0,0,0,0,0,0,0], 0 # 55"
   ]
  },
  {
   "cell_type": "code",
   "execution_count": 245,
   "metadata": {},
   "outputs": [],
   "source": [
    "class Solution:\n",
    "    def subarraySum(self, nums: List[int], k: int) -> int:\n",
    "        count,csum = 0,0\n",
    "        sums = {}\n",
    "        for n in nums:\n",
    "            csum += n\n",
    "            if csum==k:\n",
    "                count += 1\n",
    "            \n",
    "            diff = csum-k\n",
    "            occurance = sums.get(diff)\n",
    "            if occurance:\n",
    "                count += occurance\n",
    "            \n",
    "            if csum in sums:\n",
    "                sums[csum] += 1\n",
    "            else:\n",
    "                sums[csum] = 1\n",
    "        return count"
   ]
  },
  {
   "cell_type": "code",
   "execution_count": null,
   "metadata": {},
   "outputs": [],
   "source": []
  },
  {
   "cell_type": "code",
   "execution_count": null,
   "metadata": {},
   "outputs": [],
   "source": []
  },
  {
   "cell_type": "markdown",
   "metadata": {},
   "source": [
    "## 621. Task Scheduler\n",
    "MEDIUM  \n",
    "https://leetcode.com/problems/task-scheduler/  "
   ]
  },
  {
   "cell_type": "markdown",
   "metadata": {},
   "source": [
    "You are given a char array representing tasks CPU need to do. It contains capital letters A to Z where each letter represents a different task. Tasks could be done without the original order of the array. Each task is done in one unit of time. For each unit of time, the CPU could complete either one task or just be idle.\n",
    "\n",
    "However, there is a non-negative integer `n` that represents the cooldown period between two **same tasks** (the same letter in the array), that is that there must be at least n units of time between any two same tasks.\n",
    "\n",
    "You need to return the **least** number of units of times that the CPU will take to finish all the given tasks.\n",
    "\n",
    " \n",
    "\n",
    "**Example 1:**\n",
    "```\n",
    "Input: tasks = [\"A\",\"A\",\"A\",\"B\",\"B\",\"B\"], n = 2\n",
    "Output: 8\n",
    "Explanation: \n",
    "A -> B -> idle -> A -> B -> idle -> A -> B\n",
    "There is at least 2 units of time between any two same tasks.\n",
    "```\n",
    "**Example 2:**\n",
    "```\n",
    "Input: tasks = [\"A\",\"A\",\"A\",\"B\",\"B\",\"B\"], n = 0\n",
    "Output: 6\n",
    "Explanation: On this case any permutation of size 6 would work since n = 0.\n",
    "[\"A\",\"A\",\"A\",\"B\",\"B\",\"B\"]\n",
    "[\"A\",\"B\",\"A\",\"B\",\"A\",\"B\"]\n",
    "[\"B\",\"B\",\"B\",\"A\",\"A\",\"A\"]\n",
    "...\n",
    "And so on.\n",
    "```\n",
    "**Example 3:**\n",
    "```\n",
    "Input: tasks = [\"A\",\"A\",\"A\",\"A\",\"A\",\"A\",\"B\",\"C\",\"D\",\"E\",\"F\",\"G\"], n = 2\n",
    "Output: 16\n",
    "Explanation: \n",
    "One possible solution is\n",
    "A -> B -> C -> A -> D -> E -> A -> F -> G -> A -> idle -> idle -> A -> idle -> idle -> A\n",
    "```\n",
    "\n",
    "**Constraints:**\n",
    "\n",
    "* The number of tasks is in the range `[1, 10000]`.\n",
    "* The integer `n` is in the range `[0, 100]`."
   ]
  },
  {
   "cell_type": "markdown",
   "metadata": {},
   "source": [
    "**Study Notes:**\n",
    "* solution discussion: [https://leetcode.com/problems/task-scheduler/discuss/130786/Python-solution-with-detailed-explanation](https://leetcode.com/problems/task-scheduler/discuss/130786/Python-solution-with-detailed-explanation)\n",
    "* alternate solution: [https://leetcode.com/problems/task-scheduler/discuss/760266/Python-4-lines-linear-solution-detailed-explanation](https://leetcode.com/problems/task-scheduler/discuss/760266/Python-4-lines-linear-solution-detailed-explanation)"
   ]
  },
  {
   "cell_type": "code",
   "execution_count": 247,
   "metadata": {},
   "outputs": [],
   "source": [
    "tasks1,n1 = [\"A\",\"A\",\"A\",\"B\",\"B\",\"B\"], 2\n",
    "tasks2,n2 = [\"A\",\"A\",\"A\",\"B\",\"B\",\"B\"], 0\n",
    "tasks3,n3 = [\"A\",\"A\",\"A\",\"A\",\"A\",\"A\",\"B\",\"C\",\"D\",\"E\",\"F\",\"G\"], 2"
   ]
  },
  {
   "cell_type": "code",
   "execution_count": 262,
   "metadata": {},
   "outputs": [],
   "source": [
    "class Solution:\n",
    "    def leastInterval(self, tasks: List[str], n: int) -> int:\n",
    "        nq = [] # queue for next iteration of loop\n",
    "        tindex = {}\n",
    "        i = 0\n",
    "        schedule = []\n",
    "        tasks = tasks.copy() # copy into deque to be optimized for speed?\n",
    "        idle = True\n",
    "        while len(tasks)>0:\n",
    "            # copy next queue into current queue\n",
    "            q = nq\n",
    "            q.append(tasks.pop(0)) # add task to queue (for optimized used collections.deque and popleft())\n",
    "            nq = []\n",
    "            # process tasks in q\n",
    "            while q:\n",
    "                task = q.pop(0) # use deque for optimization\n",
    "                i = len(schedule)\n",
    "                # check if task can be added to schedule; add to next queue if cannot\n",
    "                if tindex.get(task)==None or (i-tindex.get(task))>n:\n",
    "                    schedule.append(task)\n",
    "                    tindex[task] = i\n",
    "                    idle = False\n",
    "                else:\n",
    "                    nq.append(task)\n",
    "            \n",
    "            if idle:\n",
    "                schedule.append('idle')\n",
    "                i = len(schedule)\n",
    "        \n",
    "        return schedule"
   ]
  },
  {
   "cell_type": "code",
   "execution_count": 263,
   "metadata": {},
   "outputs": [
    {
     "data": {
      "text/plain": [
       "['A', 'B']"
      ]
     },
     "execution_count": 263,
     "metadata": {},
     "output_type": "execute_result"
    }
   ],
   "source": [
    "soln = Solution()\n",
    "soln.leastInterval(tasks1,n1)"
   ]
  },
  {
   "cell_type": "markdown",
   "metadata": {},
   "source": [
    "## 636. Exclusive Time of Functions\n",
    "MEDIUM  \n",
    "https://leetcode.com/problems/exclusive-time-of-functions/"
   ]
  },
  {
   "cell_type": "markdown",
   "metadata": {},
   "source": [
    "**Study Notes:**\n",
    "* leetcode solution: [https://leetcode.com/problems/exclusive-time-of-functions/discuss/209173/Python-solution](https://leetcode.com/problems/exclusive-time-of-functions/discuss/209173/Python-solution)"
   ]
  },
  {
   "cell_type": "markdown",
   "metadata": {},
   "source": [
    "## 670. Maximum Swap\n",
    "MEDIUM  \n",
    "https://leetcode.com/problems/maximum-swap/"
   ]
  },
  {
   "cell_type": "markdown",
   "metadata": {},
   "source": [
    "**Study Notes:**\n",
    "* leetcode solution: [https://leetcode.com/problems/maximum-swap/solution/](https://leetcode.com/problems/maximum-swap/solution/)"
   ]
  },
  {
   "cell_type": "code",
   "execution_count": 278,
   "metadata": {},
   "outputs": [],
   "source": [
    "class Solution:\n",
    "    def maximumSwap(self, num: int) -> int:\n",
    "        lnum = [int(s) for s in list(str(num))]\n",
    "        lastp = {n:i for i,n in enumerate(lnum)}\n",
    "        for i,n in enumerate(lnum):\n",
    "            for d in range(9,n,-1):\n",
    "                if (d in lastp) and lastp.get(d) > i:\n",
    "                    lnum[i],lnum[lastp[d]] = lnum[lastp[d]], lnum[i]\n",
    "                    return int(''.join([str(n) for n in lnum]))\n",
    "        return num"
   ]
  },
  {
   "cell_type": "markdown",
   "metadata": {},
   "source": [
    "## 680. Valid Palindrome II\n",
    "EASY  \n",
    "https://leetcode.com/problems/valid-palindrome-ii/"
   ]
  },
  {
   "cell_type": "markdown",
   "metadata": {},
   "source": [
    "**Study Notes**:\n",
    "* leetcode solution article: https://leetcode.com/problems/valid-palindrome-ii/solution/\n",
    "* better explanation: https://www.geeksforgeeks.org/remove-character-string-make-palindrome/"
   ]
  },
  {
   "cell_type": "code",
   "execution_count": 280,
   "metadata": {},
   "outputs": [],
   "source": [
    "class Solution:\n",
    "    def validPalindrome(self, s: str) -> bool:\n",
    "        l,r = 0, len(s)-1\n",
    "        while l<r:\n",
    "            if s[l]==s[r]:\n",
    "                l+=1\n",
    "                r-=1\n",
    "            else:\n",
    "                tmpl = s[:l]+s[l+1:]\n",
    "                tmpr = s[:r]+s[r+1:]\n",
    "                return tmpl==tmpl[::-1] or tmpr==tmpr[::-1]\n",
    "        return True"
   ]
  },
  {
   "cell_type": "code",
   "execution_count": null,
   "metadata": {},
   "outputs": [],
   "source": []
  },
  {
   "cell_type": "markdown",
   "metadata": {},
   "source": [
    "## 689. Maximum Sum of 3 Non-Overlapping Subarrays\n",
    "HARD  \n",
    "https://leetcode.com/problems/maximum-sum-of-3-non-overlapping-subarrays/"
   ]
  },
  {
   "cell_type": "markdown",
   "metadata": {},
   "source": [
    "**Study Notes:**\n",
    "* dynamic programming\n",
    "* leetcode discussion solution: [https://leetcode.com/problems/maximum-sum-of-3-non-overlapping-subarrays/discuss/166159/Clear-O(n)-Python](https://leetcode.com/problems/maximum-sum-of-3-non-overlapping-subarrays/discuss/166159/Clear-O(n)-Python)\n",
    "* can use three pointers? https://leetcode.com/problems/maximum-sum-of-3-non-overlapping-subarrays/discuss/108238/Python-o(n)-time-o(1)-space.-Greedy-solution."
   ]
  },
  {
   "cell_type": "markdown",
   "metadata": {},
   "source": [
    "## Accounts Merge"
   ]
  },
  {
   "cell_type": "markdown",
   "metadata": {},
   "source": [
    "**Study Notes:**\n",
    "* build email_account_map as dict\n",
    "* dfs through accounts and emails\n",
    "* leetcode discussion solution: [https://leetcode.com/problems/accounts-merge/discuss/109161/Python-Simple-DFS-with-explanation!!!](https://leetcode.com/problems/accounts-merge/discuss/109161/Python-Simple-DFS-with-explanation!!!)"
   ]
  },
  {
   "cell_type": "code",
   "execution_count": null,
   "metadata": {},
   "outputs": [],
   "source": []
  },
  {
   "cell_type": "code",
   "execution_count": null,
   "metadata": {},
   "outputs": [],
   "source": []
  },
  {
   "cell_type": "code",
   "execution_count": 292,
   "metadata": {},
   "outputs": [],
   "source": [
    "tst = set(['5','six',43])\n",
    "def loopyadd(tst):\n",
    "    def addstuff(tst,i):\n",
    "        if i!=4:\n",
    "            return tst\n",
    "        else:\n",
    "            tst.add('newstuff4')\n",
    "            return tst\n",
    "    \n",
    "    for i in range(7):\n",
    "        tst = addstuff(tst,i)\n",
    "        \n",
    "    return tst"
   ]
  },
  {
   "cell_type": "code",
   "execution_count": 293,
   "metadata": {},
   "outputs": [
    {
     "data": {
      "text/plain": [
       "{43, '5', 'newstuff4', 'six'}"
      ]
     },
     "execution_count": 293,
     "metadata": {},
     "output_type": "execute_result"
    }
   ],
   "source": [
    "loopyadd(tst)"
   ]
  },
  {
   "cell_type": "code",
   "execution_count": 294,
   "metadata": {},
   "outputs": [
    {
     "data": {
      "text/plain": [
       "{43, '5', 'newstuff4', 'six'}"
      ]
     },
     "execution_count": 294,
     "metadata": {},
     "output_type": "execute_result"
    }
   ],
   "source": [
    "tst"
   ]
  },
  {
   "cell_type": "code",
   "execution_count": null,
   "metadata": {},
   "outputs": [],
   "source": []
  },
  {
   "cell_type": "markdown",
   "metadata": {},
   "source": [
    "### Scratch Cells"
   ]
  },
  {
   "cell_type": "code",
   "execution_count": 6,
   "metadata": {},
   "outputs": [
    {
     "data": {
      "text/plain": [
       "2.6"
      ]
     },
     "execution_count": 6,
     "metadata": {},
     "output_type": "execute_result"
    }
   ],
   "source": [
    "sum(len(word) for word in words)/len(words)"
   ]
  },
  {
   "cell_type": "code",
   "execution_count": 15,
   "metadata": {},
   "outputs": [
    {
     "data": {
      "text/plain": [
       "2.6"
      ]
     },
     "execution_count": 15,
     "metadata": {},
     "output_type": "execute_result"
    }
   ],
   "source": [
    "tmp = [len(word) for word in words]\n",
    "sum(tmp)/len(tmp)"
   ]
  },
  {
   "cell_type": "code",
   "execution_count": 19,
   "metadata": {},
   "outputs": [],
   "source": [
    "lst=[['D'],['A','B'],['A','C'],['C','A']]"
   ]
  },
  {
   "cell_type": "code",
   "execution_count": 34,
   "metadata": {},
   "outputs": [],
   "source": [
    "def follower(lst):\n",
    "    counts = {}\n",
    "    for l in lst:\n",
    "        for c in l:\n",
    "            if c in counts:\n",
    "                counts[c] += 1\n",
    "            else:\n",
    "                counts[c] = 0\n",
    "    return counts"
   ]
  },
  {
   "cell_type": "code",
   "execution_count": 35,
   "metadata": {},
   "outputs": [
    {
     "data": {
      "text/plain": [
       "{'D': 0, 'A': 2, 'B': 0, 'C': 1}"
      ]
     },
     "execution_count": 35,
     "metadata": {},
     "output_type": "execute_result"
    }
   ],
   "source": [
    "follower(lst)"
   ]
  },
  {
   "cell_type": "code",
   "execution_count": 54,
   "metadata": {},
   "outputs": [
    {
     "name": "stdout",
     "output_type": "stream",
     "text": [
      "False\n"
     ]
    }
   ],
   "source": [
    "def validate(ip):\n",
    "#     valid_digit=set('0123456789')\n",
    "    # check for correct number of dots\n",
    "    try:\n",
    "        nums = ip.split('.')\n",
    "    except:\n",
    "        return False\n",
    "    if len(nums) != 4:\n",
    "        return False\n",
    "    \n",
    "    for n in nums:\n",
    "        if not n.isdigit():\n",
    "            return False\n",
    "        i=int(n)\n",
    "        if i < 0 or i> 255:\n",
    "            return False\n",
    "    return True\n",
    "print(validate('1.255.0c.4.1'))"
   ]
  },
  {
   "cell_type": "code",
   "execution_count": 41,
   "metadata": {},
   "outputs": [
    {
     "data": {
      "text/plain": [
       "True"
      ]
     },
     "execution_count": 41,
     "metadata": {},
     "output_type": "execute_result"
    }
   ],
   "source": [
    "'0462'.isdigit()"
   ]
  },
  {
   "cell_type": "code",
   "execution_count": 57,
   "metadata": {},
   "outputs": [
    {
     "data": {
      "text/plain": [
       "4"
      ]
     },
     "execution_count": 57,
     "metadata": {},
     "output_type": "execute_result"
    }
   ],
   "source": [
    "str1 = 'how much wood would a woodchuck chuck if a woodchuck could chuck wood'\n",
    "str1.count('wood')"
   ]
  },
  {
   "cell_type": "code",
   "execution_count": 68,
   "metadata": {},
   "outputs": [],
   "source": [
    "def count_substr(s,word):\n",
    "    count = 0\n",
    "    for i in range(len(s)-len(word)+1):\n",
    "        if s[i:i+len(word)]==word:\n",
    "            count += 1\n",
    "    return count"
   ]
  },
  {
   "cell_type": "code",
   "execution_count": 69,
   "metadata": {},
   "outputs": [
    {
     "data": {
      "text/plain": [
       "4"
      ]
     },
     "execution_count": 69,
     "metadata": {},
     "output_type": "execute_result"
    }
   ],
   "source": [
    "count_substr(str1,'wood')"
   ]
  },
  {
   "cell_type": "code",
   "execution_count": 45,
   "metadata": {},
   "outputs": [
    {
     "data": {
      "text/plain": [
       "1"
      ]
     },
     "execution_count": 45,
     "metadata": {},
     "output_type": "execute_result"
    }
   ],
   "source": []
  },
  {
   "cell_type": "code",
   "execution_count": 59,
   "metadata": {},
   "outputs": [
    {
     "data": {
      "text/plain": [
       "65"
      ]
     },
     "execution_count": 59,
     "metadata": {},
     "output_type": "execute_result"
    }
   ],
   "source": [
    "len(str1)-len('wood')"
   ]
  },
  {
   "cell_type": "code",
   "execution_count": 62,
   "metadata": {},
   "outputs": [
    {
     "data": {
      "text/plain": [
       "'wood'"
      ]
     },
     "execution_count": 62,
     "metadata": {},
     "output_type": "execute_result"
    }
   ],
   "source": [
    "str1[65:65+len('wood')]"
   ]
  },
  {
   "cell_type": "code",
   "execution_count": 73,
   "metadata": {},
   "outputs": [
    {
     "data": {
      "text/plain": [
       "['woh',\n",
       " 'hcum',\n",
       " 'doow',\n",
       " 'dluow',\n",
       " 'a',\n",
       " 'kcuhcdoow',\n",
       " 'kcuhc',\n",
       " 'fi',\n",
       " 'a',\n",
       " 'kcuhcdoow',\n",
       " 'dluoc',\n",
       " 'kcuhc',\n",
       " 'doow']"
      ]
     },
     "execution_count": 73,
     "metadata": {},
     "output_type": "execute_result"
    }
   ],
   "source": [
    "[w[::-1] for w in str1.split()]"
   ]
  },
  {
   "cell_type": "code",
   "execution_count": 2,
   "metadata": {},
   "outputs": [
    {
     "data": {
      "text/plain": [
       "True"
      ]
     },
     "execution_count": 2,
     "metadata": {},
     "output_type": "execute_result"
    }
   ],
   "source": [
    "not {}"
   ]
  },
  {
   "cell_type": "code",
   "execution_count": 40,
   "metadata": {},
   "outputs": [],
   "source": [
    "def return_key(input_dict,n):\n",
    "    if not input_dict:\n",
    "        return None\n",
    "    if n == 0:\n",
    "        return None\n",
    "    dct2 = {}\n",
    "    for k,v in input_dict.items():\n",
    "        if v in dct2:\n",
    "            dct2[v].append(k)\n",
    "        else:\n",
    "            dct2[v] = [k]\n",
    "    \n",
    "    lst = dct2.items()\n",
    "    lst = sorted(lst, key=lambda x: x[0], reverse=True)\n",
    "    \n",
    "    if n>len(lst) or n<1:\n",
    "        return None\n",
    "    \n",
    "    cand = lst[n-1][1]\n",
    "    cand = sorted(cand)\n",
    "    return cand[0]"
   ]
  },
  {
   "cell_type": "code",
   "execution_count": 41,
   "metadata": {},
   "outputs": [
    {
     "data": {
      "text/plain": [
       "'laptop'"
      ]
     },
     "execution_count": 41,
     "metadata": {},
     "output_type": "execute_result"
    }
   ],
   "source": [
    "return_key({\"laptop\": 999,\"smartphone\": 999,\"smart tv\": 500,\"smart watch\": 300,\"smart home\": 9999999},2)"
   ]
  },
  {
   "cell_type": "code",
   "execution_count": 42,
   "metadata": {},
   "outputs": [
    {
     "name": "stdout",
     "output_type": "stream",
     "text": [
      "passed\n"
     ]
    }
   ],
   "source": [
    "assert return_key({},1) == None\n",
    "assert return_key({\"a\": 10,\"b\": 20},0) == None\n",
    "assert return_key({\"a\": 1,\"b\": 2,\"c\": 3,\"d\": 4,\"e\": 5},6) == None\n",
    "assert return_key({\"a\": 10,\"b\": 20,\"c\": 3,\"d\": 2,\"e\": 9},1) == 'b'\n",
    "assert return_key({\"laptop\": 999,\"smartphone\": 999,\"smart tv\": 500,\"smart watch\": 300,\"smart home\": 9999999},2) == 'laptop'\n",
    "print('passed')"
   ]
  },
  {
   "cell_type": "code",
   "execution_count": null,
   "metadata": {},
   "outputs": [],
   "source": []
  },
  {
   "cell_type": "code",
   "execution_count": 298,
   "metadata": {},
   "outputs": [
    {
     "data": {
      "text/plain": [
       "['2', '9']"
      ]
     },
     "execution_count": 298,
     "metadata": {},
     "output_type": "execute_result"
    }
   ],
   "source": [
    "list('29')"
   ]
  }
 ],
 "metadata": {
  "kernelspec": {
   "display_name": "base (Python 3.7.7)",
   "language": "python",
   "name": "base"
  },
  "language_info": {
   "codemirror_mode": {
    "name": "ipython",
    "version": 3
   },
   "file_extension": ".py",
   "mimetype": "text/x-python",
   "name": "python",
   "nbconvert_exporter": "python",
   "pygments_lexer": "ipython3",
   "version": "3.7.7"
  }
 },
 "nbformat": 4,
 "nbformat_minor": 4
}
